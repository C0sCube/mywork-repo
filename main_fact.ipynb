{
 "cells": [
  {
   "cell_type": "code",
   "execution_count": 52,
   "metadata": {},
   "outputs": [
    {
     "name": "stdout",
     "output_type": "stream",
     "text": [
      "The autoreload extension is already loaded. To reload it, use:\n",
      "  %reload_ext autoreload\n",
      "Config already loaded. Skipping re-initialization.\n",
      "C:\\Users\\Kaustubh.keny\\Projects\\PDF\\Apr 25\n"
     ]
    }
   ],
   "source": [
    "%load_ext autoreload\n",
    "%autoreload 2\n",
    "from app.config_loader import load_config_once\n",
    "\n",
    "conf = load_config_once(output_folder=\"JPY\")\n",
    "\n",
    "import warnings\n",
    "from pandas.errors import SettingWithCopyWarning\n",
    "\n",
    "warnings.simplefilter(action=\"ignore\", category=SettingWithCopyWarning)\n",
    "warnings.filterwarnings(\"ignore\", category=UserWarning)\n",
    "warnings.filterwarnings(\"ignore\", category=FutureWarning)\n",
    "\n",
    "\n",
    "import json, os, logging, datetime,json5,sys, pprint\n",
    "from app.fund_data import *\n",
    "from app.utils import Helper\n",
    "\n",
    "mutual_fund = Helper.get_amc_paths(conf[\"amc_path\"])\n",
    "    \n",
    "# https://www.sebi.gov.in/sebiweb/other/OtherAction.do?doMutualFund=yes&mftype=2"
   ]
  },
  {
   "cell_type": "code",
   "execution_count": null,
   "metadata": {},
   "outputs": [],
   "source": [
    "\"\"\"360 ONE FILE CODE\"\"\"\n",
    "amc_id = '18_0'\n",
    "# logging.info(f\"User Ran Fund Data of {amc_name}\")\n",
    "fund_name, path= mutual_fund[amc_id]\n",
    "object = ThreeSixtyOne(fund_name,amc_id,path)\n",
    "title,path_pdf = object.check_and_highlight(path)\n",
    "data = object.get_data(path_pdf,title)\n",
    "extracted_text = object.get_generated_content(data, is_table=object.MAIN_MAP[\"table\"])\n",
    "final_text = object.refine_extracted_data(extracted_text)\n",
    "dfs = object.merge_and_select_data(final_text,map_keys = True, special_handling = True)"
   ]
  },
  {
   "cell_type": "code",
   "execution_count": null,
   "metadata": {},
   "outputs": [],
   "source": [
    "\"\"\"ANGEL ONE FILE CODE\"\"\"\n",
    "amc_id = '96_0'\n",
    "# logging.info(f\"User Ran Fund Data of {amc_name}\")\n",
    "fund_name, path= mutual_fund[amc_id]\n",
    "object = AngelOne(fund_name,amc_id,path)\n",
    "title,path_pdf = object.check_and_highlight(path)\n",
    "data = object.get_data(path_pdf,title)\n",
    "extracted_text = object.get_generated_content(data)\n",
    "final_text = object.refine_extracted_data(extracted_text)\n",
    "dfs = object.merge_and_select_data(final_text,map_keys = True, special_handling = True)"
   ]
  },
  {
   "cell_type": "code",
   "execution_count": null,
   "metadata": {},
   "outputs": [],
   "source": [
    "\"\"\"SHRIRAM MAIN FILE CODE\"\"\"\n",
    "amc_id = '36_0'\n",
    "# logging.info(f\"User Ran Fund Data of {amc_name}\")\n",
    "fund_name, path= mutual_fund[amc_id]\n",
    "object = Shriram(fund_name,amc_id,path)\n",
    "title,path_pdf = object.check_and_highlight(path)\n",
    "data = object.get_data(path_pdf,title)\n",
    "extracted_text = object.get_generated_content(data)\n",
    "final_text = object.refine_extracted_data(extracted_text)\n",
    "dfs = object.merge_and_select_data(final_text,map_keys = True, special_handling = True)"
   ]
  },
  {
   "cell_type": "code",
   "execution_count": 46,
   "metadata": {},
   "outputs": [
    {
     "name": "stdout",
     "output_type": "stream",
     "text": [
      "Function Running: check_and_highlight\n",
      "Function Running: _get_ocr_title\n"
     ]
    },
    {
     "data": {
      "application/vnd.jupyter.widget-view+json": {
       "model_id": "a4f6c842005d4d6d834be9fcab38e746",
       "version_major": 2,
       "version_minor": 0
      },
      "text/plain": [
       "Output()"
      ]
     },
     "metadata": {},
     "output_type": "display_data"
    },
    {
     "data": {
      "text/html": [
       "<pre style=\"white-space:pre;overflow-x:auto;line-height:normal;font-family:Menlo,'DejaVu Sans Mono',consolas,'Courier New',monospace\"></pre>\n"
      ],
      "text/plain": []
     },
     "metadata": {},
     "output_type": "display_data"
    },
    {
     "data": {
      "application/vnd.jupyter.widget-view+json": {
       "model_id": "9e4e65742ede4afda27fb74f3f15a08e",
       "version_major": 2,
       "version_minor": 0
      },
      "text/plain": [
       "Output()"
      ]
     },
     "metadata": {},
     "output_type": "display_data"
    },
    {
     "data": {
      "text/html": [
       "<pre style=\"white-space:pre;overflow-x:auto;line-height:normal;font-family:Menlo,'DejaVu Sans Mono',consolas,'Courier New',monospace\">Weighted average image DPI is 96.5, max DPI is 223.3. The discrepancy may indicate a high detail region on this \n",
       "page, but could also indicate a problem with the input PDF file. Page image will be rendered at 400.0 DPI.\n",
       "</pre>\n"
      ],
      "text/plain": [
       "Weighted average image DPI is 96.5, max DPI is 223.3. The discrepancy may indicate a high detail region on this \n",
       "page, but could also indicate a problem with the input PDF file. Page image will be rendered at 400.0 DPI.\n"
      ]
     },
     "metadata": {},
     "output_type": "display_data"
    },
    {
     "data": {
      "text/html": [
       "<pre style=\"white-space:pre;overflow-x:auto;line-height:normal;font-family:Menlo,'DejaVu Sans Mono',consolas,'Courier New',monospace\">Weighted average image DPI is 95.7, max DPI is 248.8. The discrepancy may indicate a high detail region on this \n",
       "page, but could also indicate a problem with the input PDF file. Page image will be rendered at 400.0 DPI.\n",
       "</pre>\n"
      ],
      "text/plain": [
       "Weighted average image DPI is 95.7, max DPI is 248.8. The discrepancy may indicate a high detail region on this \n",
       "page, but could also indicate a problem with the input PDF file. Page image will be rendered at 400.0 DPI.\n"
      ]
     },
     "metadata": {},
     "output_type": "display_data"
    },
    {
     "data": {
      "text/html": [
       "<pre style=\"white-space:pre;overflow-x:auto;line-height:normal;font-family:Menlo,'DejaVu Sans Mono',consolas,'Courier New',monospace\">Weighted average image DPI is 94.7, max DPI is 264.2. The discrepancy may indicate a high detail region on this \n",
       "page, but could also indicate a problem with the input PDF file. Page image will be rendered at 400.0 DPI.\n",
       "</pre>\n"
      ],
      "text/plain": [
       "Weighted average image DPI is 94.7, max DPI is 264.2. The discrepancy may indicate a high detail region on this \n",
       "page, but could also indicate a problem with the input PDF file. Page image will be rendered at 400.0 DPI.\n"
      ]
     },
     "metadata": {},
     "output_type": "display_data"
    },
    {
     "data": {
      "text/html": [
       "<pre style=\"white-space:pre;overflow-x:auto;line-height:normal;font-family:Menlo,'DejaVu Sans Mono',consolas,'Courier New',monospace\">Weighted average image DPI is 102.2, max DPI is 252.8. The discrepancy may indicate a high detail region on this \n",
       "page, but could also indicate a problem with the input PDF file. Page image will be rendered at 400.0 DPI.\n",
       "</pre>\n"
      ],
      "text/plain": [
       "Weighted average image DPI is 102.2, max DPI is 252.8. The discrepancy may indicate a high detail region on this \n",
       "page, but could also indicate a problem with the input PDF file. Page image will be rendered at 400.0 DPI.\n"
      ]
     },
     "metadata": {},
     "output_type": "display_data"
    },
    {
     "data": {
      "text/html": [
       "<pre style=\"white-space:pre;overflow-x:auto;line-height:normal;font-family:Menlo,'DejaVu Sans Mono',consolas,'Courier New',monospace\">Weighted average image DPI is 102.2, max DPI is 252.8. The discrepancy may indicate a high detail region on this \n",
       "page, but could also indicate a problem with the input PDF file. Page image will be rendered at 400.0 DPI.\n",
       "</pre>\n"
      ],
      "text/plain": [
       "Weighted average image DPI is 102.2, max DPI is 252.8. The discrepancy may indicate a high detail region on this \n",
       "page, but could also indicate a problem with the input PDF file. Page image will be rendered at 400.0 DPI.\n"
      ]
     },
     "metadata": {},
     "output_type": "display_data"
    },
    {
     "data": {
      "text/html": [
       "<pre style=\"white-space:pre;overflow-x:auto;line-height:normal;font-family:Menlo,'DejaVu Sans Mono',consolas,'Courier New',monospace\">Weighted average image DPI is 94.1, max DPI is 225.6. The discrepancy may indicate a high detail region on this \n",
       "page, but could also indicate a problem with the input PDF file. Page image will be rendered at 400.0 DPI.\n",
       "</pre>\n"
      ],
      "text/plain": [
       "Weighted average image DPI is 94.1, max DPI is 225.6. The discrepancy may indicate a high detail region on this \n",
       "page, but could also indicate a problem with the input PDF file. Page image will be rendered at 400.0 DPI.\n"
      ]
     },
     "metadata": {},
     "output_type": "display_data"
    },
    {
     "data": {
      "text/html": [
       "<pre style=\"white-space:pre;overflow-x:auto;line-height:normal;font-family:Menlo,'DejaVu Sans Mono',consolas,'Courier New',monospace\">Weighted average image DPI is 97.9, max DPI is 222.7. The discrepancy may indicate a high detail region on this \n",
       "page, but could also indicate a problem with the input PDF file. Page image will be rendered at 400.0 DPI.\n",
       "</pre>\n"
      ],
      "text/plain": [
       "Weighted average image DPI is 97.9, max DPI is 222.7. The discrepancy may indicate a high detail region on this \n",
       "page, but could also indicate a problem with the input PDF file. Page image will be rendered at 400.0 DPI.\n"
      ]
     },
     "metadata": {},
     "output_type": "display_data"
    },
    {
     "data": {
      "text/html": [
       "<pre style=\"white-space:pre;overflow-x:auto;line-height:normal;font-family:Menlo,'DejaVu Sans Mono',consolas,'Courier New',monospace\"></pre>\n"
      ],
      "text/plain": []
     },
     "metadata": {},
     "output_type": "display_data"
    },
    {
     "data": {
      "application/vnd.jupyter.widget-view+json": {
       "model_id": "c2748a5478104df8bad7f11db71b444e",
       "version_major": 2,
       "version_minor": 0
      },
      "text/plain": [
       "Output()"
      ]
     },
     "metadata": {},
     "output_type": "display_data"
    },
    {
     "data": {
      "text/html": [
       "<pre style=\"white-space:pre;overflow-x:auto;line-height:normal;font-family:Menlo,'DejaVu Sans Mono',consolas,'Courier New',monospace\"></pre>\n"
      ],
      "text/plain": []
     },
     "metadata": {},
     "output_type": "display_data"
    },
    {
     "data": {
      "application/vnd.jupyter.widget-view+json": {
       "model_id": "d485482783804a549e21386da9a5bd0b",
       "version_major": 2,
       "version_minor": 0
      },
      "text/plain": [
       "Output()"
      ]
     },
     "metadata": {},
     "output_type": "display_data"
    },
    {
     "data": {
      "text/html": [
       "<pre style=\"white-space:pre;overflow-x:auto;line-height:normal;font-family:Menlo,'DejaVu Sans Mono',consolas,'Courier New',monospace\"></pre>\n"
      ],
      "text/plain": []
     },
     "metadata": {},
     "output_type": "display_data"
    },
    {
     "data": {
      "application/vnd.jupyter.widget-view+json": {
       "model_id": "e25965ca5b6a4f8592b181238f8391a6",
       "version_major": 2,
       "version_minor": 0
      },
      "text/plain": [
       "Output()"
      ]
     },
     "metadata": {},
     "output_type": "display_data"
    },
    {
     "data": {
      "text/html": [
       "<pre style=\"white-space:pre;overflow-x:auto;line-height:normal;font-family:Menlo,'DejaVu Sans Mono',consolas,'Courier New',monospace\"></pre>\n"
      ],
      "text/plain": []
     },
     "metadata": {},
     "output_type": "display_data"
    },
    {
     "data": {
      "application/vnd.jupyter.widget-view+json": {
       "model_id": "0b0eb5b028b24bf4ae0da3c701b61400",
       "version_major": 2,
       "version_minor": 0
      },
      "text/plain": [
       "Output()"
      ]
     },
     "metadata": {},
     "output_type": "display_data"
    },
    {
     "data": {
      "text/html": [
       "<pre style=\"white-space:pre;overflow-x:auto;line-height:normal;font-family:Menlo,'DejaVu Sans Mono',consolas,'Courier New',monospace\"></pre>\n"
      ],
      "text/plain": []
     },
     "metadata": {},
     "output_type": "display_data"
    },
    {
     "data": {
      "application/vnd.jupyter.widget-view+json": {
       "model_id": "32712d8269c94f89b1292dafd873493c",
       "version_major": 2,
       "version_minor": 0
      },
      "text/plain": [
       "Output()"
      ]
     },
     "metadata": {},
     "output_type": "display_data"
    },
    {
     "data": {
      "text/html": [
       "<pre style=\"white-space:pre;overflow-x:auto;line-height:normal;font-family:Menlo,'DejaVu Sans Mono',consolas,'Courier New',monospace\"></pre>\n"
      ],
      "text/plain": []
     },
     "metadata": {},
     "output_type": "display_data"
    },
    {
     "name": "stderr",
     "output_type": "stream",
     "text": [
      "[WinError 2] The system cannot find the file specified\n",
      "[WinError 2] The system cannot find the file specified\n"
     ]
    },
    {
     "name": "stdout",
     "output_type": "stream",
     "text": [
      "Function Running: _get_normal_title\n",
      "Regex: (Parag Parikh.*?(?:Fu\\s*n\\s*ds?|ETF|Fo?O?F|Plans?|rune))\n",
      "01 -- Parag Parikh Flexi Cap Fund\n",
      "02 -- Parag Parikh Flexi Cap Fund\n",
      "03 -- Parag Parikh Flexi Cap Fund\n",
      "04 -- Parag Parikh ELSS Fisriccsnesacne suitable for long-term Oa Tax S a V er Fun d\n",
      "05 -- Parag Parikh ELSS Tax Saver Fund\n",
      "06 -- Parag Parikh Dynamic Asset Allocation Fund\n",
      "07 -- Parag Parikh Dynamic Asset Allocation Fund\n",
      "08 -- Parag Parikh Dynamic Asset Allocation Fund\n",
      "09 -- Parag Parikh Conservative Hybrid rune\n",
      "10 -- Parag Parikh Conservative Hybrid Fund\n",
      "11 -- Parag Parikh Conservative Hybrid Fund\n",
      "12 -- Parag Parikh Arbitrage Fund\n",
      "13 -- Parag Parikh Arbitrage Fund\n",
      "14 -- Parag Parikh Liquid Fund\n",
      "15 -- Parag Parikh Liquid Fund\n",
      "Function Running: get_data\n",
      "Function Running: extract_clipped_data\n",
      "Function Running: extract_span_data\n",
      "Function Running: process_text_data\n",
      "Function Running: create_nested_dict\n",
      "Function Running: get_generated_content\n",
      "\tParsing Completed, Refining Data.....\n",
      "[Error] get_generated_content failed: list index out of range\n",
      "Function Running: refine_extracted_data\n",
      "Function Running: merge_and_select_data\n"
     ]
    }
   ],
   "source": [
    "\"\"\"PPFAS MAIN FILE CODE\"\"\"\n",
    "\n",
    "amc_id = '30_0'\n",
    "# logging.info(f\"User Ran Fund Data of {amc_name}\")\n",
    "fund_name, path= mutual_fund[amc_id]\n",
    "object = PPFAS(fund_name,amc_id,path)\n",
    "title,path_pdf = object.check_and_highlight(path)\n",
    "data = object.get_data(path_pdf,title)\n",
    "extracted_text = object.get_generated_content(data)\n",
    "final_text = object.refine_extracted_data(extracted_text)\n",
    "dfs = object.merge_and_select_data(final_text,map_keys = True, special_handling = True)"
   ]
  },
  {
   "cell_type": "code",
   "execution_count": null,
   "metadata": {},
   "outputs": [],
   "source": [
    "'''AXIS ONE PASSIVE MAIN FILE CODE'''\n",
    "amc_id = '1_1'\n",
    "# logging.info(f\"User Ran Fund Data of {amc_name}\")\n",
    "fund_name, path= mutual_fund[amc_id]\n",
    "object = AXISMFPassive(fund_name,amc_id,path)\n",
    "title,path_pdf = object.check_and_highlight(path)\n",
    "data = object.get_data(path_pdf,title)\n",
    "extracted_text = object.get_generated_content(data)\n",
    "# final_text = object.refine_extracted_data(extracted_text)\n",
    "# dfs = object.merge_and_select_data(final_text,map_keys = True, special_handling = True)\n",
    "# with open(save_path, 'w') as f:\n",
    "#   json.dump(dfs, f, indent=2)\n",
    "# print(f\"File Saved At: {save_path}\")"
   ]
  },
  {
   "cell_type": "code",
   "execution_count": null,
   "metadata": {},
   "outputs": [],
   "source": [
    "'''AXIS ONE ACTIVE MAIN FILE CODE''' #No issues as of now\n",
    "amc_name = \"Axis Mutual Fund\"\n",
    "logger.info(f\"User Ran Fund Data of {amc_name}\")\n",
    "path = mutual_fund[amc_name]\n",
    "object = AXISMF(amc_name,path)\n",
    "\n",
    "title,path_pdf = object.check_and_highlight(path)\n",
    "data = object.get_data(path_pdf,title)\n",
    "extracted_text = object.get_generated_content(data)\n"
   ]
  },
  {
   "cell_type": "code",
   "execution_count": null,
   "metadata": {},
   "outputs": [],
   "source": [
    "object = AXISMF(amc_name,path)\n",
    "data = object.get_data(path_pdf,title)\n",
    "extracted_text = object.get_generated_content(data)\n",
    "Helper.quick_json_dump(extracted_text,object.JSONPATH)"
   ]
  },
  {
   "cell_type": "code",
   "execution_count": null,
   "metadata": {},
   "outputs": [],
   "source": [
    "object = AXISMF(amc_name,path)\n",
    "final_text = object.refine_extracted_data(extracted_text, flatten=True)\n",
    "dfs = object.merge_and_select_data(final_text, map_keys = True, special_handling=True)\n",
    "Helper.quick_json_dump(dfs,object.JSONPATH)"
   ]
  },
  {
   "cell_type": "code",
   "execution_count": 16,
   "metadata": {},
   "outputs": [
    {
     "name": "stdout",
     "output_type": "stream",
     "text": [
      "Function Running: check_and_highlight\n",
      "Function Running: _get_normal_title\n",
      "Regex: (Aditya Birla.*(?:Plan\\*?\\#?\\'?|Sensex|Fund|Path|ETF|FOF\\*?|Scheme|EOF|Funds\\*?|Yojna)?)$\n",
      "08 -- Aditya Birla Sun Life AMC Limited in Active Equity Schemes (Excluding Arbitrage & Passiv\n",
      "15 -- Aditya Birla Sun Life Frontline Equity Fund\n",
      "16 -- Aditya Birla Sun Life Frontline Equity Fund\n",
      "17 -- Aditya Birla Sun Life Focused Fund\n",
      "18 -- Aditya Birla Sun Life Focused Fund\n",
      "19 -- Aditya Birla Sun Life Flexi Cap Fund\n",
      "20 -- Aditya Birla Sun Life Flexi Cap Fund\n",
      "21 -- Aditya Birla Sun Life Equity Advantage Fund\n",
      "22 -- Aditya Birla Sun Life Equity Advantage Fund\n",
      "23 -- Aditya Birla Sun Life MNC Fund\n",
      "24 -- Aditya Birla Sun Life MNC Fund\n",
      "25 -- Aditya Birla Sun Life Midcap Fund\n",
      "26 -- Aditya Birla Sun Life Midcap Fund\n",
      "27 -- Aditya Birla Sun Life Multi-Cap Fund\n",
      "28 -- Aditya Birla Sun Life Multi-Cap Fund\n",
      "29 -- Aditya Birla Sun Life Small Cap Fund\n",
      "30 -- Aditya Birla Sun Life Small Cap Fund\n",
      "31 -- Aditya Birla Sun Life Pure Value Fund\n",
      "32 -- Aditya Birla Sun Life Pure Value Fund\n",
      "33 -- Aditya Birla Sun Life Manufacturing Equity Fund\n",
      "34 -- Aditya Birla Sun Life Manufacturing Equity Fund\n",
      "35 -- Aditya Birla Sun Life Banking and Financial Services Fund\n",
      "36 -- Aditya Birla Sun Life Banking and Financial Services Fund\n",
      "37 -- Aditya Birla Sun Life Dividend Yield Fund\n",
      "38 -- Aditya Birla Sun Life Dividend Yield Fund\n",
      "39 -- Aditya Birla Sun Life Infrastructure Fund\n",
      "40 -- Aditya Birla Sun Life Infrastructure Fund\n",
      "41 -- Aditya Birla Sun Life Digital India Fund\n",
      "42 -- Aditya Birla Sun Life Digital India Fund\n",
      "43 -- Aditya Birla Sun Life India GenNext Fund\n",
      "44 -- Aditya Birla Sun Life India GenNext Fund\n",
      "45 -- Aditya Birla Sun Life International Equity Fund\n",
      "46 -- Aditya Birla Sun Life International Equity Fund\n",
      "47 -- Aditya Birla Sun Life Pharma & Healthcare Fund\n",
      "48 -- Aditya Birla Sun Life Bal Bhavishya Yojna\n",
      "49 -- Aditya Birla Sun Life Bal Bhavishya Yojna\n",
      "50 -- Aditya Birla Sun Life Retirement Fund - The 30s Plan\n",
      "51 -- Aditya Birla Sun Life Retirement Fund - The 30s Plan\n",
      "52 -- Aditya Birla Sun Life Retirement Fund - The 40s Plan\n",
      "53 -- Aditya Birla Sun Life Retirement Fund - The 40s Plan\n",
      "54 -- Aditya Birla Sun Life Retirement Fund - The 50s Plan\n",
      "55 -- Aditya Birla Sun Life Retirement Fund - The 50s Plan\n",
      "56 -- Aditya Birla Sun Life PSU Equity Fund\n",
      "57 -- Aditya Birla Sun Life PSU Equity Fund\n",
      "58 -- Aditya Birla Sun Life Special Opportunities Fund\n",
      "59 -- Aditya Birla Sun Life Special Opportunities Fund\n",
      "60 -- Aditya Birla Sun Life ESG Integration Strategy Fund\n",
      "61 -- Aditya Birla Sun Life ESG Integration Strategy Fund\n",
      "62 -- Aditya Birla Sun Life Business Cycle Fund\n",
      "63 -- Aditya Birla Sun Life Business Cycle Fund\n",
      "64 -- Aditya Birla Sun Life Transportation and Logistics Fund\n",
      "65 -- Aditya Birla Sun Life Quant Fund\n",
      "66 -- Aditya Birla Sun Life Conglomerate Fund\n",
      "67 -- Aditya Birla Sun Life ELSS Tax Saver Fund\n",
      "68 -- Aditya Birla Sun Life ELSS Tax Saver Fund\n",
      "70 -- Aditya Birla Sun Life Equity Hybrid 95 Fund\n",
      "71 -- Aditya Birla Sun Life Equity Hybrid 95 Fund\n",
      "72 -- Aditya Birla Sun Life Equity Hybrid 95 Fund\n",
      "73 -- Aditya Birla Sun Life Equity Savings Fund\n",
      "74 -- Aditya Birla Sun Life Equity Savings Fund\n",
      "75 -- Aditya Birla Sun Life Equity Savings Fund\n",
      "76 -- Aditya Birla Sun Life Regular Savings Fund\n",
      "77 -- Aditya Birla Sun Life Regular Savings Fund\n",
      "78 -- Aditya Birla Sun Life Multi Asset Allocation Fund\n",
      "79 -- Aditya Birla Sun Life Multi Asset Allocation Fund\n",
      "80 -- Aditya Birla Sun Life Balanced Advantage Fund\n",
      "81 -- Aditya Birla Sun Life Balanced Advantage Fund\n",
      "82 -- Aditya Birla Sun Life Balanced Advantage Fund\n",
      "84 -- Aditya Birla Sun Life Overnight Fund\n",
      "85 -- Aditya Birla Sun Life Liquid Fund\n",
      "86 -- Aditya Birla Sun Life Liquid Fund\n",
      "87 -- Aditya Birla Sun Life Money Manager Fund\n",
      "88 -- Aditya Birla Sun Life Money Manager Fund\n",
      "89 -- Aditya Birla Sun Life Low Duration Fund\n",
      "90 -- Aditya Birla Sun Life Low Duration Fund\n",
      "91 -- Aditya Birla Sun Life Savings Fund\n",
      "92 -- Aditya Birla Sun Life Savings Fund\n",
      "93 -- Aditya Birla Sun Life Floating Rate Fund\n",
      "94 -- Aditya Birla Sun Life Floating Rate Fund\n",
      "95 -- Aditya Birla Sun Life Floating Rate Fund\n",
      "96 -- Aditya Birla Sun Life Corporate Bond Fund\n",
      "97 -- Aditya Birla Sun Life Corporate Bond Fund\n",
      "98 -- Aditya Birla Sun Life Corporate Bond Fund\n",
      "99 -- Aditya Birla Sun Life Short Term Fund\n",
      "100 -- Aditya Birla Sun Life Short Term Fund\n",
      "101 -- Aditya Birla Sun Life Banking & PSU Debt Fund\n",
      "102 -- Aditya Birla Sun Life Banking & PSU Debt Fund\n",
      "103 -- Aditya Birla Sun Life Banking & PSU Debt Fund\n",
      "104 -- Aditya Birla Sun Life Medium Term Plan\n",
      "105 -- Aditya Birla Sun Life Medium Term Plan\n",
      "106 -- Aditya Birla Sun Life Credit Risk Fund\n",
      "107 -- Aditya Birla Sun Life Credit Risk Fund\n",
      "108 -- Aditya Birla Sun Life Dynamic Bond Fund\n",
      "109 -- Aditya Birla Sun Life Dynamic Bond Fund\n",
      "110 -- Aditya Birla Sun Life Income Fund\n",
      "111 -- Aditya Birla Sun Life Income Fund\n",
      "112 -- Aditya Birla Sun Life Government Securities Fund\n",
      "113 -- Aditya Birla Sun Life Retirement Fund The 50s Plus - Debt Plan\n",
      "114 -- Aditya Birla Sun Life Arbitrage Fund\n",
      "115 -- Aditya Birla Sun Life Arbitrage Fund\n",
      "116 -- Aditya Birla Sun Life Arbitrage Fund\n",
      "117 -- Aditya Birla Sun Life Arbitrage Fund\n",
      "118 -- Aditya Birla Sun Life Long Duration Fund\n",
      "119 -- Aditya Birla Sun Life NIFTY SDL Plus PSU Bond Sep 2026 6040 Index Fund\n",
      "120 -- Aditya Birla Sun Life NIFTY SDL Plus PSU Bond Sep 2026 6040 Index Fund\n",
      "121 -- Aditya Birla Sun Life Nifty SDL Apr 2027 Index Fund\n",
      "122 -- Aditya Birla Sun Life Nifty SDL Apr 2027 Index Fund\n",
      "123 -- Aditya Birla Sun Life CRISIL IBX 6040 SDL + AAA PSU - Apr 2027 Index Fund\n",
      "124 -- Aditya Birla Sun Life CRISIL IBX 6040 SDL + AAA PSU - Apr 2027 Index Fund\n",
      "125 -- Aditya Birla Sun Life Nifty SDL Sep 2025 Index Fund\n",
      "126 -- Aditya Birla Sun Life CRISIL IBX Gilt - April 2026 Index Fund\n",
      "127 -- Aditya Birla Sun Life CRISIL IBX 5050 Gilt Plus SDL Apr 2028 Index Fund\n",
      "128 -- Aditya Birla Sun Life CRISIL IBX Gilt Apr 2029 Index Fund\n",
      "129 -- Aditya Birla Sun Life Nifty SDL Sep 2027 Index Fund\n",
      "130 -- Aditya Birla Sun Life CRISIL IBX Gilt Apr 2028 Index Fund\n",
      "131 -- Aditya Birla Sun Life CRISIL IBX SDL Jun 2032 Index Fund\n",
      "132 -- Aditya Birla Sun Life CRISIL IBX 6040 SDL + AAA PSU Apr 2026 Index Fund\n",
      "133 -- Aditya Birla Sun Life CRISIL IBX Gilt April 2033 Index Fund\n",
      "134 -- Aditya Birla Sun Life CRISIL IBX Gilt June 2027 Index Fund\n",
      "135 -- Aditya Birla Sun Life CRISIL-IBX AAA NBFC-HFC Index Dec 2025 Fund\n",
      "136 -- Aditya Birla Sun Life CRISIL-IBX AAA NBFC-HFC Index Sep 2026 Fund\n",
      "137 -- Aditya Birla Sun Life CRISIL-IBX AAA Financial Services Index - Sep 2027 Fund\n",
      "138 -- Aditya Birla Sun Life CRISIL-IBX Financial Services 3 to 6 Months Debt Index Fund\n",
      "139 -- Aditya Birla Sun Life CRISIL-IBX Financial Services 9-12 Months Debt Index Fund\n",
      "140 -- Aditya Birla Sun Life Nifty 50 Index Fund\n",
      "141 -- Aditya Birla Sun Life Nifty 50 Index Fund\n",
      "142 -- Aditya Birla Sun Life Nifty 50 Equal Weight Index Fund\n",
      "143 -- Aditya Birla Sun Life Nifty 50 Equal Weight Index Fund\n",
      "144 -- Aditya Birla Sun Life Nifty Next 50 Index Fund\n",
      "145 -- Aditya Birla Sun Life Nifty Next 50 Index Fund\n",
      "146 -- Aditya Birla Sun Life Nifty Midcap 150 Index Fund\n",
      "147 -- Aditya Birla Sun Life Nifty Midcap 150 Index Fund\n",
      "148 -- Aditya Birla Sun Life Nifty Smallcap 50 Index Fund\n",
      "149 -- Aditya Birla Sun Life Nifty Smallcap 50 Index Fund\n",
      "150 -- Aditya Birla Sun Life Nifty India Defence Index Fund\n",
      "151 -- Aditya Birla Sun Life BSE India Infrastructure Index Fund\n",
      "152 -- Aditya Birla Sun Life Nifty 50 ETF\n",
      "153 -- Aditya Birla Sun Life Nifty 50 ETF\n",
      "154 -- Aditya Birla Sun Life BSE Sensex ETF\n",
      "155 -- Aditya Birla Sun Life BSE Sensex ETF\n",
      "156 -- Aditya Birla Sun Life Nifty Next 50 ETF\n",
      "157 -- Aditya Birla Sun Life Nifty Next 50 ETF\n",
      "158 -- Aditya Birla Sun Life Nifty Bank ETF\n",
      "159 -- Aditya Birla Sun Life Nifty Healthcare ETF\n",
      "160 -- Aditya Birla Sun Life Nifty IT ETF\n",
      "161 -- Aditya Birla Sun Life Nifty PSE ETF\n",
      "162 -- Aditya Birla Sun Life Gold ETF\n",
      "163 -- Aditya Birla Sun Life Silver ETF\n",
      "164 -- Aditya Birla Sun Life Nifty 200 Momentum 30 ETF\n",
      "165 -- Aditya Birla Sun Life Nifty 200 Quality 30 ETF\n",
      "166 -- Aditya Birla Sun Life CRISIL Liquid Overnight ETF\n",
      "167 -- Aditya Birla Sun Life CRISIL Broad Based Gilt ETF\n",
      "168 -- Aditya Birla Sun Life CRISIL 10 Year Gilt ETF\n",
      "169 -- Aditya Birla Sun Life Asset Allocator FoF\n",
      "170 -- Aditya Birla Sun Life Financial Planning FOF - Aggressive Plan\n",
      "171 -- Aditya Birla Sun Life Financial Planning FOF - Moderate Plan\n",
      "172 -- Aditya Birla Sun Life Financial Planning FOF - Conservative Plan\n",
      "173 -- Aditya Birla Sun Life Debt Plus Arbitrage FoF\n",
      "174 -- Aditya Birla Sun Life NASDAQ 100 FOF\n",
      "175 -- Aditya Birla Sun Life Global Excellence Equity Fund of Fund\n",
      "176 -- Aditya Birla Sun Life Global Emerging Opportunities Fund\n",
      "177 -- Aditya Birla Sun Life Gold Fund\n",
      "178 -- Aditya Birla Sun Life Silver ETF Fund of Fund\n",
      "179 -- Aditya Birla Sun Life Multi - Index Fund of Funds\n",
      "180 -- Aditya Birla Sun Life US Treasury 1-3 Year Bond ETFs Fund Of Funds\n",
      "181 -- Aditya Birla Sun Life US Treasury 3-10 Year Bond ETFs Fund Of Funds\n",
      "Function Running: get_data\n",
      "Function Running: extract_clipped_data\n",
      "Function Running: extract_span_data\n",
      "Function Running: process_text_data\n",
      "Function Running: create_nested_dict\n",
      "Function Running: get_generated_content\n",
      "Parsing Completed, Refining Data.....\n"
     ]
    }
   ],
   "source": [
    "\"\"\"ADITYA BIRLA FILE CODE\"\"\"# pages = [17, 19, 21, 23, 25, 27, 29, 31, 33, 35, 37, 39, 41, 43, 45, 47, 49, 50, 52, 54, 56, 58, 60, 62, 64, 66, 67, 69, 72, 75, 78, 80, 82, 86, 87, 89, 91, 93, 95, 98, 101, 103, 106, 108, 110, 112, 114, 115, 116, 118, 119, 121, 123, 125, 127, 128, 129, 130, 131, 132, 133, 134, 135, 136, 137, 138, 139, 140, 141, 143, 145, 147, 149, 151, 152, 153, 155, 157, 159, 160, 161, 162, 163, 164, 165, 166, 167, 168, 169, 170, 171, 172, 173, 174, 175, 176, 177, 178, 179, 180, 181, 182]\n",
    "amc_id = '3_0'\n",
    "# logging.info(f\"User Ran Fund Data of {amc_name}\")\n",
    "fund_name, path= mutual_fund[amc_id]\n",
    "object = AdityaBirla(fund_name,amc_id,path)\n",
    "title,path_pdf = object.check_and_highlight(path)\n",
    "data = object.get_data(path_pdf,title)\n",
    "extracted_text = object.get_generated_content(data, is_table=object.MAIN_MAP[\"table\"])"
   ]
  },
  {
   "cell_type": "code",
   "execution_count": 17,
   "metadata": {},
   "outputs": [
    {
     "name": "stdout",
     "output_type": "stream",
     "text": [
      "Function Running: refine_extracted_data\n",
      "Function Running: merge_and_select_data\n"
     ]
    }
   ],
   "source": [
    "object = AdityaBirla(fund_name,amc_id,path)\n",
    "final_text = object.refine_extracted_data(extracted_text)\n",
    "dfs = object.merge_and_select_data(final_text,map_keys = True,special_handling=True)"
   ]
  },
  {
   "cell_type": "code",
   "execution_count": 18,
   "metadata": {},
   "outputs": [
    {
     "name": "stdout",
     "output_type": "stream",
     "text": [
      "File Saved At: C:\\Users\\Kaustubh.keny\\Projects\\JSON 25\\JPY\\3_30-Apr-25_FS.json\n"
     ]
    }
   ],
   "source": [
    "save_path = os.path.join(object.JSONPATH, object.FILE_NAME).replace(\".pdf\", \".json\")\n",
    "with open(save_path, 'w') as f:\n",
    "  json.dump(dfs, f, indent=2)\n",
    "print(f\"File Saved At: {save_path}\")"
   ]
  },
  {
   "cell_type": "code",
   "execution_count": null,
   "metadata": {},
   "outputs": [],
   "source": [
    "\"\"\"BANDHAN MF FILE MAIN CODE\"\"\" # rgex for fund manager\n",
    "\n",
    "amc_name = \"Bandhan Mutual Fund\"\n",
    "logging.info(f\"User Ran Fund Data of {amc_name}\")\n",
    "\n",
    "object = Bandhan(amc_name,path)\n",
    "path = mutual_fund[amc_name]\n",
    "\n",
    "title,path_pdf= object.check_and_highlight(path)"
   ]
  },
  {
   "cell_type": "code",
   "execution_count": null,
   "metadata": {},
   "outputs": [],
   "source": [
    "object = Bandhan(amc_name,path)\n",
    "data  = object.get_data(path_pdf,title)\n",
    "extracted_text = object.get_generated_content(data)\n",
    "Helper.quick_json_dump(extracted_text, object.JSONPATH)"
   ]
  },
  {
   "cell_type": "code",
   "execution_count": null,
   "metadata": {},
   "outputs": [],
   "source": [
    "\n",
    "final_text = object.refine_extracted_data(extracted_text, flatten = True)\n",
    "dfs = object.merge_and_select_data(final_text,select=True, map_keys = True, special_handling = True)\n",
    "Helper.quick_json_dump(dfs, object.JSONPATH)"
   ]
  },
  {
   "cell_type": "code",
   "execution_count": null,
   "metadata": {},
   "outputs": [],
   "source": [
    "\"\"\" BARODA BNP MAIN FILE CODE\"\"\"\n",
    "\n",
    "amc_name = 'Baroda Bnp Paribas Mutual Fund'\n",
    "logging.info(f\"User Ran Fund Data of {amc_name}\")\n",
    "path = mutual_fund[amc_name]\n",
    "object = BarodaBNP(amc_name,path)\n",
    "title,path_pdf= object.check_and_highlight(path)"
   ]
  },
  {
   "cell_type": "code",
   "execution_count": null,
   "metadata": {},
   "outputs": [],
   "source": [
    "data  = object.get_data(path_pdf,title)\n",
    "extracted_text = object.get_generated_content(data)"
   ]
  },
  {
   "cell_type": "code",
   "execution_count": null,
   "metadata": {},
   "outputs": [],
   "source": [
    "object = BarodaBNP(amc_name,path)\n",
    "final_text = object.refine_extracted_data(extracted_text, flatten = True)\n",
    "dfs = object.merge_and_select_data(final_text, select = True, map_keys = True, special_handling = True)\n",
    "Helper.quick_json_dump(dfs, object.JSONPATH)"
   ]
  },
  {
   "cell_type": "code",
   "execution_count": 34,
   "metadata": {},
   "outputs": [
    {
     "name": "stdout",
     "output_type": "stream",
     "text": [
      "Function Running: check_and_highlight\n",
      "Function Running: _get_normal_title\n",
      "Regex: (Bank of India.*?(?:Plan|Funds?|ETF|FOF|FTF|Saver)\\s*(?:of Funds?|FO?o?F)?)\n",
      "06 -- Bank of India Flexi Cap Fund\n",
      "07 -- Bank of India Small Cap Fund\n",
      "08 -- Bank of India ELSS Tax Saver\n",
      "09 -- Bank of India Multi Cap Fund\n",
      "10 -- Bank of India Business Cycle Fund\n",
      "11 -- Bank of India Manufacturing & Infrastructure Fund\n",
      "12 -- Bank of India Consumption Fund\n",
      "13 -- Bank of India Large & Mid Cap Equity Fund\n",
      "14 -- Bank of India Bluechip Fund\n",
      "15 -- Bank of India Mid & Small Cap Equity & Debt Fund\n",
      "16 -- Bank of India Multi Asset Allocation Fund\n",
      "17 -- Bank of India Balanced Advantage Fund\n",
      "18 -- Bank of India Conservative Hybrid Fund\n",
      "19 -- Bank of India Arbitrage Fund\n",
      "20 -- Bank of India Liquid Fund\n",
      "21 -- Bank of India Money Market Fund\n",
      "22 -- Bank of India Ultra Short Duration Fund\n",
      "23 -- Bank of India Credit Risk Fund\n",
      "24 -- Bank of India Overnight Fund\n",
      "25 -- Bank of India Short Term Income Fund\n",
      "26 -- Bank of India Large & Mid Cap Equity Fund\n",
      "27 -- Bank of India Flexi Cap Fund\n",
      "28 -- Bank of India Business Cycle Fund\n",
      "29 -- Bank of India Conservative Hybrid Fund\n",
      "30 -- Bank of India Multi Cap Fund\n",
      "31 -- Bank of India Liquid Fund\n",
      "32 -- Bank of India Short Term Income Fund\n",
      "34 -- Bank of India Large & Mid Cap Equity Fund\n",
      "35 -- Bank of India Mid & Small Cap Equity & Debt Fund\n",
      "Function Running: get_data\n",
      "Function Running: extract_data_relative_line\n",
      "Function Running: extract_span_data\n",
      "Function Running: process_text_data\n",
      "Function Running: create_nested_dict\n",
      "Function Running: get_generated_content\n",
      "\tParsing Completed, Refining Data.....\n",
      "[Error] get_generated_content failed: list index out of range\n"
     ]
    }
   ],
   "source": [
    "\"\"\"BANK OF INDIA\"\"\" #Regex# pages =[6, 7, 8, 9, 10, 11, 12, 13, 14, 15, 16, 17, 18, 19, 20, 21, 22, 23, 24]\n",
    "\n",
    "amc_id = '5_0'\n",
    "# logging.info(f\"User Ran Fund Data of {amc_name}\")\n",
    "fund_name, path= mutual_fund[amc_id]\n",
    "object = BankOfIndia(fund_name,amc_id,path)\n",
    "title,path_pdf = object.check_and_highlight(path)\n",
    "data = object.get_data(path_pdf,title)\n",
    "extracted_text = object.get_generated_content(data)\n"
   ]
  },
  {
   "cell_type": "code",
   "execution_count": 35,
   "metadata": {},
   "outputs": [
    {
     "name": "stdout",
     "output_type": "stream",
     "text": [
      "Function Running: refine_extracted_data\n",
      "Function Running: merge_and_select_data\n"
     ]
    }
   ],
   "source": [
    "object = BankOfIndia(fund_name,amc_id,path)\n",
    "final_text = object.refine_extracted_data(extracted_text)\n",
    "dfs = object.merge_and_select_data(final_text, map_keys = True, special_handling=True)"
   ]
  },
  {
   "cell_type": "code",
   "execution_count": null,
   "metadata": {},
   "outputs": [],
   "source": [
    "\"\"\"BAJAJ FINSERV MAIN FILE CODE\"\"\" \n",
    "\n",
    "amc_id = \"59_0\"\n",
    "# logging.info(f\"User Ran Fund Data of {amc_name}\")\n",
    "fund_name, path= mutual_fund[amc_id]\n",
    "object = BajajFinServ(fund_name,amc_id,path)\n",
    "title,path_pdf= object.check_and_highlight(path)\n",
    "data = object.get_data(path_pdf,title)\n",
    "extracted_text = object.get_generated_content(data,is_table= object.MAIN_MAP[\"table\"])\n"
   ]
  },
  {
   "cell_type": "code",
   "execution_count": null,
   "metadata": {},
   "outputs": [],
   "source": [
    "object = BajajFinServ(fund_name,amc_id,path)\n",
    "final_text = object.refine_extracted_data(extracted_text)\n",
    "dfs = object.merge_and_select_data(final_text,map_keys = True, special_handling=True)"
   ]
  },
  {
   "cell_type": "code",
   "execution_count": null,
   "metadata": {},
   "outputs": [],
   "source": [
    "\"\"\"CANARA MUTUAL FUND\"\"\" # pages = [8, 9, 10, 11, 12, 13, 14, 15, 16, 17, 18, 19, 20, 21, 22, 23, 24, 25, 26, 27, 28, 29, 30, 31, 32]\n",
    "\n",
    "amc_id = '6_0'\n",
    "# logging.info(f\"User Ran Fund Data of {amc_name}\")\n",
    "fund_name, path= mutual_fund[amc_id]\n",
    "object = Canara(fund_name,amc_id,path)\n",
    "title,path_pdf = object.check_and_highlight(path)\n",
    "data = object.get_data(path_pdf,title)\n",
    "extracted_text = object.get_generated_content(data)"
   ]
  },
  {
   "cell_type": "code",
   "execution_count": null,
   "metadata": {},
   "outputs": [
    {
     "name": "stdout",
     "output_type": "stream",
     "text": [
      "Function Running: refine_extracted_data\n",
      "Function Running: merge_and_select_data\n"
     ]
    }
   ],
   "source": [
    "object =  Canara(fund_name,amc_id,path)\n",
    "final_text = object.refine_extracted_data(extracted_text, flatten = True)\n",
    "dfs = object.merge_and_select_data(final_text,map_keys = True, special_handling=True)\n",
    "# Helper.quick_json_dump(dfs, object.JSONPATH)"
   ]
  },
  {
   "cell_type": "code",
   "execution_count": null,
   "metadata": {},
   "outputs": [],
   "source": [
    "\"\"\"DSP MAIN FILE CODE\"\"\"\n",
    "\n",
    "amc_id = '8_0'\n",
    "# logging.info(f\"User Ran Fund Data of {amc_name}\")\n",
    "fund_name, path= mutual_fund[amc_id]\n",
    "object = DSP(fund_name,amc_id,path)\n",
    "title,path_pdf = object.check_and_highlight(path)\n",
    "data = object.get_data(path_pdf,title)"
   ]
  },
  {
   "cell_type": "code",
   "execution_count": null,
   "metadata": {},
   "outputs": [],
   "source": [
    "# object = DSP(fund_name,amc_id,path)\n",
    "extracted_text = object.get_generated_content(data, object.MAIN_MAP[\"table\"])\n",
    "final_text = object.refine_extracted_data(extracted_text)\n",
    "dfs = object.merge_and_select_data(final_text,map_keys = True,special_handling = True)\n",
    "with open(\"dfs.json\",\"w+\") as file:\n",
    "    json.dump(dfs,file)"
   ]
  },
  {
   "cell_type": "code",
   "execution_count": null,
   "metadata": {},
   "outputs": [],
   "source": [
    "\"\"\"EDELWEISS MP FILE MAIN CODE\"\"\" #Issues: objective in seperate dict,#metrics are weird, scheme launch date issue\n",
    "\n",
    "amc_id = '9_0'\n",
    "# logging.info(f\"User Ran Fund Data of {amc_name}\")\n",
    "fund_name, path= mutual_fund[amc_id]\n",
    "object = Edelweiss(fund_name,amc_id,path)\n",
    "title,path_pdf = object.check_and_highlight(path)\n",
    "data = object.get_data(path_pdf,title)\n",
    "extracted_text = object.get_generated_content(data)"
   ]
  },
  {
   "cell_type": "code",
   "execution_count": null,
   "metadata": {},
   "outputs": [
    {
     "name": "stdout",
     "output_type": "stream",
     "text": [
      "Function Running: refine_extracted_data\n",
      "Function Running: merge_and_select_data\n"
     ]
    }
   ],
   "source": [
    "object = Edelweiss(fund_name,amc_id,path)\n",
    "final_text = object.refine_extracted_data(extracted_text, flatten = True)\n",
    "dfs = object.merge_and_select_data(final_text,map_keys = True, special_handling=True)\n"
   ]
  },
  {
   "cell_type": "code",
   "execution_count": null,
   "metadata": {},
   "outputs": [],
   "source": [
    "\"\"\"FRANKLIN TEMPLETON FILE MAIN CODE\"\"\"\n",
    "\n",
    "amc_id = '11_0'\n",
    "# logging.info(f\"User Ran Fund Data of {amc_name}\")\n",
    "fund_name, path= mutual_fund[amc_id]\n",
    "object = FranklinTempleton(fund_name,amc_id,path)\n",
    "title,path_pdf = object.check_and_highlight(path)\n",
    "data = object.get_data(path_pdf,title)\n"
   ]
  },
  {
   "cell_type": "code",
   "execution_count": null,
   "metadata": {},
   "outputs": [],
   "source": [
    "object = FranklinTempleton(fund_name,amc_id,path)\n",
    "extracted_text = object.get_generated_content(data)\n",
    "final_text = object.refine_extracted_data(extracted_text)\n",
    "dfs = object.merge_and_select_data(final_text,map_keys = True, special_handling=True)\n"
   ]
  },
  {
   "cell_type": "code",
   "execution_count": 2,
   "metadata": {},
   "outputs": [
    {
     "name": "stdout",
     "output_type": "stream",
     "text": [
      "Function Running: check_and_highlight\n",
      "Function Running: _get_normal_title\n",
      "Regex: (GROWW.*?(?:FUND|Fund|ETF)\\s*(?:FOF)?)\n",
      "23 -- GROWW LARGE CAP FUND\n",
      "24 -- GROWW LARGE CAP FUND\n",
      "25 -- GROWW AGGRESSIVE HYBRID FUND\n",
      "26 -- GROWW AGGRESSIVE HYBRID FUND\n",
      "27 -- GROWW VALUE FUND\n",
      "28 -- GROWW VALUE FUND\n",
      "29 -- GROWW ELSS TAX SAVER FUND\n",
      "30 -- GROWW ELSS TAX SAVER FUND\n",
      "31 -- GROWW MULTICAP FUND\n",
      "32 -- GROWW Nifty Total Market Index Fund\n",
      "33 -- GROWW Banking & Financial Services Fund\n",
      "34 -- GROWW Banking & Financial Services Fund\n",
      "35 -- GROWW Nifty Smallcap 250 Index Fund\n",
      "36 -- GROWW Nifty EV & New Age Automotive ETF\n",
      "37 -- GROWW Nifty EV & New Age Automotive ETF FOF\n",
      "38 -- GROWW Nifty Non-Cyclical Consumer Index Fund\n",
      "39 -- GROWW Nifty 1D Rate Liquid ETF\n",
      "40 -- GROWW Nifty India Defence ETF\n",
      "41 -- GROWW Nifty India Defence ETF FOF\n",
      "42 -- GROWW Gold ETF\n",
      "43 -- GROWW Gold ETF FOF\n",
      "44 -- GROWW Nifty India Railways PSU Index Fund\n",
      "45 -- GROWW Nifty India Railways PSU ETF\n",
      "46 -- GROWW Nifty 200 ETF\n",
      "47 -- GROWW Nifty 200 ETF FOF\n",
      "48 -- GROWW Nifty 500 Momentum 50 ETF\n",
      "49 -- GROWW Groww Nifty 500 Momentum 50 ETF FOF\n",
      "50 -- GROWW OVERNIGHT FUND\n",
      "51 -- GROWW LIQUID FUND\n",
      "52 -- GROWW LIQUID FUND\n",
      "53 -- GROWW SHORT DURATION FUND\n",
      "54 -- GROWW SHORT DURATION FUND\n",
      "55 -- GROWW DYNAMIC BOND FUND\n",
      "56 -- GROWW DYNAMIC BOND FUND\n",
      "Function Running: get_data\n",
      "Function Running: extract_data_relative_line\n",
      "Function Running: extract_span_data\n",
      "Function Running: process_text_data\n",
      "Function Running: create_nested_dict\n",
      "Function Running: get_generated_content\n",
      "\tParsing Completed, Refining Data.....\n",
      "[Error] get_generated_content failed: list index out of range\n"
     ]
    }
   ],
   "source": [
    "\"\"\"GROWW MUTUAL FUND MAIN CODE\"\"\"# pages = [13, 14, 15, 16, 17, 18, 19, 20, 21, 22, 23, 24, 26, 28, 29, 30, 32, 33, 34, 35, 36, 37, 38, 39, 40, 41, 42]\n",
    "\n",
    "amc_id = '20_0'\n",
    "# logging.info(f\"User Ran Fund Data of {amc_name}\")\n",
    "fund_name, path= mutual_fund[amc_id]\n",
    "object = GROWW(fund_name,amc_id,path)\n",
    "title,path_pdf = object.check_and_highlight(path)\n",
    "data = object.get_data(path_pdf,title)\n",
    "extracted_text = object.get_generated_content(data)"
   ]
  },
  {
   "cell_type": "code",
   "execution_count": null,
   "metadata": {},
   "outputs": [],
   "source": [
    "\"\"\"HDFC MUTUAL FUND\"\"\" # pages = [5, 6, 8, 10, 11, 12, 13, 14, 15, 16, 17, 18, 19, 20, 21, 22, 23, 24, 25, 26, 27, 28, 29, 30, 31, 32, 33, 34, 35, 36, 37, 38, 39, 40, 41, 42, 43, 44, 45, 46, 47, 48, 49, 50, 51]\n",
    "\n",
    "amc_name = \"Hdfc Mutual Fund\"\n",
    "logging.info(f\"User Ran Fund Data of {amc_name}\")\n",
    "path = mutual_fund[amc_name]\n",
    "object = HDFC(amc_name,path)\n",
    "title,path_pdf= object.check_and_highlight(path)\n",
    "\n",
    "data = object.get_data(path_pdf,title)\n",
    "extracted_text = object.get_generated_content(data)"
   ]
  },
  {
   "cell_type": "code",
   "execution_count": null,
   "metadata": {},
   "outputs": [],
   "source": [
    "object = HDFC(amc_name,path)\n",
    "final_text = object.refine_extracted_data(extracted_text,flatten = True)\n",
    "dfs = object.merge_and_select_data(final_text, select = True,map_keys = True,special_handling = True)\n",
    "Helper.quick_json_dump(dfs,object.JSONPATH)"
   ]
  },
  {
   "cell_type": "code",
   "execution_count": null,
   "metadata": {},
   "outputs": [],
   "source": [
    "\"\"\"HDFC MUTUAL FUND PASSIVE\"\"\" # pages = [5, 6, 8, 10, 11, 12, 13, 14, 15, 16, 17, 18, 19, 20, 21, 22, 23, 24, 25, 26, 27, 28, 29, 30, 31, 32, 33, 34, 35, 36, 37, 38, 39, 40, 41, 42, 43, 44, 45, 46, 47, 48, 49, 50, 51]\n",
    "\n",
    "amc_name = \"Hdfc Mutual Fund Passive\"\n",
    "logging.info(f\"User Ran Fund Data of {amc_name}\")\n",
    "path = mutual_fund[amc_name]\n",
    "object = HDFC(amc_name,path)\n",
    "title,path_pdf= object.check_and_highlight(path)\n",
    "\n",
    "data = object.get_data(path_pdf,title)\n",
    "extracted_text = object.get_generated_content(data)\n",
    "final_text = object.refine_extracted_data(extracted_text,flatten = True)\n",
    "dfs = object.merge_and_select_data(final_text, select = True,map_keys = True,special_handling=True)\n",
    "Helper.quick_json_dump(dfs,object.JSONPATH)"
   ]
  },
  {
   "cell_type": "code",
   "execution_count": 2,
   "metadata": {},
   "outputs": [
    {
     "name": "stdout",
     "output_type": "stream",
     "text": [
      "Function Running: check_and_highlight\n",
      "Function Running: _get_normal_title\n",
      "Regex: (Helios.*)\n",
      "02 -- Helios Flexi Cap Fund\n",
      "03 -- Helios Flexi Cap Fund\n",
      "04 -- Helios Financial Services Fund\n",
      "05 -- Helios Financial Services Fund\n",
      "06 -- Helios Large & Mid Cap Fund\n",
      "07 -- Helios Large & Mid Cap Fund\n",
      "08 -- Helios Balanced Advantage Fund\n",
      "09 -- Helios Balanced Advantage Fund\n",
      "10 -- Helios Mid Cap Fund\n",
      "11 -- Helios Mid Cap Fund\n",
      "12 -- Helios Overnight Fund\n",
      "Function Running: get_data\n",
      "Function Running: extract_data_relative_line\n",
      "Function Running: extract_span_data\n",
      "Function Running: process_text_data\n",
      "Function Running: create_nested_dict\n",
      "Function Running: get_generated_content\n",
      "\tParsing Completed, Refining Data.....\n",
      "[Error] get_generated_content failed: list index out of range\n",
      "Function Running: refine_extracted_data\n",
      "Function Running: merge_and_select_data\n"
     ]
    }
   ],
   "source": [
    "\"\"\"HELIOS MF FILE MAIN CODE\"\"\" # pages = [2, 4, 6, 8,10]\n",
    "\n",
    "amc_id = '60_0'\n",
    "# logging.info(f\"User Ran Fund Data of {amc_name}\")\n",
    "fund_name, path= mutual_fund[amc_id]\n",
    "object = Helios(fund_name,amc_id,path)\n",
    "title,path_pdf = object.check_and_highlight(path)\n",
    "data = object.get_data(path_pdf,title)\n",
    "extracted_text = object.get_generated_content(data)\n",
    "final_text = object.refine_extracted_data(extracted_text)\n",
    "dfs = object.merge_and_select_data(final_text,map_keys = True, special_handling = True)\n"
   ]
  },
  {
   "cell_type": "code",
   "execution_count": null,
   "metadata": {},
   "outputs": [],
   "source": [
    "\"\"\" ICICI MF MAIN FILE CODE\"\"\"\n",
    "\n",
    "amc_id = '14_0'\n",
    "# logging.info(f\"User Ran Fund Data of {amc_name}\")\n",
    "fund_name, path= mutual_fund[amc_id]\n",
    "object = ICICI(fund_name,amc_id,path)\n",
    "title,path_pdf = object.check_and_highlight(path)\n",
    "data = object.get_data(path_pdf,title)\n",
    "extracted_text = object.get_generated_content(data)\n",
    "# final_text = object.refine_extracted_data(extracted_text)\n",
    "# dfs = object.merge_and_select_data(final_text,map_keys = True, special_handling = True)\n"
   ]
  },
  {
   "cell_type": "code",
   "execution_count": 184,
   "metadata": {},
   "outputs": [
    {
     "name": "stdout",
     "output_type": "stream",
     "text": [
      "Function Running: refine_extracted_data\n",
      "Function Running: merge_and_select_data\n"
     ]
    }
   ],
   "source": [
    "object = ICICI(fund_name,amc_id,path)\n",
    "final_text = object.refine_extracted_data(extracted_text)\n",
    "dfs = object.merge_and_select_data(final_text,map_keys = True, special_handling = True)"
   ]
  },
  {
   "cell_type": "code",
   "execution_count": null,
   "metadata": {},
   "outputs": [],
   "source": [
    "\"\"\" ICICI MF MAIN FILE CODE PASSIVE\"\"\"# pages = [8, 9, 11, 13, 15, 16, 17, 18, 19, 20, 21, 22, 23, 24, 25, 27, 28, 29, 30, 31, 32, 33, 34, 35, 36, 37, 39, 40, 41, 42, 43, 44, 46, 47, 49, 51, 53, 55, 56, 58, 59, 60, 62, 64, 65, 66, 67, 68, 69, 71, 72, 74, 75, 77, 78, 80]\n",
    "\n",
    "amc_name = \"Icici Prudential Mutual Fund Passive\"\n",
    "logging.info(f\"User Ran Fund Data of {amc_name}\")\n",
    "path = mutual_fund[amc_name]\n",
    "object = ICICI(amc_name,path)\n",
    "title,path_pdf = object.check_and_highlight(path)\n"
   ]
  },
  {
   "cell_type": "code",
   "execution_count": null,
   "metadata": {},
   "outputs": [],
   "source": [
    "object = ICICI(amc_name,path)\n",
    "data = object.get_data(path_pdf,title)\n",
    "extracted_text = object.get_generated_content(data)"
   ]
  },
  {
   "cell_type": "code",
   "execution_count": null,
   "metadata": {},
   "outputs": [],
   "source": [
    "object = ICICI(amc_name,path)\n",
    "final_text = object.refine_extracted_data(extracted_text, flatten=True)\n",
    "dfs = object.merge_and_select_data(final_text,select= True,map_keys = True,special_handling=True)\n",
    "Helper.quick_json_dump(dfs,object.JSONPATH)"
   ]
  },
  {
   "cell_type": "code",
   "execution_count": null,
   "metadata": {},
   "outputs": [],
   "source": [
    "\"\"\" INVESCO MF MAIN FILE CODE\"\"\"\n",
    "\n",
    "amc_id = '21_0'\n",
    "# logging.info(f\"User Ran Fund Data of {amc_name}\")\n",
    "fund_name, path= mutual_fund[amc_id]\n",
    "object = Invesco(fund_name,amc_id,path)\n",
    "title,path_pdf = object.check_and_highlight(path)\n",
    "data = object.get_data(path_pdf,title)"
   ]
  },
  {
   "cell_type": "code",
   "execution_count": null,
   "metadata": {},
   "outputs": [],
   "source": [
    "object = Invesco(fund_name,amc_id,path)\n",
    "extracted_text = object.get_generated_content(data)\n",
    "final_text = object.refine_extracted_data(extracted_text)\n",
    "dfs = object.merge_and_select_data(final_text,map_keys = True, special_handling = True)\n"
   ]
  },
  {
   "cell_type": "code",
   "execution_count": null,
   "metadata": {},
   "outputs": [],
   "source": [
    "\"\"\"ITI MAIN FILE CODE\"\"\" # pages = [9, 10, 11, 12, 13, 14, 15, 16, 17, 18, 19, 20, 21, 22, 23, 24, 25, 26]\n",
    "\n",
    "amc_id = '51_0'\n",
    "# logging.info(f\"User Ran Fund Data of {amc_name}\")\n",
    "fund_name, path= mutual_fund[amc_id]\n",
    "object = ITI(fund_name,amc_id,path)\n",
    "title,path_pdf = object.check_and_highlight(path)\n",
    "data = object.get_data(path_pdf,title)\n",
    "extracted_text = object.get_generated_content(data)\n",
    "final_text = object.refine_extracted_data(extracted_text)\n",
    "dfs= object.merge_and_select_data(final_text,map_keys = True, special_handling=True)"
   ]
  },
  {
   "cell_type": "code",
   "execution_count": null,
   "metadata": {},
   "outputs": [],
   "source": [
    "\"\"\"JM FUND MAIN FILE CODE\"\"\"\n",
    "amc_id = '22_0'\n",
    "# logging.info(f\"User Ran Fund Data of {amc_name}\")\n",
    "fund_name, path= mutual_fund[amc_id]\n",
    "object = JMMF(fund_name,amc_id,path)\n",
    "title,path_pdf = object.check_and_highlight(path)\n",
    "data = object.get_data(path_pdf,title)\n",
    "extracted_text = object.get_generated_content(data)\n",
    "final_text = object.refine_extracted_data(extracted_text)\n",
    "dfs = object.merge_and_select_data(final_text,map_keys = True, special_handling = True)"
   ]
  },
  {
   "cell_type": "code",
   "execution_count": 18,
   "metadata": {},
   "outputs": [
    {
     "name": "stdout",
     "output_type": "stream",
     "text": [
      "Function Running: refine_extracted_data\n"
     ]
    }
   ],
   "source": [
    "object = JMMF(fund_name,amc_id,path)\n",
    "final_text = object.refine_extracted_data(extracted_text)\n",
    "# dfs = object.merge_and_select_data(final_text,map_keys = True, special_handling = True)"
   ]
  },
  {
   "cell_type": "code",
   "execution_count": null,
   "metadata": {},
   "outputs": [],
   "source": [
    "\"\"\"KOTAK FUND MAIN CODE\"\"\" # pages = [5, 6, 7, 8, 9, 10, 11, 12, 13, 14, 15, 16, 17, 18, 19, 20, 21, 22, 23, 24, 25, 26, 27, 28, 29, 30, 32, 34, 36, 37, 38, 40, 41, 43, 44, 46, 48, 49, 50, 52, 54, 55, 56, 69, 70, 71, 72, 73, 74, 75, 76, 77, 78, 79, 80, 81, 82, 83, 84, 85, 86, 87, 88, 89, 90, 91, 92, 93, 94, 95, 96, 97, 98, 99, 100, 101, 102, 103, 104, 105, 106, 107, 108]\n",
    "\n",
    "amc_id = '23_0'\n",
    "# logging.info(f\"User Ran Fund Data of {amc_name}\")\n",
    "fund_name, path= mutual_fund[amc_id]\n",
    "object = Kotak(fund_name,amc_id,path)\n",
    "title,path_pdf= object.check_and_highlight(path)\n",
    "\n",
    "data = object.get_data(path_pdf,title)\n",
    "extracted_text = object.get_generated_content(data, is_table=object.MAIN_MAP[\"table\"])\n",
    "final_text = object.refine_extracted_data(extracted_text)\n",
    "dfs = object.merge_and_select_data(final_text,map_keys = True, special_handling=True)\n"
   ]
  },
  {
   "cell_type": "code",
   "execution_count": null,
   "metadata": {},
   "outputs": [],
   "source": [
    "save_path = os.path.join(object.JSONPATH, object.FILE_NAME).replace(\".pdf\", \".json\")\n",
    "with open(save_path, 'w') as f:\n",
    "  json.dump(dfs, f, indent=2)\n",
    "print(f\"File Saved At: {save_path}\")"
   ]
  },
  {
   "cell_type": "code",
   "execution_count": null,
   "metadata": {},
   "outputs": [],
   "source": [
    "\"\"\"LIC FUND MAIN CODE\"\"\" #issue: OCR for title bcz they're images\n",
    "amc_id = '25_0'\n",
    "# logging.info(f\"User Ran Fund Data of {amc_name}\")\n",
    "fund_name, path= mutual_fund[amc_id]\n",
    "object = LIC(fund_name,amc_id,path)\n",
    "title,path_pdf = object.check_and_highlight(path)\n",
    "data = object.get_data(path_pdf,title)\n",
    "extracted_text = object.get_generated_content(data)\n",
    "object = LIC(fund_name,amc_id,path)\n",
    "final_text = object.refine_extracted_data(extracted_text, flatten=True)\n",
    "dfs = object.merge_and_select_data(final_text,map_keys = True, special_handling = True)\n",
    "# Helper.quick_json_dump(dfs, object.JSONPATH)"
   ]
  },
  {
   "cell_type": "code",
   "execution_count": 8,
   "metadata": {},
   "outputs": [],
   "source": [
    "with open(\"test.json\",\"w+\") as file:\n",
    "    json.dump(dfs,file)"
   ]
  },
  {
   "cell_type": "code",
   "execution_count": 84,
   "metadata": {},
   "outputs": [
    {
     "name": "stdout",
     "output_type": "stream",
     "text": [
      "Function Running: check_and_highlight\n",
      "Function Running: _get_normal_title\n",
      "Regex: (Mahindra\\s*Manulife.*?(?:Funds?|ETF|EOF|F[Oo]F|Plan|Path|Saver|Index|Growth)\\s*(?:F[Oo]F|of Funds?|Fund of Funds?|Funds?)?)\n",
      "08 -- Mahindra Manulife ELSS Tax Saver Fund\n",
      "09 -- Mahindra Manulife Multi Cap Fund\n",
      "10 -- Mahindra Manulife Mid Cap Fund\n",
      "11 -- Mahindra Manulife Consumption Fund\n",
      "12 -- Mahindra Manulife Large Cap Fund\n",
      "13 -- Mahindra Manulife Large & Mid Cap Fund\n",
      "14 -- Mahindra Manulife Focused Fund\n",
      "15 -- Mahindra Manulife Flexi Cap Fund\n",
      "16 -- Mahindra Manulife Small Cap Fund\n",
      "17 -- Mahindra Manulife Business Cycle Fund\n",
      "18 -- Mahindra Manulife Manufacturing Fund\n",
      "19 -- Mahindra Manulife Value Fund\n",
      "22 -- Mahindra Manulife Equity Savings Fund\n",
      "23 -- Mahindra Manulife Aggressive Hybrid Fund\n",
      "24 -- Mahindra Manulife Balanced Advantage Fund\n",
      "25 -- Mahindra Manulife Multi Asset Allocation Fund\n",
      "26 -- Mahindra Manulife Arbitrage Fund\n",
      "28 -- Mahindra Manulife Liquid Fund\n",
      "29 -- Mahindra Manulife Low Duration Fund\n",
      "30 -- Mahindra Manulife Dynamic Bond Fund\n",
      "31 -- Mahindra Manulife Overnight Fund\n",
      "32 -- Mahindra Manulife Ultra Short Duration Fund\n",
      "33 -- Mahindra Manulife Short Duration Fund\n",
      "Function Running: get_data\n",
      "Function Running: extract_clipped_data\n",
      "Function Running: extract_span_data\n",
      "Function Running: process_text_data\n",
      "Function Running: create_nested_dict\n"
     ]
    }
   ],
   "source": [
    "\"\"\"MAHINDRA MANULIFE MAIN CODE\"\"\" #incrase pages count\n",
    "\n",
    "amc_id = '26_0'\n",
    "# logging.info(f\"User Ran Fund Data of {amc_name}\")\n",
    "fund_name, path= mutual_fund[amc_id]\n",
    "object = MahindraManu(fund_name,amc_id,path)\n",
    "title,path_pdf = object.check_and_highlight(path)\n",
    "data = object.get_data(path_pdf,title)\n"
   ]
  },
  {
   "cell_type": "code",
   "execution_count": null,
   "metadata": {},
   "outputs": [],
   "source": [
    "object = MahindraManu(fund_name,amc_id,path)\n",
    "extracted_text = object.get_generated_content(data)\n",
    "final_text = object.refine_extracted_data(extracted_text)\n",
    "dfs = object.merge_and_select_data(final_text, map_keys = True, special_handling=True)"
   ]
  },
  {
   "cell_type": "code",
   "execution_count": 88,
   "metadata": {},
   "outputs": [
    {
     "name": "stdout",
     "output_type": "stream",
     "text": [
      "File Saved At: C:\\Users\\Kaustubh.keny\\Projects\\JSON25\\JPY\\26_30-Apr-25_FS.json\n"
     ]
    }
   ],
   "source": [
    "save_path = os.path.join(object.JSONPATH, object.FILE_NAME).replace(\".pdf\", \".json\")\n",
    "with open(save_path, 'w') as f:\n",
    "  json.dump(dfs, f, indent=2)\n",
    "print(f\"File Saved At: {save_path}\")\n",
    "\n",
    "with open(\"data.json\", 'w') as f:\n",
    "  json.dump(final_text, f, indent=2)\n",
    "  \n",
    "with open(\"extract.json\", 'w') as f:\n",
    "  json.dump(extracted_text, f, indent=2)"
   ]
  },
  {
   "cell_type": "code",
   "execution_count": null,
   "metadata": {},
   "outputs": [],
   "source": [
    "\"\"\"MOTILAL OSWAL PASSIVE MAIN CODE FILE\"\"\" #Fund Manager Regex\n",
    "amc_id = '28_1'\n",
    "# logging.info(f\"User Ran Fund Data of {amc_name}\")\n",
    "fund_name, path= mutual_fund[amc_id]\n",
    "object = MotilalOswalPassive(fund_name,amc_id,path)\n",
    "title,path_pdf = object.check_and_highlight(path)\n",
    "data = object.get_data(path_pdf,title)\n",
    "extracted_text = object.get_generated_content(data)\n",
    "final_text = object.refine_extracted_data(extracted_text, flatten=True)\n",
    "# dfs = object.merge_and_select_data(final_text,map_keys = True, special_handling = True)\n",
    "# Helper.quick_json_dump(dfs, object.JSONPATH)"
   ]
  },
  {
   "cell_type": "code",
   "execution_count": null,
   "metadata": {},
   "outputs": [],
   "source": [
    "\"\"\"MOTILAL OSWAL MAIN CODE FILE\"\"\" #Fund Manager Regex\n",
    "\n",
    "amc_id = '28_0'\n",
    "# logging.info(f\"User Ran Fund Data of {amc_name}\")\n",
    "fund_name, path= mutual_fund[amc_id]\n",
    "object = MotilalOswal(fund_name,amc_id,path)\n",
    "title,path_pdf = object.check_and_highlight(path)\n",
    "data = object.get_data(path_pdf,title)\n",
    "extracted_text = object.get_generated_content(data)\n",
    "final_text = object.refine_extracted_data(extracted_text, flatten=True)\n",
    "# dfs = object.merge_and_select_data(final_text,map_keys = True, special_handling = True)\n",
    "# Helper.quick_json_dump(dfs, object.JSONPATH)"
   ]
  },
  {
   "cell_type": "code",
   "execution_count": 34,
   "metadata": {},
   "outputs": [
    {
     "name": "stdout",
     "output_type": "stream",
     "text": [
      "Function Running: refine_extracted_data\n"
     ]
    }
   ],
   "source": [
    "object = MotilalOswalPassive(fund_name,amc_id,path)\n",
    "final_text = object.refine_extracted_data(extracted_text, flatten=True)\n",
    "with open(\"test.json\",\"w+\") as file:\n",
    "    json.dump(final_text,file)"
   ]
  },
  {
   "cell_type": "code",
   "execution_count": null,
   "metadata": {},
   "outputs": [],
   "source": [
    "\"\"\"MIRAE MAIN FILE CODE PASSIVE\"\"\"\n",
    "\n",
    "amc_id = '27_1'\n",
    "# logging.info(f\"User Ran Fund Data of {amc_name}\")\n",
    "fund_name, path= mutual_fund[amc_id]\n",
    "object = MIRAE(fund_name,amc_id,path)\n",
    "title,path_pdf = object.check_and_highlight(path)\n",
    "data = object.get_data(path_pdf,title)\n",
    "extracted_text = object.get_generated_content(data)\n",
    "final_text = object.refine_extracted_data(extracted_text, flatten=True)\n",
    "# dfs = object.merge_and_select_data(final_text,map_keys = True, special_handling = True)\n",
    "# Helper.quick_json_dump(dfs, object.JSONPATH)"
   ]
  },
  {
   "cell_type": "code",
   "execution_count": null,
   "metadata": {},
   "outputs": [],
   "source": [
    "\"\"\"MIRAE MAIN FILE CODE\"\"\"\n",
    "amc_id = '27_0'\n",
    "# logging.info(f\"User Ran Fund Data of {amc_name}\")\n",
    "fund_name, path= mutual_fund[amc_id]\n",
    "object = MIRAE(fund_name,amc_id,path)\n",
    "title,path_pdf = object.check_and_highlight(path)\n",
    "data = object.get_data(path_pdf,title)\n",
    "extracted_text = object.get_generated_content(data)\n",
    "final_text = object.refine_extracted_data(extracted_text, flatten=True)\n",
    "dfs = object.merge_and_select_data(final_text,map_keys = True, special_handling = True)\n",
    "# Helper.quick_json_dump(dfs, object.JSONPATH)"
   ]
  },
  {
   "cell_type": "code",
   "execution_count": null,
   "metadata": {},
   "outputs": [],
   "source": [
    "\"\"\"NAVI MAIN FILE CODE\"\"\" #Issue: Left and right\n",
    "\n",
    "amc_id = '56_0'\n",
    "# logging.info(f\"User Ran Fund Data of {amc_name}\")\n",
    "fund_name, path= mutual_fund[amc_id]\n",
    "object = NAVI(fund_name,amc_id,path)\n",
    "title,path_pdf = object.check_and_highlight(path)\n",
    "data = object.get_data(path_pdf,title)\n",
    "extracted_text = object.get_generated_content(data)"
   ]
  },
  {
   "cell_type": "code",
   "execution_count": null,
   "metadata": {},
   "outputs": [
    {
     "name": "stdout",
     "output_type": "stream",
     "text": [
      "Function Running: refine_extracted_data\n"
     ]
    }
   ],
   "source": [
    "object = NAVI(fund_name,amc_id,path)\n",
    "final_text = object.refine_extracted_data(extracted_text, flatten = True)\n",
    "# dfs = object.merge_and_select_data(final_text,map_keys = True,special_handling=True)\n",
    "with open(\"test.json\",\"w+\") as file:\n",
    "    json.dump(extracted_text,file)"
   ]
  },
  {
   "cell_type": "code",
   "execution_count": null,
   "metadata": {},
   "outputs": [],
   "source": [
    "\"NIPPON MAIN FILE CODE\"\n",
    "amc_name = 'Nippon India Mutual Fund'\n",
    "logging.info(f\"User Ran Fund Data of {amc_name}\")\n",
    "path = mutual_fund[amc_name]\n",
    "object = Nippon(amc_name,path)\n",
    "title,path_pdf= object.check_and_highlight(path)\n",
    "\n",
    "data = object.get_data(path_pdf,title)\n",
    "extracted_text = object.get_generated_content(data)\n",
    "\n",
    "final_text = object.refine_extracted_data(extracted_text, flatten = True)\n",
    "dfs = object.merge_and_select_data(final_text, map_keys = True, special_handling=True)\n",
    "Helper.quick_json_dump(dfs,object.JSONPATH)"
   ]
  },
  {
   "cell_type": "code",
   "execution_count": null,
   "metadata": {},
   "outputs": [],
   "source": [
    "\"\"\"NJMF MAIN CODE FILE\"\"\"\n",
    "\n",
    "amc_id = '57_0'\n",
    "# logging.info(f\"User Ran Fund Data of {amc_name}\")\n",
    "fund_name, path= mutual_fund[amc_id]\n",
    "object = NJMF(fund_name,amc_id,path)\n",
    "title,path_pdf = object.check_and_highlight(path)\n",
    "data = object.get_data(path_pdf,title)\n",
    "extracted_text = object.get_generated_content(data)\n",
    "final_text = object.refine_extracted_data(extracted_text)\n",
    "dfs = object.merge_and_select_data(final_text,map_keys = True,special_handling=True)"
   ]
  },
  {
   "cell_type": "code",
   "execution_count": null,
   "metadata": {},
   "outputs": [],
   "source": [
    "\"\"\"OlD BriDGE MAIN CODE\"\"\"\n",
    "amc_name = \"Old Bridge Mutual Fund\"\n",
    "logging.info(f\"User Ran Fund Data of {amc_name}\")\n",
    "path = mutual_fund[amc_name]\n",
    "object = OldBridge(amc_name,path)\n",
    "title,path_pdf = object.check_and_highlight(path)\n",
    "\n",
    "data = object.get_data(path_pdf,title)\n",
    "extracted_text = object.get_generated_content(data)\n",
    "\n",
    "final_text = object.refine_extracted_data(extracted_text, flatten = True)\n",
    "dfs = object.merge_and_select_data(final_text,map_keys= True, special_handling=True)\n",
    "Helper.quick_json_dump(dfs, object.JSONPATH)"
   ]
  },
  {
   "cell_type": "code",
   "execution_count": null,
   "metadata": {},
   "outputs": [],
   "source": [
    "\"\"\"PGIM MAIN FILE CODE\"\"\" #ISSUES: Clean data further\n",
    "\n",
    "amc_id = '7_0'\n",
    "# logging.info(f\"User Ran Fund Data of {amc_name}\")\n",
    "fund_name, path= mutual_fund[amc_id]\n",
    "object = PGIM(fund_name,amc_id,path)\n",
    "title,path_pdf = object.check_and_highlight(path)\n",
    "data = object.get_data(path_pdf,title)\n"
   ]
  },
  {
   "cell_type": "code",
   "execution_count": null,
   "metadata": {},
   "outputs": [],
   "source": [
    "object = PGIM(fund_name,amc_id,path)\n",
    "extracted_text = object.get_generated_content(data)\n",
    "final_text = object.refine_extracted_data(extracted_text)\n",
    "dfs = object.merge_and_select_data(final_text,map_keys= True, special_handling = True)\n"
   ]
  },
  {
   "cell_type": "code",
   "execution_count": null,
   "metadata": {},
   "outputs": [],
   "source": [
    "\"\"\"QUANT MAIN CODE FILE\"\"\"\n",
    "\n",
    "amc_id = '10_0'\n",
    "# logging.info(f\"User Ran Fund Data of {amc_name}\")\n",
    "fund_name, path= mutual_fund[amc_id]\n",
    "object = QuantMF(fund_name,amc_id,path)\n",
    "title,path_pdf = object.check_and_highlight(path)\n",
    "data = object.get_data(path_pdf,title)\n"
   ]
  },
  {
   "cell_type": "code",
   "execution_count": null,
   "metadata": {},
   "outputs": [],
   "source": [
    "object = QuantMF(fund_name,amc_id,path)\n",
    "extracted_text = object.get_generated_content(data)\n",
    "final_text = object.refine_extracted_data(extracted_text)\n",
    "dfs = object.merge_and_select_data(final_text,map_keys = True, special_handling = True)"
   ]
  },
  {
   "cell_type": "code",
   "execution_count": null,
   "metadata": {},
   "outputs": [],
   "source": [
    "\"\"\"QUANTUM MAIN FILE CODE\"\"\"\n",
    "\n",
    "amc_id = '32_0'\n",
    "# logging.info(f\"User Ran Fund Data of {amc_name}\")\n",
    "fund_name, path= mutual_fund[amc_id]\n",
    "object = Quantum(fund_name,amc_id,path)\n",
    "title,path_pdf = object.check_and_highlight(path)\n",
    "data = object.get_data(path_pdf,title)\n",
    "extracted_text = object.get_generated_content(data)\n",
    "final_text = object.refine_extracted_data(extracted_text)\n",
    "dfs = object.merge_and_select_data(final_text,map_keys = True, special_handling = True)\n"
   ]
  },
  {
   "cell_type": "code",
   "execution_count": null,
   "metadata": {},
   "outputs": [],
   "source": [
    "\"\"\"SAMCO PDF FILE MAIN CODE\"\"\" # pages =  [3, 5, 7, 9, 11, 13, 15, 17, 18]\n",
    "\n",
    "amc_id = '58_0'\n",
    "# logging.info(f\"User Ran Fund Data of {amc_name}\")\n",
    "fund_name, path= mutual_fund[amc_id]\n",
    "object = Samco(fund_name,amc_id,path)\n",
    "title,path_pdf = object.check_and_highlight(path)\n",
    "data = object.get_data(path_pdf,title)\n",
    "extracted_text = object.get_generated_content(data)\n",
    "final_text = object.refine_extracted_data(extracted_text)\n",
    "dfs = object.merge_and_select_data(final_text, map_keys = True, special_handling=True)"
   ]
  },
  {
   "cell_type": "code",
   "execution_count": null,
   "metadata": {},
   "outputs": [],
   "source": [
    "\"\"\"SBI PASSIVE PDF FILE MAIN CODE\"\"\" \n",
    "\n",
    "amc_id = '35_1'\n",
    "# logging.info(f\"User Ran Fund Data of {amc_name}\")\n",
    "fund_name, path= mutual_fund[amc_id]\n",
    "object = SBIPassive(fund_name,amc_id,path)\n",
    "title,path_pdf = object.check_and_highlight(path)\n",
    "data = object.get_data(path_pdf,title)\n",
    "extracted_text = object.get_generated_content(data)\n",
    "final_text = object.refine_extracted_data(extracted_text, flatten=True)\n",
    "# dfs = object.merge_and_select_data(final_text,map_keys = True, special_handling = True)\n",
    "# Helper.quick_json_dump(dfs, object.JSONPATH)"
   ]
  },
  {
   "cell_type": "code",
   "execution_count": null,
   "metadata": {},
   "outputs": [],
   "source": [
    "\"\"\"SBI PDF FILE MAIN CODE\"\"\" \n",
    "amc_id = '35_0'\n",
    "# logging.info(f\"User Ran Fund Data of {amc_name}\")\n",
    "fund_name, path= mutual_fund[amc_id]\n",
    "object = SBIPassive(fund_name,amc_id,path)\n",
    "title,path_pdf = object.check_and_highlight(path)\n",
    "data = object.get_data(path_pdf,title)\n",
    "extracted_text = object.get_generated_content(data)\n",
    "final_text = object.refine_extracted_data(extracted_text, flatten=True)\n",
    "# dfs = object.merge_and_select_data(final_text,map_keys = True,special_handling = True)\n",
    "# Helper.quick_json_dump(dfs,object.JSONPATH)"
   ]
  },
  {
   "cell_type": "code",
   "execution_count": null,
   "metadata": {},
   "outputs": [],
   "source": [
    "\"\"\"SUNDARAM MAIN FILE CODE\"\"\"\n",
    "\n",
    "amc_name = 'Sundaram Mutual Fund'\n",
    "logging.info(f\"User Ran Fund Data of {amc_name}\")\n",
    "path = mutual_fund[amc_name]\n",
    "object = Sundaram(amc_name,path)\n",
    "title,path_pdf = object.check_and_highlight(path)\n",
    "\n",
    "data = object.get_data(path_pdf,title)\n",
    "extracted_text = object.get_generated_content(data)"
   ]
  },
  {
   "cell_type": "code",
   "execution_count": 13,
   "metadata": {},
   "outputs": [
    {
     "name": "stdout",
     "output_type": "stream",
     "text": [
      "\n",
      "  JSON saved at C:\\Users\\rando\\OneDrive\\Documents\\mywork-repo\\data\\output\\dump_sundaram_21_43_41.json\n"
     ]
    }
   ],
   "source": [
    "Helper.quick_json_dump(extracted_text,object.JSONPATH)"
   ]
  },
  {
   "cell_type": "code",
   "execution_count": null,
   "metadata": {},
   "outputs": [
    {
     "name": "stdout",
     "output_type": "stream",
     "text": [
      "Function Running: refine_extracted_data\n",
      "Function Running: merge_and_select_data\n",
      "\n",
      "  JSON saved at C:\\Users\\rando\\OneDrive\\Documents\\mywork-repo\\data\\output\\dump_sundaram_21_46_34.json\n"
     ]
    }
   ],
   "source": [
    "object = Sundaram(amc_name,path)\n",
    "final_text = object.refine_extracted_data(extracted_text,flatten = True)\n",
    "dfs = object.merge_and_select_data(final_text, map_keys = True, special_handling=True)\n",
    "Helper.quick_json_dump(dfs,object.JSONPATH)"
   ]
  },
  {
   "cell_type": "code",
   "execution_count": null,
   "metadata": {},
   "outputs": [],
   "source": [
    "\"\"\"TATA FILE MAIN CODE \"\"\"# pages =  [16, 17, 18, 19, 20, 21, 22, 23, 24, 25, 26, 27, 28, 29, 30, 31, 32, 33, 34, 35, 36, 37, 38, 39, 40, 41, 42, 43, 44, 45, 46, 47, 48, 49, 50, 51, 52, 53, 54, 55, 56, 57, 58, 59, 60, 62, 64, 66, 67, 68, 69, 70, 71, 72, 73, 74, 75, 76, 77, 78, 79, 80, 81, 82, 83]\n",
    "\n",
    "amc_id = '38_0'\n",
    "# logging.info(f\"User Ran Fund Data of {amc_name}\")\n",
    "fund_name, path= mutual_fund[amc_id]\n",
    "object = Tata(fund_name,amc_id,path)\n",
    "title,path_pdf = object.check_and_highlight(path)\n",
    "data = object.get_data(path_pdf,title)\n",
    "extracted_text = object.get_generated_content(data)\n",
    "final_text = object.refine_extracted_data(extracted_text, flatten = True)\n",
    "dfs = object.merge_and_select_data(final_text,select=True, map_keys = True, special_handling=True)\n",
    "# Helper.quick_json_dump(dfs, object.JSONPATH)"
   ]
  },
  {
   "cell_type": "code",
   "execution_count": 39,
   "metadata": {},
   "outputs": [
    {
     "name": "stdout",
     "output_type": "stream",
     "text": [
      "Function Running: refine_extracted_data\n",
      "Function Running: merge_and_select_data\n"
     ]
    }
   ],
   "source": [
    "object = Tata(fund_name,amc_id,path)\n",
    "final_text = object.refine_extracted_data(extracted_text, flatten = True)\n",
    "dfs = object.merge_and_select_data(final_text,select=True, map_keys = True, special_handling=True)\n",
    "with open(\"test.json\",\"w+\") as file:\n",
    "    json.dump(dfs,file)"
   ]
  },
  {
   "cell_type": "code",
   "execution_count": null,
   "metadata": {},
   "outputs": [],
   "source": [
    "\"\"\"TAURUS MAIN FILE CODE\"\"\"\n",
    "\n",
    "amc_id = '39_0'\n",
    "# logging.info(f\"User Ran Fund Data of {amc_name}\")\n",
    "fund_name, path= mutual_fund[amc_id]\n",
    "object = Taurus(fund_name,amc_id,path)\n",
    "title,path_pdf= object.check_and_highlight(path)\n",
    "\n",
    "data = object.get_data(path_pdf,title)\n",
    "extracted_text = object.get_generated_content(data)\n",
    "final_text = object.refine_extracted_data(extracted_text)\n",
    "dfs = object.merge_and_select_data(final_text, map_keys = True, special_handling = True)"
   ]
  },
  {
   "cell_type": "code",
   "execution_count": 12,
   "metadata": {},
   "outputs": [
    {
     "name": "stdout",
     "output_type": "stream",
     "text": [
      "File Saved At: C:\\Users\\Kaustubh.keny\\Projects\\JSON25\\JPY\\39_31-Mar-25_FS.json\n"
     ]
    }
   ],
   "source": [
    "save_path = os.path.join(object.JSONPATH, object.FILE_NAME).replace(\".pdf\", \".json\")\n",
    "with open(save_path, 'w') as f:\n",
    "  json.dump(dfs, f, indent=2)\n",
    "print(f\"File Saved At: {save_path}\")\n",
    "\n",
    "with open(\"data.json\", 'w') as f:\n",
    "  json.dump(final_text, f, indent=2)"
   ]
  },
  {
   "cell_type": "code",
   "execution_count": null,
   "metadata": {},
   "outputs": [],
   "source": [
    "\"\"\"TRUST MAIN FILE CODE\"\"\" #Issue: Clean data more, nested dict unload Invest Obj in right #Names coming as headers fund managers\n",
    "amc_id = '55_0'\n",
    "# logging.info(f\"User Ran Fund Data of {amc_name}\")\n",
    "fund_name, path= mutual_fund[amc_id]\n",
    "object = Trust(fund_name,amc_id,path)\n",
    "title,path_pdf = object.check_and_highlight(path)\n",
    "\n",
    "data = object.get_data(path_pdf,title)\n",
    "extracted_text = object.get_generated_content(data)\n",
    "\n",
    "final_text = object.refine_extracted_data(extracted_text)\n",
    "dfs = object.merge_and_select_data(final_text,map_keys = True, special_handling= True)\n"
   ]
  },
  {
   "cell_type": "code",
   "execution_count": null,
   "metadata": {},
   "outputs": [],
   "source": [
    "\"\"\"UTI MAIN FILE CODE\"\"\"\n",
    "\n",
    "amc_id = '41_0'\n",
    "# logging.info(f\"User Ran Fund Data of {amc_name}\")\n",
    "fund_name, path= mutual_fund[amc_id]\n",
    "object = UTI(fund_name,amc_id,path)\n",
    "title,path_pdf = object.check_and_highlight(path)\n",
    "data = object.get_data(path_pdf,title)\n",
    "extracted_text = object.get_generated_content(data)\n",
    "final_text = object.refine_extracted_data(extracted_text, flatten=True)\n",
    "# dfs = object.merge_and_select_data(final_text,map_keys = True, special_handling = True)\n",
    "# Helper.quick_json_dump(dfs, object.JSONPATH)"
   ]
  },
  {
   "cell_type": "code",
   "execution_count": null,
   "metadata": {},
   "outputs": [],
   "source": [
    "\"\"\"UTI MAIN FILE CODE PASSIVE\"\"\"\n",
    "\n",
    "amc_id = '18_0'\n",
    "# logging.info(f\"User Ran Fund Data of {amc_name}\")\n",
    "fund_name, path= mutual_fund[amc_id]\n",
    "object = UTIPassive(fund_name,amc_id,path)\n",
    "title,path_pdf = object.check_and_highlight(path)\n",
    "data = object.get_data(path_pdf,title)\n",
    "extracted_text = object.get_generated_content(data)\n",
    "final_text = object.refine_extracted_data(extracted_text, flatten=True)\n",
    "dfs = object.merge_and_select_data(final_text,map_keys = True, special_handling = True)\n",
    "# Helper.quick_json_dump(dfs, object.JSONPATH)"
   ]
  },
  {
   "cell_type": "code",
   "execution_count": null,
   "metadata": {},
   "outputs": [],
   "source": [
    "\"\"\"UNION MUTUAL FUND\"\"\"\n",
    "\n",
    "amc_id = '40_0'\n",
    "# logging.info(f\"User Ran Fund Data of {amc_name}\")\n",
    "fund_name, path= mutual_fund[amc_id]\n",
    "object = Union(fund_name,amc_id,path)\n",
    "title,path_pdf = object.check_and_highlight(path)\n",
    "data = object.get_data(path_pdf,title)"
   ]
  },
  {
   "cell_type": "code",
   "execution_count": null,
   "metadata": {},
   "outputs": [],
   "source": [
    "object = Union(fund_name,amc_id,path)\n",
    "extracted_text = object.get_generated_content(data)\n",
    "final_text = object.refine_extracted_data(extracted_text)\n",
    "dfs = object.merge_and_select_data(final_text,map_keys = True, special_handling = True)\n"
   ]
  },
  {
   "cell_type": "code",
   "execution_count": null,
   "metadata": {},
   "outputs": [],
   "source": [
    "\"\"\"Unifi MUTUAL FUND\"\"\" #Issues: Major Issue\n",
    "\n",
    "amc_id = '97_0'\n",
    "fund_name, path= mutual_fund[amc_id]\n",
    "object = Unifi(fund_name,amc_id,path)\n",
    "title,path_pdf = object.check_and_highlight(path)\n",
    "data = object.get_data(path_pdf,title)\n",
    "extracted_text = object.get_generated_content(data, is_table=object.MAIN_MAP[\"table\"])\n",
    "final_text = object.refine_extracted_data(extracted_text)\n",
    "dfs = object.merge_and_select_data(final_text,map_keys = True, special_handling = True)\n",
    "# Helper.quick_json_dump(dfs, object.JSONPATH)"
   ]
  },
  {
   "cell_type": "code",
   "execution_count": null,
   "metadata": {},
   "outputs": [],
   "source": [
    "\"\"\"WHITEOAK MUTUAL FUND\"\"\"\n",
    "\n",
    "amc_id = '42_0'\n",
    "fund_name, path= mutual_fund[amc_id]\n",
    "object = WhiteOak(fund_name,amc_id,path)\n",
    "title,path_pdf = object.check_and_highlight(path)\n",
    "data = object.get_data(path_pdf,title)\n",
    "extracted_text = object.get_generated_content(data)\n",
    "final_text = object.refine_extracted_data(extracted_text)"
   ]
  },
  {
   "cell_type": "code",
   "execution_count": null,
   "metadata": {},
   "outputs": [],
   "source": [
    "object = WhiteOak(fund_name,amc_id,path)\n",
    "final_text = object.refine_extracted_data(extracted_text)\n",
    "dfs = object.merge_and_select_data(final_text, map_keys = True, special_handling = True)"
   ]
  },
  {
   "cell_type": "code",
   "execution_count": null,
   "metadata": {},
   "outputs": [],
   "source": [
    "\"\"\"ZERODHA MAIN CODE\"\"\" \n",
    "\n",
    "amc_name = 'Zerodha Mutual Fund'\n",
    "logging.info(f\"User Ran Fund Data of {amc_name}\")\n",
    "path = mutual_fund[amc_name]\n",
    "object = Zerodha(amc_name,path)\n",
    "title,path_pdf= object.check_and_highlight(path)\n",
    "# pages = [3, 5, 7, 9, 11, 13, 15]\n",
    "data = object.get_data(path_pdf,title)\n",
    "extracted_text = object.get_generated_content(data)\n",
    "\n",
    "final_text = object.refine_extracted_data(extracted_text, flatten = True)\n",
    "dfs = object.merge_and_select_data(final_text,map_keys = True, special_handling = True)\n",
    "Helper.quick_json_dump(dfs, object.JSONPATH)"
   ]
  },
  {
   "cell_type": "code",
   "execution_count": null,
   "metadata": {},
   "outputs": [
    {
     "name": "stdout",
     "output_type": "stream",
     "text": [
      "Function Running: check_and_highlight\n",
      "Function Running: _get_normal_title\n",
      "Regex: (HSBC.*?(?:FUND|Fund|ETF|Active|FO?o?F|Index)\\s*(?:of Funds?|Fund of Funds?|Fo?O?F)?)\n",
      "09 -- HSBC Large Cap Fund\n",
      "10 -- HSBC Large and Mid Cap Fund\n",
      "11 -- HSBC Midcap Fund\n",
      "12 -- HSBC Flexi Cap Fund\n",
      "13 -- HSBC Multi Cap Fund\n",
      "14 -- HSBC Small Cap Fund\n",
      "15 -- HSBC Focused Fund\n",
      "16 -- HSBC Infrastructure Fund\n",
      "17 -- HSBC Value Fund\n",
      "18 -- HSBC Business Cycles Fund\n",
      "19 -- HSBC Consumption Fund\n",
      "20 -- HSBC India Export Opportunities Fund\n",
      "21 -- HSBC Financial Services Fund\n",
      "22 -- HSBC Nifty 50 Index\n",
      "23 -- HSBC Nifty Next 50 Index\n",
      "24 -- HSBC ELSS Tax Saver Fund\n",
      "25 -- HSBC Tax Saver Equity Fund\n",
      "26 -- HSBC Aggressive Hybrid Fund\n",
      "27 -- HSBC Multi Asset Allocation Fund\n",
      "28 -- HSBC Balanced Advantage Fund\n",
      "29 -- HSBC Equity Savings Fund\n",
      "30 -- HSBC Arbitrage Fund\n",
      "33 -- HSBC Aggressive Hybrid Active FOF\n",
      "34 -- HSBC Multi Asset Active FOF\n",
      "35 -- HSBC Income Plus Arbitrage Active FOF\n",
      "36 -- HSBC Overnight Fund\n",
      "37 -- HSBC Liquid Fund\n",
      "38 -- HSBC Money Market Fund\n",
      "39 -- HSBC Low Duration Fund\n",
      "40 -- HSBC Ultra Short Duration Fund\n",
      "41 -- HSBC Short Duration Fund\n",
      "42 -- HSBC Medium Duration Fund\n",
      "43 -- HSBC Medium to Long Duration Fund\n",
      "44 -- HSBC Dynamic Bond Fund\n",
      "45 -- HSBC Corporate Bond Fund\n",
      "46 -- HSBC Banking and PSU Debt Fund\n",
      "47 -- HSBC Credit Risk Fund\n",
      "48 -- HSBC Gilt Fund\n",
      "49 -- HSBC Conservative Hybrid Fund\n",
      "50 -- HSBC CRISIL IBX 5050 Gilt Plus SDL Apr 2028 Index\n",
      "51 -- HSBC CRISIL IBX Gilt June 2027 Index\n",
      "Function Running: get_data\n",
      "Function Running: extract_clipped_data\n",
      "Function Running: extract_span_data\n",
      "Function Running: process_text_data\n",
      "Function Running: create_nested_dict\n",
      "Function Running: get_generated_content\n",
      "Parsing Completed, Refining Data.....\n",
      "\n",
      "--<<HSBC Large Cap Fund>>--\n",
      "--<<HSBC Large and Mid Cap Fund>>--\n",
      "--<<HSBC Midcap Fund>>--\n",
      "--<<HSBC Flexi Cap Fund>>--\n",
      "--<<HSBC Multi Cap Fund>>--\n",
      "--<<HSBC Small Cap Fund>>--\n",
      "--<<HSBC Focused Fund>>--\n",
      "--<<HSBC Infrastructure Fund>>--\n",
      "--<<HSBC Value Fund>>--\n",
      "--<<HSBC Business Cycles Fund>>--\n",
      "--<<HSBC Consumption Fund>>--\n",
      "--<<HSBC India Export Opportunities Fund>>--\n",
      "--<<HSBC Financial Services Fund>>--\n",
      "--<<HSBC Nifty 50 Index>>--\n",
      "--<<HSBC Nifty Next 50 Index>>--\n",
      "--<<HSBC ELSS Tax Saver Fund>>--\n",
      "--<<HSBC Tax Saver Equity Fund>>--\n",
      "--<<HSBC Aggressive Hybrid Fund>>--\n",
      "--<<HSBC Multi Asset Allocation Fund>>--\n",
      "--<<HSBC Balanced Advantage Fund>>--\n",
      "--<<HSBC Equity Savings Fund>>--\n",
      "--<<HSBC Arbitrage Fund>>--\n",
      "--<<HSBC Aggressive Hybrid Active FOF>>--\n",
      "--<<HSBC Multi Asset Active FOF>>--\n",
      "--<<HSBC Income Plus Arbitrage Active FOF>>--\n",
      "--<<HSBC Overnight Fund>>--\n",
      "--<<HSBC Liquid Fund>>--\n",
      "--<<HSBC Money Market Fund>>--\n",
      "--<<HSBC Low Duration Fund>>--\n",
      "--<<HSBC Ultra Short Duration Fund>>--\n",
      "--<<HSBC Short Duration Fund>>--\n",
      "--<<HSBC Medium Duration Fund>>--\n",
      "--<<HSBC Medium to Long Duration Fund>>--\n",
      "--<<HSBC Dynamic Bond Fund>>--\n",
      "--<<HSBC Corporate Bond Fund>>--\n",
      "--<<HSBC Banking and PSU Debt Fund>>--\n",
      "--<<HSBC Credit Risk Fund>>--\n",
      "--<<HSBC Gilt Fund>>--\n",
      "--<<HSBC Conservative Hybrid Fund>>--\n",
      "--<<HSBC CRISIL IBX 5050 Gilt Plus SDL Apr 2028 Index>>--\n",
      "--<<HSBC CRISIL IBX Gilt June 2027 Index>>--\n",
      "Function Running: refine_extracted_data\n"
     ]
    }
   ],
   "source": [
    "\"\"\"\"HSBC MAIN FILE CODE\"\"\" # pages = [10, 11, 12, 13, 14, 15, 16, 17, 18, 19, 20, 21, 22, 23, 24, 25, 26, 27, 28, 29, 30, 32, 34, 35, 36, 37, 38, 39, 40, 41, 42, 43, 44, 45, 46, 47, 48, 49]\n",
    "\n",
    "amc_id = '13_0'\n",
    "# logging.info(f\"User Ran Fund Data of {amc_name}\")\n",
    "fund_name, path= mutual_fund[amc_id]\n",
    "object = ThreeSixtyOne(fund_name,amc_id,path)\n",
    "title,path_pdf = object.check_and_highlight(path)\n",
    "data = object.get_data(path_pdf,title)\n",
    "extracted_text = object.get_generated_content(data)\n",
    "final_text = object.refine_extracted_data(extracted_text, flatten=True)\n",
    "dfs = object.merge_and_select_data(final_text,map_keys = True, special_handling = True)\n",
    "# Helper.quick_json_dump(dfs, object.JSONPATH)"
   ]
  },
  {
   "cell_type": "code",
   "execution_count": null,
   "metadata": {},
   "outputs": [],
   "source": [
    "manage = FundHouseManager()\n",
    "for fund in  manage.list_fund_houses():\n",
    "    fund_name = fund\n",
    "    manage.update_fund_house(fund,\"PARAMS_FOR\",fund_name)\n",
    "    print(fund)"
   ]
  },
  {
   "cell_type": "code",
   "execution_count": null,
   "metadata": {},
   "outputs": [],
   "source": [
    "# \"18_0\": \"ThreeSixtyOne\",\n",
    "# \"3_0\": \"AdityaBirla\",\n",
    "# \"96_0\": \"AngelOne\",\n",
    "# \"1_0\": \"AXISMF\",\n",
    "# \"1_1\": \"AXISMFPassive\",\n",
    "# \"59_0\": \"BajajFinServ\",\n",
    "# \"16_0\": \"Bandhan\",\n",
    "# \"5_0\": \"BankOfIndia\",\n",
    "# \"2_0\": \"BarodaBNP\",\n",
    "# \"6_0\": \"Canara\",\n",
    "# \"8_0\": \"DSP\",\n",
    "# \"12_0\": \"HDFC\",\n",
    "# \"12_1\": \"HDFC\",\n",
    "# \"9_0\": \"Edelweiss\",\n",
    "# \"11_0\": \"FranklinTempleton\",\n",
    "# \"20_0\": \"GROWW\",\n",
    "# \"60_0\": \"Helios\",\n",
    "# \"13_0\": \"HSBC\",\n",
    "# \"14_0\": \"ICICI\",\n",
    "# \"14_1\": \"ICICI\",\n",
    "# \"21_0\": \"Invesco\",\n",
    "# \"51_0\": \"ITI\",\n",
    "# \"22_0\": \"JMMF\",\n",
    "# \"23_0\": \"Kotak\",\n",
    "# \"25_0\": \"LIC\",\n",
    "# \"26_0\": \"MahindraManu\",\n",
    "# \"27_0\": \"MIRAE\",\n",
    "# \"27_1\": \"MIRAEPassive\",\n",
    "# \"28_0\": \"MotilalOswal\",\n",
    "# \"28_1\": \"MotilalOswalPassive\",\n",
    "# \"56_0\": \"NAVI\",\n",
    "# \"56_1\": \"NAVIPassive\",\n",
    "# \"33_0\": \"Nippon\",\n",
    "# \"57_0\": \"NJMF\",\n",
    "# \"95_0\": \"OldBridge\",\n",
    "# \"7_0\": \"PGIM\",\n",
    "# \"30_0\": \"PPFAS\",\n",
    "# \"10_0\": \"QuantMF\",\n",
    "# \"32_0\": \"Quantum\",\n",
    "# \"58_0\": \"Samco\",\n",
    "# \"35_0\": \"SBI\",\n",
    "# \"35_1\": \"SBIPassive\",\n",
    "# \"36_0\": \"Shriram\",\n",
    "# \"37_0\": \"Sundaram\",\n",
    "# \"38_0\": \"Tata\",\n",
    "# \"39_0\": \"Taurus\",\n",
    "# \"55_0\": \"Trust\",\n",
    "# \"40_0\": \"Union\",\n",
    "# \"41_0\": \"UTI\",\n",
    "# \"41_1\": \"UTIPassive\",\n",
    "# \"42_0\": \"WhiteOak\",\n",
    "# \"71_0\": \"Zerodha\",\n",
    "# \"97_0\": \"Unifi\""
   ]
  },
  {
   "cell_type": "code",
   "execution_count": null,
   "metadata": {},
   "outputs": [],
   "source": [
    "#  \"Angel One Mutual Fund\": \"AngelOne\",\n",
    "# \"Aditya Birla Sun Life Mutual Fund\": \"AdityaBirla\",\n",
    "# \"Axis Mutual Fund\": \"AXISMF\",\n",
    "# \"Axis Mutual Fund Passive\": \"AXISMFPassive\",\n",
    "# \"Bajaj Finserv Mutual Fund\": \"BajajFinServ\",\n",
    "# \"Bandhan Mutual Fund\": \"Bandhan\",\n",
    "# \"Bank Of India Mutual Fund\": \"BankOfIndia\",\n",
    "# \"Baroda Bnp Paribas Mutual Fund\": \"BarodaBNP\",\n",
    "# \"Canara Robeco Mutual Fund\": \"Canara\",\n",
    "# \"Dsp Mutual Fund\": \"DSP\",\n",
    "# \"Edelweiss Mutual Fund\": \"Edelweiss\",\n",
    "# \"Franklin Templeton Mutual Fund\": \"FranklinTempleton\",\n",
    "# \"Groww Mutual Fund\": \"GROWW\",\n",
    "# \"Hdfc Mutual Fund\": \"HDFC\",\n",
    "# \"Hdfc Mutual Fund Passive\": \"HDFC\",\n",
    "# \"Helios Mutual Fund\": \"Helios\",\n",
    "# \"Hsbc Mutual Fund\": \"HSBC\",\n",
    "# \"Icici Prudential Mutual Fund\": \"ICICI\",\n",
    "# \"Icici Prudential Mutual Fund Passive\": \"ICICI\",\n",
    "# \"Iti Mutual Fund\": \"ITI\",\n",
    "# \"Invesco Mutual Fund\": \"Invesco\",\n",
    "# \"Jm Financial Mutual Fund\": \"JMMF\",\n",
    "# \"Kotak Mahindra Mutual Fund\": \"Kotak\",\n",
    "# \"Lic Mutual Fund\": \"LIC\",\n",
    "# \"Mahindra Manulife Mutual Fund\": \"MahindraManu\",\n",
    "# \"Mirae Asset Mutual Fund\": \"MIRAE\",\n",
    "# \"Mirae Asset Mutual Fund Passive\": \"MIRAEPassive\",\n",
    "# \"Motilal Oswal Mutual Fund\": \"MotilalOswal\",\n",
    "# \"Motilal Oswal Mutual Fund Passive\": \"MotilalOswalPassive\",\n",
    "# \"Nj Mutual Fund\": \"NJMF\",\n",
    "# \"Navi Mutual Fund\": \"NAVI\",\n",
    "# \"Nippon India Mutual Fund\": \"Nippon\",\n",
    "# \"Old Bridge Mutual Fund\": \"OldBridge\",\n",
    "# \"Pgim India Mutual Fund\": \"PGIM\",\n",
    "# \"Ppfas Mutual Fund\": \"PPFAS\",\n",
    "# \"Quant Mutual Fund\": \"QuantMF\",\n",
    "# \"Quantum Mutual Fund\": \"Quantum\",\n",
    "# \"Sbi Mutual Fund\": \"SBI\",\n",
    "# \"Sbi Mutual Fund Passive\": \"SBIPassive\",\n",
    "# \"Samco Mutual Fund\": \"Samco\",\n",
    "# \"Shriram Mutual Fund\": \"Shriram\",\n",
    "# \"Sundaram Mutual Fund\": \"Sundaram\",\n",
    "# \"Tata Mutual Fund\": \"Tata\",\n",
    "# \"Taurus Mutual Fund\": \"Taurus\",\n",
    "# \"Trust Mutual Fund\": \"Trust\",\n",
    "# \"Uti Mutual Fund\": \"UTI\",\n",
    "# \"Union Mutual Fund\": \"Union\",\n",
    "# \"Whiteoak Mutual Fund\": \"WhiteOak\",\n",
    "# \"Zerodha Mutual Fund\": \"Zerodha\""
   ]
  },
  {
   "cell_type": "code",
   "execution_count": null,
   "metadata": {},
   "outputs": [],
   "source": [
    "# 06 -- UTI MUTUAL FUND\n",
    "# 07 -- UTI MUTUAL FUND\n",
    "# 08 -- UTI MUTUAL FUND\n",
    "# 09 -- UTI MUTUAL FUND\n",
    "# 10 -- UTI MUTUAL FUND\n",
    "# 11 -- UTI LARGE CAP FUND (Erstwhile UTI Mastershare Unit Scheme)\n",
    "# 12 -- UTI MID CAP FUND\n",
    "# 13 -- UTI SMALL CAP FUND\n",
    "# 14 -- UTI LARGE & MID CAP FUND (Erstwhile UTI Core Equity Fund)\n",
    "# 15 -- UTI VALUE FUND (Erstwhile UTI Value Opportunities Fund)\n",
    "# 16 -- UTI ELSS TAX SAVER FUND (Erstwhile UTI Long Term Equity Fund (Tax Saving)\n",
    "# 17 -- UTI FOCUSED FUND (Erstwhile UTI Focused Equity Fund)\n",
    "# 18 -- UTI FLEXI CAP FUND\n",
    "# 19 -- UTI INNOVATION FUND\n",
    "# 20 -- UTI DIVIDEND YIELD FUND\n",
    "# 21 -- UTI MNC FUND\n",
    "# 22 -- UTI INDIA CONSUMER FUND\n",
    "# 23 -- UTI INFRASTRUCTURE FUND\n",
    "# 24 -- UTI BANKING & FINANCIAL SERVICES FUND\n",
    "# 25 -- UTI HEALTHCARE FUND\n",
    "# 26 -- UTI TRANSPORTATION & LOGISTICS FUND\n",
    "# 27 -- UTI QUANT FUND\n",
    "# 28 -- UTI NIFTY 50 INDEX FUND\n",
    "# 29 -- UTI NIFTY NEXT 50 INDEX FUND\n",
    "# 30 -- UTI NIFTY 200 MOMENTUM 30 INDEX FUND\n",
    "# 31 -- UTI BSE SENSEX INDEX FUND\n",
    "# 32 -- UTI NIFTY MIDCAP 150 QUALITY 50 INDEX FUND\n",
    "# 33 -- UTI BSE LOW VOLATILITY INDEX FUND\n",
    "# 34 -- UTI NIFTY 50 EQUAL WEIGHT INDEX FUND\n",
    "# 35 -- UTI NIFTY 500 VALUE 50 INDEX FUND\n",
    "# 36 -- UTI BSE HOUSING INDEX FUND\n",
    "# 37 -- UTI NIFTY PRIVATE BANK INDEX FUND\n",
    "# 38 -- UTI NIFTY200 QUALITY 30 INDEX FUND\n",
    "# 39 -- UTI NIFTY ALPHA LOW-VOLATILITY 30 INDEX FUND\n",
    "# 40 -- UTI NIFTY MIDCAP 150 INDEX FUND\n",
    "# 42 -- UTI NIFTY INDIA MANUFACTURING INDEX FUND\n",
    "# 43 -- UTI BALANCED ADVANTAGE FUND\n",
    "# 44 -- UTI BALANCED ADVANTAGE FUND\n",
    "# 45 -- UTI MULTI ASSET ALLOCATION FUND (Erstwhile UTI Multi Asset Fund)\n",
    "# 46 -- UTI MULTI ASSET ALLOCATION FUND (Erstwhile UTI Multi Asset Fund)\n",
    "# 47 -- UTI AGGRESSIVE HYBRID FUND (Erstwhile UTI Hybrid Equity Fund)\n",
    "# 48 -- UTI AGGRESSIVE HYBRID FUND (Erstwhile UTI Hybrid Equity Fund)\n",
    "# 49 -- UTI EQUITY SAVINGS FUND\n",
    "# 50 -- UTI EQUITY SAVINGS FUND\n",
    "# 51 -- UTI ARBITRAGE FUND\n",
    "# 52 -- UTI CONSERVATIVE HYBRID FUND (Erstwhile UTI Regular Savings Fund)\n",
    "# 53 -- UTI CONSERVATIVE HYBRID FUND (Erstwhile UTI Regular Savings Fund)\n",
    "# 54 -- UTI CHILDRENS EQUITY FUND (Erstwhile UTI CCF - Investment Plan)\n",
    "# 55 -- UTI CHILDRENS EQUITY FUND (Erstwhile UTI CCF - Investment Plan)\n",
    "# 56 -- UTI CHILDRENS HYBRID FUND (Erstwhile UTI CCF - Saving Plan)\n",
    "# 57 -- UTI CHILDRENS HYBRID FUND (Erstwhile UTI CCF - Saving Plan)\n",
    "# 58 -- UTI RETIREMENT FUND (Erstwhile UTI Retirement Benefit Pension Fund)\n",
    "# 59 -- UTI RETIREMENT FUND (Erstwhile UTI Retirement Benefit Pension Fund)\n",
    "# 60 -- UTI UNIT LINKED INSURANCE PLAN\n",
    "# 61 -- UTI UNIT LINKED INSURANCE PLAN\n",
    "# 62 -- UTI OVERNIGHT FUND\n",
    "# 63 -- UTI LIQUID FUND (Erstwhile UTI Liquid Cash Plan)\n",
    "# 64 -- UTI MONEY MARKET FUND\n",
    "# 65 -- UTI ULTRA SHORT DURATION FUND (Erstwhile UTI Ultra Short Term Fund)\n",
    "# 66 -- UTI LOW DURATION FUND (Erstwhile UTI Treasury Advantage Fund)\n",
    "# 67 -- UTI SHORT DURATION FUND (Erstwhile UTI Short Term Income Fund)\n",
    "# 68 -- UTI MEDIUM DURATION FUND (Erstwhile UTI Medium Term Fund)\n",
    "# 69 -- UTI MEDIUM DURATION FUND (Erstwhile UTI Medium Term Fund)\n",
    "# 70 -- UTI MEDIUM TO LONG DURATION FUND (Erstwhile UTI Bond Fund)\n",
    "# 71 -- UTI LONG DURATION FUND\n",
    "# 72 -- UTI FLOATER FUND\n",
    "# 73 -- UTI BANKING & PSU FUND (Erstwhile UTI Banking & PSU Debt Fund)\n",
    "# 74 -- UTI CORPORATE BOND FUND\n",
    "# 75 -- UTI DYNAMIC BOND FUND\n",
    "# 76 -- UTI CREDIT RISK FUND\n",
    "# 77 -- UTI CREDIT RISK FUND\n",
    "# 78 -- UTI GILT FUND\n",
    "# 79 -- UTI GILT FUND WITH 10 YEAR CONSTANT DURATION\n",
    "# 80 -- UTI CRISIL SDL MATURITY JUNE 2027 INDEX FUND\n",
    "# 81 -- UTI CRISIL SDL MATURITY APRIL 2033 INDEX FUND\n",
    "# 82 -- UTI NIFTY SDL PLUS AAA PSU BOND APR 2026 7525 INDEX FUND\n",
    "# 83 -- UTI NIFTY SDL PLUS AAA PSU BOND APR 2028 7525 INDEX FUND"
   ]
  }
 ],
 "metadata": {
  "kernelspec": {
   "display_name": ".venv",
   "language": "python",
   "name": "python3"
  },
  "language_info": {
   "codemirror_mode": {
    "name": "ipython",
    "version": 3
   },
   "file_extension": ".py",
   "mimetype": "text/x-python",
   "name": "python",
   "nbconvert_exporter": "python",
   "pygments_lexer": "ipython3",
   "version": "3.13.1"
  }
 },
 "nbformat": 4,
 "nbformat_minor": 2
}
