{
 "cells": [
  {
   "cell_type": "code",
   "execution_count": 1,
   "metadata": {},
   "outputs": [
    {
     "name": "stdout",
     "output_type": "stream",
     "text": [
      "Loaded config with output_folder = MAYJSON\n",
      "C:\\Users\\Kaustubh.keny\\Projects\\PDF\\May 25\n"
     ]
    }
   ],
   "source": [
    "%load_ext autoreload\n",
    "%autoreload 2\n",
    "from app.config_loader import load_config_once\n",
    "\n",
    "conf = load_config_once(output_folder=\"MAYJSON\")\n",
    "\n",
    "import warnings\n",
    "from pandas.errors import SettingWithCopyWarning\n",
    "\n",
    "warnings.simplefilter(action=\"ignore\", category=SettingWithCopyWarning)\n",
    "warnings.filterwarnings(\"ignore\", category=UserWarning)\n",
    "warnings.filterwarnings(\"ignore\", category=FutureWarning)\n",
    "\n",
    "\n",
    "import json, os, logging, datetime,json5,sys, pprint\n",
    "from app.fund_data import *\n",
    "from app.utils import Helper\n",
    "\n",
    "mutual_fund = Helper.get_amc_paths(conf[\"amc_path\"])\n",
    "    \n",
    "# https://www.sebi.gov.in/sebiweb/other/OtherAction.do?doMutualFund=yes&mftype=2"
   ]
  },
  {
   "cell_type": "code",
   "execution_count": null,
   "metadata": {},
   "outputs": [],
   "source": [
    "\"\"\"360 ONE FILE CODE\"\"\"\n",
    "amc_id = '18_0'\n",
    "# logging.info(f\"User Ran Fund Data of {amc_name}\")\n",
    "fund_name, path= mutual_fund[amc_id]\n",
    "object = ThreeSixtyOne(fund_name,amc_id,path)\n",
    "title,path_pdf = object.check_and_highlight(path)\n",
    "data = object.get_data(path_pdf,title)\n",
    "extracted_text = object.get_generated_content(data, is_table=object.MAIN_MAP[\"table\"])\n",
    "final_text = object.refine_extracted_data(extracted_text)\n",
    "dfs = object.merge_and_select_data(final_text,map_keys = True, special_handling = True)"
   ]
  },
  {
   "cell_type": "code",
   "execution_count": null,
   "metadata": {},
   "outputs": [],
   "source": [
    "\"\"\"ANGEL ONE FILE CODE\"\"\"\n",
    "amc_id = '96_0'\n",
    "# logging.info(f\"User Ran Fund Data of {amc_name}\")\n",
    "fund_name, path= mutual_fund[amc_id]\n",
    "object = AngelOne(fund_name,amc_id,path)\n",
    "title,path_pdf = object.check_and_highlight(path)\n",
    "data = object.get_data(path_pdf,title)\n",
    "extracted_text = object.get_generated_content(data)\n",
    "final_text = object.refine_extracted_data(extracted_text)\n",
    "dfs = object.merge_and_select_data(final_text,map_keys = True, special_handling = True)"
   ]
  },
  {
   "cell_type": "code",
   "execution_count": null,
   "metadata": {},
   "outputs": [],
   "source": [
    "save_path = os.path.join(object.JSONPATH, object.FILE_NAME).replace(\".pdf\", \".json\")\n",
    "with open(save_path, 'w') as f:\n",
    "  json.dump(dfs, f, indent=2)\n",
    "print(f\"File Saved At: {save_path}\")\n",
    "\n",
    "with open(\"data.json\", 'w') as f:\n",
    "  json.dump(final_text, f, indent=2)\n",
    "  \n",
    "with open(\"extract.json\", 'w') as f:\n",
    "  json.dump(extracted_text, f, indent=2)\n",
    "\n",
    "with open(save_path, 'r') as f:\n",
    "  data = json.load(f)\n",
    "\n",
    "for record in data[\"records\"]:\n",
    "    print(record['value']['main_scheme_name'])\n",
    "    "
   ]
  },
  {
   "cell_type": "code",
   "execution_count": null,
   "metadata": {},
   "outputs": [],
   "source": [
    "\"\"\"SHRIRAM MAIN FILE CODE\"\"\"\n",
    "amc_id = '36_0'\n",
    "# logging.info(f\"User Ran Fund Data of {amc_name}\")\n",
    "fund_name, path= mutual_fund[amc_id]\n",
    "object = Shriram(fund_name,amc_id,path)\n",
    "title,path_pdf = object.check_and_highlight(path)\n",
    "data = object.get_data(path_pdf,title)\n",
    "extracted_text = object.get_generated_content(data)\n",
    "final_text = object.refine_extracted_data(extracted_text)\n",
    "dfs = object.merge_and_select_data(final_text,map_keys = True, special_handling = True)"
   ]
  },
  {
   "cell_type": "code",
   "execution_count": null,
   "metadata": {},
   "outputs": [],
   "source": [
    "\"\"\"PPFAS MAIN FILE CODE\"\"\"\n",
    "\n",
    "amc_id = '30_0'\n",
    "# logging.info(f\"User Ran Fund Data of {amc_name}\")\n",
    "fund_name, path= mutual_fund[amc_id]\n",
    "object = PPFAS(fund_name,amc_id,path)\n",
    "title,path_pdf = object.check_and_highlight(path)\n",
    "data = object.get_data(path_pdf,title)\n",
    "extracted_text = object.get_generated_content(data)\n",
    "final_text = object.refine_extracted_data(extracted_text)\n",
    "dfs = object.merge_and_select_data(final_text,map_keys = True, special_handling = True)"
   ]
  },
  {
   "cell_type": "code",
   "execution_count": 107,
   "metadata": {},
   "outputs": [
    {
     "name": "stdout",
     "output_type": "stream",
     "text": [
      "Function Running: refine_extracted_data\n",
      "Function Running: merge_and_select_data\n"
     ]
    }
   ],
   "source": [
    "object = PPFAS(fund_name,amc_id,path)\n",
    "final_text = object.refine_extracted_data(extracted_text)\n",
    "dfs = object.merge_and_select_data(final_text,map_keys = True, special_handling = True)"
   ]
  },
  {
   "cell_type": "code",
   "execution_count": 108,
   "metadata": {},
   "outputs": [
    {
     "name": "stdout",
     "output_type": "stream",
     "text": [
      "File Saved At: C:\\Users\\Kaustubh.keny\\Projects\\JSON25\\JPY\\30_30-Apr-25_FS.json\n"
     ]
    }
   ],
   "source": [
    "save_path = os.path.join(object.JSONPATH, object.FILE_NAME).replace(\".pdf\", \".json\")\n",
    "with open(save_path, 'w') as f:\n",
    "  json.dump(dfs, f, indent=2)\n",
    "print(f\"File Saved At: {save_path}\")\n",
    "\n",
    "with open(\"data.json\", 'w') as f:\n",
    "  json.dump(final_text, f, indent=2)\n",
    "  \n",
    "with open(\"extract.json\", 'w') as f:\n",
    "  json.dump(extracted_text, f, indent=2)"
   ]
  },
  {
   "cell_type": "code",
   "execution_count": null,
   "metadata": {},
   "outputs": [],
   "source": [
    "'''AXIS ONE PASSIVE MAIN FILE CODE'''\n",
    "amc_id = '1_1'\n",
    "# logging.info(f\"User Ran Fund Data of {amc_name}\")\n",
    "fund_name, path= mutual_fund[amc_id]\n",
    "object = AXISMFPassive(fund_name,amc_id,path)\n",
    "title,path_pdf = object.check_and_highlight(path)\n",
    "data = object.get_data(path_pdf,title)\n",
    "extracted_text = object.get_generated_content(data)\n",
    "# final_text = object.refine_extracted_data(extracted_text)\n",
    "# dfs = object.merge_and_select_data(final_text,map_keys = True, special_handling = True)\n",
    "# with open(save_path, 'w') as f:\n",
    "#   json.dump(dfs, f, indent=2)\n",
    "# print(f\"File Saved At: {save_path}\")"
   ]
  },
  {
   "cell_type": "code",
   "execution_count": 20,
   "metadata": {},
   "outputs": [],
   "source": [
    "annot_path = r\"C:\\Users\\Kaustubh.keny\\Projects\\PDF\\Apr 25\\Axis Mutual Fund\\axis_active.json\"\n",
    "with open(annot_path, \"r\") as file:\n",
    "    annot = json.load(file)"
   ]
  },
  {
   "cell_type": "code",
   "execution_count": 2,
   "metadata": {},
   "outputs": [
    {
     "name": "stdout",
     "output_type": "stream",
     "text": [
      "Function Running: check_and_highlight\n",
      "Function Running: _get_normal_title\n",
      "Regex: (AXIS.*?(?:FUNDS?|ETF[Ss]?|INDEX|PLAN|PATH)\\s*(?:OF FUNDS?|F[Oo]F|FUNDS?|FUND OF FUNDS?|.+?PLAN)?)\n",
      "07 -- AXIS LARGE CAP FUND\n",
      "08 -- AXIS FOCUSED FUND\n",
      "09 -- AXIS ELSS TAX SAVER FUND\n",
      "10 -- AXIS LARGE & MID CAP FUND\n",
      "11 -- AXIS FLEXI CAP FUND\n",
      "12 -- AXIS MULTICAP FUND\n",
      "13 -- AXIS MIDCAP FUND\n",
      "14 -- AXIS INNOVATION FUND\n",
      "15 -- AXIS SMALL CAP FUND\n",
      "16 -- AXIS ESG INTEGRATION STRATEGY FUND\n",
      "17 -- AXIS QUANT FUND\n",
      "18 -- AXIS VALUE FUND\n",
      "19 -- AXIS BUSINESS CYCLES FUND\n",
      "20 -- AXIS INDIA MANUFACTURING FUND\n",
      "21 -- AXIS CONSUMPTION FUND\n",
      "22 -- AXIS MOMENTUM FUND\n",
      "23 -- AXIS NIFTY 50 ETF\n",
      "24 -- AXIS NIFTY BANK ETF\n",
      "25 -- AXIS NIFTY IT ETF\n",
      "26 -- AXIS NIFTY HEALTHCARE ETF\n",
      "27 -- AXIS NIFTY INDIA CONSUMPTION ETF\n",
      "28 -- AXIS BSE SENSEX ETF\n",
      "29 -- AXIS NIFTY500 VALUE 50 ETF\n",
      "30 -- AXIS NIFTY 100 INDEX FUND\n",
      "31 -- AXIS NIFTY 50 INDEX FUND\n",
      "32 -- AXIS BSE SENSEX INDEX FUND\n",
      "33 -- AXIS NIFTY NEXT 50 INDEX FUND\n",
      "34 -- AXIS NIFTY SMALLCAP 50 INDEX FUND\n",
      "35 -- AXIS NIFTY MIDCAP 50 INDEX FUND\n",
      "36 -- AXIS NIFTY IT INDEX FUND\n",
      "37 -- AXIS NIFTY BANK INDEX FUND\n",
      "38 -- AXIS NIFTY 500 INDEX FUND\n",
      "39 -- AXIS NIFTY500 VALUE 50 INDEX FUND\n",
      "40 -- AXIS NIFTY500 MOMENTUM 50 INDEX FUND\n",
      "41 -- AXIS EQUITY ETFS FOF\n",
      "42 -- AXIS GLOBAL EQUITY ALPHA FUND OF FUND\n",
      "43 -- AXIS GREATER CHINA EQUITY FUND OF FUND\n",
      "44 -- AXIS GLOBAL INNOVATION FUND OF FUND\n",
      "45 -- AXIS NASDAQ 100 FUND OF FUND\n",
      "47 -- AXIS OVERNIGHT FUND\n",
      "49 -- AXIS LIQUID FUND\n",
      "51 -- AXIS ULTRA SHORT DURATION FUND\n",
      "53 -- AXIS FLOATER FUND\n",
      "55 -- AXIS TREASURY ADVANTAGE FUND\n",
      "57 -- AXIS MONEY MARKET FUND\n",
      "59 -- AXIS CORPORATE BOND FUND\n",
      "61 -- AXIS BANKING & PSU DEBT FUND\n",
      "63 -- AXIS SHORT DURATION FUND\n",
      "65 -- AXIS CREDIT RISK FUND\n",
      "67 -- AXIS DYNAMIC BOND FUND\n",
      "69 -- AXIS STRATEGIC BOND FUND\n",
      "71 -- AXIS LONG DURATION FUND\n",
      "73 -- AXIS GILT FUND\n",
      "74 -- AXIS NIFTY AAA BOND PLUS SDL APR 2026 5050 ETF\n",
      "76 -- AXIS NIFTY AAA BOND PLUS SDL APR 2026 5050 ETF FOF\n",
      "77 -- AXIS US TREASURY DYNAMIC BOND ETF FUND\n",
      "78 -- AXIS CRISIL IBX SDL MAY 2027 INDEX FUND\n",
      "80 -- AXIS NIFTY SDL SEPTEMBER 2026 DEBT INDEX FUND\n",
      "81 -- AXIS CRISIL IBX 5050 GILT PLUS SDL JUNE 2028 INDEX FUND\n",
      "82 -- AXIS CRISIL IBX 5050 GILT PLUS SDL SEPTEMBER 2027 INDEX FUND\n",
      "83 -- AXIS CRISIL IBX SDL JUNE 2034 DEBT INDEX FUND\n",
      "84 -- AXIS CRISIL-IBX AAA BOND NBFC - JUN 2027 INDEX FUND\n",
      "85 -- AXIS CRISIL-IBX AAA BOND FINANCIAL SERVICES - SEP 2027 INDEX FUND\n",
      "86 -- AXIS CRISIL-IBX AAA BOND NBFC-HFC - JUN 2027 INDEX FUND\n",
      "89 -- AXIS CONSERVATIVE HYBRID FUND\n",
      "91 -- AXIS EQUITY SAVINGS FUND\n",
      "93 -- AXIS MULTI ASSET ALLOCATION FUND\n",
      "95 -- AXIS AGGRESSIVE HYBRID FUND\n",
      "97 -- AXIS CHILDRENS FUND\n",
      "99 -- AXIS BALANCED ADVANTAGE FUND\n",
      "101 -- AXIS ARBITRAGE FUND\n",
      "103 -- AXIS RETIREMENT FUND - AGGRESSIVE PLAN\n",
      "105 -- AXIS RETIREMENT FUND - DYNAMIC PLAN\n",
      "107 -- AXIS RETIREMENT FUND - CONSERVATIVE PLAN\n",
      "111 -- AXIS GOLD FUND\n",
      "112 -- AXIS SILVER ETF\n",
      "113 -- AXIS GOLD ETF\n",
      "114 -- AXIS SILVER FUND OF FUND\n"
     ]
    },
    {
     "ename": "NameError",
     "evalue": "name 'annot' is not defined",
     "output_type": "error",
     "traceback": [
      "\u001b[1;31m---------------------------------------------------------------------------\u001b[0m",
      "\u001b[1;31mNameError\u001b[0m                                 Traceback (most recent call last)",
      "Cell \u001b[1;32mIn[2], line 7\u001b[0m\n\u001b[0;32m      5\u001b[0m \u001b[38;5;28mobject\u001b[39m \u001b[38;5;241m=\u001b[39m AXISMF(fund_name,amc_id,path)\n\u001b[0;32m      6\u001b[0m title,path_pdf \u001b[38;5;241m=\u001b[39m \u001b[38;5;28mobject\u001b[39m\u001b[38;5;241m.\u001b[39mcheck_and_highlight(path)\n\u001b[1;32m----> 7\u001b[0m data \u001b[38;5;241m=\u001b[39m \u001b[38;5;28mobject\u001b[39m\u001b[38;5;241m.\u001b[39mget_data(path_pdf,title,\u001b[43mannot\u001b[49m)\n",
      "\u001b[1;31mNameError\u001b[0m: name 'annot' is not defined"
     ]
    }
   ],
   "source": [
    "'''AXIS ONE ACTIVE MAIN FILE CODE''' #No issues as of now\n",
    "amc_id = '1_0'\n",
    "# logging.info(f\"User Ran Fund Data of {amc_name}\")\n",
    "fund_name, path= mutual_fund[amc_id]\n",
    "object = AXISMF(fund_name,amc_id,path)\n",
    "title,path_pdf = object.check_and_highlight(path)\n",
    "data = object.get_data(path_pdf,title,annot)"
   ]
  },
  {
   "cell_type": "code",
   "execution_count": null,
   "metadata": {},
   "outputs": [],
   "source": [
    "object = AXISMF(fund_name,amc_id,path)\n",
    "extracted_text = object.get_generated_content(data)\n",
    "final_text = object.refine_extracted_data(extracted_text)\n",
    "dfs = object.merge_and_select_data(final_text, map_keys = True, special_handling=True)"
   ]
  },
  {
   "cell_type": "code",
   "execution_count": null,
   "metadata": {},
   "outputs": [],
   "source": [
    "\"\"\"ADITYA BIRLA FILE CODE\"\"\"\n",
    "amc_id = '3_0'\n",
    "# logging.info(f\"User Ran Fund Data of {amc_name}\")\n",
    "fund_name, path= mutual_fund[amc_id]\n",
    "object = AdityaBirla(fund_name,amc_id,path)\n",
    "title,path_pdf = object.check_and_highlight(path)\n",
    "data = object.get_data(path_pdf,title)"
   ]
  },
  {
   "cell_type": "code",
   "execution_count": null,
   "metadata": {},
   "outputs": [],
   "source": [
    "object = AdityaBirla(fund_name,amc_id,path)\n",
    "extracted_text = object.get_generated_content(data)\n",
    "final_text = object.refine_extracted_data(extracted_text)\n",
    "dfs = object.merge_and_select_data(final_text,map_keys = True,special_handling=True)"
   ]
  },
  {
   "cell_type": "code",
   "execution_count": null,
   "metadata": {},
   "outputs": [],
   "source": [
    "\"\"\"BANDHAN MF FILE MAIN CODE\"\"\"\n",
    "amc_id = '16_0'\n",
    "# logging.info(f\"User Ran Fund Data of {amc_name}\")\n",
    "fund_name, path= mutual_fund[amc_id]\n",
    "object = Bandhan(fund_name,amc_id,path)\n",
    "title,path_pdf = object.check_and_highlight(path)\n",
    "data  = object.get_data(path_pdf,title)\n"
   ]
  },
  {
   "cell_type": "code",
   "execution_count": 128,
   "metadata": {},
   "outputs": [
    {
     "name": "stdout",
     "output_type": "stream",
     "text": [
      "Function Running: get_generated_content\n",
      "\tParsing Completed, Refining Data.....\n",
      "Function Running: refine_extracted_data\n",
      "Function Running: merge_and_select_data\n"
     ]
    }
   ],
   "source": [
    "object = Bandhan(fund_name,amc_id,path)\n",
    "extracted_text = object.get_generated_content(data)\n",
    "final_text = object.refine_extracted_data(extracted_text)\n",
    "dfs = object.merge_and_select_data(final_text, map_keys = True, special_handling = True)"
   ]
  },
  {
   "cell_type": "code",
   "execution_count": null,
   "metadata": {},
   "outputs": [],
   "source": [
    "\"\"\" BARODA BNP MAIN FILE CODE\"\"\"\n",
    "\n",
    "amc_name = 'Baroda Bnp Paribas Mutual Fund'\n",
    "logging.info(f\"User Ran Fund Data of {amc_name}\")\n",
    "path = mutual_fund[amc_name]\n",
    "object = BarodaBNP(amc_name,path)\n",
    "title,path_pdf= object.check_and_highlight(path)"
   ]
  },
  {
   "cell_type": "code",
   "execution_count": null,
   "metadata": {},
   "outputs": [],
   "source": [
    "data  = object.get_data(path_pdf,title)\n",
    "extracted_text = object.get_generated_content(data)"
   ]
  },
  {
   "cell_type": "code",
   "execution_count": null,
   "metadata": {},
   "outputs": [],
   "source": [
    "object = BarodaBNP(amc_name,path)\n",
    "final_text = object.refine_extracted_data(extracted_text, flatten = True)\n",
    "dfs = object.merge_and_select_data(final_text, select = True, map_keys = True, special_handling = True)\n",
    "Helper.quick_json_dump(dfs, object.JSONPATH)"
   ]
  },
  {
   "cell_type": "code",
   "execution_count": null,
   "metadata": {},
   "outputs": [],
   "source": [
    "\"\"\"BANK OF INDIA\"\"\" #Regex# pages =[6, 7, 8, 9, 10, 11, 12, 13, 14, 15, 16, 17, 18, 19, 20, 21, 22, 23, 24]\n",
    "\n",
    "amc_id = '5_0'\n",
    "# logging.info(f\"User Ran Fund Data of {amc_name}\")\n",
    "fund_name, path= mutual_fund[amc_id]\n",
    "object = BankOfIndia(fund_name,amc_id,path)\n",
    "title,path_pdf = object.check_and_highlight(path)\n",
    "data = object.get_data(path_pdf,title)\n",
    "extracted_text = object.get_generated_content(data)\n"
   ]
  },
  {
   "cell_type": "code",
   "execution_count": 35,
   "metadata": {},
   "outputs": [
    {
     "name": "stdout",
     "output_type": "stream",
     "text": [
      "Function Running: refine_extracted_data\n",
      "Function Running: merge_and_select_data\n"
     ]
    }
   ],
   "source": [
    "object = BankOfIndia(fund_name,amc_id,path)\n",
    "final_text = object.refine_extracted_data(extracted_text)\n",
    "dfs = object.merge_and_select_data(final_text, map_keys = True, special_handling=True)"
   ]
  },
  {
   "cell_type": "code",
   "execution_count": null,
   "metadata": {},
   "outputs": [],
   "source": [
    "\"\"\"BAJAJ FINSERV MAIN FILE CODE\"\"\" \n",
    "\n",
    "amc_id = \"59_0\"\n",
    "# logging.info(f\"User Ran Fund Data of {amc_name}\")\n",
    "fund_name, path= mutual_fund[amc_id]\n",
    "object = BajajFinServ(fund_name,amc_id,path)\n",
    "title,path_pdf= object.check_and_highlight(path)\n",
    "data = object.get_data(path_pdf,title)\n",
    "extracted_text = object.get_generated_content(data,is_table= object.MAIN_MAP[\"table\"])\n"
   ]
  },
  {
   "cell_type": "code",
   "execution_count": null,
   "metadata": {},
   "outputs": [],
   "source": [
    "object = BajajFinServ(fund_name,amc_id,path)\n",
    "final_text = object.refine_extracted_data(extracted_text)\n",
    "dfs = object.merge_and_select_data(final_text,map_keys = True, special_handling=True)"
   ]
  },
  {
   "cell_type": "code",
   "execution_count": null,
   "metadata": {},
   "outputs": [],
   "source": [
    "\"\"\"CANARA MUTUAL FUND\"\"\"\n",
    "amc_id = '6_0'\n",
    "# logging.info(f\"User Ran Fund Data of {amc_name}\")\n",
    "fund_name, path= mutual_fund[amc_id]\n",
    "object = Canara(fund_name,amc_id,path)\n",
    "title,path_pdf = object.check_and_highlight(path)\n",
    "data = object.get_data(path_pdf,title)"
   ]
  },
  {
   "cell_type": "code",
   "execution_count": 25,
   "metadata": {},
   "outputs": [
    {
     "name": "stdout",
     "output_type": "stream",
     "text": [
      "Function Running: refine_extracted_data\n",
      "Function Running: merge_and_select_data\n"
     ]
    }
   ],
   "source": [
    "object =  Canara(fund_name,amc_id,path)\n",
    "extracted_text = object.get_generated_content(data)\n",
    "final_text = object.refine_extracted_data(extracted_text)\n",
    "dfs = object.merge_and_select_data(final_text,map_keys = True, special_handling=True)\n"
   ]
  },
  {
   "cell_type": "code",
   "execution_count": null,
   "metadata": {},
   "outputs": [],
   "source": [
    "\"\"\"DSP MAIN FILE CODE\"\"\"\n",
    "\n",
    "amc_id = '8_0'\n",
    "# logging.info(f\"User Ran Fund Data of {amc_name}\")\n",
    "fund_name, path= mutual_fund[amc_id]\n",
    "object = DSP(fund_name,amc_id,path)\n",
    "title,path_pdf = object.check_and_highlight(path)\n",
    "data = object.get_data(path_pdf,title)"
   ]
  },
  {
   "cell_type": "code",
   "execution_count": 62,
   "metadata": {},
   "outputs": [
    {
     "name": "stdout",
     "output_type": "stream",
     "text": [
      "Function Running: refine_extracted_data\n",
      "Function Running: merge_and_select_data\n"
     ]
    }
   ],
   "source": [
    "object = DSP(fund_name,amc_id,path)\n",
    "# extracted_text = object.get_generated_content(data)\n",
    "final_text = object.refine_extracted_data(extracted_text)\n",
    "dfs = object.merge_and_select_data(final_text,map_keys = True,special_handling = True)\n"
   ]
  },
  {
   "cell_type": "code",
   "execution_count": null,
   "metadata": {},
   "outputs": [],
   "source": [
    "\"\"\"EDELWEISS MP FILE MAIN CODE\"\"\"\n",
    "\n",
    "amc_id = '9_0'\n",
    "# logging.info(f\"User Ran Fund Data of {amc_name}\")\n",
    "fund_name, path= mutual_fund[amc_id]\n",
    "object = Edelweiss(fund_name,amc_id,path)\n",
    "title,path_pdf = object.check_and_highlight(path)\n",
    "data = object.get_data(path_pdf,title)\n"
   ]
  },
  {
   "cell_type": "code",
   "execution_count": 65,
   "metadata": {},
   "outputs": [
    {
     "name": "stdout",
     "output_type": "stream",
     "text": [
      "Function Running: get_generated_content\n",
      "\tParsing Completed, Refining Data.....\n",
      "Function Running: refine_extracted_data\n",
      "Function Running: merge_and_select_data\n"
     ]
    }
   ],
   "source": [
    "object = Edelweiss(fund_name,amc_id,path)\n",
    "extracted_text = object.get_generated_content(data)\n",
    "final_text = object.refine_extracted_data(extracted_text)\n",
    "dfs = object.merge_and_select_data(final_text,map_keys = True, special_handling=True)\n"
   ]
  },
  {
   "cell_type": "code",
   "execution_count": null,
   "metadata": {},
   "outputs": [],
   "source": [
    "\"\"\"FRANKLIN TEMPLETON FILE MAIN CODE\"\"\"\n",
    "\n",
    "amc_id = '11_0'\n",
    "# logging.info(f\"User Ran Fund Data of {amc_name}\")\n",
    "fund_name, path= mutual_fund[amc_id]\n",
    "object = FranklinTempleton(fund_name,amc_id,path)\n",
    "title,path_pdf = object.check_and_highlight(path)\n",
    "data = object.get_data(path_pdf,title)\n"
   ]
  },
  {
   "cell_type": "code",
   "execution_count": null,
   "metadata": {},
   "outputs": [],
   "source": [
    "object = FranklinTempleton(fund_name,amc_id,path)\n",
    "extracted_text = object.get_generated_content(data)\n",
    "final_text = object.refine_extracted_data(extracted_text)\n",
    "dfs = object.merge_and_select_data(final_text,map_keys = True, special_handling=True)\n"
   ]
  },
  {
   "cell_type": "code",
   "execution_count": null,
   "metadata": {},
   "outputs": [],
   "source": []
  },
  {
   "cell_type": "code",
   "execution_count": null,
   "metadata": {},
   "outputs": [],
   "source": [
    "\"\"\"GROWW MUTUAL FUND MAIN CODE\"\"\"# pages = [13, 14, 15, 16, 17, 18, 19, 20, 21, 22, 23, 24, 26, 28, 29, 30, 32, 33, 34, 35, 36, 37, 38, 39, 40, 41, 42]\n",
    "\n",
    "amc_id = '20_0'\n",
    "# logging.info(f\"User Ran Fund Data of {amc_name}\")\n",
    "fund_name, path= mutual_fund[amc_id]\n",
    "object = GROWW(fund_name,amc_id,path)\n",
    "title,path_pdf = object.check_and_highlight(path)\n",
    "data = object.get_data(path_pdf,title)\n",
    "extracted_text = object.get_generated_content(data)"
   ]
  },
  {
   "cell_type": "code",
   "execution_count": null,
   "metadata": {},
   "outputs": [],
   "source": [
    "\"\"\"HDFC MUTUAL FUND\"\"\" # pages = [5, 6, 8, 10, 11, 12, 13, 14, 15, 16, 17, 18, 19, 20, 21, 22, 23, 24, 25, 26, 27, 28, 29, 30, 31, 32, 33, 34, 35, 36, 37, 38, 39, 40, 41, 42, 43, 44, 45, 46, 47, 48, 49, 50, 51]\n",
    "\n",
    "amc_name = \"Hdfc Mutual Fund\"\n",
    "logging.info(f\"User Ran Fund Data of {amc_name}\")\n",
    "path = mutual_fund[amc_name]\n",
    "object = HDFC(amc_name,path)\n",
    "title,path_pdf= object.check_and_highlight(path)\n",
    "\n",
    "data = object.get_data(path_pdf,title)\n",
    "extracted_text = object.get_generated_content(data)"
   ]
  },
  {
   "cell_type": "code",
   "execution_count": null,
   "metadata": {},
   "outputs": [],
   "source": [
    "object = HDFC(amc_name,path)\n",
    "final_text = object.refine_extracted_data(extracted_text,flatten = True)\n",
    "dfs = object.merge_and_select_data(final_text, select = True,map_keys = True,special_handling = True)\n",
    "Helper.quick_json_dump(dfs,object.JSONPATH)"
   ]
  },
  {
   "cell_type": "code",
   "execution_count": null,
   "metadata": {},
   "outputs": [],
   "source": [
    "\"\"\"HDFC MUTUAL FUND PASSIVE\"\"\" # pages = [5, 6, 8, 10, 11, 12, 13, 14, 15, 16, 17, 18, 19, 20, 21, 22, 23, 24, 25, 26, 27, 28, 29, 30, 31, 32, 33, 34, 35, 36, 37, 38, 39, 40, 41, 42, 43, 44, 45, 46, 47, 48, 49, 50, 51]\n",
    "\n",
    "amc_name = \"Hdfc Mutual Fund Passive\"\n",
    "logging.info(f\"User Ran Fund Data of {amc_name}\")\n",
    "path = mutual_fund[amc_name]\n",
    "object = HDFC(amc_name,path)\n",
    "title,path_pdf= object.check_and_highlight(path)\n",
    "\n",
    "data = object.get_data(path_pdf,title)\n",
    "extracted_text = object.get_generated_content(data)\n",
    "final_text = object.refine_extracted_data(extracted_text,flatten = True)\n",
    "dfs = object.merge_and_select_data(final_text, select = True,map_keys = True,special_handling=True)\n",
    "Helper.quick_json_dump(dfs,object.JSONPATH)"
   ]
  },
  {
   "cell_type": "code",
   "execution_count": null,
   "metadata": {},
   "outputs": [],
   "source": [
    "\"\"\"HELIOS MF FILE MAIN CODE\"\"\" # pages = [2, 4, 6, 8,10]\n",
    "\n",
    "amc_id = '60_0'\n",
    "# logging.info(f\"User Ran Fund Data of {amc_name}\")\n",
    "fund_name, path= mutual_fund[amc_id]\n",
    "object = Helios(fund_name,amc_id,path)\n",
    "title,path_pdf = object.check_and_highlight(path)\n",
    "data = object.get_data(path_pdf,title)\n",
    "extracted_text = object.get_generated_content(data)\n",
    "final_text = object.refine_extracted_data(extracted_text)\n",
    "dfs = object.merge_and_select_data(final_text,map_keys = True, special_handling = True)\n"
   ]
  },
  {
   "cell_type": "code",
   "execution_count": null,
   "metadata": {},
   "outputs": [],
   "source": [
    "\"\"\" ICICI MF MAIN FILE CODE\"\"\"\n",
    "\n",
    "amc_id = '14_0'\n",
    "# logging.info(f\"User Ran Fund Data of {amc_name}\")\n",
    "fund_name, path= mutual_fund[amc_id]\n",
    "object = ICICI(fund_name,amc_id,path)\n",
    "title,path_pdf = object.check_and_highlight(path)\n",
    "data = object.get_data(path_pdf,title)\n",
    "extracted_text = object.get_generated_content(data)\n",
    "# final_text = object.refine_extracted_data(extracted_text)\n",
    "# dfs = object.merge_and_select_data(final_text,map_keys = True, special_handling = True)\n"
   ]
  },
  {
   "cell_type": "code",
   "execution_count": 184,
   "metadata": {},
   "outputs": [
    {
     "name": "stdout",
     "output_type": "stream",
     "text": [
      "Function Running: refine_extracted_data\n",
      "Function Running: merge_and_select_data\n"
     ]
    }
   ],
   "source": [
    "object = ICICI(fund_name,amc_id,path)\n",
    "final_text = object.refine_extracted_data(extracted_text)\n",
    "dfs = object.merge_and_select_data(final_text,map_keys = True, special_handling = True)"
   ]
  },
  {
   "cell_type": "code",
   "execution_count": null,
   "metadata": {},
   "outputs": [],
   "source": [
    "\"\"\" ICICI MF MAIN FILE CODE PASSIVE\"\"\"# pages = [8, 9, 11, 13, 15, 16, 17, 18, 19, 20, 21, 22, 23, 24, 25, 27, 28, 29, 30, 31, 32, 33, 34, 35, 36, 37, 39, 40, 41, 42, 43, 44, 46, 47, 49, 51, 53, 55, 56, 58, 59, 60, 62, 64, 65, 66, 67, 68, 69, 71, 72, 74, 75, 77, 78, 80]\n",
    "\n",
    "amc_name = \"Icici Prudential Mutual Fund Passive\"\n",
    "logging.info(f\"User Ran Fund Data of {amc_name}\")\n",
    "path = mutual_fund[amc_name]\n",
    "object = ICICI(amc_name,path)\n",
    "title,path_pdf = object.check_and_highlight(path)\n"
   ]
  },
  {
   "cell_type": "code",
   "execution_count": null,
   "metadata": {},
   "outputs": [],
   "source": [
    "object = ICICI(amc_name,path)\n",
    "data = object.get_data(path_pdf,title)\n",
    "extracted_text = object.get_generated_content(data)"
   ]
  },
  {
   "cell_type": "code",
   "execution_count": null,
   "metadata": {},
   "outputs": [],
   "source": [
    "object = ICICI(amc_name,path)\n",
    "final_text = object.refine_extracted_data(extracted_text, flatten=True)\n",
    "dfs = object.merge_and_select_data(final_text,select= True,map_keys = True,special_handling=True)\n",
    "Helper.quick_json_dump(dfs,object.JSONPATH)"
   ]
  },
  {
   "cell_type": "code",
   "execution_count": null,
   "metadata": {},
   "outputs": [],
   "source": [
    "\"\"\" INVESCO MF MAIN FILE CODE\"\"\"\n",
    "\n",
    "amc_id = '21_0'\n",
    "# logging.info(f\"User Ran Fund Data of {amc_name}\")\n",
    "fund_name, path= mutual_fund[amc_id]\n",
    "object = Invesco(fund_name,amc_id,path)\n",
    "title,path_pdf = object.check_and_highlight(path)\n",
    "data = object.get_data(path_pdf,title)"
   ]
  },
  {
   "cell_type": "code",
   "execution_count": null,
   "metadata": {},
   "outputs": [],
   "source": [
    "object = Invesco(fund_name,amc_id,path)\n",
    "extracted_text = object.get_generated_content(data)\n",
    "final_text = object.refine_extracted_data(extracted_text)\n",
    "dfs = object.merge_and_select_data(final_text,map_keys = True, special_handling = True)\n"
   ]
  },
  {
   "cell_type": "code",
   "execution_count": null,
   "metadata": {},
   "outputs": [],
   "source": [
    "\"\"\"ITI MAIN FILE CODE\"\"\" # pages = [9, 10, 11, 12, 13, 14, 15, 16, 17, 18, 19, 20, 21, 22, 23, 24, 25, 26]\n",
    "\n",
    "amc_id = '51_0'\n",
    "# logging.info(f\"User Ran Fund Data of {amc_name}\")\n",
    "fund_name, path= mutual_fund[amc_id]\n",
    "object = ITI(fund_name,amc_id,path)\n",
    "title,path_pdf = object.check_and_highlight(path)\n",
    "data = object.get_data(path_pdf,title)\n",
    "extracted_text = object.get_generated_content(data)\n",
    "final_text = object.refine_extracted_data(extracted_text)\n",
    "dfs= object.merge_and_select_data(final_text,map_keys = True, special_handling=True)"
   ]
  },
  {
   "cell_type": "code",
   "execution_count": null,
   "metadata": {},
   "outputs": [],
   "source": [
    "\"\"\"JM FUND MAIN FILE CODE\"\"\"\n",
    "amc_id = '22_0'\n",
    "# logging.info(f\"User Ran Fund Data of {amc_name}\")\n",
    "fund_name, path= mutual_fund[amc_id]\n",
    "object = JMMF(fund_name,amc_id,path)\n",
    "title,path_pdf = object.check_and_highlight(path)\n",
    "data = object.get_data(path_pdf,title)\n",
    "extracted_text = object.get_generated_content(data)\n",
    "final_text = object.refine_extracted_data(extracted_text)\n",
    "dfs = object.merge_and_select_data(final_text,map_keys = True, special_handling = True)"
   ]
  },
  {
   "cell_type": "code",
   "execution_count": 18,
   "metadata": {},
   "outputs": [
    {
     "name": "stdout",
     "output_type": "stream",
     "text": [
      "Function Running: refine_extracted_data\n"
     ]
    }
   ],
   "source": [
    "object = JMMF(fund_name,amc_id,path)\n",
    "final_text = object.refine_extracted_data(extracted_text)\n",
    "# dfs = object.merge_and_select_data(final_text,map_keys = True, special_handling = True)"
   ]
  },
  {
   "cell_type": "code",
   "execution_count": null,
   "metadata": {},
   "outputs": [],
   "source": [
    "\"\"\"KOTAK FUND MAIN CODE\"\"\"\n",
    "amc_id = '23_0'\n",
    "# logging.info(f\"User Ran Fund Data of {amc_name}\")\n",
    "fund_name, path= mutual_fund[amc_id]\n",
    "object = Kotak(fund_name,amc_id,path)\n",
    "title,path_pdf= object.check_and_highlight(path)\n",
    "data = object.get_data(path_pdf,title)\n"
   ]
  },
  {
   "cell_type": "code",
   "execution_count": 8,
   "metadata": {},
   "outputs": [
    {
     "name": "stdout",
     "output_type": "stream",
     "text": [
      "Function Running: get_generated_content\n",
      "  Parsing Completed, Refining Data.....\n",
      "Function Running: refine_extracted_data\n",
      "Function Running: merge_and_select_data\n"
     ]
    }
   ],
   "source": [
    "object = Kotak(fund_name,amc_id,path)\n",
    "extracted_text = object.get_generated_content(data)\n",
    "final_text = object.refine_extracted_data(extracted_text)\n",
    "dfs = object.merge_and_select_data(final_text,map_keys = True, special_handling=True)"
   ]
  },
  {
   "cell_type": "code",
   "execution_count": 2,
   "metadata": {},
   "outputs": [
    {
     "name": "stdout",
     "output_type": "stream",
     "text": [
      "Function Running: check_and_highlight\n",
      "Function Running: _get_ocr_title\n"
     ]
    },
    {
     "data": {
      "application/vnd.jupyter.widget-view+json": {
       "model_id": "c2faa4de3db84bed9bbab4dd5bad06f0",
       "version_major": 2,
       "version_minor": 0
      },
      "text/plain": [
       "Output()"
      ]
     },
     "metadata": {},
     "output_type": "display_data"
    },
    {
     "data": {
      "text/html": [
       "<pre style=\"white-space:pre;overflow-x:auto;line-height:normal;font-family:Menlo,'DejaVu Sans Mono',consolas,'Courier New',monospace\"></pre>\n"
      ],
      "text/plain": []
     },
     "metadata": {},
     "output_type": "display_data"
    },
    {
     "data": {
      "application/vnd.jupyter.widget-view+json": {
       "model_id": "d868e45abdfb4f1e8cefa9118f3f0c4b",
       "version_major": 2,
       "version_minor": 0
      },
      "text/plain": [
       "Output()"
      ]
     },
     "metadata": {},
     "output_type": "display_data"
    },
    {
     "data": {
      "text/html": [
       "<pre style=\"white-space:pre;overflow-x:auto;line-height:normal;font-family:Menlo,'DejaVu Sans Mono',consolas,'Courier New',monospace\">[tesseract] lots of diacritics - possibly poor OCR\n",
       "</pre>\n"
      ],
      "text/plain": [
       "[tesseract] lots of diacritics - possibly poor OCR\n"
      ]
     },
     "metadata": {},
     "output_type": "display_data"
    },
    {
     "data": {
      "text/html": [
       "<pre style=\"white-space:pre;overflow-x:auto;line-height:normal;font-family:Menlo,'DejaVu Sans Mono',consolas,'Courier New',monospace\">[tesseract] lots of diacritics - possibly poor OCR\n",
       "</pre>\n"
      ],
      "text/plain": [
       "[tesseract] lots of diacritics - possibly poor OCR\n"
      ]
     },
     "metadata": {},
     "output_type": "display_data"
    },
    {
     "data": {
      "text/html": [
       "<pre style=\"white-space:pre;overflow-x:auto;line-height:normal;font-family:Menlo,'DejaVu Sans Mono',consolas,'Courier New',monospace\">[tesseract] lots of diacritics - possibly poor OCR\n",
       "</pre>\n"
      ],
      "text/plain": [
       "[tesseract] lots of diacritics - possibly poor OCR\n"
      ]
     },
     "metadata": {},
     "output_type": "display_data"
    },
    {
     "data": {
      "text/html": [
       "<pre style=\"white-space:pre;overflow-x:auto;line-height:normal;font-family:Menlo,'DejaVu Sans Mono',consolas,'Courier New',monospace\">[tesseract] lots of diacritics - possibly poor OCR\n",
       "</pre>\n"
      ],
      "text/plain": [
       "[tesseract] lots of diacritics - possibly poor OCR\n"
      ]
     },
     "metadata": {},
     "output_type": "display_data"
    },
    {
     "data": {
      "text/html": [
       "<pre style=\"white-space:pre;overflow-x:auto;line-height:normal;font-family:Menlo,'DejaVu Sans Mono',consolas,'Courier New',monospace\">[tesseract] lots of diacritics - possibly poor OCR\n",
       "</pre>\n"
      ],
      "text/plain": [
       "[tesseract] lots of diacritics - possibly poor OCR\n"
      ]
     },
     "metadata": {},
     "output_type": "display_data"
    },
    {
     "data": {
      "text/html": [
       "<pre style=\"white-space:pre;overflow-x:auto;line-height:normal;font-family:Menlo,'DejaVu Sans Mono',consolas,'Courier New',monospace\"></pre>\n"
      ],
      "text/plain": []
     },
     "metadata": {},
     "output_type": "display_data"
    },
    {
     "data": {
      "application/vnd.jupyter.widget-view+json": {
       "model_id": "aef98bede32649fd8035cfda12efbc95",
       "version_major": 2,
       "version_minor": 0
      },
      "text/plain": [
       "Output()"
      ]
     },
     "metadata": {},
     "output_type": "display_data"
    },
    {
     "data": {
      "text/html": [
       "<pre style=\"white-space:pre;overflow-x:auto;line-height:normal;font-family:Menlo,'DejaVu Sans Mono',consolas,'Courier New',monospace\"></pre>\n"
      ],
      "text/plain": []
     },
     "metadata": {},
     "output_type": "display_data"
    },
    {
     "data": {
      "application/vnd.jupyter.widget-view+json": {
       "model_id": "aca359625ac8447abe4784e9007cdc2b",
       "version_major": 2,
       "version_minor": 0
      },
      "text/plain": [
       "Output()"
      ]
     },
     "metadata": {},
     "output_type": "display_data"
    },
    {
     "data": {
      "text/html": [
       "<pre style=\"white-space:pre;overflow-x:auto;line-height:normal;font-family:Menlo,'DejaVu Sans Mono',consolas,'Courier New',monospace\"></pre>\n"
      ],
      "text/plain": []
     },
     "metadata": {},
     "output_type": "display_data"
    },
    {
     "data": {
      "application/vnd.jupyter.widget-view+json": {
       "model_id": "445841f07c554db3baa88bbefd364a68",
       "version_major": 2,
       "version_minor": 0
      },
      "text/plain": [
       "Output()"
      ]
     },
     "metadata": {},
     "output_type": "display_data"
    },
    {
     "data": {
      "text/html": [
       "<pre style=\"white-space:pre;overflow-x:auto;line-height:normal;font-family:Menlo,'DejaVu Sans Mono',consolas,'Courier New',monospace\"></pre>\n"
      ],
      "text/plain": []
     },
     "metadata": {},
     "output_type": "display_data"
    },
    {
     "data": {
      "application/vnd.jupyter.widget-view+json": {
       "model_id": "d15445206c2e4d37beeaa174bf3c10c0",
       "version_major": 2,
       "version_minor": 0
      },
      "text/plain": [
       "Output()"
      ]
     },
     "metadata": {},
     "output_type": "display_data"
    },
    {
     "data": {
      "text/html": [
       "<pre style=\"white-space:pre;overflow-x:auto;line-height:normal;font-family:Menlo,'DejaVu Sans Mono',consolas,'Courier New',monospace\"></pre>\n"
      ],
      "text/plain": []
     },
     "metadata": {},
     "output_type": "display_data"
    },
    {
     "data": {
      "application/vnd.jupyter.widget-view+json": {
       "model_id": "92ca2b05fbf8497490c1763c6554858d",
       "version_major": 2,
       "version_minor": 0
      },
      "text/plain": [
       "Output()"
      ]
     },
     "metadata": {},
     "output_type": "display_data"
    },
    {
     "data": {
      "text/html": [
       "<pre style=\"white-space:pre;overflow-x:auto;line-height:normal;font-family:Menlo,'DejaVu Sans Mono',consolas,'Courier New',monospace\"></pre>\n"
      ],
      "text/plain": []
     },
     "metadata": {},
     "output_type": "display_data"
    },
    {
     "name": "stderr",
     "output_type": "stream",
     "text": [
      "[WinError 2] The system cannot find the file specified\n",
      "[WinError 2] The system cannot find the file specified\n"
     ]
    },
    {
     "name": "stdout",
     "output_type": "stream",
     "text": [
      "Function Running: _get_normal_title\n",
      "Regex: ((?:LI?i?C|BSE|BANK|SMALL|HEALTH|MNEY|An\\s*open).*?(?:FUND|Path|ETF|FTF|EOF|FOF|PLAN|SAVER|tax saving scheme|small cap stocks)\\s*(?:FUND\\s*OF\\s*FUND)?)\n",
      "14 -- LIC MF LARGE CAP FUND\n",
      "15 -- LIC MF LARGE& MID CAPFUND\n",
      "16 -- LIC MF (FLEXICAP FUND\n",
      "17 -- LIC MF MULTICAP FUND\n",
      "18 -- LIC MF Vt CAP FUND\n",
      "19 -- SMALLCAP FUND\n",
      "20 -- LIC MF DIV_DEND YIELD FUND\n",
      "21 -- LIC MF VALUE FUND\n",
      "22 -- LIC MF FOCUSED FUND\n",
      "23 -- LIC MF INFRASTRUCTURE FUND\n",
      "24 -- LIC MF 3 MANGFACTURING FUND\n",
      "25 -- BANKING &FINANC AL SERVICES FUND\n",
      "26 -- HEALTHCARE FUND\n",
      "27 -- LIC MF EC SS TAX SAVER\n",
      "28 -- LIC MF AGGRESSIVE HYBRiD FUND\n",
      "29 -- LIC MF BLNCED ADVANTAGE FUND\n",
      "30 -- LIC MF EQUITY SAVINGS FUND\n",
      "31 -- LIC MF CONSERWATIVE nip) FUND\n",
      "32 -- LIC MF ARBITRAGE FUND\n",
      "33 -- LIC MF MULT ASSET ALL CATION FUND\n",
      "34 -- An open-ended insurance linked tax saving scheme\n",
      "35 -- LIC MF OVERNIGHT FUND\n",
      "36 -- LIC MF LIQUID FUND\n",
      "37 -- LIC MF ULTRA SHORT DURATION FUND\n",
      "38 -- MNEY MAPXET FUND\n",
      "39 -- LIC MF LOW DURATION FUND\n",
      "40 -- LIC MF MEDIUM-+FoLONG DURATION FUND\n",
      "41 -- LIC MF BANK6ONG& PSU FUND\n",
      "42 -- LIC MF_ SHORT DURATION FUND\n",
      "43 -- LIC MGI FUND\n",
      "44 -- LIC MF T CHILDRENS FUND\n",
      "45 -- LIC MF BSE SENSEX ETF\n",
      "46 -- LIC MF NIFTY SOETF\n",
      "47 -- LIC MF NIFTY 100ETF\n",
      "48 -- LIC MF NIFTY MIDCAP 100 ETF\n",
      "49 -- LIC MF NIFTY 8-13 YR G-SECETF\n",
      "50 -- LIC MF BSE SENSEX INDEX FUND\n",
      "51 -- LIC MF NIFTY 50 INDEX FUND\n",
      "52 -- LIC MF NIFTY NEXT 50 INDEX FUND\n",
      "53 -- LIC MF GOLD EXCHANGE TRADED FUND\n",
      "54 -- LIC MF GOLD ETF FUND OF FUND\n",
      "69 -- LIC MF Nifty Midcap 100 ETF\n",
      "75 -- LIC MF BSE Sensex ETF\n",
      "80 -- LIC MF Nifty 50 ETF\n",
      "Function Running: get_data\n",
      "Function Running: extract_clipped_data\n",
      "Function Running: extract_span_data\n",
      "Function Running: process_text_data\n",
      "Function Running: create_nested_dict\n"
     ]
    }
   ],
   "source": [
    "\"\"\"LIC FUND MAIN CODE\"\"\"\n",
    "amc_id = '25_0'\n",
    "# logging.info(f\"User Ran Fund Data of {amc_name}\")\n",
    "fund_name, path= mutual_fund[amc_id]\n",
    "object = LIC(fund_name,amc_id,path)\n",
    "title,path_pdf = object.check_and_highlight(path)\n",
    "data = object.get_data(path_pdf,title)\n"
   ]
  },
  {
   "cell_type": "code",
   "execution_count": 15,
   "metadata": {},
   "outputs": [
    {
     "name": "stdout",
     "output_type": "stream",
     "text": [
      "Function Running: refine_extracted_data\n",
      "Function Running: merge_and_select_data\n"
     ]
    }
   ],
   "source": [
    "object = LIC(fund_name,amc_id,path)\n",
    "# extracted_text = object.get_generated_content(data)\n",
    "final_text = object.refine_extracted_data(extracted_text)\n",
    "dfs = object.merge_and_select_data(final_text,map_keys = True, special_handling = True)"
   ]
  },
  {
   "cell_type": "code",
   "execution_count": 16,
   "metadata": {},
   "outputs": [
    {
     "name": "stdout",
     "output_type": "stream",
     "text": [
      "File Saved At: C:\\Users\\Kaustubh.keny\\Projects\\JSON25\\MAY JSON\\25_31-May-25_FS.json\n"
     ]
    }
   ],
   "source": [
    "save_path = os.path.join(object.JSONPATH, object.FILE_NAME).replace(\".pdf\", \".json\")\n",
    "with open(save_path, 'w') as f:\n",
    "  json.dump(dfs, f, indent=2)\n",
    "print(f\"File Saved At: {save_path}\")\n",
    "\n",
    "with open(\"data.json\", 'w') as f:\n",
    "  json.dump(final_text, f, indent=2)\n",
    "  \n",
    "with open(\"extracted.json\", 'w') as f:\n",
    "  json.dump(extracted_text, f, indent=2)"
   ]
  },
  {
   "cell_type": "code",
   "execution_count": null,
   "metadata": {},
   "outputs": [],
   "source": [
    "\"\"\"MAHINDRA MANULIFE MAIN CODE\"\"\" #incrase pages count\n",
    "\n",
    "amc_id = '26_0'\n",
    "# logging.info(f\"User Ran Fund Data of {amc_name}\")\n",
    "fund_name, path= mutual_fund[amc_id]\n",
    "object = MahindraManu(fund_name,amc_id,path)\n",
    "title,path_pdf = object.check_and_highlight(path)\n",
    "data = object.get_data(path_pdf,title)\n"
   ]
  },
  {
   "cell_type": "code",
   "execution_count": null,
   "metadata": {},
   "outputs": [],
   "source": [
    "object = MahindraManu(fund_name,amc_id,path)\n",
    "extracted_text = object.get_generated_content(data)\n",
    "final_text = object.refine_extracted_data(extracted_text)\n",
    "dfs = object.merge_and_select_data(final_text, map_keys = True, special_handling=True)"
   ]
  },
  {
   "cell_type": "code",
   "execution_count": null,
   "metadata": {},
   "outputs": [],
   "source": [
    "\"\"\"MOTILAL OSWAL PASSIVE MAIN CODE FILE\"\"\" #Fund Manager Regex\n",
    "amc_id = '28_1'\n",
    "# logging.info(f\"User Ran Fund Data of {amc_name}\")\n",
    "fund_name, path= mutual_fund[amc_id]\n",
    "object = MotilalOswalPassive(fund_name,amc_id,path)\n",
    "title,path_pdf = object.check_and_highlight(path)\n",
    "data = object.get_data(path_pdf,title)\n",
    "extracted_text = object.get_generated_content(data)\n",
    "final_text = object.refine_extracted_data(extracted_text, flatten=True)\n",
    "# dfs = object.merge_and_select_data(final_text,map_keys = True, special_handling = True)\n",
    "# Helper.quick_json_dump(dfs, object.JSONPATH)"
   ]
  },
  {
   "cell_type": "code",
   "execution_count": null,
   "metadata": {},
   "outputs": [],
   "source": [
    "\"\"\"MOTILAL OSWAL MAIN CODE FILE\"\"\" #Fund Manager Regex\n",
    "\n",
    "amc_id = '28_0'\n",
    "# logging.info(f\"User Ran Fund Data of {amc_name}\")\n",
    "fund_name, path= mutual_fund[amc_id]\n",
    "object = MotilalOswal(fund_name,amc_id,path)\n",
    "title,path_pdf = object.check_and_highlight(path)\n",
    "data = object.get_data(path_pdf,title)\n",
    "extracted_text = object.get_generated_content(data)\n",
    "final_text = object.refine_extracted_data(extracted_text, flatten=True)\n",
    "# dfs = object.merge_and_select_data(final_text,map_keys = True, special_handling = True)\n",
    "# Helper.quick_json_dump(dfs, object.JSONPATH)"
   ]
  },
  {
   "cell_type": "code",
   "execution_count": 34,
   "metadata": {},
   "outputs": [
    {
     "name": "stdout",
     "output_type": "stream",
     "text": [
      "Function Running: refine_extracted_data\n"
     ]
    }
   ],
   "source": [
    "object = MotilalOswalPassive(fund_name,amc_id,path)\n",
    "final_text = object.refine_extracted_data(extracted_text, flatten=True)\n",
    "with open(\"test.json\",\"w+\") as file:\n",
    "    json.dump(final_text,file)"
   ]
  },
  {
   "cell_type": "code",
   "execution_count": null,
   "metadata": {},
   "outputs": [],
   "source": [
    "\"\"\"MIRAE MAIN FILE CODE PASSIVE\"\"\"\n",
    "\n",
    "amc_id = '27_1'\n",
    "# logging.info(f\"User Ran Fund Data of {amc_name}\")\n",
    "fund_name, path= mutual_fund[amc_id]\n",
    "object = MIRAE(fund_name,amc_id,path)\n",
    "title,path_pdf = object.check_and_highlight(path)\n",
    "data = object.get_data(path_pdf,title)\n",
    "extracted_text = object.get_generated_content(data)\n",
    "final_text = object.refine_extracted_data(extracted_text)\n",
    "dfs = object.merge_and_select_data(final_text,map_keys = True, special_handling = True)\n",
    "Helper.quick_json_dump(dfs, object.JSONPATH)"
   ]
  },
  {
   "cell_type": "code",
   "execution_count": null,
   "metadata": {},
   "outputs": [],
   "source": [
    "\"\"\"MIRAE MAIN FILE CODE\"\"\"\n",
    "amc_id = '27_0'\n",
    "# logging.info(f\"User Ran Fund Data of {amc_name}\")\n",
    "fund_name, path= mutual_fund[amc_id]\n",
    "object = MIRAE(fund_name,amc_id,path)\n",
    "title,path_pdf = object.check_and_highlight(path)\n",
    "data = object.get_data(path_pdf,title)\n",
    "extracted_text = object.get_generated_content(data)\n",
    "final_text = object.refine_extracted_data(extracted_text, flatten=True)\n",
    "dfs = object.merge_and_select_data(final_text,map_keys = True, special_handling = True)\n",
    "# Helper.quick_json_dump(dfs, object.JSONPATH)"
   ]
  },
  {
   "cell_type": "code",
   "execution_count": null,
   "metadata": {},
   "outputs": [],
   "source": [
    "\"\"\"NAVI MAIN FILE CODE\"\"\" #Issue: Left and right\n",
    "\n",
    "amc_id = '56_0'\n",
    "# logging.info(f\"User Ran Fund Data of {amc_name}\")\n",
    "fund_name, path= mutual_fund[amc_id]\n",
    "object = NAVI(fund_name,amc_id,path)\n",
    "title,path_pdf = object.check_and_highlight(path)\n",
    "data = object.get_data(path_pdf,title)\n",
    "extracted_text = object.get_generated_content(data)"
   ]
  },
  {
   "cell_type": "code",
   "execution_count": null,
   "metadata": {},
   "outputs": [
    {
     "name": "stdout",
     "output_type": "stream",
     "text": [
      "Function Running: refine_extracted_data\n"
     ]
    }
   ],
   "source": [
    "object = NAVI(fund_name,amc_id,path)\n",
    "final_text = object.refine_extracted_data(extracted_text, flatten = True)\n",
    "# dfs = object.merge_and_select_data(final_text,map_keys = True,special_handling=True)\n",
    "with open(\"test.json\",\"w+\") as file:\n",
    "    json.dump(extracted_text,file)"
   ]
  },
  {
   "cell_type": "code",
   "execution_count": null,
   "metadata": {},
   "outputs": [],
   "source": [
    "\"NIPPON MAIN FILE CODE\"\n",
    "amc_name = 'Nippon India Mutual Fund'\n",
    "logging.info(f\"User Ran Fund Data of {amc_name}\")\n",
    "path = mutual_fund[amc_name]\n",
    "object = Nippon(amc_name,path)\n",
    "title,path_pdf= object.check_and_highlight(path)\n",
    "data = object.get_data(path_pdf,title)\n",
    "extracted_text = object.get_generated_content(data)\n",
    "final_text = object.refine_extracted_data(extracted_text)\n",
    "dfs = object.merge_and_select_data(final_text, map_keys = True, special_handling=True)\n",
    "Helper.quick_json_dump(dfs,object.JSONPATH)"
   ]
  },
  {
   "cell_type": "code",
   "execution_count": 18,
   "metadata": {},
   "outputs": [
    {
     "name": "stdout",
     "output_type": "stream",
     "text": [
      "Function Running: check_and_highlight\n",
      "Function Running: _get_normal_title\n",
      "Regex: (NJ.+?(?:FUNDS?|ETF|F[Oo]F|PATH|SCHEME|PLAN)\\s*(?:OF FUNDS?|FUND OF FUNDS?|F[Oo]F|FUNDS?)?)\n",
      "01 -- NJ FLEXI CAP FUND\n",
      "02 -- NJ FLEXI CAP FUND\n",
      "03 -- NJ ELSS TAX SAVER SCHEME\n",
      "04 -- NJ ELSS TAX SAVER SCHEME\n",
      "05 -- NJ BALANCED ADVANTAGE FUND\n",
      "06 -- NJ BALANCED ADVANTAGE FUND\n",
      "07 -- NJ ARBITRAGE FUND\n",
      "08 -- NJ ARBITRAGE FUND\n",
      "09 -- NJ OVERNIGHT FUND\n",
      "10 -- NJ OVERNIGHT FUND\n",
      "Function Running: get_data\n",
      "Function Running: extract_clipped_data\n",
      "Function Running: extract_span_data\n",
      "Function Running: process_text_data\n",
      "Function Running: create_nested_dict\n"
     ]
    }
   ],
   "source": [
    "\"\"\"NJMF MAIN CODE FILE\"\"\"\n",
    "\n",
    "amc_id = '57_0'\n",
    "# logging.info(f\"User Ran Fund Data of {amc_name}\")\n",
    "fund_name, path= mutual_fund[amc_id]\n",
    "object = NJMF(fund_name,amc_id,path)\n",
    "title,path_pdf = object.check_and_highlight(path)\n",
    "data = object.get_data(path_pdf,title)\n",
    "# extracted_text = object.get_generated_content(data)\n",
    "# final_text = object.refine_extracted_data(extracted_text)\n",
    "# dfs = object.merge_and_select_data(final_text,map_keys = True,special_handling=True)"
   ]
  },
  {
   "cell_type": "code",
   "execution_count": null,
   "metadata": {},
   "outputs": [],
   "source": [
    "\"\"\"OlD BriDGE MAIN CODE\"\"\"\n",
    "amc_name = \"Old Bridge Mutual Fund\"\n",
    "logging.info(f\"User Ran Fund Data of {amc_name}\")\n",
    "path = mutual_fund[amc_name]\n",
    "object = OldBridge(amc_name,path)\n",
    "title,path_pdf = object.check_and_highlight(path)\n",
    "\n",
    "data = object.get_data(path_pdf,title)\n",
    "extracted_text = object.get_generated_content(data)\n",
    "\n",
    "final_text = object.refine_extracted_data(extracted_text, flatten = True)\n",
    "dfs = object.merge_and_select_data(final_text,map_keys= True, special_handling=True)\n",
    "Helper.quick_json_dump(dfs, object.JSONPATH)"
   ]
  },
  {
   "cell_type": "code",
   "execution_count": null,
   "metadata": {},
   "outputs": [],
   "source": [
    "\"\"\"PGIM MAIN FILE CODE\"\"\" #ISSUES: Clean data further\n",
    "\n",
    "amc_id = '7_0'\n",
    "# logging.info(f\"User Ran Fund Data of {amc_name}\")\n",
    "fund_name, path= mutual_fund[amc_id]\n",
    "object = PGIM(fund_name,amc_id,path)\n",
    "title,path_pdf = object.check_and_highlight(path)\n",
    "data = object.get_data(path_pdf,title)\n"
   ]
  },
  {
   "cell_type": "code",
   "execution_count": null,
   "metadata": {},
   "outputs": [],
   "source": [
    "object = PGIM(fund_name,amc_id,path)\n",
    "extracted_text = object.get_generated_content(data)\n",
    "final_text = object.refine_extracted_data(extracted_text)\n",
    "dfs = object.merge_and_select_data(final_text,map_keys= True, special_handling = True)\n"
   ]
  },
  {
   "cell_type": "code",
   "execution_count": null,
   "metadata": {},
   "outputs": [],
   "source": [
    "\"\"\"QUANT MAIN CODE FILE\"\"\"\n",
    "\n",
    "amc_id = '10_0'\n",
    "# logging.info(f\"User Ran Fund Data of {amc_name}\")\n",
    "fund_name, path= mutual_fund[amc_id]\n",
    "object = QuantMF(fund_name,amc_id,path)\n",
    "title,path_pdf = object.check_and_highlight(path)\n",
    "data = object.get_data(path_pdf,title)\n",
    "extracted_text = object.get_generated_content(data)\n",
    "final_text = object.refine_extracted_data(extracted_text)\n",
    "dfs = object.merge_and_select_data(final_text,map_keys = True, special_handling = True)"
   ]
  },
  {
   "cell_type": "code",
   "execution_count": null,
   "metadata": {},
   "outputs": [],
   "source": [
    "save_path = os.path.join(object.JSONPATH, object.FILE_NAME).replace(\".pdf\", \".json\")\n",
    "with open(save_path, 'w') as f:\n",
    "  json.dump(dfs, f, indent=2)\n",
    "print(f\"File Saved At: {save_path}\")\n",
    "\n",
    "with open(\"data.json\", 'w') as f:\n",
    "  json.dump(final_text, f, indent=2)\n",
    "  \n",
    "with open(\"extracted.json\", 'w') as f:\n",
    "  json.dump(extracted_text, f, indent=2)"
   ]
  },
  {
   "cell_type": "code",
   "execution_count": null,
   "metadata": {},
   "outputs": [],
   "source": [
    "\"\"\"QUANTUM MAIN FILE CODE\"\"\"\n",
    "\n",
    "amc_id = '32_0'\n",
    "# logging.info(f\"User Ran Fund Data of {amc_name}\")\n",
    "fund_name, path= mutual_fund[amc_id]\n",
    "object = Quantum(fund_name,amc_id,path)\n",
    "title,path_pdf = object.check_and_highlight(path)\n",
    "data = object.get_data(path_pdf,title)\n",
    "extracted_text = object.get_generated_content(data)\n",
    "final_text = object.refine_extracted_data(extracted_text)\n",
    "dfs = object.merge_and_select_data(final_text,map_keys = True, special_handling = True)\n"
   ]
  },
  {
   "cell_type": "code",
   "execution_count": null,
   "metadata": {},
   "outputs": [],
   "source": [
    "\"\"\"SAMCO PDF FILE MAIN CODE\"\"\" # pages =  [3, 5, 7, 9, 11, 13, 15, 17, 18]\n",
    "\n",
    "amc_id = '58_0'\n",
    "# logging.info(f\"User Ran Fund Data of {amc_name}\")\n",
    "fund_name, path= mutual_fund[amc_id]\n",
    "object = Samco(fund_name,amc_id,path)\n",
    "title,path_pdf = object.check_and_highlight(path)\n",
    "data = object.get_data(path_pdf,title)\n",
    "extracted_text = object.get_generated_content(data)\n",
    "final_text = object.refine_extracted_data(extracted_text)\n",
    "dfs = object.merge_and_select_data(final_text, map_keys = True, special_handling=True)"
   ]
  },
  {
   "cell_type": "code",
   "execution_count": null,
   "metadata": {},
   "outputs": [],
   "source": [
    "\"\"\"SBI PASSIVE PDF FILE MAIN CODE\"\"\" \n",
    "\n",
    "amc_id = '35_1'\n",
    "# logging.info(f\"User Ran Fund Data of {amc_name}\")\n",
    "fund_name, path= mutual_fund[amc_id]\n",
    "object = SBIPassive(fund_name,amc_id,path)\n",
    "title,path_pdf = object.check_and_highlight(path)\n",
    "data = object.get_data(path_pdf,title)\n",
    "extracted_text = object.get_generated_content(data)\n",
    "final_text = object.refine_extracted_data(extracted_text, flatten=True)\n",
    "# dfs = object.merge_and_select_data(final_text,map_keys = True, special_handling = True)\n",
    "# Helper.quick_json_dump(dfs, object.JSONPATH)"
   ]
  },
  {
   "cell_type": "code",
   "execution_count": null,
   "metadata": {},
   "outputs": [],
   "source": [
    "\"\"\"SBI PDF FILE MAIN CODE\"\"\" \n",
    "amc_id = '35_0'\n",
    "# logging.info(f\"User Ran Fund Data of {amc_name}\")\n",
    "fund_name, path= mutual_fund[amc_id]\n",
    "object = SBIPassive(fund_name,amc_id,path)\n",
    "title,path_pdf = object.check_and_highlight(path)\n",
    "data = object.get_data(path_pdf,title)\n",
    "extracted_text = object.get_generated_content(data)\n",
    "final_text = object.refine_extracted_data(extracted_text, flatten=True)\n",
    "# dfs = object.merge_and_select_data(final_text,map_keys = True,special_handling = True)\n",
    "# Helper.quick_json_dump(dfs,object.JSONPATH)"
   ]
  },
  {
   "cell_type": "code",
   "execution_count": null,
   "metadata": {},
   "outputs": [],
   "source": [
    "\"\"\"SUNDARAM MAIN FILE CODE\"\"\"\n",
    "\n",
    "amc_id = '37_0'\n",
    "# logging.info(f\"User Ran Fund Data of {amc_name}\")\n",
    "fund_name, path= mutual_fund[amc_id]\n",
    "object = Sundaram(fund_name,amc_id,path)\n",
    "title,path_pdf = object.check_and_highlight(path)\n",
    "data = object.get_data(path_pdf,title)"
   ]
  },
  {
   "cell_type": "code",
   "execution_count": null,
   "metadata": {},
   "outputs": [],
   "source": [
    "object = Sundaram(fund_name,amc_id,path)\n",
    "extracted_text = object.get_generated_content(data)\n",
    "final_text = object.refine_extracted_data(extracted_text)\n",
    "dfs = object.merge_and_select_data(final_text, map_keys = True, special_handling=True)"
   ]
  },
  {
   "cell_type": "code",
   "execution_count": 41,
   "metadata": {},
   "outputs": [
    {
     "name": "stdout",
     "output_type": "stream",
     "text": [
      "File Saved At: C:\\Users\\Kaustubh.keny\\Projects\\JSON25\\JPY\\37_30-Apr-25_FS.json\n"
     ]
    }
   ],
   "source": [
    "save_path = os.path.join(object.JSONPATH, object.FILE_NAME).replace(\".pdf\", \".json\")\n",
    "with open(save_path, 'w') as f:\n",
    "  json.dump(dfs, f, indent=2)\n",
    "print(f\"File Saved At: {save_path}\")\n",
    "\n",
    "with open(\"data.json\", 'w') as f:\n",
    "  json.dump(final_text, f, indent=2)\n",
    "  \n",
    "with open(\"extracted.json\", 'w') as f:\n",
    "  json.dump(extracted_text, f, indent=2)"
   ]
  },
  {
   "cell_type": "code",
   "execution_count": null,
   "metadata": {},
   "outputs": [],
   "source": [
    "\"\"\"TATA FILE MAIN CODE \"\"\"\n",
    "\n",
    "amc_id = '38_0'\n",
    "# logging.info(f\"User Ran Fund Data of {amc_name}\")\n",
    "fund_name, path= mutual_fund[amc_id]\n",
    "object = Tata(fund_name,amc_id,path)\n",
    "title,path_pdf = object.check_and_highlight(path)\n",
    "data = object.get_data(path_pdf,title)\n"
   ]
  },
  {
   "cell_type": "code",
   "execution_count": null,
   "metadata": {},
   "outputs": [],
   "source": [
    "object = Tata(fund_name,amc_id,path)\n",
    "extracted_text = object.get_generated_content(data)\n",
    "final_text = object.refine_extracted_data(extracted_text)\n",
    "dfs = object.merge_and_select_data(final_text, map_keys = True, special_handling=True)\n"
   ]
  },
  {
   "cell_type": "code",
   "execution_count": null,
   "metadata": {},
   "outputs": [],
   "source": [
    "\"\"\"TAURUS MAIN FILE CODE\"\"\"\n",
    "\n",
    "amc_id = '39_0'\n",
    "# logging.info(f\"User Ran Fund Data of {amc_name}\")\n",
    "fund_name, path= mutual_fund[amc_id]\n",
    "object = Taurus(fund_name,amc_id,path)\n",
    "title,path_pdf= object.check_and_highlight(path)\n",
    "\n",
    "data = object.get_data(path_pdf,title)\n",
    "extracted_text = object.get_generated_content(data)\n",
    "final_text = object.refine_extracted_data(extracted_text)\n",
    "dfs = object.merge_and_select_data(final_text, map_keys = True, special_handling = True)"
   ]
  },
  {
   "cell_type": "code",
   "execution_count": 12,
   "metadata": {},
   "outputs": [
    {
     "name": "stdout",
     "output_type": "stream",
     "text": [
      "File Saved At: C:\\Users\\Kaustubh.keny\\Projects\\JSON25\\JPY\\39_31-Mar-25_FS.json\n"
     ]
    }
   ],
   "source": [
    "save_path = os.path.join(object.JSONPATH, object.FILE_NAME).replace(\".pdf\", \".json\")\n",
    "with open(save_path, 'w') as f:\n",
    "  json.dump(dfs, f, indent=2)\n",
    "print(f\"File Saved At: {save_path}\")\n",
    "\n",
    "with open(\"data.json\", 'w') as f:\n",
    "  json.dump(final_text, f, indent=2)"
   ]
  },
  {
   "cell_type": "code",
   "execution_count": null,
   "metadata": {},
   "outputs": [],
   "source": [
    "\"\"\"TRUST MAIN FILE CODE\"\"\" #Issue: Clean data more, nested dict unload Invest Obj in right #Names coming as headers fund managers\n",
    "amc_id = '55_0'\n",
    "# logging.info(f\"User Ran Fund Data of {amc_name}\")\n",
    "fund_name, path= mutual_fund[amc_id]\n",
    "object = Trust(fund_name,amc_id,path)\n",
    "title,path_pdf = object.check_and_highlight(path)\n",
    "\n",
    "data = object.get_data(path_pdf,title)\n",
    "extracted_text = object.get_generated_content(data)\n",
    "\n",
    "final_text = object.refine_extracted_data(extracted_text)\n",
    "dfs = object.merge_and_select_data(final_text,map_keys = True, special_handling= True)\n"
   ]
  },
  {
   "cell_type": "code",
   "execution_count": null,
   "metadata": {},
   "outputs": [],
   "source": [
    "\"\"\"UTI MAIN FILE CODE\"\"\"\n",
    "\n",
    "amc_id = '41_0'\n",
    "# logging.info(f\"User Ran Fund Data of {amc_name}\")\n",
    "fund_name, path= mutual_fund[amc_id]\n",
    "object = UTI(fund_name,amc_id,path)\n",
    "title,path_pdf = object.check_and_highlight(path)\n",
    "data = object.get_data(path_pdf,title)\n",
    "extracted_text = object.get_generated_content(data)\n",
    "final_text = object.refine_extracted_data(extracted_text, flatten=True)\n",
    "# dfs = object.merge_and_select_data(final_text,map_keys = True, special_handling = True)\n",
    "# Helper.quick_json_dump(dfs, object.JSONPATH)"
   ]
  },
  {
   "cell_type": "code",
   "execution_count": null,
   "metadata": {},
   "outputs": [],
   "source": [
    "\"\"\"UTI MAIN FILE CODE PASSIVE\"\"\"\n",
    "\n",
    "amc_id = '18_0'\n",
    "# logging.info(f\"User Ran Fund Data of {amc_name}\")\n",
    "fund_name, path= mutual_fund[amc_id]\n",
    "object = UTIPassive(fund_name,amc_id,path)\n",
    "title,path_pdf = object.check_and_highlight(path)\n",
    "data = object.get_data(path_pdf,title)\n",
    "extracted_text = object.get_generated_content(data)\n",
    "final_text = object.refine_extracted_data(extracted_text, flatten=True)\n",
    "dfs = object.merge_and_select_data(final_text,map_keys = True, special_handling = True)\n",
    "# Helper.quick_json_dump(dfs, object.JSONPATH)"
   ]
  },
  {
   "cell_type": "code",
   "execution_count": null,
   "metadata": {},
   "outputs": [],
   "source": [
    "\"\"\"UNION MUTUAL FUND\"\"\"\n",
    "\n",
    "amc_id = '40_0'\n",
    "# logging.info(f\"User Ran Fund Data of {amc_name}\")\n",
    "fund_name, path= mutual_fund[amc_id]\n",
    "object = Union(fund_name,amc_id,path)\n",
    "title,path_pdf = object.check_and_highlight(path)\n",
    "data = object.get_data(path_pdf,title)"
   ]
  },
  {
   "cell_type": "code",
   "execution_count": null,
   "metadata": {},
   "outputs": [],
   "source": [
    "object = Union(fund_name,amc_id,path)\n",
    "extracted_text = object.get_generated_content(data)\n",
    "final_text = object.refine_extracted_data(extracted_text)\n",
    "dfs = object.merge_and_select_data(final_text,map_keys = True, special_handling = True)\n"
   ]
  },
  {
   "cell_type": "code",
   "execution_count": null,
   "metadata": {},
   "outputs": [],
   "source": [
    "\"\"\"Unifi MUTUAL FUND\"\"\" #Issues: Major Issue\n",
    "\n",
    "amc_id = '97_0'\n",
    "fund_name, path= mutual_fund[amc_id]\n",
    "object = Unifi(fund_name,amc_id,path)\n",
    "title,path_pdf = object.check_and_highlight(path)\n",
    "data = object.get_data(path_pdf,title)\n",
    "extracted_text = object.get_generated_content(data, is_table=object.MAIN_MAP[\"table\"])\n",
    "final_text = object.refine_extracted_data(extracted_text)\n",
    "dfs = object.merge_and_select_data(final_text,map_keys = True, special_handling = True)\n",
    "# Helper.quick_json_dump(dfs, object.JSONPATH)"
   ]
  },
  {
   "cell_type": "code",
   "execution_count": null,
   "metadata": {},
   "outputs": [],
   "source": [
    "\"\"\"WHITEOAK MUTUAL FUND\"\"\"\n",
    "\n",
    "amc_id = '42_0'\n",
    "fund_name, path= mutual_fund[amc_id]\n",
    "object = WhiteOak(fund_name,amc_id,path)\n",
    "title,path_pdf = object.check_and_highlight(path)\n",
    "data = object.get_data(path_pdf,title)\n",
    "extracted_text = object.get_generated_content(data)\n",
    "final_text = object.refine_extracted_data(extracted_text)"
   ]
  },
  {
   "cell_type": "code",
   "execution_count": null,
   "metadata": {},
   "outputs": [],
   "source": [
    "object = WhiteOak(fund_name,amc_id,path)\n",
    "final_text = object.refine_extracted_data(extracted_text)\n",
    "dfs = object.merge_and_select_data(final_text, map_keys = True, special_handling = True)"
   ]
  },
  {
   "cell_type": "code",
   "execution_count": 37,
   "metadata": {},
   "outputs": [
    {
     "name": "stdout",
     "output_type": "stream",
     "text": [
      "Function Running: check_and_highlight\n",
      "Function Running: _get_normal_title\n",
      "Regex: (Zerodha.+?(?:Funds?|ETF|Index|Path)\\s*(?:Fo?O?F|of Funds?)?)\n",
      "03 -- Zerodha Nifty LargeMidcap 250 Index\n",
      "05 -- Zerodha ELSS Tax Saver Nifty LargeMidcap 250 Index\n",
      "07 -- Zerodha Nifty 1D Rate Liquid ETF\n",
      "09 -- Zerodha Gold ETF\n",
      "11 -- Zerodha Nifty   100 ETF\n",
      "13 -- Zerodha Nifty Midcap 150 ETF\n",
      "15 -- Zerodha Gold ETF FoF\n",
      "17 -- Zerodha Silver ETF\n",
      "19 -- Zerodha Overnight Fund\n",
      "23 -- Zerodha Nifty 100 ETF\n",
      "Function Running: _ocr_pdf\n"
     ]
    },
    {
     "data": {
      "application/vnd.jupyter.widget-view+json": {
       "model_id": "f618f14599b94330aef85c7bfa802e96",
       "version_major": 2,
       "version_minor": 0
      },
      "text/plain": [
       "Output()"
      ]
     },
     "metadata": {},
     "output_type": "display_data"
    },
    {
     "data": {
      "text/html": [
       "<pre style=\"white-space:pre;overflow-x:auto;line-height:normal;font-family:Menlo,'DejaVu Sans Mono',consolas,'Courier New',monospace\"></pre>\n"
      ],
      "text/plain": []
     },
     "metadata": {},
     "output_type": "display_data"
    },
    {
     "data": {
      "application/vnd.jupyter.widget-view+json": {
       "model_id": "1e3791f67c5d4bd484aeef26b3134271",
       "version_major": 2,
       "version_minor": 0
      },
      "text/plain": [
       "Output()"
      ]
     },
     "metadata": {},
     "output_type": "display_data"
    },
    {
     "data": {
      "text/html": [
       "<pre style=\"white-space:pre;overflow-x:auto;line-height:normal;font-family:Menlo,'DejaVu Sans Mono',consolas,'Courier New',monospace\">Weighted average image DPI is 197.3, max DPI is 299.5. The discrepancy may indicate a high detail region on this \n",
       "page, but could also indicate a problem with the input PDF file. Page image will be rendered at 400.0 DPI.\n",
       "</pre>\n"
      ],
      "text/plain": [
       "Weighted average image DPI is 197.3, max DPI is 299.5. The discrepancy may indicate a high detail region on this \n",
       "page, but could also indicate a problem with the input PDF file. Page image will be rendered at 400.0 DPI.\n"
      ]
     },
     "metadata": {},
     "output_type": "display_data"
    },
    {
     "data": {
      "text/html": [
       "<pre style=\"white-space:pre;overflow-x:auto;line-height:normal;font-family:Menlo,'DejaVu Sans Mono',consolas,'Courier New',monospace\">Weighted average image DPI is 197.3, max DPI is 299.5. The discrepancy may indicate a high detail region on this \n",
       "page, but could also indicate a problem with the input PDF file. Page image will be rendered at 400.0 DPI.\n",
       "</pre>\n"
      ],
      "text/plain": [
       "Weighted average image DPI is 197.3, max DPI is 299.5. The discrepancy may indicate a high detail region on this \n",
       "page, but could also indicate a problem with the input PDF file. Page image will be rendered at 400.0 DPI.\n"
      ]
     },
     "metadata": {},
     "output_type": "display_data"
    },
    {
     "data": {
      "text/html": [
       "<pre style=\"white-space:pre;overflow-x:auto;line-height:normal;font-family:Menlo,'DejaVu Sans Mono',consolas,'Courier New',monospace\">Weighted average image DPI is 156.2, max DPI is 288.0. The discrepancy may indicate a high detail region on this \n",
       "page, but could also indicate a problem with the input PDF file. Page image will be rendered at 400.0 DPI.\n",
       "</pre>\n"
      ],
      "text/plain": [
       "Weighted average image DPI is 156.2, max DPI is 288.0. The discrepancy may indicate a high detail region on this \n",
       "page, but could also indicate a problem with the input PDF file. Page image will be rendered at 400.0 DPI.\n"
      ]
     },
     "metadata": {},
     "output_type": "display_data"
    },
    {
     "data": {
      "text/html": [
       "<pre style=\"white-space:pre;overflow-x:auto;line-height:normal;font-family:Menlo,'DejaVu Sans Mono',consolas,'Courier New',monospace\">[tesseract] lots of diacritics - possibly poor OCR\n",
       "</pre>\n"
      ],
      "text/plain": [
       "[tesseract] lots of diacritics - possibly poor OCR\n"
      ]
     },
     "metadata": {},
     "output_type": "display_data"
    },
    {
     "data": {
      "text/html": [
       "<pre style=\"white-space:pre;overflow-x:auto;line-height:normal;font-family:Menlo,'DejaVu Sans Mono',consolas,'Courier New',monospace\"></pre>\n"
      ],
      "text/plain": []
     },
     "metadata": {},
     "output_type": "display_data"
    },
    {
     "data": {
      "application/vnd.jupyter.widget-view+json": {
       "model_id": "13bc626a23b947f39d8532df5cf47601",
       "version_major": 2,
       "version_minor": 0
      },
      "text/plain": [
       "Output()"
      ]
     },
     "metadata": {},
     "output_type": "display_data"
    },
    {
     "data": {
      "text/html": [
       "<pre style=\"white-space:pre;overflow-x:auto;line-height:normal;font-family:Menlo,'DejaVu Sans Mono',consolas,'Courier New',monospace\"></pre>\n"
      ],
      "text/plain": []
     },
     "metadata": {},
     "output_type": "display_data"
    },
    {
     "data": {
      "application/vnd.jupyter.widget-view+json": {
       "model_id": "e2fdd73830854765acb40851229eb9bc",
       "version_major": 2,
       "version_minor": 0
      },
      "text/plain": [
       "Output()"
      ]
     },
     "metadata": {},
     "output_type": "display_data"
    },
    {
     "data": {
      "text/html": [
       "<pre style=\"white-space:pre;overflow-x:auto;line-height:normal;font-family:Menlo,'DejaVu Sans Mono',consolas,'Courier New',monospace\"></pre>\n"
      ],
      "text/plain": []
     },
     "metadata": {},
     "output_type": "display_data"
    },
    {
     "data": {
      "application/vnd.jupyter.widget-view+json": {
       "model_id": "389f51f52a654416981bfce054864b3a",
       "version_major": 2,
       "version_minor": 0
      },
      "text/plain": [
       "Output()"
      ]
     },
     "metadata": {},
     "output_type": "display_data"
    },
    {
     "data": {
      "text/html": [
       "<pre style=\"white-space:pre;overflow-x:auto;line-height:normal;font-family:Menlo,'DejaVu Sans Mono',consolas,'Courier New',monospace\"></pre>\n"
      ],
      "text/plain": []
     },
     "metadata": {},
     "output_type": "display_data"
    },
    {
     "data": {
      "application/vnd.jupyter.widget-view+json": {
       "model_id": "7346d60176914dba8cbe67e14c0f9e1c",
       "version_major": 2,
       "version_minor": 0
      },
      "text/plain": [
       "Output()"
      ]
     },
     "metadata": {},
     "output_type": "display_data"
    },
    {
     "data": {
      "text/html": [
       "<pre style=\"white-space:pre;overflow-x:auto;line-height:normal;font-family:Menlo,'DejaVu Sans Mono',consolas,'Courier New',monospace\"></pre>\n"
      ],
      "text/plain": []
     },
     "metadata": {},
     "output_type": "display_data"
    },
    {
     "data": {
      "application/vnd.jupyter.widget-view+json": {
       "model_id": "e83213ba56f1409cbf7aa50c8bf9e44b",
       "version_major": 2,
       "version_minor": 0
      },
      "text/plain": [
       "Output()"
      ]
     },
     "metadata": {},
     "output_type": "display_data"
    },
    {
     "data": {
      "text/html": [
       "<pre style=\"white-space:pre;overflow-x:auto;line-height:normal;font-family:Menlo,'DejaVu Sans Mono',consolas,'Courier New',monospace\"></pre>\n"
      ],
      "text/plain": []
     },
     "metadata": {},
     "output_type": "display_data"
    },
    {
     "name": "stderr",
     "output_type": "stream",
     "text": [
      "[WinError 2] The system cannot find the file specified\n",
      "[WinError 2] The system cannot find the file specified\n",
      "The output file size is 2.41× larger than the input file.\n",
      "Possible reasons for this include:\n",
      "--deskew was issued, causing transcoding.\n",
      "--force-ocr was issued, causing transcoding.\n",
      "The optional dependency 'jbig2' was not found, so some image optimizations could not be attempted.\n",
      "The optional dependency 'pngquant' was not found, so some image optimizations could not be attempted.\n",
      "PDF/A conversion was enabled. (Try `--output-type pdf`.)\n",
      "\n"
     ]
    },
    {
     "name": "stdout",
     "output_type": "stream",
     "text": [
      "Function Running: get_data\n",
      "Function Running: extract_clipped_data\n",
      "Function Running: extract_span_data\n",
      "Function Running: process_text_data\n",
      "Function Running: create_nested_dict\n"
     ]
    }
   ],
   "source": [
    "\"\"\"ZERODHA MAIN CODE\"\"\" \n",
    "\n",
    "amc_id = '71_0'\n",
    "# logging.info(f\"User Ran Fund Data of {amc_name}\")\n",
    "fund_name, path= mutual_fund[amc_id]\n",
    "object = Zerodha(fund_name,amc_id,path)\n",
    "title,path_pdf= object.check_and_highlight(path)\n",
    "data = object.get_data(path_pdf,title)\n"
   ]
  },
  {
   "cell_type": "code",
   "execution_count": null,
   "metadata": {},
   "outputs": [],
   "source": [
    "object = Zerodha(fund_name,amc_id,path)\n",
    "extracted_text = object.get_generated_content(data)\n",
    "final_text = object.refine_extracted_data(extracted_text)\n",
    "dfs = object.merge_and_select_data(final_text,map_keys = True, special_handling = True)"
   ]
  },
  {
   "cell_type": "code",
   "execution_count": null,
   "metadata": {},
   "outputs": [],
   "source": []
  },
  {
   "cell_type": "code",
   "execution_count": null,
   "metadata": {},
   "outputs": [],
   "source": [
    "\"\"\"\"HSBC MAIN FILE CODE\"\"\" \n",
    "\n",
    "amc_id = '13_0'\n",
    "# logging.info(f\"User Ran Fund Data of {amc_name}\")\n",
    "fund_name, path= mutual_fund[amc_id]\n",
    "object = HSBC(fund_name,amc_id,path)\n",
    "title,path_pdf = object.check_and_highlight(path)\n",
    "data = object.get_data(path_pdf,title)\n"
   ]
  },
  {
   "cell_type": "code",
   "execution_count": 3,
   "metadata": {},
   "outputs": [
    {
     "name": "stdout",
     "output_type": "stream",
     "text": [
      "Function Running: get_generated_content\n",
      "\tParsing Completed, Refining Data.....\n",
      "[Error] get_generated_content failed: list index out of range\n",
      "Function Running: refine_extracted_data\n",
      "Function Running: merge_and_select_data\n"
     ]
    }
   ],
   "source": [
    "object = HSBC(fund_name,amc_id,path)\n",
    "extracted_text = object.get_generated_content(data)\n",
    "final_text = object.refine_extracted_data(extracted_text)\n",
    "dfs = object.merge_and_select_data(final_text,map_keys = True, special_handling = True)"
   ]
  },
  {
   "cell_type": "code",
   "execution_count": null,
   "metadata": {},
   "outputs": [],
   "source": []
  },
  {
   "cell_type": "code",
   "execution_count": null,
   "metadata": {},
   "outputs": [],
   "source": [
    "# \"18_0\": \"ThreeSixtyOne\",\n",
    "# \"3_0\": \"AdityaBirla\",\n",
    "# \"96_0\": \"AngelOne\",\n",
    "# \"1_0\": \"AXISMF\",\n",
    "# \"1_1\": \"AXISMFPassive\",\n",
    "# \"59_0\": \"BajajFinServ\",\n",
    "# \"16_0\": \"Bandhan\",\n",
    "# \"5_0\": \"BankOfIndia\",\n",
    "# \"2_0\": \"BarodaBNP\",\n",
    "# \"6_0\": \"Canara\",\n",
    "# \"8_0\": \"DSP\",\n",
    "# \"12_0\": \"HDFC\",\n",
    "# \"12_1\": \"HDFC\",\n",
    "# \"9_0\": \"Edelweiss\",\n",
    "# \"11_0\": \"FranklinTempleton\",\n",
    "# \"20_0\": \"GROWW\",\n",
    "# \"60_0\": \"Helios\",\n",
    "# \"13_0\": \"HSBC\",\n",
    "# \"14_0\": \"ICICI\",\n",
    "# \"14_1\": \"ICICI\",\n",
    "# \"21_0\": \"Invesco\",\n",
    "# \"51_0\": \"ITI\",\n",
    "# \"22_0\": \"JMMF\",\n",
    "# \"23_0\": \"Kotak\",\n",
    "# \"25_0\": \"LIC\",\n",
    "# \"26_0\": \"MahindraManu\",\n",
    "# \"27_0\": \"MIRAE\",\n",
    "# \"27_1\": \"MIRAEPassive\",\n",
    "# \"28_0\": \"MotilalOswal\",\n",
    "# \"28_1\": \"MotilalOswalPassive\",\n",
    "# \"56_0\": \"NAVI\",\n",
    "# \"56_1\": \"NAVIPassive\",\n",
    "# \"33_0\": \"Nippon\",\n",
    "# \"57_0\": \"NJMF\",\n",
    "# \"95_0\": \"OldBridge\",\n",
    "# \"7_0\": \"PGIM\",\n",
    "# \"30_0\": \"PPFAS\",\n",
    "# \"10_0\": \"QuantMF\",\n",
    "# \"32_0\": \"Quantum\",\n",
    "# \"58_0\": \"Samco\",\n",
    "# \"35_0\": \"SBI\",\n",
    "# \"35_1\": \"SBIPassive\",\n",
    "# \"36_0\": \"Shriram\",\n",
    "# \"37_0\": \"Sundaram\",\n",
    "# \"38_0\": \"Tata\",\n",
    "# \"39_0\": \"Taurus\",\n",
    "# \"55_0\": \"Trust\",\n",
    "# \"40_0\": \"Union\",\n",
    "# \"41_0\": \"UTI\",\n",
    "# \"41_1\": \"UTIPassive\",\n",
    "# \"42_0\": \"WhiteOak\",\n",
    "# \"71_0\": \"Zerodha\",\n",
    "# \"97_0\": \"Unifi\""
   ]
  },
  {
   "cell_type": "code",
   "execution_count": null,
   "metadata": {},
   "outputs": [],
   "source": [
    "#  \"Angel One Mutual Fund\": \"AngelOne\",\n",
    "# \"Aditya Birla Sun Life Mutual Fund\": \"AdityaBirla\",\n",
    "# \"Axis Mutual Fund\": \"AXISMF\",\n",
    "# \"Axis Mutual Fund Passive\": \"AXISMFPassive\",\n",
    "# \"Bajaj Finserv Mutual Fund\": \"BajajFinServ\",\n",
    "# \"Bandhan Mutual Fund\": \"Bandhan\",\n",
    "# \"Bank Of India Mutual Fund\": \"BankOfIndia\",\n",
    "# \"Baroda Bnp Paribas Mutual Fund\": \"BarodaBNP\",\n",
    "# \"Canara Robeco Mutual Fund\": \"Canara\",\n",
    "# \"Dsp Mutual Fund\": \"DSP\",\n",
    "# \"Edelweiss Mutual Fund\": \"Edelweiss\",\n",
    "# \"Franklin Templeton Mutual Fund\": \"FranklinTempleton\",\n",
    "# \"Groww Mutual Fund\": \"GROWW\",\n",
    "# \"Hdfc Mutual Fund\": \"HDFC\",\n",
    "# \"Hdfc Mutual Fund Passive\": \"HDFC\",\n",
    "# \"Helios Mutual Fund\": \"Helios\",\n",
    "# \"Hsbc Mutual Fund\": \"HSBC\",\n",
    "# \"Icici Prudential Mutual Fund\": \"ICICI\",\n",
    "# \"Icici Prudential Mutual Fund Passive\": \"ICICI\",\n",
    "# \"Iti Mutual Fund\": \"ITI\",\n",
    "# \"Invesco Mutual Fund\": \"Invesco\",\n",
    "# \"Jm Financial Mutual Fund\": \"JMMF\",\n",
    "# \"Kotak Mahindra Mutual Fund\": \"Kotak\",\n",
    "# \"Lic Mutual Fund\": \"LIC\",\n",
    "# \"Mahindra Manulife Mutual Fund\": \"MahindraManu\",\n",
    "# \"Mirae Asset Mutual Fund\": \"MIRAE\",\n",
    "# \"Mirae Asset Mutual Fund Passive\": \"MIRAEPassive\",\n",
    "# \"Motilal Oswal Mutual Fund\": \"MotilalOswal\",\n",
    "# \"Motilal Oswal Mutual Fund Passive\": \"MotilalOswalPassive\",\n",
    "# \"Nj Mutual Fund\": \"NJMF\",\n",
    "# \"Navi Mutual Fund\": \"NAVI\",\n",
    "# \"Nippon India Mutual Fund\": \"Nippon\",\n",
    "# \"Old Bridge Mutual Fund\": \"OldBridge\",\n",
    "# \"Pgim India Mutual Fund\": \"PGIM\",\n",
    "# \"Ppfas Mutual Fund\": \"PPFAS\",\n",
    "# \"Quant Mutual Fund\": \"QuantMF\",\n",
    "# \"Quantum Mutual Fund\": \"Quantum\",\n",
    "# \"Sbi Mutual Fund\": \"SBI\",\n",
    "# \"Sbi Mutual Fund Passive\": \"SBIPassive\",\n",
    "# \"Samco Mutual Fund\": \"Samco\",\n",
    "# \"Shriram Mutual Fund\": \"Shriram\",\n",
    "# \"Sundaram Mutual Fund\": \"Sundaram\",\n",
    "# \"Tata Mutual Fund\": \"Tata\",\n",
    "# \"Taurus Mutual Fund\": \"Taurus\",\n",
    "# \"Trust Mutual Fund\": \"Trust\",\n",
    "# \"Uti Mutual Fund\": \"UTI\",\n",
    "# \"Union Mutual Fund\": \"Union\",\n",
    "# \"Whiteoak Mutual Fund\": \"WhiteOak\",\n",
    "# \"Zerodha Mutual Fund\": \"Zerodha\""
   ]
  }
 ],
 "metadata": {
  "kernelspec": {
   "display_name": ".venv",
   "language": "python",
   "name": "python3"
  },
  "language_info": {
   "codemirror_mode": {
    "name": "ipython",
    "version": 3
   },
   "file_extension": ".py",
   "mimetype": "text/x-python",
   "name": "python",
   "nbconvert_exporter": "python",
   "pygments_lexer": "ipython3",
   "version": "3.13.1"
  }
 },
 "nbformat": 4,
 "nbformat_minor": 2
}
