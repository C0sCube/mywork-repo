{
 "cells": [
  {
   "cell_type": "code",
   "execution_count": 1,
   "metadata": {},
   "outputs": [
    {
     "name": "stdout",
     "output_type": "stream",
     "text": [
      "Loaded config with output_folder = JPY\n",
      "C:\\Users\\rando\\OneDrive\\Documents\\PDFDrive\\Apr25\n"
     ]
    }
   ],
   "source": [
    "%load_ext autoreload\n",
    "%autoreload 2\n",
    "from app.config_loader import load_config_once\n",
    "\n",
    "conf = load_config_once(output_folder=\"JPY\")\n",
    "\n",
    "\n",
    "import json, os, logging, datetime,json5,sys\n",
    "from app.fund_data import *\n",
    "from app.utils import Helper\n",
    "from logging_config import logger\n",
    "logger.info(\"Application Started !!\")\n",
    "mutual_fund = Helper.get_amc_paths(conf[\"amc_path\"])\n",
    "    \n",
    "# https://www.sebi.gov.in/sebiweb/other/OtherAction.do?doMutualFund=yes&mftype=2"
   ]
  },
  {
   "cell_type": "code",
   "execution_count": 3,
   "metadata": {},
   "outputs": [],
   "source": [
    "with open(\"config\\\\parameters.json5\",\"r+\") as file:\n",
    "  params = json5.load(file)\n",
    "\n",
    "# with open(\"config\\\\sid_params.json5\",\"r+\") as file:\n",
    "#     params = json5.dump(params,file)\n",
    "\n",
    "for k,content in params.items():\n",
    "  main_map = content[\"MAIN_MAP\"]\n",
    "  main_map.update({\"table\":[False,\"\"]})\n",
    "  content[\"MAIN_MAP\"] = main_map\n",
    "\n",
    "with open(\"parameters.json5\",\"r+\") as file:\n",
    "  params = json5.dump(params,file)\n",
    "  \n",
    "  "
   ]
  },
  {
   "cell_type": "code",
   "execution_count": null,
   "metadata": {},
   "outputs": [],
   "source": [
    "\"\"\"360 ONE FILE CODE\"\"\"\n",
    "amc_id = '18_0'\n",
    "# logging.info(f\"User Ran Fund Data of {amc_name}\")\n",
    "fund_name, path= mutual_fund[amc_id]\n",
    "object = ThreeSixtyOne(fund_name,amc_id,path)\n",
    "title,path_pdf = object.check_and_highlight(path)\n",
    "data = object.get_data(path_pdf,title)\n",
    "extracted_text = object.get_generated_content(data)\n",
    "final_text = object.refine_extracted_data(extracted_text)\n",
    "dfs = object.merge_and_select_data(final_text,map_keys = True, special_handling = True)\n",
    "save_path = os.path.join(object.JSONPATH, object.FILE_NAME).replace(\".pdf\", \".json\")\n",
    "with open(save_path, 'w') as f:\n",
    "  json.dump(dfs, f, indent=2)\n",
    "print(f\"File Saved At: {save_path}\")"
   ]
  },
  {
   "cell_type": "code",
   "execution_count": null,
   "metadata": {},
   "outputs": [],
   "source": [
    "\"\"\"ANGEL ONE FILE CODE\"\"\"\n",
    "amc_id = '96_0'\n",
    "# logging.info(f\"User Ran Fund Data of {amc_name}\")\n",
    "fund_name, path= mutual_fund[amc_id]\n",
    "object = AngelOne(fund_name,amc_id,path)\n",
    "title,path_pdf = object.check_and_highlight(path)\n",
    "data = object.get_data(path_pdf,title)\n",
    "extracted_text = object.get_generated_content(data)\n",
    "final_text = object.refine_extracted_data(extracted_text)\n",
    "dfs = object.merge_and_select_data(final_text,map_keys = True, special_handling = True)\n",
    "save_path = os.path.join(object.JSONPATH, object.FILE_NAME).replace(\".pdf\", \".json\")\n",
    "with open(save_path, 'w') as f:\n",
    "  json.dump(dfs, f, indent=2)\n",
    "print(f\"File Saved At: {save_path}\")"
   ]
  },
  {
   "cell_type": "code",
   "execution_count": null,
   "metadata": {},
   "outputs": [],
   "source": [
    "\"\"\"SHRIRAM MAIN FILE CODE\"\"\"\n",
    "amc_id = '36_0'\n",
    "# logging.info(f\"User Ran Fund Data of {amc_name}\")\n",
    "fund_name, path= mutual_fund[amc_id]\n",
    "object = Shriram(fund_name,amc_id,path)\n",
    "title,path_pdf = object.check_and_highlight(path)\n",
    "data = object.get_data(path_pdf,title)\n",
    "extracted_text = object.get_generated_content(data)\n",
    "final_text = object.refine_extracted_data(extracted_text)\n",
    "dfs = object.merge_and_select_data(final_text,map_keys = True, special_handling = True)\n",
    "save_path = os.path.join(object.JSONPATH, object.FILE_NAME).replace(\".pdf\", \".json\")\n",
    "with open(save_path, 'w') as f:\n",
    "  json.dump(dfs, f, indent=2)\n",
    "print(f\"File Saved At: {save_path}\")"
   ]
  },
  {
   "cell_type": "code",
   "execution_count": null,
   "metadata": {},
   "outputs": [],
   "source": [
    "\"\"\"PPFAS MAIN FILE CODE\"\"\"\n",
    "\n",
    "amc_id = '30_0'\n",
    "# logging.info(f\"User Ran Fund Data of {amc_name}\")\n",
    "fund_name, path= mutual_fund[amc_id]\n",
    "object = PPFAS(fund_name,amc_id,path)\n",
    "title,path_pdf = object.check_and_highlight(path)\n",
    "data = object.get_data(path_pdf,title)\n",
    "extracted_text = object.get_generated_content(data)\n",
    "final_text = object.refine_extracted_data(extracted_text)\n",
    "dfs = object.merge_and_select_data(final_text,map_keys = True, special_handling = True)\n",
    "save_path = os.path.join(object.JSONPATH, object.FILE_NAME).replace(\".pdf\", \".json\")\n",
    "with open(save_path, 'w') as f:\n",
    "  json.dump(dfs, f, indent=2)\n",
    "print(f\"File Saved At: {save_path}\")"
   ]
  },
  {
   "cell_type": "code",
   "execution_count": 13,
   "metadata": {},
   "outputs": [
    {
     "name": "stdout",
     "output_type": "stream",
     "text": [
      "Function Running: refine_extracted_data\n",
      "Function Running: merge_and_select_data\n",
      "File Saved At: C:\\Users\\rando\\OneDrive\\Documents\\data\\JPY\\1_30-Apr-2025_1_FS.json\n"
     ]
    }
   ],
   "source": [
    "final_text = object.refine_extracted_data(extracted_text)\n",
    "dfs = object.merge_and_select_data(final_text,map_keys = True, special_handling = True)\n",
    "save_path = os.path.join(object.JSONPATH, object.FILE_NAME).replace(\".pdf\", \".json\")\n",
    "with open(save_path, 'w') as f:\n",
    "  json.dump(dfs, f, indent=2)\n",
    "print(f\"File Saved At: {save_path}\")"
   ]
  },
  {
   "cell_type": "code",
   "execution_count": 11,
   "metadata": {},
   "outputs": [
    {
     "name": "stdout",
     "output_type": "stream",
     "text": [
      "Function Running: check_and_highlight\n",
      "Function Running: _get_ocr_title\n"
     ]
    },
    {
     "data": {
      "application/vnd.jupyter.widget-view+json": {
       "model_id": "087e3af4153d4a978a794dbc13e736a9",
       "version_major": 2,
       "version_minor": 0
      },
      "text/plain": [
       "Output()"
      ]
     },
     "metadata": {},
     "output_type": "display_data"
    },
    {
     "data": {
      "text/html": [
       "<pre style=\"white-space:pre;overflow-x:auto;line-height:normal;font-family:Menlo,'DejaVu Sans Mono',consolas,'Courier New',monospace\"></pre>\n"
      ],
      "text/plain": []
     },
     "metadata": {},
     "output_type": "display_data"
    },
    {
     "data": {
      "application/vnd.jupyter.widget-view+json": {
       "model_id": "d7a2896b9fab450e9d54195cfbb27270",
       "version_major": 2,
       "version_minor": 0
      },
      "text/plain": [
       "Output()"
      ]
     },
     "metadata": {},
     "output_type": "display_data"
    },
    {
     "name": "stderr",
     "output_type": "stream",
     "text": [
      "WARNING - [tesseract] lots of diacritics - possibly poor OCR\n"
     ]
    },
    {
     "name": "stderr",
     "output_type": "stream",
     "text": [
      "WARNING - [tesseract] lots of diacritics - possibly poor OCR\n"
     ]
    },
    {
     "name": "stderr",
     "output_type": "stream",
     "text": [
      "WARNING - [tesseract] Warning: Invalid resolution 3347 dpi. Using 70 instead.\n"
     ]
    },
    {
     "name": "stderr",
     "output_type": "stream",
     "text": [
      "WARNING - [tesseract] Warning: Invalid resolution 3381 dpi. Using 70 instead.\n"
     ]
    },
    {
     "name": "stderr",
     "output_type": "stream",
     "text": [
      "WARNING - [tesseract] Warning: Invalid resolution 3381 dpi. Using 70 instead.\n"
     ]
    },
    {
     "name": "stderr",
     "output_type": "stream",
     "text": [
      "WARNING - [tesseract] Warning: Invalid resolution 3381 dpi. Using 70 instead.\n"
     ]
    },
    {
     "name": "stderr",
     "output_type": "stream",
     "text": [
      "WARNING - [tesseract] Warning: Invalid resolution 3381 dpi. Using 70 instead.\n",
      "WARNING - [tesseract] Warning: Invalid resolution 3381 dpi. Using 70 instead.\n"
     ]
    },
    {
     "data": {
      "text/html": [
       "<pre style=\"white-space:pre;overflow-x:auto;line-height:normal;font-family:Menlo,'DejaVu Sans Mono',consolas,'Courier New',monospace\"></pre>\n"
      ],
      "text/plain": []
     },
     "metadata": {},
     "output_type": "display_data"
    },
    {
     "data": {
      "application/vnd.jupyter.widget-view+json": {
       "model_id": "b4fe335b023846469d56b33a81c3c03e",
       "version_major": 2,
       "version_minor": 0
      },
      "text/plain": [
       "Output()"
      ]
     },
     "metadata": {},
     "output_type": "display_data"
    },
    {
     "data": {
      "text/html": [
       "<pre style=\"white-space:pre;overflow-x:auto;line-height:normal;font-family:Menlo,'DejaVu Sans Mono',consolas,'Courier New',monospace\"></pre>\n"
      ],
      "text/plain": []
     },
     "metadata": {},
     "output_type": "display_data"
    },
    {
     "data": {
      "application/vnd.jupyter.widget-view+json": {
       "model_id": "1bcc5d4e269545648a1a4be765937722",
       "version_major": 2,
       "version_minor": 0
      },
      "text/plain": [
       "Output()"
      ]
     },
     "metadata": {},
     "output_type": "display_data"
    },
    {
     "data": {
      "text/html": [
       "<pre style=\"white-space:pre;overflow-x:auto;line-height:normal;font-family:Menlo,'DejaVu Sans Mono',consolas,'Courier New',monospace\"></pre>\n"
      ],
      "text/plain": []
     },
     "metadata": {},
     "output_type": "display_data"
    },
    {
     "data": {
      "application/vnd.jupyter.widget-view+json": {
       "model_id": "e218656caac748a5acfdb3ead0e21e6a",
       "version_major": 2,
       "version_minor": 0
      },
      "text/plain": [
       "Output()"
      ]
     },
     "metadata": {},
     "output_type": "display_data"
    },
    {
     "data": {
      "text/html": [
       "<pre style=\"white-space:pre;overflow-x:auto;line-height:normal;font-family:Menlo,'DejaVu Sans Mono',consolas,'Courier New',monospace\"></pre>\n"
      ],
      "text/plain": []
     },
     "metadata": {},
     "output_type": "display_data"
    },
    {
     "data": {
      "application/vnd.jupyter.widget-view+json": {
       "model_id": "58554de974f343a3bac79f8c4e21d403",
       "version_major": 2,
       "version_minor": 0
      },
      "text/plain": [
       "Output()"
      ]
     },
     "metadata": {},
     "output_type": "display_data"
    },
    {
     "data": {
      "text/html": [
       "<pre style=\"white-space:pre;overflow-x:auto;line-height:normal;font-family:Menlo,'DejaVu Sans Mono',consolas,'Courier New',monospace\"></pre>\n"
      ],
      "text/plain": []
     },
     "metadata": {},
     "output_type": "display_data"
    },
    {
     "data": {
      "application/vnd.jupyter.widget-view+json": {
       "model_id": "1162e9ec1e2b4265a3279731d9847b7d",
       "version_major": 2,
       "version_minor": 0
      },
      "text/plain": [
       "Output()"
      ]
     },
     "metadata": {},
     "output_type": "display_data"
    },
    {
     "data": {
      "text/html": [
       "<pre style=\"white-space:pre;overflow-x:auto;line-height:normal;font-family:Menlo,'DejaVu Sans Mono',consolas,'Courier New',monospace\"></pre>\n"
      ],
      "text/plain": []
     },
     "metadata": {},
     "output_type": "display_data"
    },
    {
     "name": "stdout",
     "output_type": "stream",
     "text": [
      "Function Running: _get_normal_title\n",
      "Regex: ([Aa][Xx][Ii][Ss].*?(?:Funds?|ETFs?|Fo?O?F|Plans?|Index)\\s*(?:of Funds?|Fo?O?F|Funds?)?)\n",
      "00 -- Axis Mutual Fund\n",
      "06 -- Axis Nifty 100 Index Fund\n",
      "07 -- Axis Nifty 50 Index Fund\n",
      "08 -- Axis BSE Sensex Index Fund\n",
      "09 -- Axis Nifty Next 50 Index Fund\n",
      "10 -- Axis Nifty Smallcap 50 Index Fund\n",
      "11 -- Axis Nifty Midcap 50 Index Fund\n",
      "12 -- Axis Nifty IT Index Fund\n",
      "13 -- Axis Nifty Bank Index Fund\n",
      "14 -- Axis Nifty 500 Index Fund\n",
      "15 -- Axis Nifty500 Value 50 Index Fund\n",
      "16 -- Axis NiftySO0O Momentum 50 Index Fund\n",
      "17 -- Axis CRISIL IBX 7030 CPSE Plus SDL April 2025 Index Fund\n",
      "18 -- Axis CRISIL IBX SDL May 2027 Index Fund\n",
      "19 -- Axis Nifty SDL September 2026 Debt Index Fund\n",
      "20 -- Axis CRISIL IBX 5050 Gilt Plus SDL June 2028 Index Fund\n",
      "21 -- Axis CRISIL IBX 5050 Gilt Plus SDL September 2027 Index Fund\n",
      "22 -- Axis CRISIL IBX SDL June 2034 Debt Index Fund\n",
      "23 -- Axis CRISIL-IBX AAA Bond NBFC-HFC - Jun 2027 Index Fund\n",
      "24 -- Axis CRISIL-IBX AAA Bond NBFEC - Jun 2027 Index Fund\n",
      "25 -- Axis CRISIL-IBX AAA Bond Financial Services - Sep 2027 Index Fund\n",
      "26 -- Axis NIFTY 50 ETF\n",
      "27 -- Axis NIFTY Bank ETF\n",
      "28 -- Axis NIFTY IT ETF\n",
      "29 -- AXISHCETF\n",
      "30 -- Axis NIFTY India Consumption ET F (NSE Symbol AXISCETF\n",
      "31 -- Axis Gold ETF\n",
      "32 -- Axis Silver ETF\n",
      "33 -- Axis Nifty AAA Bond Plus SDL Apr 2026 50 50 ETF\n",
      "34 -- Axis BSE SENSEX ETF\n",
      "36 -- Axis Equity ETFs FoF\n",
      "37 -- Axis Gold Fund\n",
      "38 -- Axis Silver Fund of Fund\n",
      "39 -- Axis Nifty AAA Bond Plus SDL Apr 2026 5050 ETF FOF\n",
      "41 -- Axis Arbitrage Fund\n",
      "42 -- Axis Strategic Bond Fund\n",
      "52 -- Axis Nifty 100 Index Fund\n",
      "53 -- Axis Nifty IT Index Fund\n",
      "54 -- Axis NIFTY Bank ETF\n",
      "55 -- Axis BSE SENSEX ETF\n",
      "56 -- Axis CRISIL IBX 7030 CPSE Plus SDL April 2025 Index\n",
      "Function Running: get_data\n",
      "Function Running: extract_data_relative_line\n",
      "Function Running: extract_span_data\n",
      "Function Running: process_text_data\n",
      "Function Running: create_nested_dict\n",
      "Function Running: get_generated_content\n",
      "Parsing Completed, Refining Data.....\n",
      "\n"
     ]
    }
   ],
   "source": [
    "'''AXIS ONE PASSIVE MAIN FILE CODE'''\n",
    "amc_id = '1_1'\n",
    "# logging.info(f\"User Ran Fund Data of {amc_name}\")\n",
    "fund_name, path= mutual_fund[amc_id]\n",
    "object = AXISMFPassive(fund_name,amc_id,path)\n",
    "title,path_pdf = object.check_and_highlight(path)\n",
    "data = object.get_data(path_pdf,title)\n",
    "extracted_text = object.get_generated_content(data)\n",
    "# final_text = object.refine_extracted_data(extracted_text)\n",
    "# dfs = object.merge_and_select_data(final_text,map_keys = True, special_handling = True)\n",
    "# with open(save_path, 'w') as f:\n",
    "#   json.dump(dfs, f, indent=2)\n",
    "# print(f\"File Saved At: {save_path}\")"
   ]
  },
  {
   "cell_type": "code",
   "execution_count": null,
   "metadata": {},
   "outputs": [],
   "source": [
    "'''AXIS ONE ACTIVE MAIN FILE CODE''' #No issues as of now\n",
    "amc_name = \"Axis Mutual Fund\"\n",
    "logger.info(f\"User Ran Fund Data of {amc_name}\")\n",
    "path = mutual_fund[amc_name]\n",
    "object = AXISMF(amc_name,path)\n",
    "\n",
    "title,path_pdf = object.check_and_highlight(path)\n",
    "data = object.get_data(path_pdf,title)\n",
    "extracted_text = object.get_generated_content(data)\n"
   ]
  },
  {
   "cell_type": "code",
   "execution_count": null,
   "metadata": {},
   "outputs": [],
   "source": [
    "object = AXISMF(amc_name,path)\n",
    "data = object.get_data(path_pdf,title)\n",
    "extracted_text = object.get_generated_content(data)\n",
    "Helper.quick_json_dump(extracted_text,object.JSONPATH)"
   ]
  },
  {
   "cell_type": "code",
   "execution_count": null,
   "metadata": {},
   "outputs": [],
   "source": [
    "object = AXISMF(amc_name,path)\n",
    "final_text = object.refine_extracted_data(extracted_text, flatten=True)\n",
    "dfs = object.merge_and_select_data(final_text,select = True, map_keys = True, special=True)\n",
    "Helper.quick_json_dump(dfs,object.JSONPATH)"
   ]
  },
  {
   "cell_type": "code",
   "execution_count": null,
   "metadata": {},
   "outputs": [],
   "source": [
    "\"\"\"ADITYA BIRLA FILE CODE\"\"\"# pages = [17, 19, 21, 23, 25, 27, 29, 31, 33, 35, 37, 39, 41, 43, 45, 47, 49, 50, 52, 54, 56, 58, 60, 62, 64, 66, 67, 69, 72, 75, 78, 80, 82, 86, 87, 89, 91, 93, 95, 98, 101, 103, 106, 108, 110, 112, 114, 115, 116, 118, 119, 121, 123, 125, 127, 128, 129, 130, 131, 132, 133, 134, 135, 136, 137, 138, 139, 140, 141, 143, 145, 147, 149, 151, 152, 153, 155, 157, 159, 160, 161, 162, 163, 164, 165, 166, 167, 168, 169, 170, 171, 172, 173, 174, 175, 176, 177, 178, 179, 180, 181, 182]\n",
    "amc_name = 'Aditya Birla Sun Life Mutual Fund'\n",
    "logging.info(f\"User Ran Fund Data of {amc_name}\")\n",
    "\n",
    "object = AdityaBirla(amc_name,path)\n",
    "path = mutual_fund[amc_name]\n",
    "\n",
    "title,path_pdf = object.check_and_highlight(path)\n",
    "\n",
    "data = object.get_data(path_pdf,title)\n",
    "extracted_text = object.get_generated_content(data)"
   ]
  },
  {
   "cell_type": "code",
   "execution_count": null,
   "metadata": {},
   "outputs": [],
   "source": [
    "object = AdityaBirla(amc_name,path)\n",
    "final_text = object.refine_extracted_data(extracted_text, flatten=True)\n",
    "dfs = object.merge_and_select_data(final_text,select=True,map_keys = True,special_handling=True)\n",
    "Helper.quick_json_dump(dfs,object.JSONPATH)"
   ]
  },
  {
   "cell_type": "code",
   "execution_count": null,
   "metadata": {},
   "outputs": [],
   "source": []
  },
  {
   "cell_type": "code",
   "execution_count": null,
   "metadata": {},
   "outputs": [],
   "source": [
    "\"\"\"BANDHAN MF FILE MAIN CODE\"\"\" # rgex for fund manager\n",
    "\n",
    "amc_name = \"Bandhan Mutual Fund\"\n",
    "logging.info(f\"User Ran Fund Data of {amc_name}\")\n",
    "\n",
    "object = Bandhan(amc_name,path)\n",
    "path = mutual_fund[amc_name]\n",
    "\n",
    "title,path_pdf= object.check_and_highlight(path)"
   ]
  },
  {
   "cell_type": "code",
   "execution_count": null,
   "metadata": {},
   "outputs": [],
   "source": [
    "object = Bandhan(amc_name,path)\n",
    "data  = object.get_data(path_pdf,title)\n",
    "extracted_text = object.get_generated_content(data)\n",
    "Helper.quick_json_dump(extracted_text, object.JSONPATH)"
   ]
  },
  {
   "cell_type": "code",
   "execution_count": null,
   "metadata": {},
   "outputs": [],
   "source": [
    "\n",
    "final_text = object.refine_extracted_data(extracted_text, flatten = True)\n",
    "dfs = object.merge_and_select_data(final_text,select=True, map_keys = True, special = True)\n",
    "Helper.quick_json_dump(dfs, object.JSONPATH)"
   ]
  },
  {
   "cell_type": "code",
   "execution_count": null,
   "metadata": {},
   "outputs": [],
   "source": [
    "\"\"\" BARODA BNP MAIN FILE CODE\"\"\"\n",
    "\n",
    "amc_name = 'Baroda Bnp Paribas Mutual Fund'\n",
    "logging.info(f\"User Ran Fund Data of {amc_name}\")\n",
    "path = mutual_fund[amc_name]\n",
    "object = BarodaBNP(amc_name,path)\n",
    "title,path_pdf= object.check_and_highlight(path)"
   ]
  },
  {
   "cell_type": "code",
   "execution_count": null,
   "metadata": {},
   "outputs": [],
   "source": [
    "data  = object.get_data(path_pdf,title)\n",
    "extracted_text = object.get_generated_content(data)"
   ]
  },
  {
   "cell_type": "code",
   "execution_count": null,
   "metadata": {},
   "outputs": [],
   "source": [
    "object = BarodaBNP(amc_name,path)\n",
    "final_text = object.refine_extracted_data(extracted_text, flatten = True)\n",
    "dfs = object.merge_and_select_data(final_text, select = True, map_keys = True, special = True)\n",
    "Helper.quick_json_dump(dfs, object.JSONPATH)"
   ]
  },
  {
   "cell_type": "code",
   "execution_count": null,
   "metadata": {},
   "outputs": [],
   "source": [
    "\"\"\"BANK OF INDIA\"\"\" #Regex# pages =[6, 7, 8, 9, 10, 11, 12, 13, 14, 15, 16, 17, 18, 19, 20, 21, 22, 23, 24]\n",
    "\n",
    "amc_id = '5_0'\n",
    "# logging.info(f\"User Ran Fund Data of {amc_name}\")\n",
    "fund_name, path= mutual_fund[amc_id]\n",
    "object = BankOfIndia(fund_name,amc_id,path)\n",
    "title,path_pdf = object.check_and_highlight(path)\n",
    "data = object.get_data(path_pdf,title)\n",
    "extracted_text = object.get_generated_content(data)\n",
    "\n",
    "object = BankOfIndia(fund_name,amc_id,path)\n",
    "final_text = object.refine_extracted_data(extracted_text)\n",
    "dfs = object.merge_and_select_data(final_text,select = True, map_keys = True, special=True)\n",
    "Helper.quick_json_dump(dfs, object.JSONPATH)"
   ]
  },
  {
   "cell_type": "code",
   "execution_count": null,
   "metadata": {},
   "outputs": [],
   "source": [
    "\"\"\"BAJAJ FINSERV MAIN FILE CODE\"\"\" #manager regex robust # pages = [17, 19, 21, 23, 25, 26, 28, 30, 31, 32, 33, 34, 35, 36, 37, 38]\n",
    "\n",
    "amc_name = 'Bajaj Finserv Mutual Fund'\n",
    "logging.info(f\"User Ran Fund Data of {amc_name}\")\n",
    "path = mutual_fund[amc_name]\n",
    "object = BajajFinServ(amc_name,path)\n",
    "\n",
    "title,path_pdf= object.check_and_highlight(path)\n",
    "data = object.get_data(path_pdf,title)\n",
    "extracted_text = object.get_generated_content(data)"
   ]
  },
  {
   "cell_type": "code",
   "execution_count": null,
   "metadata": {},
   "outputs": [],
   "source": [
    "object = BajajFinServ(amc_name,path)\n",
    "final_text = object.refine_extracted_data(extracted_text, flatten = True)\n",
    "dfs = object.merge_and_select_data(final_text, select=True,map_keys = True, special=True)\n",
    "Helper.quick_json_dump(dfs, object.JSONPATH)"
   ]
  },
  {
   "cell_type": "code",
   "execution_count": null,
   "metadata": {},
   "outputs": [],
   "source": [
    "\"\"\"CANARA MUTUAL FUND\"\"\" # pages = [8, 9, 10, 11, 12, 13, 14, 15, 16, 17, 18, 19, 20, 21, 22, 23, 24, 25, 26, 27, 28, 29, 30, 31, 32]\n",
    "\n",
    "amc_id = '6_0'\n",
    "# logging.info(f\"User Ran Fund Data of {amc_name}\")\n",
    "fund_name, path= mutual_fund[amc_id]\n",
    "object = Canara(fund_name,amc_id,path)\n",
    "title,path_pdf = object.check_and_highlight(path)\n",
    "data = object.get_data(path_pdf,title)\n",
    "extracted_text = object.get_generated_content(data)"
   ]
  },
  {
   "cell_type": "code",
   "execution_count": 36,
   "metadata": {},
   "outputs": [
    {
     "name": "stdout",
     "output_type": "stream",
     "text": [
      "Function Running: refine_extracted_data\n",
      "Function Running: merge_and_select_data\n"
     ]
    }
   ],
   "source": [
    "object =  Canara(fund_name,amc_id,path)\n",
    "final_text = object.refine_extracted_data(extracted_text, flatten = True)\n",
    "dfs = object.merge_and_select_data(final_text,select = True,map_keys = True, special_handling=True)\n",
    "# Helper.quick_json_dump(dfs, object.JSONPATH)"
   ]
  },
  {
   "cell_type": "code",
   "execution_count": null,
   "metadata": {},
   "outputs": [
    {
     "name": "stdout",
     "output_type": "stream",
     "text": [
      "Function Running: check_and_highlight\n",
      "Function Running: _get_normal_title\n",
      "Regex: ((?:DSP|Bharat).*?(?:Fund\\s*(?:of Fund)?|FUND|ETF|FTF|FOF))\n",
      "Function Running: get_data\n",
      "Function Running: extract_clipped_data\n",
      "Function Running: extract_span_data\n",
      "Function Running: process_text_data\n",
      "Function Running: create_nested_dict\n",
      "DSP Flexi Cap Fund --> DSP Flexi Cap Fund\n",
      "DSP Top 100 Equity Fund --> DSP Top 100 Equity Fund\n",
      "DSP Equity Opportunities Fund --> DSP Equity Opportunities Fund\n",
      "DSP India TIGER Fund --> DSP India T.I.G.E.R Fund\n",
      "DSP Mid Cap Fund --> DSP Mid Cap Fund\n",
      "DSP ELSS Tax Saver Fund --> DSP ELSS Tax Saver Fund\n",
      "DSP Healthcare Fund --> DSP Healthcare Fund\n",
      "DSP Quant Fund --> DSP Quant Fund\n",
      "DSP VALUE FUND --> DSP VALUE FUND\n",
      "DSP Small Cap Fund --> DSP Small Cap Fund\n",
      "DSP Focus Fund --> DSP Focus Fund\n",
      "DSP Multicap Fund --> DSP Multicap Fund\n",
      "DSP Business Cycle Fund --> DSP Business Cycle Fund\n",
      "DSP Natural Resources and New Energy Fund --> DSP Natural Resources and New Energy Fund\n",
      "DSP World Gold Fund of Fund --> DSP World Gold Fund of Fund\n",
      "DSP World Mining Fund of Fund --> DSP World Mining Fund of Fund\n",
      "DSP Global Clean Energy Fund of Fund --> DSP Global Clean Energy Fund of Fund\n",
      "DSP US Flexible Equity Fund of Fund --> DSP US Flexible Equity Fund of Fund\n",
      "DSP Income Plus Arbitrage Fund of Fund --> DSP Income Plus Arbitrage Fund of Fund\n",
      "DSP Global Innovation Fund of Fund --> DSP Global Innovation Fund of Fund\n",
      "DSP Gold ETF --> DSP Gold ETF Fund of Fund\n",
      "DSP Dynamic Asset Allocation Fund --> DSP Dynamic Asset Allocation Fund\n",
      "DSP Aggressive Hybrid Fund --> DSP Aggressive Hybrid Fund\n",
      "DSP Equity Savings Fund --> DSP Equity Savings Fund\n",
      "DSP Nifty 50 Equal Weight Index Fund --> DSP Nifty 50 Equal Weight Index Fund\n",
      "DSP Nifty 50 Equal Weight ETF --> DSP Nifty 50 Equal Weight ETF\n",
      "DSP NIFTY 50 ETF --> DSP NIFTY 50 ETF\n",
      "DSP NIFTY MIDCAP 150 QUALITY 50 ETF --> DSP NIFTY MIDCAP 150 QUALITY 50 ETF\n",
      "DSP Silver ETF --> DSP Silver ETF\n",
      "DSP Nifty Bank ETF --> DSP Nifty Bank ETF\n",
      "DSP Nifty IT ETF --> DSP Nifty IT ETF\n",
      "DSP Nifty PSU Bank ETF --> DSP Nifty PSU Bank ETF\n",
      "DSP Nifty Private Bank ETF --> DSP Nifty Private Bank ETF\n",
      "DSP BSE Sensex ETF --> DSP BSE Sensex ETF\n",
      "DSP Nifty Healthcare ETF --> DSP Nifty Healthcare ETF\n",
      "DSP NIFTY 1D Rate Liquid ETF --> DSP NIFTY 1D Rate Liquid ETF\n",
      "DSP BSE Liquid Rate ETF --> DSP BSE Liquid Rate ETF\n",
      "DSP Nifty Top 10 Equal Weight ETF --> DSP Nifty Top 10 Equal Weight ETF\n",
      "DSP BSE Sensex Next 30 ETF --> DSP BSE Sensex Next 30 ETF\n",
      "DSP Nifty Top 10 Equal Weight Index Fund --> DSP Nifty Top 10 Equal Weight Index Fund\n",
      "DSP Nifty Next 50 Index Fund --> DSP Nifty Next 50 Index Fund\n",
      "DSP Nifty 50 Index Fund --> DSP Nifty 50 Index Fund\n",
      "DSP Nifty Bank Index Fund --> DSP Nifty Bank Index Fund\n",
      "DSP BSE SENSEX Next 30 Index Fund --> DSP BSE SENSEX Next 30 Index Fund\n",
      "DSP Nifty Private Bank Index Fund --> DSP Nifty Private Bank Index Fund\n",
      "DSP Arbitrage Fund --> DSP Arbitrage Fund\n",
      "DSP Regular Savings Fund --> DSP Regular Savings Fund\n",
      "DSP Liquidity Fund --> DSP Liquidity Fund\n",
      "DSP Ultra Short Fund --> DSP Ultra Short Fund\n",
      "DSP Floater Fund --> DSP Floater Fund\n",
      "DSP Nifty SDL Plus G-Sec Jun 2028 3070 Index Fund --> DSP Nifty SDL Plus G-Sec Jun 2028 30:70 Index Fund\n",
      "DSP CRISIL SDL Plus G-Sec Apr 2033 5050 Index Fund --> DSP CRISIL SDL Plus G-Sec Apr 2033 50:50 Index Fund\n",
      "DSP Nifty Smallcap250 Quality 50 Index Fund --> DSP Nifty Smallcap250 Quality 50 Index Fund\n",
      "DSP Savings Fund --> DSP Savings Fund\n",
      "DSP Gilt Fund --> DSP Gilt Fund\n",
      "DSP Short Term Fund --> DSP Short Term Fund\n",
      "DSP Banking & PSU Debt Fund --> DSP Banking & PSU Debt Fund\n",
      "DSP Credit Risk Fund --> DSP Credit Risk Fund\n",
      "DSP Strategic Bond Fund --> DSP Strategic Bond Fund\n",
      "DSP Bond Fund --> DSP Bond Fund\n",
      "DSP Low Duration Fund --> DSP Low Duration Fund\n",
      "DSP 10Y G-Sec Fund --> DSP 10Y G-Sec Fund\n",
      "DSP Corporate Bond Fund --> DSP Corporate Bond Fund\n",
      "DSP Multi Asset Allocation Fund --> DSP Multi Asset Allocation Fund\n",
      "DSP Banking & Financial Services Fund --> DSP Banking & Financial Services Fund\n",
      "Function Running: get_generated_content\n",
      "Parsing Completed, Refining Data.....\n",
      "\n",
      "--<<DSP Flexi Cap Fund>>--\n",
      "--<<DSP Top 100 Equity Fund>>--\n",
      "--<<DSP Equity Opportunities Fund>>--\n",
      "--<<DSP India T.I.G.E.R Fund>>--\n",
      "--<<DSP Mid Cap Fund>>--\n",
      "--<<DSP ELSS Tax Saver Fund>>--\n",
      "--<<DSP Healthcare Fund>>--\n",
      "--<<DSP Quant Fund>>--\n",
      "--<<DSP VALUE FUND>>--\n",
      "--<<DSP Small Cap Fund>>--\n",
      "--<<DSP Focus Fund>>--\n",
      "--<<DSP Multicap Fund>>--\n",
      "--<<DSP Business Cycle Fund>>--\n",
      "--<<DSP Natural Resources and New Energy Fund>>--\n",
      "--<<DSP World Gold Fund of Fund>>--\n",
      "--<<DSP World Mining Fund of Fund>>--\n",
      "--<<DSP Global Clean Energy Fund of Fund>>--\n",
      "--<<DSP US Flexible Equity Fund of Fund>>--\n",
      "--<<DSP Income Plus Arbitrage Fund of Fund>>--\n",
      "--<<DSP Global Innovation Fund of Fund>>--\n",
      "--<<DSP Gold ETF Fund of Fund>>--\n",
      "--<<DSP Dynamic Asset Allocation Fund>>--\n",
      "--<<DSP Aggressive Hybrid Fund>>--\n",
      "--<<DSP Equity Savings Fund>>--\n",
      "--<<DSP Nifty 50 Equal Weight Index Fund>>--\n",
      "--<<DSP Nifty 50 Equal Weight ETF>>--\n",
      "--<<DSP NIFTY 50 ETF>>--\n",
      "--<<DSP NIFTY MIDCAP 150 QUALITY 50 ETF>>--\n",
      "--<<DSP Silver ETF>>--\n",
      "--<<DSP Nifty Bank ETF>>--\n",
      "--<<DSP Nifty IT ETF>>--\n",
      "--<<DSP Nifty PSU Bank ETF>>--\n",
      "--<<DSP Nifty Private Bank ETF>>--\n",
      "--<<DSP BSE Sensex ETF>>--\n",
      "--<<DSP Nifty Healthcare ETF>>--\n",
      "--<<DSP NIFTY 1D Rate Liquid ETF>>--\n",
      "--<<DSP BSE Liquid Rate ETF>>--\n",
      "--<<DSP Nifty Top 10 Equal Weight ETF>>--\n",
      "--<<DSP BSE Sensex Next 30 ETF>>--\n",
      "--<<DSP Nifty Top 10 Equal Weight Index Fund>>--\n",
      "--<<DSP Nifty Next 50 Index Fund>>--\n",
      "--<<DSP Nifty 50 Index Fund>>--\n",
      "--<<DSP Nifty Bank Index Fund>>--\n",
      "--<<DSP BSE SENSEX Next 30 Index Fund>>--\n",
      "--<<DSP Nifty Private Bank Index Fund>>--\n",
      "--<<DSP Arbitrage Fund>>--\n",
      "--<<DSP Regular Savings Fund>>--\n",
      "--<<DSP Liquidity Fund>>--\n",
      "--<<DSP Ultra Short Fund>>--\n",
      "--<<DSP Floater Fund>>--\n",
      "--<<DSP Nifty SDL Plus G-Sec Jun 2028 30:70 Index Fund>>--\n",
      "--<<DSP CRISIL SDL Plus G-Sec Apr 2033 50:50 Index Fund>>--\n",
      "--<<DSP Nifty Smallcap250 Quality 50 Index Fund>>--\n",
      "--<<DSP Savings Fund>>--\n",
      "--<<DSP Gilt Fund>>--\n",
      "--<<DSP Short Term Fund>>--\n",
      "--<<DSP Banking & PSU Debt Fund>>--\n",
      "--<<DSP Credit Risk Fund>>--\n",
      "--<<DSP Strategic Bond Fund>>--\n",
      "--<<DSP Bond Fund>>--\n",
      "--<<DSP Low Duration Fund>>--\n",
      "--<<DSP 10Y G-Sec Fund>>--\n",
      "--<<DSP Corporate Bond Fund>>--\n",
      "--<<DSP Multi Asset Allocation Fund>>--\n",
      "--<<DSP Banking & Financial Services Fund>>--\n"
     ]
    }
   ],
   "source": [
    "\"\"\"DSP MAIN FILE CODE\"\"\"# pages = [1, 2, 3, 4, 5, 6, 7, 8, 9, 10, 11, 12, 13, 14, 15, 16, 17, 18, 19, 20, 21, 23, 24, 25, 26, 27, 28, 29, 30, 31, 32, 33, 34, 35, 36, 37, 38, 39, 40, 41, 42, 43, 44, 45, 46, 47, 48, 49, 50, 51, 52, 53, 54, 55, 56, 57, 58, 59, 60, 61, 62, 63, 64, 65, 66, 67]\n",
    "\n",
    "amc_id = '8_0'\n",
    "# logging.info(f\"User Ran Fund Data of {amc_name}\")\n",
    "fund_name, path= mutual_fund[amc_id]\n",
    "object = DSP(fund_name,amc_id,path)\n",
    "title,path_pdf = object.check_and_highlight(path)\n",
    "data = object.get_data(path_pdf,title)\n",
    "extracted_text = object.get_generated_content(data)\n",
    "# Helper.quick_json_dump(dfs,object.JSONPATH)\n",
    "object = DSP(fund_name,amc_id,path)\n",
    "final_text = object.refine_extracted_data(extracted_text,flatten = True)\n",
    "dfs = object.merge_and_select_data(final_text,map_keys = True, select = True,special_handling = True)\n",
    "with open(\"test.json\",\"w+\") as file:\n",
    "    json.dump(extracted_text,file)"
   ]
  },
  {
   "cell_type": "code",
   "execution_count": 19,
   "metadata": {},
   "outputs": [
    {
     "name": "stdout",
     "output_type": "stream",
     "text": [
      "Function Running: check_and_highlight\n",
      "Function Running: _get_normal_title\n",
      "Regex: ((?:Edelweiss|Bharat)\\s*.+?(?:Fund|Path|ETF|FOF|Path)\\s*(?:F?f?und of F?f?und|[A-Za-z\\s]+\\s*[0-9]+)?)\n",
      "Function Running: get_data\n",
      "Function Running: extract_clipped_data\n",
      "Function Running: extract_span_data\n",
      "Function Running: process_text_data\n",
      "Function Running: create_nested_dict\n",
      "Function Running: get_generated_content\n",
      "Parsing Completed, Refining Data.....\n",
      "\n",
      "--<<Edelweiss Large Cap Fund>>--\n",
      "--<<Edelweiss Large & Mid Cap Fund>>--\n",
      "--<<Edelweiss Flexi Cap Fund>>--\n",
      "--<<Edelweiss Mid Cap Fund>>--\n",
      "--<<Edelweiss Small Cap Fund>>--\n",
      "--<<Edelweiss Recently Listed IPO Fund>>--\n",
      "--<<Edelweiss ELSS Tax saver Fund>>--\n",
      "--<<Edelweiss Focused Fund>>--\n",
      "--<<Edelweiss Multi Cap Fund>>--\n",
      "--<<Edelweiss Technology Fund>>--\n",
      "--<<Edelweiss Business Cycle Fund>>--\n",
      "--<<Edelweiss Consumption Fund>>--\n",
      "--<<Edelweiss Arbitrage Fund>>--\n",
      "--<<Edelweiss Equity Savings Fund>>--\n",
      "--<<Edelweiss Aggressive Hybrid Fund>>--\n",
      "--<<Edelweiss Balanced Advantage Fund>>--\n",
      "--<<Edelweiss Multi Asset Allocation Fund>>--\n",
      "--<<Edelweiss Gold and Silver ETF Fund of Fund>>--\n",
      "--<<Edelweiss Gold ETF>>--\n",
      "--<<Edelweiss Silver ETF>>--\n",
      "--<<Edelweiss Overnight Fund>>--\n",
      "--<<Edelweiss Liquid Fund>>--\n",
      "--<<Edelweiss Banking & PSU Debt Fund>>--\n",
      "--<<Edelweiss Money Market Fund>>--\n",
      "--<<Edelweiss Government Securities Fund>>--\n",
      "--<<Edelweiss Low Duration Fund>>--\n",
      "--<<Edelweiss CRISIL IBX 5050 Gilt Plus SDL Short Duration Index Fund>>--\n",
      "--<<Edelweiss CRISIL PSU Plus SDL 5050 Oct 2025 Index Fund>>--\n",
      "--<<Edelweiss NIFTY PSU Bond Plus SDL Apr - 2026 5050 Index Fund>>--\n",
      "--<<Edelweiss NIFTY PSU Bond Plus SDL Apr - 2027 5050 Index Fund>>--\n",
      "--<<Edelweiss CRISIL IBX 5050 Gilt Plus SDL June 2027 Index Fund>>--\n",
      "--<<Edelweiss CRISIL IBX 5050 Gilt Plus SDL Sep 2028 Index Fund>>--\n",
      "--<<Edelweiss CRISIL IBX AAA Financial Services Bond - Jan 2028 Index Fund>>--\n",
      "--<<Edelweiss CRISIL-IBX AAA Bond NBFC-HFC - Jun 2027 Index Fund>>--\n",
      "--<<Bharat Bond ETF APRIL 2030>>--\n",
      "--<<Bharat Bond ETF APRIL 2031>>--\n",
      "--<<Bharat Bond ETF APRIL 2032>>--\n",
      "--<<Bharat Bond ETF APRIL 2033>>--\n",
      "--<<Edelweiss CRISIL IBX 5050 Gilt Plus SDL Apr 2037 Index Fund>>--\n",
      "--<<Edelweiss Nifty 50 Index Fund>>--\n",
      "--<<Edelweiss Nifty 100 Quality 30 Index Fund>>--\n",
      "--<<Edelweiss Nifty Bank ETF>>--\n",
      "--<<Edelweiss BSE Capital Markets & Insurance ETF>>--\n",
      "--<<Edelweiss Nifty 500 Multicap Momentum Quality 50 ETF>>--\n",
      "--<<Edelweiss Nifty500 Multicap Momentum Quality 50 Index Fund>>--\n",
      "--<<Edelweiss Nifty Alpha Low Volatility 30 Index Fund>>--\n",
      "--<<Edelweiss MSCI India Domestic & World Healthcare 45 Index Fund>>--\n",
      "--<<Edelweiss Nifty Large Mid Cap 250 Index Fund>>--\n",
      "--<<Edelweiss Nifty Next 50 Index Fund>>--\n",
      "--<<Edelweiss Nifty Midcap 150 Momentum 50 Index Fund>>--\n",
      "--<<Edelweiss Nifty Smallcap 250 Index Fund>>--\n",
      "--<<Bharat Bond FOF APRIL 2030>>--\n",
      "--<<Bharat Bond FOF APRIL 2031>>--\n",
      "--<<Bharat Bond ETF FOF APRIL 2032>>--\n",
      "--<<Bharat Bond ETF FOF APRIL 2033>>--\n",
      "--<<Edelweiss Greater China Equity Off-Shore Fund>>--\n",
      "--<<Edelweiss US Technology Equity Fund>>--\n",
      "--<<Edelweiss Emerging Markets Opportunities Equity Offshore Fund>>--\n",
      "--<<Edelweiss Asean Equity Off-Shore Fund>>--\n",
      "--<<Edelweiss Europe Dynamic Equity Off-Shore Fund>>--\n",
      "--<<Edelweiss US Value Equity Off-Shore Fund>>--\n"
     ]
    }
   ],
   "source": [
    "\"\"\"EDELWEISS MP FILE MAIN CODE\"\"\" #Issues: objective in seperate dict,#metrics are weird, scheme launch date issue\n",
    "\n",
    "amc_id = '9_0'\n",
    "# logging.info(f\"User Ran Fund Data of {amc_name}\")\n",
    "fund_name, path= mutual_fund[amc_id]\n",
    "object = Edelweiss(fund_name,amc_id,path)\n",
    "title,path_pdf = object.check_and_highlight(path)\n",
    "data = object.get_data(path_pdf,title)\n",
    "extracted_text = object.get_generated_content(data)\n",
    "# Helper.quick_json_dump(dfs, object.JSONPATH)"
   ]
  },
  {
   "cell_type": "code",
   "execution_count": 21,
   "metadata": {},
   "outputs": [
    {
     "name": "stdout",
     "output_type": "stream",
     "text": [
      "Function Running: refine_extracted_data\n",
      "Function Running: merge_and_select_data\n"
     ]
    }
   ],
   "source": [
    "object = Edelweiss(fund_name,amc_id,path)\n",
    "final_text = object.refine_extracted_data(extracted_text, flatten = True)\n",
    "dfs = object.merge_and_select_data(final_text,select = True,map_keys = True, special_handling=True)\n",
    "# Helper.quick_json_dump(dfs, object.JSONPATH)\n"
   ]
  },
  {
   "cell_type": "code",
   "execution_count": null,
   "metadata": {},
   "outputs": [],
   "source": [
    "\"\"\"FRANKLIN TEMPLETON FILE MAIN CODE\"\"\"\n",
    "\n",
    "amc_name = \"Franklin Templeton Mutual Fund\"\n",
    "logging.info(f\"User Ran Fund Data of {amc_name}\")\n",
    "path = mutual_fund[amc_name]\n",
    "object = FranklinTempleton(amc_name,path)\n",
    "title,path_pdf= object.check_and_highlight(path)\n",
    "\n",
    "# pages = [17, 18, 19, 20, 21, 22, 23, 24, 25, 26, 27, 28, 29, 30, 31, 32, 33, 34, 35, 36, 37, 38, 39, 40, 41, 42, 43, 44, 45, 46, 47, 48, 49, 50]\n",
    "data = object.get_data(path_pdf,title)\n",
    "extracted_text = object.get_generated_content(data)\n"
   ]
  },
  {
   "cell_type": "code",
   "execution_count": null,
   "metadata": {},
   "outputs": [
    {
     "name": "stdout",
     "output_type": "stream",
     "text": [
      "Function Running: refine_extracted_data\n",
      "Function Running: merge_and_select_data\n",
      "\n",
      "  JSON saved at C:\\Users\\Kaustubh.keny\\Projects\\office-work\\mywork-repo\\data\\output\\dump_franklin_12_24_18.json\n"
     ]
    }
   ],
   "source": [
    "object = FranklinTempleton(amc_name,path)\n",
    "final_text = object.refine_extracted_data(extracted_text, flatten = True)\n",
    "dfs = object.merge_and_select_data(final_text,select = True,map_keys = True, special_handling=True)\n",
    "Helper.quick_json_dump(dfs, object.JSONPATH)\n"
   ]
  },
  {
   "cell_type": "code",
   "execution_count": null,
   "metadata": {},
   "outputs": [],
   "source": [
    "\"\"\"GROWW MUTUAL FUND MAIN CODE\"\"\"# pages = [13, 14, 15, 16, 17, 18, 19, 20, 21, 22, 23, 24, 26, 28, 29, 30, 32, 33, 34, 35, 36, 37, 38, 39, 40, 41, 42]\n",
    "\n",
    "amc_id = '20_0'\n",
    "# logging.info(f\"User Ran Fund Data of {amc_name}\")\n",
    "fund_name, path= mutual_fund[amc_id]\n",
    "object = GROWW(fund_name,amc_id,path)\n",
    "title,path_pdf = object.check_and_highlight(path)\n",
    "data = object.get_data(path_pdf,title)\n",
    "extracted_text = object.get_generated_content(data)"
   ]
  },
  {
   "cell_type": "code",
   "execution_count": 40,
   "metadata": {},
   "outputs": [
    {
     "name": "stdout",
     "output_type": "stream",
     "text": [
      "Function Running: refine_extracted_data\n"
     ]
    }
   ],
   "source": [
    "object = GROWW(fund_name,amc_id,path)\n",
    "final_text = object.refine_extracted_data(extracted_text, flatten = True)\n",
    "# dfs = object.merge_and_select_data(final_text,select = True, map_keys = True, special = True)\n",
    "# Helper.quick_json_dump(final_text,object.JSONPATH)\n",
    "with open(\"test.json\",\"w+\") as file:\n",
    "    json.dump(final_text,file)"
   ]
  },
  {
   "cell_type": "code",
   "execution_count": null,
   "metadata": {},
   "outputs": [],
   "source": []
  },
  {
   "cell_type": "code",
   "execution_count": null,
   "metadata": {},
   "outputs": [],
   "source": [
    "\"\"\"HDFC MUTUAL FUND\"\"\" # pages = [5, 6, 8, 10, 11, 12, 13, 14, 15, 16, 17, 18, 19, 20, 21, 22, 23, 24, 25, 26, 27, 28, 29, 30, 31, 32, 33, 34, 35, 36, 37, 38, 39, 40, 41, 42, 43, 44, 45, 46, 47, 48, 49, 50, 51]\n",
    "\n",
    "amc_name = \"Hdfc Mutual Fund\"\n",
    "logging.info(f\"User Ran Fund Data of {amc_name}\")\n",
    "path = mutual_fund[amc_name]\n",
    "object = HDFC(amc_name,path)\n",
    "title,path_pdf= object.check_and_highlight(path)\n",
    "\n",
    "data = object.get_data(path_pdf,title)\n",
    "extracted_text = object.get_generated_content(data)"
   ]
  },
  {
   "cell_type": "code",
   "execution_count": 36,
   "metadata": {},
   "outputs": [
    {
     "name": "stdout",
     "output_type": "stream",
     "text": [
      "\n",
      "  JSON saved at C:\\Users\\Kaustubh.keny\\Projects\\office-work\\mywork-repo\\data\\MAR25DATA\\dump_hdfc_12_22_14.json\n"
     ]
    }
   ],
   "source": [
    "Helper.quick_json_dump(extracted_text,object.JSONPATH)"
   ]
  },
  {
   "cell_type": "code",
   "execution_count": null,
   "metadata": {},
   "outputs": [
    {
     "name": "stdout",
     "output_type": "stream",
     "text": [
      "Function Running: refine_extracted_data\n",
      "Function Running: merge_and_select_data\n",
      "\n",
      "  JSON saved at C:\\Users\\Kaustubh.keny\\Projects\\office-work\\mywork-repo\\data\\MAR25DATA\\dump_hdfc_12_28_12.json\n"
     ]
    }
   ],
   "source": [
    "object = HDFC(amc_name,path)\n",
    "final_text = object.refine_extracted_data(extracted_text,flatten = True)\n",
    "dfs = object.merge_and_select_data(final_text, select = True,map_keys = True,special = True)\n",
    "Helper.quick_json_dump(dfs,object.JSONPATH)"
   ]
  },
  {
   "cell_type": "code",
   "execution_count": null,
   "metadata": {},
   "outputs": [],
   "source": []
  },
  {
   "cell_type": "code",
   "execution_count": null,
   "metadata": {},
   "outputs": [],
   "source": [
    "\"\"\"HDFC MUTUAL FUND PASSIVE\"\"\" # pages = [5, 6, 8, 10, 11, 12, 13, 14, 15, 16, 17, 18, 19, 20, 21, 22, 23, 24, 25, 26, 27, 28, 29, 30, 31, 32, 33, 34, 35, 36, 37, 38, 39, 40, 41, 42, 43, 44, 45, 46, 47, 48, 49, 50, 51]\n",
    "\n",
    "amc_name = \"Hdfc Mutual Fund Passive\"\n",
    "logging.info(f\"User Ran Fund Data of {amc_name}\")\n",
    "path = mutual_fund[amc_name]\n",
    "object = HDFC(amc_name,path)\n",
    "title,path_pdf= object.check_and_highlight(path)\n",
    "\n",
    "data = object.get_data(path_pdf,title)\n",
    "extracted_text = object.get_generated_content(data)\n",
    "final_text = object.refine_extracted_data(extracted_text,flatten = True)\n",
    "dfs = object.merge_and_select_data(final_text, select = True,map_keys = True,special=True)\n",
    "Helper.quick_json_dump(dfs,object.JSONPATH)"
   ]
  },
  {
   "cell_type": "code",
   "execution_count": null,
   "metadata": {},
   "outputs": [],
   "source": [
    "\"\"\"HELIOS MF FILE MAIN CODE\"\"\" # pages = [2, 4, 6, 8,10]\n",
    "\n",
    "amc_name = 'Helios Mutual Fund'\n",
    "logging.info(f\"User Ran Fund Data of {amc_name}\")\n",
    "path = mutual_fund[amc_name]\n",
    "object = Helios(amc_name,path)\n",
    "title,path_pdf= object.check_and_highlight(path)\n",
    "\n",
    "data = object.get_data(path_pdf,title)\n",
    "extracted_text = object.get_generated_content(data)\n",
    "final_text = object.refine_extracted_data(extracted_text, flatten=True)\n",
    "dfs = object.merge_and_select_data(final_text,select= True,map_keys = True, special = True)\n",
    "Helper.quick_json_dump(dfs,object.JSONPATH)"
   ]
  },
  {
   "cell_type": "code",
   "execution_count": null,
   "metadata": {},
   "outputs": [],
   "source": [
    "\"\"\" ICICI MF MAIN FILE CODE\"\"\" #pages = [8, 9, 11, 13, 15, 16, 17, 18, 19, 20, 21, 22, 23, 24, 25, 27, 28, 29, 30, 31, 32, 33, 34, 35, 36, 37, 39, 40, 41, 42, 43, 44, 46, 47, 49, 51, 53, 55, 56, 58, 59, 60, 62, 64, 65, 66, 67, 68, 69, 71, 72, 74, 75, 77, 78, 80]\n",
    "\n",
    "amc_id = '14_0'\n",
    "# logging.info(f\"User Ran Fund Data of {amc_name}\")\n",
    "fund_name, path= mutual_fund[amc_id]\n",
    "object = ThreeSixtyOne(fund_name,amc_id,path)\n",
    "title,path_pdf = object.check_and_highlight(path)\n",
    "data = object.get_data(path_pdf,title)\n",
    "extracted_text = object.get_generated_content(data)\n",
    "final_text = object.refine_extracted_data(extracted_text, flatten=True)\n",
    "# dfs = object.merge_and_select_data(final_text,select = True,map_keys = True, special_handling = True)\n",
    "# Helper.quick_json_dump(dfs, object.JSONPATH)"
   ]
  },
  {
   "cell_type": "code",
   "execution_count": null,
   "metadata": {},
   "outputs": [],
   "source": [
    "\"\"\" ICICI MF MAIN FILE CODE PASSIVE\"\"\"# pages = [8, 9, 11, 13, 15, 16, 17, 18, 19, 20, 21, 22, 23, 24, 25, 27, 28, 29, 30, 31, 32, 33, 34, 35, 36, 37, 39, 40, 41, 42, 43, 44, 46, 47, 49, 51, 53, 55, 56, 58, 59, 60, 62, 64, 65, 66, 67, 68, 69, 71, 72, 74, 75, 77, 78, 80]\n",
    "\n",
    "amc_name = \"Icici Prudential Mutual Fund Passive\"\n",
    "logging.info(f\"User Ran Fund Data of {amc_name}\")\n",
    "path = mutual_fund[amc_name]\n",
    "object = ICICI(amc_name,path)\n",
    "title,path_pdf = object.check_and_highlight(path)\n"
   ]
  },
  {
   "cell_type": "code",
   "execution_count": null,
   "metadata": {},
   "outputs": [],
   "source": [
    "object = ICICI(amc_name,path)\n",
    "data = object.get_data(path_pdf,title)\n",
    "extracted_text = object.get_generated_content(data)"
   ]
  },
  {
   "cell_type": "code",
   "execution_count": null,
   "metadata": {},
   "outputs": [],
   "source": [
    "object = ICICI(amc_name,path)\n",
    "final_text = object.refine_extracted_data(extracted_text, flatten=True)\n",
    "dfs = object.merge_and_select_data(final_text,select= True,map_keys = True,special=True)\n",
    "Helper.quick_json_dump(dfs,object.JSONPATH)"
   ]
  },
  {
   "cell_type": "code",
   "execution_count": null,
   "metadata": {},
   "outputs": [],
   "source": [
    "\"\"\" INVESCO MF MAIN FILE CODE\"\"\" # pages = [4, 5, 6, 7, 8, 9, 10, 11, 12, 13, 14, 15, 16, 17, 18, 19, 21, 22, 23, 24, 25, 26, 27, 28, 29, 30, 31, 32, 33, 34, 35, 36, 37, 38, 39, 40, 41, 42, 43]\n",
    "\n",
    "amc_name = 'Invesco Mutual Fund'\n",
    "logging.info(f\"User Ran Fund Data of {amc_name}\")\n",
    "path = mutual_fund[amc_name]\n",
    "object = Invesco(amc_name,path)\n",
    "title,path_pdf = object.check_and_highlight(path)"
   ]
  },
  {
   "cell_type": "code",
   "execution_count": null,
   "metadata": {},
   "outputs": [],
   "source": [
    "object = Invesco(amc_name,path)\n",
    "data = object.get_data(path_pdf,title)\n",
    "extracted_text = object.get_generated_content(data)\n",
    "Helper.quick_json_dump(extracted_text, object.JSONPATH)"
   ]
  },
  {
   "cell_type": "code",
   "execution_count": null,
   "metadata": {},
   "outputs": [
    {
     "name": "stdout",
     "output_type": "stream",
     "text": [
      "Function Running: refine_extracted_data\n",
      "Function Running: merge_and_select_data\n",
      "\n",
      "  JSON saved at C:\\Users\\rando\\OneDrive\\Documents\\mywork-repo\\data\\output\\dump_invesco_00_54_03.json\n"
     ]
    }
   ],
   "source": [
    "object = Invesco(amc_name,path)\n",
    "final_text = object.refine_extracted_data(extracted_text, flatten = True)\n",
    "dfs = object.merge_and_select_data(final_text,select = True,map_keys = True, special = True)\n",
    "Helper.quick_json_dump(dfs, object.JSONPATH)"
   ]
  },
  {
   "cell_type": "code",
   "execution_count": null,
   "metadata": {},
   "outputs": [],
   "source": [
    "\"\"\"ITI MAIN FILE CODE\"\"\" # pages = [9, 10, 11, 12, 13, 14, 15, 16, 17, 18, 19, 20, 21, 22, 23, 24, 25, 26]\n",
    "\n",
    "amc_name = 'Iti Mutual Fund'\n",
    "logging.info(f\"User Ran Fund Data of {amc_name}\")\n",
    "path = mutual_fund[amc_name]\n",
    "object = ITI(amc_name,path)\n",
    "title,path_pdf= object.check_and_highlight(path)"
   ]
  },
  {
   "cell_type": "code",
   "execution_count": null,
   "metadata": {},
   "outputs": [],
   "source": [
    "object = ITI(amc_name,path)\n",
    "data = object.get_data(path_pdf,title)\n",
    "extracted_text = object.get_generated_content(data)\n",
    "Helper.quick_json_dump(extracted_text, object.JSONPATH)"
   ]
  },
  {
   "cell_type": "code",
   "execution_count": null,
   "metadata": {},
   "outputs": [],
   "source": [
    "object = ITI(amc_name,path)\n",
    "final_text = object.refine_extracted_data(extracted_text,flatten = True)\n",
    "dfs= object.merge_and_select_data(final_text,select = True,map_keys = True, special=True)\n",
    "Helper.quick_json_dump(dfs, object.JSONPATH)"
   ]
  },
  {
   "cell_type": "code",
   "execution_count": null,
   "metadata": {},
   "outputs": [],
   "source": [
    "\"\"\"JM FUND MAIN FILE CODE\"\"\"# pages = [18, 19, 20, 21, 22, 23, 24, 25, 26, 27, 28, 29, 30, 31, 32, 33]\n",
    "\n",
    "amc_id = '22_0'\n",
    "# logging.info(f\"User Ran Fund Data of {amc_name}\")\n",
    "fund_name, path= mutual_fund[amc_id]\n",
    "object = JMMF(fund_name,amc_id,path)\n",
    "title,path_pdf = object.check_and_highlight(path)\n",
    "data = object.get_data(path_pdf,title)\n",
    "extracted_text = object.get_generated_content(data)"
   ]
  },
  {
   "cell_type": "code",
   "execution_count": 29,
   "metadata": {},
   "outputs": [
    {
     "name": "stdout",
     "output_type": "stream",
     "text": [
      "Function Running: refine_extracted_data\n",
      "Function Running: merge_and_select_data\n"
     ]
    }
   ],
   "source": [
    "object = JMMF(fund_name,amc_id,path)\n",
    "final_text = object.refine_extracted_data(extracted_text, flatten=True)\n",
    "dfs = object.merge_and_select_data(final_text,select = True,map_keys = True, special_handling = True)\n",
    "with open(\"test.json\",\"w+\") as file:\n",
    "    json.dump(dfs,file)"
   ]
  },
  {
   "cell_type": "code",
   "execution_count": null,
   "metadata": {},
   "outputs": [],
   "source": [
    "\"\"\"KOTAK FUND MAIN CODE\"\"\" # pages = [5, 6, 7, 8, 9, 10, 11, 12, 13, 14, 15, 16, 17, 18, 19, 20, 21, 22, 23, 24, 25, 26, 27, 28, 29, 30, 32, 34, 36, 37, 38, 40, 41, 43, 44, 46, 48, 49, 50, 52, 54, 55, 56, 69, 70, 71, 72, 73, 74, 75, 76, 77, 78, 79, 80, 81, 82, 83, 84, 85, 86, 87, 88, 89, 90, 91, 92, 93, 94, 95, 96, 97, 98, 99, 100, 101, 102, 103, 104, 105, 106, 107, 108]\n",
    "\n",
    "amc_name = 'Kotak Mahindra Mutual Fund'\n",
    "logging.info(f\"User Ran Fund Data of {amc_name}\")\n",
    "path = mutual_fund[amc_name]\n",
    "object = Kotak(amc_name,path)\n",
    "title,path_pdf= object.check_and_highlight(path)\n",
    "\n",
    "data = object.get_data(path_pdf,title)\n",
    "extracted_text = object.get_generated_content(data)\n",
    "final_text = object.refine_extracted_data(extracted_text,flatten= True)\n",
    "dfs = object.merge_and_select_data(final_text, select = True, map_keys = True, special=True)\n",
    "Helper.quick_json_dump(dfs, object.JSONPATH)"
   ]
  },
  {
   "cell_type": "code",
   "execution_count": null,
   "metadata": {},
   "outputs": [],
   "source": [
    "\"\"\"LIC FUND MAIN CODE\"\"\" #issue: OCR for title bcz they're images\n",
    "amc_id = '25_0'\n",
    "# logging.info(f\"User Ran Fund Data of {amc_name}\")\n",
    "fund_name, path= mutual_fund[amc_id]\n",
    "object = LIC(fund_name,amc_id,path)\n",
    "title,path_pdf = object.check_and_highlight(path)\n",
    "data = object.get_data(path_pdf,title)\n",
    "extracted_text = object.get_generated_content(data)\n",
    "object = LIC(fund_name,amc_id,path)\n",
    "final_text = object.refine_extracted_data(extracted_text, flatten=True)\n",
    "dfs = object.merge_and_select_data(final_text,select = True,map_keys = True, special_handling = True)\n",
    "# Helper.quick_json_dump(dfs, object.JSONPATH)"
   ]
  },
  {
   "cell_type": "code",
   "execution_count": 8,
   "metadata": {},
   "outputs": [],
   "source": [
    "with open(\"test.json\",\"w+\") as file:\n",
    "    json.dump(dfs,file)"
   ]
  },
  {
   "cell_type": "code",
   "execution_count": null,
   "metadata": {},
   "outputs": [],
   "source": [
    "\"\"\"MAHINDRA MANULIFE MAIN CODE\"\"\" #incrase pages count\n",
    "\n",
    "amc_name = 'Mahindra Manulife Mutual Fund'\n",
    "logging.info(f\"User Ran Fund Data of {amc_name}\")\n",
    "path = mutual_fund[amc_name]\n",
    "object = MahindraManu(amc_name,path)\n",
    "title,path_pdf = object.check_and_highlight(path)\n",
    "\n",
    "data = object.get_data(path_pdf,title)\n",
    "extracted_text = object.get_generated_content(data)\n",
    "object = MahindraManu(amc_name,path)\n",
    "final_text = object.refine_extracted_data(extracted_text, flatten =True)\n",
    "dfs = object.merge_and_select_data(final_text,select = True, map_keys = True, special=True)\n",
    "Helper.quick_json_dump(dfs, object.JSONPATH)"
   ]
  },
  {
   "cell_type": "code",
   "execution_count": null,
   "metadata": {},
   "outputs": [],
   "source": [
    "\"\"\"MOTILAL OSWAL PASSIVE MAIN CODE FILE\"\"\" #Fund Manager Regex\n",
    "amc_id = '28_1'\n",
    "# logging.info(f\"User Ran Fund Data of {amc_name}\")\n",
    "fund_name, path= mutual_fund[amc_id]\n",
    "object = MotilalOswalPassive(fund_name,amc_id,path)\n",
    "title,path_pdf = object.check_and_highlight(path)\n",
    "data = object.get_data(path_pdf,title)\n",
    "extracted_text = object.get_generated_content(data)\n",
    "final_text = object.refine_extracted_data(extracted_text, flatten=True)\n",
    "# dfs = object.merge_and_select_data(final_text,select = True,map_keys = True, special_handling = True)\n",
    "# Helper.quick_json_dump(dfs, object.JSONPATH)"
   ]
  },
  {
   "cell_type": "code",
   "execution_count": null,
   "metadata": {},
   "outputs": [],
   "source": [
    "\"\"\"MOTILAL OSWAL MAIN CODE FILE\"\"\" #Fund Manager Regex\n",
    "\n",
    "amc_id = '28_0'\n",
    "# logging.info(f\"User Ran Fund Data of {amc_name}\")\n",
    "fund_name, path= mutual_fund[amc_id]\n",
    "object = MotilalOswal(fund_name,amc_id,path)\n",
    "title,path_pdf = object.check_and_highlight(path)\n",
    "data = object.get_data(path_pdf,title)\n",
    "extracted_text = object.get_generated_content(data)\n",
    "final_text = object.refine_extracted_data(extracted_text, flatten=True)\n",
    "# dfs = object.merge_and_select_data(final_text,select = True,map_keys = True, special_handling = True)\n",
    "# Helper.quick_json_dump(dfs, object.JSONPATH)"
   ]
  },
  {
   "cell_type": "code",
   "execution_count": 34,
   "metadata": {},
   "outputs": [
    {
     "name": "stdout",
     "output_type": "stream",
     "text": [
      "Function Running: refine_extracted_data\n"
     ]
    }
   ],
   "source": [
    "object = MotilalOswalPassive(fund_name,amc_id,path)\n",
    "final_text = object.refine_extracted_data(extracted_text, flatten=True)\n",
    "with open(\"test.json\",\"w+\") as file:\n",
    "    json.dump(final_text,file)"
   ]
  },
  {
   "cell_type": "code",
   "execution_count": null,
   "metadata": {},
   "outputs": [],
   "source": [
    "\"\"\"MIRAE MAIN FILE CODE PASSIVE\"\"\"\n",
    "\n",
    "amc_id = '27_1'\n",
    "# logging.info(f\"User Ran Fund Data of {amc_name}\")\n",
    "fund_name, path= mutual_fund[amc_id]\n",
    "object = MIRAE(fund_name,amc_id,path)\n",
    "title,path_pdf = object.check_and_highlight(path)\n",
    "data = object.get_data(path_pdf,title)\n",
    "extracted_text = object.get_generated_content(data)\n",
    "final_text = object.refine_extracted_data(extracted_text, flatten=True)\n",
    "# dfs = object.merge_and_select_data(final_text,select = True,map_keys = True, special_handling = True)\n",
    "# Helper.quick_json_dump(dfs, object.JSONPATH)"
   ]
  },
  {
   "cell_type": "code",
   "execution_count": null,
   "metadata": {},
   "outputs": [],
   "source": [
    "\"\"\"MIRAE MAIN FILE CODE\"\"\"\n",
    "amc_id = '27_0'\n",
    "# logging.info(f\"User Ran Fund Data of {amc_name}\")\n",
    "fund_name, path= mutual_fund[amc_id]\n",
    "object = MIRAE(fund_name,amc_id,path)\n",
    "title,path_pdf = object.check_and_highlight(path)\n",
    "data = object.get_data(path_pdf,title)\n",
    "extracted_text = object.get_generated_content(data)\n",
    "final_text = object.refine_extracted_data(extracted_text, flatten=True)\n",
    "dfs = object.merge_and_select_data(final_text,select = True,map_keys = True, special_handling = True)\n",
    "# Helper.quick_json_dump(dfs, object.JSONPATH)"
   ]
  },
  {
   "cell_type": "code",
   "execution_count": null,
   "metadata": {},
   "outputs": [],
   "source": [
    "\"\"\"NAVI MAIN FILE CODE\"\"\" #Issue: Left and right\n",
    "\n",
    "amc_id = '56_0'\n",
    "# logging.info(f\"User Ran Fund Data of {amc_name}\")\n",
    "fund_name, path= mutual_fund[amc_id]\n",
    "object = NAVI(fund_name,amc_id,path)\n",
    "title,path_pdf = object.check_and_highlight(path)\n",
    "data = object.get_data(path_pdf,title)\n",
    "extracted_text = object.get_generated_content(data)"
   ]
  },
  {
   "cell_type": "code",
   "execution_count": 16,
   "metadata": {},
   "outputs": [
    {
     "name": "stdout",
     "output_type": "stream",
     "text": [
      "Function Running: refine_extracted_data\n"
     ]
    }
   ],
   "source": [
    "object = NAVI(fund_name,amc_id,path)\n",
    "final_text = object.refine_extracted_data(extracted_text, flatten = True)\n",
    "# dfs = object.merge_and_select_data(final_text,select = True,map_keys = True,special_handling=True)\n",
    "with open(\"test.json\",\"w+\") as file:\n",
    "    json.dump(extracted_text,file)"
   ]
  },
  {
   "cell_type": "code",
   "execution_count": null,
   "metadata": {},
   "outputs": [],
   "source": [
    "\"NIPPON MAIN FILE CODE\"\n",
    "amc_name = 'Nippon India Mutual Fund'\n",
    "logging.info(f\"User Ran Fund Data of {amc_name}\")\n",
    "path = mutual_fund[amc_name]\n",
    "object = Nippon(amc_name,path)\n",
    "title,path_pdf= object.check_and_highlight(path)\n",
    "\n",
    "data = object.get_data(path_pdf,title)\n",
    "extracted_text = object.get_generated_content(data)\n",
    "\n",
    "final_text = object.refine_extracted_data(extracted_text, flatten = True)\n",
    "dfs = object.merge_and_select_data(final_text,select = True, map_keys = True, special=True)\n",
    "Helper.quick_json_dump(dfs,object.JSONPATH)"
   ]
  },
  {
   "cell_type": "code",
   "execution_count": null,
   "metadata": {},
   "outputs": [],
   "source": [
    "\"\"\"NJMF MAIN CODE FILE\"\"\"# pages = [1, 3, 5, 7, 9]\n",
    "\n",
    "amc_name = 'Nj Mutual Fund'\n",
    "logging.info(f\"User Ran Fund Data of {amc_name}\")\n",
    "path = mutual_fund[amc_name]\n",
    "object = NJMF(amc_name,path)\n",
    "title,path_pdf = object.check_and_highlight(path)\n",
    "\n",
    "data = object.get_data(path_pdf,title)\n",
    "extracted_text = object.get_generated_content(data)\n"
   ]
  },
  {
   "cell_type": "code",
   "execution_count": null,
   "metadata": {},
   "outputs": [],
   "source": [
    "object = NJMF(amc_name,path)\n",
    "final_text = object.refine_extracted_data(extracted_text,flatten = True)\n",
    "dfs = object.merge_and_select_data(final_text,select = True, map_keys = True,special=True)\n",
    "Helper.quick_json_dump(dfs, object.JSONPATH)"
   ]
  },
  {
   "cell_type": "code",
   "execution_count": null,
   "metadata": {},
   "outputs": [],
   "source": [
    "\"\"\"OlD BriDGE MAIN CODE\"\"\"\n",
    "amc_name = \"Old Bridge Mutual Fund\"\n",
    "logging.info(f\"User Ran Fund Data of {amc_name}\")\n",
    "path = mutual_fund[amc_name]\n",
    "object = OldBridge(amc_name,path)\n",
    "title,path_pdf = object.check_and_highlight(path)\n",
    "\n",
    "data = object.get_data(path_pdf,title)\n",
    "extracted_text = object.get_generated_content(data)\n",
    "\n",
    "final_text = object.refine_extracted_data(extracted_text, flatten = True)\n",
    "dfs = object.merge_and_select_data(final_text,select = True,map_keys= True, special=True)\n",
    "Helper.quick_json_dump(dfs, object.JSONPATH)"
   ]
  },
  {
   "cell_type": "code",
   "execution_count": 2,
   "metadata": {},
   "outputs": [
    {
     "name": "stdout",
     "output_type": "stream",
     "text": [
      "Function Running: check_and_highlight\n",
      "Function Running: _get_normal_title\n",
      "Regex: ([A-Z0-9\\s\\-]+\\s*PGIM INDIA)\n",
      "07 -- LARGE CAP FUND PGIM INDIA\n",
      "08 -- FLEXI CAP FUND PGIM INDIA\n",
      "09 -- LARGE AND MID CAP FUND PGIM INDIA\n",
      "10 -- MULTICAP FUND PGIM INDIA\n",
      "11 -- MIDCAP OPPORTUNITIES FUND PGIM INDIA\n",
      "12 -- SMALL CAP FUND PGIM INDIA\n",
      "13 -- 1 ELSS TAX SAVER FUND PGIM INDIA\n",
      "14 -- HEALTHCARE FUND PGIM INDIA\n",
      "15 -- RETIREMENT FUND PGIM INDIA\n",
      "16 -- EMERGING MARKETS EQUITY FUND PGIM INDIA\n",
      "17 -- GLOBAL EQUITY OPPORTUNITIES FUND PGIM INDIA\n",
      "18 -- GLOBAL SELECT REAL ESTATE SECURITIES FUND OF FUND PGIM INDIA\n",
      "19 -- HYBRID EQUITY FUND PGIM INDIA\n",
      "20 -- LOW ARBITRAGE FUND PGIM INDIA\n",
      "21 -- LOW EQUITY SAVINGS FUND PGIM INDIA\n",
      "22 -- BALANCED ADVANTAGE FUND PGIM INDIA\n",
      "25 -- OVERNIGHT FUND PGIM INDIA\n",
      "26 -- L LIQUID FUND PGIM INDIA\n",
      "27 -- D ULTRA SHORT DURATION FUND PGIM INDIA\n",
      "28 -- MONEY MARKET FUND PGIM INDIA\n",
      "29 -- DYNAMIC BOND FUND PGIM INDIA\n",
      "30 -- CORPORATE BOND FUND PGIM INDIA\n",
      "31 -- GILT FUND PGIM INDIA\n",
      "32 -- CRISIL IBX GILT INDEX - APR 2028 FUND PGIM INDIA\n",
      "Function Running: get_data\n",
      "Function Running: extract_clipped_data\n",
      "Function Running: extract_span_data\n",
      "Function Running: process_text_data\n",
      "Function Running: create_nested_dict\n",
      "LARGE CAP FUND PGIM INDIA --> PGIM INDIA LARGE CAP FUND\n",
      "FLEXI CAP FUND PGIM INDIA --> PGIM INDIA FLEXI CAP FUND\n",
      "LARGE AND MID CAP FUND PGIM INDIA --> PGIM INDIA LARGE AND MID CAP FUND\n",
      "MULTICAP FUND PGIM INDIA --> PGIM INDIA MULTICAP FUND\n",
      "MIDCAP OPPORTUNITIES FUND PGIM INDIA --> PGIM INDIA MIDCAP OPPORTUNITIES FUND\n",
      "SMALL CAP FUND PGIM INDIA --> PGIM INDIA SMALL CAP FUND\n",
      "1 ELSS TAX SAVER FUND PGIM INDIA --> PGIM INDIA ELSS TAX SAVER FUND\n",
      "HEALTHCARE FUND PGIM INDIA --> PGIM INDIA HEALTHCARE FUND\n",
      "RETIREMENT FUND PGIM INDIA --> PGIM INDIA RETIREMENT FUND\n",
      "EMERGING MARKETS EQUITY FUND PGIM INDIA --> PGIM INDIA EMERGING MARKETS EQUITY FUND\n",
      "GLOBAL EQUITY OPPORTUNITIES FUND PGIM INDIA --> PGIM INDIA GLOBAL EQUITY OPPORTUNITIES FUND\n",
      "GLOBAL SELECT REAL ESTATE SECURITIES FUND OF FUND PGIM INDIA --> PGIM INDIA GLOBAL SELECT REAL ESTATE SECURITIES FUND OF FUND\n",
      "HYBRID EQUITY FUND PGIM INDIA --> PGIM INDIA HYBRID EQUITY FUND\n",
      "LOW ARBITRAGE FUND PGIM INDIA --> PGIM INDIA ARBITRAGE FUND\n",
      "LOW EQUITY SAVINGS FUND PGIM INDIA --> PGIM INDIA EQUITY SAVINGS FUND\n",
      "BALANCED ADVANTAGE FUND PGIM INDIA --> PGIM INDIA BALANCED ADVANTAGE FUND\n",
      "OVERNIGHT FUND PGIM INDIA --> PGIM INDIA OVERNIGHT FUND\n",
      "L LIQUID FUND PGIM INDIA --> PGIM INDIA LIQUID FUND\n",
      "D ULTRA SHORT DURATION FUND PGIM INDIA --> PGIM INDIA ULTRA SHORT DURATION FUND\n",
      "MONEY MARKET FUND PGIM INDIA --> PGIM INDIA MONEY MARKET FUND\n",
      "DYNAMIC BOND FUND PGIM INDIA --> PGIM INDIA DYNAMIC BOND FUND\n",
      "CORPORATE BOND FUND PGIM INDIA --> PGIM INDIA CORPORATE BOND FUND\n",
      "GILT FUND PGIM INDIA --> PGIM INDIA GILT FUND\n",
      "CRISIL IBX GILT INDEX - APR 2028 FUND PGIM INDIA --> PGIM INDIA CRISIL IBX GILT INDEX - APR 2028 FUND\n",
      "Function Running: get_generated_content\n",
      "Parsing Completed, Refining Data.....\n",
      "\n",
      "--<<PGIM INDIA LARGE CAP FUND>>--\n",
      "--<<PGIM INDIA FLEXI CAP FUND>>--\n",
      "--<<PGIM INDIA LARGE AND MID CAP FUND>>--\n",
      "--<<PGIM INDIA MULTICAP FUND>>--\n",
      "--<<PGIM INDIA MIDCAP OPPORTUNITIES FUND>>--\n",
      "--<<PGIM INDIA SMALL CAP FUND>>--\n",
      "--<<PGIM INDIA ELSS TAX SAVER FUND>>--\n",
      "--<<PGIM INDIA HEALTHCARE FUND>>--\n",
      "--<<PGIM INDIA RETIREMENT FUND>>--\n",
      "--<<PGIM INDIA EMERGING MARKETS EQUITY FUND>>--\n",
      "--<<PGIM INDIA GLOBAL EQUITY OPPORTUNITIES FUND>>--\n",
      "--<<PGIM INDIA GLOBAL SELECT REAL ESTATE SECURITIES FUND OF FUND>>--\n",
      "--<<PGIM INDIA HYBRID EQUITY FUND>>--\n",
      "--<<PGIM INDIA ARBITRAGE FUND>>--\n",
      "--<<PGIM INDIA EQUITY SAVINGS FUND>>--\n",
      "--<<PGIM INDIA BALANCED ADVANTAGE FUND>>--\n",
      "--<<PGIM INDIA OVERNIGHT FUND>>--\n",
      "--<<PGIM INDIA LIQUID FUND>>--\n",
      "--<<PGIM INDIA ULTRA SHORT DURATION FUND>>--\n",
      "--<<PGIM INDIA MONEY MARKET FUND>>--\n",
      "--<<PGIM INDIA DYNAMIC BOND FUND>>--\n",
      "--<<PGIM INDIA CORPORATE BOND FUND>>--\n",
      "--<<PGIM INDIA GILT FUND>>--\n",
      "--<<PGIM INDIA CRISIL IBX GILT INDEX - APR 2028 FUND>>--\n",
      "Function Running: refine_extracted_data\n"
     ]
    }
   ],
   "source": [
    "\"\"\"PGIM MAIN FILE CODE\"\"\" #ISSUES: Clean data further\n",
    "\n",
    "amc_id = '7_0'\n",
    "# logging.info(f\"User Ran Fund Data of {amc_name}\")\n",
    "fund_name, path= mutual_fund[amc_id]\n",
    "object = PGIM(fund_name,amc_id,path)\n",
    "title,path_pdf = object.check_and_highlight(path)\n",
    "data = object.get_data(path_pdf,title)\n",
    "extracted_text = object.get_generated_content(data)\n",
    "final_text = object.refine_extracted_data(extracted_text, flatten=True)\n",
    "# dfs = object.merge_and_select_data(final_text,select = True,map_keys= True, special = True)\n",
    "# Helper.quick_json_dump(dfs, object.JSONPATH)"
   ]
  },
  {
   "cell_type": "code",
   "execution_count": 3,
   "metadata": {},
   "outputs": [
    {
     "name": "stdout",
     "output_type": "stream",
     "text": [
      "Function Running: refine_extracted_data\n",
      "Function Running: merge_and_select_data\n"
     ]
    }
   ],
   "source": [
    "object = PGIM(fund_name,amc_id,path)\n",
    "final_text = object.refine_extracted_data(extracted_text, flatten=True)\n",
    "dfs = object.merge_and_select_data(final_text,select = True,map_keys= True, special_handling = True)\n",
    "with open(\"test.json\",\"w+\") as file:\n",
    "    json.dump(dfs,file)"
   ]
  },
  {
   "cell_type": "code",
   "execution_count": null,
   "metadata": {},
   "outputs": [],
   "source": [
    "\"\"\"QUANT MAIN CODE FILE\"\"\"\n",
    "\n",
    "amc_id = '10_0'\n",
    "# logging.info(f\"User Ran Fund Data of {amc_name}\")\n",
    "fund_name, path= mutual_fund[amc_id]\n",
    "object = QuantMF(fund_name,amc_id,path)\n",
    "title,path_pdf = object.check_and_highlight(path)\n",
    "data = object.get_data(path_pdf,title)\n",
    "extracted_text = object.get_generated_content(data)\n",
    "final_text = object.refine_extracted_data(extracted_text, flatten=True)\n",
    "# dfs = object.merge_and_select_data(final_text,select = True,map_keys = True, special_handling = True)\n",
    "# Helper.quick_json_dump(dfs, object.JSONPATH)"
   ]
  },
  {
   "cell_type": "code",
   "execution_count": 56,
   "metadata": {},
   "outputs": [
    {
     "name": "stdout",
     "output_type": "stream",
     "text": [
      "Function Running: refine_extracted_data\n"
     ]
    }
   ],
   "source": [
    "object = QuantMF(fund_name,amc_id,path)\n",
    "final_text = object.refine_extracted_data(extracted_text, flatten=True)\n",
    "with open(\"test.json\",\"w+\") as file:\n",
    "    json.dump(final_text,file)"
   ]
  },
  {
   "cell_type": "code",
   "execution_count": null,
   "metadata": {},
   "outputs": [],
   "source": [
    "\"\"\"QUANTUM MAIN FILE CODE\"\"\" # pages = [7, 9, 12, 14, 16, 18, 20, 22, 24, 26, 28, 30, 32, 33]\n",
    "\n",
    "amc_id = '32_0'\n",
    "# logging.info(f\"User Ran Fund Data of {amc_name}\")\n",
    "fund_name, path= mutual_fund[amc_id]\n",
    "object = ThreeSixtyOne(fund_name,amc_id,path)\n",
    "title,path_pdf = object.check_and_highlight(path)\n",
    "data = object.get_data(path_pdf,title)\n",
    "extracted_text = object.get_generated_content(data)\n",
    "final_text = object.refine_extracted_data(extracted_text, flatten=True)\n",
    "# dfs = object.merge_and_select_data(final_text,select = True,map_keys = True, special_handling = True)\n",
    "# Helper.quick_json_dump(dfs, object.JSONPATH)"
   ]
  },
  {
   "cell_type": "code",
   "execution_count": null,
   "metadata": {},
   "outputs": [],
   "source": [
    "\"\"\"SAMCO PDF FILE MAIN CODE\"\"\" # pages =  [3, 5, 7, 9, 11, 13, 15, 17, 18]\n",
    "\n",
    "amc_name = 'Samco Mutual Fund'\n",
    "logging.info(f\"User Ran Fund Data of {amc_name}\")\n",
    "path = mutual_fund[amc_name]\n",
    "object = Samco(amc_name,path)\n",
    "title,path_pdf= object.check_and_highlight(path)\n",
    "\n",
    "data = object.get_data(path_pdf,title)\n",
    "extracted_text = object.get_generated_content(data)"
   ]
  },
  {
   "cell_type": "code",
   "execution_count": null,
   "metadata": {},
   "outputs": [
    {
     "name": "stdout",
     "output_type": "stream",
     "text": [
      "Function Running: refine_extracted_data\n",
      "Function Running: merge_and_select_data\n",
      "\n",
      "  JSON saved at C:\\Users\\Kaustubh.keny\\Projects\\office-work\\mywork-repo\\data\\MAR25DATA\\dump_samco_12_19_36.json\n"
     ]
    }
   ],
   "source": [
    "object = Samco(amc_name,path)\n",
    "final_text = object.refine_extracted_data(extracted_text, flatten=True)\n",
    "dfs = object.merge_and_select_data(final_text, select = True,map_keys = True, special=True)\n",
    "Helper.quick_json_dump(dfs,object.JSONPATH)"
   ]
  },
  {
   "cell_type": "code",
   "execution_count": null,
   "metadata": {},
   "outputs": [],
   "source": [
    "\"\"\"SBI PASSIVE PDF FILE MAIN CODE\"\"\" \n",
    "\n",
    "amc_id = '35_1'\n",
    "# logging.info(f\"User Ran Fund Data of {amc_name}\")\n",
    "fund_name, path= mutual_fund[amc_id]\n",
    "object = SBIPassive(fund_name,amc_id,path)\n",
    "title,path_pdf = object.check_and_highlight(path)\n",
    "data = object.get_data(path_pdf,title)\n",
    "extracted_text = object.get_generated_content(data)\n",
    "final_text = object.refine_extracted_data(extracted_text, flatten=True)\n",
    "# dfs = object.merge_and_select_data(final_text,select = True,map_keys = True, special_handling = True)\n",
    "# Helper.quick_json_dump(dfs, object.JSONPATH)"
   ]
  },
  {
   "cell_type": "code",
   "execution_count": null,
   "metadata": {},
   "outputs": [],
   "source": [
    "\"\"\"SBI PDF FILE MAIN CODE\"\"\" \n",
    "amc_id = '35_0'\n",
    "# logging.info(f\"User Ran Fund Data of {amc_name}\")\n",
    "fund_name, path= mutual_fund[amc_id]\n",
    "object = SBIPassive(fund_name,amc_id,path)\n",
    "title,path_pdf = object.check_and_highlight(path)\n",
    "data = object.get_data(path_pdf,title)\n",
    "extracted_text = object.get_generated_content(data)\n",
    "final_text = object.refine_extracted_data(extracted_text, flatten=True)\n",
    "# dfs = object.merge_and_select_data(final_text,select = True,map_keys = True,special = True)\n",
    "# Helper.quick_json_dump(dfs,object.JSONPATH)"
   ]
  },
  {
   "cell_type": "code",
   "execution_count": null,
   "metadata": {},
   "outputs": [],
   "source": [
    "\"\"\"SUNDARAM MAIN FILE CODE\"\"\"\n",
    "\n",
    "amc_name = 'Sundaram Mutual Fund'\n",
    "logging.info(f\"User Ran Fund Data of {amc_name}\")\n",
    "path = mutual_fund[amc_name]\n",
    "object = Sundaram(amc_name,path)\n",
    "title,path_pdf = object.check_and_highlight(path)\n",
    "\n",
    "data = object.get_data(path_pdf,title)\n",
    "extracted_text = object.get_generated_content(data)"
   ]
  },
  {
   "cell_type": "code",
   "execution_count": 13,
   "metadata": {},
   "outputs": [
    {
     "name": "stdout",
     "output_type": "stream",
     "text": [
      "\n",
      "  JSON saved at C:\\Users\\rando\\OneDrive\\Documents\\mywork-repo\\data\\output\\dump_sundaram_21_43_41.json\n"
     ]
    }
   ],
   "source": [
    "Helper.quick_json_dump(extracted_text,object.JSONPATH)"
   ]
  },
  {
   "cell_type": "code",
   "execution_count": null,
   "metadata": {},
   "outputs": [
    {
     "name": "stdout",
     "output_type": "stream",
     "text": [
      "Function Running: refine_extracted_data\n",
      "Function Running: merge_and_select_data\n",
      "\n",
      "  JSON saved at C:\\Users\\rando\\OneDrive\\Documents\\mywork-repo\\data\\output\\dump_sundaram_21_46_34.json\n"
     ]
    }
   ],
   "source": [
    "object = Sundaram(amc_name,path)\n",
    "final_text = object.refine_extracted_data(extracted_text,flatten = True)\n",
    "dfs = object.merge_and_select_data(final_text,select = True, map_keys = True, special=True)\n",
    "Helper.quick_json_dump(dfs,object.JSONPATH)"
   ]
  },
  {
   "cell_type": "code",
   "execution_count": null,
   "metadata": {},
   "outputs": [],
   "source": [
    "\"\"\"TATA FILE MAIN CODE \"\"\"# pages =  [16, 17, 18, 19, 20, 21, 22, 23, 24, 25, 26, 27, 28, 29, 30, 31, 32, 33, 34, 35, 36, 37, 38, 39, 40, 41, 42, 43, 44, 45, 46, 47, 48, 49, 50, 51, 52, 53, 54, 55, 56, 57, 58, 59, 60, 62, 64, 66, 67, 68, 69, 70, 71, 72, 73, 74, 75, 76, 77, 78, 79, 80, 81, 82, 83]\n",
    "\n",
    "amc_id = '38_0'\n",
    "# logging.info(f\"User Ran Fund Data of {amc_name}\")\n",
    "fund_name, path= mutual_fund[amc_id]\n",
    "object = Tata(fund_name,amc_id,path)\n",
    "title,path_pdf = object.check_and_highlight(path)\n",
    "data = object.get_data(path_pdf,title)\n",
    "extracted_text = object.get_generated_content(data)\n",
    "final_text = object.refine_extracted_data(extracted_text, flatten = True)\n",
    "dfs = object.merge_and_select_data(final_text,select=True, map_keys = True, special=True)\n",
    "# Helper.quick_json_dump(dfs, object.JSONPATH)"
   ]
  },
  {
   "cell_type": "code",
   "execution_count": 39,
   "metadata": {},
   "outputs": [
    {
     "name": "stdout",
     "output_type": "stream",
     "text": [
      "Function Running: refine_extracted_data\n",
      "Function Running: merge_and_select_data\n"
     ]
    }
   ],
   "source": [
    "object = Tata(fund_name,amc_id,path)\n",
    "final_text = object.refine_extracted_data(extracted_text, flatten = True)\n",
    "dfs = object.merge_and_select_data(final_text,select=True, map_keys = True, special_handling=True)\n",
    "with open(\"test.json\",\"w+\") as file:\n",
    "    json.dump(dfs,file)"
   ]
  },
  {
   "cell_type": "code",
   "execution_count": null,
   "metadata": {},
   "outputs": [],
   "source": [
    "\"\"\"TAURUS MAIN FILE CODE\"\"\" # pages = [11, 12, 13, 14, 15, 16, 17, 18]\n",
    "\n",
    "amc_name = 'Taurus Mutual Fund'\n",
    "logging.info(f\"User Ran Fund Data of {amc_name}\")\n",
    "path = mutual_fund[amc_name]\n",
    "object = Taurus(amc_name,path)\n",
    "title,path_pdf= object.check_and_highlight(path)\n",
    "\n",
    "data = object.get_data(path_pdf,title)\n",
    "extracted_text = object.get_generated_content(data)"
   ]
  },
  {
   "cell_type": "code",
   "execution_count": 88,
   "metadata": {},
   "outputs": [
    {
     "name": "stdout",
     "output_type": "stream",
     "text": [
      "\n",
      "  JSON saved at C:\\Users\\rando\\OneDrive\\Documents\\mywork-repo\\data\\output\\dump_taurus_01_08_25.json\n"
     ]
    }
   ],
   "source": [
    "Helper.quick_json_dump(extracted_text,object.JSONPATH)"
   ]
  },
  {
   "cell_type": "code",
   "execution_count": null,
   "metadata": {},
   "outputs": [
    {
     "name": "stdout",
     "output_type": "stream",
     "text": [
      "Function Running: refine_extracted_data\n",
      "Function Running: merge_and_select_data\n",
      "\n",
      "  JSON saved at C:\\Users\\rando\\OneDrive\\Documents\\mywork-repo\\data\\output\\dump_taurus_01_08_34.json\n"
     ]
    }
   ],
   "source": [
    "object = Taurus(amc_name,path)\n",
    "final_text = object.refine_extracted_data(extracted_text,flatten=True)\n",
    "dfs = object.merge_and_select_data(final_text,select = True, map_keys = True, special = True)\n",
    "Helper.quick_json_dump(dfs,object.JSONPATH)"
   ]
  },
  {
   "cell_type": "code",
   "execution_count": null,
   "metadata": {},
   "outputs": [],
   "source": [
    "\"\"\"TRUST MAIN FILE CODE\"\"\" #Issue: Clean data more, nested dict unload Invest Obj in right #Names coming as headers fund managers\n",
    "amc_name = 'Trust Mutual Fund'\n",
    "logging.info(f\"User Ran Fund Data of {amc_name}\")\n",
    "path = mutual_fund[amc_name]\n",
    "object = Trust(amc_name,path)\n",
    "title,path_pdf= object.check_and_highlight(path)"
   ]
  },
  {
   "cell_type": "code",
   "execution_count": null,
   "metadata": {},
   "outputs": [],
   "source": [
    "object = Trust(amc_name,path)\n",
    "data = object.get_data(path_pdf,title)\n",
    "extracted_text = object.get_generated_content(data)\n",
    "Helper.quick_json_dump(extracted_text,object.JSONPATH)"
   ]
  },
  {
   "cell_type": "code",
   "execution_count": null,
   "metadata": {},
   "outputs": [],
   "source": [
    "object = Trust(amc_name,path)\n",
    "final_text = object.refine_extracted_data(extracted_text, flatten = True)\n",
    "dfs = object.merge_and_select_data(final_text,select = True, map_keys = True, special = True)\n",
    "Helper.quick_json_dump(dfs,object.JSONPATH)"
   ]
  },
  {
   "cell_type": "code",
   "execution_count": null,
   "metadata": {},
   "outputs": [],
   "source": [
    "\"\"\"UTI MAIN FILE CODE\"\"\"\n",
    "\n",
    "amc_id = '41_0'\n",
    "# logging.info(f\"User Ran Fund Data of {amc_name}\")\n",
    "fund_name, path= mutual_fund[amc_id]\n",
    "object = UTI(fund_name,amc_id,path)\n",
    "title,path_pdf = object.check_and_highlight(path)\n",
    "data = object.get_data(path_pdf,title)\n",
    "extracted_text = object.get_generated_content(data)\n",
    "final_text = object.refine_extracted_data(extracted_text, flatten=True)\n",
    "# dfs = object.merge_and_select_data(final_text,select = True,map_keys = True, special_handling = True)\n",
    "# Helper.quick_json_dump(dfs, object.JSONPATH)"
   ]
  },
  {
   "cell_type": "code",
   "execution_count": null,
   "metadata": {},
   "outputs": [],
   "source": [
    "\"\"\"UTI MAIN FILE CODE PASSIVE\"\"\"\n",
    "\n",
    "amc_id = '18_0'\n",
    "# logging.info(f\"User Ran Fund Data of {amc_name}\")\n",
    "fund_name, path= mutual_fund[amc_id]\n",
    "object = UTIPassive(fund_name,amc_id,path)\n",
    "title,path_pdf = object.check_and_highlight(path)\n",
    "data = object.get_data(path_pdf,title)\n",
    "extracted_text = object.get_generated_content(data)\n",
    "final_text = object.refine_extracted_data(extracted_text, flatten=True)\n",
    "dfs = object.merge_and_select_data(final_text,select = True,map_keys = True, special_handling = True)\n",
    "# Helper.quick_json_dump(dfs, object.JSONPATH)"
   ]
  },
  {
   "cell_type": "code",
   "execution_count": null,
   "metadata": {},
   "outputs": [],
   "source": [
    "\"\"\"UNION MUTUAL FUND\"\"\" #Issues: Major Issue\n",
    "\n",
    "amc_name = 'Union Mutual Fund'\n",
    "logging.info(f\"User Ran Fund Data of {amc_name}\")\n",
    "path = mutual_fund[amc_name]\n",
    "object = Union(amc_name,path)\n",
    "title,path_pdf = object.check_and_highlight(path)"
   ]
  },
  {
   "cell_type": "code",
   "execution_count": null,
   "metadata": {},
   "outputs": [],
   "source": [
    "data = object.get_data(path_pdf,title)\n",
    "extracted_text = object.get_generated_content(data)\n",
    "Helper.quick_json_dump(extracted_text, object.JSONPATH)"
   ]
  },
  {
   "cell_type": "code",
   "execution_count": null,
   "metadata": {},
   "outputs": [],
   "source": [
    "object = Union(amc_name,path)\n",
    "final_text = object.refine_extracted_data(extracted_text, flatten = True)\n",
    "dfs = object.merge_and_select_data(final_text,select=True, map_keys = True, special = True)\n",
    "Helper.quick_json_dump(dfs, object.JSONPATH)"
   ]
  },
  {
   "cell_type": "code",
   "execution_count": null,
   "metadata": {},
   "outputs": [],
   "source": [
    "\"\"\"Unifi MUTUAL FUND\"\"\" #Issues: Major Issue\n",
    "\n",
    "amc_id = '97_0'\n",
    "# logging.info(f\"User Ran Fund Data of {amc_name}\")\n",
    "fund_name, path= mutual_fund[amc_id]\n",
    "object = Unifi(fund_name,amc_id,path)\n",
    "title,path_pdf = object.check_and_highlight(path)\n",
    "data = object.get_data(path_pdf,title)\n",
    "extracted_text = object.get_generated_content(data)\n",
    "final_text = object.refine_extracted_data(extracted_text, flatten=True)\n",
    "# dfs = object.merge_and_select_data(final_text,select = True,map_keys = True, special_handling = True)\n",
    "# Helper.quick_json_dump(dfs, object.JSONPATH)"
   ]
  },
  {
   "cell_type": "code",
   "execution_count": 42,
   "metadata": {},
   "outputs": [],
   "source": [
    "with open(\"test.json\",\"w+\") as file:\n",
    "    json.dump(final_text,file)"
   ]
  },
  {
   "cell_type": "code",
   "execution_count": null,
   "metadata": {},
   "outputs": [],
   "source": [
    "\"\"\"WHITEOAK MUTUAL FUND\"\"\"\n",
    "\n",
    "amc_name = 'Whiteoak Mutual Fund'\n",
    "logging.info(f\"User Ran Fund Data of {amc_name}\")\n",
    "path = mutual_fund[amc_name]\n",
    "object = WhiteOak(amc_name,path)\n",
    "title,path_pdf= object.check_and_highlight(path)\n",
    "# pages = [7, 9, 11, 13, 15, 17, 19, 20, 21, 23, 25, 26, 28, 30, 32, 34, 36, 37]\n",
    "data = object.get_data(path_pdf,title)\n",
    "extracted_text = object.get_generated_content(data)"
   ]
  },
  {
   "cell_type": "code",
   "execution_count": null,
   "metadata": {},
   "outputs": [
    {
     "name": "stdout",
     "output_type": "stream",
     "text": [
      "Function Running: refine_extracted_data\n"
     ]
    }
   ],
   "source": [
    "object = WhiteOak(amc_name,path)\n",
    "final_text = object.refine_extracted_data(extracted_text, flatten = True)\n",
    "# dfs = object.merge_and_select_data(final_text,select = True, map_keys = True, special = True)\n",
    "# Helper.quick_json_dump(dfs,object.JSONPATH)"
   ]
  },
  {
   "cell_type": "code",
   "execution_count": null,
   "metadata": {},
   "outputs": [],
   "source": [
    "\"\"\"ZERODHA MAIN CODE\"\"\" \n",
    "\n",
    "amc_name = 'Zerodha Mutual Fund'\n",
    "logging.info(f\"User Ran Fund Data of {amc_name}\")\n",
    "path = mutual_fund[amc_name]\n",
    "object = Zerodha(amc_name,path)\n",
    "title,path_pdf= object.check_and_highlight(path)\n",
    "# pages = [3, 5, 7, 9, 11, 13, 15]\n",
    "data = object.get_data(path_pdf,title)\n",
    "extracted_text = object.get_generated_content(data)\n",
    "\n",
    "final_text = object.refine_extracted_data(extracted_text, flatten = True)\n",
    "dfs = object.merge_and_select_data(final_text,select = True,map_keys = True, special = True)\n",
    "Helper.quick_json_dump(dfs, object.JSONPATH)"
   ]
  },
  {
   "cell_type": "code",
   "execution_count": 19,
   "metadata": {},
   "outputs": [
    {
     "name": "stdout",
     "output_type": "stream",
     "text": [
      "Function Running: check_and_highlight\n",
      "Function Running: _get_normal_title\n",
      "Regex: (HSBC.*?(?:FUND|Fund|ETF|Active|FO?o?F|Index)\\s*(?:of Funds?|Fund of Funds?|Fo?O?F)?)\n",
      "09 -- HSBC Large Cap Fund\n",
      "10 -- HSBC Large and Mid Cap Fund\n",
      "11 -- HSBC Midcap Fund\n",
      "12 -- HSBC Flexi Cap Fund\n",
      "13 -- HSBC Multi Cap Fund\n",
      "14 -- HSBC Small Cap Fund\n",
      "15 -- HSBC Focused Fund\n",
      "16 -- HSBC Infrastructure Fund\n",
      "17 -- HSBC Value Fund\n",
      "18 -- HSBC Business Cycles Fund\n",
      "19 -- HSBC Consumption Fund\n",
      "20 -- HSBC India Export Opportunities Fund\n",
      "21 -- HSBC Financial Services Fund\n",
      "22 -- HSBC Nifty 50 Index\n",
      "23 -- HSBC Nifty Next 50 Index\n",
      "24 -- HSBC ELSS Tax Saver Fund\n",
      "25 -- HSBC Tax Saver Equity Fund\n",
      "26 -- HSBC Aggressive Hybrid Fund\n",
      "27 -- HSBC Multi Asset Allocation Fund\n",
      "28 -- HSBC Balanced Advantage Fund\n",
      "29 -- HSBC Equity Savings Fund\n",
      "30 -- HSBC Arbitrage Fund\n",
      "33 -- HSBC Aggressive Hybrid Active FOF\n",
      "34 -- HSBC Multi Asset Active FOF\n",
      "35 -- HSBC Income Plus Arbitrage Active FOF\n",
      "36 -- HSBC Overnight Fund\n",
      "37 -- HSBC Liquid Fund\n",
      "38 -- HSBC Money Market Fund\n",
      "39 -- HSBC Low Duration Fund\n",
      "40 -- HSBC Ultra Short Duration Fund\n",
      "41 -- HSBC Short Duration Fund\n",
      "42 -- HSBC Medium Duration Fund\n",
      "43 -- HSBC Medium to Long Duration Fund\n",
      "44 -- HSBC Dynamic Bond Fund\n",
      "45 -- HSBC Corporate Bond Fund\n",
      "46 -- HSBC Banking and PSU Debt Fund\n",
      "47 -- HSBC Credit Risk Fund\n",
      "48 -- HSBC Gilt Fund\n",
      "49 -- HSBC Conservative Hybrid Fund\n",
      "50 -- HSBC CRISIL IBX 5050 Gilt Plus SDL Apr 2028 Index\n",
      "51 -- HSBC CRISIL IBX Gilt June 2027 Index\n",
      "Function Running: get_data\n",
      "Function Running: extract_clipped_data\n",
      "Function Running: extract_span_data\n",
      "Function Running: process_text_data\n",
      "Function Running: create_nested_dict\n",
      "Function Running: get_generated_content\n",
      "Parsing Completed, Refining Data.....\n",
      "\n",
      "--<<HSBC Large Cap Fund>>--\n",
      "--<<HSBC Large and Mid Cap Fund>>--\n",
      "--<<HSBC Midcap Fund>>--\n",
      "--<<HSBC Flexi Cap Fund>>--\n",
      "--<<HSBC Multi Cap Fund>>--\n",
      "--<<HSBC Small Cap Fund>>--\n",
      "--<<HSBC Focused Fund>>--\n",
      "--<<HSBC Infrastructure Fund>>--\n",
      "--<<HSBC Value Fund>>--\n",
      "--<<HSBC Business Cycles Fund>>--\n",
      "--<<HSBC Consumption Fund>>--\n",
      "--<<HSBC India Export Opportunities Fund>>--\n",
      "--<<HSBC Financial Services Fund>>--\n",
      "--<<HSBC Nifty 50 Index>>--\n",
      "--<<HSBC Nifty Next 50 Index>>--\n",
      "--<<HSBC ELSS Tax Saver Fund>>--\n",
      "--<<HSBC Tax Saver Equity Fund>>--\n",
      "--<<HSBC Aggressive Hybrid Fund>>--\n",
      "--<<HSBC Multi Asset Allocation Fund>>--\n",
      "--<<HSBC Balanced Advantage Fund>>--\n",
      "--<<HSBC Equity Savings Fund>>--\n",
      "--<<HSBC Arbitrage Fund>>--\n",
      "--<<HSBC Aggressive Hybrid Active FOF>>--\n",
      "--<<HSBC Multi Asset Active FOF>>--\n",
      "--<<HSBC Income Plus Arbitrage Active FOF>>--\n",
      "--<<HSBC Overnight Fund>>--\n",
      "--<<HSBC Liquid Fund>>--\n",
      "--<<HSBC Money Market Fund>>--\n",
      "--<<HSBC Low Duration Fund>>--\n",
      "--<<HSBC Ultra Short Duration Fund>>--\n",
      "--<<HSBC Short Duration Fund>>--\n",
      "--<<HSBC Medium Duration Fund>>--\n",
      "--<<HSBC Medium to Long Duration Fund>>--\n",
      "--<<HSBC Dynamic Bond Fund>>--\n",
      "--<<HSBC Corporate Bond Fund>>--\n",
      "--<<HSBC Banking and PSU Debt Fund>>--\n",
      "--<<HSBC Credit Risk Fund>>--\n",
      "--<<HSBC Gilt Fund>>--\n",
      "--<<HSBC Conservative Hybrid Fund>>--\n",
      "--<<HSBC CRISIL IBX 5050 Gilt Plus SDL Apr 2028 Index>>--\n",
      "--<<HSBC CRISIL IBX Gilt June 2027 Index>>--\n",
      "Function Running: refine_extracted_data\n"
     ]
    }
   ],
   "source": [
    "\"\"\"\"HSBC MAIN FILE CODE\"\"\" # pages = [10, 11, 12, 13, 14, 15, 16, 17, 18, 19, 20, 21, 22, 23, 24, 25, 26, 27, 28, 29, 30, 32, 34, 35, 36, 37, 38, 39, 40, 41, 42, 43, 44, 45, 46, 47, 48, 49]\n",
    "\n",
    "amc_id = '13_0'\n",
    "# logging.info(f\"User Ran Fund Data of {amc_name}\")\n",
    "fund_name, path= mutual_fund[amc_id]\n",
    "object = ThreeSixtyOne(fund_name,amc_id,path)\n",
    "title,path_pdf = object.check_and_highlight(path)\n",
    "data = object.get_data(path_pdf,title)\n",
    "extracted_text = object.get_generated_content(data)\n",
    "final_text = object.refine_extracted_data(extracted_text, flatten=True)\n",
    "dfs = object.merge_and_select_data(final_text,select = True,map_keys = True, special_handling = True)\n",
    "# Helper.quick_json_dump(dfs, object.JSONPATH)"
   ]
  },
  {
   "cell_type": "code",
   "execution_count": null,
   "metadata": {},
   "outputs": [],
   "source": [
    "manage = FundHouseManager()\n",
    "for fund in  manage.list_fund_houses():\n",
    "    fund_name = fund\n",
    "    manage.update_fund_house(fund,\"PARAMS_FOR\",fund_name)\n",
    "    print(fund)"
   ]
  },
  {
   "cell_type": "code",
   "execution_count": null,
   "metadata": {},
   "outputs": [],
   "source": [
    "# \"18_0\": \"ThreeSixtyOne\",\n",
    "# \"3_0\": \"AdityaBirla\",\n",
    "# \"96_0\": \"AngelOne\",\n",
    "# \"1_0\": \"AXISMF\",\n",
    "# \"1_1\": \"AXISMFPassive\",\n",
    "# \"59_0\": \"BajajFinServ\",\n",
    "# \"16_0\": \"Bandhan\",\n",
    "# \"5_0\": \"BankOfIndia\",\n",
    "# \"2_0\": \"BarodaBNP\",\n",
    "# \"6_0\": \"Canara\",\n",
    "# \"8_0\": \"DSP\",\n",
    "# \"12_0\": \"HDFC\",\n",
    "# \"12_1\": \"HDFC\",\n",
    "# \"9_0\": \"Edelweiss\",\n",
    "# \"11_0\": \"FranklinTempleton\",\n",
    "# \"20_0\": \"GROWW\",\n",
    "# \"60_0\": \"Helios\",\n",
    "# \"13_0\": \"HSBC\",\n",
    "# \"14_0\": \"ICICI\",\n",
    "# \"14_1\": \"ICICI\",\n",
    "# \"21_0\": \"Invesco\",\n",
    "# \"51_0\": \"ITI\",\n",
    "# \"22_0\": \"JMMF\",\n",
    "# \"23_0\": \"Kotak\",\n",
    "# \"25_0\": \"LIC\",\n",
    "# \"26_0\": \"MahindraManu\",\n",
    "# \"27_0\": \"MIRAE\",\n",
    "# \"27_1\": \"MIRAEPassive\",\n",
    "# \"28_0\": \"MotilalOswal\",\n",
    "# \"28_1\": \"MotilalOswalPassive\",\n",
    "# \"56_0\": \"NAVI\",\n",
    "# \"56_1\": \"NAVIPassive\",\n",
    "# \"33_0\": \"Nippon\",\n",
    "# \"57_0\": \"NJMF\",\n",
    "# \"95_0\": \"OldBridge\",\n",
    "# \"7_0\": \"PGIM\",\n",
    "# \"30_0\": \"PPFAS\",\n",
    "# \"10_0\": \"QuantMF\",\n",
    "# \"32_0\": \"Quantum\",\n",
    "# \"58_0\": \"Samco\",\n",
    "# \"35_0\": \"SBI\",\n",
    "# \"35_1\": \"SBIPassive\",\n",
    "# \"36_0\": \"Shriram\",\n",
    "# \"37_0\": \"Sundaram\",\n",
    "# \"38_0\": \"Tata\",\n",
    "# \"39_0\": \"Taurus\",\n",
    "# \"55_0\": \"Trust\",\n",
    "# \"40_0\": \"Union\",\n",
    "# \"41_0\": \"UTI\",\n",
    "# \"41_1\": \"UTIPassive\",\n",
    "# \"42_0\": \"WhiteOak\",\n",
    "# \"71_0\": \"Zerodha\",\n",
    "# \"97_0\": \"Unifi\""
   ]
  },
  {
   "cell_type": "code",
   "execution_count": null,
   "metadata": {},
   "outputs": [],
   "source": [
    "#  \"Angel One Mutual Fund\": \"AngelOne\",\n",
    "# \"Aditya Birla Sun Life Mutual Fund\": \"AdityaBirla\",\n",
    "# \"Axis Mutual Fund\": \"AXISMF\",\n",
    "# \"Axis Mutual Fund Passive\": \"AXISMFPassive\",\n",
    "# \"Bajaj Finserv Mutual Fund\": \"BajajFinServ\",\n",
    "# \"Bandhan Mutual Fund\": \"Bandhan\",\n",
    "# \"Bank Of India Mutual Fund\": \"BankOfIndia\",\n",
    "# \"Baroda Bnp Paribas Mutual Fund\": \"BarodaBNP\",\n",
    "# \"Canara Robeco Mutual Fund\": \"Canara\",\n",
    "# \"Dsp Mutual Fund\": \"DSP\",\n",
    "# \"Edelweiss Mutual Fund\": \"Edelweiss\",\n",
    "# \"Franklin Templeton Mutual Fund\": \"FranklinTempleton\",\n",
    "# \"Groww Mutual Fund\": \"GROWW\",\n",
    "# \"Hdfc Mutual Fund\": \"HDFC\",\n",
    "# \"Hdfc Mutual Fund Passive\": \"HDFC\",\n",
    "# \"Helios Mutual Fund\": \"Helios\",\n",
    "# \"Hsbc Mutual Fund\": \"HSBC\",\n",
    "# \"Icici Prudential Mutual Fund\": \"ICICI\",\n",
    "# \"Icici Prudential Mutual Fund Passive\": \"ICICI\",\n",
    "# \"Iti Mutual Fund\": \"ITI\",\n",
    "# \"Invesco Mutual Fund\": \"Invesco\",\n",
    "# \"Jm Financial Mutual Fund\": \"JMMF\",\n",
    "# \"Kotak Mahindra Mutual Fund\": \"Kotak\",\n",
    "# \"Lic Mutual Fund\": \"LIC\",\n",
    "# \"Mahindra Manulife Mutual Fund\": \"MahindraManu\",\n",
    "# \"Mirae Asset Mutual Fund\": \"MIRAE\",\n",
    "# \"Mirae Asset Mutual Fund Passive\": \"MIRAEPassive\",\n",
    "# \"Motilal Oswal Mutual Fund\": \"MotilalOswal\",\n",
    "# \"Motilal Oswal Mutual Fund Passive\": \"MotilalOswalPassive\",\n",
    "# \"Nj Mutual Fund\": \"NJMF\",\n",
    "# \"Navi Mutual Fund\": \"NAVI\",\n",
    "# \"Nippon India Mutual Fund\": \"Nippon\",\n",
    "# \"Old Bridge Mutual Fund\": \"OldBridge\",\n",
    "# \"Pgim India Mutual Fund\": \"PGIM\",\n",
    "# \"Ppfas Mutual Fund\": \"PPFAS\",\n",
    "# \"Quant Mutual Fund\": \"QuantMF\",\n",
    "# \"Quantum Mutual Fund\": \"Quantum\",\n",
    "# \"Sbi Mutual Fund\": \"SBI\",\n",
    "# \"Sbi Mutual Fund Passive\": \"SBIPassive\",\n",
    "# \"Samco Mutual Fund\": \"Samco\",\n",
    "# \"Shriram Mutual Fund\": \"Shriram\",\n",
    "# \"Sundaram Mutual Fund\": \"Sundaram\",\n",
    "# \"Tata Mutual Fund\": \"Tata\",\n",
    "# \"Taurus Mutual Fund\": \"Taurus\",\n",
    "# \"Trust Mutual Fund\": \"Trust\",\n",
    "# \"Uti Mutual Fund\": \"UTI\",\n",
    "# \"Union Mutual Fund\": \"Union\",\n",
    "# \"Whiteoak Mutual Fund\": \"WhiteOak\",\n",
    "# \"Zerodha Mutual Fund\": \"Zerodha\""
   ]
  },
  {
   "cell_type": "code",
   "execution_count": null,
   "metadata": {},
   "outputs": [],
   "source": [
    "# 06 -- UTI MUTUAL FUND\n",
    "# 07 -- UTI MUTUAL FUND\n",
    "# 08 -- UTI MUTUAL FUND\n",
    "# 09 -- UTI MUTUAL FUND\n",
    "# 10 -- UTI MUTUAL FUND\n",
    "# 11 -- UTI LARGE CAP FUND (Erstwhile UTI Mastershare Unit Scheme)\n",
    "# 12 -- UTI MID CAP FUND\n",
    "# 13 -- UTI SMALL CAP FUND\n",
    "# 14 -- UTI LARGE & MID CAP FUND (Erstwhile UTI Core Equity Fund)\n",
    "# 15 -- UTI VALUE FUND (Erstwhile UTI Value Opportunities Fund)\n",
    "# 16 -- UTI ELSS TAX SAVER FUND (Erstwhile UTI Long Term Equity Fund (Tax Saving)\n",
    "# 17 -- UTI FOCUSED FUND (Erstwhile UTI Focused Equity Fund)\n",
    "# 18 -- UTI FLEXI CAP FUND\n",
    "# 19 -- UTI INNOVATION FUND\n",
    "# 20 -- UTI DIVIDEND YIELD FUND\n",
    "# 21 -- UTI MNC FUND\n",
    "# 22 -- UTI INDIA CONSUMER FUND\n",
    "# 23 -- UTI INFRASTRUCTURE FUND\n",
    "# 24 -- UTI BANKING & FINANCIAL SERVICES FUND\n",
    "# 25 -- UTI HEALTHCARE FUND\n",
    "# 26 -- UTI TRANSPORTATION & LOGISTICS FUND\n",
    "# 27 -- UTI QUANT FUND\n",
    "# 28 -- UTI NIFTY 50 INDEX FUND\n",
    "# 29 -- UTI NIFTY NEXT 50 INDEX FUND\n",
    "# 30 -- UTI NIFTY 200 MOMENTUM 30 INDEX FUND\n",
    "# 31 -- UTI BSE SENSEX INDEX FUND\n",
    "# 32 -- UTI NIFTY MIDCAP 150 QUALITY 50 INDEX FUND\n",
    "# 33 -- UTI BSE LOW VOLATILITY INDEX FUND\n",
    "# 34 -- UTI NIFTY 50 EQUAL WEIGHT INDEX FUND\n",
    "# 35 -- UTI NIFTY 500 VALUE 50 INDEX FUND\n",
    "# 36 -- UTI BSE HOUSING INDEX FUND\n",
    "# 37 -- UTI NIFTY PRIVATE BANK INDEX FUND\n",
    "# 38 -- UTI NIFTY200 QUALITY 30 INDEX FUND\n",
    "# 39 -- UTI NIFTY ALPHA LOW-VOLATILITY 30 INDEX FUND\n",
    "# 40 -- UTI NIFTY MIDCAP 150 INDEX FUND\n",
    "# 42 -- UTI NIFTY INDIA MANUFACTURING INDEX FUND\n",
    "# 43 -- UTI BALANCED ADVANTAGE FUND\n",
    "# 44 -- UTI BALANCED ADVANTAGE FUND\n",
    "# 45 -- UTI MULTI ASSET ALLOCATION FUND (Erstwhile UTI Multi Asset Fund)\n",
    "# 46 -- UTI MULTI ASSET ALLOCATION FUND (Erstwhile UTI Multi Asset Fund)\n",
    "# 47 -- UTI AGGRESSIVE HYBRID FUND (Erstwhile UTI Hybrid Equity Fund)\n",
    "# 48 -- UTI AGGRESSIVE HYBRID FUND (Erstwhile UTI Hybrid Equity Fund)\n",
    "# 49 -- UTI EQUITY SAVINGS FUND\n",
    "# 50 -- UTI EQUITY SAVINGS FUND\n",
    "# 51 -- UTI ARBITRAGE FUND\n",
    "# 52 -- UTI CONSERVATIVE HYBRID FUND (Erstwhile UTI Regular Savings Fund)\n",
    "# 53 -- UTI CONSERVATIVE HYBRID FUND (Erstwhile UTI Regular Savings Fund)\n",
    "# 54 -- UTI CHILDRENS EQUITY FUND (Erstwhile UTI CCF - Investment Plan)\n",
    "# 55 -- UTI CHILDRENS EQUITY FUND (Erstwhile UTI CCF - Investment Plan)\n",
    "# 56 -- UTI CHILDRENS HYBRID FUND (Erstwhile UTI CCF - Saving Plan)\n",
    "# 57 -- UTI CHILDRENS HYBRID FUND (Erstwhile UTI CCF - Saving Plan)\n",
    "# 58 -- UTI RETIREMENT FUND (Erstwhile UTI Retirement Benefit Pension Fund)\n",
    "# 59 -- UTI RETIREMENT FUND (Erstwhile UTI Retirement Benefit Pension Fund)\n",
    "# 60 -- UTI UNIT LINKED INSURANCE PLAN\n",
    "# 61 -- UTI UNIT LINKED INSURANCE PLAN\n",
    "# 62 -- UTI OVERNIGHT FUND\n",
    "# 63 -- UTI LIQUID FUND (Erstwhile UTI Liquid Cash Plan)\n",
    "# 64 -- UTI MONEY MARKET FUND\n",
    "# 65 -- UTI ULTRA SHORT DURATION FUND (Erstwhile UTI Ultra Short Term Fund)\n",
    "# 66 -- UTI LOW DURATION FUND (Erstwhile UTI Treasury Advantage Fund)\n",
    "# 67 -- UTI SHORT DURATION FUND (Erstwhile UTI Short Term Income Fund)\n",
    "# 68 -- UTI MEDIUM DURATION FUND (Erstwhile UTI Medium Term Fund)\n",
    "# 69 -- UTI MEDIUM DURATION FUND (Erstwhile UTI Medium Term Fund)\n",
    "# 70 -- UTI MEDIUM TO LONG DURATION FUND (Erstwhile UTI Bond Fund)\n",
    "# 71 -- UTI LONG DURATION FUND\n",
    "# 72 -- UTI FLOATER FUND\n",
    "# 73 -- UTI BANKING & PSU FUND (Erstwhile UTI Banking & PSU Debt Fund)\n",
    "# 74 -- UTI CORPORATE BOND FUND\n",
    "# 75 -- UTI DYNAMIC BOND FUND\n",
    "# 76 -- UTI CREDIT RISK FUND\n",
    "# 77 -- UTI CREDIT RISK FUND\n",
    "# 78 -- UTI GILT FUND\n",
    "# 79 -- UTI GILT FUND WITH 10 YEAR CONSTANT DURATION\n",
    "# 80 -- UTI CRISIL SDL MATURITY JUNE 2027 INDEX FUND\n",
    "# 81 -- UTI CRISIL SDL MATURITY APRIL 2033 INDEX FUND\n",
    "# 82 -- UTI NIFTY SDL PLUS AAA PSU BOND APR 2026 7525 INDEX FUND\n",
    "# 83 -- UTI NIFTY SDL PLUS AAA PSU BOND APR 2028 7525 INDEX FUND"
   ]
  }
 ],
 "metadata": {
  "kernelspec": {
   "display_name": "envPDF",
   "language": "python",
   "name": "python3"
  },
  "language_info": {
   "codemirror_mode": {
    "name": "ipython",
    "version": 3
   },
   "file_extension": ".py",
   "mimetype": "text/x-python",
   "name": "python",
   "nbconvert_exporter": "python",
   "pygments_lexer": "ipython3",
   "version": "3.13.1"
  }
 },
 "nbformat": 4,
 "nbformat_minor": 2
}
