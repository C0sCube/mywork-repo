{
 "cells": [
  {
   "cell_type": "code",
   "execution_count": 2,
   "metadata": {},
   "outputs": [
    {
     "name": "stdout",
     "output_type": "stream",
     "text": [
      "The autoreload extension is already loaded. To reload it, use:\n",
      "  %reload_ext autoreload\n",
      "2025-07-24 16:39:47 [INFO]: AMC At: C:\\Users\\kaustubh.keny\\Projects\\PDF\\input\n"
     ]
    }
   ],
   "source": [
    "%load_ext autoreload\n",
    "%autoreload 2\n",
    "from app.config_loader import Config\n",
    "from app.program_logger import *\n",
    "conf = Config()\n",
    "\n",
    "import warnings\n",
    "from pandas.errors import SettingWithCopyWarning\n",
    "\n",
    "warnings.simplefilter(action=\"ignore\", category=SettingWithCopyWarning)\n",
    "warnings.filterwarnings(\"ignore\", category=UserWarning)\n",
    "warnings.filterwarnings(\"ignore\", category=FutureWarning)\n",
    "\n",
    "import json, os, logging, datetime,json5,sys, pprint\n",
    "from app.fund_data import *\n",
    "from app.utils import Helper\n",
    "\n",
    "logger = get_logger()\n",
    "\n",
    "mutual_fund = Helper.get_amc_paths(conf[\"amc_path\"])\n",
    "    \n",
    "# https://www.sebi.gov.in/sebiweb/other/OtherAction.do?doMutualFund=yes&mftype=2"
   ]
  },
  {
   "cell_type": "code",
   "execution_count": null,
   "metadata": {},
   "outputs": [],
   "source": [
    "\"\"\"360 ONE FILE CODE\"\"\"\n",
    "amc_id = '18_0'\n",
    "# logging.info(f\"User Ran Fund Data of {amc_name}\")\n",
    "fund_name, path= mutual_fund[amc_id]\n",
    "object = ThreeSixtyOne(fund_name,amc_id,path)\n",
    "title,path_pdf = object.check_and_highlight(path)\n",
    "data = object.get_data(path_pdf,title)\n",
    "extracted_text = object.get_generated_content(data)\n",
    "final_text = object.refine_extracted_data(extracted_text)\n",
    "dfs = object.merge_and_select_data(final_text)"
   ]
  },
  {
   "cell_type": "code",
   "execution_count": 3,
   "metadata": {},
   "outputs": [
    {
     "name": "stdout",
     "output_type": "stream",
     "text": [
      "2025-07-24 16:40:43 [INFO]: AMC At: C:\\Users\\kaustubh.keny\\Projects\\PDF\\LOLZ\n"
     ]
    }
   ],
   "source": [
    "mutual_fund = Helper.get_amc_paths(r'C:\\Users\\kaustubh.keny\\Projects\\PDF\\LOLZ')"
   ]
  },
  {
   "cell_type": "code",
   "execution_count": null,
   "metadata": {},
   "outputs": [],
   "source": [
    "\"\"\"ANGEL ONE FILE CODE\"\"\"\n",
    "amc_id = '96_0'\n",
    "# logging.info(f\"User Ran Fund Data of {amc_name}\")\n",
    "fund_name, path= mutual_fund[amc_id]\n",
    "object = AngelOne(fund_name,amc_id,path)\n",
    "title,path_pdf = object.check_and_highlight(path)\n",
    "data = object.get_data(path_pdf,title)\n",
    "extracted_text = object.get_generated_content(data)\n",
    "final_text = object.refine_extracted_data(extracted_text)\n",
    "dfs = object.merge_and_select_data(final_text)"
   ]
  },
  {
   "cell_type": "code",
   "execution_count": 15,
   "metadata": {},
   "outputs": [
    {
     "name": "stdout",
     "output_type": "stream",
     "text": [
      "File Saved At: C:\\Users\\kaustubh.keny\\Projects\\JSON25\\output\\json\\96_30-Jun-25_FS.json\n"
     ]
    }
   ],
   "source": [
    "save_path = os.path.join(object.JSONPATH, object.FILE_NAME).replace(\".pdf\", \".json\")\n",
    "with open(save_path, 'w') as f:\n",
    "  json.dump(dfs, f, indent=2)\n",
    "print(f\"File Saved At: {save_path}\")\n",
    "\n",
    "with open(\"data.json\", 'w') as f:\n",
    "  json.dump(final_text, f, indent=2)\n",
    "  \n",
    "with open(\"extract.json\", 'w') as f:\n",
    "  json.dump(extracted_text, f, indent=2)\n",
    "\n",
    "# with open(save_path, 'r') as f:\n",
    "#   data = json.load(f)\n",
    "\n",
    "# for record in data[\"records\"]:\n",
    "#     print(record['value']['main_scheme_name'])\n",
    "    "
   ]
  },
  {
   "cell_type": "code",
   "execution_count": null,
   "metadata": {},
   "outputs": [],
   "source": [
    "\"\"\"SHRIRAM MAIN FILE CODE\"\"\"\n",
    "amc_id = '36_0'\n",
    "# logging.info(f\"User Ran Fund Data of {amc_name}\")\n",
    "fund_name, path= mutual_fund[amc_id]\n",
    "object = Shriram(fund_name,amc_id,path)\n",
    "title,path_pdf = object.check_and_highlight(path)\n",
    "data = object.get_data(path_pdf,title)\n",
    "extracted_text = object.get_generated_content(data)\n",
    "final_text = object.refine_extracted_data(extracted_text)\n",
    "dfs = object.merge_and_select_data(final_text)"
   ]
  },
  {
   "cell_type": "code",
   "execution_count": null,
   "metadata": {},
   "outputs": [],
   "source": [
    "\"\"\"PPFAS MAIN FILE CODE\"\"\"\n",
    "\n",
    "amc_id = '30_0'\n",
    "# logging.info(f\"User Ran Fund Data of {amc_name}\")\n",
    "fund_name, path= mutual_fund[amc_id]\n",
    "object = PPFAS(fund_name,amc_id,path)\n",
    "title,path_pdf = object.check_and_highlight(path)\n",
    "data = object.get_data(path_pdf,title)\n",
    "extracted_text = object.get_generated_content(data)\n",
    "final_text = object.refine_extracted_data(extracted_text)\n",
    "dfs = object.merge_and_select_data(final_text)"
   ]
  },
  {
   "cell_type": "code",
   "execution_count": null,
   "metadata": {},
   "outputs": [
    {
     "name": "stdout",
     "output_type": "stream",
     "text": [
      "Function Running: refine_extracted_data\n",
      "Function Running: merge_and_select_data\n"
     ]
    }
   ],
   "source": [
    "object = PPFAS(fund_name,amc_id,path)\n",
    "final_text = object.refine_extracted_data(extracted_text)\n",
    "dfs = object.merge_and_select_data(final_text)"
   ]
  },
  {
   "cell_type": "code",
   "execution_count": null,
   "metadata": {},
   "outputs": [],
   "source": [
    "'''AXIS ONE PASSIVE MAIN FILE CODE'''\n",
    "amc_id = '1_1'\n",
    "# logging.info(f\"User Ran Fund Data of {amc_name}\")\n",
    "fund_name, path= mutual_fund[amc_id]\n",
    "object = AXISMFPassive(fund_name,amc_id,path)\n",
    "title,path_pdf = object.check_and_highlight(path)\n",
    "data = object.get_data(path_pdf,title)\n",
    "extracted_text = object.get_generated_content(data)\n",
    "# final_text = object.refine_extracted_data(extracted_text)\n",
    "# dfs = object.merge_and_select_data(final_text)\n",
    "# with open(save_path, 'w') as f:\n",
    "#   json.dump(dfs, f, indent=2)\n",
    "# print(f\"File Saved At: {save_path}\")"
   ]
  },
  {
   "cell_type": "code",
   "execution_count": 20,
   "metadata": {},
   "outputs": [],
   "source": [
    "annot_path = r\"C:\\Users\\Kaustubh.keny\\Projects\\PDF\\Apr 25\\Axis Mutual Fund\\axis_active.json\"\n",
    "with open(annot_path, \"r\") as file:\n",
    "    annot = json.load(file)"
   ]
  },
  {
   "cell_type": "code",
   "execution_count": null,
   "metadata": {},
   "outputs": [],
   "source": [
    "'''AXIS ONE ACTIVE MAIN FILE CODE''' #No issues as of now\n",
    "amc_id = '1_0'\n",
    "# logging.info(f\"User Ran Fund Data of {amc_name}\")\n",
    "fund_name, path= mutual_fund[amc_id]\n",
    "object = AXISMF(fund_name,amc_id,path)\n",
    "title,path_pdf = object.check_and_highlight(path)\n",
    "data = object.get_data(path_pdf,title,annot)"
   ]
  },
  {
   "cell_type": "code",
   "execution_count": null,
   "metadata": {},
   "outputs": [],
   "source": [
    "object = AXISMF(fund_name,amc_id,path)\n",
    "extracted_text = object.get_generated_content(data)\n",
    "final_text = object.refine_extracted_data(extracted_text)\n",
    "dfs = object.merge_and_select_data(final_text, map_keys = True, special_handling=True)"
   ]
  },
  {
   "cell_type": "code",
   "execution_count": 10,
   "metadata": {},
   "outputs": [],
   "source": [
    "fund_name, path = \"Aditya Birla\", r\"C:\\Users\\kaustubh.keny\\OneDrive - Cogencis Information Services Ltd\\Documents\\2020\\Aditya Birla Sun Life Mutual Fund\\3_31-Oct-20_FS.pdf\""
   ]
  },
  {
   "cell_type": "code",
   "execution_count": 12,
   "metadata": {},
   "outputs": [
    {
     "name": "stderr",
     "output_type": "stream",
     "text": [
      "2025-07-09 12:29:21 [TRACE]: step>> check_and_highlight\n",
      "2025-07-09 12:29:37 [SAVE]: Report:Sheet Name -> 3_31-Oct-20_FS.pdf Saved.\n",
      "2025-07-09 12:29:37 [TRACE]: step>> get_data\n",
      "2025-07-09 12:29:38 [TRACE]: step>> get_generated_content\n"
     ]
    }
   ],
   "source": [
    "\"\"\"ADITYA BIRLA FILE CODE\"\"\"\n",
    "amc_id = '3_0'\n",
    "# logging.info(f\"User Ran Fund Data of {amc_name}\")\n",
    "# fund_name, path= mutual_fund[amc_id]\n",
    "object = AdityaBirla(fund_name,amc_id,path)\n",
    "title,path_pdf = object.check_and_highlight(path)\n",
    "data = object.get_data(path_pdf,title)\n",
    "\n",
    "extracted_text = object.get_generated_content(data)"
   ]
  },
  {
   "cell_type": "code",
   "execution_count": 15,
   "metadata": {},
   "outputs": [
    {
     "name": "stderr",
     "output_type": "stream",
     "text": [
      "2025-07-09 12:31:38 [TRACE]: step>> refine_extracted_data\n",
      "2025-07-09 12:31:38 [TRACE]: step>> merge_and_select_data\n"
     ]
    }
   ],
   "source": [
    "object = AdityaBirla(fund_name,amc_id,path)\n",
    "final_text = object.refine_extracted_data(extracted_text)\n",
    "dfs = object.merge_and_select_data(final_text)"
   ]
  },
  {
   "cell_type": "code",
   "execution_count": 16,
   "metadata": {},
   "outputs": [
    {
     "name": "stdout",
     "output_type": "stream",
     "text": [
      "File Saved At: C:\\Users\\kaustubh.keny\\Projects\\JSON25\\output\\json\\3_31-Oct-20_FS.json\n"
     ]
    }
   ],
   "source": [
    "save_path = os.path.join(object.JSONPATH, object.FILE_NAME).replace(\".pdf\", \".json\")\n",
    "with open(save_path, 'w') as f:\n",
    "  json.dump(dfs, f, indent=2)\n",
    "print(f\"File Saved At: {save_path}\")\n",
    "\n",
    "with open(\"data.json\", 'w') as f:\n",
    "  json.dump(final_text, f, indent=2)\n",
    "  \n",
    "with open(\"extract.json\", 'w') as f:\n",
    "  json.dump(extracted_text, f, indent=2)"
   ]
  },
  {
   "cell_type": "code",
   "execution_count": 3,
   "metadata": {},
   "outputs": [],
   "source": [
    "fund_name, path = \"Bandhan Mutual Fund\", r\"C:\\Users\\kaustubh.keny\\OneDrive - Cogencis Information Services Ltd\\Documents\\2020\\Bandhan Mutual Fund\\16_29-Feb-20_FS.pdf.pdf\""
   ]
  },
  {
   "cell_type": "code",
   "execution_count": 4,
   "metadata": {},
   "outputs": [
    {
     "name": "stderr",
     "output_type": "stream",
     "text": [
      "2025-07-09 17:44:22 [TRACE]: step>> check_and_highlight\n",
      "2025-07-09 17:44:31 [SAVE]: Report:Sheet Name -> 16_29-Feb-20_FS.pdf.pdf Saved.\n",
      "2025-07-09 17:44:31 [TRACE]: step>> get_data\n",
      "2025-07-09 17:44:31 [TRACE]: step>> get_generated_content\n"
     ]
    }
   ],
   "source": [
    "\"\"\"BANDHAN MF FILE MAIN CODE\"\"\"\n",
    "amc_id = '16_0'\n",
    "# logging.info(f\"User Ran Fund Data of {amc_name}\")\n",
    "# fund_name, path= mutual_fund[amc_id]\n",
    "object = Bandhan(fund_name,amc_id,path)\n",
    "title,path_pdf = object.check_and_highlight(path)\n",
    "data  = object.get_data(path_pdf,title)\n",
    "extracted_text = object.get_generated_content(data)"
   ]
  },
  {
   "cell_type": "code",
   "execution_count": 5,
   "metadata": {},
   "outputs": [
    {
     "name": "stderr",
     "output_type": "stream",
     "text": [
      "2025-07-09 17:44:43 [TRACE]: step>> refine_extracted_data\n",
      "2025-07-09 17:44:43 [TRACE]: step>> merge_and_select_data\n"
     ]
    }
   ],
   "source": [
    "object = Bandhan(fund_name,amc_id,path)\n",
    "final_text = object.refine_extracted_data(extracted_text)\n",
    "dfs = object.merge_and_select_data(final_text)"
   ]
  },
  {
   "cell_type": "code",
   "execution_count": 59,
   "metadata": {},
   "outputs": [],
   "source": [
    "fund_name, path = \"Baroda BNP Mutual Fund\",r\"C:\\Users\\kaustubh.keny\\OneDrive - Cogencis Information Services Ltd\\Documents\\2020\\Baroda BNP Paribas Mutual Fund\\Baroda Apr 2020.pdf\""
   ]
  },
  {
   "cell_type": "code",
   "execution_count": 68,
   "metadata": {},
   "outputs": [
    {
     "name": "stderr",
     "output_type": "stream",
     "text": [
      "2025-07-09 18:41:31 [TRACE]: step>> check_and_highlight\n",
      "2025-07-09 18:41:34 [SAVE]: Report:Sheet Name -> Baroda Apr 2020.pdf Saved.\n",
      "2025-07-09 18:41:34 [TRACE]: step>> get_data\n",
      "2025-07-09 18:41:34 [TRACE]: step>> get_generated_content\n"
     ]
    }
   ],
   "source": [
    "\"\"\" BARODA BNP MAIN FILE CODE\"\"\"\n",
    "\n",
    "# amc_name = 'Baroda Bnp Paribas Mutual Fund'\n",
    "# logging.info(f\"User Ran Fund Data of {amc_name}\")\n",
    "# path = mutual_fund[amc_name]\n",
    "amc_id = \"2_0\"\n",
    "object = BarodaBNP(fund_name,amc_id,path)\n",
    "title,path_pdf= object.check_and_highlight(path)\n",
    "data  = object.get_data(path_pdf,title)\n",
    "extracted_text = object.get_generated_content(data)"
   ]
  },
  {
   "cell_type": "code",
   "execution_count": null,
   "metadata": {},
   "outputs": [],
   "source": [
    "object = BarodaBNP(fund_name,amc_id,path)\n",
    "final_text = object.refine_extracted_data(extracted_text)\n",
    "dfs = object.merge_and_select_data(final_text)\n"
   ]
  },
  {
   "cell_type": "code",
   "execution_count": 7,
   "metadata": {},
   "outputs": [],
   "source": [
    "fund_name,path =\"BOI Mutual Fund\", r\"C:\\Users\\kaustubh.keny\\OneDrive - Cogencis Information Services Ltd\\Documents\\2020\\Bank of India Mutual Fund\\5_29-Feb-20_FS.pdf\""
   ]
  },
  {
   "cell_type": "code",
   "execution_count": 8,
   "metadata": {},
   "outputs": [
    {
     "name": "stderr",
     "output_type": "stream",
     "text": [
      "2025-07-09 17:57:17 [TRACE]: step>> check_and_highlight\n",
      "2025-07-09 17:57:22 [SAVE]: Report:Sheet Name -> 5_29-Feb-20_FS.pdf Saved.\n",
      "2025-07-09 17:57:22 [TRACE]: step>> get_data\n",
      "2025-07-09 17:57:22 [TRACE]: step>> get_generated_content\n"
     ]
    }
   ],
   "source": [
    "\"\"\"BANK OF INDIA\"\"\"\n",
    "\n",
    "amc_id = '5_0'\n",
    "# logging.info(f\"User Ran Fund Data of {amc_name}\")\n",
    "# fund_name, path= mutual_fund[amc_id]\n",
    "object = BankOfIndia(fund_name,amc_id,path)\n",
    "title,path_pdf = object.check_and_highlight(path)\n",
    "data = object.get_data(path_pdf,title)\n",
    "extracted_text = object.get_generated_content(data)\n"
   ]
  },
  {
   "cell_type": "code",
   "execution_count": 56,
   "metadata": {},
   "outputs": [
    {
     "name": "stderr",
     "output_type": "stream",
     "text": [
      "2025-07-09 18:30:48 [TRACE]: step>> refine_extracted_data\n",
      "2025-07-09 18:30:48 [TRACE]: step>> merge_and_select_data\n"
     ]
    }
   ],
   "source": [
    "object = BankOfIndia(fund_name,amc_id,path)\n",
    "final_text = object.refine_extracted_data(extracted_text)\n",
    "dfs = object.merge_and_select_data(final_text)"
   ]
  },
  {
   "cell_type": "code",
   "execution_count": null,
   "metadata": {},
   "outputs": [],
   "source": [
    "\"\"\"BAJAJ FINSERV MAIN FILE CODE\"\"\" \n",
    "\n",
    "amc_id = \"59_0\"\n",
    "# logging.info(f\"User Ran Fund Data of {amc_name}\")\n",
    "fund_name, path= mutual_fund[amc_id]\n",
    "object = BajajFinServ(fund_name,amc_id,path)\n",
    "title,path_pdf= object.check_and_highlight(path)\n",
    "data = object.get_data(path_pdf,title)\n",
    "extracted_text = object.get_generated_content(data,is_table= object.MAIN_MAP[\"table\"])\n"
   ]
  },
  {
   "cell_type": "code",
   "execution_count": null,
   "metadata": {},
   "outputs": [],
   "source": [
    "object = BajajFinServ(fund_name,amc_id,path)\n",
    "final_text = object.refine_extracted_data(extracted_text)\n",
    "dfs = object.merge_and_select_data(final_text, special_handling=True)"
   ]
  },
  {
   "cell_type": "code",
   "execution_count": 14,
   "metadata": {},
   "outputs": [],
   "source": [
    "fund_name, path = \"Canara Mutual Fund\", r\"C:\\Users\\kaustubh.keny\\OneDrive - Cogencis Information Services Ltd\\Documents\\2020\\Canara Robeco Mutual Fund\\6_29-Feb-20_FS.pdf.pdf\""
   ]
  },
  {
   "cell_type": "code",
   "execution_count": 22,
   "metadata": {},
   "outputs": [],
   "source": [
    "\"\"\"CANARA MUTUAL FUND\"\"\"\n",
    "amc_id = '6_0'\n",
    "# logging.info(f\"User Ran Fund Data of {amc_name}\")\n",
    "# fund_name, path= mutual_fund[amc_id]\n",
    "object = Canara(fund_name,amc_id,path)\n",
    "title,path_pdf = object.check_and_highlight(path)\n",
    "data = object.get_data(path_pdf,title)\n",
    "extracted_text = object.get_generated_content(data)"
   ]
  },
  {
   "cell_type": "code",
   "execution_count": 23,
   "metadata": {},
   "outputs": [],
   "source": [
    "object =  Canara(fund_name,amc_id,path)\n",
    "final_text = object.refine_extracted_data(extracted_text)\n",
    "dfs = object.merge_and_select_data(final_text)\n"
   ]
  },
  {
   "cell_type": "code",
   "execution_count": 25,
   "metadata": {},
   "outputs": [
    {
     "name": "stdout",
     "output_type": "stream",
     "text": [
      "File Saved At: C:\\Users\\kaustubh.keny\\Projects\\JSON25\\output\\json\\6_29-Feb-20_FS.json.json\n"
     ]
    }
   ],
   "source": [
    "save_path = os.path.join(object.JSONPATH, object.FILE_NAME).replace(\".pdf\", \".json\")\n",
    "with open(save_path, 'w') as f:\n",
    "  json.dump(dfs, f, indent=2)\n",
    "print(f\"File Saved At: {save_path}\")\n",
    "\n",
    "with open(\"data.json\", 'w') as f:\n",
    "  json.dump(final_text, f, indent=2)\n",
    "  \n",
    "with open(\"extract.json\", 'w') as f:\n",
    "  json.dump(extracted_text, f, indent=2)"
   ]
  },
  {
   "cell_type": "code",
   "execution_count": 23,
   "metadata": {},
   "outputs": [
    {
     "name": "stdout",
     "output_type": "stream",
     "text": [
      ": S&P BSE 500 TRI FUND MANAGER: 1) Mr. Shridatta Bhandwaldar 2) Mr. Miyush Gandhi TOTAL EXPERIENCE:1) 13 Years 2) 12 Years MANAGING THIS FUND: 1) Since 5-July-16 2) Since 01-Oct-19  Source ICRA MFI Explorer   Monthend AUM as on 2 investment management fees. Please refer page n\n",
      "[': S&P BSE 500 TRI', ': 1) Mr. Shridatta Bhandwaldar 2) Mr. Miyush Gandhi TOTAL EXPERIENCE:1) 13 Years 2) 12 Years MANAGING THIS FUND: 1) Since 5-July-16 2) Since 01-Oct-']\n",
      ": S&P BSE 100 TRI FUND MANAGER :1) Mr. Shridatta Bhandwaldar 2) Mr. Sanjay Bembalkar TOTAL EXPERIENCE : 1) 13 Years 2) 12 Years MANAGING THIS FUND : 1) Since 5-July-16 2) Since 01-Oct-19 PRODUCT POSITIONING Canara Robeco Bluechip Equity Fund is an open ended large cap fund which will invest in Top 100 companies based on their Market capitalization. The fund provides a blend of Growth and Value style of investing. The fund aims to benefit from the growing Indian economy by investing in large cap stocks as they have a potential to grow in tandem with Indian economy.  QUANTITATIVE INFORMATION Standard Deviation 12.38 Portfolio Beta 0.82 Portfolio Turnover Ratio 0.56 times R-Squared 0.91 Sharpe Ratio 0.61 PORTFOLIO Name of the Instruments % to NAV Equities 95.82 Listed 95.82 Banks 25.11 HDFC Bank Ltd 9.27 ICICI Bank Ltd 7.12 Kotak Mahindra Bank Ltd 4.58 Axis Bank Ltd 3.27 State Bank of India 0.87 Finance 12.24 Housing Development Finance Corporation Ltd 4.60 Bajaj Finance Ltd 4.05 Bajaj Finserv Ltd 1.48 ICICI Lombard General Insurance Co Ltd 1.17 HDFC Asset Management Company Ltd 0.94 Consumer Non Durables 11.97 Hindustan Unilever Ltd 3.78 Asian Paints Ltd 1.65 ITC Ltd 1.50 Dabur India Ltd 1.50 Britannia Industries Ltd 1.49 Jubilant Foodworks Ltd 1.13 Nestle India Ltd 0.92 Software 9.25 Infosys Ltd 5.20 Tata Consultancy Services Ltd 3.09 Larsen & Toubro Infotech Ltd 0.96 Pharmaceuticals 7.85 Divis Laboratories Ltd 2.48 Abbott India Ltd 2.31 Alkem Laboratories Ltd 1.62 Dr. Reddys Laboratories Ltd 1.44 er   Monthend AUM as on 28.02.2020  The expens investment managemen\n",
      "[': S&P BSE 100 TRI']\n",
      ":NIFTY Large Midcap 250 TRI  Source ICRA MFI Explorer   Monthend AUM as on 2 investment management fees. Please refer page n\n",
      "[':NIFTY Large Midcap 250 TRI']\n",
      ": Nifty Smallcap 250 Index TRI FUND MANAGER : 1) Ms. Cheenu Gupta 2) Mr. Shridatta Bhandwaldar TOTAL EXPERIENCE :1) 13 Years 2) 13 Years MANAGING THIS FUND : 1) Since 15-February-19 2) Since 01-Oct-19 PRODUCT POSITIONING Canara Robeco Small Cap Fund is an open-ended equity scheme predominantly investing in small cap stocks. It considers companies ranked 251st and onwards in terms of Market Capitalization as its Investment universe. The fund provides a blend of Growth and Value style of investing. This Fund seeks to invest in high quality small cap business which are undervalued and have a sustainable business. Further, it aims to invest in companies with consistent earnings and reasonable valuations which could lead to Alpha Generation opportunity. Fund intends to invest at least 65% in small-cap companies which have high growth potential and remaining 35% of the portfolio across Large, Mid and Small cap companies after assessing the market conditions. PORTFOLIO Name of the Instruments % to NAV Equities 96.11 Listed 96.11 Finance 16.81 Can Fin Homes Ltd 2.86 Creditaccess Grameen Ltd 2.82 Central Depository Services (India) Ltd 2.59 Mahindra & Mahindra Financial Services Ltd2.31 Multi Commodity Exchange Of India Ltd 2.22 Indian Energy Exchange Ltd 2.03 Cholamandalam Financial Holdings Ltd 1.98 Consumer Durables 13.41 Orient Electric Ltd 2.60 Dixon Technologies (India) Ltd 2.3 V.I.P. Industries Ltd 1.98 Amber Enterprises India Ltd 1.75 Blue Star Ltd 1.40 TTK Prestige Ltd 1.18 Greenlam Industries Ltd 1.13 Greenply Industries Ltd 1.03 Chemicals 10.79 Navin Fluorine International Ltd 2.79 Galaxy Surfactants Ltd 2.76 Deepak Nitrite Ltd 2.28 Atul Ltd 2.10 Solar Industries India Ltd 0.86 Industrial Products 8.58 Essel Propack Ltd 2.19 Timken India Ltd 2.10 Finolex Industries Ltd 2.02 Supreme Industries Ltd 1.59 KSB Ltd 0.57 Schaeffler India Ltd 0.11 Construction 8.50 KNR Constructions Ltd 2.50 Brigade Enterprises Ltd 2.36 Sobha Ltd 1.57 Cera Sanitaryware Ltd 1.55 lorer   Monthend AUM as on 28.02.2020  The expe on investment manageme\n",
      "[': Nifty Smallcap 250 Index TRI']\n",
      ": S&P BSE India  Infrastructure TRI  Source ICRA MFI Explorer   Monthend AUM as on 2 investment management fees. Please refer page n\n",
      "[': S&P BSE India  Infrastructure TRI']\n",
      ": S&P BSE 100 TRI  12 Source ICRA MFI Explor\n",
      "[': S&P BSE 100 TRI']\n",
      ": S&P BSE 100 TRI FUND MANAGER : 1) Ms. Cheenu Gupta 2) Mr. Shridatta Bhandwaldar TOTAL EXPERIENCE :1) 13 Years 2) 13 Years MANAGING THIS FUND : 1) Since 12-March-18 2) Since 01-Oct-19  Source ICRA MFI Explorer   Monthend AUM as on 2 on investment management fees. Please refer pag\n",
      "[': S&P BSE 100 TRI', ' : 1) Ms. Cheenu Gupta 2) Mr. Shridatta Bhandwaldar TOTAL EXPERIENCE :1) 13 Years 2) 13 Years MANAGING THIS FUND : 1) Since 12-March-18 2) Since 01-Oct-']\n",
      ": CRISIL Overnight Index FUND MANAGER Ms. Suman Prasad TOTAL EXPERIENCE 20 Years MANAGING THIS FUND :Since 24-July-19  14 Source ICRA MFI Exp\n",
      "[': CRISIL Overnight Index', ' Ms. Suman Prasad TOTAL EXPERIENCE 20 Years MANAGING THIS FUND :Since 24-July-19']\n",
      ": Crisil Liquid Fund Index FUND MANAGER: 1) Mr. Girish Hisaria 2) Ms. Suman Prasad TOTAL EXPERIENCE:1) 17 Years 2) 20 Years MANAGING THIS FUND: 1) Since 24-Aug-14 2) Since 18-Mar-11 PRODUCT POSITIONING Canara Robeco Liquid Fund is an open ended debt scheme investing in only short-term money market instruments with a residual maturity upto 91 days. The fund aims to provide liquidity at all the time. The fund is suitable for investments with very short term horizon & to park surplus money. RATING PROFILE (% to net assets) Tri-party repoREPO 12.04% Reverse Repo & NetCurrent Assets AAA & Equivalent 0.52% A1+ & Equivalent 66.21% Treasury Bills Sovereign 21.22% PORTFOLIO Name of the Instruments Money Market Instruments National Bank For Agriculture & Rural Development Reliance Jio Infocomm Ltd The Ramco Cements Ltd Sundaram Finance Ltd Axis Bank Ltd NTPC Ltd Power Grid Corporation of India Ltd Reliance Industries Ltd Hindustan Petroleum Corporation Ltd Godrej Industries Ltd Sundaram Finance Ltd Sundaram Finance Ltd Reliance Jio Infocomm Ltd Debt Instruments Bajaj Finance Ltd Treasury Bills Tri-party repo Other Current Assets Grand Total ( Net Asset) 8.02.2020 The expense ratios mentioned for the sc ge no. 39 for disclaimers.\n",
      "[': Crisil Liquid Fund Index']\n",
      ": CRISIL Ultra Short Term Debt Index FUND MANAGER: 1) Mr. Girish Hisaria 2) Ms. Suman Prasad TOTAL EXPERIENCE: 1) 17 Years 2) 20  Years MANAGING THIS FUND: 1) Since 24-Aug-14 2) Since 12-Apr-11 Canara Robeco Ultra Short Term Fund is an open ended ultra-short term debt scheme which seeks to provide consistent income and liquidity through investments made primarily in money market and debt securities following a low risk strategy. The portfolio duration of the fund tends to be slightly higher than a liquid fund but investments are made in debt instruments in a way that the Macaulay duration of the portfolio is between 3 months and 6 months.  QUANTITATIVE INFORMATION Yield to Maturity 5.48% Modified Duration                                 0.26 Years Average Maturity 0.28 Years PORTFOLIO Name of the Instruments Money Market Instruments Indian Bank Kotak Mahindra Prime Ltd Bajaj Housing Finance Ltd Bank of Baroda Debt Instruments NTPC Ltd REC Ltd HDB Financial Services Ltd Indian Railway Finance Corporation Ltd Power Grid Corporation of India Ltd Housing Development Finance Corporation Ltd Power Finance Corporation Ltd Power Finance Corporation Ltd Kotak Mahindra Prime Ltd Power Finance Corporation Ltd Mahindra & Mahindra Financial Services Ltd LIC Housing Finance Ltd L&T Housing Finance Ltd Government Securities 8.39% RAJASTHAN SDL UDAY 15-MAR-20 Treasury Bills Tri-party repo Other Current Assets Grand Total ( Net Asset) plorer   Monthend AUM as on 28.02.2020  The expe on investment managemen\n",
      "[': CRISIL Ultra Short Term Debt Index']\n",
      ": CRISIL Low Duration Debt Index FUND MANAGER: 1) Mr. Girish Hisaria 2) Ms. Suman Prasad TOTAL EXPERIENCE: 1) 17 Years2) 20 Years MANAGING THIS FUND: 1)  Since 24-Aug-14 2)  Since 12-Apr-11 PRODUCT POSITIONING Canara Robeco Savings Fund an open-ended low duration debt scheme aiming at primarily generating accrual income from investments in money market and debt securities. The Scheme is ideally suited for investors looking at a comparatively lower risk strategy short term debt fund with a Macaulay duration between 6 months and 12 months.  QUANTITATIVE INFORMATION Yield to Maturity 5.88% Modified Duration                                  0.77 Years Average Maturity 0.88 Years MATURITY PROFILE % Allocation Net Current Assets 1.58% 0 to 3 Months 27.49% 3 to 6 Months 16.24% 6 to 12 Months 29.54% 1 -2 years 7.18% Greater than 2 years 17.97% PORTFOLIO Name of the Instruments Money Market Instruments HDFC Bank Ltd Axis Finance Ltd Indian Bank Kotak Mahindra Bank Ltd Indian Bank ICICI Bank Ltd Housing Development Finance Corporation Ltd Small Industries Development Bank Of India ICICI Bank Ltd Small Industries Development Bank Of India Andhra Bank Small Industries Development Bank Of India HDFC Bank Ltd Axis Bank Ltd Andhra Bank Axis Bank Ltd Bajaj Housing Finance Ltd Axis Bank Ltd Debt Instruments LIC Housing Finance Ltd Mahindra & Mahindra Financial Services Ltd Kotak Mahindra Prime Ltd National Bank For Agriculture & Rural Development Housing Development Finance Corporation Ltd Power Finance Corporation Ltd Power Finance Corporation Ltd LIC Housing Finance Ltd Housing Development Finance Corporation Ltd REC Ltd Bajaj Finance Ltd REC Ltd Reliance Industries Ltd NTPC Ltd Small Industries Development Bank Of India REC Ltd Power Grid Corporation of India Ltd Larsen & Toubro Ltd Bajaj Finance Ltd Power Finance Corporation Ltd Power Finance Corporation Ltd\n",
      "[': CRISIL Low Duration Debt Index']\n",
      ": CRISIL Short Term Bond Fund Index FUND MANAGER : Ms. Suman Prasad TOTAL EXPERIENCE : 20 Years MANAGING THIS FUND :Since 16-Sep-12  18 Source\n",
      "[': CRISIL Short Term Bond Fund Index']\n",
      ": CRISIL Composite Bond Fund Index FUND MANAGER: Mr. Avnish Jain TOTAL EXPERIENCE:25 Years MANAGING THIS FUND: Since 25-June-14  Source ICRA MFI Explorer   Monthend AUM as on 2 investment management fees. Please refer page n\n",
      "[': CRISIL Composite Bond Fund Index', ': Mr. Avnish Jain TOTAL EXPERIENCE:25 Years MANAGING THIS FUND: Since 25-June-']\n",
      ": CRISIL Composite Bond Fund Index FUND MANAGER: Mr. Girish Hisaria TOTAL EXPERIENCE: 17 Years MANAGING THIS FUND: Since 24-Aug-14  20 Source ICRA MF\n",
      "[': CRISIL Composite Bond Fund Index', ': Mr. Girish Hisaria TOTAL EXPERIENCE: 17 Years MANAGING THIS FUND: Since 24-Aug-14']\n",
      ": CRISIL Composite Bond Fund Index FUND MANAGER  : Mr. Avnish Jain TOTAL EXPERIENCE:25 Years MANAGING THIS FUND: Since 7-Feb-14  Source ICRA MFI Explorer   Monthend AUM as on 2 GST on investment management fees.  Please refe\n",
      "[': CRISIL Composite Bond Fund Index', '  : Mr. Avnish Jain TOTAL EXPERIENCE:25 Years MANAGING THIS FUND: Since 7-Feb-']\n",
      ":Crisil Dynamic Gilt Fund Index FUND MANAGER:Mr. Girish Hisaria TOTAL EXPERIENCE: 17 Years MANAGING THIS FUND: Since 24-Aug-14  22 Source ICRA MFI Expl\n",
      "[':Crisil Dynamic Gilt Fund Index', ':Mr. Girish Hisaria TOTAL EXPERIENCE: 17 Years MANAGING THIS FUND: Since 24-Aug-14']\n",
      ": CRISIL Hybrid 85+15-Conservative Index FUND MANAGER : 1) Mr. Avnish Jain (For Debt Portfolio ) 2) Mr. Miyush Gandhi (For Equity Portfolio ) TOTAL EXPERIENCE : 1) 25 Years 2) 12 Years MANAGING THIS FUND1) Si 7 O t 13\n",
      "[': CRISIL Hybrid 85+15-Conservative Index']\n",
      ": CRISIL Hybrid 35+65 - Aggressive Index FUND MANAGER : For Equity Portfolio 1) Mr. Shridatta Bhandwaldar 2) Ms. Cheenu Gupta For Debt Portfolio 3) Mr. Avnish Jain TOTAL EXPERIENCE : 1) 13 Years  2) 13 Years  3)  25 Years MANAGING THIS FUND: 1) Since 5-July-16 2) Since 01-Oct-19  3) Since 7-Oct-13 PRODUCT POSITIONING Canara Robeco Equity Hybrid Fund aims to generating long term capital appreciation through a prudent mix of equity and debt portfolio, making it more suitable for the average investor as it takes away the burden of focusing on asset allocation\n",
      "[': CRISIL Hybrid 35+65 - Aggressive Index']\n"
     ]
    }
   ],
   "source": [
    "pattern = \"(.+?)\\\\s*\\\\d*\\\\s*(?:FUND\\\\s*MANAGER|Source ICRA)\"\n",
    "for fund, content in final_text.items():\n",
    "    check = 'benchmark_index'\n",
    "    if check in content:\n",
    "        text =re.sub(\"[^a-zA-Z0-9.,\\\\s\\\\-\\\\(\\\\)\\\\+\\\\%\\\\:\\\\&]+\", \"\",content[check]).strip()\n",
    "        print(text)\n",
    "        match = re.findall(pattern,text, re.IGNORECASE)\n",
    "        print(match)"
   ]
  },
  {
   "cell_type": "code",
   "execution_count": null,
   "metadata": {},
   "outputs": [],
   "source": [
    "\"\"\"DSP MAIN FILE CODE\"\"\"\n",
    "\n",
    "amc_id = '8_0'\n",
    "# logging.info(f\"User Ran Fund Data of {amc_name}\")\n",
    "fund_name, path= mutual_fund[amc_id]\n",
    "object = DSP(fund_name,amc_id,path)\n",
    "title,path_pdf = object.check_and_highlight(path)\n",
    "data = object.get_data(path_pdf,title)"
   ]
  },
  {
   "cell_type": "code",
   "execution_count": null,
   "metadata": {},
   "outputs": [
    {
     "name": "stdout",
     "output_type": "stream",
     "text": [
      "Function Running: refine_extracted_data\n",
      "Function Running: merge_and_select_data\n"
     ]
    }
   ],
   "source": [
    "object = DSP(fund_name,amc_id,path)\n",
    "# extracted_text = object.get_generated_content(data)\n",
    "final_text = object.refine_extracted_data(extracted_text)\n",
    "dfs = object.merge_and_select_data(final_text,special_handling = True)\n"
   ]
  },
  {
   "cell_type": "code",
   "execution_count": null,
   "metadata": {},
   "outputs": [],
   "source": [
    "\"\"\"EDELWEISS MP FILE MAIN CODE\"\"\"\n",
    "\n",
    "amc_id = '9_0'\n",
    "# logging.info(f\"User Ran Fund Data of {amc_name}\")\n",
    "fund_name, path= mutual_fund[amc_id]\n",
    "object = Edelweiss(fund_name,amc_id,path)\n",
    "title,path_pdf = object.check_and_highlight(path)\n",
    "data = object.get_data(path_pdf,title)\n"
   ]
  },
  {
   "cell_type": "code",
   "execution_count": null,
   "metadata": {},
   "outputs": [
    {
     "name": "stdout",
     "output_type": "stream",
     "text": [
      "Function Running: get_generated_content\n",
      "\tParsing Completed, Refining Data.....\n",
      "Function Running: refine_extracted_data\n",
      "Function Running: merge_and_select_data\n"
     ]
    }
   ],
   "source": [
    "object = Edelweiss(fund_name,amc_id,path)\n",
    "extracted_text = object.get_generated_content(data)\n",
    "final_text = object.refine_extracted_data(extracted_text)\n",
    "dfs = object.merge_and_select_data(final_text, special_handling=True)\n"
   ]
  },
  {
   "cell_type": "code",
   "execution_count": null,
   "metadata": {},
   "outputs": [],
   "source": [
    "\"\"\"FRANKLIN TEMPLETON FILE MAIN CODE\"\"\"\n",
    "\n",
    "amc_id = '11_0'\n",
    "# logging.info(f\"User Ran Fund Data of {amc_name}\")\n",
    "fund_name, path= mutual_fund[amc_id]\n",
    "object = FranklinTempleton(fund_name,amc_id,path)\n",
    "title,path_pdf = object.check_and_highlight(path)\n",
    "data = object.get_data(path_pdf,title)\n"
   ]
  },
  {
   "cell_type": "code",
   "execution_count": null,
   "metadata": {},
   "outputs": [],
   "source": [
    "object = FranklinTempleton(fund_name,amc_id,path)\n",
    "extracted_text = object.get_generated_content(data)\n",
    "final_text = object.refine_extracted_data(extracted_text)\n",
    "dfs = object.merge_and_select_data(final_text, special_handling=True)\n"
   ]
  },
  {
   "cell_type": "code",
   "execution_count": null,
   "metadata": {},
   "outputs": [],
   "source": []
  },
  {
   "cell_type": "code",
   "execution_count": null,
   "metadata": {},
   "outputs": [],
   "source": [
    "\"\"\"Gadd_valueW MUTUAL FUND MAIN CODE\"\"\"# pages = [13, 14, 15, 16, 17, 18, 19, 20, 21, 22, 23, 24, 26, 28, 29, 30, 32, 33, 34, 35, 36, 37, 38, 39, 40, 41, 42]\n",
    "\n",
    "amc_id = '20_0'\n",
    "# logging.info(f\"User Ran Fund Data of {amc_name}\")\n",
    "fund_name, path= mutual_fund[amc_id]\n",
    "object = Gadd_valueW(fund_name,amc_id,path)\n",
    "title,path_pdf = object.check_and_highlight(path)\n",
    "data = object.get_data(path_pdf,title)\n",
    "extracted_text = object.get_generated_content(data)"
   ]
  },
  {
   "cell_type": "code",
   "execution_count": null,
   "metadata": {},
   "outputs": [],
   "source": [
    "\"\"\"HDFC MUTUAL FUND\"\"\" # pages = [5, 6, 8, 10, 11, 12, 13, 14, 15, 16, 17, 18, 19, 20, 21, 22, 23, 24, 25, 26, 27, 28, 29, 30, 31, 32, 33, 34, 35, 36, 37, 38, 39, 40, 41, 42, 43, 44, 45, 46, 47, 48, 49, 50, 51]\n",
    "\n",
    "amc_name = \"Hdfc Mutual Fund\"\n",
    "logging.info(f\"User Ran Fund Data of {amc_name}\")\n",
    "path = mutual_fund[amc_name]\n",
    "object = HDFC(amc_name,path)\n",
    "title,path_pdf= object.check_and_highlight(path)\n",
    "\n",
    "data = object.get_data(path_pdf,title)\n",
    "extracted_text = object.get_generated_content(data)"
   ]
  },
  {
   "cell_type": "code",
   "execution_count": null,
   "metadata": {},
   "outputs": [],
   "source": [
    "object = HDFC(amc_name,path)\n",
    "final_text = object.refine_extracted_data(extracted_text,flatten = True)\n",
    "dfs = object.merge_and_select_data(final_text, select = True,special_handling = True)\n",
    "Helper.quick_json_dump(dfs,object.JSONPATH)"
   ]
  },
  {
   "cell_type": "code",
   "execution_count": null,
   "metadata": {},
   "outputs": [],
   "source": [
    "\"\"\"HDFC MUTUAL FUND PASSIVE\"\"\" # pages = [5, 6, 8, 10, 11, 12, 13, 14, 15, 16, 17, 18, 19, 20, 21, 22, 23, 24, 25, 26, 27, 28, 29, 30, 31, 32, 33, 34, 35, 36, 37, 38, 39, 40, 41, 42, 43, 44, 45, 46, 47, 48, 49, 50, 51]\n",
    "\n",
    "amc_name = \"Hdfc Mutual Fund Passive\"\n",
    "logging.info(f\"User Ran Fund Data of {amc_name}\")\n",
    "path = mutual_fund[amc_name]\n",
    "object = HDFC(amc_name,path)\n",
    "title,path_pdf= object.check_and_highlight(path)\n",
    "\n",
    "data = object.get_data(path_pdf,title)\n",
    "extracted_text = object.get_generated_content(data)\n",
    "final_text = object.refine_extracted_data(extracted_text,flatten = True)\n",
    "dfs = object.merge_and_select_data(final_text, select = True,special_handling=True)\n",
    "Helper.quick_json_dump(dfs,object.JSONPATH)"
   ]
  },
  {
   "cell_type": "code",
   "execution_count": null,
   "metadata": {},
   "outputs": [],
   "source": [
    "\"\"\"HELIOS MF FILE MAIN CODE\"\"\" # pages = [2, 4, 6, 8,10]\n",
    "\n",
    "amc_id = '60_0'\n",
    "# logging.info(f\"User Ran Fund Data of {amc_name}\")\n",
    "fund_name, path= mutual_fund[amc_id]\n",
    "object = Helios(fund_name,amc_id,path)\n",
    "title,path_pdf = object.check_and_highlight(path)\n",
    "data = object.get_data(path_pdf,title)\n",
    "extracted_text = object.get_generated_content(data)\n",
    "final_text = object.refine_extracted_data(extracted_text)\n",
    "dfs = object.merge_and_select_data(final_text)\n"
   ]
  },
  {
   "cell_type": "code",
   "execution_count": 2,
   "metadata": {},
   "outputs": [
    {
     "name": "stdout",
     "output_type": "stream",
     "text": [
      "Function Running: check_and_highlight\n",
      "Regex: ((?:ICICI|BHARAT).+?(?:Funds?|ETF|F[Oo]F|Plan|Saver|Index|Path)\\s*(?:of\\s*[Ff]unds?|Fund\\s*of\\s*[Ff]unds?|F[Oo]F|.+?Plan)?)\n",
      "13 -- ICICI Prudential Bluechip Fund\n",
      "14 -- ICICI Prudential Flexicap Fund\n",
      "15 -- ICICI Prudential Large & Mid Cap Fund\n",
      "16 -- ICICI Prudential Large & Mid Cap Fund\n",
      "17 -- ICICI Prudential Multicap Fund\n",
      "18 -- ICICI Prudential Multicap Fund\n",
      "19 -- ICICI Prudential India Opportunities Fund\n",
      "20 -- ICICI Prudential Value Discovery Fund\n",
      "21 -- ICICI Prudential ELSS Tax Saver\n",
      "22 -- ICICI Prudential Focused Equity Fund\n",
      "23 -- ICICI Prudential Equity Minimum Variance Fund\n",
      "24 -- ICICI Prudential Dividend Yield Equity Fund\n",
      "25 -- ICICI Prudential Rural Opportunities Fund\n",
      "26 -- ICICI Prudential PSU Equity Fund\n",
      "27 -- ICICI Prudential Midcap Fund\n",
      "28 -- ICICI Prudential Smallcap Fund\n",
      "29 -- ICICI Prudential Smallcap Fund\n",
      "30 -- ICICI Prudential Banking & Financial Services Fund\n",
      "31 -- ICICI Prudential FMCG Fund\n",
      "32 -- ICICI Prudential Technology Fund\n",
      "33 -- ICICI Prudential Business Cycle Fund\n",
      "34 -- ICICI Prudential Transportation and Logistics Fund\n",
      "35 -- ICICI Prudential Housing Opportunities Fund\n",
      "36 -- ICICI Prudential ESG Exclusionary Strategy Fund\n",
      "37 -- ICICI Prudential Pharma Healthcare and Diagnostics (PHD) Fund\n",
      "38 -- ICICI Prudential Exports and Services Fund\n",
      "39 -- ICICI Prudential Infrastructure Fund\n",
      "40 -- ICICI Prudential Manufacturing Fund\n",
      "41 -- ICICI Prudential MNC Fund\n",
      "42 -- ICICI Prudential Bharat Consumption Fund\n",
      "43 -- ICICI Prudential Energy Opportunities Fund\n",
      "44 -- ICICI Prudential Commodities Fund\n",
      "45 -- ICICI Prudential US Bluechip Equity Fund\n",
      "46 -- ICICI Prudential US Bluechip Equity Fund\n",
      "47 -- ICICI Prudential Quant Fund\n",
      "48 -- ICICI Prudential Innovation Fund\n",
      "49 -- ICICI Prudential Equity & Debt Fund\n",
      "50 -- ICICI Prudential Equity & Debt Fund\n",
      "51 -- ICICI Prudential Equity - Arbitrage Fund\n",
      "52 -- ICICI Prudential Equity - Arbitrage Fund\n",
      "53 -- ICICI Prudential Balanced Advantage Fund\n",
      "54 -- ICICI Prudential Balanced Advantage Fund\n",
      "55 -- ICICI Prudential Equity Savings Fund\n",
      "56 -- ICICI Prudential Equity Savings Fund\n",
      "57 -- ICICI Prudential Regular Savings Fund\n",
      "58 -- ICICI Prudential Regular Savings Fund\n",
      "59 -- ICICI Prudential Multi-Asset Fund\n",
      "60 -- ICICI Prudential Multi-Asset Fund\n",
      "61 -- ICICI Prudential Passive Multi-Asset Fund of Fund\n",
      "62 -- ICICI Prudential Thematic Advantage Fund\n",
      "63 -- ICICI Prudential Passive Strategy Fund\n",
      "64 -- ICICI Prudential India Equity FOF\n",
      "65 -- ICICI Prudential BHARAT 22 FOF\n",
      "66 -- ICICI Prudential Strategic Metal and Energy Equity Fund of Fund\n",
      "67 -- ICICI Prudential Global Advantage Fund\n",
      "68 -- ICICI Prudential Global Stable Equity Fund\n",
      "69 -- ICICI Prudential Asset Allocator Fund\n",
      "70 -- ICICI Prudential Income plus Arbitrage Active FOF\n",
      "71 -- ICICI Prudential Debt Management Fund\n",
      "72 -- ICICI Prudential Nifty 100 Low Volatility 30 ETF FOF\n",
      "73 -- ICICI Prudential Nifty Alpha Low - Volatility 30 ETF FOF\n",
      "74 -- ICICI Prudential BSE 500 ETF FOF\n",
      "75 -- ICICI Prudential Nifty EV & New Age Automotive ETF FOF\n",
      "76 -- ICICI Prudential Regular Gold Savings Fund\n",
      "77 -- ICICI Prudential Silver ETF Fund of Fund\n",
      "78 -- ICICI Prudential Overnight Fund\n",
      "79 -- ICICI Prudential Liquid Fund\n",
      "80 -- ICICI Prudential Money Market Fund\n",
      "81 -- ICICI Prudential Ultra Short Term Fund\n",
      "82 -- ICICI Prudential Savings Fund\n",
      "83 -- ICICI Prudential Floating Interest Fund\n",
      "84 -- ICICI Prudential Short Term Fund\n",
      "85 -- ICICI Prudential Bond Fund\n",
      "86 -- ICICI Prudential Corporate Bond Fund\n",
      "87 -- ICICI Prudential Banking & PSU Debt Fund\n",
      "88 -- ICICI Prudential Credit Risk Fund\n",
      "89 -- ICICI Prudential Credit Risk Fund\n",
      "90 -- ICICI Prudential Medium Term Bond Fund\n",
      "91 -- ICICI Prudential Long Term Bond Fund\n",
      "92 -- ICICI Prudential All Seasons Bond Fund\n",
      "93 -- ICICI Prudential Gilt Fund\n",
      "94 -- ICICI Prudential Constant Maturity Gilt Fund\n",
      "95 -- ICICI Prudential Child Care Fund (Gift Plan\n",
      "96 -- ICICI Prudential Retirement Fund - Pure Equity Plan\n",
      "97 -- ICICI Prudential Retirement Fund - Hybrid Aggressive Plan\n",
      "98 -- ICICI Prudential Retirement Fund - Hybrid Conservative Plan\n",
      "99 -- ICICI Prudential Retirement Fund - Pure Debt Plan\n",
      "100 -- ICICI Prudential Long Term Wealth Enhancement Fund\n",
      "143 -- ICICI Prudential Mutual Fund\n",
      "Function Running: get_data\n",
      "Function Running: get_generated_content\n",
      "  Parsing Completed, Refining Data.....\n"
     ]
    }
   ],
   "source": [
    "\"\"\" ICICI MF MAIN FILE CODE\"\"\"\n",
    "\n",
    "amc_id = '14_0'\n",
    "# logging.info(f\"User Ran Fund Data of {amc_name}\")\n",
    "fund_name, path= mutual_fund[amc_id]\n",
    "object = ICICI(fund_name,amc_id,path)\n",
    "title,path_pdf = object.check_and_highlight(path)\n",
    "data = object.get_data(path_pdf,title)\n",
    "extracted_text = object.get_generated_content(data)\n",
    "# final_text = object.refine_extracted_data(extracted_text)\n",
    "# dfs = object.merge_and_select_data(final_text)\n"
   ]
  },
  {
   "cell_type": "code",
   "execution_count": 21,
   "metadata": {},
   "outputs": [
    {
     "name": "stdout",
     "output_type": "stream",
     "text": [
      "Function Running: refine_extracted_data\n",
      "Function Running: merge_and_select_data\n"
     ]
    }
   ],
   "source": [
    "object = ICICI(fund_name,amc_id,path)\n",
    "final_text = object.refine_extracted_data(extracted_text)\n",
    "dfs = object.merge_and_select_data(final_text)"
   ]
  },
  {
   "cell_type": "code",
   "execution_count": 22,
   "metadata": {},
   "outputs": [
    {
     "name": "stdout",
     "output_type": "stream",
     "text": [
      "File Saved At: C:\\Users\\Kaustubh.keny\\Projects\\JSON25\\MAYJSON\\14_30-Apr-25_FS.json\n"
     ]
    }
   ],
   "source": [
    "save_path = os.path.join(object.JSONPATH, object.FILE_NAME).replace(\".pdf\", \".json\")\n",
    "with open(save_path, 'w') as f:\n",
    "  json.dump(dfs, f, indent=2)\n",
    "print(f\"File Saved At: {save_path}\")\n",
    "\n",
    "with open(\"data.json\", 'w') as f:\n",
    "  json.dump(final_text, f, indent=2)\n",
    "  \n",
    "with open(\"extracted.json\", 'w') as f:\n",
    "  json.dump(extracted_text, f, indent=2)"
   ]
  },
  {
   "cell_type": "code",
   "execution_count": null,
   "metadata": {},
   "outputs": [],
   "source": [
    "\"\"\" ICICI MF MAIN FILE CODE PASSIVE\"\"\"# pages = [8, 9, 11, 13, 15, 16, 17, 18, 19, 20, 21, 22, 23, 24, 25, 27, 28, 29, 30, 31, 32, 33, 34, 35, 36, 37, 39, 40, 41, 42, 43, 44, 46, 47, 49, 51, 53, 55, 56, 58, 59, 60, 62, 64, 65, 66, 67, 68, 69, 71, 72, 74, 75, 77, 78, 80]\n",
    "\n",
    "amc_name = \"Icici Prudential Mutual Fund Passive\"\n",
    "logging.info(f\"User Ran Fund Data of {amc_name}\")\n",
    "path = mutual_fund[amc_name]\n",
    "object = ICICI(amc_name,path)\n",
    "title,path_pdf = object.check_and_highlight(path)\n"
   ]
  },
  {
   "cell_type": "code",
   "execution_count": null,
   "metadata": {},
   "outputs": [],
   "source": [
    "object = ICICI(amc_name,path)\n",
    "data = object.get_data(path_pdf,title)\n",
    "extracted_text = object.get_generated_content(data)"
   ]
  },
  {
   "cell_type": "code",
   "execution_count": null,
   "metadata": {},
   "outputs": [],
   "source": [
    "object = ICICI(amc_name,path)\n",
    "final_text = object.refine_extracted_data(extracted_text, flatten=True)\n",
    "dfs = object.merge_and_select_data(final_text,select= True,special_handling=True)\n",
    "Helper.quick_json_dump(dfs,object.JSONPATH)"
   ]
  },
  {
   "cell_type": "code",
   "execution_count": null,
   "metadata": {},
   "outputs": [],
   "source": [
    "\"\"\" INVESCO MF MAIN FILE CODE\"\"\"\n",
    "\n",
    "amc_id = '21_0'\n",
    "# logging.info(f\"User Ran Fund Data of {amc_name}\")\n",
    "fund_name, path= mutual_fund[amc_id]\n",
    "object = Invesco(fund_name,amc_id,path)\n",
    "title,path_pdf = object.check_and_highlight(path)\n",
    "data = object.get_data(path_pdf,title)"
   ]
  },
  {
   "cell_type": "code",
   "execution_count": null,
   "metadata": {},
   "outputs": [],
   "source": [
    "object = Invesco(fund_name,amc_id,path)\n",
    "extracted_text = object.get_generated_content(data)\n",
    "final_text = object.refine_extracted_data(extracted_text)\n",
    "dfs = object.merge_and_select_data(final_text)\n"
   ]
  },
  {
   "cell_type": "code",
   "execution_count": null,
   "metadata": {},
   "outputs": [],
   "source": [
    "\"\"\"ITI MAIN FILE CODE\"\"\" # pages = [9, 10, 11, 12, 13, 14, 15, 16, 17, 18, 19, 20, 21, 22, 23, 24, 25, 26]\n",
    "\n",
    "amc_id = '51_0'\n",
    "# logging.info(f\"User Ran Fund Data of {amc_name}\")\n",
    "fund_name, path= mutual_fund[amc_id]\n",
    "object = ITI(fund_name,amc_id,path)\n",
    "title,path_pdf = object.check_and_highlight(path)\n",
    "data = object.get_data(path_pdf,title)\n",
    "extracted_text = object.get_generated_content(data)\n",
    "final_text = object.refine_extracted_data(extracted_text)\n",
    "dfs= object.merge_and_select_data(final_text, special_handling=True)"
   ]
  },
  {
   "cell_type": "code",
   "execution_count": null,
   "metadata": {},
   "outputs": [],
   "source": [
    "\"\"\"JM FUND MAIN FILE CODE\"\"\"\n",
    "amc_id = '22_0'\n",
    "# logging.info(f\"User Ran Fund Data of {amc_name}\")\n",
    "fund_name, path= mutual_fund[amc_id]\n",
    "object = JMMF(fund_name,amc_id,path)\n",
    "title,path_pdf = object.check_and_highlight(path)\n",
    "data = object.get_data(path_pdf,title)\n",
    "extracted_text = object.get_generated_content(data)\n",
    "final_text = object.refine_extracted_data(extracted_text)\n",
    "dfs = object.merge_and_select_data(final_text)"
   ]
  },
  {
   "cell_type": "code",
   "execution_count": null,
   "metadata": {},
   "outputs": [
    {
     "name": "stdout",
     "output_type": "stream",
     "text": [
      "Function Running: refine_extracted_data\n"
     ]
    }
   ],
   "source": [
    "object = JMMF(fund_name,amc_id,path)\n",
    "final_text = object.refine_extracted_data(extracted_text)\n",
    "# dfs = object.merge_and_select_data(final_text)"
   ]
  },
  {
   "cell_type": "code",
   "execution_count": null,
   "metadata": {},
   "outputs": [],
   "source": [
    "\"\"\"KOTAK FUND MAIN CODE\"\"\"\n",
    "amc_id = '23_0'\n",
    "# logging.info(f\"User Ran Fund Data of {amc_name}\")\n",
    "fund_name, path= mutual_fund[amc_id]\n",
    "object = Kotak(fund_name,amc_id,path)\n",
    "title,path_pdf= object.check_and_highlight(path)\n",
    "data = object.get_data(path_pdf,title)\n"
   ]
  },
  {
   "cell_type": "code",
   "execution_count": null,
   "metadata": {},
   "outputs": [
    {
     "name": "stdout",
     "output_type": "stream",
     "text": [
      "Function Running: get_generated_content\n",
      "  Parsing Completed, Refining Data.....\n",
      "Function Running: refine_extracted_data\n",
      "Function Running: merge_and_select_data\n"
     ]
    }
   ],
   "source": [
    "object = Kotak(fund_name,amc_id,path)\n",
    "extracted_text = object.get_generated_content(data)\n",
    "final_text = object.refine_extracted_data(extracted_text)\n",
    "dfs = object.merge_and_select_data(final_text, special_handling=True)"
   ]
  },
  {
   "cell_type": "code",
   "execution_count": null,
   "metadata": {},
   "outputs": [],
   "source": [
    "\"\"\"LIC FUND MAIN CODE\"\"\"\n",
    "amc_id = '25_0'\n",
    "# logging.info(f\"User Ran Fund Data of {amc_name}\")\n",
    "fund_name, path= mutual_fund[amc_id]\n",
    "object = LIC(fund_name,amc_id,path)\n",
    "title,path_pdf = object.check_and_highlight(path)\n",
    "data = object.get_data(path_pdf,title)\n"
   ]
  },
  {
   "cell_type": "code",
   "execution_count": null,
   "metadata": {},
   "outputs": [
    {
     "name": "stdout",
     "output_type": "stream",
     "text": [
      "Function Running: refine_extracted_data\n",
      "Function Running: merge_and_select_data\n"
     ]
    }
   ],
   "source": [
    "object = LIC(fund_name,amc_id,path)\n",
    "# extracted_text = object.get_generated_content(data)\n",
    "final_text = object.refine_extracted_data(extracted_text)\n",
    "dfs = object.merge_and_select_data(final_text)"
   ]
  },
  {
   "cell_type": "code",
   "execution_count": 16,
   "metadata": {},
   "outputs": [
    {
     "name": "stdout",
     "output_type": "stream",
     "text": [
      "File Saved At: C:\\Users\\Kaustubh.keny\\Projects\\JSON25\\MAY JSON\\25_31-May-25_FS.json\n"
     ]
    }
   ],
   "source": [
    "save_path = os.path.join(object.JSONPATH, object.FILE_NAME).replace(\".pdf\", \".json\")\n",
    "with open(save_path, 'w') as f:\n",
    "  json.dump(dfs, f, indent=2)\n",
    "print(f\"File Saved At: {save_path}\")\n",
    "\n",
    "with open(\"data.json\", 'w') as f:\n",
    "  json.dump(final_text, f, indent=2)\n",
    "  \n",
    "with open(\"extracted.json\", 'w') as f:\n",
    "  json.dump(extracted_text, f, indent=2)"
   ]
  },
  {
   "cell_type": "code",
   "execution_count": null,
   "metadata": {},
   "outputs": [],
   "source": [
    "\"\"\"MAHINDRA MANULIFE MAIN CODE\"\"\" #incrase pages count\n",
    "\n",
    "amc_id = '26_0'\n",
    "# logging.info(f\"User Ran Fund Data of {amc_name}\")\n",
    "fund_name, path= mutual_fund[amc_id]\n",
    "object = MahindraManu(fund_name,amc_id,path)\n",
    "title,path_pdf = object.check_and_highlight(path)\n",
    "data = object.get_data(path_pdf,title)\n"
   ]
  },
  {
   "cell_type": "code",
   "execution_count": null,
   "metadata": {},
   "outputs": [],
   "source": [
    "object = MahindraManu(fund_name,amc_id,path)\n",
    "extracted_text = object.get_generated_content(data)\n",
    "final_text = object.refine_extracted_data(extracted_text)\n",
    "dfs = object.merge_and_select_data(final_text, map_keys = True, special_handling=True)"
   ]
  },
  {
   "cell_type": "code",
   "execution_count": null,
   "metadata": {},
   "outputs": [],
   "source": [
    "\"\"\"MOTILAL OSWAL PASSIVE MAIN CODE FILE\"\"\" #Fund Manager Regex\n",
    "amc_id = '28_1'\n",
    "# logging.info(f\"User Ran Fund Data of {amc_name}\")\n",
    "fund_name, path= mutual_fund[amc_id]\n",
    "object = MotilalOswalPassive(fund_name,amc_id,path)\n",
    "title,path_pdf = object.check_and_highlight(path)\n",
    "data = object.get_data(path_pdf,title)\n",
    "extracted_text = object.get_generated_content(data)\n",
    "final_text = object.refine_extracted_data(extracted_text, flatten=True)\n",
    "# dfs = object.merge_and_select_data(final_text)\n",
    "# Helper.quick_json_dump(dfs, object.JSONPATH)"
   ]
  },
  {
   "cell_type": "code",
   "execution_count": null,
   "metadata": {},
   "outputs": [],
   "source": [
    "\"\"\"MOTILAL OSWAL MAIN CODE FILE\"\"\" #Fund Manager Regex\n",
    "\n",
    "amc_id = '28_0'\n",
    "# logging.info(f\"User Ran Fund Data of {amc_name}\")\n",
    "fund_name, path= mutual_fund[amc_id]\n",
    "object = MotilalOswal(fund_name,amc_id,path)\n",
    "title,path_pdf = object.check_and_highlight(path)\n",
    "data = object.get_data(path_pdf,title)\n",
    "extracted_text = object.get_generated_content(data)\n",
    "final_text = object.refine_extracted_data(extracted_text, flatten=True)\n",
    "# dfs = object.merge_and_select_data(final_text)\n",
    "# Helper.quick_json_dump(dfs, object.JSONPATH)"
   ]
  },
  {
   "cell_type": "code",
   "execution_count": 34,
   "metadata": {},
   "outputs": [
    {
     "name": "stdout",
     "output_type": "stream",
     "text": [
      "Function Running: refine_extracted_data\n"
     ]
    }
   ],
   "source": [
    "object = MotilalOswalPassive(fund_name,amc_id,path)\n",
    "final_text = object.refine_extracted_data(extracted_text, flatten=True)\n",
    "with open(\"test.json\",\"w+\") as file:\n",
    "    json.dump(final_text,file)"
   ]
  },
  {
   "cell_type": "code",
   "execution_count": null,
   "metadata": {},
   "outputs": [],
   "source": [
    "\"\"\"MIRAE MAIN FILE CODE PASSIVE\"\"\"\n",
    "\n",
    "amc_id = '27_1'\n",
    "# logging.info(f\"User Ran Fund Data of {amc_name}\")\n",
    "fund_name, path= mutual_fund[amc_id]\n",
    "object = MIRAE(fund_name,amc_id,path)\n",
    "title,path_pdf = object.check_and_highlight(path)\n",
    "data = object.get_data(path_pdf,title)\n",
    "extracted_text = object.get_generated_content(data)\n",
    "final_text = object.refine_extracted_data(extracted_text)\n",
    "dfs = object.merge_and_select_data(final_text)\n",
    "Helper.quick_json_dump(dfs, object.JSONPATH)"
   ]
  },
  {
   "cell_type": "code",
   "execution_count": null,
   "metadata": {},
   "outputs": [],
   "source": [
    "\"\"\"MIRAE MAIN FILE CODE\"\"\"\n",
    "amc_id = '27_0'\n",
    "# logging.info(f\"User Ran Fund Data of {amc_name}\")\n",
    "fund_name, path= mutual_fund[amc_id]\n",
    "object = MIRAE(fund_name,amc_id,path)\n",
    "title,path_pdf = object.check_and_highlight(path)\n",
    "data = object.get_data(path_pdf,title)\n",
    "extracted_text = object.get_generated_content(data)\n",
    "final_text = object.refine_extracted_data(extracted_text, flatten=True)\n",
    "dfs = object.merge_and_select_data(final_text)\n",
    "# Helper.quick_json_dump(dfs, object.JSONPATH)"
   ]
  },
  {
   "cell_type": "code",
   "execution_count": null,
   "metadata": {},
   "outputs": [],
   "source": [
    "\"\"\"NAVI MAIN FILE CODE\"\"\" #Issue: Left and right\n",
    "\n",
    "amc_id = '56_0'\n",
    "# logging.info(f\"User Ran Fund Data of {amc_name}\")\n",
    "fund_name, path= mutual_fund[amc_id]\n",
    "object = NAVI(fund_name,amc_id,path)\n",
    "title,path_pdf = object.check_and_highlight(path)\n",
    "data = object.get_data(path_pdf,title)\n",
    "extracted_text = object.get_generated_content(data)"
   ]
  },
  {
   "cell_type": "code",
   "execution_count": null,
   "metadata": {},
   "outputs": [
    {
     "name": "stdout",
     "output_type": "stream",
     "text": [
      "Function Running: refine_extracted_data\n"
     ]
    }
   ],
   "source": [
    "object = NAVI(fund_name,amc_id,path)\n",
    "final_text = object.refine_extracted_data(extracted_text, flatten = True)\n",
    "# dfs = object.merge_and_select_data(final_text,special_handling=True)\n",
    "with open(\"test.json\",\"w+\") as file:\n",
    "    json.dump(extracted_text,file)"
   ]
  },
  {
   "cell_type": "code",
   "execution_count": null,
   "metadata": {},
   "outputs": [],
   "source": [
    "\"NIPPON MAIN FILE CODE\"\n",
    "amc_name = 'Nippon India Mutual Fund'\n",
    "logging.info(f\"User Ran Fund Data of {amc_name}\")\n",
    "path = mutual_fund[amc_name]\n",
    "object = Nippon(amc_name,path)\n",
    "title,path_pdf= object.check_and_highlight(path)\n",
    "data = object.get_data(path_pdf,title)\n",
    "extracted_text = object.get_generated_content(data)\n",
    "final_text = object.refine_extracted_data(extracted_text)\n",
    "dfs = object.merge_and_select_data(final_text, map_keys = True, special_handling=True)\n",
    "Helper.quick_json_dump(dfs,object.JSONPATH)"
   ]
  },
  {
   "cell_type": "code",
   "execution_count": null,
   "metadata": {},
   "outputs": [
    {
     "name": "stdout",
     "output_type": "stream",
     "text": [
      "Function Running: check_and_highlight\n",
      "Function Running: _get_normal_title\n",
      "Regex: (NJ.+?(?:FUNDS?|ETF|F[Oo]F|PATH|SCHEME|PLAN)\\s*(?:OF FUNDS?|FUND OF FUNDS?|F[Oo]F|FUNDS?)?)\n",
      "01 -- NJ FLEXI CAP FUND\n",
      "02 -- NJ FLEXI CAP FUND\n",
      "03 -- NJ ELSS TAX SAVER SCHEME\n",
      "04 -- NJ ELSS TAX SAVER SCHEME\n",
      "05 -- NJ BALANCED ADVANTAGE FUND\n",
      "06 -- NJ BALANCED ADVANTAGE FUND\n",
      "07 -- NJ ARBITRAGE FUND\n",
      "08 -- NJ ARBITRAGE FUND\n",
      "09 -- NJ OVERNIGHT FUND\n",
      "10 -- NJ OVERNIGHT FUND\n",
      "Function Running: get_data\n",
      "Function Running: extract_clipped_data\n",
      "Function Running: extract_span_data\n",
      "Function Running: process_text_data\n",
      "Function Running: create_nested_dict\n"
     ]
    }
   ],
   "source": [
    "\"\"\"NJMF MAIN CODE FILE\"\"\"\n",
    "\n",
    "amc_id = '57_0'\n",
    "# logging.info(f\"User Ran Fund Data of {amc_name}\")\n",
    "fund_name, path= mutual_fund[amc_id]\n",
    "object = NJMF(fund_name,amc_id,path)\n",
    "title,path_pdf = object.check_and_highlight(path)\n",
    "data = object.get_data(path_pdf,title)\n",
    "# extracted_text = object.get_generated_content(data)\n",
    "# final_text = object.refine_extracted_data(extracted_text)\n",
    "# dfs = object.merge_and_select_data(final_text,special_handling=True)"
   ]
  },
  {
   "cell_type": "code",
   "execution_count": null,
   "metadata": {},
   "outputs": [],
   "source": [
    "\"\"\"OlD BriDGE MAIN CODE\"\"\"\n",
    "amc_name = \"Old Bridge Mutual Fund\"\n",
    "logging.info(f\"User Ran Fund Data of {amc_name}\")\n",
    "path = mutual_fund[amc_name]\n",
    "object = OldBridge(amc_name,path)\n",
    "title,path_pdf = object.check_and_highlight(path)\n",
    "\n",
    "data = object.get_data(path_pdf,title)\n",
    "extracted_text = object.get_generated_content(data)\n",
    "\n",
    "final_text = object.refine_extracted_data(extracted_text, flatten = True)\n",
    "dfs = object.merge_and_select_data(final_text,map_keys= True, special_handling=True)\n",
    "Helper.quick_json_dump(dfs, object.JSONPATH)"
   ]
  },
  {
   "cell_type": "code",
   "execution_count": null,
   "metadata": {},
   "outputs": [],
   "source": [
    "\"\"\"PGIM MAIN FILE CODE\"\"\" #ISSUES: Clean data further\n",
    "\n",
    "amc_id = '7_0'\n",
    "# logging.info(f\"User Ran Fund Data of {amc_name}\")\n",
    "fund_name, path= mutual_fund[amc_id]\n",
    "object = PGIM(fund_name,amc_id,path)\n",
    "title,path_pdf = object.check_and_highlight(path)\n",
    "data = object.get_data(path_pdf,title)\n"
   ]
  },
  {
   "cell_type": "code",
   "execution_count": null,
   "metadata": {},
   "outputs": [],
   "source": [
    "object = PGIM(fund_name,amc_id,path)\n",
    "extracted_text = object.get_generated_content(data)\n",
    "final_text = object.refine_extracted_data(extracted_text)\n",
    "dfs = object.merge_and_select_data(final_text,map_keys= True)\n"
   ]
  },
  {
   "cell_type": "code",
   "execution_count": null,
   "metadata": {},
   "outputs": [],
   "source": [
    "\"\"\"QUANT MAIN CODE FILE\"\"\"\n",
    "\n",
    "amc_id = '10_0'\n",
    "# logging.info(f\"User Ran Fund Data of {amc_name}\")\n",
    "fund_name, path= mutual_fund[amc_id]\n",
    "object = QuantMF(fund_name,amc_id,path)\n",
    "title,path_pdf = object.check_and_highlight(path)\n",
    "data = object.get_data(path_pdf,title)\n",
    "extracted_text = object.get_generated_content(data)\n",
    "final_text = object.refine_extracted_data(extracted_text)\n",
    "dfs = object.merge_and_select_data(final_text)"
   ]
  },
  {
   "cell_type": "code",
   "execution_count": null,
   "metadata": {},
   "outputs": [],
   "source": [
    "save_path = os.path.join(object.JSONPATH, object.FILE_NAME).replace(\".pdf\", \".json\")\n",
    "with open(save_path, 'w') as f:\n",
    "  json.dump(dfs, f, indent=2)\n",
    "print(f\"File Saved At: {save_path}\")\n",
    "\n",
    "with open(\"data.json\", 'w') as f:\n",
    "  json.dump(final_text, f, indent=2)\n",
    "  \n",
    "with open(\"extracted.json\", 'w') as f:\n",
    "  json.dump(extracted_text, f, indent=2)"
   ]
  },
  {
   "cell_type": "code",
   "execution_count": null,
   "metadata": {},
   "outputs": [],
   "source": [
    "\"\"\"QUANTUM MAIN FILE CODE\"\"\"\n",
    "\n",
    "amc_id = '32_0'\n",
    "# logging.info(f\"User Ran Fund Data of {amc_name}\")\n",
    "fund_name, path= mutual_fund[amc_id]\n",
    "object = Quantum(fund_name,amc_id,path)\n",
    "title,path_pdf = object.check_and_highlight(path)\n",
    "data = object.get_data(path_pdf,title)\n",
    "extracted_text = object.get_generated_content(data)\n",
    "final_text = object.refine_extracted_data(extracted_text)\n",
    "dfs = object.merge_and_select_data(final_text)\n"
   ]
  },
  {
   "cell_type": "code",
   "execution_count": null,
   "metadata": {},
   "outputs": [],
   "source": [
    "\"\"\"SAMCO PDF FILE MAIN CODE\"\"\" # pages =  [3, 5, 7, 9, 11, 13, 15, 17, 18]\n",
    "\n",
    "amc_id = '58_0'\n",
    "# logging.info(f\"User Ran Fund Data of {amc_name}\")\n",
    "fund_name, path= mutual_fund[amc_id]\n",
    "object = Samco(fund_name,amc_id,path)\n",
    "title,path_pdf = object.check_and_highlight(path)\n",
    "data = object.get_data(path_pdf,title)\n",
    "extracted_text = object.get_generated_content(data)\n",
    "final_text = object.refine_extracted_data(extracted_text)\n",
    "dfs = object.merge_and_select_data(final_text, map_keys = True, special_handling=True)"
   ]
  },
  {
   "cell_type": "code",
   "execution_count": null,
   "metadata": {},
   "outputs": [],
   "source": [
    "\"\"\"SBI PASSIVE PDF FILE MAIN CODE\"\"\" \n",
    "\n",
    "amc_id = '35_1'\n",
    "# logging.info(f\"User Ran Fund Data of {amc_name}\")\n",
    "fund_name, path= mutual_fund[amc_id]\n",
    "object = SBIPassive(fund_name,amc_id,path)\n",
    "title,path_pdf = object.check_and_highlight(path)\n",
    "data = object.get_data(path_pdf,title)\n",
    "extracted_text = object.get_generated_content(data)\n",
    "final_text = object.refine_extracted_data(extracted_text, flatten=True)\n",
    "# dfs = object.merge_and_select_data(final_text)\n",
    "# Helper.quick_json_dump(dfs, object.JSONPATH)"
   ]
  },
  {
   "cell_type": "code",
   "execution_count": null,
   "metadata": {},
   "outputs": [],
   "source": [
    "\"\"\"SBI PDF FILE MAIN CODE\"\"\" \n",
    "amc_id = '35_0'\n",
    "# logging.info(f\"User Ran Fund Data of {amc_name}\")\n",
    "fund_name, path= mutual_fund[amc_id]\n",
    "object = SBIPassive(fund_name,amc_id,path)\n",
    "title,path_pdf = object.check_and_highlight(path)\n",
    "data = object.get_data(path_pdf,title)\n",
    "extracted_text = object.get_generated_content(data)\n",
    "final_text = object.refine_extracted_data(extracted_text, flatten=True)\n",
    "# dfs = object.merge_and_select_data(final_text,special_handling = True)\n",
    "# Helper.quick_json_dump(dfs,object.JSONPATH)"
   ]
  },
  {
   "cell_type": "code",
   "execution_count": null,
   "metadata": {},
   "outputs": [],
   "source": [
    "\"\"\"SUNDARAM MAIN FILE CODE\"\"\"\n",
    "\n",
    "amc_id = '37_0'\n",
    "# logging.info(f\"User Ran Fund Data of {amc_name}\")\n",
    "fund_name, path= mutual_fund[amc_id]\n",
    "object = Sundaram(fund_name,amc_id,path)\n",
    "title,path_pdf = object.check_and_highlight(path)\n",
    "data = object.get_data(path_pdf,title)"
   ]
  },
  {
   "cell_type": "code",
   "execution_count": null,
   "metadata": {},
   "outputs": [],
   "source": [
    "object = Sundaram(fund_name,amc_id,path)\n",
    "extracted_text = object.get_generated_content(data)\n",
    "final_text = object.refine_extracted_data(extracted_text)\n",
    "dfs = object.merge_and_select_data(final_text, map_keys = True, special_handling=True)"
   ]
  },
  {
   "cell_type": "code",
   "execution_count": 41,
   "metadata": {},
   "outputs": [
    {
     "name": "stdout",
     "output_type": "stream",
     "text": [
      "File Saved At: C:\\Users\\Kaustubh.keny\\Projects\\JSON25\\JPY\\37_30-Apr-25_FS.json\n"
     ]
    }
   ],
   "source": [
    "save_path = os.path.join(object.JSONPATH, object.FILE_NAME).replace(\".pdf\", \".json\")\n",
    "with open(save_path, 'w') as f:\n",
    "  json.dump(dfs, f, indent=2)\n",
    "print(f\"File Saved At: {save_path}\")\n",
    "\n",
    "with open(\"data.json\", 'w') as f:\n",
    "  json.dump(final_text, f, indent=2)\n",
    "  \n",
    "with open(\"extracted.json\", 'w') as f:\n",
    "  json.dump(extracted_text, f, indent=2)"
   ]
  },
  {
   "cell_type": "code",
   "execution_count": null,
   "metadata": {},
   "outputs": [],
   "source": [
    "\"\"\"TATA FILE MAIN CODE \"\"\"\n",
    "\n",
    "amc_id = '38_0'\n",
    "# logging.info(f\"User Ran Fund Data of {amc_name}\")\n",
    "fund_name, path= mutual_fund[amc_id]\n",
    "object = Tata(fund_name,amc_id,path)\n",
    "title,path_pdf = object.check_and_highlight(path)\n",
    "data = object.get_data(path_pdf,title)\n"
   ]
  },
  {
   "cell_type": "code",
   "execution_count": null,
   "metadata": {},
   "outputs": [],
   "source": [
    "object = Tata(fund_name,amc_id,path)\n",
    "extracted_text = object.get_generated_content(data)\n",
    "final_text = object.refine_extracted_data(extracted_text)\n",
    "dfs = object.merge_and_select_data(final_text, map_keys = True, special_handling=True)\n"
   ]
  },
  {
   "cell_type": "code",
   "execution_count": null,
   "metadata": {},
   "outputs": [],
   "source": [
    "\"\"\"TAURUS MAIN FILE CODE\"\"\"\n",
    "\n",
    "amc_id = '39_0'\n",
    "# logging.info(f\"User Ran Fund Data of {amc_name}\")\n",
    "fund_name, path= mutual_fund[amc_id]\n",
    "object = Taurus(fund_name,amc_id,path)\n",
    "title,path_pdf= object.check_and_highlight(path)\n",
    "\n",
    "data = object.get_data(path_pdf,title)\n",
    "extracted_text = object.get_generated_content(data)\n",
    "final_text = object.refine_extracted_data(extracted_text)\n",
    "dfs = object.merge_and_select_data(final_text, map_keys = True)"
   ]
  },
  {
   "cell_type": "code",
   "execution_count": 12,
   "metadata": {},
   "outputs": [
    {
     "name": "stdout",
     "output_type": "stream",
     "text": [
      "File Saved At: C:\\Users\\Kaustubh.keny\\Projects\\JSON25\\JPY\\39_31-Mar-25_FS.json\n"
     ]
    }
   ],
   "source": [
    "save_path = os.path.join(object.JSONPATH, object.FILE_NAME).replace(\".pdf\", \".json\")\n",
    "with open(save_path, 'w') as f:\n",
    "  json.dump(dfs, f, indent=2)\n",
    "print(f\"File Saved At: {save_path}\")\n",
    "\n",
    "with open(\"data.json\", 'w') as f:\n",
    "  json.dump(final_text, f, indent=2)"
   ]
  },
  {
   "cell_type": "code",
   "execution_count": null,
   "metadata": {},
   "outputs": [],
   "source": [
    "\"\"\"TRUST MAIN FILE CODE\"\"\" #Issue: Clean data more, nested dict unload Invest Obj in right #Names coming as headers fund managers\n",
    "amc_id = '55_0'\n",
    "# logging.info(f\"User Ran Fund Data of {amc_name}\")\n",
    "fund_name, path= mutual_fund[amc_id]\n",
    "object = Trust(fund_name,amc_id,path)\n",
    "title,path_pdf = object.check_and_highlight(path)\n",
    "\n",
    "data = object.get_data(path_pdf,title)\n",
    "extracted_text = object.get_generated_content(data)\n",
    "\n",
    "final_text = object.refine_extracted_data(extracted_text)\n",
    "dfs = object.merge_and_select_data(final_text, special_handling= True)\n"
   ]
  },
  {
   "cell_type": "code",
   "execution_count": null,
   "metadata": {},
   "outputs": [],
   "source": [
    "\"\"\"UTI MAIN FILE CODE\"\"\"\n",
    "\n",
    "amc_id = '41_0'\n",
    "# logging.info(f\"User Ran Fund Data of {amc_name}\")\n",
    "fund_name, path= mutual_fund[amc_id]\n",
    "object = UTI(fund_name,amc_id,path)\n",
    "title,path_pdf = object.check_and_highlight(path)\n",
    "data = object.get_data(path_pdf,title)\n",
    "extracted_text = object.get_generated_content(data)\n",
    "final_text = object.refine_extracted_data(extracted_text, flatten=True)\n",
    "# dfs = object.merge_and_select_data(final_text)\n",
    "# Helper.quick_json_dump(dfs, object.JSONPATH)"
   ]
  },
  {
   "cell_type": "code",
   "execution_count": null,
   "metadata": {},
   "outputs": [],
   "source": [
    "\"\"\"UTI MAIN FILE CODE PASSIVE\"\"\"\n",
    "\n",
    "amc_id = '18_0'\n",
    "# logging.info(f\"User Ran Fund Data of {amc_name}\")\n",
    "fund_name, path= mutual_fund[amc_id]\n",
    "object = UTIPassive(fund_name,amc_id,path)\n",
    "title,path_pdf = object.check_and_highlight(path)\n",
    "data = object.get_data(path_pdf,title)\n",
    "extracted_text = object.get_generated_content(data)\n",
    "final_text = object.refine_extracted_data(extracted_text, flatten=True)\n",
    "dfs = object.merge_and_select_data(final_text)\n",
    "# Helper.quick_json_dump(dfs, object.JSONPATH)"
   ]
  },
  {
   "cell_type": "code",
   "execution_count": null,
   "metadata": {},
   "outputs": [],
   "source": [
    "\"\"\"UNION MUTUAL FUND\"\"\"\n",
    "\n",
    "amc_id = '40_0'\n",
    "# logging.info(f\"User Ran Fund Data of {amc_name}\")\n",
    "fund_name, path= mutual_fund[amc_id]\n",
    "object = Union(fund_name,amc_id,path)\n",
    "title,path_pdf = object.check_and_highlight(path)\n",
    "data = object.get_data(path_pdf,title)"
   ]
  },
  {
   "cell_type": "code",
   "execution_count": null,
   "metadata": {},
   "outputs": [],
   "source": [
    "object = Union(fund_name,amc_id,path)\n",
    "extracted_text = object.get_generated_content(data)\n",
    "final_text = object.refine_extracted_data(extracted_text)\n",
    "dfs = object.merge_and_select_data(final_text)\n"
   ]
  },
  {
   "cell_type": "code",
   "execution_count": 4,
   "metadata": {},
   "outputs": [],
   "source": [
    "fund_name, path = \"Unifi Mutual Fund\", r\"C:\\Users\\kaustubh.keny\\Projects\\JSON25\\output\\processed\\97_30-Jun-25_FS.pdf\""
   ]
  },
  {
   "cell_type": "code",
   "execution_count": null,
   "metadata": {},
   "outputs": [],
   "source": [
    "\"\"\"Unifi MUTUAL FUND\"\"\" #Issues: Major Issue\n",
    "\n",
    "amc_id = '97_0'\n",
    "logger = get_notebook_logger()\n",
    "# fund_name, path= mutual_fund[amc_id]\n",
    "object = Unifi(fund_name,amc_id,path)\n",
    "title,path_pdf = object.check_and_highlight(path)\n",
    "data = object.get_data(path_pdf,title)\n",
    "extracted_text = object.get_generated_content(data)\n",
    "final_text = object.refine_extracted_data(extracted_text)\n",
    "dfs = object.merge_and_select_data(final_text)\n",
    "# Helper.quick_json_dump(dfs, object.JSONPATH)"
   ]
  },
  {
   "cell_type": "code",
   "execution_count": 22,
   "metadata": {},
   "outputs": [
    {
     "name": "stdout",
     "output_type": "stream",
     "text": [
      "File Saved At: C:\\Users\\kaustubh.keny\\Projects\\JSON25\\output\\json\\97_30-Jun-25_FS.json\n"
     ]
    }
   ],
   "source": [
    "save_path = os.path.join(object.JSONPATH, object.FILE_NAME).replace(\".pdf\", \".json\")\n",
    "with open(save_path, 'w') as f:\n",
    "  json.dump(dfs, f, indent=2)\n",
    "print(f\"File Saved At: {save_path}\")\n",
    "\n",
    "with open(\"data.json\", 'w') as f:\n",
    "  json.dump(final_text, f, indent=2)\n",
    "  \n",
    "with open(\"extract.json\", 'w') as f:\n",
    "  json.dump(extracted_text, f, indent=2)"
   ]
  },
  {
   "cell_type": "code",
   "execution_count": null,
   "metadata": {},
   "outputs": [],
   "source": [
    "\"\"\"WHITEOAK MUTUAL FUND\"\"\"\n",
    "\n",
    "amc_id = '42_0'\n",
    "fund_name, path= mutual_fund[amc_id]\n",
    "object = WhiteOak(fund_name,amc_id,path)\n",
    "title,path_pdf = object.check_and_highlight(path)\n",
    "data = object.get_data(path_pdf,title)\n",
    "extracted_text = object.get_generated_content(data)\n",
    "final_text = object.refine_extracted_data(extracted_text)"
   ]
  },
  {
   "cell_type": "code",
   "execution_count": null,
   "metadata": {},
   "outputs": [],
   "source": [
    "object = WhiteOak(fund_name,amc_id,path)\n",
    "final_text = object.refine_extracted_data(extracted_text)\n",
    "dfs = object.merge_and_select_data(final_text, map_keys = True)"
   ]
  },
  {
   "cell_type": "code",
   "execution_count": null,
   "metadata": {},
   "outputs": [],
   "source": [
    "\"\"\"ZERODHA MAIN CODE\"\"\" \n",
    "\n",
    "amc_id = '71_0'\n",
    "# logging.info(f\"User Ran Fund Data of {amc_name}\")\n",
    "fund_name, path= mutual_fund[amc_id]\n",
    "object = Zerodha(fund_name,amc_id,path)\n",
    "title,path_pdf= object.check_and_highlight(path)\n",
    "data = object.get_data(path_pdf,title)\n",
    "object = Zerodha(fund_name,amc_id,path)\n",
    "extracted_text = object.get_generated_content(data)\n",
    "final_text = object.refine_extracted_data(extracted_text)\n",
    "dfs = object.merge_and_select_data(final_text)"
   ]
  },
  {
   "cell_type": "code",
   "execution_count": null,
   "metadata": {},
   "outputs": [],
   "source": [
    "\"\"\"\"HSBC MAIN FILE CODE\"\"\" \n",
    "\n",
    "amc_id = '13_0'\n",
    "# logging.info(f\"User Ran Fund Data of {amc_name}\")\n",
    "fund_name, path= mutual_fund[amc_id]\n",
    "object = HSBC(fund_name,amc_id,path)\n",
    "title,path_pdf = object.check_and_highlight(path)\n",
    "data = object.get_data(path_pdf,title)\n"
   ]
  },
  {
   "cell_type": "code",
   "execution_count": null,
   "metadata": {},
   "outputs": [
    {
     "name": "stdout",
     "output_type": "stream",
     "text": [
      "Function Running: get_generated_content\n",
      "\tParsing Completed, Refining Data.....\n",
      "[Error] get_generated_content failed: list index out of range\n",
      "Function Running: refine_extracted_data\n",
      "Function Running: merge_and_select_data\n"
     ]
    }
   ],
   "source": [
    "object = HSBC(fund_name,amc_id,path)\n",
    "extracted_text = object.get_generated_content(data)\n",
    "final_text = object.refine_extracted_data(extracted_text)\n",
    "dfs = object.merge_and_select_data(final_text)"
   ]
  },
  {
   "cell_type": "code",
   "execution_count": null,
   "metadata": {},
   "outputs": [],
   "source": [
    "# \"18_0\": \"ThreeSixtyOne\",\n",
    "# \"3_0\": \"AdityaBirla\",\n",
    "# \"96_0\": \"AngelOne\",\n",
    "# \"1_0\": \"AXISMF\",\n",
    "# \"1_1\": \"AXISMFPassive\",\n",
    "# \"59_0\": \"BajajFinServ\",\n",
    "# \"16_0\": \"Bandhan\",\n",
    "# \"5_0\": \"BankOfIndia\",\n",
    "# \"2_0\": \"BarodaBNP\",\n",
    "# \"6_0\": \"Canara\",\n",
    "# \"8_0\": \"DSP\",\n",
    "# \"12_0\": \"HDFC\",\n",
    "# \"12_1\": \"HDFC\",\n",
    "# \"9_0\": \"Edelweiss\",\n",
    "# \"11_0\": \"FranklinTempleton\",\n",
    "# \"20_0\": \"Gadd_valueW\",\n",
    "# \"60_0\": \"Helios\",\n",
    "# \"13_0\": \"HSBC\",\n",
    "# \"14_0\": \"ICICI\",\n",
    "# \"14_1\": \"ICICI\",\n",
    "# \"21_0\": \"Invesco\",\n",
    "# \"51_0\": \"ITI\",\n",
    "# \"22_0\": \"JMMF\",\n",
    "# \"23_0\": \"Kotak\",\n",
    "# \"25_0\": \"LIC\",\n",
    "# \"26_0\": \"MahindraManu\",\n",
    "# \"27_0\": \"MIRAE\",\n",
    "# \"27_1\": \"MIRAEPassive\",\n",
    "# \"28_0\": \"MotilalOswal\",\n",
    "# \"28_1\": \"MotilalOswalPassive\",\n",
    "# \"56_0\": \"NAVI\",\n",
    "# \"56_1\": \"NAVIPassive\",\n",
    "# \"33_0\": \"Nippon\",\n",
    "# \"57_0\": \"NJMF\",\n",
    "# \"95_0\": \"OldBridge\",\n",
    "# \"7_0\": \"PGIM\",\n",
    "# \"30_0\": \"PPFAS\",\n",
    "# \"10_0\": \"QuantMF\",\n",
    "# \"32_0\": \"Quantum\",\n",
    "# \"58_0\": \"Samco\",\n",
    "# \"35_0\": \"SBI\",\n",
    "# \"35_1\": \"SBIPassive\",\n",
    "# \"36_0\": \"Shriram\",\n",
    "# \"37_0\": \"Sundaram\",\n",
    "# \"38_0\": \"Tata\",\n",
    "# \"39_0\": \"Taurus\",\n",
    "# \"55_0\": \"Trust\",\n",
    "# \"40_0\": \"Union\",\n",
    "# \"41_0\": \"UTI\",\n",
    "# \"41_1\": \"UTIPassive\",\n",
    "# \"42_0\": \"WhiteOak\",\n",
    "# \"71_0\": \"Zerodha\",\n",
    "# \"97_0\": \"Unifi\""
   ]
  },
  {
   "cell_type": "code",
   "execution_count": null,
   "metadata": {},
   "outputs": [],
   "source": [
    "#  \"Angel One Mutual Fund\": \"AngelOne\",\n",
    "# \"Aditya Birla Sun Life Mutual Fund\": \"AdityaBirla\",\n",
    "# \"Axis Mutual Fund\": \"AXISMF\",\n",
    "# \"Axis Mutual Fund Passive\": \"AXISMFPassive\",\n",
    "# \"Bajaj Finserv Mutual Fund\": \"BajajFinServ\",\n",
    "# \"Bandhan Mutual Fund\": \"Bandhan\",\n",
    "# \"Bank Of India Mutual Fund\": \"BankOfIndia\",\n",
    "# \"Baroda Bnp Paribas Mutual Fund\": \"BarodaBNP\",\n",
    "# \"Canara Robeco Mutual Fund\": \"Canara\",\n",
    "# \"Dsp Mutual Fund\": \"DSP\",\n",
    "# \"Edelweiss Mutual Fund\": \"Edelweiss\",\n",
    "# \"Franklin Templeton Mutual Fund\": \"FranklinTempleton\",\n",
    "# \"Gadd_valuew Mutual Fund\": \"Gadd_valueW\",\n",
    "# \"Hdfc Mutual Fund\": \"HDFC\",\n",
    "# \"Hdfc Mutual Fund Passive\": \"HDFC\",\n",
    "# \"Helios Mutual Fund\": \"Helios\",\n",
    "# \"Hsbc Mutual Fund\": \"HSBC\",\n",
    "# \"Icici Prudential Mutual Fund\": \"ICICI\",\n",
    "# \"Icici Prudential Mutual Fund Passive\": \"ICICI\",\n",
    "# \"Iti Mutual Fund\": \"ITI\",\n",
    "# \"Invesco Mutual Fund\": \"Invesco\",\n",
    "# \"Jm Financial Mutual Fund\": \"JMMF\",\n",
    "# \"Kotak Mahindra Mutual Fund\": \"Kotak\",\n",
    "# \"Lic Mutual Fund\": \"LIC\",\n",
    "# \"Mahindra Manulife Mutual Fund\": \"MahindraManu\",\n",
    "# \"Mirae Asset Mutual Fund\": \"MIRAE\",\n",
    "# \"Mirae Asset Mutual Fund Passive\": \"MIRAEPassive\",\n",
    "# \"Motilal Oswal Mutual Fund\": \"MotilalOswal\",\n",
    "# \"Motilal Oswal Mutual Fund Passive\": \"MotilalOswalPassive\",\n",
    "# \"Nj Mutual Fund\": \"NJMF\",\n",
    "# \"Navi Mutual Fund\": \"NAVI\",\n",
    "# \"Nippon India Mutual Fund\": \"Nippon\",\n",
    "# \"Old Bridge Mutual Fund\": \"OldBridge\",\n",
    "# \"Pgim India Mutual Fund\": \"PGIM\",\n",
    "# \"Ppfas Mutual Fund\": \"PPFAS\",\n",
    "# \"Quant Mutual Fund\": \"QuantMF\",\n",
    "# \"Quantum Mutual Fund\": \"Quantum\",\n",
    "# \"Sbi Mutual Fund\": \"SBI\",\n",
    "# \"Sbi Mutual Fund Passive\": \"SBIPassive\",\n",
    "# \"Samco Mutual Fund\": \"Samco\",\n",
    "# \"Shriram Mutual Fund\": \"Shriram\",\n",
    "# \"Sundaram Mutual Fund\": \"Sundaram\",\n",
    "# \"Tata Mutual Fund\": \"Tata\",\n",
    "# \"Taurus Mutual Fund\": \"Taurus\",\n",
    "# \"Trust Mutual Fund\": \"Trust\",\n",
    "# \"Uti Mutual Fund\": \"UTI\",\n",
    "# \"Union Mutual Fund\": \"Union\",\n",
    "# \"Whiteoak Mutual Fund\": \"WhiteOak\",\n",
    "# \"Zerodha Mutual Fund\": \"Zerodha\""
   ]
  },
  {
   "cell_type": "code",
   "execution_count": 51,
   "metadata": {},
   "outputs": [],
   "source": [
    "import os, json\n",
    "from collections import defaultdict\n",
    "import pandas as pd\n",
    "path = r'C:\\Users\\kaustubh.keny\\Projects\\JSON25\\Aditya_Birla'\n",
    "\n",
    "\n",
    "static_keys = [\n",
    "        \"amc_name\", \"main_scheme_name\", \"mutual_fund_name\", \"benchmark_index\", \"monthly_aaum_date\", \n",
    "        \"monthly_aaum_value\", \"scheme_launch_date\", \"min_addl_amt\", \"min_addl_amt_multiple\", \n",
    "        \"min_amt\", \"min_amt_multiple\",\n",
    "    ]\n",
    "load_keys = [\"entry_load\",\"exit_load\"]\n",
    "metric_keys = [\n",
    "    \"alpha\", \"arithmetic_mean_ratio\", \"average_div_yield\", \"average_pb\", \"average_pe\", \"avg_maturity\",\n",
    "    \"beta\", \"correlation_ratio\", \"downside_deviation\", \"information_ratio\", \"macaulay\",\n",
    "    \"mod_duration\", \"port_turnover_ratio\", \"r_squared_ratio\", \"roe_ratio\", \"sharpe\", \"sortino_ratio\",\n",
    "    \"std_dev\", \"tracking_error\", \"treynor_ratio\", \"upside_deviation\", \"ytm\"\n",
    "]\n",
    "# fund_manager_keys = []\n",
    "# for i in range(1, 8):  # 1 to 7\n",
    "#     fund_manager_keys.extend([\n",
    "#         f\"fund_manager_{i}\",\n",
    "#         f\"since_{i}\",\n",
    "#         f\"experience_{i}\",\n",
    "#         f\"qualification_{i}\"\n",
    "#     ])\n",
    "\n",
    "\n",
    "def flatten_to_row(value): \n",
    "    \n",
    "    # fund_manager_keys = []\n",
    "    # for i in range(1, 8):  # 1 to 7\n",
    "    #     fund_manager_keys.extend([\n",
    "    #         f\"fund_manager_{i}\",\n",
    "    #         f\"since_{i}\",\n",
    "    #         f\"experience_{i}\",\n",
    "    #         f\"qualification_{i}\"\n",
    "    #     ])\n",
    "    # keys.extend(fund_manager_keys)\n",
    "    add_value = []\n",
    "\n",
    "    for k in static_keys:\n",
    "        val = value.get(k, \"\")\n",
    "        if isinstance(val, list):\n",
    "            val = \", \".join(val)\n",
    "        add_value.append(val)\n",
    "\n",
    "\n",
    "    entry,exit = \"\",\"\"\n",
    "    for l in value.get(\"load\", []):\n",
    "        if l.get(\"type\") == \"entry_load\":\n",
    "            entry = l.get(\"comment\", \"\")\n",
    "        elif l.get(\"type\") == \"exit_load\":\n",
    "            exit = l.get(\"comment\", \"\")\n",
    "    load = [entry, exit]\n",
    "    add_value.extend(load)\n",
    "\n",
    "    metric_map = {m[\"name\"]: m[\"value\"] for m in value.get(\"metrics\", [])}\n",
    "    metric = [metric_map.get(k, \"\") for k in metric_keys]\n",
    "    add_value.extend(metric)\n",
    "\n",
    "\n",
    "    # fms = value.get(\"fund_manager\", [])\n",
    "    # for i in range(5):\n",
    "    #     if i < len(fms):\n",
    "    #         fm = fms[i]\n",
    "    #         add_value.append(fm.get(\"name\", \"\"))\n",
    "    #         add_value.append(fm.get(\"managing_fund_since\", \"\"))\n",
    "    #         add_value.append(fm.get(\"total_exp\", \"\"))\n",
    "    #         add_value.append(fm.get(\"qualification\", \"\"))\n",
    "    #     else:\n",
    "    #         add_value.extend([\"\"] * 4)\n",
    "\n",
    "    return add_value\n",
    "\n",
    "file_paths = []\n",
    "month_data = defaultdict(list)\n",
    "for pth,_,files in os.walk(path):\n",
    "    for f in files:\n",
    "        file_path = os.path.join(pth,f)\n",
    "        file_paths.append(file_path)\n",
    "        \n",
    "for paths in file_paths:\n",
    "    with open(paths,\"r\",encoding=\"utf8\") as f:\n",
    "        df = json.load(f)\n",
    "    sheet_name = df.get(\"metadata\",{}).get(\"document_name\",\"\")\n",
    "    \n",
    "    records = df.get(\"records\",[])\n",
    "    for record in records:\n",
    "        value = record.get(\"value\",{})\n",
    "        row = flatten_to_row(value)\n",
    "        month_data[sheet_name].append(row)"
   ]
  },
  {
   "cell_type": "code",
   "execution_count": 53,
   "metadata": {},
   "outputs": [],
   "source": [
    "final_keys = static_keys + load_keys + metric_keys\n",
    "month_data = dict(month_data)\n",
    "with pd.ExcelWriter(\"monthly_amc_data.xlsx\") as writer:\n",
    "    for month, rows in month_data.items():\n",
    "        if not rows:\n",
    "            print(f\"No data for month: {month}\")\n",
    "            continue\n",
    "        df = pd.DataFrame(rows, columns=final_keys)\n",
    "        df.to_excel(writer, sheet_name=month[:31], index=False)\n"
   ]
  },
  {
   "cell_type": "code",
   "execution_count": 52,
   "metadata": {},
   "outputs": [],
   "source": [
    "with open(\"some.json\",\"w+\") as f:\n",
    "    json.dump(month_data,f)"
   ]
  },
  {
   "cell_type": "code",
   "execution_count": null,
   "metadata": {},
   "outputs": [],
   "source": []
  }
 ],
 "metadata": {
  "kernelspec": {
   "display_name": ".venv-py1310",
   "language": "python",
   "name": "python3"
  },
  "language_info": {
   "codemirror_mode": {
    "name": "ipython",
    "version": 3
   },
   "file_extension": ".py",
   "mimetype": "text/x-python",
   "name": "python",
   "nbconvert_exporter": "python",
   "pygments_lexer": "ipython3",
   "version": "3.10.8"
  }
 },
 "nbformat": 4,
 "nbformat_minor": 2
}
