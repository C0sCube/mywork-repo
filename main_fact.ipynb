{
 "cells": [
  {
   "cell_type": "code",
   "execution_count": 1,
   "metadata": {},
   "outputs": [],
   "source": [
    "%load_ext autoreload\n",
    "%autoreload 2\n",
    "from app.config_loader import Config\n",
    "from app.program_logger import *\n",
    "conf = Config()\n",
    "\n",
    "import warnings\n",
    "from pandas.errors import SettingWithCopyWarning\n",
    "\n",
    "warnings.simplefilter(action=\"ignore\", category=SettingWithCopyWarning)\n",
    "warnings.filterwarnings(\"ignore\", category=UserWarning)\n",
    "warnings.filterwarnings(\"ignore\", category=FutureWarning)\n",
    "\n",
    "\n",
    "import json, os, logging, datetime,json5,sys, pprint\n",
    "from app.fund_data import *\n",
    "from app.utils import Helper\n",
    "\n",
    "logger = setup_logger(\"temp_logger\",log_dir=\"logs\",redirect_stdout=False)\n",
    "\n",
    "mutual_fund = Helper.get_amc_paths(conf[\"amc_path\"])\n",
    "    \n",
    "# https://www.sebi.gov.in/sebiweb/other/OtherAction.do?doMutualFund=yes&mftype=2"
   ]
  },
  {
   "cell_type": "code",
   "execution_count": 2,
   "metadata": {},
   "outputs": [],
   "source": [
    "fund_name,path = \"IIFL Mutual Fund\", r\"C:\\Users\\kaustubh.keny\\OneDrive - Cogencis Information Services Ltd\\Documents\\2020\\IIFL Mutual Fund\\18_31-Dec-20_FS.pdf\""
   ]
  },
  {
   "cell_type": "code",
   "execution_count": 3,
   "metadata": {},
   "outputs": [
    {
     "name": "stdout",
     "output_type": "stream",
     "text": [
      ">>IIFL Focused Equity Fund\n",
      ">>IIFL Focused Equity Fund\n",
      ">>IIFL Dynamic Bond Fund\n",
      ">>IIFL Dynamic Bond Fund\n",
      ">>IIFL Liquid Fund\n"
     ]
    }
   ],
   "source": [
    "\"\"\"360 ONE FILE CODE\"\"\"\n",
    "amc_id = '18_0'\n",
    "# logging.info(f\"User Ran Fund Data of {amc_name}\")\n",
    "# fund_name, path= mutual_fund[amc_id]\n",
    "object = ThreeSixtyOne(fund_name,amc_id,path,logger)\n",
    "title,path_pdf = object.check_and_highlight(path)\n",
    "data = object.get_data(path_pdf,title)\n",
    "extracted_text = object.get_generated_content(data)\n",
    "final_text = object.refine_extracted_data(extracted_text)\n",
    "dfs = object.merge_and_select_data(final_text)"
   ]
  },
  {
   "cell_type": "code",
   "execution_count": 4,
   "metadata": {},
   "outputs": [
    {
     "name": "stdout",
     "output_type": "stream",
     "text": [
      "File Saved At: C:\\Users\\kaustubh.keny\\Projects\\JSON25\\output\\json\\18_31-Dec-20_FS.json\n"
     ]
    }
   ],
   "source": [
    "save_path = os.path.join(object.JSONPATH, object.FILE_NAME).replace(\".pdf\", \".json\")\n",
    "with open(save_path, 'w') as f:\n",
    "  json.dump(dfs, f, indent=2)\n",
    "print(f\"File Saved At: {save_path}\")\n",
    "\n",
    "with open(\"data.json\", 'w') as f:\n",
    "  json.dump(final_text, f, indent=2)\n",
    "  \n",
    "with open(\"extract.json\", 'w') as f:\n",
    "  json.dump(extracted_text, f, indent=2)\n",
    "\n",
    "with open(save_path, 'r') as f:\n",
    "  data = json.load(f)\n"
   ]
  },
  {
   "cell_type": "code",
   "execution_count": null,
   "metadata": {},
   "outputs": [],
   "source": [
    "\"\"\"ANGEL ONE FILE CODE\"\"\"\n",
    "amc_id = '96_0'\n",
    "# logging.info(f\"User Ran Fund Data of {amc_name}\")\n",
    "fund_name, path= mutual_fund[amc_id]\n",
    "object = AngelOne(fund_name,amc_id,path,logger)\n",
    "title,path_pdf = object.check_and_highlight(path)\n",
    "data = object.get_data(path_pdf,title)\n",
    "extracted_text = object.get_generated_content(data)\n",
    "final_text = object.refine_extracted_data(extracted_text)\n",
    "dfs = object.merge_and_select_data(final_text)"
   ]
  },
  {
   "cell_type": "code",
   "execution_count": null,
   "metadata": {},
   "outputs": [
    {
     "name": "stdout",
     "output_type": "stream",
     "text": [
      "File Saved At: C:\\Users\\Kaustubh.keny\\Projects\\JSON25\\MAYJSON\\18_30-Apr-25_FS.json\n"
     ]
    }
   ],
   "source": [
    "save_path = os.path.join(object.JSONPATH, object.FILE_NAME).replace(\".pdf\", \".json\")\n",
    "with open(save_path, 'w') as f:\n",
    "  json.dump(dfs, f, indent=2)\n",
    "print(f\"File Saved At: {save_path}\")\n",
    "\n",
    "with open(\"data.json\", 'w') as f:\n",
    "  json.dump(final_text, f, indent=2)\n",
    "  \n",
    "with open(\"extract.json\", 'w') as f:\n",
    "  json.dump(extracted_text, f, indent=2)\n",
    "\n",
    "with open(save_path, 'r') as f:\n",
    "  data = json.load(f)\n",
    "\n",
    "    "
   ]
  },
  {
   "cell_type": "code",
   "execution_count": 42,
   "metadata": {},
   "outputs": [
    {
     "name": "stdout",
     "output_type": "stream",
     "text": [
      "\u001b[37m2025-07-22 15:10:52 [TRACE]: step>> check_and_highlight\u001b[0m\n",
      "\u001b[32m2025-07-22 15:10:52 [INFO]: AMC Requires OCR hence: _get_ocr_title\u001b[0m\n",
      "\u001b[32m2025-07-22 15:11:00 [INFO]: Getting All titles : _get_normal_title\u001b[0m\n",
      "\n",
      "ECONOMIC COMMENTARY DECEMBER 2020\n",
      "SHRIRAM HYBRID EQUITY FUND\n",
      ">>SHRIRAM HYBRID EQUITY FUND\n",
      "\u001b[37m2025-07-22 15:11:00 [TRACE]: >>SHRIRAM HYBRID EQUITY FUND\u001b[0m\n",
      "SHRIRAM HYBRID EQUITY FUND\n",
      ">>SHRIRAM HYBRID EQUITY FUND\n",
      "\u001b[37m2025-07-22 15:11:00 [TRACE]: >>SHRIRAM HYBRID EQUITY FUND\u001b[0m\n",
      "SHRIRAM MULTICAP FUND\n",
      ">>SHRIRAM MULTICAP FUND\n",
      "\u001b[37m2025-07-22 15:11:00 [TRACE]: >>SHRIRAM MULTICAP FUND\u001b[0m\n",
      "SHRIRAM MULTICAP FUND\n",
      ">>SHRIRAM MULTICAP FUND\n",
      "\u001b[37m2025-07-22 15:11:00 [TRACE]: >>SHRIRAM MULTICAP FUND\u001b[0m\n",
      "SHRIRAM LONG TERM EQUITY FUND\n",
      ">>SHRIRAM LONG TERM EQUITY FUND\n",
      "\u001b[37m2025-07-22 15:11:00 [TRACE]: >>SHRIRAM LONG TERM EQUITY FUND\u001b[0m\n",
      "SHRIRAM LONG TERM EQUITY FUND\n",
      ">>SHRIRAM LONG TERM EQUITY FUND\n",
      "\u001b[37m2025-07-22 15:11:00 [TRACE]: >>SHRIRAM LONG TERM EQUITY FUND\u001b[0m\n",
      "SHRIRAM BALANCED ADVANTAGE FUND\n",
      ">>SHRIRAM BALANCED ADVANTAGE FUND\n",
      "\u001b[37m2025-07-22 15:11:00 [TRACE]: >>SHRIRAM BALANCED ADVANTAGE FUND\u001b[0m\n",
      "SHRIRAM BALANCED ADVANTAGE FUND\n",
      ">>SHRIRAM BALANCED ADVANTAGE FUND\n",
      "\u001b[37m2025-07-22 15:11:00 [TRACE]: >>SHRIRAM BALANCED ADVANTAGE FUND\u001b[0m\n",
      "HOW TO READ A FACT SHEET\n",
      "\n",
      "\u001b[32m2025-07-22 15:11:00 [INFO]: AMC Requires OCR hence: _ocr_pdf\u001b[0m\n",
      "\u001b[37m2025-07-22 15:12:00 [TRACE]: step>> get_data\u001b[0m\n",
      "\u001b[37m2025-07-22 15:12:00 [TRACE]: step>> get_generated_content\u001b[0m\n"
     ]
    }
   ],
   "source": [
    "\"\"\"SHRIRAM MAIN FILE CODE\"\"\"\n",
    "amc_id = '36_0'\n",
    "fund_name,path = \"Shriram Mutual Fund\", r\"C:\\Users\\kaustubh.keny\\OneDrive - Cogencis Information Services Ltd\\Documents\\2020\\Shriram Mutual fund\\36_31-Dec-20_FS.pdf\"\n",
    "# logging.info(f\"User Ran Fund Data of {amc_name}\")\n",
    "# fund_name, path= mutual_fund[amc_id]\n",
    "object = Shriram(fund_name,amc_id,path,logger)\n",
    "title,path_pdf = object.check_and_highlight(path)\n",
    "data = object.get_data(path_pdf,title)\n",
    "extracted_text = object.get_generated_content(data)\n"
   ]
  },
  {
   "cell_type": "code",
   "execution_count": 64,
   "metadata": {},
   "outputs": [
    {
     "name": "stdout",
     "output_type": "stream",
     "text": [
      "\u001b[37m2025-07-22 15:31:07 [TRACE]: step>> get_generated_content\u001b[0m\n",
      "\u001b[37m2025-07-22 15:31:11 [TRACE]: step>> refine_extracted_data\u001b[0m\n",
      "\u001b[37m2025-07-22 15:31:11 [TRACE]: step>> merge_and_select_data\u001b[0m\n"
     ]
    }
   ],
   "source": [
    "object = Shriram(fund_name,amc_id,path,logger)\n",
    "extracted_text = object.get_generated_content(data)\n",
    "final_text = object.refine_extracted_data(extracted_text)\n",
    "dfs = object.merge_and_select_data(final_text)"
   ]
  },
  {
   "cell_type": "code",
   "execution_count": 65,
   "metadata": {},
   "outputs": [
    {
     "name": "stdout",
     "output_type": "stream",
     "text": [
      "File Saved At: C:\\Users\\kaustubh.keny\\Projects\\JSON25\\output\\json\\36_31-Dec-20_FS.json\n"
     ]
    }
   ],
   "source": [
    "save_path = os.path.join(object.JSONPATH, object.FILE_NAME).replace(\".pdf\", \".json\")\n",
    "with open(save_path, 'w') as f:\n",
    "  json.dump(dfs, f, indent=2)\n",
    "print(f\"File Saved At: {save_path}\")\n",
    "\n",
    "with open(\"data.json\", 'w') as f:\n",
    "  json.dump(final_text, f, indent=2)\n",
    "  \n",
    "with open(\"extract.json\", 'w') as f:\n",
    "  json.dump(extracted_text, f, indent=2)"
   ]
  },
  {
   "cell_type": "code",
   "execution_count": 56,
   "metadata": {},
   "outputs": [],
   "source": [
    "fund_name,path = \"PPFAS Mutual Fund\",r\"C:\\Users\\kaustubh.keny\\OneDrive - Cogencis Information Services Ltd\\Documents\\2020\\PPFAS Mutual Fund\\30_31-Oct-20_FS.pdf\""
   ]
  },
  {
   "cell_type": "code",
   "execution_count": null,
   "metadata": {},
   "outputs": [],
   "source": [
    "\"\"\"PPFAS MAIN FILE CODE\"\"\"\n",
    "\n",
    "amc_id = '30_0'\n",
    "# logging.info(f\"User Ran Fund Data of {amc_name}\")\n",
    "# fund_name, path= mutual_fund[amc_id]\n",
    "object = PPFAS(fund_name,amc_id,path,logger)\n",
    "title,path_pdf = object.check_and_highlight(path)\n",
    "data = object.get_data(path_pdf,title)\n",
    "extracted_text = object.get_generated_content(data)\n",
    "final_text = object.refine_extracted_data(extracted_text)\n",
    "dfs = object.merge_and_select_data(final_text)\n",
    "save_path = os.path.join(object.JSONPATH, object.FILE_NAME).replace(\".pdf\", \".json\")\n",
    "with open(save_path, 'w') as f:\n",
    "  json.dump(dfs, f, indent=2)\n",
    "print(f\"File Saved At: {save_path}\")"
   ]
  },
  {
   "cell_type": "code",
   "execution_count": 31,
   "metadata": {},
   "outputs": [],
   "source": [
    "object = PPFAS(fund_name,amc_id,path,logger)\n",
    "final_text = object.refine_extracted_data(extracted_text)\n",
    "dfs = object.merge_and_select_data(final_text)"
   ]
  },
  {
   "cell_type": "code",
   "execution_count": 51,
   "metadata": {},
   "outputs": [
    {
     "name": "stdout",
     "output_type": "stream",
     "text": [
      "File Saved At: C:\\Users\\kaustubh.keny\\Projects\\JSON25\\output\\json\\30_30-Apr-20_FS.json\n"
     ]
    }
   ],
   "source": [
    "save_path = os.path.join(object.JSONPATH, object.FILE_NAME).replace(\".pdf\", \".json\")\n",
    "with open(save_path, 'w') as f:\n",
    "  json.dump(dfs, f, indent=2)\n",
    "print(f\"File Saved At: {save_path}\")\n",
    "\n",
    "with open(\"data.json\", 'w') as f:\n",
    "  json.dump(final_text, f, indent=2)\n",
    "  \n",
    "with open(\"extract.json\", 'w') as f:\n",
    "  json.dump(extracted_text, f, indent=2)"
   ]
  },
  {
   "cell_type": "code",
   "execution_count": null,
   "metadata": {},
   "outputs": [],
   "source": [
    "'''AXIS ONE PASSIVE MAIN FILE CODE'''\n",
    "amc_id = '1_1'\n",
    "# logging.info(f\"User Ran Fund Data of {amc_name}\")\n",
    "fund_name, path= mutual_fund[amc_id]\n",
    "object = AXISMFPassive(fund_name,amc_id,path,logger)\n",
    "title,path_pdf = object.check_and_highlight(path)\n",
    "data = object.get_data(path_pdf,title)\n",
    "extracted_text = object.get_generated_content(data)\n",
    "# final_text = object.refine_extracted_data(extracted_text)\n",
    "# dfs = object.merge_and_select_data(final_text)\n",
    "# with open(save_path, 'w') as f:\n",
    "#   json.dump(dfs, f, indent=2)\n",
    "# print(f\"File Saved At: {save_path}\")"
   ]
  },
  {
   "cell_type": "code",
   "execution_count": 2,
   "metadata": {},
   "outputs": [],
   "source": [
    "annot_path = r\"C:\\Users\\kaustubh.keny\\OneDrive - Cogencis Information Services Ltd\\Documents\\2020\\Axis Mutual Fund\\APR20.json\"\n",
    "with open(annot_path, \"r\") as file:\n",
    "    annot = json.load(file)"
   ]
  },
  {
   "cell_type": "code",
   "execution_count": 3,
   "metadata": {},
   "outputs": [
    {
     "name": "stdout",
     "output_type": "stream",
     "text": [
      "\u001b[37m2025-07-23 09:59:45 [TRACE]: step>> check_and_highlight\u001b[0m\n",
      "\u001b[32m2025-07-23 09:59:46 [INFO]: Getting All titles : _get_normal_title\u001b[0m\n",
      "THE\n",
      "\n",
      "\n",
      "\n",
      "\n",
      "W A A A\n",
      "\n",
      "AXIS BLUECHIP FUND FACTSHEET\n",
      ">>AXIS BLUECHIP FUND\n",
      "\u001b[37m2025-07-23 09:59:47 [TRACE]: >>AXIS BLUECHIP FUND\u001b[0m\n",
      "AXIS FOCUSED 25 FUND FACTSHEET\n",
      ">>AXIS FOCUSED 25 FUND\n",
      "\u001b[37m2025-07-23 09:59:47 [TRACE]: >>AXIS FOCUSED 25 FUND\u001b[0m\n",
      "AXIS LONG TERM EQUITY FUND FACTSHEET\n",
      ">>AXIS LONG TERM EQUITY FUND\n",
      "\u001b[37m2025-07-23 09:59:47 [TRACE]: >>AXIS LONG TERM EQUITY FUND\u001b[0m\n",
      "AXIS GROWTH OPPORTUNITIES FUND FACTSHEET\n",
      ">>AXIS GROWTH OPPORTUNITIES FUND\n",
      "\u001b[37m2025-07-23 09:59:47 [TRACE]: >>AXIS GROWTH OPPORTUNITIES FUND\u001b[0m\n",
      "AXIS MULTICAP FUND FACTSHEET\n",
      ">>AXIS MULTICAP FUND\n",
      "\u001b[37m2025-07-23 09:59:47 [TRACE]: >>AXIS MULTICAP FUND\u001b[0m\n",
      "AXIS MIDCAP FUND FACTSHEET\n",
      ">>AXIS MIDCAP FUND\n",
      "\u001b[37m2025-07-23 09:59:47 [TRACE]: >>AXIS MIDCAP FUND\u001b[0m\n",
      "AXIS SMALL CAP FUND FACTSHEET\n",
      ">>AXIS SMALL CAP FUND\n",
      "\u001b[37m2025-07-23 09:59:47 [TRACE]: >>AXIS SMALL CAP FUND\u001b[0m\n",
      "AXIS NIFTY ETF FACTSHEET\n",
      ">>AXIS NIFTY ETF\n",
      "\u001b[37m2025-07-23 09:59:47 [TRACE]: >>AXIS NIFTY ETF\u001b[0m\n",
      "AXIS NIFTY 100 INDEX FUND FACTSHEET\n",
      ">>AXIS NIFTY 100 INDEX FUND\n",
      "\u001b[37m2025-07-23 09:59:47 [TRACE]: >>AXIS NIFTY 100 INDEX FUND\u001b[0m\n",
      "AXIS ESG EQUITY FUND FACTSHEET\n",
      ">>AXIS ESG EQUITY FUND\n",
      "\u001b[37m2025-07-23 09:59:47 [TRACE]: >>AXIS ESG EQUITY FUND\u001b[0m\n",
      "\n",
      "AXIS OVERNIGHT FUND FACTSHEET\n",
      ">>AXIS OVERNIGHT FUND\n",
      "\u001b[37m2025-07-23 09:59:47 [TRACE]: >>AXIS OVERNIGHT FUND\u001b[0m\n",
      "AXIS LIQUID FUND FACTSHEET\n",
      ">>AXIS LIQUID FUND\n",
      "\u001b[37m2025-07-23 09:59:47 [TRACE]: >>AXIS LIQUID FUND\u001b[0m\n",
      "AXIS ULTRA SHORT TERM FUND FACTSHEET\n",
      ">>AXIS ULTRA SHORT TERM FUND\n",
      "\u001b[37m2025-07-23 09:59:47 [TRACE]: >>AXIS ULTRA SHORT TERM FUND\u001b[0m\n",
      "AXIS TREASURY ADVANTAGE FUND FACTSHEET\n",
      ">>AXIS TREASURY ADVANTAGE FUND\n",
      "\u001b[37m2025-07-23 09:59:47 [TRACE]: >>AXIS TREASURY ADVANTAGE FUND\u001b[0m\n",
      "AXIS MONEY MARKET FUND FACTSHEET\n",
      ">>AXIS MONEY MARKET FUND\n",
      "\u001b[37m2025-07-23 09:59:47 [TRACE]: >>AXIS MONEY MARKET FUND\u001b[0m\n",
      "AXIS CORPORATE DEBT FUND FACTSHEET\n",
      ">>AXIS CORPORATE DEBT FUND\n",
      "\u001b[37m2025-07-23 09:59:47 [TRACE]: >>AXIS CORPORATE DEBT FUND\u001b[0m\n",
      "AXIS BANKING & PSU DEBT FUND FACTSHEET\n",
      ">>AXIS BANKING & PSU DEBT FUND\n",
      "\u001b[37m2025-07-23 09:59:47 [TRACE]: >>AXIS BANKING & PSU DEBT FUND\u001b[0m\n",
      "AXIS SHORT TERM FUND FACTSHEET\n",
      ">>AXIS SHORT TERM FUND\n",
      "\u001b[37m2025-07-23 09:59:47 [TRACE]: >>AXIS SHORT TERM FUND\u001b[0m\n",
      "AXIS CREDIT RISK FUND FACTSHEET\n",
      ">>AXIS CREDIT RISK FUND\n",
      "\u001b[37m2025-07-23 09:59:47 [TRACE]: >>AXIS CREDIT RISK FUND\u001b[0m\n",
      "AXIS DYNAMIC BOND FUND FACTSHEET\n",
      ">>AXIS DYNAMIC BOND FUND\n",
      "\u001b[37m2025-07-23 09:59:47 [TRACE]: >>AXIS DYNAMIC BOND FUND\u001b[0m\n",
      "AXIS STRATEGIC BOND FUND FACTSHEET\n",
      ">>AXIS STRATEGIC BOND FUND\n",
      "\u001b[37m2025-07-23 09:59:47 [TRACE]: >>AXIS STRATEGIC BOND FUND\u001b[0m\n",
      "AXIS GILT FUND FACTSHEET\n",
      ">>AXIS GILT FUND\n",
      "\u001b[37m2025-07-23 09:59:47 [TRACE]: >>AXIS GILT FUND\u001b[0m\n",
      "AXIS ALL SEASONS DEBT FUND OF FUNDS FACTSHEET\n",
      ">>AXIS ALL SEASONS DEBT FUND OF FUNDS\n",
      "\u001b[37m2025-07-23 09:59:47 [TRACE]: >>AXIS ALL SEASONS DEBT FUND OF FUNDS\u001b[0m\n",
      "\n",
      "KEY HIGHLIGHTS\n",
      "AXIS REGULAR SAVER FUND FACTSHEET\n",
      ">>AXIS REGULAR SAVER FUND\n",
      "\u001b[37m2025-07-23 09:59:47 [TRACE]: >>AXIS REGULAR SAVER FUND\u001b[0m\n",
      "AXIS EQUITY SAVER FUND FACTSHEET\n",
      ">>AXIS EQUITY SAVER FUND\n",
      "\u001b[37m2025-07-23 09:59:47 [TRACE]: >>AXIS EQUITY SAVER FUND\u001b[0m\n",
      "\n",
      "AXIS TRIPLE ADVANTAGE FUND FACTSHEET\n",
      ">>AXIS TRIPLE ADVANTAGE FUND\n",
      "\u001b[37m2025-07-23 09:59:47 [TRACE]: >>AXIS TRIPLE ADVANTAGE FUND\u001b[0m\n",
      "AXIS EQUITY HYBRID FUND FACTSHEET\n",
      ">>AXIS EQUITY HYBRID FUND\n",
      "\u001b[37m2025-07-23 09:59:47 [TRACE]: >>AXIS EQUITY HYBRID FUND\u001b[0m\n",
      "AXIS CHILDRENS GIFT FUND FACTSHEET\n",
      ">>AXIS CHILDRENS GIFT FUND\n",
      "\u001b[37m2025-07-23 09:59:47 [TRACE]: >>AXIS CHILDRENS GIFT FUND\u001b[0m\n",
      "AXIS DYNAMIC EQUITY FUND FACTSHEET\n",
      ">>AXIS DYNAMIC EQUITY FUND\n",
      "\u001b[37m2025-07-23 09:59:47 [TRACE]: >>AXIS DYNAMIC EQUITY FUND\u001b[0m\n",
      "\n",
      "AXIS ARBITRAGE FUND FACTSHEET\n",
      ">>AXIS ARBITRAGE FUND\n",
      "\u001b[37m2025-07-23 09:59:47 [TRACE]: >>AXIS ARBITRAGE FUND\u001b[0m\n",
      "\n",
      "AXIS RETIREMENT SAVINGS FUND - AGGRESSIVE PLAN FACTSHEET\n",
      ">>AXIS RETIREMENT SAVINGS FUND - AGGRESSIVE PLAN\n",
      "\u001b[37m2025-07-23 09:59:47 [TRACE]: >>AXIS RETIREMENT SAVINGS FUND - AGGRESSIVE PLAN\u001b[0m\n",
      "AXIS RETIREMENT SAVINGS FUND - DYNAMIC PLAN FACTSHEET\n",
      ">>AXIS RETIREMENT SAVINGS FUND - DYNAMIC PLAN\n",
      "\u001b[37m2025-07-23 09:59:47 [TRACE]: >>AXIS RETIREMENT SAVINGS FUND - DYNAMIC PLAN\u001b[0m\n",
      "AXIS RETIREMENT SAVINGS FUND - CONSERVATIVE PLAN FACTSHEET\n",
      ">>AXIS RETIREMENT SAVINGS FUND - CONSERVATIVE PLAN\n",
      "\u001b[37m2025-07-23 09:59:47 [TRACE]: >>AXIS RETIREMENT SAVINGS FUND - CONSERVATIVE PLAN\u001b[0m\n",
      "SIP PERFORMANCE OF SELECT SCHEMES (as on 30th April 2020) The Fund offers flexible and convenient Systematic Investment Plan (SIP) facility To illustrate the advantages of SIP investments this is how your investments would have grown if you had\n",
      "SIP PERFORMANCE OF SELECT SCHEMES (as on 30th April 2020) The Fund offers flexible and convenient Systematic Investment Plan (SIP) facility To illustrate the advantages of SIP investments this is how your investments would have grown if you had  il\n",
      "\n",
      "\n",
      "\n",
      "1 Year  3 Years  5 Years Since Inception D t f i ti CAGR () C t CAGR () C t C t CAGR () C t ANNEXURE FOR RETURNS OF ALL THE SCHEMES (as on 30th April 2020)\n",
      "ANNEXURE FOR RETURNS OF ALL THE SCHEMES (as on 30th April 2020) 1 Year  3 Years  5 Years Since Inception Date of inception CAGR () Current CAGR () Current Current CAGR () Current\n",
      "ANNEXURE FOR RETURNS OF ALL THE SCHEMES (as on 30th April 2020) 1 Year  3 Years  5 Years Since Inception Date of inception CAGR () Current CAGR () Current Current CAGR () Current\n",
      "PRODUCT LABELLING AXIS BLUECHIP FUND (An open ended equity scheme predominantly investing in large cap stocks)\n",
      ">>AXIS BLUECHIP FUND\n",
      "\u001b[37m2025-07-23 09:59:47 [TRACE]: >>AXIS BLUECHIP FUND\u001b[0m\n",
      "PRODUCT LABELLING\n",
      "B t t b d\n",
      "\u001b[37m2025-07-23 09:59:52 [TRACE]: step>> get_data\u001b[0m\n"
     ]
    }
   ],
   "source": [
    "'''AXIS ONE ACTIVE MAIN FILE CODE''' #No issues as of now\n",
    "amc_id = '1_0'\n",
    "fund_name,path = \"Axis Mutual Fund\", r\"C:\\Users\\kaustubh.keny\\OneDrive - Cogencis Information Services Ltd\\Documents\\2020\\Axis Mutual Fund\\1_30-Apr-20_FS.pdf\"\n",
    "# logging.info(f\"User Ran Fund Data of {amc_name}\")\n",
    "# fund_name, path= mutual_fund[amc_id]\n",
    "object = AXISMF(fund_name,amc_id,path,logger)\n",
    "title,path_pdf = object.check_and_highlight(path)\n",
    "data = object.get_data(path_pdf,title,annot)"
   ]
  },
  {
   "cell_type": "code",
   "execution_count": 20,
   "metadata": {},
   "outputs": [
    {
     "name": "stdout",
     "output_type": "stream",
     "text": [
      "\u001b[37m2025-07-23 11:04:03 [TRACE]: step>> get_generated_content\u001b[0m\n",
      "\u001b[37m2025-07-23 11:04:10 [TRACE]: step>> refine_extracted_data\u001b[0m\n",
      "\u001b[37m2025-07-23 11:04:10 [TRACE]: step>> merge_and_select_data\u001b[0m\n"
     ]
    }
   ],
   "source": [
    "object = AXISMF(fund_name,amc_id,path,logger)\n",
    "extracted_text = object.get_generated_content(data)\n",
    "final_text = object.refine_extracted_data(extracted_text)\n",
    "dfs = object.merge_and_select_data(final_text)"
   ]
  },
  {
   "cell_type": "code",
   "execution_count": 21,
   "metadata": {},
   "outputs": [
    {
     "name": "stdout",
     "output_type": "stream",
     "text": [
      "File Saved At: C:\\Users\\kaustubh.keny\\Projects\\JSON25\\output\\json\\1_30-Apr-20_FS.json\n"
     ]
    }
   ],
   "source": [
    "save_path = os.path.join(object.JSONPATH, object.FILE_NAME).replace(\".pdf\", \".json\")\n",
    "with open(save_path, 'w') as f:\n",
    "  json.dump(dfs, f, indent=2)\n",
    "print(f\"File Saved At: {save_path}\")\n",
    "\n",
    "with open(\"data.json\", 'w') as f:\n",
    "  json.dump(final_text, f, indent=2)\n",
    "  \n",
    "with open(\"extract.json\", 'w') as f:\n",
    "  json.dump(extracted_text, f, indent=2)"
   ]
  },
  {
   "cell_type": "code",
   "execution_count": 10,
   "metadata": {},
   "outputs": [],
   "source": [
    "fund_name, path = \"Aditya Birla\", r\"C:\\Users\\kaustubh.keny\\OneDrive - Cogencis Information Services Ltd\\Documents\\2020\\Aditya Birla Sun Life Mutual Fund\\3_31-Oct-20_FS.pdf\""
   ]
  },
  {
   "cell_type": "code",
   "execution_count": null,
   "metadata": {},
   "outputs": [],
   "source": [
    "\"\"\"ADITYA BIRLA FILE CODE\"\"\"\n",
    "amc_id = '3_0'\n",
    "# logging.info(f\"User Ran Fund Data of {amc_name}\")\n",
    "# fund_name, path= mutual_fund[amc_id]\n",
    "object = AdityaBirla(fund_name,amc_id,path,logger)\n",
    "title,path_pdf = object.check_and_highlight(path)\n",
    "data = object.get_data(path_pdf,title)\n",
    "\n",
    "extracted_text = object.get_generated_content(data)"
   ]
  },
  {
   "cell_type": "code",
   "execution_count": null,
   "metadata": {},
   "outputs": [],
   "source": [
    "object = AdityaBirla(fund_name,amc_id,path,logger)\n",
    "final_text = object.refine_extracted_data(extracted_text)\n",
    "dfs = object.merge_and_select_data(final_text)"
   ]
  },
  {
   "cell_type": "code",
   "execution_count": 16,
   "metadata": {},
   "outputs": [
    {
     "name": "stdout",
     "output_type": "stream",
     "text": [
      "File Saved At: C:\\Users\\kaustubh.keny\\Projects\\JSON25\\output\\json\\3_31-Oct-20_FS.json\n"
     ]
    }
   ],
   "source": [
    "save_path = os.path.join(object.JSONPATH, object.FILE_NAME).replace(\".pdf\", \".json\")\n",
    "with open(save_path, 'w') as f:\n",
    "  json.dump(dfs, f, indent=2)\n",
    "print(f\"File Saved At: {save_path}\")\n",
    "\n",
    "with open(\"data.json\", 'w') as f:\n",
    "  json.dump(final_text, f, indent=2)\n",
    "  \n",
    "with open(\"extract.json\", 'w') as f:\n",
    "  json.dump(extracted_text, f, indent=2)"
   ]
  },
  {
   "cell_type": "code",
   "execution_count": 3,
   "metadata": {},
   "outputs": [],
   "source": [
    "fund_name, path = \"Bandhan Mutual Fund\", r\"C:\\Users\\kaustubh.keny\\OneDrive - Cogencis Information Services Ltd\\Documents\\2020\\Bandhan Mutual Fund\\16_29-Feb-20_FS.pdf.pdf\""
   ]
  },
  {
   "cell_type": "code",
   "execution_count": null,
   "metadata": {},
   "outputs": [
    {
     "name": "stderr",
     "output_type": "stream",
     "text": [
      "2025-07-09 17:44:22 [TRACE]: step>> check_and_highlight\n",
      "2025-07-09 17:44:31 [SAVE]: Report:Sheet Name -> 16_29-Feb-20_FS.pdf.pdf Saved.\n",
      "2025-07-09 17:44:31 [TRACE]: step>> get_data\n",
      "2025-07-09 17:44:31 [TRACE]: step>> get_generated_content\n"
     ]
    }
   ],
   "source": [
    "\"\"\"BANDHAN MF FILE MAIN CODE\"\"\"\n",
    "amc_id = '16_0'\n",
    "# logging.info(f\"User Ran Fund Data of {amc_name}\")\n",
    "# fund_name, path= mutual_fund[amc_id]\n",
    "object = Bandhan(fund_name,amc_id,path,logger)\n",
    "title,path_pdf = object.check_and_highlight(path)\n",
    "data  = object.get_data(path_pdf,title)\n",
    "extracted_text = object.get_generated_content(data)"
   ]
  },
  {
   "cell_type": "code",
   "execution_count": null,
   "metadata": {},
   "outputs": [
    {
     "name": "stderr",
     "output_type": "stream",
     "text": [
      "2025-07-09 17:44:43 [TRACE]: step>> refine_extracted_data\n",
      "2025-07-09 17:44:43 [TRACE]: step>> merge_and_select_data\n"
     ]
    }
   ],
   "source": [
    "object = Bandhan(fund_name,amc_id,path,logger)\n",
    "final_text = object.refine_extracted_data(extracted_text)\n",
    "dfs = object.merge_and_select_data(final_text)"
   ]
  },
  {
   "cell_type": "code",
   "execution_count": 24,
   "metadata": {},
   "outputs": [
    {
     "name": "stdout",
     "output_type": "stream",
     "text": [
      "\u001b[37m2025-07-22 13:52:45 [TRACE]: step>> check_and_highlight\u001b[0m\n",
      "\u001b[32m2025-07-22 13:52:45 [INFO]: Getting All titles : _get_normal_title\u001b[0m\n",
      "\n",
      "CIO LETTER - March 2020\n",
      "\n",
      "How To Read Factsheet\n",
      "Baroda Multi Cap Fund Multi Cap Fund - An open ended equity scheme investing across large  cap mid-cap and small cap stocks 31 March 2020\n",
      ">>Baroda Multi Cap Fund\n",
      "\u001b[37m2025-07-22 13:52:45 [TRACE]: >>Baroda Multi Cap Fund\u001b[0m\n",
      "Baroda ELSS 96 An open ended equity linked saving scheme with a statutory lock in of 3 years  and tax benefit 31 March 2020\n",
      ">>Baroda ELSS 96\n",
      "\u001b[37m2025-07-22 13:52:45 [TRACE]: >>Baroda ELSS 96\u001b[0m\n",
      "Baroda Mid-Cap Fund Mid Cap Fund  An open-ended equity scheme pre-dominantly  investing in mid cap stocks 31 March 2020\n",
      ">>Baroda Mid-Cap Fund\n",
      "\u001b[37m2025-07-22 13:52:45 [TRACE]: >>Baroda Mid-Cap Fund\u001b[0m\n",
      "Baroda Large Cap Fund Large Cap Fund  An open-ended equity scheme pre-dominantly  investing in large cap stocks 31 March 2020\n",
      ">>Baroda Large Cap Fund\n",
      "\u001b[37m2025-07-22 13:52:45 [TRACE]: >>Baroda Large Cap Fund\u001b[0m\n",
      "Baroda Banking and Financial Services Fund An open ended equity scheme investing in the Banking and Financial  Services sector 31 March 2020\n",
      ">>Baroda Banking and Financial Services Fund\n",
      "\u001b[37m2025-07-22 13:52:45 [TRACE]: >>Baroda Banking and Financial Services Fund\u001b[0m\n",
      "Baroda Hybrid Equity Fund An open ended hybrid scheme investing predominantly in equity and equity  related instruments 31 March 2020\n",
      ">>Baroda Hybrid Equity Fund\n",
      "\u001b[37m2025-07-22 13:52:45 [TRACE]: >>Baroda Hybrid Equity Fund\u001b[0m\n",
      "Baroda Dynamic Equity Fund An open ended dynamic asset allocation fund 31 March 2020\n",
      ">>Baroda Dynamic Equity Fund\n",
      "\u001b[37m2025-07-22 13:52:45 [TRACE]: >>Baroda Dynamic Equity Fund\u001b[0m\n",
      "Baroda Equity Savings Fund An open-ended scheme investing in equity arbitrage and debt instruments 31 March 2020\n",
      ">>Baroda Equity Savings Fund\n",
      "\u001b[37m2025-07-22 13:52:45 [TRACE]: >>Baroda Equity Savings Fund\u001b[0m\n",
      "Baroda Conservative Hybrid Fund An open ended hybrid scheme investing pre-dominantly  in debt instruments 31 March 2020\n",
      ">>Baroda Conservative Hybrid Fund\n",
      "\u001b[37m2025-07-22 13:52:45 [TRACE]: >>Baroda Conservative Hybrid Fund\u001b[0m\n",
      "Baroda Credit Risk Fund (scheme has one segregated portfolio) An open ended debt scheme predominantly investing in AA and below rated corporate bonds (Excluding AA+ rated corporate bonds) 31 March 2020\n",
      ">>Baroda Credit Risk Fund\n",
      "\u001b[37m2025-07-22 13:52:45 [TRACE]: >>Baroda Credit Risk Fund\u001b[0m\n",
      "Baroda Gilt Fund An open ended debt scheme investing in government securities across maturity 31 March 2020\n",
      ">>Baroda Gilt Fund\n",
      "\u001b[37m2025-07-22 13:52:45 [TRACE]: >>Baroda Gilt Fund\u001b[0m\n",
      "Baroda Dynamic Bond Fund+ An open-ended dynamic debt scheme investing across duration 31 March 2020\n",
      ">>Baroda Dynamic Bond Fund\n",
      "\u001b[37m2025-07-22 13:52:45 [TRACE]: >>Baroda Dynamic Bond Fund\u001b[0m\n",
      "Baroda Short Term Bond Fund An open-ended short term debt scheme investing in instruments such that the  Macaulay duration of the portfolio is between 1 year  and 3 years (please refer to pg 36 of SID) 31 March 2020\n",
      ">>Baroda Short Term Bond Fund\n",
      "\u001b[37m2025-07-22 13:52:45 [TRACE]: >>Baroda Short Term Bond Fund\u001b[0m\n",
      "Baroda Treasury Advantage Fund (scheme has one segregated portfolio) An open-ended low duration debt scheme investing in instruments such that the Macaulay duration of the  portfolio is between 6 months and 12 months (please refer to pg 38  of SID) 31 March 2020\n",
      ">>Baroda Treasury Advantage Fund\n",
      "\u001b[37m2025-07-22 13:52:45 [TRACE]: >>Baroda Treasury Advantage Fund\u001b[0m\n",
      "Baroda Ultra Short Duration Fund (An open ended ultra short term debt scheme investing in instruments such that the Macaulay  duration of the portfolio is between 3 months and 6 months)  (please refer to pg 37 of SID) 31 March 2020\n",
      ">>Baroda Ultra Short Duration Fund\n",
      "\u001b[37m2025-07-22 13:52:45 [TRACE]: >>Baroda Ultra Short Duration Fund\u001b[0m\n",
      "Baroda Liquid Fund An open ended liquid scheme 31 March 2020\n",
      ">>Baroda Liquid Fund\n",
      "\u001b[37m2025-07-22 13:52:45 [TRACE]: >>Baroda Liquid Fund\u001b[0m\n",
      "Baroda Overnight Fund (An open-ended debt scheme investing in overnight securities) 31 March 2020\n",
      ">>Baroda Overnight Fund\n",
      "\u001b[37m2025-07-22 13:52:45 [TRACE]: >>Baroda Overnight Fund\u001b[0m\n",
      "Baroda Money Market Fund An open ended debt scheme investing in money market instruments 31 March 2020\n",
      ">>Baroda Money Market Fund\n",
      "\u001b[37m2025-07-22 13:52:45 [TRACE]: >>Baroda Money Market Fund\u001b[0m\n",
      "Investment Performance\n",
      "Investment Performance\n",
      "Investment Performance\n",
      "SIP Returns\n",
      "Dividend History\n",
      "KFIN Technologies Private Limited (Formerly known as Karvy Fintech Private Limited) Address and Contact details MFS Branches\n",
      "\u001b[37m2025-07-22 13:52:48 [TRACE]: step>> get_data\u001b[0m\n",
      "\u001b[37m2025-07-22 13:52:48 [TRACE]: step>> get_generated_content\u001b[0m\n"
     ]
    }
   ],
   "source": [
    "\"\"\" BARODA BNP MAIN FILE CODE\"\"\"\n",
    "\n",
    "# amc_name = 'Baroda Bnp Paribas Mutual Fund'\n",
    "# logging.info(f\"User Ran Fund Data of {amc_name}\")\n",
    "# path = mutual_fund[amc_name]\n",
    "amc_id = \"2_0\"\n",
    "fund_name, path = \"Baroda BNP Mutual Fund\",r\"C:\\Users\\kaustubh.keny\\OneDrive - Cogencis Information Services Ltd\\Documents\\2020\\Baroda BNP Paribas Mutual Fund\\2_30_Mar_20_FS.pdf\"\n",
    "object = BarodaBNP(fund_name,amc_id,path,logger)\n",
    "title,path_pdf= object.check_and_highlight(path)\n",
    "data  = object.get_data(path_pdf,title)\n",
    "extracted_text = object.get_generated_content(data)"
   ]
  },
  {
   "cell_type": "code",
   "execution_count": 25,
   "metadata": {},
   "outputs": [
    {
     "name": "stdout",
     "output_type": "stream",
     "text": [
      "\u001b[37m2025-07-22 13:53:10 [TRACE]: step>> refine_extracted_data\u001b[0m\n",
      "\u001b[37m2025-07-22 13:53:10 [TRACE]: step>> merge_and_select_data\u001b[0m\n"
     ]
    }
   ],
   "source": [
    "object = BarodaBNP(fund_name,amc_id,path,logger)\n",
    "final_text = object.refine_extracted_data(extracted_text)\n",
    "dfs = object.merge_and_select_data(final_text)\n"
   ]
  },
  {
   "cell_type": "code",
   "execution_count": 26,
   "metadata": {},
   "outputs": [
    {
     "name": "stdout",
     "output_type": "stream",
     "text": [
      "File Saved At: C:\\Users\\kaustubh.keny\\Projects\\JSON25\\output\\json\\2_30_Mar_20_FS.json\n"
     ]
    }
   ],
   "source": [
    "save_path = os.path.join(object.JSONPATH, object.FILE_NAME).replace(\".pdf\", \".json\")\n",
    "with open(save_path, 'w') as f:\n",
    "  json.dump(dfs, f, indent=2)\n",
    "print(f\"File Saved At: {save_path}\")\n",
    "\n",
    "with open(\"data.json\", 'w') as f:\n",
    "  json.dump(final_text, f, indent=2)\n",
    "  \n",
    "with open(\"extract.json\", 'w') as f:\n",
    "  json.dump(extracted_text, f, indent=2)"
   ]
  },
  {
   "cell_type": "code",
   "execution_count": 7,
   "metadata": {},
   "outputs": [],
   "source": [
    "fund_name,path =\"BOI Mutual Fund\", r\"C:\\Users\\kaustubh.keny\\OneDrive - Cogencis Information Services Ltd\\Documents\\2020\\Bank of India Mutual Fund\\5_29-Feb-20_FS.pdf\""
   ]
  },
  {
   "cell_type": "code",
   "execution_count": null,
   "metadata": {},
   "outputs": [
    {
     "name": "stderr",
     "output_type": "stream",
     "text": [
      "2025-07-09 17:57:17 [TRACE]: step>> check_and_highlight\n",
      "2025-07-09 17:57:22 [SAVE]: Report:Sheet Name -> 5_29-Feb-20_FS.pdf Saved.\n",
      "2025-07-09 17:57:22 [TRACE]: step>> get_data\n",
      "2025-07-09 17:57:22 [TRACE]: step>> get_generated_content\n"
     ]
    }
   ],
   "source": [
    "\"\"\"BANK OF INDIA\"\"\"\n",
    "\n",
    "amc_id = '5_0'\n",
    "# logging.info(f\"User Ran Fund Data of {amc_name}\")\n",
    "# fund_name, path= mutual_fund[amc_id]\n",
    "object = BankOfIndia(fund_name,amc_id,path,logger)\n",
    "title,path_pdf = object.check_and_highlight(path)\n",
    "data = object.get_data(path_pdf,title)\n",
    "extracted_text = object.get_generated_content(data)\n"
   ]
  },
  {
   "cell_type": "code",
   "execution_count": null,
   "metadata": {},
   "outputs": [
    {
     "name": "stderr",
     "output_type": "stream",
     "text": [
      "2025-07-09 18:30:48 [TRACE]: step>> refine_extracted_data\n",
      "2025-07-09 18:30:48 [TRACE]: step>> merge_and_select_data\n"
     ]
    }
   ],
   "source": [
    "object = BankOfIndia(fund_name,amc_id,path,logger)\n",
    "final_text = object.refine_extracted_data(extracted_text)\n",
    "dfs = object.merge_and_select_data(final_text)"
   ]
  },
  {
   "cell_type": "code",
   "execution_count": null,
   "metadata": {},
   "outputs": [],
   "source": [
    "\"\"\"BAJAJ FINSERV MAIN FILE CODE\"\"\" \n",
    "\n",
    "amc_id = \"59_0\"\n",
    "# logging.info(f\"User Ran Fund Data of {amc_name}\")\n",
    "fund_name, path= mutual_fund[amc_id]\n",
    "object = BajajFinServ(fund_name,amc_id,path,logger)\n",
    "title,path_pdf= object.check_and_highlight(path)\n",
    "data = object.get_data(path_pdf,title)\n",
    "extracted_text = object.get_generated_content(data,is_table= object.MAIN_MAP[\"table\"])\n"
   ]
  },
  {
   "cell_type": "code",
   "execution_count": null,
   "metadata": {},
   "outputs": [],
   "source": [
    "object = BajajFinServ(fund_name,amc_id,path,logger)\n",
    "final_text = object.refine_extracted_data(extracted_text)\n",
    "dfs = object.merge_and_select_data(final_text, special_handling=True)"
   ]
  },
  {
   "cell_type": "code",
   "execution_count": 1,
   "metadata": {},
   "outputs": [],
   "source": [
    "fund_name, path = \"Canara Mutual Fund\", r\"C:\\Users\\kaustubh.keny\\OneDrive - Cogencis Information Services Ltd\\Documents\\2020\\Canara Robeco Mutual Fund\\6_29-Feb-20_FS.pdf.pdf\""
   ]
  },
  {
   "cell_type": "code",
   "execution_count": 6,
   "metadata": {},
   "outputs": [],
   "source": [
    "\"\"\"CANARA MUTUAL FUND\"\"\"\n",
    "amc_id = '6_0'\n",
    "# logging.info(f\"User Ran Fund Data of {amc_name}\")\n",
    "# fund_name, path= mutual_fund[amc_id]\n",
    "object = Canara(fund_name,amc_id,path,logger)\n",
    "title,path_pdf = object.check_and_highlight(path)\n",
    "data = object.get_data(path_pdf,title)\n",
    "extracted_text = object.get_generated_content(data)"
   ]
  },
  {
   "cell_type": "code",
   "execution_count": 10,
   "metadata": {},
   "outputs": [],
   "source": [
    "object =  Canara(fund_name,amc_id,path,logger)\n",
    "final_text = object.refine_extracted_data(extracted_text)\n",
    "dfs = object.merge_and_select_data(final_text)\n"
   ]
  },
  {
   "cell_type": "code",
   "execution_count": null,
   "metadata": {},
   "outputs": [],
   "source": [
    "\"\"\"DSP MAIN FILE CODE\"\"\"\n",
    "\n",
    "amc_id = '8_0'\n",
    "# logging.info(f\"User Ran Fund Data of {amc_name}\")\n",
    "# fund_name, path= mutual_fund[amc_id]\n",
    "fund_name, path = \"DSP Mutual Fund\", r\"C:\\Users\\kaustubh.keny\\OneDrive - Cogencis Information Services Ltd\\Documents\\2020\\DSP Mutual Fund\\8_29-Feb-20_FS.pdf\"\n",
    "object = DSP(fund_name,amc_id,path,logger)\n",
    "title,path_pdf = object.check_and_highlight(path)\n",
    "data = object.get_data(path_pdf,title)\n",
    "extracted_text = object.get_generated_content(data)"
   ]
  },
  {
   "cell_type": "code",
   "execution_count": 14,
   "metadata": {},
   "outputs": [],
   "source": [
    "object = DSP(fund_name,amc_id,path,logger)\n",
    "final_text = object.refine_extracted_data(extracted_text)\n",
    "dfs = object.merge_and_select_data(final_text)\n"
   ]
  },
  {
   "cell_type": "code",
   "execution_count": 15,
   "metadata": {},
   "outputs": [
    {
     "name": "stdout",
     "output_type": "stream",
     "text": [
      "File Saved At: C:\\Users\\kaustubh.keny\\Projects\\JSON25\\output\\json\\8_29-Feb-20_FS.json\n"
     ]
    }
   ],
   "source": [
    "save_path = os.path.join(object.JSONPATH, object.FILE_NAME).replace(\".pdf\", \".json\")\n",
    "with open(save_path, 'w') as f:\n",
    "  json.dump(dfs, f, indent=2)\n",
    "print(f\"File Saved At: {save_path}\")\n",
    "\n",
    "with open(\"data.json\", 'w') as f:\n",
    "  json.dump(final_text, f, indent=2)\n",
    "  \n",
    "with open(\"extract.json\", 'w') as f:\n",
    "  json.dump(extracted_text, f, indent=2)"
   ]
  },
  {
   "cell_type": "code",
   "execution_count": 91,
   "metadata": {},
   "outputs": [],
   "source": [
    "fund_name, path = \"Edelweiss Mutual Fund\", r\"C:\\Users\\kaustubh.keny\\OneDrive - Cogencis Information Services Ltd\\Documents\\2020\\Edelweiss Mutual Fund\\9_31-Dec-20_FS.pdf\""
   ]
  },
  {
   "cell_type": "code",
   "execution_count": 115,
   "metadata": {},
   "outputs": [
    {
     "name": "stdout",
     "output_type": "stream",
     "text": [
      "\n",
      "OUR PRODUCT SUIT\n",
      "Index\n",
      "Penned by the CEO\n",
      "J ohbqFkpfdeqp Market Insight\n",
      "Invest in the cogwheels  of the Indian economy Large Cap Fund An open ended equity scheme  predominantly investing in large  cap stocks\n",
      ">>Invest in the cogwheels of the Indian economy Large Cap Fund\n",
      "Large & Mid Cap  Fund An open ended equity scheme  investing in both large cap and  mid cap stocks Growth Engines of  Today and Tomorrow\n",
      ">>Large & Mid Cap Fund\n",
      "Multi-Cap Fund  An open ended equity scheme  investing across large cap mid cap  small cap stocks Opportunities come in  all shapes and sizes\n",
      ">>Multi-Cap Fund\n",
      "Identifying the  legends of tomorrow Mid Cap Fund An open ended equity scheme  predominantly investing in mid  cap stocks\n",
      ">>Identifying the legends of tomorrow Mid Cap Fund\n",
      "Small Cap Fund An open ended equity scheme predominantly investing in small cap stocks Small Steps Large Impact\n",
      ">>Small Cap Fund\n",
      "Dual benefit of Wealth creation and tax  saving  Long Term Equity  Fund (Tax Savings) An open ended equity linked saving  scheme with a statutory lock in of  3 years and tax benefit\n",
      ">>Dual benefit of Wealth creation and tax saving Long Term Equity Fund\n",
      "Make price difference  between markets work  for you Arbitrage Fund An open ended scheme investing in  arbitrage opportunities\n",
      ">>Make price difference between markets work for you Arbitrage Fund\n",
      "Triple the joy with growth  income and stability Equity Savings Fund An Open ended scheme investing in  equity arbitrage and debt\n",
      ">>Triple the joy with growth income and stability Equity Savings Fund\n",
      "Aggressive Hybrid Fund An open ended hybrid scheme investing  predominantly in equity and equity  related instruments\n",
      ">>Aggressive Hybrid Fund\n",
      "Navigate smoothly  between market ups  and downs Balanced Advantage  Fund An open ended dynamic asset allocation fund\n",
      ">>Navigate smoothly between market ups and downs Balanced Advantage Fund\n",
      "Overnight Fund An open-ended debt scheme investing in overnight securities\n",
      ">>Overnight Fund\n",
      "Aims for Safety  Liquidity and Returns Liquid Fund An open-ended liquid scheme\n",
      ">>Aims for Safety Liquidity and Returns Liquid Fund\n",
      "Make your savings  work hard Low Duration Fund An open ended low duration debt scheme investing in instruments such that  the Macaulay duration of the portfolio is between 6 months and 12 months (Please refer page no 14 of the SID) Low Duration Fund\n",
      ">>Make your savings work hard Low Duration Fund An open ended low duration debt scheme investing in instruments such that the Macaulay duration of the portfolio is between 6\n",
      "Money Market Fund An open ended debt scheme investing in money market instruments  Erstwhile known as Edelweiss Dynamic Bond Fund\n",
      ">>Money Market Fund\n",
      "Banking & PSU Debt Fund An open ended debt scheme predominantly investing in Debt Instruments of Banks Public Sector Undertakings Public Financial Institutions and Municipal Bonds\n",
      ">>Banking & PSU Debt Fund\n",
      "Investing in quality  Corporate Bonds Corporate Bond Fund An open-ended debt scheme  predominantly investing in AA+ and  above rated corporate bonds\n",
      ">>Investing in quality Corporate Bonds Corporate Bond Fund\n",
      "Government Securities Fund An open ended debt scheme investing in government  securities across maturity\n",
      ">>Government Securities Fund\n",
      "Bharat Bond ETF APRIL 2023 (An open ended Target Maturity Exchange Traded Bond Fund predominately investing in constituents of Nifty BHARAT Bond Index - April 2023)\n",
      ">>Bharat Bond ETF APRIL 2023\n",
      "Bharat Bond ETF APRIL 2030 (An open ended Target Maturity Exchange Traded Bond Fund predominately investing in constituents of Nifty BHARAT Bond Index - April 2030)\n",
      ">>Bharat Bond ETF APRIL 2030\n",
      "Bharat Bond ETF APRIL 2025 (An open ended Target Maturity Exchange Traded Bond Fund predominantly investing in constituents of Nifty BHARAT Bond Index - April 2025)\n",
      ">>Bharat Bond ETF APRIL 2025\n",
      "Bharat Bond ETF APRIL 2031 (An open ended Target Maturity Exchange Traded Bond Fund predominantly investing in constituents of Nifty BHARAT Bond Index - April 2031)\n",
      ">>Bharat Bond ETF APRIL 2031\n",
      "ETF - Nifty 50 An open ended scheme tracking Nifty 50 Index\n",
      ">>ETF - Nifty 50 An open ended scheme tracking Nifty 50\n",
      "ETF - Nifty Bank An open ended scheme tracking Nifty Bank Index\n",
      ">>ETF - Nifty Bank\n",
      "ETF - Nifty 100 Quality 30 An open ended scheme tracking Nifty 100 Quality 30 Index\n",
      ">>ETF - Nifty 100 Quality 30 An open ended scheme tracking Nifty 100\n",
      "MSCI India Domestic & World Healthcare 45 Index Fund   An open ended Equity scheme replicating MSCI India Domestic & World Healthcare 45 Index\n",
      ">>MSCI India Domestic & World Healthcare 45 Index Fund\n",
      "Bharat Bond FOF APRIL 2023 (An open-ended Target Maturity fund of funds scheme investing in units  of BHARAT Bond ETF k April 2023)\n",
      ">>Bharat Bond FOF APRIL 2023\n",
      "Bharat Bond FOF APRIL 2030 (An open-ended Target Maturity fund of funds scheme investing in units  of BHARAT Bond ETF k April 2030)\n",
      ">>Bharat Bond FOF APRIL 2030\n",
      "BHARAT Bond FOF k APRIL 2025 (An open-ended Target Maturity fund of funds scheme  investing in units of BHARAT Bond ETF k April 2025)\n",
      ">>BHARAT Bond FOF k APRIL 2025\n",
      "BHARAT Bond FOF k APRIL 2031 (An open-ended Target Maturity fund of funds scheme  investing in units of BHARAT Bond ETF k April 2031)\n",
      ">>BHARAT Bond FOF k APRIL 2031\n",
      "Asean Equity Off-Shore Fund An open ended fund of fund scheme investing in  JPMorgan Funds k ASEAN Equity Fund\n",
      ">>Asean Equity Off-Shore Fund\n",
      "Greater China Equity Off-Shore Fund An open ended fund of fund scheme investing in  JPMorgan Funds k Greater China Fund\n",
      ">>Greater China Equity Off-Shore Fund\n",
      "Europe Dynamic Equity Off-Shore Fund An open ended fund of fund scheme investing in JPMorgan Funds k  Europe Dynamic Fund\n",
      ">>Europe Dynamic Equity Off-Shore Fund\n",
      "Emerging Markets Opportunities  Equity Offshore Fund An open ended fund of fund scheme investing in JPMorgan Funds k Emerging Market Opportunities Fund\n",
      ">>Emerging Markets Opportunities Equity Offshore Fund\n",
      "US Value Equity Off-Shore Fund An open ended fund of fund scheme investing in JPMorgan Funds k US Value Fund\n",
      ">>US Value Equity Off-Shore Fund\n",
      "US Technology Equity Fund of Fund (An open ended fund of fund scheme investing in JPMorgan Funds -  US Technology Fund)\n",
      ">>US Technology Equity Fund of Fund\n",
      "SIP Performance  (as on November 27 2020)\n",
      "Fund Performance - Direct Plan  (as on November 27 2020)\n",
      ">>Fund Performance - Direct Plan\n",
      "Fund Performance - Direct Plan  (as on November 27 2020)\n",
      ">>Fund Performance - Direct Plan\n",
      "Dividend History\n",
      "Dividend History\n",
      "Performance Disclosure\n",
      "Investing made simple\n",
      "HOW TO READ A FACTSHEET\n",
      "EDELWEISSASSETMANAGEMENTLIMITED-ISCOPA Ahmedabad 404 Ten-11 4th Floor Next to maradia Plaza Opp Yes Bank CG Road Ahmedabad - 380 006 Tel No 079-68140 Bengaluru  Unit No 803 & 804 8th floor Prestige Meridian-II No20  MG Road Bangalore -560001 Tel No  080-41103389 INVESTORSERVICECENTERS(ISC)OFFICIALPOIN\n",
      "Note\n",
      "Note\n",
      "Note\n",
      "\n"
     ]
    }
   ],
   "source": [
    "\"\"\"EDELWEISS MP FILE MAIN CODE\"\"\"\n",
    "\n",
    "amc_id = '9_0'\n",
    "# logging.info(f\"User Ran Fund Data of {amc_name}\")\n",
    "# fund_name, path= mutual_fund[amc_id]\n",
    "object = Edelweiss(fund_name,amc_id,path,logger)\n",
    "title,path_pdf = object.check_and_highlight(path)\n",
    "data = object.get_data(path_pdf,title)\n",
    "extracted_text = object.get_generated_content(data)"
   ]
  },
  {
   "cell_type": "code",
   "execution_count": 124,
   "metadata": {},
   "outputs": [],
   "source": [
    "object = Edelweiss(fund_name,amc_id,path,logger)\n",
    "final_text = object.refine_extracted_data(extracted_text)\n",
    "dfs = object.merge_and_select_data(final_text)"
   ]
  },
  {
   "cell_type": "code",
   "execution_count": 125,
   "metadata": {},
   "outputs": [
    {
     "name": "stdout",
     "output_type": "stream",
     "text": [
      "File Saved At: C:\\Users\\kaustubh.keny\\Projects\\JSON25\\output\\jsontest\\9_31-Dec-20_FS.json\n"
     ]
    }
   ],
   "source": [
    "save_path = os.path.join(object.JSONPATH, object.FILE_NAME).replace(\".pdf\", \".json\")\n",
    "with open(save_path, 'w') as f:\n",
    "  json.dump(dfs, f, indent=2)\n",
    "print(f\"File Saved At: {save_path}\")\n",
    "\n",
    "with open(\"data.json\", 'w') as f:\n",
    "  json.dump(final_text, f, indent=2)\n",
    "  \n",
    "with open(\"extract.json\", 'w') as f:\n",
    "  json.dump(extracted_text, f, indent=2)"
   ]
  },
  {
   "cell_type": "code",
   "execution_count": 1,
   "metadata": {},
   "outputs": [],
   "source": [
    "fund_name,path = \"Franklin Templeton Mutual Fund\",r\"C:\\Users\\kaustubh.keny\\OneDrive - Cogencis Information Services Ltd\\Documents\\2020\\Franklin Templeton Mutual Fund\\11_31-Dec-20_FS.pdf.pdf\""
   ]
  },
  {
   "cell_type": "code",
   "execution_count": null,
   "metadata": {},
   "outputs": [],
   "source": [
    "\"\"\"FRANKLIN TEMPLETON FILE MAIN CODE\"\"\"\n",
    "\n",
    "amc_id = '11_0'\n",
    "# logging.info(f\"User Ran Fund Data of {amc_name}\")\n",
    "# fund_name, path= mutual_fund[amc_id]\n",
    "object = FranklinTempleton(fund_name,amc_id,path,logger)\n",
    "title,path_pdf = object.check_and_highlight(path)\n",
    "data = object.get_data(path_pdf,title)\n"
   ]
  },
  {
   "cell_type": "code",
   "execution_count": 13,
   "metadata": {},
   "outputs": [],
   "source": [
    "object = FranklinTempleton(fund_name,amc_id,path,logger)\n",
    "extracted_text = object.get_generated_content(data)\n",
    "final_text = object.refine_extracted_data(extracted_text)\n",
    "dfs = object.merge_and_select_data(final_text)\n"
   ]
  },
  {
   "cell_type": "code",
   "execution_count": 14,
   "metadata": {},
   "outputs": [
    {
     "name": "stdout",
     "output_type": "stream",
     "text": [
      "File Saved At: C:\\Users\\kaustubh.keny\\Projects\\JSON25\\output\\json\\11_31-Dec-20_FS.json.json\n"
     ]
    }
   ],
   "source": [
    "save_path = os.path.join(object.JSONPATH, object.FILE_NAME).replace(\".pdf\", \".json\")\n",
    "with open(save_path, 'w') as f:\n",
    "  json.dump(dfs, f, indent=2)\n",
    "print(f\"File Saved At: {save_path}\")\n",
    "\n",
    "with open(\"data.json\", 'w') as f:\n",
    "  json.dump(final_text, f, indent=2)\n",
    "  \n",
    "with open(\"extract.json\", 'w') as f:\n",
    "  json.dump(extracted_text, f, indent=2)"
   ]
  },
  {
   "cell_type": "code",
   "execution_count": null,
   "metadata": {},
   "outputs": [],
   "source": [
    "\"\"\"GROWW MUTUAL FUND MAIN CODE\"\"\"# pages = [13, 14, 15, 16, 17, 18, 19, 20, 21, 22, 23, 24, 26, 28, 29, 30, 32, 33, 34, 35, 36, 37, 38, 39, 40, 41, 42]\n",
    "\n",
    "amc_id = '20_0'\n",
    "# logging.info(f\"User Ran Fund Data of {amc_name}\")\n",
    "fund_name, path= mutual_fund[amc_id]\n",
    "object = GROWW(fund_name,amc_id,path,logger)\n",
    "title,path_pdf = object.check_and_highlight(path)\n",
    "data = object.get_data(path_pdf,title)\n",
    "extracted_text = object.get_generated_content(data)"
   ]
  },
  {
   "cell_type": "code",
   "execution_count": 36,
   "metadata": {},
   "outputs": [],
   "source": [
    "fund_name,path = \"HDFC Mutual Fund\", r\"C:\\Users\\kaustubh.keny\\OneDrive - Cogencis Information Services Ltd\\Documents\\2020\\HDFC Mutual Fund\\12_29-Feb-20_FS.pdf.pdf\""
   ]
  },
  {
   "cell_type": "code",
   "execution_count": 47,
   "metadata": {},
   "outputs": [
    {
     "name": "stdout",
     "output_type": "stream",
     "text": [
      ">>\n",
      ">>\n",
      ">>\n",
      ">>\n",
      ">>\n",
      ">>HDFC Equity Fund\n",
      ">>HDFC Capital Builder Value Fund\n",
      ">>HDFC Top 100 Fund\n",
      ">>HDFC Mid Cap Opportunities Fund\n",
      ">>HDFC Small Cap Fund\n",
      ">>HDFC Growth Opportunities Fund\n",
      ">>HDFC Focused 30 Fund\n",
      ">>HDFC Infrastructure Fund\n",
      ">>HDFC Balanced Advantage Fund\n",
      ">>HDFC Balanced Advantage Fund\n",
      ">>HDFC Hybrid Equity Fund\n",
      ">>HDFC Hybrid Equity Fund\n",
      ">>HDFC Multi-Asset Fund\n",
      ">>HDFC Multi-Asset Fund\n",
      ">>HDFC NIFTY 50 ETF\n",
      ">>HDFC Index Fund - NIFTY 50 Plan\n",
      ">>HDFC SENSEX ETF\n",
      ">>HDFC Index Fund - SENSEX Plan\n",
      ">>HDFC TaxSaver\n",
      ">>HDFC Childrens Gift Fund\n",
      ">>HDFC Childrens Gift Fund\n",
      ">>HDFC Retirement Savings Fund - Equity Plan\n",
      ">>HDFC Retirement Savings Fund - Hybrid Equity Plan\n",
      ">>HDFC Retirement Savings Fund - Hybrid Equity Plan\n",
      ">>HDFC Retirement Savings Fund - Hybrid Debt Plan\n",
      ">>HDFC Equity Savings Fund\n",
      ">>HDFC Equity Savings Fund\n",
      ">>HDFC Hybrid Debt Fund\n",
      ">>HDFC Hybrid Debt Fund\n",
      ">>HDFC Arbitrage Fund\n",
      ">>HDFC Arbitrage Fund\n",
      ">>HDFC Corporate Bond Fund\n",
      ">>HDFC Credit Risk Debt Fund\n",
      ">>HDFC Credit Risk Debt Fund\n",
      ">>HDFC Banking and PSU Debt Fund\n",
      ">>HDFC Gilt Fund\n",
      ">>HDFC Dynamic Debt Fund\n",
      ">>HDFC Income Fund\n",
      ">>HDFC Medium Term Debt Fund\n",
      ">>HDFC Short Term Debt Fund\n",
      ">>HDFC Low Duration Fund\n",
      ">>HDFC Money Market Fund\n",
      ">>HDFC Floating Rate Debt Fund\n",
      ">>HDFC Ultra Short Term Fund\n",
      ">>HDFC Liquid Fund\n",
      ">>HDFC Liquid Fund\n",
      ">>HDFC Overnight Fund\n",
      ">>\n",
      ">>\n",
      ">>\n",
      ">>\n",
      ">>\n",
      ">>\n",
      ">>\n",
      ">>\n",
      ">>\n",
      ">>\n",
      ">>\n",
      ">>\n",
      ">>\n",
      ">>\n",
      ">>\n",
      ">>\n",
      ">>\n",
      ">>\n",
      ">>\n",
      ">>\n"
     ]
    }
   ],
   "source": [
    "\"\"\"HDFC MUTUAL FUND\"\"\"\n",
    "\n",
    "amc_id = \"12_0\"\n",
    "object = HDFC(fund_name,amc_id,path,logger)\n",
    "title,path_pdf= object.check_and_highlight(path)\n",
    "\n",
    "data = object.get_data(path_pdf,title)\n",
    "extracted_text = object.get_generated_content(data)"
   ]
  },
  {
   "cell_type": "code",
   "execution_count": 79,
   "metadata": {},
   "outputs": [],
   "source": [
    "object = HDFC(fund_name,amc_id,path,logger)\n",
    "final_text = object.refine_extracted_data(extracted_text)\n",
    "dfs = object.merge_and_select_data(final_text)\n"
   ]
  },
  {
   "cell_type": "code",
   "execution_count": null,
   "metadata": {},
   "outputs": [],
   "source": [
    "\"\"\"HDFC MUTUAL FUND PASSIVE\"\"\" # pages = [5, 6, 8, 10, 11, 12, 13, 14, 15, 16, 17, 18, 19, 20, 21, 22, 23, 24, 25, 26, 27, 28, 29, 30, 31, 32, 33, 34, 35, 36, 37, 38, 39, 40, 41, 42, 43, 44, 45, 46, 47, 48, 49, 50, 51]\n",
    "\n",
    "amc_name = \"Hdfc Mutual Fund Passive\"\n",
    "logging.info(f\"User Ran Fund Data of {amc_name}\")\n",
    "path = mutual_fund[amc_name]\n",
    "object = HDFC(amc_name,path)\n",
    "title,path_pdf= object.check_and_highlight(path)\n",
    "\n",
    "data = object.get_data(path_pdf,title)\n",
    "extracted_text = object.get_generated_content(data)\n",
    "final_text = object.refine_extracted_data(extracted_text,flatten = True)\n",
    "dfs = object.merge_and_select_data(final_text, select = True,special_handling=True)\n",
    "Helper.quick_json_dump(dfs,object.JSONPATH)"
   ]
  },
  {
   "cell_type": "code",
   "execution_count": null,
   "metadata": {},
   "outputs": [],
   "source": [
    "\"\"\"HELIOS MF FILE MAIN CODE\"\"\" # pages = [2, 4, 6, 8,10]\n",
    "\n",
    "amc_id = '60_0'\n",
    "# logging.info(f\"User Ran Fund Data of {amc_name}\")\n",
    "fund_name, path= mutual_fund[amc_id]\n",
    "object = Helios(fund_name,amc_id,path,logger)\n",
    "title,path_pdf = object.check_and_highlight(path)\n",
    "data = object.get_data(path_pdf,title)\n",
    "extracted_text = object.get_generated_content(data)\n",
    "final_text = object.refine_extracted_data(extracted_text)\n",
    "dfs = object.merge_and_select_data(final_text)\n"
   ]
  },
  {
   "cell_type": "code",
   "execution_count": 17,
   "metadata": {},
   "outputs": [],
   "source": [
    "fund_name,path = \"ICICI Mutual Fund\", r\"C:\\Users\\kaustubh.keny\\OneDrive - Cogencis Information Services Ltd\\Documents\\2020\\ICICI Prudential Mutual Fund\\14_30-Jun-20_1_FS.pdf\""
   ]
  },
  {
   "cell_type": "code",
   "execution_count": 83,
   "metadata": {},
   "outputs": [
    {
     "name": "stdout",
     "output_type": "stream",
     "text": [
      ">>ICICI P d i l Bl hi F d IPBLUE L C F d A d d i h d i l i i i l k Fund\n",
      ">>ICICI Prudential Medium Term Bond Fund\n",
      ">>ICICI Prudential Bluechip Fund\n",
      ">>ICICI Prudential Large & Mid Cap Fund\n",
      ">>ICICI Prudential Multicap Fund\n",
      ">>ICICI Prudential India Opportunities Fund\n",
      ">>ICICI Prudential Value Discovery Fund\n",
      ">>ICICI Prudential Long Term Equity Fund\n",
      ">>ICICI Prudential Focused Equity Fund\n",
      ">>ICICI Prudential Dividend Yield Equity Fund\n",
      ">>ICICI Prudential Midcap Fund\n",
      ">>ICICI Prudential Smallcap Fund\n",
      ">>ICICI Prudential Banking & Financial Services Fund\n",
      ">>ICICI Prudential FMCG Fund\n",
      ">>ICICI Prudential Technology Fund\n",
      ">>ICICI Prudential Pharma Healthcare and Diagnostics (PHD) Fund\n",
      ">>ICICI Prudential Exports and Services Fund\n",
      ">>ICICI Prudential Infrastructure Fund\n",
      ">>ICICI Prudential Manufacture in India Fund\n",
      ">>ICICI Prudential MNC Fund\n",
      ">>ICICI Prudential Bharat Consumption Fund\n",
      ">>ICICI Prudential Commodities Fund\n",
      ">>ICICI Prudential Global Stable Equity Fund\n",
      ">>ICICI Prudential US Bluechip Equity Fund\n",
      ">>ICICI Prudential Growth Fund Series 1\n",
      ">>ICICI Prudential Growth Fund Series 2\n",
      ">>ICICI Prudential Growth Fund Series 3\n",
      ">>ICICI Prudential Value Fund Series 8\n",
      ">>ICICI Prudential Value Fund - Series 12\n",
      ">>ICICI Prudential Value Fund - Series 13\n",
      ">>ICICI Prudential Value Fund - Series 14\n",
      ">>ICICI Prudential Value Fund - Series 15\n",
      ">>ICICI Prudential Value Fund - Series 16\n",
      ">>ICICI Prudential Value Fund - Series 17\n",
      ">>ICICI Prudential Value Fund - Series 18\n",
      ">>ICICI Prudential Value Fund - Series 19\n",
      ">>ICICI Prudential Value Fund - Series 20\n",
      ">>ICICI Prudential Bharat Consumption Fund - Series 1\n",
      ">>ICICI Prudential Bharat Consumption Fund - Series 2\n",
      ">>ICICI Prudential Bharat Consumption Fund - Series 3\n",
      ">>ICICI Prudential Bharat Consumption Fund - Series 4\n",
      ">>ICICI Prudential Bharat Consumption Fund - Series 5\n",
      ">>ICICI Prudential Long Term Wealth Enhancement Fund\n",
      ">>ICICI Prudential Equity & Debt Fund\n",
      ">>ICICI Prudential Equity & Debt Fund\n",
      ">>ICICI Prudential Equity - Arbitrage Fund\n",
      ">>ICICI Prudential Equity - Arbitrage Fund\n",
      ">>ICICI Prudential Balanced Advantage Fund\n",
      ">>ICICI Prudential Balanced Advantage Fund\n",
      ">>ICICI Prudential Equity Savings Fund\n",
      ">>ICICI Prudential Equity Savings Fund\n",
      ">>ICICI Prudential Regular Savings Fund\n",
      ">>ICICI Prudential Multi-Asset Fund (erstwhile ICICI Prudential Dynamic Plan\n",
      ">>ICICI Prudential Multi-Asset Fund (erstwhile ICICI Prudential Dynamic Plan\n",
      ">>ICICI Prudential Advisor Series -\n",
      ">>ICICI Prudential Child Care Fund (Gift Plan\n",
      ">>ICICI Prudential Retirement Fund - Pure Equity Plan\n",
      ">>ICICI Prudential Retirement Fund - Hybrid Aggressive Plan\n",
      ">>ICICI Prudential Retirement Fund - Hybrid Conservative Plan\n",
      ">>ICICI Prudential Retirement Fund - Pure Debt Plan\n",
      ">>ICICI Prudential Overnight Fund\n",
      ">>ICICI Prudential Ultra Short Term Fund\n",
      ">>ICICI Prudential Savings Fund (Formerly known as ICICI Prudential Flexible Income Plan\n",
      ">>ICICI Prudential Savings Fund (Formerly known as ICICI Prudential Flexible Income Plan\n",
      ">>ICICI Prudential Floating Interest Fund\n",
      ">>ICICI Prudential Floating Interest Fund\n",
      ">>ICICI Prudential Short Term Fund (erstwhile ICICI Prudential Short Term Plan\n",
      ">>ICICI Prudential Short Term Fund (erstwhile ICICI Prudential Short Term Plan\n",
      ">>ICICI Prudential Bond Fund\n",
      ">>ICICI Prudential Corporate Bond Fund (erstwhile ICICI Prudential Ultra Short Term Plan\n",
      ">>ICICI Prudential Corporate Bond Fund (erstwhile ICICI Prudential Ultra Short Term Plan\n",
      ">>ICICI Prudential Banking & PSU Debt Fund\n",
      ">>ICICI Prudential Credit Risk Fund\n",
      ">>ICICI Prudential Credit Risk Fund\n",
      ">>ICICI Prudential Medium Term Bond Fund\n",
      ">>ICICI Prudential Long Term Bond Fund (erstwhile ICICI Prudential Income Plan\n",
      ">>ICICI Prudential All Seasons Bond Fund (erstwhile ICICI Prudential Long Term Plan\n",
      ">>ICICI Prudential Gilt Fund\n",
      ">>ICICI Prudential Constant Maturity Gilt Fund\n",
      ">>ICICI Prudential Nifty 100 ETF\n",
      ">>ICICI Prudential Nifty 100 ETF\n",
      ">>ICICI Prudential Nifty Index Fund\n",
      ">>ICICI Prudential Nifty ETF\n",
      ">>ICICI Prudential Nifty Low Vol 30 ETF\n",
      ">>ICICI Prudential Nifty Next 50 Index Fund\n",
      ">>ICICI Prudential Sensex Index Fund\n",
      ">>ICICI Prudential NV20 ETF\n",
      ">>ICICI Prudential Sensex ETF\n",
      ">>ICICI Prudential Midcap Select ETF\n",
      ">>ICICI Prudential Midcap 150 ETF\n",
      ">>ICICI Prudential Midcap 150 ETF\n",
      ">>BHARAT 22 ETF\n",
      ">>ICICI Prudential S&P BSE 500 ETF\n",
      ">>ICICI Prudential S&P BSE 500 ETF\n",
      ">>ICICI Prudential S&P BSE 500 ETF\n",
      ">>ICICI Prudential Nifty Next 50 ETF\n",
      ">>ICICI Prudential Bank ETF\n",
      ">>ICICI Prudential Private Banks ETF\n",
      ">>ICICI Prudential Liquid ETF\n",
      ">>ICICI Prudential Gold ETF\n",
      ">>ICICI Prudential Regular Gold Savings Fund\n",
      ">>ICICI Prudential BHARAT 22 FOF\n",
      ">>ICICI Prudential Fund\n",
      ">>ICICI Prudential Fund\n",
      ">>ICICI Prudential Fixed Maturity Plan\n",
      ">>ICICI Prudential Fixed Maturity Plan\n",
      ">>ICICI Prudential Fixed Maturity Plan\n",
      ">>ICICI Prudential Fixed Maturity Plan\n",
      ">>ICICI Prudential Fixed Maturity Plan\n",
      ">>ICICI Prudential Fixed Maturity Plan\n",
      ">>ICICI Prudential Multiple Yield Funds\n",
      ">>ICICI Prudential Capital Protection Oriented Funds\n",
      ">>ICICI Prudential Fund\n",
      ">>ICICI Prudential Mutual Fund\n",
      ">>ICICI Prudential Mutual Fund\n"
     ]
    }
   ],
   "source": [
    "\"\"\" ICICI MF MAIN FILE CODE\"\"\"\n",
    "\n",
    "amc_id = '14_1'\n",
    "# logging.info(f\"User Ran Fund Data of {amc_name}\")\n",
    "# fund_name, path= mutual_fund[amc_id]\n",
    "object = ICICI(fund_name,amc_id,path,logger)\n",
    "title,path_pdf = object.check_and_highlight(path)\n",
    "data = object.get_data(path_pdf,title)\n",
    "extracted_text = object.get_generated_content(data)"
   ]
  },
  {
   "cell_type": "code",
   "execution_count": 93,
   "metadata": {},
   "outputs": [],
   "source": [
    "object = ICICI(fund_name,amc_id,path,logger)\n",
    "final_text = object.refine_extracted_data(extracted_text)\n",
    "dfs = object.merge_and_select_data(final_text)"
   ]
  },
  {
   "cell_type": "code",
   "execution_count": 94,
   "metadata": {},
   "outputs": [
    {
     "name": "stdout",
     "output_type": "stream",
     "text": [
      "File Saved At: C:\\Users\\kaustubh.keny\\Projects\\JSON25\\output\\jsontest\\14_30-Jun-20_1_FS.json\n"
     ]
    }
   ],
   "source": [
    "save_path = os.path.join(object.JSONPATH, object.FILE_NAME).replace(\".pdf\", \".json\")\n",
    "with open(save_path, 'w') as f:\n",
    "  json.dump(dfs, f, indent=2)\n",
    "print(f\"File Saved At: {save_path}\")\n",
    "\n",
    "with open(\"data.json\", 'w') as f:\n",
    "  json.dump(final_text, f, indent=2)\n",
    "  \n",
    "with open(\"extract.json\", 'w') as f:\n",
    "  json.dump(extracted_text, f, indent=2)"
   ]
  },
  {
   "cell_type": "code",
   "execution_count": null,
   "metadata": {},
   "outputs": [],
   "source": [
    "\"\"\" ICICI MF MAIN FILE CODE PASSIVE\"\"\"# pages = [8, 9, 11, 13, 15, 16, 17, 18, 19, 20, 21, 22, 23, 24, 25, 27, 28, 29, 30, 31, 32, 33, 34, 35, 36, 37, 39, 40, 41, 42, 43, 44, 46, 47, 49, 51, 53, 55, 56, 58, 59, 60, 62, 64, 65, 66, 67, 68, 69, 71, 72, 74, 75, 77, 78, 80]\n",
    "\n",
    "amc_name = \"Icici Prudential Mutual Fund Passive\"\n",
    "logging.info(f\"User Ran Fund Data of {amc_name}\")\n",
    "path = mutual_fund[amc_name]\n",
    "object = ICICI(amc_name,path)\n",
    "title,path_pdf = object.check_and_highlight(path)\n"
   ]
  },
  {
   "cell_type": "code",
   "execution_count": null,
   "metadata": {},
   "outputs": [],
   "source": [
    "object = ICICI(amc_name,path)\n",
    "data = object.get_data(path_pdf,title)\n",
    "extracted_text = object.get_generated_content(data)"
   ]
  },
  {
   "cell_type": "code",
   "execution_count": null,
   "metadata": {},
   "outputs": [],
   "source": [
    "object = ICICI(amc_name,path)\n",
    "final_text = object.refine_extracted_data(extracted_text, flatten=True)\n",
    "dfs = object.merge_and_select_data(final_text,select= True,special_handling=True)\n",
    "Helper.quick_json_dump(dfs,object.JSONPATH)"
   ]
  },
  {
   "cell_type": "code",
   "execution_count": 2,
   "metadata": {},
   "outputs": [],
   "source": [
    "fund_name,path = \"Invesco Mutual Fund\", r\"C:\\Users\\kaustubh.keny\\OneDrive - Cogencis Information Services Ltd\\Documents\\2020\\Invesco Mutual Fund\\21_31-Dec-20_FS.pdf.pdf\""
   ]
  },
  {
   "cell_type": "code",
   "execution_count": 5,
   "metadata": {},
   "outputs": [
    {
     "name": "stdout",
     "output_type": "stream",
     "text": [
      "Fact Sheet\n",
      ">>\n",
      "Market Update\n",
      ">>\n",
      "Market Update Contd\n",
      ">>\n",
      "Invesco India Tax Plan (An open ended equity linked saving scheme with a statutory lock in of 3 years and tax benefit)\n",
      ">>Invesco India Tax Plan\n",
      "Invesco India Multicap Fund (Multi Cap Fund - An open ended equity scheme investing across large cap mid cap small cap stocks)\n",
      ">>Invesco India Multicap Fund\n",
      "Invesco India Contra Fund (An open ended equity scheme following contrarian investment strategy)\n",
      ">>Invesco India Contra Fund\n",
      "Invesco India Largecap Fund (Large Cap Fund - An open ended equity scheme predominantly investing in large cap stocks)\n",
      ">>Invesco India Largecap Fund\n",
      "Invesco India Focused 20 Equity Fund (An open ended equity scheme investing in maximum 20 stocks across market capitalization  (i e Multicap))\n",
      ">>Invesco India Focused 20 Equity Fund\n",
      "Invesco India Growth Opportunities Fund (Large & Mid Cap Fund - An open ended equity scheme investing in both large cap and mid cap stocks)\n",
      ">>Invesco India Growth Opportunities Fund\n",
      "Invesco India Midcap Fund (Mid Cap Fund - An open ended equity scheme predominantly investing in mid cap stocks)\n",
      ">>Invesco India Midcap Fund\n",
      "Invesco India Smallcap Fund (Small Cap Fund - An open-ended equity scheme predominantly investing in small cap stocks)\n",
      ">>Invesco India Smallcap Fund\n",
      "Invesco India Dynamic Equity Fund (An open ended dynamic asset allocation fund)\n",
      ">>Invesco India Dynamic Equity Fund\n",
      "Invesco India Financial Services Fund (An open ended equity scheme investing in financial services sector)\n",
      ">>Invesco India Financial Services Fund\n",
      "Invesco India Infrastructure Fund (An open ended equity scheme following Infrastructure theme)\n",
      ">>Invesco India Infrastructure Fund\n",
      "Invesco India PSU Equity Fund (An open ended equity scheme following PSU theme)\n",
      ">>Invesco India PSU Equity Fund\n",
      "Invesco India Arbitrage Fund (An open ended scheme investing in arbitrage opportunities)\n",
      ">>Invesco India Arbitrage Fund\n",
      "Invesco India - Invesco Global Consumer Trends Fund Of Fund (An open ended fund of fund scheme investing in Invesco Global Consumer Trends Fund)\n",
      ">>Invesco India - Invesco Global Consumer Trends Fund\n",
      "Invesco India Feeder - Invesco Pan European Equity Fund (An open ended fund of fund scheme investing in Invesco Pan European Equity Fund)\n",
      ">>Invesco India Feeder - Invesco Pan European Equity Fund\n",
      "Invesco India Feeder - Invesco Global Equity Income Fund (An open ended fund of fund scheme investing in Invesco Global Equity Income Fund)\n",
      ">>Invesco India Feeder - Invesco Global Equity Income Fund\n",
      "Invesco India Equity & Bond Fund (An open ended hybrid scheme investing predominantly in equity and equity related instruments)\n",
      ">>Invesco India Equity & Bond Fund\n",
      "Invesco India Equity Savings Fund (An open ended scheme investing in equity arbitrage and debt)\n",
      ">>Invesco India Equity Savings Fund\n",
      "Invesco India Liquid Fund (An open ended liquid scheme) RISKOMETER\n",
      ">>Invesco India Liquid Fund\n",
      "Invesco India Overnight Fund (An open ended debt scheme investing in overnight securities) RISKOMETER\n",
      ">>Invesco India Overnight Fund\n",
      "Invesco India Treasury Advantage Fund (An open ended low duration debt scheme investing in instruments such that the Macaulay   duration of the portfolio is between 6 months to 12 months)\n",
      ">>Invesco India Treasury Advantage Fund\n",
      "Invesco India Short Term Fund (An open ended short term debt scheme investing in instruments such that the Macaulay  duration of the portfolio is between 1 year to 3 years)\n",
      ">>Invesco India Short Term Fund\n",
      "Invesco India Money Market Fund (An open ended debt scheme investing in money market instruments) RISKOMETER\n",
      ">>Invesco India Money Market Fund\n",
      "Invesco India Ultra Short Term Fund (An open ended ultra-short term debt scheme investing in instruments such that the  Macaulay duration of the portfolio is between 3 months to 6 months)\n",
      ">>Invesco India Ultra Short Term Fund\n",
      "Invesco India Credit Risk Fund (An open ended debt scheme predominantly investing in AA and below rated corporate bonds  (excluding AA+ rated corporate bonds))\n",
      ">>Invesco India Credit Risk Fund\n",
      "Invesco India Gilt Fund (An open ended debt scheme investing in government securities across maturity) RISKOMETER\n",
      ">>Invesco India Gilt Fund\n",
      "Invesco India Corporate Bond Fund (An open ended debt scheme predominantly investing in AA+ and above rated corporate bonds)  RISKOMETER\n",
      ">>Invesco India Corporate Bond Fund\n",
      "Invesco India Banking & PSU Debt Fund (An open ended debt scheme predominantly investing in Debt instruments of banks Public  Sector Undertakings Public Financial Institutions and Municipal Bonds)\n",
      ">>Invesco India Banking & PSU Debt Fund\n",
      "Invesco India Gold Fund (An open ended fund of fund scheme investing in Invesco India Gold Exchange Traded Fund)  RISKOMETER\n",
      ">>Invesco India Gold Fund\n",
      "Invesco India Gold Exchange Traded Fund (An open ended scheme tracking returns provided by investment in physical gold)  RISKOMETER\n",
      ">>Invesco India Gold Exchange Traded Fund\n",
      "Invesco India Nifty Exchange Traded Fund (An open ended scheme replicating Nifty 50 Index)\n",
      ">>Invesco India Nifty Exchange Traded Fund\n",
      "Lumpsum Performance (As on 31st December 2020)\n",
      ">>\n",
      "Lumpsum Performance (As on 31st December 2020)\n",
      ">>\n",
      "Lumpsum Performance (As on 31st December 2020)\n",
      ">>\n",
      "Lumpsum Performance (As on 31st December 2020)\n",
      ">>\n",
      "Lumpsum Performance (As on 31st December 2020)\n",
      ">>\n",
      "Lumpsum Performance - Direct Plan (As on 31st December 2020)\n",
      ">>\n",
      "Lumpsum Performance - Direct Plan (As on 31st December 2020)\n",
      ">>\n",
      "Lumpsum Performance - Direct Plan (As on 31st December 2020)\n",
      ">>\n",
      "Lumpsum Performance - Direct Plan (As on 31st December 2020)\n",
      ">>\n",
      "Lumpsum Performance\n",
      ">>\n",
      "\n",
      ">>\n",
      "vate Limited Futurex  400 013\n",
      ">>\n"
     ]
    }
   ],
   "source": [
    "\"\"\" INVESCO MF MAIN FILE CODE\"\"\"\n",
    "\n",
    "amc_id = '21_0'\n",
    "# logging.info(f\"User Ran Fund Data of {amc_name}\")\n",
    "# fund_name, path= mutual_fund[amc_id]\n",
    "object = Invesco(fund_name,amc_id,path,logger)\n",
    "title,path_pdf = object.check_and_highlight(path)\n",
    "data = object.get_data(path_pdf,title)"
   ]
  },
  {
   "cell_type": "code",
   "execution_count": 20,
   "metadata": {},
   "outputs": [],
   "source": [
    "object = Invesco(fund_name,amc_id,path,logger)\n",
    "extracted_text = object.get_generated_content(data)\n",
    "final_text = object.refine_extracted_data(extracted_text)\n",
    "dfs = object.merge_and_select_data(final_text)\n"
   ]
  },
  {
   "cell_type": "code",
   "execution_count": 21,
   "metadata": {},
   "outputs": [
    {
     "name": "stdout",
     "output_type": "stream",
     "text": [
      "File Saved At: C:\\Users\\kaustubh.keny\\Projects\\JSON25\\output\\json\\21_31-Dec-20_FS.json.json\n"
     ]
    }
   ],
   "source": [
    "save_path = os.path.join(object.JSONPATH, object.FILE_NAME).replace(\".pdf\", \".json\")\n",
    "with open(save_path, 'w') as f:\n",
    "  json.dump(dfs, f, indent=2)\n",
    "print(f\"File Saved At: {save_path}\")\n",
    "\n",
    "with open(\"data.json\", 'w') as f:\n",
    "  json.dump(final_text, f, indent=2)\n",
    "  \n",
    "with open(\"extract.json\", 'w') as f:\n",
    "  json.dump(extracted_text, f, indent=2)"
   ]
  },
  {
   "cell_type": "code",
   "execution_count": 165,
   "metadata": {},
   "outputs": [],
   "source": [
    "fund_name,path = \"ITI Mutual Fund\",r\"C:\\Users\\kaustubh.keny\\OneDrive - Cogencis Information Services Ltd\\Documents\\2020\\ITI Mutual Fund\\51_31-Dec-20_FS.pdf.pdf\""
   ]
  },
  {
   "cell_type": "code",
   "execution_count": null,
   "metadata": {},
   "outputs": [],
   "source": [
    "\"\"\"ITI MAIN FILE CODE\"\"\"\n",
    "\n",
    "amc_id = '51_0'\n",
    "# logging.info(f\"User Ran Fund Data of {amc_name}\")\n",
    "# fund_name, path= mutual_fund[amc_id]\n",
    "object = ITI(fund_name,amc_id,path,logger)\n",
    "title,path_pdf = object.check_and_highlight(path)\n",
    "data = object.get_data(path_pdf,title)"
   ]
  },
  {
   "cell_type": "code",
   "execution_count": 169,
   "metadata": {},
   "outputs": [
    {
     "data": {
      "text/plain": [
       "9"
      ]
     },
     "execution_count": 169,
     "metadata": {},
     "output_type": "execute_result"
    }
   ],
   "source": [
    "len(title)"
   ]
  },
  {
   "cell_type": "code",
   "execution_count": 170,
   "metadata": {},
   "outputs": [],
   "source": [
    "object = ITI(fund_name,amc_id,path,logger)\n",
    "extracted_text = object.get_generated_content(data)\n",
    "final_text = object.refine_extracted_data(extracted_text)\n",
    "dfs= object.merge_and_select_data(final_text)"
   ]
  },
  {
   "cell_type": "code",
   "execution_count": 172,
   "metadata": {},
   "outputs": [
    {
     "name": "stdout",
     "output_type": "stream",
     "text": [
      "File Saved At: C:\\Users\\kaustubh.keny\\Projects\\JSON25\\output\\json\\51_31-Dec-20_FS.json.json\n"
     ]
    }
   ],
   "source": [
    "save_path = os.path.join(object.JSONPATH, object.FILE_NAME).replace(\".pdf\", \".json\")\n",
    "with open(save_path, 'w') as f:\n",
    "  json.dump(dfs, f, indent=2)\n",
    "print(f\"File Saved At: {save_path}\")\n",
    "\n",
    "with open(\"data.json\", 'w') as f:\n",
    "  json.dump(final_text, f, indent=2)\n",
    "  \n",
    "with open(\"extract.json\", 'w') as f:\n",
    "  json.dump(extracted_text, f, indent=2)"
   ]
  },
  {
   "cell_type": "code",
   "execution_count": null,
   "metadata": {},
   "outputs": [],
   "source": [
    "\"\"\"JM FUND MAIN FILE CODE\"\"\"\n",
    "amc_id = '22_0'\n",
    "# logging.info(f\"User Ran Fund Data of {amc_name}\")\n",
    "fund_name, path= mutual_fund[amc_id]\n",
    "object = JMMF(fund_name,amc_id,path,logger)\n",
    "title,path_pdf = object.check_and_highlight(path)\n",
    "data = object.get_data(path_pdf,title)\n",
    "extracted_text = object.get_generated_content(data)\n",
    "final_text = object.refine_extracted_data(extracted_text)\n",
    "dfs = object.merge_and_select_data(final_text)"
   ]
  },
  {
   "cell_type": "code",
   "execution_count": null,
   "metadata": {},
   "outputs": [
    {
     "name": "stdout",
     "output_type": "stream",
     "text": [
      "Function Running: refine_extracted_data\n"
     ]
    }
   ],
   "source": [
    "object = JMMF(fund_name,amc_id,path,logger)\n",
    "final_text = object.refine_extracted_data(extracted_text)\n",
    "# dfs = object.merge_and_select_data(final_text)"
   ]
  },
  {
   "cell_type": "code",
   "execution_count": 2,
   "metadata": {},
   "outputs": [
    {
     "name": "stdout",
     "output_type": "stream",
     "text": [
      "\n",
      "INDEX Contents\n",
      "Key Events for the Month of December 2020  Market Overview\n",
      "Equity Market Snapshot Gl b l E H R b d d St l\n",
      "Items Dec 20 Nov 20 1 Month Chan Debt Market Snapshot\n",
      "How to read Fact Sheet Fund Manager\n",
      "Multi cap fund - An open-ended equity scheme investing across large cap mid cap small cap stocks              KOTAK STANDARD MULTICAP FUND\n",
      ">>KOTAK STANDARD MULTICAP FUND\n",
      "Mid cap fund An open ended equity scheme predominantly investing in mid cap stocks KOTAK EMERGING EQUITY FUND\n",
      ">>KOTAK EMERGING EQUITY FUND\n",
      "Large & mid cap fund An open ended equity scheme investing in both large cap and mid cap stocks KOTAK EQUITY OPPORTUNITIES FUND\n",
      ">>KOTAK EQUITY OPPORTUNITIES FUND\n",
      "Small cap fund An open ended equity scheme predominantly investing in small cap stocks KOTAK SMALL CAP FUND\n",
      ">>KOTAK SMALL CAP FUND\n",
      "Large cap fund An open ended equity scheme predominantly investing in large cap stocks KOTAK BLUECHIP FUND\n",
      ">>KOTAK BLUECHIP FUND\n",
      "An open ended equity scheme investing in maximum 30 stocks KOTAK FOCUSED EQUITY FUND\n",
      ">>KOTAK FOCUSED EQUITY FUND\n",
      "A d d it li k d i h ith t t t l k i f 3 d t b fit KOTAK TAX SAVER FUND\n",
      ">>KOTAK TAX SAVER FUND\n",
      "An open ended equity scheme following contrarian investment strategy KOTAK INDIA EQ CONTRA FUND\n",
      ">>KOTAK INDIA EQ CONTRA FUND\n",
      "Thematic - An open ended equity scheme investing in pioneering innovations theme KOTAK PIONEER FUND\n",
      ">>KOTAK PIONEER FUND\n",
      "Multicap fund - A 36 months close ended equity scheme investing across large cap KOTAK INDIA GROWTH FUND SERIES 4\n",
      ">>KOTAK INDIA GROWTH FUND SERIES 4\n",
      "Multicap fund - A 1099 days close ended equity scheme investing across large cap KOTAK INDIA GROWTH FUND SERIES 5\n",
      ">>KOTAK INDIA GROWTH FUND SERIES 5\n",
      "An open ended equity scheme following infrastructure & Economic Reform theme KOTAK INFRASTRUCTURE & ECONOMIC REFORM FUND\n",
      ">>KOTAK INFRASTRUCTURE & ECONOMIC REFORM FUND\n",
      "Multicap Fund - A 36 months close ended equity scheme investing across large cap KOTAK INDIA GROWTH FUND SERIES 7\n",
      ">>KOTAK INDIA GROWTH FUND SERIES 7\n",
      "Ma Sh A d d h i ti i bit t iti KOTAK EQUITY ARBITRAGE FUND\n",
      ">>KOTAK EQUITY ARBITRAGE FUND\n",
      "An open ended dynamic asset allocation fund KOTAK BALANCED ADVANTAGE FUND Maturity Short Medium Long Volatility Low Medium High\n",
      ">>KOTAK BALANCED ADVANTAGE FUND\n",
      "An open-ended hybrid scheme investing predominantly in equity d it l t d i t t KOTAK EQUITY HYBRID FUND Maturity Short Medium Long Volatility Low Medium High\n",
      ">>KOTAK EQUITY HYBRID FUND\n",
      "An open-ended hybrid scheme investing predominantly in equity and equity related instruments KOTAK EQUITY HYBRID FUND\n",
      ">>KOTAK EQUITY HYBRID FUND\n",
      "A d d h i ti i it bit d d bt KOTAK EQUITY SAVINGS FUND Maturity Short Medium Long Volatility Low Medium High\n",
      ">>KOTAK EQUITY SAVINGS FUND\n",
      "An open-ended hybrid scheme investing predominantly in d b i KOTAK DEBT HYBRID FUND Investment style Value  Blend  Growth  Size Large Mediu Small\n",
      ">>KOTAK DEBT HYBRID FUND\n",
      "An open-ended hybrid scheme investing predominantly in debt instruments KOTAK DEBT HYBRID FUND\n",
      ">>KOTAK DEBT HYBRID FUND\n",
      "KOTAK OVERNIGHT FUND An open ended debt scheme investing in overnight securities M S\n",
      ">>KOTAK OVERNIGHT FUND\n",
      "KOTAK LIQUID FUND Maturity Short  Medium Long Volatility Low  Medium High An open-ended liquid scheme Fund Manager M Benchmark Nifty  N Allotment date  5105 Folio count\n",
      ">>KOTAK LIQUID FUND\n",
      "KOTAK MONEY MARKET FUND M S An open-ended debt scheme investing in money market instruments\n",
      ">>KOTAK MONEY MARKET FUND\n",
      "KOTAK SAVINGS FUND M S An open-ended ultra-short term debt scheme investing in instruments such that the macaulay duration of the portfolio is between 3 months and 6 months\n",
      ">>KOTAK SAVINGS FUND\n",
      "KOTAK SAVINGS FUND An open-ended ultra-short term debt scheme investing in instruments such that the macaulay duration of the portfo\n",
      ">>KOTAK SAVINGS FUND\n",
      "M S KOTAK LOW DURATION FUND An open ended low duration debt scheme investing in instruments such that the Macaulay duration of the portfolio is between 6 months and 12 months\n",
      ">>KOTAK LOW DURATION FUND\n",
      "KOTAK LOW DURATION FUND An open ended low duration debt scheme investing in instruments such that the Macaulay duration of the portfolio\n",
      ">>KOTAK LOW DURATION FUND\n",
      "M S KOTAK FLOATING RATE FUND An open ended debt scheme predominantly investing in floating rate instruments\n",
      ">>KOTAK FLOATING RATE FUND\n",
      "Eq P d\n",
      "Equity Scheme Name of the  Scheme Equity Scheme This product is suitable for investors who are seeking Type o\n",
      "Liquidity Position Of Kotak Mahindra Mutual Fund Debt Fu\n",
      "M S An open-ended debt scheme predominantly investing in AA+ and above rated corporate bonds KOTAK CORPORATE BOND FUND\n",
      ">>KOTAK CORPORATE BOND FUND\n",
      "M S KOTAK BANKING AND PSU DEBT FUND An open-ended debt scheme predominantly investing in debt instruments of banks public sector undertakings public financial institutions and municipal bonds\n",
      ">>KOTAK BANKING AND PSU DEBT FUND\n",
      "KOTAK BANKING AND PSU DEBT FUND An open-ended debt scheme predominantly investing in debt instruments of banks public sector undertakings pub\n",
      ">>KOTAK BANKING AND PSU DEBT FUND\n",
      "M S An open-ended short term debt scheme investing in instruments such that the macaulay duration of the portfolio is between 1 year and 3 years KOTAK BOND SHORT TERM FUND\n",
      ">>KOTAK BOND SHORT TERM FUND\n",
      "An open-ended short term debt scheme investing in instruments such that the macaulay duration of the portfolio is KOTAK BOND SHORT TERM FUND\n",
      ">>KOTAK BOND SHORT TERM FUND\n",
      "KOTAK CREDIT RISK FUND  An open-ended debt scheme predominantly investing in aa and below rated corporate bonds (excluding AA+ rated corporate bonds) M S\n",
      ">>KOTAK CREDIT RISK FUND\n",
      "KOTAK CREDIT RISK FUND  An open-ended debt scheme predominantly investing in AA and below rated corporate bonds (excluding AA+ rated\n",
      ">>KOTAK CREDIT RISK FUND\n",
      "M S An open-ended medium term debt scheme investing in instruments such that the macaulay duration of the portfolio is between 3 years and 4 years KOTAK MEDIUM TERM FUND\n",
      ">>KOTAK MEDIUM TERM FUND\n",
      "An open-ended medium term debt scheme investing in instruments such that the macaulay duration of the portfoli KOTAK MEDIUM TERM FUND\n",
      ">>KOTAK MEDIUM TERM FUND\n",
      "KOTAK DYNAMIC BOND FUND M S An open-ended dynamic debt scheme investing across duration\n",
      ">>KOTAK DYNAMIC BOND FUND\n",
      "M S An open-ended medium term debt scheme investing in instruments such that the macaulay duration of the portfolio is between 4 years and 7 years KOTAK BOND FUND\n",
      ">>KOTAK BOND FUND\n",
      "An open-ended medium term debt scheme investing in instruments such that the macaulay duration of the portfoli KOTAK BOND FUND\n",
      ">>KOTAK BOND FUND\n",
      "M S An open-ended debt scheme investing in government securities across maturity KOTAK GILT FUND\n",
      ">>KOTAK GILT FUND\n",
      "AU Small Finance Bank Ltd  AXIS Bank Ltd Details of exposure across all Debt Funds of Kotak Mahindra Mutual Fund as Issuer Name\n",
      "Issuer Name Muthoot Finance Ltd  NHPC Ltd  NLC India Ltd (Formerly known as Neyveli Lignite Corporation Ltd)\n",
      "An open ended fund of fund scheme investing in units of Kotak Gold Exchange Traded Fund KOTAK GOLD FUND\n",
      ">>KOTAK GOLD FUND\n",
      "An open-ended fund of fund scheme investing in specified open-ended equity and debt schemes of Kotak Mahindra Mutual Fund KOTAK ASSET ALLOCATOR FUND Maturity For Debt Short Medium Long Volatilit Low Medium High\n",
      ">>KOTAK ASSET ALLOCATOR FUND\n",
      "An open-ended fund of fund scheme investing in overseas mutual fund schemes investing in global emerging markets KOTAK GLOBAL EMERGING MARKET FUND Inv Va\n",
      ">>KOTAK GLOBAL EMERGING MARKET FUND\n",
      "KOTAK GOLD ETF An open-ended scheme replicating tracking physical gold prices\n",
      ">>KOTAK GOLD ETF\n",
      "KOTAK NIFTY ETF An open-ended scheme replicating tracking nifty 50 index\n",
      ">>KOTAK NIFTY ETF\n",
      "KOTAK SENSEX ETF An open-ended scheme replicating tracking S&P BSE sensex index\n",
      ">>KOTAK SENSEX ETF\n",
      "KOTAK BANKING ETF An open-ended scheme replicating tracking nifty bank index\n",
      ">>KOTAK BANKING ETF\n",
      "KOTAK PSU BANK ETF An open-ended scheme replicating tracking nifty PSU bank index\n",
      ">>KOTAK PSU BANK ETF\n",
      "KOTAK NV20 ETF An open-ended scheme replicating tracking nifty 50 Value 20 index\n",
      ">>KOTAK NV20 ETF\n",
      "Scheme Performances as on December 31 Kotak Standard Multicap Fund - Growth Kotak Standard Multicap Fund - Growth Nifty 200 TRI Nifty 50 TRI Kotak Standard Multicap Fund - Growth Si I ti 13 47 11 24 2 24 11 17 41 782 ALPHA\n",
      "Kotak Tax Saver Fund - Growth Kotak Tax Saver Fund - Growth Nifty 500 TRI Nifty 50 TRI Since Inception 11 77 12 74 -0 97 13 12 53 769 ALPHA Kotak Tax Saver Fund - Growth\n",
      "Kotak Equity Hybrid Fund - Growth Kotak Equity Hybrid Fund - Growth NIFTY 50 Hybrid Composite Debt 6535 Index Nifty 50 TRI Kotak Equity Hybrid Fund - Growth Since Inception 9 44 10 24 0 80 10 09 17 429 NIF ALPHA\n",
      "Kotak Money Market Fund - Growth Kotak Money Market Fund - Growth NIFTY Money Market Index CRISIL 1 Year TBill Kotak Money Marke Fund - Growth Si I ti 7 32 7 46 0 15 6 07 34 364 ALPHA\n",
      "Kotak Credit Risk Fund - Growth Kotak Credit Risk Fund - Growth Nifty Credit Risk Bond Index CRISIL 1 Year TBill Kotak Credit Risk Fund - Growth Si I ti 8 20 9 39 1 19 6 76 23 155 ALPHA\n",
      "Kotak Gilt Fund - Growth Kotak Gilt Fund - Growth NIFTY All Duration G-Sec Index CRISIL 10 Year Gilt Kotak Gilt Fund - Growth Si I ti 9 69 NA NA NA 76 656 ALPHA\n",
      "Kotak Global Emerging Market Fund - Growth Kotak Global Emerging Market Fund - Growth MSCI Emerging Market index Nifty 50 TRI Kotak Global Emerging Market Fund - Growth Si I ti 6 22 8 30 2 07 9 43 22 290 ALPHA\n",
      "Kotak Banking ETF Kotak Banking ETF Nifty Bank Index TRI Nifty 50 TRI Kotak Banking ETF Si I ti 9 22 9 67 0 45 10 21 17 068 ALPHA\n",
      "ABOUT OUR FUND MANAGERS Name Mr Harsha Upadhyaya Mr Harsha Upadhyaya manages 4 funds of Kotak Mahindra Mutual Fund Different plans shall have a different expense structure The  Kotak Equity Opportunities Fund (Sep 9 04) Kotak Standard Multicap Fund (Sep 11 09)  Kotak Tax Saver Fund (Nov 2305) Kotak E Business Experience\n",
      "Kotak Gold ETF Name of the Benchmark - Price of Gold Scheme Inception date is 27072007 Mr Abhishek Bisen has been managing the fund sinc the fund since 09052019 Kotak Gold Fund - Growth Name of the Benchmark - Price of Gold Scheme Inception date is 25032011 Mr Abhishek Bisen has been managing th Kotak Equity Hybrid Fund - Growth Name of the Benchmark - NIFTY 50 Hybrid Composite Debt 6535 Index Scheme Inception date is 251119 inception date is 3rd November 2014 Mr Pankaj Tibrewal has been managing the fund since 25082015 Mr Abhishek Bisen has been managing the f\n",
      "Mr Arjun Khanna manages 3 funds of Kotak Mahindra Mutual Fund Different plans shall have a different expense struc regular plan Business Experience Mr Arjun Khanna has over 10 years of experience in banking and financial companies Prior to joining Kotak Asset Managem i P i i l PNB AMC H h l k d t Citi NA i hi li ti t H i B h l f E i i (El t i ) f Name Mr Arjun Khanna Kotak Global Emerging Market Fund - Growth (Sep 26 07) Kotak Pioneer Fund (Oct 31 19) Kotak International REIT FOF -\n",
      "DIVIDEND HISTORY Equity Schemes Kotak Equity Arbitrage Fund - Monthly Dividend Option Kotak Tax Saver Fund\n",
      "Kotak Bond Short Term Fund Kotak Debt Hybrid Fund Monthly Dividend\n",
      "Kotak Banking and PSU Debt Debt Schemes Kotak Corporate Bond Fund - Regular Plan Monthly Dividend\n",
      "Mutual Fund investments are subject to market risks read all scheme relate The rating indicates highest degree of safety regarding timely receipt of payments from the investments t should however not be construed as an indication of expected returns prospective performance of the Mutua RISK FACTORS\n",
      "\n"
     ]
    }
   ],
   "source": [
    "\"\"\"KOTAK FUND MAIN CODE\"\"\"\n",
    "amc_id = '23_0'\n",
    "# logging.info(f\"User Ran Fund Data of {amc_name}\")\n",
    "# fund_name, path= mutual_fund[amc_id]\n",
    "fund_name,path = \"Kotak Mutual Fund\", r\"C:\\Users\\kaustubh.keny\\OneDrive - Cogencis Information Services Ltd\\Documents\\2020\\Kotak Mahindra Mutual Fund\\23_31-Dec-20_FS.pdf\"\n",
    "object = Kotak(fund_name,amc_id,path,logger)\n",
    "title,path_pdf= object.check_and_highlight(path)\n",
    "data = object.get_data(path_pdf,title)\n"
   ]
  },
  {
   "cell_type": "code",
   "execution_count": 7,
   "metadata": {},
   "outputs": [],
   "source": [
    "object = Kotak(fund_name,amc_id,path,logger)\n",
    "extracted_text = object.get_generated_content(data)\n",
    "final_text = object.refine_extracted_data(extracted_text)\n",
    "dfs = object.merge_and_select_data(final_text)"
   ]
  },
  {
   "cell_type": "code",
   "execution_count": 8,
   "metadata": {},
   "outputs": [
    {
     "name": "stdout",
     "output_type": "stream",
     "text": [
      "File Saved At: C:\\Users\\kaustubh.keny\\Projects\\JSON25\\output\\jsontest\\23_31-Dec-20_FS.json\n"
     ]
    }
   ],
   "source": [
    "save_path = os.path.join(object.JSONPATH, object.FILE_NAME).replace(\".pdf\", \".json\")\n",
    "with open(save_path, 'w') as f:\n",
    "  json.dump(dfs, f, indent=2)\n",
    "print(f\"File Saved At: {save_path}\")\n",
    "\n",
    "with open(\"data.json\", 'w') as f:\n",
    "  json.dump(final_text, f, indent=2)\n",
    "  \n",
    "with open(\"extract.json\", 'w') as f:\n",
    "  json.dump(extracted_text, f, indent=2)"
   ]
  },
  {
   "cell_type": "code",
   "execution_count": 15,
   "metadata": {},
   "outputs": [
    {
     "name": "stdout",
     "output_type": "stream",
     "text": [
      "\u001b[37m2025-07-22 13:32:29 [TRACE]: step>> check_and_highlight\u001b[0m\n",
      "\u001b[32m2025-07-22 13:32:29 [INFO]: Getting All titles : _get_normal_title\u001b[0m\n",
      "JUNE 2020\n",
      "MARKET REVIEW  Mr Sachin Rel CIO - Equity\n",
      "RISKOMETER Name Of The Scheme The Produc Seeking  LIC MF Large Cap Fund LIC MF Multicap Fund  Long Term  A Fund th  Risk - Mo  Long Term  Investing   Risk Mo\n",
      "Name Of The Scheme The Produc Seeking  RISKOMETER LIC MF Equity Hybrid Fund LIC MF Unit Linked Insurance  Long term  A fund tha instrumen  Risk - Mo  Long term\n",
      "SCHEME FEATURES Scheme Type An open ended equity scheme  predominantly investing in Large Cap stocks\n",
      ">>An open ended equity scheme predominantly investing in Large Cap stocks\n",
      "\u001b[37m2025-07-22 13:32:29 [TRACE]: >>An open ended equity scheme predominantly investing in Large Cap stocks\u001b[0m\n",
      "SCHEME FEATURES Scheme Type An open ended equity scheme  investing across Large Cap Mid Cap Small Cap stocks\n",
      ">>An open ended equity scheme investing across Large Cap Mid Cap Small Cap stock\n",
      "\u001b[37m2025-07-22 13:32:29 [TRACE]: >>An open ended equity scheme investing across Large Cap Mid Cap Small Cap stock\u001b[0m\n",
      "SCHEME FEATURES Scheme Type An open ended equity scheme  investing in both Large Cap and Mid Cap stocks\n",
      ">>An open ended equity scheme investing in both Large Cap and Mid Cap stocks\n",
      "\u001b[37m2025-07-22 13:32:29 [TRACE]: >>An open ended equity scheme investing in both Large Cap and Mid Cap stocks\u001b[0m\n",
      "SCHEME FEATURES Scheme Type An open ended equity scheme  investing in banking & financial companies\n",
      ">>An open ended equity scheme investing in banking & financial companies\n",
      "\u001b[37m2025-07-22 13:32:29 [TRACE]: >>An open ended equity scheme investing in banking & financial companies\u001b[0m\n",
      "SCHEME FEATURES Scheme Type An open ended equity linked  saving scheme with a statutory lock in of 3 years and tax benefit\n",
      ">>An open ended equity linked saving scheme with a statutory lock in of 3 years\n",
      "\u001b[37m2025-07-22 13:32:29 [TRACE]: >>An open ended equity linked saving scheme with a statutory lock in of 3 years\u001b[0m\n",
      "SCHEME FEATURES Scheme Type An open ended equity scheme  investing in infrastructure companies\n",
      ">>An open ended equity scheme investing in infrastructure companies\n",
      "\u001b[37m2025-07-22 13:32:29 [TRACE]: >>An open ended equity scheme investing in infrastructure companies\u001b[0m\n",
      "SCHEME FEATURES Scheme Type An open ended scheme  replicatingtracking S&P BSE Sensex Index D t f All t t D b 05 2002\n",
      ">>An open ended scheme replicatingtracking S&P BSE Sensex Index D t f All t t D\n",
      "\u001b[37m2025-07-22 13:32:29 [TRACE]: >>An open ended scheme replicatingtracking S&P BSE Sensex Index D t f All t t D\u001b[0m\n",
      "SCHEME FEATURES Scheme Type An open ended scheme  replicatingtracking Nifty 50 Index\n",
      ">>An open ended scheme replicatingtracking Nifty 50 Index\n",
      "\u001b[37m2025-07-22 13:32:29 [TRACE]: >>An open ended scheme replicatingtracking Nifty 50 Index\u001b[0m\n",
      "SCHEME FEATURES Scheme Type An open ended scheme  replicatingtracking Nifty 50 Index D t f All t t N b 20 2015\n",
      ">>An open ended scheme replicatingtracking Nifty 50 Index D t f All t t N b 20 2\n",
      "\u001b[37m2025-07-22 13:32:29 [TRACE]: >>An open ended scheme replicatingtracking Nifty 50 Index D t f All t t N b 20 2\u001b[0m\n",
      "SCHEME FEATURES Scheme Type An open ended scheme  replicatingtracking Sensex Index\n",
      ">>An open ended scheme replicatingtracking Sensex Index\n",
      "\u001b[37m2025-07-22 13:32:29 [TRACE]: >>An open ended scheme replicatingtracking Sensex Index\u001b[0m\n",
      "SCHEME FEATURES Scheme Type An open ended scheme  replicatingtracking Nifty 100 Index D t f All t t M h 17 2016\n",
      ">>An open ended scheme replicatingtracking Nifty 100 Index D t f All t t M h 17\n",
      "\u001b[37m2025-07-22 13:32:29 [TRACE]: >>An open ended scheme replicatingtracking Nifty 100 Index D t f All t t M h 17\u001b[0m\n",
      "SCHEME FEATURES Scheme Type An open ended scheme  replicatingtracking Nifty 8-13 Yr G-Sec Index\n",
      ">>An open ended scheme replicatingtracking Nifty 8-13 Yr G-Sec Index\n",
      "\u001b[37m2025-07-22 13:32:29 [TRACE]: >>An open ended scheme replicatingtracking Nifty 8-13 Yr G-Sec Index\u001b[0m\n",
      "SCHEME FEATURES Scheme Type An open ended hybrid scheme investing predominantly in equity and equity related instruments\n",
      ">>An open ended hybrid scheme investing predominantly in equity and equity relate\n",
      "\u001b[37m2025-07-22 13:32:29 [TRACE]: >>An open ended hybrid scheme investing predominantly in equity and equity relate\u001b[0m\n",
      "SCHEME FEATURES Scheme Type An open ended fund for investmen for children having a lock-in for at least 5 years o till the child attains age of majority (whichever is li )\n",
      ">>An open ended fund for investmen for children having a lock-in for at least 5 y\n",
      "\u001b[37m2025-07-22 13:32:29 [TRACE]: >>An open ended fund for investmen for children having a lock-in for at least 5 y\u001b[0m\n",
      "SCHEME FEATURES Scheme Type An open ended scheme investing in arbitrage opportunities\n",
      ">>An open ended scheme investing in arbitrage opportunities\n",
      "\u001b[37m2025-07-22 13:32:29 [TRACE]: >>An open ended scheme investing in arbitrage opportunities\u001b[0m\n",
      "\n",
      "SCHEME FEATURES Scheme Type An open-ended insurance linked  tax saving scheme Date of Allotment June 19 1989\n",
      ">>An open-ended insurance linked tax saving scheme Date of Allotment June 19 198\n",
      "\u001b[37m2025-07-22 13:32:29 [TRACE]: >>An open-ended insurance linked tax saving scheme Date of Allotment June 19 198\u001b[0m\n",
      "SCHEME FEATURES Scheme Type An open ended debt scheme investing in government securities across maturity\n",
      ">>An open ended debt scheme investing in government securities across maturity\n",
      "\u001b[37m2025-07-22 13:32:29 [TRACE]: >>An open ended debt scheme investing in government securities across maturity\u001b[0m\n",
      "SCHEME FEATURES Scheme Type An open ended hybrid scheme investing predominantly In debt instruments\n",
      ">>An open ended hybrid scheme investing predominantly In debt instruments\n",
      "\u001b[37m2025-07-22 13:32:29 [TRACE]: >>An open ended hybrid scheme investing predominantly In debt instruments\u001b[0m\n",
      "SCHEME FEATURES Scheme Type An open ended medium term deb scheme investing in instruments with Macaulay Duration of the portfolio is between 4 years and 7\n",
      ">>An open ended medium term deb scheme investing in instruments with Macaulay Dur\n",
      "\u001b[37m2025-07-22 13:32:29 [TRACE]: >>An open ended medium term deb scheme investing in instruments with Macaulay Dur\u001b[0m\n",
      "SCHEME FEATURES Scheme Type An open ended debt scheme predominantly investing in debt instruments o banks public sector undertakings public financia institutions and municipal bonds\n",
      ">>An open ended debt scheme predominantly investing in debt instruments o banks p\n",
      "\u001b[37m2025-07-22 13:32:29 [TRACE]: >>An open ended debt scheme predominantly investing in debt instruments o banks p\u001b[0m\n",
      "SCHEME FEATURES Scheme Type An Open Ended Short Term Deb scheme investing in instruments with Macaulay duration between 1 year and 3 years (please refe page no 34 of SID)\n",
      ">>An Open Ended Short Term Deb scheme investing in instruments with Macaulay dura\n",
      "\u001b[37m2025-07-22 13:32:29 [TRACE]: >>An Open Ended Short Term Deb scheme investing in instruments with Macaulay dura\u001b[0m\n",
      "SCHEME FEATURES Scheme Type An Open Ended Ultra Short Term Debt scheme investing in instruments with Macaulay duration between 3 months - 6 months (Please refer Page No 34)\n",
      ">>An Open Ended Ultra Short Term Debt scheme investing in instruments with Macaul\n",
      "\u001b[37m2025-07-22 13:32:29 [TRACE]: >>An Open Ended Ultra Short Term Debt scheme investing in instruments with Macaul\u001b[0m\n",
      "SCHEME FEATURES Scheme Type An open ended low duration deb scheme investing in instruments with Macaulay Duration of the portfolio is between 6 months and 12 months (please refer page no 27 of SID)\n",
      ">>An open ended low duration deb scheme investing in instruments with Macaulay Du\n",
      "\u001b[37m2025-07-22 13:32:29 [TRACE]: >>An open ended low duration deb scheme investing in instruments with Macaulay Du\u001b[0m\n",
      "SCHEME FEATURES Scheme Type An open-ended debt scheme investing in overnight securities D t f All t t J l 18 2019\n",
      ">>An open-ended debt scheme investing in overnight securities D t f All t t J l 1\n",
      "\u001b[37m2025-07-22 13:32:29 [TRACE]: >>An open-ended debt scheme investing in overnight securities D t f All t t J l 1\u001b[0m\n",
      "SCHEME FEATURES Scheme Type An open-ended liquid scheme D t f All t t M h 18 2002\n",
      ">>An open-ended liquid scheme D t f All t t M h 18 2002\n",
      "\u001b[37m2025-07-22 13:32:29 [TRACE]: >>An open-ended liquid scheme D t f All t t M h 18 2002\u001b[0m\n",
      "Comparative Perfo 1  LIC MF Multi Cap Fund   LIC MF Arbitrage Fund   -1 Nifty 500 TRI  NIFTY 50 Arbitrage Index  -1 NIFTY 50 TRI  NIFTY 50 TRI  -1 -1 LIC MF Banking & Financial Services Fund -3 Nifty Financial Services TRI  -2 Funds managed by Mr Yogesh Patil\n",
      "Past performance may or may not be sustained in the fut forecasting any returns Different plans shall have a differ ULIS & Regular Plan - Growth option for others schemes S the respective period no returns are available In case t returns The performance of the scheme is benchmarked t figures since inception or the required period are not availa performance of the scheme cannot be shown NA  Not  Av Total Expense Ratio\n",
      "Summary  Key Fea Scheme Name LIC MF Exchange Traded Fund - Nifty 100 Scheme Type An Open Ended Scheme  ReplicatingTracking Nifty  100  Index Allotment Date March 17 2016 Ideal Investment Horizon 3 Years Plus Plan Available RP\n",
      ">>An Open Ended Scheme ReplicatingTracking Nifty 100 Index Allotment Date Marc\n",
      "\u001b[37m2025-07-22 13:32:29 [TRACE]: >>An Open Ended Scheme ReplicatingTracking Nifty 100 Index Allotment Date Marc\u001b[0m\n",
      "Summary  Key Fea Scheme Name LIC MF Multi Cap Fund   Scheme Type An Open Ended Equity Schem Across Large Cap Mid Cap Sm Allotment Date April 15 1993 Ideal Investment Horizon 3 Years Plus Plan Available RPDP Option Available G thDi id d\n",
      ">>An Open Ended Equity Schem Across Large Cap Mid Cap Sm Allotment Date April 15\n",
      "\u001b[37m2025-07-22 13:32:29 [TRACE]: >>An Open Ended Equity Schem Across Large Cap Mid Cap Sm Allotment Date April 15\u001b[0m\n",
      "Summary  Key Fea Scheme Name LIC MF Liquid Fund Scheme Type An Open-Ended Liqu Allotment Date March 18 2002 Ideal Investment Horizon 1 Day Plus Plan Available RPDP O ti A il bl G thDi id d\n",
      ">>An Open-Ended Liqu Allotment Date March 18 2002 Ideal Investment Horizon 1 Day\n",
      "\u001b[37m2025-07-22 13:32:29 [TRACE]: >>An Open-Ended Liqu Allotment Date March 18 2002 Ideal Investment Horizon 1 Day\u001b[0m\n",
      "Summary  Key Fea Scheme Name LIC MF Ultra S Scheme Type An Open Ende instruments w 6 months (Plea Allotment Date November 27  Ideal Investment Horizon Upto 6 months l il bl\n",
      ">>An Open Ende instruments w 6 months (Plea Allotment Date November 27 Ideal Inv\n",
      "\u001b[37m2025-07-22 13:32:29 [TRACE]: >>An Open Ende instruments w 6 months (Plea Allotment Date November 27 Ideal Inv\u001b[0m\n",
      "GLOSSARY OF TER Application Amount for Fresh Subscription Th Asset allocation Investment of certain proportio Asset allocation for Equity The allocation is ba AUM AUM or assets under management refers to t Benchmark A group of securities usually a marke funds among other investments Some typical ben Beta Beta is a measure of an investments volatil greater than 1 implies that the securitys price will be Entry Load A mutual fund may have a sales charg investor purchases the units of a mutual fund The e\n",
      "Agartala Ols Rms Chowmuhani Mantri Bari Road1St Floor Near  Inn Sanjay Place In The City Of Agra Agra Uttar Pradesh 28200 Gujarat 380006  9081903021 Ajmer 302 3Rd Floor Ajmer Auto  Floor NH No- 06 Murtizapur Road Opp Radhakrishna Talkies Ako Allahabad Meena Bazar 2Nd Floor 10 S P Marg Civil Lines Sub Alleppy Kerala 688011  0477 2263055 Alwar Office Number 13 Tower Near Panchsheel Talkies Jaistambh Square Amaravathi M 7518801804 Amritsar 72-A TaylorS Road Opp Aga Heritage Cl Gujarat 380001  9081903038 Ananthapur Plot No 12-313 Bala Fin Technologies  K\n",
      "Karangal Padi  Mangalore Karnataka 575003  0824-2496289 M Opposite Brijwasi Centrum Near New Bus Stand In The City Of Ma 250002  7518801835 Mehsana Ff-21 Someshwar Shopping Ma Pradesh 231001  7518801836Moga 1St FloorDutt Road Mandir The City Of Moradabad Moradabad Uttar Pradesh 244001  7518 Mumbai 24B Raja Bahadur Compound Ambalal Doshi Marg Be Muzaffarpur Bihar 842001  7518801839 Mysore L-350 Silver T Gujarat 387001  0268-2563245 Nagerkoil Hno 451St Floor Ea Nagpur Maharashthra 440010  0712-2533040 Nanded Shop N Sharanpur Road Nasik Maharashthra 422002  0253-6608999 N Complex No2Shop No305 3Rd Floor Nagula Mitta Rode Opp Ba Delhi 110001  011 43681700 Nizamabad H No5 6 430 Above B\n",
      "\n",
      "\u001b[37m2025-07-22 13:32:34 [TRACE]: step>> get_data\u001b[0m\n",
      "\u001b[37m2025-07-22 13:32:34 [TRACE]: step>> get_generated_content\u001b[0m\n"
     ]
    }
   ],
   "source": [
    "\"\"\"LIC FUND MAIN CODE\"\"\"\n",
    "amc_id = '25_0'\n",
    "fund_name, path = \"Lic MUTUAL FUnd\", r\"C:\\Users\\kaustubh.keny\\OneDrive - Cogencis Information Services Ltd\\Documents\\2020\\LIC Mutual Fund\\25_30-Jun-20_FS.pdf\"\n",
    "# logging.info(f\"User Ran Fund Data of {amc_name}\")\n",
    "# fund_name, path= mutual_fund[amc_id]\n",
    "\n",
    "object = LIC(fund_name,amc_id,path,logger)\n",
    "title,path_pdf = object.check_and_highlight(path)\n",
    "data = object.get_data(path_pdf,title)\n",
    "extracted_text = object.get_generated_content(data)\n",
    "# object = LIC(fund_name,amc_id,path,logger)"
   ]
  },
  {
   "cell_type": "code",
   "execution_count": 16,
   "metadata": {},
   "outputs": [
    {
     "data": {
      "text/plain": [
       "{4: 'An open ended equity scheme predominantly investing in Large Cap stocks',\n",
       " 5: 'An open ended equity scheme investing across Large Cap Mid Cap Small Cap stock',\n",
       " 6: 'An open ended equity scheme investing in both Large Cap and Mid Cap stocks',\n",
       " 7: 'An open ended equity scheme investing in banking & financial companies',\n",
       " 8: 'An open ended equity linked saving scheme with a statutory lock in of 3 years',\n",
       " 9: 'An open ended equity scheme investing in infrastructure companies',\n",
       " 10: 'An open ended scheme replicatingtracking S&P BSE Sensex Index D t f All t t D',\n",
       " 11: 'An open ended scheme replicatingtracking Nifty 50 Index',\n",
       " 12: 'An open ended scheme replicatingtracking Nifty 50 Index D t f All t t N b 20 2',\n",
       " 13: 'An open ended scheme replicatingtracking Sensex Index',\n",
       " 14: 'An open ended scheme replicatingtracking Nifty 100 Index D t f All t t M h 17',\n",
       " 15: 'An open ended scheme replicatingtracking Nifty 8-13 Yr G-Sec Index',\n",
       " 16: 'An open ended hybrid scheme investing predominantly in equity and equity relate',\n",
       " 17: 'An open ended fund for investmen for children having a lock-in for at least 5 y',\n",
       " 18: 'An open ended scheme investing in arbitrage opportunities',\n",
       " 20: 'An open-ended insurance linked tax saving scheme Date of Allotment June 19 198',\n",
       " 21: 'An open ended debt scheme investing in government securities across maturity',\n",
       " 22: 'An open ended hybrid scheme investing predominantly In debt instruments',\n",
       " 23: 'An open ended medium term deb scheme investing in instruments with Macaulay Dur',\n",
       " 24: 'An open ended debt scheme predominantly investing in debt instruments o banks p',\n",
       " 25: 'An Open Ended Short Term Deb scheme investing in instruments with Macaulay dura',\n",
       " 26: 'An Open Ended Ultra Short Term Debt scheme investing in instruments with Macaul',\n",
       " 27: 'An open ended low duration deb scheme investing in instruments with Macaulay Du',\n",
       " 28: 'An open-ended debt scheme investing in overnight securities D t f All t t J l 1',\n",
       " 29: 'An open-ended liquid scheme D t f All t t M h 18 2002',\n",
       " 34: 'An Open-Ended Liqu Allotment Date March 18 2002 Ideal Investment Horizon 1 Day'}"
      ]
     },
     "execution_count": 16,
     "metadata": {},
     "output_type": "execute_result"
    }
   ],
   "source": [
    "title"
   ]
  },
  {
   "cell_type": "code",
   "execution_count": null,
   "metadata": {},
   "outputs": [],
   "source": [
    "object = LIC(fund_name,amc_id,path,logger)\n",
    "final_text = object.refine_extracted_data(extracted_text)\n",
    "dfs = object.merge_and_select_data(final_text)"
   ]
  },
  {
   "cell_type": "code",
   "execution_count": 34,
   "metadata": {},
   "outputs": [
    {
     "name": "stdout",
     "output_type": "stream",
     "text": [
      "File Saved At: C:\\Users\\kaustubh.keny\\Projects\\JSON25\\output\\jsontest\\25_31-Dec-20_FS.json\n"
     ]
    }
   ],
   "source": [
    "save_path = os.path.join(object.JSONPATH, object.FILE_NAME).replace(\".pdf\", \".json\")\n",
    "with open(save_path, 'w') as f:\n",
    "  json.dump(dfs, f, indent=2)\n",
    "print(f\"File Saved At: {save_path}\")\n",
    "\n",
    "with open(\"data.json\", 'w') as f:\n",
    "  json.dump(final_text, f, indent=2)\n",
    "  \n",
    "with open(\"extract.json\", 'w') as f:\n",
    "  json.dump(extracted_text, f, indent=2)"
   ]
  },
  {
   "cell_type": "code",
   "execution_count": 31,
   "metadata": {},
   "outputs": [
    {
     "name": "stdout",
     "output_type": "stream",
     "text": [
      "\u001b[37m2025-07-22 12:35:56 [TRACE]: step>> check_and_highlight\u001b[0m\n",
      "\u001b[32m2025-07-22 12:35:56 [INFO]: AMC Requires OCR hence: _get_ocr_title\u001b[0m\n"
     ]
    },
    {
     "data": {
      "text/html": [
       "<pre style=\"white-space:pre;overflow-x:auto;line-height:normal;font-family:Menlo,'DejaVu Sans Mono',consolas,'Courier New',monospace\"></pre>\n"
      ],
      "text/plain": []
     },
     "metadata": {},
     "output_type": "display_data"
    },
    {
     "data": {
      "text/html": [
       "<pre style=\"white-space:pre;overflow-x:auto;line-height:normal;font-family:Menlo,'DejaVu Sans Mono',consolas,'Courier New',monospace\">Weighted average image DPI is 133.1, max DPI is 861.2. The discrepancy may indicate a high detail region on this \n",
       "page, but could also indicate a problem with the input PDF file. Page image will be rendered at 400.0 DPI.\n",
       "</pre>\n"
      ],
      "text/plain": [
       "Weighted average image DPI is 133.1, max DPI is 861.2. The discrepancy may indicate a high detail region on this \n",
       "page, but could also indicate a problem with the input PDF file. Page image will be rendered at 400.0 DPI.\n"
      ]
     },
     "metadata": {},
     "output_type": "display_data"
    },
    {
     "data": {
      "text/html": [
       "<pre style=\"white-space:pre;overflow-x:auto;line-height:normal;font-family:Menlo,'DejaVu Sans Mono',consolas,'Courier New',monospace\">[tesseract] lots of diacritics - possibly poor OCR\n",
       "</pre>\n"
      ],
      "text/plain": [
       "[tesseract] lots of diacritics - possibly poor OCR\n"
      ]
     },
     "metadata": {},
     "output_type": "display_data"
    },
    {
     "data": {
      "text/html": [
       "<pre style=\"white-space:pre;overflow-x:auto;line-height:normal;font-family:Menlo,'DejaVu Sans Mono',consolas,'Courier New',monospace\">[tesseract] lots of diacritics - possibly poor OCR\n",
       "</pre>\n"
      ],
      "text/plain": [
       "[tesseract] lots of diacritics - possibly poor OCR\n"
      ]
     },
     "metadata": {},
     "output_type": "display_data"
    },
    {
     "data": {
      "text/html": [
       "<pre style=\"white-space:pre;overflow-x:auto;line-height:normal;font-family:Menlo,'DejaVu Sans Mono',consolas,'Courier New',monospace\">[tesseract] lots of diacritics - possibly poor OCR\n",
       "</pre>\n"
      ],
      "text/plain": [
       "[tesseract] lots of diacritics - possibly poor OCR\n"
      ]
     },
     "metadata": {},
     "output_type": "display_data"
    },
    {
     "data": {
      "text/html": [
       "<pre style=\"white-space:pre;overflow-x:auto;line-height:normal;font-family:Menlo,'DejaVu Sans Mono',consolas,'Courier New',monospace\"></pre>\n"
      ],
      "text/plain": []
     },
     "metadata": {},
     "output_type": "display_data"
    },
    {
     "data": {
      "text/html": [
       "<pre style=\"white-space:pre;overflow-x:auto;line-height:normal;font-family:Menlo,'DejaVu Sans Mono',consolas,'Courier New',monospace\"></pre>\n"
      ],
      "text/plain": []
     },
     "metadata": {},
     "output_type": "display_data"
    },
    {
     "data": {
      "text/html": [
       "<pre style=\"white-space:pre;overflow-x:auto;line-height:normal;font-family:Menlo,'DejaVu Sans Mono',consolas,'Courier New',monospace\"></pre>\n"
      ],
      "text/plain": []
     },
     "metadata": {},
     "output_type": "display_data"
    },
    {
     "data": {
      "text/html": [
       "<pre style=\"white-space:pre;overflow-x:auto;line-height:normal;font-family:Menlo,'DejaVu Sans Mono',consolas,'Courier New',monospace\"></pre>\n"
      ],
      "text/plain": []
     },
     "metadata": {},
     "output_type": "display_data"
    },
    {
     "data": {
      "text/html": [
       "<pre style=\"white-space:pre;overflow-x:auto;line-height:normal;font-family:Menlo,'DejaVu Sans Mono',consolas,'Courier New',monospace\"></pre>\n"
      ],
      "text/plain": []
     },
     "metadata": {},
     "output_type": "display_data"
    },
    {
     "data": {
      "text/html": [
       "<pre style=\"white-space:pre;overflow-x:auto;line-height:normal;font-family:Menlo,'DejaVu Sans Mono',consolas,'Courier New',monospace\"></pre>\n"
      ],
      "text/plain": []
     },
     "metadata": {},
     "output_type": "display_data"
    },
    {
     "name": "stderr",
     "output_type": "stream",
     "text": [
      "[WinError 2] The system cannot find the file specified\n",
      "[WinError 2] The system cannot find the file specified\n"
     ]
    },
    {
     "name": "stdout",
     "output_type": "stream",
     "text": [
      "\u001b[32m2025-07-22 12:36:07 [INFO]: Getting All titles : _get_normal_title\u001b[0m\n",
      "\n",
      "\n",
      "le some  oval has  at threate xt of nee ductions\n",
      "\n",
      "\n",
      "t ama\n",
      "ray OJANA nvesting  A-Albst)\n",
      "L FUND NA cheme\n",
      "\n",
      "TION  ARAT\n",
      "ing\n",
      "JANA me\n",
      "0 ed\n",
      "\n",
      "\n",
      "A N T A\n",
      "\n",
      "T\n",
      "g in r  ee\n",
      "CAGR Re 6 7 4\n",
      "4 2 6\n",
      "LA\n",
      "\n",
      "\u001b[37m2025-07-22 12:36:09 [TRACE]: step>> get_data\u001b[0m\n",
      "\u001b[37m2025-07-22 12:36:09 [TRACE]: step>> get_generated_content\u001b[0m\n"
     ]
    }
   ],
   "source": [
    "\"\"\"MAHINDRA MANULIFE MAIN CODE\"\"\" #incrase pages count\n",
    "\n",
    "amc_id = '26_0'\n",
    "# logging.info(f\"User Ran Fund Data of {amc_name}\")\n",
    "# fund_name, path= mutual_fund[amc_id]\n",
    "fund_name,path = \"Mahindra Manulife Mutual Fund\",r\"C:\\Users\\kaustubh.keny\\OneDrive - Cogencis Information Services Ltd\\Documents\\2020\\Mahindra Manulife Mutual Fund\\26_31-Jan-20_FS.pdf\"\n",
    "object = MahindraManu(fund_name,amc_id,path,logger)\n",
    "title,path_pdf = object.check_and_highlight(path)\n",
    "data = object.get_data(path_pdf,title)\n",
    "extracted_text = object.get_generated_content(data)"
   ]
  },
  {
   "cell_type": "code",
   "execution_count": 99,
   "metadata": {},
   "outputs": [],
   "source": [
    "object = MahindraManu(fund_name,amc_id,path,logger)\n",
    "final_text = object.refine_extracted_data(extracted_text)\n",
    "dfs = object.merge_and_select_data(final_text)"
   ]
  },
  {
   "cell_type": "code",
   "execution_count": 100,
   "metadata": {},
   "outputs": [
    {
     "name": "stdout",
     "output_type": "stream",
     "text": [
      "File Saved At: C:\\Users\\kaustubh.keny\\Projects\\JSON25\\output\\jsontest\\26_29-Feb-20_FS.json\n"
     ]
    }
   ],
   "source": [
    "save_path = os.path.join(object.JSONPATH, object.FILE_NAME).replace(\".pdf\", \".json\")\n",
    "with open(save_path, 'w') as f:\n",
    "  json.dump(dfs, f, indent=2)\n",
    "print(f\"File Saved At: {save_path}\")\n",
    "\n",
    "with open(\"data.json\", 'w') as f:\n",
    "  json.dump(final_text, f, indent=2)\n",
    "  \n",
    "with open(\"extract.json\", 'w') as f:\n",
    "  json.dump(extracted_text, f, indent=2)"
   ]
  },
  {
   "cell_type": "code",
   "execution_count": 1,
   "metadata": {},
   "outputs": [],
   "source": [
    "fund_name,path = \"Motilal Oswal Mutual Fund\", r\"C:\\Users\\kaustubh.keny\\OneDrive - Cogencis Information Services Ltd\\Documents\\2020\\Motilal Oswal Mutual Fund\\28_31-Dec-20_FS.pdf\""
   ]
  },
  {
   "cell_type": "code",
   "execution_count": null,
   "metadata": {},
   "outputs": [],
   "source": [
    "\"\"\"MOTILAL OSWAL PASSIVE MAIN CODE FILE\"\"\"\n",
    "amc_id = '28_1'\n",
    "# logging.info(f\"User Ran Fund Data of {amc_name}\")\n",
    "# fund_name, path= mutual_fund[amc_id]\n",
    "object = MotilalOswalPassive(fund_name,amc_id,path,logger)\n",
    "title,path_pdf = object.check_and_highlight(path)\n",
    "data = object.get_data(path_pdf,title)\n",
    "extracted_text = object.get_generated_content(data)"
   ]
  },
  {
   "cell_type": "code",
   "execution_count": 11,
   "metadata": {},
   "outputs": [],
   "source": [
    "object = MotilalOswalPassive(fund_name,amc_id,path,logger)\n",
    "final_text = object.refine_extracted_data(extracted_text)\n",
    "dfs = object.merge_and_select_data(final_text)"
   ]
  },
  {
   "cell_type": "code",
   "execution_count": 12,
   "metadata": {},
   "outputs": [
    {
     "name": "stdout",
     "output_type": "stream",
     "text": [
      "File Saved At: C:\\Users\\kaustubh.keny\\Projects\\JSON25\\output\\json\\28_31-Dec-20_FS.json\n"
     ]
    }
   ],
   "source": [
    "save_path = os.path.join(object.JSONPATH, object.FILE_NAME).replace(\".pdf\", \".json\")\n",
    "with open(save_path, 'w') as f:\n",
    "  json.dump(dfs, f, indent=2)\n",
    "print(f\"File Saved At: {save_path}\")\n",
    "\n",
    "with open(\"data.json\", 'w') as f:\n",
    "  json.dump(final_text, f, indent=2)\n",
    "  \n",
    "with open(\"extracted.json\", 'w') as f:\n",
    "  json.dump(extracted_text, f, indent=2)"
   ]
  },
  {
   "cell_type": "code",
   "execution_count": 50,
   "metadata": {},
   "outputs": [],
   "source": [
    "fund_name,path = \"Motilal Oswal Mutual Fund\", r\"C:\\Users\\kaustubh.keny\\OneDrive - Cogencis Information Services Ltd\\Documents\\2020\\Motilal Oswal Mutual Fund\\28_31-Dec-20_FS.pdf\""
   ]
  },
  {
   "cell_type": "code",
   "execution_count": 67,
   "metadata": {},
   "outputs": [
    {
     "name": "stdout",
     "output_type": "stream",
     "text": [
      ">>Motilal Oswal Focused 25 Fund\n",
      ">>Motilal Oswal Midcap 30 Fund\n",
      ">>Motilal Oswal Multicap 35 Fund\n",
      ">>Motilal Oswal Long Term Equity Fund\n",
      ">>Motilal Oswal Large and Midcap Fund\n",
      ">>Motilal Oswal Dynamic Fund\n",
      ">>Motilal Oswal Equity Hybrid Fund\n",
      ">>Motilal Oswal Multi Asset Fund\n",
      ">>Motilal Oswal Ultra Short Term Fund\n",
      ">>Motilal Oswal Liquid Fund\n",
      ">>Motilal Oswal Nasdaq 100 Fund of Fund\n",
      ">>Motilal Oswal Nifty 500 Fund\n",
      ">>Motilal Oswal Nifty Midcap 150 Index Fund\n",
      ">>Motilal Oswal Nifty Smallcap 250 Index Fund\n",
      ">>Motilal Oswal Nifty Bank Index Fund\n",
      ">>Motilal Oswal Nifty 50 Index Fund\n",
      ">>Motilal Oswal Nifty Next 50 Index Fund\n",
      ">>Motilal Oswal S&P 500 Index Fund\n",
      ">>Motilal Oswal M50 ETF\n",
      ">>Motilal Oswal Midcap 100 ETF\n",
      ">>Motilal Oswal Nasdaq 100 ETF\n",
      ">>Motilal Oswal 5 Year G - Sec ETF\n"
     ]
    }
   ],
   "source": [
    "\"\"\"MOTILAL OSWAL MAIN CODE FILE\"\"\" \n",
    "\n",
    "amc_id = '28_0'\n",
    "# logging.info(f\"User Ran Fund Data of {amc_name}\")\n",
    "# fund_name, path= mutual_fund[amc_id]\n",
    "object = MotilalOswal(fund_name,amc_id,path,logger)\n",
    "title,path_pdf = object.check_and_highlight(path)\n",
    "data = object.get_data(path_pdf,title)\n",
    "extracted_text = object.get_generated_content(data)"
   ]
  },
  {
   "cell_type": "code",
   "execution_count": 72,
   "metadata": {},
   "outputs": [],
   "source": [
    "object = MotilalOswal(fund_name,amc_id,path,logger)\n",
    "final_text = object.refine_extracted_data(extracted_text)\n",
    "dfs = object.merge_and_select_data(final_text)"
   ]
  },
  {
   "cell_type": "code",
   "execution_count": 73,
   "metadata": {},
   "outputs": [
    {
     "name": "stdout",
     "output_type": "stream",
     "text": [
      "File Saved At: C:\\Users\\kaustubh.keny\\Projects\\JSON25\\output\\jsontest\\28_31-Dec-20_FS.json\n"
     ]
    }
   ],
   "source": [
    "save_path = os.path.join(object.JSONPATH, object.FILE_NAME).replace(\".pdf\", \".json\")\n",
    "with open(save_path, 'w') as f:\n",
    "  json.dump(dfs, f, indent=2)\n",
    "print(f\"File Saved At: {save_path}\")\n",
    "\n",
    "with open(\"data.json\", 'w') as f:\n",
    "  json.dump(final_text, f, indent=2)\n",
    "  \n",
    "with open(\"extract.json\", 'w') as f:\n",
    "  json.dump(extracted_text, f, indent=2)"
   ]
  },
  {
   "cell_type": "code",
   "execution_count": null,
   "metadata": {},
   "outputs": [],
   "source": [
    "\"\"\"MIRAE MAIN FILE CODE PASSIVE\"\"\"\n",
    "\n",
    "amc_id = '27_1'\n",
    "# logging.info(f\"User Ran Fund Data of {amc_name}\")\n",
    "# fund_name, path= mutual_fund[amc_id]\n",
    "object = MIRAE(fund_name,amc_id,path,logger)\n",
    "title,path_pdf = object.check_and_highlight(path)\n",
    "data = object.get_data(path_pdf,title)\n",
    "extracted_text = object.get_generated_content(data)\n",
    "final_text = object.refine_extracted_data(extracted_text)\n",
    "dfs = object.merge_and_select_data(final_text)"
   ]
  },
  {
   "cell_type": "code",
   "execution_count": 51,
   "metadata": {},
   "outputs": [
    {
     "name": "stdout",
     "output_type": "stream",
     "text": [
      ">>MIRAE ASSET LARGE CAP FUND\n",
      ">>MIRAE ASSET EMERGING BLUECHIP FUND\n",
      ">>MIRAE ASSET HYBRID EQUITY FUND\n",
      ">>MIRAE ASSET TAX SAVER FUND\n",
      ">>MIRAE ASSET GREAT CONSUMER FUND\n",
      ">>MIRAE ASSET HEALTHCARE FUND\n",
      ">>MIRAE ASSET FOCUSED FUND\n",
      ">>MIRAE ASSET MIDCAP FUND\n",
      ">>MIRAE ASSET NIFTY 50 ETF\n",
      ">>MIRAE ASSET NIFTY NEXT 50 ETF\n",
      ">>MIRAE ASSET EQUITY SAVINGS FUND\n",
      ">>MIRAE ASSET CASH MANAGEMENT FUND\n",
      ">>MIRAE ASSET SAVINGS FUND\n",
      ">>MIRAE ASSET DYNAMIC BOND FUND\n",
      ">>MIRAE ASSET SHORT TERM FUND\n",
      ">>MIRAE ASSET OVERNIGHT FUND\n"
     ]
    }
   ],
   "source": [
    "\"\"\"MIRAE MAIN FILE CODE\"\"\"\n",
    "fund_name, path = \"MIRAE Mutual Fund\", r\"C:\\Users\\kaustubh.keny\\OneDrive - Cogencis Information Services Ltd\\Documents\\2020\\Mirae Asset Mutual Fund\\27_29-Feb-20_FS.pdf\"\n",
    "amc_id = '27_0'\n",
    "# logging.info(f\"User Ran Fund Data of {amc_name}\")\n",
    "# fund_name, path= mutual_fund[amc_id]\n",
    "object = MIRAE(fund_name,amc_id,path,logger)\n",
    "title,path_pdf = object.check_and_highlight(path)\n",
    "data = object.get_data(path_pdf,title)\n",
    "extracted_text = object.get_generated_content(data)\n"
   ]
  },
  {
   "cell_type": "code",
   "execution_count": 54,
   "metadata": {},
   "outputs": [],
   "source": [
    "object = MIRAE(fund_name,amc_id,path,logger)\n",
    "final_text = object.refine_extracted_data(extracted_text)\n",
    "dfs = object.merge_and_select_data(final_text)"
   ]
  },
  {
   "cell_type": "code",
   "execution_count": 55,
   "metadata": {},
   "outputs": [
    {
     "name": "stdout",
     "output_type": "stream",
     "text": [
      "File Saved At: C:\\Users\\kaustubh.keny\\Projects\\JSON25\\output\\jsontest\\27_29-Feb-20_FS.json\n"
     ]
    }
   ],
   "source": [
    "save_path = os.path.join(object.JSONPATH, object.FILE_NAME).replace(\".pdf\", \".json\")\n",
    "with open(save_path, 'w') as f:\n",
    "  json.dump(dfs, f, indent=2)\n",
    "print(f\"File Saved At: {save_path}\")\n",
    "\n",
    "with open(\"data.json\", 'w') as f:\n",
    "  json.dump(final_text, f, indent=2)\n",
    "  \n",
    "with open(\"extract.json\", 'w') as f:\n",
    "  json.dump(extracted_text, f, indent=2)"
   ]
  },
  {
   "cell_type": "code",
   "execution_count": 76,
   "metadata": {},
   "outputs": [],
   "source": [
    "fund_name,path = \"Essel Mutual Fund\",r\"C:\\Users\\kaustubh.keny\\OneDrive - Cogencis Information Services Ltd\\Documents\\2020\\Navi Mutual Fund\\56_31-Dec-20_1_FS.pdf\""
   ]
  },
  {
   "cell_type": "code",
   "execution_count": 82,
   "metadata": {},
   "outputs": [
    {
     "name": "stdout",
     "output_type": "stream",
     "text": [
      ">>ESSEL LONG TERM ADVANTAGE FUND\n",
      ">>ESSEL MULTI CAP FUND\n",
      ">>ESSEL LARGE & MIDCAP FUND\n",
      ">>ESSEL LARGE CAP EQUITY FUND\n",
      ">>ESSEL EQUITY HYBRID FUND\n",
      ">>ESSEL EQUITY HYBRID FUND\n",
      ">>ESSEL 3 IN 1 FUND\n",
      ">>ESSEL REGULAR SAVINGS FUND\n",
      ">>ESSEL ARBITRAGE FUND\n",
      ">>ESSEL ULTRA SHORT TERM FUND\n",
      ">>ESSEL LIQUID FUND\n",
      ">>ESSEL REGULAR SAVINGS FUND\n"
     ]
    }
   ],
   "source": [
    "amc_id = '56_1'\n",
    "# logging.info(f\"User Ran Fund Data of {amc_name}\")\n",
    "# fund_name, path= mutual_fund[amc_id]\n",
    "object = NAVIPassive(fund_name,amc_id,path,logger)\n",
    "title,path_pdf = object.check_and_highlight(path)\n",
    "data = object.get_data(path_pdf,title)  \n",
    "extracted_text = object.get_generated_content(data)"
   ]
  },
  {
   "cell_type": "code",
   "execution_count": 103,
   "metadata": {},
   "outputs": [],
   "source": [
    "object = NAVI(fund_name,amc_id,path,logger)\n",
    "final_text = object.refine_extracted_data(extracted_text)\n",
    "dfs = object.merge_and_select_data(final_text)"
   ]
  },
  {
   "cell_type": "code",
   "execution_count": 104,
   "metadata": {},
   "outputs": [
    {
     "name": "stdout",
     "output_type": "stream",
     "text": [
      "File Saved At: C:\\Users\\kaustubh.keny\\Projects\\JSON25\\output\\jsontest\\56_31-Dec-20_1_FS.json\n"
     ]
    }
   ],
   "source": [
    "save_path = os.path.join(object.JSONPATH, object.FILE_NAME).replace(\".pdf\", \".json\")\n",
    "with open(save_path, 'w') as f:\n",
    "  json.dump(dfs, f, indent=2)\n",
    "print(f\"File Saved At: {save_path}\")\n",
    "\n",
    "with open(\"data.json\", 'w') as f:\n",
    "  json.dump(final_text, f, indent=2)\n",
    "  \n",
    "with open(\"extract.json\", 'w') as f:\n",
    "  json.dump(extracted_text, f, indent=2)"
   ]
  },
  {
   "cell_type": "code",
   "execution_count": null,
   "metadata": {},
   "outputs": [],
   "source": [
    "\"\"\"NAVI MAIN FILE CODE\"\"\" #Issue: Left and right\n",
    "\n",
    "amc_id = '56_0'\n",
    "# logging.info(f\"User Ran Fund Data of {amc_name}\")\n",
    "# fund_name, path= mutual_fund[amc_id]\n",
    "object = NAVI(fund_name,amc_id,path,logger)\n",
    "title,path_pdf = object.check_and_highlight(path)\n",
    "data = object.get_data(path_pdf,title)\n",
    "extracted_text = object.get_generated_content(data)"
   ]
  },
  {
   "cell_type": "code",
   "execution_count": null,
   "metadata": {},
   "outputs": [
    {
     "name": "stdout",
     "output_type": "stream",
     "text": [
      "Function Running: refine_extracted_data\n"
     ]
    }
   ],
   "source": [
    "object = NAVI(fund_name,amc_id,path,logger)\n",
    "final_text = object.refine_extracted_data(extracted_text, flatten = True)\n",
    "# dfs = object.merge_and_select_data(final_text,special_handling=True)\n",
    "with open(\"test.json\",\"w+\") as file:\n",
    "    json.dump(extracted_text,file)"
   ]
  },
  {
   "cell_type": "code",
   "execution_count": 131,
   "metadata": {},
   "outputs": [
    {
     "name": "stdout",
     "output_type": "stream",
     "text": [
      "\u001b[37m2025-07-22 17:02:41 [TRACE]: step>> check_and_highlight\u001b[0m\n",
      "\u001b[32m2025-07-22 17:02:41 [INFO]: AMC Requires OCR hence: _get_ocr_title\u001b[0m\n"
     ]
    },
    {
     "data": {
      "text/html": [
       "<pre style=\"white-space:pre;overflow-x:auto;line-height:normal;font-family:Menlo,'DejaVu Sans Mono',consolas,'Courier New',monospace\"></pre>\n"
      ],
      "text/plain": []
     },
     "metadata": {},
     "output_type": "display_data"
    },
    {
     "data": {
      "text/html": [
       "<pre style=\"white-space:pre;overflow-x:auto;line-height:normal;font-family:Menlo,'DejaVu Sans Mono',consolas,'Courier New',monospace\">[tesseract] lots of diacritics - possibly poor OCR\n",
       "</pre>\n"
      ],
      "text/plain": [
       "[tesseract] lots of diacritics - possibly poor OCR\n"
      ]
     },
     "metadata": {},
     "output_type": "display_data"
    },
    {
     "data": {
      "text/html": [
       "<pre style=\"white-space:pre;overflow-x:auto;line-height:normal;font-family:Menlo,'DejaVu Sans Mono',consolas,'Courier New',monospace\">Weighted average image DPI is 161.0, max DPI is 333.2. The discrepancy may indicate a high detail region on this \n",
       "page, but could also indicate a problem with the input PDF file. Page image will be rendered at 400.0 DPI.\n",
       "</pre>\n"
      ],
      "text/plain": [
       "Weighted average image DPI is 161.0, max DPI is 333.2. The discrepancy may indicate a high detail region on this \n",
       "page, but could also indicate a problem with the input PDF file. Page image will be rendered at 400.0 DPI.\n"
      ]
     },
     "metadata": {},
     "output_type": "display_data"
    },
    {
     "data": {
      "text/html": [
       "<pre style=\"white-space:pre;overflow-x:auto;line-height:normal;font-family:Menlo,'DejaVu Sans Mono',consolas,'Courier New',monospace\"></pre>\n"
      ],
      "text/plain": []
     },
     "metadata": {},
     "output_type": "display_data"
    },
    {
     "data": {
      "text/html": [
       "<pre style=\"white-space:pre;overflow-x:auto;line-height:normal;font-family:Menlo,'DejaVu Sans Mono',consolas,'Courier New',monospace\"></pre>\n"
      ],
      "text/plain": []
     },
     "metadata": {},
     "output_type": "display_data"
    },
    {
     "data": {
      "text/html": [
       "<pre style=\"white-space:pre;overflow-x:auto;line-height:normal;font-family:Menlo,'DejaVu Sans Mono',consolas,'Courier New',monospace\"></pre>\n"
      ],
      "text/plain": []
     },
     "metadata": {},
     "output_type": "display_data"
    },
    {
     "data": {
      "text/html": [
       "<pre style=\"white-space:pre;overflow-x:auto;line-height:normal;font-family:Menlo,'DejaVu Sans Mono',consolas,'Courier New',monospace\"></pre>\n"
      ],
      "text/plain": []
     },
     "metadata": {},
     "output_type": "display_data"
    },
    {
     "data": {
      "text/html": [
       "<pre style=\"white-space:pre;overflow-x:auto;line-height:normal;font-family:Menlo,'DejaVu Sans Mono',consolas,'Courier New',monospace\"></pre>\n"
      ],
      "text/plain": []
     },
     "metadata": {},
     "output_type": "display_data"
    },
    {
     "data": {
      "text/html": [
       "<pre style=\"white-space:pre;overflow-x:auto;line-height:normal;font-family:Menlo,'DejaVu Sans Mono',consolas,'Courier New',monospace\"></pre>\n"
      ],
      "text/plain": []
     },
     "metadata": {},
     "output_type": "display_data"
    },
    {
     "name": "stderr",
     "output_type": "stream",
     "text": [
      "[WinError 2] The system cannot find the file specified\n",
      "[WinError 2] The system cannot find the file specified\n"
     ]
    },
    {
     "name": "stdout",
     "output_type": "stream",
     "text": [
      "\u001b[32m2025-07-22 17:03:18 [INFO]: Getting All titles : _get_normal_title\u001b[0m\n",
      "\n",
      "\n",
      "Fixed Income Update and Outlook\n",
      "Macro and Equity Market Updates\n",
      "Nippon India Large Cap Fund\n",
      ">>Nippon India Large Cap Fund\n",
      "\u001b[37m2025-07-22 17:03:18 [TRACE]: >>Nippon India Large Cap Fund\u001b[0m\n",
      "Nippon India Vision Fund\n",
      ">>Nippon India Vision Fund\n",
      "\u001b[37m2025-07-22 17:03:18 [TRACE]: >>Nippon India Vision Fund\u001b[0m\n",
      "Nippon India Quant Fund\n",
      ">>Nippon India Quant Fund\n",
      "\u001b[37m2025-07-22 17:03:18 [TRACE]: >>Nippon India Quant Fund\u001b[0m\n",
      "Nippon India Balanced Advantage Fund\n",
      ">>Nippon India Balanced Advantage Fund\n",
      "\u001b[37m2025-07-22 17:03:18 [TRACE]: >>Nippon India Balanced Advantage Fund\u001b[0m\n",
      "Nippon India Index Fund - Nifty Plan\n",
      ">>Nippon India Index Fund - Nifty Plan\n",
      "\u001b[37m2025-07-22 17:03:18 [TRACE]: >>Nippon India Index Fund - Nifty Plan\u001b[0m\n",
      "Nippon India Index Fund - Sensex Plan\n",
      ">>Nippon India Index Fund - Sensex Plan\n",
      "\u001b[37m2025-07-22 17:03:18 [TRACE]: >>Nippon India Index Fund - Sensex Plan\u001b[0m\n",
      "Nippon India Growth Fund\n",
      ">>Nippon India Growth Fund\n",
      "\u001b[37m2025-07-22 17:03:18 [TRACE]: >>Nippon India Growth Fund\u001b[0m\n",
      "Nippon India Focused Equity Fund\n",
      ">>Nippon India Focused Equity Fund\n",
      "\u001b[37m2025-07-22 17:03:18 [TRACE]: >>Nippon India Focused Equity Fund\u001b[0m\n",
      "Nippon India Small Cap Fund\n",
      ">>Nippon India Small Cap Fund\n",
      "\u001b[37m2025-07-22 17:03:18 [TRACE]: >>Nippon India Small Cap Fund\u001b[0m\n",
      "Nippon India Value Fund\n",
      ">>Nippon India Value Fund\n",
      "\u001b[37m2025-07-22 17:03:18 [TRACE]: >>Nippon India Value Fund\u001b[0m\n",
      "Nippon India Multi Cap Fund\n",
      ">>Nippon India Multi Cap Fund\n",
      "\u001b[37m2025-07-22 17:03:18 [TRACE]: >>Nippon India Multi Cap Fund\u001b[0m\n",
      "Nippon India Equity Hybrid Fund (Number of Segregated Portfolios- 2)\n",
      ">>Nippon India Equity Hybrid Fund (Number of Segregated Portfolios- 2)\n",
      "\u001b[37m2025-07-22 17:03:18 [TRACE]: >>Nippon India Equity Hybrid Fund (Number of Segregated Portfolios- 2)\u001b[0m\n",
      "Nippon India Equity Savings Fund (Number of Segregated Portfolios- 2)\n",
      ">>Nippon India Equity Savings Fund (Number of Segregated Portfolios- 2)\n",
      "\u001b[37m2025-07-22 17:03:18 [TRACE]: >>Nippon India Equity Savings Fund (Number of Segregated Portfolios- 2)\u001b[0m\n",
      "Nippon India Banking Fund\n",
      ">>Nippon India Banking Fund\n",
      "\u001b[37m2025-07-22 17:03:18 [TRACE]: >>Nippon India Banking Fund\u001b[0m\n",
      "Nippon India Consumption Fund\n",
      ">>Nippon India Consumption Fund\n",
      "\u001b[37m2025-07-22 17:03:18 [TRACE]: >>Nippon India Consumption Fund\u001b[0m\n",
      "Nippon India Tax Saver (ELSS) Fund\n",
      ">>Nippon India Tax Saver (ELSS) Fund\n",
      "\u001b[37m2025-07-22 17:03:18 [TRACE]: >>Nippon India Tax Saver (ELSS) Fund\u001b[0m\n",
      "Nippon India Arbitrage Fund\n",
      ">>Nippon India Arbitrage Fund\n",
      "\u001b[37m2025-07-22 17:03:18 [TRACE]: >>Nippon India Arbitrage Fund\u001b[0m\n",
      "Nippon India Japan Equity Fund\n",
      ">>Nippon India Japan Equity Fund\n",
      "\u001b[37m2025-07-22 17:03:18 [TRACE]: >>Nippon India Japan Equity Fund\u001b[0m\n",
      "Nippon India US Equity Opportunities Fund\n",
      ">>Nippon India US Equity Opportunities Fund\n",
      "\u001b[37m2025-07-22 17:03:18 [TRACE]: >>Nippon India US Equity Opportunities Fund\u001b[0m\n",
      "Nippon India Overnight Fund\n",
      ">>Nippon India Overnight Fund\n",
      "\u001b[37m2025-07-22 17:03:18 [TRACE]: >>Nippon India Overnight Fund\u001b[0m\n",
      "Nippon India Liquid Fund\n",
      ">>Nippon India Liquid Fund\n",
      "\u001b[37m2025-07-22 17:03:18 [TRACE]: >>Nippon India Liquid Fund\u001b[0m\n",
      "Nippon India Money Market Fund\n",
      ">>Nippon India Money Market Fund\n",
      "\u001b[37m2025-07-22 17:03:18 [TRACE]: >>Nippon India Money Market Fund\u001b[0m\n",
      "Nippon India vita Short Duration Fund\n",
      ">>Nippon India vita Short Duration Fund\n",
      "\u001b[37m2025-07-22 17:03:18 [TRACE]: >>Nippon India vita Short Duration Fund\u001b[0m\n",
      "Nippon India Low Duration Fund\n",
      ">>Nippon India Low Duration Fund\n",
      "\u001b[37m2025-07-22 17:03:18 [TRACE]: >>Nippon India Low Duration Fund\u001b[0m\n",
      "Nippon India Prime Debt Fund\n",
      ">>Nippon India Prime Debt Fund\n",
      "\u001b[37m2025-07-22 17:03:18 [TRACE]: >>Nippon India Prime Debt Fund\u001b[0m\n",
      "Nippon India Banking & PSU Debt Fund\n",
      ">>Nippon India Banking & PSU Debt Fund\n",
      "\u001b[37m2025-07-22 17:03:18 [TRACE]: >>Nippon India Banking & PSU Debt Fund\u001b[0m\n",
      "Nippon India Floating Rate Fund\n",
      ">>Nippon India Floating Rate Fund\n",
      "\u001b[37m2025-07-22 17:03:18 [TRACE]: >>Nippon India Floating Rate Fund\u001b[0m\n",
      "Nippon India Short Term Fund\n",
      ">>Nippon India Short Term Fund\n",
      "\u001b[37m2025-07-22 17:03:18 [TRACE]: >>Nippon India Short Term Fund\u001b[0m\n",
      "Nippon India Nivesh Lakshya Fund\n",
      ">>Nippon India Nivesh Lakshya Fund\n",
      "\u001b[37m2025-07-22 17:03:18 [TRACE]: >>Nippon India Nivesh Lakshya Fund\u001b[0m\n",
      "Nippon India Credit Risk Fund (Number of Segregated Portfolios- 2)\n",
      ">>Nippon India Credit Risk Fund (Number of Segregated Portfolios- 2)\n",
      "\u001b[37m2025-07-22 17:03:18 [TRACE]: >>Nippon India Credit Risk Fund (Number of Segregated Portfolios- 2)\u001b[0m\n",
      "Nippon India Strategic Debt Fund (Number of Segregated Portfolios- 2)\n",
      ">>Nippon India Strategic Debt Fund (Number of Segregated Portfolios- 2)\n",
      "\u001b[37m2025-07-22 17:03:18 [TRACE]: >>Nippon India Strategic Debt Fund (Number of Segregated Portfolios- 2)\u001b[0m\n",
      "Nippon India Income Fund\n",
      ">>Nippon India Income Fund\n",
      "\u001b[37m2025-07-22 17:03:18 [TRACE]: >>Nippon India Income Fund\u001b[0m\n",
      "Nippon India Dynamic Bond Fund\n",
      ">>Nippon India Dynamic Bond Fund\n",
      "\u001b[37m2025-07-22 17:03:18 [TRACE]: >>Nippon India Dynamic Bond Fund\u001b[0m\n",
      "Nippon India Gilt Securities Fund\n",
      ">>Nippon India Gilt Securities Fund\n",
      "\u001b[37m2025-07-22 17:03:18 [TRACE]: >>Nippon India Gilt Securities Fund\u001b[0m\n",
      "Nippon India Hybrid Bond Fund (Number of Segregated Portfolios- 2)\n",
      ">>Nippon India Hybrid Bond Fund (Number of Segregated Portfolios- 2)\n",
      "\u001b[37m2025-07-22 17:03:18 [TRACE]: >>Nippon India Hybrid Bond Fund (Number of Segregated Portfolios- 2)\u001b[0m\n",
      "Nippon India ETF Nifty BeES\n",
      ">>Nippon India ETF Nifty BeES\n",
      "\u001b[37m2025-07-22 17:03:18 [TRACE]: >>Nippon India ETF Nifty BeES\u001b[0m\n",
      "Nippon India ETF Sensex\n",
      ">>Nippon India ETF Sensex\n",
      "\u001b[37m2025-07-22 17:03:18 [TRACE]: >>Nippon India ETF Sensex\u001b[0m\n",
      "Nippon India ETF NV20\n",
      ">>Nippon India ETF NV20\n",
      "\u001b[37m2025-07-22 17:03:18 [TRACE]: >>Nippon India ETF NV20\u001b[0m\n",
      "Nippon India ETF Junior BeES\n",
      ">>Nippon India ETF Junior BeES\n",
      "\u001b[37m2025-07-22 17:03:18 [TRACE]: >>Nippon India ETF Junior BeES\u001b[0m\n",
      "Nippon India ETF Nifty 100\n",
      ">>Nippon India ETF Nifty 100\n",
      "\u001b[37m2025-07-22 17:03:18 [TRACE]: >>Nippon India ETF Nifty 100\u001b[0m\n",
      "Nippon India ETF Consumption\n",
      ">>Nippon India ETF Consumption\n",
      "\u001b[37m2025-07-22 17:03:18 [TRACE]: >>Nippon India ETF Consumption\u001b[0m\n",
      "Nippon India ETF Dividend Opportunities\n",
      ">>Nippon India ETF Dividend Opportunities\n",
      "\u001b[37m2025-07-22 17:03:18 [TRACE]: >>Nippon India ETF Dividend Opportunities\u001b[0m\n",
      "Nippon India ETF Infra BeES\n",
      ">>Nippon India ETF Infra BeES\n",
      "\u001b[37m2025-07-22 17:03:18 [TRACE]: >>Nippon India ETF Infra BeES\u001b[0m\n",
      "Nippon India ETF Bank BeES\n",
      ">>Nippon India ETF Bank BeES\n",
      "\u001b[37m2025-07-22 17:03:18 [TRACE]: >>Nippon India ETF Bank BeES\u001b[0m\n",
      "Nippon India ETF PSU Bank BeES\n",
      ">>Nippon India ETF PSU Bank BeES\n",
      "\u001b[37m2025-07-22 17:03:18 [TRACE]: >>Nippon India ETF PSU Bank BeES\u001b[0m\n",
      "Nippon India ETF Shariah BeES\n",
      ">>Nippon India ETF Shariah BeES\n",
      "\u001b[37m2025-07-22 17:03:18 [TRACE]: >>Nippon India ETF Shariah BeES\u001b[0m\n",
      "Nippon India ETF Nifty Midcap 150\n",
      ">>Nippon India ETF Nifty Midcap 150\n",
      "\u001b[37m2025-07-22 17:03:18 [TRACE]: >>Nippon India ETF Nifty Midcap 150\u001b[0m\n",
      "Nippon India ETF Hang Seng BeES\n",
      ">>Nippon India ETF Hang Seng BeES\n",
      "\u001b[37m2025-07-22 17:03:18 [TRACE]: >>Nippon India ETF Hang Seng BeES\u001b[0m\n",
      "Nippon India ETF Sensex Next 50\n",
      ">>Nippon India ETF Sensex Next 50\n",
      "\u001b[37m2025-07-22 17:03:18 [TRACE]: >>Nippon India ETF Sensex Next 50\u001b[0m\n",
      "CPSE ETF\n",
      ">>CPSE ETF\n",
      "\u001b[37m2025-07-22 17:03:18 [TRACE]: >>CPSE ETF\u001b[0m\n",
      "Nippon India ETF Liquid BeES\n",
      ">>Nippon India ETF Liquid BeES\n",
      "\u001b[37m2025-07-22 17:03:18 [TRACE]: >>Nippon India ETF Liquid BeES\u001b[0m\n",
      "Nippon India ETF Gold BeES\n",
      ">>Nippon India ETF Gold BeES\n",
      "\u001b[37m2025-07-22 17:03:18 [TRACE]: >>Nippon India ETF Gold BeES\u001b[0m\n",
      "Nippon India Junior BeES FOF\n",
      ">>Nippon India Junior BeES FOF\n",
      "\u001b[37m2025-07-22 17:03:18 [TRACE]: >>Nippon India Junior BeES FOF\u001b[0m\n",
      "Nippon India Retirement Fund - Wealth Creation Scheme\n",
      ">>Nippon India Retirement Fund - Wealth Creation Scheme\n",
      "\u001b[37m2025-07-22 17:03:18 [TRACE]: >>Nippon India Retirement Fund - Wealth Creation Scheme\u001b[0m\n",
      "Nippon India Retirement Fund - Income Generation Scheme\n",
      ">>Nippon India Retirement Fund - Income Generation Scheme\n",
      "\u001b[37m2025-07-22 17:03:18 [TRACE]: >>Nippon India Retirement Fund - Income Generation Scheme\u001b[0m\n",
      "\n",
      "SYSTEMATIC INVESTMENT PLAN (SIP) RETURNS\n",
      "FUND MANAGERS  EXPERIENCE AS ON MARCH 31 2020\n",
      "SCHEME PERFORMANCE AS ON MARCH 31 2020\n",
      "SCHEME PERFORMANCE AS ON MARCH 31 2020\n",
      "SCHEME PERFORMANCE AS ON MARCH 31 2020\n",
      "SCHEME PERFORMANCE AS ON MARCH 31 2020\n",
      "SCHEME PERFORMANCE AS ON MARCH 31 2020\n",
      "SCHEME PERFORMANCE AS ON MARCH 31 2020\n",
      "SCHEME PERFORMANCE AS ON MARCH 31 2020\n",
      "SCHEME PERFORMANCE AS ON MARCH 31 2020\n",
      "SCHEME PERFORMANCE - FUND MANAGER WISE AS ON MARCH 31 2020\n",
      "SCHEME PERFORMANCE - FUND MANAGER WISE AS ON MARCH 31 2020\n",
      "SCHEME PERFORMANCE - FUND MANAGER WISE AS ON MARCH 31 2020\n",
      "SCHEME PERFORMANCE - FUND MANAGER WISE AS ON MARCH 31 2020\n",
      "FUNDS AT A GLANCE\n",
      "FUNDS AT A GLANCE\n",
      "FUNDS AT A GLANCE\n",
      "FUNDS AT A GLANCE\n",
      "FUNDS AT A GLANCE\n",
      "FUNDS AT A GLANCE\n",
      "FUNDS AT A GLANCE\n",
      "DISCLAIMERS STATUTORY DETAILS & RISK FACTORS\n",
      "\n",
      "\n",
      "& RAlinnan ine AA sal Ciairnd\n",
      "\u001b[37m2025-07-22 17:03:29 [TRACE]: step>> get_data\u001b[0m\n",
      "\u001b[37m2025-07-22 17:03:32 [TRACE]: step>> get_generated_content\u001b[0m\n"
     ]
    }
   ],
   "source": [
    "\"NIPPON MAIN FILE CODE\"\n",
    "amc_id = \"33_0\"\n",
    "fund_name, path = \"Nippon Mutual Fund\", r\"C:\\Users\\kaustubh.keny\\OneDrive - Cogencis Information Services Ltd\\Documents\\2020\\Nippon India Mutual Fund\\33_31-Mar-20_FS.pdf\"\n",
    "# logging.info(f\"User Ran Fund Data of {amc_name}\")\n",
    "# path = mutual_fund[amc_name]\n",
    "object = Nippon(fund_name,amc_id,path,logger)\n",
    "title,path_pdf= object.check_and_highlight(path)\n",
    "data = object.get_data(path_pdf,title)\n",
    "extracted_text = object.get_generated_content(data)"
   ]
  },
  {
   "cell_type": "code",
   "execution_count": 136,
   "metadata": {},
   "outputs": [
    {
     "name": "stdout",
     "output_type": "stream",
     "text": [
      "\u001b[37m2025-07-22 17:06:23 [TRACE]: step>> refine_extracted_data\u001b[0m\n",
      "\u001b[37m2025-07-22 17:06:24 [TRACE]: step>> merge_and_select_data\u001b[0m\n"
     ]
    }
   ],
   "source": [
    "object = Nippon(fund_name,amc_id,path,logger)\n",
    "final_text = object.refine_extracted_data(extracted_text)\n",
    "dfs = object.merge_and_select_data(final_text)"
   ]
  },
  {
   "cell_type": "code",
   "execution_count": 138,
   "metadata": {},
   "outputs": [
    {
     "name": "stdout",
     "output_type": "stream",
     "text": [
      "File Saved At: C:\\Users\\kaustubh.keny\\Projects\\JSON25\\output\\json\\33_31-Mar-20_FS.json\n"
     ]
    }
   ],
   "source": [
    "save_path = os.path.join(object.JSONPATH, object.FILE_NAME).replace(\".pdf\", \".json\")\n",
    "with open(save_path, 'w') as f:\n",
    "  json.dump(dfs, f, indent=2)\n",
    "print(f\"File Saved At: {save_path}\")\n",
    "\n",
    "with open(\"data.json\", 'w') as f:\n",
    "  json.dump(final_text, f, indent=2)\n",
    "  \n",
    "with open(\"extract.json\", 'w') as f:\n",
    "  json.dump(extracted_text, f, indent=2)"
   ]
  },
  {
   "cell_type": "code",
   "execution_count": null,
   "metadata": {},
   "outputs": [
    {
     "name": "stdout",
     "output_type": "stream",
     "text": [
      "Function Running: check_and_highlight\n",
      "Function Running: _get_normal_title\n",
      "Regex: (NJ.+?(?:FUNDS?|ETF|F[Oo]F|PATH|SCHEME|PLAN)\\s*(?:OF FUNDS?|FUND OF FUNDS?|F[Oo]F|FUNDS?)?)\n",
      "01 -- NJ FLEXI CAP FUND\n",
      "02 -- NJ FLEXI CAP FUND\n",
      "03 -- NJ ELSS TAX SAVER SCHEME\n",
      "04 -- NJ ELSS TAX SAVER SCHEME\n",
      "05 -- NJ BALANCED ADVANTAGE FUND\n",
      "06 -- NJ BALANCED ADVANTAGE FUND\n",
      "07 -- NJ ARBITRAGE FUND\n",
      "08 -- NJ ARBITRAGE FUND\n",
      "09 -- NJ OVERNIGHT FUND\n",
      "10 -- NJ OVERNIGHT FUND\n",
      "Function Running: get_data\n",
      "Function Running: extract_clipped_data\n",
      "Function Running: extract_span_data\n",
      "Function Running: process_text_data\n",
      "Function Running: create_nested_dict\n"
     ]
    }
   ],
   "source": [
    "\"\"\"NJMF MAIN CODE FILE\"\"\"\n",
    "\n",
    "amc_id = '57_0'\n",
    "# logging.info(f\"User Ran Fund Data of {amc_name}\")\n",
    "fund_name, path= mutual_fund[amc_id]\n",
    "object = NJMF(fund_name,amc_id,path,logger)\n",
    "title,path_pdf = object.check_and_highlight(path)\n",
    "data = object.get_data(path_pdf,title)\n",
    "# extracted_text = object.get_generated_content(data)\n",
    "# final_text = object.refine_extracted_data(extracted_text)\n",
    "# dfs = object.merge_and_select_data(final_text,special_handling=True)"
   ]
  },
  {
   "cell_type": "code",
   "execution_count": null,
   "metadata": {},
   "outputs": [],
   "source": [
    "\"\"\"OlD BriDGE MAIN CODE\"\"\"\n",
    "amc_name = \"Old Bridge Mutual Fund\"\n",
    "logging.info(f\"User Ran Fund Data of {amc_name}\")\n",
    "path = mutual_fund[amc_name]\n",
    "object = OldBridge(amc_name,path)\n",
    "title,path_pdf = object.check_and_highlight(path)\n",
    "\n",
    "data = object.get_data(path_pdf,title)\n",
    "extracted_text = object.get_generated_content(data)\n",
    "\n",
    "final_text = object.refine_extracted_data(extracted_text, flatten = True)\n",
    "dfs = object.merge_and_select_data(final_text,map_keys= True, special_handling=True)\n",
    "Helper.quick_json_dump(dfs, object.JSONPATH)"
   ]
  },
  {
   "cell_type": "code",
   "execution_count": 129,
   "metadata": {},
   "outputs": [],
   "source": [
    "fund_name,path = \"PGIM Mutual Fund\",r\"C:\\Users\\kaustubh.keny\\OneDrive - Cogencis Information Services Ltd\\Documents\\2020\\PGIM India Mutual Fund\\7_31-Dec-20_FS.pdf.pdf\""
   ]
  },
  {
   "cell_type": "code",
   "execution_count": null,
   "metadata": {},
   "outputs": [],
   "source": [
    "\"\"\"PGIM MAIN FILE CODE\"\"\" #ISSUES: Clean data further\n",
    "\n",
    "amc_id = '7_0'\n",
    "# logging.info(f\"User Ran Fund Data of {amc_name}\")\n",
    "# fund_name, path= mutual_fund[amc_id]\n",
    "object = PGIM(fund_name,amc_id,path,logger)\n",
    "title,path_pdf = object.check_and_highlight(path)\n",
    "data = object.get_data(path_pdf,title)\n"
   ]
  },
  {
   "cell_type": "code",
   "execution_count": 137,
   "metadata": {},
   "outputs": [],
   "source": [
    "object = PGIM(fund_name,amc_id,path,logger)\n",
    "extracted_text = object.get_generated_content(data)\n",
    "final_text = object.refine_extracted_data(extracted_text)\n",
    "dfs = object.merge_and_select_data(final_text)\n"
   ]
  },
  {
   "cell_type": "code",
   "execution_count": 26,
   "metadata": {},
   "outputs": [],
   "source": [
    "fund_name,path = \"Quant Mutual Fund\",r\"C:\\Users\\kaustubh.keny\\OneDrive - Cogencis Information Services Ltd\\Documents\\2020\\Quant Mutual Fund\\10_31-Oct-20_FS.pdf\""
   ]
  },
  {
   "cell_type": "code",
   "execution_count": 30,
   "metadata": {},
   "outputs": [
    {
     "name": "stdout",
     "output_type": "stream",
     "text": [
      ">>quant Liquid Fund\n",
      ">>quant Liquid Fund\n",
      ">>quant Active Fund\n",
      ">>quant Active Fund\n",
      ">>quant Small Cap Fund\n",
      ">>quant Small Cap Fund\n",
      ">>quant Tax Plan\n",
      ">>quant Tax Plan\n",
      ">>quant Mid Cap Fund\n",
      ">>quant Mid Cap Fund\n",
      ">>quant Large & Mid Cap Fund\n",
      ">>quant Large & Mid Cap Fund\n",
      ">>quant Focused Fund\n",
      ">>quant Focused Fund\n",
      ">>quant Multi Asset Fund\n",
      ">>quant Multi Asset Fund\n",
      ">>quant Absolute Fund\n",
      ">>quant Absolute Fund\n",
      ">>quant Infrastructure Fund\n",
      ">>quant Infrastructure Fund\n",
      ">>quant Consumption Fund\n",
      ">>quant Consumption Fund\n",
      ">>quant Dynamic Bond\n",
      ">>quant Money Market Fund\n",
      ">>quant Active Fund\n"
     ]
    }
   ],
   "source": [
    "\"\"\"QUANT MAIN CODE FILE\"\"\"\n",
    "\n",
    "amc_id = '10_0'\n",
    "# logging.info(f\"User Ran Fund Data of {amc_name}\")\n",
    "# fund_name, path= mutual_fund[amc_id]\n",
    "object = QuantMF(fund_name,amc_id,path,logger)\n",
    "title,path_pdf = object.check_and_highlight(path)\n",
    "data = object.get_data(path_pdf,title)\n",
    "extracted_text = object.get_generated_content(data)"
   ]
  },
  {
   "cell_type": "code",
   "execution_count": 31,
   "metadata": {},
   "outputs": [],
   "source": [
    "object = QuantMF(fund_name,amc_id,path,logger)\n",
    "final_text = object.refine_extracted_data(extracted_text)\n",
    "dfs = object.merge_and_select_data(final_text)"
   ]
  },
  {
   "cell_type": "code",
   "execution_count": 32,
   "metadata": {},
   "outputs": [
    {
     "name": "stdout",
     "output_type": "stream",
     "text": [
      "File Saved At: C:\\Users\\kaustubh.keny\\Projects\\JSON25\\output\\jsontest\\10_31-Oct-20_FS.json\n"
     ]
    }
   ],
   "source": [
    "save_path = os.path.join(object.JSONPATH, object.FILE_NAME).replace(\".pdf\", \".json\")\n",
    "with open(save_path, 'w') as f:\n",
    "  json.dump(dfs, f, indent=2)\n",
    "print(f\"File Saved At: {save_path}\")\n",
    "\n",
    "with open(\"data.json\", 'w') as f:\n",
    "  json.dump(final_text, f, indent=2)\n",
    "  \n",
    "with open(\"extract.json\", 'w') as f:\n",
    "  json.dump(extracted_text, f, indent=2)"
   ]
  },
  {
   "cell_type": "code",
   "execution_count": 68,
   "metadata": {},
   "outputs": [
    {
     "name": "stdout",
     "output_type": "stream",
     "text": [
      "\u001b[37m2025-07-22 16:10:40 [TRACE]: step>> check_and_highlight\u001b[0m\n",
      "\u001b[32m2025-07-22 16:10:40 [INFO]: Getting All titles : _get_normal_title\u001b[0m\n",
      "\n",
      "CONTENTS INDEX\n",
      "Quantums View For October 2020\n",
      "Chart1 Developed world staring at a second wave\n",
      "Initial trends of Q2FY21 results have generally been positive with companies doing better than a which were fairly muted after Covid related lockdowns The strong recovery numbers could have pent up demand as well as inventory build-up as companies gear up for the festive season The\n",
      "\n",
      "\n",
      "Outlook for gold remains positive Nothing has changed about the economic drivers that have pushed gold to all-time highs The Covid-19 pandemic is far from over we are in the middle of a deep global recession central li idi d h i i l b ll i l d b\n",
      "QUANTUM LONG TERM EQUITY VALUE FUND An Open Ended Equity Scheme following a Value Investment Strategy\n",
      ">>QUANTUM LONG TERM EQUITY VALUE FUND\n",
      "\u001b[37m2025-07-22 16:10:40 [TRACE]: >>QUANTUM LONG TERM EQUITY VALUE FUND\u001b[0m\n",
      "Key Statistics  Standard Deviation 2038 Beta 093 Brokerages & Commissions Details Brokerages on Investments for October 2020\n",
      "SIP Performance  Total Amount Mkt Value as on S&P BSE 200 TR Scheme Returns\n",
      "Name of Instrument Quantity Industry  Rating Portfolio as on October 31 2020 QUANTUM LONG TERM EQUITY VALUE FUND Mark V l\n",
      ">>QUANTUM LONG TERM EQUITY VALUE FUND\n",
      "\u001b[37m2025-07-22 16:10:40 [TRACE]: >>QUANTUM LONG TERM EQUITY VALUE FUND\u001b[0m\n",
      "PERFORMANCE OF THE FUNDS MANAGED BY ATUL KUM QUANTUM TAX SAVING FUND\n",
      ">>QUANTUM TAX SAVING FUND\n",
      "\u001b[37m2025-07-22 16:10:40 [TRACE]: >>QUANTUM TAX SAVING FUND\u001b[0m\n",
      "QUANTUM TAX SAVING FUND An Open Ended Equity Linked Saving Scheme with a Statutory Lock in of 3 years and Tax Benet\n",
      ">>QUANTUM TAX SAVING FUND\n",
      "\u001b[37m2025-07-22 16:10:40 [TRACE]: >>QUANTUM TAX SAVING FUND\u001b[0m\n",
      "Key Statistics  Brokerages & Commissions Details Standard Deviation 20 20 Beta 0 93 Brokerages on Investments for October 2020\n",
      "SIP Performance\n",
      "Portfolio as on October 31 2020 QUANTUM TAX SAVING FUND\n",
      ">>QUANTUM TAX SAVING FUND\n",
      "\u001b[37m2025-07-22 16:10:40 [TRACE]: >>QUANTUM TAX SAVING FUND\u001b[0m\n",
      "PERFORMANCE OF THE FUNDS MANAGED BY ATUL KUM QUANTUM LONG TERM EQUITY VALUE FUND\n",
      ">>QUANTUM LONG TERM EQUITY VALUE FUND\n",
      "\u001b[37m2025-07-22 16:10:40 [TRACE]: >>QUANTUM LONG TERM EQUITY VALUE FUND\u001b[0m\n",
      "QUANTUM EQUITY FUND OF FUNDS An Open Ended Fund of Funds scheme Investing in Open Ended Diversied Equity Schemes of Mutual Fund\n",
      ">>QUANTUM EQUITY FUND OF FUNDS\n",
      "\u001b[37m2025-07-22 16:10:40 [TRACE]: >>QUANTUM EQUITY FUND OF FUNDS\u001b[0m\n",
      "Brokerages & Commissions Details Standard Deviation Beta 0 93 Key Statistics Brokerages on Investments for October 2020\n",
      "SIP Performance of Quantum Equity Fund of Funds - Direct Plan - Growth Option as on Oc SIP Performance\n",
      "GIPS Compliance\n",
      "QUANTUM GOLD FUND Mr Chirag Mehta eective from May 1 2009Co-managing with Ms Ghazal Jain eective fro P i d Oct 31 2019 to Oct 31 2017 to\n",
      ">>QUANTUM GOLD FUND\n",
      "\u001b[37m2025-07-22 16:10:40 [TRACE]: >>QUANTUM GOLD FUND\u001b[0m\n",
      "QUANTUM INDIA ESG EQUITY FUND (An Open ended equity scheme investing in companies following Environment Social and Governance (ESG) theme)\n",
      ">>QUANTUM INDIA ESG EQUITY FUND\n",
      "\u001b[37m2025-07-22 16:10:40 [TRACE]: >>QUANTUM INDIA ESG EQUITY FUND\u001b[0m\n",
      "Key Statistics  Standard Deviation N A Beta N A Brokerages & Commissions Details Brokerages on Investments for October 2020\n",
      "SIP Performance of Quantum India ESG Equity Fund - Direct Plan as on Octo SIP Performance\n",
      "Name of Instrument Quant Industry Portfolio as on October 31 2020 QUANTUM INDIA ESG EQUITY FUND\n",
      ">>QUANTUM INDIA ESG EQUITY FUND\n",
      "\u001b[37m2025-07-22 16:10:40 [TRACE]: >>QUANTUM INDIA ESG EQUITY FUND\u001b[0m\n",
      "PERFORMANCE OF THE FUNDS MANAGED BY CHIRAG ME QUANTUM MULTI ASSET FUND OF FUNDS C i l i h il h Sh  i f l 20 2\n",
      ">>QUANTUM MULTI ASSET FUND OF FUNDS\n",
      "\u001b[37m2025-07-22 16:10:40 [TRACE]: >>QUANTUM MULTI ASSET FUND OF FUNDS\u001b[0m\n",
      "QUANTUM GOLD SAVINGS FUND Mr Chirag Mehta eective from May 19 2011Co-managing with Ms Ghazal Jain eective fro Oct 31 2019 to Oct 31 2017 to\n",
      ">>QUANTUM GOLD SAVINGS FUND\n",
      "\u001b[37m2025-07-22 16:10:40 [TRACE]: >>QUANTUM GOLD SAVINGS FUND\u001b[0m\n",
      "QUANTUM LIQUID FUND An Open Ended Liquid Scheme\n",
      ">>QUANTUM LIQUID FUND\n",
      "\u001b[37m2025-07-22 16:10:40 [TRACE]: >>QUANTUM LIQUID FUND\u001b[0m\n",
      "Brokerages & Commissions Details Average Maturity as on October 31 2020 (Days) At the end of the month  42 Average during the month 37 Brokerages on Investments for October 2020\n",
      "Quantum Liquid Fund Performance as on October 31 2020 Mr Pankaj Pathak is the Fund Manager eective from March 01 2017 For other Schemes Managed by Mr Pankaj Pathak please see page no 34\n",
      "Investor Exit Upon Subscription   Exit Load as a  of Redemption Proceeds  Day 1   00070 Day 2 00065 Exit Load\n",
      "PERFORMANCE OF THE FUNDS MANAGED BY PANKAJ PA QUANTUM DYNAMIC BOND FUND\n",
      ">>QUANTUM DYNAMIC BOND FUND\n",
      "\u001b[37m2025-07-22 16:10:40 [TRACE]: >>QUANTUM DYNAMIC BOND FUND\u001b[0m\n",
      "QUANTUM DYNAMIC BOND FUND An Open Ended Dynamic Debt Scheme Investing Across Duration\n",
      ">>QUANTUM DYNAMIC BOND FUND\n",
      "\u001b[37m2025-07-22 16:10:40 [TRACE]: >>QUANTUM DYNAMIC BOND FUND\u001b[0m\n",
      "Brokerages & Commissions Details Average Maturity as on October 31 2020 (Years) At the end of the month  522 Brokerages on Investments for October 2020\n",
      "Mr Pankaj Pathak is the Fund Manager eective from March 01 2017 h h d b k h k l Quantum Dynamic Bond Fund Performance as on October 29 2020\n",
      "Name of Instrument Rating Portfolio as on October 31 2020 QUANTUM DYNAMIC BOND FUND Market Value I L kh\n",
      ">>QUANTUM DYNAMIC BOND FUND\n",
      "\u001b[37m2025-07-22 16:10:40 [TRACE]: >>QUANTUM DYNAMIC BOND FUND\u001b[0m\n",
      "Name of the Scheme This product is suitable for investors who are seeking Riskome Product Labeling\n",
      "QUANTUM GOLD SAVINGS FUND An Open Ended Fund of Fund Scheme Investing in Quantum Gold Fund\n",
      ">>QUANTUM GOLD SAVINGS FUND\n",
      "\u001b[37m2025-07-22 16:10:40 [TRACE]: >>QUANTUM GOLD SAVINGS FUND\u001b[0m\n",
      "Brokerages & Commissions Details Brokerages on Investments for October 2020\n",
      "Quantum Gold Savings Fund - Regular Plan Performance of the Scheme\n",
      "PERFORMANCE OF THE FUNDS MANAGED BY CHIRAG ME QUANTUM MULTI ASSET FUND OF FUNDS\n",
      ">>QUANTUM MULTI ASSET FUND OF FUNDS\n",
      "\u001b[37m2025-07-22 16:10:40 [TRACE]: >>QUANTUM MULTI ASSET FUND OF FUNDS\u001b[0m\n",
      "QUANTUM GOLD FUND Mr Chirag Mehta eective from May 1 2009Co-managing with Ms Ghazal Jain eective fro P i d Oct 31 2019 to Oct 31 2017 to\n",
      ">>QUANTUM GOLD FUND\n",
      "\u001b[37m2025-07-22 16:10:40 [TRACE]: >>QUANTUM GOLD FUND\u001b[0m\n",
      "QUANTUM MULTI ASSET FUND OF FUNDS An Open Ended Fund of Funds Scheme Investing in schemes of Quantum Mutual Fund\n",
      ">>QUANTUM MULTI ASSET FUND OF FUNDS\n",
      "\u001b[37m2025-07-22 16:10:40 [TRACE]: >>QUANTUM MULTI ASSET FUND OF FUNDS\u001b[0m\n",
      "Brokerages & Commissions Details Key Statistics  Standard Deviation Beta 0 84 Brokerages on Investments for October 2020\n",
      "SIP Performance of Quantum Multi Asset Fund of Funds - Direct Plan as on Oc SIP Performance\n",
      "PERFORMANCE OF THE FUNDS MANAGED BY CHIRAG ME QUANTUM GOLD FUND\n",
      ">>QUANTUM GOLD FUND\n",
      "\u001b[37m2025-07-22 16:10:40 [TRACE]: >>QUANTUM GOLD FUND\u001b[0m\n",
      "QUANTUM INDIA ESG EQUITY FUND Mr Chirag Mehta eective from July 12 2019Co-managing with Ms Sneha Joshi  eective fro Oct 31 2019 to Oct 31 2017 to\n",
      ">>QUANTUM INDIA ESG EQUITY FUND\n",
      "\u001b[37m2025-07-22 16:10:40 [TRACE]: >>QUANTUM INDIA ESG EQUITY FUND\u001b[0m\n",
      "QUANTUM GOLD FUND An Open Ended Scheme Replicating  Tracking Gold\n",
      ">>QUANTUM GOLD FUND\n",
      "\u001b[37m2025-07-22 16:10:40 [TRACE]: >>QUANTUM GOLD FUND\u001b[0m\n",
      "Brokerages & Commissions Details Tracking  Error Brokerages on Investments for October 2020  Key Statistics\n",
      "Name of Instrument Quantity M V Portfolio as on October 31 2020 QUANTUM GOLD FUND\n",
      ">>QUANTUM GOLD FUND\n",
      "\u001b[37m2025-07-22 16:10:40 [TRACE]: >>QUANTUM GOLD FUND\u001b[0m\n",
      "Period QUANTUM EQUITY FUND OF FUNDS Eective from November 01 2013 Period Oct 31 2019 to ( ) Oct 31 2017 to ( )\n",
      ">>QUANTUM EQUITY FUND OF FUNDS\n",
      "\u001b[37m2025-07-22 16:10:40 [TRACE]: >>QUANTUM EQUITY FUND OF FUNDS\u001b[0m\n",
      "QUANTUM NIFTY ETF An Open Ended Scheme Replicating  Tracking Nifty 50 Index\n",
      ">>QUANTUM NIFTY ETF\n",
      "\u001b[37m2025-07-22 16:10:40 [TRACE]: >>QUANTUM NIFTY ETF\u001b[0m\n",
      "Brokerages & Commissions Details Key Statistics  Tracking  Error Brokerages on Investments for October 2020\n",
      "Quantity Industry+ Name of Instrument Portfolio as on October 31 2020 QUANTUM NIFTY ETF\n",
      ">>QUANTUM NIFTY ETF\n",
      "\u001b[37m2025-07-22 16:10:40 [TRACE]: >>QUANTUM NIFTY ETF\u001b[0m\n",
      "GIPS Compliance\n",
      "COMPARISON CHART\n",
      "SCHEME FEATURES\n",
      "QUANTUM\n",
      "\n",
      "QUANTUM INDIA ESG EQUITY FUND An Open ended equity scheme investing in companies following Environment Social and Governance (ESG) theme\n",
      ">>QUANTUM INDIA ESG EQUITY FUND\n",
      "\u001b[37m2025-07-22 16:10:40 [TRACE]: >>QUANTUM INDIA ESG EQUITY FUND\u001b[0m\n",
      "HOW TO READ THE FACTSHEE F d M A l f h h l f d\n",
      "STATUTORY DETAILS & RISK FACTO Di l i S D il & Ri k F\n",
      "\u001b[37m2025-07-22 16:10:49 [TRACE]: step>> get_data\u001b[0m\n",
      "\u001b[37m2025-07-22 16:10:50 [TRACE]: step>> get_generated_content\u001b[0m\n"
     ]
    }
   ],
   "source": [
    "\"\"\"QUANTUM MAIN FILE CODE\"\"\"\n",
    "\n",
    "amc_id = '32_0'\n",
    "fund_name,path = \"Quantum Mutual Fund\",r\"C:\\Users\\kaustubh.keny\\OneDrive - Cogencis Information Services Ltd\\Documents\\2020\\Quantum Mutual Fund\\32_31-Oct-20_FS.pdf\"\n",
    "# logging.info(f\"User Ran Fund Data of {amc_name}\")\n",
    "# fund_name, path= mutual_fund[amc_id]\n",
    "object = Quantum(fund_name,amc_id,path,logger)\n",
    "title,path_pdf = object.check_and_highlight(path)\n",
    "data = object.get_data(path_pdf,title)\n",
    "extracted_text = object.get_generated_content(data)"
   ]
  },
  {
   "cell_type": "code",
   "execution_count": 72,
   "metadata": {},
   "outputs": [
    {
     "name": "stdout",
     "output_type": "stream",
     "text": [
      "\u001b[37m2025-07-22 16:19:17 [TRACE]: step>> refine_extracted_data\u001b[0m\n",
      "\u001b[37m2025-07-22 16:19:17 [TRACE]: step>> merge_and_select_data\u001b[0m\n"
     ]
    }
   ],
   "source": [
    "object = Quantum(fund_name,amc_id,path,logger)\n",
    "final_text = object.refine_extracted_data(extracted_text)\n",
    "dfs = object.merge_and_select_data(final_text)"
   ]
  },
  {
   "cell_type": "code",
   "execution_count": 73,
   "metadata": {},
   "outputs": [
    {
     "name": "stdout",
     "output_type": "stream",
     "text": [
      "File Saved At: C:\\Users\\kaustubh.keny\\Projects\\JSON25\\output\\json\\32_31-Oct-20_FS.json\n"
     ]
    }
   ],
   "source": [
    "save_path = os.path.join(object.JSONPATH, object.FILE_NAME).replace(\".pdf\", \".json\")\n",
    "with open(save_path, 'w') as f:\n",
    "  json.dump(dfs, f, indent=2)\n",
    "print(f\"File Saved At: {save_path}\")\n",
    "\n",
    "with open(\"data.json\", 'w') as f:\n",
    "  json.dump(final_text, f, indent=2)\n",
    "  \n",
    "with open(\"extract.json\", 'w') as f:\n",
    "  json.dump(extracted_text, f, indent=2)"
   ]
  },
  {
   "cell_type": "code",
   "execution_count": null,
   "metadata": {},
   "outputs": [],
   "source": [
    "\"\"\"SAMCO PDF FILE MAIN CODE\"\"\" # pages =  [3, 5, 7, 9, 11, 13, 15, 17, 18]\n",
    "\n",
    "amc_id = '58_0'\n",
    "# logging.info(f\"User Ran Fund Data of {amc_name}\")\n",
    "fund_name, path= mutual_fund[amc_id]\n",
    "object = Samco(fund_name,amc_id,path,logger)\n",
    "title,path_pdf = object.check_and_highlight(path)\n",
    "data = object.get_data(path_pdf,title)\n",
    "extracted_text = object.get_generated_content(data)\n",
    "final_text = object.refine_extracted_data(extracted_text)\n",
    "dfs = object.merge_and_select_data(final_text, map_keys = True, special_handling=True)"
   ]
  },
  {
   "cell_type": "code",
   "execution_count": null,
   "metadata": {},
   "outputs": [],
   "source": [
    "\"\"\"SBI PASSIVE PDF FILE MAIN CODE\"\"\" \n",
    "\n",
    "amc_id = '35_1'\n",
    "# logging.info(f\"User Ran Fund Data of {amc_name}\")\n",
    "# fund_name, path= mutual_fund[amc_id]\n",
    "fund_name,path = \"SBI Mutual Fund\",r\"C:\\Users\\kaustubh.keny\\OneDrive - Cogencis Information Services Ltd\\Documents\\2020\\SBI Mutual Fund\\35_30-Sep-20_1_FS.pdf\"\n",
    "object = SBIPassive(fund_name,amc_id,path,logger)\n",
    "title,path_pdf = object.check_and_highlight(path)\n",
    "data = object.get_data(path_pdf,title)\n",
    "extracted_text = object.get_generated_content(data)"
   ]
  },
  {
   "cell_type": "code",
   "execution_count": 36,
   "metadata": {},
   "outputs": [],
   "source": [
    "object = SBIPassive(fund_name,amc_id,path,logger)\n",
    "final_text = object.refine_extracted_data(extracted_text)\n",
    "dfs = object.merge_and_select_data(final_text)"
   ]
  },
  {
   "cell_type": "code",
   "execution_count": 37,
   "metadata": {},
   "outputs": [
    {
     "name": "stdout",
     "output_type": "stream",
     "text": [
      "File Saved At: C:\\Users\\kaustubh.keny\\Projects\\JSON25\\output\\jsontest\\35_30-Sep-20_1_FS.json\n"
     ]
    }
   ],
   "source": [
    "save_path = os.path.join(object.JSONPATH, object.FILE_NAME).replace(\".pdf\", \".json\")\n",
    "with open(save_path, 'w') as f:\n",
    "  json.dump(dfs, f, indent=2)\n",
    "print(f\"File Saved At: {save_path}\")\n",
    "\n",
    "with open(\"data.json\", 'w') as f:\n",
    "  json.dump(final_text, f, indent=2)\n",
    "  \n",
    "with open(\"extract.json\", 'w') as f:\n",
    "  json.dump(extracted_text, f, indent=2)"
   ]
  },
  {
   "cell_type": "code",
   "execution_count": null,
   "metadata": {},
   "outputs": [],
   "source": [
    "\"\"\"SBI PDF FILE MAIN CODE\"\"\" \n",
    "amc_id = '35_0'\n",
    "fund_name,path = \"SBI Mutual Fund\",r\"C:\\Users\\kaustubh.keny\\OneDrive - Cogencis Information Services Ltd\\Documents\\2020\\SBI Mutual Fund\\35_31-Jan-20_FS.pdf\"\n",
    "# logging.info(f\"User Ran Fund Data of {amc_name}\")\n",
    "# fund_name, path= mutual_fund[amc_id]\n",
    "object = SBI(fund_name,amc_id,path,logger)\n",
    "title,path_pdf = object.check_and_highlight(path)\n",
    "data = object.get_data(path_pdf,title)\n",
    "extracted_text = object.get_generated_content(data)"
   ]
  },
  {
   "cell_type": "code",
   "execution_count": 39,
   "metadata": {},
   "outputs": [
    {
     "data": {
      "text/plain": [
       "{}"
      ]
     },
     "execution_count": 39,
     "metadata": {},
     "output_type": "execute_result"
    }
   ],
   "source": [
    "title"
   ]
  },
  {
   "cell_type": "code",
   "execution_count": 28,
   "metadata": {},
   "outputs": [
    {
     "name": "stderr",
     "output_type": "stream",
     "text": [
      "_match_with_patterns->special\n",
      "list index out of range\n"
     ]
    }
   ],
   "source": [
    "object = SBI(fund_name,amc_id,path,logger)\n",
    "final_text = object.refine_extracted_data(extracted_text)\n",
    "dfs = object.merge_and_select_data(final_text)"
   ]
  },
  {
   "cell_type": "code",
   "execution_count": 29,
   "metadata": {},
   "outputs": [
    {
     "name": "stdout",
     "output_type": "stream",
     "text": [
      "File Saved At: C:\\Users\\kaustubh.keny\\Projects\\JSON25\\output\\jsontest\\35_31-Dec-20_FS.json\n"
     ]
    }
   ],
   "source": [
    "save_path = os.path.join(object.JSONPATH, object.FILE_NAME).replace(\".pdf\", \".json\")\n",
    "with open(save_path, 'w') as f:\n",
    "  json.dump(dfs, f, indent=2)\n",
    "print(f\"File Saved At: {save_path}\")\n",
    "\n",
    "with open(\"data.json\", 'w') as f:\n",
    "  json.dump(final_text, f, indent=2)\n",
    "  \n",
    "with open(\"extract.json\", 'w') as f:\n",
    "  json.dump(extracted_text, f, indent=2)"
   ]
  },
  {
   "cell_type": "code",
   "execution_count": 2,
   "metadata": {},
   "outputs": [],
   "source": [
    "fund_name, path = \"Sundaram Mutual Fund\", r\"C:\\Users\\kaustubh.keny\\OneDrive - Cogencis Information Services Ltd\\Documents\\2020\\Sundaram Mutual Fund\\37_31-Aug-20_FS.pdf\""
   ]
  },
  {
   "cell_type": "code",
   "execution_count": null,
   "metadata": {},
   "outputs": [],
   "source": [
    "\"\"\"SUNDARAM MAIN FILE CODE\"\"\"\n",
    "\n",
    "amc_id = '37_0'\n",
    "# logging.info(f\"User Ran Fund Data of {amc_name}\")\n",
    "# fund_name, path= mutual_fund[amc_id]\n",
    "object = Sundaram(fund_name,amc_id,path,logger)\n",
    "title,path_pdf = object.check_and_highlight(path)\n",
    "data = object.get_data(path_pdf,title)\n",
    "extracted_text = object.get_generated_content(data)"
   ]
  },
  {
   "cell_type": "code",
   "execution_count": 38,
   "metadata": {},
   "outputs": [],
   "source": [
    "object = Sundaram(fund_name,amc_id,path,logger)\n",
    "final_text = object.refine_extracted_data(extracted_text)\n",
    "dfs = object.merge_and_select_data(final_text)"
   ]
  },
  {
   "cell_type": "code",
   "execution_count": 6,
   "metadata": {},
   "outputs": [
    {
     "name": "stdout",
     "output_type": "stream",
     "text": [
      "File Saved At: C:\\Users\\kaustubh.keny\\Projects\\JSON25\\output\\jsontest\\35_31-Dec-20_FS.json\n"
     ]
    }
   ],
   "source": [
    "save_path = os.path.join(object.JSONPATH, object.FILE_NAME).replace(\".pdf\", \".json\")\n",
    "with open(save_path, 'w') as f:\n",
    "  json.dump(dfs, f, indent=2)\n",
    "print(f\"File Saved At: {save_path}\")\n",
    "\n",
    "with open(\"data.json\", 'w') as f:\n",
    "  json.dump(final_text, f, indent=2)\n",
    "  \n",
    "with open(\"extract.json\", 'w') as f:\n",
    "  json.dump(extracted_text, f, indent=2)"
   ]
  },
  {
   "cell_type": "code",
   "execution_count": null,
   "metadata": {},
   "outputs": [],
   "source": [
    "\"\"\"TATA FILE MAIN CODE \"\"\"\n",
    "\n",
    "amc_id = '38_0'\n",
    "# logging.info(f\"User Ran Fund Data of {amc_name}\")\n",
    "fund_name, path= mutual_fund[amc_id]\n",
    "object = Tata(fund_name,amc_id,path,logger)\n",
    "title,path_pdf = object.check_and_highlight(path)\n",
    "data = object.get_data(path_pdf,title)\n"
   ]
  },
  {
   "cell_type": "code",
   "execution_count": null,
   "metadata": {},
   "outputs": [],
   "source": [
    "object = Tata(fund_name,amc_id,path,logger)\n",
    "extracted_text = object.get_generated_content(data)\n",
    "final_text = object.refine_extracted_data(extracted_text)\n",
    "dfs = object.merge_and_select_data(final_text, map_keys = True, special_handling=True)\n"
   ]
  },
  {
   "cell_type": "code",
   "execution_count": 78,
   "metadata": {},
   "outputs": [],
   "source": [
    "fund_data,path = \"Taurus Mutual Fund\",r\"C:\\Users\\kaustubh.keny\\OneDrive - Cogencis Information Services Ltd\\Documents\\2020\\Taurus Mutual Fund\\39_31-Dec-20_FS.pdf\""
   ]
  },
  {
   "cell_type": "code",
   "execution_count": null,
   "metadata": {},
   "outputs": [],
   "source": [
    "\"\"\"TAURUS MAIN FILE CODE\"\"\"\n",
    "\n",
    "amc_id = '39_0'\n",
    "# logging.info(f\"User Ran Fund Data of {amc_name}\")\n",
    "# fund_name, path= mutual_fund[amc_id]\n",
    "object = Taurus(fund_name,amc_id,path,logger)\n",
    "title,path_pdf= object.check_and_highlight(path)\n",
    "\n",
    "data = object.get_data(path_pdf,title)\n",
    "extracted_text = object.get_generated_content(data)"
   ]
  },
  {
   "cell_type": "code",
   "execution_count": 83,
   "metadata": {},
   "outputs": [],
   "source": [
    "object = Taurus(fund_name,amc_id,path,logger)\n",
    "final_text = object.refine_extracted_data(extracted_text)\n",
    "dfs = object.merge_and_select_data(final_text)"
   ]
  },
  {
   "cell_type": "code",
   "execution_count": 84,
   "metadata": {},
   "outputs": [
    {
     "name": "stdout",
     "output_type": "stream",
     "text": [
      "File Saved At: C:\\Users\\kaustubh.keny\\Projects\\JSON25\\output\\jsontest\\39_31-Dec-20_FS.json\n"
     ]
    }
   ],
   "source": [
    "save_path = os.path.join(object.JSONPATH, object.FILE_NAME).replace(\".pdf\", \".json\")\n",
    "with open(save_path, 'w') as f:\n",
    "  json.dump(dfs, f, indent=2)\n",
    "print(f\"File Saved At: {save_path}\")\n",
    "\n",
    "with open(\"data.json\", 'w') as f:\n",
    "  json.dump(final_text, f, indent=2)\n",
    "  \n",
    "with open(\"extract.json\", 'w') as f:\n",
    "  json.dump(extracted_text, f, indent=2)"
   ]
  },
  {
   "cell_type": "code",
   "execution_count": null,
   "metadata": {},
   "outputs": [],
   "source": [
    "\"\"\"TRUST MAIN FILE CODE\"\"\" #Issue: Clean data more, nested dict unload Invest Obj in right #Names coming as headers fund managers\n",
    "amc_id = '55_0'\n",
    "# logging.info(f\"User Ran Fund Data of {amc_name}\")\n",
    "fund_name, path= mutual_fund[amc_id]\n",
    "object = Trust(fund_name,amc_id,path,logger)\n",
    "title,path_pdf = object.check_and_highlight(path)\n",
    "\n",
    "data = object.get_data(path_pdf,title)\n",
    "extracted_text = object.get_generated_content(data)\n",
    "\n",
    "final_text = object.refine_extracted_data(extracted_text)\n",
    "dfs = object.merge_and_select_data(final_text, special_handling= True)\n"
   ]
  },
  {
   "cell_type": "code",
   "execution_count": 130,
   "metadata": {},
   "outputs": [
    {
     "name": "stdout",
     "output_type": "stream",
     "text": [
      "\u001b[37m2025-07-22 17:00:17 [TRACE]: step>> check_and_highlight\u001b[0m\n",
      "\u001b[32m2025-07-22 17:00:17 [INFO]: AMC Requires OCR hence: _get_ocr_title\u001b[0m\n"
     ]
    },
    {
     "data": {
      "text/html": [
       "<pre style=\"white-space:pre;overflow-x:auto;line-height:normal;font-family:Menlo,'DejaVu Sans Mono',consolas,'Courier New',monospace\"></pre>\n"
      ],
      "text/plain": []
     },
     "metadata": {},
     "output_type": "display_data"
    },
    {
     "data": {
      "text/html": [
       "<pre style=\"white-space:pre;overflow-x:auto;line-height:normal;font-family:Menlo,'DejaVu Sans Mono',consolas,'Courier New',monospace\">Weighted average image DPI is 108.9, max DPI is 197.8. The discrepancy may indicate a high detail region on this \n",
       "page, but could also indicate a problem with the input PDF file. Page image will be rendered at 400.0 DPI.\n",
       "</pre>\n"
      ],
      "text/plain": [
       "Weighted average image DPI is 108.9, max DPI is 197.8. The discrepancy may indicate a high detail region on this \n",
       "page, but could also indicate a problem with the input PDF file. Page image will be rendered at 400.0 DPI.\n"
      ]
     },
     "metadata": {},
     "output_type": "display_data"
    },
    {
     "data": {
      "text/html": [
       "<pre style=\"white-space:pre;overflow-x:auto;line-height:normal;font-family:Menlo,'DejaVu Sans Mono',consolas,'Courier New',monospace\"></pre>\n"
      ],
      "text/plain": []
     },
     "metadata": {},
     "output_type": "display_data"
    },
    {
     "data": {
      "text/html": [
       "<pre style=\"white-space:pre;overflow-x:auto;line-height:normal;font-family:Menlo,'DejaVu Sans Mono',consolas,'Courier New',monospace\"></pre>\n"
      ],
      "text/plain": []
     },
     "metadata": {},
     "output_type": "display_data"
    },
    {
     "data": {
      "text/html": [
       "<pre style=\"white-space:pre;overflow-x:auto;line-height:normal;font-family:Menlo,'DejaVu Sans Mono',consolas,'Courier New',monospace\"></pre>\n"
      ],
      "text/plain": []
     },
     "metadata": {},
     "output_type": "display_data"
    },
    {
     "data": {
      "text/html": [
       "<pre style=\"white-space:pre;overflow-x:auto;line-height:normal;font-family:Menlo,'DejaVu Sans Mono',consolas,'Courier New',monospace\"></pre>\n"
      ],
      "text/plain": []
     },
     "metadata": {},
     "output_type": "display_data"
    },
    {
     "data": {
      "text/html": [
       "<pre style=\"white-space:pre;overflow-x:auto;line-height:normal;font-family:Menlo,'DejaVu Sans Mono',consolas,'Courier New',monospace\"></pre>\n"
      ],
      "text/plain": []
     },
     "metadata": {},
     "output_type": "display_data"
    },
    {
     "data": {
      "text/html": [
       "<pre style=\"white-space:pre;overflow-x:auto;line-height:normal;font-family:Menlo,'DejaVu Sans Mono',consolas,'Courier New',monospace\"></pre>\n"
      ],
      "text/plain": []
     },
     "metadata": {},
     "output_type": "display_data"
    },
    {
     "name": "stderr",
     "output_type": "stream",
     "text": [
      "[WinError 2] The system cannot find the file specified\n",
      "[WinError 2] The system cannot find the file specified\n"
     ]
    },
    {
     "name": "stdout",
     "output_type": "stream",
     "text": [
      "\u001b[32m2025-07-22 17:00:56 [INFO]: Getting All titles : _get_normal_title\u001b[0m\n",
      "util UTI Mutual Fund\n",
      ">>UTI Mutual Fund\n",
      "\u001b[37m2025-07-22 17:00:56 [TRACE]: >>UTI Mutual Fund\u001b[0m\n",
      "Fund Finder\n",
      "MARKET REVIEW - August 2020 UTI Mutual Fund Haq ek behtar zindagi\n",
      ">>UTI Mutual Fund\n",
      "\u001b[37m2025-07-22 17:00:56 [TRACE]: >>UTI Mutual Fund\u001b[0m\n",
      "UTI MUTUAL FUND IN MEDIA UTI Mutual Fund Haq ek behtar zindagi\n",
      ">>UTI MUTUAL FUND\n",
      "\u001b[37m2025-07-22 17:00:56 [TRACE]: >>UTI MUTUAL FUND\u001b[0m\n",
      "UTI MUTUAL FUND IN MEDIA UTI Mutual Fund Haq ek behtar zindagi\n",
      ">>UTI MUTUAL FUND\n",
      "\u001b[37m2025-07-22 17:00:56 [TRACE]: >>UTI MUTUAL FUND\u001b[0m\n",
      "FUNDS AT A GLANCE _ uti Haq ek behtar zindagi\n",
      "FUNDS AT A GLANCE _ uti Haq ek behtar zindagi\n",
      "FUNDS AT A GLANCE _ uti Haq ek behtar zindagi\n",
      "FUNDS AT A GLANCE _ uti Haq ek behtar zindagi\n",
      "FUNDS AT A GLANCE _ uti Haq ek behtar zindagi\n",
      "Large Cap Fund UTI MASTERSHARE UNIT SCHEME\n",
      ">>UTI MASTERSHARE UNIT SCHEME\n",
      "\u001b[37m2025-07-22 17:00:56 [TRACE]: >>UTI MASTERSHARE UNIT SCHEME\u001b[0m\n",
      "Large & Mid Cap Fund UTI CORE EQUITY FUND (Erstwhile UTI Top 100 Fund)\n",
      ">>UTI CORE EQUITY FUND\n",
      "\u001b[37m2025-07-22 17:00:56 [TRACE]: >>UTI CORE EQUITY FUND\u001b[0m\n",
      "Multi Cap Fund UTI EQUITY FUND\n",
      ">>UTI EQUITY FUND\n",
      "\u001b[37m2025-07-22 17:00:56 [TRACE]: >>UTI EQUITY FUND\u001b[0m\n",
      "Value Fund UTI VALUE OPPORTUNITIES FUND (Erstwhile UTI Opportunities Fund)\n",
      ">>UTI VALUE OPPORTUNITIES FUND\n",
      "\u001b[37m2025-07-22 17:00:56 [TRACE]: >>UTI VALUE OPPORTUNITIES FUND\u001b[0m\n",
      "Mid Cap Fund UTI MID CAP FUND\n",
      ">>UTI MID CAP FUND\n",
      "\u001b[37m2025-07-22 17:00:56 [TRACE]: >>UTI MID CAP FUND\u001b[0m\n",
      "Dividend Yield Fund UTI DIVIDEND YIELD FUND\n",
      ">>UTI DIVIDEND YIELD FUND\n",
      "\u001b[37m2025-07-22 17:00:56 [TRACE]: >>UTI DIVIDEND YIELD FUND\u001b[0m\n",
      "Thematic  MNC UTI MNC FUND\n",
      ">>UTI MNC FUND\n",
      "\u001b[37m2025-07-22 17:00:56 [TRACE]: >>UTI MNC FUND\u001b[0m\n",
      "Thematic  Lifestyle UTI INDIA CONSUMER FUND (Erstwhile UTI India Lifestyle Fund)\n",
      ">>UTI INDIA CONSUMER FUND\n",
      "\u001b[37m2025-07-22 17:00:56 [TRACE]: >>UTI INDIA CONSUMER FUND\u001b[0m\n",
      "Thematic  Infrastructure UTI INFRASTRUCTURE FUND\n",
      ">>UTI INFRASTRUCTURE FUND\n",
      "\u001b[37m2025-07-22 17:00:56 [TRACE]: >>UTI INFRASTRUCTURE FUND\u001b[0m\n",
      "Sectoral  Banking & Financial UTI BANKING AND FINANCIAL SERVICES FUND (Erstwhile UTI Banking Sector Fund)\n",
      ">>UTI BANKING AND FINANCIAL SERVICES FUND\n",
      "\u001b[37m2025-07-22 17:00:56 [TRACE]: >>UTI BANKING AND FINANCIAL SERVICES FUND\u001b[0m\n",
      "Sectoral  Healthcare UTI HEALTHCARE FUND (Erstwhile UTI Pharma & Healthcare Fund)\n",
      ">>UTI HEALTHCARE FUND\n",
      "\u001b[37m2025-07-22 17:00:56 [TRACE]: >>UTI HEALTHCARE FUND\u001b[0m\n",
      "Sectoral  Auto UTI TRANSPORTATION & LOGISTICS FUND\n",
      ">>UTI TRANSPORTATION & LOGISTICS FUND\n",
      "\u001b[37m2025-07-22 17:00:56 [TRACE]: >>UTI TRANSPORTATION & LOGISTICS FUND\u001b[0m\n",
      "Equity Linked Savings Scheme (ELSS) UTI LONG TERM EQUITY FUND (TAX SAVING) (Erstwhile UTI Equity Tax Saving Plan)\n",
      ">>UTI LONG TERM EQUITY FUND\n",
      "\u001b[37m2025-07-22 17:00:56 [TRACE]: >>UTI LONG TERM EQUITY FUND\u001b[0m\n",
      "Index Fund UTI NIFTY INDEX FUND\n",
      ">>UTI NIFTY INDEX FUND\n",
      "\u001b[37m2025-07-22 17:00:56 [TRACE]: >>UTI NIFTY INDEX FUND\u001b[0m\n",
      "Index Fund UTI NIFTY NEXT 50 INDEX FUND\n",
      ">>UTI NIFTY NEXT 50 INDEX FUND\n",
      "\u001b[37m2025-07-22 17:00:56 [TRACE]: >>UTI NIFTY NEXT 50 INDEX FUND\u001b[0m\n",
      "Aggressive Hybrid Fund UTI HYBRID EQUITY FUND (Erstwhile UTI Balanced Fund)\n",
      ">>UTI HYBRID EQUITY FUND\n",
      "\u001b[37m2025-07-22 17:00:56 [TRACE]: >>UTI HYBRID EQUITY FUND\u001b[0m\n",
      "Multi Asset Allocation UTI Multi Asset Fund (Erstwhile UTI Wealth Builder Fund)\n",
      ">>UTI Multi Asset Fund\n",
      "\u001b[37m2025-07-22 17:00:56 [TRACE]: >>UTI Multi Asset Fund\u001b[0m\n",
      "Arbitrage UTI ARBITRAGE FUND (Erstwhile UTI Spread Fund)\n",
      ">>UTI ARBITRAGE FUND\n",
      "\u001b[37m2025-07-22 17:00:56 [TRACE]: >>UTI ARBITRAGE FUND\u001b[0m\n",
      "Conservative Hybrid Fund UTI REGULAR SAVINGS FUND (Number of Segregated portfolio in the scheme 1) (Erstwhile UTI MIS Advantage Plan)\n",
      ">>UTI REGULAR SAVINGS FUND\n",
      "\u001b[37m2025-07-22 17:00:56 [TRACE]: >>UTI REGULAR SAVINGS FUND\u001b[0m\n",
      "UTI UNIT LINKED INSURANCE PLAN\n",
      ">>UTI UNIT LINKED INSURANCE PLAN\n",
      "\u001b[37m2025-07-22 17:00:56 [TRACE]: >>UTI UNIT LINKED INSURANCE PLAN\u001b[0m\n",
      "Equity Savings UTI Equity Savings Fund\n",
      ">>UTI Equity Savings Fund\n",
      "\u001b[37m2025-07-22 17:00:56 [TRACE]: >>UTI Equity Savings Fund\u001b[0m\n",
      "Childrens Fund UTI CHILDRENS CAREER FUND - SAVINGS PLAN (Erstwhile UTI Childrens Career Balanced Plan)\n",
      ">>UTI CHILDRENS CAREER FUND - SAVINGS PLAN\n",
      "\u001b[37m2025-07-22 17:00:56 [TRACE]: >>UTI CHILDRENS CAREER FUND - SAVINGS PLAN\u001b[0m\n",
      "\n",
      "JOodJoyeA s1e9ABaJU1S LLT-4e(N8aypOT-Vea ss 8g9 vsL ZT0- 680 78LJ BLYb+VV 667+V TosVV 65ZE+1VVVV LEOvAOS 620 TL cvit vs0 6J 9gBuiaesxeaoueins xpu puny O+09 Pluq 1qeq We LWOYUS TSI deakCTseeOT (aqeq)esdoydeapuer esty TZ6T49q003ST uonesoyJessy aiweudg-pluqAH UedS9UeINSU a vybvruizavpyeg+ PungenjnwI\n",
      "\n",
      "Retirement Fund UTI RETIREMENT BENEFIT PENSION FUND\n",
      ">>UTI RETIREMENT BENEFIT PENSION FUND\n",
      "\u001b[37m2025-07-22 17:00:56 [TRACE]: >>UTI RETIREMENT BENEFIT PENSION FUND\u001b[0m\n",
      "Childrens Fund UTI CHILDRENS CAREER FUND - INVESTMENT PLAN (Erstwhile UTI CCP Advantage Fund)\n",
      ">>UTI CHILDRENS CAREER FUND - INVESTMENT PLAN\n",
      "\u001b[37m2025-07-22 17:00:56 [TRACE]: >>UTI CHILDRENS CAREER FUND - INVESTMENT PLAN\u001b[0m\n",
      "Overnight Fund (Maturity of 1 day) UTI OVERNIGHT FUND (Erstwhile UTI G-SEC STP)\n",
      ">>UTI OVERNIGHT FUND\n",
      "\u001b[37m2025-07-22 17:00:56 [TRACE]: >>UTI OVERNIGHT FUND\u001b[0m\n",
      "Liquid Fund (Maturity of upto 91 days) UTI LIQUID CASH PLAN\n",
      ">>UTI LIQUID CASH PLAN\n",
      "\u001b[37m2025-07-22 17:00:56 [TRACE]: >>UTI LIQUID CASH PLAN\u001b[0m\n",
      "Money Market Fund (Maturity upto 1 year) UTI MONEY MARKET FUND\n",
      ">>UTI MONEY MARKET FUND\n",
      "\u001b[37m2025-07-22 17:00:56 [TRACE]: >>UTI MONEY MARKET FUND\u001b[0m\n",
      "Ultra Short Duration Fund (Macaulay duration of the portfolio is between 3 months - 6 months) UTI ULTRA SHORT TERM FUND (Erstwhile UTI Floating Rate Fund STP)\n",
      ">>UTI ULTRA SHORT TERM FUND\n",
      "\u001b[37m2025-07-22 17:00:56 [TRACE]: >>UTI ULTRA SHORT TERM FUND\u001b[0m\n",
      "Low Duration Fund (Macaulay duration of the portfolio is between 6 months - 12 months) UTI TREASURY ADVANTAGE FUND\n",
      ">>UTI TREASURY ADVANTAGE FUND\n",
      "\u001b[37m2025-07-22 17:00:56 [TRACE]: >>UTI TREASURY ADVANTAGE FUND\u001b[0m\n",
      "Floater Fund UTI Floater Fund (An open ended debt scheme predominantly investing in floating rate instruments)\n",
      ">>UTI Floater Fund\n",
      "\u001b[37m2025-07-22 17:00:56 [TRACE]: >>UTI Floater Fund\u001b[0m\n",
      "Short Duration Fund (Macaulay duration of the portfolio is between 1 year - 3 years) UTI SHORT TERM INCOME FUND\n",
      ">>UTI SHORT TERM INCOME FUND\n",
      "\u001b[37m2025-07-22 17:00:56 [TRACE]: >>UTI SHORT TERM INCOME FUND\u001b[0m\n",
      "Banking and PSU Fund UTI BANKING AND PSU DEBT FUND\n",
      ">>UTI BANKING AND PSU DEBT FUND\n",
      "\u001b[37m2025-07-22 17:00:56 [TRACE]: >>UTI BANKING AND PSU DEBT FUND\u001b[0m\n",
      "Corporate Bond Fund UTI CORPORATE BOND FUND\n",
      ">>UTI CORPORATE BOND FUND\n",
      "\u001b[37m2025-07-22 17:00:56 [TRACE]: >>UTI CORPORATE BOND FUND\u001b[0m\n",
      "Credit Risk Fund UTI CREDIT RISK FUND (Number of Segregated portfolio in the scheme 4) (Erstwhile UTI Income Opportunities Fund)\n",
      ">>UTI CREDIT RISK FUND\n",
      "\u001b[37m2025-07-22 17:00:56 [TRACE]: >>UTI CREDIT RISK FUND\u001b[0m\n",
      "Medium Duration Fund (Macaulay duration of the portfolio is between 3 years - 4 years) UTI MEDIUM TERM FUND (Number of Segregated portfolio in the scheme 3)\n",
      ">>UTI MEDIUM TERM FUND\n",
      "\u001b[37m2025-07-22 17:00:56 [TRACE]: >>UTI MEDIUM TERM FUND\u001b[0m\n",
      "Dynamic Bond (Investment across duration) UTI DYNAMIC BOND FUND (Number of Segregated portfolio in the scheme 1)\n",
      ">>UTI DYNAMIC BOND FUND\n",
      "\u001b[37m2025-07-22 17:00:56 [TRACE]: >>UTI DYNAMIC BOND FUND\u001b[0m\n",
      "Medium to Long Duration Fund (Macaulay duration of the portfolio is between 4 years - 7 years) UTI BOND FUND (Number of Segregated portfolio in the scheme 1)\n",
      ">>UTI BOND FUND\n",
      "\u001b[37m2025-07-22 17:00:56 [TRACE]: >>UTI BOND FUND\u001b[0m\n",
      "Gilt Fund UTI Gilt Fund (Erstwhile UTI Gilt Advantage Fund LTP)\n",
      ">>UTI Gilt Fund\n",
      "\u001b[37m2025-07-22 17:00:56 [TRACE]: >>UTI Gilt Fund\u001b[0m\n",
      "DIVIDENDBONUS HISTORY UTI Mutual Fund Haq ek behtar zindagi\n",
      ">>UTI Mutual Fund\n",
      "\u001b[37m2025-07-22 17:00:56 [TRACE]: >>UTI Mutual Fund\u001b[0m\n",
      "DIVIDENDBONUS HISTORY UTI Mutual Fund Haq ek behtar zindagi\n",
      ">>UTI Mutual Fund\n",
      "\u001b[37m2025-07-22 17:00:56 [TRACE]: >>UTI Mutual Fund\u001b[0m\n",
      "DIVIDENDBONUS HISTORY UTI Mutual Fund Haq ek behtar zindagi\n",
      ">>UTI Mutual Fund\n",
      "\u001b[37m2025-07-22 17:00:56 [TRACE]: >>UTI Mutual Fund\u001b[0m\n",
      "List of the UTI MF schemes where merger has been etal effected since March 2003 Haag ek betar zindaai\n",
      "Schemes Renamed UTI Mutual Fund Haq ek behtar zindagi\n",
      ">>UTI Mutual Fund\n",
      "\u001b[37m2025-07-22 17:00:56 [TRACE]: >>UTI Mutual Fund\u001b[0m\n",
      "Asset allocation UTI Mutual Fund Haq ek behtar zindagi\n",
      ">>UTI Mutual Fund\n",
      "\u001b[37m2025-07-22 17:00:56 [TRACE]: >>UTI Mutual Fund\u001b[0m\n",
      "Asset allocation UTI Mutual Fund Haq ek behtar zindagi\n",
      ">>UTI Mutual Fund\n",
      "\u001b[37m2025-07-22 17:00:56 [TRACE]: >>UTI Mutual Fund\u001b[0m\n",
      "Asset allocation UTI Mutual Fund Haq ek behtar zindagi\n",
      ">>UTI Mutual Fund\n",
      "\u001b[37m2025-07-22 17:00:56 [TRACE]: >>UTI Mutual Fund\u001b[0m\n",
      "Asset allocation UTI Mutual Fund Haq ek behtar zindagi\n",
      ">>UTI Mutual Fund\n",
      "\u001b[37m2025-07-22 17:00:56 [TRACE]: >>UTI Mutual Fund\u001b[0m\n",
      "Minimum Investment Amount UTI Mutual Fund Haq ek behtar zindagi\n",
      ">>UTI Mutual Fund\n",
      "\u001b[37m2025-07-22 17:00:56 [TRACE]: >>UTI Mutual Fund\u001b[0m\n",
      "FUND MANAGER SUMMARY UTI Mutual Fund Haq ek behtar zindagi\n",
      ">>UTI Mutual Fund\n",
      "\u001b[37m2025-07-22 17:00:56 [TRACE]: >>UTI Mutual Fund\u001b[0m\n",
      "ANNEXURE - Product Labeling UTI Mutual Fund Haq ek behtar zindagi\n",
      ">>UTI Mutual Fund\n",
      "\u001b[37m2025-07-22 17:00:56 [TRACE]: >>UTI Mutual Fund\u001b[0m\n",
      "UTI Mutual Fund Product Labeling Hag ek behtar zindaai\n",
      ">>UTI Mutual Fund\n",
      "\u001b[37m2025-07-22 17:00:56 [TRACE]: >>UTI Mutual Fund\u001b[0m\n",
      "UTI Mutual Fund ISIN No Haq ek behtar zindaai\n",
      ">>UTI Mutual Fund\n",
      "\u001b[37m2025-07-22 17:00:56 [TRACE]: >>UTI Mutual Fund\u001b[0m\n",
      "UTI Mutual Fund ISIN No Haq ek behtar zindaai\n",
      ">>UTI Mutual Fund\n",
      "\u001b[37m2025-07-22 17:00:56 [TRACE]: >>UTI Mutual Fund\u001b[0m\n",
      "Disclaimer UTI Mutual Fund Haq ek behtar zindagi\n",
      ">>UTI Mutual Fund\n",
      "\u001b[37m2025-07-22 17:00:56 [TRACE]: >>UTI Mutual Fund\u001b[0m\n",
      "Systematic Investment Plan (SIP) Performance UTI Mutual Fund Haq ek behtar zindagi\n",
      ">>UTI Mutual Fund\n",
      "\u001b[37m2025-07-22 17:00:56 [TRACE]: >>UTI Mutual Fund\u001b[0m\n",
      "Systematic Investment Plan (SIP) Performance UTI Mutual Fund Haq ek behtar zindagi\n",
      ">>UTI Mutual Fund\n",
      "\u001b[37m2025-07-22 17:00:56 [TRACE]: >>UTI Mutual Fund\u001b[0m\n",
      "UTI Mutual Fund Haq ek behtar zindagi\n",
      ">>UTI Mutual Fund\n",
      "\u001b[37m2025-07-22 17:00:56 [TRACE]: >>UTI Mutual Fund\u001b[0m\n",
      "Corporate Information & Contact Details\n",
      "MUTUALFUNDS Sah al UTI Mutual Fund Lag ek behtay zindaai\n",
      ">>UTI Mutual Fund\n",
      "\u001b[37m2025-07-22 17:00:56 [TRACE]: >>UTI Mutual Fund\u001b[0m\n",
      "\u001b[37m2025-07-22 17:01:04 [TRACE]: step>> get_data\u001b[0m\n",
      "\u001b[37m2025-07-22 17:01:04 [TRACE]: step>> get_generated_content\u001b[0m\n"
     ]
    }
   ],
   "source": [
    "\"\"\"UTI MAIN FILE CODE\"\"\"\n",
    "\n",
    "amc_id = '41_0'\n",
    "fund_name,path = \"UTI Mutual Fund\", r\"C:\\Users\\kaustubh.keny\\OneDrive - Cogencis Information Services Ltd\\Documents\\2020\\UTI Mutual Fund\\41_30-Sep-20_FS.pdf\"\n",
    "# logging.info(f\"User Ran Fund Data of {amc_name}\")\n",
    "# fund_name, path= mutual_fund[amc_id]\n",
    "object = UTI(fund_name,amc_id,path,logger)\n",
    "title,path_pdf = object.check_and_highlight(path)\n",
    "data = object.get_data(path_pdf,title)\n",
    "extracted_text = object.get_generated_content(data)"
   ]
  },
  {
   "cell_type": "code",
   "execution_count": 129,
   "metadata": {},
   "outputs": [
    {
     "data": {
      "text/plain": [
       "{}"
      ]
     },
     "execution_count": 129,
     "metadata": {},
     "output_type": "execute_result"
    }
   ],
   "source": [
    "title"
   ]
  },
  {
   "cell_type": "code",
   "execution_count": 124,
   "metadata": {},
   "outputs": [
    {
     "name": "stdout",
     "output_type": "stream",
     "text": [
      "\u001b[37m2025-07-22 16:52:14 [TRACE]: step>> refine_extracted_data\u001b[0m\n",
      "\u001b[37m2025-07-22 16:52:14 [TRACE]: step>> merge_and_select_data\u001b[0m\n"
     ]
    }
   ],
   "source": [
    "object = UTI(fund_name,amc_id,path,logger)\n",
    "final_text = object.refine_extracted_data(extracted_text)\n",
    "dfs = object.merge_and_select_data(final_text)"
   ]
  },
  {
   "cell_type": "code",
   "execution_count": 125,
   "metadata": {},
   "outputs": [
    {
     "name": "stdout",
     "output_type": "stream",
     "text": [
      "File Saved At: C:\\Users\\kaustubh.keny\\Projects\\JSON25\\output\\json\\41_31-Dec-20_FS.json\n"
     ]
    }
   ],
   "source": [
    "save_path = os.path.join(object.JSONPATH, object.FILE_NAME).replace(\".pdf\", \".json\")\n",
    "with open(save_path, 'w') as f:\n",
    "  json.dump(dfs, f, indent=2)\n",
    "print(f\"File Saved At: {save_path}\")\n",
    "\n",
    "with open(\"data.json\", 'w') as f:\n",
    "  json.dump(final_text, f, indent=2)\n",
    "  \n",
    "with open(\"extract.json\", 'w') as f:\n",
    "  json.dump(extracted_text, f, indent=2)"
   ]
  },
  {
   "cell_type": "code",
   "execution_count": 111,
   "metadata": {},
   "outputs": [
    {
     "name": "stdout",
     "output_type": "stream",
     "text": [
      "Mrs. Swati Kulkarni , MFM (NMIMS), CFA Managing the scheme since Dec-2006 Fund AUM Fund Size\n",
      "[('Swati Kulkarni', 'Dec-2006')]\n",
      "Mr. V Srivatsa, B.Com., ACA, CWA, PGDM (IIM-I) Managing the scheme since May-2017 Fund AUM Fund Size\n",
      "[('V Srivatsa', 'May-2017')]\n",
      "Ajay Tyagi - CFA, MFC Managing the scheme since Jan-2016 Fund AUM Fund Size\n",
      "[('Ajay Tyagi', 'Jan-2016')]\n",
      "Mr Ankit Agarwal, B.Tech, PGDM Managing the scheme since Aug-2019 Fund AUM Fund Size\n",
      "[('Ankit Agarwal', 'Aug-2019')]\n",
      "Mrs. Swati Kulkarni, MFM (NMIMS), CFA Managing the scheme since Dec-2005 Fund AUM Fund Size\n",
      "[('Swati Kulkarni', 'Dec-2005')]\n",
      "Mrs. Swati Kulkarni, MFM (NMIMS), CFA Managing the scheme since Jun-2004 Fund AUM Fund Size\n",
      "[('Swati Kulkarni', 'Jun-2004')]\n",
      "Mr. Vishal Chopda, CFA, BE, PGDM Managing the scheme since Aug-2019 Fund AUM Fund Size\n",
      "[('Vishal Chopda', 'Aug-2019')]\n",
      "Mr. Sanjay Dongre, B.E PGDM (IIM Kolkatta) Managing the scheme since Dec-2006 Fund AUM Fund Size\n",
      "[('Sanjay Dongre', 'Dec-2006')]\n",
      "Mr. Amit Premchandani, PGDM (IIM Indore), CA, CFA Managing the scheme since June-2014 Fund AUM Fund Size\n",
      "[('Amit Premchandani', 'June-2014')]\n",
      "Mr. V Srivatsa - B.Com., ACA, CWA, PGDM (IIM-I) Managing the scheme since Mar-2017 Fund AUM Fund Size\n",
      "[('V Srivatsa', 'Mar-2017')]\n",
      "Mr Sachin Trivedi, B.Com, MMS, CFA Managing the scheme since Sept-2016 Fund AUM Fund Size\n",
      "[('Sachin Trivedi', 'Sept-2016')]\n",
      "Mr. Sharwan Kumar Goyal, CFA, MMS Managing the scheme since July-2018 Fund AUM Fund Size\n",
      "[('Sharwan Kumar', 'July-2018')]\n",
      "Mr. Sharwan Kumar Goyal, CFA, MMS Managing the scheme since July-2018 Fund AUM Fund Size\n",
      "[('Sharwan Kumar', 'July-2018')]\n",
      "Mr. Sanjay Dongre, B.E PGDM (IIM Kolkatta) Managing the scheme since May-2019 Fund AUM Fund Size\n",
      "[('Sanjay Dongre', 'May-2019')]\n",
      "Mr. Amandeep S. Chopra (B.Sc., MBA FMS Delhi) Mr. Amit Sharma (B.Com, CA, FRM) Fund AUM Fund Size\n",
      "[]\n",
      "Mr. Amandeep S. Chopra (B.Sc., MBA FMS Delhi) Mr. Amit Sharma (B.Com, CA, FRM) Fund AUM Fund Size\n",
      "[]\n",
      "Mr. Sudhir Agrawal MCom, MBA (Finance), CFA Managing the scheme since Jul-2010 Fund AUM Fund Size\n",
      "[('Sudhir Agrawal', 'Jul-2010')]\n",
      "Mr. Sudhir Agrawal MCom,MBA (Finance),CFA Managing the scheme since July-2012 Fund AUM Fund Size\n",
      "[('Sudhir Agrawal', 'July-2012')]\n",
      "Mr. Sudhir Agrawal MCom, MBA (Finance), CFA Managing the scheme since Aug-2014 Fund AUM Fund Size\n",
      "[('Sudhir Agrawal', 'Aug-2014')]\n",
      "Mr. Ritesh Nambiar (CFA, FRM, MMS Finance) Managing the scheme since Jul-2015 Fund AUM Fund Size\n",
      "[('Ritesh Nambiar', 'Jul-2015')]\n",
      "Mr. Amandeep S. Chopra (B.Sc., MBA FMS Delhi) Managing the scheme since Feb-2012 Fund AUM Fund Size\n",
      "[('Amandeep S', 'Feb-2012')]\n",
      "Mr. Amandeep S. Chopra (B.Sc., MBA FMS Delhi) Managing the scheme since October-2003 Fund AUM Fund Size\n",
      "[('Amandeep S', 'October-2003')]\n",
      "Mr. Amandeep S. Chopra (B.Sc., MBA FMS Delhi) Managing the scheme since Jul-2004 Fund AUM Fund Size\n",
      "[('Amandeep S', 'Jul-2004')]\n"
     ]
    }
   ],
   "source": [
    "pattern = \"(?:Mrs\\\\.?|Ms\\\\.?|Mr\\\\.?)?\\\\s*([A-Za-z]+\\\\s*[A-Za-z]+).+?scheme\\\\s*since\\\\s*([A-Za-z]+\\\\s*\\\\-?\\\\s*\\\\d{4})\"\n",
    "for fund, content in final_text.items():\n",
    "    check = 'before.fund_manager'\n",
    "    if check in content:\n",
    "        text =re.sub(\"[^A-Za-z0-9\\\\s\\\\-\\\\(\\\\)\\\\.\\\\,\\\\+\\\\%\\\\:\\\\&]+\", \"\",content[check]).strip()\n",
    "        print(text)\n",
    "        match = re.findall(pattern,text, re.IGNORECASE)\n",
    "        print(match)"
   ]
  },
  {
   "cell_type": "code",
   "execution_count": null,
   "metadata": {},
   "outputs": [],
   "source": [
    "\"\"\"UTI MAIN FILE CODE PASSIVE\"\"\"\n",
    "\n",
    "amc_id = '18_0'\n",
    "# logging.info(f\"User Ran Fund Data of {amc_name}\")\n",
    "fund_name, path= mutual_fund[amc_id]\n",
    "object = UTIPassive(fund_name,amc_id,path,logger)\n",
    "title,path_pdf = object.check_and_highlight(path)\n",
    "data = object.get_data(path_pdf,title)\n",
    "extracted_text = object.get_generated_content(data)\n",
    "final_text = object.refine_extracted_data(extracted_text, flatten=True)\n",
    "dfs = object.merge_and_select_data(final_text)\n",
    "# Helper.quick_json_dump(dfs, object.JSONPATH)"
   ]
  },
  {
   "cell_type": "code",
   "execution_count": 61,
   "metadata": {},
   "outputs": [],
   "source": [
    "fund_name, path = \"Union Mutual Fund\", r\"C:\\Users\\kaustubh.keny\\OneDrive - Cogencis Information Services Ltd\\Documents\\2020\\Union Mutual Fund\\40_31-Dec-20_FS.pdf\""
   ]
  },
  {
   "cell_type": "code",
   "execution_count": null,
   "metadata": {},
   "outputs": [],
   "source": [
    "\"\"\"UNION MUTUAL FUND\"\"\"\n",
    "\n",
    "amc_id = '40_0'\n",
    "# logging.info(f\"User Ran Fund Data of {amc_name}\")\n",
    "# fund_name, path= mutual_fund[amc_id]\n",
    "object = Union(fund_name,amc_id,path,logger)\n",
    "title,path_pdf = object.check_and_highlight(path)\n",
    "data = object.get_data(path_pdf,title)\n",
    "extracted_text = object.get_generated_content(data)"
   ]
  },
  {
   "cell_type": "code",
   "execution_count": 88,
   "metadata": {},
   "outputs": [],
   "source": [
    "object = Union(fund_name,amc_id,path,logger)\n",
    "final_text = object.refine_extracted_data(extracted_text)\n",
    "dfs = object.merge_and_select_data(final_text)"
   ]
  },
  {
   "cell_type": "code",
   "execution_count": 89,
   "metadata": {},
   "outputs": [
    {
     "name": "stdout",
     "output_type": "stream",
     "text": [
      "File Saved At: C:\\Users\\kaustubh.keny\\Projects\\JSON25\\output\\jsontest\\39_31-Dec-20_FS.json\n"
     ]
    }
   ],
   "source": [
    "save_path = os.path.join(object.JSONPATH, object.FILE_NAME).replace(\".pdf\", \".json\")\n",
    "with open(save_path, 'w') as f:\n",
    "  json.dump(dfs, f, indent=2)\n",
    "print(f\"File Saved At: {save_path}\")\n",
    "\n",
    "with open(\"data.json\", 'w') as f:\n",
    "  json.dump(final_text, f, indent=2)\n",
    "  \n",
    "with open(\"extract.json\", 'w') as f:\n",
    "  json.dump(extracted_text, f, indent=2)"
   ]
  },
  {
   "cell_type": "code",
   "execution_count": 4,
   "metadata": {},
   "outputs": [],
   "source": [
    "fund_name, path = \"Unifi Mutual Fund\", r\"C:\\Users\\kaustubh.keny\\Projects\\JSON25\\output\\processed\\97_30-Jun-25_FS.pdf\""
   ]
  },
  {
   "cell_type": "code",
   "execution_count": null,
   "metadata": {},
   "outputs": [],
   "source": [
    "\"\"\"Unifi MUTUAL FUND\"\"\" #Issues: Major Issue\n",
    "\n",
    "amc_id = '97_0'\n",
    "logger = get_notebook_logger()\n",
    "# fund_name, path= mutual_fund[amc_id]\n",
    "object = Unifi(fund_name,amc_id,path,logger)\n",
    "title,path_pdf = object.check_and_highlight(path)\n",
    "data = object.get_data(path_pdf,title)\n",
    "extracted_text = object.get_generated_content(data)\n",
    "final_text = object.refine_extracted_data(extracted_text)\n",
    "dfs = object.merge_and_select_data(final_text)\n",
    "# Helper.quick_json_dump(dfs, object.JSONPATH)"
   ]
  },
  {
   "cell_type": "code",
   "execution_count": 22,
   "metadata": {},
   "outputs": [
    {
     "name": "stdout",
     "output_type": "stream",
     "text": [
      "File Saved At: C:\\Users\\kaustubh.keny\\Projects\\JSON25\\output\\json\\97_30-Jun-25_FS.json\n"
     ]
    }
   ],
   "source": [
    "save_path = os.path.join(object.JSONPATH, object.FILE_NAME).replace(\".pdf\", \".json\")\n",
    "with open(save_path, 'w') as f:\n",
    "  json.dump(dfs, f, indent=2)\n",
    "print(f\"File Saved At: {save_path}\")\n",
    "\n",
    "with open(\"data.json\", 'w') as f:\n",
    "  json.dump(final_text, f, indent=2)\n",
    "  \n",
    "with open(\"extract.json\", 'w') as f:\n",
    "  json.dump(extracted_text, f, indent=2)"
   ]
  },
  {
   "cell_type": "code",
   "execution_count": 27,
   "metadata": {},
   "outputs": [],
   "source": [
    "fund_name,path = \"Yes Mutual Fund\", r\"C:\\Users\\kaustubh.keny\\OneDrive - Cogencis Information Services Ltd\\Documents\\2020\\WhiteOak Mutual Fund\\42_31-Dec-20_FS.pdf\""
   ]
  },
  {
   "cell_type": "code",
   "execution_count": null,
   "metadata": {},
   "outputs": [
    {
     "name": "stdout",
     "output_type": "stream",
     "text": [
      "\u001b[37m2025-07-22 15:00:41 [TRACE]: step>> check_and_highlight\u001b[0m\n",
      "\u001b[32m2025-07-22 15:00:41 [INFO]: AMC Requires OCR hence: _get_ocr_title\u001b[0m\n",
      "\u001b[32m2025-07-22 15:01:03 [INFO]: Getting All titles : _get_normal_title\u001b[0m\n",
      "YES  MUTUAL F\n",
      "\n",
      "YES LIQUID FUND  An Open-Ended Liquid Scheme\n",
      ">>YES LIQUID FUND\n",
      "\u001b[37m2025-07-22 15:01:03 [TRACE]: >>YES LIQUID FUND\u001b[0m\n",
      "YES OVERNIGHT FUND An open ended debt scheme vernight securities\n",
      ">>YES OVERNIGHT FUND\n",
      "\u001b[37m2025-07-22 15:01:03 [TRACE]: >>YES OVERNIGHT FUND\u001b[0m\n",
      "YES ULTRA SHORT TERM FUND An open ended ultra-short term debt scheme investing in debt and money market instruments such that the Macaulay duration of the portfolio is between 3 - 6 months\n",
      ">>YES ULTRA SHORT TERM FUND\n",
      "\u001b[37m2025-07-22 15:01:03 [TRACE]: >>YES ULTRA SHORT TERM FUND\u001b[0m\n",
      "\n",
      "\n",
      "\n",
      "\u001b[32m2025-07-22 15:01:03 [INFO]: AMC Requires OCR hence: _ocr_pdf\u001b[0m\n",
      "\u001b[37m2025-07-22 15:01:58 [TRACE]: step>> get_data\u001b[0m\n",
      "\u001b[37m2025-07-22 15:01:58 [TRACE]: step>> get_generated_content\u001b[0m\n"
     ]
    }
   ],
   "source": [
    "\"\"\"WHITEOAK MUTUAL FUND\"\"\"\n",
    "\n",
    "amc_id = '42_0'\n",
    "# fund_name, path= mutual_fund[amc_id]\n",
    "object = WhiteOak(fund_name,amc_id,path,logger)\n",
    "title,path_pdf = object.check_and_highlight(path)\n",
    "data = object.get_data(path_pdf,title)\n",
    "extracted_text = object.get_generated_content(data)"
   ]
  },
  {
   "cell_type": "code",
   "execution_count": 40,
   "metadata": {},
   "outputs": [
    {
     "name": "stdout",
     "output_type": "stream",
     "text": [
      "\u001b[37m2025-07-22 15:07:56 [TRACE]: step>> get_generated_content\u001b[0m\n",
      "\u001b[37m2025-07-22 15:07:57 [TRACE]: step>> refine_extracted_data\u001b[0m\n",
      "\u001b[37m2025-07-22 15:07:57 [TRACE]: step>> merge_and_select_data\u001b[0m\n"
     ]
    }
   ],
   "source": [
    "object = WhiteOak(fund_name,amc_id,path,logger)\n",
    "extracted_text = object.get_generated_content(data)\n",
    "final_text = object.refine_extracted_data(extracted_text)\n",
    "dfs = object.merge_and_select_data(final_text)"
   ]
  },
  {
   "cell_type": "code",
   "execution_count": 41,
   "metadata": {},
   "outputs": [
    {
     "name": "stdout",
     "output_type": "stream",
     "text": [
      "File Saved At: C:\\Users\\kaustubh.keny\\Projects\\JSON25\\output\\json\\42_31-Dec-20_FS.json\n"
     ]
    }
   ],
   "source": [
    "save_path = os.path.join(object.JSONPATH, object.FILE_NAME).replace(\".pdf\", \".json\")\n",
    "with open(save_path, 'w') as f:\n",
    "  json.dump(dfs, f, indent=2)\n",
    "print(f\"File Saved At: {save_path}\")\n",
    "\n",
    "with open(\"data.json\", 'w') as f:\n",
    "  json.dump(final_text, f, indent=2)\n",
    "  \n",
    "with open(\"extract.json\", 'w') as f:\n",
    "  json.dump(extracted_text, f, indent=2)"
   ]
  },
  {
   "cell_type": "code",
   "execution_count": null,
   "metadata": {},
   "outputs": [],
   "source": [
    "\"\"\"ZERODHA MAIN CODE\"\"\" \n",
    "\n",
    "amc_id = '71_0'\n",
    "# logging.info(f\"User Ran Fund Data of {amc_name}\")\n",
    "fund_name, path= mutual_fund[amc_id]\n",
    "object = Zerodha(fund_name,amc_id,path,logger)\n",
    "title,path_pdf= object.check_and_highlight(path)\n",
    "data = object.get_data(path_pdf,title)\n",
    "object = Zerodha(fund_name,amc_id,path,logger)\n",
    "extracted_text = object.get_generated_content(data)\n",
    "final_text = object.refine_extracted_data(extracted_text)\n",
    "dfs = object.merge_and_select_data(final_text)"
   ]
  },
  {
   "cell_type": "code",
   "execution_count": 59,
   "metadata": {},
   "outputs": [],
   "source": [
    "fund_name,path = \"HSBC Mutual Fund\", r\"C:\\Users\\kaustubh.keny\\Projects\\hsbc\\13_30-Jun-25_FS.pdf\""
   ]
  },
  {
   "cell_type": "code",
   "execution_count": null,
   "metadata": {},
   "outputs": [],
   "source": [
    "\"\"\"\"HSBC MAIN FILE CODE\"\"\" \n",
    "\n",
    "amc_id = '13_0'\n",
    "# logging.info(f\"User Ran Fund Data of {amc_name}\")\n",
    "# fund_name, path= mutual_fund[amc_id]\n",
    "object = HSBC(fund_name,amc_id,path,logger)\n",
    "title,path_pdf = object.check_and_highlight(path)\n",
    "data = object.get_data(path_pdf,title)\n",
    "extracted_text = object.get_generated_content(data)"
   ]
  },
  {
   "cell_type": "code",
   "execution_count": 61,
   "metadata": {},
   "outputs": [],
   "source": [
    "# object = HSBC(fund_name,amc_id,path,logger)\n",
    "final_text = object.refine_extracted_data(extracted_text)\n",
    "dfs = object.merge_and_select_data(final_text)"
   ]
  },
  {
   "cell_type": "code",
   "execution_count": 62,
   "metadata": {},
   "outputs": [
    {
     "name": "stdout",
     "output_type": "stream",
     "text": [
      "File Saved At: C:\\Users\\kaustubh.keny\\Projects\\JSON25\\output\\jsontest\\13_30-Jun-25_FS.json\n"
     ]
    }
   ],
   "source": [
    "save_path = os.path.join(object.JSONPATH, object.FILE_NAME).replace(\".pdf\", \".json\")\n",
    "with open(save_path, 'w') as f:\n",
    "  json.dump(dfs, f, indent=2)\n",
    "print(f\"File Saved At: {save_path}\")\n",
    "\n",
    "with open(\"data.json\", 'w') as f:\n",
    "  json.dump(final_text, f, indent=2)\n",
    "  \n",
    "with open(\"extract.json\", 'w') as f:\n",
    "  json.dump(extracted_text, f, indent=2)"
   ]
  },
  {
   "cell_type": "code",
   "execution_count": null,
   "metadata": {},
   "outputs": [],
   "source": [
    "import os, json\n",
    "from collections import defaultdict\n",
    "import pandas as pd\n",
    "\n",
    "path = r\"C:\\Users\\kaustubh.keny\\Projects\\JSON25\\output\\JSON FY 20\\Nippon\"\n",
    "xls_name = \"FS_NIPPON_2020.xlsx\"\n",
    "\n",
    "static_keys = [\n",
    "    \"amc_name\", \"main_scheme_name\", \"mutual_fund_name\", \"benchmark_index\", \"monthly_aaum_date\", \n",
    "    \"monthly_aaum_value\", \"scheme_launch_date\", \"min_addl_amt\", \"min_addl_amt_multiple\", \n",
    "    \"min_amt\", \"min_amt_multiple\",\n",
    "]\n",
    "\n",
    "load_keys = [\"entry_load\", \"exit_load\"]\n",
    "\n",
    "metric_keys = [\n",
    "    \"alpha\", \"arithmetic_mean_ratio\", \"average_div_yield\", \"average_pb\", \"average_pe\", \"avg_maturity\",\n",
    "    \"beta\", \"correlation_ratio\", \"downside_deviation\", \"information_ratio\", \"macaulay\",\n",
    "    \"mod_duration\", \"port_turnover_ratio\", \"r_squared_ratio\", \"roe_ratio\", \"sharpe\", \"sortino_ratio\",\n",
    "    \"std_dev\", \"tracking_error\", \"treynor_ratio\", \"upside_deviation\", \"ytm\"\n",
    "]\n",
    "\n",
    "def flatten_to_row(value, max_manager): \n",
    "    add_value = []\n",
    "    for k in static_keys:\n",
    "        val = value.get(k, \"\")\n",
    "        if isinstance(val, list):\n",
    "            val = \", \".join(val)\n",
    "        add_value.append(val)\n",
    "\n",
    "    metric_map = {m[\"name\"]: m[\"value\"] for m in value.get(\"metrics\", [])}\n",
    "    metric = [metric_map.get(k, \"\") for k in metric_keys]\n",
    "    add_value.extend(metric)\n",
    "    \n",
    "    entry, exit = \"\", \"\"\n",
    "    for l in value.get(\"load\", []):\n",
    "        if l.get(\"type\") == \"entry_load\":\n",
    "            entry = l.get(\"comment\", \"\")\n",
    "        elif l.get(\"type\") == \"exit_load\":\n",
    "            exit = l.get(\"comment\", \"\")\n",
    "    load = [entry, exit]\n",
    "    add_value.extend(load)\n",
    "    \n",
    "    fms = value.get(\"fund_manager\", [])\n",
    "    for i in range(max_manager):\n",
    "        if i < len(fms):\n",
    "            fm = fms[i]\n",
    "            add_value.append(fm.get(\"name\", \"\"))\n",
    "            add_value.append(fm.get(\"managing_fund_since\", \"\"))\n",
    "            add_value.append(fm.get(\"total_exp\", \"\"))\n",
    "            add_value.append(fm.get(\"qualification\", \"\"))\n",
    "        else:\n",
    "            add_value.extend([\"\", \"\", \"\", \"\"])\n",
    "\n",
    "    return add_value\n",
    "\n",
    "file_paths = []\n",
    "month_data = defaultdict(list)\n",
    "sheet_columns = {}\n",
    "\n",
    "for pth, _, files in os.walk(path):\n",
    "    for f in files:\n",
    "        file_path = os.path.join(pth, f)\n",
    "        file_paths.append(file_path)\n",
    "\n",
    "for paths in file_paths:\n",
    "    with open(paths, \"r\", encoding=\"utf8\") as f:\n",
    "        df = json.load(f)\n",
    "\n",
    "    sheet_name = df.get(\"metadata\", {}).get(\"document_name\", \"\")\n",
    "    records = df.get(\"records\", [])\n",
    "\n",
    "    max_manager = 0\n",
    "    for record in records:\n",
    "        value = record.get(\"value\", {})\n",
    "        manager = value.get(\"fund_manager\", [])\n",
    "        if len(manager) > max_manager:\n",
    "            max_manager = len(manager)\n",
    "\n",
    "    print(f\"{sheet_name} MAX MANAGER: {max_manager}\")\n",
    "\n",
    "    fund_manager_keys = []\n",
    "    for i in range(max_manager):\n",
    "        fund_manager_keys.extend([\n",
    "            f\"fund_manager_{i}\",\n",
    "            f\"since_{i}\",\n",
    "            f\"experience_{i}\",\n",
    "            f\"qualification_{i}\"\n",
    "        ])\n",
    "\n",
    "    final_keys = static_keys + metric_keys + load_keys + fund_manager_keys\n",
    "    sheet_columns[sheet_name] = final_keys\n",
    "\n",
    "    for record in records:\n",
    "        value = record.get(\"value\", {})\n",
    "        row = flatten_to_row(value, max_manager)\n",
    "        month_data[sheet_name].append(row)\n",
    "\n",
    "month_data = dict(month_data)\n",
    "\n",
    "with pd.ExcelWriter(xls_name) as writer:\n",
    "    for month, rows in month_data.items():\n",
    "        if not rows:\n",
    "            print(f\"No data for month: {month}\")\n",
    "            continue\n",
    "        try:\n",
    "            df = pd.DataFrame(rows, columns=sheet_columns[month])\n",
    "            df.to_excel(writer, sheet_name=month[:31], index=False)\n",
    "        except Exception as e:\n",
    "            print(f\"Month: {month} Error.\")\n",
    "            print(e)\n"
   ]
  },
  {
   "cell_type": "code",
   "execution_count": null,
   "metadata": {},
   "outputs": [],
   "source": [
    "import camelot\n",
    "\n",
    "\n",
    "path = r\"C:\\Users\\kaustubh.keny\\Downloads\\Reliance_Nippon_Individual_June_2025.pdf\"\n",
    "tables = camelot.read_pdf(path, pages=\"7\", flavor=\"hybrid\")\n",
    "for i, table in enumerate(tables):\n",
    "    table.to_csv(f\"table_{i}.csv\")          \n",
    "    table.to_excel(f\"table_{i}.xlsx\")\n",
    "     \n"
   ]
  }
 ],
 "metadata": {
  "kernelspec": {
   "display_name": ".venv-py1310",
   "language": "python",
   "name": "python3"
  },
  "language_info": {
   "codemirror_mode": {
    "name": "ipython",
    "version": 3
   },
   "file_extension": ".py",
   "mimetype": "text/x-python",
   "name": "python",
   "nbconvert_exporter": "python",
   "pygments_lexer": "ipython3",
   "version": "3.10.8"
  }
 },
 "nbformat": 4,
 "nbformat_minor": 2
}
