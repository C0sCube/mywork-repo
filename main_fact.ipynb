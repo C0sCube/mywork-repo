{
 "cells": [
  {
   "cell_type": "code",
   "execution_count": 36,
   "metadata": {},
   "outputs": [
    {
     "name": "stdout",
     "output_type": "stream",
     "text": [
      "The autoreload extension is already loaded. To reload it, use:\n",
      "  %reload_ext autoreload\n",
      "Config already loaded. Skipping re-initialization.\n",
      "C:\\Users\\Kaustubh.keny\\Projects\\PDF\\Apr 25\n"
     ]
    }
   ],
   "source": [
    "%load_ext autoreload\n",
    "%autoreload 2\n",
    "from app.config_loader import load_config_once\n",
    "\n",
    "conf = load_config_once(output_folder=\"JPY\")\n",
    "\n",
    "import warnings\n",
    "from pandas.errors import SettingWithCopyWarning\n",
    "\n",
    "warnings.simplefilter(action=\"ignore\", category=SettingWithCopyWarning)\n",
    "warnings.filterwarnings(\"ignore\", category=UserWarning)\n",
    "warnings.filterwarnings(\"ignore\", category=FutureWarning)\n",
    "\n",
    "\n",
    "import json, os, logging, datetime,json5,sys, pprint\n",
    "from app.fund_data import *\n",
    "from app.utils import Helper\n",
    "\n",
    "mutual_fund = Helper.get_amc_paths(conf[\"amc_path\"])\n",
    "    \n",
    "# https://www.sebi.gov.in/sebiweb/other/OtherAction.do?doMutualFund=yes&mftype=2"
   ]
  },
  {
   "cell_type": "code",
   "execution_count": null,
   "metadata": {},
   "outputs": [],
   "source": [
    "\"\"\"360 ONE FILE CODE\"\"\"\n",
    "amc_id = '18_0'\n",
    "# logging.info(f\"User Ran Fund Data of {amc_name}\")\n",
    "fund_name, path= mutual_fund[amc_id]\n",
    "object = ThreeSixtyOne(fund_name,amc_id,path)\n",
    "title,path_pdf = object.check_and_highlight(path)\n",
    "data = object.get_data(path_pdf,title)\n",
    "extracted_text = object.get_generated_content(data, is_table=object.MAIN_MAP[\"table\"])\n",
    "final_text = object.refine_extracted_data(extracted_text)\n",
    "dfs = object.merge_and_select_data(final_text,map_keys = True, special_handling = True)"
   ]
  },
  {
   "cell_type": "code",
   "execution_count": null,
   "metadata": {},
   "outputs": [],
   "source": [
    "\"\"\"ANGEL ONE FILE CODE\"\"\"\n",
    "amc_id = '96_0'\n",
    "# logging.info(f\"User Ran Fund Data of {amc_name}\")\n",
    "fund_name, path= mutual_fund[amc_id]\n",
    "object = AngelOne(fund_name,amc_id,path)\n",
    "title,path_pdf = object.check_and_highlight(path)\n",
    "data = object.get_data(path_pdf,title)\n",
    "extracted_text = object.get_generated_content(data)\n",
    "final_text = object.refine_extracted_data(extracted_text)\n",
    "dfs = object.merge_and_select_data(final_text,map_keys = True, special_handling = True)"
   ]
  },
  {
   "cell_type": "code",
   "execution_count": null,
   "metadata": {},
   "outputs": [],
   "source": [
    "\"\"\"SHRIRAM MAIN FILE CODE\"\"\"\n",
    "amc_id = '36_0'\n",
    "# logging.info(f\"User Ran Fund Data of {amc_name}\")\n",
    "fund_name, path= mutual_fund[amc_id]\n",
    "object = Shriram(fund_name,amc_id,path)\n",
    "title,path_pdf = object.check_and_highlight(path)\n",
    "data = object.get_data(path_pdf,title)\n",
    "extracted_text = object.get_generated_content(data)\n",
    "final_text = object.refine_extracted_data(extracted_text)\n",
    "dfs = object.merge_and_select_data(final_text,map_keys = True, special_handling = True)"
   ]
  },
  {
   "cell_type": "code",
   "execution_count": null,
   "metadata": {},
   "outputs": [],
   "source": [
    "\"\"\"PPFAS MAIN FILE CODE\"\"\"\n",
    "\n",
    "amc_id = '30_0'\n",
    "# logging.info(f\"User Ran Fund Data of {amc_name}\")\n",
    "fund_name, path= mutual_fund[amc_id]\n",
    "object = PPFAS(fund_name,amc_id,path)\n",
    "title,path_pdf = object.check_and_highlight(path)\n",
    "data = object.get_data(path_pdf,title)\n",
    "extracted_text = object.get_generated_content(data)\n",
    "final_text = object.refine_extracted_data(extracted_text)\n",
    "dfs = object.merge_and_select_data(final_text,map_keys = True, special_handling = True)"
   ]
  },
  {
   "cell_type": "code",
   "execution_count": null,
   "metadata": {},
   "outputs": [],
   "source": [
    "'''AXIS ONE PASSIVE MAIN FILE CODE'''\n",
    "amc_id = '1_1'\n",
    "# logging.info(f\"User Ran Fund Data of {amc_name}\")\n",
    "fund_name, path= mutual_fund[amc_id]\n",
    "object = AXISMFPassive(fund_name,amc_id,path)\n",
    "title,path_pdf = object.check_and_highlight(path)\n",
    "data = object.get_data(path_pdf,title)\n",
    "extracted_text = object.get_generated_content(data)\n",
    "# final_text = object.refine_extracted_data(extracted_text)\n",
    "# dfs = object.merge_and_select_data(final_text,map_keys = True, special_handling = True)\n",
    "# with open(save_path, 'w') as f:\n",
    "#   json.dump(dfs, f, indent=2)\n",
    "# print(f\"File Saved At: {save_path}\")"
   ]
  },
  {
   "cell_type": "code",
   "execution_count": null,
   "metadata": {},
   "outputs": [],
   "source": [
    "'''AXIS ONE ACTIVE MAIN FILE CODE''' #No issues as of now\n",
    "amc_name = \"Axis Mutual Fund\"\n",
    "# logger.info(f\"User Ran Fund Data of {amc_name}\")\n",
    "path = mutual_fund[amc_name]\n",
    "object = AXISMF(amc_name,path)\n",
    "\n",
    "title,path_pdf = object.check_and_highlight(path)\n",
    "data = object.get_data(path_pdf,title)\n",
    "extracted_text = object.get_generated_content(data)\n"
   ]
  },
  {
   "cell_type": "code",
   "execution_count": null,
   "metadata": {},
   "outputs": [],
   "source": [
    "object = AXISMF(amc_name,path)\n",
    "data = object.get_data(path_pdf,title)\n",
    "extracted_text = object.get_generated_content(data)\n",
    "Helper.quick_json_dump(extracted_text,object.JSONPATH)"
   ]
  },
  {
   "cell_type": "code",
   "execution_count": null,
   "metadata": {},
   "outputs": [],
   "source": [
    "object = AXISMF(amc_name,path)\n",
    "final_text = object.refine_extracted_data(extracted_text, flatten=True)\n",
    "dfs = object.merge_and_select_data(final_text, map_keys = True, special_handling=True)\n",
    "Helper.quick_json_dump(dfs,object.JSONPATH)"
   ]
  },
  {
   "cell_type": "code",
   "execution_count": null,
   "metadata": {},
   "outputs": [],
   "source": [
    "\"\"\"ADITYA BIRLA FILE CODE\"\"\"\n",
    "amc_id = '3_0'\n",
    "# logging.info(f\"User Ran Fund Data of {amc_name}\")\n",
    "fund_name, path= mutual_fund[amc_id]\n",
    "object = AdityaBirla(fund_name,amc_id,path)\n",
    "title,path_pdf = object.check_and_highlight(path)\n",
    "data = object.get_data(path_pdf,title)"
   ]
  },
  {
   "cell_type": "code",
   "execution_count": null,
   "metadata": {},
   "outputs": [],
   "source": [
    "object = AdityaBirla(fund_name,amc_id,path)\n",
    "extracted_text = object.get_generated_content(data)\n",
    "final_text = object.refine_extracted_data(extracted_text)\n",
    "dfs = object.merge_and_select_data(final_text,map_keys = True,special_handling=True)"
   ]
  },
  {
   "cell_type": "code",
   "execution_count": 132,
   "metadata": {},
   "outputs": [
    {
     "name": "stdout",
     "output_type": "stream",
     "text": [
      "Function Running: check_and_highlight\n",
      "Function Running: _get_normal_title\n",
      "Regex: (Bandhan.+?(?:Funds?|Path|Saver|ETF|F[oO]F)\\s*(?:of [Ff]unds?\\s*(?:.+?Plan)?|[Ff]und of [Ff]unds?\\s*(?:.+?Plan)?|[Ff]unds?|F[Oo]F|.+?Plan)?)\n",
      "15 -- Bandhan Large Cap Fund\n",
      "16 -- Bandhan Small Cap Fund\n",
      "17 -- Bandhan Core Equity Fund\n",
      "18 -- Bandhan Flexi Cap Fund\n",
      "19 -- Bandhan Multi Cap Fund\n",
      "20 -- Bandhan Midcap Fund\n",
      "21 -- Bandhan ELSS Tax Saver Fund\n",
      "22 -- Bandhan Focused Equity Fund\n",
      "23 -- Bandhan Sterling Value Fund\n",
      "24 -- Bandhan Infrastructure Fund\n",
      "25 -- Bandhan Transportation and Logistics Fund\n",
      "26 -- Bandhan Financial Services Fund\n",
      "27 -- Bandhan Innovation Fund\n",
      "28 -- Bandhan Business Cycle Fund\n",
      "29 -- Bandhan Arbitrage Fund\n",
      "30 -- Bandhan Arbitrage Fund\n",
      "31 -- Bandhan Equity Savings Fund\n",
      "32 -- Bandhan Balanced Advantage Fund\n",
      "33 -- Bandhan Multi Asset Allocation Fund\n",
      "34 -- Bandhan Aggressive Hybrid Fund\n",
      "35 -- Bandhan Retirement Fund\n",
      "36 -- Bandhan Conservative Hybrid Fund\n",
      "37 -- Bandhan US Equity Fund of Fund\n",
      "38 -- Bandhan US Treasury Bond 0-1 year Fund of Fund\n",
      "39 -- Bandhan Asset Allocation Fund of Funds\n",
      "40 -- Bandhan Asset Allocation Fund of Funds\n",
      "41 -- Bandhan Income Plus Arbitrage Fund of Funds\n",
      "43 -- Bandhan Overnight Fund\n",
      "44 -- Bandhan Liquid Fund\n",
      "45 -- Bandhan Ultra Short Term Fund\n",
      "46 -- Bandhan Low Duration Fund\n",
      "47 -- Bandhan Money Manager Fund\n",
      "48 -- Bandhan Banking & PSU Debt Fund\n",
      "49 -- Bandhan Corporate Bond Fund\n",
      "50 -- Bandhan Bond Fund Short Term Plan\n",
      "51 -- Bandhan Bond Fund Medium Term Plan\n",
      "52 -- Bandhan Floating Rate Fund\n",
      "53 -- Bandhan Credit Risk Fund\n",
      "54 -- Bandhan Bond Fund Income Plan\n",
      "55 -- Bandhan Dynamic Bond Fund\n",
      "56 -- Bandhan Long Duration Fund\n",
      "57 -- Bandhan Government Securities Fund - Constant Maturity Plan\n",
      "58 -- Bandhan Government Securities Fund Investment Plan\n",
      "59 -- Bandhan Nifty 50 Index Fund\n",
      "60 -- Bandhan Nifty 100 Index Fund\n",
      "61 -- Bandhan Nifty100 Low Volatility 30 Index Fund\n",
      "62 -- Bandhan Nifty200 Momentum 30 Index Fund\n",
      "63 -- Bandhan Nifty Alpha 50 Index Fund\n",
      "64 -- Bandhan Nifty Smallcap 250 Index Fund\n",
      "65 -- Bandhan Nifty IT Index Fund\n",
      "66 -- Bandhan Nifty Total Market Index Fund\n",
      "67 -- Bandhan Nifty Bank Index Fund\n",
      "68 -- Bandhan BSE Healthcare Index Fund\n",
      "69 -- Bandhan Nifty Midcap 150 Index Fund\n",
      "70 -- Bandhan Nifty 500 Momentum 50 Index Fund\n",
      "71 -- Bandhan Nifty 500 Value 50 Index Fund\n",
      "72 -- Bandhan Nifty 200 Quality 30 Index Fund\n",
      "73 -- Bandhan Nifty Alpha Low Volatility 30 Index Fund\n",
      "74 -- Bandhan Nifty Next 50 Index Fund\n",
      "75 -- Bandhan BSE Sensex ETF\n",
      "76 -- Bandhan Nifty 50 ETF\n",
      "77 -- Bandhan CRISIL IBX Gilt April 2026 Index Fund\n",
      "78 -- Bandhan CRISIL IBX Gilt June 2027 Index Fund\n",
      "79 -- Bandhan CRISIL IBX Gilt April 2028 Index Fund\n",
      "80 -- Bandhan CRISIL IBX Gilt April 2032 Index Fund\n",
      "81 -- Bandhan CRISIL IBX 9010 SDL Plus Gilt November 2026 Index Fund\n",
      "82 -- Bandhan CRISIL IBX 9010 SDL Plus Gilt September 2027 Index Fund\n",
      "83 -- Bandhan CRISIL IBX 9010 SDL Plus GiltApril 2032 Index Fund\n",
      "84 -- Bandhan CRISIL-IBX 1090 Gilt + SDL Index Dec 2029 Fund\n",
      "85 -- Bandhan CRISIL-IBX Financial Services 3-6 Months Debt Index Fund\n",
      "Function Running: get_data\n",
      "Function Running: extract_clipped_data\n",
      "Function Running: extract_span_data\n",
      "Function Running: process_text_data\n",
      "Function Running: create_nested_dict\n"
     ]
    }
   ],
   "source": [
    "\"\"\"BANDHAN MF FILE MAIN CODE\"\"\"\n",
    "amc_id = '16_0'\n",
    "# logging.info(f\"User Ran Fund Data of {amc_name}\")\n",
    "fund_name, path= mutual_fund[amc_id]\n",
    "object = Bandhan(fund_name,amc_id,path)\n",
    "title,path_pdf = object.check_and_highlight(path)\n",
    "data  = object.get_data(path_pdf,title)\n"
   ]
  },
  {
   "cell_type": "code",
   "execution_count": 128,
   "metadata": {},
   "outputs": [
    {
     "name": "stdout",
     "output_type": "stream",
     "text": [
      "Function Running: get_generated_content\n",
      "\tParsing Completed, Refining Data.....\n",
      "Function Running: refine_extracted_data\n",
      "Function Running: merge_and_select_data\n"
     ]
    }
   ],
   "source": [
    "object = Bandhan(fund_name,amc_id,path)\n",
    "extracted_text = object.get_generated_content(data)\n",
    "final_text = object.refine_extracted_data(extracted_text)\n",
    "dfs = object.merge_and_select_data(final_text, map_keys = True, special_handling = True)"
   ]
  },
  {
   "cell_type": "code",
   "execution_count": 130,
   "metadata": {},
   "outputs": [
    {
     "name": "stdout",
     "output_type": "stream",
     "text": [
      "File Saved At: C:\\Users\\Kaustubh.keny\\Projects\\JSON25\\JPY\\16_30-Apr-25_FS.json\n",
      "Bandhan Large Cap Fund\n",
      "Bandhan Small Cap Fund\n",
      "Bandhan Core Equity Fund\n",
      "Bandhan Flexi Cap Fund\n",
      "Bandhan Multi Cap Fund\n",
      "Bandhan Midcap Fund\n",
      "Bandhan ELSS Tax Saver Fund\n",
      "Bandhan Focused Equity Fund\n",
      "Bandhan Sterling Value Fund\n",
      "Bandhan Infrastructure Fund\n",
      "Bandhan Transportation and Logistics Fund\n",
      "Bandhan Financial Services Fund\n",
      "Bandhan Innovation Fund\n",
      "Bandhan Business Cycle Fund\n",
      "Bandhan Arbitrage Fund\n",
      "Bandhan Equity Savings Fund\n",
      "Bandhan Balanced Advantage Fund\n",
      "Bandhan Multi Asset Allocation Fund\n",
      "Bandhan Aggressive Hybrid Fund\n",
      "Bandhan Retirement Fund\n",
      "Bandhan Conservative Hybrid Fund\n",
      "Bandhan US Equity Fund of Fund\n",
      "Bandhan US Treasury Bond 0-1 year Fund of Fund\n",
      "Bandhan Asset Allocation Fund of Funds\n",
      "Bandhan Income Plus Arbitrage Fund of Funds\n",
      "Bandhan Overnight Fund\n",
      "Bandhan Liquid Fund\n",
      "Bandhan Ultra Short Term Fund\n",
      "Bandhan Low Duration Fund\n",
      "Bandhan Money Manager Fund\n",
      "Bandhan Banking & PSU Debt Fund\n",
      "Bandhan Corporate Bond Fund\n",
      "Bandhan Bond Fund Short Term Plan\n",
      "Bandhan Bond Fund Medium Term Plan\n",
      "Bandhan Floating Rate Fund\n",
      "Bandhan Credit Risk Fund\n",
      "Bandhan Bond Fund Income Plan\n",
      "Bandhan Dynamic Bond Fund\n",
      "Bandhan Long Duration Fund\n",
      "Bandhan Government Securities Fund - Constant Maturity Plan\n",
      "Bandhan Government Securities Fund Investment Plan\n",
      "Bandhan Nifty 50 Index Fund\n",
      "Bandhan Nifty 100 Index Fund\n",
      "Bandhan Nifty100 Low Volatility 30 Index Fund\n",
      "Bandhan Nifty200 Momentum 30 Index Fund\n",
      "Bandhan Nifty Alpha 50 Index Fund\n",
      "Bandhan Nifty Smallcap 250 Index Fund\n",
      "Bandhan Nifty IT Index Fund\n",
      "Bandhan Nifty Total Market Index Fund\n",
      "Bandhan Nifty Bank Index Fund\n",
      "Bandhan BSE Healthcare Index Fund\n",
      "Bandhan Nifty Midcap 150 Index Fund\n",
      "Bandhan Nifty 500 Momentum 50 Index Fund\n",
      "Bandhan Nifty 500 Value 50 Index Fund\n",
      "Bandhan Nifty 200 Quality 30 Index Fund\n",
      "Bandhan Nifty Alpha Low Volatility 30 Index Fund\n",
      "Bandhan Nifty Next 50 Index Fund\n",
      "Bandhan BSE Sensex ETF\n",
      "Bandhan Nifty 50 ETF\n",
      "Bandhan CRISIL IBX Gilt April 2026 Index Fund\n",
      "Bandhan CRISIL IBX Gilt June 2027 Index Fund\n",
      "Bandhan CRISIL IBX Gilt April 2028 Index Fund\n",
      "Bandhan CRISIL IBX Gilt April 2032 Index Fund\n",
      "Bandhan CRISIL IBX 9010 SDL Plus Gilt November 2026 Index Fund\n",
      "Bandhan CRISIL IBX 9010 SDL Plus Gilt September 2027 Index Fund\n",
      "Bandhan CRISIL IBX 9010 SDL Plus GiltApril 2032 Index Fund\n",
      "Bandhan CRISIL-IBX 1090 Gilt + SDL Index Dec 2029 Fund\n",
      "Bandhan CRISIL-IBX Financial Services 3-6 Months Debt Index Fund\n"
     ]
    }
   ],
   "source": [
    "save_path = os.path.join(object.JSONPATH, object.FILE_NAME).replace(\".pdf\", \".json\")\n",
    "with open(save_path, 'w') as f:\n",
    "  json.dump(dfs, f, indent=2)\n",
    "print(f\"File Saved At: {save_path}\")\n",
    "\n",
    "with open(\"data.json\", 'w') as f:\n",
    "  json.dump(final_text, f, indent=2)\n",
    "  \n",
    "with open(\"extract.json\", 'w') as f:\n",
    "  json.dump(extracted_text, f, indent=2)\n",
    "\n",
    "with open(save_path, 'r') as f:\n",
    "  data = json.load(f)\n",
    "\n",
    "for record in data[\"records\"]:\n",
    "    print(record['value']['main_scheme_name'])\n",
    "    "
   ]
  },
  {
   "cell_type": "code",
   "execution_count": null,
   "metadata": {},
   "outputs": [],
   "source": [
    "\"\"\" BARODA BNP MAIN FILE CODE\"\"\"\n",
    "\n",
    "amc_name = 'Baroda Bnp Paribas Mutual Fund'\n",
    "logging.info(f\"User Ran Fund Data of {amc_name}\")\n",
    "path = mutual_fund[amc_name]\n",
    "object = BarodaBNP(amc_name,path)\n",
    "title,path_pdf= object.check_and_highlight(path)"
   ]
  },
  {
   "cell_type": "code",
   "execution_count": null,
   "metadata": {},
   "outputs": [],
   "source": [
    "data  = object.get_data(path_pdf,title)\n",
    "extracted_text = object.get_generated_content(data)"
   ]
  },
  {
   "cell_type": "code",
   "execution_count": null,
   "metadata": {},
   "outputs": [],
   "source": [
    "object = BarodaBNP(amc_name,path)\n",
    "final_text = object.refine_extracted_data(extracted_text, flatten = True)\n",
    "dfs = object.merge_and_select_data(final_text, select = True, map_keys = True, special_handling = True)\n",
    "Helper.quick_json_dump(dfs, object.JSONPATH)"
   ]
  },
  {
   "cell_type": "code",
   "execution_count": 34,
   "metadata": {},
   "outputs": [
    {
     "name": "stdout",
     "output_type": "stream",
     "text": [
      "Function Running: check_and_highlight\n",
      "Function Running: _get_normal_title\n",
      "Regex: (Bank of India.*?(?:Plan|Funds?|ETF|FOF|FTF|Saver)\\s*(?:of Funds?|FO?o?F)?)\n",
      "06 -- Bank of India Flexi Cap Fund\n",
      "07 -- Bank of India Small Cap Fund\n",
      "08 -- Bank of India ELSS Tax Saver\n",
      "09 -- Bank of India Multi Cap Fund\n",
      "10 -- Bank of India Business Cycle Fund\n",
      "11 -- Bank of India Manufacturing & Infrastructure Fund\n",
      "12 -- Bank of India Consumption Fund\n",
      "13 -- Bank of India Large & Mid Cap Equity Fund\n",
      "14 -- Bank of India Bluechip Fund\n",
      "15 -- Bank of India Mid & Small Cap Equity & Debt Fund\n",
      "16 -- Bank of India Multi Asset Allocation Fund\n",
      "17 -- Bank of India Balanced Advantage Fund\n",
      "18 -- Bank of India Conservative Hybrid Fund\n",
      "19 -- Bank of India Arbitrage Fund\n",
      "20 -- Bank of India Liquid Fund\n",
      "21 -- Bank of India Money Market Fund\n",
      "22 -- Bank of India Ultra Short Duration Fund\n",
      "23 -- Bank of India Credit Risk Fund\n",
      "24 -- Bank of India Overnight Fund\n",
      "25 -- Bank of India Short Term Income Fund\n",
      "26 -- Bank of India Large & Mid Cap Equity Fund\n",
      "27 -- Bank of India Flexi Cap Fund\n",
      "28 -- Bank of India Business Cycle Fund\n",
      "29 -- Bank of India Conservative Hybrid Fund\n",
      "30 -- Bank of India Multi Cap Fund\n",
      "31 -- Bank of India Liquid Fund\n",
      "32 -- Bank of India Short Term Income Fund\n",
      "34 -- Bank of India Large & Mid Cap Equity Fund\n",
      "35 -- Bank of India Mid & Small Cap Equity & Debt Fund\n",
      "Function Running: get_data\n",
      "Function Running: extract_data_relative_line\n",
      "Function Running: extract_span_data\n",
      "Function Running: process_text_data\n",
      "Function Running: create_nested_dict\n",
      "Function Running: get_generated_content\n",
      "\tParsing Completed, Refining Data.....\n",
      "[Error] get_generated_content failed: list index out of range\n"
     ]
    }
   ],
   "source": [
    "\"\"\"BANK OF INDIA\"\"\" #Regex# pages =[6, 7, 8, 9, 10, 11, 12, 13, 14, 15, 16, 17, 18, 19, 20, 21, 22, 23, 24]\n",
    "\n",
    "amc_id = '5_0'\n",
    "# logging.info(f\"User Ran Fund Data of {amc_name}\")\n",
    "fund_name, path= mutual_fund[amc_id]\n",
    "object = BankOfIndia(fund_name,amc_id,path)\n",
    "title,path_pdf = object.check_and_highlight(path)\n",
    "data = object.get_data(path_pdf,title)\n",
    "extracted_text = object.get_generated_content(data)\n"
   ]
  },
  {
   "cell_type": "code",
   "execution_count": 35,
   "metadata": {},
   "outputs": [
    {
     "name": "stdout",
     "output_type": "stream",
     "text": [
      "Function Running: refine_extracted_data\n",
      "Function Running: merge_and_select_data\n"
     ]
    }
   ],
   "source": [
    "object = BankOfIndia(fund_name,amc_id,path)\n",
    "final_text = object.refine_extracted_data(extracted_text)\n",
    "dfs = object.merge_and_select_data(final_text, map_keys = True, special_handling=True)"
   ]
  },
  {
   "cell_type": "code",
   "execution_count": null,
   "metadata": {},
   "outputs": [],
   "source": [
    "\"\"\"BAJAJ FINSERV MAIN FILE CODE\"\"\" \n",
    "\n",
    "amc_id = \"59_0\"\n",
    "# logging.info(f\"User Ran Fund Data of {amc_name}\")\n",
    "fund_name, path= mutual_fund[amc_id]\n",
    "object = BajajFinServ(fund_name,amc_id,path)\n",
    "title,path_pdf= object.check_and_highlight(path)\n",
    "data = object.get_data(path_pdf,title)\n",
    "extracted_text = object.get_generated_content(data,is_table= object.MAIN_MAP[\"table\"])\n"
   ]
  },
  {
   "cell_type": "code",
   "execution_count": null,
   "metadata": {},
   "outputs": [],
   "source": [
    "object = BajajFinServ(fund_name,amc_id,path)\n",
    "final_text = object.refine_extracted_data(extracted_text)\n",
    "dfs = object.merge_and_select_data(final_text,map_keys = True, special_handling=True)"
   ]
  },
  {
   "cell_type": "code",
   "execution_count": 24,
   "metadata": {},
   "outputs": [
    {
     "name": "stdout",
     "output_type": "stream",
     "text": [
      "Function Running: check_and_highlight\n",
      "Function Running: _get_normal_title\n",
      "Regex: CANARA.*?\\)\n",
      "05 -- CANARA ROBECO FLEXICAP FUND (CRFCF)\n",
      "06 -- CANARA ROBECO BLUE CHIP EQUITY FUND (CRBCEF)\n",
      "07 -- CANARA ROBECO EMERGING EQUITIES (CREE)\n",
      "08 -- CANARA ROBECO SMALL CAP FUND (CRSCF)\n",
      "09 -- CANARA ROBECO INFRASTRUCTURE (CRI)\n",
      "10 -- CANARA ROBECO CONSUMER TRENDS FUND (CRCTF)\n",
      "11 -- CANARA ROBECO ELSS TAX SAVER (CRETS)\n",
      "12 -- CANARA ROBECO FOCUSED EQUITY FUND (CRFEF)\n",
      "13 -- CANARA ROBECO VALUE FUND (CRVF)\n",
      "14 -- CANARA ROBECO MID CAP FUND (CRMCF)\n",
      "15 -- CANARA ROBECO MULTI CAP FUND (CRMUCF)\n",
      "16 -- CANARA ROBECO MANUFACTURING FUND (CRMTF)\n",
      "17 -- CANARA ROBECO OVERNIGHT FUND (CROF)\n",
      "18 -- CANARA ROBECO LIQUID FUND (CRL)\n",
      "19 -- CANARA ROBECO ULTRA SHORT TERM FUND (CRUSTF)\n",
      "20 -- CANARA ROBECO SAVINGS FUND (CRSF)\n",
      "21 -- CANARA ROBECO SHORT DURATION FUND (CRSDF)\n",
      "22 -- CANARA ROBECO INCOME FUND (CRINC)\n",
      "23 -- CANARA ROBECO DYNAMIC BOND FUND (CRDBF)\n",
      "24 -- CANARA ROBECO CORPORATE BOND FUND (CRCBF)\n",
      "25 -- CANARA ROBECO GILT FUND (CRGILT)\n",
      "26 -- CANARA ROBECO BANKING AND PSU DEBT FUND (CRBPDF)\n",
      "27 -- CANARA ROBECO CONSERVATIVE HYBRID FUND (CRCHF)\n",
      "28 -- CANARA ROBECO EQUITY HYBRID FUND (CREHF)\n",
      "29 -- CANARA ROBECO BALANCED ADVANTAGE FUND (CRBAF)\n",
      "Function Running: get_data\n",
      "Function Running: extract_clipped_data\n",
      "Function Running: extract_span_data\n",
      "Function Running: process_text_data\n",
      "Function Running: create_nested_dict\n",
      "Function Running: get_generated_content\n",
      "\tParsing Completed, Refining Data.....\n",
      "[Error] get_generated_content failed: list index out of range\n"
     ]
    }
   ],
   "source": [
    "\"\"\"CANARA MUTUAL FUND\"\"\"\n",
    "amc_id = '6_0'\n",
    "# logging.info(f\"User Ran Fund Data of {amc_name}\")\n",
    "fund_name, path= mutual_fund[amc_id]\n",
    "object = Canara(fund_name,amc_id,path)\n",
    "title,path_pdf = object.check_and_highlight(path)\n",
    "data = object.get_data(path_pdf,title)"
   ]
  },
  {
   "cell_type": "code",
   "execution_count": 25,
   "metadata": {},
   "outputs": [
    {
     "name": "stdout",
     "output_type": "stream",
     "text": [
      "Function Running: refine_extracted_data\n",
      "Function Running: merge_and_select_data\n"
     ]
    }
   ],
   "source": [
    "object =  Canara(fund_name,amc_id,path)\n",
    "extracted_text = object.get_generated_content(data)\n",
    "final_text = object.refine_extracted_data(extracted_text)\n",
    "dfs = object.merge_and_select_data(final_text,map_keys = True, special_handling=True)\n"
   ]
  },
  {
   "cell_type": "code",
   "execution_count": 57,
   "metadata": {},
   "outputs": [
    {
     "name": "stdout",
     "output_type": "stream",
     "text": [
      "Function Running: check_and_highlight\n",
      "Function Running: _get_normal_title\n",
      "Regex: ((?:DSP|Bharat).+?(?:Funds?|FUNDS|ETF|F[Oo]F|Path|Plan)\\s*(?:of [Ff]unds?|Fund of [Ff]unds?|F[Oo]F|Funds?)?)\n",
      "03 -- DSP Flexi Cap Fund\n",
      "04 -- DSP Large Cap Fund\n",
      "05 -- DSP Large & Mid Cap Fund\n",
      "06 -- DSP India TIGER Fund\n",
      "07 -- DSP Mid Cap Fund\n",
      "08 -- DSP ELSS Tax Saver Fund\n",
      "09 -- DSP Healthcare Fund\n",
      "10 -- DSP Quant Fund\n",
      "12 -- DSP Small Cap Fund\n",
      "13 -- DSP Focused Fund\n",
      "14 -- DSP Multicap Fund\n",
      "15 -- DSP Business Cycle Fund\n",
      "16 -- DSP Natural Resources and New Energy Fund\n",
      "17 -- DSP World Gold Fund of Fund\n",
      "18 -- DSP World Mining Fund of Fund\n",
      "19 -- DSP Global Clean Energy Fund of Fund\n",
      "20 -- DSP US Flexible Equity Fund of Fund\n",
      "21 -- DSP Income Plus Arbitrage Fund of Fund\n",
      "22 -- DSP Global Innovation Fund of Fund\n",
      "23 -- DSP Gold ETF Fund of Fund\n",
      "24 -- DSP US Treasury Fund of Fund\n",
      "25 -- DSP Dynamic Asset Allocation Fund\n",
      "26 -- DSP Aggressive Hybrid Fund\n",
      "27 -- DSP Equity Savings Fund\n",
      "28 -- DSP Nifty 50 Equal Weight Index Fund\n",
      "29 -- DSP Nifty 50 Equal Weight ETF\n",
      "30 -- DSP NIFTY 50 ETF\n",
      "31 -- DSP NIFTY MIDCAP 150 QUALITY 50 ETF\n",
      "32 -- DSP Silver ETF\n",
      "33 -- DSP Nifty Bank ETF\n",
      "34 -- DSP Nifty IT ETF\n",
      "35 -- DSP Nifty PSU Bank ETF\n",
      "36 -- DSP Nifty Private Bank ETF\n",
      "37 -- DSP BSE Sensex ETF\n",
      "38 -- DSP Nifty Healthcare ETF\n",
      "39 -- DSP NIFTY 1D Rate Liquid ETF\n",
      "40 -- DSP BSE Liquid Rate ETF\n",
      "41 -- DSP Nifty Top 10 Equal Weight ETF\n",
      "42 -- DSP BSE Sensex Next 30 ETF\n",
      "43 -- DSP Nifty Top 10 Equal Weight Index Fund\n",
      "44 -- DSP Nifty Midcap 150 Quality 50 Index Fund\n",
      "45 -- DSP Nifty Next 50 Index Fund\n",
      "46 -- DSP Nifty 50 Index Fund\n",
      "47 -- DSP Nifty Bank Index Fund\n",
      "48 -- DSP BSE SENSEX Next 30 Index Fund\n",
      "49 -- DSP Nifty Private Bank Index Fund\n",
      "50 -- DSP Arbitrage Fund\n",
      "51 -- DSP Regular Savings Fund\n",
      "52 -- DSP Liquidity Fund\n",
      "53 -- DSP Ultra Short Fund\n",
      "54 -- DSP Floater Fund\n",
      "55 -- DSP Nifty SDL Plus G-Sec Jun 2028 3070 Index Fund\n",
      "56 -- DSP CRISIL SDL Plus G-Sec Apr 2033 5050 Index Fund\n",
      "57 -- DSP Nifty SDL Plus G-Sec Sep 2027 5050 Index Fund\n",
      "58 -- DSP Nifty Smallcap250 Quality 50 Index Fund\n",
      "59 -- DSP Savings Fund\n",
      "60 -- DSP Gilt Fund\n",
      "61 -- DSP Short Term Fund\n",
      "62 -- DSP Banking & PSU Debt Fund\n",
      "63 -- DSP Credit Risk Fund\n",
      "64 -- DSP Strategic Bond Fund\n",
      "65 -- DSP Bond Fund\n",
      "66 -- DSP Low Duration Fund\n",
      "67 -- DSP 10Y G-Sec Fund\n",
      "68 -- DSP Corporate Bond Fund\n",
      "69 -- DSP Multi Asset Allocation Fund\n",
      "70 -- DSP Banking & Financial Services Fund\n",
      "132 -- DSP Savings Fund\n",
      "133 -- DSP Floater Fund\n",
      "134 -- DSP Gilt Fund\n",
      "135 -- DSP Crisil SDL Plus G-Sec Apr 2033 5050 Index Fund\n",
      "Function Running: get_data\n",
      "Function Running: extract_clipped_data\n",
      "Function Running: extract_span_data\n",
      "Function Running: process_text_data\n",
      "Function Running: create_nested_dict\n"
     ]
    }
   ],
   "source": [
    "\"\"\"DSP MAIN FILE CODE\"\"\"\n",
    "\n",
    "amc_id = '8_0'\n",
    "# logging.info(f\"User Ran Fund Data of {amc_name}\")\n",
    "fund_name, path= mutual_fund[amc_id]\n",
    "object = DSP(fund_name,amc_id,path)\n",
    "title,path_pdf = object.check_and_highlight(path)\n",
    "data = object.get_data(path_pdf,title)"
   ]
  },
  {
   "cell_type": "code",
   "execution_count": 62,
   "metadata": {},
   "outputs": [
    {
     "name": "stdout",
     "output_type": "stream",
     "text": [
      "Function Running: refine_extracted_data\n",
      "Function Running: merge_and_select_data\n"
     ]
    }
   ],
   "source": [
    "object = DSP(fund_name,amc_id,path)\n",
    "# extracted_text = object.get_generated_content(data)\n",
    "final_text = object.refine_extracted_data(extracted_text)\n",
    "dfs = object.merge_and_select_data(final_text,map_keys = True,special_handling = True)\n"
   ]
  },
  {
   "cell_type": "code",
   "execution_count": null,
   "metadata": {},
   "outputs": [],
   "source": [
    "\"\"\"EDELWEISS MP FILE MAIN CODE\"\"\"\n",
    "\n",
    "amc_id = '9_0'\n",
    "# logging.info(f\"User Ran Fund Data of {amc_name}\")\n",
    "fund_name, path= mutual_fund[amc_id]\n",
    "object = Edelweiss(fund_name,amc_id,path)\n",
    "title,path_pdf = object.check_and_highlight(path)\n",
    "data = object.get_data(path_pdf,title)\n"
   ]
  },
  {
   "cell_type": "code",
   "execution_count": 65,
   "metadata": {},
   "outputs": [
    {
     "name": "stdout",
     "output_type": "stream",
     "text": [
      "Function Running: get_generated_content\n",
      "\tParsing Completed, Refining Data.....\n",
      "Function Running: refine_extracted_data\n",
      "Function Running: merge_and_select_data\n"
     ]
    }
   ],
   "source": [
    "object = Edelweiss(fund_name,amc_id,path)\n",
    "extracted_text = object.get_generated_content(data)\n",
    "final_text = object.refine_extracted_data(extracted_text)\n",
    "dfs = object.merge_and_select_data(final_text,map_keys = True, special_handling=True)\n"
   ]
  },
  {
   "cell_type": "code",
   "execution_count": null,
   "metadata": {},
   "outputs": [],
   "source": [
    "\"\"\"FRANKLIN TEMPLETON FILE MAIN CODE\"\"\"\n",
    "\n",
    "amc_id = '11_0'\n",
    "# logging.info(f\"User Ran Fund Data of {amc_name}\")\n",
    "fund_name, path= mutual_fund[amc_id]\n",
    "object = FranklinTempleton(fund_name,amc_id,path)\n",
    "title,path_pdf = object.check_and_highlight(path)\n",
    "data = object.get_data(path_pdf,title)\n"
   ]
  },
  {
   "cell_type": "code",
   "execution_count": null,
   "metadata": {},
   "outputs": [],
   "source": [
    "object = FranklinTempleton(fund_name,amc_id,path)\n",
    "extracted_text = object.get_generated_content(data)\n",
    "final_text = object.refine_extracted_data(extracted_text)\n",
    "dfs = object.merge_and_select_data(final_text,map_keys = True, special_handling=True)\n"
   ]
  },
  {
   "cell_type": "code",
   "execution_count": null,
   "metadata": {},
   "outputs": [],
   "source": []
  },
  {
   "cell_type": "code",
   "execution_count": null,
   "metadata": {},
   "outputs": [],
   "source": [
    "\"\"\"GROWW MUTUAL FUND MAIN CODE\"\"\"# pages = [13, 14, 15, 16, 17, 18, 19, 20, 21, 22, 23, 24, 26, 28, 29, 30, 32, 33, 34, 35, 36, 37, 38, 39, 40, 41, 42]\n",
    "\n",
    "amc_id = '20_0'\n",
    "# logging.info(f\"User Ran Fund Data of {amc_name}\")\n",
    "fund_name, path= mutual_fund[amc_id]\n",
    "object = GROWW(fund_name,amc_id,path)\n",
    "title,path_pdf = object.check_and_highlight(path)\n",
    "data = object.get_data(path_pdf,title)\n",
    "extracted_text = object.get_generated_content(data)"
   ]
  },
  {
   "cell_type": "code",
   "execution_count": null,
   "metadata": {},
   "outputs": [],
   "source": [
    "\"\"\"HDFC MUTUAL FUND\"\"\" # pages = [5, 6, 8, 10, 11, 12, 13, 14, 15, 16, 17, 18, 19, 20, 21, 22, 23, 24, 25, 26, 27, 28, 29, 30, 31, 32, 33, 34, 35, 36, 37, 38, 39, 40, 41, 42, 43, 44, 45, 46, 47, 48, 49, 50, 51]\n",
    "\n",
    "amc_name = \"Hdfc Mutual Fund\"\n",
    "logging.info(f\"User Ran Fund Data of {amc_name}\")\n",
    "path = mutual_fund[amc_name]\n",
    "object = HDFC(amc_name,path)\n",
    "title,path_pdf= object.check_and_highlight(path)\n",
    "\n",
    "data = object.get_data(path_pdf,title)\n",
    "extracted_text = object.get_generated_content(data)"
   ]
  },
  {
   "cell_type": "code",
   "execution_count": null,
   "metadata": {},
   "outputs": [],
   "source": [
    "object = HDFC(amc_name,path)\n",
    "final_text = object.refine_extracted_data(extracted_text,flatten = True)\n",
    "dfs = object.merge_and_select_data(final_text, select = True,map_keys = True,special_handling = True)\n",
    "Helper.quick_json_dump(dfs,object.JSONPATH)"
   ]
  },
  {
   "cell_type": "code",
   "execution_count": null,
   "metadata": {},
   "outputs": [],
   "source": [
    "\"\"\"HDFC MUTUAL FUND PASSIVE\"\"\" # pages = [5, 6, 8, 10, 11, 12, 13, 14, 15, 16, 17, 18, 19, 20, 21, 22, 23, 24, 25, 26, 27, 28, 29, 30, 31, 32, 33, 34, 35, 36, 37, 38, 39, 40, 41, 42, 43, 44, 45, 46, 47, 48, 49, 50, 51]\n",
    "\n",
    "amc_name = \"Hdfc Mutual Fund Passive\"\n",
    "logging.info(f\"User Ran Fund Data of {amc_name}\")\n",
    "path = mutual_fund[amc_name]\n",
    "object = HDFC(amc_name,path)\n",
    "title,path_pdf= object.check_and_highlight(path)\n",
    "\n",
    "data = object.get_data(path_pdf,title)\n",
    "extracted_text = object.get_generated_content(data)\n",
    "final_text = object.refine_extracted_data(extracted_text,flatten = True)\n",
    "dfs = object.merge_and_select_data(final_text, select = True,map_keys = True,special_handling=True)\n",
    "Helper.quick_json_dump(dfs,object.JSONPATH)"
   ]
  },
  {
   "cell_type": "code",
   "execution_count": null,
   "metadata": {},
   "outputs": [],
   "source": [
    "\"\"\"HELIOS MF FILE MAIN CODE\"\"\" # pages = [2, 4, 6, 8,10]\n",
    "\n",
    "amc_id = '60_0'\n",
    "# logging.info(f\"User Ran Fund Data of {amc_name}\")\n",
    "fund_name, path= mutual_fund[amc_id]\n",
    "object = Helios(fund_name,amc_id,path)\n",
    "title,path_pdf = object.check_and_highlight(path)\n",
    "data = object.get_data(path_pdf,title)\n",
    "extracted_text = object.get_generated_content(data)\n",
    "final_text = object.refine_extracted_data(extracted_text)\n",
    "dfs = object.merge_and_select_data(final_text,map_keys = True, special_handling = True)\n"
   ]
  },
  {
   "cell_type": "code",
   "execution_count": null,
   "metadata": {},
   "outputs": [],
   "source": [
    "\"\"\" ICICI MF MAIN FILE CODE\"\"\"\n",
    "\n",
    "amc_id = '14_0'\n",
    "# logging.info(f\"User Ran Fund Data of {amc_name}\")\n",
    "fund_name, path= mutual_fund[amc_id]\n",
    "object = ICICI(fund_name,amc_id,path)\n",
    "title,path_pdf = object.check_and_highlight(path)\n",
    "data = object.get_data(path_pdf,title)\n",
    "extracted_text = object.get_generated_content(data)\n",
    "# final_text = object.refine_extracted_data(extracted_text)\n",
    "# dfs = object.merge_and_select_data(final_text,map_keys = True, special_handling = True)\n"
   ]
  },
  {
   "cell_type": "code",
   "execution_count": 184,
   "metadata": {},
   "outputs": [
    {
     "name": "stdout",
     "output_type": "stream",
     "text": [
      "Function Running: refine_extracted_data\n",
      "Function Running: merge_and_select_data\n"
     ]
    }
   ],
   "source": [
    "object = ICICI(fund_name,amc_id,path)\n",
    "final_text = object.refine_extracted_data(extracted_text)\n",
    "dfs = object.merge_and_select_data(final_text,map_keys = True, special_handling = True)"
   ]
  },
  {
   "cell_type": "code",
   "execution_count": null,
   "metadata": {},
   "outputs": [],
   "source": [
    "\"\"\" ICICI MF MAIN FILE CODE PASSIVE\"\"\"# pages = [8, 9, 11, 13, 15, 16, 17, 18, 19, 20, 21, 22, 23, 24, 25, 27, 28, 29, 30, 31, 32, 33, 34, 35, 36, 37, 39, 40, 41, 42, 43, 44, 46, 47, 49, 51, 53, 55, 56, 58, 59, 60, 62, 64, 65, 66, 67, 68, 69, 71, 72, 74, 75, 77, 78, 80]\n",
    "\n",
    "amc_name = \"Icici Prudential Mutual Fund Passive\"\n",
    "logging.info(f\"User Ran Fund Data of {amc_name}\")\n",
    "path = mutual_fund[amc_name]\n",
    "object = ICICI(amc_name,path)\n",
    "title,path_pdf = object.check_and_highlight(path)\n"
   ]
  },
  {
   "cell_type": "code",
   "execution_count": null,
   "metadata": {},
   "outputs": [],
   "source": [
    "object = ICICI(amc_name,path)\n",
    "data = object.get_data(path_pdf,title)\n",
    "extracted_text = object.get_generated_content(data)"
   ]
  },
  {
   "cell_type": "code",
   "execution_count": null,
   "metadata": {},
   "outputs": [],
   "source": [
    "object = ICICI(amc_name,path)\n",
    "final_text = object.refine_extracted_data(extracted_text, flatten=True)\n",
    "dfs = object.merge_and_select_data(final_text,select= True,map_keys = True,special_handling=True)\n",
    "Helper.quick_json_dump(dfs,object.JSONPATH)"
   ]
  },
  {
   "cell_type": "code",
   "execution_count": null,
   "metadata": {},
   "outputs": [],
   "source": [
    "\"\"\" INVESCO MF MAIN FILE CODE\"\"\"\n",
    "\n",
    "amc_id = '21_0'\n",
    "# logging.info(f\"User Ran Fund Data of {amc_name}\")\n",
    "fund_name, path= mutual_fund[amc_id]\n",
    "object = Invesco(fund_name,amc_id,path)\n",
    "title,path_pdf = object.check_and_highlight(path)\n",
    "data = object.get_data(path_pdf,title)"
   ]
  },
  {
   "cell_type": "code",
   "execution_count": null,
   "metadata": {},
   "outputs": [],
   "source": [
    "object = Invesco(fund_name,amc_id,path)\n",
    "extracted_text = object.get_generated_content(data)\n",
    "final_text = object.refine_extracted_data(extracted_text)\n",
    "dfs = object.merge_and_select_data(final_text,map_keys = True, special_handling = True)\n"
   ]
  },
  {
   "cell_type": "code",
   "execution_count": null,
   "metadata": {},
   "outputs": [],
   "source": [
    "\"\"\"ITI MAIN FILE CODE\"\"\" # pages = [9, 10, 11, 12, 13, 14, 15, 16, 17, 18, 19, 20, 21, 22, 23, 24, 25, 26]\n",
    "\n",
    "amc_id = '51_0'\n",
    "# logging.info(f\"User Ran Fund Data of {amc_name}\")\n",
    "fund_name, path= mutual_fund[amc_id]\n",
    "object = ITI(fund_name,amc_id,path)\n",
    "title,path_pdf = object.check_and_highlight(path)\n",
    "data = object.get_data(path_pdf,title)\n",
    "extracted_text = object.get_generated_content(data)\n",
    "final_text = object.refine_extracted_data(extracted_text)\n",
    "dfs= object.merge_and_select_data(final_text,map_keys = True, special_handling=True)"
   ]
  },
  {
   "cell_type": "code",
   "execution_count": null,
   "metadata": {},
   "outputs": [],
   "source": [
    "\"\"\"JM FUND MAIN FILE CODE\"\"\"\n",
    "amc_id = '22_0'\n",
    "# logging.info(f\"User Ran Fund Data of {amc_name}\")\n",
    "fund_name, path= mutual_fund[amc_id]\n",
    "object = JMMF(fund_name,amc_id,path)\n",
    "title,path_pdf = object.check_and_highlight(path)\n",
    "data = object.get_data(path_pdf,title)\n",
    "extracted_text = object.get_generated_content(data)\n",
    "final_text = object.refine_extracted_data(extracted_text)\n",
    "dfs = object.merge_and_select_data(final_text,map_keys = True, special_handling = True)"
   ]
  },
  {
   "cell_type": "code",
   "execution_count": 18,
   "metadata": {},
   "outputs": [
    {
     "name": "stdout",
     "output_type": "stream",
     "text": [
      "Function Running: refine_extracted_data\n"
     ]
    }
   ],
   "source": [
    "object = JMMF(fund_name,amc_id,path)\n",
    "final_text = object.refine_extracted_data(extracted_text)\n",
    "# dfs = object.merge_and_select_data(final_text,map_keys = True, special_handling = True)"
   ]
  },
  {
   "cell_type": "code",
   "execution_count": null,
   "metadata": {},
   "outputs": [],
   "source": [
    "\"\"\"KOTAK FUND MAIN CODE\"\"\" # pages = [5, 6, 7, 8, 9, 10, 11, 12, 13, 14, 15, 16, 17, 18, 19, 20, 21, 22, 23, 24, 25, 26, 27, 28, 29, 30, 32, 34, 36, 37, 38, 40, 41, 43, 44, 46, 48, 49, 50, 52, 54, 55, 56, 69, 70, 71, 72, 73, 74, 75, 76, 77, 78, 79, 80, 81, 82, 83, 84, 85, 86, 87, 88, 89, 90, 91, 92, 93, 94, 95, 96, 97, 98, 99, 100, 101, 102, 103, 104, 105, 106, 107, 108]\n",
    "\n",
    "amc_id = '23_0'\n",
    "# logging.info(f\"User Ran Fund Data of {amc_name}\")\n",
    "fund_name, path= mutual_fund[amc_id]\n",
    "object = Kotak(fund_name,amc_id,path)\n",
    "title,path_pdf= object.check_and_highlight(path)\n",
    "\n",
    "data = object.get_data(path_pdf,title)\n",
    "extracted_text = object.get_generated_content(data, is_table=object.MAIN_MAP[\"table\"])\n",
    "final_text = object.refine_extracted_data(extracted_text)\n",
    "dfs = object.merge_and_select_data(final_text,map_keys = True, special_handling=True)\n"
   ]
  },
  {
   "cell_type": "code",
   "execution_count": null,
   "metadata": {},
   "outputs": [],
   "source": [
    "\"\"\"LIC FUND MAIN CODE\"\"\"\n",
    "amc_id = '25_0'\n",
    "# logging.info(f\"User Ran Fund Data of {amc_name}\")\n",
    "fund_name, path= mutual_fund[amc_id]\n",
    "object = LIC(fund_name,amc_id,path)\n",
    "title,path_pdf = object.check_and_highlight(path)\n",
    "data = object.get_data(path_pdf,title)\n"
   ]
  },
  {
   "cell_type": "code",
   "execution_count": null,
   "metadata": {},
   "outputs": [],
   "source": [
    "object = LIC(fund_name,amc_id,path)\n",
    "extracted_text = object.get_generated_content(data)\n",
    "final_text = object.refine_extracted_data(extracted_text)\n",
    "dfs = object.merge_and_select_data(final_text,map_keys = True, special_handling = True)"
   ]
  },
  {
   "cell_type": "code",
   "execution_count": null,
   "metadata": {},
   "outputs": [],
   "source": [
    "\"\"\"MAHINDRA MANULIFE MAIN CODE\"\"\" #incrase pages count\n",
    "\n",
    "amc_id = '26_0'\n",
    "# logging.info(f\"User Ran Fund Data of {amc_name}\")\n",
    "fund_name, path= mutual_fund[amc_id]\n",
    "object = MahindraManu(fund_name,amc_id,path)\n",
    "title,path_pdf = object.check_and_highlight(path)\n",
    "data = object.get_data(path_pdf,title)\n"
   ]
  },
  {
   "cell_type": "code",
   "execution_count": null,
   "metadata": {},
   "outputs": [],
   "source": [
    "object = MahindraManu(fund_name,amc_id,path)\n",
    "extracted_text = object.get_generated_content(data)\n",
    "final_text = object.refine_extracted_data(extracted_text)\n",
    "dfs = object.merge_and_select_data(final_text, map_keys = True, special_handling=True)"
   ]
  },
  {
   "cell_type": "code",
   "execution_count": 88,
   "metadata": {},
   "outputs": [
    {
     "name": "stdout",
     "output_type": "stream",
     "text": [
      "File Saved At: C:\\Users\\Kaustubh.keny\\Projects\\JSON25\\JPY\\26_30-Apr-25_FS.json\n"
     ]
    }
   ],
   "source": [
    "save_path = os.path.join(object.JSONPATH, object.FILE_NAME).replace(\".pdf\", \".json\")\n",
    "with open(save_path, 'w') as f:\n",
    "  json.dump(dfs, f, indent=2)\n",
    "print(f\"File Saved At: {save_path}\")\n",
    "\n",
    "with open(\"data.json\", 'w') as f:\n",
    "  json.dump(final_text, f, indent=2)\n",
    "  \n",
    "with open(\"extract.json\", 'w') as f:\n",
    "  json.dump(extracted_text, f, indent=2)"
   ]
  },
  {
   "cell_type": "code",
   "execution_count": null,
   "metadata": {},
   "outputs": [],
   "source": [
    "\"\"\"MOTILAL OSWAL PASSIVE MAIN CODE FILE\"\"\" #Fund Manager Regex\n",
    "amc_id = '28_1'\n",
    "# logging.info(f\"User Ran Fund Data of {amc_name}\")\n",
    "fund_name, path= mutual_fund[amc_id]\n",
    "object = MotilalOswalPassive(fund_name,amc_id,path)\n",
    "title,path_pdf = object.check_and_highlight(path)\n",
    "data = object.get_data(path_pdf,title)\n",
    "extracted_text = object.get_generated_content(data)\n",
    "final_text = object.refine_extracted_data(extracted_text, flatten=True)\n",
    "# dfs = object.merge_and_select_data(final_text,map_keys = True, special_handling = True)\n",
    "# Helper.quick_json_dump(dfs, object.JSONPATH)"
   ]
  },
  {
   "cell_type": "code",
   "execution_count": null,
   "metadata": {},
   "outputs": [],
   "source": [
    "\"\"\"MOTILAL OSWAL MAIN CODE FILE\"\"\" #Fund Manager Regex\n",
    "\n",
    "amc_id = '28_0'\n",
    "# logging.info(f\"User Ran Fund Data of {amc_name}\")\n",
    "fund_name, path= mutual_fund[amc_id]\n",
    "object = MotilalOswal(fund_name,amc_id,path)\n",
    "title,path_pdf = object.check_and_highlight(path)\n",
    "data = object.get_data(path_pdf,title)\n",
    "extracted_text = object.get_generated_content(data)\n",
    "final_text = object.refine_extracted_data(extracted_text, flatten=True)\n",
    "# dfs = object.merge_and_select_data(final_text,map_keys = True, special_handling = True)\n",
    "# Helper.quick_json_dump(dfs, object.JSONPATH)"
   ]
  },
  {
   "cell_type": "code",
   "execution_count": 34,
   "metadata": {},
   "outputs": [
    {
     "name": "stdout",
     "output_type": "stream",
     "text": [
      "Function Running: refine_extracted_data\n"
     ]
    }
   ],
   "source": [
    "object = MotilalOswalPassive(fund_name,amc_id,path)\n",
    "final_text = object.refine_extracted_data(extracted_text, flatten=True)\n",
    "with open(\"test.json\",\"w+\") as file:\n",
    "    json.dump(final_text,file)"
   ]
  },
  {
   "cell_type": "code",
   "execution_count": null,
   "metadata": {},
   "outputs": [],
   "source": [
    "\"\"\"MIRAE MAIN FILE CODE PASSIVE\"\"\"\n",
    "\n",
    "amc_id = '27_1'\n",
    "# logging.info(f\"User Ran Fund Data of {amc_name}\")\n",
    "fund_name, path= mutual_fund[amc_id]\n",
    "object = MIRAE(fund_name,amc_id,path)\n",
    "title,path_pdf = object.check_and_highlight(path)\n",
    "data = object.get_data(path_pdf,title)\n",
    "extracted_text = object.get_generated_content(data)\n",
    "final_text = object.refine_extracted_data(extracted_text, flatten=True)\n",
    "# dfs = object.merge_and_select_data(final_text,map_keys = True, special_handling = True)\n",
    "# Helper.quick_json_dump(dfs, object.JSONPATH)"
   ]
  },
  {
   "cell_type": "code",
   "execution_count": null,
   "metadata": {},
   "outputs": [],
   "source": [
    "\"\"\"MIRAE MAIN FILE CODE\"\"\"\n",
    "amc_id = '27_0'\n",
    "# logging.info(f\"User Ran Fund Data of {amc_name}\")\n",
    "fund_name, path= mutual_fund[amc_id]\n",
    "object = MIRAE(fund_name,amc_id,path)\n",
    "title,path_pdf = object.check_and_highlight(path)\n",
    "data = object.get_data(path_pdf,title)\n",
    "extracted_text = object.get_generated_content(data)\n",
    "final_text = object.refine_extracted_data(extracted_text, flatten=True)\n",
    "dfs = object.merge_and_select_data(final_text,map_keys = True, special_handling = True)\n",
    "# Helper.quick_json_dump(dfs, object.JSONPATH)"
   ]
  },
  {
   "cell_type": "code",
   "execution_count": null,
   "metadata": {},
   "outputs": [],
   "source": [
    "\"\"\"NAVI MAIN FILE CODE\"\"\" #Issue: Left and right\n",
    "\n",
    "amc_id = '56_0'\n",
    "# logging.info(f\"User Ran Fund Data of {amc_name}\")\n",
    "fund_name, path= mutual_fund[amc_id]\n",
    "object = NAVI(fund_name,amc_id,path)\n",
    "title,path_pdf = object.check_and_highlight(path)\n",
    "data = object.get_data(path_pdf,title)\n",
    "extracted_text = object.get_generated_content(data)"
   ]
  },
  {
   "cell_type": "code",
   "execution_count": null,
   "metadata": {},
   "outputs": [
    {
     "name": "stdout",
     "output_type": "stream",
     "text": [
      "Function Running: refine_extracted_data\n"
     ]
    }
   ],
   "source": [
    "object = NAVI(fund_name,amc_id,path)\n",
    "final_text = object.refine_extracted_data(extracted_text, flatten = True)\n",
    "# dfs = object.merge_and_select_data(final_text,map_keys = True,special_handling=True)\n",
    "with open(\"test.json\",\"w+\") as file:\n",
    "    json.dump(extracted_text,file)"
   ]
  },
  {
   "cell_type": "code",
   "execution_count": null,
   "metadata": {},
   "outputs": [],
   "source": [
    "\"NIPPON MAIN FILE CODE\"\n",
    "amc_name = 'Nippon India Mutual Fund'\n",
    "logging.info(f\"User Ran Fund Data of {amc_name}\")\n",
    "path = mutual_fund[amc_name]\n",
    "object = Nippon(amc_name,path)\n",
    "title,path_pdf= object.check_and_highlight(path)\n",
    "\n",
    "data = object.get_data(path_pdf,title)\n",
    "extracted_text = object.get_generated_content(data)\n",
    "\n",
    "final_text = object.refine_extracted_data(extracted_text, flatten = True)\n",
    "dfs = object.merge_and_select_data(final_text, map_keys = True, special_handling=True)\n",
    "Helper.quick_json_dump(dfs,object.JSONPATH)"
   ]
  },
  {
   "cell_type": "code",
   "execution_count": null,
   "metadata": {},
   "outputs": [],
   "source": [
    "\"\"\"NJMF MAIN CODE FILE\"\"\"\n",
    "\n",
    "amc_id = '57_0'\n",
    "# logging.info(f\"User Ran Fund Data of {amc_name}\")\n",
    "fund_name, path= mutual_fund[amc_id]\n",
    "object = NJMF(fund_name,amc_id,path)\n",
    "title,path_pdf = object.check_and_highlight(path)\n",
    "data = object.get_data(path_pdf,title)\n",
    "extracted_text = object.get_generated_content(data)\n",
    "final_text = object.refine_extracted_data(extracted_text)\n",
    "dfs = object.merge_and_select_data(final_text,map_keys = True,special_handling=True)"
   ]
  },
  {
   "cell_type": "code",
   "execution_count": null,
   "metadata": {},
   "outputs": [],
   "source": [
    "\"\"\"OlD BriDGE MAIN CODE\"\"\"\n",
    "amc_name = \"Old Bridge Mutual Fund\"\n",
    "logging.info(f\"User Ran Fund Data of {amc_name}\")\n",
    "path = mutual_fund[amc_name]\n",
    "object = OldBridge(amc_name,path)\n",
    "title,path_pdf = object.check_and_highlight(path)\n",
    "\n",
    "data = object.get_data(path_pdf,title)\n",
    "extracted_text = object.get_generated_content(data)\n",
    "\n",
    "final_text = object.refine_extracted_data(extracted_text, flatten = True)\n",
    "dfs = object.merge_and_select_data(final_text,map_keys= True, special_handling=True)\n",
    "Helper.quick_json_dump(dfs, object.JSONPATH)"
   ]
  },
  {
   "cell_type": "code",
   "execution_count": null,
   "metadata": {},
   "outputs": [],
   "source": [
    "\"\"\"PGIM MAIN FILE CODE\"\"\" #ISSUES: Clean data further\n",
    "\n",
    "amc_id = '7_0'\n",
    "# logging.info(f\"User Ran Fund Data of {amc_name}\")\n",
    "fund_name, path= mutual_fund[amc_id]\n",
    "object = PGIM(fund_name,amc_id,path)\n",
    "title,path_pdf = object.check_and_highlight(path)\n",
    "data = object.get_data(path_pdf,title)\n"
   ]
  },
  {
   "cell_type": "code",
   "execution_count": null,
   "metadata": {},
   "outputs": [],
   "source": [
    "object = PGIM(fund_name,amc_id,path)\n",
    "extracted_text = object.get_generated_content(data)\n",
    "final_text = object.refine_extracted_data(extracted_text)\n",
    "dfs = object.merge_and_select_data(final_text,map_keys= True, special_handling = True)\n"
   ]
  },
  {
   "cell_type": "code",
   "execution_count": null,
   "metadata": {},
   "outputs": [],
   "source": [
    "\"\"\"QUANT MAIN CODE FILE\"\"\"\n",
    "\n",
    "amc_id = '10_0'\n",
    "# logging.info(f\"User Ran Fund Data of {amc_name}\")\n",
    "fund_name, path= mutual_fund[amc_id]\n",
    "object = QuantMF(fund_name,amc_id,path)\n",
    "title,path_pdf = object.check_and_highlight(path)\n",
    "data = object.get_data(path_pdf,title)\n"
   ]
  },
  {
   "cell_type": "code",
   "execution_count": null,
   "metadata": {},
   "outputs": [],
   "source": [
    "object = QuantMF(fund_name,amc_id,path)\n",
    "extracted_text = object.get_generated_content(data)\n",
    "final_text = object.refine_extracted_data(extracted_text)\n",
    "dfs = object.merge_and_select_data(final_text,map_keys = True, special_handling = True)"
   ]
  },
  {
   "cell_type": "code",
   "execution_count": null,
   "metadata": {},
   "outputs": [],
   "source": [
    "\"\"\"QUANTUM MAIN FILE CODE\"\"\"\n",
    "\n",
    "amc_id = '32_0'\n",
    "# logging.info(f\"User Ran Fund Data of {amc_name}\")\n",
    "fund_name, path= mutual_fund[amc_id]\n",
    "object = Quantum(fund_name,amc_id,path)\n",
    "title,path_pdf = object.check_and_highlight(path)\n",
    "data = object.get_data(path_pdf,title)\n",
    "extracted_text = object.get_generated_content(data)\n",
    "final_text = object.refine_extracted_data(extracted_text)\n",
    "dfs = object.merge_and_select_data(final_text,map_keys = True, special_handling = True)\n"
   ]
  },
  {
   "cell_type": "code",
   "execution_count": null,
   "metadata": {},
   "outputs": [],
   "source": [
    "\"\"\"SAMCO PDF FILE MAIN CODE\"\"\" # pages =  [3, 5, 7, 9, 11, 13, 15, 17, 18]\n",
    "\n",
    "amc_id = '58_0'\n",
    "# logging.info(f\"User Ran Fund Data of {amc_name}\")\n",
    "fund_name, path= mutual_fund[amc_id]\n",
    "object = Samco(fund_name,amc_id,path)\n",
    "title,path_pdf = object.check_and_highlight(path)\n",
    "data = object.get_data(path_pdf,title)\n",
    "extracted_text = object.get_generated_content(data)\n",
    "final_text = object.refine_extracted_data(extracted_text)\n",
    "dfs = object.merge_and_select_data(final_text, map_keys = True, special_handling=True)"
   ]
  },
  {
   "cell_type": "code",
   "execution_count": null,
   "metadata": {},
   "outputs": [],
   "source": [
    "\"\"\"SBI PASSIVE PDF FILE MAIN CODE\"\"\" \n",
    "\n",
    "amc_id = '35_1'\n",
    "# logging.info(f\"User Ran Fund Data of {amc_name}\")\n",
    "fund_name, path= mutual_fund[amc_id]\n",
    "object = SBIPassive(fund_name,amc_id,path)\n",
    "title,path_pdf = object.check_and_highlight(path)\n",
    "data = object.get_data(path_pdf,title)\n",
    "extracted_text = object.get_generated_content(data)\n",
    "final_text = object.refine_extracted_data(extracted_text, flatten=True)\n",
    "# dfs = object.merge_and_select_data(final_text,map_keys = True, special_handling = True)\n",
    "# Helper.quick_json_dump(dfs, object.JSONPATH)"
   ]
  },
  {
   "cell_type": "code",
   "execution_count": null,
   "metadata": {},
   "outputs": [],
   "source": [
    "\"\"\"SBI PDF FILE MAIN CODE\"\"\" \n",
    "amc_id = '35_0'\n",
    "# logging.info(f\"User Ran Fund Data of {amc_name}\")\n",
    "fund_name, path= mutual_fund[amc_id]\n",
    "object = SBIPassive(fund_name,amc_id,path)\n",
    "title,path_pdf = object.check_and_highlight(path)\n",
    "data = object.get_data(path_pdf,title)\n",
    "extracted_text = object.get_generated_content(data)\n",
    "final_text = object.refine_extracted_data(extracted_text, flatten=True)\n",
    "# dfs = object.merge_and_select_data(final_text,map_keys = True,special_handling = True)\n",
    "# Helper.quick_json_dump(dfs,object.JSONPATH)"
   ]
  },
  {
   "cell_type": "code",
   "execution_count": null,
   "metadata": {},
   "outputs": [],
   "source": [
    "\"\"\"SUNDARAM MAIN FILE CODE\"\"\"\n",
    "\n",
    "amc_id = '37_0'\n",
    "# logging.info(f\"User Ran Fund Data of {amc_name}\")\n",
    "fund_name, path= mutual_fund[amc_id]\n",
    "object = Sundaram(fund_name,amc_id,path)\n",
    "title,path_pdf = object.check_and_highlight(path)\n",
    "data = object.get_data(path_pdf,title)"
   ]
  },
  {
   "cell_type": "code",
   "execution_count": 18,
   "metadata": {},
   "outputs": [
    {
     "name": "stdout",
     "output_type": "stream",
     "text": [
      "Function Running: get_generated_content\n",
      "\tParsing Completed, Refining Data.....\n",
      "[Error] get_generated_content failed: list index out of range\n",
      "Function Running: refine_extracted_data\n",
      "Function Running: merge_and_select_data\n"
     ]
    }
   ],
   "source": [
    "object = Sundaram(fund_name,amc_id,path)\n",
    "extracted_text = object.get_generated_content(data)\n",
    "final_text = object.refine_extracted_data(extracted_text)\n",
    "dfs = object.merge_and_select_data(final_text, map_keys = True, special_handling=True)"
   ]
  },
  {
   "cell_type": "code",
   "execution_count": 19,
   "metadata": {},
   "outputs": [
    {
     "name": "stdout",
     "output_type": "stream",
     "text": [
      "File Saved At: C:\\Users\\Kaustubh.keny\\Projects\\JSON25\\JPY\\37_30-Apr-25_FS.json\n"
     ]
    }
   ],
   "source": [
    "save_path = os.path.join(object.JSONPATH, object.FILE_NAME).replace(\".pdf\", \".json\")\n",
    "with open(save_path, 'w') as f:\n",
    "  json.dump(dfs, f, indent=2)\n",
    "print(f\"File Saved At: {save_path}\")\n",
    "\n",
    "with open(\"data.json\", 'w') as f:\n",
    "  json.dump(final_text, f, indent=2)\n",
    "  \n",
    "with open(\"extracted.json\", 'w') as f:\n",
    "  json.dump(extracted_text, f, indent=2)"
   ]
  },
  {
   "cell_type": "code",
   "execution_count": null,
   "metadata": {},
   "outputs": [],
   "source": [
    "\"\"\"TATA FILE MAIN CODE \"\"\"\n",
    "\n",
    "amc_id = '38_0'\n",
    "# logging.info(f\"User Ran Fund Data of {amc_name}\")\n",
    "fund_name, path= mutual_fund[amc_id]\n",
    "object = Tata(fund_name,amc_id,path)\n",
    "title,path_pdf = object.check_and_highlight(path)\n",
    "data = object.get_data(path_pdf,title)\n"
   ]
  },
  {
   "cell_type": "code",
   "execution_count": null,
   "metadata": {},
   "outputs": [],
   "source": [
    "object = Tata(fund_name,amc_id,path)\n",
    "extracted_text = object.get_generated_content(data)\n",
    "final_text = object.refine_extracted_data(extracted_text)\n",
    "dfs = object.merge_and_select_data(final_text, map_keys = True, special_handling=True)\n"
   ]
  },
  {
   "cell_type": "code",
   "execution_count": null,
   "metadata": {},
   "outputs": [],
   "source": [
    "\"\"\"TAURUS MAIN FILE CODE\"\"\"\n",
    "\n",
    "amc_id = '39_0'\n",
    "# logging.info(f\"User Ran Fund Data of {amc_name}\")\n",
    "fund_name, path= mutual_fund[amc_id]\n",
    "object = Taurus(fund_name,amc_id,path)\n",
    "title,path_pdf= object.check_and_highlight(path)\n",
    "\n",
    "data = object.get_data(path_pdf,title)\n",
    "extracted_text = object.get_generated_content(data)\n",
    "final_text = object.refine_extracted_data(extracted_text)\n",
    "dfs = object.merge_and_select_data(final_text, map_keys = True, special_handling = True)"
   ]
  },
  {
   "cell_type": "code",
   "execution_count": 12,
   "metadata": {},
   "outputs": [
    {
     "name": "stdout",
     "output_type": "stream",
     "text": [
      "File Saved At: C:\\Users\\Kaustubh.keny\\Projects\\JSON25\\JPY\\39_31-Mar-25_FS.json\n"
     ]
    }
   ],
   "source": [
    "save_path = os.path.join(object.JSONPATH, object.FILE_NAME).replace(\".pdf\", \".json\")\n",
    "with open(save_path, 'w') as f:\n",
    "  json.dump(dfs, f, indent=2)\n",
    "print(f\"File Saved At: {save_path}\")\n",
    "\n",
    "with open(\"data.json\", 'w') as f:\n",
    "  json.dump(final_text, f, indent=2)"
   ]
  },
  {
   "cell_type": "code",
   "execution_count": null,
   "metadata": {},
   "outputs": [],
   "source": [
    "\"\"\"TRUST MAIN FILE CODE\"\"\" #Issue: Clean data more, nested dict unload Invest Obj in right #Names coming as headers fund managers\n",
    "amc_id = '55_0'\n",
    "# logging.info(f\"User Ran Fund Data of {amc_name}\")\n",
    "fund_name, path= mutual_fund[amc_id]\n",
    "object = Trust(fund_name,amc_id,path)\n",
    "title,path_pdf = object.check_and_highlight(path)\n",
    "\n",
    "data = object.get_data(path_pdf,title)\n",
    "extracted_text = object.get_generated_content(data)\n",
    "\n",
    "final_text = object.refine_extracted_data(extracted_text)\n",
    "dfs = object.merge_and_select_data(final_text,map_keys = True, special_handling= True)\n"
   ]
  },
  {
   "cell_type": "code",
   "execution_count": null,
   "metadata": {},
   "outputs": [],
   "source": [
    "\"\"\"UTI MAIN FILE CODE\"\"\"\n",
    "\n",
    "amc_id = '41_0'\n",
    "# logging.info(f\"User Ran Fund Data of {amc_name}\")\n",
    "fund_name, path= mutual_fund[amc_id]\n",
    "object = UTI(fund_name,amc_id,path)\n",
    "title,path_pdf = object.check_and_highlight(path)\n",
    "data = object.get_data(path_pdf,title)\n",
    "extracted_text = object.get_generated_content(data)\n",
    "final_text = object.refine_extracted_data(extracted_text, flatten=True)\n",
    "# dfs = object.merge_and_select_data(final_text,map_keys = True, special_handling = True)\n",
    "# Helper.quick_json_dump(dfs, object.JSONPATH)"
   ]
  },
  {
   "cell_type": "code",
   "execution_count": null,
   "metadata": {},
   "outputs": [],
   "source": [
    "\"\"\"UTI MAIN FILE CODE PASSIVE\"\"\"\n",
    "\n",
    "amc_id = '18_0'\n",
    "# logging.info(f\"User Ran Fund Data of {amc_name}\")\n",
    "fund_name, path= mutual_fund[amc_id]\n",
    "object = UTIPassive(fund_name,amc_id,path)\n",
    "title,path_pdf = object.check_and_highlight(path)\n",
    "data = object.get_data(path_pdf,title)\n",
    "extracted_text = object.get_generated_content(data)\n",
    "final_text = object.refine_extracted_data(extracted_text, flatten=True)\n",
    "dfs = object.merge_and_select_data(final_text,map_keys = True, special_handling = True)\n",
    "# Helper.quick_json_dump(dfs, object.JSONPATH)"
   ]
  },
  {
   "cell_type": "code",
   "execution_count": null,
   "metadata": {},
   "outputs": [],
   "source": [
    "\"\"\"UNION MUTUAL FUND\"\"\"\n",
    "\n",
    "amc_id = '40_0'\n",
    "# logging.info(f\"User Ran Fund Data of {amc_name}\")\n",
    "fund_name, path= mutual_fund[amc_id]\n",
    "object = Union(fund_name,amc_id,path)\n",
    "title,path_pdf = object.check_and_highlight(path)\n",
    "data = object.get_data(path_pdf,title)"
   ]
  },
  {
   "cell_type": "code",
   "execution_count": null,
   "metadata": {},
   "outputs": [],
   "source": [
    "object = Union(fund_name,amc_id,path)\n",
    "extracted_text = object.get_generated_content(data)\n",
    "final_text = object.refine_extracted_data(extracted_text)\n",
    "dfs = object.merge_and_select_data(final_text,map_keys = True, special_handling = True)\n"
   ]
  },
  {
   "cell_type": "code",
   "execution_count": null,
   "metadata": {},
   "outputs": [],
   "source": [
    "\"\"\"Unifi MUTUAL FUND\"\"\" #Issues: Major Issue\n",
    "\n",
    "amc_id = '97_0'\n",
    "fund_name, path= mutual_fund[amc_id]\n",
    "object = Unifi(fund_name,amc_id,path)\n",
    "title,path_pdf = object.check_and_highlight(path)\n",
    "data = object.get_data(path_pdf,title)\n",
    "extracted_text = object.get_generated_content(data, is_table=object.MAIN_MAP[\"table\"])\n",
    "final_text = object.refine_extracted_data(extracted_text)\n",
    "dfs = object.merge_and_select_data(final_text,map_keys = True, special_handling = True)\n",
    "# Helper.quick_json_dump(dfs, object.JSONPATH)"
   ]
  },
  {
   "cell_type": "code",
   "execution_count": null,
   "metadata": {},
   "outputs": [],
   "source": [
    "\"\"\"WHITEOAK MUTUAL FUND\"\"\"\n",
    "\n",
    "amc_id = '42_0'\n",
    "fund_name, path= mutual_fund[amc_id]\n",
    "object = WhiteOak(fund_name,amc_id,path)\n",
    "title,path_pdf = object.check_and_highlight(path)\n",
    "data = object.get_data(path_pdf,title)\n",
    "extracted_text = object.get_generated_content(data)\n",
    "final_text = object.refine_extracted_data(extracted_text)"
   ]
  },
  {
   "cell_type": "code",
   "execution_count": null,
   "metadata": {},
   "outputs": [],
   "source": [
    "object = WhiteOak(fund_name,amc_id,path)\n",
    "final_text = object.refine_extracted_data(extracted_text)\n",
    "dfs = object.merge_and_select_data(final_text, map_keys = True, special_handling = True)"
   ]
  },
  {
   "cell_type": "code",
   "execution_count": 37,
   "metadata": {},
   "outputs": [
    {
     "name": "stdout",
     "output_type": "stream",
     "text": [
      "Function Running: check_and_highlight\n",
      "Function Running: _get_normal_title\n",
      "Regex: (Zerodha.+?(?:Funds?|ETF|Index|Path)\\s*(?:Fo?O?F|of Funds?)?)\n",
      "03 -- Zerodha Nifty LargeMidcap 250 Index\n",
      "05 -- Zerodha ELSS Tax Saver Nifty LargeMidcap 250 Index\n",
      "07 -- Zerodha Nifty 1D Rate Liquid ETF\n",
      "09 -- Zerodha Gold ETF\n",
      "11 -- Zerodha Nifty   100 ETF\n",
      "13 -- Zerodha Nifty Midcap 150 ETF\n",
      "15 -- Zerodha Gold ETF FoF\n",
      "17 -- Zerodha Silver ETF\n",
      "19 -- Zerodha Overnight Fund\n",
      "23 -- Zerodha Nifty 100 ETF\n",
      "Function Running: _ocr_pdf\n"
     ]
    },
    {
     "data": {
      "application/vnd.jupyter.widget-view+json": {
       "model_id": "f618f14599b94330aef85c7bfa802e96",
       "version_major": 2,
       "version_minor": 0
      },
      "text/plain": [
       "Output()"
      ]
     },
     "metadata": {},
     "output_type": "display_data"
    },
    {
     "data": {
      "text/html": [
       "<pre style=\"white-space:pre;overflow-x:auto;line-height:normal;font-family:Menlo,'DejaVu Sans Mono',consolas,'Courier New',monospace\"></pre>\n"
      ],
      "text/plain": []
     },
     "metadata": {},
     "output_type": "display_data"
    },
    {
     "data": {
      "application/vnd.jupyter.widget-view+json": {
       "model_id": "1e3791f67c5d4bd484aeef26b3134271",
       "version_major": 2,
       "version_minor": 0
      },
      "text/plain": [
       "Output()"
      ]
     },
     "metadata": {},
     "output_type": "display_data"
    },
    {
     "data": {
      "text/html": [
       "<pre style=\"white-space:pre;overflow-x:auto;line-height:normal;font-family:Menlo,'DejaVu Sans Mono',consolas,'Courier New',monospace\">Weighted average image DPI is 197.3, max DPI is 299.5. The discrepancy may indicate a high detail region on this \n",
       "page, but could also indicate a problem with the input PDF file. Page image will be rendered at 400.0 DPI.\n",
       "</pre>\n"
      ],
      "text/plain": [
       "Weighted average image DPI is 197.3, max DPI is 299.5. The discrepancy may indicate a high detail region on this \n",
       "page, but could also indicate a problem with the input PDF file. Page image will be rendered at 400.0 DPI.\n"
      ]
     },
     "metadata": {},
     "output_type": "display_data"
    },
    {
     "data": {
      "text/html": [
       "<pre style=\"white-space:pre;overflow-x:auto;line-height:normal;font-family:Menlo,'DejaVu Sans Mono',consolas,'Courier New',monospace\">Weighted average image DPI is 197.3, max DPI is 299.5. The discrepancy may indicate a high detail region on this \n",
       "page, but could also indicate a problem with the input PDF file. Page image will be rendered at 400.0 DPI.\n",
       "</pre>\n"
      ],
      "text/plain": [
       "Weighted average image DPI is 197.3, max DPI is 299.5. The discrepancy may indicate a high detail region on this \n",
       "page, but could also indicate a problem with the input PDF file. Page image will be rendered at 400.0 DPI.\n"
      ]
     },
     "metadata": {},
     "output_type": "display_data"
    },
    {
     "data": {
      "text/html": [
       "<pre style=\"white-space:pre;overflow-x:auto;line-height:normal;font-family:Menlo,'DejaVu Sans Mono',consolas,'Courier New',monospace\">Weighted average image DPI is 156.2, max DPI is 288.0. The discrepancy may indicate a high detail region on this \n",
       "page, but could also indicate a problem with the input PDF file. Page image will be rendered at 400.0 DPI.\n",
       "</pre>\n"
      ],
      "text/plain": [
       "Weighted average image DPI is 156.2, max DPI is 288.0. The discrepancy may indicate a high detail region on this \n",
       "page, but could also indicate a problem with the input PDF file. Page image will be rendered at 400.0 DPI.\n"
      ]
     },
     "metadata": {},
     "output_type": "display_data"
    },
    {
     "data": {
      "text/html": [
       "<pre style=\"white-space:pre;overflow-x:auto;line-height:normal;font-family:Menlo,'DejaVu Sans Mono',consolas,'Courier New',monospace\">[tesseract] lots of diacritics - possibly poor OCR\n",
       "</pre>\n"
      ],
      "text/plain": [
       "[tesseract] lots of diacritics - possibly poor OCR\n"
      ]
     },
     "metadata": {},
     "output_type": "display_data"
    },
    {
     "data": {
      "text/html": [
       "<pre style=\"white-space:pre;overflow-x:auto;line-height:normal;font-family:Menlo,'DejaVu Sans Mono',consolas,'Courier New',monospace\"></pre>\n"
      ],
      "text/plain": []
     },
     "metadata": {},
     "output_type": "display_data"
    },
    {
     "data": {
      "application/vnd.jupyter.widget-view+json": {
       "model_id": "13bc626a23b947f39d8532df5cf47601",
       "version_major": 2,
       "version_minor": 0
      },
      "text/plain": [
       "Output()"
      ]
     },
     "metadata": {},
     "output_type": "display_data"
    },
    {
     "data": {
      "text/html": [
       "<pre style=\"white-space:pre;overflow-x:auto;line-height:normal;font-family:Menlo,'DejaVu Sans Mono',consolas,'Courier New',monospace\"></pre>\n"
      ],
      "text/plain": []
     },
     "metadata": {},
     "output_type": "display_data"
    },
    {
     "data": {
      "application/vnd.jupyter.widget-view+json": {
       "model_id": "e2fdd73830854765acb40851229eb9bc",
       "version_major": 2,
       "version_minor": 0
      },
      "text/plain": [
       "Output()"
      ]
     },
     "metadata": {},
     "output_type": "display_data"
    },
    {
     "data": {
      "text/html": [
       "<pre style=\"white-space:pre;overflow-x:auto;line-height:normal;font-family:Menlo,'DejaVu Sans Mono',consolas,'Courier New',monospace\"></pre>\n"
      ],
      "text/plain": []
     },
     "metadata": {},
     "output_type": "display_data"
    },
    {
     "data": {
      "application/vnd.jupyter.widget-view+json": {
       "model_id": "389f51f52a654416981bfce054864b3a",
       "version_major": 2,
       "version_minor": 0
      },
      "text/plain": [
       "Output()"
      ]
     },
     "metadata": {},
     "output_type": "display_data"
    },
    {
     "data": {
      "text/html": [
       "<pre style=\"white-space:pre;overflow-x:auto;line-height:normal;font-family:Menlo,'DejaVu Sans Mono',consolas,'Courier New',monospace\"></pre>\n"
      ],
      "text/plain": []
     },
     "metadata": {},
     "output_type": "display_data"
    },
    {
     "data": {
      "application/vnd.jupyter.widget-view+json": {
       "model_id": "7346d60176914dba8cbe67e14c0f9e1c",
       "version_major": 2,
       "version_minor": 0
      },
      "text/plain": [
       "Output()"
      ]
     },
     "metadata": {},
     "output_type": "display_data"
    },
    {
     "data": {
      "text/html": [
       "<pre style=\"white-space:pre;overflow-x:auto;line-height:normal;font-family:Menlo,'DejaVu Sans Mono',consolas,'Courier New',monospace\"></pre>\n"
      ],
      "text/plain": []
     },
     "metadata": {},
     "output_type": "display_data"
    },
    {
     "data": {
      "application/vnd.jupyter.widget-view+json": {
       "model_id": "e83213ba56f1409cbf7aa50c8bf9e44b",
       "version_major": 2,
       "version_minor": 0
      },
      "text/plain": [
       "Output()"
      ]
     },
     "metadata": {},
     "output_type": "display_data"
    },
    {
     "data": {
      "text/html": [
       "<pre style=\"white-space:pre;overflow-x:auto;line-height:normal;font-family:Menlo,'DejaVu Sans Mono',consolas,'Courier New',monospace\"></pre>\n"
      ],
      "text/plain": []
     },
     "metadata": {},
     "output_type": "display_data"
    },
    {
     "name": "stderr",
     "output_type": "stream",
     "text": [
      "[WinError 2] The system cannot find the file specified\n",
      "[WinError 2] The system cannot find the file specified\n",
      "The output file size is 2.41× larger than the input file.\n",
      "Possible reasons for this include:\n",
      "--deskew was issued, causing transcoding.\n",
      "--force-ocr was issued, causing transcoding.\n",
      "The optional dependency 'jbig2' was not found, so some image optimizations could not be attempted.\n",
      "The optional dependency 'pngquant' was not found, so some image optimizations could not be attempted.\n",
      "PDF/A conversion was enabled. (Try `--output-type pdf`.)\n",
      "\n"
     ]
    },
    {
     "name": "stdout",
     "output_type": "stream",
     "text": [
      "Function Running: get_data\n",
      "Function Running: extract_clipped_data\n",
      "Function Running: extract_span_data\n",
      "Function Running: process_text_data\n",
      "Function Running: create_nested_dict\n"
     ]
    }
   ],
   "source": [
    "\"\"\"ZERODHA MAIN CODE\"\"\" \n",
    "\n",
    "amc_id = '71_0'\n",
    "# logging.info(f\"User Ran Fund Data of {amc_name}\")\n",
    "fund_name, path= mutual_fund[amc_id]\n",
    "object = Zerodha(fund_name,amc_id,path)\n",
    "title,path_pdf= object.check_and_highlight(path)\n",
    "data = object.get_data(path_pdf,title)\n"
   ]
  },
  {
   "cell_type": "code",
   "execution_count": null,
   "metadata": {},
   "outputs": [],
   "source": [
    "object = Zerodha(fund_name,amc_id,path)\n",
    "extracted_text = object.get_generated_content(data)\n",
    "final_text = object.refine_extracted_data(extracted_text)\n",
    "dfs = object.merge_and_select_data(final_text,map_keys = True, special_handling = True)"
   ]
  },
  {
   "cell_type": "code",
   "execution_count": null,
   "metadata": {},
   "outputs": [],
   "source": []
  },
  {
   "cell_type": "code",
   "execution_count": null,
   "metadata": {},
   "outputs": [],
   "source": [
    "\"\"\"\"HSBC MAIN FILE CODE\"\"\" \n",
    "\n",
    "amc_id = '13_0'\n",
    "# logging.info(f\"User Ran Fund Data of {amc_name}\")\n",
    "fund_name, path= mutual_fund[amc_id]\n",
    "object = HSBC(fund_name,amc_id,path)\n",
    "title,path_pdf = object.check_and_highlight(path)\n",
    "data = object.get_data(path_pdf,title)\n"
   ]
  },
  {
   "cell_type": "code",
   "execution_count": 3,
   "metadata": {},
   "outputs": [
    {
     "name": "stdout",
     "output_type": "stream",
     "text": [
      "Function Running: get_generated_content\n",
      "\tParsing Completed, Refining Data.....\n",
      "[Error] get_generated_content failed: list index out of range\n",
      "Function Running: refine_extracted_data\n",
      "Function Running: merge_and_select_data\n"
     ]
    }
   ],
   "source": [
    "object = HSBC(fund_name,amc_id,path)\n",
    "extracted_text = object.get_generated_content(data)\n",
    "final_text = object.refine_extracted_data(extracted_text)\n",
    "dfs = object.merge_and_select_data(final_text,map_keys = True, special_handling = True)"
   ]
  },
  {
   "cell_type": "code",
   "execution_count": null,
   "metadata": {},
   "outputs": [],
   "source": []
  },
  {
   "cell_type": "code",
   "execution_count": null,
   "metadata": {},
   "outputs": [],
   "source": [
    "# \"18_0\": \"ThreeSixtyOne\",\n",
    "# \"3_0\": \"AdityaBirla\",\n",
    "# \"96_0\": \"AngelOne\",\n",
    "# \"1_0\": \"AXISMF\",\n",
    "# \"1_1\": \"AXISMFPassive\",\n",
    "# \"59_0\": \"BajajFinServ\",\n",
    "# \"16_0\": \"Bandhan\",\n",
    "# \"5_0\": \"BankOfIndia\",\n",
    "# \"2_0\": \"BarodaBNP\",\n",
    "# \"6_0\": \"Canara\",\n",
    "# \"8_0\": \"DSP\",\n",
    "# \"12_0\": \"HDFC\",\n",
    "# \"12_1\": \"HDFC\",\n",
    "# \"9_0\": \"Edelweiss\",\n",
    "# \"11_0\": \"FranklinTempleton\",\n",
    "# \"20_0\": \"GROWW\",\n",
    "# \"60_0\": \"Helios\",\n",
    "# \"13_0\": \"HSBC\",\n",
    "# \"14_0\": \"ICICI\",\n",
    "# \"14_1\": \"ICICI\",\n",
    "# \"21_0\": \"Invesco\",\n",
    "# \"51_0\": \"ITI\",\n",
    "# \"22_0\": \"JMMF\",\n",
    "# \"23_0\": \"Kotak\",\n",
    "# \"25_0\": \"LIC\",\n",
    "# \"26_0\": \"MahindraManu\",\n",
    "# \"27_0\": \"MIRAE\",\n",
    "# \"27_1\": \"MIRAEPassive\",\n",
    "# \"28_0\": \"MotilalOswal\",\n",
    "# \"28_1\": \"MotilalOswalPassive\",\n",
    "# \"56_0\": \"NAVI\",\n",
    "# \"56_1\": \"NAVIPassive\",\n",
    "# \"33_0\": \"Nippon\",\n",
    "# \"57_0\": \"NJMF\",\n",
    "# \"95_0\": \"OldBridge\",\n",
    "# \"7_0\": \"PGIM\",\n",
    "# \"30_0\": \"PPFAS\",\n",
    "# \"10_0\": \"QuantMF\",\n",
    "# \"32_0\": \"Quantum\",\n",
    "# \"58_0\": \"Samco\",\n",
    "# \"35_0\": \"SBI\",\n",
    "# \"35_1\": \"SBIPassive\",\n",
    "# \"36_0\": \"Shriram\",\n",
    "# \"37_0\": \"Sundaram\",\n",
    "# \"38_0\": \"Tata\",\n",
    "# \"39_0\": \"Taurus\",\n",
    "# \"55_0\": \"Trust\",\n",
    "# \"40_0\": \"Union\",\n",
    "# \"41_0\": \"UTI\",\n",
    "# \"41_1\": \"UTIPassive\",\n",
    "# \"42_0\": \"WhiteOak\",\n",
    "# \"71_0\": \"Zerodha\",\n",
    "# \"97_0\": \"Unifi\""
   ]
  },
  {
   "cell_type": "code",
   "execution_count": null,
   "metadata": {},
   "outputs": [],
   "source": [
    "#  \"Angel One Mutual Fund\": \"AngelOne\",\n",
    "# \"Aditya Birla Sun Life Mutual Fund\": \"AdityaBirla\",\n",
    "# \"Axis Mutual Fund\": \"AXISMF\",\n",
    "# \"Axis Mutual Fund Passive\": \"AXISMFPassive\",\n",
    "# \"Bajaj Finserv Mutual Fund\": \"BajajFinServ\",\n",
    "# \"Bandhan Mutual Fund\": \"Bandhan\",\n",
    "# \"Bank Of India Mutual Fund\": \"BankOfIndia\",\n",
    "# \"Baroda Bnp Paribas Mutual Fund\": \"BarodaBNP\",\n",
    "# \"Canara Robeco Mutual Fund\": \"Canara\",\n",
    "# \"Dsp Mutual Fund\": \"DSP\",\n",
    "# \"Edelweiss Mutual Fund\": \"Edelweiss\",\n",
    "# \"Franklin Templeton Mutual Fund\": \"FranklinTempleton\",\n",
    "# \"Groww Mutual Fund\": \"GROWW\",\n",
    "# \"Hdfc Mutual Fund\": \"HDFC\",\n",
    "# \"Hdfc Mutual Fund Passive\": \"HDFC\",\n",
    "# \"Helios Mutual Fund\": \"Helios\",\n",
    "# \"Hsbc Mutual Fund\": \"HSBC\",\n",
    "# \"Icici Prudential Mutual Fund\": \"ICICI\",\n",
    "# \"Icici Prudential Mutual Fund Passive\": \"ICICI\",\n",
    "# \"Iti Mutual Fund\": \"ITI\",\n",
    "# \"Invesco Mutual Fund\": \"Invesco\",\n",
    "# \"Jm Financial Mutual Fund\": \"JMMF\",\n",
    "# \"Kotak Mahindra Mutual Fund\": \"Kotak\",\n",
    "# \"Lic Mutual Fund\": \"LIC\",\n",
    "# \"Mahindra Manulife Mutual Fund\": \"MahindraManu\",\n",
    "# \"Mirae Asset Mutual Fund\": \"MIRAE\",\n",
    "# \"Mirae Asset Mutual Fund Passive\": \"MIRAEPassive\",\n",
    "# \"Motilal Oswal Mutual Fund\": \"MotilalOswal\",\n",
    "# \"Motilal Oswal Mutual Fund Passive\": \"MotilalOswalPassive\",\n",
    "# \"Nj Mutual Fund\": \"NJMF\",\n",
    "# \"Navi Mutual Fund\": \"NAVI\",\n",
    "# \"Nippon India Mutual Fund\": \"Nippon\",\n",
    "# \"Old Bridge Mutual Fund\": \"OldBridge\",\n",
    "# \"Pgim India Mutual Fund\": \"PGIM\",\n",
    "# \"Ppfas Mutual Fund\": \"PPFAS\",\n",
    "# \"Quant Mutual Fund\": \"QuantMF\",\n",
    "# \"Quantum Mutual Fund\": \"Quantum\",\n",
    "# \"Sbi Mutual Fund\": \"SBI\",\n",
    "# \"Sbi Mutual Fund Passive\": \"SBIPassive\",\n",
    "# \"Samco Mutual Fund\": \"Samco\",\n",
    "# \"Shriram Mutual Fund\": \"Shriram\",\n",
    "# \"Sundaram Mutual Fund\": \"Sundaram\",\n",
    "# \"Tata Mutual Fund\": \"Tata\",\n",
    "# \"Taurus Mutual Fund\": \"Taurus\",\n",
    "# \"Trust Mutual Fund\": \"Trust\",\n",
    "# \"Uti Mutual Fund\": \"UTI\",\n",
    "# \"Union Mutual Fund\": \"Union\",\n",
    "# \"Whiteoak Mutual Fund\": \"WhiteOak\",\n",
    "# \"Zerodha Mutual Fund\": \"Zerodha\""
   ]
  }
 ],
 "metadata": {
  "kernelspec": {
   "display_name": ".venv",
   "language": "python",
   "name": "python3"
  },
  "language_info": {
   "codemirror_mode": {
    "name": "ipython",
    "version": 3
   },
   "file_extension": ".py",
   "mimetype": "text/x-python",
   "name": "python",
   "nbconvert_exporter": "python",
   "pygments_lexer": "ipython3",
   "version": "3.13.1"
  }
 },
 "nbformat": 4,
 "nbformat_minor": 2
}
