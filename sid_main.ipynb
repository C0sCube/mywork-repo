{
 "cells": [
  {
   "cell_type": "code",
   "execution_count": 1,
   "id": "5e1d5bb3",
   "metadata": {},
   "outputs": [],
   "source": [
    "import pdfplumber, camelot, pprint\n",
    "import fitz #type: ignore\n",
    "import pandas as pd\n",
    "import numpy as np\n",
    "import json, os, re"
   ]
  },
  {
   "cell_type": "code",
   "execution_count": 10,
   "id": "0de0af8b",
   "metadata": {},
   "outputs": [],
   "source": [
    "path = os.path.join(os.getcwd(),\"pdfs\",\"1736224555418.pdf\")\n",
    "path2 = os.path.join(os.getcwd(),\"pdfs\",\"Angel-One-Nifty-1D-Rate-Liquid-ETF-Growth.pdf\")"
   ]
  },
  {
   "cell_type": "code",
   "execution_count": 8,
   "id": "16de7922",
   "metadata": {},
   "outputs": [],
   "source": [
    "all_data = []\n",
    "with pdfplumber.open(path2) as doc:\n",
    "    for i, page in enumerate(doc.pages):\n",
    "        if i in [1,2,3]:\n",
    "            text = page.extract_text()\n",
    "            all_data.append(text)"
   ]
  },
  {
   "cell_type": "code",
   "execution_count": null,
   "id": "18c05597",
   "metadata": {},
   "outputs": [],
   "source": [
    "pprint.pprint(all_data)"
   ]
  },
  {
   "cell_type": "code",
   "execution_count": 11,
   "id": "4cb3e6a0",
   "metadata": {},
   "outputs": [
    {
     "name": "stderr",
     "output_type": "stream",
     "text": [
      "C:\\Users\\rando\\AppData\\Local\\Temp\\ipykernel_9404\\1361140556.py:4: FutureWarning: DataFrame.applymap has been deprecated. Use DataFrame.map instead.\n",
      "  dfs = dfs.applymap(lambda x: x.replace('\\n', ' ') if isinstance(x, str) else x) #applies to dataframe not series\n"
     ]
    }
   ],
   "source": [
    "scheme_tables = camelot.read_pdf(path2, pages=\"5,6,7,8,9\", flavor='lattice')\n",
    "dfs = all_data = pd.concat([table.df for table in scheme_tables], ignore_index=True)\n",
    "dfs = dfs.drop(dfs.columns[0], axis=1)\n",
    "dfs = dfs.applymap(lambda x: x.replace('\\n', ' ') if isinstance(x, str) else x) #applies to dataframe not series\n",
    "dfs.iloc[:, 0] = dfs.iloc[:, 0].replace(r'^\\s*$', np.nan, regex=True)\n",
    "dfs.iloc[:, 0] = dfs.iloc[:, 0].ffill() #fill corresponding structure\n",
    "new_column_names = ['Title'] + [f'Data{i}' for i in range(1, dfs.shape[1])]\n",
    "dfs.columns = new_column_names\n",
    "# html = dfs.to_html(\"check.html\")\n",
    "data_cols = [col for col in dfs.columns if col != 'Title']\n",
    "result_dict = {}\n",
    "for title, group_df in dfs.groupby('Title', sort=False):\n",
    "    title = re.sub(r\"\\s+\",\" \",title).strip()\n",
    "    title = \"_\".join(title.lower().split(\" \"))\n",
    "    \n",
    "    current_title_values = []\n",
    "    for index, row in group_df.iterrows():\n",
    "        for col_name in data_cols:\n",
    "            cell_value = row[col_name]\n",
    "            if isinstance(cell_value, str) and cell_value.strip() != '':\n",
    "                current_title_values.append(cell_value)\n",
    "    result_dict[title] = current_title_values"
   ]
  },
  {
   "cell_type": "markdown",
   "id": "0654ef80",
   "metadata": {},
   "source": [
    "MANAGER"
   ]
  },
  {
   "cell_type": "code",
   "execution_count": 12,
   "id": "6ae4f140",
   "metadata": {},
   "outputs": [
    {
     "name": "stderr",
     "output_type": "stream",
     "text": [
      "C:\\Users\\rando\\AppData\\Local\\Temp\\ipykernel_9404\\2179127116.py:3: FutureWarning: DataFrame.applymap has been deprecated. Use DataFrame.map instead.\n",
      "  dfs = dfs.applymap(lambda x: x.replace('\\n', ' ') if isinstance(x, str) else x)\n"
     ]
    }
   ],
   "source": [
    "manager_tables = camelot.read_pdf(path2, pages=\"14,15\", flavor='lattice')\n",
    "dfs = all_data = pd.concat([table.df for table in manager_tables], ignore_index=True)\n",
    "dfs = dfs.applymap(lambda x: x.replace('\\n', ' ') if isinstance(x, str) else x)\n",
    "fund_manager_data = {\n",
    "    \"fund_manager\": [list(row) for _, row in dfs.iterrows()]\n",
    "}"
   ]
  },
  {
   "cell_type": "code",
   "execution_count": 13,
   "id": "1538d97e",
   "metadata": {},
   "outputs": [],
   "source": [
    "result_dict.update(fund_manager_data)\n",
    "with open(\"final.json\",\"w+\") as data:\n",
    "    json.dump(result_dict,data)"
   ]
  }
 ],
 "metadata": {
  "kernelspec": {
   "display_name": "envPDF",
   "language": "python",
   "name": "python3"
  },
  "language_info": {
   "codemirror_mode": {
    "name": "ipython",
    "version": 3
   },
   "file_extension": ".py",
   "mimetype": "text/x-python",
   "name": "python",
   "nbconvert_exporter": "python",
   "pygments_lexer": "ipython3",
   "version": "3.13.1"
  }
 },
 "nbformat": 4,
 "nbformat_minor": 5
}
