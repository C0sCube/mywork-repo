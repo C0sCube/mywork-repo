{
 "cells": [
  {
   "cell_type": "code",
   "execution_count": 77,
   "id": "5e1d5bb3",
   "metadata": {},
   "outputs": [],
   "source": [
    "import pdfplumber, camelot, pprint\n",
    "import fitz #type: ignore\n",
    "import pandas as pd\n",
    "import numpy as np\n",
    "import json, os, re"
   ]
  },
  {
   "cell_type": "code",
   "execution_count": 3,
   "id": "0de0af8b",
   "metadata": {},
   "outputs": [],
   "source": [
    "path = os.path.join(os.getcwd(),\"pdfs\",\"1736224555418.pdf\")"
   ]
  },
  {
   "cell_type": "code",
   "execution_count": 78,
   "id": "16de7922",
   "metadata": {},
   "outputs": [],
   "source": [
    "all_data = []\n",
    "with pdfplumber.open(path) as doc:\n",
    "    for i, page in enumerate(doc.pages):\n",
    "        if i in [0, 1, 2]:\n",
    "            text = page.extract_text()\n",
    "            all_data.append(text)"
   ]
  },
  {
   "cell_type": "code",
   "execution_count": 79,
   "id": "18c05597",
   "metadata": {},
   "outputs": [
    {
     "name": "stdout",
     "output_type": "stream",
     "text": [
      "['SCHEME INFORMATION DOCUMENT\\n'\n",
      " 'QUANTUM LIQUID FUND\\n'\n",
      " '(An Open-ended Liquid Scheme. A relatively low interest rate risk and '\n",
      " 'relatively\\n'\n",
      " 'low cred it risk)\\n'\n",
      " 'Continuous Offer of Units at NAV Based Prices\\n'\n",
      " 'PRODUCT LABEL\\n'\n",
      " 'This product is suitable for investors Scheme Riskometer Benchmark '\n",
      " 'Riskometer (Tier I)\\n'\n",
      " 'who are seeking*\\n'\n",
      " '• Income over the short term\\n'\n",
      " '• Investments in debt / money market\\n'\n",
      " 'instruments.\\n'\n",
      " 'Tier I Benchmark:\\n'\n",
      " 'CRISIL Liquid Debt A-I Index\\n'\n",
      " 'Investors understand that their\\n'\n",
      " 'principal will be at Low Risk\\n'\n",
      " '* Investors should consult their financial advisers if in doubt about '\n",
      " 'whether the product is suitable for them.\\n'\n",
      " 'Credit Risk → Relatively Low Moderate Relatively High\\n'\n",
      " 'Interest Rate Risk↓ (Class A) (Class B) (Class C)\\n'\n",
      " 'Relatively Low (Class I) A-I\\n'\n",
      " 'Moderate (Class II)\\n'\n",
      " 'Relatively High (Class III)\\n'\n",
      " 'MUTUAL FUND TRUSTEE COMPANY Asset Management Company\\n'\n",
      " 'Quantum Mutual Fund Quantum Trustee Company Quantum Asset Management\\n'\n",
      " 'Private Ltd. Company Private Ltd.\\n'\n",
      " '1st Floor, Apeejay House, 3 1st Floor, Apeejay House, 3 1st Floor, Apeejay '\n",
      " 'House, 3 Dinshaw\\n'\n",
      " 'Dinshaw Vachha Road, Backbay Dinshaw Vachha Road, Backbay Vachha Road, '\n",
      " 'Backbay Reclamation,\\n'\n",
      " 'Reclamation, Churchgate, Reclamation, Churchgate, Churchgate, Mumbai - 400 '\n",
      " '020\\n'\n",
      " 'Mumbai - 400 020 Mumbai - 400 020 CIN - U65990MH2005PTC156152\\n'\n",
      " 'www.QuantumAMC.com CIN - U67190MH2005PTC156119 www.QuantumAMC.com\\n'\n",
      " '1',\n",
      " 'The particulars of the Scheme have been prepared in accordance with the '\n",
      " 'Securities and Exchange Board of India\\n'\n",
      " '(Mutual Funds) Regulations 1996, (herein after referred to as SEBI (MF) '\n",
      " 'Regulations) as amended till date and\\n'\n",
      " 'circulars issued thereunder filed with SEBI, along with a Due Diligence '\n",
      " 'Certificate from the AMC. The units being\\n'\n",
      " 'offered for public subscription have not been approved or recommended by '\n",
      " 'SEBI nor has SEBI certified the\\n'\n",
      " 'accuracy or adequacy of the Scheme Information Document.\\n'\n",
      " 'The Scheme Information Document (SID) sets forth concisely the information '\n",
      " 'about the scheme that a prospective\\n'\n",
      " 'investor ought to know before investing. Before investing, investors should '\n",
      " 'also ascertain about any further changes\\n'\n",
      " 'to this Scheme Information Document after the date of this Document from the '\n",
      " 'Mutual Fund / Investor Service\\n'\n",
      " 'Centres (ISCs) / Website / Distributors or Brokers.\\n'\n",
      " 'The investors are advised to refer to the Statement of Additional '\n",
      " 'Information (SAI) for details of Quantum Mutual\\n'\n",
      " 'Fund, Standard Risk Factors, Special Considerations, Tax and Legal issues '\n",
      " 'and general information on\\n'\n",
      " 'www.QuantumAMC.com.\\n'\n",
      " 'SAI is incorporated by reference (is legally a part of the Scheme '\n",
      " 'Information Document). For a free copy of the\\n'\n",
      " 'current SAI, please contact your nearest Investor Service Centre or log on '\n",
      " 'to our website.\\n'\n",
      " 'The Scheme Information Document (Section I and II) should be read in '\n",
      " 'conjunction with the SAI and not in\\n'\n",
      " 'isolation.\\n'\n",
      " 'This Scheme Information Document is dated October 25, 2024.\\n'\n",
      " '2',\n",
      " 'TABLE OF CONTENT\\n'\n",
      " 'PARTICULARS PAGE NO.\\n'\n",
      " 'SECTION I 4\\n'\n",
      " 'PART I. HIGHLIGHTS / SUMMARY OF THE SCHEME 4\\n'\n",
      " 'DUE DILIGENCE BY THE ASSET MANAGEMENT COMPANY 10\\n'\n",
      " 'PART II. INFORMATION ABOUT THE SCHEME 11\\n'\n",
      " 'A. HOW WILL THE SCHEME ALLOCATE ITS ASSETS? 11\\n'\n",
      " 'B. WHERE WILL THE SCHEME INVEST? 13\\n'\n",
      " 'C. WHAT ARE THE INVESTMENT STRATEGIES? 14\\n'\n",
      " 'D. HOW WILL THE SCHEME BENCHMARK ITS PERFORMANCE? 18\\n'\n",
      " 'E. WHO MANAGES THE SCHEME? 18\\n'\n",
      " 'F. HOW IS THE SCHEME DIFFERENT FROM EXISTING SCHEME OF THE MUTUAL FUND? 18\\n'\n",
      " 'G. HOW HAS THE SCHEME PERFORMED 19\\n'\n",
      " 'H. ADDITIONAL SCHEME RELATED DISCLOSURES 21\\n'\n",
      " 'PART II - OTHER DETAILS 22\\n'\n",
      " 'A. COMPUTATION OF NAV 22\\n'\n",
      " 'B. ANNUAL SCHEME RECURRING EXPENSES 22\\n'\n",
      " 'C. LOAD STRUCTURE 24\\n'\n",
      " 'SECTION II 25\\n'\n",
      " 'I. INTRODUCTION 25\\n'\n",
      " 'A. DEFINITIONS/INTERPRETATION 25\\n'\n",
      " 'B. RISK FACTOR 25\\n'\n",
      " 'C. RISK MITIGATION STRATEGIES 27\\n'\n",
      " 'II. INFORMATION ABOUT THE SCHEME 29\\n'\n",
      " 'A. WHERE WILL THE SCHEME INVEST 29\\n'\n",
      " 'B. WHAT ARE THE INVESTMENT RESTRICTIONS? 32\\n'\n",
      " 'C. FUNDAMENTAL ATTRIBUTES 34\\n'\n",
      " 'D. OTHER SCHEME SPECIFIC DISCLOSURES 35\\n'\n",
      " 'III. OTHER DETAILS 49\\n'\n",
      " 'A. PERIODIC DISCLOSURES 49\\n'\n",
      " 'B. TRANSPARENCY/NAV DISCLOSURE 50\\n'\n",
      " 'C. TRANSACTION CHARGES AND STAMP DUTY 51\\n'\n",
      " 'D. TAXATION 51\\n'\n",
      " 'E. LIST OF OFFICIAL POINTS OF ACCEPTANCE 52\\n'\n",
      " '3']\n"
     ]
    }
   ],
   "source": [
    "pprint.pprint(all_data)"
   ]
  },
  {
   "cell_type": "code",
   "execution_count": null,
   "id": "4cb3e6a0",
   "metadata": {},
   "outputs": [],
   "source": [
    "scheme_tables = camelot.read_pdf(path, pages=\"4,5,6,7,8,9\", flavor='lattice')\n",
    "dfs = all_data = pd.concat([table.df for table in scheme_tables], ignore_index=True)\n",
    "dfs = dfs.drop(dfs.columns[0], axis=1)\n",
    "dfs = dfs.applymap(lambda x: x.replace('\\n', ' ') if isinstance(x, str) else x) #applies to dataframe not series\n",
    "dfs.iloc[:, 0] = dfs.iloc[:, 0].replace(r'^\\s*$', np.nan, regex=True)\n",
    "dfs.iloc[:, 0] = dfs.iloc[:, 0].ffill() #fill corresponding structure\n",
    "new_column_names = ['Title'] + [f'Data{i}' for i in range(1, dfs.shape[1])]\n",
    "dfs.columns = new_column_names\n",
    "# html = dfs.to_html(\"check.html\")\n",
    "data_cols = [col for col in dfs.columns if col != 'Title']\n",
    "result_dict = {}\n",
    "for title, group_df in dfs.groupby('Title', sort=False):\n",
    "    title = re.sub(r\"\\s+\",\" \",title).strip()\n",
    "    title = \"_\".join(title.lower().split(\" \"))\n",
    "    \n",
    "    current_title_values = []\n",
    "    for index, row in group_df.iterrows():\n",
    "        for col_name in data_cols:\n",
    "            cell_value = row[col_name]\n",
    "            if isinstance(cell_value, str) and cell_value.strip() != '':\n",
    "                current_title_values.append(cell_value)\n",
    "    result_dict[title] = current_title_values"
   ]
  },
  {
   "cell_type": "markdown",
   "id": "0654ef80",
   "metadata": {},
   "source": [
    "MANAGER"
   ]
  },
  {
   "cell_type": "code",
   "execution_count": null,
   "id": "6ae4f140",
   "metadata": {},
   "outputs": [],
   "source": [
    "manager_tables = camelot.read_pdf(path, pages=\"18\", flavor='lattice')\n",
    "dfs = all_data = pd.concat([table.df for table in manager_tables], ignore_index=True)\n",
    "dfs = dfs.applymap(lambda x: x.replace('\\n', ' ') if isinstance(x, str) else x)\n",
    "fund_manager_data = {\n",
    "    \"fund_manager\": [list(row) for _, row in dfs.iterrows()]\n",
    "}"
   ]
  },
  {
   "cell_type": "code",
   "execution_count": 55,
   "id": "1538d97e",
   "metadata": {},
   "outputs": [],
   "source": [
    "result_dict.update(fund_manager_data)\n",
    "with open(\"final.json\",\"w+\") as data:\n",
    "    json.dump(result_dict,data)"
   ]
  }
 ],
 "metadata": {
  "kernelspec": {
   "display_name": ".venv",
   "language": "python",
   "name": "python3"
  },
  "language_info": {
   "codemirror_mode": {
    "name": "ipython",
    "version": 3
   },
   "file_extension": ".py",
   "mimetype": "text/x-python",
   "name": "python",
   "nbconvert_exporter": "python",
   "pygments_lexer": "ipython3",
   "version": "3.13.1"
  }
 },
 "nbformat": 4,
 "nbformat_minor": 5
}
