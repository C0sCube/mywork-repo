{
 "cells": [
  {
   "cell_type": "code",
   "execution_count": 3,
   "id": "5e1d5bb3",
   "metadata": {},
   "outputs": [
    {
     "name": "stdout",
     "output_type": "stream",
     "text": [
      "The autoreload extension is already loaded. To reload it, use:\n",
      "  %reload_ext autoreload\n",
      "Config already loaded. Skipping re-initialization.\n"
     ]
    }
   ],
   "source": [
    "%load_ext autoreload\n",
    "%autoreload 2\n",
    "from app.config_loader import load_config_once\n",
    "conf = load_config_once(output_folder=\"SIDKIM\")\n",
    "import pdfplumber, camelot, pprint, json5,json, os, re\n",
    "import fitz #type: ignore\n",
    "import pandas as pd\n",
    "import numpy as np\n",
    "\n",
    "from app.fund_sid_data import *\n",
    "from app.utils import *\n",
    "\n",
    "with open(\"config\\\\sid_params.json5\",\"r+\") as file:\n",
    "    params = json5.load(file)\n",
    "\n",
    "# with open(\"config\\\\sid_params.json5\",\"r+\") as file:\n",
    "#     params = json5.dump(params,file)\n",
    "# | Tool      | Page Indexing | Example                  |\n",
    "# | --------- | ------------- | ------------------------ |\n",
    "# | `fitz`    | **0-based**   | `doc[0]` → first page    |\n",
    "# | `camelot` | **1-based**   | `pages=\"1\"` → first page |"
   ]
  },
  {
   "cell_type": "code",
   "execution_count": 6,
   "id": "e88b1542",
   "metadata": {},
   "outputs": [],
   "source": [
    "path = r\"C:\\Users\\Kaustubh.keny\\Projects\\PDF\\SID\\Apr\"\n",
    "sid_fund_apr = Helper.get_pdf_paths(path)\n",
    "path = r\"C:\\Users\\Kaustubh.keny\\Projects\\PDF\\SID\\Mar\"\n",
    "sid_fund_mar = Helper.get_pdf_paths(path)"
   ]
  },
  {
   "cell_type": "markdown",
   "id": "63d77eb5",
   "metadata": {},
   "source": [
    "SID"
   ]
  },
  {
   "cell_type": "code",
   "execution_count": null,
   "id": "09310609",
   "metadata": {},
   "outputs": [],
   "source": [
    "path = sid_fund_mar[\"Angel One Mututal Fund\"]\n",
    "object = AngelOne(amc_id=\"96\", path=path)\n",
    "temp_dict = {}\n",
    "temp_dict.update(object.parse_page_zero(\"1\"))\n",
    "temp_dict.update(object.parse_scheme_table_data(\"5,6,7,8\"))\n",
    "temp_dict.update(object.parse_fund_manager_info(\"14,15\"))"
   ]
  },
  {
   "cell_type": "code",
   "execution_count": null,
   "id": "afaca3d4",
   "metadata": {},
   "outputs": [],
   "source": [
    "path = sid_fund_apr[\"Dsp Mutual Fund_B\"]\n",
    "object = DSP(amc_id=\"8\", path=path)\n",
    "temp_dict = {}\n",
    "temp_dict.update(object.parse_page_zero(\"1\"))\n",
    "temp_dict.update(object.parse_scheme_table_data(\"5-9\"))\n",
    "temp_dict.update(object.parse_fund_manager_info(\"22\"))\n"
   ]
  },
  {
   "cell_type": "code",
   "execution_count": null,
   "id": "0e71986b",
   "metadata": {},
   "outputs": [],
   "source": [
    "path = sid_fund_apr[\"Groww Mutual Fund\"]\n",
    "object = GROWW(amc_id=\"20\", path=path)\n",
    "temp_dict = {}\n",
    "temp_dict.update(object.parse_page_zero(\"1\"))\n",
    "temp_dict.update(object.parse_scheme_table_data(\"4,5,6,7\"))\n",
    "temp_dict.update(object.parse_fund_manager_info(\"27\"))"
   ]
  },
  {
   "cell_type": "code",
   "execution_count": null,
   "id": "35f64f7f",
   "metadata": {},
   "outputs": [],
   "source": [
    "path = os.path.join(os.getcwd(),\"pdfs\",\"Apr SID\\\\Edelweiss Mutual Fund\\\\9_17045_Apr-2025_1745209928_SID.pdf\")\n",
    "object = Edelweiss(amc_id=\"9\", path=path)\n",
    "temp_dict = {}\n",
    "temp_dict.update(object.parse_page_zero([0]))\n",
    "temp_dict.update(object.parse_scheme_table_data(\"4,5,6,7,8\"))\n",
    "temp_dict.update(object.parse_fund_manager_info(\"15,16\"))\n",
    "# data = object.refine_extracted_data(temp_dict)\n",
    "# dfs = object.merge_and_select_data(data,sid_or_kim=\"sid\",special_func=False)"
   ]
  },
  {
   "cell_type": "code",
   "execution_count": null,
   "id": "7a5f2be0",
   "metadata": {},
   "outputs": [],
   "source": [
    "path = os.path.join(os.getcwd(),\"pdfs\",\"May SID\\\\Tata Mutual Fund\\\\38_17082_May-2025_1746423571_SID.pdf\")\n",
    "object = Tata(amc_id=\"38\", path=path)\n",
    "temp_dict = {}\n",
    "temp_dict.update(object.parse_page_zero([0]))\n",
    "temp_dict.update(object.parse_scheme_table_data(\"3,4,5\"))\n",
    "temp_dict.update(object.parse_fund_manager_info(\"12\"))\n",
    "data = object.refine_extracted_data(temp_dict)\n",
    "dfs = object.merge_and_select_data(data,sid_or_kim=\"sid\",special_func=False)"
   ]
  },
  {
   "cell_type": "code",
   "execution_count": null,
   "id": "4f01e48c",
   "metadata": {},
   "outputs": [
    {
     "name": "stdout",
     "output_type": "stream",
     "text": [
      "Function Running: _parse_fund_manager_info\n"
     ]
    },
    {
     "name": "stderr",
     "output_type": "stream",
     "text": [
      "c:\\Users\\rando\\OneDrive\\Documents\\mywork-repo\\app\\parse_sid_pdf.py:192: FutureWarning: DataFrame.applymap has been deprecated. Use DataFrame.map instead.\n",
      "  \n"
     ]
    }
   ],
   "source": [
    "path = os.path.join(os.getcwd(),\"pdfs\",\"May SID\\\\Nippon India Mutual Fund\\\\33_17142_May-2025_1747631690_SID.pdf\")\n",
    "object = Nippon(amc_id=\"33\", path=path)\n",
    "temp_dict = {}\n",
    "# temp_dict.update(object.parse_page_zero([0]))\n",
    "# temp_dict.update(object.parse_scheme_table_data(\"3,4,5,6,7\"))\n",
    "temp_dict.update(object.parse_fund_manager_info(\"11\"))\n",
    "# data = object.refine_extracted_data(temp_dict)\n",
    "# dfs = object.merge_and_select_data(data,sid_or_kim=\"sid\",special_func=False)"
   ]
  },
  {
   "cell_type": "code",
   "execution_count": null,
   "id": "22442077",
   "metadata": {},
   "outputs": [
    {
     "name": "stdout",
     "output_type": "stream",
     "text": [
      "Function Running: _parse_fund_manager_info\n"
     ]
    },
    {
     "name": "stderr",
     "output_type": "stream",
     "text": [
      "c:\\Users\\rando\\OneDrive\\Documents\\mywork-repo\\app\\parse_sid_pdf.py:192: FutureWarning: DataFrame.applymap has been deprecated. Use DataFrame.map instead.\n",
      "  \n"
     ]
    }
   ],
   "source": [
    "path = os.path.join(os.getcwd(),\"pdfs\",\"May SID\\\\SBI Mutual Fund\\\\35_17126_May-2025_1747282059_SID.pdf\")\n",
    "object = SBI(amc_id=\"35\", path=path)\n",
    "temp_dict = {}\n",
    "# temp_dict.update(object.parse_page_zero([0]))\n",
    "# temp_dict.update(object.parse_scheme_table_data(\"3,4,5\"))\n",
    "temp_dict.update(object._parse_fund_manager_info(\"13\"))\n",
    "# data = object.refine_extracted_data(temp_dict)\n",
    "# dfs = object.merge_and_select_data(data,sid_or_kim=\"sid\",special_func=False)"
   ]
  },
  {
   "cell_type": "code",
   "execution_count": null,
   "id": "0117add7",
   "metadata": {},
   "outputs": [],
   "source": [
    "path = os.path.join(os.getcwd(),\"pdfs\",\"May SID\\\\Samco Mutual Fund\\\\58_17166_May-2025_1748246684_SID.pdf\")\n",
    "object = Samco(amc_id=\"58\", path=path)\n",
    "temp_dict = {}\n",
    "temp_dict.update(object.parse_page_zero([0]))\n",
    "temp_dict.update(object.parse_scheme_table_data(\"3,4,5\"))\n",
    "temp_dict.update(object._parse_fund_manager_info(\"14,15\"))\n",
    "data = object.refine_extracted_data(temp_dict)\n",
    "dfs = object.merge_and_select_data(data,sid_or_kim=\"sid\",special_func=False)"
   ]
  },
  {
   "cell_type": "code",
   "execution_count": null,
   "id": "4575a93c",
   "metadata": {},
   "outputs": [],
   "source": [
    "path = os.path.join(os.getcwd(),\"pdfs\",\"May SID\\\\Baroda BNP Paribas Mutual Fund\\\\2_17136_May-2025_1747367452_SID.pdf\")\n",
    "object = BarodaBNP(amc_id=\"2\", path=path)\n",
    "temp_dict = {}\n",
    "temp_dict.update(object.parse_page_zero([0]))\n",
    "temp_dict.update(object.parse_scheme_table_data(\"3,4,5,6\"))\n",
    "temp_dict.update(object._parse_fund_manager_info(\"13\"))\n",
    "data = object.refine_extracted_data(temp_dict)\n",
    "dfs = object.merge_and_select_data(data,sid_or_kim=\"sid\",special_func=False)"
   ]
  },
  {
   "cell_type": "code",
   "execution_count": null,
   "id": "d564e22c",
   "metadata": {},
   "outputs": [],
   "source": [
    "path = os.path.join(os.getcwd(),\"pdfs\",\"May SID\\\\Unifi Mutual Fund\\\\1747199772321.pdf\")\n",
    "object = Unifi(amc_id=\"97\", path=path)\n",
    "temp_dict = {}\n",
    "temp_dict.update(object.parse_page_zero([0]))\n",
    "temp_dict.update(object.parse_scheme_table_data(\"5,6,7,8,9,10\"))\n",
    "temp_dict.update(object._parse_fund_manager_info(\"26,27\"))\n",
    "data = object.refine_extracted_data(temp_dict)\n",
    "dfs = object.merge_and_select_data(data,sid_or_kim=\"sid\",special_func=False)"
   ]
  },
  {
   "cell_type": "code",
   "execution_count": null,
   "id": "da402d3d",
   "metadata": {},
   "outputs": [],
   "source": [
    "path = os.path.join(os.getcwd(),\"pdfs\",\"May SID\\\\Motilal Oswal Mutual Fund\\\\28_17164_May-2025_1748246608_SID.pdf\")\n",
    "object = MotilalOswal(amc_id=\"28\", path=path)\n",
    "temp_dict = {}\n",
    "temp_dict.update(object.parse_page_zero([0]))\n",
    "temp_dict.update(object.parse_scheme_table_data(\"4,5,6,7,8\"))\n",
    "temp_dict.update(object._parse_fund_manager_info(\"19,21,22\"))\n",
    "data = object.refine_extracted_data(temp_dict)\n",
    "dfs = object.merge_and_select_data(data,sid_or_kim=\"sid\",special_func=False)"
   ]
  },
  {
   "cell_type": "code",
   "execution_count": 76,
   "id": "75df1d4a",
   "metadata": {},
   "outputs": [
    {
     "name": "stdout",
     "output_type": "stream",
     "text": [
      "Function Running: refine_extracted_data\n",
      "Function Running: merge_and_select_data\n"
     ]
    }
   ],
   "source": [
    "data = object.refine_extracted_data(temp_dict)\n",
    "dfs = object.merge_and_select_data(data,sid_or_kim=\"sid\",special_func=False)\n",
    "with open(\"temp.json\",\"w+\") as file:\n",
    "    json.dump(temp_dict,file)\n",
    "with open(\"data.json\",\"w+\") as file:\n",
    "    json.dump(data,file)\n",
    "with open(\"dfs.json\",\"w+\") as file:\n",
    "    json.dump(dfs,file)"
   ]
  }
 ],
 "metadata": {
  "kernelspec": {
   "display_name": ".venv",
   "language": "python",
   "name": "python3"
  },
  "language_info": {
   "codemirror_mode": {
    "name": "ipython",
    "version": 3
   },
   "file_extension": ".py",
   "mimetype": "text/x-python",
   "name": "python",
   "nbconvert_exporter": "python",
   "pygments_lexer": "ipython3",
   "version": "3.13.1"
  }
 },
 "nbformat": 4,
 "nbformat_minor": 5
}
