{
 "cells": [
  {
   "cell_type": "code",
   "execution_count": 1,
   "id": "5e1d5bb3",
   "metadata": {},
   "outputs": [
    {
     "name": "stdout",
     "output_type": "stream",
     "text": [
      "Loaded config with output_folder = SIDKIM\n"
     ]
    }
   ],
   "source": [
    "%load_ext autoreload\n",
    "%autoreload 2\n",
    "from app.config_loader import load_config_once\n",
    "conf = load_config_once(output_folder=\"SIDKIM\")\n",
    "import pdfplumber, camelot, pprint, json5,json, os, re\n",
    "import fitz #type: ignore\n",
    "import pandas as pd\n",
    "import numpy as np\n",
    "\n",
    "from app.fund_sid_data import *\n",
    "from app.utils import *\n",
    "\n",
    "with open(\"config\\\\sid_params.json5\",\"r+\") as file:\n",
    "    params = json5.load(file)\n",
    "\n",
    "# with open(\"config\\\\sid_params.json5\",\"r+\") as file:\n",
    "#     params = json5.dump(params,file)\n",
    "# | Tool      | Page Indexing | Example                  |\n",
    "# | --------- | ------------- | ------------------------ |\n",
    "# | `fitz`    | **0-based**   | `doc[0]` → first page    |\n",
    "# | `camelot` | **1-based**   | `pages=\"1\"` → first page |"
   ]
  },
  {
   "cell_type": "code",
   "execution_count": 2,
   "id": "e88b1542",
   "metadata": {},
   "outputs": [],
   "source": [
    "path = r\"C:\\Users\\Kaustubh.keny\\Projects\\PDF\\SID\\Apr\"\n",
    "sid_fund_apr = Helper.get_pdf_paths(path)\n",
    "path = r\"C:\\Users\\Kaustubh.keny\\Projects\\PDF\\SID\\Mar\"\n",
    "sid_fund_mar = Helper.get_pdf_paths(path)"
   ]
  },
  {
   "cell_type": "code",
   "execution_count": 4,
   "id": "eaf093c4",
   "metadata": {},
   "outputs": [
    {
     "data": {
      "text/plain": [
       "{'360 One Mutual Fund': 'C:\\\\Users\\\\Kaustubh.keny\\\\Projects\\\\PDF\\\\SID\\\\Mar\\\\360 One Mutual Fund\\\\18_16905_Mar-2025_1741330917_SID.pdf',\n",
       " 'Aditya Birla Sun Life Mutual Fund': 'C:\\\\Users\\\\Kaustubh.keny\\\\Projects\\\\PDF\\\\SID\\\\Mar\\\\Aditya Birla Sun Life Mutual Fund\\\\3_16940_Mar-2025_1741838999_SID.pdf',\n",
       " 'Angel One Mututal Fund': 'C:\\\\Users\\\\Kaustubh.keny\\\\Projects\\\\PDF\\\\SID\\\\Mar\\\\Angel One Mututal Fund\\\\96_16971_Mar-2025_1742355460_SID.pdf',\n",
       " 'Angel One Mututal Fund_B': 'C:\\\\Users\\\\Kaustubh.keny\\\\Projects\\\\PDF\\\\SID\\\\Mar\\\\Angel One Mututal Fund\\\\96_16971_Mar-2025_1742355460_SID_all_ocr.pdf',\n",
       " 'Axis Mutual Fund': 'C:\\\\Users\\\\Kaustubh.keny\\\\Projects\\\\PDF\\\\SID\\\\Mar\\\\Axis Mutual Fund\\\\1_16909_Mar-2025_1741331175_SID.pdf',\n",
       " 'Axis Mutual Fund_B': 'C:\\\\Users\\\\Kaustubh.keny\\\\Projects\\\\PDF\\\\SID\\\\Mar\\\\Axis Mutual Fund\\\\1_16928_Mar-2025_1741758037_SID.pdf',\n",
       " 'Bandhan Mutual Fund': 'C:\\\\Users\\\\Kaustubh.keny\\\\Projects\\\\PDF\\\\SID\\\\Mar\\\\Bandhan Mutual Fund\\\\16_16899_Mar-2025_1741148354_SID.pdf',\n",
       " 'Edelweiss Mutual Fund': 'C:\\\\Users\\\\Kaustubh.keny\\\\Projects\\\\PDF\\\\SID\\\\Mar\\\\Edelweiss Mutual Fund\\\\9_16916_Mar-2025_1741583013_SID.pdf',\n",
       " 'Groww Mutual Fund': 'C:\\\\Users\\\\Kaustubh.keny\\\\Projects\\\\PDF\\\\SID\\\\Mar\\\\Groww Mutual Fund\\\\20_16988_Mar-2025_1743137355_SID.pdf',\n",
       " 'Groww Mutual Fund_B': 'C:\\\\Users\\\\Kaustubh.keny\\\\Projects\\\\PDF\\\\SID\\\\Mar\\\\Groww Mutual Fund\\\\20_16990_Mar-2025_1743137410_SID.pdf',\n",
       " 'Hdfc Mutual Fund': 'C:\\\\Users\\\\Kaustubh.keny\\\\Projects\\\\PDF\\\\SID\\\\Mar\\\\HDFC Mutual Fund\\\\12_16897_Mar-2025_1740997506_SID.pdf',\n",
       " 'Icici Prudential Mutual Fund': 'C:\\\\Users\\\\Kaustubh.keny\\\\Projects\\\\PDF\\\\SID\\\\Mar\\\\ICICI Prudential Mutual Fund\\\\14_16901_Mar-2025_1741148435_SID.pdf',\n",
       " 'Icici Prudential Mutual Fund_B': 'C:\\\\Users\\\\Kaustubh.keny\\\\Projects\\\\PDF\\\\SID\\\\Mar\\\\ICICI Prudential Mutual Fund\\\\14_16950_Mar-2025_1742190897_SID.pdf',\n",
       " 'Icici Prudential Mutual Fund_C': 'C:\\\\Users\\\\Kaustubh.keny\\\\Projects\\\\PDF\\\\SID\\\\Mar\\\\ICICI Prudential Mutual Fund\\\\14_16979_Mar-2025_1742788353_SID.pdf',\n",
       " 'Icici Prudential Mutual Fund_D': 'C:\\\\Users\\\\Kaustubh.keny\\\\Projects\\\\PDF\\\\SID\\\\Mar\\\\ICICI Prudential Mutual Fund\\\\14_16986_Mar-2025_1743053857_SID.pdf',\n",
       " 'Kotak Mahindra Mutual Fund': 'C:\\\\Users\\\\Kaustubh.keny\\\\Projects\\\\PDF\\\\SID\\\\Mar\\\\Kotak Mahindra Mutual Fund\\\\23_16946_Mar-2025_1742187158_SID.pdf',\n",
       " 'Motilal Oswal Mutual Fund': 'C:\\\\Users\\\\Kaustubh.keny\\\\Projects\\\\PDF\\\\SID\\\\Mar\\\\Motilal Oswal Mutual Fund\\\\28_16952_Mar-2025_1742190980_SID.pdf',\n",
       " 'Quant Mutual Fund': 'C:\\\\Users\\\\Kaustubh.keny\\\\Projects\\\\PDF\\\\SID\\\\Mar\\\\Quant Mutual Fund\\\\10_16938_Mar-2025_1741838948_SID.pdf',\n",
       " 'Sbi Mutual Fund': 'C:\\\\Users\\\\Kaustubh.keny\\\\Projects\\\\PDF\\\\SID\\\\Mar\\\\SBI Mutual Fund\\\\35_16934_Mar-2025_1741838833_SID.pdf',\n",
       " 'Sbi Mutual Fund_B': 'C:\\\\Users\\\\Kaustubh.keny\\\\Projects\\\\PDF\\\\SID\\\\Mar\\\\SBI Mutual Fund\\\\35_16936_Mar-2025_1741838893_SID.pdf',\n",
       " 'Tata Mutual Fund': 'C:\\\\Users\\\\Kaustubh.keny\\\\Projects\\\\PDF\\\\SID\\\\Mar\\\\Tata Mutual Fund\\\\38_16948_Mar-2025_1742187522_SID.pdf',\n",
       " 'Uti Mutual Fund': 'C:\\\\Users\\\\Kaustubh.keny\\\\Projects\\\\PDF\\\\SID\\\\Mar\\\\UTI Mutual Fund\\\\41_16944_Mar-2025_1742187012_SID.pdf',\n",
       " 'Zerodha Mutual Fund': 'C:\\\\Users\\\\Kaustubh.keny\\\\Projects\\\\PDF\\\\SID\\\\Mar\\\\Zerodha Mutual Fund\\\\71_16907_Mar-2025_1741331024_SID.pdf',\n",
       " 'Zerodha Mutual Fund_B': 'C:\\\\Users\\\\Kaustubh.keny\\\\Projects\\\\PDF\\\\SID\\\\Mar\\\\Zerodha Mutual Fund\\\\71_16967_Mar-2025_1742269769_SID.pdf'}"
      ]
     },
     "execution_count": 4,
     "metadata": {},
     "output_type": "execute_result"
    }
   ],
   "source": [
    "sid_fund_mar"
   ]
  },
  {
   "cell_type": "code",
   "execution_count": 3,
   "id": "31f549f7",
   "metadata": {},
   "outputs": [
    {
     "data": {
      "text/plain": [
       "{'Bajaj Finserv Mutual Fund': 'C:\\\\Users\\\\Kaustubh.keny\\\\Projects\\\\PDF\\\\SID\\\\Apr\\\\Bajaj Finserv Mutual Fund\\\\59_17022_Apr-2025_1744773931_SID.pdf',\n",
       " 'Bajaj Finserv Mutual Fund_B': 'C:\\\\Users\\\\Kaustubh.keny\\\\Projects\\\\PDF\\\\SID\\\\Apr\\\\Bajaj Finserv Mutual Fund\\\\59_17047_Apr-2025_1745296581_SID.pdf',\n",
       " 'Canara Robeco Mutual Fund': 'C:\\\\Users\\\\Kaustubh.keny\\\\Projects\\\\PDF\\\\SID\\\\Apr\\\\Canara Robeco Mutual Fund\\\\6_16997_Apr-2025_1743747357_SID.pdf',\n",
       " 'Dsp Mutual Fund': 'C:\\\\Users\\\\Kaustubh.keny\\\\Projects\\\\PDF\\\\SID\\\\Apr\\\\DSP Mutual Fund\\\\8_17037_Apr-2025_1744864544_SID.pdf',\n",
       " 'Dsp Mutual Fund_B': 'C:\\\\Users\\\\Kaustubh.keny\\\\Projects\\\\PDF\\\\SID\\\\Apr\\\\DSP Mutual Fund\\\\8_17039_Apr-2025_1744864628_SID.pdf',\n",
       " 'Edelweiss Mutual Fund': 'C:\\\\Users\\\\Kaustubh.keny\\\\Projects\\\\PDF\\\\SID\\\\Apr\\\\Edelweiss Mutual Fund\\\\9_17045_Apr-2025_1745209928_SID.pdf',\n",
       " 'Groww Mutual Fund': 'C:\\\\Users\\\\Kaustubh.keny\\\\Projects\\\\PDF\\\\SID\\\\Apr\\\\Groww Mutual Fund\\\\20_17033_Apr-2025_1744864352_SID.pdf',\n",
       " 'Groww Mutual Fund_B': 'C:\\\\Users\\\\Kaustubh.keny\\\\Projects\\\\PDF\\\\SID\\\\Apr\\\\Groww Mutual Fund\\\\20_17072_Apr-2025_1745812984_SID.pdf',\n",
       " 'Groww Mutual Fund_C': 'C:\\\\Users\\\\Kaustubh.keny\\\\Projects\\\\PDF\\\\SID\\\\Apr\\\\Groww Mutual Fund\\\\20_17074_Apr-2025_1745813072_SID.pdf',\n",
       " 'Hdfc Mutual Fund': 'C:\\\\Users\\\\Kaustubh.keny\\\\Projects\\\\PDF\\\\SID\\\\Apr\\\\HDFC Mutual Fund\\\\12_17051_Apr-2025_1745296869_SID.pdf',\n",
       " 'Icici Prudential Mutual Fund': 'C:\\\\Users\\\\Kaustubh.keny\\\\Projects\\\\PDF\\\\SID\\\\Apr\\\\ICICI Prudential Mutual Fund\\\\14_17070_Apr-2025_1745812923_SID.pdf',\n",
       " 'Kotak Mahindra Mutual Fund': 'C:\\\\Users\\\\Kaustubh.keny\\\\Projects\\\\PDF\\\\SID\\\\Apr\\\\Kotak Mahindra Mutual Fund\\\\23_16992_Apr-2025_1743565905_SID.pdf',\n",
       " 'Mirae Asset Mutual Fund': 'C:\\\\Users\\\\Kaustubh.keny\\\\Projects\\\\PDF\\\\SID\\\\Apr\\\\Mirae Asset Mutual Fund\\\\27_17067_Apr-2025_1745555498_SID.pdf',\n",
       " 'Motilal Oswal Mutual Fund': 'C:\\\\Users\\\\Kaustubh.keny\\\\Projects\\\\PDF\\\\SID\\\\Apr\\\\Motilal Oswal Mutual Fund\\\\28_17035_Apr-2025_1744864457_SID.pdf',\n",
       " 'Nippon India Mutual Fund': 'C:\\\\Users\\\\Kaustubh.keny\\\\Projects\\\\PDF\\\\SID\\\\Apr\\\\Nippon India Mutual Fund\\\\33_17007_Apr-2025_1744346179_SID.pdf',\n",
       " 'Nippon India Mutual Fund_B': 'C:\\\\Users\\\\Kaustubh.keny\\\\Projects\\\\PDF\\\\SID\\\\Apr\\\\Nippon India Mutual Fund\\\\33_17008_Apr-2025_1744346213_SID.pdf',\n",
       " 'Sbi Mutual Fund': 'C:\\\\Users\\\\Kaustubh.keny\\\\Projects\\\\PDF\\\\SID\\\\Apr\\\\SBI Mutual Fund\\\\35_17064_Apr-2025_1745384501_SID.pdf',\n",
       " 'Uti Mutual Fund': 'C:\\\\Users\\\\Kaustubh.keny\\\\Projects\\\\PDF\\\\SID\\\\Apr\\\\UTI Mutual Fund\\\\41_17049_Apr-2025_1745296637_SID.pdf'}"
      ]
     },
     "execution_count": 3,
     "metadata": {},
     "output_type": "execute_result"
    }
   ],
   "source": [
    "sid_fund_apr"
   ]
  },
  {
   "cell_type": "markdown",
   "id": "63d77eb5",
   "metadata": {},
   "source": [
    "SID"
   ]
  },
  {
   "cell_type": "code",
   "execution_count": null,
   "id": "224847ac",
   "metadata": {},
   "outputs": [],
   "source": [
    "path = sid_fund_mar[\"360 One Mutual Fund\"]\n",
    "object = ThreeSixtyOne(amc_id=\"18\", path=path)\n",
    "temp_dict = {}\n",
    "temp_dict.update(object.parse_page_zero(\"1\"))\n",
    "temp_dict.update(object.parse_scheme_table_data(\"5,6,7,8\"))\n",
    "temp_dict.update(object.parse_fund_manager_info(\"16\"))"
   ]
  },
  {
   "cell_type": "code",
   "execution_count": null,
   "id": "09310609",
   "metadata": {},
   "outputs": [],
   "source": [
    "path = sid_fund_mar[\"Angel One Mututal Fund\"]\n",
    "object = AngelOne(amc_id=\"96\", path=path)\n",
    "temp_dict = {}\n",
    "temp_dict.update(object.parse_page_zero(\"1\"))\n",
    "temp_dict.update(object.parse_scheme_table_data(\"5,6,7,8\"))\n",
    "temp_dict.update(object.parse_fund_manager_info(\"14,15\"))"
   ]
  },
  {
   "cell_type": "code",
   "execution_count": null,
   "id": "afaca3d4",
   "metadata": {},
   "outputs": [],
   "source": [
    "path = sid_fund_apr[\"Dsp Mutual Fund_B\"]\n",
    "object = DSP(amc_id=\"8\", path=path)\n",
    "temp_dict = {}\n",
    "temp_dict.update(object.parse_page_zero(\"1\"))\n",
    "temp_dict.update(object.parse_scheme_table_data(\"5-9\"))\n",
    "temp_dict.update(object.parse_fund_manager_info(\"22\"))\n"
   ]
  },
  {
   "cell_type": "code",
   "execution_count": null,
   "id": "0e71986b",
   "metadata": {},
   "outputs": [],
   "source": [
    "path = sid_fund_apr[\"Groww Mutual Fund\"]\n",
    "object = GROWW(amc_id=\"20\", path=path)\n",
    "temp_dict = {}\n",
    "temp_dict.update(object.parse_page_zero(\"1\"))\n",
    "temp_dict.update(object.parse_scheme_table_data(\"4,5,6,7\"))\n",
    "temp_dict.update(object.parse_fund_manager_info(\"27\"))"
   ]
  },
  {
   "cell_type": "code",
   "execution_count": null,
   "id": "35f64f7f",
   "metadata": {},
   "outputs": [],
   "source": [
    "path = os.path.join(os.getcwd(),\"pdfs\",\"Apr SID\\\\Edelweiss Mutual Fund\\\\9_17045_Apr-2025_1745209928_SID.pdf\")\n",
    "object = Edelweiss(amc_id=\"9\", path=path)\n",
    "temp_dict = {}\n",
    "temp_dict.update(object.parse_page_zero([0]))\n",
    "temp_dict.update(object.parse_scheme_table_data(\"4,5,6,7,8\"))\n",
    "temp_dict.update(object.parse_fund_manager_info(\"15,16\"))\n",
    "# data = object.refine_extracted_data(temp_dict)\n",
    "# dfs = object.merge_and_select_data(data,sid_or_kim=\"sid\",special_func=False)"
   ]
  },
  {
   "cell_type": "code",
   "execution_count": null,
   "id": "7a5f2be0",
   "metadata": {},
   "outputs": [],
   "source": [
    "path = os.path.join(os.getcwd(),\"pdfs\",\"May SID\\\\Tata Mutual Fund\\\\38_17082_May-2025_1746423571_SID.pdf\")\n",
    "object = Tata(amc_id=\"38\", path=path)\n",
    "temp_dict = {}\n",
    "temp_dict.update(object.parse_page_zero([0]))\n",
    "temp_dict.update(object.parse_scheme_table_data(\"3,4,5\"))\n",
    "temp_dict.update(object.parse_fund_manager_info(\"12\"))\n",
    "data = object.refine_extracted_data(temp_dict)\n",
    "dfs = object.merge_and_select_data(data,sid_or_kim=\"sid\",special_func=False)"
   ]
  },
  {
   "cell_type": "code",
   "execution_count": null,
   "id": "4f01e48c",
   "metadata": {},
   "outputs": [
    {
     "name": "stdout",
     "output_type": "stream",
     "text": [
      "Function Running: _parse_fund_manager_info\n"
     ]
    },
    {
     "name": "stderr",
     "output_type": "stream",
     "text": [
      "c:\\Users\\rando\\OneDrive\\Documents\\mywork-repo\\app\\parse_sid_pdf.py:192: FutureWarning: DataFrame.applymap has been deprecated. Use DataFrame.map instead.\n",
      "  \n"
     ]
    }
   ],
   "source": [
    "path = os.path.join(os.getcwd(),\"pdfs\",\"May SID\\\\Nippon India Mutual Fund\\\\33_17142_May-2025_1747631690_SID.pdf\")\n",
    "object = Nippon(amc_id=\"33\", path=path)\n",
    "temp_dict = {}\n",
    "# temp_dict.update(object.parse_page_zero([0]))\n",
    "# temp_dict.update(object.parse_scheme_table_data(\"3,4,5,6,7\"))\n",
    "temp_dict.update(object.parse_fund_manager_info(\"11\"))\n",
    "# data = object.refine_extracted_data(temp_dict)\n",
    "# dfs = object.merge_and_select_data(data,sid_or_kim=\"sid\",special_func=False)"
   ]
  },
  {
   "cell_type": "code",
   "execution_count": null,
   "id": "22442077",
   "metadata": {},
   "outputs": [
    {
     "name": "stdout",
     "output_type": "stream",
     "text": [
      "Function Running: _parse_fund_manager_info\n"
     ]
    },
    {
     "name": "stderr",
     "output_type": "stream",
     "text": [
      "c:\\Users\\rando\\OneDrive\\Documents\\mywork-repo\\app\\parse_sid_pdf.py:192: FutureWarning: DataFrame.applymap has been deprecated. Use DataFrame.map instead.\n",
      "  \n"
     ]
    }
   ],
   "source": [
    "path = os.path.join(os.getcwd(),\"pdfs\",\"May SID\\\\SBI Mutual Fund\\\\35_17126_May-2025_1747282059_SID.pdf\")\n",
    "object = SBI(amc_id=\"35\", path=path)\n",
    "temp_dict = {}\n",
    "# temp_dict.update(object.parse_page_zero([0]))\n",
    "# temp_dict.update(object.parse_scheme_table_data(\"3,4,5\"))\n",
    "temp_dict.update(object._parse_fund_manager_info(\"13\"))\n",
    "# data = object.refine_extracted_data(temp_dict)\n",
    "# dfs = object.merge_and_select_data(data,sid_or_kim=\"sid\",special_func=False)"
   ]
  },
  {
   "cell_type": "code",
   "execution_count": null,
   "id": "0117add7",
   "metadata": {},
   "outputs": [],
   "source": [
    "path = os.path.join(os.getcwd(),\"pdfs\",\"May SID\\\\Samco Mutual Fund\\\\58_17166_May-2025_1748246684_SID.pdf\")\n",
    "object = Samco(amc_id=\"58\", path=path)\n",
    "temp_dict = {}\n",
    "temp_dict.update(object.parse_page_zero([0]))\n",
    "temp_dict.update(object.parse_scheme_table_data(\"3,4,5\"))\n",
    "temp_dict.update(object._parse_fund_manager_info(\"14,15\"))\n",
    "data = object.refine_extracted_data(temp_dict)\n",
    "dfs = object.merge_and_select_data(data,sid_or_kim=\"sid\",special_func=False)"
   ]
  },
  {
   "cell_type": "code",
   "execution_count": null,
   "id": "4575a93c",
   "metadata": {},
   "outputs": [],
   "source": [
    "path = os.path.join(os.getcwd(),\"pdfs\",\"May SID\\\\Baroda BNP Paribas Mutual Fund\\\\2_17136_May-2025_1747367452_SID.pdf\")\n",
    "object = BarodaBNP(amc_id=\"2\", path=path)\n",
    "temp_dict = {}\n",
    "temp_dict.update(object.parse_page_zero([0]))\n",
    "temp_dict.update(object.parse_scheme_table_data(\"3,4,5,6\"))\n",
    "temp_dict.update(object._parse_fund_manager_info(\"13\"))\n",
    "data = object.refine_extracted_data(temp_dict)\n",
    "dfs = object.merge_and_select_data(data,sid_or_kim=\"sid\",special_func=False)"
   ]
  },
  {
   "cell_type": "code",
   "execution_count": null,
   "id": "d564e22c",
   "metadata": {},
   "outputs": [],
   "source": [
    "path = os.path.join(os.getcwd(),\"pdfs\",\"May SID\\\\Unifi Mutual Fund\\\\1747199772321.pdf\")\n",
    "object = Unifi(amc_id=\"97\", path=path)\n",
    "temp_dict = {}\n",
    "temp_dict.update(object.parse_page_zero([0]))\n",
    "temp_dict.update(object.parse_scheme_table_data(\"5,6,7,8,9,10\"))\n",
    "temp_dict.update(object._parse_fund_manager_info(\"26,27\"))\n",
    "data = object.refine_extracted_data(temp_dict)\n",
    "dfs = object.merge_and_select_data(data,sid_or_kim=\"sid\",special_func=False)"
   ]
  },
  {
   "cell_type": "code",
   "execution_count": null,
   "id": "da402d3d",
   "metadata": {},
   "outputs": [],
   "source": [
    "path = os.path.join(os.getcwd(),\"pdfs\",\"May SID\\\\Motilal Oswal Mutual Fund\\\\28_17164_May-2025_1748246608_SID.pdf\")\n",
    "object = MotilalOswal(amc_id=\"28\", path=path)\n",
    "temp_dict = {}\n",
    "temp_dict.update(object.parse_page_zero([0]))\n",
    "temp_dict.update(object.parse_scheme_table_data(\"4,5,6,7,8\"))\n",
    "temp_dict.update(object._parse_fund_manager_info(\"19,21,22\"))\n",
    "data = object.refine_extracted_data(temp_dict)\n",
    "dfs = object.merge_and_select_data(data,sid_or_kim=\"sid\",special_func=False)"
   ]
  },
  {
   "cell_type": "code",
   "execution_count": 76,
   "id": "75df1d4a",
   "metadata": {},
   "outputs": [
    {
     "name": "stdout",
     "output_type": "stream",
     "text": [
      "Function Running: refine_extracted_data\n",
      "Function Running: merge_and_select_data\n"
     ]
    }
   ],
   "source": [
    "data = object.refine_extracted_data(temp_dict)\n",
    "dfs = object.merge_and_select_data(data,sid_or_kim=\"sid\",special_func=False)\n",
    "with open(\"temp.json\",\"w+\") as file:\n",
    "    json.dump(temp_dict,file)\n",
    "with open(\"data.json\",\"w+\") as file:\n",
    "    json.dump(data,file)\n",
    "with open(\"dfs.json\",\"w+\") as file:\n",
    "    json.dump(dfs,file)"
   ]
  }
 ],
 "metadata": {
  "kernelspec": {
   "display_name": ".venv",
   "language": "python",
   "name": "python3"
  },
  "language_info": {
   "codemirror_mode": {
    "name": "ipython",
    "version": 3
   },
   "file_extension": ".py",
   "mimetype": "text/x-python",
   "name": "python",
   "nbconvert_exporter": "python",
   "pygments_lexer": "ipython3",
   "version": "3.13.1"
  }
 },
 "nbformat": 4,
 "nbformat_minor": 5
}
