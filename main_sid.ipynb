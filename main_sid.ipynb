{
 "cells": [
  {
   "cell_type": "code",
   "execution_count": 104,
   "id": "5e1d5bb3",
   "metadata": {},
   "outputs": [
    {
     "name": "stdout",
     "output_type": "stream",
     "text": [
      "The autoreload extension is already loaded. To reload it, use:\n",
      "  %reload_ext autoreload\n",
      "Config already loaded. Skipping re-initialization.\n"
     ]
    }
   ],
   "source": [
    "%load_ext autoreload\n",
    "%autoreload 2\n",
    "from app.config_loader import load_config_once\n",
    "conf = load_config_once(output_folder=\"SIDKIM\")\n",
    "import pdfplumber, camelot, pprint, json5,json, os, re\n",
    "import fitz #type: ignore\n",
    "import pandas as pd\n",
    "import numpy as np\n",
    "\n",
    "from app.fund_sid_data import *\n",
    "from app.utils import *\n",
    "\n",
    "with open(\"config\\\\sid_params.json5\",\"r+\") as file:\n",
    "    params = json5.load(file)\n",
    "\n",
    "# with open(\"config\\\\sid_params.json5\",\"r+\") as file:\n",
    "#     params = json5.dump(params,file)\n",
    "# | Tool      | Page Indexing | Example                  |\n",
    "# | --------- | ------------- | ------------------------ |\n",
    "# | `fitz`    | **0-based**   | `doc[0]` → first page    |\n",
    "# | `camelot` | **1-based**   | `pages=\"1\"` → first page |"
   ]
  },
  {
   "cell_type": "code",
   "execution_count": 105,
   "id": "e88b1542",
   "metadata": {},
   "outputs": [],
   "source": [
    "path = r\"C:\\Users\\Kaustubh.keny\\Projects\\PDF\\SID\\Apr\"\n",
    "sid_fund_apr = Helper.get_pdf_paths(path)\n",
    "path = r\"C:\\Users\\Kaustubh.keny\\Projects\\PDF\\SID\\Mar\"\n",
    "sid_fund_mar = Helper.get_pdf_paths(path)\n",
    "path =  r\"C:\\Users\\Kaustubh.keny\\Projects\\PDF\\SID\\other\"\n",
    "sid_fund_other = Helper.get_pdf_paths(path)"
   ]
  },
  {
   "cell_type": "code",
   "execution_count": 106,
   "id": "a9259a48",
   "metadata": {},
   "outputs": [
    {
     "data": {
      "text/plain": [
       "{'360 One Mutual Fund': 'C:\\\\Users\\\\Kaustubh.keny\\\\Projects\\\\PDF\\\\SID\\\\Mar\\\\360 One Mutual Fund\\\\18_16905_Mar-2025_1741330917_SID.pdf',\n",
       " 'Aditya Birla Sun Life Mutual Fund': 'C:\\\\Users\\\\Kaustubh.keny\\\\Projects\\\\PDF\\\\SID\\\\Mar\\\\Aditya Birla Sun Life Mutual Fund\\\\3_16940_Mar-2025_1741838999_SID.pdf',\n",
       " 'Angel One Mututal Fund': 'C:\\\\Users\\\\Kaustubh.keny\\\\Projects\\\\PDF\\\\SID\\\\Mar\\\\Angel One Mututal Fund\\\\96_16971_Mar-2025_1742355460_SID.pdf',\n",
       " 'Angel One Mututal Fund_B': 'C:\\\\Users\\\\Kaustubh.keny\\\\Projects\\\\PDF\\\\SID\\\\Mar\\\\Angel One Mututal Fund\\\\96_16971_Mar-2025_1742355460_SID_all_ocr.pdf',\n",
       " 'Axis Mutual Fund': 'C:\\\\Users\\\\Kaustubh.keny\\\\Projects\\\\PDF\\\\SID\\\\Mar\\\\Axis Mutual Fund\\\\1_16909_Mar-2025_1741331175_SID.pdf',\n",
       " 'Axis Mutual Fund_B': 'C:\\\\Users\\\\Kaustubh.keny\\\\Projects\\\\PDF\\\\SID\\\\Mar\\\\Axis Mutual Fund\\\\1_16928_Mar-2025_1741758037_SID.pdf',\n",
       " 'Bandhan Mutual Fund': 'C:\\\\Users\\\\Kaustubh.keny\\\\Projects\\\\PDF\\\\SID\\\\Mar\\\\Bandhan Mutual Fund\\\\16_16899_Mar-2025_1741148354_SID.pdf',\n",
       " 'Edelweiss Mutual Fund': 'C:\\\\Users\\\\Kaustubh.keny\\\\Projects\\\\PDF\\\\SID\\\\Mar\\\\Edelweiss Mutual Fund\\\\9_16916_Mar-2025_1741583013_SID.pdf',\n",
       " 'Groww Mutual Fund': 'C:\\\\Users\\\\Kaustubh.keny\\\\Projects\\\\PDF\\\\SID\\\\Mar\\\\Groww Mutual Fund\\\\20_16988_Mar-2025_1743137355_SID.pdf',\n",
       " 'Groww Mutual Fund_B': 'C:\\\\Users\\\\Kaustubh.keny\\\\Projects\\\\PDF\\\\SID\\\\Mar\\\\Groww Mutual Fund\\\\20_16990_Mar-2025_1743137410_SID.pdf',\n",
       " 'Hdfc Mutual Fund': 'C:\\\\Users\\\\Kaustubh.keny\\\\Projects\\\\PDF\\\\SID\\\\Mar\\\\HDFC Mutual Fund\\\\12_16897_Mar-2025_1740997506_SID.pdf',\n",
       " 'Icici Prudential Mutual Fund': 'C:\\\\Users\\\\Kaustubh.keny\\\\Projects\\\\PDF\\\\SID\\\\Mar\\\\ICICI Prudential Mutual Fund\\\\14_16901_Mar-2025_1741148435_SID.pdf',\n",
       " 'Icici Prudential Mutual Fund_B': 'C:\\\\Users\\\\Kaustubh.keny\\\\Projects\\\\PDF\\\\SID\\\\Mar\\\\ICICI Prudential Mutual Fund\\\\14_16950_Mar-2025_1742190897_SID.pdf',\n",
       " 'Icici Prudential Mutual Fund_C': 'C:\\\\Users\\\\Kaustubh.keny\\\\Projects\\\\PDF\\\\SID\\\\Mar\\\\ICICI Prudential Mutual Fund\\\\14_16979_Mar-2025_1742788353_SID.pdf',\n",
       " 'Icici Prudential Mutual Fund_D': 'C:\\\\Users\\\\Kaustubh.keny\\\\Projects\\\\PDF\\\\SID\\\\Mar\\\\ICICI Prudential Mutual Fund\\\\14_16986_Mar-2025_1743053857_SID.pdf',\n",
       " 'Kotak Mahindra Mutual Fund': 'C:\\\\Users\\\\Kaustubh.keny\\\\Projects\\\\PDF\\\\SID\\\\Mar\\\\Kotak Mahindra Mutual Fund\\\\23_16946_Mar-2025_1742187158_SID.pdf',\n",
       " 'Motilal Oswal Mutual Fund': 'C:\\\\Users\\\\Kaustubh.keny\\\\Projects\\\\PDF\\\\SID\\\\Mar\\\\Motilal Oswal Mutual Fund\\\\28_16952_Mar-2025_1742190980_SID.pdf',\n",
       " 'Quant Mutual Fund': 'C:\\\\Users\\\\Kaustubh.keny\\\\Projects\\\\PDF\\\\SID\\\\Mar\\\\Quant Mutual Fund\\\\10_16938_Mar-2025_1741838948_SID.pdf',\n",
       " 'Sbi Mutual Fund': 'C:\\\\Users\\\\Kaustubh.keny\\\\Projects\\\\PDF\\\\SID\\\\Mar\\\\SBI Mutual Fund\\\\35_16934_Mar-2025_1741838833_SID.pdf',\n",
       " 'Sbi Mutual Fund_B': 'C:\\\\Users\\\\Kaustubh.keny\\\\Projects\\\\PDF\\\\SID\\\\Mar\\\\SBI Mutual Fund\\\\35_16936_Mar-2025_1741838893_SID.pdf',\n",
       " 'Tata Mutual Fund': 'C:\\\\Users\\\\Kaustubh.keny\\\\Projects\\\\PDF\\\\SID\\\\Mar\\\\Tata Mutual Fund\\\\38_16948_Mar-2025_1742187522_SID.pdf',\n",
       " 'Uti Mutual Fund': 'C:\\\\Users\\\\Kaustubh.keny\\\\Projects\\\\PDF\\\\SID\\\\Mar\\\\UTI Mutual Fund\\\\41_16944_Mar-2025_1742187012_SID.pdf',\n",
       " 'Zerodha Mutual Fund': 'C:\\\\Users\\\\Kaustubh.keny\\\\Projects\\\\PDF\\\\SID\\\\Mar\\\\Zerodha Mutual Fund\\\\71_16907_Mar-2025_1741331024_SID.pdf',\n",
       " 'Zerodha Mutual Fund_B': 'C:\\\\Users\\\\Kaustubh.keny\\\\Projects\\\\PDF\\\\SID\\\\Mar\\\\Zerodha Mutual Fund\\\\71_16967_Mar-2025_1742269769_SID.pdf'}"
      ]
     },
     "execution_count": 106,
     "metadata": {},
     "output_type": "execute_result"
    }
   ],
   "source": [
    "sid_fund_mar"
   ]
  },
  {
   "cell_type": "markdown",
   "id": "63d77eb5",
   "metadata": {},
   "source": [
    "SID"
   ]
  },
  {
   "cell_type": "code",
   "execution_count": null,
   "id": "09310609",
   "metadata": {},
   "outputs": [],
   "source": [
    "path = sid_fund_mar[\"Angel One Mututal Fund\"]\n",
    "object = AngelOne(amc_id=\"96\", path=path)\n",
    "temp_dict = {}\n",
    "temp_dict.update(object.parse_page_zero(\"1\"))\n",
    "temp_dict.update(object.parse_scheme_table_data(\"5,6,7,8\"))\n",
    "temp_dict.update(object.parse_fund_manager_info(\"14,15\"))"
   ]
  },
  {
   "cell_type": "code",
   "execution_count": null,
   "id": "afaca3d4",
   "metadata": {},
   "outputs": [],
   "source": [
    "path = sid_fund_apr[\"Dsp Mutual Fund_B\"]\n",
    "object = DSP(amc_id=\"8\", path=path)\n",
    "temp_dict = {}\n",
    "temp_dict.update(object.parse_page_zero(\"1\"))\n",
    "temp_dict.update(object.parse_scheme_table_data(\"5-9\"))\n",
    "temp_dict.update(object.parse_fund_manager_info(\"22\"))\n"
   ]
  },
  {
   "cell_type": "code",
   "execution_count": null,
   "id": "0e71986b",
   "metadata": {},
   "outputs": [],
   "source": [
    "path = sid_fund_apr[\"Groww Mutual Fund\"]\n",
    "object = GROWW(amc_id=\"20\", path=path)\n",
    "temp_dict = {}\n",
    "temp_dict.update(object.parse_page_zero(\"1\"))\n",
    "temp_dict.update(object.parse_scheme_table_data(\"4,5,6,7\"))\n",
    "temp_dict.update(object.parse_fund_manager_info(\"27\"))"
   ]
  },
  {
   "cell_type": "code",
   "execution_count": null,
   "id": "35f64f7f",
   "metadata": {},
   "outputs": [],
   "source": [
    "path = os.path.join(os.getcwd(),\"pdfs\",\"Apr SID\\\\Edelweiss Mutual Fund\\\\9_17045_Apr-2025_1745209928_SID.pdf\")\n",
    "object = Edelweiss(amc_id=\"9\", path=path)\n",
    "temp_dict = {}\n",
    "temp_dict.update(object.parse_page_zero([0]))\n",
    "temp_dict.update(object.parse_scheme_table_data(\"4,5,6,7,8\"))\n",
    "temp_dict.update(object.parse_fund_manager_info(\"15,16\"))\n",
    "# data = object.refine_extracted_data(temp_dict)\n",
    "# dfs = object.merge_and_select_data(data,sid_or_kim=\"sid\",special_func=False)"
   ]
  },
  {
   "cell_type": "code",
   "execution_count": null,
   "id": "7a5f2be0",
   "metadata": {},
   "outputs": [],
   "source": [
    "path = os.path.join(os.getcwd(),\"pdfs\",\"May SID\\\\Tata Mutual Fund\\\\38_17082_May-2025_1746423571_SID.pdf\")\n",
    "object = Tata(amc_id=\"38\", path=path)\n",
    "temp_dict = {}\n",
    "temp_dict.update(object.parse_page_zero([0]))\n",
    "temp_dict.update(object.parse_scheme_table_data(\"3,4,5\"))\n",
    "temp_dict.update(object.parse_fund_manager_info(\"12\"))\n",
    "data = object.refine_extracted_data(temp_dict)\n",
    "dfs = object.merge_and_select_data(data,sid_or_kim=\"sid\",special_func=False)"
   ]
  },
  {
   "cell_type": "code",
   "execution_count": null,
   "id": "4f01e48c",
   "metadata": {},
   "outputs": [
    {
     "name": "stdout",
     "output_type": "stream",
     "text": [
      "Function Running: _parse_fund_manager_info\n"
     ]
    },
    {
     "name": "stderr",
     "output_type": "stream",
     "text": [
      "c:\\Users\\rando\\OneDrive\\Documents\\mywork-repo\\app\\parse_sid_pdf.py:192: FutureWarning: DataFrame.applymap has been deprecated. Use DataFrame.map instead.\n",
      "  \n"
     ]
    }
   ],
   "source": [
    "path = os.path.join(os.getcwd(),\"pdfs\",\"May SID\\\\Nippon India Mutual Fund\\\\33_17142_May-2025_1747631690_SID.pdf\")\n",
    "object = Nippon(amc_id=\"33\", path=path)\n",
    "temp_dict = {}\n",
    "# temp_dict.update(object.parse_page_zero([0]))\n",
    "# temp_dict.update(object.parse_scheme_table_data(\"3,4,5,6,7\"))\n",
    "temp_dict.update(object.parse_fund_manager_info(\"11\"))\n",
    "# data = object.refine_extracted_data(temp_dict)\n",
    "# dfs = object.merge_and_select_data(data,sid_or_kim=\"sid\",special_func=False)"
   ]
  },
  {
   "cell_type": "code",
   "execution_count": null,
   "id": "22442077",
   "metadata": {},
   "outputs": [
    {
     "name": "stdout",
     "output_type": "stream",
     "text": [
      "Function Running: _parse_fund_manager_info\n"
     ]
    },
    {
     "name": "stderr",
     "output_type": "stream",
     "text": [
      "c:\\Users\\rando\\OneDrive\\Documents\\mywork-repo\\app\\parse_sid_pdf.py:192: FutureWarning: DataFrame.applymap has been deprecated. Use DataFrame.map instead.\n",
      "  \n"
     ]
    }
   ],
   "source": [
    "path = os.path.join(os.getcwd(),\"pdfs\",\"May SID\\\\SBI Mutual Fund\\\\35_17126_May-2025_1747282059_SID.pdf\")\n",
    "object = SBI(amc_id=\"35\", path=path)\n",
    "temp_dict = {}\n",
    "# temp_dict.update(object.parse_page_zero([0]))\n",
    "# temp_dict.update(object.parse_scheme_table_data(\"3,4,5\"))\n",
    "temp_dict.update(object._parse_fund_manager_info(\"13\"))\n",
    "# data = object.refine_extracted_data(temp_dict)\n",
    "# dfs = object.merge_and_select_data(data,sid_or_kim=\"sid\",special_func=False)"
   ]
  },
  {
   "cell_type": "code",
   "execution_count": null,
   "id": "0117add7",
   "metadata": {},
   "outputs": [],
   "source": [
    "path = os.path.join(os.getcwd(),\"pdfs\",\"May SID\\\\Samco Mutual Fund\\\\58_17166_May-2025_1748246684_SID.pdf\")\n",
    "object = Samco(amc_id=\"58\", path=path)\n",
    "temp_dict = {}\n",
    "temp_dict.update(object.parse_page_zero([0]))\n",
    "temp_dict.update(object.parse_scheme_table_data(\"3,4,5\"))\n",
    "temp_dict.update(object._parse_fund_manager_info(\"14,15\"))\n",
    "data = object.refine_extracted_data(temp_dict)\n",
    "dfs = object.merge_and_select_data(data,sid_or_kim=\"sid\",special_func=False)"
   ]
  },
  {
   "cell_type": "code",
   "execution_count": null,
   "id": "4575a93c",
   "metadata": {},
   "outputs": [],
   "source": [
    "path = os.path.join(os.getcwd(),\"pdfs\",\"May SID\\\\Baroda BNP Paribas Mutual Fund\\\\2_17136_May-2025_1747367452_SID.pdf\")\n",
    "object = BarodaBNP(amc_id=\"2\", path=path)\n",
    "temp_dict = {}\n",
    "temp_dict.update(object.parse_page_zero([0]))\n",
    "temp_dict.update(object.parse_scheme_table_data(\"3,4,5,6\"))\n",
    "temp_dict.update(object._parse_fund_manager_info(\"13\"))\n",
    "data = object.refine_extracted_data(temp_dict)\n",
    "dfs = object.merge_and_select_data(data,sid_or_kim=\"sid\",special_func=False)"
   ]
  },
  {
   "cell_type": "code",
   "execution_count": null,
   "id": "d564e22c",
   "metadata": {},
   "outputs": [],
   "source": [
    "path = os.path.join(os.getcwd(),\"pdfs\",\"May SID\\\\Unifi Mutual Fund\\\\1747199772321.pdf\")\n",
    "object = Unifi(amc_id=\"97\", path=path)\n",
    "temp_dict = {}\n",
    "temp_dict.update(object.parse_page_zero([0]))\n",
    "temp_dict.update(object.parse_scheme_table_data(\"5,6,7,8,9,10\"))\n",
    "temp_dict.update(object._parse_fund_manager_info(\"26,27\"))\n",
    "data = object.refine_extracted_data(temp_dict)\n",
    "dfs = object.merge_and_select_data(data,sid_or_kim=\"sid\",special_func=False)"
   ]
  },
  {
   "cell_type": "code",
   "execution_count": null,
   "id": "da402d3d",
   "metadata": {},
   "outputs": [],
   "source": [
    "path = os.path.join(os.getcwd(),\"pdfs\",\"May SID\\\\Motilal Oswal Mutual Fund\\\\28_17164_May-2025_1748246608_SID.pdf\")\n",
    "object = MotilalOswal(amc_id=\"28\", path=path)\n",
    "temp_dict = {}\n",
    "temp_dict.update(object.parse_page_zero([0]))\n",
    "temp_dict.update(object.parse_scheme_table_data(\"4,5,6,7,8\"))\n",
    "temp_dict.update(object._parse_fund_manager_info(\"19,21,22\"))\n",
    "data = object.refine_extracted_data(temp_dict)\n",
    "dfs = object.merge_and_select_data(data,sid_or_kim=\"sid\",special_func=False)"
   ]
  },
  {
   "cell_type": "code",
   "execution_count": null,
   "id": "202053e7",
   "metadata": {},
   "outputs": [],
   "source": [
    "path = sid_fund_other[\"Nj Mutual Fund_B\"]\n",
    "object = NJMF(amc_id=\"57\", path=path)\n",
    "temp_dict = {}\n",
    "temp_dict.update(object.parse_page_zero(\"1\"))\n",
    "temp_dict.update(object.parse_scheme_table_data(\"3,4,5,6,7,8\"))\n",
    "temp_dict.update(object.parse_fund_manager_info(\"41\"))"
   ]
  },
  {
   "cell_type": "code",
   "execution_count": null,
   "id": "1130d4e1",
   "metadata": {},
   "outputs": [],
   "source": [
    "path = sid_fund_other[\"Invesco Mutual Fund\"]\n",
    "object = Invesco(amc_id=\"21\", path=path)\n",
    "temp_dict = {}\n",
    "temp_dict.update(object.parse_page_zero(\"1\"))\n",
    "temp_dict.update(object.parse_scheme_table_data(\"3,4,5,6,7\"))\n",
    "temp_dict.update(object.parse_fund_manager_info(\"12\"))"
   ]
  },
  {
   "cell_type": "code",
   "execution_count": null,
   "id": "7d472745",
   "metadata": {},
   "outputs": [],
   "source": [
    "path = sid_fund_other[\"Old Bridge Mutual Fund\"]\n",
    "object = OldBridge(amc_id=\"95\", path=path)\n",
    "temp_dict = {}\n",
    "temp_dict.update(object.parse_page_zero(\"1\"))\n",
    "temp_dict.update(object.parse_scheme_table_data(\"3,4,5,6\"))\n",
    "temp_dict.update(object.parse_fund_manager_info(\"30\"))"
   ]
  },
  {
   "cell_type": "code",
   "execution_count": null,
   "id": "209214c2",
   "metadata": {},
   "outputs": [],
   "source": [
    "path = sid_fund_other[\"Pgim India Mutual Fund\"]\n",
    "object = PGIM(amc_id=\"7\", path=path)\n",
    "temp_dict = {}\n",
    "temp_dict.update(object.parse_page_zero(\"1\"))\n",
    "temp_dict.update(object.parse_scheme_table_data(\"4,5,6,7,8\"))\n",
    "temp_dict.update(object.parse_fund_manager_info(\"16,17,18\"))"
   ]
  },
  {
   "cell_type": "code",
   "execution_count": null,
   "id": "07d6f985",
   "metadata": {},
   "outputs": [],
   "source": [
    "path = sid_fund_other[\"Ppfas Mutual Fund_B\"]\n",
    "object = PPFAS(amc_id=\"30\", path=path)\n",
    "temp_dict = {}\n",
    "temp_dict.update(object.parse_page_zero(\"1\"))\n",
    "temp_dict.update(object.parse_scheme_table_data(\"4-10\"))\n",
    "temp_dict.update(object.parse_fund_manager_info(\"52,53,54\"))"
   ]
  },
  {
   "cell_type": "code",
   "execution_count": null,
   "id": "8b4bbcd6",
   "metadata": {},
   "outputs": [],
   "source": [
    "path = sid_fund_other[\"Quantum Mutual Fund\"]\n",
    "object = Quantum(amc_id=\"32\", path=path)\n",
    "temp_dict = {}\n",
    "temp_dict.update(object.parse_page_zero(\"1\"))\n",
    "temp_dict.update(object.parse_scheme_table_data(\"4-7\"))\n",
    "temp_dict.update(object.parse_fund_manager_info(\"17\"))"
   ]
  },
  {
   "cell_type": "code",
   "execution_count": null,
   "id": "b9d2b9d2",
   "metadata": {},
   "outputs": [],
   "source": [
    "path = sid_fund_other[\"Shriram Mutual Fund\"]\n",
    "object = Shriram(amc_id=\"36\", path=path)\n",
    "temp_dict = {}\n",
    "temp_dict.update(object.parse_page_zero(\"1\"))\n",
    "temp_dict.update(object.parse_scheme_table_data(\"4-7\"))\n",
    "temp_dict.update(object.parse_fund_manager_info(\"23\"))"
   ]
  },
  {
   "cell_type": "code",
   "execution_count": null,
   "id": "765b90d5",
   "metadata": {},
   "outputs": [],
   "source": [
    "path = sid_fund_other[\"Sundaram Mutual Fund\"]\n",
    "object = Sundaram(amc_id=\"37\", path=path)\n",
    "temp_dict = {}\n",
    "temp_dict.update(object.parse_page_zero(\"1\"))\n",
    "temp_dict.update(object.parse_scheme_table_data(\"4-7\"))\n",
    "temp_dict.update(object.parse_fund_manager_info(\"69-70\"))"
   ]
  },
  {
   "cell_type": "code",
   "execution_count": null,
   "id": "5bd74d58",
   "metadata": {},
   "outputs": [],
   "source": [
    "path = sid_fund_other[\"Taurus Mutual Fund_B\"]\n",
    "object = Taurus(amc_id=\"39\", path=path)\n",
    "temp_dict = {}\n",
    "temp_dict.update(object.parse_page_zero(\"1\"))\n",
    "temp_dict.update(object.parse_scheme_table_data(\"4-10\"))\n",
    "temp_dict.update(object.parse_fund_manager_info(\"32\"))"
   ]
  },
  {
   "cell_type": "code",
   "execution_count": null,
   "id": "a64d0e41",
   "metadata": {},
   "outputs": [],
   "source": [
    "path = sid_fund_other[\"Trust Mutual Fund\"]\n",
    "object = Trust(amc_id=\"55\", path=path)\n",
    "temp_dict = {}\n",
    "temp_dict.update(object.parse_page_zero(\"1\"))\n",
    "temp_dict.update(object.parse_scheme_table_data(\"3-6\"))\n",
    "temp_dict.update(object.parse_fund_manager_info(\"16\"))"
   ]
  },
  {
   "cell_type": "code",
   "execution_count": 110,
   "id": "9bedfea5",
   "metadata": {},
   "outputs": [
    {
     "name": "stdout",
     "output_type": "stream",
     "text": [
      "Function Running: parse_page_zero\n",
      "Function Running: parse_scheme_table_data\n",
      "[COL START]: [2] _keys: ['Name of the scheme', 'Category of the Scheme', 'Scheme type', 'Scheme code', 'Investment objective']\n",
      "Function Running: parse_fund_manager_info\n",
      "[ROW START]: [1] _keys: ['Fund\\\\s*Manager', 'Brief\\\\s*Experience']\n"
     ]
    }
   ],
   "source": [
    "path = sid_fund_mar[\"360 One Mutual Fund\"]\n",
    "object = ThreeSixtyOne(amc_id=\"18\", path=path)\n",
    "temp_dict = {}\n",
    "temp_dict.update(object.parse_page_zero(\"1\"))\n",
    "temp_dict.update(object.parse_scheme_table_data(\"5-10\"))\n",
    "temp_dict.update(object.parse_fund_manager_info(\"16\"))"
   ]
  },
  {
   "cell_type": "code",
   "execution_count": 111,
   "id": "75df1d4a",
   "metadata": {},
   "outputs": [
    {
     "name": "stdout",
     "output_type": "stream",
     "text": [
      "Function Running: refine_data\n",
      "Function Running: merge_and_select_data\n",
      "Returning _load_ops -> Type Error\n"
     ]
    }
   ],
   "source": [
    "object = ThreeSixtyOne(amc_id=\"18\", path=path)\n",
    "data = object.refine_data(temp_dict)\n",
    "dfs = object.merge_and_select_data(data,sid_or_kim=\"sid\",special_func=False)\n",
    "with open(\"temp.json\",\"w+\") as file:\n",
    "    json.dump(temp_dict,file)\n",
    "with open(\"data.json\",\"w+\") as file:\n",
    "    json.dump(data,file)\n",
    "with open(\"dfs.json\",\"w+\") as file:\n",
    "    json.dump(dfs,file)"
   ]
  }
 ],
 "metadata": {
  "kernelspec": {
   "display_name": ".venv",
   "language": "python",
   "name": "python3"
  },
  "language_info": {
   "codemirror_mode": {
    "name": "ipython",
    "version": 3
   },
   "file_extension": ".py",
   "mimetype": "text/x-python",
   "name": "python",
   "nbconvert_exporter": "python",
   "pygments_lexer": "ipython3",
   "version": "3.13.1"
  }
 },
 "nbformat": 4,
 "nbformat_minor": 5
}
