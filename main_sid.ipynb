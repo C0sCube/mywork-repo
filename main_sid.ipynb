{
 "cells": [
  {
   "cell_type": "code",
   "execution_count": 1,
   "id": "5e1d5bb3",
   "metadata": {},
   "outputs": [
    {
     "name": "stdout",
     "output_type": "stream",
     "text": [
      "Loaded config with output_folder = SIDKIM\n"
     ]
    }
   ],
   "source": [
    "%load_ext autoreload\n",
    "%autoreload 2\n",
    "from app.config_loader import load_config_once\n",
    "conf = load_config_once(output_folder=\"SIDKIM\")\n",
    "import pdfplumber, camelot, pprint, json5,json, os, re\n",
    "import fitz #type: ignore\n",
    "import pandas as pd\n",
    "import numpy as np\n",
    "\n",
    "from app.fund_sid_data import *\n",
    "from app.utils import *\n",
    "\n",
    "with open(\"config\\\\sid_params.json5\",\"r+\") as file:\n",
    "    params = json5.load(file)\n",
    "\n",
    "# with open(\"config\\\\sid_params.json5\",\"r+\") as file:\n",
    "#     params = json5.dump(params,file)\n",
    "# | Tool      | Page Indexing | Example                  |\n",
    "# | --------- | ------------- | ------------------------ |\n",
    "# | `fitz`    | **0-based**   | `doc[0]` → first page    |\n",
    "# | `camelot` | **1-based**   | `pages=\"1\"` → first page |"
   ]
  },
  {
   "cell_type": "code",
   "execution_count": null,
   "id": "29b75459",
   "metadata": {},
   "outputs": [],
   "source": []
  },
  {
   "cell_type": "code",
   "execution_count": null,
   "id": "e88b1542",
   "metadata": {},
   "outputs": [],
   "source": [
    "path = r\"C:\\Users\\Kaustubh.keny\\Projects\\PDF\\SID\\Apr\"\n",
    "sid_fund_apr = Helper.get_pdf_paths(path)\n",
    "path = r\"C:\\Users\\Kaustubh.keny\\Projects\\PDF\\SID\\Mar\"\n",
    "sid_fund_mar = Helper.get_pdf_paths(path)\n",
    "path = r\"C:\\Users\\Kaustubh.keny\\Projects\\PDF\\SID\\Feb\"\n",
    "sid_fund_feb = Helper.get_pdf_paths(path)\n",
    "path = r\"C:\\Users\\Kaustubh.keny\\Projects\\PDF\\SID\\Jan\"\n",
    "sid_fund_jan = Helper.get_pdf_paths(path)\n",
    "path =  r\"C:\\Users\\Kaustubh.keny\\Projects\\PDF\\SID\\other\"\n",
    "sid_fund_other = Helper.get_pdf_paths(path)\n"
   ]
  },
  {
   "cell_type": "markdown",
   "id": "63d77eb5",
   "metadata": {},
   "source": [
    "SID"
   ]
  },
  {
   "cell_type": "code",
   "execution_count": null,
   "id": "09310609",
   "metadata": {},
   "outputs": [],
   "source": [
    "path = sid_fund_mar[\"Angel One Mututal Fund\"]\n",
    "object = AngelOne(amc_id=\"96\", path=path)\n",
    "temp_dict = {}\n",
    "temp_dict.update(object.parse_page_zero(\"1\"))\n",
    "temp_dict.update(object.parse_scheme_table_data(\"5,6,7,8\"))\n",
    "temp_dict.update(object.parse_fund_manager_info(\"14,15\"))"
   ]
  },
  {
   "cell_type": "code",
   "execution_count": null,
   "id": "afaca3d4",
   "metadata": {},
   "outputs": [],
   "source": [
    "path = sid_fund_apr[\"Dsp Mutual Fund_B\"]\n",
    "object = DSP(amc_id=\"8\", path=path)\n",
    "temp_dict = {}\n",
    "temp_dict.update(object.parse_page_zero(\"1\"))\n",
    "temp_dict.update(object.parse_scheme_table_data(\"5-9\"))\n",
    "temp_dict.update(object.parse_fund_manager_info(\"22\"))\n"
   ]
  },
  {
   "cell_type": "code",
   "execution_count": null,
   "id": "202053e7",
   "metadata": {},
   "outputs": [],
   "source": [
    "path = sid_fund_other[\"Nj Mutual Fund_B\"]\n",
    "object = NJMF(amc_id=\"57\", path=path)\n",
    "temp_dict = {}\n",
    "temp_dict.update(object.parse_page_zero(\"1\"))\n",
    "temp_dict.update(object.parse_scheme_table_data(\"3,4,5,6,7,8\"))\n",
    "temp_dict.update(object.parse_fund_manager_info(\"41\"))"
   ]
  },
  {
   "cell_type": "code",
   "execution_count": null,
   "id": "1130d4e1",
   "metadata": {},
   "outputs": [],
   "source": [
    "path = sid_fund_other[\"Invesco Mutual Fund\"]\n",
    "object = Invesco(amc_id=\"21\", path=path)\n",
    "temp_dict = {}\n",
    "temp_dict.update(object.parse_page_zero(\"1\"))\n",
    "temp_dict.update(object.parse_scheme_table_data(\"3,4,5,6,7\"))\n",
    "temp_dict.update(object.parse_fund_manager_info(\"12\"))"
   ]
  },
  {
   "cell_type": "code",
   "execution_count": null,
   "id": "7d472745",
   "metadata": {},
   "outputs": [],
   "source": [
    "path = sid_fund_other[\"Old Bridge Mutual Fund\"]\n",
    "object = OldBridge(amc_id=\"95\", path=path)\n",
    "temp_dict = {}\n",
    "temp_dict.update(object.parse_page_zero(\"1\"))\n",
    "temp_dict.update(object.parse_scheme_table_data(\"3,4,5,6\"))\n",
    "temp_dict.update(object.parse_fund_manager_info(\"30\"))"
   ]
  },
  {
   "cell_type": "code",
   "execution_count": null,
   "id": "209214c2",
   "metadata": {},
   "outputs": [],
   "source": [
    "path = sid_fund_other[\"Pgim India Mutual Fund\"]\n",
    "object = PGIM(amc_id=\"7\", path=path)\n",
    "temp_dict = {}\n",
    "temp_dict.update(object.parse_page_zero(\"1\"))\n",
    "temp_dict.update(object.parse_scheme_table_data(\"4,5,6,7,8\"))\n",
    "temp_dict.update(object.parse_fund_manager_info(\"16,17,18\"))"
   ]
  },
  {
   "cell_type": "code",
   "execution_count": null,
   "id": "07d6f985",
   "metadata": {},
   "outputs": [],
   "source": [
    "path = sid_fund_other[\"Ppfas Mutual Fund_B\"]\n",
    "object = PPFAS(amc_id=\"30\", path=path)\n",
    "temp_dict = {}\n",
    "temp_dict.update(object.parse_page_zero(\"1\"))\n",
    "temp_dict.update(object.parse_scheme_table_data(\"4-10\"))\n",
    "temp_dict.update(object.parse_fund_manager_info(\"52,53,54\"))"
   ]
  },
  {
   "cell_type": "code",
   "execution_count": null,
   "id": "8b4bbcd6",
   "metadata": {},
   "outputs": [],
   "source": [
    "path = sid_fund_other[\"Quantum Mutual Fund\"]\n",
    "object = Quantum(amc_id=\"32\", path=path)\n",
    "temp_dict = {}\n",
    "temp_dict.update(object.parse_page_zero(\"1\"))\n",
    "temp_dict.update(object.parse_scheme_table_data(\"4-7\"))\n",
    "temp_dict.update(object.parse_fund_manager_info(\"17\"))"
   ]
  },
  {
   "cell_type": "code",
   "execution_count": null,
   "id": "b9d2b9d2",
   "metadata": {},
   "outputs": [],
   "source": [
    "path = sid_fund_other[\"Shriram Mutual Fund\"]\n",
    "object = Shriram(amc_id=\"36\", path=path)\n",
    "temp_dict = {}\n",
    "temp_dict.update(object.parse_page_zero(\"1\"))\n",
    "temp_dict.update(object.parse_scheme_table_data(\"4-7\"))\n",
    "temp_dict.update(object.parse_fund_manager_info(\"23\"))"
   ]
  },
  {
   "cell_type": "code",
   "execution_count": null,
   "id": "765b90d5",
   "metadata": {},
   "outputs": [],
   "source": [
    "path = sid_fund_other[\"Sundaram Mutual Fund\"]\n",
    "object = Sundaram(amc_id=\"37\", path=path)\n",
    "temp_dict = {}\n",
    "temp_dict.update(object.parse_page_zero(\"1\"))\n",
    "temp_dict.update(object.parse_scheme_table_data(\"4-7\"))\n",
    "temp_dict.update(object.parse_fund_manager_info(\"69-70\"))"
   ]
  },
  {
   "cell_type": "code",
   "execution_count": null,
   "id": "5bd74d58",
   "metadata": {},
   "outputs": [],
   "source": [
    "path = sid_fund_other[\"Taurus Mutual Fund_B\"]\n",
    "object = Taurus(amc_id=\"39\", path=path)\n",
    "temp_dict = {}\n",
    "temp_dict.update(object.parse_page_zero(\"1\"))\n",
    "temp_dict.update(object.parse_scheme_table_data(\"4-10\"))\n",
    "temp_dict.update(object.parse_fund_manager_info(\"32\"))"
   ]
  },
  {
   "cell_type": "code",
   "execution_count": null,
   "id": "a64d0e41",
   "metadata": {},
   "outputs": [],
   "source": [
    "path = sid_fund_other[\"Trust Mutual Fund\"]\n",
    "object = Trust(amc_id=\"55\", path=path)\n",
    "temp_dict = {}\n",
    "temp_dict.update(object.parse_page_zero(\"1\"))\n",
    "temp_dict.update(object.parse_scheme_table_data(\"3-6\"))\n",
    "temp_dict.update(object.parse_fund_manager_info(\"16\"))"
   ]
  },
  {
   "cell_type": "code",
   "execution_count": null,
   "id": "cd954fef",
   "metadata": {},
   "outputs": [],
   "source": [
    "path = sid_fund_mar[\"Aditya Birla Sun Life Mutual Fund\"]\n",
    "object = AdityaBirla(amc_id=\"3\", path=path)\n",
    "temp_dict = {}\n",
    "temp_dict.update(object.parse_page_zero(\"1\"))\n",
    "temp_dict.update(object.parse_scheme_table_data(\"4-6\"))\n",
    "temp_dict.update(object.parse_fund_manager_info(\"12\"))"
   ]
  },
  {
   "cell_type": "code",
   "execution_count": null,
   "id": "82f9823a",
   "metadata": {},
   "outputs": [],
   "source": [
    "path = sid_fund_mar[\"Axis Mutual Fund\"]\n",
    "object = AXISMF(amc_id=\"1\", path=path)\n",
    "temp_dict = {}\n",
    "temp_dict.update(object.parse_page_zero(\"1\"))\n",
    "temp_dict.update(object.parse_scheme_table_data(\"6-9\"))\n",
    "temp_dict.update(object.parse_fund_manager_info(\"18\"))"
   ]
  },
  {
   "cell_type": "code",
   "execution_count": null,
   "id": "ab28e79b",
   "metadata": {},
   "outputs": [],
   "source": [
    "path = sid_fund_mar[\"Bandhan Mutual Fund\"]\n",
    "object = Bandhan(amc_id=\"16\", path=path)\n",
    "temp_dict = {}\n",
    "temp_dict.update(object.parse_page_zero(\"1\"))\n",
    "temp_dict.update(object.parse_scheme_table_data(\"3-6\"))\n",
    "temp_dict.update(object.parse_fund_manager_info(\"14\"))"
   ]
  },
  {
   "cell_type": "code",
   "execution_count": null,
   "id": "bad64c88",
   "metadata": {},
   "outputs": [],
   "source": [
    "path = sid_fund_mar[\"Edelweiss Mutual Fund\"]\n",
    "object = Edelweiss(amc_id=\"9\", path=path)\n",
    "temp_dict = {}\n",
    "temp_dict.update(object.parse_page_zero(\"1\"))\n",
    "temp_dict.update(object.parse_scheme_table_data(\"3-6\"))\n",
    "temp_dict.update(object.parse_fund_manager_info(\"16\"))"
   ]
  },
  {
   "cell_type": "code",
   "execution_count": null,
   "id": "00dc3aa3",
   "metadata": {},
   "outputs": [],
   "source": [
    "path = sid_fund_apr[\"Groww Mutual Fund\"]\n",
    "object = GROWW(amc_id=\"20\", path=path)\n",
    "temp_dict = {}\n",
    "temp_dict.update(object.parse_page_zero(\"1\"))\n",
    "temp_dict.update(object.parse_scheme_table_data(\"3-8\"))\n",
    "temp_dict.update(object.parse_fund_manager_info(\"27\"))"
   ]
  },
  {
   "cell_type": "code",
   "execution_count": null,
   "id": "211c2211",
   "metadata": {},
   "outputs": [],
   "source": [
    "path = sid_fund_apr[\"Hdfc Mutual Fund\"]\n",
    "object = HDFC(amc_id=\"12\", path=path)\n",
    "temp_dict = {}\n",
    "temp_dict.update(object.parse_page_zero(\"1\"))\n",
    "temp_dict.update(object.parse_scheme_table_data(\"5-7\"))\n",
    "temp_dict.update(object.parse_fund_manager_info(\"18\"))"
   ]
  },
  {
   "cell_type": "code",
   "execution_count": null,
   "id": "28538ae5",
   "metadata": {},
   "outputs": [],
   "source": [
    "path = sid_fund_apr[\"Icici Prudential Mutual Fund\"]\n",
    "object = ICICI(amc_id=\"14\", path=path)\n",
    "temp_dict = {}\n",
    "temp_dict.update(object.parse_page_zero(\"1\"))\n",
    "temp_dict.update(object.parse_scheme_table_data(\"3-7\"))\n",
    "temp_dict.update(object.parse_fund_manager_info(\"18-19\"))"
   ]
  },
  {
   "cell_type": "code",
   "execution_count": null,
   "id": "773342ba",
   "metadata": {},
   "outputs": [],
   "source": [
    "path = sid_fund_apr[\"Kotak Mahindra Mutual Fund\"]\n",
    "object = Kotak(amc_id=\"23\", path=path)\n",
    "temp_dict = {}\n",
    "temp_dict.update(object.parse_page_zero(\"1\"))\n",
    "temp_dict.update(object.parse_scheme_table_data(\"3-6\"))\n",
    "temp_dict.update(object.parse_fund_manager_info(\"14-16\"))"
   ]
  },
  {
   "cell_type": "code",
   "execution_count": null,
   "id": "62b3252b",
   "metadata": {},
   "outputs": [],
   "source": [
    "path = sid_fund_apr[\"Mirae Asset Mutual Fund\"]\n",
    "object = MIRAE(amc_id=\"27\", path=path)\n",
    "temp_dict = {}\n",
    "temp_dict.update(object.parse_page_zero(\"1\"))\n",
    "temp_dict.update(object.parse_scheme_table_data(\"6,8-10\"))\n",
    "temp_dict.update(object.parse_fund_manager_info(\"19\"))"
   ]
  },
  {
   "cell_type": "code",
   "execution_count": null,
   "id": "c157e8fb",
   "metadata": {},
   "outputs": [],
   "source": [
    "path = sid_fund_apr[\"Motilal Oswal Mutual Fund\"]\n",
    "object = MotilalOswal(amc_id=\"28\", path=path)\n",
    "temp_dict = {}\n",
    "temp_dict.update(object.parse_page_zero(\"1\"))\n",
    "temp_dict.update(object.parse_scheme_table_data(\"4-8\"))\n",
    "temp_dict.update(object.parse_fund_manager_info(\"18-24\"))"
   ]
  },
  {
   "cell_type": "code",
   "execution_count": null,
   "id": "527443f3",
   "metadata": {},
   "outputs": [],
   "source": [
    "path = sid_fund_apr[\"Nippon India Mutual Fund\"]\n",
    "object = Nippon(amc_id=\"33\", path=path)\n",
    "temp_dict = {}\n",
    "temp_dict.update(object.parse_page_zero(\"1\"))\n",
    "temp_dict.update(object.parse_scheme_table_data(\"4,6,7\"))\n",
    "temp_dict.update(object.parse_fund_manager_info(\"11\"))"
   ]
  },
  {
   "cell_type": "code",
   "execution_count": 87,
   "id": "c2132a1c",
   "metadata": {},
   "outputs": [
    {
     "name": "stdout",
     "output_type": "stream",
     "text": [
      "Function Running: parse_page_zero\n",
      "Function Running: parse_scheme_table_data\n",
      "[COL START]: [1] _keys: ['Name of the Scheme', 'Category of the Scheme', 'Scheme Type', 'Scheme Code', 'Investment Objective']\n",
      "Function Running: parse_fund_manager_info\n",
      "[ROW START]: [0] _keys: ['Age', 'qualification', 'experience']\n"
     ]
    }
   ],
   "source": [
    "path = sid_fund_apr[\"Uti Mutual Fund\"]\n",
    "object = UTI(amc_id=\"41\", path=path)\n",
    "temp_dict = {}\n",
    "temp_dict.update(object.parse_page_zero(\"1\"))\n",
    "temp_dict.update(object.parse_scheme_table_data(\"3-5\"))\n",
    "temp_dict.update(object.parse_fund_manager_info(\"25\"))"
   ]
  },
  {
   "cell_type": "code",
   "execution_count": 93,
   "id": "5d6378dc",
   "metadata": {},
   "outputs": [
    {
     "name": "stdout",
     "output_type": "stream",
     "text": [
      "Function Running: parse_page_zero\n",
      "Function Running: parse_scheme_table_data\n",
      "[COL START]: [1, 2] _keys: ['Name of the scheme', 'Category of the Scheme', 'Scheme type', 'Scheme code', 'Investment objective']\n",
      "Function Running: parse_fund_manager_info\n",
      "[ROW START]: [0] _keys: ['Name.+?Age', 'tenure', 'qualification']\n"
     ]
    }
   ],
   "source": [
    "path = sid_fund_mar[\"Quant Mutual Fund\"]\n",
    "object = QuantMF(amc_id=\"10\", path=path)\n",
    "temp_dict = {}\n",
    "temp_dict.update(object.parse_page_zero(\"1\"))\n",
    "temp_dict.update(object.parse_scheme_table_data(\"4-7\"))\n",
    "temp_dict.update(object.parse_fund_manager_info(\"19-21\"))"
   ]
  },
  {
   "cell_type": "code",
   "execution_count": 99,
   "id": "f0b87ce7",
   "metadata": {},
   "outputs": [
    {
     "name": "stdout",
     "output_type": "stream",
     "text": [
      "Function Running: parse_page_zero\n",
      "Function Running: parse_scheme_table_data\n",
      "[COL START]: [0] _keys: ['Name of the scheme', 'Category of the Scheme', 'Scheme type', 'Scheme code', 'Investment objective']\n",
      "Function Running: parse_fund_manager_info\n",
      "[ROW START]: [0] _keys: ['Name.+?Age', 'Qualification', 'Experience', 'Managed']\n"
     ]
    }
   ],
   "source": [
    "path = sid_fund_mar[\"Zerodha Mutual Fund\"]\n",
    "object = Zerodha(amc_id=\"71\", path=path)\n",
    "temp_dict = {}\n",
    "temp_dict.update(object.parse_page_zero(\"2\"))\n",
    "temp_dict.update(object.parse_scheme_table_data(\"7-11\"))\n",
    "temp_dict.update(object.parse_fund_manager_info(\"19\"))"
   ]
  },
  {
   "cell_type": "code",
   "execution_count": null,
   "id": "aeb4fd8b",
   "metadata": {},
   "outputs": [],
   "source": [
    "path = sid_fund_feb[\"Franklin Templeton Mutual Fund\"]\n",
    "object = FranklinTempleton(amc_id=\"11\", path=path)\n",
    "temp_dict = {}\n",
    "temp_dict.update(object.parse_page_zero(\"1\"))\n",
    "temp_dict.update(object.parse_scheme_table_data(\"4-6\"))\n",
    "temp_dict.update(object.parse_fund_manager_info(\"14\"))"
   ]
  },
  {
   "cell_type": "code",
   "execution_count": null,
   "id": "e89191bb",
   "metadata": {},
   "outputs": [],
   "source": [
    "path = sid_fund_feb[\"Helios Mutual Fund\"]\n",
    "object = Helios(amc_id=\"60\", path=path)\n",
    "temp_dict = {}\n",
    "temp_dict.update(object.parse_page_zero(\"1\"))\n",
    "temp_dict.update(object.parse_scheme_table_data(\"4-6\"))\n",
    "temp_dict.update(object.parse_fund_manager_info(\"14\"))"
   ]
  },
  {
   "cell_type": "code",
   "execution_count": null,
   "id": "4506f261",
   "metadata": {},
   "outputs": [],
   "source": [
    "path = sid_fund_feb[\"Navi Mutual Fund\"]\n",
    "object = NAVI(amc_id=\"56\", path=path)\n",
    "temp_dict = {}\n",
    "temp_dict.update(object.parse_page_zero(\"1\"))\n",
    "temp_dict.update(object.parse_scheme_table_data(\"4-7\"))\n",
    "temp_dict.update(object.parse_fund_manager_info(\"19-20\"))"
   ]
  },
  {
   "cell_type": "code",
   "execution_count": null,
   "id": "0515b6c5",
   "metadata": {},
   "outputs": [],
   "source": [
    "path = sid_fund_feb[\"Union Mutual Fund\"]\n",
    "object = Union(amc_id=\"40\", path=path)\n",
    "temp_dict = {}\n",
    "temp_dict.update(object.parse_page_zero(\"1\"))\n",
    "temp_dict.update(object.parse_scheme_table_data(\"4-7\"))\n",
    "temp_dict.update(object.parse_fund_manager_info(\"19-20\"))"
   ]
  },
  {
   "cell_type": "code",
   "execution_count": null,
   "id": "56eba401",
   "metadata": {},
   "outputs": [],
   "source": [
    "path = sid_fund_jan[\"Bajaj Finserv Mutual Fund\"]\n",
    "object = BajajFinServ(amc_id=\"59\", path=path)\n",
    "temp_dict = {}\n",
    "temp_dict.update(object.parse_page_zero(\"1\"))\n",
    "temp_dict.update(object.parse_scheme_table_data(\"5-10\"))\n",
    "temp_dict.update(object.parse_fund_manager_info(\"33-35\"))"
   ]
  },
  {
   "cell_type": "code",
   "execution_count": null,
   "id": "6a00a398",
   "metadata": {},
   "outputs": [],
   "source": [
    "path = sid_fund_jan[\"Hsbc Mutual Fund\"]\n",
    "object = HSBC(amc_id=\"13\", path=path)\n",
    "temp_dict = {}\n",
    "temp_dict.update(object.parse_page_zero(\"1\"))\n",
    "temp_dict.update(object.parse_scheme_table_data(\"4-6\"))\n",
    "temp_dict.update(object.parse_fund_manager_info(\"17\"))"
   ]
  },
  {
   "cell_type": "code",
   "execution_count": null,
   "id": "bc1a248c",
   "metadata": {},
   "outputs": [],
   "source": [
    "path = sid_fund_jan[\"Iti Mutual Fund\"]\n",
    "object = ITI(amc_id=\"51\", path=path)\n",
    "temp_dict = {}\n",
    "temp_dict.update(object.parse_page_zero(\"1\"))\n",
    "temp_dict.update(object.parse_scheme_table_data(\"3,4,6-8\"))\n",
    "temp_dict.update(object.parse_fund_manager_info(\"18\"))"
   ]
  },
  {
   "cell_type": "code",
   "execution_count": 28,
   "id": "c3ca6c07",
   "metadata": {},
   "outputs": [
    {
     "name": "stdout",
     "output_type": "stream",
     "text": [
      "Function Running: parse_page_zero\n",
      "Function Running: parse_scheme_table_data\n",
      "[COL START]: [1, 2] _keys: ['Name of the Scheme', 'Category of the Scheme', 'Scheme Type', 'Scheme Code', 'Investment Objective']\n",
      "Function Running: parse_fund_manager_info\n",
      "[ROW START]: [0, 1, 3, 4, 5] _keys: ['Age', 'qualification', 'experience', 'name\\\\s*of\\\\s*the\\\\s*fund']\n"
     ]
    }
   ],
   "source": [
    "path = sid_fund_jan[\"Union Mutual Fund\"]\n",
    "object = Union(amc_id=\"40\", path=path)\n",
    "temp_dict = {}\n",
    "temp_dict.update(object.parse_page_zero(\"1\"))\n",
    "temp_dict.update(object.parse_scheme_table_data(\"4-7\"))\n",
    "temp_dict.update(object.parse_fund_manager_info(\"23-24\"))"
   ]
  },
  {
   "cell_type": "code",
   "execution_count": null,
   "id": "f0a0c4a6",
   "metadata": {},
   "outputs": [],
   "source": [
    "path = sid_fund_jan[\"Lic Mutual Fund\"]\n",
    "object = LIC(amc_id=\"25\", path=path)\n",
    "temp_dict = {}\n",
    "temp_dict.update(object.parse_page_zero(\"1\"))\n",
    "temp_dict.update(object.parse_scheme_table_data(\"4-8\"))\n",
    "temp_dict.update(object.parse_fund_manager_info(\"25-27\"))"
   ]
  },
  {
   "cell_type": "code",
   "execution_count": null,
   "id": "6a15aadd",
   "metadata": {},
   "outputs": [],
   "source": [
    "sid1 = r\"C:\\Users\\Kaustubh.keny\\Projects\\PDF\\SID\\JioBlackRock\\98_17261_Jun-2025_1750929729_SID.pdf\"\n",
    "object = JioBlackRock(amc_id=\"98\", path=sid1)\n",
    "temp_dict = {}\n",
    "temp_dict.update(object.parse_page_zero(\"1\"))\n",
    "temp_dict.update(object.parse_scheme_table_data(\"5-7\"))\n",
    "temp_dict.update(object.parse_fund_manager_info(\"19-20\"))"
   ]
  },
  {
   "cell_type": "code",
   "execution_count": 7,
   "id": "75df1d4a",
   "metadata": {},
   "outputs": [
    {
     "name": "stdout",
     "output_type": "stream",
     "text": [
      "Function Running: refine_data\n",
      "Function Running: merge_and_select_data\n"
     ]
    }
   ],
   "source": [
    "# object = JioBlackRock(amc_id=\"98\", path=sid1)\n",
    "data = object.refine_data(temp_dict)\n",
    "dfs = object.merge_and_select_data(data,sid_or_kim=\"sid\",special_func=False)\n",
    "with open(\"temp.json\",\"w+\") as file:\n",
    "    json.dump(temp_dict,file)\n",
    "with open(\"data.json\",\"w+\") as file:\n",
    "    json.dump(data,file)\n",
    "with open(\"dfs.json\",\"w+\") as file:\n",
    "    json.dump(dfs,file)"
   ]
  }
 ],
 "metadata": {
  "kernelspec": {
   "display_name": ".venv",
   "language": "python",
   "name": "python3"
  },
  "language_info": {
   "codemirror_mode": {
    "name": "ipython",
    "version": 3
   },
   "file_extension": ".py",
   "mimetype": "text/x-python",
   "name": "python",
   "nbconvert_exporter": "python",
   "pygments_lexer": "ipython3",
   "version": "3.13.1"
  }
 },
 "nbformat": 4,
 "nbformat_minor": 5
}
