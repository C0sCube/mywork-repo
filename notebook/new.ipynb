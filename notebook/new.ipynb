{
 "cells": [
  {
   "cell_type": "code",
   "execution_count": 10,
   "metadata": {},
   "outputs": [],
   "source": [
    "import pdfplumber\n",
    "import fitz\n",
    "import camelot\n",
    "import warnings , math, collections , os\n",
    "import pickle\n",
    "import pandas as pd\n",
    "\n",
    "import pandas as pd\n",
    "warnings.filterwarnings(\"ignore\", category=UserWarning) \n",
    "\n",
    "#path = r\"C:\\Users\\rando\\OneDrive\\Documents\\mywork-repo\"\n",
    "path = r\"C:\\Users\\Kaustubh.keny\\OneDrive - Cogencis Information Services Ltd\\Documents\\mywork-repo\"\n",
    "\n",
    "\n",
    "#file data paths\n",
    "samco_path = r\"\\files\\SamcoFactSheet2024.pdf\"\n",
    "tata_path = r\"\\files\\TataFactSheet2024.pdf\"\n"
   ]
  }
 ],
 "metadata": {
  "kernelspec": {
   "display_name": "venv",
   "language": "python",
   "name": "python3"
  },
  "language_info": {
   "codemirror_mode": {
    "name": "ipython",
    "version": 3
   },
   "file_extension": ".py",
   "mimetype": "text/x-python",
   "name": "python",
   "nbconvert_exporter": "python",
   "pygments_lexer": "ipython3",
   "version": "3.13.1"
  }
 },
 "nbformat": 4,
 "nbformat_minor": 2
}
