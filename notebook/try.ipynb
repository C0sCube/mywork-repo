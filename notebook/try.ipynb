{
 "cells": [
  {
   "cell_type": "code",
   "execution_count": 2,
   "metadata": {},
   "outputs": [],
   "source": [
    "import pprint, json, math, os, sys\n",
    "import fitz\n",
    "import pandas as pd\n",
    "from collections import defaultdict\n",
    "import pdfminer\n",
    "\n",
    "dir_path = r\"C:\\Users\\Kaustubh.keny\\OneDrive - Cogencis Information Services Ltd\\Documents\\mywork-repo\"\n",
    "fund_path = r\"C:\\Users\\Kaustubh.keny\\OneDrive - Cogencis Information Services Ltd\\Documents\\Dec 24\"\n",
    "sys.path.append(os.path.abspath(dir_path))\n",
    "\n",
    "from app.fundData import *\n",
    "from app.helper import Helper\n",
    "\n",
    "\n",
    "dry_path = r'\\data\\output\\DryRun.pdf'\n",
    "fin_path = r'\\data\\input\\financial_indices.xlsx'\n",
    "\n",
    "\n",
    "mutual_fund = Helper.get_fund_paths(fund_path)"
   ]
  },
  {
   "cell_type": "code",
   "execution_count": 1,
   "metadata": {},
   "outputs": [],
   "source": [
    "def extract_data_relative_line(path: str, line_x: float, side: str):\n",
    "    doc = fitz.open(path)\n",
    "    pages = doc.page_count\n",
    "\n",
    "    final_list = []\n",
    "\n",
    "    for pgn in range(pages):\n",
    "        page = doc[pgn]\n",
    "\n",
    "        blocks = page.get_text(\"dict\")[\"blocks\"]\n",
    "        sorted_blocks = sorted(blocks, key=lambda x: (x[\"bbox\"][1], x[\"bbox\"][0]))\n",
    "        extracted_blocks = []\n",
    "\n",
    "        # Keep track of blocks to avoid duplicates\n",
    "        added_blocks = set()\n",
    "\n",
    "        for block in sorted_blocks:\n",
    "            block_id = id(block)  # Unique identifier for the block\n",
    "\n",
    "            for line in block.get(\"lines\", []):\n",
    "                for span in line.get(\"spans\", []):\n",
    "                    origin = span[\"origin\"]\n",
    "                    x0, _ = origin\n",
    "\n",
    "                    # Check the side condition\n",
    "                    if side == \"left\" and x0 < line_x and block_id not in added_blocks:\n",
    "                        extracted_blocks.append(block)\n",
    "                        added_blocks.add(block_id)  # Mark block as added\n",
    "                    elif side == \"right\" and x0 > line_x and block_id not in added_blocks:\n",
    "                        extracted_blocks.append(block)\n",
    "                        added_blocks.add(block_id)  # Mark block as added\n",
    "\n",
    "      \n",
    "        final_list.append({\n",
    "            \"pgn\": pgn,\n",
    "            \"blocks\": extracted_blocks\n",
    "        })\n",
    "\n",
    "    doc.close()\n",
    "\n",
    "    return final_list\n",
    "\n",
    "def extract_spans(data):\n",
    "    final_span = []\n",
    "    for pgn,blocks in enumerate(data):\n",
    "        spans = []\n",
    "        print(f\"___{pgn}___\")\n",
    "        for num,block in enumerate(blocks.get('blocks',[])):\n",
    "            for line in block.get(\"lines\", []):\n",
    "                for span in line.get(\"spans\", []):\n",
    "                    if num in range(3,10):\n",
    "                        print(span['text'], span['size'])\n",
    "        final_span.append(spans)\n",
    "    return final_span\n",
    "\n",
    "def get_proper_fund_names(path:str,pages:list):\n",
    "        \n",
    "        doc = fitz.open(path)\n",
    "        final_fund_names = dict()\n",
    "        \n",
    "        for pgn in range(doc.page_count):\n",
    "            fund_names = ''\n",
    "            if pgn in pages:\n",
    "                page = doc[pgn]            \n",
    "                blocks = page.get_text(\"dict\")['blocks']\n",
    "                \n",
    "                sorted_blocks = sorted(blocks,key=lambda k:(k['bbox'][1],k['bbox'][0]))\n",
    "                for count,block in enumerate(sorted_blocks):\n",
    "                    for line in block.get(\"lines\", []):\n",
    "                        for span in line.get(\"spans\", []):\n",
    "                            text = span['text'].strip()\n",
    "                            if count in range(0,2): #contains fund name        \n",
    "                                fund_names += f'{text} '\n",
    "            if matches:= re.search(r'\\bMahindra.*?(Fund|ETF|EOF|FOF|FTF|Path)\\b', fund_names, re.IGNORECASE):           \n",
    "                final_fund_names[pgn] = matches.group()\n",
    "            else:\n",
    "                final_fund_names[pgn] = ''\n",
    "\n",
    "        return final_fund_names"
   ]
  },
  {
   "cell_type": "code",
   "execution_count": 3,
   "metadata": {},
   "outputs": [
    {
     "name": "stdout",
     "output_type": "stream",
     "text": [
      "Modified PDF saved to: C:\\Users\\Kaustubh.keny\\OneDrive - Cogencis Information Services Ltd\\Documents\\mywork-repo\\data\\output\\DryRun.pdf\n"
     ]
    }
   ],
   "source": [
    "# Lines to be drawn (start and end points)\n",
    "lines = [\n",
    "    ((240, 0), (240, 812)),# Vertical line\n",
    "    #((420, 0), (420, 1000))\n",
    "]\n",
    "\n",
    "rectangles = [(0, 80, 250, 812)]\n",
    "\n",
    "sample_path  = mutual_fund['Helios Mutual Fund']\n",
    "pages = [i for i in range(1,55)]\n",
    "Helper.draw_lines_on_pdf(sample_path, lines, rectangles, pages, dir_path +dry_path)\n",
    "data = Helper.get_all_pdf_data(sample_path)"
   ]
  },
  {
   "cell_type": "code",
   "execution_count": 4,
   "metadata": {},
   "outputs": [
    {
     "name": "stdout",
     "output_type": "stream",
     "text": [
      "[{'CreationDate': b\"D:20250108125616+05'30'\", 'Creator': b'Adobe Illustrator 25.4 (Windows)', 'Title': b'', 'Producer': b'iLovePDF', 'ModDate': b'D:20250108072910Z'}]\n"
     ]
    }
   ],
   "source": [
    "from pdfminer.pdfparser import PDFParser\n",
    "from pdfminer.pdfdocument import PDFDocument\n",
    "\n",
    "\n",
    "fp = open(sample_path, 'rb')\n",
    "parser = PDFParser(fp)\n",
    "doc = PDFDocument(parser)\n",
    "\n",
    "print(doc.info)"
   ]
  }
 ],
 "metadata": {
  "kernelspec": {
   "display_name": "venv",
   "language": "python",
   "name": "python3"
  },
  "language_info": {
   "codemirror_mode": {
    "name": "ipython",
    "version": 3
   },
   "file_extension": ".py",
   "mimetype": "text/x-python",
   "name": "python",
   "nbconvert_exporter": "python",
   "pygments_lexer": "ipython3",
   "version": "3.13.1"
  }
 },
 "nbformat": 4,
 "nbformat_minor": 2
}
