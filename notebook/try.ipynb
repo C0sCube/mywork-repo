{
 "cells": [
  {
   "cell_type": "code",
   "execution_count": 2,
   "metadata": {},
   "outputs": [],
   "source": [
    "import pdfplumber\n",
    "import fitz\n",
    "import warnings , math, collections , os, re\n",
    "import pickle\n",
    "import numpy as np\n",
    "import pandas as pd\n",
    "import PyPDF2\n",
    "from pdf_parse import Reader\n",
    "\n",
    "warnings.filterwarnings(\"ignore\", category=UserWarning) "
   ]
  },
  {
   "cell_type": "code",
   "execution_count": 5,
   "metadata": {},
   "outputs": [],
   "source": [
    "path = r\"C:\\Users\\Kaustubh.keny\\OneDrive - Cogencis Information Services Ltd\\Documents\\mywork-repo\"\n",
    "#path = r\"C:\\Users\\rando\\OneDrive\\Documents\\mywork-repo\"\n",
    "filename = r\"\\files\\TataFactSheet2024.pdf\"\n",
    "dry_run = r'\\output\\DryRun.pdf'"
   ]
  },
  {
   "cell_type": "code",
   "execution_count": 6,
   "metadata": {},
   "outputs": [],
   "source": [
    "_reader = Reader(path)"
   ]
  },
  {
   "cell_type": "code",
   "execution_count": 52,
   "metadata": {},
   "outputs": [],
   "source": [
    "file_path = _reader.get_file_path(r'\\files\\bandhan_factsheet.pdf')\n",
    "doc = fitz.open(file_path)\n",
    "dry_path  = _reader.get_file_path(dry_run)\n",
    "\n",
    "count = doc.page_count\n",
    "all_blocks = list()\n",
    "\n",
    "for pgn in range(count):\n",
    "    page = doc[pgn]\n",
    "    \n",
    "    blocks = page.get_text('dict')['blocks']\n",
    "    images = page.get_images()\n",
    "    filtered_blocks = [block for block in blocks if block['type']==0]\n",
    "    sorted_blocks = sorted(filtered_blocks, key=lambda x: x['bbox'][1])\n",
    "    all_blocks.append({\n",
    "        \"pgn\":pgn,\n",
    "        \"blocks\":sorted_blocks,\n",
    "        \"images\": images\n",
    "    })\n",
    "    \n",
    "    #draw lines\n",
    "    \n",
    "    lines = fitz.Rect()\n",
    "    \n",
    "doc.close()"
   ]
  },
  {
   "cell_type": "code",
   "execution_count": null,
   "metadata": {},
   "outputs": [
    {
     "name": "stdout",
     "output_type": "stream",
     "text": [
      "Modified PDF saved to: C:\\Users\\Kaustubh.keny\\OneDrive - Cogencis Information Services Ltd\\Documents\\mywork-repo\\output\\DryRun.pdf\n"
     ]
    }
   ],
   "source": [
    "import fitz\n",
    "\n",
    "def draw_lines_on_pdf(pdf_path: str, lines: list, pages:list,output_path: str):\n",
    "    doc = fitz.open(pdf_path)\n",
    "    \n",
    "    \n",
    "    for page_number, page in enumerate(doc, start=1):\n",
    "        \n",
    "        if page_number in pages:\n",
    "            # Start drawing on the page\n",
    "            for line in lines:\n",
    "                start, end = line\n",
    "                x1, y1 = start\n",
    "                x2, y2 = end\n",
    "                page.draw_line((x1, y1), (x2, y2))\n",
    "        \n",
    "\n",
    "\n",
    "    doc.save(output_path)\n",
    "    print(f\"Modified PDF saved to: {output_path}\")\n",
    "\n",
    "\n",
    "# Lines to be drawn (start and end points)\n",
    "lines = [\n",
    "    ((180, 0), (180, 1000)),# Vertical line\n",
    "    #((420, 0), (420, 1000))\n",
    "]\n",
    "\n",
    "sample_path  = r\"C:\\Users\\Kaustubh.keny\\OneDrive - Cogencis Information Services Ltd\\Documents\\Dec 24\\Edelweiss Mutual Fund\\9_31-Dec-24_FS.pdf\"\n",
    "draw_lines_on_pdf(sample_path, lines,[i for i in range(20,70,1)], dry_path)\n"
   ]
  },
  {
   "cell_type": "code",
   "execution_count": 49,
   "metadata": {},
   "outputs": [],
   "source": [
    "#bajaj finserv\n",
    "# lines = [\n",
    "#     ((180, 60), (180, 1000)),\n",
    "#     ((360,60),(360,1000))# Vertical line\n",
    "# ]"
   ]
  },
  {
   "cell_type": "code",
   "execution_count": null,
   "metadata": {},
   "outputs": [],
   "source": []
  }
 ],
 "metadata": {
  "kernelspec": {
   "display_name": "venv",
   "language": "python",
   "name": "python3"
  },
  "language_info": {
   "codemirror_mode": {
    "name": "ipython",
    "version": 3
   },
   "file_extension": ".py",
   "mimetype": "text/x-python",
   "name": "python",
   "nbconvert_exporter": "python",
   "pygments_lexer": "ipython3",
   "version": "3.13.1"
  }
 },
 "nbformat": 4,
 "nbformat_minor": 2
}
