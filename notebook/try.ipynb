{
 "cells": [
  {
   "cell_type": "code",
   "execution_count": null,
   "metadata": {},
   "outputs": [],
   "source": [
    "import PyPDF2\n",
    "import re\n",
    " \n",
    "#path = r\"C:\\Users\\Kaustubh.keny\\OneDrive - Cogencis Information Services Ltd\\Documents\\mywork-repo\"\n",
    "path = r\"C:\\Users\\rando\\OneDrive\\Documents\\mywork-repo\"\n",
    "filename = r\"\\files\\factsheet-march-2022.pdf\"\n",
    " \n",
    "read_file = PyPDF2.PdfReader(samco_path)\n",
    " \n",
    "num_pages = len(read_file.pages)\n",
    "data_all = []\n",
    " \n",
    "i = 1\n",
    "for i in range(num_pages):\n",
    "    files = read_file.pages[i]\n",
    "    data = files.extract_text()\n",
    "    i += 1\n",
    "    print(f\"page number : {i}\")\n",
    "    data_all.append(data)\n",
    " "
   ]
  },
  {
   "cell_type": "code",
   "execution_count": null,
   "metadata": {},
   "outputs": [],
   "source": [
    "import pprint\n",
    "pprint.pprint(data_all[12])"
   ]
  }
 ],
 "metadata": {
  "kernelspec": {
   "display_name": "envPDF",
   "language": "python",
   "name": "python3"
  },
  "language_info": {
   "name": "python",
   "version": "3.13.1"
  }
 },
 "nbformat": 4,
 "nbformat_minor": 2
}
