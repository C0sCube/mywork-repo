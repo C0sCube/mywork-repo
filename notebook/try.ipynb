{
 "cells": [
  {
   "cell_type": "code",
   "execution_count": null,
   "metadata": {
    "id": "fBSygfUrKcB8"
   },
   "outputs": [],
   "source": [
    "from PyPDF2 import PdfReader\n",
    "import fitz\n",
    "import pdfplumber\n",
    "import pandas, numpy"
   ]
  },
  {
   "cell_type": "code",
   "execution_count": null,
   "metadata": {
    "id": "9akfrMDoI3w2"
   },
   "outputs": [],
   "source": [
    "file_path = r\"/content/drive/MyDrive/data-sci/data-projects/pdf-extractor/data/\""
   ]
  },
  {
   "cell_type": "code",
   "execution_count": null,
   "metadata": {
    "colab": {
     "base_uri": "https://localhost:8080/"
    },
    "executionInfo": {
     "elapsed": 583,
     "status": "ok",
     "timestamp": 1735204648734,
     "user": {
      "displayName": "Kaustubh Keny",
      "userId": "13583442549293815550"
     },
     "user_tz": -330
    },
    "id": "2T1imcHlu2WY",
    "outputId": "d7fc3491-290d-4edc-8442-1ae859d82051"
   },
   "outputs": [
    {
     "name": "stdout",
     "output_type": "stream",
     "text": [
      "/content/drive/MyDrive/data-sci/data-projects/pdf-extractor/data/scanned-pdf/fact_sheet_all_data.pdf\n"
     ]
    }
   ],
   "source": [
    "file_name = r\"scanned-pdf/fact_sheet_all_data.pdf\"\n",
    "\n",
    "final_path = file_path + file_name\n",
    "print(final_path)"
   ]
  },
  {
   "cell_type": "code",
   "execution_count": null,
   "metadata": {
    "colab": {
     "base_uri": "https://localhost:8080/",
     "height": 321
    },
    "collapsed": true,
    "executionInfo": {
     "elapsed": 1036,
     "status": "error",
     "timestamp": 1735204651717,
     "user": {
      "displayName": "Kaustubh Keny",
      "userId": "13583442549293815550"
     },
     "user_tz": -330
    },
    "id": "2HiOg5_DxpU1",
    "outputId": "7f465f35-02a1-4927-8d6b-0f47ab7fdf7f"
   },
   "outputs": [],
   "source": [
    "def get_single_page(final_path):\n",
    "  pdf_doc = fitz.open(final_path)\n",
    "  page = pdf_doc[2]\n",
    "  page = get_page_content(page)\n",
    "  print(page)\n",
    "\n",
    "get_single_page(final_path)"
   ]
  },
  {
   "cell_type": "code",
   "execution_count": null,
   "metadata": {
    "id": "6s3v6d300FLM"
   },
   "outputs": [],
   "source": [
    "# def get_text_from_pdf(final_path):\n",
    "#     text = \"\"\n",
    "#     with open(file_path, 'rb') as file:\n",
    "#         reader = PyPDF2.PdfReader(file)\n",
    "#         num_pages = len(reader.pages)\n",
    "#         print(num_pages);\n",
    "#         for page_num in range(num_pages):\n",
    "#             page = reader.pages[page_num]\n",
    "#             text += page.extract_text()\n",
    "#     #print(text)\n",
    "#     return text\n",
    "\n",
    "\n",
    "# document -> page -> block -> line -> span"
   ]
  },
  {
   "cell_type": "code",
   "execution_count": null,
   "metadata": {
    "id": "ljwSzan-KQyZ"
   },
   "outputs": [],
   "source": [
    "def parse_document(file_path):\n",
    "    document = {}\n",
    "\n",
    "    pdf_doc = fitz.open(file_path)\n",
    "    total_pages = len(pdf_doc)\n",
    "\n",
    "    for page_number in range(total_pages):\n",
    "        page = pdf_doc[page_number]\n",
    "        parsed_content = get_page_content(page)\n",
    "        document[f\"page{page_number + 1}\"] = parsed_content\n",
    "\n",
    "    return document\n",
    "\n",
    "\n",
    "def get_page_content(page):\n",
    "    block_content = {\"header\": [], \"content\": {}}\n",
    "    block_size = {}\n",
    "\n",
    "    # Obtain each block in the paragraph\n",
    "    blocks = page.get_text(\"dict\")[\"blocks\"]\n",
    "    total_blocks = len(blocks)\n",
    "\n",
    "    for block_index in range(total_blocks):\n",
    "        block = blocks[block_index]\n",
    "        text_font_size = []\n",
    "\n",
    "        if \"lines\" in block:\n",
    "            for line in block[\"lines\"]:\n",
    "                for span in line[\"spans\"]:\n",
    "                    text_font_size.append((span[\"text\"], span[\"size\"], span[\"font\"]))\n",
    "\n",
    "        # Organize content based on font size\n",
    "        header_text = []\n",
    "        paragraph_text = []\n",
    "        for text, size, font in text_font_size:\n",
    "            if size == 12:\n",
    "                paragraph_text.append(text)\n",
    "            else:\n",
    "                header_text.append(text)\n",
    "\n",
    "        # Process header and content separately\n",
    "        if header_text:\n",
    "            block_content[\"header\"].append(\" \".join(header_text))  # Combine header text\n",
    "        if paragraph_text:\n",
    "            block_content[\"content\"][f\"p{block_index + 1}\"] = \" \".join(paragraph_text)  # Combine paragraph text\n",
    "\n",
    "    return block_content\n"
   ]
  },
  {
   "cell_type": "code",
   "execution_count": null,
   "metadata": {
    "colab": {
     "base_uri": "https://localhost:8080/"
    },
    "executionInfo": {
     "elapsed": 518,
     "status": "ok",
     "timestamp": 1735204670544,
     "user": {
      "displayName": "Kaustubh Keny",
      "userId": "13583442549293815550"
     },
     "user_tz": -330
    },
    "id": "ib3YJeSHL-iG",
    "outputId": "3295ee8d-228b-4844-c4d7-f1a2a517c326"
   },
   "outputs": [
    {
     "name": "stdout",
     "output_type": "stream",
     "text": [
      "{'header': ['6', 'The Macro picture', 'November 2024 October 2024', 'Index Name Return in % As on', '29-Nov-24 31-Oct-24 30-Nov-23 1 Month 1 Year Index Name Return in % As on', '29-Nov-24 31-Oct-24 30-Nov-23 1 Month 1 Year', 'www.tatamutualfund.com TATA MUTUAL FUND', 'MARKET OUTLOOK', 'Equity market', '', 'Disclaimer:  The views expressed are in no way trying to predict the markets or to time them. The views expressed are for information purpose only and do not construe to be any investment, legal or taxation advice.  Please consult your Financial/Investment Adviser before investing.  The views expressed may not reflect in the scheme portfolios of Tata Mutual Fund. This note has been prepared using information believed to be  accurate at the time of its use.', 'BSE-30 and Nifty-50 indices consolidated for the month of November 2024 post a sharp correction in the previous month. Mid-cap and Small Cap indices also performed inline with large caps. On the sectoral Capital Goods, IT, Banks,  Consumer Durables and Real Estate were the sectors which outperformed the benchmark index.', 'The month of November 2024 started weak with some recovery at the end of the month. Most conversation is around the extent of recovery likely to be seen in the 2HFY25 post a weak Q2FY25 for corporate earnings. FII selling remained  high at US$2.5bn.', 'Inflation:  India’s Wholesale Price Inflation (WPI) Index came in at 2.36% YoY during the current month as compared to 1.84% for the previous month on account of stable fuel, higher food and lower commodity prices.', 'Headline CPI inflation for October spiked to 6.21% YoY, primarily due to sequential rise in food inflation (2.6% MoM), particularly in vegetables, with oils & fats, eggs, cereals, and fruits seeing significant momentum. Core inflation also  moved higher to 3.8% YoY, mainly due to sustained gold price momentum. November CPI is tracking ~5.4-5.5% with some pullback in food prices so far. Select economists expect core inflation averaging ~3.6% in FY25E and  remaining below 4% till end-CY24, FY25 headline inflation is now estimated at ~4.9%, slightly higher than the RBI’s forecast of 4.5%.', 'India’s real GDP (at market prices) grew by 5.4% YoY in the September-24 quarter (Q2FY25) and by 6.7% YoY in Q1FY25. FY24 GDP growth stood at 8.2% ahead of the estimated 7.6% for the year. Capital formation growth stood at  5.9% for Q2FY25 and 9% for the full year FY24. Going forward, consensus estimates have been brought down towards a range between growth of 6.0%-6.5% GDP growth for FY25.', 'Other macro developments (fiscal deficit and household savings)', 'India’s Q1FY25 current account balance registered a deficit of US$9.7bn (1.1 of GDP) compared to a surplus of US$ 6bn (0.6% of GDP) for Q4FY24. The deficit represents higher gold imports which are likely to normalise going ahead.', 'India’s fiscal deficit came much lower than forecasted at 5.6% for FY24 on account of lower revenue expenditure. The government has announced a path to reduce fiscal deficit to 4.9% for FY25 (revised lower from 5.1% earlier) and  below 4.5% in FY26.', 'FY23 net household financial savings rate stood at 5.1% of GDP (7.2% for FY22). The same ratio had moved higher during the pandemic period to 12% in FY21 compared to 7.7% in FY20.', 'Market Outlook', 'Our monthly outlook for previous month ie October 2024 talked of corporate earnings being on the weaker side on the back of government capital expenditure being down by 15% for the 1HFY25 compared to 1HFY24 due to general  elections along with strong monsoon and effects of past tight monetary policy.', 'Q2FY25 GDP growth came to 5.4%, lower than economists estimates of >6%. Media and various economists are highlighting that growth is lower and both the government and the RBI need to boost growth through capex pickup and  a dovish monetary policy, specially liquidity. We are of the opinion that government capital expenditure is likely to pick up quite well in the 2HFY25 leading to better economic growth for the full year. Infact, as per latest fiscal deficit data  released, the Central government has preponed transfer of US$9.5bn to state governments in order to make capital available to boost capex. This amount will be adjusted by end of the year. This is a very good move and highlights the  intent of the government to balance growth for the year.', 'We in our portfolios are focused on companies which can grow earnings at a fast pace and most importantly balance sheets/cash flow being on the positive side with less leverage.', 'Long-term structural drivers like demographic advantage, low household debt, limited penetration across different consumer categories, increased potential for financial savings and urbanization makes India a compelling equity story  from medium to long term perspective.', 'We believe investors would be well advised to invest with medium to long term perspective and systematically increase exposure to Indian equity markets.'], 'content': {'p4': 'Source:  RBI, Bloomberg', 'p28': 'Nifty 50  24131  24205  20133  -0.3  19.9 S&P BSE Sensex  79803  79389  66988  0.5  19.1 S&P BSE MID CAP  46071  45967  34256  0.2  34.5 S&P BSE SMALL CAP  55200  54983  40372  0.4  36.7 S&P BSE 200  11123  11121  8905  0.0  24.9 S&P BSE AUTO  52898  53540  40053  -1.2  32.1 S&P BSE Bankex  59298  58664  50293  1.1  17.9 S&P BSE Consumer Durable  62469  60656  47120  3.0  32.6 S&P BSE Capital Good  70700  69106  49990  2.3  41.4 S&P BSE FMCG  21213  21663  19157  -2.1  10.7 S&P BSE Health Care  43666  43915  30375  -0.6  43.8 S&P BSE IT  42783  40428  33227  5.8  28.8 S&P BSE METAL  30537  31280  24240  -2.4  26.0 S&P BSE Oil & Gas  26813  27458  20551  -2.3  30.5 S&P BSE Power Index  7490  7829  4921  -4.3  52.2 S&P BSE Realty  7960  7809  5657  1.9  40.7', 'p29': 'Nifty 200  13627  13618  10887  0.1  25.2 Nifty 50  24131  24205  20133  -0.3  19.9 Nifty Auto  23369  23515  17552  -0.6  33.1 Nifty Bank  52056  51475  44482  1.1  17.0 Nifty Commodities  8537  8888  6856  -4.0  24.5 Nifty Energy  37482  39302  29295  -4.6  27.9 Nifty Financial Services  24010  23887  20055  0.5  19.7 Nifty FMCG  57944  59203  53014  -2.1  9.3 Nifty India Consumption  11447  11481  8987  -0.3  27.4 Nifty Infrastructure  8734  8823  6586  -1.0  32.6 Nifty IT  43146  40408  32582  6.8  32.4 Nifty Metal  9034  9327  7017  -3.1  28.7 Nifty Midcap 100  56393  56113  42909  0.5  31.4 Nifty Pharma  22240  22736  16239  -2.2  37.0 Nifty Realty  1020  1000  714  2.1  43.0 Nifty Smallcap 100  18651  18603  14171  0.3  31.6', 'p30': 'WPI  2.36% (October 2024)  1.84% (September 2024) CPI   6.21% (October 2024)  5.49% (September 2024) Index of Industrial Production  3.09% (September 2024)  -0.14% (August 2024) Repo rate  6.50% (as on November 30, 2024)  6.50% (as on October 31, 2024) Marginal Standing Facility Rate  6.75% (as on November 30, 2024)  6.75% (as on October 31, 2024)'}}\n"
     ]
    }
   ],
   "source": [
    "final_data = get_content(final_path)\n",
    "\n",
    "print(final_data[\"page1\"])"
   ]
  },
  {
   "cell_type": "code",
   "execution_count": null,
   "metadata": {
    "id": "OmX0soIkuhCP"
   },
   "outputs": [],
   "source": [
    "def get_content(file_path):\n",
    "    document = {}\n",
    "    pdf_doc = fitz.open(file_path)\n",
    "    total_pages = len(pdf_doc)\n",
    "\n",
    "    for page_number in range(total_pages):\n",
    "        page = pdf_doc[page_number]\n",
    "        page_content = parse_page(page)\n",
    "        document[f\"page{page_number + 1}\"] = page_content\n",
    "\n",
    "    return document\n",
    "\n",
    "\n",
    "def parse_page(page):\n",
    "    block_data = {\"header\": [], \"content\": {}}\n",
    "    blocks = page.get_text(\"dict\")[\"blocks\"]\n",
    "\n",
    "    # Identify most common font size (likely body text)\n",
    "    font_sizes = []\n",
    "    for block in blocks:\n",
    "        if \"lines\" in block:\n",
    "            for line in block[\"lines\"]:\n",
    "                for span in line[\"spans\"]:\n",
    "                    font_sizes.append(span[\"size\"])\n",
    "    most_common_font_size = max(set(font_sizes), key=font_sizes.count)\n",
    "\n",
    "    # Process each block\n",
    "    for block_index, block in enumerate(blocks):\n",
    "        if \"lines\" in block:\n",
    "            block_text, is_header = process_block(block, most_common_font_size)\n",
    "            if is_header:\n",
    "                block_data[\"header\"].append(block_text)\n",
    "            else:\n",
    "                block_data[\"content\"][f\"p{block_index + 1}\"] = block_text\n",
    "\n",
    "    return block_data\n",
    "\n",
    "\n",
    "def process_block(block, common_font_size):\n",
    "    text_content = []\n",
    "    is_header = False\n",
    "\n",
    "    for line in block[\"lines\"]:\n",
    "        for span in line[\"spans\"]:\n",
    "            text_content.append(span[\"text\"])\n",
    "            # Determine if it's a header\n",
    "            if span[\"size\"] > common_font_size:\n",
    "                is_header = True\n",
    "\n",
    "    return \" \".join(text_content).strip(), is_header\n"
   ]
  },
  {
   "cell_type": "code",
   "execution_count": null,
   "metadata": {
    "id": "aVWjIblWSwfE"
   },
   "outputs": [],
   "source": []
  },
  {
   "cell_type": "code",
   "execution_count": null,
   "metadata": {
    "id": "vNwmMX64SwcW"
   },
   "outputs": [],
   "source": []
  },
  {
   "cell_type": "code",
   "execution_count": null,
   "metadata": {
    "id": "naIiHWbVSwZ0"
   },
   "outputs": [],
   "source": []
  },
  {
   "cell_type": "code",
   "execution_count": null,
   "metadata": {
    "id": "_h1KglvlSwPR"
   },
   "outputs": [],
   "source": [
    "import fitz  # PyMuPDF\n",
    "import pandas as pd\n",
    "\n",
    "def extract_pdf_data(pdf_path):\n",
    "    pdf_doc = fitz.open(pdf_path)\n",
    "    data = {\"header\": [], \"content\": {}, \"footer\": [], \"tables\": []}\n",
    "    table_count = 0\n",
    "\n",
    "    for page_num, page in enumerate(pdf_doc):\n",
    "        blocks = page.get_text(\"dict\")[\"blocks\"]\n",
    "\n",
    "        page_data = {\"header\": [], \"content\": [], \"footer\": []}\n",
    "        for block in blocks:\n",
    "            if \"lines\" in block:\n",
    "                text = []\n",
    "                for line in block[\"lines\"]:\n",
    "                    for span in line[\"spans\"]:\n",
    "                        text.append(span[\"text\"].strip())\n",
    "\n",
    "                # Join the extracted text for the block\n",
    "                block_text = \" \".join(text).strip()\n",
    "\n",
    "                # Classify text based on position and font size\n",
    "                if block[\"bbox\"][1] < 100:  # Top of the page\n",
    "                    page_data[\"header\"].append(block_text)\n",
    "                elif block[\"bbox\"][1] > (page.rect.height - 100):  # Bottom of the page\n",
    "                    page_data[\"footer\"].append(block_text)\n",
    "                else:\n",
    "                    page_data[\"content\"].append(block_text)\n",
    "\n",
    "                # Detect potential tables\n",
    "                if \"lines\" in block and len(block[\"lines\"]) > 1 and any(\"\\t\" in span[\"text\"] for line in block[\"lines\"] for span in line[\"spans\"]):\n",
    "                    table_count += 1\n",
    "                    table_data = extract_table(block)\n",
    "                    data[\"tables\"].append((f\"table{table_count}.csv\", table_data))\n",
    "\n",
    "        # Consolidate page data\n",
    "        data[\"header\"].extend(page_data[\"header\"])\n",
    "        data[\"footer\"].extend(page_data[\"footer\"])\n",
    "        data[\"content\"][f\"page{page_num + 1}\"] = page_data[\"content\"]\n",
    "\n",
    "    # Save tables to CSV files\n",
    "    save_tables(data[\"tables\"])\n",
    "\n",
    "    return data\n",
    "\n",
    "\n",
    "def extract_table(block):\n",
    "    \"\"\"Extract table-like data from a block.\"\"\"\n",
    "    table_rows = []\n",
    "    for line in block[\"lines\"]:\n",
    "        row = []\n",
    "        for span in line[\"spans\"]:\n",
    "            row.append(span[\"text\"].strip())\n",
    "        table_rows.append(row)\n",
    "    return table_rows\n",
    "\n",
    "\n",
    "def save_tables(tables):\n",
    "    \"\"\"Save table data to CSV files.\"\"\"\n",
    "    for table_name, table_data in tables:\n",
    "        df = pd.DataFrame(table_data)\n",
    "        df.to_csv(table_name, index=False, header=False)\n",
    "\n",
    "\n",
    "def create_readme(data):\n",
    "    \"\"\"Create a README file explaining the structure of the extracted data.\"\"\"\n",
    "    readme_text = \"\"\"\n",
    "    This README file explains the structure of the extracted data.\n",
    "\n",
    "    1. Headers:\n",
    "       - All headers extracted from the top of the pages are stored in the \"header\" section.\n",
    "\n",
    "    2. Content:\n",
    "       - Each page's content is stored as a list in the \"content\" section.\n",
    "       - The key for each page's content is \"page1\", \"page2\", etc.\n",
    "\n",
    "    3. Footers:\n",
    "       - All footers extracted from the bottom of the pages are stored in the \"footer\" section.\n",
    "\n",
    "    4. Tables:\n",
    "       - Each table is saved as a separate CSV file (e.g., table1.csv, table2.csv).\n",
    "       - The tables are stored in the \"tables\" section as a list of file names.\n",
    "\n",
    "    5. Example:\n",
    "       {\n",
    "           \"header\": [\"Main Header\", \"Sub Header\"],\n",
    "           \"content\": {\n",
    "               \"page1\": [\"Content line 1\", \"Content line 2\"],\n",
    "               \"page2\": [\"More content here.\"]\n",
    "           },\n",
    "           \"footer\": [\"Page 1 footer text\", \"Page 2 footer text\"],\n",
    "           \"tables\": [\"table1.csv\", \"table2.csv\"]\n",
    "       }\n",
    "    \"\"\"\n",
    "    with open(\"README.txt\", \"w\") as readme_file:\n",
    "        readme_file.write(readme_text)\n",
    "\n",
    "\n",
    "# Process the uploaded PDF\n",
    "pdf_path = \"/mnt/data/fact_sheet_all_data.pdf\"\n",
    "extracted_data = extract_pdf_data(final_path)\n",
    "\n",
    "# Create a README\n",
    "create_readme(extracted_data)\n"
   ]
  },
  {
   "cell_type": "code",
   "execution_count": null,
   "metadata": {
    "colab": {
     "base_uri": "https://localhost:8080/"
    },
    "executionInfo": {
     "elapsed": 606,
     "status": "ok",
     "timestamp": 1735205805324,
     "user": {
      "displayName": "Kaustubh Keny",
      "userId": "13583442549293815550"
     },
     "user_tz": -330
    },
    "id": "KMCUtiWRUzEX",
    "outputId": "8be1f979-bef0-4ded-f86a-078324586baf"
   },
   "outputs": [],
   "source": [
    "extracted_data"
   ]
  },
  {
   "cell_type": "code",
   "execution_count": null,
   "metadata": {
    "id": "bPpX1fzrU1D0"
   },
   "outputs": [],
   "source": []
  }
 ],
 "metadata": {
  "colab": {
   "authorship_tag": "ABX9TyPpaLsQz1x7bY/3Wt5A037y",
   "mount_file_id": "13CsgmhaDfqGoLm8aJEhgpfpDdRvQtgVH",
   "provenance": []
  },
  "kernelspec": {
   "display_name": ".venv",
   "language": "python",
   "name": "python3"
  },
  "language_info": {
   "name": "python",
   "version": "3.13.1"
  }
 },
 "nbformat": 4,
 "nbformat_minor": 0
}
