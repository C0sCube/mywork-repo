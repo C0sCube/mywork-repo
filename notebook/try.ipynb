{
 "cells": [
  {
   "cell_type": "code",
   "execution_count": 1,
   "metadata": {},
   "outputs": [],
   "source": [
    "input_pdf_path = r\"C:\\Users\\Kaustubh.keny\\OneDrive - Cogencis Information Services Ltd\\Documents\\mywork-repo\\output\\singular\\TextualPage4.pdf\" # Replace with your input PDF file path\n",
    "output_pdf_path = r\"C:\\Users\\Kaustubh.keny\\OneDrive - Cogencis Information Services Ltd\\Documents\\mywork-repo\\output\\singular\\sample.pdf\"  # Replace with your desired output PDF file path\n",
    "file_path = r\"C:\\Users\\Kaustubh.keny\\OneDrive - Cogencis Information Services Ltd\\Documents\\mywork-repo\\files\\SamcoFactSheet2024.pdf\""
   ]
  },
  {
   "cell_type": "code",
   "execution_count": 9,
   "metadata": {},
   "outputs": [],
   "source": [
    "path = r\"C:\\Users\\Kaustubh.keny\\OneDrive - Cogencis Information Services Ltd\\Documents\\mywork-repo\\output\\TextualPdf.pdf\"\n",
    "\n",
    "#text"
   ]
  },
  {
   "cell_type": "code",
   "execution_count": 14,
   "metadata": {},
   "outputs": [],
   "source": [
    "path = r\"C:\\Users\\Kaustubh.keny\\OneDrive - Cogencis Information Services Ltd\\Documents\\mywork-repo\\output\\TabularPdf.pdf\"\n"
   ]
  },
  {
   "cell_type": "code",
   "execution_count": 64,
   "metadata": {},
   "outputs": [],
   "source": [
    "import fitz \n",
    "import camelot\n",
    "import statistics"
   ]
  },
  {
   "cell_type": "code",
   "execution_count": 1,
   "metadata": {},
   "outputs": [],
   "source": [
    "import fitz  # PyMuPDF\n",
    "\n",
    "def extract_text(pdf_path):\n",
    "    doc = fitz.open(pdf_path)\n",
    "    text = \"\"\n",
    "    for page in doc:\n",
    "        text += page.get_text()\n",
    "    return text\n",
    "\n",
    "# Usage\n",
    "pdf_path = r\"C:\\Users\\Kaustubh.keny\\OneDrive - Cogencis Information Services Ltd\\Documents\\mywork-repo\\output\\singular\\TextualPage4.pdf\"\n",
    "text_data = extract_text(pdf_path)\n"
   ]
  },
  {
   "cell_type": "code",
   "execution_count": null,
   "metadata": {},
   "outputs": [],
   "source": [
    "import re\n",
    "text = text_data\n",
    "def parse_text_to_dict(text):\n",
    "    data_dict = {}\n",
    "    lines = text.splitlines()\n",
    "    current_header = None\n",
    "\n",
    "    for line in lines:\n",
    "        # Example pattern for headers (adjust as needed)\n",
    "        header_match = re.match(r\"^[A-Z][A-Za-z\\s]+:$\", line.strip())\n",
    "        if header_match:\n",
    "            current_header = header_match.group(0).strip(':')\n",
    "            data_dict[current_header] = []\n",
    "        elif current_header:\n",
    "            data_dict[current_header].append(line.strip())\n",
    "\n",
    "    return data_dict\n",
    "\n",
    "# Usage\n",
    "structured_data = parse_text_to_dict(text_data)\n"
   ]
  },
  {
   "cell_type": "code",
   "execution_count": null,
   "metadata": {},
   "outputs": [],
   "source": [
    "\n",
    "\n",
    "def detect_columns(pdf_path, eps=50, min_samples=2):\n",
    "    \"\"\"\n",
    "    Detect the number of text columns in each page of a PDF.\n",
    "\n",
    "    Parameters:\n",
    "    - pdf_path: str, path to the PDF file.\n",
    "    - eps: float, maximum distance between two samples for them to be considered in the same neighborhood (DBSCAN parameter).\n",
    "    - min_samples: int, number of samples in a neighborhood for a point to be considered a core point (DBSCAN parameter).\n",
    "\n",
    "    Returns:\n",
    "    - List of integers representing the number of columns detected on each page.\n",
    "    \"\"\"\n",
    "    doc = fitz.open(pdf_path)\n",
    "    column_counts = []\n",
    "\n",
    "    for page_num in range(len(doc)):\n",
    "        page = doc.load_page(page_num)\n",
    "        text_dict = page.get_text(\"dict\")\n",
    "\n",
    "        # Collect x-coordinates of text blocks\n",
    "        x_coords = []\n",
    "        for block in text_dict.get(\"blocks\", []):\n",
    "            bbox = block.get(\"bbox\", [])\n",
    "            if bbox:\n",
    "                x0 = bbox[0]  # x-coordinate of the left side of the block\n",
    "                x_coords.append([x0])\n",
    "\n",
    "        if x_coords:\n",
    "            # Convert to numpy array\n",
    "            x_coords = np.array(x_coords)\n",
    "\n",
    "            # Apply DBSCAN clustering\n",
    "            clustering = DBSCAN(eps=eps, min_samples=min_samples).fit(x_coords)\n",
    "\n",
    "            # Number of clusters (excluding noise if present)\n",
    "            num_columns = len(set(clustering.labels_)) - (1 if -1 in clustering.labels_ else 0)\n",
    "            column_counts.append(num_columns)\n",
    "        else:\n",
    "            column_counts.append(0)\n",
    "\n",
    "    doc.close()\n",
    "    return column_counts\n",
    "\n",
    "# Example usage\n",
    "pdf_path = file_path  # Replace with your PDF file path\n",
    "columns_per_page = detect_columns(pdf_path)\n",
    "for i, num_columns in enumerate(columns_per_page):\n",
    "    print(f\"Page {i + 1}: {num_columns} columns detected\")\n"
   ]
  },
  {
   "cell_type": "code",
   "execution_count": 62,
   "metadata": {},
   "outputs": [],
   "source": [
    "\n",
    "def annotate_pdf(input_path, output_path):\n",
    "    # Open the PDF document\n",
    "    pdf = fitz.open(input_path)\n",
    "    \n",
    "    # Iterate through each page\n",
    "    for page_num in range(len(pdf)):\n",
    "        page = pdf.load_page(page_num)\n",
    "        # Extract text as a dictionary containing blocks, lines, and spans\n",
    "        text_dict = page.get_text(\"dict\")\n",
    "        \n",
    "        # Iterate through blocks\n",
    "        for block in text_dict.get(\"blocks\", []):\n",
    "            # Check if the block contains lines\n",
    "            if \"lines\" in block:\n",
    "                # Iterate through lines\n",
    "                for line in block[\"lines\"]:\n",
    "                    # Get the bounding box of the line\n",
    "                    line_bbox = fitz.Rect(line[\"bbox\"])\n",
    "                    # Draw a rectangle around the line\n",
    "                    page.draw_rect(line_bbox, color=(1, 0, 0), width=0.5)\n",
    "    \n",
    "    # Save the annotated PDF to the output path\n",
    "    pdf.save(output_path)\n",
    "    pdf.close()\n",
    "\n",
    "# Example usage\n",
    "input_pdf_path = r\"C:\\Users\\Kaustubh.keny\\OneDrive - Cogencis Information Services Ltd\\Documents\\mywork-repo\\output\\singular\\TextualPage4.pdf\" # Replace with your input PDF file path\n",
    "output_pdf_path = r\"C:\\Users\\Kaustubh.keny\\OneDrive - Cogencis Information Services Ltd\\Documents\\mywork-repo\\output\\singular\\sample.pdf\"  # Replace with your desired output PDF file path\n",
    "annotate_pdf(input_pdf_path, output_pdf_path)\n"
   ]
  },
  {
   "cell_type": "code",
   "execution_count": 56,
   "metadata": {},
   "outputs": [
    {
     "name": "stdout",
     "output_type": "stream",
     "text": [
      "\n",
      "Pages:24\n"
     ]
    }
   ],
   "source": [
    "def extract_pdf(path):\n",
    "    \n",
    "    pdf = fitz.open(path)\n",
    "    page_content = []\n",
    "    \n",
    "    for pgn in range(len(pdf)):\n",
    "        page = pdf.load_page(pgn)\n",
    "        text = page.get_text(\"dict\")\n",
    "        page_content.append(text)\n",
    "    return page_content\n",
    "        \n",
    "    # sort_by_y = []\n",
    "    # for block in page_content:\n",
    "    #     for lines in block['lines']:\n",
    "    #         for span in lines['span']\n",
    "    \n",
    "    \n",
    "content = extract_pdf(path)\n",
    "print(f\"\\nPages:{len(content)}\")"
   ]
  },
  {
   "cell_type": "code",
   "execution_count": 58,
   "metadata": {},
   "outputs": [
    {
     "data": {
      "text/plain": [
       "332"
      ]
     },
     "execution_count": 58,
     "metadata": {},
     "output_type": "execute_result"
    }
   ],
   "source": [
    "firstPage = content[3]\n",
    "\n",
    "temp = []\n",
    "text = []\n",
    "\n",
    "for block in firstPage['blocks']:\n",
    "    for lines in block['lines']:\n",
    "        bbox = lines['bbox']\n",
    "        line_text = \"\".join(span['text'] for span in lines['spans'])\n",
    "        temp.append([bbox,line_text])\n",
    "    \n",
    "\n",
    "\n",
    "len(temp)"
   ]
  },
  {
   "cell_type": "code",
   "execution_count": 13,
   "metadata": {},
   "outputs": [
    {
     "name": "stdout",
     "output_type": "stream",
     "text": [
      "Extracting tables from page 1...\n"
     ]
    }
   ],
   "source": [
    "import pdfplumber\n",
    "\n",
    "def extract_custom_tables_from_pdf(pdf_path):\n",
    "# table_settings = {\n",
    "#     \"vertical_strategy\": \"lines\",  # Options: \"lines\", \"text\", \"mixed\"\n",
    "#     \"horizontal_strategy\": \"lines\",  # Options: \"lines\", \"text\", \"mixed\"\n",
    "#     \"snap_tolerance\": 3,  # Distance tolerance for snapping lines\n",
    "# }\n",
    "    with pdfplumber.open(pdf_path) as pdf:\n",
    "        for page_number, page in enumerate(pdf.pages, start=1):\n",
    "            print(f\"Extracting tables from page {page_number}...\")\n",
    "            tables = page.extract_tables()\n",
    "            for table_number, table in enumerate(tables, start=1):\n",
    "                print(f\"Table {table_number}:\")\n",
    "                for row in table:\n",
    "                    print(row)\n",
    "                print(\"\\n\")\n",
    "\n",
    "# Example usage\n",
    "pdf_path =  r\"C:\\Users\\Kaustubh.keny\\OneDrive - Cogencis Information Services Ltd\\Documents\\mywork-repo\\output\\singular\\TabularPage4.pdf\"\n",
    "extract_custom_tables_from_pdf(pdf_path)\n"
   ]
  },
  {
   "cell_type": "code",
   "execution_count": null,
   "metadata": {},
   "outputs": [],
   "source": []
  }
 ],
 "metadata": {
  "colab": {
   "authorship_tag": "ABX9TyPpaLsQz1x7bY/3Wt5A037y",
   "mount_file_id": "13CsgmhaDfqGoLm8aJEhgpfpDdRvQtgVH",
   "provenance": []
  },
  "kernelspec": {
   "display_name": "venv",
   "language": "python",
   "name": "python3"
  },
  "language_info": {
   "codemirror_mode": {
    "name": "ipython",
    "version": 3
   },
   "file_extension": ".py",
   "mimetype": "text/x-python",
   "name": "python",
   "nbconvert_exporter": "python",
   "pygments_lexer": "ipython3",
   "version": "3.13.1"
  }
 },
 "nbformat": 4,
 "nbformat_minor": 0
}
