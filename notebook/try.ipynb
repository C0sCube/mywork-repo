{
 "cells": [
  {
   "cell_type": "code",
   "execution_count": 19,
   "metadata": {},
   "outputs": [],
   "source": [
    "\n",
    "import fitz\n",
    "import camelot\n",
    "import warnings , math, collections\n",
    "import pickle\n",
    "from collections import Counter\n",
    "\n",
    "warnings.filterwarnings(\"ignore\", category=UserWarning) \n",
    "\n",
    "#path = r\"C:\\Users\\rando\\OneDrive\\Documents\\mywork-repo\"\n",
    "path = r\"C:\\Users\\Kaustubh.keny\\OneDrive - Cogencis Information Services Ltd\\Documents\\mywork-repo\"\n",
    "\n",
    "\n",
    "pickle_path_text = r\"\\output\\pkl\\textual_data.pkl\"\n",
    "pickle_path_tab = r\"\\output\\pkl\\tabular_data.pkl\"\n",
    "samco_path = r\"\\files\\SamcoFactSheet2024.pdf\"\n",
    "tata_path = r\"\\files\\TataFactSheet2024.pdf\"\n",
    "dry_run_path = r\"\\output\\DryRun.pdf\""
   ]
  },
  {
   "cell_type": "code",
   "execution_count": null,
   "metadata": {},
   "outputs": [],
   "source": [
    "\"\"\"Basic page cleaning, image removal, page number removal,\n",
    "repetitive data removal\"\"\""
   ]
  },
  {
   "cell_type": "code",
   "execution_count": 44,
   "metadata": {},
   "outputs": [],
   "source": [
    "with open(path + pickle_path_text , 'rb') as file:\n",
    "    textual_data = pickle.load(file)"
   ]
  },
  {
   "cell_type": "code",
   "execution_count": 42,
   "metadata": {},
   "outputs": [],
   "source": [
    "#aggregate code\n",
    "from collections import Counter\n",
    "\n",
    "def get_pdf_aggregates(block_data):\n",
    "    pdf_sizes = []\n",
    "    pdf_colors = []\n",
    "    pdf_words = []\n",
    "    \n",
    "    document = block_data['blocks']\n",
    "    for page in document:\n",
    "        page_size, page_color, page_text = [], [], []\n",
    "        for block in page:\n",
    "            for line in block['lines']:\n",
    "                for span in line['spans']:\n",
    "                    page_color.append(span['color'])\n",
    "                    page_size.append(span['size'])\n",
    "                    page_text.append(span['text'])\n",
    "        pdf_colors.append(page_color)\n",
    "        pdf_sizes.append(page_size)\n",
    "        pdf_words.append(page_text)\n",
    "\n",
    "    grand_pdf_colors = Counter([color for sublist in pdf_colors for color in sublist])\n",
    "    grand_pdf_sizes = Counter([size for sublist in pdf_sizes for size in sublist])\n",
    "    grand_pdf_words = Counter([word for sublist in pdf_words for word in sublist])\n",
    "\n",
    "    return {\n",
    "        \"grand\": {\n",
    "            \"text\": grand_pdf_words,\n",
    "            \"color\": grand_pdf_colors,\n",
    "            \"size\": grand_pdf_sizes\n",
    "        },\n",
    "        \"page\": {\n",
    "            'text': [Counter(page) for page in pdf_words],\n",
    "            'size': [Counter(page) for page in pdf_sizes],\n",
    "            'color': [Counter(page) for page in pdf_colors]\n",
    "        }\n",
    "    }\n",
    "\n",
    "\n",
    "\n",
    "data = get_pdf_aggregates(textual_data)"
   ]
  },
  {
   "cell_type": "code",
   "execution_count": 80,
   "metadata": {},
   "outputs": [],
   "source": [
    "def get_data_from_page(data:list, page:int)->list:\n",
    "    \n",
    "    block_data = data['blocks']\n",
    "    return block_data[page-1]\n",
    "\n",
    "def print_page(data:list, output_path:str):\n",
    "    new_doc = fitz.open(output_path)\n",
    "    \n",
    "\n",
    "\n",
    "page_data = get_data_from_page(textual_data, 4)\n",
    "page_data.sort(key= lambda k: (k['bbox'][1], k['bbox'][0]))"
   ]
  },
  {
   "cell_type": "code",
   "execution_count": 74,
   "metadata": {},
   "outputs": [],
   "source": []
  },
  {
   "cell_type": "code",
   "execution_count": 81,
   "metadata": {},
   "outputs": [
    {
     "name": "stdout",
     "output_type": "stream",
     "text": [
      "BBox: (36.273399353027344, 67.16098022460938, 402.72222900390625, 101.55298614501953), text: Samco Active Momentum Fund [-12684359], [24.0]\n",
      "BBox: (43.30080032348633, 121.75519561767578, 136.52279663085938, 134.5802001953125), text: Investment Objective [-1], [9.0]\n",
      "BBox: (541.001953125, 132.4703826904297, 573.7257080078125, 151.66432189941406), text: % to net\texposure of\tNet Assets [-12220216, -12220216, -12220216], [5.848076343536377, 5.848076343536377, 5.848076343536377]\n",
      "BBox: (43.3916015625, 143.67257690429688, 535.677490234375, 229.14979553222656), text: -20.22%\tThe investment objective of the Scheme is to seek to \tgenerate long-term capital appreciation by investing in \tstocks showing strong momentum. Momentum stocks are \tsuch that exhibit positive price momentum – based on the \tphenomenon that stocks which have performed well in the \tpast relative to other stocks (winners) continue to perform \twell in the future, and stocks that have performed \trelatively poorly (losers) continue to perform poorly. \tHowever, there can be no assurance or guarantee that the \tinvestment objective of the scheme would be achieved. [-12368828, -12303035, -12303035, -12303035, -12303035, -12303035, -12303035, -12303035, -12303035, -12303035, -12303035], [6.800000190734863, 7.0, 7.0, 7.0, 7.0, 7.0, 7.0, 7.0, 7.0, 7.0, 7.0]\n",
      "BBox: (43.30080032348633, 253.85479736328125, 110.92679595947266, 266.6798095703125), text: Scheme Details [-1], [9.0]\n",
      "BBox: (42.0, 272.85650634765625, 95.10900115966797, 289.7696228027344), text: Inception Date\t(Date of Allotment) [-12368828, -12368828], [7.0, 6.0]\n",
      "BBox: (106.59960174560547, 273.0133972167969, 148.49459838867188, 282.890380859375), text: 05-Jul-2023 [-12368828], [7.0]\n",
      "BBox: (106.59960174560547, 291.91339111328125, 150.2586212158203, 301.7903747558594), text: Nifty 500 TRI [-12368828], [7.0]\n",
      "BBox: (42.0, 292.05859375, 81.02149200439453, 302.089599609375), text: Benchmark [-12368828], [7.0]\n",
      "BBox: (106.8446044921875, 303.7153625488281, 214.49063110351562, 321.9923400878906), text: ₹5000/- and in multiples of ₹1/- \tthereafter  [-12368828, -12368828], [7.0, 7.0]\n",
      "BBox: (42.0, 303.720703125, 96.08200073242188, 322.15167236328125), text: Min.Application\tAmount [-12368828, -12368828], [7.0, 7.0]\n",
      "BBox: (41.99999237060547, 323.85260009765625, 79.47099304199219, 342.2835998535156), text: Additional \tPurchase [-12368828, -12368828], [7.0, 7.0]\n",
      "BBox: (106.67660522460938, 324.7643737792969, 243.35157775878906, 334.641357421875), text: ₹500/- and in multiples of ₹1/- thereafter  [-12368828], [7.0]\n",
      "BBox: (42.0, 344.418701171875, 78.72199249267578, 354.4496765136719), text: Entry Load [-12368828], [7.0]\n",
      "BBox: (106.59960174560547, 344.56121826171875, 117.65260314941406, 354.4382019042969), text: NIL [-12368828], [7.0]\n",
      "BBox: (105.07561492919922, 357.0047607421875, 236.51463317871094, 383.83575439453125), text: 1.00%\t If the investment is redeemed \tor switched out on or before 365 days \tfrom the date of allotment of units.  [-12368828, -12368828, -12368828, -12368828], [7.0, 7.0, 7.0, 7.0]\n",
      "BBox: (42.0, 357.81671142578125, 73.32500457763672, 367.8476867675781), text: Exit Load [-12368828], [7.0]\n",
      "BBox: (77.69300079345703, 357.90069580078125, 81.40299987792969, 367.93170166015625), text: :  [-12368828], [7.0]\n",
      "BBox: (105.07561492919922, 386.35577392578125, 229.5845947265625, 421.4327392578125), text: No Exit Load will be charged if \tinvestment is redeemed or switched \tout after 365 days from the date of \tallotment of units. [-12368828, -12368828, -12368828, -12368828], [7.0, 7.0, 7.0, 7.0]\n",
      "BBox: (105.07420349121094, 423.9695129394531, 210.19122314453125, 432.3155212402344), text:  (With effect from October 03, 2024) [-12368828], [6.0]\n",
      "BBox: (42.0, 437.58868408203125, 92.40349578857422, 447.61968994140625), text: Total Expense  [-12368828], [7.0]\n",
      "BBox: (105.125, 438.2802734375, 147.99301147460938, 448.311279296875), text: Regular Plan [-12368828], [7.0]\n",
      "BBox: (165.4510040283203, 438.2802734375, 202.7960205078125, 448.311279296875), text: Direct Plan [-12368828], [7.0]\n",
      "BBox: (42.0, 445.98828125, 91.69153594970703, 471.54010009765625), text: Ratio (TER)\tas on October 31, \t2024 [-12368828, -12368828, -12368828], [7.0, 5.878775596618652, 5.878775596618652]\n",
      "BBox: (165.4510040283203, 449.3822937011719, 186.11851501464844, 459.25927734375), text: 0.86% [-12368828], [7.0]\n",
      "BBox: (105.1259994506836, 449.5447082519531, 125.57999420166016, 459.42169189453125), text: 2.26% [-12368828], [7.0]\n",
      "BBox: (104.62760162353516, 461.23480224609375, 230.5716094970703, 479.51177978515625), text: Including Goods and Service Tax on   \tManagement Fees. [-12368828, -12368828], [7.0, 7.0]\n",
      "BBox: (43.30080032348633, 484.90557861328125, 105.96330261230469, 497.7305908203125), text: Fund Manager [-1], [9.0]\n",
      "BBox: (41.0004997253418, 502.74639892578125, 237.61126708984375, 514.2103881835938), text: Mr. Paras Matalia, \tFund Manager & Head - Research Equity [-12220216, -12368828], [8.0, 6.634067535400391]\n",
      "BBox: (41.0, 512.0875854492188, 162.86846923828125, 521.6412963867188), text: (Managing this scheme since inception) [-12368828], [6.634067535400391]\n",
      "BBox: (42.0, 522.0936279296875, 147.5177459716797, 531.4081420898438), text: Total Experience: \tAround 9 years\t  [-12368828, -12368828, -12368828], [6.5, 6.5, 6.5]\n",
      "BBox: (40.78630065917969, 537.3314208984375, 230.6676025390625, 565.8397827148438), text: Mr. Umeshkumar Mehta,\t Director, CIO & Fund Manager\t(Managing the scheme since August 01, 2023)\tTotal Experience: \tOver 20 years  [-12220216, -12368828, -12368828, -12368828, -12368828], [8.0, 6.634067535400391, 6.634067535400391, 6.5, 6.5]\n",
      "BBox: (41.0004997253418, 572.1223754882812, 169.48849487304688, 583.5863647460938), text: Mr. Dhawal Ghanshyam Dhanani  [-12220216], [8.0]\n",
      "BBox: (41.0, 582.0318603515625, 235.88902282714844, 590.8505859375), text: (Dedicated Fund Manager for Overseas investments since inception) [-12368828], [6.123724460601807]\n",
      "BBox: (42.0, 591.4686279296875, 147.5177459716797, 600.7831420898438), text: Total Experience: \tAround 6 years\t  [-12368828, -12368828, -12368828], [6.5, 6.5, 6.5]\n",
      "BBox: (43.30080032348633, 612.9553833007812, 219.2050018310547, 625.7803955078125), text: NAV as on 31\tst\t October 2024 (₹ per unit) [-1, -1, -1], [9.0, 5.247000217437744, 9.0]\n",
      "BBox: (41.99900817871094, 632.8032836914062, 95.46922302246094, 642.8342895507812), text: Regular Growth [-12368828], [7.0]\n",
      "BBox: (106.60299682617188, 633.1196899414062, 130.05999755859375, 642.9967041015625), text: ₹ \t14.53 [-12368828, -12368828], [7.0, 7.0]\n",
      "BBox: (41.99900817871094, 645.6552734375, 89.94900512695312, 655.686279296875), text: Direct Growth [-12368828], [7.0]\n",
      "BBox: (106.60299682617188, 645.9716796875, 128.91200256347656, 655.8486938476562), text: ₹ \t14.81 [-12368828, -12368828], [7.0, 7.0]\n",
      "BBox: (41.999000549316406, 663.8850708007812, 118.28299713134766, 676.7100830078125), text: Quantitative Data [-1], [9.0]\n",
      "BBox: (41.999000549316406, 682.1097412109375, 159.3784942626953, 692.084716796875), text: Portfolio Turnover Ratio: \t5.11 times [-12368828, -12368828], [7.0, 7.0]\n",
      "BBox: (40.39939880371094, 692.0028076171875, 240.82850646972656, 700.4688110351562), text: Lower of sales or purchases divided by average AUM for last rolling 12 months [-12368828], [5.6921000480651855]\n",
      "BBox: (43.30080032348633, 709.140869140625, 192.39932250976562, 721.9658813476562), text: Assets Under Management (AUM) [-1], [9.0]\n",
      "BBox: (42.000701904296875, 729.9942016601562, 140.0777130126953, 740.0252075195312), text: AUM as on October 31, 2024 [-12368828], [7.0]\n",
      "BBox: (198.3876953125, 730.148193359375, 240.398193359375, 740.0252075195312), text: ₹ \t850.06 Crs [-12368828, -12368828], [7.0, 7.0]\n",
      "BBox: (198.3876953125, 742.398193359375, 240.377197265625, 752.2752075195312), text: ₹ \t852.46 Crs [-12368828, -12368828], [7.0, 7.0]\n",
      "BBox: (42.000701904296875, 742.84619140625, 183.0297088623047, 752.877197265625), text: Average AUM for Month of October 2024 [-12368828], [7.0]\n"
     ]
    }
   ],
   "source": [
    "def process_page_blocks(page_data):\n",
    "    \n",
    "    text_color_size = []\n",
    "    for block in page_data:\n",
    "        bbox = block['bbox']  # Bounding box of the block\n",
    "        block_text = []  # List to collect text from all spans in this block\n",
    "        block_size = []\n",
    "        block_color = []\n",
    "        for line in block['lines']:\n",
    "            for span in line['spans']:\n",
    "                block_text.append(span['text'])\n",
    "                block_size.append(span['size'])\n",
    "                block_color.append(span['color'])\n",
    "        stitched_text = '\\t'.join(block_text)  # Join all text into a single string\n",
    "        print(f\"BBox: {bbox}, text: {stitched_text} {block_color}, {block_size}\")\n",
    "        text_color_size.append((stitched_text, block_color[0], block_size[0]))\n",
    "        \n",
    "    return text_color_size\n",
    "\n",
    "# Example usage with your structured data\n",
    "process_page_blocks(page_data)"
   ]
  },
  {
   "cell_type": "code",
   "execution_count": null,
   "metadata": {},
   "outputs": [],
   "source": []
  }
 ],
 "metadata": {
  "kernelspec": {
   "display_name": "venv",
   "language": "python",
   "name": "python3"
  },
  "language_info": {
   "codemirror_mode": {
    "name": "ipython",
    "version": 3
   },
   "file_extension": ".py",
   "mimetype": "text/x-python",
   "name": "python",
   "nbconvert_exporter": "python",
   "pygments_lexer": "ipython3",
   "version": "3.13.1"
  }
 },
 "nbformat": 4,
 "nbformat_minor": 2
}
