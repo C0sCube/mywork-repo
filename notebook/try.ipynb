{
 "cells": [
  {
   "cell_type": "code",
   "execution_count": 11,
   "metadata": {},
   "outputs": [],
   "source": [
    "\n",
    "import fitz\n",
    "import camelot\n",
    "import warnings , math, collections\n",
    "import pickle\n",
    "from collections import Counter\n",
    "import re\n",
    "\n",
    "warnings.filterwarnings(\"ignore\", category=UserWarning) \n",
    "\n",
    "#path = r\"C:\\Users\\rando\\OneDrive\\Documents\\mywork-repo\"\n",
    "path = r\"C:\\Users\\Kaustubh.keny\\OneDrive - Cogencis Information Services Ltd\\Documents\\mywork-repo\"\n",
    "\n",
    "\n",
    "pickle_path_text = r\"\\output\\pkl\\textual_data.pkl\"\n",
    "pickle_path_tab = r\"\\output\\pkl\\tabular_data.pkl\"\n",
    "samco_path = r\"\\files\\SamcoFactSheet2024.pdf\"\n",
    "tata_path = r\"\\files\\TataFactSheet2024.pdf\"\n",
    "dry_run_path = r\"\\output\\DryRun.pdf\""
   ]
  },
  {
   "cell_type": "code",
   "execution_count": 74,
   "metadata": {},
   "outputs": [],
   "source": []
  },
  {
   "cell_type": "code",
   "execution_count": 4,
   "metadata": {},
   "outputs": [],
   "source": [
    "indices_variations = {\n",
    "    \"additional amount\": [\"additional amount\", \"addl. amount\", \"add. amt\"],\n",
    "    \"additional multiple\": [\"additional multiples\", \"addl. multiple\", \"add. mult.\"],\n",
    "    \"alpha\": [\"alpha\", \"alpha ratio\", \"alpha coefficient\"],\n",
    "    \"average asset under management (aaum)\": [\"average aum\", \"aaum\", \"avg. aum\", \"avg asset under management\"],\n",
    "    \"average dividend yield\": [\"avg. dividend yield\", \"average div yield\"],\n",
    "    \"average maturity\": [\"avg. maturity\", \"average maturity of bonds\"],\n",
    "    \"average p/b\": [\"avg p/b ratio\", \"average price to book ratio\"],\n",
    "    \"average p/e\": [\"avg p/e ratio\", \"average price to earnings ratio\"],\n",
    "    \"benchmark index\": [\"benchmark\", \"index benchmark\"],\n",
    "    \"benchmark riskometer\": [\"benchmark risk level\", \"riskometer for benchmark\"],\n",
    "    \"creation unit size\": [\"creation unit size\", \"unit size of creation\", \"etf creation size\"],\n",
    "    \"downside deviation\": [\"downside deviation\", \"downside risk measure\", \"downside variability\"],\n",
    "    \"face value\": [\"face value\", \"nominal value\", \"par value\"],\n",
    "    \"fund manager\": [\"fund manager\", \"portfolio manager\", \"managed by\"],\n",
    "    \"inception date\": [\"inception date\", \"fund start date\", \"date of inception\"],\n",
    "    \"information ratio\": [\"information ratio\", \"info ratio\", \"ir\"],\n",
    "    \"macaulay duration\": [\"macaulay duration\", \"duration (macaulay)\", \"macaulay's duration\"],\n",
    "    \"managing scheme\": [\"managing scheme\", \"scheme management\", \"fund scheme\"],\n",
    "    \"minimum investment\": [\"minimum investment\", \"min invest\", \"minimum invest amount\"],\n",
    "    \"minimum multiple\": [\"minimum multiple\", \"min multiple\", \"min. mult\"],\n",
    "    \"modified duration\": [\"modified duration\", \"mod duration\", \"duration (modified)\"],\n",
    "    \"pb\": [\"pb ratio\", \"price to book\", \"p/b\"],\n",
    "    \"pe\": [\"pe ratio\", \"price to earnings\", \"p/e\"],\n",
    "    \"portfolio beta\": [\"portfolio beta\", \"beta of portfolio\", \"portfolio's beta\"],\n",
    "    \"portfolio turnover ratio\": [\"portfolio turnover\", \"turnover ratio\", \"portfolio turnover rate\"],\n",
    "    \"r squared ratio - fund\": [\"r squared\", \"r^2\", \"r-squared for fund\"],\n",
    "    \"roe\": [\"return on equity\", \"roe\", \"equity returns\"],\n",
    "    \"scheme name\": [\"scheme name\", \"fund name\", \"investment scheme\"],\n",
    "    \"scheme objective\": [\"scheme objective\", \"investment objective\", \"fund goals\"],\n",
    "    \"scheme riskometer\": [\"scheme riskometer\", \"risk level\", \"investment risk indicator\"],\n",
    "    \"sharpe ratio\": [\"sharpe ratio\", \"sharpe's ratio\", \"risk adjusted return ratio\"],\n",
    "    \"sortino ratio\": [\"sortino ratio\", \"sortino's ratio\", \"downside risk ratio\"],\n",
    "    \"standard deviation\": [\"standard deviation\", \"std dev\", \"volatility measure\"],\n",
    "    \"total experience\": [\"total experience\", \"years of experience\", \"management experience\"],\n",
    "    \"tracking error\": [\"tracking error\", \"track error\", \"performance deviation\"],\n",
    "    \"treynor ratio\": [\"treynor ratio\", \"treynor's ratio\", \"risk adjusted measure\"],\n",
    "    \"upside deviation\": [\"upside deviation\", \"upside risk\", \"positive deviation\"],\n",
    "    \"yield to maturity\": [\"yield to maturity\", \"ytm\", \"maturity yield\"]\n",
    "}\n"
   ]
  },
  {
   "cell_type": "code",
   "execution_count": 21,
   "metadata": {},
   "outputs": [
    {
     "name": "stdout",
     "output_type": "stream",
     "text": [
      "Important pages: [1, 108, 109]\n",
      "Modified PDF saved as: C:\\Users\\Kaustubh.keny\\OneDrive - Cogencis Information Services Ltd\\Documents\\mywork-repo\\files\\TataFactSheet2024_highlighted.pdf\n"
     ]
    }
   ],
   "source": [
    "import fitz  # PyMuPDF\n",
    "import re  # Regular expressions\n",
    "\n",
    "def check_indices_variations_and_highlight(indices_variations, path):\n",
    "    doc = fitz.open(path)\n",
    "    important_pages = set()\n",
    "\n",
    "    for page_number, page in enumerate(doc):\n",
    "        text_instances = page.get_text(\"dict\")[\"blocks\"]  # Extract text in dictionary format\n",
    "\n",
    "        for block in text_instances:\n",
    "            if \"lines\" in block:  # Check if lines key exists\n",
    "                for line in block[\"lines\"]:  # Navigate through lines in each block\n",
    "                    for span in line[\"spans\"]:  # Navigate through spans in each line\n",
    "                        # Check text attributes\n",
    "                        if span['flags'] & 4:  # Example conditions for bold or larger text\n",
    "                            span_text = span['text'].lower()\n",
    "                            for key, variations in indices_variations.items():\n",
    "                                search_terms = [key] + variations\n",
    "                                for term in search_terms:\n",
    "                                    pattern = r'\\b' + re.escape(term.lower()) + r'\\b'\n",
    "                                    if re.search(pattern, span_text):\n",
    "                                        important_pages.add(page_number + 1)\n",
    "                                        # Highlight found terms\n",
    "                                        rect = fitz.Rect(span['bbox'])  # Get the bounding box for the span\n",
    "                                        page.add_highlight_annot(rect)\n",
    "                                        break  # Optional: break if only one highlight per span is needed\n",
    "\n",
    "    if important_pages:\n",
    "        output_path = path.replace('.pdf', '_highlighted.pdf')\n",
    "        doc.save(output_path)\n",
    "        doc.close()\n",
    "        return list(important_pages), output_path\n",
    "    else:\n",
    "        doc.close()\n",
    "        return list(important_pages), None\n",
    "\n",
    "# Example usage\n",
    "pdf_path = path + tata_path\n",
    "result, modified_pdf = check_indices_variations_and_highlight(indices_variations, pdf_path)\n",
    "print(\"Important pages:\", result)\n",
    "print(\"Modified PDF saved as:\", modified_pdf)\n"
   ]
  }
 ],
 "metadata": {
  "kernelspec": {
   "display_name": "venv",
   "language": "python",
   "name": "python3"
  },
  "language_info": {
   "codemirror_mode": {
    "name": "ipython",
    "version": 3
   },
   "file_extension": ".py",
   "mimetype": "text/x-python",
   "name": "python",
   "nbconvert_exporter": "python",
   "pygments_lexer": "ipython3",
   "version": "3.13.1"
  }
 },
 "nbformat": 4,
 "nbformat_minor": 2
}
