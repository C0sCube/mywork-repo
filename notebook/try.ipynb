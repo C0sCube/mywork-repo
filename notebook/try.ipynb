{
 "cells": [
  {
   "cell_type": "code",
   "execution_count": 1,
   "metadata": {
    "id": "9akfrMDoI3w2"
   },
   "outputs": [],
   "source": [
    "# file_path = r\"C:\\Users\\Kaustubh.keny\\OneDrive - Cogencis Information Services Ltd\\Documents\\mywork-repo\\pdf-extractor\\files\"\n",
    "# output_path =  r\"C:\\Users\\Kaustubh.keny\\OneDrive - Cogencis Information Services Ltd\\Documents\\mywork-repo\\pdf-extractor\\output\"\n",
    "\n",
    "path = r\"C:\\Users\\rando\\OneDrive\\Documents\\mywork-repo\"\n",
    "\n",
    "samco_path = r\"\\output\\TabularPdf.pdf\"\n",
    "tata_path = r\"\\files\\TataFactSheet2024.pdf\"\n",
    "\n",
    "output_path = r\"\\output\\TabulaTry.pdf\""
   ]
  },
  {
   "cell_type": "code",
   "execution_count": 74,
   "metadata": {},
   "outputs": [],
   "source": [
    "import tabula\n",
    "import pdfplumber\n",
    "import fitz\n",
    "import camelot\n",
    "import warnings\n",
    "\n",
    "warnings.filterwarnings(\"ignore\", category=UserWarning) "
   ]
  },
  {
   "cell_type": "code",
   "execution_count": null,
   "metadata": {},
   "outputs": [],
   "source": [
    "tabula.environment_info()\n",
    "file_path = path + samco_path\n",
    "dfs = tabula.read_pdf(file_path, pages = \"all\", stream=True)"
   ]
  },
  {
   "cell_type": "code",
   "execution_count": 83,
   "metadata": {},
   "outputs": [],
   "source": [
    "def extract_tables_by_page(file_path):\n",
    "    \"\"\"\n",
    "    Extracts tables from each page of a PDF using Camelot and returns \n",
    "    a list of dictionaries, where each dictionary contains the page number \n",
    "    and a list of extracted tables for that page.\n",
    "\n",
    "    Args:\n",
    "        pdf_path: Path to the PDF file.\n",
    "\n",
    "    Returns:\n",
    "        list: A list of dictionaries, where each dictionary has \n",
    "              'pgnum' (page number) and 'tables' (list of extracted tables).\n",
    "    \"\"\"\n",
    "    tables_by_page = []\n",
    "    pdf = fitz.open(file_path)\n",
    "    pdf_pages = pdf.page_count\n",
    "\n",
    "    for pgn in range(1, pdf_pages + 1):\n",
    "        try:\n",
    "            page_tables = camelot.read_pdf(file_path, flavor='stream', pages=str(pgn))\n",
    "        except Exception as e:\n",
    "            #print(f\"\\nError extracting tables on page {pgn}: {e}\")\n",
    "            page_tables = []  # Handle errors gracefully\n",
    "\n",
    "        bboxes = None\n",
    "        tables = None\n",
    "        blocks = None\n",
    "\n",
    "        if page_tables:\n",
    "            bboxes = [table._bbox for table in page_tables]\n",
    "            tables = [table.df for table in page_tables]\n",
    "\n",
    "        # Extract text blocks using fitz\n",
    "        page = pdf[pgn - 1]  # Access page object (0-based indexing)\n",
    "        blocks = page.get_text(\"blocks\") \n",
    "\n",
    "        tables_by_page.append({\n",
    "            \"pgnum\": pgn,\n",
    "            \"tables\": tables,\n",
    "            \"bboxes\": bboxes,\n",
    "            \"blocks\": blocks,\n",
    "        })\n",
    "\n",
    "    return tables_by_page\n",
    "\n",
    "    "
   ]
  },
  {
   "cell_type": "code",
   "execution_count": 84,
   "metadata": {},
   "outputs": [],
   "source": [
    "page_tables = extract_tables_by_page(file_path)"
   ]
  },
  {
   "cell_type": "code",
   "execution_count": 89,
   "metadata": {},
   "outputs": [
    {
     "name": "stdout",
     "output_type": "stream",
     "text": [
      "\n",
      " (256.3013000488281, 134.12600708007812, 571.8199462890625, 148.93919372558594, 'Issuer\\nIndustry\\n% to Net\\n', 0, 0)\n",
      "\n",
      " (546.3212890625, 142.28598022460938, 569.2742919921875, 151.9039764404297, 'Assets \\n', 1, 0)\n",
      "\n",
      " (256.3013000488281, 166.62188720703125, 381.3462829589844, 707.2782592773438, 'Godawari Power And Ispat Ltd.\\nSaregama India Limited\\nEngineers India Limited\\nApar Industries Limited\\nJB Chemicals & Pharmaceuticals Limited\\nPraj Industries Limited\\nSuven Pharmaceuticals Limited\\nAmara Raja Energy & Mobility Ltd\\n360 One WAM Limited\\nFinolex Cables Limited\\nMotilal Oswal Financial Services Limited\\nKSB Limited\\nGujarat State Fertilizers & Chemicals Limited\\nZensar Technologies Limited\\nNational Aluminium Company Limited\\nCastrol India Limited\\neClerx Services Limited\\nPCBL Limited\\nGodfrey Phillips India Limited\\nEmami Limited\\nAjanta Pharma Limited\\nCoromandel International Limited\\nTorrent Pharmaceuticals Limited\\nGlaxoSmithKline Pharmaceuticals Limited\\nUnited Spirits Limited\\nHero MotoCorp Limited\\nTVS Motor Company Limited\\nBharat Petroleum Corporation Limited\\nMahindra & Mahindra Limited\\nSun Pharmaceutical Industries Limited\\nVedanta Limited\\nPI Industries Limited\\nBharat Electronics Limited\\nHindustan Zinc Limited\\nNMDC Limited\\nAtul Limited\\nSchaeffler India Limited\\nBalkrishna Industries Limited\\nSiemens Limited\\nBritannia Industries Limited\\nShriram Finance Limited\\nSamvardhana Motherson International Limited\\nVoltas Limited\\nTrent Limited\\nMphasis Limited\\nBosch Limited\\nRatnamani Metals & Tubes Limited\\nGrindwell Norton Limited\\nCummins India Limited\\nSymphony Limited\\nPricol Limited\\nSudarshan Chemical Industries Limited\\nOrchid Pharma Limited\\nIIFL Securities Limited\\nArvind Limited\\nLT Foods Limited\\nSharda Motor Industries Ltd.\\nVA Tech Wabag Limited\\nZen Technologies Limited\\nInox Green Energy Services Limited\\nMarksans Pharma Limited\\nThomas Cook  (India)  Limited\\nPuravankara Limited\\nAshoka Buildcon Limited\\nGravita India Limited\\nEpigral Limited\\nDhanuka Agritech Limited\\nArvind Fashions Limited\\nAstra Microwave Products Limited\\nWelspun Enterprises Limited\\nStrides Pharma Science Limited\\nNava Limited\\nITD Cementation India Limited\\nBharat Bijlee Limited\\nHeritage Foods Limited\\nBhansali Engineering Polymers Limited\\nShilpa Medicare Limited\\nIndia Glycols Limited\\nEdelweiss Financial Services Limited\\nKesoram Industries Limited\\nLux Industries Limited\\nNeuland Laboratories Limited\\nGreenply Industries Limited\\nVesuvius India Limited\\nElectrosteel Castings Limited\\nV-Mart Retail Limited\\nKEI Industries Limited\\nJohnson Controls - Hitachi Air Conditioning India Limited\\nKaveri Seed Company Limited\\nGabriel India Limited\\n', 2, 0)\n",
      "\n",
      " (553.0575561523438, 166.75909423828125, 570.0126953125, 707.4154663085938, '1.16%\\n1.14%\\n1.13%\\n1.12%\\n1.12%\\n1.11%\\n1.11%\\n1.10%\\n1.10%\\n1.09%\\n1.09%\\n1.08%\\n1.08%\\n1.08%\\n1.07%\\n1.06%\\n1.05%\\n1.02%\\n0.66%\\n0.61%\\n0.58%\\n0.58%\\n0.58%\\n0.57%\\n0.57%\\n0.57%\\n0.57%\\n0.57%\\n0.57%\\n0.57%\\n0.56%\\n0.56%\\n0.56%\\n0.56%\\n0.56%\\n0.56%\\n0.56%\\n0.56%\\n0.56%\\n0.56%\\n0.56%\\n0.56%\\n0.55%\\n0.55%\\n0.54%\\n0.50%\\n0.29%\\n0.25%\\n0.24%\\n0.18%\\n0.18%\\n0.18%\\n0.18%\\n0.18%\\n0.18%\\n0.18%\\n0.18%\\n0.18%\\n0.18%\\n0.18%\\n0.18%\\n0.18%\\n0.18%\\n0.18%\\n0.18%\\n0.18%\\n0.18%\\n0.17%\\n0.17%\\n0.17%\\n0.17%\\n0.17%\\n0.17%\\n0.17%\\n0.17%\\n0.17%\\n0.17%\\n0.17%\\n0.17%\\n0.17%\\n0.17%\\n0.17%\\n0.17%\\n0.17%\\n0.16%\\n0.16%\\n0.04%\\n0.01%\\n0.005%\\n0.001%\\n', 3, 0)\n",
      "\n",
      " (51.40480041503906, 166.29351806640625, 480.6758728027344, 713.47412109375, 'Industrial Products\\nEntertainment\\nConstruction\\nElectrical Equipment\\nPharmaceuticals & Biotechnology\\nIndustrial Manufacturing\\nPharmaceuticals & Biotechnology\\nAuto Components\\nCapital Markets\\nIndustrial Products\\nCapital Markets\\nIndustrial Products\\nFertilizers & Agrochemicals\\nIT - Software\\nNon - Ferrous Metals\\nPetroleum Products\\nCommercial Services & Supplies\\nChemicals & Petrochemicals\\nCigarettes & Tobacco Products\\nPersonal Products\\nPharmaceuticals & Biotechnology\\nFertilizers & Agrochemicals\\nPharmaceuticals & Biotechnology\\nPharmaceuticals & Biotechnology\\nBeverages\\nAutomobiles\\nAutomobiles\\nPetroleum Products\\nAutomobiles\\nPharmaceuticals & Biotechnology\\nDiversified Metals\\nFertilizers & Agrochemicals\\nAerospace & Defense\\nNon - Ferrous Metals\\nMinerals & Mining\\nChemicals & Petrochemicals\\nAuto Components\\nAuto Components\\nElectrical Equipment\\nFood Products\\nFinance\\nAuto Components\\nConsumer Durables\\nRetailing\\nIT - Software\\nAuto Components\\nIndustrial Products\\nIndustrial Products\\nIndustrial Products\\nConsumer Durables\\nAuto Components\\nChemicals & Petrochemicals\\nPharmaceuticals & Biotechnology\\nCapital Markets\\nTextiles & Apparels\\nAgricultural Food & other Products\\nAuto Components\\nOther Utilities\\nAerospace & Defense\\nOther Utilities\\nPharmaceuticals & Biotechnology\\nLeisure Services\\nRealty\\nConstruction\\nMinerals & Mining\\nChemicals & Petrochemicals\\nFertilizers & Agrochemicals\\nRetailing\\nAerospace & Defense\\nConstruction\\nPharmaceuticals & Biotechnology\\nPower\\nConstruction\\nElectrical Equipment\\nFood Products\\nChemicals & Petrochemicals\\nPharmaceuticals & Biotechnology\\nChemicals & Petrochemicals\\nFinance\\nCement & Cement Products\\nTextiles & Apparels\\nPharmaceuticals & Biotechnology\\nConsumer Durables\\nIndustrial Products\\nIndustrial Products\\nRetailing\\nIndustrial Products\\nConsumer Durables\\nAgricultural Food & other Products\\nAuto Components\\n8.96%\\n8.63%\\n25.24%\\n', 4, 0)\n",
      "\n",
      " (256.3013000488281, 152.30667114257812, 570.5004272460938, 162.27830505371094, 'Indian Equity and Equity Related Total\\n42.83%\\n', 5, 0)\n",
      "\n",
      " (256.3008117675781, 709.862060546875, 429.4248962402344, 719.4801025390625, 'TREPS, Cash, Cash Equivalents and Net Current Asset\\n', 6, 0)\n",
      "\n",
      " (256.3008117675781, 721.8040771484375, 307.6528625488281, 731.422119140625, 'Total Net Assets\\n', 7, 0)\n",
      "\n",
      " (547.9697265625, 710.1475219726562, 571.7068481445312, 719.7655639648438, '57.17%\\n', 8, 0)\n",
      "\n",
      " (542.8289184570312, 721.8502807617188, 570.4580688476562, 731.4683227539062, '100.00%\\n', 9, 0)\n"
     ]
    }
   ],
   "source": [
    "len(page_tables)\n",
    "\n",
    "tenth_page = page_tables[9]\n",
    "\n",
    "for block in tenth_page['blocks']:\n",
    "    print(f\"\\n {block}\")\n",
    "\n"
   ]
  },
  {
   "cell_type": "code",
   "execution_count": null,
   "metadata": {},
   "outputs": [],
   "source": [
    "table = tables[0]\n",
    "type(table.df)\n",
    "\n",
    "table.df.head(60)"
   ]
  },
  {
   "cell_type": "code",
   "execution_count": 17,
   "metadata": {},
   "outputs": [
    {
     "data": {
      "text/plain": [
       "{'accuracy': 99.97, 'whitespace': 23.19, 'order': 1, 'page': 4}"
      ]
     },
     "execution_count": 17,
     "metadata": {},
     "output_type": "execute_result"
    }
   ],
   "source": [
    "table.parsing_report"
   ]
  },
  {
   "cell_type": "code",
   "execution_count": null,
   "metadata": {},
   "outputs": [],
   "source": []
  }
 ],
 "metadata": {
  "colab": {
   "authorship_tag": "ABX9TyPpaLsQz1x7bY/3Wt5A037y",
   "mount_file_id": "13CsgmhaDfqGoLm8aJEhgpfpDdRvQtgVH",
   "provenance": []
  },
  "kernelspec": {
   "display_name": "envPDF",
   "language": "python",
   "name": "python3"
  },
  "language_info": {
   "codemirror_mode": {
    "name": "ipython",
    "version": 3
   },
   "file_extension": ".py",
   "mimetype": "text/x-python",
   "name": "python",
   "nbconvert_exporter": "python",
   "pygments_lexer": "ipython3",
   "version": "3.13.1"
  }
 },
 "nbformat": 4,
 "nbformat_minor": 0
}
