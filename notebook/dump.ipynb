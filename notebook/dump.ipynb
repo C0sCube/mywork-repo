{
 "cells": [
  {
   "cell_type": "code",
   "execution_count": null,
   "metadata": {
    "vscode": {
     "languageId": "plaintext"
    }
   },
   "outputs": [],
   "source": [
    "pattern = r'(Portfolio Turnover Ratio|Annualised Portfolio YTM|Macaulay Duration|Residual Maturity|Modified Duration|Residual Maturity|Beta|Treynor .*|Sharpe .*)\\s*([\\d,.]+)' \n",
    "nav_pattern = r'(Regular Growth|Direct Growth|Regular IDCW|Direct IDCW)\\s*([\\d,.]+)'\n",
    "aum_pattern = r'(AUM|Average AUM).*?([\\d,]+\\.\\d{2})'\n",
    "for fund, content in extracted_text.items():\n",
    " if \"assets_under_management_(aum)\" in content:\n",
    "     for text in content['assets_under_management_(aum)']:\n",
    "        text = re.sub(r'[\\*,:\\^;]+', \"\", text)\n",
    "        # print(text)\n",
    "        if matches := re.findall(aum_pattern, text, re.IGNORECASE):\n",
    "            print(matches)"
   ]
  },
  {
   "cell_type": "code",
   "execution_count": null,
   "metadata": {
    "vscode": {
     "languageId": "plaintext"
    }
   },
   "outputs": [],
   "source": [
    "entry_pattern = r\"Entry Load\\s*(NIL|)\"\n",
    "exit_pattern = r\"Exit Load\\s*(.*?)(?=\\n\\s*Entry Load|\\Z)\"  # Capture until next \"Entry Load\" or end of text\n",
    "\n",
    "# Extract matches\n",
    "entry_loads = re.findall(entry_pattern, all_text, re.IGNORECASE)\n",
    "exit_loads = re.findall(exit_pattern, all_text, re.IGNORECASE | re.DOTALL)\n",
    "exit_loads = [re.sub(r\"\\s+\", \" \", load.strip()) for load in exit_loads]\n",
    "\n",
    "# Combine extracted data\n",
    "extracted_data = [{\"Entry Load\": entry, \"Exit Load\": exit} for entry, exit in zip(entry_loads, exit_loads)]\n"
   ]
  },
  {
   "cell_type": "code",
   "execution_count": null,
   "metadata": {
    "vscode": {
     "languageId": "plaintext"
    }
   },
   "outputs": [],
   "source": [
    "mention_start = [\n",
    "        \"Date of Allotment\",\n",
    "        \"Fund Manager\",\n",
    "        \"Fund Size\",\n",
    "        \"Load Structure\",\n",
    "        \"Benchmark\",\n",
    "        \"Minimum Additional\",\n",
    "        r\"Minimum Redemption\\s*\\/\\s*Switch-out Amount\",\n",
    "    ]\n",
    "    \n",
    "mention_end = mention_start[1:] + [\"End_of_Data\"]\n",
    "\n",
    "# Generate regex patterns dynamically\n",
    "patterns = [r\"({start}\\s*)(.+?)({end}|$)\".format(start=start, end=end)\n",
    "    for start, end in zip(mention_start, mention_end)]\n",
    "final_dict = {}"
   ]
  },
  {
   "cell_type": "code",
   "execution_count": null,
   "metadata": {
    "vscode": {
     "languageId": "plaintext"
    }
   },
   "outputs": [],
   "source": [
    "for fund, content in final_text.items():\n",
    "    scheme_text = \"\"\n",
    "    if \"scheme_details\" in content:\n",
    "        for text in content['scheme_details']:\n",
    "            scheme_text+= f' {text}'\n",
    "    scheme_text = re.sub(r\"[\\^#*\\$:;]\", \"\", scheme_text)\n",
    "    for pattern in patterns:\n",
    "        if matches:= re.findall(pattern, scheme_text, re.DOTALL): #not used ignorecase\n",
    "            for match in matches:\n",
    "                key, value, dummy = match\n",
    "                value = value.strip()\n",
    "                final_dict[key.strip()] = value"
   ]
  },
  {
   "cell_type": "code",
   "execution_count": null,
   "metadata": {
    "vscode": {
     "languageId": "plaintext"
    }
   },
   "outputs": [],
   "source": []
  }
 ],
 "metadata": {
  "language_info": {
   "name": "python"
  }
 },
 "nbformat": 4,
 "nbformat_minor": 2
}
