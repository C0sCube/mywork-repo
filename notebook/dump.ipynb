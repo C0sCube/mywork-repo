{
 "cells": [
  {
   "cell_type": "code",
   "execution_count": null,
   "metadata": {
    "vscode": {
     "languageId": "plaintext"
    }
   },
   "outputs": [],
   "source": [
    "pattern = r'(Portfolio Turnover Ratio|Annualised Portfolio YTM|Macaulay Duration|Residual Maturity|Modified Duration|Residual Maturity|Beta|Treynor .*|Sharpe .*)\\s*([\\d,.]+)' \n",
    "nav_pattern = r'(Regular Growth|Direct Growth|Regular IDCW|Direct IDCW)\\s*([\\d,.]+)'\n",
    "aum_pattern = r'(AUM|Average AUM).*?([\\d,]+\\.\\d{2})'\n",
    "for fund, content in extracted_text.items():\n",
    " if \"assets_under_management_(aum)\" in content:\n",
    "     for text in content['assets_under_management_(aum)']:\n",
    "        text = re.sub(r'[\\*,:\\^;]+', \"\", text)\n",
    "        # print(text)\n",
    "        if matches := re.findall(aum_pattern, text, re.IGNORECASE):\n",
    "            print(matches)"
   ]
  },
  {
   "cell_type": "code",
   "execution_count": null,
   "metadata": {
    "vscode": {
     "languageId": "plaintext"
    }
   },
   "outputs": [],
   "source": []
  }
 ],
 "metadata": {
  "language_info": {
   "name": "python"
  }
 },
 "nbformat": 4,
 "nbformat_minor": 2
}
