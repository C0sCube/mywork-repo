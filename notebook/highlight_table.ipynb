{
 "cells": [
  {
   "cell_type": "code",
   "execution_count": 64,
   "metadata": {},
   "outputs": [],
   "source": [
    "import pdfplumber\n",
    "import fitz"
   ]
  },
  {
   "cell_type": "code",
   "execution_count": 65,
   "metadata": {},
   "outputs": [],
   "source": [
    "path = r\"C:\\Users\\Kaustubh.keny\\OneDrive - Cogencis Information Services Ltd\\Documents\\office-projects\\pdf-extractor\"\n",
    "samco_path = r\"\\data\\SamcoFactsheetOct24.pdf\"\n",
    "tata_path = r\"\\data\\TataFactNov24.pdf\""
   ]
  },
  {
   "cell_type": "code",
   "execution_count": 66,
   "metadata": {},
   "outputs": [],
   "source": [
    "from PIL import Image\n",
    "from io import BytesIO\n",
    "\n",
    "# Byte array for the image\n",
    "image_bytes = b'\\x89PNG\\r\\n\\x1a\\n\\x00\\x00\\x00\\rIHDR\\x00\\x00\\x01D\\x00\\x00\\x00\\x0f\\x08\\x06\\x00\\x00\\x00\\x9c\\x02\\xb6\\xdd\\x00\\x00\\x00\\tpHYs\\x00\\x00\\x0e\\xc4\\x00\\x00\\x0e\\xc4\\x01\\x95+\\x0e\\x1b\\x00\\x00\\x02CIDATx\\x9c\\xed\\xdayW\\x12Q\\x1c\\xc6q^\\n4\\x84B\\x94\\xef\\xc1\\xa5,[\\x0c\\xb5\\xd4\\x16\\x14\\x12\\xda$\\x97B\\xdf\\x82\\xa2\\x95Z\\xb6\\x11H\\x1b\\x95\\x95\\xed\\x81\\xe6k\\xbb\\x9e\\xeb=\\xc3\\xcc\\x9d{\\x99\\x81\\x01\\x8e#<\\x7f|\\xde\\xc2s\\xbe\\xe7\\xfc~\\xae\\x8e\\xf9]\\xc2\\x99\\xfb\\xcf9A%w\\x04\\xc7\\x93\\xdb\\xcc\\x03&XR$\\xc1\\xfbEr\\x8cS`f\\x0b$\\xc0\\xf9G\\x023F\\x7fK\\xfc\\xd3\\xaa?\\xbc)\\xea7\\xef\\x1e\\xf5K\\x94P\\xfd\\xdc\\x17\\xa0&U?Dw\\xbfKl\\x11\\xff\\x1d\\x89\\xdb\\xdf$\\xbe\\x12\\xff-\\xa3/\\x9a\\x9bF\\x9bL\\\\\\xef3\\x13\\xd3\\xfb\\xa4\\x99\\xd0\\xfb\\xc8\\xbbA\\xe5I\\xbbQ4O\\xda\\xa2\\x1fD\\x11\\xc6\\x17y\\xcf\\x1b\\xa7\\xde\\xed;\\xaa7F\\xbd\\x15\\x85\\x19o\\xf8\\x8d\\xe8:\\x95\\x13]Sm\\xf0\\xae\\xeae\\x99+F\\x19\\xcdh\\x86(\\x9c\\xd7\\xcc\\x88Q\\x9a(\\xc32\\xaf\\x98\\xcb2/\\x89rIb\\xe8\\x85\\xc0K\\r>/o\\xe0\\x19GQ\\x85\\xd69G\\xa8\\x8bzO9\\x9e~\\xd5\\x13\\xde\\x05\\xa35\\xe29\\xbfF\\xdc\\x82U\\xe2>g\\xe2\\xec\\x8a\\xa8\\x8fz,:\\xa3z$:\\xadz\\xa8\\xe9\\x958\\xb5,w\\x92Z\\x92\\xeb\\xa1R\\xbcn\\xbdEM\\x97D\\xe7B\\x89G\\xc7\\xd5\\x92\\x83\\x98h\\xf0 \\x9a\\x8db=\\x061f=\\x88\\xd5\\x8e\\xa2\\xd9 \\xfa\\x84A,?\\x8a\\xf6\\x06\\xd1l\\x14\\xb3\\xd6\\xa3Xn\\x10\\x85QL\\x9b\\x8fb=\\x06\\xd1l\\x14\\xab\\x19\\xc4P\\xfd\\x06Q\\x1c\\xc5U\\xf3Qt\\xd4 \\x96\\x19E\\xcbALa\\x10[\\xa6\\x10+\\x18\\xc4\\x8a\\xc7\\xb0\\x82AD!\\xa2\\x10Q\\x88\\xcd<\\x88(D\\x14b\\x03\\n\\xd1r\\x14Q\\x88(DG\\x0e\"\\n\\xd1a\\x85\\x98C!\\xa2\\x10Q\\x88(D\\x8bA\\x8c\\xdb\\x1d\\xc4\\xea\\x0f+\\x87\\xbd\\x10\\xbd(D\\x14\"\\n\\x11\\x85\\x88BD!\\xa2\\x10Q\\x88(D\\x14\"\\n\\x11\\x85\\x88BD!\\xda/D\\xbb\\x83\\x88BD!\\xa2\\x10\\x9by\\x10Q\\x88\\xce(\\xc4\\x8a^oZ\\xa0\\x10\\r\\xa3\\x88BD!\\xa2\\x10Q\\x88(D\\x14\"\\n\\x11\\x85\\x88BD!\\xa2\\x10Q\\x88(D\\x14\"\\n\\x11\\x85\\x88At\\xc0 \\xa2\\x10Q\\x88\\xb5\\x16\\xa2\\x9dQD!b\\x10\\x1d9\\x88(\\xc4\\x1a\\x07\\xf1\\x00\\nQ\\x18D\\x87\\x16b\\xbd\\xden\\x1a]\\x88\\x18D\\xe9 \\xee\\x01\\xef7\\x87\\xb9\\xd9#!\\xca\\x00\\x00\\x00\\x00IEND\\xaeB`\\x82'\n",
    "\n",
    "# Convert the byte array to an image\n",
    "image = Image.open(BytesIO(image_bytes))\n",
    "image.show()"
   ]
  },
  {
   "cell_type": "code",
   "execution_count": null,
   "metadata": {},
   "outputs": [],
   "source": []
  },
  {
   "cell_type": "code",
   "execution_count": 13,
   "metadata": {},
   "outputs": [],
   "source": [
    "import fitz  # PyMuPDF\n",
    "\n",
    "def mask_bboxes(input_path: str, output_path: str, bboxes: list):\n",
    "    \"\"\"\n",
    "    Masks specified bounding boxes in a PDF with a semi-transparent overlay.\n",
    "    \n",
    "    Args:\n",
    "        input_path (str): Path to the input PDF file.\n",
    "        output_path (str): Path to save the modified PDF.\n",
    "        bboxes (list): List of bounding boxes to mask. Each bbox is a tuple (x0, top, x1, bottom).\n",
    "    \"\"\"\n",
    "    doc = fitz.open(input_path)\n",
    "    new_pdf = fitz.open()\n",
    "\n",
    "    for pg in range(len(doc)):\n",
    "        page = doc[pg]\n",
    "\n",
    "        # Create a new page with the same dimensions\n",
    "        new_page = new_pdf.new_page(width=page.rect.width, height=page.rect.height)\n",
    "\n",
    "        # Copy content\n",
    "        new_page.show_pdf_page(page.rect, doc, pg)\n",
    "\n",
    "        # Draw masks over the specified bounding boxes\n",
    "        for bbox in bboxes:\n",
    "            rect = fitz.Rect(bbox)\n",
    "            new_page.draw_rect(rect, color=(0, 0, 0), fill=(0, 0, 0, 0.3))\n",
    "\n",
    "    # Save the new PDF\n",
    "    new_pdf.save(output_path)\n",
    "    print(f\"PDF with masked bounding boxes saved to: {output_path}\")\n"
   ]
  },
  {
   "cell_type": "code",
   "execution_count": 70,
   "metadata": {},
   "outputs": [],
   "source": [
    "#For Samco\n",
    "input_path = path + samco_path\n",
    "out_path = path + r\"\\output\\pdf_minus_image.pdf\""
   ]
  },
  {
   "cell_type": "code",
   "execution_count": 62,
   "metadata": {},
   "outputs": [],
   "source": [
    "#For Tata\n",
    "input_path = path + tata_path\n",
    "out_path = path + r\"\\output\\tata_clean_image.pdf\""
   ]
  },
  {
   "cell_type": "code",
   "execution_count": 83,
   "metadata": {},
   "outputs": [],
   "source": [
    "import fitz  # PyMuPDF\n",
    "\n",
    "def create_new_pdf(input_pdf_path, output_pdf_path):\n",
    "    \"\"\"\n",
    "    Create a new PDF without images based on the input PDF.\n",
    "\n",
    "    Args:\n",
    "        input_pdf_path (str): Path to the input PDF.\n",
    "        output_pdf_path (str): Path to save the new PDF without images.\n",
    "    \"\"\"\n",
    "    input_doc = fitz.open(input_pdf_path)\n",
    "    output_doc = fitz.open()\n",
    "\n",
    "    # Iterate through each page of the input PDF\n",
    "    for page_number in range(len(input_doc)):\n",
    "        page = input_doc[page_number]\n",
    "        \n",
    "        # Create a new page in the output PDF with the same dimensions as the original\n",
    "        new_page = output_doc.new_page(width=page.rect.width, height=page.rect.height)\n",
    "\n",
    "        # Extract all blocks (text, images, etc.) from the page\n",
    "        blocks = page.get_text(\"dict\")['blocks']\n",
    "        \n",
    "         # Iterate over blocks and add only text blocks to the new page\n",
    "        for block in blocks:\n",
    "            if 'image' in block:\n",
    "                del block['image']\n",
    "            if 'lines' in block:  # This indicates a text block\n",
    "                for line in block['lines']:\n",
    "                    for span in line['spans']:\n",
    "                        # Ensure bbox and other attributes exist\n",
    "                        bbox = span.get('bbox', [0, 0, 0, 0])  # Fallback if bbox is missing\n",
    "                        text = span['text']\n",
    "                        size = span.get('size', 14)  # Default font size if not provided\n",
    "                        color = span.get('color', (0, 0, 0))  # Default color (black) if not provided\n",
    "                        font = span.get('font', \"helv\")\n",
    "\n",
    "                        is_bold = 'Bold' in font #check if bold is in font\n",
    "                        fontname = font + (\"-b\" if is_bold else \"\")\n",
    "\n",
    "                        # Check if color is an integer (e.g., 0x000000) and convert to (R, G, B)\n",
    "                        if isinstance(color, int):\n",
    "                            color = ((color >> 16) & 255, (color >> 8) & 255, color & 255)  # Convert hex to RGB\n",
    "                        \n",
    "                        # Normalize the color values (R, G, B) to range from 0 to 1\n",
    "                        color = tuple(c / 255 for c in color)\n",
    "                        \n",
    "                        # Function to adjust color lightness if it's too light\n",
    "                        def adjust_lightness(color, threshold=50, increment=50):\n",
    "                            # Extract RGB components\n",
    "                            r, g, b = color\n",
    "                            \n",
    "                            # Calculate the luminosity of the color using the formula\n",
    "                            luminosity = 0.299 * r + 0.587 * g + 0.114 * b\n",
    "                            \n",
    "                            # Adjust color if luminosity is below the threshold\n",
    "                            if luminosity < threshold:\n",
    "                                # Reduce color brightness to make it darker\n",
    "                                color = tuple(max(0, c - increment) for c in color)\n",
    "                            \n",
    "                            return color\n",
    "                        \n",
    "                        color = adjust_lightness(color)\n",
    "\n",
    "                        # Insert the text content with original attributes (font, size, color)\n",
    "                        try:\n",
    "                            new_page.insert_text(\n",
    "                                (bbox[0], bbox[1]),  # Position (x, y) of the text\n",
    "                                text,\n",
    "                                fontsize=size,\n",
    "                                fontname= fontname,\n",
    "                                color=color\n",
    "                            )\n",
    "                        except Exception as e:\n",
    "                            #print(f\"Error inserting text: {e}\")\n",
    "                            # Fallback to insert text with 'helv' font and black color if error occurs\n",
    "                            new_page.insert_text(\n",
    "                                (bbox[0], bbox[1]),  # Position (x, y) of the text\n",
    "                                text,\n",
    "                                fontsize=size,\n",
    "                                fontname=\"helv\",  # Use 'helv' font for fallback\n",
    "                                color=color  # Default color black\n",
    "                            )\n",
    "    # Save the newly constructed PDF\n",
    "    output_doc.save(output_pdf_path)\n",
    "    input_doc.close()\n",
    "    output_doc.close()\n",
    "\n",
    "    print(f\"Reconstructed PDF without images saved to: {output_pdf_path}\")\n"
   ]
  },
  {
   "cell_type": "code",
   "execution_count": 79,
   "metadata": {},
   "outputs": [],
   "source": [
    "import pdfplumber\n",
    "\n",
    "def detect_tables_and_highlight(input_pdf_path, output_pdf_path):\n",
    "    \"\"\"\n",
    "    Detect tables in a reconstructed PDF using pdfplumber and highlight them with boundaries.\n",
    "\n",
    "    Args:\n",
    "        input_pdf_path (str): Path to the input PDF.\n",
    "        output_pdf_path (str): Path to save the PDF with highlighted tables.\n",
    "    \"\"\"\n",
    "    with pdfplumber.open(input_pdf_path) as pdf:\n",
    "        output_doc = fitz.open()\n",
    "\n",
    "        for page_number, pdf_page in enumerate(pdf.pages):\n",
    "            page_bbox = pdf_page.bbox  # Page dimensions\n",
    "            pdf_tables = pdf_page.find_tables()  # Detect tables using pdfplumber\n",
    "\n",
    "            # Open the corresponding page in the original PDF\n",
    "            doc_page = fitz.open(input_pdf_path)[page_number]\n",
    "            new_page = output_doc.new_page(width=doc_page.rect.width, height=doc_page.rect.height)\n",
    "\n",
    "            # Highlight each detected table\n",
    "            for table in pdf_tables:\n",
    "                table_bbox = table.bbox  # Bounding box of the table: (x0, y0, x1, y1)\n",
    "                rect = fitz.Rect(table_bbox)\n",
    "                new_page.draw_rect(\n",
    "                    rect,\n",
    "                    color=(0, 0, 1),  # Blue color for table boundaries\n",
    "                    width=1.5         # Medium line width\n",
    "                )\n",
    "\n",
    "            # Copy other content from the original page\n",
    "            new_page.show_pdf_page(new_page.rect, doc_page.parent, page_number)\n",
    "\n",
    "        # Save the output PDF\n",
    "        output_doc.save(output_pdf_path)\n",
    "        output_doc.close()\n",
    "\n",
    "    print(f\"PDF with highlighted tables saved to: {output_pdf_path}\")\n"
   ]
  },
  {
   "cell_type": "code",
   "execution_count": 86,
   "metadata": {},
   "outputs": [
    {
     "name": "stdout",
     "output_type": "stream",
     "text": [
      "PDF with highlighted tables saved to: C:\\Users\\Kaustubh.keny\\OneDrive - Cogencis Information Services Ltd\\Documents\\office-projects\\pdf-extractor\\output\\detectTable.pdf\n"
     ]
    }
   ],
   "source": [
    "input_path = path + samco_path\n",
    "output_path = path + r\"\\output\\detectTable.pdf\"\n",
    "\n",
    "detect_tables_and_highlight(input_path, output_path)"
   ]
  },
  {
   "cell_type": "code",
   "execution_count": 87,
   "metadata": {},
   "outputs": [
    {
     "name": "stdout",
     "output_type": "stream",
     "text": [
      "Reconstructed PDF without images saved to: C:\\Users\\Kaustubh.keny\\OneDrive - Cogencis Information Services Ltd\\Documents\\office-projects\\pdf-extractor\\output\\samco_new.pdf\n"
     ]
    }
   ],
   "source": [
    "input_pdf_path = path + r\"\\output\\detectTable.pdf\"  # Replace with the actual path\n",
    "output_pdf_path = path + r\"\\output\\samco_new.pdf\"  # Replace with the desired output path\n",
    "\n",
    "create_new_pdf(input_pdf_path, output_pdf_path)"
   ]
  },
  {
   "cell_type": "code",
   "execution_count": null,
   "metadata": {},
   "outputs": [],
   "source": []
  }
 ],
 "metadata": {
  "kernelspec": {
   "display_name": ".venv",
   "language": "python",
   "name": "python3"
  },
  "language_info": {
   "codemirror_mode": {
    "name": "ipython",
    "version": 3
   },
   "file_extension": ".py",
   "mimetype": "text/x-python",
   "name": "python",
   "nbconvert_exporter": "python",
   "pygments_lexer": "ipython3",
   "version": "3.13.1"
  }
 },
 "nbformat": 4,
 "nbformat_minor": 2
}
