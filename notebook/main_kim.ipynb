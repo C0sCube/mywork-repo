{
 "cells": [
  {
   "cell_type": "code",
   "execution_count": 1,
   "id": "1952a021",
   "metadata": {},
   "outputs": [
    {
     "name": "stderr",
     "output_type": "stream",
     "text": [
      "c:\\Users\\kaustubh.keny\\Projects\\office-work\\mywork-repo\\.venv-py1310\\lib\\site-packages\\pypdf\\_crypt_providers\\_cryptography.py:32: CryptographyDeprecationWarning: ARC4 has been moved to cryptography.hazmat.decrepit.ciphers.algorithms.ARC4 and will be removed from cryptography.hazmat.primitives.ciphers.algorithms in 48.0.0.\n",
      "  from cryptography.hazmat.primitives.ciphers.algorithms import AES, ARC4\n"
     ]
    }
   ],
   "source": [
    "%load_ext autoreload\n",
    "%autoreload 2\n",
    "from app.config_loader import Config\n",
    "from app.program_logger import *\n",
    "conf = Config()\n",
    "\n",
    "import pdfplumber, camelot, pprint, json5,json, os, re\n",
    "import fitz #type: ignore\n",
    "import pandas as pd\n",
    "import numpy as np\n",
    "\n",
    "from app.fund_sid_data import *\n",
    "from app.utils import *\n",
    "from app.parse_table import *\n",
    "with open(\"config\\\\sid_params.json5\",\"r+\") as file:\n",
    "    params = json5.load(file)\n",
    "\n",
    "# with open(\"config\\\\sid_params.json5\",\"r+\") as file:\n",
    "#     params = json5.dump(params,file)"
   ]
  },
  {
   "cell_type": "code",
   "execution_count": null,
   "id": "78cbe320",
   "metadata": {},
   "outputs": [],
   "source": [
    "base_path = r\"C:\\Users\\Kaustubh.keny\\Projects\\PDF\\KIM\\Mar\"\n",
    "# base_path = r'C:\\Users\\rando\\OneDrive\\Documents\\PDFDrive\\KIM\\May'\n",
    "kim_path = Helper.get_amc_paths(base_path)\n",
    "kim_path"
   ]
  },
  {
   "cell_type": "code",
   "execution_count": null,
   "id": "a73f351b",
   "metadata": {},
   "outputs": [],
   "source": [
    "path = kim_path[\"Bajaj Finserv Mutual Fund_B\"]\n",
    "object = BajajFinServSIDKIM(amc_id=\"59\",path=path)\n",
    "extracted_text = object.parse_KIM_data(pages=\"4\", instrument_count=2)\n",
    "data = object.refine_data(extracted_text)\n",
    "dfs = object.merge_and_select_data(data=data,sid_or_kim=\"kim\",special_func=False)"
   ]
  },
  {
   "cell_type": "code",
   "execution_count": null,
   "id": "c2e01efe",
   "metadata": {},
   "outputs": [],
   "source": [
    "path = kim_path[\"Baroda Bnp Paribas Mutual Fund_B\"]\n",
    "object = BarodaBNP(amc_id=\"2\",path=path)\n",
    "extracted_text = object.parse_KIM_data(pages=\"2\", instrument_count=4)\n",
    "data = object.refine_data(extracted_text)\n",
    "dfs = object.merge_and_select_data(data=data,sid_or_kim=\"kim\",special_func=False)"
   ]
  },
  {
   "cell_type": "code",
   "execution_count": null,
   "id": "ec81a3e4",
   "metadata": {},
   "outputs": [],
   "source": [
    "path = kim_path[\"Angel One Mututal Fund_B\"]\n",
    "object = AngelOne(amc_id=\"96\",path=path)\n",
    "extracted_text = object.parse_KIM_data(pages=\"3\")\n",
    "data = object.refine_data(extracted_text)\n",
    "dfs = object.merge_and_select_data(data=data,sid_or_kim=\"kim\",special_func=False)"
   ]
  },
  {
   "cell_type": "code",
   "execution_count": null,
   "id": "3448e9be",
   "metadata": {},
   "outputs": [],
   "source": [
    "path = kim_path[\"Dsp Mutual Fund_B\"]\n",
    "object = DSP(amc_id=\"8\",path=path)\n",
    "extracted_text = object.parse_KIM_data(pages=\"4\")\n",
    "data = object.refine_data(extracted_text)\n",
    "dfs = object.merge_and_select_data(data=data,sid_or_kim=\"kim\",special_func=False)"
   ]
  },
  {
   "cell_type": "code",
   "execution_count": null,
   "id": "9049757b",
   "metadata": {},
   "outputs": [],
   "source": [
    "path = kim_path[\"Bandhan Mutual Fund\"]\n",
    "object = Bandhan(amc_id=\"16\",path=path)\n",
    "extracted_text = object.parse_KIM_data(pages=\"3\")\n",
    "data = object.refine_data(extracted_text)\n",
    "dfs = object.merge_and_select_data(data=data,sid_or_kim=\"kim\",special_func=False)"
   ]
  },
  {
   "cell_type": "code",
   "execution_count": null,
   "id": "2eba955b",
   "metadata": {},
   "outputs": [],
   "source": [
    "path = kim_path[\"Aditya Birla Sun Life Mutual Fund\"]\n",
    "object = AdityaBirla(amc_id=\"3\",path=path)\n",
    "extracted_text = object.parse_KIM_data(pages=\"1\")\n",
    "data = object.refine_data(extracted_text)\n",
    "dfs = object.merge_and_select_data(data=data,sid_or_kim=\"kim\",special_func=False)"
   ]
  },
  {
   "cell_type": "code",
   "execution_count": null,
   "id": "2d30f06d",
   "metadata": {},
   "outputs": [],
   "source": [
    "path = kim_path[\"Edelweiss Mutual Fund\"]\n",
    "object = Edelweiss(amc_id=\"9\",path = path)\n",
    "extracted_text = object.parse_KIM_data(pages=\"2\", instrument_count=2)\n",
    "data = object.refine_data(extracted_text)\n",
    "dfs = object.merge_and_select_data(data,sid_or_kim=\"kim\",special_func=False)"
   ]
  },
  {
   "cell_type": "code",
   "execution_count": null,
   "id": "15d2b122",
   "metadata": {},
   "outputs": [],
   "source": [
    "path = kim_path[\"Motilal Oswal Mutual Fund\"]\n",
    "object = MotilalOswal(amc_id=\"28\", path=path)\n",
    "extracted_text = object.parse_KIM_data(pages=\"3\", instrument_count=6)\n",
    "data = object.refine_data(extracted_text)\n",
    "dfs = object.merge_and_select_data(data,sid_or_kim=\"kim\",special_func=False)"
   ]
  },
  {
   "cell_type": "code",
   "execution_count": null,
   "id": "db5b02e7",
   "metadata": {},
   "outputs": [],
   "source": [
    "path = kim_path[\"Nippon India Mutual Fund_C\"]\n",
    "object = Nippon(amc_id=\"33\",path=path)\n",
    "extracted_text = object.parse_KIM_data(pages=\"2\")\n",
    "data = object.refine_data(extracted_text)\n",
    "dfs = object.merge_and_select_data(data,sid_or_kim=\"kim\",special_func=False)"
   ]
  },
  {
   "cell_type": "code",
   "execution_count": null,
   "id": "6f0ab264",
   "metadata": {},
   "outputs": [],
   "source": [
    "path = kim_path[\"Samco Mutual Fund\"]\n",
    "object = Samco(amc_id=\"58\", path=path)\n",
    "extracted_text = object.parse_KIM_data(pages=\"2\", instrument_count=5)\n",
    "data = object.refine_data(extracted_text)\n",
    "dfs = object.merge_and_select_data(data,sid_or_kim=\"kim\",special_func=False)"
   ]
  },
  {
   "cell_type": "code",
   "execution_count": null,
   "id": "a4b82d7b",
   "metadata": {},
   "outputs": [],
   "source": [
    "path = kim_path[\"Sbi Mutual Fund\"]\n",
    "object = SBI(amc_id=\"35\", path=path)\n",
    "extracted_text = object.parse_KIM_data(pages=\"2\", instrument_count=3)\n",
    "data = object.refine_data(extracted_text)\n",
    "dfs = object.merge_and_select_data(data,sid_or_kim=\"kim\",special_func=False)"
   ]
  },
  {
   "cell_type": "code",
   "execution_count": null,
   "id": "d15c2bf0",
   "metadata": {},
   "outputs": [],
   "source": [
    "path = kim_path[\"Tata Mutual Fund\"]\n",
    "object = Tata(amc_id=\"38\", path=path)\n",
    "extracted_text = object.parse_KIM_data(pages=\"2\", instrument_count=3)\n",
    "data = object.refine_data(extracted_text)\n",
    "dfs = object.merge_and_select_data(data,sid_or_kim=\"kim\",special_func=False)"
   ]
  },
  {
   "cell_type": "code",
   "execution_count": null,
   "id": "fbe71eaf",
   "metadata": {},
   "outputs": [],
   "source": [
    "path = kim_path[\"Unifi Mutual Fund\"]\n",
    "object = Unifi(amc_id=\"97\", path=path)\n",
    "extracted_text = object.parse_KIM_data(pages=\"3\", instrument_count=3)\n",
    "data = object.refine_data(extracted_text)\n",
    "dfs = object.merge_and_select_data(data,sid_or_kim=\"kim\",special_func=False)"
   ]
  },
  {
   "cell_type": "code",
   "execution_count": null,
   "id": "98cb0edd",
   "metadata": {},
   "outputs": [],
   "source": [
    "path = kim_path[\"Canara Robeco Mutual Fund\"]\n",
    "object = Canara(amc_id=\"6\",path=path)\n",
    "extracted_text = object.parse_KIM_data(pages=\"2\", instrument_count=4)\n",
    "data = object.refine_data(extracted_text)\n",
    "dfs = object.merge_and_select_data(data,sid_or_kim=\"kim\",special_func=False)"
   ]
  },
  {
   "cell_type": "code",
   "execution_count": null,
   "id": "b0597615",
   "metadata": {},
   "outputs": [],
   "source": [
    "path = kim_path[\"Groww Mutual Fund_C\"]\n",
    "object = GROWW(amc_id=\"20\",path=path)\n",
    "extracted_text = object.parse_KIM_data(pages=\"3\", instrument_count=2)\n",
    "data = object.refine_data(extracted_text)\n",
    "dfs = object.merge_and_select_data(data,sid_or_kim=\"kim\",special_func=False)\n"
   ]
  },
  {
   "cell_type": "code",
   "execution_count": null,
   "id": "dcf7aeb9",
   "metadata": {},
   "outputs": [],
   "source": [
    "path = kim_path[\"Hdfc Mutual Fund\"]\n",
    "object = HDFC(amc_id=\"12\",path=path)\n",
    "extracted_text = object.parse_KIM_data(pages=\"2\", instrument_count=2)\n",
    "data = object.refine_data(extracted_text)\n",
    "dfs = object.merge_and_select_data(data,sid_or_kim=\"kim\",special_func=False)"
   ]
  },
  {
   "cell_type": "code",
   "execution_count": null,
   "id": "1d6847a4",
   "metadata": {},
   "outputs": [],
   "source": [
    "path = kim_path[\"Icici Prudential Mutual Fund\"]\n",
    "object = ICICI(amc_id=\"14\",path=path)\n",
    "extracted_text = object.parse_KIM_data(pages=\"1\", instrument_count=6)\n",
    "data = object.refine_data(extracted_text)\n",
    "dfs = object.merge_and_select_data(data,sid_or_kim=\"kim\",special_func=False)"
   ]
  },
  {
   "cell_type": "code",
   "execution_count": null,
   "id": "5b9708f3",
   "metadata": {},
   "outputs": [],
   "source": [
    "path = kim_path[\"Kotak Mahindra Mutual Fund\"]\n",
    "object = Kotak(amc_id=\"23\",path=path)\n",
    "extracted_text = object.parse_KIM_data(pages=\"1\", instrument_count=3)\n",
    "data = object.refine_data(extracted_text)\n",
    "dfs = object.merge_and_select_data(data,sid_or_kim=\"kim\",special_func=False)"
   ]
  },
  {
   "cell_type": "code",
   "execution_count": null,
   "id": "379f7f87",
   "metadata": {},
   "outputs": [],
   "source": [
    "path = kim_path[\"Mirae Asset Mutual Fund\"]\n",
    "object = MIRAE(amc_id=\"27\", path=path)\n",
    "extracted_text = object.parse_KIM_data(pages=\"4\", instrument_count=3)\n",
    "data = object.refine_data(extracted_text)\n",
    "dfs = object.merge_and_select_data(data,sid_or_kim=\"kim\",special_func=False)"
   ]
  },
  {
   "cell_type": "code",
   "execution_count": null,
   "id": "dabf1da1",
   "metadata": {},
   "outputs": [],
   "source": [
    "path = kim_path[\"Uti Mutual Fund\"]\n",
    "object = UTI(amc_id=\"41\", path=path)\n",
    "extracted_text = object.parse_KIM_data(pages=\"2\", instrument_count=6)\n",
    "data = object.refine_data(extracted_text)\n",
    "dfs = object.merge_and_select_data(data,sid_or_kim=\"kim\",special_func=False)"
   ]
  },
  {
   "cell_type": "code",
   "execution_count": null,
   "id": "7b441de8",
   "metadata": {},
   "outputs": [],
   "source": [
    "path = kim_path[\"Axis Mutual Fund\"]\n",
    "object = AXISMF(amc_id=\"1\",path=path)\n",
    "extracted_text = object.parse_KIM_data(pages=\"1\", instrument_count=2)\n",
    "data = object.refine_data(extracted_text)\n",
    "dfs = object.merge_and_select_data(data,sid_or_kim=\"kim\",special_func=False)"
   ]
  },
  {
   "cell_type": "code",
   "execution_count": null,
   "id": "94b5c1a8",
   "metadata": {},
   "outputs": [],
   "source": [
    "path = kim_path[\"Bank Of India Mutual Fund\"]\n",
    "object = BankOfIndia(amc_id=\"5\",path=path)\n",
    "extracted_text = object.parse_KIM_data(pages=\"3\", instrument_count=2)\n",
    "data = object.refine_data(extracted_text)\n",
    "dfs = object.merge_and_select_data(data,sid_or_kim=\"kim\",special_func=False)"
   ]
  },
  {
   "cell_type": "code",
   "execution_count": null,
   "id": "049f6e5f",
   "metadata": {},
   "outputs": [],
   "source": [
    "path = kim_path[\"Hsbc Mutual Fund\"]\n",
    "object = HSBC(amc_id=\"13\",path=path)\n",
    "extracted_text = object.parse_KIM_data(pages=\"3\", instrument_count=4)\n",
    "data = object.refine_data(extracted_text)\n",
    "dfs = object.merge_and_select_data(data,sid_or_kim=\"kim\",special_func=False)"
   ]
  },
  {
   "cell_type": "code",
   "execution_count": null,
   "id": "4d33347c",
   "metadata": {},
   "outputs": [],
   "source": [
    "path = kim_path[\"Invesco Mutual Fund\"]\n",
    "object = Invesco(amc_id=\"21\",path=path)\n",
    "extracted_text = object.parse_KIM_data(pages=\"3\", instrument_count=4)\n",
    "data = object.refine_data(extracted_text)\n",
    "dfs = object.merge_and_select_data(data,sid_or_kim=\"kim\",special_func=False)"
   ]
  },
  {
   "cell_type": "code",
   "execution_count": null,
   "id": "193b8e72",
   "metadata": {},
   "outputs": [],
   "source": [
    "path = kim_path[\"Iti Mutual Fund\"]\n",
    "object = Invesco(amc_id=\"51\",path=path)\n",
    "extracted_text = object.parse_KIM_data(pages=\"2\", instrument_count=4)\n",
    "data = object.refine_data(extracted_text)\n",
    "dfs = object.merge_and_select_data(data,sid_or_kim=\"kim\",special_func=False)"
   ]
  },
  {
   "cell_type": "code",
   "execution_count": null,
   "id": "fa718c56",
   "metadata": {},
   "outputs": [],
   "source": [
    "path = kim_path[\"Lic Mutual Fund\"]\n",
    "object = LIC(amc_id=\"25\",path=path)\n",
    "extracted_text = object.parse_KIM_data(pages=\"3\", instrument_count=5)\n",
    "data = object.refine_data(extracted_text)\n",
    "dfs = object.merge_and_select_data(data,sid_or_kim=\"kim\",special_func=False)"
   ]
  },
  {
   "cell_type": "code",
   "execution_count": null,
   "id": "8142fccb",
   "metadata": {},
   "outputs": [],
   "source": [
    "path = kim_path[\"Iti Mutual Fund\"]\n",
    "object = Invesco(amc_id=\"51\",path=path)\n",
    "extracted_text = object.parse_KIM_data(pages=\"2\", instrument_count=4)\n",
    "data = object.refine_data(extracted_text)\n",
    "dfs = object.merge_and_select_data(data,sid_or_kim=\"kim\",special_func=False)"
   ]
  },
  {
   "cell_type": "code",
   "execution_count": null,
   "id": "b766ddc9",
   "metadata": {},
   "outputs": [],
   "source": [
    "path = kim_path[\"Mahindra Manulife Mutual Fund\"]\n",
    "object = MahindraManu(amc_id=\"26\",path=path)\n",
    "extracted_text = object.parse_KIM_data(pages=\"2\", instrument_count=3)\n",
    "data = object.refine_data(extracted_text)\n",
    "dfs = object.merge_and_select_data(data,sid_or_kim=\"kim\",special_func=False)"
   ]
  },
  {
   "cell_type": "code",
   "execution_count": null,
   "id": "64f9b72c",
   "metadata": {},
   "outputs": [],
   "source": [
    "path = kim_path[\"360 One Mutual Fund\"]\n",
    "object = ThreeSixtyOne(amc_id=\"18\",path=path)\n",
    "extracted_text = object.parse_KIM_data(pages=\"1\", instrument_count=2)\n",
    "data = object.refine_data(extracted_text)\n",
    "dfs = object.merge_and_select_data(data,sid_or_kim=\"kim\",special_func=False)"
   ]
  },
  {
   "cell_type": "code",
   "execution_count": null,
   "id": "2a204deb",
   "metadata": {},
   "outputs": [],
   "source": [
    "path = kim_path[\"Bandhan Mutual Fund\"]\n",
    "object = Bandhan(amc_id=\"16\",path=path)\n",
    "extracted_text = object.parse_KIM_data(pages=\"2\", instrument_count=2)\n",
    "data = object.refine_data(extracted_text)\n",
    "dfs = object.merge_and_select_data(data,sid_or_kim=\"kim\",special_func=False)"
   ]
  },
  {
   "cell_type": "code",
   "execution_count": null,
   "id": "a8787615",
   "metadata": {},
   "outputs": [],
   "source": [
    "path = kim_path[\"Franklin Templeton Mutual Fund\"]\n",
    "object = Bandhan(amc_id=\"11\",path=path)\n",
    "extracted_text = object.parse_KIM_data(pages=\"4\", instrument_count=2)\n",
    "data = object.refine_data(extracted_text)\n",
    "dfs = object.merge_and_select_data(data,sid_or_kim=\"kim\",special_func=False)"
   ]
  },
  {
   "cell_type": "code",
   "execution_count": null,
   "id": "b13d53db",
   "metadata": {},
   "outputs": [],
   "source": [
    "path = kim_path[\"Helios Mutual Fund\"]\n",
    "object = Helios(amc_id=\"60\",path=path)\n",
    "extracted_text = object.parse_KIM_data(pages=\"2\", instrument_count=3)\n",
    "data = object.refine_data(extracted_text)\n",
    "dfs = object.merge_and_select_data(data,sid_or_kim=\"kim\",special_func=False)"
   ]
  },
  {
   "cell_type": "code",
   "execution_count": null,
   "id": "0b9adafc",
   "metadata": {},
   "outputs": [],
   "source": [
    "path = kim_path[\"Whiteoak Capital Mutual Fund\"]\n",
    "object = WhiteOak(amc_id=\"42\",path=path)\n",
    "extracted_text = object.parse_KIM_data(pages=\"2\", instrument_count=6)\n",
    "data = object.refine_data(extracted_text)\n",
    "dfs = object.merge_and_select_data(data,sid_or_kim=\"kim\",special_func=False)"
   ]
  },
  {
   "cell_type": "code",
   "execution_count": null,
   "id": "1ebe6681",
   "metadata": {},
   "outputs": [],
   "source": [
    "path = kim_path[\"Union Mutual Fund\"]\n",
    "object = Union(amc_id=\"40\",path=path)\n",
    "extracted_text = object.parse_KIM_data(pages=\"2\", instrument_count=2)\n",
    "data = object.refine_data(extracted_text)\n",
    "dfs = object.merge_and_select_data(data,sid_or_kim=\"kim\",special_func=False)"
   ]
  },
  {
   "cell_type": "code",
   "execution_count": null,
   "id": "fd715946",
   "metadata": {},
   "outputs": [],
   "source": [
    "path = kim_path[\"Navi Mutual Fund\"]\n",
    "object = Union(amc_id=\"56\",path=path)\n",
    "extracted_text = object.parse_KIM_data(pages=\"3\", instrument_count=2)\n",
    "data = object.refine_data(extracted_text)\n",
    "dfs = object.merge_and_select_data(data,sid_or_kim=\"kim\",special_func=False)"
   ]
  },
  {
   "cell_type": "code",
   "execution_count": null,
   "id": "de90e326",
   "metadata": {},
   "outputs": [],
   "source": [
    "path = kim_path[\"Aditya Birla Sun Life Mutual Fund\"]\n",
    "object = Union(amc_id=\"3\",path=path)\n",
    "extracted_text = object.parse_KIM_data(pages=\"1\", instrument_count=2)\n",
    "data = object.refine_data(extracted_text)\n",
    "dfs = object.merge_and_select_data(data,sid_or_kim=\"kim\",special_func=False)"
   ]
  },
  {
   "cell_type": "code",
   "execution_count": null,
   "id": "0d2e625b",
   "metadata": {},
   "outputs": [],
   "source": [
    "path = kim_path[\"Quant Mutual Fund\"]\n",
    "object = Union(amc_id=\"10\",path=path)\n",
    "extracted_text = object.parse_KIM_data(pages=\"3\", instrument_count=3)\n",
    "data = object.refine_data(extracted_text)\n",
    "dfs = object.merge_and_select_data(data,sid_or_kim=\"kim\",special_func=False)"
   ]
  },
  {
   "cell_type": "code",
   "execution_count": null,
   "id": "9165c09b",
   "metadata": {},
   "outputs": [],
   "source": [
    "path = kim_path[\"Zerodha Mutual Fund\"]\n",
    "object = Zerodha(amc_id=\"10\",path=path)\n",
    "extracted_text = object.parse_KIM_data(pages=\"4\", instrument_count=2)\n",
    "data = object.refine_data(extracted_text)\n",
    "dfs = object.merge_and_select_data(data,sid_or_kim=\"kim\",special_func=False)"
   ]
  },
  {
   "cell_type": "code",
   "execution_count": 2,
   "id": "f29d623d",
   "metadata": {},
   "outputs": [],
   "source": [
    "path = r'C:\\Users\\kaustubh.keny\\OneDrive - Cogencis Information Services Ltd\\Documents\\KIM_JIO'\n",
    "sid_fund = Helper.get_pdf_paths(path)"
   ]
  },
  {
   "cell_type": "code",
   "execution_count": null,
   "id": "199e91a4",
   "metadata": {},
   "outputs": [],
   "source": [
    "sid_fund"
   ]
  },
  {
   "cell_type": "code",
   "execution_count": 12,
   "id": "3d5d5a63",
   "metadata": {},
   "outputs": [
    {
     "name": "stdout",
     "output_type": "stream",
     "text": [
      "Function Running: parse_KIM_data\n",
      "[ROW START]: [3, 4]\n",
      "Function Running: refine_data\n",
      "Function Running: merge_and_select_data\n"
     ]
    }
   ],
   "source": [
    "object = JioBlackRockSIDKIM(amc_id=\"98\", path=sid_fund[\"Kim_Jio_E\"])\n",
    "extracted_text = object.parse_KIM_data(pages=\"3\", instrument_count=2)\n",
    "data = object.refine_data(extracted_text)\n",
    "dfs = object.merge_and_select_data(data,sid_or_kim=\"kim\",special_func=False)"
   ]
  },
  {
   "cell_type": "code",
   "execution_count": 13,
   "id": "c4cba1c5",
   "metadata": {},
   "outputs": [],
   "source": [
    "with open(\"temp.json\",\"w+\") as file:\n",
    "    json.dump(extracted_text,file)\n",
    "with open(\"data.json\",\"w+\") as file:\n",
    "    json.dump(data,file)\n",
    "with open(\"dfs.json\",\"w+\") as file:\n",
    "    json.dump(dfs,file)"
   ]
  }
 ],
 "metadata": {
  "kernelspec": {
   "display_name": ".venv-py1310",
   "language": "python",
   "name": "python3"
  },
  "language_info": {
   "codemirror_mode": {
    "name": "ipython",
    "version": 3
   },
   "file_extension": ".py",
   "mimetype": "text/x-python",
   "name": "python",
   "nbconvert_exporter": "python",
   "pygments_lexer": "ipython3",
   "version": "3.10.8"
  }
 },
 "nbformat": 4,
 "nbformat_minor": 5
}
