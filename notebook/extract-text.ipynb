{
 "cells": [
  {
   "cell_type": "code",
   "execution_count": 6,
   "metadata": {},
   "outputs": [],
   "source": [
    "import fitz\n",
    "import camelot\n",
    "import warnings , math, collections\n",
    "import pickle\n",
    "from collections import Counter\n",
    "import re\n",
    "\n",
    "warnings.filterwarnings(\"ignore\", category=UserWarning) \n",
    "\n",
    "#path = r\"C:\\Users\\rando\\OneDrive\\Documents\\mywork-repo\"\n",
    "path = r\"C:\\Users\\Kaustubh.keny\\OneDrive - Cogencis Information Services Ltd\\Documents\\mywork-repo\"\n",
    "\n",
    "\n",
    "pickle_path_text = r\"\\output\\pkl\\textual_data.pkl\"\n",
    "pickle_path_tab = r\"\\output\\pkl\\tabular_data.pkl\"\n",
    "samco_path = r\"\\files\\SamcoFactSheet2024.pdf\"\n",
    "tata_path = r\"\\files\\TataFactSheet2024.pdf\"\n",
    "dry_run_path = r\"\\output\\DryRun.pdf\"\n",
    "\n",
    "no_image_pkl = r\"\\output\\pkl\\nonimg_data.pkl\""
   ]
  },
  {
   "cell_type": "code",
   "execution_count": 75,
   "metadata": {},
   "outputs": [],
   "source": [
    "with open(path + no_image_pkl , 'rb') as file:\n",
    "    document_data = pickle.load(file)  "
   ]
  },
  {
   "cell_type": "code",
   "execution_count": 76,
   "metadata": {},
   "outputs": [],
   "source": [
    "document_data = document_data['blocks_data'][1:-2] #ignore first and last page"
   ]
  },
  {
   "cell_type": "code",
   "execution_count": 96,
   "metadata": {},
   "outputs": [
    {
     "name": "stdout",
     "output_type": "stream",
     "text": [
      "samco active momentum fund\n",
      "samco active momentum fund\n",
      "samco flexi cap fund\n",
      "samco flexi cap fund\n",
      "samco dynamic asset allocation fund\n",
      "samco dynamic asset allocation fund\n",
      "samco multi cap fund\n",
      "samco multi cap fund\n",
      "samco special opportunities fund\n",
      "samco special opportunities fund\n",
      "samco elss tax saver fund\n",
      "samco elss tax saver fund\n",
      "samco overnight fund\n",
      "samco dynamic asset allocation fund \n",
      "samco overnight fund\n",
      "samco elss tax saver fund \n"
     ]
    }
   ],
   "source": [
    "for page in document_data:\n",
    "    sortedPage = sorted(page['blocks'], key= lambda k: (k['bbox'][1], k['bbox'][0])) #sort t to b, l to r\n",
    "    firstBlock = sortedPage[0] #get first block of sorted data\n",
    "    \n",
    "    if 'lines' in firstBlock:\n",
    "        for line in firstBlock['lines']:\n",
    "            for span in line['spans']:\n",
    "                text = span['text'].lower()\n",
    "                \n",
    "                #regex condition\n",
    "                cond1 = re.findall('^samco|fund$', text)\n",
    "                if cond1:\n",
    "                    print(text)\n",
    "                "
   ]
  },
  {
   "cell_type": "code",
   "execution_count": 11,
   "metadata": {},
   "outputs": [],
   "source": [
    "def extract_and_sort_blocks(data):\n",
    "    blocks_with_bbox = []\n",
    "\n",
    "    for item in data:\n",
    "        bbox = item.get('bbox', None)\n",
    "        lines = []\n",
    "        for line in item.get('lines', []):\n",
    "            text = \" \".join(span['text'] for span in line.get('spans', []))\n",
    "            if text:\n",
    "                lines.append(text)\n",
    "        if bbox and lines:\n",
    "            blocks_with_bbox.append((bbox, \"\\n\".join(lines)))\n",
    "\n",
    "    # Sort t to b and l to r\n",
    "    blocks_with_bbox.sort(key=lambda x: (x[0][1], x[0][0]))\n",
    "\n",
    "    # Extract only the text\n",
    "    sorted_blocks = [block[1] for block in blocks_with_bbox]\n",
    "\n",
    "    return sorted_blocks"
   ]
  },
  {
   "cell_type": "code",
   "execution_count": 10,
   "metadata": {},
   "outputs": [],
   "source": [
    "def extract_and_sort_lines(data):\n",
    "    lines_with_bbox = []\n",
    "    \n",
    "    for item in data:\n",
    "        for line in item.get('lines', []):\n",
    "            bbox = line.get('bbox', None)\n",
    "            text = \" \".join(span['text'] for span in line.get('spans', []))\n",
    "            if bbox and text:\n",
    "                lines_with_bbox.append((bbox, text))\n",
    "\n",
    "    # Sort t to b and l to r\n",
    "    lines_with_bbox.sort(key=lambda x: (x[0][1], x[0][0]))\n",
    "    \n",
    "    # Extract text\n",
    "    sorted_lines = [line[1] for line in lines_with_bbox]\n",
    "\n",
    "    return sorted_lines"
   ]
  },
  {
   "cell_type": "code",
   "execution_count": 12,
   "metadata": {},
   "outputs": [],
   "source": [
    "\"\"\"Extract and sort lines for a two-column layout, returning all data associated with each line without duplicates.\n",
    "    Args:data (list): The raw extracted data from Fitz.\n",
    "        split_x_coord (float): The x-coordinate dividing the left and right columns.\n",
    "    Returns:list: Sorted list of all unique line data in reading order (top-to-bottom, left-to-right).\n",
    "    \"\"\"\n",
    "def sort_data_blocks(data, split_x_coord):\n",
    "    # Separate lines into left and right columns\n",
    "    left_column = []\n",
    "    right_column = []\n",
    "\n",
    "    for item in data:\n",
    "        for line in item.get('lines', []):\n",
    "            bbox = line.get('bbox', None)\n",
    "            spans = line.get('spans', [])\n",
    "            if bbox and spans:\n",
    "                # Classify line based on its x-coordinate\n",
    "                block = {'bbox': bbox, 'spans': spans, 'line': line}\n",
    "                if bbox[0] < split_x_coord:  # Left column\n",
    "                    left_column.append(block)\n",
    "                else:  # Right column\n",
    "                    right_column.append(block)\n",
    "\n",
    "    # Sort lines within each column\n",
    "    left_column.sort(key=lambda x: (x['bbox'][1], x['bbox'][0]))\n",
    "    right_column.sort(key=lambda x: (x['bbox'][1], x['bbox'][0]))\n",
    "\n",
    "    return left_column, right_column"
   ]
  },
  {
   "cell_type": "code",
   "execution_count": 45,
   "metadata": {},
   "outputs": [],
   "source": [
    "left, right = sort_data_blocks(document_data['blocks_data'][15]['blocks'], 250)"
   ]
  },
  {
   "cell_type": "code",
   "execution_count": 291,
   "metadata": {},
   "outputs": [],
   "source": [
    "sorted_blocks = extract_and_sort_blocks(document_data['blocks_data'][1]['blocks'])"
   ]
  },
  {
   "cell_type": "code",
   "execution_count": 14,
   "metadata": {},
   "outputs": [],
   "source": [
    "def remove_keys(data, keys_to_remove):\n",
    "    \"\"\"Recursively remove specific keys from nested dictionaries or lists.\n",
    "    Args:data (dict | list): The input data (nested structure of dictionaries and lists).\n",
    "        keys_to_remove (set): Keys to be removed from the dictionaries.\n",
    "    Returns:dict | list: Data with specified keys removed.\"\"\"\n",
    "    if isinstance(data, list):\n",
    "        # Process each element in the list\n",
    "        return [remove_keys(item, keys_to_remove) for item in data]\n",
    "    elif isinstance(data, dict):\n",
    "        # Process each key-value pair in the dictionary\n",
    "        return {key: remove_keys(value, keys_to_remove) for key, value in data.items() if key not in keys_to_remove}\n",
    "    else:\n",
    "        # Return data as is if it's neither a dict nor a list\n",
    "        return data"
   ]
  },
  {
   "cell_type": "code",
   "execution_count": null,
   "metadata": {},
   "outputs": [],
   "source": [
    "left"
   ]
  },
  {
   "cell_type": "code",
   "execution_count": 46,
   "metadata": {},
   "outputs": [],
   "source": [
    "for line in left:\n",
    "    del line['spans']\n",
    "    \n",
    "keys_to_remove = {'bbox','wmode', 'flags', 'ascender', 'descender',}"
   ]
  },
  {
   "cell_type": "code",
   "execution_count": 47,
   "metadata": {},
   "outputs": [],
   "source": [
    "cleaned_data = remove_keys(left, keys_to_remove)"
   ]
  },
  {
   "cell_type": "code",
   "execution_count": null,
   "metadata": {},
   "outputs": [],
   "source": [
    "cleaned_data"
   ]
  },
  {
   "cell_type": "code",
   "execution_count": 48,
   "metadata": {},
   "outputs": [],
   "source": [
    "import numpy as np\n",
    "\n",
    "\"\"\"Create a nested dictionary structure using a matrix-based approach.\n",
    "    Args:\n",
    "        data (list): List of text blocks, each containing font size, text, and bbox.\n",
    "        title_font (float): Font size for titles.\n",
    "        subheader_font (float): Font size for subheaders.\n",
    "        content_max_font (float): Maximum font size for content.\n",
    "    Returns:\n",
    "        dict: A nested dictionary structure with titles, subheaders, and content.\n",
    "    \"\"\"\n",
    "    \n",
    "def create_matrix_structure(data, title_font, subheader_font, content_max_font):\n",
    "\n",
    "    # Step 1: Extract all unique coordinates\n",
    "    coordinates = []\n",
    "    fonts = set()\n",
    "    for block in data:\n",
    "        for span in block['line']['spans']:\n",
    "            bbox = block['line'].get('bbox', (0, 0, 0, 0))\n",
    "            coordinates.append((bbox[0], bbox[1]))  # x, y from bbox\n",
    "            fonts.add(span['size'])\n",
    "\n",
    "    coordinates = sorted(set(coordinates), key=lambda c: (c[1], c[0]))  # Sort by y, then x\n",
    "    fonts = sorted(fonts)\n",
    "\n",
    "    # Step 2: Initialize the matrix\n",
    "    coord_to_index = {coord: idx for idx, coord in enumerate(coordinates)}\n",
    "    font_to_index = {font: idx for idx, font in enumerate(fonts)}\n",
    "    matrix = np.zeros((len(coordinates), len(fonts)), dtype=object)\n",
    "\n",
    "    # Step 3: Fill the matrix\n",
    "    for block in data:\n",
    "        for span in block['line']['spans']:\n",
    "            bbox = block['line'].get('bbox', (0, 0, 0, 0))\n",
    "            coord = (bbox[0], bbox[1])\n",
    "            font = span['size']\n",
    "            if coord in coord_to_index and font in font_to_index:\n",
    "                row = coord_to_index[coord]\n",
    "                col = font_to_index[font]\n",
    "                if matrix[row, col] == 0:\n",
    "                    matrix[row, col] = []\n",
    "                matrix[row, col].append(span['text'])\n",
    "\n",
    "    # Step 4: Generate the nested dictionary\n",
    "    nested_dict = {}\n",
    "    current_title = None\n",
    "    current_subheader = None\n",
    "\n",
    "    for row_idx, coord in enumerate(coordinates):\n",
    "        for col_idx, font in enumerate(fonts):\n",
    "            if matrix[row_idx, col_idx] != 0:\n",
    "                text = \" \".join(matrix[row_idx, col_idx])\n",
    "\n",
    "                if font == title_font:\n",
    "                    current_title = text\n",
    "                    nested_dict[current_title] = {}\n",
    "                elif font == subheader_font and current_title:\n",
    "                    current_subheader = text\n",
    "                    nested_dict[current_title][current_subheader] = []\n",
    "                elif font <= content_max_font and current_subheader:\n",
    "                    nested_dict[current_title][current_subheader].append(text)\n",
    "\n",
    "    return nested_dict\n",
    "\n",
    "\n",
    "# Example usage\n",
    "title_font = 24.0  # Example title font size\n",
    "subheader_font = 9.0  # Example subheader font size\n",
    "content_max_font = 8.0  # Example maximum content font size\n",
    "\n",
    "# Call the function with your data\n",
    "result = create_matrix_structure(left, title_font, subheader_font, content_max_font)\n"
   ]
  },
  {
   "cell_type": "code",
   "execution_count": 49,
   "metadata": {},
   "outputs": [
    {
     "name": "stdout",
     "output_type": "stream",
     "text": [
      "{'Samco Overnight Fund': {'Assets Under Management (AUM)': ['AUM as on October '\n",
      "                                                            '31, 2024',\n",
      "                                                            '₹61.20 Crs',\n",
      "                                                            '₹105.20 Crs',\n",
      "                                                            'Average AUM for '\n",
      "                                                            'Month of October '\n",
      "                                                            '2024'],\n",
      "                          'Fund Manager': ['Mr. Dhawal Ghanshyam Dhanani',\n",
      "                                           '(Managing this scheme since '\n",
      "                                           'inception)',\n",
      "                                           'Total Experience:  Around 6 '\n",
      "                                           'years  ',\n",
      "                                           'Director, CIO & Fund Manager',\n",
      "                                           'Mr. Umeshkumar Mehta, ',\n",
      "                                           '(Managing this scheme since April '\n",
      "                                           '03, 2024)',\n",
      "                                           'Total Experience:  Over 20 years ',\n",
      "                                           'st'],\n",
      "                          'Investment Objective': ['The investment objective '\n",
      "                                                   'of the Scheme is to '\n",
      "                                                   'provide ',\n",
      "                                                   'reasonable returns '\n",
      "                                                   'commensurate with very low '\n",
      "                                                   'risk and ',\n",
      "                                                   'providing a high level of '\n",
      "                                                   'liquidity, through '\n",
      "                                                   'investments ',\n",
      "                                                   'made primarily in '\n",
      "                                                   'overnight securities '\n",
      "                                                   'having maturity/ ',\n",
      "                                                   'residual maturity of 1 '\n",
      "                                                   'day. However, there can be '\n",
      "                                                   'no ',\n",
      "                                                   'assurance or guarantee '\n",
      "                                                   'that the investment '\n",
      "                                                   'objective of ',\n",
      "                                                   'the scheme would be '\n",
      "                                                   'achieved.'],\n",
      "                          'NAV as on 31  October 2024 (₹ per unit)': ['Regular '\n",
      "                                                                      'Growth',\n",
      "                                                                      '₹1134.4475',\n",
      "                                                                      'Direct '\n",
      "                                                                      'Growth',\n",
      "                                                                      '₹1139.7642'],\n",
      "                          'Quantitative Data': ['Annualised Portfolio YTM',\n",
      "                                                ':  6.20%',\n",
      "                                                'Macaulay Duration',\n",
      "                                                ':  4 days',\n",
      "                                                'Residual Maturity',\n",
      "                                                ':  4 days',\n",
      "                                                'Modified Duration',\n",
      "                                                ':  4 days'],\n",
      "                          'Scheme Details': ['Inception Date',\n",
      "                                             '12-Oct-2022',\n",
      "                                             '(Date of Allotment)',\n",
      "                                             'CRISIL Liquid Overnight Index',\n",
      "                                             'Benchmark',\n",
      "                                             '₹5,000/- and in multiples of '\n",
      "                                             '₹1/- ',\n",
      "                                             'Min.Application',\n",
      "                                             'thereafter',\n",
      "                                             'thereafter ',\n",
      "                                             'Amount',\n",
      "                                             'Additional ',\n",
      "                                             '₹500/- and in multiples of ₹1/- ',\n",
      "                                             'Purchase',\n",
      "                                             'thereafter ',\n",
      "                                             'Entry Load',\n",
      "                                             'NIL',\n",
      "                                             'Exit Load',\n",
      "                                             'NIL',\n",
      "                                             'Total Expense ',\n",
      "                                             'Regular Plan',\n",
      "                                             'Direct Plan',\n",
      "                                             'Ratio (TER)',\n",
      "                                             '0.13%',\n",
      "                                             '0.33%',\n",
      "                                             'as on October 31, ',\n",
      "                                             'Including Goods and Service Tax '\n",
      "                                             'on  ',\n",
      "                                             '2024',\n",
      "                                             'Management Fees.']}}\n"
     ]
    }
   ],
   "source": [
    "# Print the result\n",
    "import pprint\n",
    "pprint.pprint(result)"
   ]
  },
  {
   "cell_type": "code",
   "execution_count": null,
   "metadata": {},
   "outputs": [],
   "source": [
    "result"
   ]
  },
  {
   "cell_type": "code",
   "execution_count": 143,
   "metadata": {},
   "outputs": [],
   "source": [
    "def draw_vertical_line(pdf_path, output_path, pages, x_position, color=(1, 0, 0)):\n",
    "    \"\"\"\n",
    "    Draws a vertical line from top to bottom on a specified page of a PDF.\n",
    "\n",
    "    Parameters:\n",
    "    - pdf_path: Path to the input PDF file.\n",
    "    - output_path: Path to save the modified PDF.\n",
    "    - page_num: Page number where the line will be drawn (0-indexed).\n",
    "    - x_position: X-coordinate for the vertical line.\n",
    "    - color: RGB tuple for the line color (default is red).\n",
    "    \"\"\"\n",
    "    doc = fitz.open(pdf_path)\n",
    "\n",
    "    for page_num in pages:\n",
    "        if page_num < 0 or page_num >= len(doc):\n",
    "            print(f\"Page {page_num} is out of range. Skipping.\")\n",
    "            continue\n",
    "\n",
    "        page = doc[page_num]\n",
    "\n",
    "        # Get page dimensions\n",
    "        page_width, page_height = page.rect.width, page.rect.height\n",
    "\n",
    "        # Define start and end points of the vertical line\n",
    "        start_point = (x_position, 0)  # Top of the page\n",
    "        end_point = (x_position, page_height)  # Bottom of the page\n",
    "\n",
    "        # Draw the line\n",
    "        page.draw_line(start_point, end_point, color=color, width=1.0)\n",
    "\n",
    "    # Save the modified PDF\n",
    "    doc.save(output_path)\n",
    "    doc.close()\n",
    "    print(f\"Lines drawn on pages {pages} and saved to {output_path}\")"
   ]
  },
  {
   "cell_type": "code",
   "execution_count": 144,
   "metadata": {},
   "outputs": [],
   "source": [
    "file_path = path + r'\\output\\DryRun_line_highlighted.pdf'\n",
    "output_path = path + r'\\output\\DryRun.pdf'"
   ]
  },
  {
   "cell_type": "code",
   "execution_count": 145,
   "metadata": {},
   "outputs": [
    {
     "name": "stdout",
     "output_type": "stream",
     "text": [
      "Lines drawn on pages [3, 5, 7, 9, 11, 13, 15] and saved to C:\\Users\\rando\\OneDrive\\Documents\\mywork-repo\\output\\DryRun.pdf\n"
     ]
    }
   ],
   "source": [
    "draw_vertical_line(file_path,output_path,[3,5,7,9,11,13,15],250)"
   ]
  },
  {
   "cell_type": "code",
   "execution_count": null,
   "metadata": {},
   "outputs": [],
   "source": []
  }
 ],
 "metadata": {
  "kernelspec": {
   "display_name": "venv",
   "language": "python",
   "name": "python3"
  },
  "language_info": {
   "codemirror_mode": {
    "name": "ipython",
    "version": 3
   },
   "file_extension": ".py",
   "mimetype": "text/x-python",
   "name": "python",
   "nbconvert_exporter": "python",
   "pygments_lexer": "ipython3",
   "version": "3.13.1"
  }
 },
 "nbformat": 4,
 "nbformat_minor": 2
}
