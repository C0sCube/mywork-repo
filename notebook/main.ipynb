{
 "cells": [
  {
   "cell_type": "code",
   "execution_count": 1,
   "metadata": {},
   "outputs": [],
   "source": [
    "%load_ext autoreload\n",
    "%autoreload 2\n",
    "\n",
    "\n",
    "from FundData import *\n",
    "from helper import Helper\n",
    "import pprint, json, math\n",
    "import fitz\n",
    "import pandas as pd\n",
    "from collections import defaultdict\n",
    "\n",
    "#dir_path = r\"C:\\Users\\Kaustubh.keny\\OneDrive - Cogencis Information Services Ltd\\Documents\\mywork-repo\"\n",
    "#fund_path = r\"C:\\Users\\Kaustubh.keny\\OneDrive - Cogencis Information Services Ltd\\Documents\\Dec 24\"\n",
    "dir_path = r\"C:\\Users\\rando\\OneDrive\\Documents\\mywork-repo\"\n",
    "\n",
    "\n",
    "dry_path = r'\\output\\DryRun.pdf'\n",
    "fin_path = r'\\files\\financial_indices.xlsx'\n",
    "\n",
    "fund_path = r'C:\\Users\\rando\\OneDrive\\Documents\\Dec 24'\n",
    "json_path = dir_path + r'\\output\\dump.json'\n",
    "pkl_path = dir_path + r'\\output\\sample.pkl'\n",
    "\n",
    "mutual_fund = Helper.get_fund_paths(fund_path)"
   ]
  },
  {
   "cell_type": "code",
   "execution_count": null,
   "metadata": {},
   "outputs": [],
   "source": [
    "#Helper.dump_pickle_data(nested_data, pkl_path)\n",
    "\n",
    "pkl_data = Helper.load_pickle_data(pkl_path)\n",
    "object = Tata(dir_path, dry_path, fin_path)"
   ]
  },
  {
   "cell_type": "code",
   "execution_count": null,
   "metadata": {},
   "outputs": [],
   "source": [
    "\"\"\" SAMCO PDF FILE MAIN CODE\"\"\"\n",
    "\n",
    "object = Samco(dir_path, dry_path, fin_path)\n",
    "file_path = mutual_fund['Samco Mutual Fund']\n",
    "\n",
    "\n",
    "fund_data = object.PARAMS['fund']\n",
    "line_x = object.PARAMS['line_x']\n",
    "data_cond = object.PARAMS['data']\n",
    "bbox = object.PARAMS['clip_bbox']\n",
    "\n",
    "path, imp, fund_titles = object.check_and_highlight(file_path, fund_data)\n",
    "sample = input(\"Do you want to proceed (Y/N)?: \")\n",
    "\n",
    "pages =  [3, 5, 7, 9, 11, 13, 15, 17, 18]\n",
    "\n",
    "data = object.get_clipped_data(file_path,pages,bbox, fund_titles)\n",
    "data = object.extract_span_data(data,[])\n",
    "clean_data = object.process_text_data(data, data_cond) \n",
    "nested_data, matrix = object.create_nested_dict(clean_data,20.0, 10.0)\n",
    "extracted_text = object.get_generated_content(nested_data, object.DRYPATH)\n",
    "\n",
    "#CREATE FINAL CONTENT    \n",
    "# final_text = dict()\n",
    "# for fund, items in extracted_text.items():\n",
    "    \n",
    "#     content_dict = dict()\n",
    "#     for header, content in items.items():\n",
    "#         header_content = object.match_regex_to_content(header, content)\n",
    "#         content_dict.update(header_content)\n",
    "\n",
    "#     final_text[fund] = content_dict"
   ]
  },
  {
   "cell_type": "code",
   "execution_count": null,
   "metadata": {},
   "outputs": [],
   "source": [
    "\"\"\" TATA FILE MAIN CODE \"\"\"\n",
    "\n",
    "object = Tata(dir_path, dry_path, fin_path)\n",
    "file_path = mutual_fund[\"Tata Mutual Fund\"]\n",
    "\n",
    "\n",
    "fund_data = object.PARAMS['fund']\n",
    "line_x = object.PARAMS['line_x']\n",
    "data_cond = object.PARAMS['data']\n",
    "bbox = object.PARAMS['clip_bbox']\n",
    "path, imp, fund_titles = object.check_and_highlight(file_path, fund_data)\n",
    "\n",
    "sample = input(\"Do you want to proceed (Y/N)?: \")\n",
    "pages =  [i for i in range(17,84)]\n",
    "\n",
    "data = object.get_clipped_data(file_path,pages,bbox, fund_titles)\n",
    "data = object.extract_span_data(data,[])\n",
    "clean_data = object.process_text_data(data, data_cond) \n",
    "nested_data, matrix = object.create_nested_dict(clean_data,20.0, 10.0)\n",
    "extracted_text, unextracted_text = object.get_generated_content(nested_data, object.DRYPATH)"
   ]
  },
  {
   "cell_type": "code",
   "execution_count": null,
   "metadata": {},
   "outputs": [],
   "source": [
    "\"\"\" FRANKLIN TEMPLETON FILE MAIN CODE\"\"\"\n",
    "\n",
    "object = FranklinTempleton(dir_path, dry_path, fin_path)\n",
    "file_path = mutual_fund[\"Franklin Templeton Mutual Fund\"]\n",
    "\n",
    "fund_data = object.PARAMS['fund']\n",
    "line_x = object.PARAMS['line_x']\n",
    "data_cond = object.PARAMS['data']\n",
    "\n",
    "path, imp, fund_titles = object.check_and_highlight(file_path, fund_data)\n",
    "\n",
    "pages =  [i for i in range(17,50)]\n",
    "\n",
    "data = object.extract_data_relative_line(file_path,pages,line_x ,'left', fund_titles) #used line here\n",
    "data = object.extract_span_data(data,[])\n",
    "clean_data = object.process_text_data(data, data_cond) \n",
    "nested_data, matrix = object.create_nested_dict(clean_data,20.0, 10.0)\n",
    "extracted_text = object.get_generated_content(nested_data, object.DRYPATH)\n"
   ]
  },
  {
   "cell_type": "code",
   "execution_count": null,
   "metadata": {},
   "outputs": [],
   "source": [
    "\"\"\" BANDHAN MF FILE MAIN CODE\"\"\"\n",
    "\n",
    "object = Bandhan(dir_path, dry_path, fin_path)\n",
    "file_path = mutual_fund[\"Bandhan Mutual Fund\"]\n",
    "\n",
    "fund_data = object.PARAMS['fund']\n",
    "line_x = object.PARAMS['line_x']\n",
    "data_cond = object.PARAMS['data']\n",
    "\n",
    "path, imp, fund_titles = object.check_and_highlight(file_path, fund_data)\n",
    "pages =  [i for i in range(17,83)]\n",
    "\n",
    "data = object.extract_data_relative_line(file_path,pages,line_x ,'left', fund_titles) #used line here\n",
    "data = object.extract_span_data(data,[])\n",
    "clean_data = object.process_text_data(data, data_cond) \n",
    "nested_data, matrix = object.create_nested_dict(clean_data,20.0, 10.0)\n",
    "extracted_text = object.get_generated_content(nested_data, object.DRYPATH)\n"
   ]
  },
  {
   "cell_type": "code",
   "execution_count": null,
   "metadata": {},
   "outputs": [],
   "source": [
    "\"\"\" HELIOS MF FILE MAIN CODE\"\"\"\n",
    "\n",
    "object = Helios(dir_path, dry_path, fin_path)\n",
    "file_path = mutual_fund['Helios Mutual Fund']\n",
    "\n",
    "fund_data = object.PARAMS['fund']\n",
    "line_x = object.PARAMS['line_x']\n",
    "data_cond = object.PARAMS['data']\n",
    "\n",
    "path, imp, fund_titles = object.check_and_highlight(file_path, fund_data)\n",
    "msgs = input(\"\\nEnter Y/N: \")\n",
    "\n",
    "pages =  [2, 4, 6, 8, 10]\n",
    "\n",
    "data = object.extract_data_relative_line(file_path,pages,line_x ,'left', fund_titles) #used line here\n",
    "data = object.extract_span_data(data,[])\n",
    "clean_data = object.process_text_data(data, data_cond) \n",
    "nested_data, matrix = object.create_nested_dict(clean_data,20.0, 10.0)\n",
    "extracted_text = object.get_generated_content(nested_data, object.DRYPATH)"
   ]
  },
  {
   "cell_type": "code",
   "execution_count": 15,
   "metadata": {},
   "outputs": [
    {
     "ename": "NameError",
     "evalue": "name 'Edelweiss' is not defined",
     "output_type": "error",
     "traceback": [
      "\u001b[1;31m---------------------------------------------------------------------------\u001b[0m",
      "\u001b[1;31mNameError\u001b[0m                                 Traceback (most recent call last)",
      "Cell \u001b[1;32mIn[15], line 3\u001b[0m\n\u001b[0;32m      1\u001b[0m \u001b[38;5;124;03m\"\"\" EDELWEISS MP FILE MAIN CODE\"\"\"\u001b[39;00m\n\u001b[1;32m----> 3\u001b[0m \u001b[38;5;28mobject\u001b[39m \u001b[38;5;241m=\u001b[39m \u001b[43mEdelweiss\u001b[49m(dir_path, dry_path, fin_path)\n\u001b[0;32m      4\u001b[0m file_path \u001b[38;5;241m=\u001b[39m mutual_fund[\u001b[38;5;124m'\u001b[39m\u001b[38;5;124mHelios Mutual Fund\u001b[39m\u001b[38;5;124m'\u001b[39m]\n\u001b[0;32m      6\u001b[0m fund_data \u001b[38;5;241m=\u001b[39m \u001b[38;5;28mobject\u001b[39m\u001b[38;5;241m.\u001b[39mPARAMS[\u001b[38;5;124m'\u001b[39m\u001b[38;5;124mfund\u001b[39m\u001b[38;5;124m'\u001b[39m]\n",
      "\u001b[1;31mNameError\u001b[0m: name 'Edelweiss' is not defined"
     ]
    }
   ],
   "source": [
    "\"\"\" EDELWEISS MP FILE MAIN CODE\"\"\"\n",
    "\n",
    "object = Edelweiss(dir_path, dry_path, fin_path)\n",
    "file_path = mutual_fund['Helios Mutual Fund']\n",
    "\n",
    "fund_data = object.PARAMS['fund']\n",
    "line_x = object.PARAMS['line_x']\n",
    "data_cond = object.PARAMS['data']\n",
    "\n",
    "path, imp, fund_titles = object.check_and_highlight(file_path, fund_data)\n",
    "msgs = input(\"\\nEnter Y/N: \")"
   ]
  },
  {
   "cell_type": "code",
   "execution_count": null,
   "metadata": {},
   "outputs": [],
   "source": []
  },
  {
   "cell_type": "code",
   "execution_count": 5,
   "metadata": {},
   "outputs": [],
   "source": []
  },
  {
   "cell_type": "code",
   "execution_count": null,
   "metadata": {},
   "outputs": [],
   "source": [
    "def quick_dump(data, path:str, indent=4):\n",
    "        with open(path, \"w\") as file:\n",
    "            json.dump(data, file, indent=indent)\n",
    "            \n",
    "quick_dump(extracted_text,json_path)       "
   ]
  }
 ],
 "metadata": {
  "kernelspec": {
   "display_name": "envPDF",
   "language": "python",
   "name": "python3"
  },
  "language_info": {
   "codemirror_mode": {
    "name": "ipython",
    "version": 3
   },
   "file_extension": ".py",
   "mimetype": "text/x-python",
   "name": "python",
   "nbconvert_exporter": "python",
   "pygments_lexer": "ipython3",
   "version": "3.13.1"
  }
 },
 "nbformat": 4,
 "nbformat_minor": 2
}
