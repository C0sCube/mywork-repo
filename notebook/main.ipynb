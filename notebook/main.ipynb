{
 "cells": [
  {
   "cell_type": "code",
   "execution_count": 12,
   "metadata": {},
   "outputs": [],
   "source": [
    "from FundData import *\n",
    "from helper import Helper\n",
    "import pprint, json\n",
    "import fitz\n",
    "\n",
    "#dir_path = r\"C:\\Users\\Kaustubh.keny\\OneDrive - Cogencis Information Services Ltd\\Documents\\mywork-repo\"\n",
    "#fund_path = r\"C:\\Users\\Kaustubh.keny\\OneDrive - Cogencis Information Services Ltd\\Documents\\Dec 24\"\n",
    "\n",
    "dir_path = r\"C:\\Users\\rando\\OneDrive\\Documents\\mywork-repo\"\n",
    "\n",
    "dry_path = r'\\output\\DryRun.pdf'\n",
    "fin_path = r'\\files\\financial_indices.xlsx'\n",
    "fund_path = r'C:\\Users\\rando\\OneDrive\\Documents\\Dec 24'\n",
    "json_path = dir_path + r'\\output\\dump.json'"
   ]
  },
  {
   "cell_type": "code",
   "execution_count": 3,
   "metadata": {},
   "outputs": [],
   "source": [
    "mutual_fund = Helper.get_fund_paths(fund_path)"
   ]
  },
  {
   "cell_type": "code",
   "execution_count": null,
   "metadata": {},
   "outputs": [],
   "source": [
    "\"\"\" SAMCO PDF FILE MAIN CODE\"\"\"\n",
    "\n",
    "object = Samco(dir_path, dry_path, fin_path)\n",
    "samco_path = mutual_fund['Samco Mutual Fund']\n",
    "\n",
    "fund_data = object.fund_data\n",
    "path, imp, fund_titles = object.check_and_highlight(samco_path, fund_data)\n",
    "\n",
    "sample = input(\"Do you want to proceed (Y/N)?: \")\n",
    "\n",
    "pages =  [3, 5, 7, 9, 11, 13, 15, 17, 18]\n",
    "bbox = object.content_bbox\n",
    "data_cond = object.data_cond\n",
    "\n",
    "data = object.get_clipped_data(samco_path,pages, bbox, fund_titles)\n",
    "data = object.extract_span_data(data,[])\n",
    "clean_data = object.process_text_data(data, data_cond)\n",
    "nested_data, matrix = object.create_nested_dict(clean_data,20.0, 10.0)\n",
    "extracted_text = object.get_generated_content(nested_data, object.DRYPATH)\n",
    "\n",
    "#CREATE FINAL CONTENT    \n",
    "final_text = dict()\n",
    "for fund, items in extracted_text.items():\n",
    "    \n",
    "    content_dict = dict()\n",
    "    for header, content in items.items():\n",
    "        header_content = object.match_regex_to_content(header, content)\n",
    "        content_dict.update(header_content)\n",
    "\n",
    "    final_text[fund] = content_dict"
   ]
  },
  {
   "cell_type": "code",
   "execution_count": null,
   "metadata": {},
   "outputs": [],
   "source": [
    "\"\"\" TATA PDF FILE MAIN CODE\"\"\"\n",
    "\n",
    "object = Tata(dir_path, dry_path, fin_path)\n",
    "file_path = mutual_fund['Tata Mutual Fund']\n",
    "\n",
    "fund_data = object.fund_data\n",
    "path, imp, fund_titles = object.check_and_highlight(file_path, fund_data)\n",
    "\n",
    "sample = input(\"Do you want to proceed (Y/N)?: \")\n",
    "\n",
    "pages =  [16, 17, 18, 19, 20, 21, 22, 23, 24, 25, 26, 27, 28, 29, 30, 31, 32, 33, 34, 35, 36, 37, 38, 39, 40, 41, 42, 43, 44, 45, 46, 47, 48, 49, 50, 51, 52, 53, 54, 55, 56, 57, 58, 59, 60, 62, 63, 64, 66, 67, 68, 69, 70, 71, 72, 73, 74, 75, 76, 77, 78, 79, 80, 81, 82, 83]\n",
    "bbox = object.content_bbox\n",
    "data_cond = object.data_conditions\n",
    "\n",
    "data = object.get_clipped_data(file_path,pages, bbox, fund_titles)\n",
    "data = object.extract_span_data(data,[])\n",
    "clean_data = object.process_text_data(data, data_cond)\n",
    "nested_data, matrix = object.create_nested_dict(clean_data,20.0, 10.0)\n",
    "extracted_text = object.get_generated_content(nested_data, object.DRYPATH)\n"
   ]
  },
  {
   "cell_type": "code",
   "execution_count": null,
   "metadata": {},
   "outputs": [
    {
     "name": "stdout",
     "output_type": "stream",
     "text": [
      "\n",
      "Doc saved at: C:\\Users\\rando\\OneDrive\\Documents\\mywork-repo\\files\\pdf_report.xlsx\n",
      "\n",
      "Pages to extract: [17, 18, 19, 20, 21, 22, 23, 24, 25, 26, 27, 28, 29, 30, 31, 32, 33, 34, 35, 36, 37, 38, 39, 40, 41, 42, 43, 44, 45, 46, 47, 48, 49, 50]\n"
     ]
    }
   ],
   "source": [
    "\"\"\" FRANKLIN TEMPLETON FILE MAIN CODE\"\"\"\n",
    "\n",
    "object = FranklinTempleton(dir_path, dry_path, fin_path)\n",
    "file_path = mutual_fund['Franklin Templeton Mutual Fund']\n",
    "\n",
    "fund_data = object.fund_data\n",
    "path, imp, fund_titles = object.check_and_highlight(file_path, fund_data)\n",
    "\n",
    "sample = input(\"Do you want to proceed (Y/N)?: \")\n",
    "ages =  [i for i in range(17,51)]\n",
    "bbox = object.content_bbox\n",
    "data_cond = object.data_conditions\n",
    "\n",
    "data = object.get_clipped_data(file_path,pages, bbox, fund_titles)\n",
    "data = object.extract_span_data(data,[])\n",
    "clean_data = object.process_text_data(data, data_cond)\n",
    "nested_data, matrix = object.create_nested_dict(clean_data,20.0, 10.0)\n",
    "extracted_text = object.get_generated_content(nested_data, object.DRYPATH)"
   ]
  },
  {
   "cell_type": "code",
   "execution_count": null,
   "metadata": {},
   "outputs": [],
   "source": []
  },
  {
   "cell_type": "code",
   "execution_count": null,
   "metadata": {},
   "outputs": [],
   "source": []
  },
  {
   "cell_type": "code",
   "execution_count": null,
   "metadata": {},
   "outputs": [],
   "source": []
  },
  {
   "cell_type": "code",
   "execution_count": null,
   "metadata": {},
   "outputs": [],
   "source": []
  },
  {
   "cell_type": "code",
   "execution_count": null,
   "metadata": {},
   "outputs": [],
   "source": []
  },
  {
   "cell_type": "code",
   "execution_count": null,
   "metadata": {},
   "outputs": [],
   "source": [
    "def quick_dump(data, path:str, indent=4):\n",
    "        with open(path, \"w\") as file:\n",
    "            json.dump(data, file, indent=indent)\n",
    "            \n",
    "quick_dump(extracted_text,json_path)       "
   ]
  }
 ],
 "metadata": {
  "kernelspec": {
   "display_name": "envPDF",
   "language": "python",
   "name": "python3"
  },
  "language_info": {
   "codemirror_mode": {
    "name": "ipython",
    "version": 3
   },
   "file_extension": ".py",
   "mimetype": "text/x-python",
   "name": "python",
   "nbconvert_exporter": "python",
   "pygments_lexer": "ipython3",
   "version": "3.13.1"
  }
 },
 "nbformat": 4,
 "nbformat_minor": 2
}
