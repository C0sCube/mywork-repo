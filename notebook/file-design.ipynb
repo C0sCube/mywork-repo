{
 "cells": [
  {
   "cell_type": "code",
   "execution_count": 11,
   "metadata": {},
   "outputs": [],
   "source": [
    "import pdfplumber\n",
    "import fitz\n",
    "import camelot\n",
    "import warnings , math, collections , os, re, json\n",
    "import pickle\n",
    "\n",
    "import pandas as pd\n",
    "import numpy as np\n",
    "\n",
    "warnings.filterwarnings(\"ignore\", category=UserWarning) \n",
    "path = r\"C:\\Users\\Kaustubh.keny\\OneDrive - Cogencis Information Services Ltd\\Documents\\mywork-repo\""
   ]
  },
  {
   "cell_type": "code",
   "execution_count": 23,
   "metadata": {},
   "outputs": [],
   "source": [
    "#dry run paths\n",
    "dry_run_path = r\"\\output\\DryRun.pdf\"\n",
    "\n",
    "#samco output path\n",
    "# no_image_path = path + r\"\\output\\NoImgPdf.pdf\"\n",
    "# textual_pdf_path = path + r\"\\output\\TextualPdf.pdf\"\n",
    "# tabular_pdf_path = path + r\"\\output\\TabularPdf.pdf\"\n",
    "\n",
    "#tata output path\n",
    "no_image_path = path +r\"\\output\\TatanoImgPdf.pdf\"\n",
    "textual_pdf_path = path + r\"\\output\\TatatextalPdf.pdf\"\n",
    "tabular_pdf_path = path + r\"\\output\\TatatabularPdf.pdf\""
   ]
  },
  {
   "cell_type": "code",
   "execution_count": 9,
   "metadata": {},
   "outputs": [],
   "source": [
    "#pickle data paths\n",
    "pickle_text = r\"\\output\\pkl\\textual_data.pkl\"\n",
    "pickle_tab = r\"\\output\\pkl\\tabular_data.pkl\"\n",
    "pickle_non_img = r\"\\output\\pkl\\nonimg_data.pkl\"\n",
    "pickle_indices = r\"\\output\\pkl\\indices_var.pkl\"\n"
   ]
  },
  {
   "cell_type": "code",
   "execution_count": 6,
   "metadata": {},
   "outputs": [],
   "source": [
    "#grand json structure\n",
    "pdf = {\n",
    "    \"metadata\":{\n",
    "        \"document_name\": \"something.pdf\",\n",
    "        \"file_type\": \"something_type\",\n",
    "        \"process_date\": \"202501003\"\n",
    "    },\n",
    "    \"pages\":{\n",
    "        \"number\": 1,\n",
    "        \"dimension\":(512,512),\n",
    "        \"tables\":[],\n",
    "        \"records\":{\n",
    "            \n",
    "        }\n",
    "    }\n",
    "}"
   ]
  },
  {
   "cell_type": "code",
   "execution_count": 3,
   "metadata": {},
   "outputs": [],
   "source": [
    "def get_all_keys(data, keys_set=None):\n",
    "    if keys_set is None:\n",
    "        keys_set = set()\n",
    "\n",
    "    if isinstance(data, dict):\n",
    "        for key, value in data.items():\n",
    "            keys_set.add(key)\n",
    "            get_all_keys(value, keys_set)\n",
    "    elif isinstance(data, list):\n",
    "        for item in data:\n",
    "            get_all_keys(item, keys_set)\n",
    "\n",
    "    return keys_set\n",
    "with open(json_file_path, 'r') as file:\n",
    "    data = json.load(file)\n",
    "    all_keys = sorted(get_all_keys(data))"
   ]
  },
  {
   "cell_type": "code",
   "execution_count": null,
   "metadata": {},
   "outputs": [],
   "source": [
    "print(\"\\nThe Length of Keys:\",len(all_keys))\n",
    "for key in all_keys:\n",
    "    print(key)"
   ]
  },
  {
   "cell_type": "code",
   "execution_count": 29,
   "metadata": {},
   "outputs": [],
   "source": [
    "df = pd.read_excel(excel_file_path)\n",
    "\n",
    "cols = df.columns\n",
    "cols = [\"_\".join(item.lower().split(\" \")) for item in cols]\n",
    "df.columns = cols\n",
    "# df['Fields from Json'] = all_keys\n",
    "\n",
    "df.fields_in_factsheet = df.fields_in_factsheet.apply(lambda x :x.lower())\n"
   ]
  },
  {
   "cell_type": "code",
   "execution_count": 17,
   "metadata": {},
   "outputs": [],
   "source": [
    "with open(path + pickle_indices, 'rb') as pdf:\n",
    "    documentData =pickle.load(pdf)"
   ]
  },
  {
   "cell_type": "code",
   "execution_count": null,
   "metadata": {},
   "outputs": [],
   "source": [
    "final_indices = []\n",
    "for key, value in documentData.items():\n",
    "    temp = [key] + value\n",
    "    final_indices.extend(temp)\n",
    "\n",
    "\n",
    "set(final_indices)"
   ]
  }
 ],
 "metadata": {
  "kernelspec": {
   "display_name": "venv",
   "language": "python",
   "name": "python3"
  },
  "language_info": {
   "codemirror_mode": {
    "name": "ipython",
    "version": 3
   },
   "file_extension": ".py",
   "mimetype": "text/x-python",
   "name": "python",
   "nbconvert_exporter": "python",
   "pygments_lexer": "ipython3",
   "version": "3.13.1"
  }
 },
 "nbformat": 4,
 "nbformat_minor": 2
}
