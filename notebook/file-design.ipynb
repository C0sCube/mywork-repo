{
 "cells": [
  {
   "cell_type": "code",
   "execution_count": null,
   "metadata": {},
   "outputs": [],
   "source": [
    "pdf = {\n",
    "    \"metadata\":{\n",
    "        \"document_name\": \"something.pdf\",\n",
    "        \"file_type\": \"something_type\",\n",
    "        \"process_date\": \"202501003\"\n",
    "    },\n",
    "    \"pages\":{\n",
    "        \"number\": 1,\n",
    "        \"dimension\":(512,512),\n",
    "        \"tables\":[],\n",
    "        \"records\":{\n",
    "            \n",
    "        }\n",
    "    }\n",
    "}"
   ]
  },
  {
   "cell_type": "code",
   "execution_count": null,
   "metadata": {},
   "outputs": [],
   "source": []
  }
 ],
 "metadata": {
  "kernelspec": {
   "display_name": "venv",
   "language": "python",
   "name": "python3"
  },
  "language_info": {
   "name": "python",
   "version": "3.13.1"
  }
 },
 "nbformat": 4,
 "nbformat_minor": 2
}
