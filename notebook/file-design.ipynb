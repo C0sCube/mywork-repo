{
 "cells": [
  {
   "cell_type": "code",
   "execution_count": null,
   "metadata": {},
   "outputs": [],
   "source": [
    "pdf = {\n",
    "    \"metadata\":{\n",
    "        \"document_name\": \"something.pdf\",\n",
    "        \"file_type\": \"something_type\",\n",
    "        \"process_date\": \"202501003\"\n",
    "    },\n",
    "    \"pages\":{\n",
    "        \"number\": 1,\n",
    "        \"dimension\":(512,512),\n",
    "        \"tables\":[],\n",
    "        \"records\":{\n",
    "            \n",
    "        }\n",
    "    }\n",
    "}"
   ]
  },
  {
   "cell_type": "code",
   "execution_count": 1,
   "metadata": {},
   "outputs": [
    {
     "name": "stdout",
     "output_type": "stream",
     "text": [
      "fund_manager_name\n",
      "value\n",
      "amc_name\n",
      "file_type\n",
      "min_amt\n",
      "load\n",
      "min_addl_amt\n",
      "name\n",
      "scheme_launch_date\n",
      "load_exit\n",
      "load_entry\n",
      "total_exp\n",
      "monthly_aaum_value\n",
      "metrics\n",
      "metrics_macaulay\n",
      "field_location\n",
      "metrics_avg_maturity\n",
      "process_date\n",
      "metrics_ytm\n",
      "fund_manager_total_exp\n",
      "min_addl_amt_multiple\n",
      "managing_fund_since\n",
      "count\n",
      "records\n",
      "document_name\n",
      "main_scheme_name\n",
      "metrics_port_turnover_ratio\n",
      "mutual_fund_name\n",
      "metadata\n",
      "fund_manager_managing_fund_since\n",
      "comment\n",
      "metrics_mod_duration\n",
      "type\n",
      "min_amt_multiple\n",
      "qualification\n",
      "metrics_net_equity_level\n",
      "monthly_aaum_date\n",
      "benchmark_index\n",
      "fund_manager\n"
     ]
    }
   ],
   "source": [
    "import json\n",
    "\n",
    "def get_all_keys(data, keys_set=None):\n",
    "    if keys_set is None:\n",
    "        keys_set = set()\n",
    "\n",
    "    if isinstance(data, dict):\n",
    "        for key, value in data.items():\n",
    "            keys_set.add(key)\n",
    "            get_all_keys(value, keys_set)\n",
    "    elif isinstance(data, list):\n",
    "        for item in data:\n",
    "            get_all_keys(item, keys_set)\n",
    "\n",
    "    return keys_set\n",
    "\n",
    "json_file_path = r\"C:\\Users\\Kaustubh.keny\\OneDrive - Cogencis Information Services Ltd\\Documents\\mywork-repo\\samco.json\"\n",
    "with open(json_file_path, 'r') as file:\n",
    "    data = json.load(file)\n",
    "\n",
    "# Retrieve all keys\n",
    "all_keys = get_all_keys(data)\n",
    "\n",
    "\n",
    "for key in all_keys:\n",
    "    print(key)\n"
   ]
  }
 ],
 "metadata": {
  "kernelspec": {
   "display_name": "venv",
   "language": "python",
   "name": "python3"
  },
  "language_info": {
   "codemirror_mode": {
    "name": "ipython",
    "version": 3
   },
   "file_extension": ".py",
   "mimetype": "text/x-python",
   "name": "python",
   "nbconvert_exporter": "python",
   "pygments_lexer": "ipython3",
   "version": "3.13.1"
  }
 },
 "nbformat": 4,
 "nbformat_minor": 2
}
