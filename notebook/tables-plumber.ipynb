{
 "cells": [
  {
   "cell_type": "code",
   "execution_count": 3,
   "metadata": {},
   "outputs": [],
   "source": [
    "file_path = r\"C:\\Users\\Kaustubh.keny\\OneDrive - Cogencis Information Services Ltd\\Documents\\office-projects\\pdf-extractor\\data\\scanned-pdf\\fact_sheet_all_data.pdf\""
   ]
  },
  {
   "cell_type": "code",
   "execution_count": 23,
   "metadata": {},
   "outputs": [
    {
     "name": "stdout",
     "output_type": "stream",
     "text": [
      "{'matrix': (9, 0, 0, 9, 587.8828, 20.7949), 'fontname': 'VWUJSI+OpenSans', 'adv': 0.5720000000000001, 'upright': True, 'x0': 587.8828, 'y0': 18.3559, 'x1': 593.0308, 'y1': 27.3559, 'width': 5.148000000000025, 'height': 9.0, 'size': 9.0, 'mcid': None, 'tag': 'Layer', 'object_type': 'char', 'page_number': 1, 'ncs': 'ICCBased', 'text': '6', 'stroking_color': None, 'stroking_pattern': None, 'non_stroking_color': (0.137, 0.123, 0.126), 'non_stroking_pattern': None, 'top': 764.6441, 'bottom': 773.6441, 'doctop': 764.6441}\n",
      "The class of pdf is <class 'pdfplumber.page.Page'> 612 792\n",
      "3\n"
     ]
    }
   ],
   "source": [
    "import pdfplumber\n",
    "\n",
    "with pdfplumber.open(file_path) as pdf:\n",
    "    first_page = pdf.pages[0]\n",
    "    print(first_page.chars[0])\n",
    "    print(f\"The class of pdf is {type(first_page)}\", first_page.width, first_page.height)\n",
    "    #print(f\"Lines: {first_page.lines}\")\n",
    "    #print(f\"Rects: {first_page.rects}\")\n",
    "\n",
    "    tables = first_page.extract_tables()\n",
    "    print(len(tables))"
   ]
  },
  {
   "cell_type": "code",
   "execution_count": null,
   "metadata": {},
   "outputs": [
    {
     "name": "stdout",
     "output_type": "stream",
     "text": [
      "[<Page:1>] <class 'pdfplumber.page.Page'>\n",
      "[['Index Name', 'As on', None, None, 'Return in %', None], [None, '29-Nov-24', '31-Oct-24', '30-Nov-23', '1 Month', '1 Year'], ['Nifty 50\\nS&P BSE Sensex\\nS&P BSE MID CAP\\nS&P BSE SMALL CAP\\nS&P BSE 200\\nS&P BSE AUTO\\nS&P BSE Bankex\\nS&P BSE Consumer Durable\\nS&P BSE Capital Good\\nS&P BSE FMCG\\nS&P BSE Health Care\\nS&P BSE IT\\nS&P BSE METAL\\nS&P BSE Oil & Gas\\nS&P BSE Power Index\\nS&P BSE Realty', '24131\\n79803\\n46071\\n55200\\n11123\\n52898\\n59298\\n62469\\n70700\\n21213\\n43666\\n42783\\n30537\\n26813\\n7490\\n7960', '24205\\n79389\\n45967\\n54983\\n11121\\n53540\\n58664\\n60656\\n69106\\n21663\\n43915\\n40428\\n31280\\n27458\\n7829\\n7809', '20133\\n66988\\n34256\\n40372\\n8905\\n40053\\n50293\\n47120\\n49990\\n19157\\n30375\\n33227\\n24240\\n20551\\n4921\\n5657', '-0.3\\n0.5\\n0.2\\n0.4\\n0.0\\n-1.2\\n1.1\\n3.0\\n2.3\\n-2.1\\n-0.6\\n5.8\\n-2.4\\n-2.3\\n-4.3\\n1.9', '19.9\\n19.1\\n34.5\\n36.7\\n24.9\\n32.1\\n17.9\\n32.6\\n41.4\\n10.7\\n43.8\\n28.8\\n26.0\\n30.5\\n52.2\\n40.7']]\n",
      "[['Index Name', 'As on', None, None, 'Return in %', None], [None, '29-Nov-24', '31-Oct-24', '30-Nov-23', '1 Month', '1 Year'], ['Nifty 200\\nNifty 50\\nNifty Auto\\nNifty Bank\\nNifty Commodities\\nNifty Energy\\nNifty Financial Services\\nNifty FMCG\\nNifty India Consumption\\nNifty Infrastructure\\nNifty IT\\nNifty Metal\\nNifty Midcap 100\\nNifty Pharma\\nNifty Realty\\nNifty Smallcap 100', '13627\\n24131\\n23369\\n52056\\n8537\\n37482\\n24010\\n57944\\n11447\\n8734\\n43146\\n9034\\n56393\\n22240\\n1020\\n18651', '13618\\n24205\\n23515\\n51475\\n8888\\n39302\\n23887\\n59203\\n11481\\n8823\\n40408\\n9327\\n56113\\n22736\\n1000\\n18603', '10887\\n20133\\n17552\\n44482\\n6856\\n29295\\n20055\\n53014\\n8987\\n6586\\n32582\\n7017\\n42909\\n16239\\n714\\n14171', '0.1\\n-0.3\\n-0.6\\n1.1\\n-4.0\\n-4.6\\n0.5\\n-2.1\\n-0.3\\n-1.0\\n6.8\\n-3.1\\n0.5\\n-2.2\\n2.1\\n0.3', '25.2\\n19.9\\n33.1\\n17.0\\n24.5\\n27.9\\n19.7\\n9.3\\n27.4\\n32.6\\n32.4\\n28.7\\n31.4\\n37.0\\n43.0\\n31.6']]\n",
      "[['', 'November 2024', 'October 2024'], ['WPI\\nCPI\\nIndex of Industrial Production\\nRepo rate\\nMarginal Standing Facility Rate', '2.36% (October 2024)\\n6.21% (October 2024)\\n3.09% (September 2024)\\n6.50% (as on November 30, 2024)\\n6.75% (as on November 30, 2024)', '1.84% (September 2024)\\n5.49% (September 2024)\\n-0.14% (August 2024)\\n6.50% (as on October 31, 2024)\\n6.75% (as on October 31, 2024)']]\n"
     ]
    }
   ],
   "source": [
    "def extract_page_tables(page):\n",
    "\n",
    "    tables = page.extract_tables()\n",
    "    for table in tables:\n",
    "        print(table)\n",
    "\n",
    "def get_page_data(file_path):\n",
    "\n",
    "    with pdfplumber.open(file_path) as pdf:\n",
    "\n",
    "        pages = list(_ for _ in pdf.pages)\n",
    "        print(pages, type(pages[0]))\n",
    "\n",
    "        for page in pages:\n",
    "            extract_page_tables(page)\n",
    "\n",
    "\n",
    "\n",
    "\n",
    "get_page_data(file_path)"
   ]
  },
  {
   "cell_type": "code",
   "execution_count": null,
   "metadata": {},
   "outputs": [],
   "source": []
  }
 ],
 "metadata": {
  "colab": {
   "authorship_tag": "ABX9TyOOcqKqOKTzM7VVuxOdRX0G",
   "mount_file_id": "1Z6bCPmqagoG_HuW-TQKeOrNMArg4ssAe",
   "provenance": []
  },
  "kernelspec": {
   "display_name": ".venv",
   "language": "python",
   "name": "python3"
  },
  "language_info": {
   "codemirror_mode": {
    "name": "ipython",
    "version": 3
   },
   "file_extension": ".py",
   "mimetype": "text/x-python",
   "name": "python",
   "nbconvert_exporter": "python",
   "pygments_lexer": "ipython3",
   "version": "3.13.1"
  }
 },
 "nbformat": 4,
 "nbformat_minor": 0
}
