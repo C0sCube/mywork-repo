{
 "cells": [
  {
   "cell_type": "code",
   "execution_count": 25,
   "metadata": {},
   "outputs": [],
   "source": [
    "path = r\"C:\\Users\\Kaustubh.keny\\OneDrive - Cogencis Information Services Ltd\\Documents\\office-projects\\pdf-extractor\"\n",
    "file_path = r\"\\data\\Tabular_for_extract.pdf\";\n"
   ]
  },
  {
   "cell_type": "code",
   "execution_count": 33,
   "metadata": {},
   "outputs": [],
   "source": [
    "import camelot\n",
    "import json\n",
    "import pandas as pd"
   ]
  },
  {
   "cell_type": "code",
   "execution_count": 37,
   "metadata": {},
   "outputs": [],
   "source": [
    "\n",
    "def extract_and_save_tables(input_path, csv_path):\n",
    "    \"\"\"\n",
    "    Extract tables from a PDF using camelot, convert to pandas DataFrame, and save as a CSV file.\n",
    "\n",
    "    Args:\n",
    "        input_path (str): Path to the input PDF file.\n",
    "        csv_path (str): Path to the output CSV file.\n",
    "    \"\"\"\n",
    "    # Extract tables using camelot\n",
    "    tables = camelot.read_pdf(input_path, flavor='stream', pages='all')\n",
    "    tables.export(csv_path, f = 'csv')\n",
    "    \n",
    "\n",
    "\n"
   ]
  },
  {
   "cell_type": "code",
   "execution_count": 38,
   "metadata": {},
   "outputs": [],
   "source": [
    "extract_and_save_tables(input_path, csv_path)"
   ]
  },
  {
   "cell_type": "code",
   "execution_count": null,
   "metadata": {},
   "outputs": [],
   "source": []
  }
 ],
 "metadata": {
  "colab": {
   "authorship_tag": "ABX9TyOOcqKqOKTzM7VVuxOdRX0G",
   "mount_file_id": "1Z6bCPmqagoG_HuW-TQKeOrNMArg4ssAe",
   "provenance": []
  },
  "kernelspec": {
   "display_name": ".venv",
   "language": "python",
   "name": "python3"
  },
  "language_info": {
   "codemirror_mode": {
    "name": "ipython",
    "version": 3
   },
   "file_extension": ".py",
   "mimetype": "text/x-python",
   "name": "python",
   "nbconvert_exporter": "python",
   "pygments_lexer": "ipython3",
   "version": "3.13.1"
  }
 },
 "nbformat": 4,
 "nbformat_minor": 0
}
