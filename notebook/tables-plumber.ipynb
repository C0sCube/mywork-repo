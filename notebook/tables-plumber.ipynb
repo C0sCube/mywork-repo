{
 "cells": [
  {
   "cell_type": "code",
   "execution_count": 1,
   "metadata": {},
   "outputs": [],
   "source": [
    "path = r\"C:\\Users\\Kaustubh.keny\\OneDrive - Cogencis Information Services Ltd\\Documents\\office-projects\\pdf-extractor\"\n",
    "file_path = r\"\\output\\TabularPdf.pdf\";\n"
   ]
  },
  {
   "cell_type": "code",
   "execution_count": 9,
   "metadata": {},
   "outputs": [],
   "source": [
    "import fitz\n",
    "import tabula\n",
    "import pdfplumber"
   ]
  },
  {
   "cell_type": "code",
   "execution_count": 8,
   "metadata": {},
   "outputs": [],
   "source": [
    "pdf_path =r\"C:\\Users\\Kaustubh.keny\\OneDrive - Cogencis Information Services Ltd\\Documents\\mywork-repo\\pdf-extractor\\output\\TabularPdf.pdf\""
   ]
  },
  {
   "cell_type": "code",
   "execution_count": null,
   "metadata": {},
   "outputs": [
    {
     "name": "stdout",
     "output_type": "stream",
     "text": [
      "13\n"
     ]
    }
   ],
   "source": [
    "tabular_data = tabula.read_pdf(pdf_path, pages='all')\n",
    "print(len(tabular_data))"
   ]
  },
  {
   "cell_type": "code",
   "execution_count": 13,
   "metadata": {},
   "outputs": [],
   "source": [
    "def extract_pdf_blocks(input_pdf_path):\n",
    "    \"\"\"\n",
    "    Open the PDF and extract all blocks of text, images, and other content.\n",
    "\n",
    "    Args:\n",
    "        input_pdf_path (str): Path to the input PDF.\n",
    "\n",
    "    Returns:\n",
    "        list: A list of pages, where each page is a dictionary containing blocks of content.\n",
    "    \"\"\"\n",
    "    blocks_data = []\n",
    "    input_doc = fitz.open(input_pdf_path)\n",
    "\n",
    "    with pdfplumber.open(input_pdf_path) as pdf:\n",
    "        for page_number, pdf_page in enumerate(pdf.pages):\n",
    "            # Extract blocks of content using PyMuPDF\n",
    "            doc_page = input_doc[page_number]\n",
    "            blocks = doc_page.get_text(\"dict\")[\"blocks\"]\n",
    "            \n",
    "            # Append the blocks along with table bounding boxes from pdfplumber\n",
    "            blocks_data.append({\n",
    "                \"blocks\": blocks,\n",
    "                \"num\": page_number+1\n",
    "            })\n",
    "\n",
    "    input_doc.close()\n",
    "    return blocks_data"
   ]
  },
  {
   "cell_type": "code",
   "execution_count": 25,
   "metadata": {},
   "outputs": [
    {
     "name": "stdout",
     "output_type": "stream",
     "text": [
      "New PDF with bounding boxes has been saved to: C:\\Users\\Kaustubh.keny\\OneDrive - Cogencis Information Services Ltd\\Documents\\mywork-repo\\pdf-extractor\\output\\Genbboxtable.pdf\n"
     ]
    }
   ],
   "source": [
    "doc = fitz.open(pdf_path)\n",
    "new_doc = fitz.open()\n",
    "\n",
    "for i in range(doc.page_count):\n",
    "    original_page = doc.load_page(i)\n",
    "    new_page = new_doc.new_page(width=original_page.rect.width, height=original_page.rect.height)\n",
    "\n",
    "    blocks = original_page.get_text(\"blocks\")\n",
    "\n",
    "    for block in blocks:\n",
    "        block_bbox = block[:4]\n",
    "        block_text = block[4]\n",
    "        \n",
    "        lines = block_text.split('\\n') #block has multiple lines\n",
    "        y_offset = block_bbox[1] #initial y-offset for first line\n",
    "\n",
    "        for line in lines:\n",
    "            line_bbox = (block_bbox[0], y_offset, block_bbox[2], y_offset + 12)\n",
    "            new_page.draw_rect(line_bbox, color=(1, 0, 0), width=1)\n",
    "            new_page.insert_text((line_bbox[0], line_bbox[1] - 5), line, fontsize=8, color=(0, 0, 0))\n",
    "            y_offset += 12\n",
    "\n",
    "new_pdf_path = r\"C:\\Users\\Kaustubh.keny\\OneDrive - Cogencis Information Services Ltd\\Documents\\mywork-repo\\pdf-extractor\\output\\Genbboxtable.pdf\"\n",
    "new_doc.save(new_pdf_path)\n",
    "\n",
    "doc.close()\n",
    "new_doc.close()\n",
    "\n",
    "print(f\"New PDF with bounding boxes has been saved to: {new_pdf_path}\")\n"
   ]
  }
 ],
 "metadata": {
  "colab": {
   "authorship_tag": "ABX9TyOOcqKqOKTzM7VVuxOdRX0G",
   "mount_file_id": "1Z6bCPmqagoG_HuW-TQKeOrNMArg4ssAe",
   "provenance": []
  },
  "kernelspec": {
   "display_name": ".venv",
   "language": "python",
   "name": "python3"
  },
  "language_info": {
   "codemirror_mode": {
    "name": "ipython",
    "version": 3
   },
   "file_extension": ".py",
   "mimetype": "text/x-python",
   "name": "python",
   "nbconvert_exporter": "python",
   "pygments_lexer": "ipython3",
   "version": "3.13.1"
  }
 },
 "nbformat": 4,
 "nbformat_minor": 0
}
