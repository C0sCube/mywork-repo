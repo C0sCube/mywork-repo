{
 "cells": [
  {
   "cell_type": "code",
   "execution_count": 13,
   "metadata": {},
   "outputs": [],
   "source": [
    "import mysql.connector\n",
    "import json"
   ]
  },
  {
   "cell_type": "code",
   "execution_count": 14,
   "metadata": {},
   "outputs": [],
   "source": [
    "path = r\"C:\\Users\\Kaustubh.keny\\OneDrive - Cogencis Information Services Ltd\\Documents\\mywork-repo\\data\\output\\dump_tata_17_52.json\"\n",
    "with open(path, \"r\", encoding=\"utf-8\") as f:\n",
    "    data = json.load(f)"
   ]
  },
  {
   "cell_type": "code",
   "execution_count": 15,
   "metadata": {},
   "outputs": [],
   "source": [
    "conn = mysql.connector.connect(\n",
    "    host=\"localhost\",\n",
    "    user=\"root\",\n",
    "    password=\"1234\",\n",
    "    database=\"company_db\"\n",
    ")\n",
    "cursor = conn.cursor()\n",
    "\n",
    "def get_or_create_amc(amc_name):\n",
    "    cursor.execute(\"SELECT id FROM amcs WHERE amc_name = %s\", (amc_name,))\n",
    "    result = cursor.fetchone()\n",
    "    if result:\n",
    "        return result[0]\n",
    "    # cursor.execute(\"INSERT INTO amcs (amc_name) VALUES (%s)\", (amc_name,))\n",
    "    conn.commit()\n",
    "    return cursor.lastrowid"
   ]
  },
  {
   "cell_type": "code",
   "execution_count": null,
   "metadata": {},
   "outputs": [
    {
     "name": "stdout",
     "output_type": "stream",
     "text": [
      "Data inserted successfully!\n"
     ]
    }
   ],
   "source": [
    "for scheme_name, details in data.items():\n",
    "    amc_id = get_or_create_amc(details[\"amc_name\"])\n",
    "    # print(amc_id, details['amc_name'])\n",
    "    \n",
    "    cursor.execute(\"\"\"\n",
    "        INSERT INTO mutual_funds (amc_id, benchmark_index, main_scheme_name, mutual_fund_name, monthly_aaum_date, monthly_aaum_value, scheme_launch_date,min_addl_amt,min_addl_amt_multiple,min_amt,min_amt_multiple)\n",
    "        VALUES (%s, %s, %s, %s, %s, %s, %s,%s,%s,%s,%s)\"\"\", \n",
    "        (amc_id, details[\"benchmark_index\"], \n",
    "         details[\"main_scheme_name\"], \n",
    "         details[\"mutual_fund_name\"],\n",
    "         details[\"monthly_aaum_date\"], \n",
    "         details[\"monthly_aaum_value\"], \n",
    "         details[\"scheme_launch_date\"],\n",
    "         details[\"min_addl_amt\"],\n",
    "         details[\"min_addl_amt_multiple\"],\n",
    "         details[\"min_amt\"],\n",
    "         details[\"min_amt_multiple\"]))\n",
    "    mutual_fund_id = cursor.lastrowid\n",
    "\n",
    "    for manager in details.get(\"fund_manager\", []):\n",
    "        cursor.execute(\"\"\"\n",
    "            INSERT INTO fund_managers (main_scheme_name,mutual_fund_id, manager_name, qualification, managing_fund_since, total_exp)\n",
    "            VALUES (%s, %s, %s, %s, %s, %s)\"\"\", \n",
    "            (details[\"main_scheme_name\"],mutual_fund_id, manager[\"name\"], manager['qualification'], manager[\"managing_fund_since\"], manager[\"total_exp\"]))\n",
    "\n",
    " \n",
    "    for load_type, load_value in details.get(\"load\", {}).items():\n",
    "        cursor.execute(\"\"\"\n",
    "            INSERT INTO loads (main_scheme_name,mutual_fund_id, load_type, load_value)\n",
    "            VALUES (%s, %s, %s, %s)\"\"\", \n",
    "            (details['main_scheme_name'],mutual_fund_id, load_type, load_value))\n",
    "        \n",
    "    \n",
    "\n",
    "    for metric_name, metric_value in details.get(\"metrics\", {}).items():\n",
    "        cursor.execute(\"\"\"\n",
    "            INSERT INTO metrics (main_scheme_name,mutual_fund_id, name, value)\n",
    "            VALUES (%s, %s, %s, %s)\"\"\", \n",
    "            (details['main_scheme_name'],mutual_fund_id, metric_name, metric_value))\n",
    "\n",
    "\n",
    "conn.commit()\n",
    "cursor.close()\n",
    "conn.close()\n",
    "\n",
    "print(\"Data inserted successfully!\")"
   ]
  },
  {
   "cell_type": "code",
   "execution_count": null,
   "metadata": {},
   "outputs": [],
   "source": [
    "    # min_amt = details.get(\"min_amt\", {})\n",
    "    # if min_amt:\n",
    "    #     cursor.execute(\"\"\"\n",
    "    #         INSERT INTO fund_minimum_amounts (mutual_fund_id, amt, thraftr)\n",
    "    #         VALUES (%s, %s, %s)\"\"\", \n",
    "    #         (mutual_fund_id, min_amt.get(\"amt\", \"0\"), min_amt.get(\"thraftr\", \"0\")))\n",
    "\n",
    "    # min_addl_amt = details.get(\"min_addl_amt\", {})\n",
    "    # if min_addl_amt:\n",
    "    #     cursor.execute(\"\"\"\n",
    "    #         INSERT INTO fund_additional_amounts (mutual_fund_id, amt, thraftr)\n",
    "    #         VALUES (%s, %s, %s)\"\"\", \n",
    "    #         (mutual_fund_id, min_addl_amt.get(\"amt\", \"0\"), min_addl_amt.get(\"thraftr\", \"0\")))"
   ]
  },
  {
   "cell_type": "code",
   "execution_count": null,
   "metadata": {},
   "outputs": [],
   "source": []
  },
  {
   "cell_type": "code",
   "execution_count": null,
   "metadata": {},
   "outputs": [],
   "source": []
  },
  {
   "cell_type": "code",
   "execution_count": null,
   "metadata": {},
   "outputs": [],
   "source": []
  }
 ],
 "metadata": {
  "kernelspec": {
   "display_name": "base",
   "language": "python",
   "name": "python3"
  },
  "language_info": {
   "codemirror_mode": {
    "name": "ipython",
    "version": 3
   },
   "file_extension": ".py",
   "mimetype": "text/x-python",
   "name": "python",
   "nbconvert_exporter": "python",
   "pygments_lexer": "ipython3",
   "version": "3.12.7"
  }
 },
 "nbformat": 4,
 "nbformat_minor": 2
}
