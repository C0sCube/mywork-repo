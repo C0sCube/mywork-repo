{
 "cells": [
  {
   "cell_type": "code",
   "execution_count": 1,
   "metadata": {},
   "outputs": [],
   "source": [
    "import mysql.connector\n",
    "import json, os, re\n",
    "from datetime import datetime\n",
    "base_dir = os.path.join(os.path.dirname(os.getcwd())+r\"\\final_json\")"
   ]
  },
  {
   "cell_type": "code",
   "execution_count": 70,
   "metadata": {},
   "outputs": [
    {
     "data": {
      "text/plain": [
       "dict_keys(['360', 'Aditya', 'Bajaj', 'Bandhan', 'Bank', 'Baroda', 'Canara', 'Dsp', 'Edelweiss', 'Groww', 'Hdfc', 'Helios', 'Invesco', 'Iti', 'Jm', 'Kotak', 'Lic', 'Mahindra', 'Mirae', 'Navi', 'Nippon', 'Nj', 'Old', 'Pgim', 'Quantum', 'Quant', 'Samco', 'Sbi', 'Sundaram', 'Tata', 'Taurus', 'Trustmf', 'Whiteoak', 'Zerodha'])"
      ]
     },
     "execution_count": 70,
     "metadata": {},
     "output_type": "execute_result"
    }
   ],
   "source": [
    "def get_json_paths(root_folder):\n",
    "    json_paths = {}\n",
    "    for folder_name in os.listdir(root_folder):\n",
    "        folder_path = os.path.join(root_folder, folder_name)\n",
    "        name = re.findall(r\".*dump_(.+).json\", folder_path, re.IGNORECASE)[0].split(\"_\")[0].title()\n",
    "        json_paths[name] = folder_path\n",
    "    return json_paths\n",
    "json_paths = get_json_paths(base_dir)\n",
    "json_paths.keys()"
   ]
  },
  {
   "cell_type": "code",
   "execution_count": null,
   "metadata": {},
   "outputs": [
    {
     "data": {
      "text/plain": [
       "dict_keys(['zerodha nifty largemidcap', 'zerodha elss tax saver nifty', 'zerodha nifty 1d rate', 'zerodha gold etf', 'zerodha nifty 100 ETF', 'zerodha nifty 150 ETF', 'zerodha gold etf fof'])"
      ]
     },
     "execution_count": 90,
     "metadata": {},
     "output_type": "execute_result"
    }
   ],
   "source": [
    "# '360', 'Aditya', 'Bajaj', 'Bandhan', 'Bank', 'Baroda', 'Canara', 'Dsp', 'Edelweiss', 'Groww', 'Hdfc', 'Helios', 'Invesco', 'Iti', 'Jm', 'Kotak', 'Lic', \n",
    "# 'Mahindra', 'Mirae', 'Navi', 'Nippon', 'Nj', 'Old', 'Pgim', 'Quantum', 'Quant', 'Samco', 'Sbi', 'Sundaram', 'Tata', 'Taurus', 'Trustmf', 'Whiteoak', 'Zerodha'\n",
    "\n",
    "get_data = json_paths[\"Zerodha\"]\n",
    "with open(get_data, \"r\", encoding=\"utf-8\") as f:\n",
    "    data = json.load(f)\n",
    "data.keys()"
   ]
  },
  {
   "cell_type": "code",
   "execution_count": null,
   "metadata": {},
   "outputs": [],
   "source": [
    "conn = mysql.connector.connect(\n",
    "    host=\"localhost\",\n",
    "    user=\"root\",\n",
    "    password=\"1234\",\n",
    "    database=\"updated_db\"\n",
    ")\n",
    "cursor = conn.cursor()\n",
    "\n",
    "def get_or_create_amc(amc_name):\n",
    "    cursor.execute(\"SELECT id FROM amcs WHERE amc_name = %s\", (amc_name,))\n",
    "    result = cursor.fetchone()\n",
    "    if result:\n",
    "        return result[0]\n",
    "    cursor.execute(\"INSERT INTO amcs (amc_name) VALUES (%s)\", (amc_name,))\n",
    "    conn.commit()\n",
    "    return cursor.lastrowid\n",
    "\n",
    "def insert_mutual_fund(cursor, amc_id, details, curr_time, amc_month):\n",
    "    mutual_fund_keys = [\"amc_id\", \"entered_time\", \"amc_for_month\", \"amc_name\", \"benchmark_index\", \"main_scheme_name\", \"mutual_fund_name\", \"monthly_aaum_date\", \n",
    "                        \"monthly_aaum_value\", \"scheme_launch_date\", \"min_addl_amt\", \"min_addl_amt_multiple\", \"min_amt\", \"min_amt_multiple\"]\n",
    "    \n",
    "    mutual_fund_query = f\"INSERT INTO mutual_funds ({', '.join(mutual_fund_keys)}) VALUES ({', '.join(['%s'] * len(mutual_fund_keys))})\"\n",
    "    values = [amc_id, curr_time, amc_month] + [details.get(key, \"\") for key in mutual_fund_keys[3:]]\n",
    "    cursor.execute(mutual_fund_query, values)\n",
    "    return cursor.lastrowid  # return mutual_fund_id\n",
    "\n",
    "def insert_fund_managers(cursor, amc_id, mutual_fund_id, details):\n",
    "    fund_manager_keys = [\"amc_id\", \"mutual_fund_id\", \"main_scheme_name\", \"name\", \"qualification\", \"managing_fund_since\", \"total_exp\"]\n",
    "    fund_manager_query = f\"INSERT INTO fund_managers ({', '.join(fund_manager_keys)}) VALUES ({', '.join(['%s'] * len(fund_manager_keys))})\"\n",
    "    if \"fund_manager\" in details and isinstance(details['fund_manager'],list):\n",
    "        for manager in details.get(\"fund_manager\", []):\n",
    "            values = [amc_id, mutual_fund_id, details[\"main_scheme_name\"]] + [manager.get(col, '') for col in fund_manager_keys[3:]]\n",
    "            cursor.execute(fund_manager_query, values)\n",
    "    else:\n",
    "        print(f\"Error in Managers, {details['main_scheme_name']}\")\n",
    "\n",
    "def insert_load(cursor, amc_id, mutual_fund_id, details):\n",
    "    load_keys = ['amc_id', 'mutual_fund_id', 'main_scheme_name', 'entry_load', 'exit_load']\n",
    "    if \"load\" in details and isinstance(details[\"load\"],dict):\n",
    "        load_query = f\"INSERT INTO transformed_loads ({', '.join(load_keys)}) VALUES ({', '.join(['%s'] * len(load_keys))})\"\n",
    "        values = [amc_id, mutual_fund_id, details[\"main_scheme_name\"]] + [details.get(\"load\", {}).get(col, '') for col in load_keys[3:]]\n",
    "        cursor.execute(load_query, values)\n",
    "    else:\n",
    "        print(f\"Error in Loads, {details['main_scheme_name']}\")\n",
    "\n",
    "def insert_metrics(cursor, amc_id, mutual_fund_id, details):\n",
    "    metric_keys = ['amc_id', 'main_scheme_name', 'mutual_fund_id', \"alpha\", \"arithmetic_mean_ratio\", \"average_div_yld\", \"average_pb\", \"average_pe\", \"avg_maturity\", \n",
    "                   \"beta\", \"correlation_ratio\", \"downside_deviation\", \"information_ratio\", \"macaulay\", \"mod_duration\", \"port_turnover_ratio\", \"r_squared_ratio\", \n",
    "                   \"roe_ratio\", \"sharpe\", \"sortino_ratio\", \"std_dev\", \"tracking_error\", \"treynor_ratio\", \"upside_deviation\", \"ytm\"]\n",
    "    if \"metrics\" in details and isinstance(details[\"metrics\"],dict):\n",
    "        metric_query = f\"INSERT INTO transformed_metrics ({', '.join(metric_keys)}) VALUES ({', '.join(['%s'] * len(metric_keys))})\"\n",
    "        values = [amc_id, details[\"main_scheme_name\"], mutual_fund_id] + [details.get(\"metrics\", {}).get(col, '') for col in metric_keys[3:]]\n",
    "        cursor.execute(metric_query, values)\n",
    "    else:\n",
    "        print(f\"Error in Metrics, {details['main_scheme_name']}\")\n",
    "        \n",
    "\n",
    "for scheme_name, details in data.items():\n",
    "    amc_id = get_or_create_amc(details[\"amc_name\"])\n",
    "    curr_time = datetime.now().strftime(\"%Y-%m-%d %H:%M\")\n",
    "    amc_month = \"JAN 25\"\n",
    "\n",
    "    mutual_fund_id = insert_mutual_fund(cursor, amc_id, details, curr_time, amc_month)\n",
    "    insert_fund_managers(cursor, amc_id, mutual_fund_id, details)\n",
    "    insert_load(cursor, amc_id, mutual_fund_id, details)\n",
    "    insert_metrics(cursor, amc_id, mutual_fund_id, details)\n",
    "\n",
    "conn.commit()\n",
    "cursor.close()\n",
    "conn.close()\n",
    "print(\"Working !!\")"
   ]
  },
  {
   "cell_type": "code",
   "execution_count": null,
   "metadata": {},
   "outputs": [
    {
     "name": "stdout",
     "output_type": "stream",
     "text": [
      "Working !!\n"
     ]
    }
   ],
   "source": []
  },
  {
   "cell_type": "code",
   "execution_count": null,
   "metadata": {},
   "outputs": [],
   "source": [
    " \n",
    "# Axis Asset Management Company Limited\n",
    "# Aditya Birla Sun Life AMC Limited\n",
    "# Bank of India Investment Managers Private Limited\n",
    "# Canara Robeco Asset Management Company Limited\n",
    "# PGIM India Asset Management Private Limited\n",
    "# DSP Investment Managers Private Limited\n",
    "# Edelweiss Asset Management Limited\n",
    "# Quant Money Managers Limited\n",
    "# Franklin Templeton Asset Management (India) Private Limited\n",
    "# HDFC Asset Management Company Limited\n",
    "# HSBC Asset Management (India) Private Limited\n",
    "# ICICI Prudential Asset Management Company Limited\n",
    "# Bandhan AMC Limited\n",
    "# 360 ONE Asset Management Limited\n",
    "# IL&FS Infra Asset Management Limited\n",
    "# Groww Asset Management Limited\n",
    "# Invesco Asset Management (India) Private Limited\n",
    "# JM Financial Asset Management Limited\n",
    "# Kotak Mahindra Asset Management Company Limited(KMAMCL)\n",
    "# LIC Mutual Fund Asset Management Limited\n",
    "# Mahindra Manulife Investment Management Private Limited\n",
    "# Mirae Asset Investment Managers (India) Private Limited\n",
    "# Motilal Oswal Asset Management Company Limited\n",
    "# PPFAS Asset Management Private Limited\n",
    "# Quantum Asset Management Company Private Limited\n",
    "# Nippon Life India Asset Management Limited\n",
    "# SBI Funds Management Limited\n",
    "# Shriram Asset Management Company Limited\n",
    "# Sundaram Asset Management Company Limited\n",
    "# Tata Asset Management Private Limited\n",
    "# Taurus Asset Management Company Limited\n",
    "# Union Asset Management Company Private Limited\n",
    "# UTI Asset Management Company Limited\n",
    "# WhiteOak Capital Asset Management Limited\n",
    "# ITI Asset Management Limited\n",
    "# Navi AMC Limited\n",
    "# NJ Asset Management Private Limited\n",
    "# Samco Asset Management Private Limited\n",
    "# Trust Asset Management Private Limited\n",
    "# Baroda BNP Paribas Asset Management India Private Limited\n",
    "# Bajaj Finserv Asset Management Limited\n",
    "# Helios Capital Asset Management (India) Private Limited\n",
    "# Zerodha Asset Management Private Limited\n",
    "# Old Bridge Asset Management Private Limited\n",
    "# Angel One Asset Management Company Limited\n",
    "# Unifi Asset Management Private Limited\n",
    " \n",
    " "
   ]
  }
 ],
 "metadata": {
  "kernelspec": {
   "display_name": ".venv",
   "language": "python",
   "name": "python3"
  },
  "language_info": {
   "codemirror_mode": {
    "name": "ipython",
    "version": 3
   },
   "file_extension": ".py",
   "mimetype": "text/x-python",
   "name": "python",
   "nbconvert_exporter": "python",
   "pygments_lexer": "ipython3",
   "version": "3.13.1"
  }
 },
 "nbformat": 4,
 "nbformat_minor": 2
}
