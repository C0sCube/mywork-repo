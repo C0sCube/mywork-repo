{
 "cells": [
  {
   "cell_type": "code",
   "execution_count": 1,
   "metadata": {},
   "outputs": [],
   "source": [
    "import mysql.connector\n",
    "import json, os\n",
    "from datetime import datetime"
   ]
  },
  {
   "cell_type": "code",
   "execution_count": 2,
   "metadata": {},
   "outputs": [
    {
     "name": "stdout",
     "output_type": "stream",
     "text": [
      "dict_keys(['sbi contra fund', 'sbi small cap fund', 'sbi quant fund', 'sbi blue chip fund', 'sbi esg exclusionary strategy fund', 'sbi flexicap fund', 'sbi multicap fund', 'sbi dividend yield fund', 'sbi large & midcap fund', 'sbi focused equity fund', 'sbi magnum midcap fund', 'sbi magnum global fund', 'sbi long term equity fund', 'sbi healthcare opportunities fund', 'sbi banking & financial services fund', 'sbi psu fund', 'sbi magnum comma fund', 'sbi infrastructure fund', 'sbi consumption opportunities fund', 'sbi technology opportunities fund', 'sbi equity minimum variance fund', 'sbi international access - us equity fof', 'sbi energy opportunities fund', 'sbi automotive opportunities fund', 'sbi innovative opportunities fund', 'sbi equity hybrid fund', 'sbi conservative hybrid fund', 'sbi multi asset allocation fund', 'sbi equity savings fund', 'sbi arbitrage opportunities fund', 'sbi balanced advantage fund', 'sbi magnum gilt fund', 'sbi liquid fund', 'sbi magnum income fund', 'sbi dynamic bond fund', 'sbi corporate bond fund', 'sbi credit risk fund', 'sbi magnum medium duration fund', 'sbi short term debt fund', 'sbi magnum constant maturity fund', 'sbi magnum low duration fund', 'sbi savings fund', 'sbi banking & psu fund', 'sbi magnum ultra short duration fund', 'sbi floating rate debt fund', 'sbi long duration fund', 'sbi overnight fund'])\n"
     ]
    }
   ],
   "source": [
    "path = r\"C:\\Users\\Kaustubh.keny\\Projects\\office-work\\mywork-repo\\data\\output\\dump_sbi_18_28.json\"\n",
    "with open(path, \"r\", encoding=\"utf-8\") as f:\n",
    "    data = json.load(f)\n",
    "\n",
    "print(data.keys())"
   ]
  },
  {
   "cell_type": "code",
   "execution_count": null,
   "metadata": {},
   "outputs": [],
   "source": [
    "def get_json_paths(root_folder):\n",
    "    json_paths = {}\n",
    "\n",
    "    for folder_name in os.listdir(root_folder):\n",
    "        folder_path = os.path.join(root_folder, folder_name)\n",
    "        \n",
    "        if os.path.isdir(folder_path):\n",
    "            json_files = [os.path.join(folder_path, file) \n",
    "                          for file in os.listdir(folder_path) \n",
    "                          if file.endswith(\".json\")]\n",
    "\n",
    "            if json_files:\n",
    "                json_paths[folder_name] = json_files  \n",
    "\n",
    "    return json_paths"
   ]
  },
  {
   "cell_type": "code",
   "execution_count": null,
   "metadata": {},
   "outputs": [],
   "source": [
    "path = r\"\"\n",
    "json_paths = get_json_paths()"
   ]
  },
  {
   "cell_type": "code",
   "execution_count": 6,
   "metadata": {},
   "outputs": [],
   "source": [
    "conn = mysql.connector.connect(\n",
    "    host=\"localhost\",\n",
    "    user=\"root\",\n",
    "    password=\"1234\",\n",
    "    database=\"updated_db\"\n",
    ")\n",
    "cursor = conn.cursor()\n",
    "\n",
    "def get_or_create_amc(amc_name):\n",
    "    cursor.execute(\"SELECT id FROM amcs WHERE amc_name = %s\", (amc_name,))\n",
    "    result = cursor.fetchone()\n",
    "    if result:\n",
    "        return result[0]\n",
    "    cursor.execute(\"INSERT INTO amcs (amc_name) VALUES (%s)\", (amc_name,))\n",
    "    conn.commit()\n",
    "    return cursor.lastrowid\n"
   ]
  },
  {
   "cell_type": "code",
   "execution_count": null,
   "metadata": {},
   "outputs": [],
   "source": [
    "#code for updated_db"
   ]
  },
  {
   "cell_type": "code",
   "execution_count": 9,
   "metadata": {},
   "outputs": [
    {
     "ename": "AttributeError",
     "evalue": "'str' object has no attribute 'get'",
     "output_type": "error",
     "traceback": [
      "\u001b[1;31m---------------------------------------------------------------------------\u001b[0m",
      "\u001b[1;31mAttributeError\u001b[0m                            Traceback (most recent call last)",
      "Cell \u001b[1;32mIn[9], line 21\u001b[0m\n\u001b[0;32m     18\u001b[0m fund_manager_query \u001b[38;5;241m=\u001b[39m \u001b[38;5;124mf\u001b[39m\u001b[38;5;124m\"\u001b[39m\u001b[38;5;124mINSERT INTO fund_managers (\u001b[39m\u001b[38;5;132;01m{\u001b[39;00m\u001b[38;5;124m'\u001b[39m\u001b[38;5;124m, \u001b[39m\u001b[38;5;124m'\u001b[39m\u001b[38;5;241m.\u001b[39mjoin(fund_manager_keys)\u001b[38;5;132;01m}\u001b[39;00m\u001b[38;5;124m) VALUES (\u001b[39m\u001b[38;5;132;01m{\u001b[39;00m\u001b[38;5;124m'\u001b[39m\u001b[38;5;124m, \u001b[39m\u001b[38;5;124m'\u001b[39m\u001b[38;5;241m.\u001b[39mjoin([\u001b[38;5;124m'\u001b[39m\u001b[38;5;132;01m%s\u001b[39;00m\u001b[38;5;124m'\u001b[39m]\u001b[38;5;250m \u001b[39m\u001b[38;5;241m*\u001b[39m\u001b[38;5;250m \u001b[39m\u001b[38;5;28mlen\u001b[39m(fund_manager_keys))\u001b[38;5;132;01m}\u001b[39;00m\u001b[38;5;124m);\u001b[39m\u001b[38;5;124m\"\u001b[39m\n\u001b[0;32m     20\u001b[0m \u001b[38;5;28;01mfor\u001b[39;00m manager \u001b[38;5;129;01min\u001b[39;00m details\u001b[38;5;241m.\u001b[39mget(\u001b[38;5;124m\"\u001b[39m\u001b[38;5;124mfund_manager\u001b[39m\u001b[38;5;124m\"\u001b[39m, []):\n\u001b[1;32m---> 21\u001b[0m     values \u001b[38;5;241m=\u001b[39m [amc_id, mutual_fund_id, details[\u001b[38;5;124m\"\u001b[39m\u001b[38;5;124mmain_scheme_name\u001b[39m\u001b[38;5;124m\"\u001b[39m]] \u001b[38;5;241m+\u001b[39m [\u001b[43mmanager\u001b[49m\u001b[38;5;241;43m.\u001b[39;49m\u001b[43mget\u001b[49m(col, \u001b[38;5;124m'\u001b[39m\u001b[38;5;124m'\u001b[39m) \u001b[38;5;28;01mfor\u001b[39;00m col \u001b[38;5;129;01min\u001b[39;00m fund_manager_keys[\u001b[38;5;241m3\u001b[39m:]]\n\u001b[0;32m     22\u001b[0m     cursor\u001b[38;5;241m.\u001b[39mexecute(fund_manager_query, values)\n\u001b[0;32m     24\u001b[0m \u001b[38;5;66;03m# load data\u001b[39;00m\n",
      "\u001b[1;31mAttributeError\u001b[0m: 'str' object has no attribute 'get'"
     ]
    }
   ],
   "source": [
    "for scheme_name, details in data.items():\n",
    "    amc_id = get_or_create_amc(details[\"amc_name\"])\n",
    "    \n",
    "    #realtime generated\n",
    "    curr_time = str(datetime.now().strftime(\"%Y-%m-%d %H:%M\"))\n",
    "    amc_month = \"JAN 25\"\n",
    "    \n",
    "    # mutual fund data\n",
    "    mutual_fund_keys = [\"amc_id\",\"entered_time\",\"amc_for_month\",\"amc_name\",\"benchmark_index\", \"main_scheme_name\", \"mutual_fund_name\", \"monthly_aaum_date\", \"monthly_aaum_value\", \"scheme_launch_date\", \"min_addl_amt\", \"min_addl_amt_multiple\", \"min_amt\", \"min_amt_multiple\"]\n",
    "    mutual_fund_query = f\"INSERT INTO mutual_funds ({', '.join(mutual_fund_keys)}) VALUES ({', '.join(['%s'] * len(mutual_fund_keys))});\"\n",
    "    values = [amc_id,curr_time,amc_month] + [ details.get(key, \"\") if isinstance(details.get(key, \"\"), str) else \"dummy\" for key in mutual_fund_keys[3:]]\n",
    "    cursor.execute(mutual_fund_query, values)\n",
    "    \n",
    "    mutual_fund_id = cursor.lastrowid\n",
    "    \n",
    "    # fund manager data\n",
    "    fund_manager_keys = [\"amc_id\", \"mutual_fund_id\", \"main_scheme_name\", \"name\", \"qualification\", \"managing_fund_since\", \"total_exp\"]\n",
    "    fund_manager_query = f\"INSERT INTO fund_managers ({', '.join(fund_manager_keys)}) VALUES ({', '.join(['%s'] * len(fund_manager_keys))});\"\n",
    "\n",
    "    for manager in details.get(\"fund_manager\", []):\n",
    "        values = [amc_id, mutual_fund_id, details[\"main_scheme_name\"]] + [manager.get(col, '') for col in fund_manager_keys[3:]]\n",
    "        cursor.execute(fund_manager_query, values)\n",
    "        \n",
    "    # load data\n",
    "    load_keys = ['amc_id', 'mutual_fund_id', 'main_scheme_name', 'entry_load', 'exit_load']\n",
    "    load_query = f\"INSERT INTO transformed_loads ({', '.join(load_keys)}) VALUES ({', '.join(['%s'] * len(load_keys))});\"\n",
    "    values = [amc_id, mutual_fund_id, details[\"main_scheme_name\"]] + [details.get(\"load\", {}).get(col, '') for col in load_keys[3:]]\n",
    "    cursor.execute(load_query, values)\n",
    "    \n",
    "    # metrics\n",
    "    metric_keys = ['amc_id', 'main_scheme_name', 'mutual_fund_id', \"alpha\", \"arithmetic_mean_ratio\", \"average_div_yld\", \"average_pb\", \"average_pe\", \"avg_maturity\", \"beta\", \"correlation_ratio\", \"downside_deviation\", \"information_ratio\", \"macaulay\", \"mod_duration\", \"port_turnover_ratio\", \"r_squared_ratio\", \"roe_ratio\", \"sharpe\", \"sortino_ratio\", \"std_dev\",\"tracking_error\", \"treynor_ratio\", \"upside_deviation\", \"ytm\"]\n",
    "    metric_query = f\"INSERT INTO transformed_metrics ({', '.join(metric_keys)}) VALUES ({', '.join(['%s'] * len(metric_keys))});\"\n",
    "    values = [amc_id, details[\"main_scheme_name\"], mutual_fund_id] + [details.get(\"metrics\", {}).get(col, '') for col in metric_keys[3:]]\n",
    "    cursor.execute(metric_query, values)\n",
    "    \n",
    "conn.commit()\n",
    "cursor.close()\n",
    "conn.close()\n",
    "\n",
    "print(\"Data inserted successfully!\")\n"
   ]
  },
  {
   "cell_type": "code",
   "execution_count": null,
   "metadata": {},
   "outputs": [],
   "source": [
    "for scheme_name, details in data.items():\n",
    "    amc_id = get_or_create_amc(details[\"amc_name\"])\n",
    "    \n",
    "    cursor.execute(\"\"\"\n",
    "        INSERT INTO mutual_funds (amc_id,amc_name, entered_time, amc_for_month, benchmark_index, main_scheme_name, mutual_fund_name, monthly_aaum_date, monthly_aaum_value, scheme_launch_date, min_addl_amt, min_addl_amt_multiple, min_amt, min_amt_multiple) \n",
    "        VALUES (%s, %s, %s, %s, %s, %s, %s, %s, %s, %s, %s)\n",
    "    \"\"\", (\n",
    "        amc_id,\n",
    "        details[\"amc_name\"],\n",
    "        details[\"benchmark_index\"],  \n",
    "        details[\"main_scheme_name\"],  \n",
    "        details[\"mutual_fund_name\"],  \n",
    "        details[\"monthly_aaum_date\"],  \n",
    "        details[\"monthly_aaum_value\"],  \n",
    "        details[\"scheme_launch_date\"],  \n",
    "        details[\"min_addl_amt\"],  \n",
    "        details[\"min_addl_amt_multiple\"],  \n",
    "        details[\"min_amt\"],  \n",
    "        details[\"min_amt_multiple\"]))\n",
    "\n",
    "    mutual_fund_id = cursor.lastrowid\n",
    "\n",
    "    #fund manager data\n",
    "    # fund_manager_keys = [\"amc_id\", \"mutual_fund_id\", \"main_scheme_name\", \"manager_name\", \"qualification\", \"managing_fund_since\", \"total_exp\"]\n",
    "    # fund_manager_query = f\"INSERT INTO fund_managers ({', '.join(fund_manager_keys)}) VALUES ({', '.join(['%s'] * len(fund_manager_keys))});\"\n",
    "\n",
    "    # for manager in details.get(\"fund_manager\", []):\n",
    "    #     values = [amc_id, mutual_fund_id, details[\"main_scheme_name\"]] + [manager.get(col, '') for col in fund_manager_keys[3:]]\n",
    "    #     cursor.execute(fund_manager_query, values)\n",
    "\n",
    "    \n",
    "    for manager in details.get(\"fund_manager\", []):\n",
    "        cursor.execute(\"\"\"\n",
    "            INSERT INTO fund_managers (amc_id, mutual_fund_id, main_scheme_name, manager_name, qualification, managing_fund_since, total_exp) \n",
    "            VALUES (%s, %s, %s, %s, %s, %s, %s)\n",
    "        \"\"\", (\n",
    "            amc_id, \n",
    "            mutual_fund_id, \n",
    "            details[\"main_scheme_name\"], \n",
    "            manager.get(\"name\", \"\"), \n",
    "            manager.get(\"qualification\", \"\"), \n",
    "            manager.get(\"managing_fund_since\", \"\"), \n",
    "            manager.get(\"total_exp\", \"\")))\n",
    "\n",
    "\n",
    "    #load data\n",
    "    # load_keys = ['amc_id', 'mutual_fund_id', 'main_scheme_name', 'entry_load', 'exit_load']\n",
    "    # load_query = f\"INSERT INTO loads ({', '.join(load_keys)}) VALUES ({', '.join(['%s'] * len(load_keys))});\"\n",
    "    # values = [amc_id,details[\"main_scheme_name\"],mutual_fund_id] + [details.get(\"load\",{}).get(col, '') for col in load_keys[3:]]\n",
    "    # cursor.execute(load_query, values)\n",
    "    \n",
    "    entry_load = details.get(\"load\",{}).get(\"entry_load\",\"\")\n",
    "    exit_load =  details.get(\"load\",{}).get(\"exit_load\",\"\")\n",
    "    cursor.execute(\"\"\"\n",
    "        INSERT INTO loads (amc_id, mutual_fund_id, main_scheme_name, entry_load, exit_load)\n",
    "        VALUES (%s ,%s, %s, %s, %s)\n",
    "    \"\"\", (   \n",
    "            amc_id,\n",
    "            mutual_fund_id,\n",
    "            details[\"main_scheme_name\"],\n",
    "            entry_load,  \n",
    "            exit_load))\n",
    "    \n",
    "  \n",
    "    #metrics\n",
    "    metric_keys = ['amc_id','main_scheme_name','mutual_fund_id', 'alpha', 'avg_div_yld', 'avg_maturity', 'avg_pb', 'avg_pe', 'beta', 'jenson', 'macaulay_duration', 'modified_duration', 'ptr', 'residual_maturity', 'r_squared', 'roe', 'sharpe', 'sortino', 'std_dev', 'ter', 'tracking_error', 'treynor', 'ytm']\n",
    "    metric_query = f\"INSERT INTO metrics ({', '.join(metric_keys)}) VALUES ({', '.join(['%s'] * len(metric_keys))});\"\n",
    "    values = [amc_id,details[\"main_scheme_name\"],mutual_fund_id] + [details.get(\"metrics\",{}).get(col, '') for col in metric_keys[3:]]\n",
    "    cursor.execute(metric_query, values)\n",
    "    \n",
    "    \n",
    "conn.commit()\n",
    "cursor.close()\n",
    "conn.close()\n",
    "\n",
    "print(\"Data inserted successfully!\")"
   ]
  },
  {
   "cell_type": "code",
   "execution_count": 32,
   "metadata": {},
   "outputs": [],
   "source": [
    "load_keys = ['amc_id', 'mutual_fund_id', 'main_scheme_name', 'entry_load', 'exit_load']"
   ]
  },
  {
   "cell_type": "code",
   "execution_count": 33,
   "metadata": {},
   "outputs": [
    {
     "data": {
      "text/plain": [
       "['Not Applicable ',\n",
       " 'Compulsory Lock-in Option 5 years or till the child attains age of majority (whichever is earlier). If redeemed before child attains 18 years of age, Exit load is 1 (Effective from May 3, 2018) Please refer to our Tata Mutual Fund website for fundamental changes, wherever applicable']"
      ]
     },
     "execution_count": 33,
     "metadata": {},
     "output_type": "execute_result"
    }
   ],
   "source": [
    "[details.get(\"load\",{}).get(col, '') for col in load_keys[3:]]"
   ]
  },
  {
   "cell_type": "code",
   "execution_count": null,
   "metadata": {},
   "outputs": [],
   "source": []
  },
  {
   "cell_type": "code",
   "execution_count": null,
   "metadata": {},
   "outputs": [],
   "source": [
    "# for load_type, load_value in details.get(\"load\", {}).items():\n",
    "#     cursor.execute(\"\"\"\n",
    "#         INSERT INTO loads (mutual_fund_id, load_type, load_value)\n",
    "#         VALUES (%s, %s, %s)\"\"\", \n",
    "#         (mutual_fund_id, load_type, load_value))\n",
    "    \n",
    "# for metric_name, metric_value in details.get(\"metrics\", {}).items():\n",
    "#     cursor.execute(\"\"\"\n",
    "#         INSERT INTO metrics (mutual_fund_id, name, value)\n",
    "#         VALUES (%s, %s, %s)\"\"\", \n",
    "#         (mutual_fund_id, metric_name, metric_value))\n",
    "\n",
    "\n",
    "# min_amt = details.get(\"min_amt\", {})\n",
    "# if min_amt:\n",
    "#     cursor.execute(\"\"\"\n",
    "#         INSERT INTO fund_minimum_amounts (mutual_fund_id, amt, thraftr)\n",
    "#         VALUES (%s, %s, %s)\"\"\", \n",
    "#         (mutual_fund_id, min_amt.get(\"amt\", \"0\"), min_amt.get(\"thraftr\", \"0\")))\n",
    "\n",
    "# min_addl_amt = details.get(\"min_addl_amt\", {})\n",
    "# if min_addl_amt:\n",
    "#     cursor.execute(\"\"\"\n",
    "#         INSERT INTO fund_additional_amounts (mutual_fund_id, amt, thraftr)\n",
    "#         VALUES (%s, %s, %s)\"\"\", \n",
    "#         (mutual_fund_id, min_addl_amt.get(\"amt\", \"0\"), min_addl_amt.get(\"thraftr\", \"0\")))"
   ]
  },
  {
   "cell_type": "code",
   "execution_count": null,
   "metadata": {},
   "outputs": [],
   "source": [
    " \n",
    "# Axis Asset Management Company Limited\n",
    "# Aditya Birla Sun Life AMC Limited\n",
    "# Bank of India Investment Managers Private Limited\n",
    "# Canara Robeco Asset Management Company Limited\n",
    "# PGIM India Asset Management Private Limited\n",
    "# DSP Investment Managers Private Limited\n",
    "# Edelweiss Asset Management Limited\n",
    "# Quant Money Managers Limited\n",
    "# Franklin Templeton Asset Management (India) Private Limited\n",
    "# HDFC Asset Management Company Limited\n",
    "# HSBC Asset Management (India) Private Limited\n",
    "# ICICI Prudential Asset Management Company Limited\n",
    "# Bandhan AMC Limited\n",
    "# 360 ONE Asset Management Limited\n",
    "# IL&FS Infra Asset Management Limited\n",
    "# Groww Asset Management Limited\n",
    "# Invesco Asset Management (India) Private Limited\n",
    "# JM Financial Asset Management Limited\n",
    "# Kotak Mahindra Asset Management Company Limited(KMAMCL)\n",
    "# LIC Mutual Fund Asset Management Limited\n",
    "# Mahindra Manulife Investment Management Private Limited\n",
    "# Mirae Asset Investment Managers (India) Private Limited\n",
    "# Motilal Oswal Asset Management Company Limited\n",
    "# PPFAS Asset Management Private Limited\n",
    "# Quantum Asset Management Company Private Limited\n",
    "# Nippon Life India Asset Management Limited\n",
    "# SBI Funds Management Limited\n",
    "# Shriram Asset Management Company Limited\n",
    "# Sundaram Asset Management Company Limited\n",
    "# Tata Asset Management Private Limited\n",
    "# Taurus Asset Management Company Limited\n",
    "# Union Asset Management Company Private Limited\n",
    "# UTI Asset Management Company Limited\n",
    "# WhiteOak Capital Asset Management Limited\n",
    "# ITI Asset Management Limited\n",
    "# Navi AMC Limited\n",
    "# NJ Asset Management Private Limited\n",
    "# Samco Asset Management Private Limited\n",
    "# Trust Asset Management Private Limited\n",
    "# Baroda BNP Paribas Asset Management India Private Limited\n",
    "# Bajaj Finserv Asset Management Limited\n",
    "# Helios Capital Asset Management (India) Private Limited\n",
    "# Zerodha Asset Management Private Limited\n",
    "# Old Bridge Asset Management Private Limited\n",
    "# Angel One Asset Management Company Limited\n",
    "# Unifi Asset Management Private Limited\n",
    " \n",
    " "
   ]
  }
 ],
 "metadata": {
  "kernelspec": {
   "display_name": ".venv",
   "language": "python",
   "name": "python3"
  },
  "language_info": {
   "codemirror_mode": {
    "name": "ipython",
    "version": 3
   },
   "file_extension": ".py",
   "mimetype": "text/x-python",
   "name": "python",
   "nbconvert_exporter": "python",
   "pygments_lexer": "ipython3",
   "version": "3.13.1"
  }
 },
 "nbformat": 4,
 "nbformat_minor": 2
}
