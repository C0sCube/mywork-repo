{
 "cells": [
  {
   "cell_type": "code",
   "execution_count": 54,
   "metadata": {},
   "outputs": [],
   "source": [
    "import camelot\n",
    "import fitz\n",
    "import warnings\n",
    "import pandas as pd\n",
    "\n",
    "# Suppress Camelot warnings\n",
    "warnings.filterwarnings(\"ignore\", category=UserWarning, message=\"No tables found on page.*\")\n"
   ]
  },
  {
   "cell_type": "code",
   "execution_count": 3,
   "metadata": {},
   "outputs": [],
   "source": [
    "path = r\"C:\\Users\\Kaustubh.keny\\OneDrive - Cogencis Information Services Ltd\\Documents\\mywork-repo\\pdf-extractor\"\n",
    "samco_path = r\"\\files\\SamcoFactSheet2024.pdf\"\n",
    "\n",
    "line_path = r\"\\learning\\background_lines.pdf\"\n",
    "\n",
    "file_path = path + samco_path"
   ]
  },
  {
   "cell_type": "code",
   "execution_count": 31,
   "metadata": {},
   "outputs": [],
   "source": [
    "table_path = path + r\"\\output\\TabularPdf.pdf\""
   ]
  },
  {
   "cell_type": "code",
   "execution_count": 58,
   "metadata": {},
   "outputs": [],
   "source": [
    "def extract_tables_from_pdf(pdf_path):\n",
    "    page_data = {}\n",
    "    pages_with_tables = []\n",
    "\n",
    "    reader = fitz.open(pdf_path)\n",
    "    total_pages = reader.page_count\n",
    "\n",
    "    # Process each page individually\n",
    "    for page_num in range(1, total_pages + 1):\n",
    "        tables = camelot.read_pdf(pdf_path, pages=str(page_num), flavor='stream')  # Use 'lattice' if gridlines are present\n",
    "        \n",
    "        page_info = {\"num_tables\": len(tables), \"tables\": []}\n",
    "        \n",
    "        # If tables are found, extract their content\n",
    "        if len(tables) > 0:\n",
    "            pages_with_tables.append(page_num)\n",
    "            for table in tables:\n",
    "                table_df = table.df\n",
    "                page_info[\"tables\"].append(table_df)\n",
    "        else:\n",
    "            page_info[\"tables\"] = []\n",
    "\n",
    "        page_data[page_num] = page_info\n",
    "\n",
    "    return {\"page_data\": page_data, \"pages_with_tables\": pages_with_tables}\n"
   ]
  },
  {
   "cell_type": "code",
   "execution_count": null,
   "metadata": {},
   "outputs": [
    {
     "name": "stdout",
     "output_type": "stream",
     "text": [
      "24\n"
     ]
    }
   ],
   "source": [
    "document_data = extract_tables_from_pdf(table_path)\n",
    "\n",
    "print(len(document_data['page_data']))\n",
    "#24 pages of data"
   ]
  },
  {
   "cell_type": "code",
   "execution_count": 61,
   "metadata": {},
   "outputs": [
    {
     "name": "stdout",
     "output_type": "stream",
     "text": [
      "[4, 6, 8, 10, 11, 12, 14, 16, 17, 18, 19, 20, 21, 22]\n"
     ]
    }
   ],
   "source": [
    "has_table = document_data['pages_with_tables']\n",
    "\n",
    "print(has_table)"
   ]
  },
  {
   "cell_type": "code",
   "execution_count": 66,
   "metadata": {},
   "outputs": [
    {
     "data": {
      "text/plain": [
       "[                                                    0            1  \\\n",
       " 0                                                                    \n",
       " 1                                                      % of equity   \n",
       " 2                                    Issuer\\nIndustry                \n",
       " 3                                                         exposure   \n",
       " 4              Indian Equity and Equity Related Total       78.20%   \n",
       " ..                                                ...          ...   \n",
       " 64  Pharmaceuticals & Biotechnology\\nTorrent Pharm...        0.41%   \n",
       " 65                               Retailing\\nTrent Ltd        4.58%   \n",
       " 66  TREPS, Cash, Cash Equivalents & Net Current Asset                \n",
       " 67                                   Total Net Assets                \n",
       " 68  Industry Allocation of Equity Holding (% of Ne...                \n",
       " \n",
       "               2           3  \n",
       " 0                  % to net  \n",
       " 1          % to              \n",
       " 2                            \n",
       " 3   Derivatives  Net Assets  \n",
       " 4       -20.22%      57.98%  \n",
       " ..          ...         ...  \n",
       " 64       -0.42%      -0.01%  \n",
       " 65       -4.61%      -0.03%  \n",
       " 66                   42.02%  \n",
       " 67                  100.00%  \n",
       " 68                           \n",
       " \n",
       " [69 rows x 4 columns]]"
      ]
     },
     "execution_count": 66,
     "metadata": {},
     "output_type": "execute_result"
    }
   ],
   "source": [
    "data = document_data['page_data'][4]['tables']\n",
    "data"
   ]
  },
  {
   "cell_type": "code",
   "execution_count": null,
   "metadata": {},
   "outputs": [],
   "source": []
  },
  {
   "cell_type": "code",
   "execution_count": null,
   "metadata": {},
   "outputs": [],
   "source": [
    "camelot.plot(tables[0], kind = 'text').show()"
   ]
  },
  {
   "cell_type": "code",
   "execution_count": null,
   "metadata": {},
   "outputs": [],
   "source": [
    "camelot.plot(tables[2], kind = 'line').show()"
   ]
  },
  {
   "cell_type": "code",
   "execution_count": null,
   "metadata": {},
   "outputs": [],
   "source": [
    "#error as flavour is stream\n",
    "for table in tables:\n",
    "    camelot.plot(table, kind = 'contour').show()"
   ]
  },
  {
   "cell_type": "code",
   "execution_count": null,
   "metadata": {},
   "outputs": [],
   "source": [
    "for table in tables:\n",
    "    camelot.plot(table, kind = 'line').show()\n",
    "\n",
    "#error as flavour is stream"
   ]
  },
  {
   "cell_type": "code",
   "execution_count": null,
   "metadata": {},
   "outputs": [],
   "source": [
    "for table in tables:\n",
    "    camelot.plot(table, kind = 'joint').show()\n",
    "    #error as flavour is stream"
   ]
  }
 ],
 "metadata": {
  "kernelspec": {
   "display_name": "venv",
   "language": "python",
   "name": "python3"
  },
  "language_info": {
   "codemirror_mode": {
    "name": "ipython",
    "version": 3
   },
   "file_extension": ".py",
   "mimetype": "text/x-python",
   "name": "python",
   "nbconvert_exporter": "python",
   "pygments_lexer": "ipython3",
   "version": "3.13.1"
  }
 },
 "nbformat": 4,
 "nbformat_minor": 2
}
