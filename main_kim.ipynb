{
 "cells": [
  {
   "cell_type": "code",
   "execution_count": 1,
   "id": "1952a021",
   "metadata": {},
   "outputs": [
    {
     "name": "stdout",
     "output_type": "stream",
     "text": [
      "Loaded config with output_folder = SIDKIM\n"
     ]
    }
   ],
   "source": [
    "%load_ext autoreload\n",
    "%autoreload 2\n",
    "from app.config_loader import load_config_once\n",
    "conf = load_config_once(output_folder=\"SIDKIM\")\n",
    "import pdfplumber, camelot, pprint, json5,json, os, re\n",
    "import fitz #type: ignore\n",
    "import pandas as pd\n",
    "import numpy as np\n",
    "\n",
    "from app.fund_sid_data import *\n",
    "from app.utils import *\n",
    "from app.parse_table import *\n",
    "with open(\"config\\\\sid_params.json5\",\"r+\") as file:\n",
    "    params = json5.load(file)\n",
    "\n",
    "# with open(\"config\\\\sid_params.json5\",\"r+\") as file:\n",
    "#     params = json5.dump(params,file)"
   ]
  },
  {
   "cell_type": "code",
   "execution_count": 69,
   "id": "78cbe320",
   "metadata": {},
   "outputs": [
    {
     "data": {
      "text/plain": [
       "{'Axis Mutual Fund': 'C:\\\\Users\\\\Kaustubh.keny\\\\Projects\\\\PDF\\\\KIM\\\\Jan\\\\Axis Mutual Fund\\\\1_16745_Jan-2025_1736915868_KIM.pdf',\n",
       " 'Bajaj Finserv Mutual Fund': 'C:\\\\Users\\\\Kaustubh.keny\\\\Projects\\\\PDF\\\\KIM\\\\Jan\\\\Bajaj Finserv Mutual Fund\\\\59_16775_Jan-2025_1737603749_KIM.pdf',\n",
       " 'Bandhan Mutual Fund': 'C:\\\\Users\\\\Kaustubh.keny\\\\Projects\\\\PDF\\\\KIM\\\\Jan\\\\Bandhan Mutual Fund\\\\16_16791_Jan-2025_1738218240_KIM.pdf',\n",
       " 'Bank Of India Mutual Fund': 'C:\\\\Users\\\\Kaustubh.keny\\\\Projects\\\\PDF\\\\KIM\\\\Jan\\\\Bank of India Mutual Fund\\\\5_16779_Jan-2025_1737692884_KIM.pdf',\n",
       " 'Baroda Bnp Paribas Mutual Fund': 'C:\\\\Users\\\\Kaustubh.keny\\\\Projects\\\\PDF\\\\KIM\\\\Jan\\\\Baroda BNP Paribas Mutual Fund\\\\2_16714_Jan-2025_1736480251_KIM.pdf',\n",
       " 'Dsp Mutual Fund': 'C:\\\\Users\\\\Kaustubh.keny\\\\Projects\\\\PDF\\\\KIM\\\\Jan\\\\DSP Mutual Fund\\\\8_16692_Jan-2025_1735877780_KIM.pdf',\n",
       " 'Dsp Mutual Fund_B': 'C:\\\\Users\\\\Kaustubh.keny\\\\Projects\\\\PDF\\\\KIM\\\\Jan\\\\DSP Mutual Fund\\\\8_16694_Jan-2025_1735877836_KIM.pdf',\n",
       " 'Edelweiss Mutual Fund': 'C:\\\\Users\\\\Kaustubh.keny\\\\Projects\\\\PDF\\\\KIM\\\\Jan\\\\Edelweiss Mutual Fund\\\\9_16716_Jan-2025_1736480356_KIM.pdf',\n",
       " 'Groww Mutual Fund': 'C:\\\\Users\\\\Kaustubh.keny\\\\Projects\\\\PDF\\\\KIM\\\\Jan\\\\Groww Mutual Fund\\\\20_16710_Jan-2025_1736480068_KIM.pdf',\n",
       " 'Groww Mutual Fund_B': 'C:\\\\Users\\\\Kaustubh.keny\\\\Projects\\\\PDF\\\\KIM\\\\Jan\\\\Groww Mutual Fund\\\\20_16712_Jan-2025_1736480168_KIM.pdf',\n",
       " 'Hdfc Mutual Fund': 'C:\\\\Users\\\\Kaustubh.keny\\\\Projects\\\\PDF\\\\KIM\\\\Jan\\\\HDFC Mutual Fund\\\\12_16756_Jan-2025_1737093441_KIM.pdf',\n",
       " 'Hsbc Mutual Fund': 'C:\\\\Users\\\\Kaustubh.keny\\\\Projects\\\\PDF\\\\KIM\\\\Jan\\\\HSBC Mutual Fund\\\\13_16765_Jan-2025_1737434283_KIM.pdf',\n",
       " 'Invesco Mutual Fund': 'C:\\\\Users\\\\Kaustubh.keny\\\\Projects\\\\PDF\\\\KIM\\\\Jan\\\\Invesco Mutual Fund\\\\21_16777_Jan-2025_1737692803_KIM.pdf',\n",
       " 'Iti Mutual Fund': 'C:\\\\Users\\\\Kaustubh.keny\\\\Projects\\\\PDF\\\\KIM\\\\Jan\\\\ITI Mutual Fund\\\\51_16755_Jan-2025_1737092499_KIM.pdf',\n",
       " 'Kotak Mahindra Mutual Fund': 'C:\\\\Users\\\\Kaustubh.keny\\\\Projects\\\\PDF\\\\KIM\\\\Jan\\\\Kotak Mahindra Mutual Fund\\\\23_16690_Jan-2025_1735794181_KIM.pdf',\n",
       " 'Kotak Mahindra Mutual Fund_B': 'C:\\\\Users\\\\Kaustubh.keny\\\\Projects\\\\PDF\\\\KIM\\\\Jan\\\\Kotak Mahindra Mutual Fund\\\\23_16769_Jan-2025_1737434488_KIM.pdf',\n",
       " 'Kotak Mahindra Mutual Fund_C': 'C:\\\\Users\\\\Kaustubh.keny\\\\Projects\\\\PDF\\\\KIM\\\\Jan\\\\Kotak Mahindra Mutual Fund\\\\23_16785_Jan-2025_1738042384_KIM.pdf',\n",
       " 'Kotak Mahindra Mutual Fund_D': 'C:\\\\Users\\\\Kaustubh.keny\\\\Projects\\\\PDF\\\\KIM\\\\Jan\\\\Kotak Mahindra Mutual Fund\\\\23_16787_Jan-2025_1738135906_KIM.pdf',\n",
       " 'Lic Mutual Fund': 'C:\\\\Users\\\\Kaustubh.keny\\\\Projects\\\\PDF\\\\KIM\\\\Jan\\\\LIC Mutual Fund\\\\Key_Information_Memorandum-LIC_MF_Multi_Asset_Allocation_Fund.pdf',\n",
       " 'Mahindra Manulife Mutual Fund': 'C:\\\\Users\\\\Kaustubh.keny\\\\Projects\\\\PDF\\\\KIM\\\\Jan\\\\Mahindra Manulife Mutual Fund\\\\26_16773_Jan-2025_1737603670_KIM.pdf',\n",
       " 'Motilal Oswal Mutual Fund': 'C:\\\\Users\\\\Kaustubh.keny\\\\Projects\\\\PDF\\\\KIM\\\\Jan\\\\Motilal Oswal Mutual Fund\\\\28_16743_Jan-2025_1736915632_KIM.pdf',\n",
       " 'Nippon India Mutual Fund': 'C:\\\\Users\\\\Kaustubh.keny\\\\Projects\\\\PDF\\\\KIM\\\\Jan\\\\Nippon India Mutual Fund\\\\33_16767_Jan-2025_1737434398_KIM.pdf',\n",
       " 'Samco Mutual Fund': 'C:\\\\Users\\\\Kaustubh.keny\\\\Projects\\\\PDF\\\\KIM\\\\Jan\\\\Samco Mutual Fund\\\\58_16753_Jan-2025_1737092399_KIM.pdf',\n",
       " 'Sbi Mutual Fund': 'C:\\\\Users\\\\Kaustubh.keny\\\\Projects\\\\PDF\\\\KIM\\\\Jan\\\\SBI Mutual Fund\\\\35_16763_Jan-2025_1737345863_KIM.pdf',\n",
       " 'Union Mutual Fund': 'C:\\\\Users\\\\Kaustubh.keny\\\\Projects\\\\PDF\\\\KIM\\\\Jan\\\\Union Mutual Fund\\\\40_16727_Jan-2025_1736744443_KIM.pdf',\n",
       " 'Uti Mutual Fund': 'C:\\\\Users\\\\Kaustubh.keny\\\\Projects\\\\PDF\\\\KIM\\\\Jan\\\\UTI Mutual Fund\\\\41_16688_Jan-2025_1735794098_KIM.pdf',\n",
       " 'Uti Mutual Fund_B': 'C:\\\\Users\\\\Kaustubh.keny\\\\Projects\\\\PDF\\\\KIM\\\\Jan\\\\UTI Mutual Fund\\\\41_16781_Jan-2025_1737956331_KIM.pdf',\n",
       " 'Uti Mutual Fund_C': 'C:\\\\Users\\\\Kaustubh.keny\\\\Projects\\\\PDF\\\\KIM\\\\Jan\\\\UTI Mutual Fund\\\\41_16783_Jan-2025_1737956390_KIM.pdf'}"
      ]
     },
     "execution_count": 69,
     "metadata": {},
     "output_type": "execute_result"
    }
   ],
   "source": [
    "base_path = r\"C:\\Users\\Kaustubh.keny\\Projects\\PDF\\KIM\\Jan\"\n",
    "# base_path = r'C:\\Users\\rando\\OneDrive\\Documents\\PDFDrive\\KIM\\May'\n",
    "kim_path = Helper.get_pdf_paths(base_path)\n",
    "kim_path"
   ]
  },
  {
   "cell_type": "code",
   "execution_count": 5,
   "id": "a73f351b",
   "metadata": {},
   "outputs": [
    {
     "name": "stdout",
     "output_type": "stream",
     "text": [
      "Function Running: _get_kim_data\n",
      "[ROW START]: [0]\n",
      "Function Running: refine_extracted_data\n",
      "Function Running: merge_and_select_data\n"
     ]
    }
   ],
   "source": [
    "path = kim_path[\"Bajaj Finserv Mutual Fund_B\"]\n",
    "object = BajajFinServ(amc_id=\"59\",path=path)\n",
    "extracted_text = object._get_kim_data(pages=\"4\", instrument_count=2)\n",
    "data = object.refine_extracted_data(extracted_text)\n",
    "dfs = object.merge_and_select_data(data=data,sid_or_kim=\"kim\",special_func=False)"
   ]
  },
  {
   "cell_type": "code",
   "execution_count": null,
   "id": "c2e01efe",
   "metadata": {},
   "outputs": [],
   "source": [
    "path = kim_path[\"Baroda Bnp Paribas Mutual Fund_B\"]\n",
    "object = BarodaBNP(amc_id=\"2\",path=path)\n",
    "extracted_text = object._get_kim_data(pages=\"2\", instrument_count=4)\n",
    "data = object.refine_extracted_data(extracted_text)\n",
    "dfs = object.merge_and_select_data(data=data,sid_or_kim=\"kim\",special_func=False)"
   ]
  },
  {
   "cell_type": "code",
   "execution_count": null,
   "id": "ec81a3e4",
   "metadata": {},
   "outputs": [],
   "source": [
    "path = kim_path[\"Angel One Mututal Fund_B\"]\n",
    "object = AngelOne(amc_id=\"96\",path=path)\n",
    "extracted_text = object._get_kim_data(pages=\"3\")\n",
    "data = object.refine_extracted_data(extracted_text)\n",
    "dfs = object.merge_and_select_data(data=data,sid_or_kim=\"kim\",special_func=False)"
   ]
  },
  {
   "cell_type": "code",
   "execution_count": 20,
   "id": "3448e9be",
   "metadata": {},
   "outputs": [
    {
     "name": "stdout",
     "output_type": "stream",
     "text": [
      "Function Running: _get_kim_data\n",
      "[ROW START]: [3, 4]\n",
      "Function Running: refine_extracted_data\n",
      "Function Running: merge_and_select_data\n"
     ]
    }
   ],
   "source": [
    "path = kim_path[\"Dsp Mutual Fund_B\"]\n",
    "object = DSP(amc_id=\"8\",path=path)\n",
    "extracted_text = object._get_kim_data(pages=\"4\")\n",
    "data = object.refine_extracted_data(extracted_text)\n",
    "dfs = object.merge_and_select_data(data=data,sid_or_kim=\"kim\",special_func=False)"
   ]
  },
  {
   "cell_type": "code",
   "execution_count": null,
   "id": "9049757b",
   "metadata": {},
   "outputs": [],
   "source": [
    "path = kim_path[\"Bandhan Mutual Fund\"]\n",
    "object = Bandhan(amc_id=\"16\",path=path)\n",
    "extracted_text = object._get_kim_data(pages=\"3\")\n",
    "data = object.refine_extracted_data(extracted_text)\n",
    "dfs = object.merge_and_select_data(data=data,sid_or_kim=\"kim\",special_func=False)"
   ]
  },
  {
   "cell_type": "code",
   "execution_count": null,
   "id": "2eba955b",
   "metadata": {},
   "outputs": [],
   "source": [
    "path = kim_path[\"Aditya Birla Sun Life Mutual Fund\"]\n",
    "object = AdityaBirla(amc_id=\"3\",path=path)\n",
    "extracted_text = object._get_kim_data(pages=\"1\")\n",
    "data = object.refine_extracted_data(extracted_text)\n",
    "dfs = object.merge_and_select_data(data=data,sid_or_kim=\"kim\",special_func=False)"
   ]
  },
  {
   "cell_type": "code",
   "execution_count": 22,
   "id": "2d30f06d",
   "metadata": {},
   "outputs": [
    {
     "name": "stdout",
     "output_type": "stream",
     "text": [
      "Function Running: _get_kim_data\n",
      "[ROW START]: [4]\n",
      "Function Running: refine_extracted_data\n",
      "Function Running: merge_and_select_data\n"
     ]
    }
   ],
   "source": [
    "path = kim_path[\"Edelweiss Mutual Fund\"]\n",
    "object = Edelweiss(amc_id=\"9\",path = path)\n",
    "extracted_text = object._get_kim_data(pages=\"2\", instrument_count=2)\n",
    "data = object.refine_extracted_data(extracted_text)\n",
    "dfs = object.merge_and_select_data(data,sid_or_kim=\"kim\",special_func=False)"
   ]
  },
  {
   "cell_type": "code",
   "execution_count": 57,
   "id": "15d2b122",
   "metadata": {},
   "outputs": [
    {
     "name": "stdout",
     "output_type": "stream",
     "text": [
      "Function Running: _get_kim_data\n",
      "[ROW START]: [0, 1, 2, 3, 4, 5, 6]\n",
      "Function Running: refine_extracted_data\n",
      "Function Running: merge_and_select_data\n"
     ]
    }
   ],
   "source": [
    "path = kim_path[\"Motilal Oswal Mutual Fund\"]\n",
    "object = MotilalOswal(amc_id=\"28\", path=path)\n",
    "extracted_text = object._get_kim_data(pages=\"3\", instrument_count=6)\n",
    "data = object.refine_extracted_data(extracted_text)\n",
    "dfs = object.merge_and_select_data(data,sid_or_kim=\"kim\",special_func=False)"
   ]
  },
  {
   "cell_type": "code",
   "execution_count": null,
   "id": "db5b02e7",
   "metadata": {},
   "outputs": [],
   "source": [
    "path = kim_path[\"Nippon India Mutual Fund_C\"]\n",
    "object = Nippon(amc_id=\"33\",path=path)\n",
    "extracted_text = object._get_kim_data(pages=\"2\")\n",
    "data = object.refine_extracted_data(extracted_text)\n",
    "dfs = object.merge_and_select_data(data,sid_or_kim=\"kim\",special_func=False)"
   ]
  },
  {
   "cell_type": "code",
   "execution_count": null,
   "id": "6f0ab264",
   "metadata": {},
   "outputs": [],
   "source": [
    "path = kim_path[\"Samco Mutual Fund\"]\n",
    "object = Samco(amc_id=\"58\", path=path)\n",
    "extracted_text = object._get_kim_data(pages=\"2\", instrument_count=5)\n",
    "data = object.refine_extracted_data(extracted_text)\n",
    "dfs = object.merge_and_select_data(data,sid_or_kim=\"kim\",special_func=False)"
   ]
  },
  {
   "cell_type": "code",
   "execution_count": 61,
   "id": "a4b82d7b",
   "metadata": {},
   "outputs": [
    {
     "name": "stdout",
     "output_type": "stream",
     "text": [
      "Function Running: _get_kim_data\n",
      "[ROW START]: [1, 2, 6]\n",
      "Function Running: refine_extracted_data\n",
      "Function Running: merge_and_select_data\n"
     ]
    }
   ],
   "source": [
    "path = kim_path[\"Sbi Mutual Fund\"]\n",
    "object = SBI(amc_id=\"35\", path=path)\n",
    "extracted_text = object._get_kim_data(pages=\"2\", instrument_count=3)\n",
    "data = object.refine_extracted_data(extracted_text)\n",
    "dfs = object.merge_and_select_data(data,sid_or_kim=\"kim\",special_func=False)"
   ]
  },
  {
   "cell_type": "code",
   "execution_count": null,
   "id": "d15c2bf0",
   "metadata": {},
   "outputs": [],
   "source": [
    "path = kim_path[\"Tata Mutual Fund\"]\n",
    "object = Tata(amc_id=\"38\", path=path)\n",
    "extracted_text = object._get_kim_data(pages=\"2\", instrument_count=3)\n",
    "data = object.refine_extracted_data(extracted_text)\n",
    "dfs = object.merge_and_select_data(data,sid_or_kim=\"kim\",special_func=False)"
   ]
  },
  {
   "cell_type": "code",
   "execution_count": null,
   "id": "fbe71eaf",
   "metadata": {},
   "outputs": [],
   "source": [
    "path = kim_path[\"Unifi Mutual Fund\"]\n",
    "object = Unifi(amc_id=\"97\", path=path)\n",
    "extracted_text = object._get_kim_data(pages=\"3\", instrument_count=3)\n",
    "data = object.refine_extracted_data(extracted_text)\n",
    "dfs = object.merge_and_select_data(data,sid_or_kim=\"kim\",special_func=False)"
   ]
  },
  {
   "cell_type": "code",
   "execution_count": 13,
   "id": "98cb0edd",
   "metadata": {},
   "outputs": [
    {
     "name": "stdout",
     "output_type": "stream",
     "text": [
      "Function Running: _get_kim_data\n",
      "[ROW START]: [1, 8, 10, 21, 22]\n",
      "Function Running: refine_extracted_data\n",
      "Function Running: merge_and_select_data\n"
     ]
    }
   ],
   "source": [
    "path = kim_path[\"Canara Robeco Mutual Fund\"]\n",
    "object = Canara(amc_id=\"6\",path=path)\n",
    "extracted_text = object._get_kim_data(pages=\"2\", instrument_count=4)\n",
    "data = object.refine_extracted_data(extracted_text)\n",
    "dfs = object.merge_and_select_data(data,sid_or_kim=\"kim\",special_func=False)"
   ]
  },
  {
   "cell_type": "code",
   "execution_count": 35,
   "id": "b0597615",
   "metadata": {},
   "outputs": [
    {
     "name": "stdout",
     "output_type": "stream",
     "text": [
      "Function Running: _get_kim_data\n",
      "[ROW START]: [3]\n",
      "Function Running: refine_extracted_data\n",
      "Function Running: merge_and_select_data\n"
     ]
    }
   ],
   "source": [
    "path = kim_path[\"Groww Mutual Fund_C\"]\n",
    "object = GROWW(amc_id=\"20\",path=path)\n",
    "extracted_text = object._get_kim_data(pages=\"3\", instrument_count=2)\n",
    "data = object.refine_extracted_data(extracted_text)\n",
    "dfs = object.merge_and_select_data(data,sid_or_kim=\"kim\",special_func=False)\n"
   ]
  },
  {
   "cell_type": "code",
   "execution_count": 37,
   "id": "dcf7aeb9",
   "metadata": {},
   "outputs": [
    {
     "name": "stdout",
     "output_type": "stream",
     "text": [
      "Function Running: _get_kim_data\n",
      "[ROW START]: [1]\n",
      "Function Running: refine_extracted_data\n",
      "Function Running: merge_and_select_data\n"
     ]
    }
   ],
   "source": [
    "path = kim_path[\"Hdfc Mutual Fund\"]\n",
    "object = HDFC(amc_id=\"12\",path=path)\n",
    "extracted_text = object._get_kim_data(pages=\"2\", instrument_count=2)\n",
    "data = object.refine_extracted_data(extracted_text)\n",
    "dfs = object.merge_and_select_data(data,sid_or_kim=\"kim\",special_func=False)"
   ]
  },
  {
   "cell_type": "code",
   "execution_count": null,
   "id": "1d6847a4",
   "metadata": {},
   "outputs": [],
   "source": [
    "path = kim_path[\"Icici Prudential Mutual Fund\"]\n",
    "object = ICICI(amc_id=\"14\",path=path)\n",
    "extracted_text = object._get_kim_data(pages=\"1\", instrument_count=6)\n",
    "data = object.refine_extracted_data(extracted_text)\n",
    "dfs = object.merge_and_select_data(data,sid_or_kim=\"kim\",special_func=False)"
   ]
  },
  {
   "cell_type": "code",
   "execution_count": 49,
   "id": "5b9708f3",
   "metadata": {},
   "outputs": [
    {
     "name": "stdout",
     "output_type": "stream",
     "text": [
      "Function Running: _get_kim_data\n",
      "[ROW START]: [9]\n",
      "Function Running: refine_extracted_data\n",
      "Function Running: merge_and_select_data\n"
     ]
    }
   ],
   "source": [
    "path = kim_path[\"Kotak Mahindra Mutual Fund\"]\n",
    "object = Kotak(amc_id=\"23\",path=path)\n",
    "extracted_text = object._get_kim_data(pages=\"1\", instrument_count=3)\n",
    "data = object.refine_extracted_data(extracted_text)\n",
    "dfs = object.merge_and_select_data(data,sid_or_kim=\"kim\",special_func=False)"
   ]
  },
  {
   "cell_type": "code",
   "execution_count": 52,
   "id": "379f7f87",
   "metadata": {},
   "outputs": [
    {
     "name": "stdout",
     "output_type": "stream",
     "text": [
      "Function Running: _get_kim_data\n",
      "[ROW START]: [3]\n",
      "Function Running: refine_extracted_data\n",
      "Function Running: merge_and_select_data\n"
     ]
    }
   ],
   "source": [
    "path = kim_path[\"Mirae Asset Mutual Fund\"]\n",
    "object = MIRAE(amc_id=\"27\", path=path)\n",
    "extracted_text = object._get_kim_data(pages=\"4\", instrument_count=3)\n",
    "data = object.refine_extracted_data(extracted_text)\n",
    "dfs = object.merge_and_select_data(data,sid_or_kim=\"kim\",special_func=False)"
   ]
  },
  {
   "cell_type": "code",
   "execution_count": 67,
   "id": "dabf1da1",
   "metadata": {},
   "outputs": [
    {
     "name": "stdout",
     "output_type": "stream",
     "text": [
      "Function Running: _get_kim_data\n",
      "[ROW START]: [6, 7]\n",
      "Function Running: refine_extracted_data\n",
      "Function Running: merge_and_select_data\n"
     ]
    }
   ],
   "source": [
    "path = kim_path[\"Uti Mutual Fund\"]\n",
    "object = UTI(amc_id=\"41\", path=path)\n",
    "extracted_text = object._get_kim_data(pages=\"2\", instrument_count=6)\n",
    "data = object.refine_extracted_data(extracted_text)\n",
    "dfs = object.merge_and_select_data(data,sid_or_kim=\"kim\",special_func=False)"
   ]
  },
  {
   "cell_type": "code",
   "execution_count": 72,
   "id": "7b441de8",
   "metadata": {},
   "outputs": [
    {
     "name": "stdout",
     "output_type": "stream",
     "text": [
      "Function Running: _get_kim_data\n",
      "[ROW START]: [4, 8, 16, 20]\n",
      "Function Running: refine_extracted_data\n",
      "Function Running: merge_and_select_data\n"
     ]
    }
   ],
   "source": [
    "path = kim_path[\"Axis Mutual Fund\"]\n",
    "object = AXISMF(amc_id=\"1\",path=path)\n",
    "extracted_text = object._get_kim_data(pages=\"1\", instrument_count=2)\n",
    "data = object.refine_extracted_data(extracted_text)\n",
    "dfs = object.merge_and_select_data(data,sid_or_kim=\"kim\",special_func=False)"
   ]
  },
  {
   "cell_type": "code",
   "execution_count": 77,
   "id": "94b5c1a8",
   "metadata": {},
   "outputs": [
    {
     "name": "stdout",
     "output_type": "stream",
     "text": [
      "Function Running: _get_kim_data\n",
      "[ROW START]: [2, 3]\n",
      "Function Running: refine_extracted_data\n",
      "Function Running: merge_and_select_data\n"
     ]
    }
   ],
   "source": [
    "path = kim_path[\"Bank Of India Mutual Fund\"]\n",
    "object = BankOfIndia(amc_id=\"5\",path=path)\n",
    "extracted_text = object._get_kim_data(pages=\"3\", instrument_count=2)\n",
    "data = object.refine_extracted_data(extracted_text)\n",
    "dfs = object.merge_and_select_data(data,sid_or_kim=\"kim\",special_func=False)"
   ]
  },
  {
   "cell_type": "code",
   "execution_count": 82,
   "id": "049f6e5f",
   "metadata": {},
   "outputs": [
    {
     "name": "stdout",
     "output_type": "stream",
     "text": [
      "Function Running: _get_kim_data\n",
      "[ROW START]: [1, 2, 3]\n",
      "Function Running: refine_extracted_data\n",
      "Function Running: merge_and_select_data\n"
     ]
    }
   ],
   "source": [
    "path = kim_path[\"Hsbc Mutual Fund\"]\n",
    "object = HSBC(amc_id=\"13\",path=path)\n",
    "extracted_text = object._get_kim_data(pages=\"3\", instrument_count=4)\n",
    "data = object.refine_extracted_data(extracted_text)\n",
    "dfs = object.merge_and_select_data(data,sid_or_kim=\"kim\",special_func=False)"
   ]
  },
  {
   "cell_type": "code",
   "execution_count": null,
   "id": "4d33347c",
   "metadata": {},
   "outputs": [],
   "source": [
    "path = kim_path[\"Invesco Mutual Fund\"]\n",
    "object = Invesco(amc_id=\"21\",path=path)\n",
    "extracted_text = object._get_kim_data(pages=\"3\", instrument_count=4)\n",
    "data = object.refine_extracted_data(extracted_text)\n",
    "dfs = object.merge_and_select_data(data,sid_or_kim=\"kim\",special_func=False)"
   ]
  },
  {
   "cell_type": "code",
   "execution_count": 92,
   "id": "193b8e72",
   "metadata": {},
   "outputs": [
    {
     "name": "stdout",
     "output_type": "stream",
     "text": [
      "Function Running: _get_kim_data\n",
      "[ROW START]: [2, 3, 4, 6]\n",
      "Function Running: refine_extracted_data\n",
      "Function Running: merge_and_select_data\n"
     ]
    }
   ],
   "source": [
    "path = kim_path[\"Iti Mutual Fund\"]\n",
    "object = Invesco(amc_id=\"51\",path=path)\n",
    "extracted_text = object._get_kim_data(pages=\"2\", instrument_count=4)\n",
    "data = object.refine_extracted_data(extracted_text)\n",
    "dfs = object.merge_and_select_data(data,sid_or_kim=\"kim\",special_func=False)"
   ]
  },
  {
   "cell_type": "code",
   "execution_count": 101,
   "id": "fa718c56",
   "metadata": {},
   "outputs": [
    {
     "name": "stdout",
     "output_type": "stream",
     "text": [
      "Function Running: _get_kim_data\n",
      "[ROW START]: [3]\n",
      "Function Running: refine_extracted_data\n",
      "Function Running: merge_and_select_data\n"
     ]
    }
   ],
   "source": [
    "path = kim_path[\"Lic Mutual Fund\"]\n",
    "object = LIC(amc_id=\"25\",path=path)\n",
    "extracted_text = object._get_kim_data(pages=\"3\", instrument_count=5)\n",
    "data = object.refine_extracted_data(extracted_text)\n",
    "dfs = object.merge_and_select_data(data,sid_or_kim=\"kim\",special_func=False)"
   ]
  },
  {
   "cell_type": "code",
   "execution_count": null,
   "id": "8142fccb",
   "metadata": {},
   "outputs": [],
   "source": [
    "path = kim_path[\"Iti Mutual Fund\"]\n",
    "object = Invesco(amc_id=\"51\",path=path)\n",
    "extracted_text = object._get_kim_data(pages=\"2\", instrument_count=4)\n",
    "data = object.refine_extracted_data(extracted_text)\n",
    "dfs = object.merge_and_select_data(data,sid_or_kim=\"kim\",special_func=False)"
   ]
  },
  {
   "cell_type": "code",
   "execution_count": 103,
   "id": "b766ddc9",
   "metadata": {},
   "outputs": [
    {
     "name": "stdout",
     "output_type": "stream",
     "text": [
      "Function Running: _get_kim_data\n",
      "[ROW START]: [1, 18]\n",
      "Function Running: refine_extracted_data\n",
      "Function Running: merge_and_select_data\n"
     ]
    }
   ],
   "source": [
    "path = kim_path[\"Mahindra Manulife Mutual Fund\"]\n",
    "object = MahindraManu(amc_id=\"26\",path=path)\n",
    "extracted_text = object._get_kim_data(pages=\"2\", instrument_count=3)\n",
    "data = object.refine_extracted_data(extracted_text)\n",
    "dfs = object.merge_and_select_data(data,sid_or_kim=\"kim\",special_func=False)"
   ]
  },
  {
   "cell_type": "code",
   "execution_count": 104,
   "id": "c4cba1c5",
   "metadata": {},
   "outputs": [],
   "source": [
    "with open(\"temp.json\",\"w+\") as file:\n",
    "    json.dump(extracted_text,file)\n",
    "with open(\"data.json\",\"w+\") as file:\n",
    "    json.dump(data,file)\n",
    "with open(\"dfs.json\",\"w+\") as file:\n",
    "    json.dump(dfs,file)"
   ]
  }
 ],
 "metadata": {
  "kernelspec": {
   "display_name": ".venv",
   "language": "python",
   "name": "python3"
  },
  "language_info": {
   "codemirror_mode": {
    "name": "ipython",
    "version": 3
   },
   "file_extension": ".py",
   "mimetype": "text/x-python",
   "name": "python",
   "nbconvert_exporter": "python",
   "pygments_lexer": "ipython3",
   "version": "3.13.1"
  }
 },
 "nbformat": 4,
 "nbformat_minor": 5
}
