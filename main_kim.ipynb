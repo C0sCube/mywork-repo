{
 "cells": [
  {
   "cell_type": "code",
   "execution_count": 414,
   "id": "1952a021",
   "metadata": {},
   "outputs": [
    {
     "name": "stdout",
     "output_type": "stream",
     "text": [
      "The autoreload extension is already loaded. To reload it, use:\n",
      "  %reload_ext autoreload\n",
      "Config already loaded. Skipping re-initialization.\n"
     ]
    }
   ],
   "source": [
    "%load_ext autoreload\n",
    "%autoreload 2\n",
    "from app.config_loader import load_config_once\n",
    "conf = load_config_once(output_folder=\"SIDKIM\")\n",
    "import pdfplumber, camelot, pprint, json5,json, os, re\n",
    "import fitz #type: ignore\n",
    "import pandas as pd\n",
    "import numpy as np\n",
    "\n",
    "from app.fund_sid_data import *\n",
    "from app.utils import *\n",
    "from app.parse_table import *\n",
    "with open(\"config\\\\sid_params.json5\",\"r+\") as file:\n",
    "    params = json5.load(file)\n",
    "\n",
    "# with open(\"config\\\\sid_params.json5\",\"r+\") as file:\n",
    "#     params = json5.dump(params,file)"
   ]
  },
  {
   "cell_type": "code",
   "execution_count": 415,
   "id": "78cbe320",
   "metadata": {},
   "outputs": [],
   "source": [
    "base_path = r\"C:\\Users\\Kaustubh.keny\\Projects\\PDF\\KIM\\Mar\"\n",
    "kim_path = Helper.get_pdf_paths(base_path)"
   ]
  },
  {
   "cell_type": "code",
   "execution_count": 461,
   "id": "129d538e",
   "metadata": {},
   "outputs": [
    {
     "data": {
      "text/plain": [
       "'C:\\\\Users\\\\Kaustubh.keny\\\\Projects\\\\PDF\\\\KIM\\\\Mar\\\\Zerodha Mutual Fund\\\\71_16908_Mar-2025_1741331086_KIM.pdf'"
      ]
     },
     "execution_count": 461,
     "metadata": {},
     "output_type": "execute_result"
    }
   ],
   "source": [
    "path = kim_path[\"Zerodha Mutual Fund\"]\n",
    "path"
   ]
  },
  {
   "cell_type": "code",
   "execution_count": 464,
   "id": "9f0e7852",
   "metadata": {},
   "outputs": [],
   "source": [
    "# object = DSP(amc_id=\"8\",path=path)\n",
    "# object = BajajFinServ(amc_id=\"59\",path=path)\n",
    "# object = Canara(amc_id=\"6\",path=path)\n",
    "# object = Edelweiss(amc_id=\"9\",path = path)\n",
    "# object = UTI(amc_id=\"41\",path=path)\n",
    "# object = HDFC(amc_id=\"12\",path=path)\n",
    "# object = Kotak(amc_id=\"23\",path=path)\n",
    "# object = MIRAE(amc_id=\"23\",path=path)\n",
    "# object = MotilalOswal(amc_id=\"28\",path=path)\n",
    "# object = GROWW(amc_id=\"20\",path=path)\n",
    "# object = AdityaBirla(amc_id=\"3\",path=path)\n",
    "# object = ThreeSixtyOne(amc_id=\"18\",path=path)\n",
    "# object = AXISMF(amc_id=\"1\",path=path)\n",
    "# object = Bandhan(amc_id=\"16\",path=path)\n",
    "# object = QuantMF(amc_id=\"10\",path=path)\n",
    "# object = Tata(amc_id=\"38\",path=path)\n",
    "object = Zerodha(amc_id=\"71\",path=path)"
   ]
  },
  {
   "cell_type": "code",
   "execution_count": 465,
   "id": "a3a8176c",
   "metadata": {},
   "outputs": [
    {
     "name": "stdout",
     "output_type": "stream",
     "text": [
      "Function Running: _get_kim_data\n",
      "Start of Content at row: [3]\n"
     ]
    }
   ],
   "source": [
    "dfs = object._get_kim_data(pages=\"4\",instrument_count=2)\n",
    "# data = object.refine_extracted_data(dfs)"
   ]
  },
  {
   "cell_type": "code",
   "execution_count": 466,
   "id": "0b96fcb8",
   "metadata": {},
   "outputs": [
    {
     "data": {
      "text/plain": [
       "{'main_scheme_name': 'Key Information Memorandum (KIM) Zerodha Silver ETF (An open ended Exchange Traded Fund replicating/ tracking domestic prices of Physical Silver) BSE Symbol / Scrip Code :[⏺] , NSE Symbol :[⏺] Key Information Memorandum Zerodha Silver ETF (An open ended Exchange Traded Fund replicating/ tracking domestic prices of physical Silver) BSE Symbol / Scrip Code : XXXX , NSE Symbol : XXXX This product is suitable for investors who are seeking*: Risk-o-meter of the Scheme Risk-o-meter of the Benchma (Domestic prices of Physica Silver) To generate capital appreciation over the long term. Returns that are in line with the performance of Silver over the long term, subject to tracking errors. Investors should understand that their principal will be at Very High Risk. *Investors should consult their financial advisers if in doubt about whether the product is suitable for them. The product labelling assigned during the New Fund Offer (NFO) is based on internal assessment of the schcharacteristics or model portfolio and the same may vary post NFO when actual investments are made.',\n",
       " 'asset_allocation_data': ['Silver  &  Silver  related  instruments* 95 100',\n",
       "  'Debt^  and  Money  Market  Instruments^^,  cash  and  cash  equivalents. 0 5']}"
      ]
     },
     "execution_count": 466,
     "metadata": {},
     "output_type": "execute_result"
    }
   ],
   "source": [
    "dfs"
   ]
  },
  {
   "cell_type": "code",
   "execution_count": 462,
   "id": "b10a4092",
   "metadata": {},
   "outputs": [
    {
     "name": "stdout",
     "output_type": "stream",
     "text": [
      "Total Tables Captured: 1\n"
     ]
    }
   ],
   "source": [
    "table_data = camelot.read_pdf(path,pages=\"4\",flavor=\"lattice\")\n",
    "print(f\"Total Tables Captured: {len(table_data)}\")\n",
    "dfs = [t.df for t in table_data]\n",
    "dfs = TableParser()._concat_padding_vertical(*dfs,padding_rows=1)\n",
    "dfs = dfs.replace(r\"\\n\",\"\",regex=True).replace(r'^\\s*$', pd.NA, regex=True)"
   ]
  },
  {
   "cell_type": "code",
   "execution_count": 463,
   "id": "4dda301b",
   "metadata": {},
   "outputs": [
    {
     "data": {
      "text/plain": [
       "[3]"
      ]
     },
     "execution_count": 463,
     "metadata": {},
     "output_type": "execute_result"
    }
   ],
   "source": [
    "row_start = TableParser()._get_matching_row_indices(dfs,keywords=[\"maximum\",\"minimum\",\"minimum maximum\"],thresh=1)\n",
    "row_start"
   ]
  },
  {
   "cell_type": "code",
   "execution_count": 142,
   "id": "bccd6ec6",
   "metadata": {},
   "outputs": [],
   "source": [
    "path = os.path.join(os.getcwd(),\"pdfs\",\"May KIM\\\\Baroda BNP Paribas Mutual Fund\\\\2_17092_May-2025_1746766023_KIM.pdf\")\n",
    "table_data = camelot.read_pdf(path,pages=\"2\")\n",
    "dfs = pd.concat([table.df for table in table_data], ignore_index=True)\n",
    "dfs = dfs.replace(r\"\\n\",\"\",regex=True).replace(r'^\\s*$', pd.NA, regex=True).dropna(axis=1, how='all')"
   ]
  },
  {
   "cell_type": "code",
   "execution_count": 106,
   "id": "a3fe5321",
   "metadata": {},
   "outputs": [],
   "source": [
    "path = os.path.join(os.getcwd(),\"pdfs\",\"May KIM\\\\DSP Mutual Fund\\\\8_17161_May-2025_1748246485_KIM.pdf\")\n",
    "table_data = camelot.read_pdf(path,pages=\"4\")\n",
    "dfs = pd.concat([table.df for table in table_data], ignore_index=True)\n",
    "dfs = dfs.replace(r\"\\n\",\"\",regex=True).replace(r'^\\s*$', pd.NA, regex=True).dropna(axis=1, how='all')"
   ]
  },
  {
   "cell_type": "code",
   "execution_count": 125,
   "id": "dbaaed56",
   "metadata": {},
   "outputs": [],
   "source": [
    "path = os.path.join(os.getcwd(),\"pdfs\",\"May KIM\\\\Motilal Oswal Mutual Fund\\\\28_17087_May-2025_1746677578_KIM.pdf\")\n",
    "table_data = camelot.read_pdf(path,pages=\"3\")\n",
    "dfs = pd.concat([table.df for table in table_data], ignore_index=True)\n",
    "dfs = dfs.replace(r\"\\n\",\"\",regex=True).replace(r'^\\s*$', pd.NA, regex=True).dropna(axis=1, how='all')"
   ]
  },
  {
   "cell_type": "code",
   "execution_count": null,
   "id": "5dcc688c",
   "metadata": {},
   "outputs": [],
   "source": [
    "path = os.path.join(os.getcwd(),\"pdfs\",\"May KIM\\\\DSP Mutual Fund\\\\8_17161_May-2025_1748246485_KIM.pdf\")\n",
    "table_data = camelot.read_pdf(path,pages=\"4\",flavor=\"lattice\")\n",
    "dfs = pd.concat([table.df for table in table_data], ignore_index=True)\n",
    "dfs = dfs.replace(r\"\\n\",\"\",regex=True).replace(r'^\\s*$', pd.NA, regex=True).dropna(axis=1, how='all')"
   ]
  },
  {
   "cell_type": "code",
   "execution_count": 2,
   "id": "abf3fe00",
   "metadata": {},
   "outputs": [],
   "source": [
    "path = os.path.join(os.getcwd(),\"pdfs\",\"May KIM\\\\Nippon India Mutual Fund\\\\33_17143_May-2025_1747631729_KIM.pdf\")\n",
    "path = os.path.join(os.getcwd(),\"pdfs\",\"May KIM\\\\Nippon India Mutual Fund\\\\33_17145_May-2025_1747631789_KIM.pdf\")\n",
    "table_data = camelot.read_pdf(path,pages=\"2\",flavor=\"lattice\",)\n",
    "dfs = pd.concat([table.df for table in table_data], ignore_index=True)\n",
    "dfs = dfs.replace(r\"\\n\",\"\",regex=True).replace(r'^\\s*$', pd.NA, regex=True).dropna(axis=1, how='all')"
   ]
  },
  {
   "cell_type": "code",
   "execution_count": null,
   "id": "b0c82187",
   "metadata": {},
   "outputs": [],
   "source": [
    "path = os.path.join(os.getcwd(),\"pdfs\",\"May KIM\\\\Samco Mutual Fund\\\\58_17167_May-2025_1748246725_KIM.pdf\")\n",
    "table_data = camelot.read_pdf(path,pages=\"2\", flavor=\"lattice\")\n",
    "dfs = pd.concat([table.df for table in table_data], ignore_index=True)\n",
    "dfs = dfs.replace(r\"\\n\",\"\",regex=True).replace(r'^\\s*$', pd.NA, regex=True).dropna(axis=1, how='all')"
   ]
  },
  {
   "cell_type": "code",
   "execution_count": null,
   "id": "0a32fcf5",
   "metadata": {},
   "outputs": [],
   "source": [
    "path = os.path.join(os.getcwd(),\"pdfs\",\"May KIM\\\\SBI Mutual Fund\\\\35_17127_May-2025_1747282099_KIM.pdf\")\n",
    "table_data = camelot.read_pdf(path,pages=\"3\",flavor=\"lattice\")\n",
    "dfs = pd.concat([table.df for table in table_data], ignore_index=True)\n",
    "dfs = dfs.replace(r\"\\n\",\"\",regex=True).replace(r'^\\s*$', pd.NA, regex=True).dropna(axis=1, how='all')"
   ]
  },
  {
   "cell_type": "code",
   "execution_count": 183,
   "id": "3d883f9a",
   "metadata": {},
   "outputs": [],
   "source": [
    "path = os.path.join(os.getcwd(),\"pdfs\",\"May KIM\\\\Tata Mutual Fund\\\\38_17083_May-2025_1746423609_KIM.pdf\")\n",
    "table_data = camelot.read_pdf(path,pages=\"2\",flavor=\"lattice\")\n",
    "dfs = pd.concat([table.df for table in table_data], ignore_index=True)\n",
    "dfs = dfs.replace(r\"\\n\",\"\",regex=True).replace(r'^\\s*$', pd.NA, regex=True).dropna(axis=1, how='all')"
   ]
  },
  {
   "cell_type": "code",
   "execution_count": 189,
   "id": "7e544e9a",
   "metadata": {},
   "outputs": [],
   "source": [
    "path = os.path.join(os.getcwd(),\"pdfs\",\"May KIM\\\\Unifi Mutual Fund\\\\1747199797848.pdf\")\n",
    "table_data = camelot.read_pdf(path,pages=\"3\",flavor=\"lattice\")\n",
    "dfs = pd.concat([table.df for table in table_data], ignore_index=True)\n",
    "dfs = dfs.replace(r\"\\n\",\"\",regex=True).replace(r'^\\s*$', pd.NA, regex=True).dropna(axis=1, how='all')"
   ]
  },
  {
   "cell_type": "code",
   "execution_count": null,
   "id": "bd724b6d",
   "metadata": {},
   "outputs": [],
   "source": []
  },
  {
   "cell_type": "code",
   "execution_count": null,
   "id": "719a14f1",
   "metadata": {},
   "outputs": [],
   "source": []
  },
  {
   "cell_type": "code",
   "execution_count": null,
   "id": "bd758030",
   "metadata": {},
   "outputs": [],
   "source": []
  },
  {
   "cell_type": "code",
   "execution_count": null,
   "id": "804994b6",
   "metadata": {},
   "outputs": [
    {
     "name": "stdout",
     "output_type": "stream",
     "text": [
      "3\n"
     ]
    },
    {
     "name": "stderr",
     "output_type": "stream",
     "text": [
      "C:\\Users\\Kaustubh.keny\\AppData\\Local\\Temp\\ipykernel_22068\\1236656423.py:4: DeprecationWarning: 'count' is passed as positional argument\n",
      "  text = re.sub(r\"[^A-Za-z0-9\\%\\s]+\",\"\",txt,re.IGNORECASE)\n"
     ]
    }
   ],
   "source": [
    "def _normalize_alphanum(txt):\n",
    "    if not isinstance(txt,str):\n",
    "        return txt\n",
    "    text = re.sub(r\"[^A-Za-z0-9\\%\\s]+\",\"\",txt,re.IGNORECASE)\n",
    "    text = re.sub(r\"\\s+\",\" \",text)\n",
    "    return text.strip().lower()\n",
    "\n",
    "def _is_percentage(val):\n",
    "    return isinstance(val, str) and bool(re.match(r\"\\d{1,3}\", val.strip()))\n",
    "\n",
    "def _is_percentage(val):\n",
    "    return isinstance(val, str) and bool(re.fullmatch(r\"(\\d+%?)+\", val.strip()))\n",
    "\n",
    "\n",
    "pattern = re.compile(r\"^(minimum|maximum|minimummaximum)$\", re.IGNORECASE)\n",
    "\n",
    "for index, row in dfs.iterrows():\n",
    "    values = [_normalize_alphanum(val) for val in row if isinstance(val, str)]\n",
    "    matches = [val for val in values if re.match(pattern, val)]\n",
    "    \n",
    "    if len(matches) >= 1:  # both minimum and maximum-type matches present\n",
    "        row_start = index\n",
    "        print(row_start)\n",
    "        break\n",
    "    \n",
    "row_end = row_start\n",
    "for idx in range(row_start + 1, len(dfs)):\n",
    "    row = list(dfs.iloc[idx])\n",
    "    if any(_is_percentage(val) for val in row):\n",
    "        row_end = idx\n",
    "        # print(row_end)\n",
    "    else:\n",
    "        break"
   ]
  },
  {
   "cell_type": "code",
   "execution_count": 210,
   "id": "7f7433b2",
   "metadata": {},
   "outputs": [
    {
     "data": {
      "text/html": [
       "<div>\n",
       "<style scoped>\n",
       "    .dataframe tbody tr th:only-of-type {\n",
       "        vertical-align: middle;\n",
       "    }\n",
       "\n",
       "    .dataframe tbody tr th {\n",
       "        vertical-align: top;\n",
       "    }\n",
       "\n",
       "    .dataframe thead th {\n",
       "        text-align: right;\n",
       "    }\n",
       "</style>\n",
       "<table border=\"1\" class=\"dataframe\">\n",
       "  <thead>\n",
       "    <tr style=\"text-align: right;\">\n",
       "      <th></th>\n",
       "      <th>2</th>\n",
       "      <th>5</th>\n",
       "      <th>7</th>\n",
       "    </tr>\n",
       "  </thead>\n",
       "  <tbody>\n",
       "    <tr>\n",
       "      <th>3</th>\n",
       "      <td>&lt;NA&gt;</td>\n",
       "      <td>MinimumMaximum</td>\n",
       "      <td>&lt;NA&gt;</td>\n",
       "    </tr>\n",
       "    <tr>\n",
       "      <th>4</th>\n",
       "      <td>Securities constituting BSE Sensex Next 30 Index</td>\n",
       "      <td>95%100%</td>\n",
       "      <td>Very High</td>\n",
       "    </tr>\n",
       "    <tr>\n",
       "      <th>5</th>\n",
       "      <td>Cash &amp; cash equivalents and Money Market instr...</td>\n",
       "      <td>0%5%</td>\n",
       "      <td>Low to Moderate</td>\n",
       "    </tr>\n",
       "  </tbody>\n",
       "</table>\n",
       "</div>"
      ],
      "text/plain": [
       "                                                   2               5  \\\n",
       "3                                               <NA>  MinimumMaximum   \n",
       "4   Securities constituting BSE Sensex Next 30 Index         95%100%   \n",
       "5  Cash & cash equivalents and Money Market instr...            0%5%   \n",
       "\n",
       "                 7  \n",
       "3             <NA>  \n",
       "4        Very High  \n",
       "5  Low to Moderate  "
      ]
     },
     "execution_count": 210,
     "metadata": {},
     "output_type": "execute_result"
    }
   ],
   "source": [
    "dfs.iloc[row_start:row_end+1,:].dropna(axis=1,how=\"all\").head(10)"
   ]
  },
  {
   "cell_type": "code",
   "execution_count": null,
   "id": "a6e48c1e",
   "metadata": {},
   "outputs": [],
   "source": []
  }
 ],
 "metadata": {
  "kernelspec": {
   "display_name": ".venv",
   "language": "python",
   "name": "python3"
  },
  "language_info": {
   "codemirror_mode": {
    "name": "ipython",
    "version": 3
   },
   "file_extension": ".py",
   "mimetype": "text/x-python",
   "name": "python",
   "nbconvert_exporter": "python",
   "pygments_lexer": "ipython3",
   "version": "3.13.1"
  }
 },
 "nbformat": 4,
 "nbformat_minor": 5
}
