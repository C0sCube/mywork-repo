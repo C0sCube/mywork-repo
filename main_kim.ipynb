{
 "cells": [
  {
   "cell_type": "code",
   "execution_count": 2,
   "id": "1952a021",
   "metadata": {},
   "outputs": [
    {
     "name": "stdout",
     "output_type": "stream",
     "text": [
      "The autoreload extension is already loaded. To reload it, use:\n",
      "  %reload_ext autoreload\n",
      "Config already loaded. Skipping re-initialization.\n"
     ]
    }
   ],
   "source": [
    "%load_ext autoreload\n",
    "%autoreload 2\n",
    "from app.config_loader import load_config_once\n",
    "conf = load_config_once(output_folder=\"SIDKIM\")\n",
    "import pdfplumber, camelot, pprint, json5,json, os, re\n",
    "import fitz #type: ignore\n",
    "import pandas as pd\n",
    "import numpy as np\n",
    "\n",
    "from app.fund_sid_data import *\n",
    "from app.utils import *\n",
    "from app.parse_table import *\n",
    "with open(\"config\\\\sid_params.json5\",\"r+\") as file:\n",
    "    params = json5.load(file)\n",
    "\n",
    "# with open(\"config\\\\sid_params.json5\",\"r+\") as file:\n",
    "#     params = json5.dump(params,file)"
   ]
  },
  {
   "cell_type": "code",
   "execution_count": 3,
   "id": "78cbe320",
   "metadata": {},
   "outputs": [
    {
     "data": {
      "text/plain": [
       "{'360 One Mutual Fund': 'C:\\\\Users\\\\Kaustubh.keny\\\\Projects\\\\PDF\\\\KIM\\\\Mar\\\\360 One Mutual Fund\\\\18_16906_Mar-2025_1741330985_KIM.pdf',\n",
       " 'Aditya Birla Sun Life Mutual Fund': 'C:\\\\Users\\\\Kaustubh.keny\\\\Projects\\\\PDF\\\\KIM\\\\Mar\\\\Aditya Birla Sun Life Mutual Fund\\\\3_16941_Mar-2025_1741839033_KIM.pdf',\n",
       " 'Angel One Mututal Fund': 'C:\\\\Users\\\\Kaustubh.keny\\\\Projects\\\\PDF\\\\KIM\\\\Mar\\\\Angel One Mututal Fund\\\\96_16972_Mar-2025_1742355500_KIM.pdf',\n",
       " 'Axis Mutual Fund': 'C:\\\\Users\\\\Kaustubh.keny\\\\Projects\\\\PDF\\\\KIM\\\\Mar\\\\Axis Mutual Fund\\\\1_16910_Mar-2025_1741331214_KIM.pdf',\n",
       " 'Axis Mutual Fund_B': 'C:\\\\Users\\\\Kaustubh.keny\\\\Projects\\\\PDF\\\\KIM\\\\Mar\\\\Axis Mutual Fund\\\\1_16929_Mar-2025_1741758069_KIM.pdf',\n",
       " 'Bandhan Mutual Fund': 'C:\\\\Users\\\\Kaustubh.keny\\\\Projects\\\\PDF\\\\KIM\\\\Mar\\\\Bandhan Mutual Fund\\\\16_16900_Mar-2025_1741148390_KIM.pdf',\n",
       " 'Edelweiss Mutual Fund': 'C:\\\\Users\\\\Kaustubh.keny\\\\Projects\\\\PDF\\\\KIM\\\\Mar\\\\Edelweiss Mutual Fund\\\\9_16917_Mar-2025_1741583069_KIM.pdf',\n",
       " 'Groww Mutual Fund': 'C:\\\\Users\\\\Kaustubh.keny\\\\Projects\\\\PDF\\\\KIM\\\\Mar\\\\Groww Mutual Fund\\\\20_16989_Mar-2025_1743137380_KIM.pdf',\n",
       " 'Groww Mutual Fund_B': 'C:\\\\Users\\\\Kaustubh.keny\\\\Projects\\\\PDF\\\\KIM\\\\Mar\\\\Groww Mutual Fund\\\\20_16991_Mar-2025_1743137446_KIM.pdf',\n",
       " 'Hdfc Mutual Fund': 'C:\\\\Users\\\\Kaustubh.keny\\\\Projects\\\\PDF\\\\KIM\\\\Mar\\\\HDFC Mutual Fund\\\\12_16898_Mar-2025_1740997534_KIM.pdf',\n",
       " 'Icici Prudential Mutual Fund': 'C:\\\\Users\\\\Kaustubh.keny\\\\Projects\\\\PDF\\\\KIM\\\\Mar\\\\ICICI Prudential Mutual Fund\\\\14_16902_Mar-2025_1741148489_KIM.pdf',\n",
       " 'Icici Prudential Mutual Fund_B': 'C:\\\\Users\\\\Kaustubh.keny\\\\Projects\\\\PDF\\\\KIM\\\\Mar\\\\ICICI Prudential Mutual Fund\\\\14_16951_Mar-2025_1742190926_KIM.pdf',\n",
       " 'Kotak Mahindra Mutual Fund': 'C:\\\\Users\\\\Kaustubh.keny\\\\Projects\\\\PDF\\\\KIM\\\\Mar\\\\Kotak Mahindra Mutual Fund\\\\23_16947_Mar-2025_1742187421_KIM.pdf',\n",
       " 'Motilal Oswal Mutual Fund': 'C:\\\\Users\\\\Kaustubh.keny\\\\Projects\\\\PDF\\\\KIM\\\\Mar\\\\Motilal Oswal Mutual Fund\\\\28_16953_Mar-2025_1742191008_KIM.pdf',\n",
       " 'Quant Mutual Fund': 'C:\\\\Users\\\\Kaustubh.keny\\\\Projects\\\\PDF\\\\KIM\\\\Mar\\\\Quant Mutual Fund\\\\10_16939_Mar-2025_1741838970_KIM.pdf',\n",
       " 'Sbi Mutual Fund': 'C:\\\\Users\\\\Kaustubh.keny\\\\Projects\\\\PDF\\\\KIM\\\\Mar\\\\SBI Mutual Fund\\\\35_16935_Mar-2025_1741838862_KIM.pdf',\n",
       " 'Sbi Mutual Fund_B': 'C:\\\\Users\\\\Kaustubh.keny\\\\Projects\\\\PDF\\\\KIM\\\\Mar\\\\SBI Mutual Fund\\\\35_16937_Mar-2025_1741838921_KIM.pdf',\n",
       " 'Tata Mutual Fund': 'C:\\\\Users\\\\Kaustubh.keny\\\\Projects\\\\PDF\\\\KIM\\\\Mar\\\\Tata Mutual Fund\\\\38_16949_Mar-2025_1742187580_KIM.pdf',\n",
       " 'Uti Mutual Fund': 'C:\\\\Users\\\\Kaustubh.keny\\\\Projects\\\\PDF\\\\KIM\\\\Mar\\\\UTI Mutual Fund\\\\41_16945_Mar-2025_1742187095_KIM.pdf',\n",
       " 'Zerodha Mutual Fund': 'C:\\\\Users\\\\Kaustubh.keny\\\\Projects\\\\PDF\\\\KIM\\\\Mar\\\\Zerodha Mutual Fund\\\\71_16908_Mar-2025_1741331086_KIM.pdf',\n",
       " 'Zerodha Mutual Fund_B': 'C:\\\\Users\\\\Kaustubh.keny\\\\Projects\\\\PDF\\\\KIM\\\\Mar\\\\Zerodha Mutual Fund\\\\71_16968_Mar-2025_1742269802_KIM.pdf'}"
      ]
     },
     "execution_count": 3,
     "metadata": {},
     "output_type": "execute_result"
    }
   ],
   "source": [
    "base_path = r\"C:\\Users\\Kaustubh.keny\\Projects\\PDF\\KIM\\Mar\"\n",
    "kim_path = Helper.get_pdf_paths(base_path)\n",
    "kim_path"
   ]
  },
  {
   "cell_type": "code",
   "execution_count": null,
   "id": "9f0e7852",
   "metadata": {},
   "outputs": [],
   "source": [
    "# object = DSP(amc_id=\"8\",path=path)\n",
    "# object = BajajFinServ(amc_id=\"59\",path=path)\n",
    "# object = Canara(amc_id=\"6\",path=path)\n",
    "# object = Edelweiss(amc_id=\"9\",path = path)\n",
    "# object = UTI(amc_id=\"41\",path=path)\n",
    "# object = HDFC(amc_id=\"12\",path=path)\n",
    "# object = Kotak(amc_id=\"23\",path=path)\n",
    "# object = MIRAE(amc_id=\"23\",path=path)\n",
    "# object = MotilalOswal(amc_id=\"28\",path=path)\n",
    "# object = GROWW(amc_id=\"20\",path=path)\n",
    "# object = AdityaBirla(amc_id=\"3\",path=path)\n",
    "# object = ThreeSixtyOne(amc_id=\"18\",path=path)\n",
    "# object = AXISMF(amc_id=\"1\",path=path)\n",
    "# object = Bandhan(amc_id=\"16\",path=path)\n",
    "# object = QuantMF(amc_id=\"10\",path=path)\n",
    "# object = Tata(amc_id=\"38\",path=path)\n",
    "# object = Zerodha(amc_id=\"71\",path=path)"
   ]
  },
  {
   "cell_type": "code",
   "execution_count": null,
   "id": "3448e9be",
   "metadata": {},
   "outputs": [
    {
     "name": "stdout",
     "output_type": "stream",
     "text": [
      "Function Running: _get_kim_data\n",
      "[ROW START]: [7]\n"
     ]
    }
   ],
   "source": [
    "path = kim_path[\"360 One Mutual Fund\"]\n",
    "object = ThreeSixtyOne(amc_id=\"18\",path=path)\n",
    "dfs = object._get_kim_data(pages=\"1\")"
   ]
  },
  {
   "cell_type": "code",
   "execution_count": 113,
   "id": "9049757b",
   "metadata": {},
   "outputs": [
    {
     "name": "stdout",
     "output_type": "stream",
     "text": [
      "Function Running: _get_kim_data\n",
      "[ROW START]: [3]\n",
      "Function Running: refine_extracted_data\n",
      "Function Running: merge_and_select_data\n"
     ]
    }
   ],
   "source": [
    "path = kim_path[\"Bandhan Mutual Fund\"]\n",
    "object = Bandhan(amc_id=\"16\",path=path)\n",
    "extracted_text = object._get_kim_data(pages=\"3\")\n",
    "data = object.refine_extracted_data(extracted_text)\n",
    "dfs = object.merge_and_select_data(data=data,sid_or_kim=\"kim\",special_func=False)"
   ]
  },
  {
   "cell_type": "code",
   "execution_count": null,
   "id": "2eba955b",
   "metadata": {},
   "outputs": [],
   "source": [
    "path = kim_path[\"Aditya Birla Sun Life Mutual Fund\"]\n",
    "object = AdityaBirla(amc_id=\"3\",path=path)\n",
    "extracted_text = object._get_kim_data(pages=\"1\")\n",
    "data = object.refine_extracted_data(extracted_text)\n",
    "dfs = object.merge_and_select_data(data=data,sid_or_kim=\"kim\",special_func=False)"
   ]
  },
  {
   "cell_type": "code",
   "execution_count": 86,
   "id": "2d30f06d",
   "metadata": {},
   "outputs": [
    {
     "name": "stdout",
     "output_type": "stream",
     "text": [
      "Function Running: _get_kim_data\n",
      "[ROW START]: [3]\n",
      "Function Running: refine_extracted_data\n",
      "Function Running: merge_and_select_data\n"
     ]
    }
   ],
   "source": [
    "path = kim_path[\"Edelweiss Mutual Fund\"]\n",
    "object = Edelweiss(amc_id=\"9\",path = path)\n",
    "extracted_text = object._get_kim_data(pages=\"2\")\n",
    "data = object.refine_extracted_data(extracted_text)\n",
    "dfs = object.merge_and_select_data(data,sid_or_kim=\"kim\",special_func=False)"
   ]
  },
  {
   "cell_type": "code",
   "execution_count": null,
   "id": "aaa129d0",
   "metadata": {},
   "outputs": [],
   "source": [
    "path = kim_path[\"360 One Mutual Fund\"]"
   ]
  }
 ],
 "metadata": {
  "kernelspec": {
   "display_name": ".venv",
   "language": "python",
   "name": "python3"
  },
  "language_info": {
   "codemirror_mode": {
    "name": "ipython",
    "version": 3
   },
   "file_extension": ".py",
   "mimetype": "text/x-python",
   "name": "python",
   "nbconvert_exporter": "python",
   "pygments_lexer": "ipython3",
   "version": "3.13.1"
  }
 },
 "nbformat": 4,
 "nbformat_minor": 5
}
