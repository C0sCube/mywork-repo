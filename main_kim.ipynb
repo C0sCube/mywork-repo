{
 "cells": [
  {
   "cell_type": "code",
   "execution_count": 2,
   "id": "1952a021",
   "metadata": {},
   "outputs": [
    {
     "name": "stdout",
     "output_type": "stream",
     "text": [
      "Loaded config with output_folder = SIDKIM\n"
     ]
    }
   ],
   "source": [
    "%load_ext autoreload\n",
    "%autoreload 2\n",
    "from app.config_loader import load_config_once\n",
    "conf = load_config_once(output_folder=\"SIDKIM\")\n",
    "import pdfplumber, camelot, pprint, json5,json, os, re\n",
    "import fitz #type: ignore\n",
    "import pandas as pd\n",
    "import numpy as np\n",
    "\n",
    "from app.fund_sid_data import *\n",
    "from app.utils import *\n",
    "from app.parse_table import *\n",
    "with open(\"config\\\\sid_params.json5\",\"r+\") as file:\n",
    "    params = json5.load(file)\n",
    "\n",
    "# with open(\"config\\\\sid_params.json5\",\"r+\") as file:\n",
    "#     params = json5.dump(params,file)"
   ]
  },
  {
   "cell_type": "code",
   "execution_count": 3,
   "id": "78cbe320",
   "metadata": {},
   "outputs": [
    {
     "data": {
      "text/plain": [
       "{'Bajaj Finserv Mutual Fund': 'C:\\\\Users\\\\rando\\\\OneDrive\\\\Documents\\\\PDFDrive\\\\KIM\\\\Apr\\\\Bajaj Finserv Mutual Fund\\\\59_17023_Apr-2025_1744773966_KIM.pdf',\n",
       " 'Bajaj Finserv Mutual Fund_B': 'C:\\\\Users\\\\rando\\\\OneDrive\\\\Documents\\\\PDFDrive\\\\KIM\\\\Apr\\\\Bajaj Finserv Mutual Fund\\\\59_17048_Apr-2025_1745296608_KIM.pdf',\n",
       " 'Canara Robeco Mutual Fund': 'C:\\\\Users\\\\rando\\\\OneDrive\\\\Documents\\\\PDFDrive\\\\KIM\\\\Apr\\\\Canara Robeco Mutual Fund\\\\6_16998_Apr-2025_1743747388_KIM.pdf',\n",
       " 'Dsp Mutual Fund': 'C:\\\\Users\\\\rando\\\\OneDrive\\\\Documents\\\\PDFDrive\\\\KIM\\\\Apr\\\\DSP Mutual Fund\\\\8_17038_Apr-2025_1744864577_KIM.pdf',\n",
       " 'Dsp Mutual Fund_B': 'C:\\\\Users\\\\rando\\\\OneDrive\\\\Documents\\\\PDFDrive\\\\KIM\\\\Apr\\\\DSP Mutual Fund\\\\8_17040_Apr-2025_1744864725_KIM.pdf',\n",
       " 'Edelweiss Mutual Fund': 'C:\\\\Users\\\\rando\\\\OneDrive\\\\Documents\\\\PDFDrive\\\\KIM\\\\Apr\\\\Edelweiss Mutual Fund\\\\9_17046_Apr-2025_1745209965_KIM.pdf',\n",
       " 'Groww Mutual Fund': 'C:\\\\Users\\\\rando\\\\OneDrive\\\\Documents\\\\PDFDrive\\\\KIM\\\\Apr\\\\Groww Mutual Fund\\\\20_17034_Apr-2025_1744864416_KIM.pdf',\n",
       " 'Groww Mutual Fund_B': 'C:\\\\Users\\\\rando\\\\OneDrive\\\\Documents\\\\PDFDrive\\\\KIM\\\\Apr\\\\Groww Mutual Fund\\\\20_17073_Apr-2025_1745813009_KIM.pdf',\n",
       " 'Groww Mutual Fund_C': 'C:\\\\Users\\\\rando\\\\OneDrive\\\\Documents\\\\PDFDrive\\\\KIM\\\\Apr\\\\Groww Mutual Fund\\\\20_17075_Apr-2025_1745813130_KIM.pdf',\n",
       " 'Hdfc Mutual Fund': 'C:\\\\Users\\\\rando\\\\OneDrive\\\\Documents\\\\PDFDrive\\\\KIM\\\\Apr\\\\HDFC Mutual Fund\\\\12_17052_Apr-2025_1745296902_KIM.pdf',\n",
       " 'Icici Prudential Mutual Fund': 'C:\\\\Users\\\\rando\\\\OneDrive\\\\Documents\\\\PDFDrive\\\\KIM\\\\Apr\\\\ICICI Prudential Mutual Fund\\\\14_17071_Apr-2025_1745812955_KIM.pdf',\n",
       " 'Kotak Mahindra Mutual Fund': 'C:\\\\Users\\\\rando\\\\OneDrive\\\\Documents\\\\PDFDrive\\\\KIM\\\\Apr\\\\Kotak Mahindra Mutual Fund\\\\23_16993_Apr-2025_1743565950_KIM.pdf',\n",
       " 'Mirae Asset Mutual Fund': 'C:\\\\Users\\\\rando\\\\OneDrive\\\\Documents\\\\PDFDrive\\\\KIM\\\\Apr\\\\Mirae Asset Mutual Fund\\\\27_17068_Apr-2025_1745555567_KIM.pdf',\n",
       " 'Motilal Oswal Mutual Fund': 'C:\\\\Users\\\\rando\\\\OneDrive\\\\Documents\\\\PDFDrive\\\\KIM\\\\Apr\\\\Motilal Oswal Mutual Fund\\\\28_17036_Apr-2025_1744864507_KIM.pdf',\n",
       " 'Sbi Mutual Fund': 'C:\\\\Users\\\\rando\\\\OneDrive\\\\Documents\\\\PDFDrive\\\\KIM\\\\Apr\\\\SBI Mutual Fund\\\\35_17064_Apr-2025_1745384501_SID.pdf',\n",
       " 'Sbi Mutual Fund_B': 'C:\\\\Users\\\\rando\\\\OneDrive\\\\Documents\\\\PDFDrive\\\\KIM\\\\Apr\\\\SBI Mutual Fund\\\\35_17065_Apr-2025_1745384669_KIM.pdf',\n",
       " 'Uti Mutual Fund': 'C:\\\\Users\\\\rando\\\\OneDrive\\\\Documents\\\\PDFDrive\\\\KIM\\\\Apr\\\\UTI Mutual Fund\\\\41_17050_Apr-2025_1745296671_KIM.pdf'}"
      ]
     },
     "execution_count": 3,
     "metadata": {},
     "output_type": "execute_result"
    }
   ],
   "source": [
    "# base_path = r\"C:\\Users\\Kaustubh.keny\\Projects\\PDF\\KIM\\Mar\"\n",
    "base_path = r'C:\\Users\\rando\\OneDrive\\Documents\\PDFDrive\\KIM\\Apr'\n",
    "kim_path = Helper.get_pdf_paths(base_path)\n",
    "kim_path"
   ]
  },
  {
   "cell_type": "code",
   "execution_count": null,
   "id": "9f0e7852",
   "metadata": {},
   "outputs": [],
   "source": [
    "# object = DSP(amc_id=\"8\",path=path)\n",
    "# object = BajajFinServ(amc_id=\"59\",path=path)\n",
    "# object = Canara(amc_id=\"6\",path=path)\n",
    "# object = Edelweiss(amc_id=\"9\",path = path)\n",
    "# object = UTI(amc_id=\"41\",path=path)\n",
    "# object = HDFC(amc_id=\"12\",path=path)\n",
    "# object = Kotak(amc_id=\"23\",path=path)\n",
    "# object = MIRAE(amc_id=\"23\",path=path)\n",
    "# object = MotilalOswal(amc_id=\"28\",path=path)\n",
    "# object = GROWW(amc_id=\"20\",path=path)\n",
    "# object = AdityaBirla(amc_id=\"3\",path=path)\n",
    "# object = ThreeSixtyOne(amc_id=\"18\",path=path)\n",
    "# object = AXISMF(amc_id=\"1\",path=path)\n",
    "# object = Bandhan(amc_id=\"16\",path=path)\n",
    "# object = QuantMF(amc_id=\"10\",path=path)\n",
    "# object = Tata(amc_id=\"38\",path=path)\n",
    "# object = Zerodha(amc_id=\"71\",path=path)"
   ]
  },
  {
   "cell_type": "code",
   "execution_count": null,
   "id": "ec81a3e4",
   "metadata": {},
   "outputs": [],
   "source": [
    "path = kim_path[\"Dsp Mutual Fund\"]\n",
    "GROWW(amc_id=\"20\",path=path)\n",
    "extracted_text = object._get_kim_data(pages=\"3\")\n",
    "data = object.refine_extracted_data(extracted_text)\n",
    "dfs = object.merge_and_select_data(data=data,sid_or_kim=\"kim\",special_func=False)"
   ]
  },
  {
   "cell_type": "code",
   "execution_count": 18,
   "id": "3448e9be",
   "metadata": {},
   "outputs": [
    {
     "name": "stdout",
     "output_type": "stream",
     "text": [
      "Function Running: _get_kim_data\n",
      "[ROW START]: [4]\n",
      "Function Running: refine_extracted_data\n",
      "Function Running: merge_and_select_data\n"
     ]
    }
   ],
   "source": [
    "path = kim_path[\"Dsp Mutual Fund\"]\n",
    "object = DSP(amc_id=\"8\",path=path)\n",
    "extracted_text = object._get_kim_data(pages=\"3\")\n",
    "data = object.refine_extracted_data(extracted_text)\n",
    "dfs = object.merge_and_select_data(data=data,sid_or_kim=\"kim\",special_func=False)"
   ]
  },
  {
   "cell_type": "code",
   "execution_count": 113,
   "id": "9049757b",
   "metadata": {},
   "outputs": [
    {
     "name": "stdout",
     "output_type": "stream",
     "text": [
      "Function Running: _get_kim_data\n",
      "[ROW START]: [3]\n",
      "Function Running: refine_extracted_data\n",
      "Function Running: merge_and_select_data\n"
     ]
    }
   ],
   "source": [
    "path = kim_path[\"Bandhan Mutual Fund\"]\n",
    "object = Bandhan(amc_id=\"16\",path=path)\n",
    "extracted_text = object._get_kim_data(pages=\"3\")\n",
    "data = object.refine_extracted_data(extracted_text)\n",
    "dfs = object.merge_and_select_data(data=data,sid_or_kim=\"kim\",special_func=False)"
   ]
  },
  {
   "cell_type": "code",
   "execution_count": null,
   "id": "2eba955b",
   "metadata": {},
   "outputs": [],
   "source": [
    "path = kim_path[\"Aditya Birla Sun Life Mutual Fund\"]\n",
    "object = AdityaBirla(amc_id=\"3\",path=path)\n",
    "extracted_text = object._get_kim_data(pages=\"1\")\n",
    "data = object.refine_extracted_data(extracted_text)\n",
    "dfs = object.merge_and_select_data(data=data,sid_or_kim=\"kim\",special_func=False)"
   ]
  },
  {
   "cell_type": "code",
   "execution_count": null,
   "id": "2d30f06d",
   "metadata": {},
   "outputs": [
    {
     "name": "stdout",
     "output_type": "stream",
     "text": [
      "Function Running: _get_kim_data\n",
      "[ROW START]: [4]\n",
      "Function Running: refine_extracted_data\n",
      "Function Running: merge_and_select_data\n"
     ]
    }
   ],
   "source": [
    "path = kim_path[\"Edelweiss Mutual Fund\"]\n",
    "object = Edelweiss(amc_id=\"9\",path = path)\n",
    "extracted_text = object._get_kim_data(pages=\"2\", instrument_count=2)\n",
    "data = object.refine_extracted_data(extracted_text)\n",
    "dfs = object.merge_and_select_data(data,sid_or_kim=\"kim\",special_func=False)"
   ]
  },
  {
   "cell_type": "code",
   "execution_count": null,
   "id": "1851d8ba",
   "metadata": {},
   "outputs": [],
   "source": []
  },
  {
   "cell_type": "code",
   "execution_count": null,
   "id": "aaa129d0",
   "metadata": {},
   "outputs": [],
   "source": [
    "path = kim_path[\"360 One Mutual Fund\"]"
   ]
  },
  {
   "cell_type": "code",
   "execution_count": 19,
   "id": "c4cba1c5",
   "metadata": {},
   "outputs": [],
   "source": [
    "with open(\"temp.json\",\"w+\") as file:\n",
    "    json.dump(extracted_text,file)\n",
    "with open(\"data.json\",\"w+\") as file:\n",
    "    json.dump(data,file)\n",
    "with open(\"dfs.json\",\"w+\") as file:\n",
    "    json.dump(dfs,file)"
   ]
  }
 ],
 "metadata": {
  "kernelspec": {
   "display_name": "envPDF",
   "language": "python",
   "name": "python3"
  },
  "language_info": {
   "codemirror_mode": {
    "name": "ipython",
    "version": 3
   },
   "file_extension": ".py",
   "mimetype": "text/x-python",
   "name": "python",
   "nbconvert_exporter": "python",
   "pygments_lexer": "ipython3",
   "version": "3.13.1"
  }
 },
 "nbformat": 4,
 "nbformat_minor": 5
}
