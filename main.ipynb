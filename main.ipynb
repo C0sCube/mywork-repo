{
 "cells": [
  {
   "cell_type": "code",
   "execution_count": 1,
   "metadata": {},
   "outputs": [],
   "source": [
    "%load_ext autoreload\n",
    "%autoreload 2\n",
    "import json, os, logging\n",
    "PATHS_CONFIG =os.path.join(os.getcwd(),'paths.json')\n",
    "with open(PATHS_CONFIG,'r') as file:\n",
    "    PATH = json.load(file)\n",
    "    \n",
    "from app.fund_data import *\n",
    "from app.params_handler import *\n",
    "from app.utils import Helper\n",
    "from logging_config import logger\n",
    "\n",
    "logger.info(\"Application Started !!\")\n",
    "mutual_fund = Helper.get_fund_paths(PATH['dirs']['fund_path'])\n",
    "\n",
    "with open(os.path.join(os.getcwd(),PATH[\"configs\"]['regex']),'r') as file:\n",
    "    class_mapper = json.load(file)['main_mapper']"
   ]
  },
  {
   "cell_type": "code",
   "execution_count": null,
   "metadata": {},
   "outputs": [],
   "source": [
    "\"\"\"360 ONE\"\"\"\n",
    "amc_name = '360 One Mutual Fund'\n",
    "logging.info(f\"User Ran Fund Data of {amc_name}\")\n",
    "\n",
    "object = ThreeSixtyOne(PATHS_CONFIG,amc_name)\n",
    "path = mutual_fund[amc_name]\n",
    "\n",
    "title,path_pdf = object.check_and_highlight(path)\n",
    "# pages = [17, 19, 21, 23, 25, 27, 29, 31, 33, 35, 37, 39, 41, 43, 45, 47, 49, 50, 52, 54, 56, 58, 60, 62, 64, 66, 67, 69, 72, 75, 78, 80, 82, 86, 87, 89, 91, 93, 95, 98, 101, 103, 106, 108, 110, 112, 114, 115, 116, 118, 119, 121, 123, 125, 127, 128, 129, 130, 131, 132, 133, 134, 135, 136, 137, 138, 139, 140, 141, 143, 145, 147, 149, 151, 152, 153, 155, 157, 159, 160, 161, 162, 163, 164, 165, 166, 167, 168, 169, 170, 171, 172, 173, 174, 175, 176, 177, 178, 179, 180, 181, 182]\n",
    "data = object.get_data(path_pdf,title)\n",
    "extracted_text = object.get_generated_content(data)"
   ]
  },
  {
   "cell_type": "code",
   "execution_count": 3,
   "metadata": {},
   "outputs": [
    {
     "name": "stdout",
     "output_type": "stream",
     "text": [
      "\n",
      "  JSON saved at C:\\Users\\rando\\OneDrive\\Documents\\mywork-repo\\data\\output\\dump_360_22_26_49.json\n"
     ]
    }
   ],
   "source": [
    "Helper.quick_json_dump(extracted_text, object.JSONPATH)"
   ]
  },
  {
   "cell_type": "code",
   "execution_count": null,
   "metadata": {},
   "outputs": [],
   "source": [
    "\"\"\"SHRIRAM MAIN FILE CODE\"\"\"\n",
    "\n",
    "amc_name = \"Shriram Mutual Fund\"\n",
    "logger.info(f\"User Ran Fund Data of {amc_name}\")\n",
    "\n",
    "object = Shriram(PATHS_CONFIG,amc_name)\n",
    "path = mutual_fund[amc_name]\n",
    "title,path_pdf = object.check_and_highlight(path)\n",
    "data = object.get_data(path_pdf,title)\n",
    "extracted_text = object.get_generated_content(data)"
   ]
  },
  {
   "cell_type": "code",
   "execution_count": null,
   "metadata": {},
   "outputs": [],
   "source": [
    "Helper.quick_json_dump(extracted_text, object.JSONPATH) "
   ]
  },
  {
   "cell_type": "code",
   "execution_count": 56,
   "metadata": {},
   "outputs": [
    {
     "name": "stdout",
     "output_type": "stream",
     "text": [
      "Function Running: refine_extracted_data\n",
      "Function Running: merge_and_select_data\n",
      "\n",
      "  JSON saved at C:\\Users\\rando\\OneDrive\\Documents\\mywork-repo\\data\\output\\dump_shriram_23_45_09.json\n"
     ]
    }
   ],
   "source": [
    "object = Shriram(PATHS_CONFIG,amc_name)\n",
    "final_text = object.refine_extracted_data(extracted_text, flatten=True)\n",
    "dfs = object.merge_and_select_data(final_text,select = True,map = True)\n",
    "Helper.quick_json_dump(dfs, object.JSONPATH) "
   ]
  },
  {
   "cell_type": "code",
   "execution_count": null,
   "metadata": {},
   "outputs": [],
   "source": [
    "\"\"\"PPFAS MAIN FILE CODE\"\"\"\n",
    "\n",
    "amc_name = \"PPFAS Mutual Fund\"\n",
    "logger.info(f\"User Ran Fund Data of {amc_name}\")\n",
    "\n",
    "object = PPFAS(PATHS_CONFIG,amc_name)\n",
    "path = mutual_fund[amc_name]\n",
    "\n",
    "title,path_pdf = object.check_and_highlight(path)\n",
    "data = object.get_data(path_pdf,title)\n",
    "extracted_text = object.get_generated_content(data)\n",
    "\n",
    "final_text = object.refine_extracted_data(extracted_text, flatten=True)\n",
    "dfs = object.merge_and_select_data(final_text,select = True,map = True)\n",
    "Helper.quick_json_dump(dfs, object.JSONPATH)"
   ]
  },
  {
   "cell_type": "code",
   "execution_count": null,
   "metadata": {},
   "outputs": [],
   "source": [
    "'''AXIS ONE MAIN FILE CODE''' #No issues as of now\n",
    "amc_name = \"Axis Mutual Fund Passive\"\n",
    "logger.info(f\"User Ran Fund Data of {amc_name}\")\n",
    "\n",
    "object = AXISMF(PATHS_CONFIG,amc_name)\n",
    "path = mutual_fund[amc_name]\n",
    "\n",
    "title,path_pdf = object.check_and_highlight(path)\n",
    "# pages = [6, 7, 8, 9, 10, 11, 12, 13, 14, 15, 16, 17, 18, 19, 20, 21, 22, 23, 24, 25, 26, 27, 28, 29, 30, 31, 32, 33, 34, 35, 36, 37]\n",
    "data = object.get_data(path_pdf,title)\n",
    "extracted_text = object.get_generated_content(data)\n",
    "\n",
    "final_text = object.refine_extracted_data(extracted_text, flatten=True)\n",
    "dfs = object.merge_and_select_data(final_text,select = True, map = True)\n",
    "Helper.quick_json_dump(dfs,object.JSONPATH)"
   ]
  },
  {
   "cell_type": "code",
   "execution_count": null,
   "metadata": {},
   "outputs": [],
   "source": [
    "\"\"\"*ADITYA BIRLA FILE CODE\"\"\"\n",
    "amc_name = 'Aditya Birla Sun Life Mutual Fund'\n",
    "logging.info(f\"User Ran Fund Data of {amc_name}\")\n",
    "\n",
    "object = AdityaBirla(PATHS_CONFIG,amc_name)\n",
    "path = mutual_fund[amc_name]\n",
    "\n",
    "title,path_pdf = object.check_and_highlight(path)\n",
    "# pages = [17, 19, 21, 23, 25, 27, 29, 31, 33, 35, 37, 39, 41, 43, 45, 47, 49, 50, 52, 54, 56, 58, 60, 62, 64, 66, 67, 69, 72, 75, 78, 80, 82, 86, 87, 89, 91, 93, 95, 98, 101, 103, 106, 108, 110, 112, 114, 115, 116, 118, 119, 121, 123, 125, 127, 128, 129, 130, 131, 132, 133, 134, 135, 136, 137, 138, 139, 140, 141, 143, 145, 147, 149, 151, 152, 153, 155, 157, 159, 160, 161, 162, 163, 164, 165, 166, 167, 168, 169, 170, 171, 172, 173, 174, 175, 176, 177, 178, 179, 180, 181, 182]\n",
    "data = object.get_data(path_pdf,title)\n",
    "extracted_text = object.get_generated_content(data)\n",
    "\n",
    "final_text = object.refine_extracted_data(extracted_text, flatten=True)\n",
    "dfs = object.merge_and_select_data(final_text,select=True,map = True,special=True)\n",
    "Helper.quick_json_dump(dfs,object.JSONPATH)"
   ]
  },
  {
   "cell_type": "code",
   "execution_count": null,
   "metadata": {},
   "outputs": [],
   "source": [
    "\"\"\"BANDHAN MF FILE MAIN CODE\"\"\" # rgex for fund manager\n",
    "\n",
    "amc_name = \"Bandhan Mutual Fund\"\n",
    "logging.info(f\"User Ran Fund Data of {amc_name}\")\n",
    "\n",
    "object = Bandhan(PATHS_CONFIG,amc_name)\n",
    "path = mutual_fund[amc_name]\n",
    "\n",
    "title,path_pdf= object.check_and_highlight(path)\n",
    "# pages = [15, 16, 17, 18, 19, 20, 21, 22, 23, 24, 25, 26, 27, 28, 29, 30, 31, 32, 33, 34, 35, 36, 37, 38, 39, 40, 41, 43, 44, 45, 46, 47, 48, 49, 50, 51, 52, 53, 54, 55, 56, 57, 58, 59, 60, 61, 62, 63, 64, 65, 66, 67, 68, 69, 70, 71, 72, 73, 74, 75, 76, 77, 78, 79, 80, 81]\n",
    "\n",
    "data  = object.get_data(path_pdf,title)\n",
    "extracted_text = object.get_generated_content(data)\n",
    "\n",
    "final_text = object.refine_extracted_data(extracted_text, flatten = True)\n",
    "dfs = object.merge_and_select_data(final_text,select=True, map = True)\n",
    "Helper.quick_json_dump(dfs, object.JSONPATH)"
   ]
  },
  {
   "cell_type": "code",
   "execution_count": null,
   "metadata": {},
   "outputs": [],
   "source": [
    "\"\"\" BARODA BNP MAIN FILE CODE\"\"\"\n",
    "\n",
    "amc_name = 'Baroda Bnp Paribas Mutual Fund'\n",
    "logging.info(f\"User Ran Fund Data of {amc_name}\")\n",
    "path = mutual_fund[amc_name]\n",
    "object = BarodaBNP(PATHS_CONFIG,amc_name)\n",
    "title,path_pdf= object.check_and_highlight(path)\n",
    "data  = object.get_data(path_pdf,title)\n",
    "extracted_text = object.get_generated_content(data)\n",
    "\n",
    "final_text = object.refine_extracted_data(extracted_text, flatten = True)\n",
    "dfs = object.merge_and_select_data(final_text, select = True, map = True)\n",
    "Helper.quick_json_dump(dfs, object.JSONPATH)"
   ]
  },
  {
   "cell_type": "code",
   "execution_count": null,
   "metadata": {},
   "outputs": [],
   "source": [
    "\"\"\"BANK OF INDIA\"\"\" #Regex\n",
    "\n",
    "amc_name = 'Bank of India Mutual Fund'\n",
    "logging.info(f\"User Ran Fund Data of {amc_name}\")\n",
    "\n",
    "object = BankOfIndia(PATHS_CONFIG,amc_name)\n",
    "path = mutual_fund[amc_name]\n",
    "title,path_pdf= object.check_and_highlight(path)\n",
    "\n",
    "# pages =[6, 7, 8, 9, 10, 11, 12, 13, 14, 15, 16, 17, 18, 19, 20, 21, 22, 23, 24]\n",
    "data = object.get_data(path_pdf,title)\n",
    "extracted_text = object.get_generated_content(data)\n",
    "object = BankOfIndia(PATHS_CONFIG,amc_name)\n",
    "final_text = object.refine_extracted_data(extracted_text)\n",
    "dfs = object.merge_and_select_data(final_text,select = True, map = True)\n",
    "Helper.quick_json_dump(dfs, object.JSONPATH)"
   ]
  },
  {
   "cell_type": "code",
   "execution_count": null,
   "metadata": {},
   "outputs": [],
   "source": [
    "\"\"\"BAJAJ FINSERV MAIN FILE CODE\"\"\" #manager regex robust\n",
    "\n",
    "amc_name = 'Bajaj finserv Mutual Fund'\n",
    "logging.info(f\"User Ran Fund Data of {amc_name}\")\n",
    "\n",
    "object = BajajFinServ(PATHS_CONFIG,amc_name)\n",
    "path = mutual_fund[amc_name]\n",
    "\n",
    "title,path_pdf= object.check_and_highlight(path)\n",
    "# pages = [17, 19, 21, 23, 25, 26, 28, 30, 31, 32, 33, 34, 35, 36, 37, 38]\n",
    "data = object.get_data(path_pdf,title)\n",
    "extracted_text = object.get_generated_content(data)\n",
    "\n",
    "final_text = object.refine_extracted_data(extracted_text, flatten = True)\n",
    "dfs = object.merge_and_select_data(final_text, select=True,map = True)\n",
    "Helper.quick_json_dump(dfs, object.JSONPATH)"
   ]
  },
  {
   "cell_type": "code",
   "execution_count": null,
   "metadata": {},
   "outputs": [],
   "source": [
    "\"\"\"CANARA MUTUAL FUND\"\"\" \n",
    "\n",
    "amc_name = 'Canara Robeco Mutual Fund'\n",
    "logging.info(f\"User Ran Fund Data of {amc_name}\")\n",
    "\n",
    "object = Canara(PATHS_CONFIG,amc_name)\n",
    "path = mutual_fund[amc_name]\n",
    "\n",
    "title,path_pdf= object.check_and_highlight(path)\n",
    "# pages = [8, 9, 10, 11, 12, 13, 14, 15, 16, 17, 18, 19, 20, 21, 22, 23, 24, 25, 26, 27, 28, 29, 30, 31, 32]\n",
    "data = object.get_data(path_pdf,title)\n",
    "extracted_text = object.get_generated_content(data)\n",
    "final_text = object.refine_extracted_data(extracted_text, flatten = True)\n",
    "dfs = object.merge_and_select_data(final_text,select = True,map = True, special=True)\n",
    "Helper.quick_json_dump(dfs, object.JSONPATH)"
   ]
  },
  {
   "cell_type": "code",
   "execution_count": null,
   "metadata": {},
   "outputs": [],
   "source": [
    "\"\"\"DSP MAIN FILE CODE\"\"\"\n",
    "\n",
    "amc_name = 'Dsp Mutual Fund'\n",
    "logging.info(f\"User Ran Fund Data of {amc_name}\")\n",
    "\n",
    "object = DSP(PATHS_CONFIG,amc_name)\n",
    "path = mutual_fund['Dsp Mutual Fund']\n",
    "title,path_pdf= object.check_and_highlight(path)\n",
    "\n",
    "# pages = [1, 2, 3, 4, 5, 6, 7, 8, 9, 10, 11, 12, 13, 14, 15, 16, 17, 18, 19, 20, 21, 23, 24, 25, 26, 27, 28, 29, 30, 31, 32, 33, 34, 35, 36, 37, 38, 39, 40, 41, 42, 43, 44, 45, 46, 47, 48, 49, 50, 51, 52, 53, 54, 55, 56, 57, 58, 59, 60, 61, 62, 63, 64, 65, 66, 67]\n",
    "data = object.get_data(path_pdf,title)\n",
    "extracted_text = object.get_generated_content(data)"
   ]
  },
  {
   "cell_type": "code",
   "execution_count": null,
   "metadata": {},
   "outputs": [],
   "source": [
    "object = DSP(PATHS_CONFIG,amc_name)\n",
    "final_text = object.refine_extracted_data(extracted_text,flatten = True)\n",
    "dfs = object.merge_and_select_data(final_text,select = True,map = True)\n",
    "Helper.quick_json_dump(dfs,object.JSONPATH)"
   ]
  },
  {
   "cell_type": "code",
   "execution_count": null,
   "metadata": {},
   "outputs": [],
   "source": [
    "\"\"\"EDELWEISS MP FILE MAIN CODE\"\"\" #Issues: objective in seperate dict,#metrics are weird, scheme launch date issue\n",
    "\n",
    "amc_name = 'Edelweiss Mutual Fund'\n",
    "logging.info(f\"User Ran Fund Data of {amc_name}\")\n",
    "\n",
    "object = Edelweiss(PATHS_CONFIG,amc_name)\n",
    "path = mutual_fund[amc_name]\n",
    "title,path_pdf= object.check_and_highlight(path)\n",
    "\n",
    "data = object.get_data(path_pdf,title)\n",
    "extracted_text = object.get_generated_content(data)\n",
    "object = Edelweiss(PATHS_CONFIG,amc_name)\n",
    "final_text = object.refine_extracted_data(extracted_text, flatten = True)\n",
    "dfs = object.merge_and_select_data(final_text, select = True, map = True)\n",
    "Helper.quick_json_dump(dfs, object.JSONPATH)"
   ]
  },
  {
   "cell_type": "code",
   "execution_count": null,
   "metadata": {},
   "outputs": [],
   "source": [
    "\"\"\"FRANKLIN TEMPLETON FILE MAIN CODE\"\"\"\n",
    "\n",
    "amc_name = \"Franklin Templeton Mutual Fund\"\n",
    "logging.info(f\"User Ran Fund Data of {amc_name}\")\n",
    "\n",
    "object = FranklinTempleton(PATHS_CONFIG,amc_name)\n",
    "path = mutual_fund[amc_name]\n",
    "\n",
    "title,path_pdf= object.check_and_highlight(path)\n",
    "\n",
    "# pages = [17, 18, 19, 20, 21, 22, 23, 24, 25, 26, 27, 28, 29, 30, 31, 32, 33, 34, 35, 36, 37, 38, 39, 40, 41, 42, 43, 44, 45, 46, 47, 48, 49, 50]\n",
    "data = object.get_data(path_pdf,title)\n",
    "extracted_text = object.get_generated_content(data)\n",
    "final_text = object.refine_extracted_data(extracted_text, flatten = True)\n",
    "dfs = object.merge_and_select_data(final_text,select = True,map = True)\n",
    "Helper.quick_json_dump(dfs, object.JSONPATH)"
   ]
  },
  {
   "cell_type": "code",
   "execution_count": null,
   "metadata": {},
   "outputs": [],
   "source": [
    "\"\"\"GROWW MUTUAL FUND MAIN CODE\"\"\"\n",
    "\n",
    "amc_name = \"Groww Mutual Fund\"\n",
    "logging.info(f\"User Ran Fund Data of {amc_name}\")\n",
    "object = GROWW(PATHS_CONFIG,amc_name)\n",
    "path = mutual_fund[amc_name]\n",
    "title,path_pdf= object.check_and_highlight(path)\n",
    "# pages = [13, 14, 15, 16, 17, 18, 19, 20, 21, 22, 23, 24, 26, 28, 29, 30, 32, 33, 34, 35, 36, 37, 38, 39, 40, 41, 42]\n",
    "data = object.get_data(path_pdf,title)\n",
    "extracted_text = object.get_generated_content(data)\n",
    "final_text = object.refine_extracted_data(extracted_text, flatten = True)\n",
    "dfs = object.merge_and_select_data(final_text,select = True, map = True)\n",
    "Helper.quick_json_dump(dfs,object.JSONPATH)"
   ]
  },
  {
   "cell_type": "code",
   "execution_count": null,
   "metadata": {},
   "outputs": [],
   "source": [
    "\"\"\"HDFC MUTUAL FUND\"\"\"\n",
    "amc_name = \"Hdfc Mutual Fund\"\n",
    "logging.info(f\"User Ran Fund Data of {amc_name}\")\n",
    "\n",
    "object = HDFC(PATHS_CONFIG,amc_name)\n",
    "path = mutual_fund[amc_name]\n",
    "\n",
    "title,path_pdf= object.check_and_highlight(path)\n",
    "# pages = [5, 6, 8, 10, 11, 12, 13, 14, 15, 16, 17, 18, 19, 20, 21, 22, 23, 24, 25, 26, 27, 28, 29, 30, 31, 32, 33, 34, 35, 36, 37, 38, 39, 40, 41, 42, 43, 44, 45, 46, 47, 48, 49, 50, 51]\n",
    "data = object.get_data(path_pdf,title)\n",
    "extracted_text = object.get_generated_content(data)\n",
    "final_text = object.refine_extracted_data(extracted_text,flatten = True)\n",
    "dfs = object.merge_and_select_data(final_text, select = True,map = True,special = True)\n",
    "Helper.quick_json_dump(dfs,object.JSONPATH)"
   ]
  },
  {
   "cell_type": "code",
   "execution_count": null,
   "metadata": {},
   "outputs": [],
   "source": [
    "\"\"\"HDFC MUTUAL FUND\"\"\"\n",
    "amc_name = \"Hdfc Mutual Fund Passive\"\n",
    "logging.info(f\"User Ran Fund Data of {amc_name}\")\n",
    "\n",
    "object = HDFC(PATHS_CONFIG,amc_name)\n",
    "path = mutual_fund[amc_name]\n",
    "\n",
    "title,path_pdf= object.check_and_highlight(path)\n",
    "# pages = [5, 6, 8, 10, 11, 12, 13, 14, 15, 16, 17, 18, 19, 20, 21, 22, 23, 24, 25, 26, 27, 28, 29, 30, 31, 32, 33, 34, 35, 36, 37, 38, 39, 40, 41, 42, 43, 44, 45, 46, 47, 48, 49, 50, 51]\n",
    "# title= df.title.to_dict()\n",
    "data = object.get_data(path_pdf,title)\n",
    "extracted_text = object.get_generated_content(data)\n",
    "final_text = object.refine_extracted_data(extracted_text,flatten = True)\n",
    "dfs = object.merge_and_select_data(final_text, select = True,map = True,special=True)\n",
    "Helper.quick_json_dump(dfs,object.JSONPATH)"
   ]
  },
  {
   "cell_type": "code",
   "execution_count": null,
   "metadata": {},
   "outputs": [],
   "source": [
    "\"\"\"HELIOS MF FILE MAIN CODE\"\"\" \n",
    "\n",
    "amc_name = 'Helios Mutual Fund'\n",
    "logging.info(f\"User Ran Fund Data of {amc_name}\")\n",
    "\n",
    "object = Helios(PATHS_CONFIG,amc_name)\n",
    "path = mutual_fund[amc_name]\n",
    "\n",
    "title,path_pdf= object.check_and_highlight(path)\n",
    "# pages =   [2, 4, 6, 8,10]\n",
    "data = object.get_data(path_pdf,title)\n",
    "extracted_text = object.get_generated_content(data)\n",
    "final_text = object.refine_extracted_data(extracted_text, flatten=True)\n",
    "dfs = object.merge_and_select_data(final_text,select= True,map = True, special = True)\n",
    "Helper.quick_json_dump(dfs,object.JSONPATH)"
   ]
  },
  {
   "cell_type": "code",
   "execution_count": 70,
   "metadata": {},
   "outputs": [
    {
     "name": "stdout",
     "output_type": "stream",
     "text": [
      "Function Running: check_and_highlight\n",
      "Function Running: _get_normal_title\n",
      "Regex: ((?:ICICI|BHARAT).*?(?:Fund\\s*(?:\\(FOF\\)|FOF|of Fund|\\D*?Plan\\)?)?|FOF))\n",
      "13 -- ICICI Prudential Bluechip Fund\n",
      "14 -- ICICI Prudential Flexicap Fund\n",
      "15 -- ICICI Prudential Large & Mid Cap Fund\n",
      "16 -- ICICI Prudential Large & Mid Cap Fund\n",
      "17 -- ICICI Prudential Multicap Fund\n",
      "18 -- ICICI Prudential Multicap Fund\n",
      "19 -- ICICI Prudential India Opportunities Fund\n",
      "20 -- ICICI Prudential Value Discovery Fund\n",
      "21 -- ICICI Prudential ELSS Tax Saver Fund\n",
      "22 -- ICICI Prudential Focused Equity Fund\n",
      "23 -- ICICI Prudential Equity Minimum Variance Fund\n",
      "24 -- ICICI Prudential Dividend Yield Equity Fund\n",
      "25 -- ICICI Prudential Rural Opportunities Fund\n",
      "26 -- ICICI Prudential PSU Equity Fund\n",
      "27 -- ICICI Prudential Midcap Fund\n",
      "28 -- ICICI Prudential Smallcap Fund\n",
      "29 -- ICICI Prudential Smallcap Fund\n",
      "30 -- ICICI Prudential Banking & Financial Services Fund\n",
      "31 -- ICICI Prudential FMCG Fund\n",
      "32 -- ICICI Prudential Technology Fund\n",
      "33 -- ICICI Prudential Business Cycle Fund\n",
      "34 -- ICICI Prudential Transportation and Logistics Fund\n",
      "35 -- ICICI Prudential Housing Opportunities Fund\n",
      "36 -- ICICI Prudential ESG Exclusionary Strategy Fund\n",
      "37 -- ICICI Prudential Pharma Healthcare and Diagnostics (PHD) Fund\n",
      "38 -- ICICI Prudential Exports and Services Fund\n",
      "39 -- ICICI Prudential Infrastructure Fund\n",
      "40 -- ICICI Prudential Manufacturing Fund\n",
      "41 -- ICICI Prudential MNC Fund\n",
      "42 -- ICICI Prudential Bharat Consumption Fund\n",
      "43 -- ICICI Prudential Energy Opportunities Fund\n",
      "44 -- ICICI Prudential Commodities Fund\n",
      "45 -- ICICI Prudential US Bluechip Equity Fund\n",
      "46 -- ICICI Prudential US Bluechip Equity Fund\n",
      "47 -- ICICI Prudential Quant Fund\n",
      "48 -- ICICI Prudential Innovation Fund\n",
      "49 -- ICICI Prudential Equity & Debt Fund\n",
      "50 -- ICICI Prudential Equity & Debt Fund\n",
      "51 -- ICICI Prudential Equity - Arbitrage Fund\n",
      "52 -- ICICI Prudential Equity - Arbitrage Fund\n",
      "53 -- ICICI Prudential Balanced Advantage Fund\n",
      "54 -- ICICI Prudential Balanced Advantage Fund\n",
      "55 -- ICICI Prudential Equity Savings Fund\n",
      "56 -- ICICI Prudential Equity Savings Fund\n",
      "57 -- ICICI Prudential Regular Savings Fund\n",
      "58 -- ICICI Prudential Regular Savings Fund\n",
      "59 -- ICICI Prudential Multi-Asset Fund\n",
      "60 -- ICICI Prudential Multi-Asset Fund\n",
      "61 -- ICICI Prudential Passive Multi-Asset Fund of Fund\n",
      "62 -- ICICI Prudential Thematic Advantage Fund (FOF)\n",
      "63 -- ICICI Prudential Passive Strategy Fund (FOF)\n",
      "64 -- ICICI Prudential India Equity FOF\n",
      "65 -- ICICI Prudential BHARAT 22 FOF\n",
      "66 -- ICICI Prudential Strategic Metal and Energy Equity Fund of Fund\n",
      "67 -- ICICI Prudential Global Advantage Fund (FOF)\n",
      "68 -- ICICI Prudential Global Stable Equity Fund (FOF)\n",
      "69 -- ICICI Prudential Asset Allocator Fund (FOF)\n",
      "70 -- ICICI Prudential Income Optimizer Fund (FOF)\n",
      "71 -- ICICI Prudential Debt Management Fund (FOF)\n",
      "72 -- ICICI Prudential Nifty 100 Low Volatility 30 ETF FOF\n",
      "73 -- ICICI Prudential Nifty Alpha Low - Volatility 30 ETF FOF\n",
      "74 -- ICICI Prudential BSE 500 ETF FOF\n",
      "75 -- ICICI Prudential Regular Gold Savings Fund (FOF)\n",
      "76 -- ICICI Prudential Silver ETF Fund of Fund\n",
      "77 -- ICICI Prudential Overnight Fund\n",
      "78 -- ICICI Prudential Liquid Fund\n",
      "79 -- ICICI Prudential Money Market Fund\n",
      "80 -- ICICI Prudential Ultra Short Term Fund\n",
      "81 -- ICICI Prudential Savings Fund\n",
      "82 -- ICICI Prudential Floating Interest Fund\n",
      "83 -- ICICI Prudential Short Term Fund\n",
      "84 -- ICICI Prudential Bond Fund\n",
      "85 -- ICICI Prudential Corporate Bond Fund\n",
      "86 -- ICICI Prudential Banking & PSU Debt Fund\n",
      "87 -- ICICI Prudential Credit Risk Fund\n",
      "88 -- ICICI Prudential Credit Risk Fund\n",
      "89 -- ICICI Prudential Medium Term Bond Fund\n",
      "90 -- ICICI Prudential Long Term Bond Fund\n",
      "91 -- ICICI Prudential All Seasons Bond Fund\n",
      "92 -- ICICI Prudential Gilt Fund\n",
      "93 -- ICICI Prudential Constant Maturity Gilt Fund\n",
      "94 -- ICICI Prudential Child Care Fund (Gift Plan)\n",
      "95 -- ICICI Prudential Retirement Fund - Pure Equity Plan\n",
      "96 -- ICICI Prudential Retirement Fund - Hybrid Aggressive Plan\n",
      "97 -- ICICI Prudential Retirement Fund - Hybrid Conservative Plan\n",
      "98 -- ICICI Prudential Retirement Fund - Pure Debt Plan\n",
      "99 -- ICICI Prudential Long Term Wealth Enhancement Fund\n",
      "141 -- ICICI Prudential Mutual Fund\n",
      "\tHlted PDF at: C:\\Users\\rando\\OneDrive\\Documents\\Feb25\\ICICI Prudential Mutual Fund\\14_28-Feb-25_FS_hltd.pdf\n",
      "\n",
      "\tDoc Saved At: C:\\Users\\rando\\OneDrive\\Documents\\mywork-repo\\data\\output\\pdf_report.xlsx\n",
      "\n",
      "\n",
      "Function Running: get_data\n",
      "Function Running: extract_clipped_data\n",
      "Function Running: extract_span_data\n",
      "Function Running: process_text_data\n",
      "Function Running: create_nested_dict\n",
      "Function Running: get_generated_content\n",
      "Parsing Completed, Refining Data.....\n",
      "\n",
      "--<<ICICI Prudential Bluechip Fund>>--\n",
      "--<<ICICI Prudential Flexicap Fund>>--\n",
      "--<<ICICI Prudential Large & Mid Cap Fund>>--\n",
      "--<<ICICI Prudential Multicap Fund>>--\n",
      "--<<ICICI Prudential India Opportunities Fund>>--\n",
      "--<<ICICI Prudential Value Discovery Fund>>--\n",
      "--<<ICICI Prudential ELSS Tax Saver Fund>>--\n",
      "--<<ICICI Prudential Focused Equity Fund>>--\n",
      "--<<ICICI Prudential Equity Minimum Variance Fund>>--\n",
      "--<<ICICI Prudential Dividend Yield Equity Fund>>--\n",
      "--<<ICICI Prudential Rural Opportunities Fund>>--\n",
      "--<<ICICI Prudential PSU Equity Fund>>--\n",
      "--<<ICICI Prudential Midcap Fund>>--\n",
      "--<<ICICI Prudential Smallcap Fund>>--\n",
      "--<<ICICI Prudential Banking & Financial Services Fund>>--\n",
      "--<<ICICI Prudential FMCG Fund>>--\n",
      "--<<ICICI Prudential Technology Fund>>--\n",
      "--<<ICICI Prudential Business Cycle Fund>>--\n",
      "--<<ICICI Prudential Transportation and Logistics Fund>>--\n",
      "--<<ICICI Prudential Housing Opportunities Fund>>--\n",
      "--<<ICICI Prudential ESG Exclusionary Strategy Fund>>--\n",
      "--<<ICICI Prudential Pharma Healthcare and Diagnostics (PHD) Fund>>--\n",
      "--<<ICICI Prudential Exports and Services Fund>>--\n",
      "--<<ICICI Prudential Infrastructure Fund>>--\n",
      "--<<ICICI Prudential Manufacturing Fund>>--\n",
      "--<<ICICI Prudential MNC Fund>>--\n",
      "--<<ICICI Prudential Bharat Consumption Fund>>--\n",
      "--<<ICICI Prudential Energy Opportunities Fund>>--\n",
      "--<<ICICI Prudential Commodities Fund>>--\n",
      "--<<ICICI Prudential US Bluechip Equity Fund>>--\n",
      "--<<ICICI Prudential Quant Fund>>--\n",
      "--<<ICICI Prudential Innovation Fund>>--\n",
      "--<<ICICI Prudential Equity & Debt Fund>>--\n",
      "--<<ICICI Prudential Equity - Arbitrage Fund>>--\n",
      "--<<ICICI Prudential Balanced Advantage Fund>>--\n",
      "--<<ICICI Prudential Equity Savings Fund>>--\n",
      "--<<ICICI Prudential Regular Savings Fund>>--\n",
      "--<<ICICI Prudential Multi-Asset Fund>>--\n",
      "--<<ICICI Prudential Passive Multi-Asset Fund of Fund>>--\n",
      "--<<ICICI Prudential Thematic Advantage Fund (FOF)>>--\n",
      "--<<ICICI Prudential Passive Strategy Fund (FOF)>>--\n",
      "--<<ICICI Prudential India Equity FOF>>--\n",
      "--<<ICICI Prudential BHARAT 22 FOF>>--\n",
      "--<<ICICI Prudential Strategic Metal and Energy Equity Fund of Fund>>--\n",
      "--<<ICICI Prudential Global Advantage Fund (FOF)>>--\n",
      "--<<ICICI Prudential Global Stable Equity Fund (FOF)>>--\n",
      "--<<ICICI Prudential Asset Allocator Fund (FOF)>>--\n",
      "--<<ICICI Prudential Income Optimizer Fund (FOF)>>--\n",
      "--<<ICICI Prudential Debt Management Fund (FOF)>>--\n",
      "--<<ICICI Prudential Nifty 100 Low Volatility 30 ETF FOF>>--\n",
      "--<<ICICI Prudential Nifty Alpha Low - Volatility 30 ETF FOF>>--\n",
      "--<<ICICI Prudential BSE 500 ETF FOF>>--\n",
      "--<<ICICI Prudential Regular Gold Savings Fund (FOF)>>--\n",
      "--<<ICICI Prudential Silver ETF Fund of Fund>>--\n",
      "--<<ICICI Prudential Overnight Fund>>--\n",
      "--<<ICICI Prudential Liquid Fund>>--\n",
      "--<<ICICI Prudential Money Market Fund>>--\n",
      "--<<ICICI Prudential Ultra Short Term Fund>>--\n",
      "--<<ICICI Prudential Savings Fund>>--\n",
      "--<<ICICI Prudential Floating Interest Fund>>--\n",
      "--<<ICICI Prudential Short Term Fund>>--\n",
      "--<<ICICI Prudential Bond Fund>>--\n",
      "--<<ICICI Prudential Corporate Bond Fund>>--\n",
      "--<<ICICI Prudential Banking & PSU Debt Fund>>--\n",
      "--<<ICICI Prudential Credit Risk Fund>>--\n",
      "--<<ICICI Prudential Medium Term Bond Fund>>--\n",
      "--<<ICICI Prudential Long Term Bond Fund>>--\n",
      "--<<ICICI Prudential All Seasons Bond Fund>>--\n",
      "--<<ICICI Prudential Gilt Fund>>--\n",
      "--<<ICICI Prudential Constant Maturity Gilt Fund>>--\n",
      "--<<ICICI Prudential Child Care Fund (Gift Plan)>>--\n",
      "--<<ICICI Prudential Retirement Fund - Pure Equity Plan>>--\n",
      "--<<ICICI Prudential Retirement Fund - Hybrid Aggressive Plan>>--\n",
      "--<<ICICI Prudential Retirement Fund - Hybrid Conservative Plan>>--\n",
      "--<<ICICI Prudential Retirement Fund - Pure Debt Plan>>--\n",
      "--<<ICICI Prudential Long Term Wealth Enhancement Fund>>--\n"
     ]
    }
   ],
   "source": [
    "\"\"\" ICICI MF MAIN FILE CODE\"\"\" #Issue: two fund on same page\n",
    "\n",
    "amc_name = \"Icici Prudential Mutual Fund\"\n",
    "logging.info(f\"User Ran Fund Data of {amc_name}\")\n",
    "object = ICICI(PATHS_CONFIG,amc_name)\n",
    "path = mutual_fund[amc_name]\n",
    "\n",
    "title,path_pdf = object.check_and_highlight(path)\n",
    "# pages = [8, 9, 11, 13, 15, 16, 17, 18, 19, 20, 21, 22, 23, 24, 25, 27, 28, 29, 30, 31, 32, 33, 34, 35, 36, 37, 39, 40, 41, 42, 43, 44, 46, 47, 49, 51, 53, 55, 56, 58, 59, 60, 62, 64, 65, 66, 67, 68, 69, 71, 72, 74, 75, 77, 78, 80]\n",
    "data = object.get_data(path_pdf,title)\n",
    "extracted_text = object.get_generated_content(data)"
   ]
  },
  {
   "cell_type": "code",
   "execution_count": 71,
   "metadata": {},
   "outputs": [
    {
     "name": "stdout",
     "output_type": "stream",
     "text": [
      "Function Running: refine_extracted_data\n",
      "Function Running: merge_and_select_data\n",
      "\n",
      "  JSON saved at C:\\Users\\rando\\OneDrive\\Documents\\mywork-repo\\data\\output\\dump_icici_00_26_09.json\n"
     ]
    }
   ],
   "source": [
    "object = ICICI(PATHS_CONFIG,amc_name)\n",
    "final_text = object.refine_extracted_data(extracted_text, flatten=True)\n",
    "dfs = object.merge_and_select_data(final_text,select= True,map = True,special=True)\n",
    "Helper.quick_json_dump(dfs,object.JSONPATH)"
   ]
  },
  {
   "cell_type": "code",
   "execution_count": null,
   "metadata": {},
   "outputs": [],
   "source": [
    "\"\"\" ICICI MF MAIN FILE CODE PASSIVE\"\"\" #Issue: two fund on same page\n",
    "\n",
    "amc_name = \"Icici Prudential Mutual Fund Passive\"\n",
    "logging.info(f\"User Ran Fund Data of {amc_name}\")\n",
    "object = ICICI(PATHS_CONFIG,amc_name)\n",
    "path = mutual_fund[amc_name]\n",
    "\n",
    "title,path_pdf = object.check_and_highlight(path)\n",
    "# pages = [8, 9, 11, 13, 15, 16, 17, 18, 19, 20, 21, 22, 23, 24, 25, 27, 28, 29, 30, 31, 32, 33, 34, 35, 36, 37, 39, 40, 41, 42, 43, 44, 46, 47, 49, 51, 53, 55, 56, 58, 59, 60, 62, 64, 65, 66, 67, 68, 69, 71, 72, 74, 75, 77, 78, 80]\n",
    "data = object.get_data(path_pdf,title)\n",
    "extracted_text = object.get_generated_content(data)"
   ]
  },
  {
   "cell_type": "code",
   "execution_count": 79,
   "metadata": {},
   "outputs": [
    {
     "name": "stdout",
     "output_type": "stream",
     "text": [
      "\n",
      "  JSON saved at C:\\Users\\rando\\OneDrive\\Documents\\mywork-repo\\data\\output\\dump_icici_01_01_44.json\n"
     ]
    }
   ],
   "source": [
    "Helper.quick_json_dump(extracted_text,object.JSONPATH)"
   ]
  },
  {
   "cell_type": "code",
   "execution_count": 90,
   "metadata": {},
   "outputs": [
    {
     "name": "stdout",
     "output_type": "stream",
     "text": [
      "Function Running: refine_extracted_data\n",
      "Function Running: merge_and_select_data\n",
      "\n",
      " Metric Error 'str' object has no attribute 'items'\n",
      "\n",
      " Metric Error 'str' object has no attribute 'items'\n",
      "\n",
      " Metric Error 'str' object has no attribute 'items'\n",
      "\n",
      " Metric Error 'str' object has no attribute 'items'\n",
      "\n",
      " Metric Error 'str' object has no attribute 'items'\n",
      "\n",
      " Metric Error 'str' object has no attribute 'items'\n",
      "\n",
      " Metric Error 'str' object has no attribute 'items'\n",
      "\n",
      " Metric Error 'str' object has no attribute 'items'\n",
      "\n",
      "  JSON saved at C:\\Users\\rando\\OneDrive\\Documents\\mywork-repo\\data\\output\\dump_icici_01_41_40.json\n"
     ]
    }
   ],
   "source": [
    "object = ICICI(PATHS_CONFIG,amc_name)\n",
    "final_text = object.refine_extracted_data(extracted_text, flatten=True)\n",
    "dfs = object.merge_and_select_data(final_text,select= True,map = True,special=True)\n",
    "Helper.quick_json_dump(dfs,object.JSONPATH)"
   ]
  },
  {
   "cell_type": "code",
   "execution_count": null,
   "metadata": {},
   "outputs": [],
   "source": []
  },
  {
   "cell_type": "code",
   "execution_count": null,
   "metadata": {},
   "outputs": [],
   "source": []
  },
  {
   "cell_type": "code",
   "execution_count": null,
   "metadata": {},
   "outputs": [],
   "source": []
  },
  {
   "cell_type": "code",
   "execution_count": null,
   "metadata": {},
   "outputs": [],
   "source": [
    "\"\"\" INVESCO MF MAIN FILE CODE\"\"\" #Issue: two fund on same page\n",
    "\n",
    "amc_name = 'Invesco Mutual Fund'\n",
    "logging.info(f\"User Ran Fund Data of {amc_name}\")\n",
    "object = Invesco(PATHS_CONFIG,amc_name)\n",
    "path = mutual_fund[amc_name]\n",
    "\n",
    "title,path_pdf = object.check_and_highlight(path)\n",
    "# pages = [4, 5, 6, 7, 8, 9, 10, 11, 12, 13, 14, 15, 16, 17, 18, 19, 21, 22, 23, 24, 25, 26, 27, 28, 29, 30, 31, 32, 33, 34, 35, 36, 37, 38, 39, 40, 41, 42, 43]\n",
    "data = object.get_data(path_pdf,title)\n",
    "extracted_text = object.get_generated_content(data)\n",
    "final_text = object.refine_extracted_data(extracted_text)\n",
    "dfs = object.merge_and_select_data(final_text,select = True,map = True)\n",
    "Helper.quick_json_dump(dfs, object.JSONPATH)"
   ]
  },
  {
   "cell_type": "code",
   "execution_count": null,
   "metadata": {},
   "outputs": [],
   "source": [
    "\"\"\"ITI MAIN FILE CODE\"\"\" #Issues: more data cleaning\n",
    "\n",
    "amc_name = 'Iti Mutual Fund'\n",
    "logging.info(f\"User Ran Fund Data of {amc_name}\")\n",
    "object = ITI(PATHS_CONFIG,amc_name)\n",
    "path = mutual_fund[amc_name]\n",
    "title,path_pdf= object.check_and_highlight(path)\n",
    "\n",
    "# pages = [9, 10, 11, 12, 13, 14, 15, 16, 17, 18, 19, 20, 21, 22, 23, 24, 25, 26]\n",
    "data = object.get_data(path_pdf,title)\n",
    "extracted_text = object.get_generated_content(data)\n",
    "final_text = object.refine_extracted_data(extracted_text,flatten = True)\n",
    "# dfs= object.merge_and_select_data(final_text,select = True,map = True)\n",
    "Helper.quick_json_dump(final_text, object.JSONPATH)"
   ]
  },
  {
   "cell_type": "code",
   "execution_count": null,
   "metadata": {},
   "outputs": [],
   "source": [
    "\"\"\"JM FUND MAIN FILE CODE\"\"\"\n",
    "\n",
    "amc_name = 'Jm Financial Mutual Fund'\n",
    "logging.info(f\"User Ran Fund Data of {amc_name}\")\n",
    "\n",
    "object = JMMF(PATHS_CONFIG,amc_name)\n",
    "path = mutual_fund[amc_name]\n",
    "\n",
    "title,path_pdf= object.check_and_highlight(path)\n",
    "# pages = [18, 19, 20, 21, 22, 23, 24, 25, 26, 27, 28, 29, 30, 31, 32, 33]\n",
    "data = object.get_data(path_pdf,title)\n",
    "extracted_text = object.get_generated_content(data)\n",
    "final_text = object.refine_extracted_data(extracted_text, flatten = True)\n",
    "dfs = object.merge_and_select_data(final_text,select = True, map = True)\n",
    "Helper.quick_json_dump(dfs, object.JSONPATH)"
   ]
  },
  {
   "cell_type": "code",
   "execution_count": null,
   "metadata": {},
   "outputs": [],
   "source": [
    "\"\"\"KOTAK FUND MAIN CODE\"\"\" #Issue: 1 or more fund on same page, # title overlap the content\n",
    "\n",
    "amc_name = 'Kotak Mahindra Mutual Fund'\n",
    "logging.info(f\"User Ran Fund Data of {amc_name}\")\n",
    "\n",
    "object = Kotak(PATHS_CONFIG,amc_name)\n",
    "path = mutual_fund[amc_name]\n",
    "\n",
    "title,path_pdf= object.check_and_highlight(path)\n",
    "# pages = [5, 6, 7, 8, 9, 10, 11, 12, 13, 14, 15, 16, 17, 18, 19, 20, 21, 22, 23, 24, 25, 26, 27, 28, 29, 30, 32, 34, 36, 37, 38, 40, 41, 43, 44, 46, 48, 49, 50, 52, 54, 55, 56, 69, 70, 71, 72, 73, 74, 75, 76, 77, 78, 79, 80, 81, 82, 83, 84, 85, 86, 87, 88, 89, 90, 91, 92, 93, 94, 95, 96, 97, 98, 99, 100, 101, 102, 103, 104, 105, 106, 107, 108]\n",
    "data = object.get_data(path_pdf,title)\n",
    "extracted_text = object.get_generated_content(data)\n",
    "final_text = object.refine_extracted_data(extracted_text,flatten= True)\n",
    "dfs = object.merge_and_select_data(final_text, select = True, map = True)\n",
    "Helper.quick_json_dump(dfs, object.JSONPATH)"
   ]
  },
  {
   "cell_type": "code",
   "execution_count": null,
   "metadata": {},
   "outputs": [],
   "source": [
    "\"\"\"LIC FUND MAIN CODE\"\"\" #issue: OCR for title bcz they're images\n",
    "amc_name = 'LIC Mutual Fund'\n",
    "logging.info(f\"User Ran Fund Data of {amc_name}\")\n",
    "\n",
    "object = LIC(PATHS_CONFIG,amc_name)\n",
    "path = mutual_fund[amc_name]\n",
    "title,path_pdf = object.check_and_highlight(path)\n",
    "data = object.get_data(path_pdf,title)\n",
    "extracted_text = object.get_generated_content(data)\n",
    "final_text = object.refine_extracted_data(extracted_text, flatten = True)\n",
    "dfs = object.merge_and_select_data(final_text,select = True, map = True)\n",
    "Helper.quick_json_dump(dfs, object.JSONPATH)"
   ]
  },
  {
   "cell_type": "code",
   "execution_count": null,
   "metadata": {},
   "outputs": [],
   "source": [
    "\"\"\"MAHINDRA MANULIFE MAIN CODE\"\"\" #incrase pages count\n",
    "\n",
    "amc_name = 'Mahindra Manulife Mutual Fund'\n",
    "logging.info(f\"User Ran Fund Data of {amc_name}\")\n",
    "\n",
    "object = MahindraManu(PATHS_CONFIG,amc_name)\n",
    "path = mutual_fund[amc_name]\n",
    "\n",
    "title,path_pdf = object.check_and_highlight(path)\n",
    "data = object.get_data(path_pdf,title)\n",
    "extracted_text = object.get_generated_content(data)\n",
    "\n",
    "final_text = object.refine_extracted_data(extracted_text, flatten =True)\n",
    "dfs = object.merge_and_select_data(final_text,select = True, map = True)\n",
    "Helper.quick_json_dump(dfs, object.JSONPATH)"
   ]
  },
  {
   "cell_type": "code",
   "execution_count": null,
   "metadata": {},
   "outputs": [],
   "source": [
    "\"\"\"MOTILAL OSWAL PASSIVE MAIN CODE FILE\"\"\" #Fund Manager Regex\n",
    "\n",
    "amc_name = 'Motilal Oswal Mutual Fund Passive'\n",
    "logging.info(f\"User Ran Fund Data of {amc_name}\")\n",
    "\n",
    "object = MotilalOswal(PATHS_CONFIG,amc_name)\n",
    "path = mutual_fund[amc_name]\n",
    "\n",
    "title,path_pdf= object.check_and_highlight(path)\n",
    "data = object.get_data(path_pdf,title)\n",
    "extracted_text = object.get_generated_content(data)"
   ]
  },
  {
   "cell_type": "code",
   "execution_count": null,
   "metadata": {},
   "outputs": [],
   "source": [
    "object = MotilalOswal(PATHS_CONFIG,amc_name)\n",
    "Helper.quick_json_dump(extracted_text, object.JSONPATH)"
   ]
  },
  {
   "cell_type": "code",
   "execution_count": null,
   "metadata": {},
   "outputs": [],
   "source": [
    "object = MotilalOswal(PATHS_CONFIG,amc_name)\n",
    "final_text = object.refine_extracted_data(extracted_text, flatten= True)\n",
    "dfs = object.merge_and_select_data(final_text,select = True,map = True, special = True)\n",
    "Helper.quick_json_dump(dfs, object.JSONPATH)"
   ]
  },
  {
   "cell_type": "code",
   "execution_count": null,
   "metadata": {},
   "outputs": [],
   "source": [
    "\"\"\"MOTILAL OSWAL MAIN CODE FILE\"\"\" #Fund Manager Regex\n",
    "\n",
    "amc_name = 'Motilal Oswal Mutual Fund'\n",
    "logging.info(f\"User Ran Fund Data of {amc_name}\")\n",
    "\n",
    "object = MotilalOswal(PATHS_CONFIG,amc_name)\n",
    "path = mutual_fund[amc_name]\n",
    "\n",
    "title,path_pdf= object.check_and_highlight(path)\n",
    "data = object.get_data(path_pdf,title)\n",
    "extracted_text = object.get_generated_content(data)"
   ]
  },
  {
   "cell_type": "code",
   "execution_count": null,
   "metadata": {},
   "outputs": [],
   "source": [
    "object = MotilalOswal(PATHS_CONFIG,amc_name)\n",
    "final_text = object.refine_extracted_data(extracted_text, flatten= True)\n",
    "dfs = object.merge_and_select_data(final_text,select = True,map = True, special = True)\n",
    "Helper.quick_json_dump(dfs, object.JSONPATH)"
   ]
  },
  {
   "cell_type": "code",
   "execution_count": null,
   "metadata": {},
   "outputs": [],
   "source": [
    "\"\"\"MIRAE MAIN FILE CODE PASSIVE\"\"\"\n",
    "\n",
    "amc_name = 'Mirae Asset Mutual Fund Passive'\n",
    "logging.info(f\"User Ran Fund Data of {amc_name}\")\n",
    "\n",
    "object = MIRAE(PATHS_CONFIG,amc_name)\n",
    "path = mutual_fund[amc_name]\n",
    "\n",
    "title,path_pdf= object.check_and_highlight(path)\n",
    "# title = object.get_proper_fund_names(path)\n",
    "# pages = list(title.keys())\n",
    "data = object.get_data(path_pdf,title)\n",
    "extracted_text = object.get_generated_content(data)"
   ]
  },
  {
   "cell_type": "code",
   "execution_count": 51,
   "metadata": {},
   "outputs": [
    {
     "name": "stdout",
     "output_type": "stream",
     "text": [
      "Function Running: refine_extracted_data\n",
      "Function Running: merge_and_select_data\n",
      "\n",
      "  JSON saved at C:\\Users\\rando\\OneDrive\\Documents\\mywork-repo\\data\\output\\dump_mirae_23_17_14.json\n"
     ]
    }
   ],
   "source": [
    "object = MIRAE(PATHS_CONFIG,amc_name)\n",
    "final_text = object.refine_extracted_data(extracted_text, flatten=True)\n",
    "dfs = object.merge_and_select_data(final_text,select = True, map = True)\n",
    "Helper.quick_json_dump(dfs, object.JSONPATH)"
   ]
  },
  {
   "cell_type": "code",
   "execution_count": null,
   "metadata": {},
   "outputs": [],
   "source": [
    "\"\"\"MIRAE MAIN FILE CODE\"\"\"\n",
    "\n",
    "amc_name = 'Mirae Asset Mutual Fund'\n",
    "logging.info(f\"User Ran Fund Data of {amc_name}\")\n",
    "\n",
    "object = MIRAE(PATHS_CONFIG,amc_name)\n",
    "path = mutual_fund[amc_name]\n",
    "\n",
    "title,path_pdf= object.check_and_highlight(path)\n",
    "data = object.get_data(path_pdf,title)\n",
    "extracted_text = object.get_generated_content(data)"
   ]
  },
  {
   "cell_type": "code",
   "execution_count": 49,
   "metadata": {},
   "outputs": [
    {
     "name": "stdout",
     "output_type": "stream",
     "text": [
      "Function Running: refine_extracted_data\n",
      "Function Running: merge_and_select_data\n",
      "\n",
      "  JSON saved at C:\\Users\\rando\\OneDrive\\Documents\\mywork-repo\\data\\output\\dump_mirae_23_11_07.json\n"
     ]
    }
   ],
   "source": [
    "object = MIRAE(PATHS_CONFIG,amc_name)\n",
    "final_text = object.refine_extracted_data(extracted_text, flatten=True)\n",
    "dfs = object.merge_and_select_data(final_text,select = True, map = True)\n",
    "Helper.quick_json_dump(dfs, object.JSONPATH)"
   ]
  },
  {
   "cell_type": "code",
   "execution_count": null,
   "metadata": {},
   "outputs": [],
   "source": [
    "\"\"\"NAVI MAIN FILE CODE\"\"\" #Issue: Left and right\n",
    "\n",
    "amc_name = 'Navi Mutual Fund'\n",
    "logging.info(f\"User Ran Fund Data of {amc_name}\")\n",
    "\n",
    "object = NAVI(PATHS_CONFIG,amc_name)\n",
    "path = mutual_fund[amc_name]\n",
    "title,path_pdf = object.check_and_highlight(path)\n",
    "data = object.get_data(path_pdf,title)\n",
    "extracted_text = object.get_generated_content(data)"
   ]
  },
  {
   "cell_type": "code",
   "execution_count": 38,
   "metadata": {},
   "outputs": [
    {
     "name": "stdout",
     "output_type": "stream",
     "text": [
      "Function Running: refine_extracted_data\n",
      "Function Running: merge_and_select_data\n",
      "\n",
      "  JSON saved at C:\\Users\\Kaustubh.keny\\Projects\\office-work\\mywork-repo\\data\\output\\dump_Navi_13_41_07.json\n"
     ]
    }
   ],
   "source": [
    "object = NAVI(PATHS_CONFIG,amc_name)\n",
    "final_text = object.refine_extracted_data(extracted_text, flatten = True)\n",
    "dfs = object.merge_and_select_data(final_text,select = True,map = True)\n",
    "Helper.quick_json_dump(dfs, object.JSONPATH)"
   ]
  },
  {
   "cell_type": "code",
   "execution_count": 28,
   "metadata": {},
   "outputs": [
    {
     "name": "stdout",
     "output_type": "stream",
     "text": [
      "Navi Flexi Cap Fund\n",
      "Mr. Aditya Mulkiwas Fund Manager until February 13, 2025. Mr. Ashutosh Shirwaikar manages 15 schemes as of February 28, 2025.\n",
      "[('Aditya Mulkiwas', 'February 13, 2025'), ('Ashutosh Shirwaikar', 'February 28, 2025')]\n",
      "Navi Large & Midcap Fund\n",
      "Mr. Aditya Mulkiwas Fund Manager until February 13, 2025. Mr. Ashutosh Shirwaikaris the Fund Manager from February 14, 2025. Mr. Ashutosh Shirwaikar manages 15 schemes as of February 28, 2025.\n",
      "[('Aditya Mulkiwas', 'February 13, 2025'), ('Ashutosh Shirwaikaris', 'February 14, 2025'), ('Ashutosh Shirwaikar', 'February 28, 2025')]\n",
      "Navi Aggressive Hybrid Fund\n",
      "Equity Portion Mr. Aditya Mulkiwas Fund Manager until February 13, 2025. Mr. Ashutosh Shirwaikaris the Fund Manager from February 14, 2025. Mr. Ashutosh Shirwaikar manages 15 schemes as of February 28, 2025. Debt Portion Mr. Tanmay Sethiis managing this fund w.e.f. 1st February, 2024. Mr. Tanmay Sethi manages 02 number of schemes of the concerned Mutual Fund\n",
      "[('Aditya Mulkiwas', 'February 13, 2025'), ('Ashutosh Shirwaikaris', 'February 14, 2025'), ('Ashutosh Shirwaikar', 'February 28, 2025'), ('Tanmay Sethiis', '1st February, 2024')]\n",
      "Navi ELSS Tax Saver Fund\n",
      "Mr. Aditya Mulkiwas Fund Manager until February 13, 2025. Mr. Ashutosh Shirwaikaris the Fund Manager from February 14, 2025. Mr. Ashutosh Shirwaikar manages 15 schemes as of February 28, 2025.\n",
      "[('Aditya Mulkiwas', 'February 13, 2025'), ('Ashutosh Shirwaikaris', 'February 14, 2025'), ('Ashutosh Shirwaikar', 'February 28, 2025')]\n",
      "Navi Liquid Fund\n",
      "Mr. Tanmay Sethiis managing this fund w.e.f. 1st February, 2024. Mr. Tanmay Sethi manages 02 number of schemes of the concerned Mutual Fund\n",
      "[('Tanmay Sethiis', '1st February, 2024')]\n",
      "Navi Niy 50 Index Fund\n",
      "Mr. Aditya Mulkiwas Fund Manager until February 13, 2025. Mr. Ashutosh Shirwaikaris the Fund Manager from February 14, 2025. Mr. Ashutosh Shirwaikar manages 15 schemes as of February 28, 2025.\n",
      "[('Aditya Mulkiwas', 'February 13, 2025'), ('Ashutosh Shirwaikaris', 'February 14, 2025'), ('Ashutosh Shirwaikar', 'February 28, 2025')]\n",
      "Navi US Total Stock Market Fund of Fund\n",
      "Mr. Aditya Mulkiwas Fund Manager until February 13, 2025. Mr. Ashutosh Shirwaikaris the Fund Manager from February 14, 2025. Mr. Ashutosh Shirwaikar manages 15 schemes as of February 28, 2025.\n",
      "[('Aditya Mulkiwas', 'February 13, 2025'), ('Ashutosh Shirwaikaris', 'February 14, 2025'), ('Ashutosh Shirwaikar', 'February 28, 2025')]\n",
      "Navi NASDAQ 100 Fund of Fund\n",
      "Mr. Aditya Mulkiwas Fund Manager until February 13, 2025. Mr. Ashutosh Shirwaikaris the Fund Manager from February 14, 2025. Mr. Ashutosh Shirwaikar manages 15 schemes as of February 28, 2025.\n",
      "[('Aditya Mulkiwas', 'February 13, 2025'), ('Ashutosh Shirwaikaris', 'February 14, 2025'), ('Ashutosh Shirwaikar', 'February 28, 2025')]\n",
      "Navi Niy Next 50 Index Fund\n",
      "Mr. Aditya Mulkiwas Fund Manager until February 13, 2025. Mr. Ashutosh Shirwaikaris the Fund Manager from February 14, 2025. Mr. Ashutosh Shirwaikar manages 15 schemes as of February 28, 2025.\n",
      "[('Aditya Mulkiwas', 'February 13, 2025'), ('Ashutosh Shirwaikaris', 'February 14, 2025'), ('Ashutosh Shirwaikar', 'February 28, 2025')]\n",
      "Navi Niy Bank Index Fund\n",
      "Mr. Aditya Mulkiwas Fund Manager until February 13, 2025. Mr. Ashutosh Shirwaikaris the Fund Manager from February 14, 2025. Mr. Ashutosh Shirwaikar manages 15 schemes as of February 28, 2025.\n",
      "[('Aditya Mulkiwas', 'February 13, 2025'), ('Ashutosh Shirwaikaris', 'February 14, 2025'), ('Ashutosh Shirwaikar', 'February 28, 2025')]\n",
      "Navi Niy Midcap 150 Index Fund\n",
      "Mr. Aditya Mulkiwas Fund Manager until February 13, 2025. Mr. Ashutosh Shirwaikaris the Fund Manager from February 14, 2025. Mr. Ashutosh Shirwaikar manages 15 schemes as of February 28, 2025.\n",
      "[('Aditya Mulkiwas', 'February 13, 2025'), ('Ashutosh Shirwaikaris', 'February 14, 2025'), ('Ashutosh Shirwaikar', 'February 28, 2025')]\n",
      "Navi Niy India Manufacturing Index Fund\n",
      "Mr. Aditya Mulkiwas Fund Manager until February 13, 2025. Mr. Ashutosh Shirwaikaris the Fund Manager from February 14, 2025. Mr. Ashutosh Shirwaikar manages 15 schemes as of February 28, 2025.\n",
      "[('Aditya Mulkiwas', 'February 13, 2025'), ('Ashutosh Shirwaikaris', 'February 14, 2025'), ('Ashutosh Shirwaikar', 'February 28, 2025')]\n",
      "Navi Nifty India Manu In An open ended scheme replicating tracking Nifty India Period Navi Niy India Manufacturing Index Fund\n",
      "\n",
      "[]\n",
      "Navi ELSS Tax Saver Niy 50 Index Fund\n",
      "Mr. Aditya Mulkiwas Fund Manager until February 13, 2025. Mr. Ashutosh Shirwaikaris the Fund Manager from February 14, 2025. Mr. Ashutosh Shirwaikar manages 15 schemes as of February 28, 2025.\n",
      "[('Aditya Mulkiwas', 'February 13, 2025'), ('Ashutosh Shirwaikaris', 'February 14, 2025'), ('Ashutosh Shirwaikar', 'February 28, 2025')]\n",
      "Navi BSE Sensex Index Fund\n",
      "Mr. Aditya Mulkiwas Fund Manager until February 13, 2025. Mr. Ashutosh Shirwaikaris the Fund Manager from February 14, 2025. Mr. Ashutosh Shirwaikar manages 15 schemes as of February 28, 2025.\n",
      "[('Aditya Mulkiwas', 'February 13, 2025'), ('Ashutosh Shirwaikaris', 'February 14, 2025'), ('Ashutosh Shirwaikar', 'February 28, 2025')]\n",
      "Navi Niy IT Index Fund\n",
      "Mr. Aditya Mulkiwas Fund Manager until February 13, 2025. Mr. Ashutosh Shirwaikaris the Fund Manager from February 14, 2025. Mr. Ashutosh Shirwaikar manages 15 schemes as of February 28, 2025.\n",
      "[('Aditya Mulkiwas', 'February 13, 2025'), ('Ashutosh Shirwaikaris', 'February 14, 2025'), ('Ashutosh Shirwaikar', 'February 28, 2025')]\n",
      "Navi Nifty IT Inde N i NiIT I d F d Navi Niy IT Index Fund\n",
      "\n",
      "[]\n",
      "Navi Niy 500 Multicap 5025 Index Fund\n",
      "Mr. Aditya Mulkiwas Fund Manager until February 13, 2025. Mr. Ashutosh Shirwaikaris the Fund Manager from February 14, 2025. Mr. Ashutosh Shirwaikar manages 15 schemes as of February 28, 2025.\n",
      "[('Aditya Mulkiwas', 'February 13, 2025'), ('Ashutosh Shirwaikaris', 'February 14, 2025'), ('Ashutosh Shirwaikar', 'February 28, 2025')]\n"
     ]
    }
   ],
   "source": [
    "pattern = \"(?:Mr\\\\.?|Ms\\\\.?|Mrs\\\\.?)\\\\s*([A-Za-z]+\\\\s*[A-Za-z]+)\\\\s*.+?(?:until|from|as of|w\\\\.e\\\\.f\\\\.?)\\\\s*([A-Za-z]+\\\\s*\\\\d{2},?\\\\s*\\\\d{4}|\\\\d{1,2}(?:st|nd|rd|th)\\\\s*[A-Za-z]+\\\\,\\\\s*\\\\d{3,4})\"\n",
    "for fund, content in dfs.items():\n",
    "    check = 'fund_manager'\n",
    "    if check in content:\n",
    "        all_text = \" \".join(content[check])\n",
    "        all_text =re.sub(r'[^A-Za-z0-9\\s\\-\\(\\).,]+', \"\", all_text).strip()\n",
    "        print(fund)\n",
    "        print(all_text)\n",
    "        print(re.findall(pattern,all_text, re.IGNORECASE))"
   ]
  },
  {
   "cell_type": "code",
   "execution_count": null,
   "metadata": {},
   "outputs": [],
   "source": []
  },
  {
   "cell_type": "code",
   "execution_count": null,
   "metadata": {},
   "outputs": [],
   "source": []
  },
  {
   "cell_type": "code",
   "execution_count": null,
   "metadata": {},
   "outputs": [],
   "source": []
  },
  {
   "cell_type": "code",
   "execution_count": null,
   "metadata": {},
   "outputs": [],
   "source": []
  },
  {
   "cell_type": "code",
   "execution_count": null,
   "metadata": {},
   "outputs": [],
   "source": [
    "\"NIPPON MAIN FILE CODE\"\n",
    "amc_name = 'Nippon India Mutual Fund'\n",
    "logging.info(f\"User Ran Fund Data of {amc_name}\")\n",
    "\n",
    "object = Nippon(PATHS_CONFIG,amc_name)\n",
    "path = mutual_fund[amc_name]\n",
    "title,path_pdf= object.check_and_highlight(path)\n",
    "\n",
    "data = object.get_data(path_pdf,title)\n",
    "extracted_text = object.get_generated_content(data)"
   ]
  },
  {
   "cell_type": "code",
   "execution_count": null,
   "metadata": {},
   "outputs": [],
   "source": [
    "final_text = object.refine_extracted_data(extracted_text, flatten = True)\n",
    "# dfs = object.merge_and_select_data(final_text,select = True, map = True)\n",
    "Helper.quick_json_dump(final_text,object.JSONPATH)"
   ]
  },
  {
   "cell_type": "code",
   "execution_count": null,
   "metadata": {},
   "outputs": [],
   "source": [
    "\"\"\"NJMF MAIN CODE FILE\"\"\"\n",
    "\n",
    "amc_name = 'Nj Mutual Fund'\n",
    "logging.info(f\"User Ran Fund Data of {amc_name}\")\n",
    "\n",
    "object = NJMF(PATHS_CONFIG,amc_name)\n",
    "path = mutual_fund[amc_name]\n",
    "title,path_pdf = object.check_and_highlight(path)\n",
    "# pages = [1, 3, 5, 7, 9]\n",
    "\n",
    "data = object.get_data(path_pdf,title)\n",
    "extracted_text = object.get_generated_content(data)"
   ]
  },
  {
   "cell_type": "code",
   "execution_count": 9,
   "metadata": {},
   "outputs": [
    {
     "name": "stdout",
     "output_type": "stream",
     "text": [
      "\n",
      "\tJSON saved at C:\\Users\\rando\\OneDrive\\Documents\\mywork-repo\\data\\output\\dump_NJ_22_53.json\n"
     ]
    }
   ],
   "source": [
    "final_text = object.refine_extracted_data(extracted_text,flatten = True)\n",
    "dfs = object.merge_and_select_data(final_text,select = True, map = True,special=True)\n",
    "Helper.quick_json_dump(dfs, object.JSONPATH)"
   ]
  },
  {
   "cell_type": "code",
   "execution_count": null,
   "metadata": {},
   "outputs": [],
   "source": [
    "\"\"\"OlD BriDGE MAIN CODE\"\"\"\n",
    "amc_name = \"Old Bridge Mutual Fund\"\n",
    "logging.info(f\"User Ran Fund Data of {amc_name}\")\n",
    "\n",
    "object = OldBridge(PATHS_CONFIG,amc_name)\n",
    "path = mutual_fund[amc_name]\n",
    "\n",
    "title,path_pdf = object.check_and_highlight(path)\n",
    "data = object.get_data(path_pdf,title)\n",
    "extracted_text = object.get_generated_content(data)\n",
    "final_text = object.refine_extracted_data(extracted_text, flatten = True)\n",
    "dfs = object.merge_and_select_data(final_text,select = True,map= True, special=True)\n",
    "Helper.quick_json_dump(dfs, object.JSONPATH)"
   ]
  },
  {
   "cell_type": "code",
   "execution_count": null,
   "metadata": {},
   "outputs": [],
   "source": [
    "\"\"\"PGIM MAIN FILE CODE\"\"\" #ISSUES: Clean data further\n",
    "\n",
    "amc_name = \"PGIM India Mutual Fund\"\n",
    "logging.info(f\"User Ran Fund Data of {amc_name}\")\n",
    "\n",
    "object = PGIM(PATHS_CONFIG,amc_name)\n",
    "path = mutual_fund[amc_name]\n",
    "\n",
    "title,path_pdf = object.check_and_highlight(path)\n",
    "data = object.get_data(path_pdf,title)\n",
    "extracted_text = object.get_generated_content(data)\n",
    "final_text = object.refine_extracted_data(extracted_text, flatten = True)\n",
    "dfs = object.merge_and_select_data(final_text,select = True,map= True)\n",
    "Helper.quick_json_dump(dfs, object.JSONPATH)"
   ]
  },
  {
   "cell_type": "code",
   "execution_count": null,
   "metadata": {},
   "outputs": [],
   "source": [
    "\"\"\"QUANT MAIN CODE FILE\"\"\"\n",
    "\n",
    "amc_name = 'Quant Mutual Fund'\n",
    "logging.info(f\"User Ran Fund Data of {amc_name}\")\n",
    "\n",
    "object = QuantMF(PATHS_CONFIG, amc_name)\n",
    "path = mutual_fund[amc_name]\n",
    "\n",
    "title,path_pdf = object.check_and_highlight(path)\n",
    "data = object.get_data(path_pdf,title)\n",
    "extracted_text = object.get_generated_content(data)\n",
    "\n",
    "final_text = object.refine_extracted_data(extracted_text, flatten = True)\n",
    "dfs = object.merge_and_select_data(final_text,select = True,map = True)\n",
    "Helper.quick_json_dump(dfs, object.JSONPATH)"
   ]
  },
  {
   "cell_type": "code",
   "execution_count": null,
   "metadata": {},
   "outputs": [],
   "source": [
    "\"\"\"QUANTUM MAIN FILE CODE\"\"\" #ISSUES: Clean data further\n",
    "\n",
    "amc_name = \"Quantum Mutual Fund\"\n",
    "logging.info(f\"User Ran Fund Data of {amc_name}\")\n",
    "\n",
    "object = Quantum(PATHS_CONFIG,amc_name)\n",
    "path = mutual_fund[amc_name]\n",
    "\n",
    "title,path_pdf = object.check_and_highlight(path)\n",
    "\n",
    "# pages = [7, 9, 12, 14, 16, 18, 20, 22, 24, 26, 28, 30, 32, 33]\n",
    "data = object.get_data(path_pdf,title)\n",
    "extracted_text = object.get_generated_content(data)"
   ]
  },
  {
   "cell_type": "code",
   "execution_count": 109,
   "metadata": {},
   "outputs": [
    {
     "name": "stdout",
     "output_type": "stream",
     "text": [
      "\n",
      " JSON saved at C:\\Users\\Kaustubh.keny\\Projects\\office-work\\mywork-repo\\data\\feb25output\\dump_QUANTUM_12_22.json\n"
     ]
    }
   ],
   "source": [
    "final_text = object.refine_extracted_data(extracted_text, flatten = True)\n",
    "dfs = object.merge_and_select_data(final_text,select = True, map = True)\n",
    "Helper.quick_json_dump(dfs, object.JSONPATH)"
   ]
  },
  {
   "cell_type": "code",
   "execution_count": null,
   "metadata": {},
   "outputs": [],
   "source": [
    "\"\"\"SAMCO PDF FILE MAIN CODE\"\"\" \n",
    "\n",
    "amc_name = 'Samco Mutual Fund'\n",
    "logging.info(f\"User Ran Fund Data of {amc_name}\")\n",
    "\n",
    "object = Samco(PATHS_CONFIG,amc_name)\n",
    "path = mutual_fund[amc_name]\n",
    "\n",
    "title,path_pdf= object.check_and_highlight(path)\n",
    "\n",
    "# pages =  [3, 5, 7, 9, 11, 13, 15, 17, 18]\n",
    "data = object.get_data(path_pdf,title)\n",
    "extracted_text = object.get_generated_content(data)\n",
    "final_text = object.refine_extracted_data(extracted_text, flatten=True)\n",
    "dfs = object.merge_and_select_data(final_text, select = True,map = True)\n",
    "Helper.quick_json_dump(dfs,object.JSONPATH)"
   ]
  },
  {
   "cell_type": "code",
   "execution_count": null,
   "metadata": {},
   "outputs": [],
   "source": [
    "\"\"\"SBI PASSIVE PDF FILE MAIN CODE\"\"\" \n",
    "\n",
    "amc_name = 'SBI Mutual Fund Passive'\n",
    "logging.info(f\"User Ran Fund Data of {amc_name}\")\n",
    "\n",
    "object = SBIPassive(PATHS_CONFIG,amc_name)\n",
    "path = mutual_fund[amc_name]\n",
    "title,path_pdf= object.check_and_highlight(path)"
   ]
  },
  {
   "cell_type": "code",
   "execution_count": null,
   "metadata": {},
   "outputs": [],
   "source": [
    "data = object.get_data(path_pdf,title)\n",
    "extracted_text = object.get_generated_content(data)"
   ]
  },
  {
   "cell_type": "code",
   "execution_count": null,
   "metadata": {},
   "outputs": [],
   "source": [
    "object = SBIPassive(PATHS_CONFIG,amc_name)\n",
    "final_text = object.refine_extracted_data(extracted_text,flatten = True)\n",
    "dfs = object.merge_and_select_data(final_text,select = True,map = True,special = True)\n",
    "Helper.quick_json_dump(dfs,object.JSONPATH)"
   ]
  },
  {
   "cell_type": "code",
   "execution_count": null,
   "metadata": {},
   "outputs": [],
   "source": [
    "\"\"\"SBI PDF FILE MAIN CODE\"\"\" \n",
    "\n",
    "amc_name = \"Sbi Mutual Fund\"\n",
    "logging.info(f\"User Ran Fund Data of {amc_name}\")\n",
    "\n",
    "object = SBI(PATHS_CONFIG,amc_name)\n",
    "path = mutual_fund[amc_name]\n",
    "title,path_pdf= object.check_and_highlight(path)\n",
    "\n",
    "data = object.get_data(path_pdf,title)\n",
    "extracted_text = object.get_generated_content(data)\n",
    "\n",
    "final_text = object.refine_extracted_data(extracted_text,flatten = True)\n",
    "dfs = object.merge_and_select_data(final_text,select = True,map = True,special = True)\n",
    "Helper.quick_json_dump(dfs,object.JSONPATH)"
   ]
  },
  {
   "cell_type": "code",
   "execution_count": null,
   "metadata": {},
   "outputs": [],
   "source": [
    "\"\"\"SUNDARAM MAIN FILE CODE\"\"\"\n",
    "\n",
    "amc_name = 'Sundaram Mutual Fund'\n",
    "logging.info(f\"User Ran Fund Data of {amc_name}\")\n",
    "\n",
    "object = Sundaram(PATHS_CONFIG,amc_name)\n",
    "path = mutual_fund[amc_name]\n",
    "\n",
    "title,path_pdf = object.check_and_highlight(path)\n",
    "# pages = [7, 8, 9, 10, 11, 12, 13, 14, 15, 16, 17, 18, 19, 20, 21, 22, 23, 24, 25, 26, 27, 28, 29, 30, 31, 32, 33, 34, 35, 36, 37, 38, 39, 40]\n",
    "data = object.get_data(path_pdf,title)\n",
    "extracted_text = object.get_generated_content(data)"
   ]
  },
  {
   "cell_type": "code",
   "execution_count": null,
   "metadata": {},
   "outputs": [],
   "source": [
    "final_text = object.refine_extracted_data(extracted_text,flatten = True)\n",
    "dfs = object.merge_and_select_data(final_text,select = True, map = True)\n",
    "Helper.quick_json_dump(dfs,object.JSONPATH)"
   ]
  },
  {
   "cell_type": "code",
   "execution_count": null,
   "metadata": {},
   "outputs": [],
   "source": [
    "\"\"\"TATA FILE MAIN CODE \"\"\"\n",
    "\n",
    "amc_name = \"Tata Mutual Fund\"\n",
    "logging.info(f\"User Ran Fund Data of {amc_name}\")\n",
    "\n",
    "object = Tata(PATHS_CONFIG,amc_name)\n",
    "path = mutual_fund[amc_name]\n",
    "\n",
    "title,path_pdf= object.check_and_highlight(path)\n",
    "# pages =  [16, 17, 18, 19, 20, 21, 22, 23, 24, 25, 26, 27, 28, 29, 30, 31, 32, 33, 34, 35, 36, 37, 38, 39, 40, 41, 42, 43, 44, 45, 46, 47, 48, 49, 50, 51, 52, 53, 54, 55, 56, 57, 58, 59, 60, 62, 64, 66, 67, 68, 69, 70, 71, 72, 73, 74, 75, 76, 77, 78, 79, 80, 81, 82, 83]\n",
    "data = object.get_data(path_pdf,title)\n",
    "extracted_text = object.get_generated_content(data)"
   ]
  },
  {
   "cell_type": "code",
   "execution_count": null,
   "metadata": {},
   "outputs": [],
   "source": [
    "final_text = object.refine_extracted_data(extracted_text, flatten = True)\n",
    "dfs = object.merge_and_select_data(final_text,select=True, map = True)\n",
    "Helper.quick_json_dump(dfs, object.JSONPATH)"
   ]
  },
  {
   "cell_type": "code",
   "execution_count": null,
   "metadata": {},
   "outputs": [],
   "source": [
    "\"\"\"TAURUS MAIN FILE CODE\"\"\" #Issues: Nothing Yet\n",
    "\n",
    "amc_name = 'Taurus Mutual Fund'\n",
    "logging.info(f\"User Ran Fund Data of {amc_name}\")\n",
    "\n",
    "object = Taurus(PATHS_CONFIG,amc_name)\n",
    "path = mutual_fund[amc_name]\n",
    "\n",
    "title,path_pdf= object.check_and_highlight(path)\n",
    "# pages = [11, 12, 13, 14, 15, 16, 17, 18]\n",
    "data = object.get_data(path_pdf,title)\n",
    "extracted_text = object.get_generated_content(data)"
   ]
  },
  {
   "cell_type": "code",
   "execution_count": 139,
   "metadata": {},
   "outputs": [
    {
     "name": "stdout",
     "output_type": "stream",
     "text": [
      "\n",
      " JSON saved at C:\\Users\\Kaustubh.keny\\Projects\\office-work\\mywork-repo\\data\\feb25output\\dump_TAURUS_12_51.json\n"
     ]
    }
   ],
   "source": [
    "object = Taurus(PATHS_CONFIG,amc_name)\n",
    "final_text = object.refine_extracted_data(extracted_text,flatten=True)\n",
    "dfs = object.merge_and_select_data(final_text,select = True, map = True)\n",
    "Helper.quick_json_dump(dfs,object.JSONPATH)"
   ]
  },
  {
   "cell_type": "code",
   "execution_count": null,
   "metadata": {},
   "outputs": [],
   "source": [
    "\"\"\"TRUST MAIN FILE CODE\"\"\" #Issue: Clean data more, nested dict unload Invest Obj in right #Names coming as headers fund managers\n",
    "\n",
    "amc_name = 'Trust Mutual Fund'\n",
    "logging.info(f\"User Ran Fund Data of {amc_name}\")\n",
    "\n",
    "object = Trust(PATHS_CONFIG,amc_name)\n",
    "path = mutual_fund[amc_name]\n",
    "title,path_pdf= object.check_and_highlight(path)\n",
    "# pages = [7, 8, 9, 10, 11, 12, 13, 14]\n",
    "data = object.get_data(path_pdf,title)\n",
    "extracted_text = object.get_generated_content(data)"
   ]
  },
  {
   "cell_type": "code",
   "execution_count": null,
   "metadata": {},
   "outputs": [],
   "source": [
    "final_text = object.refine_extracted_data(extracted_text, flatten = True)\n",
    "dfs = object.merge_and_select_data(final_text,select = True, map = True)\n",
    "Helper.quick_json_dump(dfs,object.JSONPATH)"
   ]
  },
  {
   "cell_type": "code",
   "execution_count": null,
   "metadata": {},
   "outputs": [],
   "source": [
    "\"\"\"UTI MAIN FILE CODE\"\"\"\n",
    "\n",
    "amc_name = 'UTI Mutual Fund'\n",
    "logging.info(f\"User Ran Fund Data of {amc_name}\")\n",
    "\n",
    "object = UTI(PATHS_CONFIG,amc_name)\n",
    "path = mutual_fund[amc_name]\n",
    "title,path_pdf = object.check_and_highlight(path)"
   ]
  },
  {
   "cell_type": "code",
   "execution_count": null,
   "metadata": {},
   "outputs": [],
   "source": [
    "data = object.get_data(path_pdf,title)\n",
    "extracted_text = object.get_generated_content(data)\n",
    "final_text = object.refine_extracted_data(extracted_text, flatten = True)\n",
    "dfs = object.merge_and_select_data(final_text, select = True, map = True)\n",
    "Helper.quick_json_dump(dfs, object.JSONPATH)"
   ]
  },
  {
   "cell_type": "code",
   "execution_count": null,
   "metadata": {},
   "outputs": [],
   "source": [
    "\"\"\"UNION MUTUAL FUND\"\"\" #Issues: Major Issue\n",
    "\n",
    "amc_name = 'Union Mutual Fund'\n",
    "logging.info(f\"User Ran Fund Data of {amc_name}\")\n",
    "\n",
    "object = Union(PATHS_CONFIG,amc_name)\n",
    "path = mutual_fund[amc_name]\n",
    "\n",
    "title,path_pdf = object.check_and_highlight(path)\n",
    "data = object.get_data(path_pdf,title)\n",
    "extracted_text = object.get_generated_content(data)"
   ]
  },
  {
   "cell_type": "code",
   "execution_count": null,
   "metadata": {},
   "outputs": [],
   "source": [
    "\n",
    "final_text = object.refine_extracted_data(extracted_text, flatten = True)\n",
    "dfs = object.merge_and_select_data(final_text,select=True, map = True)\n",
    "Helper.quick_json_dump(dfs, object.JSONPATH)"
   ]
  },
  {
   "cell_type": "code",
   "execution_count": null,
   "metadata": {},
   "outputs": [],
   "source": [
    "\"\"\"WHITEOAK MUTUAL FUND\"\"\"\n",
    "\n",
    "amc_name = 'WhiteOak Mutual Fund'\n",
    "logging.info(f\"User Ran Fund Data of {amc_name}\")\n",
    "\n",
    "object = WhiteOak(PATHS_CONFIG,amc_name)\n",
    "path = mutual_fund[amc_name]\n",
    "\n",
    "title,path_pdf= object.check_and_highlight(path)\n",
    "# pages = [7, 9, 11, 13, 15, 17, 19, 20, 21, 23, 25, 26, 28, 30, 32, 34, 36, 37]\n",
    "data = object.get_data(path_pdf,title)\n",
    "extracted_text = object.get_generated_content(data)\n",
    "final_text = object.refine_extracted_data(extracted_text, flatten = True)\n",
    "dfs = object.merge_and_select_data(final_text,select = True, map = True)\n",
    "Helper.quick_json_dump(dfs,object.JSONPATH)"
   ]
  },
  {
   "cell_type": "code",
   "execution_count": null,
   "metadata": {},
   "outputs": [],
   "source": [
    "\n",
    "\"\"\"OLD BRIDGE MUTUAL FUND\"\"\"\n",
    "\n",
    "amc_name = \"Old Bridge Mutual Fund\"\n",
    "logging.info(f\"User Ran Fund Data of {amc_name}\")\n",
    "\n",
    "object = OldBridge(PATHS_CONFIG,amc_name)\n",
    "path = mutual_fund[amc_name]\n",
    "\n",
    "title,path_pdf= object.check_and_highlight(path)\n",
    "data = object.get_data(path_pdf,title)\n",
    "extracted_text = object.get_generated_content(data)\n",
    "final_text = object.refine_extracted_data(extracted_text, flatten = True)\n",
    "dfs = object.merge_and_select_data(final_text,select = True, map = True)\n",
    "Helper.quick_json_dump(final_text,object.JSONPATH)"
   ]
  },
  {
   "cell_type": "code",
   "execution_count": null,
   "metadata": {},
   "outputs": [],
   "source": [
    "data = object.get_data(path_pdf,title)\n",
    "extracted_text = object.get_generated_content(data)"
   ]
  },
  {
   "cell_type": "code",
   "execution_count": null,
   "metadata": {},
   "outputs": [],
   "source": [
    "\"\"\"ZERODHA MAIN CODE\"\"\" \n",
    "\n",
    "amc_name = 'Zerodha Mutual Fund'\n",
    "logging.info(f\"User Ran Fund Data of {amc_name}\")\n",
    "\n",
    "object = Zerodha(PATHS_CONFIG,amc_name)\n",
    "path = mutual_fund[amc_name]\n",
    "title,path_pdf= object.check_and_highlight(path)\n",
    "# pages = [3, 5, 7, 9, 11, 13, 15]\n",
    "data = object.get_data(path_pdf,title)\n",
    "extracted_text = object.get_generated_content(data)\n",
    "final_text = object.refine_extracted_data(extracted_text, flatten = True)\n",
    "dfs = object.merge_and_select_data(final_text,select = True,map = True)\n",
    "Helper.quick_json_dump(dfs, object.JSONPATH)"
   ]
  },
  {
   "cell_type": "code",
   "execution_count": null,
   "metadata": {},
   "outputs": [],
   "source": [
    "\"\"\"\"HSBC MAIN FILE CODE\"\"\" #Issue: Some pages have 2 or more fund data on same page\n",
    "\n",
    "amc_name = 'HSBC Mutual Fund'\n",
    "logging.info(f\"User Ran Fund Data of {amc_name}\")\n",
    "\n",
    "object = HSBC(PATHS_CONFIG,amc_name)\n",
    "path = mutual_fund[amc_name]\n",
    "\n",
    "title,path_pdf= object.check_and_highlight(path)\n",
    "# pages = [10, 11, 12, 13, 14, 15, 16, 17, 18, 19, 20, 21, 22, 23, 24, 25, 26, 27, 28, 29, 30, 32, 34, 35, 36, 37, 38, 39, 40, 41, 42, 43, 44, 45, 46, 47, 48, 49]\n",
    "\n",
    "data = object.get_data(path_pdf,title)\n",
    "extracted_text = object.get_generated_content(data)"
   ]
  },
  {
   "cell_type": "code",
   "execution_count": null,
   "metadata": {},
   "outputs": [],
   "source": [
    "object = HSBC(PATHS_CONFIG,amc_name)\n",
    "final_text = object.refine_extracted_data(extracted_text, flatten = True)\n",
    "dfs = object.merge_and_select_data(final_text,select = True,map = True)\n",
    "Helper.quick_json_dump(dfs,object.JSONPATH)"
   ]
  },
  {
   "cell_type": "code",
   "execution_count": null,
   "metadata": {},
   "outputs": [],
   "source": [
    "manage = FundHouseManager()\n",
    "for fund in  manage.list_fund_houses():\n",
    "    manage.update_fund_house(fund,\"PARAMS\",)"
   ]
  },
  {
   "cell_type": "code",
   "execution_count": null,
   "metadata": {},
   "outputs": [],
   "source": [
    "# \"main_mapper\": {\n",
    "#         \"360 One Mutual Fund\": \"ThreeSixtyOne\",\n",
    "#         \"Aditya Birla Sun Life Mutual Fund\": \"AdityaBirla\",\n",
    "#         \"Axis Mutual Fund\": \"AXISMF\",\n",
    "#         \"Axis Mutual Fund Passive\": \"AXISMF\",\n",
    "#         \"Bajaj Finserv Mutual Fund\": \"BajajFinServ\",\n",
    "#         \"Bandhan Mutual Fund\": \"Bandhan\",\n",
    "#         \"Bank Of India Mutual Fund\": \"BankOfIndia\",\n",
    "#         \"Baroda Bnp Paribas Mutual Fund\": \"BarodaBNP\",\n",
    "#         \"Canara Robeco Mutual Fund\": \"Canara\",\n",
    "#         \"Dsp Mutual Fund\": \"DSP\",\n",
    "#         \"Edelweiss Mutual Fund\": \"Edelweiss\",\n",
    "#         \"Franklin Templeton Mutual Fund\": \"FranklinTempleton\",\n",
    "#         \"Groww Mutual Fund\": \"GROWW\",\n",
    "#         \"Hdfc Mutual Fund\": \"HDFC\",\n",
    "#         \"Hdfc Mutual Fund Passive\": \"HDFC\",\n",
    "#         \"Helios Mutual Fund\": \"Helios\",\n",
    "#         \"Hsbc Mutual Fund\": \"HSBC\",\n",
    "#         \"Icici Prudential Mutual Fund\": \"ICICI\",\n",
    "#         \"Icici Prudential Mutual Fund Passive\": \"ICICI\",\n",
    "#         \"Iti Mutual Fund\": \"ITI\",\n",
    "#         \"Invesco Mutual Fund\": \"Invesco\",\n",
    "#         \"Jm Financial Mutual Fund\": \"JMMF\",\n",
    "#         \"Kotak Mahindra Mutual Fund\": \"Kotak\",\n",
    "#         \"Lic Mutual Fund\": \"LIC\",\n",
    "#         \"Mahindra Manulife Mutual Fund\": \"MahindraManu\",\n",
    "#         \"Mirae Asset Mutual Fund\": \"MIRAE\",\n",
    "#         \"Mirae Asset Mutual Fund Passive\": \"MIRAE\",\n",
    "#         \"Motilal Oswal Mutual Fund\": \"MotilalOswal\",\n",
    "#         \"Motilal Oswal Mutual Fund Passive\": \"MotilalOswal\",\n",
    "#         \"Nj Mutual Fund\": \"NJMF\",\n",
    "#         \"Navi Mutual Fund\": \"NAVI\",\n",
    "#         \"Nippon India Mutual Fund\": \"Nippon\",\n",
    "#         \"Old Bridge Mutual Fund\":\"OldBridge\",\n",
    "#         \"Pgim India Mutual Fund\": \"PGIM\",\n",
    "#         \"Ppfas Mutual Fund\": \"PPFAS\",\n",
    "#         \"Quant Mutual Fund\": \"QuantMF\",\n",
    "#         \"Quantum Mutual Fund\": \"Quantum\",\n",
    "#         \"Sbi Mutual Fund\": \"SBI\",\n",
    "#         \"Sbi Mutual Fund Passive\": \"SBIPassive\",\n",
    "#         \"Samco Mutual Fund\": \"Samco\",\n",
    "#         \"Shriram Mutual Fund\": \"Shriram\",\n",
    "#         \"Sundaram Mutual Fund\": \"Sundaram\",\n",
    "#         \"Tata Mutual Fund\": \"Tata\",\n",
    "#         \"Taurus Mutual Fund\": \"Taurus\",\n",
    "#         \"Trust Mutual Fund\": \"Trust\",\n",
    "#         \"Uti Mutual Fund\": \"UTI\",\n",
    "#         \"Union Mutual Fund\": \"Union\",\n",
    "#         \"Whiteoak Mutual Fund\": \"WhiteOak\",\n",
    "#         \"Zerodha Mutual Fund\": \"Zerodha\"\n",
    "#     }"
   ]
  },
  {
   "cell_type": "code",
   "execution_count": null,
   "metadata": {},
   "outputs": [],
   "source": []
  },
  {
   "cell_type": "code",
   "execution_count": null,
   "metadata": {},
   "outputs": [],
   "source": []
  }
 ],
 "metadata": {
  "kernelspec": {
   "display_name": "envPDF",
   "language": "python",
   "name": "python3"
  },
  "language_info": {
   "codemirror_mode": {
    "name": "ipython",
    "version": 3
   },
   "file_extension": ".py",
   "mimetype": "text/x-python",
   "name": "python",
   "nbconvert_exporter": "python",
   "pygments_lexer": "ipython3",
   "version": "3.13.1"
  }
 },
 "nbformat": 4,
 "nbformat_minor": 2
}
