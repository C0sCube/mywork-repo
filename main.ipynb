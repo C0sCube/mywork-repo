{
 "cells": [
  {
   "cell_type": "code",
   "execution_count": 3,
   "metadata": {},
   "outputs": [
    {
     "name": "stdout",
     "output_type": "stream",
     "text": [
      "The autoreload extension is already loaded. To reload it, use:\n",
      "  %reload_ext autoreload\n"
     ]
    }
   ],
   "source": [
    "%load_ext autoreload\n",
    "%autoreload 2\n",
    "import pprint, json, os, logging\n",
    "\n",
    "PATHS_CONFIG =os.path.join(os.getcwd(),'paths.json') #get path to paths.json\n",
    "\n",
    "with open(PATHS_CONFIG,'r') as file:\n",
    "    PATH = json.load(file)\n",
    "    \n",
    "from app.fund_data import *\n",
    "from app.params_handler import *\n",
    "from app.utils import Helper\n",
    "from logging_config import logger\n",
    "\n",
    "logger.info(\"Application Started !!\")\n",
    "mutual_fund = Helper.get_fund_paths(PATH['dirs']['fund_path'])"
   ]
  },
  {
   "cell_type": "code",
   "execution_count": null,
   "metadata": {},
   "outputs": [],
   "source": [
    "'''360 ONE MAIN FILE CODE''' #No issues as of now\n",
    "amc_name = \"360 ONE Mutual Fund\"\n",
    "logger.info(f\"User Ran Fund Data of {amc_name}\")\n",
    "\n",
    "object = ThreeSixtyOne(PATHS_CONFIG,amc_name)\n",
    "path = mutual_fund[amc_name]\n",
    "\n",
    "path, df = object.check_and_highlight(path, 7)"
   ]
  },
  {
   "cell_type": "code",
   "execution_count": 54,
   "metadata": {},
   "outputs": [],
   "source": [
    "object = ThreeSixtyOne(PATHS_CONFIG,amc_name)"
   ]
  },
  {
   "cell_type": "code",
   "execution_count": null,
   "metadata": {},
   "outputs": [],
   "source": [
    "title = df.title.to_dict()\n",
    "pages = [5, 6, 7, 8, 9, 10, 11, 12]\n",
    "data = object.get_data(path,pages,title)\n",
    "extracted_text = object.get_generated_content(data)\n",
    "final_text = object.refine_extracted_data(extracted_text, flatten=True)\n",
    "df = object.merge_and_select_data(final_text, select=True, map= True)\n",
    "Helper.quick_json_dump(df, object.JSONPATH)"
   ]
  },
  {
   "cell_type": "code",
   "execution_count": null,
   "metadata": {},
   "outputs": [],
   "source": [
    "\"Axis Mutual Fund\"\n",
    "\"HSBC Mutual Fund\"\n",
    "\"ICICI Prudential Mutual Fund\"\n",
    "\"PGIM India Mutual Fund\"\n",
    "\"PPFAS Mutual Fund\"\n",
    "\"SBI Mutual Fund\"\n",
    "\"Shriram Mutual Fund\""
   ]
  },
  {
   "cell_type": "code",
   "execution_count": null,
   "metadata": {},
   "outputs": [],
   "source": [
    "\"\"\"*ADITYA BIRLA FILE CODE\"\"\" #Issue: highlight count must be lower\n",
    "#Issue: data on both side ends so issue coming , three clips\n",
    "\n",
    "amc_name = 'Aditya Birla Sun Life Mutual Fund'\n",
    "logging.info(f\"User Ran Fund Data of {amc_name}\")\n",
    "\n",
    "object = AdityaBirla(PATHS_CONFIG,amc_name)\n",
    "path = mutual_fund[amc_name]\n",
    "\n",
    "path, df = object.check_and_highlight(path, 10)"
   ]
  },
  {
   "cell_type": "code",
   "execution_count": null,
   "metadata": {},
   "outputs": [],
   "source": [
    "title = df.title.to_dict()\n",
    "pages = [17, 19, 21, 23, 25, 27, 29, 31, 33, 35, 37, 39, 41, 43, 45, 49, 50, 52, 54, 56, 58, 60, 62, 64, 66, 69, 72, 75, 78, 80, 82, 86, 87, 89, 91, 93, 95, 98, 101, 103, 106, 108, 110, 112, 114, 115, 116, 118, 119, 121, 123, 125, 127, 128, 129, 130, 131, 132, 133, 134, 135, 136, 137, 138, 139, 140, 141, 143, 147, 149, 153, 155, 157, 159, 160, 161, 162, 163, 164, 165, 166, 167, 168, 169, 170, 171, 172, 173, 175, 176, 177, 178, 179, 180, 181, 182]\n",
    "data = object.get_data(path,pages,title)\n",
    "extracted_text = object.get_generated_content(data)"
   ]
  },
  {
   "cell_type": "code",
   "execution_count": null,
   "metadata": {},
   "outputs": [],
   "source": [
    "final_text = object.refine_extracted_data(extracted_text, flatten=True)\n",
    "df = object.merge_and_select_data(final_text,select=True,map = True,special=True)\n",
    "Helper.quick_json_dump(df,object.JSONPATH)"
   ]
  },
  {
   "cell_type": "code",
   "execution_count": null,
   "metadata": {},
   "outputs": [],
   "source": [
    "\"\"\"BANDHAN MF FILE MAIN CODE\"\"\" # rgex for fund manager\n",
    "\n",
    "amc_name = \"Bandhan Mutual Fund\"\n",
    "logging.info(f\"User Ran Fund Data of {amc_name}\")\n",
    "\n",
    "object = Bandhan(PATHS_CONFIG,amc_name)\n",
    "path = mutual_fund[amc_name]\n",
    "\n",
    "path, df = object.check_and_highlight(path,6)"
   ]
  },
  {
   "cell_type": "code",
   "execution_count": null,
   "metadata": {},
   "outputs": [],
   "source": [
    "pages =  [15, 16, 17, 18, 19, 20, 21, 22, 23, 24, 25, 26, 27, 28, 29, 30, 31, 32, 33, 34, 35, 36, 37, 38, 39, 40, 41, 43, 44, 45, 46, 47, 48, 49, 50, 51, 52, 53, 54, 55, 56, 57, 58, 59, 60, 61, 62, 63, 64, 65, 66, 67, 68, 69, 70, 71, 72, 73, 74, 75, 76, 77, 78, 79, 80, 81]\n",
    "title = df.title.to_dict()\n",
    "data  = object.get_data(path,pages,title)\n",
    "extracted_text = object.get_generated_content(data)"
   ]
  },
  {
   "cell_type": "code",
   "execution_count": null,
   "metadata": {},
   "outputs": [],
   "source": [
    "final_text = object.refine_extracted_data(extracted_text, flatten = True)\n",
    "df = object.merge_and_select_data(final_text,select=True, map = True)\n",
    "Helper.quick_json_dump(df, object.JSONPATH)"
   ]
  },
  {
   "cell_type": "code",
   "execution_count": 162,
   "metadata": {},
   "outputs": [
    {
     "name": "stdout",
     "output_type": "stream",
     "text": [
      "baroda bnp paribas\n",
      "baroda bnp paribas\n",
      "baroda bnp paribas mid\n",
      "baroda bnp paribas\n",
      "baroda bnp paribas\n",
      "baroda bnp paribas\n",
      "baroda bnp paribas\n",
      "baroda bnp paribas\n",
      "baroda bnp paribas\n",
      "baroda bnp paribas\n",
      "baroda bnp paribas\n",
      "baroda bnp paribas\n",
      "baroda bnp paribas\n",
      "baroda bnp paribas\n",
      "baroda bnp paribas\n",
      "baroda bnp paribas\n",
      "baroda bnp paribas\n",
      "baroda bnp paribas\n",
      "baroda bnp paribas\n",
      "baroda bnp paribas\n",
      "baroda bnp paribas\n",
      "baroda bnp paribas\n",
      "baroda bnp paribas\n",
      "baroda bnp paribas\n",
      "baroda bnp paribas\n",
      "baroda bnp paribas\n",
      "baroda bnp paribas\n",
      "baroda bnp paribas\n",
      "baroda bnp paribas\n",
      "baroda bnp paribas\n",
      "baroda bnp paribas\n",
      "baroda bnp paribas\n",
      "baroda bnp paribas\n",
      "baroda bnp paribas\n",
      "baroda bnp paribas\n",
      "baroda bnp paribas gilt\n",
      "baroda bnp paribas\n",
      "baroda bnp paribas\n",
      "baroda bnp paribas\n",
      "baroda bnp paribas\n",
      "baroda bnp paribas\n",
      "baroda bnp paribas\n",
      "baroda bnp paribas\n",
      "\n",
      "Doc Saved At: C:\\Users\\Kaustubh.keny\\Projects\\office-work\\mywork-repo\\data\\output\\pdf_report.xlsx\n",
      "\n",
      "Pages to Extract: [6, 7, 8, 9, 10, 11, 12, 13, 14, 15, 16, 17, 18, 19, 20, 21, 22, 24, 25, 26, 27, 28, 29, 30, 31, 32, 33, 34, 35, 36, 37, 38, 39, 40, 41, 42, 43, 44, 45, 46, 47, 48]\n"
     ]
    }
   ],
   "source": [
    "\"\"\" BARODA BNP MAIN FILE CODE\"\"\" #Issue: lumpsum arrange date \n",
    "\n",
    "amc_name = 'Baroda BNP Paribas Mutual Fund'\n",
    "logging.info(f\"User Ran Fund Data of {amc_name}\")\n",
    "\n",
    "object = BarodaBNP(PATHS_CONFIG,amc_name)\n",
    "path = mutual_fund[amc_name]\n",
    "\n",
    "path, df = object.check_and_highlight(path, 7)"
   ]
  },
  {
   "cell_type": "code",
   "execution_count": 163,
   "metadata": {},
   "outputs": [],
   "source": [
    "object = BarodaBNP(PATHS_CONFIG,amc_name)"
   ]
  },
  {
   "cell_type": "code",
   "execution_count": 165,
   "metadata": {},
   "outputs": [],
   "source": [
    "title= object.get_proper_fund_names(path)\n",
    "title = {k:v for k,v in title.items() if k <49}\n",
    "pages = list(title.keys())"
   ]
  },
  {
   "cell_type": "code",
   "execution_count": null,
   "metadata": {},
   "outputs": [],
   "source": [
    "data  = object.get_data(path,pages,title)\n",
    "extracted_text = object.get_generated_content(data)"
   ]
  },
  {
   "cell_type": "code",
   "execution_count": 168,
   "metadata": {},
   "outputs": [
    {
     "name": "stdout",
     "output_type": "stream",
     "text": [
      "\n",
      " JSON saved at C:\\Users\\Kaustubh.keny\\Projects\\office-work\\mywork-repo\\data\\output\\dump_Baroda_15_05.json\n"
     ]
    }
   ],
   "source": [
    "final_text = object.refine_extracted_data(extracted_text, flatten = True)\n",
    "dfs = object.merge_and_select_data(final_text, select = True, map = True)\n",
    "Helper.quick_json_dump(dfs, object.JSONPATH)"
   ]
  },
  {
   "cell_type": "code",
   "execution_count": null,
   "metadata": {},
   "outputs": [],
   "source": [
    "\"\"\"BANK OF INDIA\"\"\" #Regex\n",
    "\n",
    "amc_name = 'Bank of India Mutual Fund'\n",
    "logging.info(f\"User Ran Fund Data of {amc_name}\")\n",
    "\n",
    "object = BankOfIndia(PATHS_CONFIG,amc_name)\n",
    "path = mutual_fund[amc_name]\n",
    "\n",
    "path, df= object.check_and_highlight(path, 7)"
   ]
  },
  {
   "cell_type": "code",
   "execution_count": 161,
   "metadata": {},
   "outputs": [],
   "source": [
    "title = df.title.to_dict()\n",
    "pages =[6, 7, 8, 9, 10, 11, 12, 13, 14, 15, 16, 17, 18, 19, 20, 21, 22, 23, 24]"
   ]
  },
  {
   "cell_type": "code",
   "execution_count": null,
   "metadata": {},
   "outputs": [],
   "source": [
    "data = object.get_data(path,pages,title)\n",
    "extracted_text = object.get_generated_content(data)"
   ]
  },
  {
   "cell_type": "code",
   "execution_count": null,
   "metadata": {},
   "outputs": [],
   "source": [
    "final_text = object.refine_extracted_data(extracted_text)\n",
    "df = object.merge_and_select_data(final_text,select = True, map = True)\n",
    "Helper.quick_json_dump(df, object.JSONPATH)"
   ]
  },
  {
   "cell_type": "code",
   "execution_count": null,
   "metadata": {},
   "outputs": [],
   "source": [
    "\"\"\"BAJAJ FINSERV MAIN FILE CODE\"\"\" #manager regex robust\n",
    "\n",
    "amc_name = 'Bajaj finserv Mutual Fund'\n",
    "logging.info(f\"User Ran Fund Data of {amc_name}\")\n",
    "\n",
    "object = BajajFinServ(PATHS_CONFIG,amc_name)\n",
    "path = mutual_fund[amc_name]\n",
    "\n",
    "path, df = object.check_and_highlight(path, 7)\n",
    "pages = [15, 17, 19, 21, 22, 23, 25, 27, 28, 29, 30, 31, 32, 33]\n",
    "title = df.title.to_dict()\n",
    "\n",
    "data = object.get_data(path,pages,title)\n",
    "extracted_text = object.get_generated_content(data)\n",
    "final_text = object.refine_extracted_data(extracted_text, flatten = True)\n",
    "df = object.merge_and_select_data(final_text, select=True,map = True)\n",
    "Helper.quick_json_dump(df, object.JSONPATH)"
   ]
  },
  {
   "cell_type": "code",
   "execution_count": 217,
   "metadata": {},
   "outputs": [
    {
     "name": "stdout",
     "output_type": "stream",
     "text": [
      "canara robeco flexicap fund (crfcf)\n",
      "canara robeco blue chip equity fund (crbcef)\n",
      "canara robeco emerging equities (cree)\n",
      "canara robeco small cap fund (crscf)\n",
      "canara robeco infrastructure (cri)\n",
      "canara robeco consumer trends fund (crctf)\n",
      "canara robeco elss tax saver (crets)\n",
      "canara robeco focused equity fund (crfef)\n",
      "canara robeco value fund (crvf)\n",
      "canara robeco mid cap fund (crmcf)\n",
      "canara robeco multi cap fund (crmucf)\n",
      "canara robeco manufacturing fund (crmtf)\n",
      "canara robeco overnight fund (crof)\n",
      "canara robeco liquid fund (crl)\n",
      "canara robeco ultra short term fund (crustf)\n",
      "canara robeco savings fund (crsf)\n",
      "canara robeco short duration fund (crsdf)\n",
      "canara robeco income fund (crinc)\n",
      "canara robeco dynamic bond fund (crdbf)\n",
      "canara robeco corporate bond fund (crcbf)\n",
      "canara robeco gilt fund (crgilt)\n",
      "canara robeco banking and psu debt fund (crbpdf)\n",
      "canara robeco conservative hybrid fund (crchf)\n",
      "canara robeco equity hybrid fund (crehf)\n",
      "canara robeco balanced advantage fund (crbaf)\n",
      "\n",
      "Doc Saved At: C:\\Users\\Kaustubh.keny\\Projects\\office-work\\mywork-repo\\data\\output\\pdf_report.xlsx\n",
      "\n",
      "Pages to Extract: [8, 9, 10, 11, 12, 13, 14, 15, 16, 17, 18, 19, 20, 21, 22, 23, 24, 25, 26, 27, 28, 29, 30, 31, 32]\n"
     ]
    }
   ],
   "source": [
    "\"\"\"*CANARA MUTUAL FUND\"\"\" \n",
    "\n",
    "amc_name = 'Canara Robeco Mutual Fund'\n",
    "logging.info(f\"User Ran Fund Data of {amc_name}\")\n",
    "\n",
    "object = Canara(PATHS_CONFIG,amc_name)\n",
    "path = mutual_fund[amc_name]\n",
    "\n",
    "path, df = object.check_and_highlight(path, 7)"
   ]
  },
  {
   "cell_type": "code",
   "execution_count": 218,
   "metadata": {},
   "outputs": [],
   "source": [
    "pages = [8, 9, 10, 11, 12, 13, 14, 15, 16, 17, 18, 19, 20, 21, 22, 23, 24, 25, 26, 27, 28, 29, 30, 31, 32]\n",
    "title = df.title.to_dict()"
   ]
  },
  {
   "cell_type": "code",
   "execution_count": 233,
   "metadata": {},
   "outputs": [],
   "source": [
    "object = Canara(PATHS_CONFIG,amc_name)"
   ]
  },
  {
   "cell_type": "code",
   "execution_count": null,
   "metadata": {},
   "outputs": [],
   "source": [
    "object.REGEX"
   ]
  },
  {
   "cell_type": "code",
   "execution_count": null,
   "metadata": {},
   "outputs": [],
   "source": [
    "data = object.get_data(path,pages,title)\n",
    "extracted_text = object.get_generated_content(data)"
   ]
  },
  {
   "cell_type": "code",
   "execution_count": 234,
   "metadata": {},
   "outputs": [
    {
     "name": "stdout",
     "output_type": "stream",
     "text": [
      "\n",
      " JSON saved at C:\\Users\\Kaustubh.keny\\Projects\\office-work\\mywork-repo\\data\\output\\dump_canara_16_26.json\n"
     ]
    }
   ],
   "source": [
    "final_text = object.refine_extracted_data(extracted_text, flatten = True)\n",
    "dfs = object.merge_and_select_data(final_text,select = True,map = True, special = True)\n",
    "Helper.quick_json_dump(dfs, object.JSONPATH)"
   ]
  },
  {
   "cell_type": "code",
   "execution_count": null,
   "metadata": {},
   "outputs": [],
   "source": [
    "def _update_manager_data(self,main_key:str,manager_data):\n",
    "    name = r\"(?:Mr\\.?|Mrs\\.?|Ms\\.?)\\s+([A-Z][a-z]+\\s[A-Z][a-z]+)\"\n",
    "    exp = r\"\\b\\d+\\s*Years?\\b\"\n",
    "    since = r\"\\bSince\\s*([0-9]+\\s*-\\s*[A-Za-z]+\\.?\\s*-\\s*[0-9]+)\\b\"\n",
    "    nsample, msample, esample = [], [], []\n",
    "    nlength = 0\n",
    "    \n",
    "    final_list = [self._return_manager_data()]\n",
    "    \n",
    "    value = \" \".join(manager_data.values())\n",
    "    nsample = re.findall(name, value, re.IGNORECASE)\n",
    "    esample = re.findall(exp, value, re.IGNORECASE)\n",
    "    msample = re.findall(since, value, re.IGNORECASE)\n",
    "    nlength = len(nsample)\n",
    "    msample += [\"\"] * (nlength - len(msample))\n",
    "    esample += [\"\"] * (nlength - len(esample))\n",
    "    final_list = [\n",
    "       self._return_manager_data(since=m,name=n,exp=e)\n",
    "        for n, m, e in zip(nsample, msample, esample)\n",
    "    ]\n",
    "    \n",
    "    return {main_key:final_list}"
   ]
  },
  {
   "cell_type": "code",
   "execution_count": null,
   "metadata": {},
   "outputs": [],
   "source": [
    "for fund, content in df.items():\n",
    "    name = r\"(?:Mr\\.?|Mrs\\.?|Ms\\.?)\\s+([A-Z][a-z]+\\s[A-Z][a-z]+)\"\n",
    "    exp = r\"\\b\\d+\\s*Years?\\b\"\n",
    "    since = r\"\\bSince\\s*([0-9]+\\s*-\\s*[A-Za-z]+\\.?\\s*-\\s*[0-9]+)\\b\"\n",
    "    nsample, msample, esample = [], [], []\n",
    "    nlength = 0\n",
    "    if check in content:\n",
    "        value = \" \".join(content[check].values())\n",
    "        nsample = re.findall(name, value, re.IGNORECASE)\n",
    "        esample = re.findall(exp, value, re.IGNORECASE)\n",
    "        msample = re.findall(since, value, re.IGNORECASE)\n",
    "        nlength = len(nsample)\n",
    "        msample += [\"\"] * (nlength - len(msample))\n",
    "        esample += [\"\"] * (nlength - len(esample))\n",
    "        final_list = [\n",
    "            {\n",
    "            \"managing_fund_since\":m,\n",
    "            \"name\": n,\n",
    "            \"qualification\": \"\",\n",
    "            \"total_exp\":e\n",
    "        }\n",
    "            for n, m, e in zip(nsample, msample, esample)\n",
    "        ]\n",
    "        \n",
    "        print(final_list)\n"
   ]
  },
  {
   "cell_type": "code",
   "execution_count": null,
   "metadata": {},
   "outputs": [],
   "source": [
    "\"\"\"*DSP MAIN FILE CODE\"\"\" #Issue: highlight count must be lower\n",
    "#Issue: data on both side ends so issue coming\n",
    "\n",
    "amc_name = 'DSP Mutual Fund'\n",
    "logging.info(f\"User Ran Fund Data of {amc_name}\")\n",
    "\n",
    "object = DSP(PATHS_CONFIG,amc_name)\n",
    "path = mutual_fund['DSP Mutual Fund']\n",
    "\n",
    "path, df = object.check_and_highlight(path, 5)"
   ]
  },
  {
   "cell_type": "code",
   "execution_count": 310,
   "metadata": {},
   "outputs": [],
   "source": [
    "title = df.title.to_dict()\n",
    "object = DSP(PATHS_CONFIG,amc_name)\n",
    "pages = [1, 2, 3, 4, 5, 6, 7, 8, 9, 10, 11, 12, 13, 14, 15, 16, 17, 18, 19, 20, 21, 23, 24, 25, 26, 27, 28, 29, 30, 31, 32, 33, 34, 35, 36, 37, 38, 39, 40, 41, 42, 43, 44, 45, 46, 47, 48, 49, 50, 51, 52, 53, 54, 55, 56, 57, 58, 59, 60, 61, 62, 63, 64, 65, 66, 67]"
   ]
  },
  {
   "cell_type": "code",
   "execution_count": null,
   "metadata": {},
   "outputs": [],
   "source": [
    "data = object.get_data(path,pages,title)\n",
    "extracted_text = object.get_generated_content(data)"
   ]
  },
  {
   "cell_type": "code",
   "execution_count": 311,
   "metadata": {},
   "outputs": [
    {
     "name": "stdout",
     "output_type": "stream",
     "text": [
      "\n",
      " JSON saved at C:\\Users\\Kaustubh.keny\\OneDrive - Cogencis Information Services Ltd\\Documents\\mywork-repo\\data\\output\\dump_dsp_15_46.json\n"
     ]
    }
   ],
   "source": [
    "final_text = object.refine_extracted_data(extracted_text,flatten = True)\n",
    "dfs = object.merge_and_select_data(final_text,select = True)\n",
    "Helper.quick_json_dump(dfs,object.JSONPATH)"
   ]
  },
  {
   "cell_type": "code",
   "execution_count": null,
   "metadata": {},
   "outputs": [],
   "source": [
    "\"\"\"EDELWEISS MP FILE MAIN CODE\"\"\" #Issues: objective in seperate dict,#metrics are weird, scheme launch date issue\n",
    "\n",
    "amc_name = 'Edelweiss Mutual Fund'\n",
    "logging.info(f\"User Ran Fund Data of {amc_name}\")\n",
    "\n",
    "object = Edelweiss(PATHS_CONFIG,amc_name)\n",
    "path = mutual_fund[amc_name]\n",
    "\n",
    "path, df = object.check_and_highlight(path, 6)\n"
   ]
  },
  {
   "cell_type": "code",
   "execution_count": 126,
   "metadata": {},
   "outputs": [],
   "source": [
    "pages = [7, 8, 9, 10, 11, 12, 13, 14, 15, 16, 17, 18, 19, 20, 21, 22, 23, 24, 25, 26, 27, 28, 29, 30, 37, 38, 39, 40, 41, 42, 43, 44, 45, 46, 47, 48, 49, 50, 51, 52, 53, 54, 55, 56, 57, 58, 59, 60, 61, 62, 63, 64, 65, 66, 67, 68, 69, 70, 71, 72]\n",
    "title,objectives = object.get_proper_fund_names(path,pages)"
   ]
  },
  {
   "cell_type": "code",
   "execution_count": null,
   "metadata": {},
   "outputs": [],
   "source": [
    "data = object.get_data(path,pages,title)\n",
    "extracted_text = object.get_generated_content(data)"
   ]
  },
  {
   "cell_type": "code",
   "execution_count": null,
   "metadata": {},
   "outputs": [],
   "source": [
    "final_text = object.refine_extracted_data(extracted_text, flatten = True)\n",
    "df = object.merge_and_select_data(final_text, select = True, map = True)\n",
    "Helper.quick_json_dump(df, object.JSONPATH)"
   ]
  },
  {
   "cell_type": "code",
   "execution_count": null,
   "metadata": {},
   "outputs": [],
   "source": [
    "\"\"\"FRANKLIN TEMPLETON FILE MAIN CODE\"\"\"\n",
    "\n",
    "amc_name = \"Franklin Templeton Mutual Fund\"\n",
    "logging.info(f\"User Ran Fund Data of {amc_name}\")\n",
    "\n",
    "object = FranklinTempleton(PATHS_CONFIG,amc_name)\n",
    "path = mutual_fund[amc_name]\n",
    "\n",
    "path, df = object.check_and_highlight(path, 6)"
   ]
  },
  {
   "cell_type": "code",
   "execution_count": null,
   "metadata": {},
   "outputs": [],
   "source": [
    "title = df.title.to_dict()\n",
    "pages =  [17, 18, 19, 20, 21, 22, 23, 24, 25, 26, 27, 28, 29, 30, 31, 32, 33, 34, 35, 36, 37, 38, 39, 40, 41, 42, 43, 44, 45, 46, 47, 48, 49, 50]\n",
    "data = object.get_data(path,pages,title)\n",
    "extracted_text = object.get_generated_content(data)"
   ]
  },
  {
   "cell_type": "code",
   "execution_count": null,
   "metadata": {},
   "outputs": [],
   "source": [
    "extracted_text['franklin india focused equity fund']"
   ]
  },
  {
   "cell_type": "code",
   "execution_count": 217,
   "metadata": {},
   "outputs": [
    {
     "name": "stdout",
     "output_type": "stream",
     "text": [
      "\n",
      " JSON saved at C:\\Users\\Kaustubh.keny\\OneDrive - Cogencis Information Services Ltd\\Documents\\mywork-repo\\data\\output\\dump_franklin_16_54.json\n"
     ]
    }
   ],
   "source": [
    "final_text = object.refine_extracted_data(extracted_text, flatten = True)\n",
    "df = object.merge_and_select_data(final_text,select = True,map = True)\n",
    "Helper.quick_json_dump(df, object.JSONPATH)"
   ]
  },
  {
   "cell_type": "code",
   "execution_count": null,
   "metadata": {},
   "outputs": [],
   "source": [
    "\"\"\"GROWW MUTUAL FUND MAIN CODE\"\"\"\n",
    "\n",
    "amc_name = \"Groww Mutual Fund\"\n",
    "logging.info(f\"User Ran Fund Data of {amc_name}\")\n",
    "\n",
    "object = GROWW(PATHS_CONFIG,amc_name)\n",
    "path = mutual_fund[amc_name]\n",
    "\n",
    "path, df = object.check_and_highlight(path,5)"
   ]
  },
  {
   "cell_type": "code",
   "execution_count": null,
   "metadata": {},
   "outputs": [],
   "source": [
    "title = df.title.to_dict()\n",
    "title = { k:f\"groww {v}\" for k,v in title.items()}\n",
    "title"
   ]
  },
  {
   "cell_type": "code",
   "execution_count": 244,
   "metadata": {},
   "outputs": [],
   "source": [
    "# title = df.title.to_dict()\n",
    "pages = [13, 14, 15, 16, 17, 18, 19, 20, 21, 22, 23, 24, 26, 28, 29, 30, 32, 33, 34, 35, 36, 37, 38, 39, 40, 41, 42]"
   ]
  },
  {
   "cell_type": "code",
   "execution_count": null,
   "metadata": {},
   "outputs": [],
   "source": [
    "data = object.get_data(path,pages,title)\n",
    "extracted_text = object.get_generated_content(data)"
   ]
  },
  {
   "cell_type": "code",
   "execution_count": 247,
   "metadata": {},
   "outputs": [
    {
     "name": "stdout",
     "output_type": "stream",
     "text": [
      "\n",
      " JSON saved at C:\\Users\\Kaustubh.keny\\OneDrive - Cogencis Information Services Ltd\\Documents\\mywork-repo\\data\\output\\dump_groww_17_20.json\n"
     ]
    }
   ],
   "source": [
    "final_text = object.refine_extracted_data(extracted_text, flatten = True)\n",
    "df = object.merge_and_select_data(final_text,select = True, map = True)\n",
    "Helper.quick_json_dump(df,object.JSONPATH)"
   ]
  },
  {
   "cell_type": "code",
   "execution_count": null,
   "metadata": {},
   "outputs": [],
   "source": [
    "\"\"\"HDFC MUTUAL FUND\"\"\"\n",
    "amc_name = \"HDFC Mutual Fund\"\n",
    "logging.info(f\"User Ran Fund Data of {amc_name}\")\n",
    "\n",
    "object = HDFC(PATHS_CONFIG,amc_name)\n",
    "path = mutual_fund[amc_name]\n",
    "\n",
    "path, df = object.check_and_highlight(path,7)"
   ]
  },
  {
   "cell_type": "code",
   "execution_count": 175,
   "metadata": {},
   "outputs": [],
   "source": [
    "pages = [5, 6, 8, 10, 11, 12, 13, 14, 15, 16, 17, 19, 20, 21, 22, 23, 24, 26, 28, 29, 30, 31, 32, 33, 34, 35, 36, 37, 38, 39, 40, 41, 42, 43, 44, 45, 46, 47, 48, 49, 50]\n",
    "title= df.title.to_dict()"
   ]
  },
  {
   "cell_type": "code",
   "execution_count": 220,
   "metadata": {},
   "outputs": [],
   "source": [
    "object = HDFC(PATHS_CONFIG,amc_name)"
   ]
  },
  {
   "cell_type": "code",
   "execution_count": null,
   "metadata": {},
   "outputs": [],
   "source": [
    "data = object.get_data(path,pages,title)\n",
    "extracted_text = object.get_generated_content(data)"
   ]
  },
  {
   "cell_type": "code",
   "execution_count": 221,
   "metadata": {},
   "outputs": [
    {
     "name": "stdout",
     "output_type": "stream",
     "text": [
      "\n",
      " JSON saved at C:\\Users\\Kaustubh.keny\\OneDrive - Cogencis Information Services Ltd\\Documents\\mywork-repo\\data\\output\\dump_hdfc_13_07.json\n"
     ]
    }
   ],
   "source": [
    "final_text = object.refine_extracted_data(extracted_text,flatten = True)\n",
    "dfs = object.merge_and_select_data(final_text, select = True,map = True)\n",
    "Helper.quick_json_dump(dfs,object.JSONPATH)"
   ]
  },
  {
   "cell_type": "code",
   "execution_count": null,
   "metadata": {},
   "outputs": [],
   "source": [
    "\"\"\"HELIOS MF FILE MAIN CODE\"\"\" \n",
    "\n",
    "amc_name = 'Helios Mutual Fund'\n",
    "logging.info(f\"User Ran Fund Data of {amc_name}\")\n",
    "\n",
    "object = Helios(PATHS_CONFIG,amc_name)\n",
    "path = mutual_fund[amc_name]\n",
    "\n",
    "path, df = object.check_and_highlight(path,6)"
   ]
  },
  {
   "cell_type": "code",
   "execution_count": null,
   "metadata": {},
   "outputs": [],
   "source": [
    "title = df.title.to_dict()\n",
    "pages =   [2, 4, 6, 8,10]\n",
    "data = object.get_data(path,pages,title)\n",
    "extracted_text = object.get_generated_content(data)"
   ]
  },
  {
   "cell_type": "code",
   "execution_count": 157,
   "metadata": {},
   "outputs": [
    {
     "name": "stdout",
     "output_type": "stream",
     "text": [
      "\n",
      " JSON saved at C:\\Users\\rando\\OneDrive\\Documents\\mywork-repo\\data\\output\\dump_helios_23_56.json\n"
     ]
    }
   ],
   "source": [
    "object = Helios(PATHS_CONFIG,amc_name)\n",
    "final_text = object.refine_extracted_data(extracted_text, flatten=True)\n",
    "dfs = object.merge_and_select_data(final_text,select= True,map = True)\n",
    "Helper.quick_json_dump(dfs,object.JSONPATH)"
   ]
  },
  {
   "cell_type": "code",
   "execution_count": null,
   "metadata": {},
   "outputs": [],
   "source": [
    "\"\"\" INVESCO MF MAIN FILE CODE\"\"\" #Issue: two fund on same page\n",
    "\n",
    "amc_name = 'Invesco Mutual Fund'\n",
    "logging.info(f\"User Ran Fund Data of {amc_name}\")\n",
    "\n",
    "object = Invesco(PATHS_CONFIG,amc_name)\n",
    "path = mutual_fund[amc_name]\n",
    "\n",
    "path,df = object.check_and_highlight(path, 7)"
   ]
  },
  {
   "cell_type": "code",
   "execution_count": 271,
   "metadata": {},
   "outputs": [],
   "source": [
    "object = Invesco(PATHS_CONFIG,amc_name)"
   ]
  },
  {
   "cell_type": "code",
   "execution_count": null,
   "metadata": {},
   "outputs": [],
   "source": [
    "title = df.title.to_dict()\n",
    "pages = [4, 5, 6, 7, 8, 9, 10, 11, 12, 13, 14, 15, 16, 17, 18, 19, 21, 22, 23, 24, 25, 26, 27, 28, 29, 30, 31, 32, 33, 34, 35, 36, 37, 38, 39, 40, 41, 42, 43]\n",
    "data = object.get_data(path,pages,title)\n",
    "extracted_text = object.get_generated_content(data)\n"
   ]
  },
  {
   "cell_type": "code",
   "execution_count": null,
   "metadata": {},
   "outputs": [],
   "source": [
    "final_text = object.refine_extracted_data(extracted_text)\n",
    "df = object.merge_and_select_data(final_text,select = True,map = True)\n",
    "Helper.quick_json_dump(df, object.JSONPATH)"
   ]
  },
  {
   "cell_type": "code",
   "execution_count": 273,
   "metadata": {},
   "outputs": [
    {
     "name": "stdout",
     "output_type": "stream",
     "text": [
      "\n",
      "Doc Saved At: C:\\Users\\Kaustubh.keny\\OneDrive - Cogencis Information Services Ltd\\Documents\\mywork-repo\\data\\output\\pdf_report.xlsx\n",
      "\n",
      "Pages to Extract: [9, 10, 11, 12, 13, 14, 15, 16, 17, 18, 19, 20, 21, 22, 23, 24, 25, 26]\n"
     ]
    }
   ],
   "source": [
    "\"\"\"ITI MAIN FILE CODE\"\"\" #Issues: more data cleaning\n",
    "\n",
    "amc_name = 'ITI Mutual Fund'\n",
    "logging.info(f\"User Ran Fund Data of {amc_name}\")\n",
    "object = ITI(PATHS_CONFIG,amc_name)\n",
    "path = mutual_fund[amc_name]\n",
    "path, df = object.check_and_highlight(path, 7)"
   ]
  },
  {
   "cell_type": "code",
   "execution_count": null,
   "metadata": {},
   "outputs": [],
   "source": [
    "title = df.title.to_dict()\n",
    "pages = [9, 10, 11, 12, 13, 14, 15, 16, 17, 18, 19, 20, 21, 22, 23, 24, 25, 26]\n",
    "data = object.get_data(path,pages,title)\n",
    "extracted_text = object.get_generated_content(data)"
   ]
  },
  {
   "cell_type": "code",
   "execution_count": null,
   "metadata": {},
   "outputs": [],
   "source": [
    "final_text = object.refine_extracted_data(extracted_text,flatten = True)\n",
    "df= object.merge_and_select_data(final_text,select = True,map = True)\n",
    "Helper.quick_json_dump(df, object.JSONPATH)"
   ]
  },
  {
   "cell_type": "code",
   "execution_count": null,
   "metadata": {},
   "outputs": [],
   "source": [
    "\"\"\"JM FUND MAIN FILE CODE\"\"\" #objective on left, sometimes date is with header\n",
    "#overlapppp\n",
    "\n",
    "amc_name = 'JM Financial Mutual Fund'\n",
    "logging.info(f\"User Ran Fund Data of {amc_name}\")\n",
    "\n",
    "object = JMMF(PATHS_CONFIG,amc_name)\n",
    "path = mutual_fund[amc_name]\n",
    "\n",
    "path, df = object.check_and_highlight(path, 7)"
   ]
  },
  {
   "cell_type": "code",
   "execution_count": 278,
   "metadata": {},
   "outputs": [],
   "source": [
    "object = JMMF(PATHS_CONFIG,amc_name)"
   ]
  },
  {
   "cell_type": "code",
   "execution_count": null,
   "metadata": {},
   "outputs": [],
   "source": [
    "title = df.title.to_dict()\n",
    "pages = [18, 19, 20, 21, 22, 23, 24, 25, 26, 27, 28, 29, 30, 31, 32, 33]\n",
    "data = object.get_data(path,pages,title)\n",
    "extracted_text = object.get_generated_content(data)\n",
    "final_text = object.refine_extracted_data(extracted_text)\n",
    "Helper.quick_json_dump(final_text, object.JSONPATH)"
   ]
  },
  {
   "cell_type": "code",
   "execution_count": null,
   "metadata": {},
   "outputs": [],
   "source": [
    "\"\"\"KOTAK FUND MAIN CODE\"\"\" #Issue: 1 or more fund on same page, # title overlap the content\n",
    "\n",
    "amc_name = 'Kotak Mahindra Mutual Fund'\n",
    "logging.info(f\"User Ran Fund Data of {amc_name}\")\n",
    "\n",
    "object = Kotak(PATHS_CONFIG,amc_name)\n",
    "path = mutual_fund[amc_name]\n",
    "\n",
    "path, df = object.check_and_highlight(path, 7)\n",
    "\n",
    "title = df.title.to_dict()\n",
    "pages = [5, 6, 7, 8, 9, 10, 11, 12, 13, 15, 16, 17, 18, 19, 20, 21, 22, 23, 24, 25, 26, 27, 28, 29, 30, 32, 34, 36, 37, 38, 40, 41, 43, 44, 46, 48, 49, 50, 52, 54, 55, 56, 70, 71, 72, 73, 74, 75, 76, 77, 78, 79, 80, 81, 82, 83, 84, 85, 86, 87, 88, 89, 90, 91, 92, 93, 94, 95, 96, 97, 98, 99, 100, 101, 102, 103, 104, 105, 106, 107]\n",
    "data = object.get_data_via_clip(path,pages,title)\n",
    "extracted_text = object.get_generated_content(data)\n",
    "final_text = object.refine_extracted_data(extracted_text)\n",
    "Helper.quick_json_dump(final_text, object.JSONPATH)"
   ]
  },
  {
   "cell_type": "code",
   "execution_count": null,
   "metadata": {},
   "outputs": [],
   "source": [
    "\"\"\"LIC FUND MAIN CODE\"\"\" #issue: OCR for title bcz they're images\n",
    "amc_name = 'LIC Mutual Fund'\n",
    "logging.info(f\"User Ran Fund Data of {amc_name}\")\n",
    "\n",
    "object = LIC(PATHS_CONFIG,amc_name)\n",
    "path = mutual_fund[amc_name]\n",
    "path,df = object.check_and_highlight(path, 7)\n",
    "# title = object.get_proper_fund_names(path) #use generated in try.ipynb\n",
    "# pages = list(title.keys())"
   ]
  },
  {
   "cell_type": "code",
   "execution_count": null,
   "metadata": {},
   "outputs": [],
   "source": [
    "data = object.get_data(path,pages,title)\n",
    "extracted_text = object.get_generated_content(data)"
   ]
  },
  {
   "cell_type": "code",
   "execution_count": null,
   "metadata": {},
   "outputs": [],
   "source": [
    "final_text = object.refine_extracted_data(extracted_text, flatten = True)\n",
    "df = object.merge_and_select_data(final_text,select = True, map = True)\n",
    "Helper.quick_json_dump(df, object.JSONPATH)"
   ]
  },
  {
   "cell_type": "code",
   "execution_count": null,
   "metadata": {},
   "outputs": [],
   "source": [
    "\"\"\"MAHINDRA MANULIFE MAIN CODE\"\"\" #incrase pages count\n",
    "\n",
    "amc_name = 'Mahindra Manulife Mutual Fund'\n",
    "logging.info(f\"User Ran Fund Data of {amc_name}\")\n",
    "\n",
    "object = MahindraManu(PATHS_CONFIG,amc_name)\n",
    "path = mutual_fund[amc_name]\n",
    "\n",
    "path,df = object.check_and_highlight(path, 7)"
   ]
  },
  {
   "cell_type": "code",
   "execution_count": 7,
   "metadata": {},
   "outputs": [],
   "source": [
    "title = object.get_proper_fund_names(path)\n",
    "pages = list(title.keys())"
   ]
  },
  {
   "cell_type": "code",
   "execution_count": null,
   "metadata": {},
   "outputs": [],
   "source": [
    "data = object.get_data(path,pages,title)\n",
    "extracted_text = object.get_generated_content(data)"
   ]
  },
  {
   "cell_type": "code",
   "execution_count": 79,
   "metadata": {},
   "outputs": [
    {
     "name": "stdout",
     "output_type": "stream",
     "text": [
      "\n",
      " JSON saved at C:\\Users\\rando\\OneDrive\\Documents\\mywork-repo\\data\\output\\dump_Mahindra_22_12.json\n"
     ]
    }
   ],
   "source": [
    "Helper.quick_json_dump(dfs, object.JSONPATH)"
   ]
  },
  {
   "cell_type": "code",
   "execution_count": null,
   "metadata": {},
   "outputs": [
    {
     "name": "stdout",
     "output_type": "stream",
     "text": [
      "\n",
      " JSON saved at C:\\Users\\rando\\OneDrive\\Documents\\mywork-repo\\data\\output\\dump_Mahindra_22_12.json\n"
     ]
    }
   ],
   "source": [
    "object = MahindraManu(PATHS_CONFIG,amc_name)\n",
    "final_text = object.refine_extracted_data(extracted_text, flatten =True)\n",
    "dfs = object.merge_and_select_data(final_text,select = True,map = True)\n",
    "Helper.quick_json_dump(dfs, object.JSONPATH)"
   ]
  },
  {
   "cell_type": "code",
   "execution_count": 158,
   "metadata": {},
   "outputs": [
    {
     "name": "stdout",
     "output_type": "stream",
     "text": [
      "motilal oswal nasdaq 100 fund of fund\n",
      "motilal oswal nifty 500 index fund\n",
      "motilal oswal nifty midcap 150 index fund\n",
      "motilal oswal nifty smallcap 250 index fund\n",
      "motilal oswal nifty bank index fund\n",
      "motilal oswal nifty 50 index fund\n",
      "motilal oswal nifty next 50 index fund\n",
      "motilal oswal s&p 500 index fund\n",
      "motilal oswal nifty 50 etf\n",
      "motilal oswal nifty midcap 100 etf\n",
      "motilal oswal nasdaq 100 etf\n",
      "motilal oswal nifty 5 year benchmark g-sec etf\n",
      "motilal oswal 5 year g-sec fund of fund\n",
      "motilal oswal nasdaq q 50 etf\n",
      "motilal oswal nifty 200 momentum 30 etf\n",
      "motilal oswal nifty 200 momentum 30 index fund\n",
      "motilal oswal bse low volatility index fund\n",
      "motilal oswal bse low volatility etf\n",
      "motilal oswal bse financials ex bank 30 index fund\n",
      "motilal oswal bse healthcare etf\n",
      "motilal oswal bse enhanced value index fund\n",
      "motilal oswal bse enhanced value etf\n",
      "motilal oswal bse quality index fund\n",
      "motilal oswal bse quality etf\n",
      "motilal oswal gold and silver etfs fund of funds\n",
      "motilal oswal nifty microcap 250 index fund\n",
      "motilal oswal developed market ex us etf's fund of funds\n",
      "motilal oswal nifty 500 etf\n",
      "motilal oswal nifty realty etf\n",
      "motilal oswal nifty smallcap 250 etf\n",
      "motilal oswal nifty india defence index fund\n",
      "motilal oswal nifty india defence etf\n",
      "motilal oswal nifty 500 momentum 50 index fund\n",
      "motilal oswal nifty 500 momentum 50 etf\n",
      "motilal oswal nifty midsmall healthcare index fund\n",
      "motilal oswal nifty midsmall india consumption index fund\n",
      "motilal oswal nifty midsmall financial services index fund\n",
      "motilal oswal nifty midsmall it and telecom index fund\n",
      "motilal oswal nifty capital market index fund\n",
      "\n",
      "Doc Saved At: C:\\Users\\rando\\OneDrive\\Documents\\mywork-repo\\data\\output\\pdf_report.xlsx\n",
      "\n",
      "Pages to Extract: [3, 4, 5, 6, 7, 8, 9, 10, 11, 12, 13, 14, 15, 18, 19, 20, 21, 22, 23, 24, 25, 26, 27, 28, 29, 30, 31, 32, 33, 34, 35, 36, 37, 38, 39, 40, 41, 42, 43]\n"
     ]
    }
   ],
   "source": [
    "\"\"\"MOTILAL OSWAL MAIN CODE FILE\"\"\" #Fund Manager Regex\n",
    "\n",
    "amc_name = 'Motilal Oswal Mutual Fund'\n",
    "logging.info(f\"User Ran Fund Data of {amc_name}\")\n",
    "\n",
    "object = MotilalOswal(PATHS_CONFIG,amc_name)\n",
    "path = mutual_fund[amc_name]\n",
    "\n",
    "path,df= object.check_and_highlight(path, 7)"
   ]
  },
  {
   "cell_type": "code",
   "execution_count": 159,
   "metadata": {},
   "outputs": [],
   "source": [
    "pages = [3, 4, 5, 6, 7, 8, 9, 10, 11, 12, 13, 14, 15, 18, 19, 20, 21, 22, 23, 24, 25, 26, 27, 28, 29, 30, 31, 32, 33, 34, 35, 36, 37, 38, 39, 40, 41, 42, 43]\n",
    "title = df.title.to_dict()"
   ]
  },
  {
   "cell_type": "code",
   "execution_count": null,
   "metadata": {},
   "outputs": [],
   "source": [
    "data = object.get_data(path,pages,title)\n",
    "extracted_text = object.get_generated_content(data)"
   ]
  },
  {
   "cell_type": "code",
   "execution_count": 170,
   "metadata": {},
   "outputs": [
    {
     "name": "stderr",
     "output_type": "stream",
     "text": [
      "ERROR - Uncaught Exception\n",
      "Traceback (most recent call last):\n",
      "  File \"c:\\Users\\rando\\OneDrive\\Documents\\mywork-repo\\envPDF\\Lib\\site-packages\\IPython\\core\\interactiveshell.py\", line 3577, in run_code\n",
      "    exec(code_obj, self.user_global_ns, self.user_ns)\n",
      "    ~~~~^^^^^^^^^^^^^^^^^^^^^^^^^^^^^^^^^^^^^^^^^^^^^\n",
      "  File \"C:\\Users\\rando\\AppData\\Local\\Temp\\ipykernel_2604\\2642057208.py\", line 3, in <module>\n",
      "    dfs = object.merge_and_select_data(final_text,select = True, map = True)\n",
      "  File \"c:\\Users\\rando\\OneDrive\\Documents\\mywork-repo\\app\\parse_pdf.py\", line 665, in merge_and_select_data\n",
      "    for metric_key,metric_value in temp['metrics'].items():\n",
      "                                   ^^^^^^^^^^^^^^^^^^^^^\n",
      "AttributeError: 'str' object has no attribute 'items'\n"
     ]
    },
    {
     "ename": "AttributeError",
     "evalue": "'str' object has no attribute 'items'",
     "output_type": "error",
     "traceback": [
      "\u001b[1;31m---------------------------------------------------------------------------\u001b[0m",
      "\u001b[1;31mAttributeError\u001b[0m                            Traceback (most recent call last)",
      "Cell \u001b[1;32mIn[170], line 3\u001b[0m\n\u001b[0;32m      1\u001b[0m \u001b[38;5;28mobject\u001b[39m \u001b[38;5;241m=\u001b[39m MotilalOswal(PATHS_CONFIG,amc_name)\n\u001b[0;32m      2\u001b[0m final_text \u001b[38;5;241m=\u001b[39m \u001b[38;5;28mobject\u001b[39m\u001b[38;5;241m.\u001b[39mrefine_extracted_data(extracted_text, flatten\u001b[38;5;241m=\u001b[39m \u001b[38;5;28;01mTrue\u001b[39;00m)\n\u001b[1;32m----> 3\u001b[0m dfs \u001b[38;5;241m=\u001b[39m \u001b[38;5;28;43mobject\u001b[39;49m\u001b[38;5;241;43m.\u001b[39;49m\u001b[43mmerge_and_select_data\u001b[49m\u001b[43m(\u001b[49m\u001b[43mfinal_text\u001b[49m\u001b[43m,\u001b[49m\u001b[43mselect\u001b[49m\u001b[43m \u001b[49m\u001b[38;5;241;43m=\u001b[39;49m\u001b[43m \u001b[49m\u001b[38;5;28;43;01mTrue\u001b[39;49;00m\u001b[43m,\u001b[49m\u001b[43m \u001b[49m\u001b[38;5;28;43mmap\u001b[39;49m\u001b[43m \u001b[49m\u001b[38;5;241;43m=\u001b[39;49m\u001b[43m \u001b[49m\u001b[38;5;28;43;01mTrue\u001b[39;49;00m\u001b[43m)\u001b[49m\n\u001b[0;32m      4\u001b[0m Helper\u001b[38;5;241m.\u001b[39mquick_json_dump(dfs, \u001b[38;5;28mobject\u001b[39m\u001b[38;5;241m.\u001b[39mJSONPATH)\n",
      "File \u001b[1;32mc:\\Users\\rando\\OneDrive\\Documents\\mywork-repo\\app\\parse_pdf.py:665\u001b[0m, in \u001b[0;36mReader.merge_and_select_data\u001b[1;34m(self, data, select, map, special)\u001b[0m\n\u001b[0;32m    663\u001b[0m \u001b[38;5;66;03m#metrics convert\u001b[39;00m\n\u001b[0;32m    664\u001b[0m new_metrics \u001b[38;5;241m=\u001b[39m {}\n\u001b[1;32m--> 665\u001b[0m \u001b[38;5;28;01mfor\u001b[39;00m metric_key,metric_value \u001b[38;5;129;01min\u001b[39;00m \u001b[43mtemp\u001b[49m\u001b[43m[\u001b[49m\u001b[38;5;124;43m'\u001b[39;49m\u001b[38;5;124;43mmetrics\u001b[39;49m\u001b[38;5;124;43m'\u001b[39;49m\u001b[43m]\u001b[49m\u001b[38;5;241;43m.\u001b[39;49m\u001b[43mitems\u001b[49m():\n\u001b[0;32m    666\u001b[0m     new_key \u001b[38;5;241m=\u001b[39m regex\u001b[38;5;241m.\u001b[39m_map_metric_keys_to_dict(metric_key) \u001b[38;5;129;01mor\u001b[39;00m metric_key\n\u001b[0;32m    667\u001b[0m     new_metrics[new_key] \u001b[38;5;241m=\u001b[39m metric_value\n",
      "\u001b[1;31mAttributeError\u001b[0m: 'str' object has no attribute 'items'"
     ]
    }
   ],
   "source": [
    "object = MotilalOswal(PATHS_CONFIG,amc_name)\n",
    "final_text = object.refine_extracted_data(extracted_text, flatten= True)\n",
    "dfs = object.merge_and_select_data(final_text,select = True, map = True)\n",
    "Helper.quick_json_dump(dfs, object.JSONPATH)"
   ]
  },
  {
   "cell_type": "code",
   "execution_count": null,
   "metadata": {},
   "outputs": [],
   "source": [
    "\"\"\"MIRAE MAIN FILE CODE\"\"\"\n",
    "\n",
    "amc_name = 'Mirae Asset Mutual Fund'\n",
    "logging.info(f\"User Ran Fund Data of {amc_name}\")\n",
    "\n",
    "object = MIRAE(PATHS_CONFIG,amc_name)\n",
    "path = mutual_fund[amc_name]\n",
    "\n",
    "path, df = object.check_and_highlight(path, 7)"
   ]
  },
  {
   "cell_type": "code",
   "execution_count": 17,
   "metadata": {},
   "outputs": [],
   "source": [
    "title = object.get_proper_fund_names(path)\n",
    "pages = list(title.keys())"
   ]
  },
  {
   "cell_type": "code",
   "execution_count": 70,
   "metadata": {},
   "outputs": [],
   "source": [
    "object = MIRAE(PATHS_CONFIG,amc_name)"
   ]
  },
  {
   "cell_type": "code",
   "execution_count": null,
   "metadata": {},
   "outputs": [],
   "source": [
    "data = object.get_data(path,pages,title)\n",
    "extracted_text = object.get_generated_content(data)"
   ]
  },
  {
   "cell_type": "code",
   "execution_count": 71,
   "metadata": {},
   "outputs": [
    {
     "name": "stdout",
     "output_type": "stream",
     "text": [
      "\n",
      " JSON saved at C:\\Users\\rando\\OneDrive\\Documents\\mywork-repo\\data\\output\\dump_MIRAE_23_04.json\n"
     ]
    }
   ],
   "source": [
    "final_text = object.refine_extracted_data(extracted_text, flatten=True)\n",
    "dfs = object.merge_and_select_data(final_text,select = True, map = True)\n",
    "Helper.quick_json_dump(dfs, object.JSONPATH)"
   ]
  },
  {
   "cell_type": "code",
   "execution_count": 83,
   "metadata": {},
   "outputs": [
    {
     "name": "stdout",
     "output_type": "stream",
     "text": [
      "navi niy 50 index fund\n",
      "navi us total stock market\n",
      "navi nasdaq 100\n",
      "navi niy next 50\n",
      "navi niy bank\n",
      "navi niy midcap 150\n",
      "navi niy india\n",
      "navi elss tax saver\n",
      "navi bse sensex\n",
      "navi niy it index fund\n",
      "navi niy 500 multicap 50:25:25\n",
      "\n",
      "Doc Saved At: C:\\Users\\rando\\OneDrive\\Documents\\mywork-repo\\data\\output\\pdf_report.xlsx\n",
      "\n",
      "Pages to Extract: [2, 4, 5, 6, 8, 10, 13, 16, 18, 20, 22]\n"
     ]
    }
   ],
   "source": [
    "\"\"\"NAVI MAIN FILE CODE\"\"\" #Issue: Left and right\n",
    "\n",
    "amc_name = 'Navi Mutual Fund'\n",
    "logging.info(f\"User Ran Fund Data of {amc_name}\")\n",
    "\n",
    "object = NAVI(PATHS_CONFIG,amc_name)\n",
    "path = mutual_fund[amc_name]\n",
    "\n",
    "path,df = object.check_and_highlight(path,5)"
   ]
  },
  {
   "cell_type": "code",
   "execution_count": 84,
   "metadata": {},
   "outputs": [],
   "source": [
    "title = object.get_proper_fund_names(path)\n",
    "title.pop(15)\n",
    "title.pop(21)\n",
    "pages = list(title.keys()) #pop 15,21"
   ]
  },
  {
   "cell_type": "code",
   "execution_count": null,
   "metadata": {},
   "outputs": [],
   "source": [
    "data = object.get_data(path,pages,title)\n",
    "extracted_text = object.get_generated_content(data)"
   ]
  },
  {
   "cell_type": "code",
   "execution_count": 86,
   "metadata": {},
   "outputs": [
    {
     "name": "stdout",
     "output_type": "stream",
     "text": [
      "\n",
      " JSON saved at C:\\Users\\rando\\OneDrive\\Documents\\mywork-repo\\data\\output\\dump_Navi_22_31.json\n"
     ]
    }
   ],
   "source": [
    "final_text = object.refine_extracted_data(extracted_text, flatten = True)\n",
    "dfs = object.merge_and_select_data(final_text,select = True,map = True)\n",
    "Helper.quick_json_dump(dfs, object.JSONPATH)"
   ]
  },
  {
   "cell_type": "code",
   "execution_count": null,
   "metadata": {},
   "outputs": [],
   "source": [
    "\"NIPPON MAIN FILE CODE\"\n",
    "amc_name = 'Nippon India Mutual Fund'\n",
    "logging.info(f\"User Ran Fund Data of {amc_name}\")\n",
    "\n",
    "object = Nippon(PATHS_CONFIG,amc_name)\n",
    "path = mutual_fund[amc_name]\n",
    "path, df = object.check_and_highlight(path,7)"
   ]
  },
  {
   "cell_type": "code",
   "execution_count": 268,
   "metadata": {},
   "outputs": [],
   "source": [
    "object = Nippon(PATHS_CONFIG,amc_name)"
   ]
  },
  {
   "cell_type": "code",
   "execution_count": null,
   "metadata": {},
   "outputs": [],
   "source": [
    "pages = [4, 5, 6, 7, 8, 9, 10, 11, 12, 13, 14, 15, 16, 17, 18, 19, 20, 21, 22, 23, 24, 25, 26, 27, 28, 29, 30, 31, 32, 33, 34, 35, 36, 37, 38, 39, 40, 41, 42, 43, 44, 45, 46, 47, 48, 53, 54, 55, 56, 57, 58, 59, 62, 63, 64, 65, 66, 67, 68, 69, 70, 71, 72, 73, 74, 75, 76, 77, 78, 79, 81, 82, 83, 85, 86, 87, 88, 89, 90, 91, 92]\n",
    "title = df.title.to_dict()\n",
    "data = object.get_data(path,pages,title)\n",
    "extracted_text = object.get_generated_content(data)"
   ]
  },
  {
   "cell_type": "code",
   "execution_count": 82,
   "metadata": {},
   "outputs": [
    {
     "name": "stdout",
     "output_type": "stream",
     "text": [
      "\n",
      " JSON saved at C:\\Users\\rando\\OneDrive\\Documents\\mywork-repo\\data\\output\\dump_nippon_22_28.json\n"
     ]
    }
   ],
   "source": [
    "final_text = object.refine_extracted_data(extracted_text, flatten = True)\n",
    "dfs = object.merge_and_select_data(final_text,select = True, map = True)\n",
    "Helper.quick_json_dump(dfs,object.JSONPATH)"
   ]
  },
  {
   "cell_type": "code",
   "execution_count": null,
   "metadata": {},
   "outputs": [],
   "source": [
    "\"\"\"NJMF MAIN CODE FILE\"\"\"\n",
    "\n",
    "amc_name = 'NJ Mutual Fund'\n",
    "logging.info(f\"User Ran Fund Data of {amc_name}\")\n",
    "\n",
    "object = NJMF(PATHS_CONFIG,amc_name)\n",
    "path = mutual_fund[amc_name]\n",
    "path,df = object.check_and_highlight(path, 7)"
   ]
  },
  {
   "cell_type": "code",
   "execution_count": 89,
   "metadata": {},
   "outputs": [],
   "source": [
    "pages = [1, 3, 5, 7, 9]\n",
    "title = df.title.to_dict()"
   ]
  },
  {
   "cell_type": "code",
   "execution_count": 130,
   "metadata": {},
   "outputs": [],
   "source": [
    "object = NJMF(PATHS_CONFIG,amc_name)"
   ]
  },
  {
   "cell_type": "code",
   "execution_count": null,
   "metadata": {},
   "outputs": [],
   "source": [
    "data = object.get_data(path,pages,title)\n",
    "extracted_text = object.get_generated_content(data)"
   ]
  },
  {
   "cell_type": "code",
   "execution_count": null,
   "metadata": {},
   "outputs": [],
   "source": [
    "final_text = object.refine_extracted_data(extracted_text,flatten = True)\n",
    "dfs = object.merge_and_select_data(final_text,select = True, map = True)\n",
    "Helper.quick_json_dump(dfs, object.JSONPATH)"
   ]
  },
  {
   "cell_type": "code",
   "execution_count": null,
   "metadata": {},
   "outputs": [],
   "source": [
    "\"\"\"OlD BriDGE MAIN CODE\"\"\"\n",
    "amc_name = \"Old Bridge Mutual Fund\"\n",
    "logging.info(f\"User Ran Fund Data of {amc_name}\")\n",
    "\n",
    "object = OldBridge(PATHS_CONFIG,amc_name)\n",
    "path = mutual_fund[amc_name]\n",
    "\n",
    "path,df = object.check_and_highlight(path, 7)\n",
    "title = {}\n",
    "for key, value in df.title.to_dict().items():\n",
    "    title[key] = f\"Old Bridge {value}\" if value.strip() else \"\"\n",
    "pages = [5]\n",
    "data = object.get_data_via_clip(path,pages,title)\n",
    "extracted_text = object.get_generated_content(data)\n",
    "final_text = object.refine_extracted_data(extracted_text)\n",
    "Helper.quick_json_dump(final_text, object.JSONPATH)"
   ]
  },
  {
   "cell_type": "code",
   "execution_count": null,
   "metadata": {},
   "outputs": [],
   "source": [
    "\"\"\"PGIM MAIN FILE CODE\"\"\" #ISSUES: Clean data further\n",
    "\n",
    "amc_name = \"PGIM India Mutual Fund\"\n",
    "logging.info(f\"User Ran Fund Data of {amc_name}\")\n",
    "\n",
    "object = PGIM(PATHS_CONFIG,amc_name)\n",
    "path = mutual_fund[amc_name]\n",
    "\n",
    "path,df = object.check_and_highlight(path, 7)"
   ]
  },
  {
   "cell_type": "code",
   "execution_count": 69,
   "metadata": {},
   "outputs": [],
   "source": [
    "title = object.get_proper_fund_names(path)\n",
    "pages = list(title.keys())"
   ]
  },
  {
   "cell_type": "code",
   "execution_count": null,
   "metadata": {},
   "outputs": [],
   "source": [
    "data = object.get_data(path, pages,title)\n",
    "extracted_text = object.get_generated_content(data)"
   ]
  },
  {
   "cell_type": "code",
   "execution_count": null,
   "metadata": {},
   "outputs": [],
   "source": [
    "final_text = object.refine_extracted_data(extracted_text, flatten = True)\n",
    "dfs = object.merge_and_select_data(final_text,select = True,map= True)\n",
    "Helper.quick_json_dump(dfs, object.JSONPATH)"
   ]
  },
  {
   "cell_type": "code",
   "execution_count": null,
   "metadata": {},
   "outputs": [],
   "source": [
    "\"\"\"QUANT MAIN CODE FILE\"\"\"\n",
    "\n",
    "amc_name = 'Quant Mutual Fund'\n",
    "logging.info(f\"User Ran Fund Data of {amc_name}\")\n",
    "\n",
    "object = QuantMF(PATHS_CONFIG, amc_name)\n",
    "path = mutual_fund[amc_name]\n",
    "\n",
    "path,df = object.check_and_highlight(path, 5)"
   ]
  },
  {
   "cell_type": "code",
   "execution_count": 80,
   "metadata": {},
   "outputs": [],
   "source": [
    "title = df.title.to_dict()\n",
    "pages = [12, 14, 16, 18, 20, 22, 24, 26, 28, 30, 32, 34, 36, 38, 40, 42, 44, 46, 48, 50, 52, 54, 56, 58,59, 61, 63, 65]"
   ]
  },
  {
   "cell_type": "code",
   "execution_count": null,
   "metadata": {},
   "outputs": [],
   "source": [
    "data = object.get_data(path, pages,title)\n",
    "extracted_text = object.get_generated_content(data)"
   ]
  },
  {
   "cell_type": "code",
   "execution_count": 102,
   "metadata": {},
   "outputs": [
    {
     "name": "stdout",
     "output_type": "stream",
     "text": [
      "\n",
      " JSON saved at C:\\Users\\rando\\OneDrive\\Documents\\mywork-repo\\data\\output\\dump_quant_23_46.json\n"
     ]
    }
   ],
   "source": [
    "final_text = object.refine_extracted_data(extracted_text, flatten = True)\n",
    "dfs = object.merge_and_select_data(final_text,select = True,map = True)\n",
    "Helper.quick_json_dump(dfs, object.JSONPATH)"
   ]
  },
  {
   "cell_type": "code",
   "execution_count": null,
   "metadata": {},
   "outputs": [],
   "source": [
    "\"\"\"QUANTUM MAIN FILE CODE\"\"\" #ISSUES: Clean data further\n",
    "\n",
    "amc_name = \"Quantum Mutual Fund\"\n",
    "logging.info(f\"User Ran Fund Data of {amc_name}\")\n",
    "\n",
    "object = Quantum(PATHS_CONFIG,amc_name)\n",
    "path = mutual_fund[amc_name]\n",
    "\n",
    "path,df = object.check_and_highlight(path, 7)"
   ]
  },
  {
   "cell_type": "code",
   "execution_count": null,
   "metadata": {},
   "outputs": [],
   "source": [
    "title =object.get_proper_fund_names(path)\n",
    "pages = list(title.keys())\n",
    "data = object.get_data(path, pages,title)\n",
    "extracted_text = object.get_generated_content(data)\n",
    "final_text = object.refine_extracted_data(extracted_text, flatten = True)\n",
    "dfs = object.merge_and_select_data(final_text,select = True, map = True)\n",
    "Helper.quick_json_dump(dfs, object.JSONPATH)"
   ]
  },
  {
   "cell_type": "code",
   "execution_count": null,
   "metadata": {},
   "outputs": [],
   "source": [
    "\"\"\"SAMCO PDF FILE MAIN CODE\"\"\" \n",
    "\n",
    "amc_name = 'Samco Mutual Fund'\n",
    "logging.info(f\"User Ran Fund Data of {amc_name}\")\n",
    "\n",
    "object = Samco(PATHS_CONFIG,amc_name)\n",
    "path = mutual_fund[amc_name]\n",
    "\n",
    "path, df = object.check_and_highlight(path, 7)\n",
    "title = df.title.to_dict()\n",
    "pages =  [3, 5, 7, 9, 11, 13, 15, 17, 18]\n"
   ]
  },
  {
   "cell_type": "code",
   "execution_count": null,
   "metadata": {},
   "outputs": [],
   "source": [
    "data = object.get_data(path,pages,title)\n",
    "extracted_text = object.get_generated_content(data)"
   ]
  },
  {
   "cell_type": "code",
   "execution_count": null,
   "metadata": {},
   "outputs": [],
   "source": [
    "final_text = object.refine_extracted_data(extracted_text, flatten=True)\n",
    "df = object.merge_and_select_data(final_text, select = True,map = True)\n",
    "Helper.quick_json_dump(final_text,object.JSONPATH)"
   ]
  },
  {
   "cell_type": "code",
   "execution_count": null,
   "metadata": {},
   "outputs": [],
   "source": [
    "\"\"\"SBI PDF FILE MAIN CODE\"\"\" \n",
    "\n",
    "amc_name = 'SBI Mutual Fund'\n",
    "logging.info(f\"User Ran Fund Data of {amc_name}\")\n",
    "\n",
    "object = SBI(PATHS_CONFIG,amc_name)\n",
    "path = mutual_fund[amc_name]\n",
    "\n",
    "path, df = object.check_and_highlight(path, 7)"
   ]
  },
  {
   "cell_type": "code",
   "execution_count": 269,
   "metadata": {},
   "outputs": [],
   "source": [
    "title = df.title.to_dict()\n",
    "pages =  [6, 7, 8, 9, 10, 11, 12, 13, 14, 15, 16, 17, 18, 19, 20, 21, 22, 23, 24, 25, 26, 27, 28, 29, 30, 31, 32, 33, 34, 36, 37, 38, 40, 41, 42, 48, 49, 50, 51, 52, 53, 54, 55, 56, 57, 58, 59, 60, 61, 62, 63, 64, 65, 66, 67, 68, 70, 75, 76, 80]"
   ]
  },
  {
   "cell_type": "code",
   "execution_count": 331,
   "metadata": {},
   "outputs": [],
   "source": [
    "object = SBI(PATHS_CONFIG,amc_name)"
   ]
  },
  {
   "cell_type": "code",
   "execution_count": null,
   "metadata": {},
   "outputs": [],
   "source": [
    "data = object.get_data(path,pages,title)\n",
    "extracted_text = object.get_generated_content(data)"
   ]
  },
  {
   "cell_type": "code",
   "execution_count": 333,
   "metadata": {},
   "outputs": [
    {
     "name": "stdout",
     "output_type": "stream",
     "text": [
      "\n",
      " JSON saved at C:\\Users\\Kaustubh.keny\\Projects\\office-work\\mywork-repo\\data\\output\\dump_sbi_18_28.json\n"
     ]
    }
   ],
   "source": [
    "final_text = object.refine_extracted_data(extracted_text,flatten = True)\n",
    "dfs = object.merge_and_select_data(final_text,select = True,map = True)\n",
    "Helper.quick_json_dump(dfs,object.JSONPATH)"
   ]
  },
  {
   "cell_type": "code",
   "execution_count": 337,
   "metadata": {},
   "outputs": [
    {
     "name": "stdout",
     "output_type": "stream",
     "text": [
      "Mr. Dinesh Balachandran  Mr. Pradeep Kesavan (overseas investments) Managing Since Mr. Dinesh May2018 Mr. Pradeep Kesavan Dec2023 Total Experience Mr. Dinesh Over 21 Years Mr. Pradeep Kesavan Over 18 years\n",
      "Mr. R. Srinivasan, Mr. Mohan Lal  Mr. Pradeep Kesavan (overseas investments) Managing Since Mr. R. Srinivasan Nov  2013 Mr. Mohan Lal May  2024 Mr. Pradeep Kesavan Dec2023 Total Experience Mr. R. Srinivasan Over 30 years Mr. Mohan Lal Over 17 years Mr. Pradeep Kesavan Over 18 years\n",
      "Ms. Sukanya Ghosh  Mr. Pradeep Kesavan (overseas investments) Managing Since Dec 2024 Total Experience Ms. Sukanya Ghosh Over 10 years Mr. Pradeep Kesavan Over 18 years\n",
      "Mr. Saurabh Pant  Mr. Pradeep Kesavan (overseas investments) Managing Since Mr. Saurabh Pant (w.e.f. Apr 2024) Mr. Pradeep Kesavan Dec2023 Total Experience Mr. Saurabh Pant Over 16 years Mr. Pradeep Kesavan Over 18 years\n",
      "Mr. Rohit Shimpi  Mr. Pradeep Kesavan (overseas investments) Managing Since Mr. Rohit Shimpi Jan2022 Mr. Pradeep Kesavan Dec2023 Total Experience Mr. Rohit Shimpi Over 18 years Mr. Pradeep Kesavan Over 18 years\n",
      "Mr. Dinesh Balachandran, Mr. Anup Upadhyay (Co fund Manager)  Mr. Pradeep Kesavan (overseas investments) Managing Since Mr. Dinesh Balachandran (w.e.f. Dec 2024) Mr. Anup Upadhyay (w.e.f. Dec 2024) Mr. Pradeep Kesavan Dec2023 Total Experience Mr. Dinesh Balachandran Over 21 years Mr. Anup Upadhyay Over 14 years Mr. Pradeep Kesavan Over 18 years\n",
      "Mr. R. Srinivasan, Mr. Saurabh Pant  Mr. Pradeep Kesavan (overseas investments) Managing Since Mr. R. Srinivasan March2022 Mr. Saurabh Pant (w.e.f. April 2024) Mr. Pradeep Kesavan Dec2023 Total Experience Mr. R. Srinivasan Over 30 years Mr. Saurabh Pant Over 16 years Mr. Pradeep Kesavan Over 18 years\n",
      "Mr. Rohit Shimpi  Mr. Pradeep Kesavan (overseas investments) Managing Since Mr. Rohit Shimpi March2023 Mr. Pradeep Kesavan Dec2023 Total Experience Mr. Rohit Shimpi Over 18 years Mr. Pradeep Kesavan Over 18 years\n",
      "Mr. Saurabh Pant  Mr. Pradeep Kesavan (overseas investments) Managing Since Mr. Saurabh Pant Sep2016 Mr. Pradeep Kesavan Dec2023 Total Experience Mr. Saurabh Pant Over 16 years Mr. Pradeep Kesavan Over 18 years\n",
      "Mr. R. Srinivasan  Mr. Pradeep Kesavan (overseas investments) Managing Since Mr. R. Srinivasan May2009 Mr. Pradeep Kesavan Dec2023  Total Experience Mr. R. Srinivasan Over 30 years Mr. Pradeep Kesavan Over 18 years\n",
      "Mr. Bhavin Vithlani  Mr. Pradeep Kesavan (overseas investments) Managing Since Mr. Bhavin Vithlani (w.e.f. April 2024) Mr. Pradeep Kesavan (w.e.f. Dec 2023) Total Experience Mr. Bhavin Vithlani Over 19 years Mr. Pradeep Kesavan Over 18 years\n",
      "Mr. Tanmaya Desai  Mr. Pradeep Kesavan (overseas investments) Managing Since Mr. Tanmaya Desai (w.e.f. Feb 2025) Mr. Pradeep Kesavan (w.e.f. Dec 2023) Total Experience Mr. Tanmaya Desai Over 15 years Mr. Pradeep Kesavan Over 18 years\n",
      "Mr. Dinesh Balachandran Managing Since Sep2016 Total Experience Over 21 years\n",
      "Mr. Tanmaya Desai  Mr. Pradeep Kesavan (overseas investments) Managing Since Mr. Tanmaya Desai Jun2011 Mr. Pradeep Kesavan Dec2023 Total Experience Mr. Tanmaya Desai Over 15 years Mr. Pradeep Kesavan Over 18 years\n",
      "Mr. Milind Agrawal  Mr. Pradeep Kesavan (overseas investments) Managing Since Mr. Milind Agrawal Aug2019 Mr. Pradeep Kesavan Dec2023 Total Experience Mr. Milind Agrawal Over 10 years Mr. Pradeep Kesavan Over 18 years\n",
      "Mr. Rohit Shimpi Managing Since June 2024 Total Experience Over 18 years\n",
      "Mr. Dinesh Balachandran  Mr. Pradeep Kesavan (overseas investments) Managing Since Mr. Dinesh Balachandran June2024 Mr. Pradeep Kesavan Dec2023 Total Experience Mr. Dinesh Balachandran Over 21 years Mr. Pradeep Kesavan Over 18 years\n",
      "Mr. Bhavin Vithlani  Mr. Pradeep Kesavan (overseas investments) Managing Since Mr. Bhavin Vithlani Jan2022 Mr. Pradeep Kesavan Dec2023 Total Experience Mr. Bhavin Vithlani Over 19 years Mr. Pradeep Kesavan Over 18 years\n",
      "Mr. Ashit Desai  Mr. Pradeep Kesavan (overseas investments) Managing Since Mr. Ashit Desai (w.e.f. April 2024) Mr. Pradeep Kesavan Dec2023 Total Experience Mr. Ashit Desai Over 18 years Mr. Pradeep Kesavan Over 18 years\n",
      "Mr. Vivek Gedda  Mr. Pradeep Kesavan (overseas investments) Managing Since Mr. Vivek Gedda (w.e.f. April 2024) Mr. Pradeep Kesavan Dec2023 Total Experience Mr. Vivek Gedda Over 13 years Mr. Pradeep Kesavan Over 18 years\n",
      "Mr. Raviprakash Sharma  Mr. Pradeep Kesavan (overseas investments) Managing Since Mr. Raviprakash March2019 Mr. Pradeep Kesavan Dec2023 Total Experience Mr. Raviprakash Over 24 years Mr. Pradeep Kesavan Over 18 years\n",
      "Mr. Rohit Shimpi Managing Since (w.e.f. Feb 2025) Total Experience Over 18 years\n",
      "Mr. Raj Gandhi  Mr. Pradeep Kesavan (overseas investments) Managing Since (w.e.f. Feb 2024) Total Experience Mr.Raj Ghandhi Over 16 years Mr. Pradeep Kesavan Over 18 years\n",
      "Mr. Tanmaya Desai  Mr. Pradeep Kesavan (overseas investments) Managing Since June 2024 Total Experience Mr. Tanmaya Desai Over 15 years Mr. Pradeep Kesavan Over 18 years\n",
      "Mr. Prasad Padala  Mr. Pradeep Kesavan (overseas investments) Managing Since Aug 2024 Total Experience Mr. Prasad Padala Over 15 years Mr. Pradeep Kesavan Over 18 years\n",
      "Debt  Mr. Pradeep Kesavan overseas investments Managing Since Mr. R. Srinivasan Jan2012 Mr. Rajeev Radhakrishnan (w.e.f. Nov2023) Ms. Mansi Sajeja (w.e.f. Dec2023) Mr. Pradeep Kesavan (w.e.f. Dec2023) Total Experience Mr. R. Srinivasan  Over 30 years Mr. Rajeev Radhakrishnan  Over 20 years Ms. Mansi Sajeja  Over 15 years Mr. Pradeep Kesavan  Over 18 years\n",
      "\n",
      "Mr. Dinesh Balachandran (Equity Portfolio) Ms. Mansi Sajeja (Debt Portion)  Ms. Vandna Soni (for Commodities Portion)  Mr. Pradeep Kesavan (overseas investments) Managing Since Mr. Dinesh Balachandran  Dec 2023 Ms. Mansi Sajeja Dec 2023 Ms. Vandna Soni  Jan 2024 Mr. Pradeep Kesavan  Dec 2023 Total Experience Mr. Dinesh Balachandran  Over 21 years Ms. Mansi Sajeja  Over 15 years Ms. Vandna Soni  Over 14 years Mr. Pradeep Kesavan  Over 18 Years\n",
      "Ms. Nidhi Chawla (Equity Portion) Ms. Mansi Sajeja (Debt Portion) Mr. Neeraj Kumar (Arbitrage Portion) Mr. Pradeep Kesavan (overseas investments) Ms. Vandna Soni (Commodities Portion) Managing Since Ms. Nidhi Chawla  Jan 2022 Ms. Mansi Sajeja  June 2021 Mr. Neeraj Kumar  May 2015 Mr. Pradeep Kesavan Dec2023 Ms. Vandna Soni  Jan 2024 Total Experience Ms. Nidhi Chawla  Over 17 years Ms. Mansi Sajeja  Over 15 years Mr. Neeraj Kumar  Over 25 years Mr. Pradeep Kesavan  Over 18 years Ms. Vandna Soni  Over 14 years\n",
      "Mr. Neeraj Kumar  Equity Portion Mr. Ardhendu Bhattacharya  Debt Portion Managing Since Mr. Neeraj Kumar  Oct 2012 Mr. Ardhendu Bhattacharya  Dec  2021 Total Experience Mr. Neeraj Kumar  Over 25 years Mr. Ardhendu Bhattacharya  Over 13 years\n",
      "Mr. Dinesh Balachandran  (Equity Portion) Mr. Anup Upadhyay (Co Fund Manager Equity Portion) Ms. Mansi Sajeja  (Debt Portion) Mr. Rajeev Radhakrishnan  (Co Fund Manager Debt Portion) Mr. Pradeep Kesavan  (overseas investment) Managing Since Mr. Dinesh Balachandran August 2021 Mr. Anup Upadhyay (w.e.f. Dec 2024) Ms. Mansi Sajeja Dec 2023 Mr. Rajeev Radhakrishnan Nov 2023 Mr. Pradeep Kesavan Dec 2023 Total Experience Mr. Dinesh Balachandran  Over 21 years Mr. Anup Upadhyay  Over 14 years Ms. Mansi Sajeja  Over 15 years Mr. Rajeev Radhakrishnan  Over 20 years Mr. Pradeep Kesavan  Over 18 years\n",
      "Mr. Rajeev Radhakrishnan  Mr. Tejas Soman (Co Fund Manager) (w.e.f. Nov2023) Managing Since Mr. Rajeev Radhakrishnan (w.e.f. Nov2023) Mr. Tejas Soman (w.e.f. Dec2023) Total Experience Mr. Rajeev Radhakrishnan Over 20 years Mr. Tejas Soman Over 8 years\n",
      "Mr. Rajeev Radhakrishnan Managing Since Mr. Rajeev Radhakrishnan Dec2023 Total Experience Mr. Rajeev Radhakrishnan Over 20 years\n",
      "Mr. Lokesh Mallya Mr. Adesh Sharma (Co Fund Manager)  Mr. Pradeep Kesavan (overseas investments) Managing Since Mr. Lokesh Mallya (w.e.f. Dec2023) Mr. Adesh Sharma (w.e.f. Dec2023) Mr. Pradeep Kesavan (w.e.f. Dec2023) Total Experience Mr. Lokesh Mallya Over 17 years Mr. Adesh Sharma Over 15 years Mr. Pradeep Kesavan Over 18 years\n",
      "Mr. Rajeev Radhakrishnan Mr. Tejas Soman (Co Fund Manager)  Mr. Pradeep Kesavan (overseas investments) Managing Since Mr. Rajeev Radhakrishnan (w.e.f. Nov2023) Mr. Tejas Soman (w.e.f. Dec 2023) Mr. Pradeep Kesavan (w.e.f. Dec 2023) Total Experience Mr. Rajeev Radhakrishnan Over 20 years Mr. Tejas Soman Over 8 years Mr. Pradeep Kesavan Over 18 Years\n",
      "Mr. Rajeev Radhakrishnan Mr. Ardhendu Bhattacharya (CoFund Manager) Mr. Pradeep Kesavan (overseas investments) Managing Since Mr. Rajeev Radhakrishnan Jan2019 Mr. Ardhendu Bhattacharya Dec 2023 Mr. Pradeep Kesavan Dec 2023 Total Experience Mr. Rajeev Radhakrishnan Over 20 years Mr. Ardhendu Bhattacharya Over 13 years Mr. Pradeep Kesavan Over 18 Years\n",
      "Mr. Lokesh Mallya Mr. Adesh Sharma  Mr. Pradeep Kesavan (overseas investments) Managing Since Mr. Lokesh Mallya Feb2017 Mr. Adesh Sharma (w.e.f. Dec2023) Mr. Pradeep Kesavan (w.e.f. Dec2023) Total Experience Mr. Lokesh Mallya Over 17 years Mr. Adesh Sharma Over 15 years Mr. Pradeep Kesavan Over 18 years\n",
      ") Mr. Pradeep Kesavan (overseas investments) Managing Since Mr. Lokesh Mallya (w.e.f. Dec 2023) Mr. Mohit Jain (w.e.f. Dec 2023) Mr. Pradeep Kesavan (w.e.f. Dec 2023) Total Experience Mr. Lokesh Mallya Over 17 years Mr. Mohit Jain Over 10 years Mr. Pradeep Kesavan Over 18 years\n",
      "Mr. Rajeev Radhakrishnan  Ms. Mansi Sajeja Mr. Pradeep Kesavan (overseas investments) Managing Since Mr. Rajeev Jun2008 Ms. Mansi Dec2023 Mr. Pradeep Dec2023 Total Experience Mr. Rajeev Over 20 years Ms. Mansi Over 15 years Mr. Pradeep Over 18 years\n",
      "Mr. Tejas Soman Managing Since (w.e.f. Dec2023) Total Experience Over 8 years\n",
      "Mr. Rajeev Radhakrishnan  Mr. Pradeep Kesavan (overseas investments) Managing Since Mr. Rajeev Jun2008 Mr. Pradeep Kesavan Dec2023 Total Experience Mr. Rajeev Over 20 years Mr. Pradeep Kesavan Over 18 years\n",
      "Mr. Rajeev Radhakrishnan  Mr. Pradeep Kesavan (overseas investments) Managing Since Rajeev Radhakrishnan Dec2023 Mr. Pradeep Kesavan Dec2023 Total Experience Mr. Rajeev Radhakrishnan Over 20 years Mr. Pradeep Kesavan Over 18 years\n",
      "Mr. Rajeev Radhakrishnan Mr. Ardhendhu Bhattacharya (Co Fund Manager) Mr. Pradeep Kesavan (overseas investments) Managing Since Mr. Rajeev Nov 2013 Mr. Ardhendhu (w.e.f.Dec 2023) Mr. Pradeep (w.e.f.Dec 2023) Total Experience Mr. Rajeev Radhakrishnan  Over 20 years Mr. Ardhendhu Bhattacharya  Over 13 years Mr. Pradeep Kesavan  Over 18 years\n",
      "Mr. Ardhendhu Bhattacharya  Mr. Pradeep Kesavan (overseas investments) Managing Since Mr.  Ardhendhu Bhattacharya Dec2023 Mr. Pradeep Kesavan Dec2023 Total Experience Mr.  Ardhendhu Bhattacharya Over 13 years Mr. Pradeep Kesavan Over 18 years\n",
      "Mr. Ardhendu Bhattacharya Mr. Rajeev Radhakrishnan (CoFund Manager) Mr. Pradeep Kesavan(overseas investments) Managing Since Ardhendu Bhattacharya  June 2021 Rajeev Radhakrishnan  Oct 2020 Mr. Pradeep Kesavan Dec 2023 Total Experience Mr. Rajeev Radhakrishnan  Over 20 years Mr. Ardhendu Bhattacharya  Over 13 years Mr. Pradeep Kesavan Over 18 years\n",
      "Mr. Tejas Soman  Mr. Pradeep Kesavan (overseas investments) Managing Since Mr. Tejas Soman (w.e.f. Dec 2023) Mr. Pradeep Kesavan (w.e.f. Dec 2023) Total Experience Mr. Tejas Soman Over 8 years Mr. Pradeep Kesavan Over 18 years\n",
      "Ms. Ranjhana Gupta  Mr. Tejas Soman Managing Since (w.e.f. Dec 2024) Total Experience Ms. Ranjhana Gupta Over 21 years Mr. Tejas Soman Over 8 years\n"
     ]
    }
   ],
   "source": [
    "pattern = \"\\\\b([\\\\d,]+(?:\\\\.\\\\d+)?)\\\\b.*?\\\\b([\\\\d,]+(?:\\\\.\\\\d+)?)\\\\b\"\n",
    "for fund, content in dfs.items():\n",
    "    check = 'fund_manager'\n",
    "    if check in content:\n",
    "        all_text = \"\".join(content[check])\n",
    "        all_text =re.sub(r'[^A-Za-z0-9\\s\\-\\(\\).,]+', \"\", all_text).strip()\n",
    "        # print(fund)\n",
    "        # print(re.findall(pattern,all_text, re.IGNORECASE))\n",
    "        print(all_text)"
   ]
  },
  {
   "cell_type": "code",
   "execution_count": null,
   "metadata": {},
   "outputs": [
    {
     "name": "stdout",
     "output_type": "stream",
     "text": [
      "Mr. Dinesh Balachandran  Mr. Pradeep Kesavan (overseas investments) Managing Since Mr. Dinesh May2018 Mr. Pradeep Kesavan Dec2023 Total Experience Mr. Dinesh Over 21 Years Mr. Pradeep Kesavan Over 18 years\n",
      "Mr. R. Srinivasan, Mr. Mohan Lal  Mr. Pradeep Kesavan (overseas investments) Managing Since Mr. R. Srinivasan Nov  2013 Mr. Mohan Lal May  2024 Mr. Pradeep Kesavan Dec2023 Total Experience Mr. R. Srinivasan Over 30 years Mr. Mohan Lal Over 17 years Mr. Pradeep Kesavan Over 18 years\n",
      "Ms. Sukanya Ghosh  Mr. Pradeep Kesavan (overseas investments) Managing Since Dec 2024 Total Experience Ms. Sukanya Ghosh Over 10 years Mr. Pradeep Kesavan Over 18 years\n",
      "Mr. Saurabh Pant  Mr. Pradeep Kesavan (overseas investments) Managing Since Mr. Saurabh Pant (w.e.f. Apr 2024) Mr. Pradeep Kesavan Dec2023 Total Experience Mr. Saurabh Pant Over 16 years Mr. Pradeep Kesavan Over 18 years\n",
      "Mr. Rohit Shimpi  Mr. Pradeep Kesavan (overseas investments) Managing Since Mr. Rohit Shimpi Jan2022 Mr. Pradeep Kesavan Dec2023 Total Experience Mr. Rohit Shimpi Over 18 years Mr. Pradeep Kesavan Over 18 years\n",
      "Mr. Dinesh Balachandran, Mr. Anup Upadhyay (Co fund Manager)  Mr. Pradeep Kesavan (overseas investments) Managing Since Mr. Dinesh Balachandran (w.e.f. Dec 2024) Mr. Anup Upadhyay (w.e.f. Dec 2024) Mr. Pradeep Kesavan Dec2023 Total Experience Mr. Dinesh Balachandran Over 21 years Mr. Anup Upadhyay Over 14 years Mr. Pradeep Kesavan Over 18 years\n",
      "Mr. R. Srinivasan, Mr. Saurabh Pant  Mr. Pradeep Kesavan (overseas investments) Managing Since Mr. R. Srinivasan March2022 Mr. Saurabh Pant (w.e.f. April 2024) Mr. Pradeep Kesavan Dec2023 Total Experience Mr. R. Srinivasan Over 30 years Mr. Saurabh Pant Over 16 years Mr. Pradeep Kesavan Over 18 years\n",
      "Mr. Rohit Shimpi  Mr. Pradeep Kesavan (overseas investments) Managing Since Mr. Rohit Shimpi March2023 Mr. Pradeep Kesavan Dec2023 Total Experience Mr. Rohit Shimpi Over 18 years Mr. Pradeep Kesavan Over 18 years\n",
      "Mr. Saurabh Pant  Mr. Pradeep Kesavan (overseas investments) Managing Since Mr. Saurabh Pant Sep2016 Mr. Pradeep Kesavan Dec2023 Total Experience Mr. Saurabh Pant Over 16 years Mr. Pradeep Kesavan Over 18 years\n",
      "Mr. R. Srinivasan  Mr. Pradeep Kesavan (overseas investments) Managing Since Mr. R. Srinivasan May2009 Mr. Pradeep Kesavan Dec2023  Total Experience Mr. R. Srinivasan Over 30 years Mr. Pradeep Kesavan Over 18 years\n",
      "Mr. Bhavin Vithlani  Mr. Pradeep Kesavan (overseas investments) Managing Since Mr. Bhavin Vithlani (w.e.f. April 2024) Mr. Pradeep Kesavan (w.e.f. Dec 2023) Total Experience Mr. Bhavin Vithlani Over 19 years Mr. Pradeep Kesavan Over 18 years\n",
      "Mr. Tanmaya Desai  Mr. Pradeep Kesavan (overseas investments) Managing Since Mr. Tanmaya Desai (w.e.f. Feb 2025) Mr. Pradeep Kesavan (w.e.f. Dec 2023) Total Experience Mr. Tanmaya Desai Over 15 years Mr. Pradeep Kesavan Over 18 years\n",
      "Mr. Dinesh Balachandran Managing Since Sep2016 Total Experience Over 21 years\n",
      "Mr. Tanmaya Desai  Mr. Pradeep Kesavan (overseas investments) Managing Since Mr. Tanmaya Desai Jun2011 Mr. Pradeep Kesavan Dec2023 Total Experience Mr. Tanmaya Desai Over 15 years Mr. Pradeep Kesavan Over 18 years\n",
      "Mr. Milind Agrawal  Mr. Pradeep Kesavan (overseas investments) Managing Since Mr. Milind Agrawal Aug2019 Mr. Pradeep Kesavan Dec2023 Total Experience Mr. Milind Agrawal Over 10 years Mr. Pradeep Kesavan Over 18 years\n",
      "Mr. Rohit Shimpi Managing Since June 2024 Total Experience Over 18 years\n",
      "Mr. Dinesh Balachandran  Mr. Pradeep Kesavan (overseas investments) Managing Since Mr. Dinesh Balachandran June2024 Mr. Pradeep Kesavan Dec2023 Total Experience Mr. Dinesh Balachandran Over 21 years Mr. Pradeep Kesavan Over 18 years\n",
      "Mr. Bhavin Vithlani  Mr. Pradeep Kesavan (overseas investments) Managing Since Mr. Bhavin Vithlani Jan2022 Mr. Pradeep Kesavan Dec2023 Total Experience Mr. Bhavin Vithlani Over 19 years Mr. Pradeep Kesavan Over 18 years\n",
      "Mr. Ashit Desai  Mr. Pradeep Kesavan (overseas investments) Managing Since Mr. Ashit Desai (w.e.f. April 2024) Mr. Pradeep Kesavan Dec2023 Total Experience Mr. Ashit Desai Over 18 years Mr. Pradeep Kesavan Over 18 years\n",
      "Mr. Vivek Gedda  Mr. Pradeep Kesavan (overseas investments) Managing Since Mr. Vivek Gedda (w.e.f. April 2024) Mr. Pradeep Kesavan Dec2023 Total Experience Mr. Vivek Gedda Over 13 years Mr. Pradeep Kesavan Over 18 years\n",
      "Mr. Raviprakash Sharma  Mr. Pradeep Kesavan (overseas investments) Managing Since Mr. Raviprakash March2019 Mr. Pradeep Kesavan Dec2023 Total Experience Mr. Raviprakash Over 24 years Mr. Pradeep Kesavan Over 18 years\n",
      "Mr. Rohit Shimpi Managing Since (w.e.f. Feb 2025) Total Experience Over 18 years\n",
      "Mr. Raj Gandhi  Mr. Pradeep Kesavan (overseas investments) Managing Since (w.e.f. Feb 2024) Total Experience Mr.Raj Ghandhi Over 16 years Mr. Pradeep Kesavan Over 18 years\n",
      "Mr. Tanmaya Desai  Mr. Pradeep Kesavan (overseas investments) Managing Since June 2024 Total Experience Mr. Tanmaya Desai Over 15 years Mr. Pradeep Kesavan Over 18 years\n",
      "Mr. Prasad Padala  Mr. Pradeep Kesavan (overseas investments) Managing Since Aug 2024 Total Experience Mr. Prasad Padala Over 15 years Mr. Pradeep Kesavan Over 18 years\n"
     ]
    }
   ],
   "source": [
    "min_amt = r'([\\d,]+).+?multiples of\\s*([\\d,]+)'\n",
    "pattern = r\"\"\n",
    "for fund, content in final_text.items():\n",
    "    check = 'metrics'\n",
    "    if check in content:\n",
    "        text =re.sub(r'[^A-Za-z0-9\\s\\-\\(\\).,]+', \"\",content[check]).strip()\n",
    "        print(text)\n",
    "        match = re.findall(pattern,text, re.IGNORECASE)\n",
    "        # print(match)\n",
    "        "
   ]
  },
  {
   "cell_type": "code",
   "execution_count": null,
   "metadata": {},
   "outputs": [],
   "source": []
  },
  {
   "cell_type": "code",
   "execution_count": null,
   "metadata": {},
   "outputs": [],
   "source": []
  },
  {
   "cell_type": "code",
   "execution_count": null,
   "metadata": {},
   "outputs": [],
   "source": [
    "\"\"\"SUNDARAM MAIN FILE CODE\"\"\"\n",
    "\n",
    "amc_name = 'Sundaram Mutual Fund'\n",
    "logging.info(f\"User Ran Fund Data of {amc_name}\")\n",
    "\n",
    "object = Sundaram(PATHS_CONFIG,amc_name)\n",
    "path = mutual_fund[amc_name]\n",
    "\n",
    "path,df = object.check_and_highlight(path, 7)"
   ]
  },
  {
   "cell_type": "code",
   "execution_count": 281,
   "metadata": {},
   "outputs": [],
   "source": [
    "title = df.title.to_dict()\n",
    "pages = [7, 8, 9, 10, 11, 12, 13, 14, 15, 16, 17, 18, 19, 20, 21, 22, 23, 24, 25, 26, 27, 28, 29, 30, 31, 32, 33, 34, 35, 36, 37, 38, 39, 40]\n"
   ]
  },
  {
   "cell_type": "code",
   "execution_count": null,
   "metadata": {},
   "outputs": [],
   "source": [
    "data = object.get_data(path,pages,title)\n",
    "extracted_text = object.get_generated_content(data)"
   ]
  },
  {
   "cell_type": "code",
   "execution_count": 288,
   "metadata": {},
   "outputs": [
    {
     "name": "stdout",
     "output_type": "stream",
     "text": [
      "\n",
      " JSON saved at C:\\Users\\Kaustubh.keny\\OneDrive - Cogencis Information Services Ltd\\Documents\\mywork-repo\\data\\output\\dump_sundaram_17_09.json\n"
     ]
    }
   ],
   "source": [
    "final_text = object.refine_extracted_data(extracted_text,flatten = True)\n",
    "df = object.merge_and_select_data(final_text,select = True, map = True)\n",
    "Helper.quick_json_dump(df,object.JSONPATH)"
   ]
  },
  {
   "cell_type": "code",
   "execution_count": null,
   "metadata": {},
   "outputs": [],
   "source": [
    "\"\"\"TATA FILE MAIN CODE \"\"\"\n",
    "\n",
    "amc_name = \"Tata Mutual Fund\"\n",
    "logging.info(f\"User Ran Fund Data of {amc_name}\")\n",
    "\n",
    "object = Tata(PATHS_CONFIG,amc_name)\n",
    "path = mutual_fund[amc_name]\n",
    "\n",
    "path, df = object.check_and_highlight(path, 10)"
   ]
  },
  {
   "cell_type": "code",
   "execution_count": 4,
   "metadata": {},
   "outputs": [],
   "source": [
    "title = df.title.to_dict()\n",
    "pages = [16, 17, 18, 19, 20, 21, 22, 23, 24, 26, 28, 32, 33, 34, 35, 36, 37, 38, 39, 40, 41, 42, 43, 44, 46, 47, 48, 49, 50, 51, 52, 53, 54, 55, 58, 59, 60, 62, 64, 66, 68, 69, 70, 71, 72, 73, 74, 75, 76, 77, 78, 79, 80, 81, 82, 83]"
   ]
  },
  {
   "cell_type": "code",
   "execution_count": null,
   "metadata": {},
   "outputs": [],
   "source": [
    "data = object.get_data(path,pages,title)\n",
    "extracted_text = object.get_generated_content(data)\n"
   ]
  },
  {
   "cell_type": "code",
   "execution_count": 18,
   "metadata": {},
   "outputs": [],
   "source": [
    "final_text = object.refine_extracted_data(extracted_text, flatten = True)"
   ]
  },
  {
   "cell_type": "code",
   "execution_count": null,
   "metadata": {},
   "outputs": [],
   "source": [
    "df = object.merge_and_select_data(final_text,select=True, map = True)\n",
    "Helper.quick_json_dump(df, object.JSONPATH)"
   ]
  },
  {
   "cell_type": "code",
   "execution_count": null,
   "metadata": {},
   "outputs": [],
   "source": [
    "\"\"\"TAURUS MAIN FILE CODE\"\"\" #Issues: Nothing Yet\n",
    "\n",
    "amc_name = 'Taurus Mutual Fund'\n",
    "logging.info(f\"User Ran Fund Data of {amc_name}\")\n",
    "\n",
    "object = Taurus(PATHS_CONFIG,amc_name)\n",
    "path = mutual_fund[amc_name]\n",
    "\n",
    "path, df= object.check_and_highlight(path, 7)"
   ]
  },
  {
   "cell_type": "code",
   "execution_count": 208,
   "metadata": {},
   "outputs": [],
   "source": [
    "title = df.title.to_dict()\n",
    "pages = [11, 12, 13, 14, 15, 16, 17, 18]"
   ]
  },
  {
   "cell_type": "code",
   "execution_count": null,
   "metadata": {},
   "outputs": [],
   "source": [
    "data = object.get_data(path,pages,title)\n",
    "extracted_text = object.get_generated_content(data)"
   ]
  },
  {
   "cell_type": "code",
   "execution_count": null,
   "metadata": {},
   "outputs": [],
   "source": [
    "final_text = object.refine_extracted_data(extracted_text,flatten=True)\n",
    "df = object.merge_and_select_data(final_text,select = True, map = True)\n",
    "Helper.quick_json_dump(df,object.JSONPATH)"
   ]
  },
  {
   "cell_type": "code",
   "execution_count": null,
   "metadata": {},
   "outputs": [],
   "source": [
    "\"\"\"TRUST MAIN FILE CODE\"\"\" #Issue: Clean data more, nested dict unload Invest Obj in right #Names coming as headers fund managers\n",
    "\n",
    "amc_name = 'Trust Mutual Fund'\n",
    "logging.info(f\"User Ran Fund Data of {amc_name}\")\n",
    "\n",
    "object = Trust(PATHS_CONFIG,amc_name)\n",
    "path = mutual_fund[amc_name]\n",
    "\n",
    "path, df= object.check_and_highlight(path, 7)"
   ]
  },
  {
   "cell_type": "code",
   "execution_count": 265,
   "metadata": {},
   "outputs": [],
   "source": [
    "object = Trust(PATHS_CONFIG,amc_name)"
   ]
  },
  {
   "cell_type": "code",
   "execution_count": 263,
   "metadata": {},
   "outputs": [],
   "source": [
    "title = df.title.to_dict()\n",
    "pages = [7, 8, 9, 10, 11, 12, 13, 14]"
   ]
  },
  {
   "cell_type": "code",
   "execution_count": null,
   "metadata": {},
   "outputs": [],
   "source": [
    "data = object.get_data(path,pages,title)\n",
    "extracted_text = object.get_generated_content(data)"
   ]
  },
  {
   "cell_type": "code",
   "execution_count": 266,
   "metadata": {},
   "outputs": [
    {
     "name": "stdout",
     "output_type": "stream",
     "text": [
      "\n",
      " JSON saved at C:\\Users\\Kaustubh.keny\\Projects\\office-work\\mywork-repo\\data\\output\\dump_trustmf_16_56.json\n"
     ]
    }
   ],
   "source": [
    "final_text = object.refine_extracted_data(extracted_text, flatten = True)\n",
    "dfs = object.merge_and_select_data(final_text,select = True, map = True)\n",
    "Helper.quick_json_dump(dfs,object.JSONPATH)"
   ]
  },
  {
   "cell_type": "code",
   "execution_count": null,
   "metadata": {},
   "outputs": [],
   "source": []
  },
  {
   "cell_type": "code",
   "execution_count": null,
   "metadata": {},
   "outputs": [],
   "source": []
  },
  {
   "cell_type": "code",
   "execution_count": null,
   "metadata": {},
   "outputs": [],
   "source": []
  },
  {
   "cell_type": "code",
   "execution_count": null,
   "metadata": {},
   "outputs": [],
   "source": [
    "\"\"\"UTI MAIN FILE CODE\"\"\"\n",
    "\n",
    "amc_name = 'UTI Mutual Fund'\n",
    "logging.info(f\"User Ran Fund Data of {amc_name}\")\n",
    "\n",
    "object = UTI(PATHS_CONFIG,amc_name)\n",
    "path = mutual_fund[amc_name]\n",
    "\n",
    "path,df = object.check_and_highlight(path, 5)"
   ]
  },
  {
   "cell_type": "code",
   "execution_count": null,
   "metadata": {},
   "outputs": [],
   "source": [
    "title = df.title.apply(lambda x: \"Union \"+ x if x !=\"\" else x).to_dict()\n",
    "pages = [11, 12, 13, 14, 15, 16, 17, 18, 19, 20, 21, 22, 23, 24, 25, 26, 27, 28, 29, 30, 31, 32, 33, 34, 35, 36, 37, 38, 39, 40, 42, 43, 44, 45, 46, 47, 48, 49, 50, 51, 52, 53, 54, 55, 56, 57, 58, 59, 60, 61, 62, 63, 64, 65, 67, 68, 69, 70, 71, 72, 73, 75, 76, 77, 78, 79, 80]\n"
   ]
  },
  {
   "cell_type": "code",
   "execution_count": null,
   "metadata": {},
   "outputs": [],
   "source": [
    "data = object.get_data(path,pages,title)\n",
    "extracted_text = object.get_generated_content(data)"
   ]
  },
  {
   "cell_type": "code",
   "execution_count": 32,
   "metadata": {},
   "outputs": [
    {
     "name": "stdout",
     "output_type": "stream",
     "text": [
      "\n",
      " JSON saved at C:\\Users\\rando\\OneDrive\\Documents\\mywork-repo\\data\\output\\dump_Union_18_22.json\n"
     ]
    }
   ],
   "source": [
    "final_text = object.refine_extracted_data(extracted_text, flatten = True)\n",
    "# df = object.merge_and_select_data(final_text)\n",
    "Helper.quick_json_dump(final_text, object.JSONPATH)"
   ]
  },
  {
   "cell_type": "code",
   "execution_count": null,
   "metadata": {},
   "outputs": [],
   "source": [
    "\"\"\"UNION MUTUAL FUND\"\"\" #Issues: Major Issue\n",
    "\n",
    "amc_name = 'Union Mutual Fund'\n",
    "logging.info(f\"User Ran Fund Data of {amc_name}\")\n",
    "\n",
    "object = Union(PATHS_CONFIG,amc_name)\n",
    "path = mutual_fund[amc_name]\n",
    "\n",
    "path,df = object.check_and_highlight(path, 7)"
   ]
  },
  {
   "cell_type": "code",
   "execution_count": 26,
   "metadata": {},
   "outputs": [],
   "source": [
    "pages = [4, 5, 6, 7, 8, 9, 10, 11, 12, 13, 14, 15, 16, 17, 18, 19, 20, 21, 22, 23, 24, 25, 26, 27, 28]\n",
    "title = df.title.apply(lambda x: \"Union \"+ x if x !=\"\" else x).to_dict()"
   ]
  },
  {
   "cell_type": "code",
   "execution_count": null,
   "metadata": {},
   "outputs": [],
   "source": [
    "data = object.get_data(path,pages,title)"
   ]
  },
  {
   "cell_type": "code",
   "execution_count": null,
   "metadata": {},
   "outputs": [],
   "source": [
    "extracted_text = object.get_generated_content(data)\n",
    "final_text = object.refine_extracted_data(extracted_text, flatten = True)\n",
    "Helper.quick_json_dump(final_text, object.JSONPATH)"
   ]
  },
  {
   "cell_type": "code",
   "execution_count": null,
   "metadata": {},
   "outputs": [],
   "source": [
    "\"\"\"WHITEOAK MUTUAL FUND\"\"\"\n",
    "\n",
    "amc_name = 'WhiteOak Mutual Fund'\n",
    "logging.info(f\"User Ran Fund Data of {amc_name}\")\n",
    "\n",
    "object = WhiteOak(PATHS_CONFIG,amc_name)\n",
    "path = mutual_fund[amc_name]\n",
    "\n",
    "path, df = object.check_and_highlight(path, 9)"
   ]
  },
  {
   "cell_type": "code",
   "execution_count": null,
   "metadata": {},
   "outputs": [],
   "source": [
    "title = df.title.to_dict()\n",
    "pages = [7, 9, 11, 13, 15, 17, 19, 20, 21, 23, 25, 26, 28, 30, 32, 34, 36, 37]\n",
    "data = object.get_data(path,pages,title)\n",
    "extracted_text = object.get_generated_content(data)"
   ]
  },
  {
   "cell_type": "code",
   "execution_count": 128,
   "metadata": {},
   "outputs": [
    {
     "name": "stdout",
     "output_type": "stream",
     "text": [
      "\n",
      " JSON saved at C:\\Users\\Kaustubh.keny\\OneDrive - Cogencis Information Services Ltd\\Documents\\mywork-repo\\data\\output\\dump_whiteoak_11_46.json\n"
     ]
    }
   ],
   "source": [
    "final_text = object.refine_extracted_data(extracted_text, flatten = True)\n",
    "df = object.merge_and_select_data(final_text,select = True, map = True)\n",
    "Helper.quick_json_dump(df,object.JSONPATH)"
   ]
  },
  {
   "cell_type": "code",
   "execution_count": null,
   "metadata": {},
   "outputs": [],
   "source": [
    "\"\"\"ZERODHA MAIN CODE\"\"\" \n",
    "\n",
    "amc_name = 'Zerodha Mutual Fund'\n",
    "logging.info(f\"User Ran Fund Data of {amc_name}\")\n",
    "\n",
    "object = Zerodha(PATHS_CONFIG,amc_name)\n",
    "path = mutual_fund[amc_name]\n",
    "\n",
    "path,df= object.check_and_highlight(path,7)"
   ]
  },
  {
   "cell_type": "code",
   "execution_count": null,
   "metadata": {},
   "outputs": [],
   "source": [
    "title = df.title.to_dict()\n",
    "pages = [3, 5, 7, 9, 11, 13, 15]\n",
    "data = object.get_data(path,pages,title)\n",
    "extracted_text = object.get_generated_content(data)"
   ]
  },
  {
   "cell_type": "code",
   "execution_count": null,
   "metadata": {},
   "outputs": [],
   "source": [
    "final_text = object.refine_extracted_data(extracted_text, flatten = True)\n",
    "df = object.merge_and_select_data(final_text,select = True,map = True)\n",
    "Helper.quick_json_dump(df, object.JSONPATH)"
   ]
  },
  {
   "cell_type": "markdown",
   "metadata": {},
   "source": [
    "FILES TO BE CLEANED ARE BELOW , DATA ABLE TO EXTRACTED "
   ]
  },
  {
   "cell_type": "code",
   "execution_count": null,
   "metadata": {},
   "outputs": [],
   "source": [
    "\"\"\"QUANT MAIN CODE FILE\"\"\"\n",
    "\n",
    "object = QuantMF(PATHS_CONFIG)\n",
    "path = mutual_fund['Quant Mutual Fund']\n",
    "\n",
    "path,df = object.check_and_highlight(path, 7)\n",
    "title = df.title.to_dict()\n",
    "pages = [12, 14, 16, 18, 20, 22, 24, 26, 28, 30, 32, 34, 36, 38, 40, 42, 44, 46, 48, 50, 52, 54, 56, 58, 61, 63, 65]\n",
    "\n",
    "\"\"\"\"HSBC MAIN FILE CODE\"\"\" #Issue: Some pages have 2 or more fund data on same page\n",
    "#some data is present on right side as well so define two lines\n",
    "#objective is to be exracted seperately\n",
    "\n",
    "object = HSBC(PATHS_CONFIG)\n",
    "path = mutual_fund['HSBC Mutual Fund']\n",
    "\n",
    "path, df = object.check_and_highlight(path, 7)\n",
    "title = df.title.to_dict()\n",
    "pages = [10, 11, 12, 13, 14, 15, 16, 17, 18, 19, 20, 21, 22, 23, 24, 25, 26, 27, 28, 29, 30, 32, 34, 35, 36, 37, 38, 39, 40, 41, 42, 43, 44, 45, 46, 47, 48, 49]\n",
    "\n",
    "data = object.get_data_via_clip(path,pages,title)\n",
    "extracted_text = object.get_generated_content(data)"
   ]
  },
  {
   "cell_type": "code",
   "execution_count": null,
   "metadata": {},
   "outputs": [],
   "source": [
    "folder_path = r'C:\\Users\\Kaustubh.keny\\OneDrive - Cogencis Information Services Ltd\\Documents\\mywork-repo\\data\\ex'\n",
    "all_keys = set()\n",
    "for file in os.listdir(folder_path):\n",
    "     if file.endswith(\".json\"):\n",
    "        path = os.path.join(folder_path, file)\n",
    "        with open(path, \"r\", encoding=\"utf-8\") as file:\n",
    "            data = json.load(file)\n",
    "            \n",
    "            for fund,content in data.items():\n",
    "                for key in content.keys():\n",
    "                    all_keys.add(key)\n",
    "\n",
    "all_keys = list(all_keys)"
   ]
  },
  {
   "cell_type": "code",
   "execution_count": null,
   "metadata": {},
   "outputs": [],
   "source": [
    "import os\n",
    "import json\n",
    "\n",
    "folder_path = r'C:\\Users\\rando\\OneDrive\\Documents\\mywork-repo\\data\\dsp'\n",
    "def extract_keys(data, key_set):\n",
    "    \"\"\"Recursively extract keys from JSON data, ignoring the first level.\"\"\"\n",
    "    if isinstance(data, dict):\n",
    "        for key, value in data.items():\n",
    "            key_set.add(key)\n",
    "            extract_keys(value, key_set)\n",
    "    elif isinstance(data, list):\n",
    "        for item in data:\n",
    "            extract_keys(item, key_set)\n",
    "\n",
    "file_keys = {} \n",
    "\n",
    "for file in os.listdir(folder_path):\n",
    "    if file.endswith(\".json\"):\n",
    "        path = os.path.join(folder_path, file)\n",
    "        try:\n",
    "            with open(path, \"r\", encoding=\"utf-8\") as f:\n",
    "                data = json.load(f)\n",
    "                \n",
    "                unique_keys = set() \n",
    "                for fund_data in data.values():  #first level is fund head\n",
    "                    if isinstance(fund_data, dict):  # Ensure it's a dictionary\n",
    "                        extract_keys(fund_data, unique_keys)\n",
    "                \n",
    "                \n",
    "                match = re.findall(r'^dump_([A-Za-z0-9]+).*\\.json',file,re.IGNORECASE)[0].upper()\n",
    "                file_keys[match] = list(unique_keys)\n",
    "        \n",
    "        except Exception as e:\n",
    "            print(f\"Error reading {file}: {e}\")\n",
    "\n",
    "import pandas as pd\n",
    "df = pd.DataFrame(dict([(k, pd.Series(sorted(v))) for k, v in file_keys.items()]))\n",
    "\n",
    "output_path =\"json_keys.xlsx\"\n",
    "df.to_excel(output_path, index=False)"
   ]
  },
  {
   "cell_type": "code",
   "execution_count": 44,
   "metadata": {},
   "outputs": [],
   "source": [
    "manage = FundHouseManager()\n",
    "\n",
    "for fund in  manage.list_fund_houses():\n",
    "    manage.update_fund_house(fund,\"SPECIAL_FUNCTIONS\",{})"
   ]
  },
  {
   "cell_type": "code",
   "execution_count": null,
   "metadata": {},
   "outputs": [],
   "source": [
    "# CREATE TABLE `mf_json_common_details` (\n",
    "#   `id` int(11) NOT NULL AUTO_INCREMENT,\n",
    "#   `document_detail_id` int(11) DEFAULT NULL,\n",
    "#   `amc_id` int(11) DEFAULT NULL,\n",
    "#   `amc_name` varchar(500) DEFAULT NULL,\n",
    "#   `MainScheme_ID` int(11) DEFAULT NULL,\n",
    "#   `main_scheme_name` varchar(500) DEFAULT NULL,\n",
    "#   `fund_id` int(11) DEFAULT NULL,\n",
    "#   `fund_name` varchar(100) DEFAULT NULL,\n",
    "#   `scheme_objective` varchar(5000) DEFAULT NULL,\n",
    "#   `suitable_for_investors` varchar(10000) DEFAULT NULL,\n",
    "#   `benchmark_index_id` int(11) DEFAULT NULL,\n",
    "#   `benchmark_index` varchar(1000) DEFAULT NULL,\n",
    "#   `min_addl_amt` varchar(50) DEFAULT NULL,\n",
    "#   `min_addl_amt_multiple` varchar(50) DEFAULT NULL,\n",
    "#   `min_amt` varchar(1000) DEFAULT NULL,\n",
    "#   `min_amt_multiple` varchar(50) DEFAULT NULL,\n",
    "#   `monthly_aaum_date` varchar(50) DEFAULT NULL,\n",
    "#   `monthly_aaum_value` varchar(50) DEFAULT NULL,\n",
    "#   `scheme_launch_date` varchar(50) DEFAULT NULL,\n",
    "#   `ytm` varchar(25) DEFAULT NULL,\n",
    "#   `port_turnover_ratio` varchar(25) DEFAULT NULL,\n",
    "#   `mod_duration` varchar(25) DEFAULT NULL,\n",
    "#   `avg_maturity` varchar(25) DEFAULT NULL,\n",
    "#   `macaulay` varchar(25) DEFAULT NULL,\n",
    "#   `sharpe` varchar(25) DEFAULT NULL,\n",
    "#   `std_dev` varchar(25) DEFAULT NULL,\n",
    "#   `beta` varchar(25) DEFAULT NULL,\n",
    "#   `tracking_error` varchar(25) DEFAULT NULL,\n",
    "#   `r_squared_ratio` varchar(45) DEFAULT NULL,\n",
    "#   `average_div_yield` varchar(45) DEFAULT NULL,\n",
    "#   `average_pb` varchar(45) DEFAULT NULL,\n",
    "#   `average_pe` varchar(45) DEFAULT NULL,\n",
    "#   `alpha` varchar(45) DEFAULT NULL,\n",
    "#   `treynor_ratio` varchar(45) DEFAULT NULL,\n",
    "#   `entered_user` varchar(45) DEFAULT NULL,\n",
    "#   `entered_date` timestamp NULL DEFAULT CURRENT_TIMESTAMP,\n",
    "#   `modified_user` varchar(45) DEFAULT NULL,\n",
    "#   `modified_date` timestamp NULL DEFAULT NULL ON UPDATE CURRENT_TIMESTAMP,\n",
    "#   `is_migrated` tinyint(4) DEFAULT NULL,\n",
    "#   `is_valid` tinyint(4) DEFAULT '1',\n",
    "#   `close_date` varchar(45) DEFAULT NULL,\n",
    "#   `open_date` varchar(45) DEFAULT NULL,\n",
    "#   `face_value` varchar(45) DEFAULT NULL,\n",
    "#   `type_of_scheme` varchar(500) DEFAULT NULL,\n",
    "#   `Riskometer` varchar(50) DEFAULT NULL,\n",
    "#   `Riskometer_benchmark` varchar(50) DEFAULT NULL,\n",
    "#   `SchemeCategory_level2_ID` int(11) DEFAULT NULL,\n",
    "#   `information_ratio` varchar(45) DEFAULT NULL,\n",
    "#   `sortino_ratio` varchar(45) DEFAULT NULL,\n",
    "#   `arithmetic_mean_ratio` varchar(45) DEFAULT NULL,\n",
    "#   `correlation_ratio` varchar(45) DEFAULT NULL,\n",
    "#   `roe_ratio` varchar(45) DEFAULT NULL,\n",
    "#   `downside_deviation` varchar(45) DEFAULT NULL,\n",
    "#   `upside_deviation` varchar(45) DEFAULT NULL,\n",
    "#   `price_per_unit` varchar(45) DEFAULT NULL,\n",
    "#   `creation_unit_size` varchar(45) DEFAULT NULL,\n",
    "#   `scheme_code` varchar(45) DEFAULT NULL,\n",
    "#   `sai_weblink` varchar(100) DEFAULT NULL,\n",
    "#   `offer_price` varchar(45) DEFAULT NULL,\n",
    "#   `min_target_amt` varchar(45) DEFAULT NULL,\n",
    "#   `nfo_min_sub_amt` decimal(10,0) DEFAULT NULL,\n",
    "#   PRIMARY KEY (`id`),\n",
    "#   UNIQUE KEY `uc_mf_json_common_details` (`id`,`amc_name`,`main_scheme_name`,`fund_name`,`is_migrated`),\n",
    "#   KEY `fk_mf_json_common_details_document_detail_id_idx` (`document_detail_id`),\n",
    "#   KEY `fk_mf_json_common_details_amc_id_idx` (`amc_id`),\n",
    "#   KEY `fk_mf_json_common_details_main_scheme_id_idx` (`MainScheme_ID`),\n",
    "#   KEY `fk_mf_json_common_details_fund_id_idx` (`fund_id`),\n",
    "#   CONSTRAINT `fk_mf_json_common_details_amc_id` FOREIGN KEY (`amc_id`) REFERENCES `mf_master_amc` (`AMC_ID`) ON DELETE NO ACTION ON UPDATE NO ACTION,\n",
    "#   CONSTRAINT `fk_mf_json_common_details_document_detail_id` FOREIGN KEY (`document_detail_id`) REFERENCES `mf_document_details` (`id`) ON DELETE NO ACTION ON UPDATE NO ACTION,\n",
    "#   CONSTRAINT `fk_mf_json_common_details_fund_id` FOREIGN KEY (`fund_id`) REFERENCES `mf_master_fund` (`Fund_ID`) ON DELETE NO ACTION ON UPDATE NO ACTION,\n",
    "#   CONSTRAINT `fk_mf_json_common_details_main_scheme_id` FOREIGN KEY (`MainScheme_ID`) REFERENCES `mf_master_mainscheme` (`MainScheme_ID`) ON DELETE NO ACTION ON UPDATE NO ACTION\n",
    "# ) ENGINE=InnoDB AUTO_INCREMENT=53143 DEFAULT CHARSET=latin1;"
   ]
  }
 ],
 "metadata": {
  "kernelspec": {
   "display_name": "envPDF",
   "language": "python",
   "name": "python3"
  },
  "language_info": {
   "codemirror_mode": {
    "name": "ipython",
    "version": 3
   },
   "file_extension": ".py",
   "mimetype": "text/x-python",
   "name": "python",
   "nbconvert_exporter": "python",
   "pygments_lexer": "ipython3",
   "version": "3.13.1"
  }
 },
 "nbformat": 4,
 "nbformat_minor": 2
}
