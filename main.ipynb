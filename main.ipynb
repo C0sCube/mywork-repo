{
 "cells": [
  {
   "cell_type": "code",
   "execution_count": 41,
   "metadata": {},
   "outputs": [
    {
     "name": "stdout",
     "output_type": "stream",
     "text": [
      "The autoreload extension is already loaded. To reload it, use:\n",
      "  %reload_ext autoreload\n"
     ]
    }
   ],
   "source": [
    "%load_ext autoreload\n",
    "%autoreload 2\n",
    "import json, os, logging\n",
    "PATHS_CONFIG =os.path.join(os.getcwd(),'paths.json')\n",
    "with open(PATHS_CONFIG,'r') as file:\n",
    "    PATH = json.load(file)\n",
    "    \n",
    "from app.fund_data import *\n",
    "from app.params_handler import *\n",
    "from app.utils import Helper\n",
    "from logging_config import logger\n",
    "\n",
    "logger.info(\"Application Started !!\")\n",
    "mutual_fund = Helper.get_fund_paths(PATH['dirs']['fund_path'])\n",
    "\n",
    "with open(os.path.join(os.getcwd(),PATH[\"configs\"]['regex']),'r') as file:\n",
    "    class_mapper = json.load(file)['main_mapper']\n",
    "    \n",
    "# https://www.sebi.gov.in/sebiweb/other/OtherAction.do?doMutualFund=yes&mftype=2"
   ]
  },
  {
   "cell_type": "code",
   "execution_count": null,
   "metadata": {},
   "outputs": [],
   "source": [
    "# for (root,dirs,files) in os.walk(PATH['dirs']['fund_path'], topdown=True):\n",
    "#     if files"
   ]
  },
  {
   "cell_type": "code",
   "execution_count": null,
   "metadata": {},
   "outputs": [],
   "source": [
    "\"\"\"360 ONE FILE CODE\"\"\"\n",
    "amc_name = '360 One Mutual Fund'\n",
    "logging.info(f\"User Ran Fund Data of {amc_name}\")\n",
    "path= mutual_fund[amc_name]\n",
    "object = ThreeSixtyOne(PATHS_CONFIG,amc_name,path)\n",
    "title,path_pdf = object.check_and_highlight(path)\n",
    "data = object.get_data(path_pdf,title)\n",
    "extracted_text = object.get_generated_content(data)\n",
    "final_text = object.refine_extracted_data(extracted_text, flatten=True)\n",
    "dfs = object.merge_and_select_data(final_text,select = True,map = True, special = True)\n",
    "Helper.quick_json_dump(dfs, object.JSONPATH)"
   ]
  },
  {
   "cell_type": "code",
   "execution_count": null,
   "metadata": {},
   "outputs": [],
   "source": [
    "\"\"\"ANGEL ONE FILE CODE\"\"\"\n",
    "amc_name = 'Angel One Mutual Fund'\n",
    "logging.info(f\"User Ran Fund Data of {amc_name}\")\n",
    "path= mutual_fund[amc_name]\n",
    "object = AngelOne(PATHS_CONFIG,amc_name,path)\n",
    "title,path_pdf = object.check_and_highlight(path)"
   ]
  },
  {
   "cell_type": "code",
   "execution_count": null,
   "metadata": {},
   "outputs": [],
   "source": [
    "data = object.get_data(path_pdf,title)\n",
    "extracted_text = object.get_generated_content(data)\n",
    "Helper.quick_json_dump(extracted_text, object.JSONPATH)"
   ]
  },
  {
   "cell_type": "code",
   "execution_count": null,
   "metadata": {},
   "outputs": [],
   "source": [
    "object = AngelOne(PATHS_CONFIG,amc_name,path)\n",
    "final_text = object.refine_extracted_data(extracted_text, flatten=True)\n",
    "dfs = object.merge_and_select_data(final_text,select = True,map = True, special = True)\n",
    "Helper.quick_json_dump(dfs, object.JSONPATH)"
   ]
  },
  {
   "cell_type": "code",
   "execution_count": null,
   "metadata": {},
   "outputs": [],
   "source": [
    "\"\"\"SHRIRAM MAIN FILE CODE\"\"\"\n",
    "\n",
    "amc_name = \"Shriram Mutual Fund\"\n",
    "logger.info(f\"User Ran Fund Data of {amc_name}\")\n",
    "path = mutual_fund[amc_name]\n",
    "object = Shriram(PATHS_CONFIG,amc_name,path)\n",
    "title,path_pdf = object.check_and_highlight(path)\n",
    "\n",
    "data = object.get_data(path_pdf,title)\n",
    "extracted_text = object.get_generated_content(data)"
   ]
  },
  {
   "cell_type": "code",
   "execution_count": null,
   "metadata": {},
   "outputs": [],
   "source": [
    "object = Shriram(PATHS_CONFIG,amc_name,path)\n",
    "final_text = object.refine_extracted_data(extracted_text, flatten=True)\n",
    "dfs = object.merge_and_select_data(final_text,map = True,select = True,special=True)\n",
    "Helper.quick_json_dump(dfs, object.JSONPATH) "
   ]
  },
  {
   "cell_type": "code",
   "execution_count": null,
   "metadata": {},
   "outputs": [],
   "source": [
    "\"\"\"PPFAS MAIN FILE CODE\"\"\"\n",
    "\n",
    "amc_name = \"Ppfas Mutual Fund\"\n",
    "logger.info(f\"User Ran Fund Data of {amc_name}\")\n",
    "path = mutual_fund[amc_name]\n",
    "object = PPFAS(PATHS_CONFIG,amc_name,path)\n",
    "title,path_pdf = object.check_and_highlight(path)\n",
    "\n",
    "data = object.get_data(path_pdf,title)\n",
    "extracted_text = object.get_generated_content(data)"
   ]
  },
  {
   "cell_type": "code",
   "execution_count": 3,
   "metadata": {},
   "outputs": [
    {
     "name": "stdout",
     "output_type": "stream",
     "text": [
      "\n",
      "  JSON saved at C:\\Users\\rando\\OneDrive\\Documents\\mywork-repo\\data\\output\\dump_parag_10_00_23.json\n"
     ]
    }
   ],
   "source": [
    "Helper.quick_json_dump(extracted_text, object.JSONPATH)"
   ]
  },
  {
   "cell_type": "code",
   "execution_count": null,
   "metadata": {},
   "outputs": [],
   "source": [
    "object = PPFAS(PATHS_CONFIG,amc_name,path)\n",
    "final_text = object.refine_extracted_data(extracted_text, flatten=True)\n",
    "dfs = object.merge_and_select_data(final_text,select = True,map = True, special = True)\n",
    "Helper.quick_json_dump(dfs, object.JSONPATH)"
   ]
  },
  {
   "cell_type": "code",
   "execution_count": null,
   "metadata": {},
   "outputs": [],
   "source": [
    "'''AXIS ONE PASSIVE MAIN FILE CODE''' # pages = [6, 7, 8, 9, 10, 11, 12, 13, 14, 15, 16, 17, 18, 19, 20, 21, 22, 23, 24, 25, 26, 27, 28, 29, 30, 31, 32, 33, 34, 35, 36, 37]\n",
    "amc_name = \"Axis Mutual Fund Passive\"\n",
    "logger.info(f\"User Ran Fund Data of {amc_name}\")\n",
    "path = mutual_fund[amc_name]\n",
    "object = AXISMF(PATHS_CONFIG,amc_name,path)\n",
    "title,path_pdf = object.check_and_highlight(path)\n",
    "\n",
    "data = object.get_data(path_pdf,title)\n",
    "extracted_text = object.get_generated_content(data)\n",
    "\n",
    "final_text = object.refine_extracted_data(extracted_text, flatten=True)\n",
    "dfs = object.merge_and_select_data(final_text,select = True, map = True, special=True)\n",
    "Helper.quick_json_dump(dfs,object.JSONPATH)"
   ]
  },
  {
   "cell_type": "code",
   "execution_count": null,
   "metadata": {},
   "outputs": [],
   "source": [
    "'''AXIS ONE ACTIVE MAIN FILE CODE''' #No issues as of now\n",
    "amc_name = \"Axis Mutual Fund\"\n",
    "logger.info(f\"User Ran Fund Data of {amc_name}\")\n",
    "path = mutual_fund[amc_name]\n",
    "object = AXISMF(PATHS_CONFIG,amc_name,path)\n",
    "\n",
    "title,path_pdf = object.check_and_highlight(path)\n",
    "data = object.get_data(path_pdf,title)\n",
    "extracted_text = object.get_generated_content(data)\n"
   ]
  },
  {
   "cell_type": "code",
   "execution_count": null,
   "metadata": {},
   "outputs": [],
   "source": [
    "object = AXISMF(PATHS_CONFIG,amc_name,path)\n",
    "data = object.get_data(path_pdf,title)\n",
    "extracted_text = object.get_generated_content(data)\n",
    "Helper.quick_json_dump(extracted_text,object.JSONPATH)"
   ]
  },
  {
   "cell_type": "code",
   "execution_count": null,
   "metadata": {},
   "outputs": [],
   "source": [
    "object = AXISMF(PATHS_CONFIG,amc_name,path)\n",
    "final_text = object.refine_extracted_data(extracted_text, flatten=True)\n",
    "dfs = object.merge_and_select_data(final_text,select = True, map = True, special=True)\n",
    "Helper.quick_json_dump(dfs,object.JSONPATH)"
   ]
  },
  {
   "cell_type": "code",
   "execution_count": null,
   "metadata": {},
   "outputs": [],
   "source": [
    "\"\"\"ADITYA BIRLA FILE CODE\"\"\"# pages = [17, 19, 21, 23, 25, 27, 29, 31, 33, 35, 37, 39, 41, 43, 45, 47, 49, 50, 52, 54, 56, 58, 60, 62, 64, 66, 67, 69, 72, 75, 78, 80, 82, 86, 87, 89, 91, 93, 95, 98, 101, 103, 106, 108, 110, 112, 114, 115, 116, 118, 119, 121, 123, 125, 127, 128, 129, 130, 131, 132, 133, 134, 135, 136, 137, 138, 139, 140, 141, 143, 145, 147, 149, 151, 152, 153, 155, 157, 159, 160, 161, 162, 163, 164, 165, 166, 167, 168, 169, 170, 171, 172, 173, 174, 175, 176, 177, 178, 179, 180, 181, 182]\n",
    "amc_name = 'Aditya Birla Sun Life Mutual Fund'\n",
    "logging.info(f\"User Ran Fund Data of {amc_name}\")\n",
    "\n",
    "object = AdityaBirla(PATHS_CONFIG,amc_name,path)\n",
    "path = mutual_fund[amc_name]\n",
    "\n",
    "title,path_pdf = object.check_and_highlight(path)\n",
    "\n",
    "data = object.get_data(path_pdf,title)\n",
    "extracted_text = object.get_generated_content(data)\n",
    "\n",
    "final_text = object.refine_extracted_data(extracted_text, flatten=True)\n",
    "dfs = object.merge_and_select_data(final_text,select=True,map = True,special=True)\n",
    "Helper.quick_json_dump(dfs,object.JSONPATH)"
   ]
  },
  {
   "cell_type": "code",
   "execution_count": null,
   "metadata": {},
   "outputs": [],
   "source": [
    "\"\"\"BANDHAN MF FILE MAIN CODE\"\"\" # rgex for fund manager\n",
    "\n",
    "amc_name = \"Bandhan Mutual Fund\"\n",
    "logging.info(f\"User Ran Fund Data of {amc_name}\")\n",
    "\n",
    "object = Bandhan(PATHS_CONFIG,amc_name,path)\n",
    "path = mutual_fund[amc_name]\n",
    "\n",
    "title,path_pdf= object.check_and_highlight(path)"
   ]
  },
  {
   "cell_type": "code",
   "execution_count": null,
   "metadata": {},
   "outputs": [],
   "source": [
    "object = Bandhan(PATHS_CONFIG,amc_name,path)\n",
    "data  = object.get_data(path_pdf,title)\n",
    "extracted_text = object.get_generated_content(data)\n",
    "Helper.quick_json_dump(extracted_text, object.JSONPATH)"
   ]
  },
  {
   "cell_type": "code",
   "execution_count": null,
   "metadata": {},
   "outputs": [],
   "source": [
    "\n",
    "final_text = object.refine_extracted_data(extracted_text, flatten = True)\n",
    "dfs = object.merge_and_select_data(final_text,select=True, map = True, special = True)\n",
    "Helper.quick_json_dump(dfs, object.JSONPATH)"
   ]
  },
  {
   "cell_type": "code",
   "execution_count": null,
   "metadata": {},
   "outputs": [],
   "source": [
    "\"\"\" BARODA BNP MAIN FILE CODE\"\"\"\n",
    "\n",
    "amc_name = 'Baroda Bnp Paribas Mutual Fund'\n",
    "logging.info(f\"User Ran Fund Data of {amc_name}\")\n",
    "path = mutual_fund[amc_name]\n",
    "object = BarodaBNP(PATHS_CONFIG,amc_name,path)\n",
    "title,path_pdf= object.check_and_highlight(path)"
   ]
  },
  {
   "cell_type": "code",
   "execution_count": null,
   "metadata": {},
   "outputs": [],
   "source": [
    "data  = object.get_data(path_pdf,title)\n",
    "extracted_text = object.get_generated_content(data)"
   ]
  },
  {
   "cell_type": "code",
   "execution_count": null,
   "metadata": {},
   "outputs": [],
   "source": [
    "object = BarodaBNP(PATHS_CONFIG,amc_name,path)\n",
    "final_text = object.refine_extracted_data(extracted_text, flatten = True)\n",
    "dfs = object.merge_and_select_data(final_text, select = True, map = True, special = True)\n",
    "Helper.quick_json_dump(dfs, object.JSONPATH)"
   ]
  },
  {
   "cell_type": "code",
   "execution_count": null,
   "metadata": {},
   "outputs": [],
   "source": [
    "\"\"\"BANK OF INDIA\"\"\" #Regex# pages =[6, 7, 8, 9, 10, 11, 12, 13, 14, 15, 16, 17, 18, 19, 20, 21, 22, 23, 24]\n",
    "\n",
    "amc_name = 'Bank Of India Mutual Fund'\n",
    "logging.info(f\"User Ran Fund Data of {amc_name}\")\n",
    "path = mutual_fund[amc_name]\n",
    "object = BankOfIndia(PATHS_CONFIG,amc_name,path)\n",
    "title,path_pdf= object.check_and_highlight(path)\n",
    "data = object.get_data(path_pdf,title)\n",
    "extracted_text = object.get_generated_content(data)\n",
    "\n",
    "final_text = object.refine_extracted_data(extracted_text)\n",
    "dfs = object.merge_and_select_data(final_text,select = True, map = True, special=True)\n",
    "Helper.quick_json_dump(dfs, object.JSONPATH)"
   ]
  },
  {
   "cell_type": "code",
   "execution_count": null,
   "metadata": {},
   "outputs": [],
   "source": [
    "\"\"\"BAJAJ FINSERV MAIN FILE CODE\"\"\" #manager regex robust # pages = [17, 19, 21, 23, 25, 26, 28, 30, 31, 32, 33, 34, 35, 36, 37, 38]\n",
    "\n",
    "amc_name = 'Bajaj Finserv Mutual Fund'\n",
    "logging.info(f\"User Ran Fund Data of {amc_name}\")\n",
    "path = mutual_fund[amc_name]\n",
    "object = BajajFinServ(PATHS_CONFIG,amc_name,path)\n",
    "\n",
    "title,path_pdf= object.check_and_highlight(path)\n",
    "data = object.get_data(path_pdf,title)\n",
    "extracted_text = object.get_generated_content(data)"
   ]
  },
  {
   "cell_type": "code",
   "execution_count": null,
   "metadata": {},
   "outputs": [],
   "source": [
    "object = BajajFinServ(PATHS_CONFIG,amc_name,path)\n",
    "final_text = object.refine_extracted_data(extracted_text, flatten = True)\n",
    "dfs = object.merge_and_select_data(final_text, select=True,map = True, special=True)\n",
    "Helper.quick_json_dump(dfs, object.JSONPATH)"
   ]
  },
  {
   "cell_type": "code",
   "execution_count": null,
   "metadata": {},
   "outputs": [],
   "source": [
    "\"\"\"CANARA MUTUAL FUND\"\"\" # pages = [8, 9, 10, 11, 12, 13, 14, 15, 16, 17, 18, 19, 20, 21, 22, 23, 24, 25, 26, 27, 28, 29, 30, 31, 32]\n",
    "\n",
    "amc_name = 'Canara Robeco Mutual Fund'\n",
    "logging.info(f\"User Ran Fund Data of {amc_name}\")\n",
    "path = mutual_fund[amc_name]\n",
    "object = Canara(PATHS_CONFIG,amc_name,path)\n",
    "\n",
    "title,path_pdf= object.check_and_highlight(path)\n",
    "data = object.get_data(path_pdf,title)\n",
    "extracted_text = object.get_generated_content(data)"
   ]
  },
  {
   "cell_type": "code",
   "execution_count": null,
   "metadata": {},
   "outputs": [],
   "source": [
    "object = Canara(PATHS_CONFIG,amc_name,path)\n",
    "data = object.get_data(path_pdf,title)\n",
    "extracted_text = object.get_generated_content(data)\n",
    "final_text = object.refine_extracted_data(extracted_text, flatten = True)\n",
    "dfs = object.merge_and_select_data(final_text,select = True,map = True, special=True)\n",
    "Helper.quick_json_dump(dfs, object.JSONPATH)"
   ]
  },
  {
   "cell_type": "code",
   "execution_count": null,
   "metadata": {},
   "outputs": [],
   "source": [
    "object = Canara(PATHS_CONFIG,amc_name,path)\n"
   ]
  },
  {
   "cell_type": "code",
   "execution_count": null,
   "metadata": {},
   "outputs": [],
   "source": [
    "\"\"\"DSP MAIN FILE CODE\"\"\"# pages = [1, 2, 3, 4, 5, 6, 7, 8, 9, 10, 11, 12, 13, 14, 15, 16, 17, 18, 19, 20, 21, 23, 24, 25, 26, 27, 28, 29, 30, 31, 32, 33, 34, 35, 36, 37, 38, 39, 40, 41, 42, 43, 44, 45, 46, 47, 48, 49, 50, 51, 52, 53, 54, 55, 56, 57, 58, 59, 60, 61, 62, 63, 64, 65, 66, 67]\n",
    "\n",
    "amc_name = 'Dsp Mutual Fund'\n",
    "logging.info(f\"User Ran Fund Data of {amc_name}\")\n",
    "path = mutual_fund['Dsp Mutual Fund']\n",
    "object = DSP(PATHS_CONFIG,amc_name,path)\n",
    "title,path_pdf= object.check_and_highlight(path)\n",
    "\n",
    "data = object.get_data(path_pdf,title)\n",
    "extracted_text = object.get_generated_content(data)\n",
    "\n",
    "final_text = object.refine_extracted_data(extracted_text,flatten = True)\n",
    "dfs = object.merge_and_select_data(final_text,map = True, select = True,special = True)\n",
    "Helper.quick_json_dump(dfs,object.JSONPATH)"
   ]
  },
  {
   "cell_type": "code",
   "execution_count": null,
   "metadata": {},
   "outputs": [],
   "source": [
    "\"\"\"EDELWEISS MP FILE MAIN CODE\"\"\" #Issues: objective in seperate dict,#metrics are weird, scheme launch date issue\n",
    "\n",
    "amc_name = 'Edelweiss Mutual Fund'\n",
    "logging.info(f\"User Ran Fund Data of {amc_name}\")\n",
    "path = mutual_fund[amc_name]\n",
    "object = Edelweiss(PATHS_CONFIG,amc_name,path)\n",
    "title,path_pdf= object.check_and_highlight(path)\n",
    "\n",
    "data = object.get_data(path_pdf,title)\n",
    "extracted_text = object.get_generated_content(data)\n",
    "object = Edelweiss(PATHS_CONFIG,amc_name,path)\n",
    "final_text = object.refine_extracted_data(extracted_text, flatten = True)\n",
    "dfs = object.merge_and_select_data(final_text, select = True, map = True, special =True)\n",
    "Helper.quick_json_dump(dfs, object.JSONPATH)"
   ]
  },
  {
   "cell_type": "code",
   "execution_count": null,
   "metadata": {},
   "outputs": [],
   "source": [
    "\"\"\"FRANKLIN TEMPLETON FILE MAIN CODE\"\"\"\n",
    "\n",
    "amc_name = \"Franklin Templeton Mutual Fund\"\n",
    "logging.info(f\"User Ran Fund Data of {amc_name}\")\n",
    "path = mutual_fund[amc_name]\n",
    "object = FranklinTempleton(PATHS_CONFIG,amc_name,path)\n",
    "title,path_pdf= object.check_and_highlight(path)\n",
    "\n",
    "# pages = [17, 18, 19, 20, 21, 22, 23, 24, 25, 26, 27, 28, 29, 30, 31, 32, 33, 34, 35, 36, 37, 38, 39, 40, 41, 42, 43, 44, 45, 46, 47, 48, 49, 50]\n",
    "data = object.get_data(path_pdf,title)\n",
    "extracted_text = object.get_generated_content(data)"
   ]
  },
  {
   "cell_type": "code",
   "execution_count": 16,
   "metadata": {},
   "outputs": [
    {
     "name": "stdout",
     "output_type": "stream",
     "text": [
      "\n",
      "  JSON saved at C:\\Users\\rando\\OneDrive\\Documents\\mywork-repo\\data\\output\\dump_franklin_22_20_30.json\n"
     ]
    }
   ],
   "source": [
    "Helper.quick_json_dump(extracted_text, object.JSONPATH)"
   ]
  },
  {
   "cell_type": "code",
   "execution_count": 33,
   "metadata": {},
   "outputs": [
    {
     "name": "stdout",
     "output_type": "stream",
     "text": [
      "Function Running: refine_extracted_data\n",
      "Function Running: merge_and_select_data\n",
      "\n",
      "  JSON saved at C:\\Users\\rando\\OneDrive\\Documents\\mywork-repo\\data\\output\\dump_franklin_23_05_46.json\n"
     ]
    }
   ],
   "source": [
    "object = FranklinTempleton(PATHS_CONFIG,amc_name,path)\n",
    "final_text = object.refine_extracted_data(extracted_text, flatten = True)\n",
    "dfs = object.merge_and_select_data(final_text,select = True,map = True, special=True)\n",
    "Helper.quick_json_dump(dfs, object.JSONPATH)"
   ]
  },
  {
   "cell_type": "code",
   "execution_count": 78,
   "metadata": {},
   "outputs": [
    {
     "name": "stdout",
     "output_type": "stream",
     "text": [
      "Function Running: check_and_highlight\n",
      "Function Running: _get_normal_title\n",
      "Regex: (GROWW.*?(?:FUND|Fund|ETF\\s*(?:FOF)?))\n",
      "13 -- GROWW LARGE CAP FUND\n",
      "14 -- GROWW LARGE CAP FUND\n",
      "15 -- GROWW AGGRESSIVE HYBRID FUND\n",
      "16 -- GROWW AGGRESSIVE HYBRID FUND\n",
      "17 -- GROWW VALUE FUND\n",
      "18 -- GROWW VALUE FUND\n",
      "19 -- GROWW ELSS TAX SAVER FUND\n",
      "20 -- GROWW ELSS TAX SAVER FUND\n",
      "21 -- GROWW MULTICAP FUND\n",
      "22 -- GROWW Nifty Total Market Index Fund\n",
      "23 -- GROWW Nifty Total Market Index Fund\n",
      "24 -- GROWW Banking & Financial Services Fund\n",
      "25 -- GROWW Banking & Financial Services Fund\n",
      "26 -- GROWW Nifty Smallcap 250 Index Fund\n",
      "27 -- GROWW Nifty Smallcap 250 Index Fund\n",
      "28 -- GROWW Nifty EV & New Age Automotive ETF\n",
      "29 -- GROWW Nifty EV & New Age Automotive ETF FOF\n",
      "30 -- GROWW Nifty Non-Cyclical Consumer Index Fund\n",
      "31 -- GROWW Nifty Non-Cyclical Consumer Index Fund\n",
      "32 -- GROWW Nifty 1D Rate Liquid ETF\n",
      "33 -- GROWW Nifty India Defence ETF\n",
      "34 -- GROWW Nifty India Defence ETF FOF\n",
      "35 -- GROWW Gold ETF\n",
      "36 -- GROWW Gold ETF FOF\n",
      "37 -- GROWW OVERNIGHT FUND\n",
      "38 -- GROWW LIQUID FUND\n",
      "39 -- GROWW LIQUID FUND\n",
      "40 -- GROWW SHORT DURATION FUND\n",
      "41 -- GROWW SHORT DURATION FUND\n",
      "42 -- GROWW DYNAMIC BOND FUND\n",
      "43 -- GROWW DYNAMIC BOND FUND\n",
      "\tHlted PDF at: E:\\PDFDrive\\Jan25\\Groww Mutual Fund\\20_31-Jan-25_FS_hltd.pdf\n",
      "\n",
      "\tDoc Saved At: C:\\Users\\rando\\OneDrive\\Documents\\mywork-repo\\data\\output\\pdf_report.xlsx\n",
      "\n",
      "\n",
      "Function Running: get_data\n",
      "Function Running: extract_data_relative_line\n",
      "Function Running: extract_span_data\n",
      "Function Running: process_text_data\n",
      "Function Running: create_nested_dict\n",
      "Function Running: get_generated_content\n",
      "Parsing Completed, Refining Data.....\n",
      "\n",
      "-------------\n",
      "FUND: GROWW LARGE CAP FUND\n",
      "MATCH: ['LARGE CAP']\n",
      "REPLACEMENT: GROWW Large Cap Fund\n",
      "--<<GROWW Large Cap Fund>>--\n",
      "-------------\n",
      "FUND: GROWW AGGRESSIVE HYBRID FUND\n",
      "MATCH: ['AGGRESSIVE HYBRID']\n",
      "REPLACEMENT: GROWW Aggressive Hybrid Fund\n",
      "--<<GROWW Aggressive Hybrid Fund>>--\n",
      "-------------\n",
      "FUND: GROWW VALUE FUND\n",
      "MATCH: ['VALUE']\n",
      "REPLACEMENT: GROWW Value Fund\n",
      "--<<GROWW Value Fund>>--\n",
      "-------------\n",
      "FUND: GROWW ELSS TAX SAVER FUND\n",
      "MATCH: ['ELSS TAX SAVER']\n",
      "REPLACEMENT: GROWW ELSS Tax Saver Fund\n",
      "--<<GROWW ELSS Tax Saver Fund>>--\n",
      "-------------\n",
      "FUND: GROWW MULTICAP FUND\n",
      "MATCH: ['MULTICAP']\n",
      "REPLACEMENT: GROWW Multicap Fund\n",
      "--<<GROWW Multicap Fund>>--\n",
      "-------------\n",
      "FUND: GROWW Nifty Total Market Index Fund\n",
      "MATCH: ['Total Market Index']\n",
      "REPLACEMENT: GROWW Nifty Total Market Index Fund\n",
      "--<<GROWW Nifty Total Market Index Fund>>--\n",
      "-------------\n",
      "FUND: GROWW Banking & Financial Services Fund\n",
      "MATCH: ['Banking & Financial Services']\n",
      "REPLACEMENT: GROWW Banking & Financial Services Fund\n",
      "--<<GROWW Banking & Financial Services Fund>>--\n",
      "-------------\n",
      "FUND: GROWW Nifty Smallcap 250 Index Fund\n",
      "MATCH: ['Smallcap 250 Index']\n",
      "REPLACEMENT: GROWW Nifty Smallcap 250 Index Fund\n",
      "--<<GROWW Nifty Smallcap 250 Index Fund>>--\n",
      "-------------\n",
      "FUND: GROWW Nifty EV & New Age Automotive ETF\n",
      "MATCH: ['Nifty EV & New Age Automotive ETF']\n",
      "REPLACEMENT: GROWW Nifty EV & New Age Automotive ETF FOF\n",
      "--<<GROWW Nifty EV & New Age Automotive ETF FOF>>--\n",
      "-------------\n",
      "FUND: GROWW Nifty EV & New Age Automotive ETF FOF\n",
      "MATCH: ['Nifty EV & New Age Automotive ETF']\n",
      "REPLACEMENT: GROWW Nifty EV & New Age Automotive ETF FOF\n",
      "--<<GROWW Nifty EV & New Age Automotive ETF FOF>>--\n",
      "-------------\n",
      "FUND: GROWW Nifty Non-Cyclical Consumer Index Fund\n",
      "MATCH: ['Nifty Non-Cyclical Consumer Index']\n",
      "REPLACEMENT: GROWW Nifty Non-Cyclical Consumer Index Fund\n",
      "--<<GROWW Nifty Non-Cyclical Consumer Index Fund>>--\n",
      "-------------\n",
      "FUND: GROWW Nifty 1D Rate Liquid ETF\n",
      "MATCH: ['Liquid']\n",
      "REPLACEMENT: GROWW Liquid Fund\n",
      "--<<GROWW Liquid Fund>>--\n",
      "-------------\n",
      "FUND: GROWW Nifty India Defence ETF\n",
      "MATCH: ['Nifty India Defence ETF']\n",
      "REPLACEMENT: GROWW Nifty India Defence ETF\n",
      "--<<GROWW Nifty India Defence ETF>>--\n",
      "-------------\n",
      "FUND: GROWW Nifty India Defence ETF FOF\n",
      "MATCH: ['Nifty India Defence ETF']\n",
      "REPLACEMENT: GROWW Nifty India Defence ETF\n",
      "--<<GROWW Nifty India Defence ETF>>--\n",
      "-------------\n",
      "FUND: GROWW Gold ETF\n",
      "MATCH: ['Gold ETF']\n",
      "REPLACEMENT: GROWW Gold ETF\n",
      "--<<GROWW Gold ETF>>--\n",
      "-------------\n",
      "FUND: GROWW Gold ETF FOF\n",
      "MATCH: ['Gold ETF']\n",
      "REPLACEMENT: GROWW Gold ETF\n",
      "--<<GROWW Gold ETF>>--\n",
      "-------------\n",
      "FUND: GROWW OVERNIGHT FUND\n",
      "MATCH: ['OVERNIGHT']\n",
      "REPLACEMENT: GROWW Overnight Fund\n",
      "--<<GROWW Overnight Fund>>--\n",
      "-------------\n",
      "FUND: GROWW LIQUID FUND\n",
      "MATCH: ['LIQUID']\n",
      "REPLACEMENT: GROWW Liquid Fund\n",
      "--<<GROWW Liquid Fund>>--\n",
      "-------------\n",
      "FUND: GROWW SHORT DURATION FUND\n",
      "MATCH: ['SHORT DURATION']\n",
      "REPLACEMENT: GROWW Short Duration Fund\n",
      "--<<GROWW Short Duration Fund>>--\n",
      "-------------\n",
      "FUND: GROWW DYNAMIC BOND FUND\n",
      "MATCH: ['DYNAMIC BOND']\n",
      "REPLACEMENT: GROWW Dynamic Bond Fund\n",
      "--<<GROWW Dynamic Bond Fund>>--\n"
     ]
    }
   ],
   "source": [
    "\"\"\"GROWW MUTUAL FUND MAIN CODE\"\"\"# pages = [13, 14, 15, 16, 17, 18, 19, 20, 21, 22, 23, 24, 26, 28, 29, 30, 32, 33, 34, 35, 36, 37, 38, 39, 40, 41, 42]\n",
    "\n",
    "amc_name = \"Groww Mutual Fund\"\n",
    "logging.info(f\"User Ran Fund Data of {amc_name}\")\n",
    "path = mutual_fund[amc_name]\n",
    "object = GROWW(PATHS_CONFIG,amc_name,path)\n",
    "title,path_pdf= object.check_and_highlight(path)\n",
    "\n",
    "data = object.get_data(path_pdf,title)\n",
    "extracted_text = object.get_generated_content(data)"
   ]
  },
  {
   "cell_type": "code",
   "execution_count": 79,
   "metadata": {},
   "outputs": [
    {
     "name": "stdout",
     "output_type": "stream",
     "text": [
      "\n",
      "  JSON saved at C:\\Users\\rando\\OneDrive\\Documents\\mywork-repo\\data\\output\\dump_groww_01_00_00.json\n"
     ]
    }
   ],
   "source": [
    "Helper.quick_json_dump(extracted_text,object.JSONPATH)"
   ]
  },
  {
   "cell_type": "code",
   "execution_count": 80,
   "metadata": {},
   "outputs": [
    {
     "name": "stdout",
     "output_type": "stream",
     "text": [
      "Function Running: refine_extracted_data\n",
      "\n",
      "  JSON saved at C:\\Users\\rando\\OneDrive\\Documents\\mywork-repo\\data\\output\\dump_groww_01_00_46.json\n"
     ]
    }
   ],
   "source": [
    "final_text = object.refine_extracted_data(extracted_text, flatten = True)\n",
    "# dfs = object.merge_and_select_data(final_text,select = True, map = True, special = True)\n",
    "Helper.quick_json_dump(final_text,object.JSONPATH)"
   ]
  },
  {
   "cell_type": "code",
   "execution_count": null,
   "metadata": {},
   "outputs": [],
   "source": []
  },
  {
   "cell_type": "code",
   "execution_count": null,
   "metadata": {},
   "outputs": [],
   "source": [
    "\"\"\"HDFC MUTUAL FUND\"\"\" # pages = [5, 6, 8, 10, 11, 12, 13, 14, 15, 16, 17, 18, 19, 20, 21, 22, 23, 24, 25, 26, 27, 28, 29, 30, 31, 32, 33, 34, 35, 36, 37, 38, 39, 40, 41, 42, 43, 44, 45, 46, 47, 48, 49, 50, 51]\n",
    "\n",
    "amc_name = \"Hdfc Mutual Fund\"\n",
    "logging.info(f\"User Ran Fund Data of {amc_name}\")\n",
    "path = mutual_fund[amc_name]\n",
    "object = HDFC(PATHS_CONFIG,amc_name,path)\n",
    "title,path_pdf= object.check_and_highlight(path)\n",
    "\n",
    "data = object.get_data(path_pdf,title)\n",
    "extracted_text = object.get_generated_content(data)"
   ]
  },
  {
   "cell_type": "code",
   "execution_count": 36,
   "metadata": {},
   "outputs": [
    {
     "name": "stdout",
     "output_type": "stream",
     "text": [
      "\n",
      "  JSON saved at C:\\Users\\Kaustubh.keny\\Projects\\office-work\\mywork-repo\\data\\MAR25DATA\\dump_hdfc_12_22_14.json\n"
     ]
    }
   ],
   "source": [
    "Helper.quick_json_dump(extracted_text,object.JSONPATH)"
   ]
  },
  {
   "cell_type": "code",
   "execution_count": 38,
   "metadata": {},
   "outputs": [
    {
     "name": "stdout",
     "output_type": "stream",
     "text": [
      "Function Running: refine_extracted_data\n",
      "Function Running: merge_and_select_data\n",
      "\n",
      "  JSON saved at C:\\Users\\Kaustubh.keny\\Projects\\office-work\\mywork-repo\\data\\MAR25DATA\\dump_hdfc_12_28_12.json\n"
     ]
    }
   ],
   "source": [
    "object = HDFC(PATHS_CONFIG,amc_name,path)\n",
    "final_text = object.refine_extracted_data(extracted_text,flatten = True)\n",
    "dfs = object.merge_and_select_data(final_text, select = True,map = True,special = True)\n",
    "Helper.quick_json_dump(dfs,object.JSONPATH)"
   ]
  },
  {
   "cell_type": "code",
   "execution_count": null,
   "metadata": {},
   "outputs": [],
   "source": []
  },
  {
   "cell_type": "code",
   "execution_count": null,
   "metadata": {},
   "outputs": [],
   "source": [
    "\"\"\"HDFC MUTUAL FUND PASSIVE\"\"\" # pages = [5, 6, 8, 10, 11, 12, 13, 14, 15, 16, 17, 18, 19, 20, 21, 22, 23, 24, 25, 26, 27, 28, 29, 30, 31, 32, 33, 34, 35, 36, 37, 38, 39, 40, 41, 42, 43, 44, 45, 46, 47, 48, 49, 50, 51]\n",
    "\n",
    "amc_name = \"Hdfc Mutual Fund Passive\"\n",
    "logging.info(f\"User Ran Fund Data of {amc_name}\")\n",
    "path = mutual_fund[amc_name]\n",
    "object = HDFC(PATHS_CONFIG,amc_name,path)\n",
    "title,path_pdf= object.check_and_highlight(path)\n",
    "\n",
    "data = object.get_data(path_pdf,title)\n",
    "extracted_text = object.get_generated_content(data)\n",
    "final_text = object.refine_extracted_data(extracted_text,flatten = True)\n",
    "dfs = object.merge_and_select_data(final_text, select = True,map = True,special=True)\n",
    "Helper.quick_json_dump(dfs,object.JSONPATH)"
   ]
  },
  {
   "cell_type": "code",
   "execution_count": null,
   "metadata": {},
   "outputs": [],
   "source": [
    "\"\"\"HELIOS MF FILE MAIN CODE\"\"\" # pages = [2, 4, 6, 8,10]\n",
    "\n",
    "amc_name = 'Helios Mutual Fund'\n",
    "logging.info(f\"User Ran Fund Data of {amc_name}\")\n",
    "path = mutual_fund[amc_name]\n",
    "object = Helios(PATHS_CONFIG,amc_name,path)\n",
    "title,path_pdf= object.check_and_highlight(path)\n",
    "\n",
    "data = object.get_data(path_pdf,title)\n",
    "extracted_text = object.get_generated_content(data)\n",
    "final_text = object.refine_extracted_data(extracted_text, flatten=True)\n",
    "dfs = object.merge_and_select_data(final_text,select= True,map = True, special = True)\n",
    "Helper.quick_json_dump(dfs,object.JSONPATH)"
   ]
  },
  {
   "cell_type": "code",
   "execution_count": null,
   "metadata": {},
   "outputs": [],
   "source": [
    "\"\"\" ICICI MF MAIN FILE CODE\"\"\" #pages = [8, 9, 11, 13, 15, 16, 17, 18, 19, 20, 21, 22, 23, 24, 25, 27, 28, 29, 30, 31, 32, 33, 34, 35, 36, 37, 39, 40, 41, 42, 43, 44, 46, 47, 49, 51, 53, 55, 56, 58, 59, 60, 62, 64, 65, 66, 67, 68, 69, 71, 72, 74, 75, 77, 78, 80]\n",
    "\n",
    "amc_name = \"Icici Prudential Mutual Fund\"\n",
    "logging.info(f\"User Ran Fund Data of {amc_name}\")\n",
    "path = mutual_fund[amc_name]\n",
    "object = ICICI(PATHS_CONFIG,amc_name,path)\n",
    "title,path_pdf = object.check_and_highlight(path)\n",
    "\n",
    "# data = object.get_data(path_pdf,title)\n",
    "# extracted_text = object.get_generated_content(data)\n",
    "\n",
    "# final_text = object.refine_extracted_data(extracted_text, flatten=True)\n",
    "# dfs = object.merge_and_select_data(final_text,select= True,map = True,special=True)\n",
    "# Helper.quick_json_dump(dfs,object.JSONPATH)"
   ]
  },
  {
   "cell_type": "code",
   "execution_count": null,
   "metadata": {},
   "outputs": [],
   "source": [
    "\"\"\" ICICI MF MAIN FILE CODE PASSIVE\"\"\"# pages = [8, 9, 11, 13, 15, 16, 17, 18, 19, 20, 21, 22, 23, 24, 25, 27, 28, 29, 30, 31, 32, 33, 34, 35, 36, 37, 39, 40, 41, 42, 43, 44, 46, 47, 49, 51, 53, 55, 56, 58, 59, 60, 62, 64, 65, 66, 67, 68, 69, 71, 72, 74, 75, 77, 78, 80]\n",
    "\n",
    "amc_name = \"Icici Prudential Mutual Fund Passive\"\n",
    "logging.info(f\"User Ran Fund Data of {amc_name}\")\n",
    "path = mutual_fund[amc_name]\n",
    "object = ICICI(PATHS_CONFIG,amc_name,path)\n",
    "title,path_pdf = object.check_and_highlight(path)\n"
   ]
  },
  {
   "cell_type": "code",
   "execution_count": null,
   "metadata": {},
   "outputs": [],
   "source": [
    "object = ICICI(PATHS_CONFIG,amc_name,path)\n",
    "data = object.get_data(path_pdf,title)\n",
    "extracted_text = object.get_generated_content(data)"
   ]
  },
  {
   "cell_type": "code",
   "execution_count": null,
   "metadata": {},
   "outputs": [],
   "source": [
    "object = ICICI(PATHS_CONFIG,amc_name,path)\n",
    "final_text = object.refine_extracted_data(extracted_text, flatten=True)\n",
    "dfs = object.merge_and_select_data(final_text,select= True,map = True,special=True)\n",
    "Helper.quick_json_dump(dfs,object.JSONPATH)"
   ]
  },
  {
   "cell_type": "code",
   "execution_count": null,
   "metadata": {},
   "outputs": [],
   "source": [
    "\"\"\" INVESCO MF MAIN FILE CODE\"\"\" # pages = [4, 5, 6, 7, 8, 9, 10, 11, 12, 13, 14, 15, 16, 17, 18, 19, 21, 22, 23, 24, 25, 26, 27, 28, 29, 30, 31, 32, 33, 34, 35, 36, 37, 38, 39, 40, 41, 42, 43]\n",
    "\n",
    "amc_name = 'Invesco Mutual Fund'\n",
    "logging.info(f\"User Ran Fund Data of {amc_name}\")\n",
    "path = mutual_fund[amc_name]\n",
    "object = Invesco(PATHS_CONFIG,amc_name,path)\n",
    "title,path_pdf = object.check_and_highlight(path)"
   ]
  },
  {
   "cell_type": "code",
   "execution_count": null,
   "metadata": {},
   "outputs": [],
   "source": [
    "object = Invesco(PATHS_CONFIG,amc_name,path)\n",
    "data = object.get_data(path_pdf,title)\n",
    "extracted_text = object.get_generated_content(data)\n",
    "Helper.quick_json_dump(extracted_text, object.JSONPATH)"
   ]
  },
  {
   "cell_type": "code",
   "execution_count": 77,
   "metadata": {},
   "outputs": [
    {
     "name": "stdout",
     "output_type": "stream",
     "text": [
      "Function Running: refine_extracted_data\n",
      "Function Running: merge_and_select_data\n",
      "\n",
      "  JSON saved at C:\\Users\\rando\\OneDrive\\Documents\\mywork-repo\\data\\output\\dump_invesco_00_54_03.json\n"
     ]
    }
   ],
   "source": [
    "object = Invesco(PATHS_CONFIG,amc_name,path)\n",
    "final_text = object.refine_extracted_data(extracted_text, flatten = True)\n",
    "dfs = object.merge_and_select_data(final_text,select = True,map = True, special = True)\n",
    "Helper.quick_json_dump(dfs, object.JSONPATH)"
   ]
  },
  {
   "cell_type": "code",
   "execution_count": null,
   "metadata": {},
   "outputs": [],
   "source": [
    "\"\"\"ITI MAIN FILE CODE\"\"\" # pages = [9, 10, 11, 12, 13, 14, 15, 16, 17, 18, 19, 20, 21, 22, 23, 24, 25, 26]\n",
    "\n",
    "amc_name = 'Iti Mutual Fund'\n",
    "logging.info(f\"User Ran Fund Data of {amc_name}\")\n",
    "path = mutual_fund[amc_name]\n",
    "object = ITI(PATHS_CONFIG,amc_name,path)\n",
    "title,path_pdf= object.check_and_highlight(path)"
   ]
  },
  {
   "cell_type": "code",
   "execution_count": null,
   "metadata": {},
   "outputs": [],
   "source": [
    "object = ITI(PATHS_CONFIG,amc_name,path)\n",
    "data = object.get_data(path_pdf,title)\n",
    "extracted_text = object.get_generated_content(data)\n",
    "Helper.quick_json_dump(extracted_text, object.JSONPATH)"
   ]
  },
  {
   "cell_type": "code",
   "execution_count": 242,
   "metadata": {},
   "outputs": [
    {
     "name": "stdout",
     "output_type": "stream",
     "text": [
      "Function Running: refine_extracted_data\n",
      "Function Running: merge_and_select_data\n",
      "\n",
      "  JSON saved at C:\\Users\\rando\\OneDrive\\Documents\\mywork-repo\\data\\output\\dump_iti_23_01_00.json\n"
     ]
    }
   ],
   "source": [
    "object = ITI(PATHS_CONFIG,amc_name,path)\n",
    "final_text = object.refine_extracted_data(extracted_text,flatten = True)\n",
    "dfs= object.merge_and_select_data(final_text,select = True,map = True, special=True)\n",
    "Helper.quick_json_dump(dfs, object.JSONPATH)"
   ]
  },
  {
   "cell_type": "code",
   "execution_count": null,
   "metadata": {},
   "outputs": [],
   "source": [
    "\"\"\"JM FUND MAIN FILE CODE\"\"\"# pages = [18, 19, 20, 21, 22, 23, 24, 25, 26, 27, 28, 29, 30, 31, 32, 33]\n",
    "\n",
    "amc_name = 'Jm Financial Mutual Fund'\n",
    "logging.info(f\"User Ran Fund Data of {amc_name}\")\n",
    "path = mutual_fund[amc_name]\n",
    "object = JMMF(PATHS_CONFIG,amc_name,path)\n",
    "title,path_pdf= object.check_and_highlight(path)\n",
    "\n",
    "data = object.get_data(path_pdf,title)\n",
    "extracted_text = object.get_generated_content(data)\n",
    "final_text = object.refine_extracted_data(extracted_text, flatten = True)\n",
    "dfs = object.merge_and_select_data(final_text,select = True, map = True, special = True)\n",
    "Helper.quick_json_dump(dfs, object.JSONPATH)"
   ]
  },
  {
   "cell_type": "code",
   "execution_count": null,
   "metadata": {},
   "outputs": [],
   "source": [
    "\"\"\"KOTAK FUND MAIN CODE\"\"\" # pages = [5, 6, 7, 8, 9, 10, 11, 12, 13, 14, 15, 16, 17, 18, 19, 20, 21, 22, 23, 24, 25, 26, 27, 28, 29, 30, 32, 34, 36, 37, 38, 40, 41, 43, 44, 46, 48, 49, 50, 52, 54, 55, 56, 69, 70, 71, 72, 73, 74, 75, 76, 77, 78, 79, 80, 81, 82, 83, 84, 85, 86, 87, 88, 89, 90, 91, 92, 93, 94, 95, 96, 97, 98, 99, 100, 101, 102, 103, 104, 105, 106, 107, 108]\n",
    "\n",
    "amc_name = 'Kotak Mahindra Mutual Fund'\n",
    "logging.info(f\"User Ran Fund Data of {amc_name}\")\n",
    "path = mutual_fund[amc_name]\n",
    "object = Kotak(PATHS_CONFIG,amc_name,path)\n",
    "title,path_pdf= object.check_and_highlight(path)\n",
    "\n",
    "data = object.get_data(path_pdf,title)\n",
    "extracted_text = object.get_generated_content(data)\n",
    "final_text = object.refine_extracted_data(extracted_text,flatten= True)\n",
    "dfs = object.merge_and_select_data(final_text, select = True, map = True, special=True)\n",
    "Helper.quick_json_dump(dfs, object.JSONPATH)"
   ]
  },
  {
   "cell_type": "code",
   "execution_count": null,
   "metadata": {},
   "outputs": [],
   "source": [
    "\"\"\"LIC FUND MAIN CODE\"\"\" #issue: OCR for title bcz they're images\n",
    "amc_name = 'Lic Mutual Fund'\n",
    "logging.info(f\"User Ran Fund Data of {amc_name}\")\n",
    "path = mutual_fund[amc_name]\n",
    "object = LIC(PATHS_CONFIG,amc_name,path)\n",
    "title,path_pdf = object.check_and_highlight(path)\n",
    "\n",
    "data = object.get_data(path_pdf,title)\n",
    "extracted_text = object.get_generated_content(data)\n",
    "\n",
    "final_text = object.refine_extracted_data(extracted_text, flatten = True)\n",
    "dfs = object.merge_and_select_data(final_text,select = True, map = True, special = True)\n",
    "Helper.quick_json_dump(dfs, object.JSONPATH)"
   ]
  },
  {
   "cell_type": "code",
   "execution_count": null,
   "metadata": {},
   "outputs": [],
   "source": [
    "\"\"\"MAHINDRA MANULIFE MAIN CODE\"\"\" #incrase pages count\n",
    "\n",
    "amc_name = 'Mahindra Manulife Mutual Fund'\n",
    "logging.info(f\"User Ran Fund Data of {amc_name}\")\n",
    "path = mutual_fund[amc_name]\n",
    "object = MahindraManu(PATHS_CONFIG,amc_name,path)\n",
    "title,path_pdf = object.check_and_highlight(path)\n",
    "\n",
    "data = object.get_data(path_pdf,title)\n",
    "extracted_text = object.get_generated_content(data)"
   ]
  },
  {
   "cell_type": "code",
   "execution_count": 6,
   "metadata": {},
   "outputs": [
    {
     "name": "stdout",
     "output_type": "stream",
     "text": [
      "\n",
      "  JSON saved at C:\\Users\\rando\\OneDrive\\Documents\\mywork-repo\\data\\output\\dump_mahindra_21_35_25.json\n"
     ]
    }
   ],
   "source": [
    "Helper.quick_json_dump(extracted_text, object.JSONPATH)"
   ]
  },
  {
   "cell_type": "code",
   "execution_count": null,
   "metadata": {},
   "outputs": [],
   "source": [
    "object = MahindraManu(PATHS_CONFIG,amc_name,path)\n",
    "final_text = object.refine_extracted_data(extracted_text, flatten =True)\n",
    "dfs = object.merge_and_select_data(final_text,select = True, map = True, special=True)\n",
    "Helper.quick_json_dump(dfs, object.JSONPATH)"
   ]
  },
  {
   "cell_type": "code",
   "execution_count": null,
   "metadata": {},
   "outputs": [],
   "source": []
  },
  {
   "cell_type": "code",
   "execution_count": null,
   "metadata": {},
   "outputs": [],
   "source": [
    "\"\"\"MOTILAL OSWAL PASSIVE MAIN CODE FILE\"\"\" #Fund Manager Regex\n",
    "\n",
    "amc_name = 'Motilal Oswal Mutual Fund Passive'\n",
    "logging.info(f\"User Ran Fund Data of {amc_name}\")\n",
    "path = mutual_fund[amc_name]\n",
    "object = MotilalOswalPassive(PATHS_CONFIG,amc_name,path)\n",
    "\n",
    "title,path_pdf= object.check_and_highlight(path)\n",
    "data = object.get_data(path_pdf,title)\n",
    "extracted_text = object.get_generated_content(data)"
   ]
  },
  {
   "cell_type": "code",
   "execution_count": 107,
   "metadata": {},
   "outputs": [
    {
     "name": "stdout",
     "output_type": "stream",
     "text": [
      "\n",
      "  JSON saved at C:\\Users\\rando\\OneDrive\\Documents\\mywork-repo\\data\\output\\dump_motilal_16_51_58.json\n"
     ]
    }
   ],
   "source": [
    "Helper.quick_json_dump(extracted_text, object.JSONPATH)"
   ]
  },
  {
   "cell_type": "code",
   "execution_count": null,
   "metadata": {},
   "outputs": [],
   "source": [
    "final_text = object.refine_extracted_data(extracted_text, flatten= True)\n",
    "dfs = object.merge_and_select_data(final_text,select = True,map = True, special = True)\n",
    "Helper.quick_json_dump(dfs, object.JSONPATH)"
   ]
  },
  {
   "cell_type": "code",
   "execution_count": null,
   "metadata": {},
   "outputs": [],
   "source": [
    "\"\"\"MOTILAL OSWAL MAIN CODE FILE\"\"\" #Fund Manager Regex\n",
    "\n",
    "amc_name = 'Motilal Oswal Mutual Fund'\n",
    "logging.info(f\"User Ran Fund Data of {amc_name}\")\n",
    "path = mutual_fund[amc_name]\n",
    "object = MotilalOswal(PATHS_CONFIG,amc_name,path)\n",
    "title,path_pdf= object.check_and_highlight(path)"
   ]
  },
  {
   "cell_type": "code",
   "execution_count": null,
   "metadata": {},
   "outputs": [],
   "source": [
    "object = MotilalOswal(PATHS_CONFIG,amc_name,path)\n",
    "data = object.get_data(path_pdf,title)\n",
    "extracted_text = object.get_generated_content(data)\n",
    "Helper.quick_json_dump(extracted_text, object.JSONPATH)"
   ]
  },
  {
   "cell_type": "code",
   "execution_count": null,
   "metadata": {},
   "outputs": [],
   "source": [
    "object = MotilalOswal(PATHS_CONFIG,amc_name,path)\n",
    "final_text = object.refine_extracted_data(extracted_text, flatten= True)\n",
    "dfs = object.merge_and_select_data(final_text,select = True,map = True, special = True)\n",
    "Helper.quick_json_dump(dfs, object.JSONPATH)"
   ]
  },
  {
   "cell_type": "code",
   "execution_count": null,
   "metadata": {},
   "outputs": [],
   "source": [
    "\"\"\"MIRAE MAIN FILE CODE PASSIVE\"\"\"\n",
    "\n",
    "amc_name = 'Mirae Asset Mutual Fund Passive'\n",
    "logging.info(f\"User Ran Fund Data of {amc_name}\")\n",
    "path = mutual_fund[amc_name]\n",
    "object = MIRAEPassive(PATHS_CONFIG,amc_name,path)\n",
    "title,path_pdf= object.check_and_highlight(path)\n",
    "\n",
    "data = object.get_data(path_pdf,title)\n",
    "extracted_text = object.get_generated_content(data)\n",
    "\n",
    "final_text = object.refine_extracted_data(extracted_text, flatten=True)\n",
    "dfs = object.merge_and_select_data(final_text,select = True, map = True, special=True)\n",
    "Helper.quick_json_dump(dfs, object.JSONPATH)"
   ]
  },
  {
   "cell_type": "code",
   "execution_count": null,
   "metadata": {},
   "outputs": [],
   "source": [
    "\"\"\"MIRAE MAIN FILE CODE\"\"\"\n",
    "\n",
    "amc_name = 'Mirae Asset Mutual Fund'\n",
    "logging.info(f\"User Ran Fund Data of {amc_name}\")\n",
    "path = mutual_fund[amc_name]\n",
    "object = MIRAE(PATHS_CONFIG,amc_name,path)\n",
    "title,path_pdf= object.check_and_highlight(path)\n",
    "\n",
    "data = object.get_data(path_pdf,title)\n",
    "extracted_text = object.get_generated_content(data)\n",
    "\n",
    "final_text = object.refine_extracted_data(extracted_text, flatten=True)\n",
    "dfs = object.merge_and_select_data(final_text,select = True, map = True, special = True)\n",
    "Helper.quick_json_dump(dfs, object.JSONPATH)"
   ]
  },
  {
   "cell_type": "code",
   "execution_count": null,
   "metadata": {},
   "outputs": [],
   "source": [
    "\"\"\"NAVI MAIN FILE CODE\"\"\" #Issue: Left and right\n",
    "\n",
    "amc_name = 'Navi Mutual Fund'\n",
    "logging.info(f\"User Ran Fund Data of {amc_name}\")\n",
    "path = mutual_fund[amc_name]\n",
    "object = NAVI(PATHS_CONFIG,amc_name,path)\n",
    "title,path_pdf = object.check_and_highlight(path)"
   ]
  },
  {
   "cell_type": "code",
   "execution_count": null,
   "metadata": {},
   "outputs": [],
   "source": [
    "object = NAVI(PATHS_CONFIG,amc_name,path)\n",
    "data = object.get_data(path_pdf,title)\n",
    "extracted_text = object.get_generated_content(data)\n",
    "Helper.quick_json_dump(extracted_text, object.JSONPATH)"
   ]
  },
  {
   "cell_type": "code",
   "execution_count": 62,
   "metadata": {},
   "outputs": [
    {
     "name": "stdout",
     "output_type": "stream",
     "text": [
      "Function Running: refine_extracted_data\n",
      "Function Running: merge_and_select_data\n",
      "\n",
      "  JSON saved at C:\\Users\\rando\\OneDrive\\Documents\\mywork-repo\\data\\output\\dump_navi_00_11_26.json\n"
     ]
    }
   ],
   "source": [
    "object = NAVI(PATHS_CONFIG,amc_name,path)\n",
    "final_text = object.refine_extracted_data(extracted_text, flatten = True)\n",
    "dfs = object.merge_and_select_data(final_text,select = True,map = True,special=True)\n",
    "Helper.quick_json_dump(dfs, object.JSONPATH)"
   ]
  },
  {
   "cell_type": "code",
   "execution_count": null,
   "metadata": {},
   "outputs": [],
   "source": []
  },
  {
   "cell_type": "code",
   "execution_count": null,
   "metadata": {},
   "outputs": [],
   "source": [
    "\"NIPPON MAIN FILE CODE\"\n",
    "amc_name = 'Nippon India Mutual Fund'\n",
    "logging.info(f\"User Ran Fund Data of {amc_name}\")\n",
    "path = mutual_fund[amc_name]\n",
    "object = Nippon(PATHS_CONFIG,amc_name,path)\n",
    "title,path_pdf= object.check_and_highlight(path)\n",
    "\n",
    "data = object.get_data(path_pdf,title)\n",
    "extracted_text = object.get_generated_content(data)\n",
    "\n",
    "final_text = object.refine_extracted_data(extracted_text, flatten = True)\n",
    "dfs = object.merge_and_select_data(final_text,select = True, map = True, special=True)\n",
    "Helper.quick_json_dump(dfs,object.JSONPATH)"
   ]
  },
  {
   "cell_type": "code",
   "execution_count": null,
   "metadata": {},
   "outputs": [],
   "source": [
    "\"\"\"NJMF MAIN CODE FILE\"\"\"# pages = [1, 3, 5, 7, 9]\n",
    "\n",
    "amc_name = 'Nj Mutual Fund'\n",
    "logging.info(f\"User Ran Fund Data of {amc_name}\")\n",
    "path = mutual_fund[amc_name]\n",
    "object = NJMF(PATHS_CONFIG,amc_name,path)\n",
    "title,path_pdf = object.check_and_highlight(path)\n",
    "\n",
    "data = object.get_data(path_pdf,title)\n",
    "extracted_text = object.get_generated_content(data)\n"
   ]
  },
  {
   "cell_type": "code",
   "execution_count": 26,
   "metadata": {},
   "outputs": [
    {
     "name": "stdout",
     "output_type": "stream",
     "text": [
      "Function Running: refine_extracted_data\n",
      "Function Running: merge_and_select_data\n",
      "\n",
      "  JSON saved at C:\\Users\\Kaustubh.keny\\Projects\\office-work\\mywork-repo\\data\\MAR25DATA\\dump_nj_11_56_06.json\n"
     ]
    }
   ],
   "source": [
    "object = NJMF(PATHS_CONFIG,amc_name,path)\n",
    "final_text = object.refine_extracted_data(extracted_text,flatten = True)\n",
    "dfs = object.merge_and_select_data(final_text,select = True, map = True,special=True)\n",
    "Helper.quick_json_dump(dfs, object.JSONPATH)"
   ]
  },
  {
   "cell_type": "code",
   "execution_count": null,
   "metadata": {},
   "outputs": [],
   "source": [
    "\"\"\"OlD BriDGE MAIN CODE\"\"\"\n",
    "amc_name = \"Old Bridge Mutual Fund\"\n",
    "logging.info(f\"User Ran Fund Data of {amc_name}\")\n",
    "path = mutual_fund[amc_name]\n",
    "object = OldBridge(PATHS_CONFIG,amc_name,path)\n",
    "title,path_pdf = object.check_and_highlight(path)\n",
    "\n",
    "data = object.get_data(path_pdf,title)\n",
    "extracted_text = object.get_generated_content(data)\n",
    "\n",
    "final_text = object.refine_extracted_data(extracted_text, flatten = True)\n",
    "dfs = object.merge_and_select_data(final_text,select = True,map= True, special=True)\n",
    "Helper.quick_json_dump(dfs, object.JSONPATH)"
   ]
  },
  {
   "cell_type": "code",
   "execution_count": null,
   "metadata": {},
   "outputs": [],
   "source": [
    "\"\"\"PGIM MAIN FILE CODE\"\"\" #ISSUES: Clean data further\n",
    "\n",
    "amc_name = \"Pgim India Mutual Fund\"\n",
    "logging.info(f\"User Ran Fund Data of {amc_name}\")\n",
    "path = mutual_fund[amc_name]\n",
    "object = PGIM(PATHS_CONFIG,amc_name,path)\n",
    "\n",
    "title,path_pdf = object.check_and_highlight(path)\n",
    "data = object.get_data(path_pdf,title)\n",
    "extracted_text = object.get_generated_content(data)\n",
    "final_text = object.refine_extracted_data(extracted_text, flatten = True)\n",
    "dfs = object.merge_and_select_data(final_text,select = True,map= True, special = True)\n",
    "Helper.quick_json_dump(dfs, object.JSONPATH)"
   ]
  },
  {
   "cell_type": "code",
   "execution_count": null,
   "metadata": {},
   "outputs": [],
   "source": [
    "\"\"\"QUANT MAIN CODE FILE\"\"\"\n",
    "\n",
    "amc_name = 'Quant Mutual Fund'\n",
    "logging.info(f\"User Ran Fund Data of {amc_name}\")\n",
    "path = mutual_fund[amc_name]\n",
    "object = QuantMF(PATHS_CONFIG, amc_name,path)\n",
    "title,path_pdf = object.check_and_highlight(path)\n",
    "\n",
    "data = object.get_data(path_pdf,title)\n",
    "extracted_text = object.get_generated_content(data)\n",
    "\n",
    "final_text = object.refine_extracted_data(extracted_text, flatten = True)\n",
    "dfs = object.merge_and_select_data(final_text,select = True,map = True, special = True)\n",
    "Helper.quick_json_dump(dfs, object.JSONPATH)"
   ]
  },
  {
   "cell_type": "code",
   "execution_count": null,
   "metadata": {},
   "outputs": [],
   "source": [
    "\"\"\"QUANTUM MAIN FILE CODE\"\"\" # pages = [7, 9, 12, 14, 16, 18, 20, 22, 24, 26, 28, 30, 32, 33]\n",
    "\n",
    "amc_name = \"Quantum Mutual Fund\"\n",
    "logging.info(f\"User Ran Fund Data of {amc_name}\")\n",
    "path = mutual_fund[amc_name]\n",
    "object = Quantum(PATHS_CONFIG,amc_name,path)\n",
    "title,path_pdf = object.check_and_highlight(path)\n",
    "\n",
    "data = object.get_data(path_pdf,title)\n",
    "extracted_text = object.get_generated_content(data)"
   ]
  },
  {
   "cell_type": "code",
   "execution_count": null,
   "metadata": {},
   "outputs": [],
   "source": [
    "object = Quantum(PATHS_CONFIG,amc_name,path)\n",
    "final_text = object.refine_extracted_data(extracted_text, flatten = True)\n",
    "dfs = object.merge_and_select_data(final_text,select = True, map = True, special=True)\n",
    "Helper.quick_json_dump(dfs, object.JSONPATH)"
   ]
  },
  {
   "cell_type": "code",
   "execution_count": null,
   "metadata": {},
   "outputs": [],
   "source": [
    "\"\"\"SAMCO PDF FILE MAIN CODE\"\"\" # pages =  [3, 5, 7, 9, 11, 13, 15, 17, 18]\n",
    "\n",
    "amc_name = 'Samco Mutual Fund'\n",
    "logging.info(f\"User Ran Fund Data of {amc_name}\")\n",
    "path = mutual_fund[amc_name]\n",
    "object = Samco(PATHS_CONFIG,amc_name,path)\n",
    "title,path_pdf= object.check_and_highlight(path)\n",
    "\n",
    "data = object.get_data(path_pdf,title)\n",
    "extracted_text = object.get_generated_content(data)"
   ]
  },
  {
   "cell_type": "code",
   "execution_count": 34,
   "metadata": {},
   "outputs": [
    {
     "name": "stdout",
     "output_type": "stream",
     "text": [
      "Function Running: refine_extracted_data\n",
      "Function Running: merge_and_select_data\n",
      "\n",
      "  JSON saved at C:\\Users\\Kaustubh.keny\\Projects\\office-work\\mywork-repo\\data\\MAR25DATA\\dump_samco_12_19_36.json\n"
     ]
    }
   ],
   "source": [
    "object = Samco(PATHS_CONFIG,amc_name,path)\n",
    "final_text = object.refine_extracted_data(extracted_text, flatten=True)\n",
    "dfs = object.merge_and_select_data(final_text, select = True,map = True, special=True)\n",
    "Helper.quick_json_dump(dfs,object.JSONPATH)"
   ]
  },
  {
   "cell_type": "code",
   "execution_count": null,
   "metadata": {},
   "outputs": [],
   "source": [
    "\"\"\"SBI PASSIVE PDF FILE MAIN CODE\"\"\" \n",
    "\n",
    "amc_name = 'Sbi Mutual Fund Passive'\n",
    "logging.info(f\"User Ran Fund Data of {amc_name}\")\n",
    "path = mutual_fund[amc_name]\n",
    "object = SBIPassive(PATHS_CONFIG,amc_name,path)\n",
    "title,path_pdf= object.check_and_highlight(path)\n",
    "\n",
    "# data = object.get_data(path_pdf,title)\n",
    "# extracted_text = object.get_generated_content(data)\n",
    "\n",
    "# final_text = object.refine_extracted_data(extracted_text,flatten = True)\n",
    "# dfs = object.merge_and_select_data(final_text,select = True,map = True,special = True)\n",
    "# Helper.quick_json_dump(dfs,object.JSONPATH)"
   ]
  },
  {
   "cell_type": "code",
   "execution_count": 9,
   "metadata": {},
   "outputs": [
    {
     "name": "stdout",
     "output_type": "stream",
     "text": [
      "Function Running: check_and_highlight\n",
      "Function Running: _get_normal_title\n",
      "Regex: ((?:SBI|i\\s*_|S35).*?(?:Fund\\s*(?:of funds?|.*?Plan)?|ETF|FTF|FOF))\n",
      "10 -- SBI Blue Chip Fund\n",
      "11 -- SBI ESG Exclusionary Strategy Fund\n",
      "12 -- SBI Flexicap Fund\n",
      "13 -- SBI MultiCap Fund\n",
      "14 -- SBI Dividend Yield Fund\n",
      "15 -- SBI Contra Fund\n",
      "16 -- SBI Large & Midcap Fund\n",
      "17 -- SBI Focused Equity Fund\n",
      "18 -- SBI Magnum Midcap Fund\n",
      "19 -- SBI Magnum Global Fund\n",
      "20 -- SBI Small Cap Fund\n",
      "21 -- SBI Long Term Equity Fund\n",
      "22 -- SBI Healthcare Opportunities Fund\n",
      "23 -- SBI Banking & Financial Services Fund\n",
      "24 -- SBI PSU Fund\n",
      "25 -- SBI Magnum Comma Fund\n",
      "26 -- SBI Infrastructure Fund\n",
      "27 -- SBI Consumption Opportunities Fund\n",
      "28 -- SBI Technology Opportunities Fund\n",
      "29 -- SBI Equity Minimum Variance Fund\n",
      "31 -- SBI Energy Opportunities Fund\n",
      "32 -- SBI Automotive Opportunities Fund\n",
      "33 -- SBI Innovative Opportunities Fund\n",
      "34 -- SBI Quant Fund\n",
      "37 -- SBI Equity Hybrid Fund\n",
      "38 -- SBI Conservative Hybrid Fund\n",
      "39 -- SBI Multi Asset Allocation Fund\n",
      "40 -- SBI Magnum Childrens Benefit Fund - Savings Plan\n",
      "41 -- SBI Equity Savings Fund\n",
      "42 -- SBI Arbitrage Opportunities Fund\n",
      "43 -- SBI Balanced Advantage Fund\n",
      "44 -- SBI Magnum Childrens Benefit Fund -Investment Plan\n",
      "45 -- SBI Retirement Benefit Fund Aggressive Plan\n",
      "46 -- SBI Retirement Benefit Fund Aggressive Hybrid Plan\n",
      "47 -- SBI Retirement Benefit Fund Conservative Hybrid Plan\n",
      "48 -- SBI Retirement Benefit Fund Conservative Plan\n",
      "51 -- SBI Magnum Gilt Fund\n",
      "52 -- SBI Magnum Income Fund\n",
      "53 -- SBI Dynamic Bond Fund\n",
      "54 -- SBI Corporate Bond Fund\n",
      "55 -- SBI Credit Risk Fund\n",
      "56 -- SBI Magnum Medium Duration Fund\n",
      "57 -- SBI Short Term Debt Fund\n",
      "58 -- SBI Magnum Constant Maturity Fund\n",
      "59 -- SBI Magnum Low Duration Fund\n",
      "60 -- SBI Savings Fund\n",
      "61 -- SBI Banking & PSU Fund\n",
      "62 -- SBI Liquid Fund\n",
      "63 -- SBI Magnum Ultra Short Duration Fund\n",
      "64 -- SBI Floating Rate Debt Fund\n",
      "65 -- SBI Long Duration Fund\n",
      "66 -- SBI Overnight Fund\n",
      "67 -- SBI ESG Exclusionary Strategy Fund\n",
      "69 -- SBI Consumption Opportunities Fund\n",
      "70 -- SBI Long Term Equity Fund\n",
      "71 -- SBI Retirement Benefit st Nov 2023) and Mr Ardhendu Bhattacharya (Co-fund manager) (Debt Portion) he same may not necessarily provide the basis for comparison with other investment computed basis last day of the month-end preceding the date of advertisement In case the startend date of the concerned period is a non-business day the NAV of the previous date is erformance details provided herein are of Growth Option - Regular Plan Performance for Schemes not having Growth Option has been calculated considering the IDCW Option and is Net of nagers does not include close ended Scheme & ETF\n",
      "73 -- SBI Dual Advantage Fund Series & SBI Capital Protection Oriented Fund Series The total number of schemes managed by Mr Rajeev Radhakrishnan is 6 aged by Mr Rajeev Radhakrishnan (wef 1st Nov 2023) The total no of schemes managed by Mr Rajeev Radhakrishnan (wef 1st Nov 2023) is 13 (2 schemes are jointly managed by Mr R Srinivasan) The Scheme count of Mr Rajeev Radhakrishnan Radhakrishnan and 1 scheme is jointly managed with Rajeev Radhakrishnan (wef 1st Nov 2023) (5 schemes are jointly managed with Mr Rajeev Radhakrishnan (wef 1st Nov 2023) and 1 scheme is jointly held with Mr Dinesh Balachandran) sarily provide the basis for comparison with other investment of the month-end preceding the date of advertisement In case the startend date of the concerned period is a non-business day the NAV of the previous date is considered for computation of returns are of Regular Plan\n",
      "74 -- SBI Mutual Fund\n",
      "77 -- SBI Technology Opportunities Fund\n",
      "78 -- SBI Long Term Equity Fund (previously known as SBI Magnum Taxgain Scheme) since September 2016 The total number of schemes managed by Mr Dinesh Balachandran is 4 SBI on date provided alongside of the table of Direct Plan\n",
      "81 -- SBI Dual Advantage Fund Series & SBI Capital Protection Oriented Fund Series The total no of schemes managed by Mr R Srinivasan is 5 (2 schemes are hemes managed by Mr Rajeev Radhakrishnan (wef 1st Nov 2023) is 13 (2 schemes are jointly managed by Mr R Srinivasan) The Scheme count of Mr Rajeev Radhakrishnan (wef 1st Nov 2023) includes an ETF managed by him The total number of th Rajeev Radhakrishnan and 1 scheme is jointly managed with Rajeev Radhakrishnan (wef 1st Nov 2023) (5 schemes are jointly managed with Mr Rajeev Radhakrishnan (wef 1st Nov 2023) and 1 scheme is jointly held with Mr Dinesh Balachandran) sarily provide the basis for comparison with other investment of the month-end preceding the date of advertisement In case the startend date of the concerned period is a non-business day the NAV of the previous date is considered for computation of returns are of Direct Plan\n",
      "93 -- SBI Corporate Bond Fund - Quarterly IDCW 27-Dec-19 01600 106459 27-Dec-19 01600 106948 Scheme Name Record Date IDCW NAV (in RsUnit) () Regular Plan\n",
      "100 -- SBI Fund\n",
      "\tHlted PDF at: C:\\Users\\Kaustubh.keny\\Projects\\Mar 25\\SBI Mutual Fund\\35_31-Mar-25_FS_hltd.pdf\n",
      "\n",
      "\tDoc Saved At: C:\\Users\\Kaustubh.keny\\Projects\\office-work\\mywork-repo\\data\\output\\pdf_report.xlsx\n",
      "\n",
      "\n"
     ]
    }
   ],
   "source": [
    "\"\"\"SBI PDF FILE MAIN CODE\"\"\" \n",
    "amc_name = \"Sbi Mutual Fund\"\n",
    "logging.info(f\"User Ran Fund Data of {amc_name}\")\n",
    "\n",
    "object = SBI(PATHS_CONFIG,amc_name,path)\n",
    "path = mutual_fund[amc_name]\n",
    "title,path_pdf= object.check_and_highlight(path)\n",
    "\n",
    "# data = object.get_data(path_pdf,title)\n",
    "# extracted_text = object.get_generated_content(data)\n",
    "\n",
    "# final_text = object.refine_extracted_data(extracted_text,flatten = True)\n",
    "# dfs = object.merge_and_select_data(final_text,select = True,map = True,special = True)\n",
    "# Helper.quick_json_dump(dfs,object.JSONPATH)"
   ]
  },
  {
   "cell_type": "code",
   "execution_count": null,
   "metadata": {},
   "outputs": [],
   "source": [
    "\"\"\"SUNDARAM MAIN FILE CODE\"\"\"\n",
    "\n",
    "amc_name = 'Sundaram Mutual Fund'\n",
    "logging.info(f\"User Ran Fund Data of {amc_name}\")\n",
    "path = mutual_fund[amc_name]\n",
    "object = Sundaram(PATHS_CONFIG,amc_name,path)\n",
    "title,path_pdf = object.check_and_highlight(path)\n",
    "\n",
    "data = object.get_data(path_pdf,title)\n",
    "extracted_text = object.get_generated_content(data)"
   ]
  },
  {
   "cell_type": "code",
   "execution_count": 13,
   "metadata": {},
   "outputs": [
    {
     "name": "stdout",
     "output_type": "stream",
     "text": [
      "\n",
      "  JSON saved at C:\\Users\\rando\\OneDrive\\Documents\\mywork-repo\\data\\output\\dump_sundaram_21_43_41.json\n"
     ]
    }
   ],
   "source": [
    "Helper.quick_json_dump(extracted_text,object.JSONPATH)"
   ]
  },
  {
   "cell_type": "code",
   "execution_count": 15,
   "metadata": {},
   "outputs": [
    {
     "name": "stdout",
     "output_type": "stream",
     "text": [
      "Function Running: refine_extracted_data\n",
      "Function Running: merge_and_select_data\n",
      "\n",
      "  JSON saved at C:\\Users\\rando\\OneDrive\\Documents\\mywork-repo\\data\\output\\dump_sundaram_21_46_34.json\n"
     ]
    }
   ],
   "source": [
    "object = Sundaram(PATHS_CONFIG,amc_name,path)\n",
    "final_text = object.refine_extracted_data(extracted_text,flatten = True)\n",
    "dfs = object.merge_and_select_data(final_text,select = True, map = True, special=True)\n",
    "Helper.quick_json_dump(dfs,object.JSONPATH)"
   ]
  },
  {
   "cell_type": "code",
   "execution_count": null,
   "metadata": {},
   "outputs": [],
   "source": [
    "\"\"\"TATA FILE MAIN CODE \"\"\"# pages =  [16, 17, 18, 19, 20, 21, 22, 23, 24, 25, 26, 27, 28, 29, 30, 31, 32, 33, 34, 35, 36, 37, 38, 39, 40, 41, 42, 43, 44, 45, 46, 47, 48, 49, 50, 51, 52, 53, 54, 55, 56, 57, 58, 59, 60, 62, 64, 66, 67, 68, 69, 70, 71, 72, 73, 74, 75, 76, 77, 78, 79, 80, 81, 82, 83]\n",
    "amc_name = \"Tata Mutual Fund\"\n",
    "logging.info(f\"User Ran Fund Data of {amc_name}\")\n",
    "path = mutual_fund[amc_name]\n",
    "object = Tata(PATHS_CONFIG,amc_name,path)\n",
    "title,path_pdf= object.check_and_highlight(path)\n",
    "\n",
    "data = object.get_data(path_pdf,title)\n",
    "extracted_text = object.get_generated_content(data)\n",
    "\n",
    "final_text = object.refine_extracted_data(extracted_text, flatten = True)\n",
    "dfs = object.merge_and_select_data(final_text,select=True, map = True, special=True)\n",
    "Helper.quick_json_dump(dfs, object.JSONPATH)"
   ]
  },
  {
   "cell_type": "code",
   "execution_count": null,
   "metadata": {},
   "outputs": [],
   "source": [
    "\"\"\"TAURUS MAIN FILE CODE\"\"\" # pages = [11, 12, 13, 14, 15, 16, 17, 18]\n",
    "\n",
    "amc_name = 'Taurus Mutual Fund'\n",
    "logging.info(f\"User Ran Fund Data of {amc_name}\")\n",
    "path = mutual_fund[amc_name]\n",
    "object = Taurus(PATHS_CONFIG,amc_name,path)\n",
    "title,path_pdf= object.check_and_highlight(path)\n",
    "\n",
    "data = object.get_data(path_pdf,title)\n",
    "extracted_text = object.get_generated_content(data)"
   ]
  },
  {
   "cell_type": "code",
   "execution_count": 88,
   "metadata": {},
   "outputs": [
    {
     "name": "stdout",
     "output_type": "stream",
     "text": [
      "\n",
      "  JSON saved at C:\\Users\\rando\\OneDrive\\Documents\\mywork-repo\\data\\output\\dump_taurus_01_08_25.json\n"
     ]
    }
   ],
   "source": [
    "Helper.quick_json_dump(extracted_text,object.JSONPATH)"
   ]
  },
  {
   "cell_type": "code",
   "execution_count": 89,
   "metadata": {},
   "outputs": [
    {
     "name": "stdout",
     "output_type": "stream",
     "text": [
      "Function Running: refine_extracted_data\n",
      "Function Running: merge_and_select_data\n",
      "\n",
      "  JSON saved at C:\\Users\\rando\\OneDrive\\Documents\\mywork-repo\\data\\output\\dump_taurus_01_08_34.json\n"
     ]
    }
   ],
   "source": [
    "object = Taurus(PATHS_CONFIG,amc_name,path)\n",
    "final_text = object.refine_extracted_data(extracted_text,flatten=True)\n",
    "dfs = object.merge_and_select_data(final_text,select = True, map = True, special = True)\n",
    "Helper.quick_json_dump(dfs,object.JSONPATH)"
   ]
  },
  {
   "cell_type": "code",
   "execution_count": null,
   "metadata": {},
   "outputs": [],
   "source": [
    "\"\"\"TRUST MAIN FILE CODE\"\"\" #Issue: Clean data more, nested dict unload Invest Obj in right #Names coming as headers fund managers\n",
    "amc_name = 'Trust Mutual Fund'\n",
    "logging.info(f\"User Ran Fund Data of {amc_name}\")\n",
    "path = mutual_fund[amc_name]\n",
    "object = Trust(PATHS_CONFIG,amc_name,path)\n",
    "title,path_pdf= object.check_and_highlight(path)"
   ]
  },
  {
   "cell_type": "code",
   "execution_count": null,
   "metadata": {},
   "outputs": [],
   "source": [
    "object = Trust(PATHS_CONFIG,amc_name,path)\n",
    "data = object.get_data(path_pdf,title)\n",
    "extracted_text = object.get_generated_content(data)\n",
    "Helper.quick_json_dump(extracted_text,object.JSONPATH)"
   ]
  },
  {
   "cell_type": "code",
   "execution_count": null,
   "metadata": {},
   "outputs": [],
   "source": [
    "object = Trust(PATHS_CONFIG,amc_name,path)\n",
    "final_text = object.refine_extracted_data(extracted_text, flatten = True)\n",
    "dfs = object.merge_and_select_data(final_text,select = True, map = True, special = True)\n",
    "Helper.quick_json_dump(dfs,object.JSONPATH)"
   ]
  },
  {
   "cell_type": "code",
   "execution_count": 97,
   "metadata": {},
   "outputs": [],
   "source": [
    "full_name = set()\n",
    "split_name = set()\n",
    "for a,b,files in os.walk(r\"C:\\Users\\Kaustubh.keny\\Projects\\office-work\\mywork-repo\\sql_learn\\json\\MAR25DATA\"):\n",
    "    for paths in files:\n",
    "        sample_path = os.path.join(os.getcwd(),\"sql_learn\",\"json\",\"MAR25DATA\",paths)\n",
    "        # print(sample_path)\n",
    "        try:\n",
    "            with open(sample_path, \"r\", encoding=\"utf-8\") as file:\n",
    "                data = json.load(file)\n",
    "                for k,scheme in data.items():\n",
    "                    if \"fund_manager\" in scheme:\n",
    "                        for entry in scheme['fund_manager']:\n",
    "                            # print(entry['name'])\n",
    "                            full_name.add(entry['name'])\n",
    "                            for name in entry['name'].split(\" \"):\n",
    "                                split_name.add(name)\n",
    "                    # print(scheme.keys())\n",
    "        except Exception as e:\n",
    "            print(f\"NEVER MIND {e}\")\n",
    "    # print(files)\n",
    "        "
   ]
  },
  {
   "cell_type": "code",
   "execution_count": null,
   "metadata": {},
   "outputs": [],
   "source": [
    "full_name"
   ]
  },
  {
   "cell_type": "code",
   "execution_count": 74,
   "metadata": {},
   "outputs": [
    {
     "data": {
      "text/plain": [
       "'c:\\\\Users\\\\Kaustubh.keny\\\\Projects\\\\office-work\\\\mywork-repo'"
      ]
     },
     "execution_count": 74,
     "metadata": {},
     "output_type": "execute_result"
    }
   ],
   "source": [
    "os.getcwd()"
   ]
  },
  {
   "cell_type": "code",
   "execution_count": null,
   "metadata": {},
   "outputs": [],
   "source": []
  },
  {
   "cell_type": "code",
   "execution_count": null,
   "metadata": {},
   "outputs": [],
   "source": []
  },
  {
   "cell_type": "code",
   "execution_count": null,
   "metadata": {},
   "outputs": [],
   "source": []
  },
  {
   "cell_type": "code",
   "execution_count": null,
   "metadata": {},
   "outputs": [],
   "source": [
    "\"\"\"UTI MAIN FILE CODE\"\"\"\n",
    "\n",
    "amc_name = 'Uti Mutual Fund'\n",
    "logging.info(f\"User Ran Fund Data of {amc_name}\")\n",
    "path = mutual_fund[amc_name]\n",
    "object = UTI(PATHS_CONFIG,amc_name,path)\n",
    "title,path_pdf = object.check_and_highlight(path)\n",
    "\n",
    "data = object.get_data(path_pdf,title)\n",
    "extracted_text = object.get_generated_content(data)\n",
    "\n",
    "final_text = object.refine_extracted_data(extracted_text, flatten = True)\n",
    "dfs = object.merge_and_select_data(final_text, select = True, map = True, special = True)\n",
    "Helper.quick_json_dump(dfs, object.JSONPATH)"
   ]
  },
  {
   "cell_type": "code",
   "execution_count": null,
   "metadata": {},
   "outputs": [],
   "source": [
    "\"\"\"UNION MUTUAL FUND\"\"\" #Issues: Major Issue\n",
    "\n",
    "amc_name = 'Union Mutual Fund'\n",
    "logging.info(f\"User Ran Fund Data of {amc_name}\")\n",
    "path = mutual_fund[amc_name]\n",
    "object = Union(PATHS_CONFIG,amc_name,path)\n",
    "title,path_pdf = object.check_and_highlight(path)"
   ]
  },
  {
   "cell_type": "code",
   "execution_count": null,
   "metadata": {},
   "outputs": [],
   "source": [
    "data = object.get_data(path_pdf,title)\n",
    "extracted_text = object.get_generated_content(data)\n",
    "Helper.quick_json_dump(extracted_text, object.JSONPATH)"
   ]
  },
  {
   "cell_type": "code",
   "execution_count": null,
   "metadata": {},
   "outputs": [],
   "source": [
    "object = Union(PATHS_CONFIG,amc_name,path)\n",
    "final_text = object.refine_extracted_data(extracted_text, flatten = True)\n",
    "dfs = object.merge_and_select_data(final_text,select=True, map = True, special = True)\n",
    "Helper.quick_json_dump(dfs, object.JSONPATH)"
   ]
  },
  {
   "cell_type": "code",
   "execution_count": null,
   "metadata": {},
   "outputs": [],
   "source": [
    "\"\"\"Unifi MUTUAL FUND\"\"\" #Issues: Major Issue\n",
    "\n",
    "amc_name = 'Unifi Mutual Fund'\n",
    "logging.info(f\"User Ran Fund Data of {amc_name}\")\n",
    "path = mutual_fund[amc_name]\n",
    "object = Unifi(PATHS_CONFIG,amc_name,path)\n",
    "title,path_pdf = object.check_and_highlight(path)\n",
    "\n",
    "data = object.get_data(path_pdf,title)\n",
    "extracted_text = object.get_generated_content(data)\n",
    "\n",
    "final_text = object.refine_extracted_data(extracted_text, flatten = True)\n",
    "dfs = object.merge_and_select_data(final_text,select = True, map = True, special = True)\n",
    "Helper.quick_json_dump(dfs,object.JSONPATH)"
   ]
  },
  {
   "cell_type": "code",
   "execution_count": null,
   "metadata": {},
   "outputs": [],
   "source": [
    "\"\"\"WHITEOAK MUTUAL FUND\"\"\"\n",
    "\n",
    "amc_name = 'Whiteoak Mutual Fund'\n",
    "logging.info(f\"User Ran Fund Data of {amc_name}\")\n",
    "path = mutual_fund[amc_name]\n",
    "object = WhiteOak(PATHS_CONFIG,amc_name,path)\n",
    "title,path_pdf= object.check_and_highlight(path)\n",
    "# pages = [7, 9, 11, 13, 15, 17, 19, 20, 21, 23, 25, 26, 28, 30, 32, 34, 36, 37]\n",
    "data = object.get_data(path_pdf,title)\n",
    "extracted_text = object.get_generated_content(data)"
   ]
  },
  {
   "cell_type": "code",
   "execution_count": 43,
   "metadata": {},
   "outputs": [
    {
     "name": "stdout",
     "output_type": "stream",
     "text": [
      "Function Running: refine_extracted_data\n",
      "Function Running: merge_and_select_data\n",
      "\n",
      "  JSON saved at C:\\Users\\Kaustubh.keny\\Projects\\office-work\\mywork-repo\\data\\output\\dump_whiteoak_15_29_28.json\n"
     ]
    }
   ],
   "source": [
    "object = WhiteOak(PATHS_CONFIG,amc_name,path)\n",
    "final_text = object.refine_extracted_data(extracted_text, flatten = True)\n",
    "dfs = object.merge_and_select_data(final_text,select = True, map = True, special = True)\n",
    "Helper.quick_json_dump(dfs,object.JSONPATH)"
   ]
  },
  {
   "cell_type": "code",
   "execution_count": null,
   "metadata": {},
   "outputs": [],
   "source": [
    "\"\"\"ZERODHA MAIN CODE\"\"\" \n",
    "\n",
    "amc_name = 'Zerodha Mutual Fund'\n",
    "logging.info(f\"User Ran Fund Data of {amc_name}\")\n",
    "path = mutual_fund[amc_name]\n",
    "object = Zerodha(PATHS_CONFIG,amc_name,path)\n",
    "title,path_pdf= object.check_and_highlight(path)\n",
    "# pages = [3, 5, 7, 9, 11, 13, 15]\n",
    "data = object.get_data(path_pdf,title)\n",
    "extracted_text = object.get_generated_content(data)\n",
    "\n",
    "final_text = object.refine_extracted_data(extracted_text, flatten = True)\n",
    "dfs = object.merge_and_select_data(final_text,select = True,map = True, special = True)\n",
    "Helper.quick_json_dump(dfs, object.JSONPATH)"
   ]
  },
  {
   "cell_type": "code",
   "execution_count": null,
   "metadata": {},
   "outputs": [],
   "source": [
    "\"\"\"\"HSBC MAIN FILE CODE\"\"\" # pages = [10, 11, 12, 13, 14, 15, 16, 17, 18, 19, 20, 21, 22, 23, 24, 25, 26, 27, 28, 29, 30, 32, 34, 35, 36, 37, 38, 39, 40, 41, 42, 43, 44, 45, 46, 47, 48, 49]\n",
    "\n",
    "amc_name = 'Hsbc Mutual Fund'\n",
    "logging.info(f\"User Ran Fund Data of {amc_name}\")\n",
    "path = mutual_fund[amc_name]\n",
    "object = HSBC(PATHS_CONFIG,amc_name,path)\n",
    "title,path_pdf= object.check_and_highlight(path)\n",
    "\n",
    "data = object.get_data(path_pdf,title)\n",
    "extracted_text = object.get_generated_content(data)"
   ]
  },
  {
   "cell_type": "code",
   "execution_count": null,
   "metadata": {},
   "outputs": [],
   "source": [
    "object = HSBC(PATHS_CONFIG,amc_name,path)\n",
    "final_text = object.refine_extracted_data(extracted_text, flatten = True)\n",
    "dfs = object.merge_and_select_data(final_text,select = True,map = True, special=True)\n",
    "Helper.quick_json_dump(dfs,object.JSONPATH)"
   ]
  },
  {
   "cell_type": "code",
   "execution_count": null,
   "metadata": {},
   "outputs": [],
   "source": [
    "manage = FundHouseManager()\n",
    "for fund in  manage.list_fund_houses():\n",
    "    # manage.update_fund_house(fund,\"PARAMS\",)\n",
    "    print(fund)"
   ]
  },
  {
   "cell_type": "code",
   "execution_count": null,
   "metadata": {},
   "outputs": [],
   "source": [
    "# \"360 One Mutual Fund\": \"ThreeSixtyOne\",\n",
    "# \"Angel One Mutual Fund\":\"AngelOne\",\n",
    "# \"Aditya Birla Sun Life Mutual Fund\": \"AdityaBirla\",\n",
    "# \"Axis Mutual Fund\": \"AXISMF\",\n",
    "# \"Axis Mutual Fund Passive\": \"AXISMFPassive\",\n",
    "# \"Bajaj Finserv Mutual Fund\": \"BajajFinServ\",\n",
    "# \"Bandhan Mutual Fund\": \"Bandhan\",\n",
    "# \"Bank Of India Mutual Fund\": \"BankOfIndia\",\n",
    "# \"Baroda Bnp Paribas Mutual Fund\": \"BarodaBNP\",\n",
    "# \"Canara Robeco Mutual Fund\": \"Canara\",\n",
    "# \"Dsp Mutual Fund\": \"DSP\",\n",
    "# \"Edelweiss Mutual Fund\": \"Edelweiss\",\n",
    "# \"Franklin Templeton Mutual Fund\": \"FranklinTempleton\",\n",
    "# \"Groww Mutual Fund\": \"GROWW\",\n",
    "# \"Hdfc Mutual Fund\": \"HDFC\",\n",
    "# \"Hdfc Mutual Fund Passive\": \"HDFC\",\n",
    "# \"Helios Mutual Fund\": \"Helios\",\n",
    "# \"Hsbc Mutual Fund\": \"HSBC\",\n",
    "# \"Icici Prudential Mutual Fund\": \"ICICI\",\n",
    "# \"Icici Prudential Mutual Fund Passive\": \"ICICI\",\n",
    "# \"Iti Mutual Fund\": \"ITI\",\n",
    "# \"Invesco Mutual Fund\": \"Invesco\",\n",
    "# \"Jm Financial Mutual Fund\": \"JMMF\",\n",
    "# \"Kotak Mahindra Mutual Fund\": \"Kotak\",\n",
    "# \"Lic Mutual Fund\": \"LIC\",\n",
    "# \"Mahindra Manulife Mutual Fund\": \"MahindraManu\",\n",
    "# \"Mirae Asset Mutual Fund\": \"MIRAE\",\n",
    "# \"Mirae Asset Mutual Fund Passive\": \"MIRAEPassive\",\n",
    "# \"Motilal Oswal Mutual Fund\": \"MotilalOswal\",\n",
    "# \"Motilal Oswal Mutual Fund Passive\": \"MotilalOswalPassive\",\n",
    "# \"Nj Mutual Fund\": \"NJMF\",\n",
    "# \"Navi Mutual Fund\": \"NAVI\",\n",
    "# \"Nippon India Mutual Fund\": \"Nippon\",\n",
    "# \"Old Bridge Mutual Fund\": \"OldBridge\",\n",
    "# \"Pgim India Mutual Fund\": \"PGIM\",\n",
    "# \"Ppfas Mutual Fund\": \"PPFAS\",\n",
    "# \"Quant Mutual Fund\": \"QuantMF\",\n",
    "# \"Quantum Mutual Fund\": \"Quantum\",\n",
    "# \"Sbi Mutual Fund\": \"SBI\",\n",
    "# \"Sbi Mutual Fund Passive\": \"SBIPassive\",\n",
    "# \"Samco Mutual Fund\": \"Samco\",\n",
    "# \"Shriram Mutual Fund\": \"Shriram\",\n",
    "# \"Sundaram Mutual Fund\": \"Sundaram\",\n",
    "# \"Tata Mutual Fund\": \"Tata\",\n",
    "# \"Taurus Mutual Fund\": \"Taurus\",\n",
    "# \"Trust Mutual Fund\": \"Trust\",\n",
    "# \"Uti Mutual Fund\": \"UTI\",\n",
    "# \"Union Mutual Fund\": \"Union\",\n",
    "# \"Whiteoak Mutual Fund\": \"WhiteOak\",\n",
    "# \"Zerodha Mutual Fund\": \"Zerodha\""
   ]
  },
  {
   "cell_type": "code",
   "execution_count": null,
   "metadata": {},
   "outputs": [],
   "source": []
  },
  {
   "cell_type": "code",
   "execution_count": null,
   "metadata": {},
   "outputs": [],
   "source": []
  }
 ],
 "metadata": {
  "kernelspec": {
   "display_name": ".venv",
   "language": "python",
   "name": "python3"
  },
  "language_info": {
   "codemirror_mode": {
    "name": "ipython",
    "version": 3
   },
   "file_extension": ".py",
   "mimetype": "text/x-python",
   "name": "python",
   "nbconvert_exporter": "python",
   "pygments_lexer": "ipython3",
   "version": "3.13.1"
  }
 },
 "nbformat": 4,
 "nbformat_minor": 2
}
