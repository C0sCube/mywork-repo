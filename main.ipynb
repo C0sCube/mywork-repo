{
 "cells": [
  {
   "cell_type": "code",
   "execution_count": 180,
   "metadata": {},
   "outputs": [
    {
     "name": "stdout",
     "output_type": "stream",
     "text": [
      "The autoreload extension is already loaded. To reload it, use:\n",
      "  %reload_ext autoreload\n"
     ]
    }
   ],
   "source": [
    "%load_ext autoreload\n",
    "%autoreload 2\n",
    "import pprint, json, os, logging, shutil\n",
    "PATHS_CONFIG =os.path.join(os.getcwd(),'paths.json') #get path to paths.json\n",
    "with open(PATHS_CONFIG,'r') as file:\n",
    "    PATH = json.load(file)\n",
    "    \n",
    "from app.fund_data import *\n",
    "from app.params_handler import *\n",
    "from app.utils import Helper\n",
    "from logging_config import logger\n",
    "\n",
    "logger.info(\"Application Started !!\")\n",
    "mutual_fund = Helper.get_fund_paths(PATH['dirs']['fund_path'])\n",
    "\n",
    "# \"PPFAS Mutual Fund\"\n",
    "# \"Shriram Mutual Fund\""
   ]
  },
  {
   "cell_type": "code",
   "execution_count": null,
   "metadata": {},
   "outputs": [],
   "source": [
    "\"\"\"SHRIRAM MAIN FILE CODE\"\"\"\n",
    "\n",
    "amc_name = \"Shriram Mutual fund\"\n",
    "logger.info(f\"User Ran Fund Data of {amc_name}\")\n",
    "\n",
    "object = Shriram(PATHS_CONFIG,amc_name)\n",
    "path = mutual_fund[amc_name]\n",
    "title_content = object.get_relevant_pages(path)"
   ]
  },
  {
   "cell_type": "code",
   "execution_count": 246,
   "metadata": {},
   "outputs": [
    {
     "name": "stdout",
     "output_type": "stream",
     "text": [
      "---<<SHRIRAM AGGRESSIVE HYBRID FUND>>---\n",
      "---<<SHRIRAM FLEXI CAP FUND>>---\n",
      "---<<SHRIRAM ELSS TAX SAVER FUND>>---\n",
      "---<<SHRIRAM BALANCED ADVANTAGE FUND>>---\n",
      "---<<SHRIRAM OVERNIGHT FUND>>---\n",
      "---<<SHRIRAM MULTI ASSET ALLOCATION FUND>>---\n",
      "---<<SHRIRAM Nifty 1D Rate Liquid ETF>>---\n",
      "---<<SHRIRAM LIQUID FUND>>---\n",
      "---<<SHRIRAM MULTI SECTOR ROTATION FUND>>---\n"
     ]
    }
   ],
   "source": [
    "data = object.get_data(path,title_content)\n",
    "extracted_text = object.get_generated_content(data)\n",
    "# Helper.quick_json_dump(extracted_text, object.JSONPATH)"
   ]
  },
  {
   "cell_type": "code",
   "execution_count": 249,
   "metadata": {},
   "outputs": [
    {
     "name": "stdout",
     "output_type": "stream",
     "text": [
      "\n",
      " JSON saved at C:\\Users\\Kaustubh.keny\\Projects\\office-work\\mywork-repo\\data\\feb25output\\dump_SHRIRAM_17_56.json\n"
     ]
    }
   ],
   "source": [
    "object = Shriram(PATHS_CONFIG,amc_name)\n",
    "final_text = object.refine_extracted_data(extracted_text, flatten=True)\n",
    "Helper.quick_json_dump(final_text, object.JSONPATH)"
   ]
  },
  {
   "cell_type": "code",
   "execution_count": null,
   "metadata": {},
   "outputs": [],
   "source": [
    "\"\"\"PPFAS MAIN FILE CODE\"\"\"\n",
    "\n",
    "amc_name = \"PPFAS Mutual Fund\"\n",
    "logger.info(f\"User Ran Fund Data of {amc_name}\")\n",
    "\n",
    "object = PPFAS(PATHS_CONFIG,amc_name)\n",
    "path = mutual_fund[amc_name]\n",
    "\n",
    "title_content = object.get_relevant_pages(path)"
   ]
  },
  {
   "cell_type": "code",
   "execution_count": null,
   "metadata": {},
   "outputs": [],
   "source": [
    "title_content = object.get_proper_fund_names(path)\n",
    "pages = list(title_content.keys())\n",
    "data = object.get_data(path,title_content)\n",
    "extracted_text = object.get_generated_content(data)"
   ]
  },
  {
   "cell_type": "code",
   "execution_count": null,
   "metadata": {},
   "outputs": [],
   "source": [
    "object = PPFAS(PATHS_CONFIG,amc_name)\n",
    "final_text = object.refine_extracted_data(extracted_text, flatten=True)\n",
    "Helper.quick_json_dump(final_text, object.JSONPATH)"
   ]
  },
  {
   "cell_type": "code",
   "execution_count": null,
   "metadata": {},
   "outputs": [],
   "source": []
  },
  {
   "cell_type": "code",
   "execution_count": null,
   "metadata": {},
   "outputs": [],
   "source": [
    "'''360 ONE MAIN FILE CODE''' #No issues as of now\n",
    "amc_name = \"360 ONE Mutual Fund\"\n",
    "logger.info(f\"User Ran Fund Data of {amc_name}\")\n",
    "\n",
    "object = ThreeSixtyOne(PATHS_CONFIG,amc_name)\n",
    "path = mutual_fund[amc_name]\n",
    "\n",
    "title = object.get_relevant_pages(path)\n",
    "# title = df.title.to_dict()\n",
    "# pages = [5, 6, 7, 8, 9, 10, 11, 12]\n",
    "data = object.get_data(path,title)\n",
    "extracted_text = object.get_generated_content(data)\n",
    "final_text = object.refine_extracted_data(extracted_text, flatten=True)\n",
    "dfs = object.merge_and_select_data(final_text, select=True, map= True)\n",
    "Helper.quick_json_dump(dfs, object.JSONPATH)"
   ]
  },
  {
   "cell_type": "code",
   "execution_count": null,
   "metadata": {},
   "outputs": [],
   "source": [
    "'''AXIS ONE MAIN FILE CODE''' #No issues as of now\n",
    "amc_name = \"Axis Mutual Fund Passive\"\n",
    "logger.info(f\"User Ran Fund Data of {amc_name}\")\n",
    "\n",
    "object = AXISMF(PATHS_CONFIG,amc_name)\n",
    "path = mutual_fund[amc_name]\n",
    "\n",
    "title = object.get_relevant_pages(path)\n",
    "# title  = df.title.to_list()\n",
    "# pages = [6, 7, 8, 9, 10, 11, 12, 13, 14, 15, 16, 17, 18, 19, 20, 21, 22, 23, 24, 25, 26, 27, 28, 29, 30, 31, 32, 33, 34, 35, 36, 37]\n",
    "data = object.get_data(path,title)\n",
    "extracted_text = object.get_generated_content(data)"
   ]
  },
  {
   "cell_type": "code",
   "execution_count": 10,
   "metadata": {},
   "outputs": [
    {
     "name": "stdout",
     "output_type": "stream",
     "text": [
      "\n",
      " JSON saved at C:\\Users\\Kaustubh.keny\\Projects\\office-work\\mywork-repo\\data\\feb25output\\dump_Axis_09_37.json\n"
     ]
    }
   ],
   "source": [
    "object = AXISMF(PATHS_CONFIG,amc_name)\n",
    "final_text = object.refine_extracted_data(extracted_text, flatten=True)\n",
    "Helper.quick_json_dump(final_text,object.JSONPATH)"
   ]
  },
  {
   "cell_type": "code",
   "execution_count": null,
   "metadata": {},
   "outputs": [],
   "source": [
    "\"\"\"*ADITYA BIRLA FILE CODE\"\"\"\n",
    "amc_name = 'Aditya Birla Sun Life Mutual Fund'\n",
    "logging.info(f\"User Ran Fund Data of {amc_name}\")\n",
    "\n",
    "object = AdityaBirla(PATHS_CONFIG,amc_name)\n",
    "path = mutual_fund[amc_name]\n",
    "\n",
    "title = object.get_relevant_pages(path)\n",
    "# title = df.title.to_dict()\n",
    "# pages = [17, 19, 21, 23, 25, 27, 29, 31, 33, 35, 37, 39, 41, 43, 45, 47, 49, 50, 52, 54, 56, 58, 60, 62, 64, 66, 67, 69, 72, 75, 78, 80, 82, 86, 87, 89, 91, 93, 95, 98, 101, 103, 106, 108, 110, 112, 114, 115, 116, 118, 119, 121, 123, 125, 127, 128, 129, 130, 131, 132, 133, 134, 135, 136, 137, 138, 139, 140, 141, 143, 145, 147, 149, 151, 152, 153, 155, 157, 159, 160, 161, 162, 163, 164, 165, 166, 167, 168, 169, 170, 171, 172, 173, 174, 175, 176, 177, 178, 179, 180, 181, 182]\n",
    "data = object.get_data(path,title)\n",
    "extracted_text = object.get_generated_content(data)\n",
    "final_text = object.refine_extracted_data(extracted_text, flatten=True)\n",
    "dfs = object.merge_and_select_data(final_text,select=True,map = True,special=True)\n",
    "Helper.quick_json_dump(dfs,object.JSONPATH)"
   ]
  },
  {
   "cell_type": "code",
   "execution_count": null,
   "metadata": {},
   "outputs": [],
   "source": [
    "\"\"\"BANDHAN MF FILE MAIN CODE\"\"\" # rgex for fund manager\n",
    "\n",
    "amc_name = \"Bandhan Mutual Fund\"\n",
    "logging.info(f\"User Ran Fund Data of {amc_name}\")\n",
    "\n",
    "object = Bandhan(PATHS_CONFIG,amc_name)\n",
    "path = mutual_fund[amc_name]\n",
    "\n",
    "title= object.get_relevant_pages(path)\n",
    "# pages = [15, 16, 17, 18, 19, 20, 21, 22, 23, 24, 25, 26, 27, 28, 29, 30, 31, 32, 33, 34, 35, 36, 37, 38, 39, 40, 41, 43, 44, 45, 46, 47, 48, 49, 50, 51, 52, 53, 54, 55, 56, 57, 58, 59, 60, 61, 62, 63, 64, 65, 66, 67, 68, 69, 70, 71, 72, 73, 74, 75, 76, 77, 78, 79, 80, 81]\n",
    "# title = df.title.to_dict()\n",
    "data  = object.get_data(path,title)\n",
    "extracted_text = object.get_generated_content(data)\n",
    "final_text = object.refine_extracted_data(extracted_text, flatten = True)\n",
    "dfs = object.merge_and_select_data(final_text,select=True, map = True)\n",
    "Helper.quick_json_dump(dfs, object.JSONPATH)"
   ]
  },
  {
   "cell_type": "code",
   "execution_count": null,
   "metadata": {},
   "outputs": [],
   "source": [
    "\"\"\" BARODA BNP MAIN FILE CODE\"\"\"\n",
    "\n",
    "amc_name = 'Baroda BNP Paribas Mutual Fund'\n",
    "logging.info(f\"User Ran Fund Data of {amc_name}\")\n",
    "path = mutual_fund[amc_name]\n",
    "object = BarodaBNP(PATHS_CONFIG,amc_name)\n",
    "title= object.get_relevant_pages(path)\n",
    "# title= object.get_proper_fund_names(path)\n",
    "# title = {k:v for k,v in title.items() if k <49}\n",
    "# pages = list(title.keys())\n",
    "data  = object.get_data(path,title)\n",
    "extracted_text = object.get_generated_content(data)\n",
    "object = BarodaBNP(PATHS_CONFIG,amc_name)\n",
    "final_text = object.refine_extracted_data(extracted_text, flatten = True)\n",
    "dfs = object.merge_and_select_data(final_text, select = True, map = True)\n",
    "Helper.quick_json_dump(dfs, object.JSONPATH)"
   ]
  },
  {
   "cell_type": "code",
   "execution_count": null,
   "metadata": {},
   "outputs": [],
   "source": [
    "\"\"\"BANK OF INDIA\"\"\" #Regex\n",
    "\n",
    "amc_name = 'Bank of India Mutual Fund'\n",
    "logging.info(f\"User Ran Fund Data of {amc_name}\")\n",
    "\n",
    "object = BankOfIndia(PATHS_CONFIG,amc_name)\n",
    "path = mutual_fund[amc_name]\n",
    "title= object.get_relevant_pages(path)\n",
    "# title = df.title.to_dict()\n",
    "# pages =[6, 7, 8, 9, 10, 11, 12, 13, 14, 15, 16, 17, 18, 19, 20, 21, 22, 23, 24]\n",
    "data = object.get_data(path,title)\n",
    "extracted_text = object.get_generated_content(data)\n",
    "object = BankOfIndia(PATHS_CONFIG,amc_name)\n",
    "final_text = object.refine_extracted_data(extracted_text)\n",
    "dfs = object.merge_and_select_data(final_text,select = True, map = True)\n",
    "Helper.quick_json_dump(dfs, object.JSONPATH)"
   ]
  },
  {
   "cell_type": "code",
   "execution_count": null,
   "metadata": {},
   "outputs": [],
   "source": [
    "\"\"\"BAJAJ FINSERV MAIN FILE CODE\"\"\" #manager regex robust\n",
    "\n",
    "amc_name = 'Bajaj finserv Mutual Fund'\n",
    "logging.info(f\"User Ran Fund Data of {amc_name}\")\n",
    "\n",
    "object = BajajFinServ(PATHS_CONFIG,amc_name)\n",
    "path = mutual_fund[amc_name]\n",
    "\n",
    "title= object.get_relevant_pages(path)\n",
    "# pages = [17, 19, 21, 23, 25, 26, 28, 30, 31, 32, 33, 34, 35, 36, 37, 38]\n",
    "# title = df.title.to_dict()\n",
    "data = object.get_data(path,title)\n",
    "extracted_text = object.get_generated_content(data)\n",
    "object = BajajFinServ(PATHS_CONFIG,amc_name)\n",
    "final_text = object.refine_extracted_data(extracted_text, flatten = True)\n",
    "dfs = object.merge_and_select_data(final_text, select=True,map = True)\n",
    "Helper.quick_json_dump(dfs, object.JSONPATH)"
   ]
  },
  {
   "cell_type": "code",
   "execution_count": null,
   "metadata": {},
   "outputs": [],
   "source": [
    "\"\"\"CANARA MUTUAL FUND\"\"\" \n",
    "\n",
    "amc_name = 'Canara Robeco Mutual Fund'\n",
    "logging.info(f\"User Ran Fund Data of {amc_name}\")\n",
    "\n",
    "object = Canara(PATHS_CONFIG,amc_name)\n",
    "path = mutual_fund[amc_name]\n",
    "\n",
    "title= object.get_relevant_pages(path)\n",
    "# pages = [8, 9, 10, 11, 12, 13, 14, 15, 16, 17, 18, 19, 20, 21, 22, 23, 24, 25, 26, 27, 28, 29, 30, 31, 32]\n",
    "# title = df.title.to_dict()\n",
    "data = object.get_data(path,title)\n",
    "extracted_text = object.get_generated_content(data)\n",
    "final_text = object.refine_extracted_data(extracted_text, flatten = True)\n",
    "dfs = object.merge_and_select_data(final_text,select = True,map = True, special = True)\n",
    "Helper.quick_json_dump(dfs, object.JSONPATH)"
   ]
  },
  {
   "cell_type": "code",
   "execution_count": null,
   "metadata": {},
   "outputs": [],
   "source": [
    "\"\"\"DSP MAIN FILE CODE\"\"\"\n",
    "\n",
    "amc_name = 'DSP Mutual Fund'\n",
    "logging.info(f\"User Ran Fund Data of {amc_name}\")\n",
    "\n",
    "object = DSP(PATHS_CONFIG,amc_name)\n",
    "path = mutual_fund['DSP Mutual Fund']\n",
    "title= object.get_relevant_pages(path)\n",
    "# title = df.title.to_dict()\n",
    "# pages = [1, 2, 3, 4, 5, 6, 7, 8, 9, 10, 11, 12, 13, 14, 15, 16, 17, 18, 19, 20, 21, 23, 24, 25, 26, 27, 28, 29, 30, 31, 32, 33, 34, 35, 36, 37, 38, 39, 40, 41, 42, 43, 44, 45, 46, 47, 48, 49, 50, 51, 52, 53, 54, 55, 56, 57, 58, 59, 60, 61, 62, 63, 64, 65, 66, 67]\n",
    "data = object.get_data(path,title)\n",
    "extracted_text = object.get_generated_content(data)\n",
    "final_text = object.refine_extracted_data(extracted_text,flatten = True)\n",
    "dfs = object.merge_and_select_data(final_text,select = True,map = True)\n",
    "Helper.quick_json_dump(dfs,object.JSONPATH)"
   ]
  },
  {
   "cell_type": "code",
   "execution_count": null,
   "metadata": {},
   "outputs": [],
   "source": [
    "\"\"\"EDELWEISS MP FILE MAIN CODE\"\"\" #Issues: objective in seperate dict,#metrics are weird, scheme launch date issue\n",
    "\n",
    "amc_name = 'Edelweiss Mutual Fund'\n",
    "logging.info(f\"User Ran Fund Data of {amc_name}\")\n",
    "\n",
    "object = Edelweiss(PATHS_CONFIG,amc_name)\n",
    "path = mutual_fund[amc_name]\n",
    "title= object.get_relevant_pages(path)\n",
    "# title= object.get_proper_fund_names(path)\n",
    "# pages = list(title.keys())\n",
    "data = object.get_data(path,title)\n",
    "extracted_text = object.get_generated_content(data)"
   ]
  },
  {
   "cell_type": "code",
   "execution_count": 217,
   "metadata": {},
   "outputs": [
    {
     "name": "stdout",
     "output_type": "stream",
     "text": [
      "\n",
      " JSON saved at C:\\Users\\Kaustubh.keny\\Projects\\office-work\\mywork-repo\\data\\feb25output\\dump_Edelweiss_15_33.json\n"
     ]
    }
   ],
   "source": [
    "object = Edelweiss(PATHS_CONFIG,amc_name)\n",
    "final_text = object.refine_extracted_data(extracted_text, flatten = True)\n",
    "dfs = object.merge_and_select_data(final_text, select = True, map = True)\n",
    "Helper.quick_json_dump(dfs, object.JSONPATH)"
   ]
  },
  {
   "cell_type": "code",
   "execution_count": null,
   "metadata": {},
   "outputs": [],
   "source": [
    "\"\"\"FRANKLIN TEMPLETON FILE MAIN CODE\"\"\"\n",
    "\n",
    "amc_name = \"Franklin Templeton Mutual Fund\"\n",
    "logging.info(f\"User Ran Fund Data of {amc_name}\")\n",
    "\n",
    "object = FranklinTempleton(PATHS_CONFIG,amc_name)\n",
    "path = mutual_fund[amc_name]\n",
    "\n",
    "title= object.get_relevant_pages(path)\n",
    "# title = df.title.to_dict()\n",
    "# pages = [17, 18, 19, 20, 21, 22, 23, 24, 25, 26, 27, 28, 29, 30, 31, 32, 33, 34, 35, 36, 37, 38, 39, 40, 41, 42, 43, 44, 45, 46, 47, 48, 49, 50]\n",
    "data = object.get_data(path,title)\n",
    "extracted_text = object.get_generated_content(data)"
   ]
  },
  {
   "cell_type": "code",
   "execution_count": 41,
   "metadata": {},
   "outputs": [
    {
     "name": "stdout",
     "output_type": "stream",
     "text": [
      "\n",
      " JSON saved at C:\\Users\\Kaustubh.keny\\Projects\\office-work\\mywork-repo\\data\\feb25output\\dump_Franklin_10_45.json\n"
     ]
    }
   ],
   "source": [
    "final_text = object.refine_extracted_data(extracted_text, flatten = True)\n",
    "dfs = object.merge_and_select_data(final_text,select = True,map = True)\n",
    "Helper.quick_json_dump(dfs, object.JSONPATH)"
   ]
  },
  {
   "cell_type": "code",
   "execution_count": null,
   "metadata": {},
   "outputs": [],
   "source": [
    "\"\"\"GROWW MUTUAL FUND MAIN CODE\"\"\"\n",
    "\n",
    "amc_name = \"Groww Mutual Fund\"\n",
    "logging.info(f\"User Ran Fund Data of {amc_name}\")\n",
    "object = GROWW(PATHS_CONFIG,amc_name)\n",
    "path = mutual_fund[amc_name]\n",
    "title= object.get_relevant_pages(path)\n",
    "# title = df.title.to_dict()\n",
    "# title = { k:f\"groww {v}\" for k,v in title.items()}\n",
    "# pages = [13, 14, 15, 16, 17, 18, 19, 20, 21, 22, 23, 24, 26, 28, 29, 30, 32, 33, 34, 35, 36, 37, 38, 39, 40, 41, 42]\n",
    "data = object.get_data(path,title)\n",
    "extracted_text = object.get_generated_content(data)\n",
    "final_text = object.refine_extracted_data(extracted_text, flatten = True)\n",
    "dfs = object.merge_and_select_data(final_text,select = True, map = True)\n",
    "Helper.quick_json_dump(dfs,object.JSONPATH)"
   ]
  },
  {
   "cell_type": "code",
   "execution_count": null,
   "metadata": {},
   "outputs": [],
   "source": [
    "\"\"\"HDFC MUTUAL FUND\"\"\"\n",
    "amc_name = \"HDFC Mutual Fund\"\n",
    "logging.info(f\"User Ran Fund Data of {amc_name}\")\n",
    "\n",
    "object = HDFC(PATHS_CONFIG,amc_name)\n",
    "path = mutual_fund[amc_name]\n",
    "\n",
    "title= object.get_relevant_pages(path)\n",
    "# pages = [5, 6, 8, 10, 11, 12, 13, 14, 15, 16, 17, 18, 19, 20, 21, 22, 23, 24, 25, 26, 27, 28, 29, 30, 31, 32, 33, 34, 35, 36, 37, 38, 39, 40, 41, 42, 43, 44, 45, 46, 47, 48, 49, 50, 51]\n",
    "# title= df.title.to_dict()\n",
    "data = object.get_data(path,title)\n",
    "extracted_text = object.get_generated_content(data)\n",
    "final_text = object.refine_extracted_data(extracted_text,flatten = True)\n",
    "dfs = object.merge_and_select_data(final_text, select = True,map = True)\n",
    "Helper.quick_json_dump(dfs,object.JSONPATH)"
   ]
  },
  {
   "cell_type": "code",
   "execution_count": null,
   "metadata": {},
   "outputs": [],
   "source": [
    "\"\"\"HDFC MUTUAL FUND\"\"\"\n",
    "amc_name = \"HDFC Mutual Fund Passive\"\n",
    "logging.info(f\"User Ran Fund Data of {amc_name}\")\n",
    "\n",
    "object = HDFC(PATHS_CONFIG,amc_name)\n",
    "path = mutual_fund[amc_name]\n",
    "\n",
    "title= object.get_relevant_pages(path)\n",
    "# pages = [5, 6, 8, 10, 11, 12, 13, 14, 15, 16, 17, 18, 19, 20, 21, 22, 23, 24, 25, 26, 27, 28, 29, 30, 31, 32, 33, 34, 35, 36, 37, 38, 39, 40, 41, 42, 43, 44, 45, 46, 47, 48, 49, 50, 51]\n",
    "# title= df.title.to_dict()\n",
    "data = object.get_data(path,title)\n",
    "extracted_text = object.get_generated_content(data)\n",
    "final_text = object.refine_extracted_data(extracted_text,flatten = True)\n",
    "dfs = object.merge_and_select_data(final_text, select = True,map = True)\n",
    "Helper.quick_json_dump(dfs,object.JSONPATH)"
   ]
  },
  {
   "cell_type": "code",
   "execution_count": null,
   "metadata": {},
   "outputs": [],
   "source": [
    "\"\"\"HELIOS MF FILE MAIN CODE\"\"\" \n",
    "\n",
    "amc_name = 'Helios Mutual Fund'\n",
    "logging.info(f\"User Ran Fund Data of {amc_name}\")\n",
    "\n",
    "object = Helios(PATHS_CONFIG,amc_name)\n",
    "path = mutual_fund[amc_name]\n",
    "\n",
    "title= object.get_relevant_pages(path)\n",
    "# title = df.title.to_dict()\n",
    "# pages =   [2, 4, 6, 8,10]\n",
    "data = object.get_data(path,title)\n",
    "extracted_text = object.get_generated_content(data)\n",
    "final_text = object.refine_extracted_data(extracted_text, flatten=True)\n",
    "dfs = object.merge_and_select_data(final_text,select= True,map = True)\n",
    "Helper.quick_json_dump(dfs,object.JSONPATH)"
   ]
  },
  {
   "cell_type": "code",
   "execution_count": 214,
   "metadata": {},
   "outputs": [
    {
     "data": {
      "text/plain": [
       "'ICICI MF MAIN FILE CODE ACTIVE'"
      ]
     },
     "execution_count": 214,
     "metadata": {},
     "output_type": "execute_result"
    }
   ],
   "source": [
    "\"ICICI MF MAIN FILE CODE ACTIVE\"  \n"
   ]
  },
  {
   "cell_type": "code",
   "execution_count": 242,
   "metadata": {},
   "outputs": [
    {
     "name": "stdout",
     "output_type": "stream",
     "text": [
      "13 -- ICICI Prudential Bluechip Fund \n",
      "14 -- ICICI Prudential Flexicap Fund \n",
      "15 -- ICICI Prudential Large  Mid Cap Fund \n",
      "16 -- ICICI Prudential Large  Mid Cap Fund \n",
      "17 -- ICICI Prudential Multicap Fund \n",
      "18 -- ICICI Prudential Multicap Fund \n",
      "19 -- ICICI Prudential India Opportunities Fund  \n",
      "20 -- ICICI Prudential Value Discovery Fund \n",
      "21 -- ICICI Prudential ELSS Tax Saver Fund \n",
      "22 -- ICICI Prudential Focused Equity Fund \n",
      "23 -- ICICI Prudential Equity Minimum Variance Fund \n",
      "24 -- ICICI Prudential Dividend Yield Equity Fund \n",
      "25 -- ICICI Prudential Rural Opportunities Fund   \n",
      "26 -- ICICI Prudential PSU Equity Fund \n",
      "27 -- ICICI Prudential Midcap Fund \n",
      "28 -- ICICI Prudential Smallcap Fund \n",
      "29 -- ICICI Prudential Smallcap Fund \n",
      "30 -- ICICI Prudential Banking  Financial  Services Fund \n",
      "31 -- ICICI Prudential FMCG Fund \n",
      "32 -- ICICI Prudential Technology Fund \n",
      "33 -- ICICI Prudential Business Cycle Fund \n",
      "34 -- ICICI Prudential Transportation and Logistics Fund  \n",
      "35 -- ICICI Prudential Housing Opportunities Fund \n",
      "36 -- ICICI Prudential ESG Exclusionary Strategy Fund \n",
      "37 -- ICICI Prudential Pharma Healthcare and  Diagnostics (P.H.D) Fund \n",
      "38 -- ICICI Prudential Exports and Services Fund \n",
      "39 -- ICICI Prudential Infrastructure Fund \n",
      "40 -- ICICI Prudential Manufacturing Fund \n",
      "41 -- ICICI Prudential MNC Fund  \n",
      "42 -- ICICI Prudential Bharat Consumption Fund \n",
      "43 -- ICICI Prudential Energy Opportunities Fund \n",
      "44 -- ICICI Prudential Commodities Fund  \n",
      "45 -- ICICI Prudential US Bluechip Equity Fund \n",
      "46 -- ICICI Prudential US Bluechip Equity Fund \n",
      "47 -- ICICI Prudential Quant Fund \n",
      "48 -- ICICI Prudential Innovation Fund \n",
      "49 -- ICICI Prudential Equity  Debt Fund \n",
      "50 -- ICICI Prudential Equity  Debt Fund \n",
      "51 -- ICICI Prudential Equity - Arbitrage Fund \n",
      "52 -- ICICI Prudential Equity - Arbitrage Fund \n",
      "53 -- ICICI Prudential Balanced Advantage Fund \n",
      "54 -- ICICI Prudential Balanced Advantage Fund \n",
      "55 -- ICICI Prudential Equity Savings Fund \n",
      "56 -- ICICI Prudential Equity Savings Fund \n",
      "57 -- ICICI Prudential Regular Savings Fund \n",
      "58 -- ICICI Prudential Regular Savings Fund \n",
      "59 -- ICICI Prudential Multi-Asset Fund \n",
      "60 -- ICICI Prudential Multi-Asset Fund \n",
      "61 -- ICICI Prudential Passive Multi-Asset Fund of Fund\n",
      "62 -- ICICI Prudential Thematic Advantage Fund (FOF)\n",
      "63 -- ICICI Prudential Passive Strategy Fund (FOF)\n",
      "64 -- ICICI Prudential India Equity FOF\n",
      "65 -- ICICI Prudential BHARAT 22 FOF\n",
      "66 -- ICICI Prudential Strategic Metal and Energy Equity  Fund of Fund\n",
      "67 -- ICICI Prudential Global Advantage Fund (FOF)\n",
      "68 -- ICICI Prudential Global Stable Equity Fund (FOF)\n",
      "69 -- ICICI Prudential Asset Allocator Fund (FOF)\n",
      "70 -- ICICI Prudential Income Optimizer Fund (FOF)\n",
      "71 -- ICICI Prudential Debt Management Fund (FOF)\n",
      "72 -- ICICI Prudential Nifty 100 Low Volatility 30 ETF FOF\n",
      "73 -- ICICI Prudential Nifty Alpha Low -  Volatility 30 ETF FOF\n",
      "74 -- ICICI Prudential BSE 500 ETF FOF\n",
      "75 -- ICICI Prudential Regular Gold Savings Fund (FOF)\n",
      "76 -- ICICI Prudential Silver ETF Fund of Fund\n",
      "77 -- ICICI Prudential Overnight Fund \n",
      "78 -- ICICI Prudential Liquid Fund \n",
      "79 -- ICICI Prudential Money Market Fund \n",
      "80 -- ICICI Prudential Ultra Short Term Fund \n",
      "81 -- ICICI Prudential Savings Fund \n",
      "82 -- ICICI Prudential Floating Interest Fund \n",
      "83 -- ICICI Prudential Short Term Fund \n",
      "84 -- ICICI Prudential Bond Fund \n",
      "85 -- ICICI Prudential Corporate Bond Fund \n",
      "86 -- ICICI Prudential Banking  PSU Debt Fund \n",
      "87 -- ICICI Prudential Credit Risk Fund \n",
      "88 -- ICICI Prudential Credit Risk Fund \n",
      "89 -- ICICI Prudential Medium Term Bond Fund \n",
      "90 -- ICICI Prudential Long Term Bond Fund \n",
      "91 -- ICICI Prudential All Seasons Bond Fund \n",
      "92 -- ICICI Prudential Gilt Fund \n",
      "93 -- ICICI Prudential Constant Maturity Gilt Fund \n",
      "94 -- ICICI Prudential Child Care Fund (Gift Plan\n",
      "95 -- ICICI Prudential Retirement Fund - Pure Equity Plan\n",
      "96 -- ICICI Prudential Retirement Fund -  Hybrid Aggressive Plan\n",
      "97 -- ICICI Prudential Retirement Fund -  Hybrid Conservative Plan\n",
      "98 -- ICICI Prudential Retirement Fund - Pure Debt Plan\n",
      "99 -- ICICI Prudential Long Term Wealth  Enhancement Fund \n",
      "141 -- ICICI Prudential Mutual Fund \n",
      "\n",
      "Doc Saved At: C:\\Users\\Kaustubh.keny\\Projects\\office-work\\mywork-repo\\data\\output\\pdf_report.xlsx\n",
      "---<<ICICI Prudential Bluechip Fund>>---\n",
      "---<<ICICI Prudential Flexicap Fund>>---\n",
      "---<<ICICI Prudential Large  Mid Cap Fund>>---\n",
      "---<<ICICI Prudential Multicap Fund>>---\n",
      "---<<ICICI Prudential India Opportunities Fund>>---\n",
      "---<<ICICI Prudential Value Discovery Fund>>---\n",
      "---<<ICICI Prudential ELSS Tax Saver Fund>>---\n",
      "---<<ICICI Prudential Focused Equity Fund>>---\n",
      "---<<ICICI Prudential Equity Minimum Variance Fund>>---\n",
      "---<<ICICI Prudential Dividend Yield Equity Fund>>---\n",
      "---<<ICICI Prudential Rural Opportunities Fund>>---\n",
      "---<<ICICI Prudential PSU Equity Fund>>---\n",
      "---<<ICICI Prudential Midcap Fund>>---\n",
      "---<<ICICI Prudential Smallcap Fund>>---\n",
      "---<<ICICI Prudential Banking  Financial  Services Fund>>---\n",
      "---<<ICICI Prudential FMCG Fund>>---\n",
      "---<<ICICI Prudential Technology Fund>>---\n",
      "---<<ICICI Prudential Business Cycle Fund>>---\n",
      "---<<ICICI Prudential Transportation and Logistics Fund>>---\n",
      "---<<ICICI Prudential Housing Opportunities Fund>>---\n",
      "---<<ICICI Prudential ESG Exclusionary Strategy Fund>>---\n",
      "---<<ICICI Prudential Pharma Healthcare and  Diagnostics (P.H.D) Fund>>---\n",
      "---<<ICICI Prudential Exports and Services Fund>>---\n",
      "---<<ICICI Prudential Infrastructure Fund>>---\n",
      "---<<ICICI Prudential Manufacturing Fund>>---\n",
      "---<<ICICI Prudential MNC Fund>>---\n",
      "---<<ICICI Prudential Bharat Consumption Fund>>---\n",
      "---<<ICICI Prudential Energy Opportunities Fund>>---\n",
      "---<<ICICI Prudential Commodities Fund>>---\n",
      "---<<ICICI Prudential US Bluechip Equity Fund>>---\n",
      "---<<ICICI Prudential Quant Fund>>---\n",
      "---<<ICICI Prudential Innovation Fund>>---\n",
      "---<<ICICI Prudential Equity  Debt Fund>>---\n",
      "---<<ICICI Prudential Equity - Arbitrage Fund>>---\n",
      "---<<ICICI Prudential Balanced Advantage Fund>>---\n",
      "---<<ICICI Prudential Equity Savings Fund>>---\n",
      "---<<ICICI Prudential Regular Savings Fund>>---\n",
      "---<<ICICI Prudential Multi-Asset Fund>>---\n",
      "---<<ICICI Prudential Passive Multi-Asset Fund of Fund>>---\n",
      "---<<ICICI Prudential Thematic Advantage Fund (FOF)>>---\n",
      "---<<ICICI Prudential Passive Strategy Fund (FOF)>>---\n",
      "---<<ICICI Prudential India Equity FOF>>---\n",
      "---<<ICICI Prudential BHARAT 22 FOF>>---\n",
      "---<<ICICI Prudential Strategic Metal and Energy Equity  Fund of Fund>>---\n",
      "---<<ICICI Prudential Global Advantage Fund (FOF)>>---\n",
      "---<<ICICI Prudential Global Stable Equity Fund (FOF)>>---\n",
      "---<<ICICI Prudential Asset Allocator Fund (FOF)>>---\n",
      "---<<ICICI Prudential Income Optimizer Fund (FOF)>>---\n",
      "---<<ICICI Prudential Debt Management Fund (FOF)>>---\n",
      "---<<ICICI Prudential Nifty 100 Low Volatility 30 ETF FOF>>---\n",
      "---<<ICICI Prudential Nifty Alpha Low -  Volatility 30 ETF FOF>>---\n",
      "---<<ICICI Prudential BSE 500 ETF FOF>>---\n",
      "---<<ICICI Prudential Regular Gold Savings Fund (FOF)>>---\n",
      "---<<ICICI Prudential Silver ETF Fund of Fund>>---\n",
      "---<<ICICI Prudential Overnight Fund>>---\n",
      "---<<ICICI Prudential Liquid Fund>>---\n",
      "---<<ICICI Prudential Money Market Fund>>---\n",
      "---<<ICICI Prudential Ultra Short Term Fund>>---\n",
      "---<<ICICI Prudential Savings Fund>>---\n",
      "---<<ICICI Prudential Floating Interest Fund>>---\n",
      "---<<ICICI Prudential Short Term Fund>>---\n",
      "---<<ICICI Prudential Bond Fund>>---\n",
      "---<<ICICI Prudential Corporate Bond Fund>>---\n",
      "---<<ICICI Prudential Banking  PSU Debt Fund>>---\n",
      "---<<ICICI Prudential Credit Risk Fund>>---\n",
      "---<<ICICI Prudential Medium Term Bond Fund>>---\n",
      "---<<ICICI Prudential Long Term Bond Fund>>---\n",
      "---<<ICICI Prudential All Seasons Bond Fund>>---\n",
      "---<<ICICI Prudential Gilt Fund>>---\n",
      "---<<ICICI Prudential Constant Maturity Gilt Fund>>---\n",
      "---<<ICICI Prudential Child Care Fund (Gift Plan>>---\n",
      "---<<ICICI Prudential Retirement Fund - Pure Equity Plan>>---\n",
      "---<<ICICI Prudential Retirement Fund -  Hybrid Aggressive Plan>>---\n",
      "---<<ICICI Prudential Retirement Fund -  Hybrid Conservative Plan>>---\n",
      "---<<ICICI Prudential Retirement Fund - Pure Debt Plan>>---\n",
      "---<<ICICI Prudential Long Term Wealth  Enhancement Fund>>---\n"
     ]
    }
   ],
   "source": [
    "\"\"\" ICICI MF MAIN FILE CODE PASSIVE\"\"\" #Issue: two fund on same page\n",
    "\n",
    "amc_name = \"ICICI Prudential Mutual Fund\"\n",
    "logging.info(f\"User Ran Fund Data of {amc_name}\")\n",
    "object = ICICI(PATHS_CONFIG,amc_name)\n",
    "path = mutual_fund[amc_name]\n",
    "\n",
    "title = object.get_relevant_pages(path)\n",
    "# title = df.title.to_dict()\n",
    "# pages = [8, 9, 11, 13, 15, 16, 17, 18, 19, 20, 21, 22, 23, 24, 25, 27, 28, 29, 30, 31, 32, 33, 34, 35, 36, 37, 39, 40, 41, 42, 43, 44, 46, 47, 49, 51, 53, 55, 56, 58, 59, 60, 62, 64, 65, 66, 67, 68, 69, 71, 72, 74, 75, 77, 78, 80]\n",
    "data = object.get_data(path,title)\n",
    "extracted_text = object.get_generated_content(data)"
   ]
  },
  {
   "cell_type": "code",
   "execution_count": 244,
   "metadata": {},
   "outputs": [
    {
     "name": "stdout",
     "output_type": "stream",
     "text": [
      "\n",
      " JSON saved at C:\\Users\\Kaustubh.keny\\Projects\\office-work\\mywork-repo\\data\\feb25output\\dump_ICICI_17_00.json\n"
     ]
    }
   ],
   "source": [
    "object = ICICI(PATHS_CONFIG,amc_name)\n",
    "final_text = object.refine_extracted_data(extracted_text, flatten=True)\n",
    "# dfs = object.merge_and_select_data(final_text,select= True,map = True)\n",
    "Helper.quick_json_dump(final_text,object.JSONPATH)"
   ]
  },
  {
   "cell_type": "code",
   "execution_count": null,
   "metadata": {},
   "outputs": [],
   "source": [
    "\"\"\" INVESCO MF MAIN FILE CODE\"\"\" #Issue: two fund on same page\n",
    "\n",
    "amc_name = 'Invesco Mutual Fund'\n",
    "logging.info(f\"User Ran Fund Data of {amc_name}\")\n",
    "object = Invesco(PATHS_CONFIG,amc_name)\n",
    "path = mutual_fund[amc_name]\n",
    "\n",
    "title = object.get_relevant_pages(path)\n",
    "# title = df.title.to_dict()\n",
    "# pages = [4, 5, 6, 7, 8, 9, 10, 11, 12, 13, 14, 15, 16, 17, 18, 19, 21, 22, 23, 24, 25, 26, 27, 28, 29, 30, 31, 32, 33, 34, 35, 36, 37, 38, 39, 40, 41, 42, 43]\n",
    "data = object.get_data(path,title)\n",
    "extracted_text = object.get_generated_content(data)\n",
    "final_text = object.refine_extracted_data(extracted_text)\n",
    "dfs = object.merge_and_select_data(final_text,select = True,map = True)\n",
    "Helper.quick_json_dump(dfs, object.JSONPATH)"
   ]
  },
  {
   "cell_type": "code",
   "execution_count": null,
   "metadata": {},
   "outputs": [],
   "source": [
    "\"\"\"ITI MAIN FILE CODE\"\"\" #Issues: more data cleaning\n",
    "\n",
    "amc_name = 'ITI Mutual Fund'\n",
    "logging.info(f\"User Ran Fund Data of {amc_name}\")\n",
    "object = ITI(PATHS_CONFIG,amc_name)\n",
    "path = mutual_fund[amc_name]\n",
    "title= object.get_relevant_pages(path)\n",
    "# title = df.title.to_dict()\n",
    "# pages = [9, 10, 11, 12, 13, 14, 15, 16, 17, 18, 19, 20, 21, 22, 23, 24, 25, 26]\n",
    "data = object.get_data(path,title)\n",
    "extracted_text = object.get_generated_content(data)\n",
    "final_text = object.refine_extracted_data(extracted_text,flatten = True)\n",
    "dfs= object.merge_and_select_data(final_text,select = True,map = True)\n",
    "Helper.quick_json_dump(dfs, object.JSONPATH)"
   ]
  },
  {
   "cell_type": "code",
   "execution_count": null,
   "metadata": {},
   "outputs": [],
   "source": [
    "\"\"\"JM FUND MAIN FILE CODE\"\"\" #objective on left, sometimes date is with header\n",
    "#overlapppp\n",
    "\n",
    "amc_name = 'JM Financial Mutual Fund'\n",
    "logging.info(f\"User Ran Fund Data of {amc_name}\")\n",
    "\n",
    "object = JMMF(PATHS_CONFIG,amc_name)\n",
    "path = mutual_fund[amc_name]\n",
    "\n",
    "title= object.get_relevant_pages(path)\n",
    "# title = df.title.to_dict()\n",
    "# pages = [18, 19, 20, 21, 22, 23, 24, 25, 26, 27, 28, 29, 30, 31, 32, 33]\n",
    "data = object.get_data(path,title)\n",
    "extracted_text = object.get_generated_content(data)\n",
    "final_text = object.refine_extracted_data(extracted_text, flatten = True)\n",
    "dfs = object.merge_and_select_data(final_text,select = True, map = True)\n",
    "Helper.quick_json_dump(dfs, object.JSONPATH)"
   ]
  },
  {
   "cell_type": "code",
   "execution_count": null,
   "metadata": {},
   "outputs": [],
   "source": [
    "\"\"\"KOTAK FUND MAIN CODE\"\"\" #Issue: 1 or more fund on same page, # title overlap the content\n",
    "\n",
    "amc_name = 'Kotak Mahindra Mutual Fund'\n",
    "logging.info(f\"User Ran Fund Data of {amc_name}\")\n",
    "\n",
    "object = Kotak(PATHS_CONFIG,amc_name)\n",
    "path = mutual_fund[amc_name]\n",
    "\n",
    "title= object.get_relevant_pages(path)\n",
    "# title = df.title.to_dict()\n",
    "# pages = [5, 6, 7, 8, 9, 10, 11, 12, 13, 14, 15, 16, 17, 18, 19, 20, 21, 22, 23, 24, 25, 26, 27, 28, 29, 30, 32, 34, 36, 37, 38, 40, 41, 43, 44, 46, 48, 49, 50, 52, 54, 55, 56, 69, 70, 71, 72, 73, 74, 75, 76, 77, 78, 79, 80, 81, 82, 83, 84, 85, 86, 87, 88, 89, 90, 91, 92, 93, 94, 95, 96, 97, 98, 99, 100, 101, 102, 103, 104, 105, 106, 107, 108]\n",
    "data = object.get_data(path,title)\n",
    "extracted_text = object.get_generated_content(data)\n",
    "final_text = object.refine_extracted_data(extracted_text,flatten= True)\n",
    "dfs = object.merge_and_select_data(final_text, select = True, map = True)\n",
    "Helper.quick_json_dump(dfs, object.JSONPATH)"
   ]
  },
  {
   "cell_type": "code",
   "execution_count": null,
   "metadata": {},
   "outputs": [],
   "source": [
    "\"\"\"LIC FUND MAIN CODE\"\"\" #issue: OCR for title bcz they're images\n",
    "amc_name = 'LIC Mutual Fund'\n",
    "logging.info(f\"User Ran Fund Data of {amc_name}\")\n",
    "\n",
    "object = LIC(PATHS_CONFIG,amc_name)\n",
    "path = mutual_fund[amc_name]\n",
    "# title = object.get_relevant_pages(path)\n",
    "title = object.get_proper_fund_names(path)\n",
    "data = object.get_data(path,title)\n",
    "extracted_text = object.get_generated_content(data)\n",
    "final_text = object.refine_extracted_data(extracted_text, flatten = True)\n",
    "dfs = object.merge_and_select_data(final_text,select = True, map = True)\n",
    "Helper.quick_json_dump(dfs, object.JSONPATH)"
   ]
  },
  {
   "cell_type": "code",
   "execution_count": null,
   "metadata": {},
   "outputs": [],
   "source": [
    "\"\"\"MAHINDRA MANULIFE MAIN CODE\"\"\" #incrase pages count\n",
    "\n",
    "amc_name = 'Mahindra Manulife Mutual Fund'\n",
    "logging.info(f\"User Ran Fund Data of {amc_name}\")\n",
    "\n",
    "object = MahindraManu(PATHS_CONFIG,amc_name)\n",
    "path = mutual_fund[amc_name]\n",
    "\n",
    "title = object.get_relevant_pages(path)\n",
    "data = object.get_data(path,title)\n",
    "extracted_text = object.get_generated_content(data)\n",
    "final_text = object.refine_extracted_data(extracted_text, flatten =True)\n",
    "dfs = object.merge_and_select_data(final_text,select = True, map = True)\n",
    "Helper.quick_json_dump(dfs, object.JSONPATH)"
   ]
  },
  {
   "cell_type": "code",
   "execution_count": null,
   "metadata": {},
   "outputs": [],
   "source": [
    "\"\"\"MOTILAL OSWAL PASSIVE MAIN CODE FILE\"\"\" #Fund Manager Regex\n",
    "\n",
    "amc_name = 'Motilal Oswal Mutual Fund Passive'\n",
    "logging.info(f\"User Ran Fund Data of {amc_name}\")\n",
    "\n",
    "object = MotilalOswal(PATHS_CONFIG,amc_name)\n",
    "path = mutual_fund[amc_name]\n",
    "\n",
    "title= object.get_relevant_pages(path)\n",
    "data = object.get_data(path,title)\n",
    "extracted_text = object.get_generated_content(data)"
   ]
  },
  {
   "cell_type": "code",
   "execution_count": null,
   "metadata": {},
   "outputs": [],
   "source": [
    "\"\"\"MOTILAL OSWAL MAIN CODE FILE\"\"\" #Fund Manager Regex\n",
    "\n",
    "amc_name = 'Motilal Oswal Mutual Fund'\n",
    "logging.info(f\"User Ran Fund Data of {amc_name}\")\n",
    "\n",
    "object = MotilalOswal(PATHS_CONFIG,amc_name)\n",
    "path = mutual_fund[amc_name]\n",
    "\n",
    "title= object.get_relevant_pages(path)\n",
    "data = object.get_data(path,title)\n",
    "extracted_text = object.get_generated_content(data)"
   ]
  },
  {
   "cell_type": "code",
   "execution_count": 89,
   "metadata": {},
   "outputs": [
    {
     "name": "stdout",
     "output_type": "stream",
     "text": [
      "\n",
      " JSON saved at C:\\Users\\Kaustubh.keny\\Projects\\office-work\\mywork-repo\\data\\feb25output\\dump_Motilal_11_37.json\n"
     ]
    }
   ],
   "source": [
    "\n",
    "final_text = object.refine_extracted_data(extracted_text, flatten= True)\n",
    "dfs = object.merge_and_select_data(final_text,select = True,map = True, special = True)\n",
    "Helper.quick_json_dump(dfs, object.JSONPATH)"
   ]
  },
  {
   "cell_type": "code",
   "execution_count": 93,
   "metadata": {},
   "outputs": [
    {
     "name": "stdout",
     "output_type": "stream",
     "text": [
      "08 -- MIRAE ASSET NIFTY 50 ETF\n",
      "09 -- MIRAE ASSET NIFTY NEXT 50 ETF\n",
      "10 -- MIRAE ASSET NIFTY FINANCIAL SERVICES ETF\n",
      "11 -- MIRAE ASSET NIFTY INDIA MANUFACTURING ETF\n",
      "12 -- MIRAE ASSET NIFTY MIDCAP 150 ETF\n",
      "13 -- MIRAE ASSET NIFTY 100 LOW VOLATILITY 30 ETF\n",
      "14 -- MIRAE ASSET BSE SENSEX ETF\n",
      "15 -- MIRAE ASSET NIFTY 200 ALPHA 30 ETF\n",
      "16 -- MIRAE ASSET NIFTY SMALLCAP 250 MOMENTUM  100 ETF\n",
      "17 -- MIRAE ASSET NIFTY MIDSMALLCAP400 MOMENT QUALITY 100 ETF\n",
      "18 -- MIRAE ASSET NIFTY500 MULTICAP 502525 ETF\n",
      "19 -- MIRAE ASSET NIFTY INDIA NEW AGE CONSUMPTI NSE Symbol CONSUMER , BSE Scrip Code 544323 (Exchange Traded Fund (ETF\n",
      "20 -- MIRAE ASSET NIFTY 100 ESG SECTOR LEADERS E NSE Symbol ESG , BSE Scrip Code 543246 (Exchange Traded Fund (ETF\n",
      "21 -- MIRAE ASSET NYSE FANG  ETF\n",
      "22 -- MIRAE ASSET SP 500 TOP 50 ETF\n",
      "23 -- MIRAE ASSET HANG SENG TECH ETF\n",
      "24 -- MIRAE ASSET NIFTY BANK ETF\n",
      "25 -- MIRAE ASSET NIFTY IT ETF\n",
      "26 -- MIRAE ASSET NIFTY EV AND NEW AGE AUTOMOTI NSE Symbol EVINDIA , BSE Scrip Code 544212 (Exchange Traded Fund (ETF\n",
      "27 -- MIRAE ASSET NIFTY PSU BANK ETF\n",
      "28 -- MIRAE ASSET NIFTY METAL ETF\n",
      "29 -- MIRAE ASSET GOLD ETF\n",
      "30 -- MIRAE ASSET SILVER ETF\n",
      "31 -- MIRAE ASSET NIFTY 8-13 YR G-SEC ETF\n",
      "32 -- MIRAE ASSET NIFTY 1D RATE LIQUID ETF\n",
      "33 -- MIRAE ASSET NIFTY 1D RATE LIQUID ETF\n",
      "34 -- MIRAE ASSET EQUITY ALLOCATOR FUND \n",
      "35 -- MIRAE ASSET NIFTY 100 ESG SECTOR LEADERS F FUND\n",
      "36 -- MIRAE ASSET NYSE FANG  ETF\n",
      "37 -- MIRAE ASSET SP 500 TOP 50 ETF\n",
      "38 -- MIRAE ASSET HANG SENG TECH ETF\n",
      "39 -- MIRAE ASSET NIFTY INDIA MANUFACTURING ETF\n",
      "40 -- MIRAE ASSET GLOBAL X ARTIFICIAL INTELLIGENC TECHNOLOGY ETF\n",
      "41 -- MIRAE ASSET GLOBAL ELECTRIC  AUTONOMOU ETF\n",
      "42 -- MIRAE ASSET NIFTY SMALLCAP 250 MOMENTUM  100 ETF\n",
      "43 -- MIRAE ASSET NIFTY MIDSMALLCAP400 MOMENT QUALITY 100 ETF\n",
      "44 -- MIRAE ASSET NIFTY 200 ALPHA 30 ETF\n",
      "45 -- MIRAE ASSET GOLD ETF\n",
      "46 -- MIRAE ASSET NIFTY INDIA NEW AGE CONSUMPTI ETF\n",
      "48 -- MIRAE ASSET NIFTY 50 INDEX FUND\n",
      "49 -- MIRAE ASSET NIFTY TOTAL MARKET INDEX FUND\n",
      "50 -- MIRAE ASSET NIFTY SDL JUN 2027 INDEX FUND\n",
      "51 -- MIRAE ASSET CRISIL IBX GILT INDEX - APRIL 2033 FUND\n",
      "52 -- MIRAE ASSET NIFTY AAA PSU BOND PLUS SDL AP 5050 INDEX FUND\n",
      "53 -- MIRAE ASSET NIFTY SDL JUNE 2028 INDEX FUND\n",
      "\n",
      "Doc Saved At: C:\\Users\\Kaustubh.keny\\Projects\\office-work\\mywork-repo\\data\\output\\pdf_report.xlsx\n",
      "---<<MIRAE ASSET NIFTY 50 ETF>>---\n",
      "---<<MIRAE ASSET NIFTY NEXT 50 ETF>>---\n",
      "---<<MIRAE ASSET NIFTY FINANCIAL SERVICES ETF>>---\n",
      "---<<MIRAE ASSET NIFTY INDIA MANUFACTURING ETF>>---\n",
      "---<<MIRAE ASSET NIFTY MIDCAP 150 ETF>>---\n",
      "---<<MIRAE ASSET NIFTY 100 LOW VOLATILITY 30 ETF>>---\n",
      "---<<MIRAE ASSET BSE SENSEX ETF>>---\n",
      "---<<MIRAE ASSET NIFTY 200 ALPHA 30 ETF>>---\n",
      "---<<MIRAE ASSET NIFTY SMALLCAP 250 MOMENTUM  100 ETF>>---\n",
      "---<<MIRAE ASSET NIFTY MIDSMALLCAP400 MOMENT QUALITY 100 ETF>>---\n",
      "---<<MIRAE ASSET NIFTY500 MULTICAP 502525 ETF>>---\n",
      "---<<MIRAE ASSET NIFTY 100 ESG SECTOR LEADERS E NSE Symbol ESG , BSE Scrip Code 543246 (Exchange Traded Fund (ETF>>---\n",
      "---<<MIRAE ASSET NYSE FANG  ETF>>---\n",
      "---<<MIRAE ASSET SP 500 TOP 50 ETF>>---\n",
      "---<<MIRAE ASSET HANG SENG TECH ETF>>---\n",
      "---<<MIRAE ASSET NIFTY BANK ETF>>---\n",
      "---<<MIRAE ASSET NIFTY IT ETF>>---\n",
      "---<<MIRAE ASSET NIFTY EV AND NEW AGE AUTOMOTI NSE Symbol EVINDIA , BSE Scrip Code 544212 (Exchange Traded Fund (ETF>>---\n",
      "---<<MIRAE ASSET GOLD ETF>>---\n",
      "---<<MIRAE ASSET SILVER ETF>>---\n",
      "---<<MIRAE ASSET NIFTY 8-13 YR G-SEC ETF>>---\n",
      "---<<MIRAE ASSET NIFTY 1D RATE LIQUID ETF>>---\n",
      "---<<MIRAE ASSET NIFTY SDL JUN 2027 INDEX FUND>>---\n",
      "---<<MIRAE ASSET CRISIL IBX GILT INDEX - APRIL 2033 FUND>>---\n",
      "---<<MIRAE ASSET NIFTY AAA PSU BOND PLUS SDL AP 5050 INDEX FUND>>---\n",
      "---<<MIRAE ASSET NIFTY SDL JUNE 2028 INDEX FUND>>---\n"
     ]
    }
   ],
   "source": [
    "\"\"\"MIRAE MAIN FILE CODE PASSIVE\"\"\"\n",
    "\n",
    "amc_name = 'Mirae Asset Mutual Fund Passive'\n",
    "logging.info(f\"User Ran Fund Data of {amc_name}\")\n",
    "\n",
    "object = MIRAE(PATHS_CONFIG,amc_name)\n",
    "path = mutual_fund[amc_name]\n",
    "\n",
    "title= object.get_relevant_pages(path)\n",
    "# title = object.get_proper_fund_names(path)\n",
    "# pages = list(title.keys())\n",
    "data = object.get_data(path,title)\n",
    "extracted_text = object.get_generated_content(data)"
   ]
  },
  {
   "cell_type": "code",
   "execution_count": null,
   "metadata": {},
   "outputs": [],
   "source": [
    "\"\"\"MIRAE MAIN FILE CODE\"\"\"\n",
    "\n",
    "amc_name = 'Mirae Asset Mutual Fund'\n",
    "logging.info(f\"User Ran Fund Data of {amc_name}\")\n",
    "\n",
    "object = MIRAE(PATHS_CONFIG,amc_name)\n",
    "path = mutual_fund[amc_name]\n",
    "\n",
    "title= object.get_relevant_pages(path)\n",
    "# title = object.get_proper_fund_names(path)\n",
    "# pages = list(title.keys())\n",
    "data = object.get_data(path,title)\n",
    "extracted_text = object.get_generated_content(data)"
   ]
  },
  {
   "cell_type": "code",
   "execution_count": 94,
   "metadata": {},
   "outputs": [
    {
     "name": "stdout",
     "output_type": "stream",
     "text": [
      "\n",
      " JSON saved at C:\\Users\\Kaustubh.keny\\Projects\\office-work\\mywork-repo\\data\\feb25output\\dump_MIRAE_11_45.json\n"
     ]
    }
   ],
   "source": [
    "final_text = object.refine_extracted_data(extracted_text, flatten=True)\n",
    "dfs = object.merge_and_select_data(final_text,select = True, map = True)\n",
    "Helper.quick_json_dump(dfs, object.JSONPATH)"
   ]
  },
  {
   "cell_type": "code",
   "execution_count": null,
   "metadata": {},
   "outputs": [],
   "source": [
    "\"\"\"NAVI MAIN FILE CODE\"\"\" #Issue: Left and right\n",
    "\n",
    "amc_name = 'Navi Mutual Fund'\n",
    "logging.info(f\"User Ran Fund Data of {amc_name}\")\n",
    "\n",
    "object = NAVI(PATHS_CONFIG,amc_name)\n",
    "path = mutual_fund[amc_name]\n",
    "title = object.get_relevant_pages(path)"
   ]
  },
  {
   "cell_type": "code",
   "execution_count": null,
   "metadata": {},
   "outputs": [],
   "source": [
    "data = object.get_data(path,title)\n",
    "extracted_text = object.get_generated_content(data)"
   ]
  },
  {
   "cell_type": "code",
   "execution_count": null,
   "metadata": {},
   "outputs": [],
   "source": [
    "final_text = object.refine_extracted_data(extracted_text, flatten = True)\n",
    "dfs = object.merge_and_select_data(final_text,select = True,map = True)\n",
    "Helper.quick_json_dump(dfs, object.JSONPATH)"
   ]
  },
  {
   "cell_type": "code",
   "execution_count": null,
   "metadata": {},
   "outputs": [],
   "source": [
    "\"NIPPON MAIN FILE CODE\"\n",
    "amc_name = 'Nippon India Mutual Fund'\n",
    "logging.info(f\"User Ran Fund Data of {amc_name}\")\n",
    "\n",
    "object = Nippon(PATHS_CONFIG,amc_name)\n",
    "path = mutual_fund[amc_name]\n",
    "title= object.get_relevant_pages(path)\n",
    "# title = object.get_proper_fund_names(path)\n",
    "# pages = list(title.keys())\n",
    "data = object.get_data(path,title)\n",
    "extracted_text = object.get_generated_content(data)"
   ]
  },
  {
   "cell_type": "code",
   "execution_count": null,
   "metadata": {},
   "outputs": [],
   "source": [
    "final_text = object.refine_extracted_data(extracted_text, flatten = True)\n",
    "dfs = object.merge_and_select_data(final_text,select = True, map = True)\n",
    "Helper.quick_json_dump(dfs,object.JSONPATH)"
   ]
  },
  {
   "cell_type": "code",
   "execution_count": null,
   "metadata": {},
   "outputs": [],
   "source": [
    "\"\"\"NJMF MAIN CODE FILE\"\"\"\n",
    "\n",
    "amc_name = 'NJ Mutual Fund'\n",
    "logging.info(f\"User Ran Fund Data of {amc_name}\")\n",
    "\n",
    "object = NJMF(PATHS_CONFIG,amc_name)\n",
    "path = mutual_fund[amc_name]\n",
    "title = object.get_relevant_pages(path)\n",
    "# pages = [1, 3, 5, 7, 9]\n",
    "# title = df.title.to_dict()\n",
    "data = object.get_data(path,title)\n",
    "extracted_text = object.get_generated_content(data)"
   ]
  },
  {
   "cell_type": "code",
   "execution_count": null,
   "metadata": {},
   "outputs": [],
   "source": [
    "final_text = object.refine_extracted_data(extracted_text,flatten = True)\n",
    "dfs = object.merge_and_select_data(final_text,select = True, map = True,special=True)\n",
    "Helper.quick_json_dump(dfs, object.JSONPATH)"
   ]
  },
  {
   "cell_type": "code",
   "execution_count": null,
   "metadata": {},
   "outputs": [],
   "source": [
    "\"\"\"OlD BriDGE MAIN CODE\"\"\"\n",
    "amc_name = \"Old Bridge Mutual Fund\"\n",
    "logging.info(f\"User Ran Fund Data of {amc_name}\")\n",
    "\n",
    "object = OldBridge(PATHS_CONFIG,amc_name)\n",
    "path = mutual_fund[amc_name]\n",
    "\n",
    "# path,df = object.get_relevant_pages(path, 7)\n",
    "# data = object.get_data(path,title)\n",
    "# extracted_text = object.get_generated_content(data)"
   ]
  },
  {
   "cell_type": "code",
   "execution_count": null,
   "metadata": {},
   "outputs": [],
   "source": [
    "\"\"\"PGIM MAIN FILE CODE\"\"\" #ISSUES: Clean data further\n",
    "\n",
    "amc_name = \"PGIM India Mutual Fund\"\n",
    "logging.info(f\"User Ran Fund Data of {amc_name}\")\n",
    "\n",
    "object = PGIM(PATHS_CONFIG,amc_name)\n",
    "path = mutual_fund[amc_name]\n",
    "\n",
    "title = object.get_relevant_pages(path)\n",
    "data = object.get_data(path,title)\n",
    "extracted_text = object.get_generated_content(data)\n",
    "final_text = object.refine_extracted_data(extracted_text, flatten = True)\n",
    "dfs = object.merge_and_select_data(final_text,select = True,map= True)\n",
    "Helper.quick_json_dump(dfs, object.JSONPATH)"
   ]
  },
  {
   "cell_type": "code",
   "execution_count": null,
   "metadata": {},
   "outputs": [],
   "source": [
    "\"\"\"QUANT MAIN CODE FILE\"\"\"\n",
    "\n",
    "amc_name = 'Quant Mutual Fund'\n",
    "logging.info(f\"User Ran Fund Data of {amc_name}\")\n",
    "\n",
    "object = QuantMF(PATHS_CONFIG, amc_name)\n",
    "path = mutual_fund[amc_name]\n",
    "\n",
    "title = object.get_relevant_pages(path)\n",
    "data = object.get_data(path,title)\n",
    "extracted_text = object.get_generated_content(data)\n",
    "\n",
    "final_text = object.refine_extracted_data(extracted_text, flatten = True)\n",
    "dfs = object.merge_and_select_data(final_text,select = True,map = True)\n",
    "Helper.quick_json_dump(dfs, object.JSONPATH)"
   ]
  },
  {
   "cell_type": "code",
   "execution_count": null,
   "metadata": {},
   "outputs": [],
   "source": [
    "\"\"\"QUANTUM MAIN FILE CODE\"\"\" #ISSUES: Clean data further\n",
    "\n",
    "amc_name = \"Quantum Mutual Fund\"\n",
    "logging.info(f\"User Ran Fund Data of {amc_name}\")\n",
    "\n",
    "object = Quantum(PATHS_CONFIG,amc_name)\n",
    "path = mutual_fund[amc_name]\n",
    "\n",
    "title = object.get_relevant_pages(path)\n",
    "# title = df.title.to_dict()\n",
    "# pages = [7, 9, 12, 14, 16, 18, 20, 22, 24, 26, 28, 30, 32, 33]\n",
    "data = object.get_data(path,title)\n",
    "extracted_text = object.get_generated_content(data)"
   ]
  },
  {
   "cell_type": "code",
   "execution_count": 109,
   "metadata": {},
   "outputs": [
    {
     "name": "stdout",
     "output_type": "stream",
     "text": [
      "\n",
      " JSON saved at C:\\Users\\Kaustubh.keny\\Projects\\office-work\\mywork-repo\\data\\feb25output\\dump_QUANTUM_12_22.json\n"
     ]
    }
   ],
   "source": [
    "final_text = object.refine_extracted_data(extracted_text, flatten = True)\n",
    "dfs = object.merge_and_select_data(final_text,select = True, map = True)\n",
    "Helper.quick_json_dump(dfs, object.JSONPATH)"
   ]
  },
  {
   "cell_type": "code",
   "execution_count": null,
   "metadata": {},
   "outputs": [],
   "source": [
    "\"\"\"SAMCO PDF FILE MAIN CODE\"\"\" \n",
    "\n",
    "amc_name = 'Samco Mutual Fund'\n",
    "logging.info(f\"User Ran Fund Data of {amc_name}\")\n",
    "\n",
    "object = Samco(PATHS_CONFIG,amc_name)\n",
    "path = mutual_fund[amc_name]\n",
    "\n",
    "title= object.get_relevant_pages(path)\n",
    "# title = df.title.to_dict()\n",
    "# pages =  [3, 5, 7, 9, 11, 13, 15, 17, 18]\n",
    "data = object.get_data(path,title)\n",
    "extracted_text = object.get_generated_content(data)\n",
    "final_text = object.refine_extracted_data(extracted_text, flatten=True)\n",
    "dfs = object.merge_and_select_data(final_text, select = True,map = True)\n",
    "Helper.quick_json_dump(dfs,object.JSONPATH)"
   ]
  },
  {
   "cell_type": "code",
   "execution_count": null,
   "metadata": {},
   "outputs": [],
   "source": [
    "\"\"\"SBI PASSIVE PDF FILE MAIN CODE\"\"\" \n",
    "\n",
    "amc_name = 'SBI Mutual Fund Passive'\n",
    "logging.info(f\"User Ran Fund Data of {amc_name}\")\n",
    "\n",
    "object = SBIPassive(PATHS_CONFIG,amc_name)\n",
    "path = mutual_fund[amc_name]\n",
    "title= object.get_proper_fund_names(path)\n",
    "data = object.get_data(path,title)\n",
    "extracted_text = object.get_generated_content(data)"
   ]
  },
  {
   "cell_type": "code",
   "execution_count": 122,
   "metadata": {},
   "outputs": [
    {
     "name": "stdout",
     "output_type": "stream",
     "text": [
      "\n",
      " JSON saved at C:\\Users\\Kaustubh.keny\\Projects\\office-work\\mywork-repo\\data\\feb25output\\dump_SBI_12_32.json\n"
     ]
    }
   ],
   "source": [
    "object = SBIPassive(PATHS_CONFIG,amc_name)\n",
    "final_text = object.refine_extracted_data(extracted_text,flatten = True)\n",
    "dfs = object.merge_and_select_data(final_text,select = True,map = True,special = True)\n",
    "Helper.quick_json_dump(dfs,object.JSONPATH)"
   ]
  },
  {
   "cell_type": "code",
   "execution_count": null,
   "metadata": {},
   "outputs": [],
   "source": [
    "\"\"\"SBI PDF FILE MAIN CODE\"\"\" \n",
    "\n",
    "amc_name = 'SBI Mutual Fund'\n",
    "logging.info(f\"User Ran Fund Data of {amc_name}\")\n",
    "\n",
    "object = SBI(PATHS_CONFIG,amc_name)\n",
    "path = mutual_fund[amc_name]\n",
    "title= object.get_relevant_pages(path)\n",
    "data = object.get_data(path,title)\n",
    "extracted_text = object.get_generated_content(data)"
   ]
  },
  {
   "cell_type": "code",
   "execution_count": null,
   "metadata": {},
   "outputs": [],
   "source": [
    "final_text = object.refine_extracted_data(extracted_text,flatten = True)\n",
    "dfs = object.merge_and_select_data(final_text,select = True,map = True)\n",
    "Helper.quick_json_dump(dfs,object.JSONPATH)"
   ]
  },
  {
   "cell_type": "code",
   "execution_count": 123,
   "metadata": {},
   "outputs": [
    {
     "name": "stdout",
     "output_type": "stream",
     "text": [
      "07 -- Sundaram Large Cap Fund\n",
      "08 -- Sundaram Mid Cap Fund\n",
      "09 -- Sundaram Mid Cap Fund\n",
      "10 -- Sundaram Small Cap Fund\n",
      "11 -- Sundaram Small Cap Fund\n",
      "12 -- Sundaram Large and Mid Cap Fund\n",
      "13 -- Sundaram Large and Mid Cap Fund\n",
      "14 -- Sundaram Multi Cap Fund\n",
      "15 -- Sundaram Multi Cap Fund\n",
      "16 -- Sundaram Flexi Cap Fund\n",
      "17 -- Sundaram Flexi Cap Fund\n",
      "18 -- Sundaram Focused Fund\n",
      "19 -- Sundaram ELSS Tax Saver Fund\n",
      "20 -- Sundaram ELSS Tax Saver Fund\n",
      "21 -- Sundaram Dividend Yield Fund\n",
      "22 -- Sundaram Dividend Yield Fund\n",
      "23 -- Sundaram Consumption Fund\n",
      "24 -- Sundaram Services Fund\n",
      "25 -- Sundaram Services Fund\n",
      "26 -- Sundaram Infrastructure Advantage Fund\n",
      "27 -- Sundaram Infrastructure Advantage Fund\n",
      "28 -- Sundaram Financial Services Opportunities Fund\n",
      "29 -- Sundaram Business Cycle Fund\n",
      "30 -- Sundaram Global Brand Fund\n",
      "31 -- Sundaram Nifty 100 Equal Weight Fund\n",
      "32 -- Sundaram Nifty 100 Equal Weight Fund\n",
      "33 -- Sundaram Aggressive Hybrid Fund\n",
      "34 -- Sundaram Aggressive Hybrid Fund\n",
      "35 -- Sundaram Equity Savings Fund\n",
      "36 -- Sundaram Equity Savings Fund\n",
      "37 -- Sundaram Balanced Advantage Fund\n",
      "38 -- Sundaram Balanced Advantage Fund\n",
      "39 -- Sundaram Multi Asset Allocation Fund\n",
      "40 -- Sundaram Multi Asset Allocation Fund\n",
      "41 -- Sundaram Arbitrage Fund\n",
      "42 -- Sundaram Arbitrage Fund\n",
      "43 -- Sundaram Diversified Equity Fund\n",
      "44 -- Sundaram Diversified Equity Fund\n",
      "45 -- Sundaram Long Term Tax Advantage Fund Series\n",
      "46 -- Sundaram Long Term Micro Cap Tax Advantage Fund \n",
      "47 -- Sundaram Liquid Fund\n",
      "48 -- Sundaram Liquid Fund\n",
      "49 -- Sundaram Overnight Fund\n",
      "50 -- Sundaram Ultra Short Duration Fund\n",
      "51 -- Sundaram Ultra Short Duration Fund\n",
      "52 -- Sundaram Money Market Fund\n",
      "53 -- Sundaram Low Duration Fund\n",
      "54 -- Sundaram Banking  PSU Fund\n",
      "55 -- Sundaram Short Duration Fund\n",
      "56 -- Sundaram Medium Duration Fund\n",
      "57 -- Sundaram Corporate Bond Fund\n",
      "58 -- Sundaram Conservative Hybrid Fund\n",
      "\n",
      "Doc Saved At: C:\\Users\\Kaustubh.keny\\Projects\\office-work\\mywork-repo\\data\\output\\pdf_report.xlsx\n",
      "---<<Sundaram Large Cap Fund>>---\n",
      "---<<Sundaram Mid Cap Fund>>---\n",
      "---<<Sundaram Small Cap Fund>>---\n",
      "---<<Sundaram Large and Mid Cap Fund>>---\n",
      "---<<Sundaram Multi Cap Fund>>---\n",
      "---<<Sundaram Flexi Cap Fund>>---\n",
      "---<<Sundaram Focused Fund>>---\n",
      "---<<Sundaram ELSS Tax Saver Fund>>---\n",
      "---<<Sundaram Dividend Yield Fund>>---\n",
      "---<<Sundaram Consumption Fund>>---\n",
      "---<<Sundaram Services Fund>>---\n",
      "---<<Sundaram Infrastructure Advantage Fund>>---\n",
      "---<<Sundaram Financial Services Opportunities Fund>>---\n",
      "---<<Sundaram Business Cycle Fund>>---\n",
      "---<<Sundaram Global Brand Fund>>---\n",
      "---<<Sundaram Nifty 100 Equal Weight Fund>>---\n",
      "---<<Sundaram Aggressive Hybrid Fund>>---\n",
      "---<<Sundaram Equity Savings Fund>>---\n",
      "---<<Sundaram Balanced Advantage Fund>>---\n",
      "---<<Sundaram Multi Asset Allocation Fund>>---\n",
      "---<<Sundaram Arbitrage Fund>>---\n",
      "---<<Sundaram Diversified Equity Fund>>---\n",
      "---<<Sundaram Long Term Tax Advantage Fund Series>>---\n",
      "---<<Sundaram Long Term Micro Cap Tax Advantage Fund>>---\n",
      "---<<Sundaram Liquid Fund>>---\n",
      "---<<Sundaram Overnight Fund>>---\n",
      "---<<Sundaram Ultra Short Duration Fund>>---\n",
      "---<<Sundaram Money Market Fund>>---\n",
      "---<<Sundaram Low Duration Fund>>---\n",
      "---<<Sundaram Banking  PSU Fund>>---\n",
      "---<<Sundaram Short Duration Fund>>---\n",
      "---<<Sundaram Medium Duration Fund>>---\n",
      "---<<Sundaram Corporate Bond Fund>>---\n",
      "---<<Sundaram Conservative Hybrid Fund>>---\n"
     ]
    }
   ],
   "source": [
    "\"\"\"SUNDARAM MAIN FILE CODE\"\"\"\n",
    "\n",
    "amc_name = 'Sundaram Mutual Fund'\n",
    "logging.info(f\"User Ran Fund Data of {amc_name}\")\n",
    "\n",
    "object = Sundaram(PATHS_CONFIG,amc_name)\n",
    "path = mutual_fund[amc_name]\n",
    "\n",
    "title = object.get_relevant_pages(path)\n",
    "# title = df.title.to_dict()\n",
    "# pages = [7, 8, 9, 10, 11, 12, 13, 14, 15, 16, 17, 18, 19, 20, 21, 22, 23, 24, 25, 26, 27, 28, 29, 30, 31, 32, 33, 34, 35, 36, 37, 38, 39, 40]\n",
    "data = object.get_data(path,title)\n",
    "extracted_text = object.get_generated_content(data)"
   ]
  },
  {
   "cell_type": "code",
   "execution_count": 124,
   "metadata": {},
   "outputs": [
    {
     "name": "stdout",
     "output_type": "stream",
     "text": [
      "\n",
      " JSON saved at C:\\Users\\Kaustubh.keny\\Projects\\office-work\\mywork-repo\\data\\feb25output\\dump_Sundaram_12_35.json\n"
     ]
    }
   ],
   "source": [
    "final_text = object.refine_extracted_data(extracted_text,flatten = True)\n",
    "dfs = object.merge_and_select_data(final_text,select = True, map = True)\n",
    "Helper.quick_json_dump(dfs,object.JSONPATH)"
   ]
  },
  {
   "cell_type": "code",
   "execution_count": 125,
   "metadata": {},
   "outputs": [
    {
     "name": "stdout",
     "output_type": "stream",
     "text": [
      "15 -- Tata Large Cap Fund\n",
      "16 -- Tata Flexi Cap Fund\n",
      "17 -- Tata Large  Mid Cap Fund\n",
      "18 -- Tata Equity PE Fund\n",
      "19 -- Tata Mid Cap Growth Fund\n",
      "20 -- Tata ELSS Tax Saver Fund\n",
      "21 -- Tata Small Cap Fund\n",
      "22 -- Tata Focused Equity Fund\n",
      "23 -- Tata Nifty 50 Index Fund\n",
      "24 -- Tata Nifty Auto Index Fund\n",
      "25 -- Tata Nifty India Tourism Index Fund\n",
      "26 -- Tata Nifty Financial Services Index Fund\n",
      "27 -- Tata Nifty MidSmall Healthcare Index Fund\n",
      "28 -- Tata Nifty Realty Index Fund\n",
      "29 -- TATA Nifty500 Multicap India Manufacturing 503020 Index Fund\n",
      "30 -- Tata Nifty500 Multicap Infrastructure 503020 Index Fund\n",
      "31 -- Tata BSE Sensex Index Fund\n",
      "32 -- Tata BSE Select Business Groups Index Fund\n",
      "33 -- Tata Nifty 50 Exchange Traded Fund\n",
      "34 -- Tata Nifty Private Bank Exchange Traded Fund\n",
      "35 -- Tata Dividend Yield Fund\n",
      "36 -- Tata Nifty India Digital ETF\n",
      "37 -- Tata Nifty India Digital Exchange Traded Fund\n",
      "38 -- Tata Silver Exchange Traded Fund\n",
      "39 -- Tata Silver ETF\n",
      "40 -- Tata Gold Exchange Traded Fund\n",
      "41 -- Tata Gold ETF\n",
      "42 -- Tata Nifty Midcap 150 Momentum 50 Index Fund\n",
      "43 -- Tata Nifty200 Alpha 30 Index Fund\n",
      "44 -- Tata Nifty Capital Markets Index Fund\n",
      "45 -- Tata Multicap Fund\n",
      "46 -- Tata Business Cycle Fund\n",
      "47 -- Tata Ethical Fund\n",
      "48 -- Tata Banking  Financial Services Fund\n",
      "49 -- Tata Digital India Fund\n",
      "50 -- Tata India Consumer Fund\n",
      "51 -- Tata India Pharma  Healthcare Fund\n",
      "52 -- Tata Resources  Energy Fund\n",
      "53 -- Tata Infrastructure Fund\n",
      "54 -- Tata Quant Fund\n",
      "55 -- Tata Housing Opportunities Fund\n",
      "56 -- Tata India Innovation Fund\n",
      "57 -- Tata Hybrid Equity Fund\n",
      "58 -- Tata Equity Savings Fund\n",
      "59 -- Tata Balanced Advantage Fund\n",
      "60 -- Tata Balanced Advantage Fund\n",
      "61 -- Tata Arbitrage Fund\n",
      "62 -- Tata Arbitrage Fund\n",
      "63 -- Tata Multi Asset Opportunities Fund\n",
      "64 -- Tata Multi Asset Opportunities Fund\n",
      "65 -- Tata Short Term Bond Fund\n",
      "66 -- Tata Treasury Advantage Fund\n",
      "67 -- Tata Money Market Fund\n",
      "68 -- Tata Ultra Short Term Fund\n",
      "69 -- Tata Corporate Bond Fund\n",
      "70 -- Tata Floating Rate Fund\n",
      "71 -- Tata Nifty SDL Plus AAA PSU Bond Dec 2027 6040 Index Fund\n",
      "72 -- Tata CRISIL-IBX Gilt Index April 2026 Index Fund\n",
      "73 -- Tata Nifty G-Sec Dec 2026 Index Fund\n",
      "74 -- Tata Nifty G-Sec Dec 2029 Index Fund\n",
      "75 -- Tata Fixed Maturity Plan\n",
      "76 -- Tata Liquid Fund\n",
      "77 -- Tata Overnight Fund\n",
      "78 -- Tata Gilt Securities Fund\n",
      "79 -- Tata Retirement Savings Fund - Progressive Plan\n",
      "80 -- Tata Retirement Savings Fund - Moderate Plan\n",
      "81 -- Tata Retirement Savings Fund - Conservative Plan\n",
      "82 -- Tata Young Citizens Fund\n",
      "\n",
      "Doc Saved At: C:\\Users\\Kaustubh.keny\\Projects\\office-work\\mywork-repo\\data\\output\\pdf_report.xlsx\n",
      "---<<Tata Large Cap Fund>>---\n",
      "---<<Tata Flexi Cap Fund>>---\n",
      "---<<Tata Large  Mid Cap Fund>>---\n",
      "---<<Tata Equity PE Fund>>---\n",
      "---<<Tata Mid Cap Growth Fund>>---\n",
      "---<<Tata ELSS Tax Saver Fund>>---\n",
      "---<<Tata Small Cap Fund>>---\n",
      "---<<Tata Focused Equity Fund>>---\n",
      "---<<Tata Nifty 50 Index Fund>>---\n",
      "---<<Tata Nifty Auto Index Fund>>---\n",
      "---<<Tata Nifty India Tourism Index Fund>>---\n",
      "---<<Tata Nifty Financial Services Index Fund>>---\n",
      "---<<Tata Nifty MidSmall Healthcare Index Fund>>---\n",
      "---<<Tata Nifty Realty Index Fund>>---\n",
      "---<<TATA Nifty500 Multicap India Manufacturing 503020 Index Fund>>---\n",
      "---<<Tata Nifty500 Multicap Infrastructure 503020 Index Fund>>---\n",
      "---<<Tata BSE Sensex Index Fund>>---\n",
      "---<<Tata BSE Select Business Groups Index Fund>>---\n",
      "---<<Tata Nifty 50 Exchange Traded Fund>>---\n",
      "---<<Tata Nifty Private Bank Exchange Traded Fund>>---\n",
      "---<<Tata Dividend Yield Fund>>---\n",
      "---<<Tata Nifty India Digital ETF>>---\n",
      "---<<Tata Nifty India Digital Exchange Traded Fund>>---\n",
      "---<<Tata Silver Exchange Traded Fund>>---\n",
      "---<<Tata Silver ETF>>---\n",
      "---<<Tata Gold Exchange Traded Fund>>---\n",
      "---<<Tata Gold ETF>>---\n",
      "---<<Tata Nifty Midcap 150 Momentum 50 Index Fund>>---\n",
      "---<<Tata Nifty200 Alpha 30 Index Fund>>---\n",
      "---<<Tata Nifty Capital Markets Index Fund>>---\n",
      "---<<Tata Multicap Fund>>---\n",
      "---<<Tata Business Cycle Fund>>---\n",
      "---<<Tata Ethical Fund>>---\n",
      "---<<Tata Banking  Financial Services Fund>>---\n",
      "---<<Tata Digital India Fund>>---\n",
      "---<<Tata India Consumer Fund>>---\n",
      "---<<Tata India Pharma  Healthcare Fund>>---\n",
      "---<<Tata Resources  Energy Fund>>---\n",
      "---<<Tata Infrastructure Fund>>---\n",
      "---<<Tata Quant Fund>>---\n",
      "---<<Tata Housing Opportunities Fund>>---\n",
      "---<<Tata India Innovation Fund>>---\n",
      "---<<Tata Hybrid Equity Fund>>---\n",
      "---<<Tata Equity Savings Fund>>---\n",
      "---<<Tata Balanced Advantage Fund>>---\n",
      "---<<Tata Arbitrage Fund>>---\n",
      "---<<Tata Multi Asset Opportunities Fund>>---\n",
      "---<<Tata Short Term Bond Fund>>---\n",
      "---<<Tata Treasury Advantage Fund>>---\n",
      "---<<Tata Money Market Fund>>---\n",
      "---<<Tata Ultra Short Term Fund>>---\n",
      "---<<Tata Corporate Bond Fund>>---\n",
      "---<<Tata Floating Rate Fund>>---\n",
      "---<<Tata Nifty SDL Plus AAA PSU Bond Dec 2027 6040 Index Fund>>---\n",
      "---<<Tata CRISIL-IBX Gilt Index April 2026 Index Fund>>---\n",
      "---<<Tata Nifty G-Sec Dec 2026 Index Fund>>---\n",
      "---<<Tata Nifty G-Sec Dec 2029 Index Fund>>---\n",
      "---<<Tata Fixed Maturity Plan>>---\n",
      "---<<Tata Liquid Fund>>---\n",
      "---<<Tata Overnight Fund>>---\n",
      "---<<Tata Gilt Securities Fund>>---\n",
      "---<<Tata Retirement Savings Fund - Progressive Plan>>---\n",
      "---<<Tata Retirement Savings Fund - Moderate Plan>>---\n",
      "---<<Tata Retirement Savings Fund - Conservative Plan>>---\n",
      "---<<Tata Young Citizens Fund>>---\n"
     ]
    }
   ],
   "source": [
    "\"\"\"TATA FILE MAIN CODE \"\"\"\n",
    "\n",
    "amc_name = \"Tata Mutual Fund\"\n",
    "logging.info(f\"User Ran Fund Data of {amc_name}\")\n",
    "\n",
    "object = Tata(PATHS_CONFIG,amc_name)\n",
    "path = mutual_fund[amc_name]\n",
    "\n",
    "title= object.get_relevant_pages(path)\n",
    "# title = df.title.to_dict()\n",
    "# pages =  [16, 17, 18, 19, 20, 21, 22, 23, 24, 25, 26, 27, 28, 29, 30, 31, 32, 33, 34, 35, 36, 37, 38, 39, 40, 41, 42, 43, 44, 45, 46, 47, 48, 49, 50, 51, 52, 53, 54, 55, 56, 57, 58, 59, 60, 62, 64, 66, 67, 68, 69, 70, 71, 72, 73, 74, 75, 76, 77, 78, 79, 80, 81, 82, 83]\n",
    "data = object.get_data(path,title)\n",
    "extracted_text = object.get_generated_content(data)"
   ]
  },
  {
   "cell_type": "code",
   "execution_count": 126,
   "metadata": {},
   "outputs": [
    {
     "name": "stdout",
     "output_type": "stream",
     "text": [
      "\n",
      " JSON saved at C:\\Users\\Kaustubh.keny\\Projects\\office-work\\mywork-repo\\data\\feb25output\\dump_Tata_12_38.json\n"
     ]
    }
   ],
   "source": [
    "final_text = object.refine_extracted_data(extracted_text, flatten = True)\n",
    "dfs = object.merge_and_select_data(final_text,select=True, map = True)\n",
    "Helper.quick_json_dump(dfs, object.JSONPATH)"
   ]
  },
  {
   "cell_type": "code",
   "execution_count": null,
   "metadata": {},
   "outputs": [],
   "source": [
    "\"\"\"TAURUS MAIN FILE CODE\"\"\" #Issues: Nothing Yet\n",
    "\n",
    "amc_name = 'Taurus Mutual Fund'\n",
    "logging.info(f\"User Ran Fund Data of {amc_name}\")\n",
    "\n",
    "object = Taurus(PATHS_CONFIG,amc_name)\n",
    "path = mutual_fund[amc_name]\n",
    "\n",
    "title= object.get_relevant_pages(path)\n",
    "# title = df.title.to_dict()\n",
    "# pages = [11, 12, 13, 14, 15, 16, 17, 18]\n",
    "data = object.get_data(path,title)\n",
    "extracted_text = object.get_generated_content(data)"
   ]
  },
  {
   "cell_type": "code",
   "execution_count": 139,
   "metadata": {},
   "outputs": [
    {
     "name": "stdout",
     "output_type": "stream",
     "text": [
      "\n",
      " JSON saved at C:\\Users\\Kaustubh.keny\\Projects\\office-work\\mywork-repo\\data\\feb25output\\dump_TAURUS_12_51.json\n"
     ]
    }
   ],
   "source": [
    "object = Taurus(PATHS_CONFIG,amc_name)\n",
    "final_text = object.refine_extracted_data(extracted_text,flatten=True)\n",
    "dfs = object.merge_and_select_data(final_text,select = True, map = True)\n",
    "Helper.quick_json_dump(dfs,object.JSONPATH)"
   ]
  },
  {
   "cell_type": "code",
   "execution_count": null,
   "metadata": {},
   "outputs": [],
   "source": [
    "\"\"\"TRUST MAIN FILE CODE\"\"\" #Issue: Clean data more, nested dict unload Invest Obj in right #Names coming as headers fund managers\n",
    "\n",
    "amc_name = 'Trust Mutual Fund'\n",
    "logging.info(f\"User Ran Fund Data of {amc_name}\")\n",
    "\n",
    "object = Trust(PATHS_CONFIG,amc_name)\n",
    "path = mutual_fund[amc_name]\n",
    "title= object.get_relevant_pages(path)\n",
    "# title = df.title.to_dict()\n",
    "# pages = [7, 8, 9, 10, 11, 12, 13, 14]\n",
    "data = object.get_data(path,title)\n",
    "extracted_text = object.get_generated_content(data)"
   ]
  },
  {
   "cell_type": "code",
   "execution_count": 141,
   "metadata": {},
   "outputs": [
    {
     "name": "stdout",
     "output_type": "stream",
     "text": [
      "\n",
      " JSON saved at C:\\Users\\Kaustubh.keny\\Projects\\office-work\\mywork-repo\\data\\feb25output\\dump_TRUSTMF_12_53.json\n"
     ]
    }
   ],
   "source": [
    "final_text = object.refine_extracted_data(extracted_text, flatten = True)\n",
    "dfs = object.merge_and_select_data(final_text,select = True, map = True)\n",
    "Helper.quick_json_dump(dfs,object.JSONPATH)"
   ]
  },
  {
   "cell_type": "code",
   "execution_count": null,
   "metadata": {},
   "outputs": [],
   "source": [
    "\"\"\"UTI MAIN FILE CODE\"\"\"\n",
    "\n",
    "amc_name = 'UTI Mutual Fund'\n",
    "logging.info(f\"User Ran Fund Data of {amc_name}\")\n",
    "\n",
    "object = UTI(PATHS_CONFIG,amc_name)\n",
    "path = mutual_fund[amc_name]\n",
    "title = object.get_relevant_pages(path)"
   ]
  },
  {
   "cell_type": "code",
   "execution_count": null,
   "metadata": {},
   "outputs": [],
   "source": [
    "data = object.get_data(path,title)\n",
    "extracted_text = object.get_generated_content(data)\n",
    "final_text = object.refine_extracted_data(extracted_text, flatten = True)\n",
    "dfs = object.merge_and_select_data(final_text, select = True, map = True)\n",
    "Helper.quick_json_dump(dfs, object.JSONPATH)"
   ]
  },
  {
   "cell_type": "code",
   "execution_count": null,
   "metadata": {},
   "outputs": [],
   "source": [
    "\"\"\"UNION MUTUAL FUND\"\"\" #Issues: Major Issue\n",
    "\n",
    "amc_name = 'Union Mutual Fund'\n",
    "logging.info(f\"User Ran Fund Data of {amc_name}\")\n",
    "\n",
    "object = Union(PATHS_CONFIG,amc_name)\n",
    "path = mutual_fund[amc_name]\n",
    "\n",
    "title = object.get_relevant_pages(path)\n",
    "data = object.get_data(path,title)\n",
    "extracted_text = object.get_generated_content(data)"
   ]
  },
  {
   "cell_type": "code",
   "execution_count": null,
   "metadata": {},
   "outputs": [],
   "source": [
    "\n",
    "final_text = object.refine_extracted_data(extracted_text, flatten = True)\n",
    "dfs = object.merge_and_select_data(final_text,select=True, map = True)\n",
    "Helper.quick_json_dump(dfs, object.JSONPATH)"
   ]
  },
  {
   "cell_type": "code",
   "execution_count": null,
   "metadata": {},
   "outputs": [],
   "source": [
    "\"\"\"WHITEOAK MUTUAL FUND\"\"\"\n",
    "\n",
    "amc_name = 'WhiteOak Mutual Fund'\n",
    "logging.info(f\"User Ran Fund Data of {amc_name}\")\n",
    "\n",
    "object = WhiteOak(PATHS_CONFIG,amc_name)\n",
    "path = mutual_fund[amc_name]\n",
    "\n",
    "title= object.get_relevant_pages(path)\n",
    "# title = df.title.to_dict()\n",
    "# pages = [7, 9, 11, 13, 15, 17, 19, 20, 21, 23, 25, 26, 28, 30, 32, 34, 36, 37]\n",
    "data = object.get_data(path,title)\n",
    "extracted_text = object.get_generated_content(data)\n",
    "final_text = object.refine_extracted_data(extracted_text, flatten = True)\n",
    "dfs = object.merge_and_select_data(final_text,select = True, map = True)\n",
    "Helper.quick_json_dump(dfs,object.JSONPATH)"
   ]
  },
  {
   "cell_type": "code",
   "execution_count": null,
   "metadata": {},
   "outputs": [],
   "source": [
    "\"\"\"ZERODHA MAIN CODE\"\"\" \n",
    "\n",
    "amc_name = 'Zerodha Mutual Fund'\n",
    "logging.info(f\"User Ran Fund Data of {amc_name}\")\n",
    "\n",
    "object = Zerodha(PATHS_CONFIG,amc_name)\n",
    "path = mutual_fund[amc_name]\n",
    "title= object.get_relevant_pages(path)\n",
    "# title = df.title.to_dict()\n",
    "# pages = [3, 5, 7, 9, 11, 13, 15]\n",
    "data = object.get_data(path,title)\n",
    "extracted_text = object.get_generated_content(data)"
   ]
  },
  {
   "cell_type": "code",
   "execution_count": 172,
   "metadata": {},
   "outputs": [
    {
     "name": "stdout",
     "output_type": "stream",
     "text": [
      "list index out of range\n"
     ]
    }
   ],
   "source": [
    "final_text = object.refine_extracted_data(extracted_text, flatten = True)\n",
    "# dfs = object.merge_and_select_data(final_text,select = True,map = True)\n",
    "Helper.quick_json_dump(final_text, object.JSONPATH)"
   ]
  },
  {
   "cell_type": "code",
   "execution_count": null,
   "metadata": {},
   "outputs": [],
   "source": [
    "\"\"\"\"HSBC MAIN FILE CODE\"\"\" #Issue: Some pages have 2 or more fund data on same page\n",
    "\n",
    "amc_name = 'HSBC Mutual Fund'\n",
    "logging.info(f\"User Ran Fund Data of {amc_name}\")\n",
    "\n",
    "object = HSBC(PATHS_CONFIG,amc_name)\n",
    "path = mutual_fund[amc_name]\n",
    "\n",
    "title= object.get_relevant_pages(path)\n",
    "# title = df.title.to_dict()\n",
    "# pages = [10, 11, 12, 13, 14, 15, 16, 17, 18, 19, 20, 21, 22, 23, 24, 25, 26, 27, 28, 29, 30, 32, 34, 35, 36, 37, 38, 39, 40, 41, 42, 43, 44, 45, 46, 47, 48, 49]\n",
    "\n",
    "data = object.get_data(path,title)\n",
    "extracted_text = object.get_generated_content(data)"
   ]
  },
  {
   "cell_type": "code",
   "execution_count": 152,
   "metadata": {},
   "outputs": [
    {
     "name": "stdout",
     "output_type": "stream",
     "text": [
      "\n",
      " JSON saved at C:\\Users\\Kaustubh.keny\\Projects\\office-work\\mywork-repo\\data\\feb25output\\dump_HSBC_13_18.json\n"
     ]
    }
   ],
   "source": [
    "object = HSBC(PATHS_CONFIG,amc_name)\n",
    "final_text = object.refine_extracted_data(extracted_text, flatten = True)\n",
    "dfs = object.merge_and_select_data(final_text,select = True,map = True)\n",
    "Helper.quick_json_dump(dfs,object.JSONPATH)"
   ]
  },
  {
   "cell_type": "code",
   "execution_count": 37,
   "metadata": {},
   "outputs": [],
   "source": [
    "manage = FundHouseManager()\n",
    "for fund in  manage.list_fund_houses():\n",
    "    manage.update_fund_house(fund,\"PROMOTE_KEYS\",{})"
   ]
  }
 ],
 "metadata": {
  "kernelspec": {
   "display_name": ".venv",
   "language": "python",
   "name": "python3"
  },
  "language_info": {
   "codemirror_mode": {
    "name": "ipython",
    "version": 3
   },
   "file_extension": ".py",
   "mimetype": "text/x-python",
   "name": "python",
   "nbconvert_exporter": "python",
   "pygments_lexer": "ipython3",
   "version": "3.13.1"
  }
 },
 "nbformat": 4,
 "nbformat_minor": 2
}
