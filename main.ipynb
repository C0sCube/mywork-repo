{
 "cells": [
  {
   "cell_type": "code",
   "execution_count": null,
   "metadata": {},
   "outputs": [],
   "source": [
    "%load_ext autoreload\n",
    "%autoreload 2\n",
    "import json, os, logging\n",
    "PATHS_CONFIG =os.path.join(os.getcwd(),'paths.json')\n",
    "with open(PATHS_CONFIG,'r') as file:\n",
    "    PATH = json.load(file)\n",
    "    \n",
    "from app.fund_data import *\n",
    "from app.params_handler import *\n",
    "from app.utils import Helper\n",
    "from logging_config import logger\n",
    "\n",
    "logger.info(\"Application Started !!\")\n",
    "mutual_fund = Helper.get_fund_paths(PATH['dirs']['fund_path'])\n",
    "\n",
    "with open(os.path.join(os.getcwd(),PATH[\"configs\"]['regex']),'r') as file:\n",
    "    class_mapper = json.load(file)['main_mapper']\n",
    "    \n",
    "# https://www.sebi.gov.in/sebiweb/other/OtherAction.do?doMutualFund=yes&mftype=2"
   ]
  },
  {
   "cell_type": "code",
   "execution_count": null,
   "metadata": {},
   "outputs": [],
   "source": [
    "\"\"\"360 ONE FILE CODE\"\"\"\n",
    "amc_name = '360 One Mutual Fund'\n",
    "logging.info(f\"User Ran Fund Data of {amc_name}\")\n",
    "path= mutual_fund[amc_name]\n",
    "object = ThreeSixtyOne(PATHS_CONFIG,amc_name,path)\n",
    "title,path_pdf = object.check_and_highlight(path)\n",
    "data = object.get_data(path_pdf,title)\n",
    "extracted_text = object.get_generated_content(data)\n",
    "final_text = object.refine_extracted_data(extracted_text, flatten=True)\n",
    "dfs = object.merge_and_select_data(final_text,select = True,map = True, special = True)\n",
    "Helper.quick_json_dump(dfs, object.JSONPATH)"
   ]
  },
  {
   "cell_type": "code",
   "execution_count": null,
   "metadata": {},
   "outputs": [],
   "source": [
    "\"\"\"SHRIRAM MAIN FILE CODE\"\"\"\n",
    "\n",
    "amc_name = \"Shriram Mutual Fund\"\n",
    "logger.info(f\"User Ran Fund Data of {amc_name}\")\n",
    "path = mutual_fund[amc_name]\n",
    "object = Shriram(PATHS_CONFIG,amc_name,path)\n",
    "title,path_pdf = object.check_and_highlight(path)\n",
    "\n",
    "data = object.get_data(path_pdf,title)\n",
    "extracted_text = object.get_generated_content(data)"
   ]
  },
  {
   "cell_type": "code",
   "execution_count": 107,
   "metadata": {},
   "outputs": [
    {
     "name": "stdout",
     "output_type": "stream",
     "text": [
      "\n",
      "  JSON saved at C:\\Users\\rando\\OneDrive\\Documents\\mywork-repo\\data\\output\\dump_shriram_01_42_14.json\n"
     ]
    }
   ],
   "source": [
    "Helper.quick_json_dump(extracted_text, object.JSONPATH) "
   ]
  },
  {
   "cell_type": "code",
   "execution_count": 114,
   "metadata": {},
   "outputs": [
    {
     "name": "stdout",
     "output_type": "stream",
     "text": [
      "Function Running: refine_extracted_data\n",
      "\n",
      "  JSON saved at C:\\Users\\rando\\OneDrive\\Documents\\mywork-repo\\data\\output\\dump_shriram_01_55_04.json\n"
     ]
    }
   ],
   "source": [
    "object = Shriram(PATHS_CONFIG,amc_name,path)\n",
    "final_text = object.refine_extracted_data(extracted_text, flatten=True)\n",
    "# dfs = object.merge_and_select_data(final_text,map = True,select = True,special=True)\n",
    "Helper.quick_json_dump(final_text, object.JSONPATH) "
   ]
  },
  {
   "cell_type": "code",
   "execution_count": null,
   "metadata": {},
   "outputs": [],
   "source": []
  },
  {
   "cell_type": "code",
   "execution_count": null,
   "metadata": {},
   "outputs": [],
   "source": [
    "\"\"\"PPFAS MAIN FILE CODE\"\"\"\n",
    "\n",
    "amc_name = \"Ppfas Mutual Fund\"\n",
    "logger.info(f\"User Ran Fund Data of {amc_name}\")\n",
    "path = mutual_fund[amc_name]\n",
    "object = PPFAS(PATHS_CONFIG,amc_name,path)\n",
    "title,path_pdf = object.check_and_highlight(path)\n",
    "\n",
    "data = object.get_data(path_pdf,title)\n",
    "extracted_text = object.get_generated_content(data)"
   ]
  },
  {
   "cell_type": "code",
   "execution_count": 13,
   "metadata": {},
   "outputs": [
    {
     "name": "stdout",
     "output_type": "stream",
     "text": [
      "\n",
      "  JSON saved at C:\\Users\\Kaustubh.keny\\Projects\\office-work\\mywork-repo\\data\\MAR25DATA\\dump_parag_11_29_20.json\n"
     ]
    }
   ],
   "source": [
    "Helper.quick_json_dump(extracted_text, object.JSONPATH)"
   ]
  },
  {
   "cell_type": "code",
   "execution_count": 18,
   "metadata": {},
   "outputs": [
    {
     "name": "stdout",
     "output_type": "stream",
     "text": [
      "Function Running: refine_extracted_data\n",
      "Function Running: merge_and_select_data\n",
      "\n",
      "  JSON saved at C:\\Users\\Kaustubh.keny\\Projects\\office-work\\mywork-repo\\data\\MAR25DATA\\dump_parag_11_44_15.json\n"
     ]
    }
   ],
   "source": [
    "object = PPFAS(PATHS_CONFIG,amc_name,path)\n",
    "final_text = object.refine_extracted_data(extracted_text, flatten=True)\n",
    "dfs = object.merge_and_select_data(final_text,select = True,map = True, special = True)\n",
    "Helper.quick_json_dump(dfs, object.JSONPATH)"
   ]
  },
  {
   "cell_type": "code",
   "execution_count": null,
   "metadata": {},
   "outputs": [],
   "source": [
    "'''AXIS ONE PASSIVE MAIN FILE CODE''' # pages = [6, 7, 8, 9, 10, 11, 12, 13, 14, 15, 16, 17, 18, 19, 20, 21, 22, 23, 24, 25, 26, 27, 28, 29, 30, 31, 32, 33, 34, 35, 36, 37]\n",
    "amc_name = \"Axis Mutual Fund Passive\"\n",
    "logger.info(f\"User Ran Fund Data of {amc_name}\")\n",
    "path = mutual_fund[amc_name]\n",
    "object = AXISMF(PATHS_CONFIG,amc_name,path)\n",
    "title,path_pdf = object.check_and_highlight(path)\n",
    "\n",
    "data = object.get_data(path_pdf,title)\n",
    "extracted_text = object.get_generated_content(data)\n",
    "\n",
    "final_text = object.refine_extracted_data(extracted_text, flatten=True)\n",
    "dfs = object.merge_and_select_data(final_text,select = True, map = True, special=True)\n",
    "Helper.quick_json_dump(dfs,object.JSONPATH)"
   ]
  },
  {
   "cell_type": "code",
   "execution_count": null,
   "metadata": {},
   "outputs": [],
   "source": [
    "'''AXIS ONE ACTIVE MAIN FILE CODE''' #No issues as of now\n",
    "amc_name = \"Axis Mutual Fund\"\n",
    "logger.info(f\"User Ran Fund Data of {amc_name}\")\n",
    "path = mutual_fund[amc_name]\n",
    "object = AXISMF(PATHS_CONFIG,amc_name,path)\n",
    "\n",
    "title,path_pdf = object.check_and_highlight(path)\n",
    "data = object.get_data(path_pdf,title)\n",
    "extracted_text = object.get_generated_content(data)\n"
   ]
  },
  {
   "cell_type": "code",
   "execution_count": 116,
   "metadata": {},
   "outputs": [
    {
     "name": "stdout",
     "output_type": "stream",
     "text": [
      "\n",
      "  JSON saved at C:\\Users\\rando\\OneDrive\\Documents\\mywork-repo\\data\\output\\dump_axis_02_00_41.json\n"
     ]
    }
   ],
   "source": [
    "Helper.quick_json_dump(extracted_text,object.JSONPATH)"
   ]
  },
  {
   "cell_type": "code",
   "execution_count": 119,
   "metadata": {},
   "outputs": [
    {
     "name": "stdout",
     "output_type": "stream",
     "text": [
      "Function Running: refine_extracted_data\n",
      "\n",
      "  JSON saved at C:\\Users\\rando\\OneDrive\\Documents\\mywork-repo\\data\\output\\dump_axis_02_24_19.json\n"
     ]
    }
   ],
   "source": [
    "object = AXISMF(PATHS_CONFIG,amc_name,path)\n",
    "final_text = object.refine_extracted_data(extracted_text, flatten=True)\n",
    "# dfs = object.merge_and_select_data(final_text,select = True, map = True, special=True)\n",
    "Helper.quick_json_dump(final_text,object.JSONPATH)"
   ]
  },
  {
   "cell_type": "code",
   "execution_count": null,
   "metadata": {},
   "outputs": [],
   "source": [
    "\"\"\"ADITYA BIRLA FILE CODE\"\"\"# pages = [17, 19, 21, 23, 25, 27, 29, 31, 33, 35, 37, 39, 41, 43, 45, 47, 49, 50, 52, 54, 56, 58, 60, 62, 64, 66, 67, 69, 72, 75, 78, 80, 82, 86, 87, 89, 91, 93, 95, 98, 101, 103, 106, 108, 110, 112, 114, 115, 116, 118, 119, 121, 123, 125, 127, 128, 129, 130, 131, 132, 133, 134, 135, 136, 137, 138, 139, 140, 141, 143, 145, 147, 149, 151, 152, 153, 155, 157, 159, 160, 161, 162, 163, 164, 165, 166, 167, 168, 169, 170, 171, 172, 173, 174, 175, 176, 177, 178, 179, 180, 181, 182]\n",
    "amc_name = 'Aditya Birla Sun Life Mutual Fund'\n",
    "logging.info(f\"User Ran Fund Data of {amc_name}\")\n",
    "\n",
    "object = AdityaBirla(PATHS_CONFIG,amc_name,path)\n",
    "path = mutual_fund[amc_name]\n",
    "\n",
    "title,path_pdf = object.check_and_highlight(path)\n",
    "\n",
    "data = object.get_data(path_pdf,title)\n",
    "extracted_text = object.get_generated_content(data)\n",
    "\n",
    "final_text = object.refine_extracted_data(extracted_text, flatten=True)\n",
    "dfs = object.merge_and_select_data(final_text,select=True,map = True,special=True)\n",
    "Helper.quick_json_dump(dfs,object.JSONPATH)"
   ]
  },
  {
   "cell_type": "code",
   "execution_count": 136,
   "metadata": {},
   "outputs": [
    {
     "name": "stdout",
     "output_type": "stream",
     "text": [
      "Function Running: check_and_highlight\n",
      "Function Running: _get_normal_title\n",
      "Regex: (Bandhan.*?(?:Funds?\\s*(?:of Fund|.+?Plan)?|ETFs?\\s*(?:FO?o?F)?|Fo?O?F|Plans?))\n",
      "16 -- Bandhan Large Cap Fund\n",
      "17 -- Bandhan Small Cap Fund\n",
      "18 -- Bandhan Core Equity Fund\n",
      "19 -- Bandhan Flexi Cap Fund\n",
      "20 -- Bandhan Multi Cap Fund\n",
      "21 -- Bandhan Midcap Fund\n",
      "22 -- Bandhan ELSS Tax Saver Fund\n",
      "23 -- Bandhan Focused Equity Fund\n",
      "24 -- Bandhan Sterling Value Fund\n",
      "25 -- Bandhan Infrastructure Fund\n",
      "26 -- Bandhan Transportation and Logistics Fund\n",
      "27 -- Bandhan Financial Services Fund\n",
      "28 -- Bandhan Innovation Fund\n",
      "29 -- Bandhan Business Cycle Fund\n",
      "30 -- Bandhan Arbitrage Fund\n",
      "31 -- Bandhan Arbitrage Fund\n",
      "32 -- Bandhan Equity Savings Fund\n",
      "33 -- Bandhan Balanced Advantage Fund\n",
      "34 -- Bandhan Multi Asset Allocation Fund\n",
      "35 -- Bandhan Aggressive Hybrid Fund\n",
      "36 -- Bandhan Retirement Fund\n",
      "37 -- Bandhan Conservative Hybrid Fund\n",
      "38 -- Bandhan US Equity Fund of Fund\n",
      "39 -- Bandhan US Treasury Bond 0-1 year Fund of Fund\n",
      "40 -- Bandhan Asset Allocation Fund of Fund\n",
      "41 -- Bandhan Asset Allocation Fund of Fund\n",
      "42 -- Bandhan Income Plus Arbitrage Fund of Fund\n",
      "44 -- Bandhan Overnight Fund\n",
      "45 -- Bandhan Liquid Fund\n",
      "46 -- Bandhan Ultra Short Term Fund\n",
      "47 -- Bandhan Low Duration Fund\n",
      "48 -- Bandhan Money Manager Fund\n",
      "49 -- Bandhan Banking & PSU Debt Fund\n",
      "50 -- Bandhan Corporate Bond Fund\n",
      "51 -- Bandhan Bond Fund Short Term Plan\n",
      "52 -- Bandhan Bond Fund Medium Term Plan\n",
      "53 -- Bandhan Floating Rate Fund\n",
      "54 -- Bandhan Credit Risk Fund\n",
      "55 -- Bandhan Bond Fund Income Plan\n",
      "56 -- Bandhan Dynamic Bond Fund\n",
      "57 -- Bandhan Long Duration Fund\n",
      "58 -- Bandhan Government Securities Fund - Constant Maturity Plan\n",
      "59 -- Bandhan Government Securities Fund Investment Plan\n",
      "60 -- Bandhan Nifty 50 Index Fund\n",
      "61 -- Bandhan Nifty 100 Index Fund\n",
      "62 -- Bandhan Nifty100 Low Volatility 30 Index Fund\n",
      "63 -- Bandhan Nifty200 Momentum 30 Index Fund\n",
      "64 -- Bandhan Nifty Alpha 50 Index Fund\n",
      "65 -- Bandhan Nifty Smallcap 250 Index Fund\n",
      "66 -- Bandhan Nifty IT Index Fund\n",
      "67 -- Bandhan Nifty Total Market Index Fund\n",
      "68 -- Bandhan Nifty Bank Index Fund\n",
      "69 -- Bandhan BSE Healthcare Index Fund\n",
      "70 -- Bandhan Nifty Midcap 150 Index Fund\n",
      "71 -- Bandhan Nifty 500 Momentum 50 Index Fund\n",
      "72 -- Bandhan Nifty 500 Value 50 Index Fund\n",
      "73 -- Bandhan Nifty 200 Quality 30 Index Fund\n",
      "74 -- Bandhan Nifty Alpha Low Volatility 30 Index Fund\n",
      "75 -- Bandhan Nifty Next 50 Index Fund\n",
      "76 -- Bandhan BSE Sensex ETF\n",
      "77 -- Bandhan Nifty 50 ETF\n",
      "78 -- Bandhan CRISIL IBX Gilt April 2026 Index Fund\n",
      "79 -- Bandhan CRISIL IBX Gilt June 2027 Index Fund\n",
      "80 -- Bandhan CRISIL IBX Gilt April 2028 Index Fund\n",
      "81 -- Bandhan CRISIL IBX Gilt April 2032 Index Fund\n",
      "82 -- Bandhan CRISIL IBX 9010 SDL Plus Gilt November 2026 Index Fund\n",
      "83 -- Bandhan CRISIL IBX 9010 SDL Plus Gilt September 2027 Index Fund\n",
      "84 -- Bandhan CRISIL IBX 9010 SDL Plus GiltApril 2032 Index Fund\n",
      "85 -- Bandhan CRISIL-IBX 1090 Gilt + SDL Index Dec 2029 Fund\n",
      "86 -- Bandhan CRISIL-IBX Financial Services 3-6 Months Debt Index Fund\n",
      "\tHlted PDF at: C:\\Users\\Kaustubh.keny\\Projects\\Mar 25\\Bandhan Mutual Fund\\16_31-Mar-25_FS_hltd.pdf\n",
      "\n",
      "\tDoc Saved At: C:\\Users\\Kaustubh.keny\\Projects\\office-work\\mywork-repo\\data\\output\\pdf_report.xlsx\n",
      "\n",
      "\n"
     ]
    }
   ],
   "source": [
    "\"\"\"BANDHAN MF FILE MAIN CODE\"\"\" # rgex for fund manager\n",
    "\n",
    "amc_name = \"Bandhan Mutual Fund\"\n",
    "logging.info(f\"User Ran Fund Data of {amc_name}\")\n",
    "\n",
    "object = Bandhan(PATHS_CONFIG,amc_name,path)\n",
    "path = mutual_fund[amc_name]\n",
    "\n",
    "title,path_pdf= object.check_and_highlight(path)"
   ]
  },
  {
   "cell_type": "code",
   "execution_count": null,
   "metadata": {},
   "outputs": [],
   "source": [
    "object = Bandhan(PATHS_CONFIG,amc_name,path)\n",
    "data  = object.get_data(path_pdf,title)\n",
    "extracted_text = object.get_generated_content(data)\n",
    "Helper.quick_json_dump(extracted_text, object.JSONPATH)"
   ]
  },
  {
   "cell_type": "code",
   "execution_count": null,
   "metadata": {},
   "outputs": [],
   "source": [
    "\n",
    "final_text = object.refine_extracted_data(extracted_text, flatten = True)\n",
    "dfs = object.merge_and_select_data(final_text,select=True, map = True, special = True)\n",
    "Helper.quick_json_dump(dfs, object.JSONPATH)"
   ]
  },
  {
   "cell_type": "code",
   "execution_count": null,
   "metadata": {},
   "outputs": [],
   "source": [
    "\"\"\" BARODA BNP MAIN FILE CODE\"\"\"\n",
    "\n",
    "amc_name = 'Baroda Bnp Paribas Mutual Fund'\n",
    "logging.info(f\"User Ran Fund Data of {amc_name}\")\n",
    "path = mutual_fund[amc_name]\n",
    "object = BarodaBNP(PATHS_CONFIG,amc_name,path)\n",
    "title,path_pdf= object.check_and_highlight(path)\n",
    "data  = object.get_data(path_pdf,title)\n",
    "extracted_text = object.get_generated_content(data)\n",
    "\n",
    "final_text = object.refine_extracted_data(extracted_text, flatten = True)\n",
    "dfs = object.merge_and_select_data(final_text, select = True, map = True, special = True)\n",
    "Helper.quick_json_dump(dfs, object.JSONPATH)"
   ]
  },
  {
   "cell_type": "code",
   "execution_count": null,
   "metadata": {},
   "outputs": [],
   "source": [
    "\"\"\"BANK OF INDIA\"\"\" #Regex# pages =[6, 7, 8, 9, 10, 11, 12, 13, 14, 15, 16, 17, 18, 19, 20, 21, 22, 23, 24]\n",
    "\n",
    "amc_name = 'Bank Of India Mutual Fund'\n",
    "logging.info(f\"User Ran Fund Data of {amc_name}\")\n",
    "path = mutual_fund[amc_name]\n",
    "object = BankOfIndia(PATHS_CONFIG,amc_name,path)\n",
    "title,path_pdf= object.check_and_highlight(path)\n",
    "data = object.get_data(path_pdf,title)\n",
    "extracted_text = object.get_generated_content(data)\n",
    "\n",
    "final_text = object.refine_extracted_data(extracted_text)\n",
    "dfs = object.merge_and_select_data(final_text,select = True, map = True, special=True)\n",
    "Helper.quick_json_dump(dfs, object.JSONPATH)"
   ]
  },
  {
   "cell_type": "code",
   "execution_count": null,
   "metadata": {},
   "outputs": [],
   "source": [
    "\"\"\"BAJAJ FINSERV MAIN FILE CODE\"\"\" #manager regex robust # pages = [17, 19, 21, 23, 25, 26, 28, 30, 31, 32, 33, 34, 35, 36, 37, 38]\n",
    "\n",
    "amc_name = 'Bajaj Finserv Mutual Fund'\n",
    "logging.info(f\"User Ran Fund Data of {amc_name}\")\n",
    "path = mutual_fund[amc_name]\n",
    "object = BajajFinServ(PATHS_CONFIG,amc_name,path)\n",
    "\n",
    "title,path_pdf= object.check_and_highlight(path)\n",
    "data = object.get_data(path_pdf,title)\n",
    "extracted_text = object.get_generated_content(data)"
   ]
  },
  {
   "cell_type": "code",
   "execution_count": null,
   "metadata": {},
   "outputs": [],
   "source": [
    "object = BajajFinServ(PATHS_CONFIG,amc_name,path)\n",
    "final_text = object.refine_extracted_data(extracted_text, flatten = True)\n",
    "dfs = object.merge_and_select_data(final_text, select=True,map = True, special=True)\n",
    "Helper.quick_json_dump(dfs, object.JSONPATH)"
   ]
  },
  {
   "cell_type": "code",
   "execution_count": null,
   "metadata": {},
   "outputs": [],
   "source": [
    "\"\"\"CANARA MUTUAL FUND\"\"\" # pages = [8, 9, 10, 11, 12, 13, 14, 15, 16, 17, 18, 19, 20, 21, 22, 23, 24, 25, 26, 27, 28, 29, 30, 31, 32]\n",
    "\n",
    "amc_name = 'Canara Robeco Mutual Fund'\n",
    "logging.info(f\"User Ran Fund Data of {amc_name}\")\n",
    "path = mutual_fund[amc_name]\n",
    "object = Canara(PATHS_CONFIG,amc_name,path)\n",
    "\n",
    "title,path_pdf= object.check_and_highlight(path)\n",
    "data = object.get_data(path_pdf,title)\n",
    "extracted_text = object.get_generated_content(data)"
   ]
  },
  {
   "cell_type": "code",
   "execution_count": 83,
   "metadata": {},
   "outputs": [
    {
     "name": "stdout",
     "output_type": "stream",
     "text": [
      "\n",
      "  JSON saved at C:\\Users\\Kaustubh.keny\\Projects\\office-work\\mywork-repo\\data\\MAR25DATA\\dump_canara_15_25_17.json\n"
     ]
    }
   ],
   "source": [
    "Helper.quick_json_dump(extracted_text, object.JSONPATH)"
   ]
  },
  {
   "cell_type": "code",
   "execution_count": 85,
   "metadata": {},
   "outputs": [
    {
     "name": "stdout",
     "output_type": "stream",
     "text": [
      "Function Running: refine_extracted_data\n",
      "Function Running: merge_and_select_data\n",
      "\n",
      "  JSON saved at C:\\Users\\Kaustubh.keny\\Projects\\office-work\\mywork-repo\\data\\MAR25DATA\\dump_canara_15_27_40.json\n"
     ]
    }
   ],
   "source": [
    "object = Canara(PATHS_CONFIG,amc_name,path)\n",
    "final_text = object.refine_extracted_data(extracted_text, flatten = True)\n",
    "dfs = object.merge_and_select_data(final_text,select = True,map = True, special=True)\n",
    "Helper.quick_json_dump(dfs, object.JSONPATH)"
   ]
  },
  {
   "cell_type": "code",
   "execution_count": null,
   "metadata": {},
   "outputs": [],
   "source": [
    "\"\"\"DSP MAIN FILE CODE\"\"\"# pages = [1, 2, 3, 4, 5, 6, 7, 8, 9, 10, 11, 12, 13, 14, 15, 16, 17, 18, 19, 20, 21, 23, 24, 25, 26, 27, 28, 29, 30, 31, 32, 33, 34, 35, 36, 37, 38, 39, 40, 41, 42, 43, 44, 45, 46, 47, 48, 49, 50, 51, 52, 53, 54, 55, 56, 57, 58, 59, 60, 61, 62, 63, 64, 65, 66, 67]\n",
    "\n",
    "amc_name = 'Dsp Mutual Fund'\n",
    "logging.info(f\"User Ran Fund Data of {amc_name}\")\n",
    "path = mutual_fund['Dsp Mutual Fund']\n",
    "object = DSP(PATHS_CONFIG,amc_name,path)\n",
    "title,path_pdf= object.check_and_highlight(path)\n",
    "\n",
    "data = object.get_data(path_pdf,title)\n",
    "extracted_text = object.get_generated_content(data)\n",
    "\n",
    "final_text = object.refine_extracted_data(extracted_text,flatten = True)\n",
    "dfs = object.merge_and_select_data(final_text,map = True, select = True,special = True)\n",
    "Helper.quick_json_dump(dfs,object.JSONPATH)"
   ]
  },
  {
   "cell_type": "code",
   "execution_count": null,
   "metadata": {},
   "outputs": [],
   "source": [
    "\"\"\"EDELWEISS MP FILE MAIN CODE\"\"\" #Issues: objective in seperate dict,#metrics are weird, scheme launch date issue\n",
    "\n",
    "amc_name = 'Edelweiss Mutual Fund'\n",
    "logging.info(f\"User Ran Fund Data of {amc_name}\")\n",
    "path = mutual_fund[amc_name]\n",
    "object = Edelweiss(PATHS_CONFIG,amc_name,path)\n",
    "title,path_pdf= object.check_and_highlight(path)\n",
    "\n",
    "data = object.get_data(path_pdf,title)\n",
    "extracted_text = object.get_generated_content(data)\n",
    "object = Edelweiss(PATHS_CONFIG,amc_name,path)\n",
    "final_text = object.refine_extracted_data(extracted_text, flatten = True)\n",
    "dfs = object.merge_and_select_data(final_text, select = True, map = True, special =True)\n",
    "Helper.quick_json_dump(dfs, object.JSONPATH)"
   ]
  },
  {
   "cell_type": "code",
   "execution_count": null,
   "metadata": {},
   "outputs": [],
   "source": [
    "\"\"\"FRANKLIN TEMPLETON FILE MAIN CODE\"\"\"\n",
    "\n",
    "amc_name = \"Franklin Templeton Mutual Fund\"\n",
    "logging.info(f\"User Ran Fund Data of {amc_name}\")\n",
    "path = mutual_fund[amc_name]\n",
    "object = FranklinTempleton(PATHS_CONFIG,amc_name,path)\n",
    "title,path_pdf= object.check_and_highlight(path)\n",
    "\n",
    "# pages = [17, 18, 19, 20, 21, 22, 23, 24, 25, 26, 27, 28, 29, 30, 31, 32, 33, 34, 35, 36, 37, 38, 39, 40, 41, 42, 43, 44, 45, 46, 47, 48, 49, 50]\n",
    "data = object.get_data(path_pdf,title)\n",
    "extracted_text = object.get_generated_content(data)\n",
    "final_text = object.refine_extracted_data(extracted_text, flatten = True)\n",
    "dfs = object.merge_and_select_data(final_text,select = True,map = True, special=True)\n",
    "Helper.quick_json_dump(dfs, object.JSONPATH)"
   ]
  },
  {
   "cell_type": "code",
   "execution_count": 78,
   "metadata": {},
   "outputs": [
    {
     "name": "stdout",
     "output_type": "stream",
     "text": [
      "Function Running: check_and_highlight\n",
      "Function Running: _get_normal_title\n",
      "Regex: (GROWW.*?(?:FUND|Fund|ETF\\s*(?:FOF)?))\n",
      "13 -- GROWW LARGE CAP FUND\n",
      "14 -- GROWW LARGE CAP FUND\n",
      "15 -- GROWW AGGRESSIVE HYBRID FUND\n",
      "16 -- GROWW AGGRESSIVE HYBRID FUND\n",
      "17 -- GROWW VALUE FUND\n",
      "18 -- GROWW VALUE FUND\n",
      "19 -- GROWW ELSS TAX SAVER FUND\n",
      "20 -- GROWW ELSS TAX SAVER FUND\n",
      "21 -- GROWW MULTICAP FUND\n",
      "22 -- GROWW Nifty Total Market Index Fund\n",
      "23 -- GROWW Nifty Total Market Index Fund\n",
      "24 -- GROWW Banking & Financial Services Fund\n",
      "25 -- GROWW Banking & Financial Services Fund\n",
      "26 -- GROWW Nifty Smallcap 250 Index Fund\n",
      "27 -- GROWW Nifty Smallcap 250 Index Fund\n",
      "28 -- GROWW Nifty EV & New Age Automotive ETF\n",
      "29 -- GROWW Nifty EV & New Age Automotive ETF FOF\n",
      "30 -- GROWW Nifty Non-Cyclical Consumer Index Fund\n",
      "31 -- GROWW Nifty Non-Cyclical Consumer Index Fund\n",
      "32 -- GROWW Nifty 1D Rate Liquid ETF\n",
      "33 -- GROWW Nifty India Defence ETF\n",
      "34 -- GROWW Nifty India Defence ETF FOF\n",
      "35 -- GROWW Gold ETF\n",
      "36 -- GROWW Gold ETF FOF\n",
      "37 -- GROWW OVERNIGHT FUND\n",
      "38 -- GROWW LIQUID FUND\n",
      "39 -- GROWW LIQUID FUND\n",
      "40 -- GROWW SHORT DURATION FUND\n",
      "41 -- GROWW SHORT DURATION FUND\n",
      "42 -- GROWW DYNAMIC BOND FUND\n",
      "43 -- GROWW DYNAMIC BOND FUND\n",
      "\tHlted PDF at: E:\\PDFDrive\\Jan25\\Groww Mutual Fund\\20_31-Jan-25_FS_hltd.pdf\n",
      "\n",
      "\tDoc Saved At: C:\\Users\\rando\\OneDrive\\Documents\\mywork-repo\\data\\output\\pdf_report.xlsx\n",
      "\n",
      "\n",
      "Function Running: get_data\n",
      "Function Running: extract_data_relative_line\n",
      "Function Running: extract_span_data\n",
      "Function Running: process_text_data\n",
      "Function Running: create_nested_dict\n",
      "Function Running: get_generated_content\n",
      "Parsing Completed, Refining Data.....\n",
      "\n",
      "-------------\n",
      "FUND: GROWW LARGE CAP FUND\n",
      "MATCH: ['LARGE CAP']\n",
      "REPLACEMENT: GROWW Large Cap Fund\n",
      "--<<GROWW Large Cap Fund>>--\n",
      "-------------\n",
      "FUND: GROWW AGGRESSIVE HYBRID FUND\n",
      "MATCH: ['AGGRESSIVE HYBRID']\n",
      "REPLACEMENT: GROWW Aggressive Hybrid Fund\n",
      "--<<GROWW Aggressive Hybrid Fund>>--\n",
      "-------------\n",
      "FUND: GROWW VALUE FUND\n",
      "MATCH: ['VALUE']\n",
      "REPLACEMENT: GROWW Value Fund\n",
      "--<<GROWW Value Fund>>--\n",
      "-------------\n",
      "FUND: GROWW ELSS TAX SAVER FUND\n",
      "MATCH: ['ELSS TAX SAVER']\n",
      "REPLACEMENT: GROWW ELSS Tax Saver Fund\n",
      "--<<GROWW ELSS Tax Saver Fund>>--\n",
      "-------------\n",
      "FUND: GROWW MULTICAP FUND\n",
      "MATCH: ['MULTICAP']\n",
      "REPLACEMENT: GROWW Multicap Fund\n",
      "--<<GROWW Multicap Fund>>--\n",
      "-------------\n",
      "FUND: GROWW Nifty Total Market Index Fund\n",
      "MATCH: ['Total Market Index']\n",
      "REPLACEMENT: GROWW Nifty Total Market Index Fund\n",
      "--<<GROWW Nifty Total Market Index Fund>>--\n",
      "-------------\n",
      "FUND: GROWW Banking & Financial Services Fund\n",
      "MATCH: ['Banking & Financial Services']\n",
      "REPLACEMENT: GROWW Banking & Financial Services Fund\n",
      "--<<GROWW Banking & Financial Services Fund>>--\n",
      "-------------\n",
      "FUND: GROWW Nifty Smallcap 250 Index Fund\n",
      "MATCH: ['Smallcap 250 Index']\n",
      "REPLACEMENT: GROWW Nifty Smallcap 250 Index Fund\n",
      "--<<GROWW Nifty Smallcap 250 Index Fund>>--\n",
      "-------------\n",
      "FUND: GROWW Nifty EV & New Age Automotive ETF\n",
      "MATCH: ['Nifty EV & New Age Automotive ETF']\n",
      "REPLACEMENT: GROWW Nifty EV & New Age Automotive ETF FOF\n",
      "--<<GROWW Nifty EV & New Age Automotive ETF FOF>>--\n",
      "-------------\n",
      "FUND: GROWW Nifty EV & New Age Automotive ETF FOF\n",
      "MATCH: ['Nifty EV & New Age Automotive ETF']\n",
      "REPLACEMENT: GROWW Nifty EV & New Age Automotive ETF FOF\n",
      "--<<GROWW Nifty EV & New Age Automotive ETF FOF>>--\n",
      "-------------\n",
      "FUND: GROWW Nifty Non-Cyclical Consumer Index Fund\n",
      "MATCH: ['Nifty Non-Cyclical Consumer Index']\n",
      "REPLACEMENT: GROWW Nifty Non-Cyclical Consumer Index Fund\n",
      "--<<GROWW Nifty Non-Cyclical Consumer Index Fund>>--\n",
      "-------------\n",
      "FUND: GROWW Nifty 1D Rate Liquid ETF\n",
      "MATCH: ['Liquid']\n",
      "REPLACEMENT: GROWW Liquid Fund\n",
      "--<<GROWW Liquid Fund>>--\n",
      "-------------\n",
      "FUND: GROWW Nifty India Defence ETF\n",
      "MATCH: ['Nifty India Defence ETF']\n",
      "REPLACEMENT: GROWW Nifty India Defence ETF\n",
      "--<<GROWW Nifty India Defence ETF>>--\n",
      "-------------\n",
      "FUND: GROWW Nifty India Defence ETF FOF\n",
      "MATCH: ['Nifty India Defence ETF']\n",
      "REPLACEMENT: GROWW Nifty India Defence ETF\n",
      "--<<GROWW Nifty India Defence ETF>>--\n",
      "-------------\n",
      "FUND: GROWW Gold ETF\n",
      "MATCH: ['Gold ETF']\n",
      "REPLACEMENT: GROWW Gold ETF\n",
      "--<<GROWW Gold ETF>>--\n",
      "-------------\n",
      "FUND: GROWW Gold ETF FOF\n",
      "MATCH: ['Gold ETF']\n",
      "REPLACEMENT: GROWW Gold ETF\n",
      "--<<GROWW Gold ETF>>--\n",
      "-------------\n",
      "FUND: GROWW OVERNIGHT FUND\n",
      "MATCH: ['OVERNIGHT']\n",
      "REPLACEMENT: GROWW Overnight Fund\n",
      "--<<GROWW Overnight Fund>>--\n",
      "-------------\n",
      "FUND: GROWW LIQUID FUND\n",
      "MATCH: ['LIQUID']\n",
      "REPLACEMENT: GROWW Liquid Fund\n",
      "--<<GROWW Liquid Fund>>--\n",
      "-------------\n",
      "FUND: GROWW SHORT DURATION FUND\n",
      "MATCH: ['SHORT DURATION']\n",
      "REPLACEMENT: GROWW Short Duration Fund\n",
      "--<<GROWW Short Duration Fund>>--\n",
      "-------------\n",
      "FUND: GROWW DYNAMIC BOND FUND\n",
      "MATCH: ['DYNAMIC BOND']\n",
      "REPLACEMENT: GROWW Dynamic Bond Fund\n",
      "--<<GROWW Dynamic Bond Fund>>--\n"
     ]
    }
   ],
   "source": [
    "\"\"\"GROWW MUTUAL FUND MAIN CODE\"\"\"# pages = [13, 14, 15, 16, 17, 18, 19, 20, 21, 22, 23, 24, 26, 28, 29, 30, 32, 33, 34, 35, 36, 37, 38, 39, 40, 41, 42]\n",
    "\n",
    "amc_name = \"Groww Mutual Fund\"\n",
    "logging.info(f\"User Ran Fund Data of {amc_name}\")\n",
    "path = mutual_fund[amc_name]\n",
    "object = GROWW(PATHS_CONFIG,amc_name,path)\n",
    "title,path_pdf= object.check_and_highlight(path)\n",
    "\n",
    "data = object.get_data(path_pdf,title)\n",
    "extracted_text = object.get_generated_content(data)"
   ]
  },
  {
   "cell_type": "code",
   "execution_count": 79,
   "metadata": {},
   "outputs": [
    {
     "name": "stdout",
     "output_type": "stream",
     "text": [
      "\n",
      "  JSON saved at C:\\Users\\rando\\OneDrive\\Documents\\mywork-repo\\data\\output\\dump_groww_01_00_00.json\n"
     ]
    }
   ],
   "source": [
    "Helper.quick_json_dump(extracted_text,object.JSONPATH)"
   ]
  },
  {
   "cell_type": "code",
   "execution_count": 80,
   "metadata": {},
   "outputs": [
    {
     "name": "stdout",
     "output_type": "stream",
     "text": [
      "Function Running: refine_extracted_data\n",
      "\n",
      "  JSON saved at C:\\Users\\rando\\OneDrive\\Documents\\mywork-repo\\data\\output\\dump_groww_01_00_46.json\n"
     ]
    }
   ],
   "source": [
    "final_text = object.refine_extracted_data(extracted_text, flatten = True)\n",
    "# dfs = object.merge_and_select_data(final_text,select = True, map = True, special = True)\n",
    "Helper.quick_json_dump(final_text,object.JSONPATH)"
   ]
  },
  {
   "cell_type": "code",
   "execution_count": null,
   "metadata": {},
   "outputs": [],
   "source": []
  },
  {
   "cell_type": "code",
   "execution_count": null,
   "metadata": {},
   "outputs": [],
   "source": [
    "\"\"\"HDFC MUTUAL FUND\"\"\" # pages = [5, 6, 8, 10, 11, 12, 13, 14, 15, 16, 17, 18, 19, 20, 21, 22, 23, 24, 25, 26, 27, 28, 29, 30, 31, 32, 33, 34, 35, 36, 37, 38, 39, 40, 41, 42, 43, 44, 45, 46, 47, 48, 49, 50, 51]\n",
    "\n",
    "amc_name = \"Hdfc Mutual Fund\"\n",
    "logging.info(f\"User Ran Fund Data of {amc_name}\")\n",
    "path = mutual_fund[amc_name]\n",
    "object = HDFC(PATHS_CONFIG,amc_name,path)\n",
    "title,path_pdf= object.check_and_highlight(path)\n",
    "\n",
    "data = object.get_data(path_pdf,title)\n",
    "extracted_text = object.get_generated_content(data)"
   ]
  },
  {
   "cell_type": "code",
   "execution_count": 36,
   "metadata": {},
   "outputs": [
    {
     "name": "stdout",
     "output_type": "stream",
     "text": [
      "\n",
      "  JSON saved at C:\\Users\\Kaustubh.keny\\Projects\\office-work\\mywork-repo\\data\\MAR25DATA\\dump_hdfc_12_22_14.json\n"
     ]
    }
   ],
   "source": [
    "Helper.quick_json_dump(extracted_text,object.JSONPATH)"
   ]
  },
  {
   "cell_type": "code",
   "execution_count": 38,
   "metadata": {},
   "outputs": [
    {
     "name": "stdout",
     "output_type": "stream",
     "text": [
      "Function Running: refine_extracted_data\n",
      "Function Running: merge_and_select_data\n",
      "\n",
      "  JSON saved at C:\\Users\\Kaustubh.keny\\Projects\\office-work\\mywork-repo\\data\\MAR25DATA\\dump_hdfc_12_28_12.json\n"
     ]
    }
   ],
   "source": [
    "object = HDFC(PATHS_CONFIG,amc_name,path)\n",
    "final_text = object.refine_extracted_data(extracted_text,flatten = True)\n",
    "dfs = object.merge_and_select_data(final_text, select = True,map = True,special = True)\n",
    "Helper.quick_json_dump(dfs,object.JSONPATH)"
   ]
  },
  {
   "cell_type": "code",
   "execution_count": null,
   "metadata": {},
   "outputs": [],
   "source": []
  },
  {
   "cell_type": "code",
   "execution_count": null,
   "metadata": {},
   "outputs": [],
   "source": [
    "\"\"\"HDFC MUTUAL FUND PASSIVE\"\"\" # pages = [5, 6, 8, 10, 11, 12, 13, 14, 15, 16, 17, 18, 19, 20, 21, 22, 23, 24, 25, 26, 27, 28, 29, 30, 31, 32, 33, 34, 35, 36, 37, 38, 39, 40, 41, 42, 43, 44, 45, 46, 47, 48, 49, 50, 51]\n",
    "\n",
    "amc_name = \"Hdfc Mutual Fund Passive\"\n",
    "logging.info(f\"User Ran Fund Data of {amc_name}\")\n",
    "path = mutual_fund[amc_name]\n",
    "object = HDFC(PATHS_CONFIG,amc_name,path)\n",
    "title,path_pdf= object.check_and_highlight(path)\n",
    "\n",
    "data = object.get_data(path_pdf,title)\n",
    "extracted_text = object.get_generated_content(data)\n",
    "final_text = object.refine_extracted_data(extracted_text,flatten = True)\n",
    "dfs = object.merge_and_select_data(final_text, select = True,map = True,special=True)\n",
    "Helper.quick_json_dump(dfs,object.JSONPATH)"
   ]
  },
  {
   "cell_type": "code",
   "execution_count": null,
   "metadata": {},
   "outputs": [],
   "source": [
    "\"\"\"HELIOS MF FILE MAIN CODE\"\"\" # pages = [2, 4, 6, 8,10]\n",
    "\n",
    "amc_name = 'Helios Mutual Fund'\n",
    "logging.info(f\"User Ran Fund Data of {amc_name}\")\n",
    "path = mutual_fund[amc_name]\n",
    "object = Helios(PATHS_CONFIG,amc_name,path)\n",
    "title,path_pdf= object.check_and_highlight(path)\n",
    "\n",
    "data = object.get_data(path_pdf,title)\n",
    "extracted_text = object.get_generated_content(data)\n",
    "final_text = object.refine_extracted_data(extracted_text, flatten=True)\n",
    "dfs = object.merge_and_select_data(final_text,select= True,map = True, special = True)\n",
    "Helper.quick_json_dump(dfs,object.JSONPATH)"
   ]
  },
  {
   "cell_type": "code",
   "execution_count": null,
   "metadata": {},
   "outputs": [],
   "source": [
    "\"\"\" ICICI MF MAIN FILE CODE\"\"\" #pages = [8, 9, 11, 13, 15, 16, 17, 18, 19, 20, 21, 22, 23, 24, 25, 27, 28, 29, 30, 31, 32, 33, 34, 35, 36, 37, 39, 40, 41, 42, 43, 44, 46, 47, 49, 51, 53, 55, 56, 58, 59, 60, 62, 64, 65, 66, 67, 68, 69, 71, 72, 74, 75, 77, 78, 80]\n",
    "\n",
    "amc_name = \"Icici Prudential Mutual Fund\"\n",
    "logging.info(f\"User Ran Fund Data of {amc_name}\")\n",
    "path = mutual_fund[amc_name]\n",
    "object = ICICI(PATHS_CONFIG,amc_name,path)\n",
    "title,path_pdf = object.check_and_highlight(path)\n",
    "\n",
    "data = object.get_data(path_pdf,title)\n",
    "extracted_text = object.get_generated_content(data)\n",
    "\n",
    "final_text = object.refine_extracted_data(extracted_text, flatten=True)\n",
    "dfs = object.merge_and_select_data(final_text,select= True,map = True,special=True)\n",
    "Helper.quick_json_dump(dfs,object.JSONPATH)"
   ]
  },
  {
   "cell_type": "code",
   "execution_count": null,
   "metadata": {},
   "outputs": [],
   "source": [
    "\"\"\" ICICI MF MAIN FILE CODE PASSIVE\"\"\"# pages = [8, 9, 11, 13, 15, 16, 17, 18, 19, 20, 21, 22, 23, 24, 25, 27, 28, 29, 30, 31, 32, 33, 34, 35, 36, 37, 39, 40, 41, 42, 43, 44, 46, 47, 49, 51, 53, 55, 56, 58, 59, 60, 62, 64, 65, 66, 67, 68, 69, 71, 72, 74, 75, 77, 78, 80]\n",
    "\n",
    "amc_name = \"Icici Prudential Mutual Fund Passive\"\n",
    "logging.info(f\"User Ran Fund Data of {amc_name}\")\n",
    "path = mutual_fund[amc_name]\n",
    "object = ICICI(PATHS_CONFIG,amc_name,path)\n",
    "title,path_pdf = object.check_and_highlight(path)\n"
   ]
  },
  {
   "cell_type": "code",
   "execution_count": null,
   "metadata": {},
   "outputs": [],
   "source": [
    "object = ICICI(PATHS_CONFIG,amc_name,path)\n",
    "data = object.get_data(path_pdf,title)\n",
    "extracted_text = object.get_generated_content(data)"
   ]
  },
  {
   "cell_type": "code",
   "execution_count": null,
   "metadata": {},
   "outputs": [],
   "source": [
    "object = ICICI(PATHS_CONFIG,amc_name,path)\n",
    "final_text = object.refine_extracted_data(extracted_text, flatten=True)\n",
    "dfs = object.merge_and_select_data(final_text,select= True,map = True,special=True)\n",
    "Helper.quick_json_dump(dfs,object.JSONPATH)"
   ]
  },
  {
   "cell_type": "code",
   "execution_count": null,
   "metadata": {},
   "outputs": [],
   "source": [
    "\"\"\" INVESCO MF MAIN FILE CODE\"\"\" # pages = [4, 5, 6, 7, 8, 9, 10, 11, 12, 13, 14, 15, 16, 17, 18, 19, 21, 22, 23, 24, 25, 26, 27, 28, 29, 30, 31, 32, 33, 34, 35, 36, 37, 38, 39, 40, 41, 42, 43]\n",
    "\n",
    "amc_name = 'Invesco Mutual Fund'\n",
    "logging.info(f\"User Ran Fund Data of {amc_name}\")\n",
    "path = mutual_fund[amc_name]\n",
    "object = Invesco(PATHS_CONFIG,amc_name,path)\n",
    "title,path_pdf = object.check_and_highlight(path)"
   ]
  },
  {
   "cell_type": "code",
   "execution_count": null,
   "metadata": {},
   "outputs": [],
   "source": [
    "object = Invesco(PATHS_CONFIG,amc_name,path)\n",
    "data = object.get_data(path_pdf,title)\n",
    "extracted_text = object.get_generated_content(data)\n",
    "Helper.quick_json_dump(extracted_text, object.JSONPATH)"
   ]
  },
  {
   "cell_type": "code",
   "execution_count": 77,
   "metadata": {},
   "outputs": [
    {
     "name": "stdout",
     "output_type": "stream",
     "text": [
      "Function Running: refine_extracted_data\n",
      "Function Running: merge_and_select_data\n",
      "\n",
      "  JSON saved at C:\\Users\\rando\\OneDrive\\Documents\\mywork-repo\\data\\output\\dump_invesco_00_54_03.json\n"
     ]
    }
   ],
   "source": [
    "object = Invesco(PATHS_CONFIG,amc_name,path)\n",
    "final_text = object.refine_extracted_data(extracted_text, flatten = True)\n",
    "dfs = object.merge_and_select_data(final_text,select = True,map = True, special = True)\n",
    "Helper.quick_json_dump(dfs, object.JSONPATH)"
   ]
  },
  {
   "cell_type": "code",
   "execution_count": null,
   "metadata": {},
   "outputs": [],
   "source": [
    "\"\"\"ITI MAIN FILE CODE\"\"\" # pages = [9, 10, 11, 12, 13, 14, 15, 16, 17, 18, 19, 20, 21, 22, 23, 24, 25, 26]\n",
    "\n",
    "amc_name = 'Iti Mutual Fund'\n",
    "logging.info(f\"User Ran Fund Data of {amc_name}\")\n",
    "path = mutual_fund[amc_name]\n",
    "object = ITI(PATHS_CONFIG,amc_name,path)\n",
    "title,path_pdf= object.check_and_highlight(path)\n",
    "\n",
    "data = object.get_data(path_pdf,title)\n",
    "extracted_text = object.get_generated_content(data)"
   ]
  },
  {
   "cell_type": "code",
   "execution_count": null,
   "metadata": {},
   "outputs": [],
   "source": [
    "object = ITI(PATHS_CONFIG,amc_name,path)\n",
    "data = object.get_data(path_pdf,title)\n",
    "extracted_text = object.get_generated_content(data)\n",
    "Helper.quick_json_dump(extracted_text, object.JSONPATH)"
   ]
  },
  {
   "cell_type": "code",
   "execution_count": null,
   "metadata": {},
   "outputs": [],
   "source": [
    "object = ITI(PATHS_CONFIG,amc_name,path)\n",
    "final_text = object.refine_extracted_data(extracted_text,flatten = True)\n",
    "dfs= object.merge_and_select_data(final_text,select = True,map = True, special=True)\n",
    "Helper.quick_json_dump(dfs, object.JSONPATH)"
   ]
  },
  {
   "cell_type": "code",
   "execution_count": null,
   "metadata": {},
   "outputs": [],
   "source": [
    "\"\"\"JM FUND MAIN FILE CODE\"\"\"# pages = [18, 19, 20, 21, 22, 23, 24, 25, 26, 27, 28, 29, 30, 31, 32, 33]\n",
    "\n",
    "amc_name = 'Jm Financial Mutual Fund'\n",
    "logging.info(f\"User Ran Fund Data of {amc_name}\")\n",
    "path = mutual_fund[amc_name]\n",
    "object = JMMF(PATHS_CONFIG,amc_name,path)\n",
    "title,path_pdf= object.check_and_highlight(path)\n",
    "\n",
    "data = object.get_data(path_pdf,title)\n",
    "extracted_text = object.get_generated_content(data)\n",
    "final_text = object.refine_extracted_data(extracted_text, flatten = True)\n",
    "dfs = object.merge_and_select_data(final_text,select = True, map = True, special = True)\n",
    "Helper.quick_json_dump(dfs, object.JSONPATH)"
   ]
  },
  {
   "cell_type": "code",
   "execution_count": null,
   "metadata": {},
   "outputs": [],
   "source": [
    "\"\"\"KOTAK FUND MAIN CODE\"\"\" # pages = [5, 6, 7, 8, 9, 10, 11, 12, 13, 14, 15, 16, 17, 18, 19, 20, 21, 22, 23, 24, 25, 26, 27, 28, 29, 30, 32, 34, 36, 37, 38, 40, 41, 43, 44, 46, 48, 49, 50, 52, 54, 55, 56, 69, 70, 71, 72, 73, 74, 75, 76, 77, 78, 79, 80, 81, 82, 83, 84, 85, 86, 87, 88, 89, 90, 91, 92, 93, 94, 95, 96, 97, 98, 99, 100, 101, 102, 103, 104, 105, 106, 107, 108]\n",
    "\n",
    "amc_name = 'Kotak Mahindra Mutual Fund'\n",
    "logging.info(f\"User Ran Fund Data of {amc_name}\")\n",
    "path = mutual_fund[amc_name]\n",
    "object = Kotak(PATHS_CONFIG,amc_name,path)\n",
    "title,path_pdf= object.check_and_highlight(path)\n",
    "\n",
    "data = object.get_data(path_pdf,title)\n",
    "extracted_text = object.get_generated_content(data)\n",
    "final_text = object.refine_extracted_data(extracted_text,flatten= True)\n",
    "dfs = object.merge_and_select_data(final_text, select = True, map = True, special=True)\n",
    "Helper.quick_json_dump(dfs, object.JSONPATH)"
   ]
  },
  {
   "cell_type": "code",
   "execution_count": null,
   "metadata": {},
   "outputs": [],
   "source": [
    "\"\"\"LIC FUND MAIN CODE\"\"\" #issue: OCR for title bcz they're images\n",
    "amc_name = 'Lic Mutual Fund'\n",
    "logging.info(f\"User Ran Fund Data of {amc_name}\")\n",
    "path = mutual_fund[amc_name]\n",
    "object = LIC(PATHS_CONFIG,amc_name,path)\n",
    "title,path_pdf = object.check_and_highlight(path)\n",
    "\n",
    "data = object.get_data(path_pdf,title)\n",
    "extracted_text = object.get_generated_content(data)\n",
    "\n",
    "final_text = object.refine_extracted_data(extracted_text, flatten = True)\n",
    "dfs = object.merge_and_select_data(final_text,select = True, map = True, special = True)\n",
    "Helper.quick_json_dump(dfs, object.JSONPATH)"
   ]
  },
  {
   "cell_type": "code",
   "execution_count": null,
   "metadata": {},
   "outputs": [],
   "source": [
    "\"\"\"MAHINDRA MANULIFE MAIN CODE\"\"\" #incrase pages count\n",
    "\n",
    "amc_name = 'Mahindra Manulife Mutual Fund'\n",
    "logging.info(f\"User Ran Fund Data of {amc_name}\")\n",
    "path = mutual_fund[amc_name]\n",
    "object = MahindraManu(PATHS_CONFIG,amc_name,path)\n",
    "title,path_pdf = object.check_and_highlight(path)\n",
    "\n",
    "data = object.get_data(path_pdf,title)\n",
    "extracted_text = object.get_generated_content(data)"
   ]
  },
  {
   "cell_type": "code",
   "execution_count": 6,
   "metadata": {},
   "outputs": [
    {
     "name": "stdout",
     "output_type": "stream",
     "text": [
      "\n",
      "  JSON saved at C:\\Users\\rando\\OneDrive\\Documents\\mywork-repo\\data\\output\\dump_mahindra_21_35_25.json\n"
     ]
    }
   ],
   "source": [
    "Helper.quick_json_dump(extracted_text, object.JSONPATH)"
   ]
  },
  {
   "cell_type": "code",
   "execution_count": null,
   "metadata": {},
   "outputs": [],
   "source": [
    "object = MahindraManu(PATHS_CONFIG,amc_name,path)\n",
    "final_text = object.refine_extracted_data(extracted_text, flatten =True)\n",
    "dfs = object.merge_and_select_data(final_text,select = True, map = True, special=True)\n",
    "Helper.quick_json_dump(dfs, object.JSONPATH)"
   ]
  },
  {
   "cell_type": "code",
   "execution_count": null,
   "metadata": {},
   "outputs": [],
   "source": []
  },
  {
   "cell_type": "code",
   "execution_count": 133,
   "metadata": {},
   "outputs": [
    {
     "name": "stdout",
     "output_type": "stream",
     "text": [
      "Function Running: check_and_highlight\n",
      "Function Running: _get_normal_title\n",
      "Regex: (Motilal.*?(?:Fund\\s*(?:o?O?f Funds?(?:.+?Aggressive|.+?Conservative)?)?|ETF(?:.+? of Funds?)?|FoF))\n",
      "03 -- Motilal Oswal Nasdaq 100 Fund of Fund\n",
      "04 -- Motilal Oswal Nifty 500 Index Fund\n",
      "05 -- Motilal Oswal Nifty Midcap 150 Index Fund\n",
      "06 -- Motilal Oswal Nifty Smallcap 250 Index Fund\n",
      "07 -- Motilal Oswal Nifty Bank Index Fund\n",
      "08 -- Motilal Oswal Nifty 50 Index Fund\n",
      "09 -- Motilal Oswal Nifty Next 50 Index Fund\n",
      "10 -- Motilal Oswal S&P 500 Index Fund\n",
      "11 -- Motilal Oswal Nifty 50 ETF\n",
      "12 -- Motilal Oswal Nifty Midcap 100 ETF\n",
      "13 -- Motilal Oswal Nasdaq 100 ETF\n",
      "14 -- Motilal Oswal Nifty 5 year Benchmark G-Sec ETF\n",
      "15 -- Motilal Oswal 5 Year G-sec Fund Of Fund\n",
      "16 -- Motilal Oswal Asset Allocation Passive Fund of Fund - Aggressive\n",
      "17 -- Motilal Oswal Asset Allocation Passive Fund of Fund Conservative\n",
      "18 -- Motilal Oswal Nasdaq Q 50 ETF\n",
      "19 -- Motilal Oswal Nifty 200 Momentum 30 ETF\n",
      "20 -- Motilal Oswal Nifty 200 Momentum 30 Index Fund\n",
      "21 -- Motilal Oswal BSE Low Volatility Index Fund\n",
      "22 -- Motilal Oswal BSE Low Volatility ETF\n",
      "23 -- Motilal Oswal BSE Financials ex Bank 30 Index Fund\n",
      "24 -- Motilal Oswal BSE Healthcare ETF\n",
      "25 -- Motilal Oswal BSE Enhanced Value Index Fund\n",
      "26 -- Motilal Oswal BSE Enhanced Value ETF\n",
      "27 -- Motilal Oswal BSE Quality Index Fund\n",
      "28 -- Motilal Oswal BSE Quality ETF\n",
      "29 -- Motilal Oswal Gold and Silver ETFs Fund of Funds\n",
      "30 -- Motilal Oswal Nifty Microcap 250 Index Fund\n",
      "31 -- Motilal Oswal Developed Market Ex Us ETFS Fund of Funds\n",
      "32 -- Motilal Oswal Nifty 500 ETF\n",
      "33 -- Motilal Oswal Nifty Realty ETF\n",
      "34 -- Motilal Oswal Nifty Smallcap 250 ETF\n",
      "35 -- Motilal Oswal Nifty India Defence Index Fund\n",
      "36 -- Motilal Oswal Nifty India Defence ETF\n",
      "37 -- Motilal Oswal Nifty 500 Momentum 50 Index Fund\n",
      "38 -- Motilal Oswal Nifty 500 Momentum 50 ETF\n",
      "39 -- Motilal Oswal Nifty MidSmall Healthcare Index Fund\n",
      "40 -- Motilal Oswal Nifty MidSmall India Consumption Index Fund\n",
      "41 -- Motilal Oswal Nifty MidSmall Financial Services Index Fund\n",
      "42 -- Motilal Oswal Nifty MidSmall IT and Telecom Index Fund\n",
      "43 -- Motilal Oswal Nifty Capital Market Index Fund\n",
      "44 -- Motilal Oswal Nifty Capital Market ETF\n",
      "\tHlted PDF at: C:\\Users\\Kaustubh.keny\\Projects\\Mar 25\\Motilal Oswal Mutual Fund Passive\\28_31-Mar-2025_1_FS_hltd.pdf\n",
      "\n",
      "\tDoc Saved At: C:\\Users\\Kaustubh.keny\\Projects\\office-work\\mywork-repo\\data\\output\\pdf_report.xlsx\n",
      "\n",
      "\n",
      "Function Running: get_data\n",
      "Function Running: extract_clipped_data\n",
      "Function Running: extract_span_data\n",
      "Function Running: process_text_data\n",
      "Function Running: create_nested_dict\n",
      "Function Running: get_generated_content\n",
      "Parsing Completed, Refining Data.....\n",
      "\n",
      "--<<Motilal Oswal Nasdaq 100 Fund of Fund>>--\n",
      "--<<Motilal Oswal Nifty 500 Index Fund>>--\n",
      "--<<Motilal Oswal Nifty Midcap 150 Index Fund>>--\n",
      "--<<Motilal Oswal Nifty Smallcap 250 Index Fund>>--\n",
      "--<<Motilal Oswal Nifty Bank Index Fund>>--\n",
      "--<<Motilal Oswal Nifty 50 Index Fund>>--\n",
      "--<<Motilal Oswal Nifty Next 50 Index Fund>>--\n",
      "--<<Motilal Oswal S&P 500 Index Fund>>--\n",
      "--<<Motilal Oswal Nifty 50 ETF>>--\n",
      "--<<Motilal Oswal Nifty Midcap 100 ETF>>--\n",
      "--<<Motilal Oswal Nasdaq 100 ETF>>--\n",
      "--<<Motilal Oswal Nifty 5 year Benchmark G-Sec ETF>>--\n",
      "--<<Motilal Oswal 5 Year G-sec Fund Of Fund>>--\n",
      "--<<Motilal Oswal Asset Allocation Passive Fund of Fund - Aggressive>>--\n",
      "--<<Motilal Oswal Asset Allocation Passive Fund of Fund Conservative>>--\n",
      "--<<Motilal Oswal Nasdaq Q 50 ETF>>--\n",
      "--<<Motilal Oswal Nifty 200 Momentum 30 ETF>>--\n",
      "--<<Motilal Oswal Nifty 200 Momentum 30 Index Fund>>--\n",
      "--<<Motilal Oswal BSE Low Volatility Index Fund>>--\n",
      "--<<Motilal Oswal BSE Low Volatility ETF>>--\n",
      "--<<Motilal Oswal BSE Financials ex Bank 30 Index Fund>>--\n",
      "--<<Motilal Oswal BSE Healthcare ETF>>--\n",
      "--<<Motilal Oswal BSE Enhanced Value Index Fund>>--\n",
      "--<<Motilal Oswal BSE Enhanced Value ETF>>--\n",
      "--<<Motilal Oswal BSE Quality Index Fund>>--\n",
      "--<<Motilal Oswal BSE Quality ETF>>--\n",
      "--<<Motilal Oswal Gold and Silver ETFs Fund of Funds>>--\n",
      "--<<Motilal Oswal Nifty Microcap 250 Index Fund>>--\n",
      "--<<Motilal Oswal Developed Market Ex Us ETFS Fund of Funds>>--\n",
      "--<<Motilal Oswal Nifty 500 ETF>>--\n",
      "--<<Motilal Oswal Nifty Realty ETF>>--\n",
      "--<<Motilal Oswal Nifty Smallcap 250 ETF>>--\n",
      "--<<Motilal Oswal Nifty India Defence Index Fund>>--\n",
      "--<<Motilal Oswal Nifty India Defence ETF>>--\n",
      "--<<Motilal Oswal Nifty 500 Momentum 50 Index Fund>>--\n",
      "--<<Motilal Oswal Nifty 500 Momentum 50 ETF>>--\n",
      "--<<Motilal Oswal Nifty MidSmall Healthcare Index Fund>>--\n",
      "--<<Motilal Oswal Nifty MidSmall India Consumption Index Fund>>--\n",
      "--<<Motilal Oswal Nifty MidSmall Financial Services Index Fund>>--\n",
      "--<<Motilal Oswal Nifty MidSmall IT and Telecom Index Fund>>--\n",
      "--<<Motilal Oswal Nifty Capital Market Index Fund>>--\n",
      "--<<Motilal Oswal Nifty Capital Market ETF>>--\n"
     ]
    }
   ],
   "source": [
    "\"\"\"MOTILAL OSWAL PASSIVE MAIN CODE FILE\"\"\" #Fund Manager Regex\n",
    "\n",
    "amc_name = 'Motilal Oswal Mutual Fund Passive'\n",
    "logging.info(f\"User Ran Fund Data of {amc_name}\")\n",
    "path = mutual_fund[amc_name]\n",
    "object = MotilalOswal(PATHS_CONFIG,amc_name,path)\n",
    "\n",
    "title,path_pdf= object.check_and_highlight(path)\n",
    "data = object.get_data(path_pdf,title)\n",
    "extracted_text = object.get_generated_content(data)\n",
    "\n",
    "# final_text = object.refine_extracted_data(extracted_text, flatten= True)\n",
    "# dfs = object.merge_and_select_data(final_text,select = True,map = True, special = True)\n",
    "# Helper.quick_json_dump(dfs, object.JSONPATH)"
   ]
  },
  {
   "cell_type": "code",
   "execution_count": null,
   "metadata": {},
   "outputs": [],
   "source": [
    "\"\"\"MOTILAL OSWAL MAIN CODE FILE\"\"\" #Fund Manager Regex\n",
    "\n",
    "amc_name = 'Motilal Oswal Mutual Fund'\n",
    "logging.info(f\"User Ran Fund Data of {amc_name}\")\n",
    "path = mutual_fund[amc_name]\n",
    "object = MotilalOswal(PATHS_CONFIG,amc_name,path)\n",
    "title,path_pdf= object.check_and_highlight(path)"
   ]
  },
  {
   "cell_type": "code",
   "execution_count": null,
   "metadata": {},
   "outputs": [],
   "source": [
    "data = object.get_data(path_pdf,title)\n",
    "extracted_text = object.get_generated_content(data)\n",
    "Helper.quick_json_dump(extracted_text, object.JSONPATH)"
   ]
  },
  {
   "cell_type": "code",
   "execution_count": null,
   "metadata": {},
   "outputs": [],
   "source": [
    "object = MotilalOswal(PATHS_CONFIG,amc_name,path)\n",
    "final_text = object.refine_extracted_data(extracted_text, flatten= True)\n",
    "dfs = object.merge_and_select_data(final_text,select = True,map = True, special = True)\n",
    "Helper.quick_json_dump(dfs, object.JSONPATH)"
   ]
  },
  {
   "cell_type": "code",
   "execution_count": 116,
   "metadata": {},
   "outputs": [
    {
     "name": "stdout",
     "output_type": "stream",
     "text": [
      "Function Running: check_and_highlight\n",
      "Function Running: _get_normal_title\n",
      "Regex: (MIRAE.*?(?:ETF|EOF|FOF|FTF|FUNDS?\\s*(?:OF FUNDS?)?|INDEX FUND))\n",
      "10 -- MIRAE ASSET NIFTY 50 ETF\n",
      "11 -- MIRAE ASSET NIFTY NEXT 50 ETF\n",
      "12 -- MIRAE ASSET NIFTY FINANCIAL SERVICES ETF\n",
      "13 -- MIRAE ASSET NIFTY INDIA MANUFACTURING ETF\n",
      "14 -- MIRAE ASSET NIFTY MIDCAP 150 ETF\n",
      "15 -- MIRAE ASSET NIFTY 100 LOW VOLATILITY 30 ETF\n",
      "16 -- MIRAE ASSET BSE SENSEX ETF\n",
      "17 -- MIRAE ASSET NIFTY 200 ALPHA 30 ETF\n",
      "18 -- MIRAE ASSET NIFTY SMALLCAP 250 MOMENTUM 100 ETF\n",
      "19 -- MIRAE ASSET NIFTY MIDSMALLCAP400 MOMENT QUALITY 100 ETF\n",
      "20 -- MIRAE ASSET NIFTY500 MULTICAP 502525 ETF\n",
      "21 -- MIRAE ASSET NIFTY INDIA NEW AGE CONSUMPTI NSE Symbol CONSUMER BSE Scrip Code 544323 (Exchange Traded Fund (ETF\n",
      "22 -- MIRAE ASSET BSE 200 EQUAL WEIGHT ETF\n",
      "23 -- MIRAE ASSET BSE SELECT IPO ETF\n",
      "24 -- MIRAE ASSET NIFTY 100 ESG SECTOR LEADERS E NSE Symbol ESG BSE Scrip Code 543246 (Exchange Traded Fund (ETF\n",
      "25 -- MIRAE ASSET NYSE FANG + ETF\n",
      "26 -- MIRAE ASSET S&P 500 TOP 50 ETF\n",
      "27 -- MIRAE ASSET HANG SENG TECH ETF\n",
      "28 -- MIRAE ASSET NIFTY BANK ETF\n",
      "29 -- MIRAE ASSET NIFTY IT ETF\n",
      "30 -- MIRAE ASSET NIFTY EV AND NEW AGE AUTOMOTI NSE Symbol EVINDIA BSE Scrip Code 544212 (Exchange Traded Fund (ETF\n",
      "31 -- MIRAE ASSET NIFTY PSU BANK ETF\n",
      "32 -- MIRAE ASSET NIFTY METAL ETF\n",
      "33 -- MIRAE ASSET GOLD ETF\n",
      "34 -- MIRAE ASSET SILVER ETF\n",
      "35 -- MIRAE ASSET NIFTY 8-13 YR G-SEC ETF\n",
      "36 -- MIRAE ASSET NIFTY 1D RATE LIQUID ETF\n",
      "37 -- MIRAE ASSET NIFTY 1D RATE LIQUID ETF\n",
      "38 -- MIRAE ASSET EQUITY ALLOCATOR FUND\n",
      "39 -- MIRAE ASSET NIFTY 100 ESG SECTOR LEADERS F FUND\n",
      "40 -- MIRAE ASSET NYSE FANG + ETF\n",
      "41 -- MIRAE ASSET S&P 500 TOP 50 ETF\n",
      "42 -- MIRAE ASSET HANG SENG TECH ETF\n",
      "43 -- MIRAE ASSET NIFTY INDIA MANUFACTURING ETF\n",
      "44 -- MIRAE ASSET GLOBAL X ARTIFICIAL INTELLIGENC TECHNOLOGY ETF\n",
      "45 -- MIRAE ASSET GLOBAL ELECTRIC & AUTONOMOU ETF\n",
      "46 -- MIRAE ASSET NIFTY SMALLCAP 250 MOMENTUM 100 ETF\n",
      "47 -- MIRAE ASSET NIFTY MIDSMALLCAP400 MOMENT QUALITY 100 ETF\n",
      "48 -- MIRAE ASSET NIFTY 200 ALPHA 30 ETF\n",
      "49 -- MIRAE ASSET GOLD ETF\n",
      "50 -- MIRAE ASSET NIFTY INDIA NEW AGE CONSUMPTI ETF\n",
      "51 -- MIRAE ASSET BSE 200 EQUAL WEIGHT ETF\n",
      "52 -- MIRAE ASSET BSE SELECT IPO ETF\n",
      "54 -- MIRAE ASSET NIFTY 50 INDEX FUND\n",
      "55 -- MIRAE ASSET NIFTY TOTAL MARKET INDEX FUND\n",
      "56 -- MIRAE ASSET NIFTY SDL JUN 2027 INDEX FUND\n",
      "57 -- MIRAE ASSET CRISIL IBX GILT INDEX - APRIL 2033 FUND\n",
      "58 -- MIRAE ASSET NIFTY AAA PSU BOND PLUS SDL AP 5050 INDEX FUND\n",
      "59 -- MIRAE ASSET NIFTY SDL JUNE 2028 INDEX FUND\n",
      "\tHlted PDF at: C:\\Users\\Kaustubh.keny\\Projects\\Mar 25\\Mirae Asset Mutual Fund Passive\\27_31-Mar-2025_1_FS_hltd.pdf\n",
      "\n",
      "\tDoc Saved At: C:\\Users\\Kaustubh.keny\\Projects\\office-work\\mywork-repo\\data\\output\\pdf_report.xlsx\n",
      "\n",
      "\n",
      "Function Running: get_data\n",
      "Function Running: extract_clipped_data\n",
      "Function Running: extract_span_data\n",
      "Function Running: process_text_data\n",
      "Function Running: create_nested_dict\n",
      "Function Running: get_generated_content\n",
      "Parsing Completed, Refining Data.....\n",
      "\n",
      "--<<MIRAE ASSET NIFTY 50 ETF>>--\n",
      "--<<MIRAE ASSET NIFTY NEXT 50 ETF>>--\n",
      "--<<MIRAE ASSET NIFTY FINANCIAL SERVICES ETF>>--\n",
      "--<<MIRAE ASSET NIFTY MIDCAP 150 ETF>>--\n",
      "--<<MIRAE ASSET NIFTY 100 LOW VOLATILITY 30 ETF>>--\n",
      "--<<MIRAE ASSET BSE SENSEX ETF>>--\n",
      "--<<MIRAE ASSET NIFTY 200 ALPHA 30 ETF>>--\n",
      "--<<MIRAE ASSET NIFTY SMALLCAP 250 MOMENTUM 100 ETF>>--\n",
      "--<<MIRAE ASSET NIFTY MIDSMALLCAP400 MOMENT QUALITY 100 ETF>>--\n",
      "--<<MIRAE ASSET NIFTY500 MULTICAP 502525 ETF>>--\n",
      "--<<MIRAE ASSET BSE 200 EQUAL WEIGHT ETF>>--\n",
      "--<<MIRAE ASSET BSE SELECT IPO ETF>>--\n",
      "--<<MIRAE ASSET NIFTY 100 ESG SECTOR LEADERS E NSE Symbol ESG BSE Scrip Code 543246 (Exchange Traded Fund (ETF>>--\n",
      "--<<MIRAE ASSET NYSE FANG + ETF>>--\n",
      "--<<MIRAE ASSET S&P 500 TOP 50 ETF>>--\n",
      "--<<MIRAE ASSET HANG SENG TECH ETF>>--\n",
      "--<<MIRAE ASSET NIFTY BANK ETF>>--\n",
      "--<<MIRAE ASSET NIFTY IT ETF>>--\n",
      "--<<MIRAE ASSET NIFTY EV AND NEW AGE AUTOMOTI NSE Symbol EVINDIA BSE Scrip Code 544212 (Exchange Traded Fund (ETF>>--\n",
      "--<<MIRAE ASSET GOLD ETF>>--\n",
      "--<<MIRAE ASSET SILVER ETF>>--\n",
      "--<<MIRAE ASSET NIFTY 8-13 YR G-SEC ETF>>--\n",
      "--<<MIRAE ASSET NIFTY 1D RATE LIQUID ETF>>--\n",
      "--<<MIRAE ASSET NIFTY SDL JUN 2027 INDEX FUND>>--\n",
      "--<<MIRAE ASSET CRISIL IBX GILT INDEX - APRIL 2033 FUND>>--\n",
      "--<<MIRAE ASSET NIFTY AAA PSU BOND PLUS SDL AP 5050 INDEX FUND>>--\n",
      "--<<MIRAE ASSET NIFTY SDL JUNE 2028 INDEX FUND>>--\n",
      "Function Running: refine_extracted_data\n",
      "Function Running: merge_and_select_data\n",
      "\n",
      "  JSON saved at C:\\Users\\Kaustubh.keny\\Projects\\office-work\\mywork-repo\\data\\MAR25DATA\\dump_mirae_18_02_12.json\n"
     ]
    }
   ],
   "source": [
    "\"\"\"MIRAE MAIN FILE CODE PASSIVE\"\"\"\n",
    "\n",
    "amc_name = 'Mirae Asset Mutual Fund Passive'\n",
    "logging.info(f\"User Ran Fund Data of {amc_name}\")\n",
    "path = mutual_fund[amc_name]\n",
    "object = MIRAE(PATHS_CONFIG,amc_name,path)\n",
    "title,path_pdf= object.check_and_highlight(path)\n",
    "\n",
    "data = object.get_data(path_pdf,title)\n",
    "extracted_text = object.get_generated_content(data)\n",
    "\n",
    "final_text = object.refine_extracted_data(extracted_text, flatten=True)\n",
    "dfs = object.merge_and_select_data(final_text,select = True, map = True, special=True)\n",
    "Helper.quick_json_dump(dfs, object.JSONPATH)"
   ]
  },
  {
   "cell_type": "code",
   "execution_count": null,
   "metadata": {},
   "outputs": [],
   "source": [
    "\"\"\"MIRAE MAIN FILE CODE\"\"\"\n",
    "\n",
    "amc_name = 'Mirae Asset Mutual Fund'\n",
    "logging.info(f\"User Ran Fund Data of {amc_name}\")\n",
    "path = mutual_fund[amc_name]\n",
    "object = MIRAE(PATHS_CONFIG,amc_name,path)\n",
    "title,path_pdf= object.check_and_highlight(path)\n",
    "\n",
    "data = object.get_data(path_pdf,title)\n",
    "extracted_text = object.get_generated_content(data)\n",
    "\n",
    "final_text = object.refine_extracted_data(extracted_text, flatten=True)\n",
    "dfs = object.merge_and_select_data(final_text,select = True, map = True, special = True)\n",
    "Helper.quick_json_dump(dfs, object.JSONPATH)"
   ]
  },
  {
   "cell_type": "code",
   "execution_count": null,
   "metadata": {},
   "outputs": [],
   "source": [
    "\"\"\"NAVI MAIN FILE CODE\"\"\" #Issue: Left and right\n",
    "\n",
    "amc_name = 'Navi Mutual Fund'\n",
    "logging.info(f\"User Ran Fund Data of {amc_name}\")\n",
    "path = mutual_fund[amc_name]\n",
    "object = NAVI(PATHS_CONFIG,amc_name,path)\n",
    "title,path_pdf = object.check_and_highlight(path)"
   ]
  },
  {
   "cell_type": "code",
   "execution_count": null,
   "metadata": {},
   "outputs": [],
   "source": [
    "object = NAVI(PATHS_CONFIG,amc_name,path)\n",
    "data = object.get_data(path_pdf,title)\n",
    "extracted_text = object.get_generated_content(data)\n",
    "Helper.quick_json_dump(extracted_text, object.JSONPATH)"
   ]
  },
  {
   "cell_type": "code",
   "execution_count": 62,
   "metadata": {},
   "outputs": [
    {
     "name": "stdout",
     "output_type": "stream",
     "text": [
      "Function Running: refine_extracted_data\n",
      "Function Running: merge_and_select_data\n",
      "\n",
      "  JSON saved at C:\\Users\\rando\\OneDrive\\Documents\\mywork-repo\\data\\output\\dump_navi_00_11_26.json\n"
     ]
    }
   ],
   "source": [
    "object = NAVI(PATHS_CONFIG,amc_name,path)\n",
    "final_text = object.refine_extracted_data(extracted_text, flatten = True)\n",
    "dfs = object.merge_and_select_data(final_text,select = True,map = True,special=True)\n",
    "Helper.quick_json_dump(dfs, object.JSONPATH)"
   ]
  },
  {
   "cell_type": "code",
   "execution_count": null,
   "metadata": {},
   "outputs": [],
   "source": []
  },
  {
   "cell_type": "code",
   "execution_count": null,
   "metadata": {},
   "outputs": [],
   "source": [
    "\"NIPPON MAIN FILE CODE\"\n",
    "amc_name = 'Nippon India Mutual Fund'\n",
    "logging.info(f\"User Ran Fund Data of {amc_name}\")\n",
    "path = mutual_fund[amc_name]\n",
    "object = Nippon(PATHS_CONFIG,amc_name,path)\n",
    "title,path_pdf= object.check_and_highlight(path)\n",
    "\n",
    "data = object.get_data(path_pdf,title)\n",
    "extracted_text = object.get_generated_content(data)\n",
    "\n",
    "final_text = object.refine_extracted_data(extracted_text, flatten = True)\n",
    "dfs = object.merge_and_select_data(final_text,select = True, map = True, special=True)\n",
    "Helper.quick_json_dump(dfs,object.JSONPATH)"
   ]
  },
  {
   "cell_type": "code",
   "execution_count": null,
   "metadata": {},
   "outputs": [],
   "source": [
    "\"\"\"NJMF MAIN CODE FILE\"\"\"# pages = [1, 3, 5, 7, 9]\n",
    "\n",
    "amc_name = 'Nj Mutual Fund'\n",
    "logging.info(f\"User Ran Fund Data of {amc_name}\")\n",
    "path = mutual_fund[amc_name]\n",
    "object = NJMF(PATHS_CONFIG,amc_name,path)\n",
    "title,path_pdf = object.check_and_highlight(path)\n",
    "\n",
    "data = object.get_data(path_pdf,title)\n",
    "extracted_text = object.get_generated_content(data)\n"
   ]
  },
  {
   "cell_type": "code",
   "execution_count": 26,
   "metadata": {},
   "outputs": [
    {
     "name": "stdout",
     "output_type": "stream",
     "text": [
      "Function Running: refine_extracted_data\n",
      "Function Running: merge_and_select_data\n",
      "\n",
      "  JSON saved at C:\\Users\\Kaustubh.keny\\Projects\\office-work\\mywork-repo\\data\\MAR25DATA\\dump_nj_11_56_06.json\n"
     ]
    }
   ],
   "source": [
    "object = NJMF(PATHS_CONFIG,amc_name,path)\n",
    "final_text = object.refine_extracted_data(extracted_text,flatten = True)\n",
    "dfs = object.merge_and_select_data(final_text,select = True, map = True,special=True)\n",
    "Helper.quick_json_dump(dfs, object.JSONPATH)"
   ]
  },
  {
   "cell_type": "code",
   "execution_count": null,
   "metadata": {},
   "outputs": [],
   "source": [
    "\"\"\"OlD BriDGE MAIN CODE\"\"\"\n",
    "amc_name = \"Old Bridge Mutual Fund\"\n",
    "logging.info(f\"User Ran Fund Data of {amc_name}\")\n",
    "path = mutual_fund[amc_name]\n",
    "object = OldBridge(PATHS_CONFIG,amc_name,path)\n",
    "title,path_pdf = object.check_and_highlight(path)\n",
    "\n",
    "data = object.get_data(path_pdf,title)\n",
    "extracted_text = object.get_generated_content(data)\n",
    "\n",
    "final_text = object.refine_extracted_data(extracted_text, flatten = True)\n",
    "dfs = object.merge_and_select_data(final_text,select = True,map= True, special=True)\n",
    "Helper.quick_json_dump(dfs, object.JSONPATH)"
   ]
  },
  {
   "cell_type": "code",
   "execution_count": null,
   "metadata": {},
   "outputs": [],
   "source": [
    "\"\"\"PGIM MAIN FILE CODE\"\"\" #ISSUES: Clean data further\n",
    "\n",
    "amc_name = \"Pgim India Mutual Fund\"\n",
    "logging.info(f\"User Ran Fund Data of {amc_name}\")\n",
    "path = mutual_fund[amc_name]\n",
    "object = PGIM(PATHS_CONFIG,amc_name,path)\n",
    "\n",
    "title,path_pdf = object.check_and_highlight(path)\n",
    "data = object.get_data(path_pdf,title)\n",
    "extracted_text = object.get_generated_content(data)\n",
    "final_text = object.refine_extracted_data(extracted_text, flatten = True)\n",
    "dfs = object.merge_and_select_data(final_text,select = True,map= True, special = True)\n",
    "Helper.quick_json_dump(dfs, object.JSONPATH)"
   ]
  },
  {
   "cell_type": "code",
   "execution_count": null,
   "metadata": {},
   "outputs": [],
   "source": [
    "\"\"\"QUANT MAIN CODE FILE\"\"\"\n",
    "\n",
    "amc_name = 'Quant Mutual Fund'\n",
    "logging.info(f\"User Ran Fund Data of {amc_name}\")\n",
    "path = mutual_fund[amc_name]\n",
    "object = QuantMF(PATHS_CONFIG, amc_name,path)\n",
    "title,path_pdf = object.check_and_highlight(path)\n",
    "\n",
    "data = object.get_data(path_pdf,title)\n",
    "extracted_text = object.get_generated_content(data)\n",
    "\n",
    "final_text = object.refine_extracted_data(extracted_text, flatten = True)\n",
    "dfs = object.merge_and_select_data(final_text,select = True,map = True, special = True)\n",
    "Helper.quick_json_dump(dfs, object.JSONPATH)"
   ]
  },
  {
   "cell_type": "code",
   "execution_count": null,
   "metadata": {},
   "outputs": [],
   "source": [
    "\"\"\"QUANTUM MAIN FILE CODE\"\"\" # pages = [7, 9, 12, 14, 16, 18, 20, 22, 24, 26, 28, 30, 32, 33]\n",
    "\n",
    "amc_name = \"Quantum Mutual Fund\"\n",
    "logging.info(f\"User Ran Fund Data of {amc_name}\")\n",
    "path = mutual_fund[amc_name]\n",
    "object = Quantum(PATHS_CONFIG,amc_name,path)\n",
    "title,path_pdf = object.check_and_highlight(path)\n",
    "\n",
    "data = object.get_data(path_pdf,title)\n",
    "extracted_text = object.get_generated_content(data)\n",
    "\n",
    "final_text = object.refine_extracted_data(extracted_text, flatten = True)\n",
    "dfs = object.merge_and_select_data(final_text,select = True, map = True, special=True)\n",
    "Helper.quick_json_dump(dfs, object.JSONPATH)"
   ]
  },
  {
   "cell_type": "code",
   "execution_count": null,
   "metadata": {},
   "outputs": [],
   "source": [
    "\"\"\"SAMCO PDF FILE MAIN CODE\"\"\" # pages =  [3, 5, 7, 9, 11, 13, 15, 17, 18]\n",
    "\n",
    "amc_name = 'Samco Mutual Fund'\n",
    "logging.info(f\"User Ran Fund Data of {amc_name}\")\n",
    "path = mutual_fund[amc_name]\n",
    "object = Samco(PATHS_CONFIG,amc_name,path)\n",
    "title,path_pdf= object.check_and_highlight(path)\n",
    "\n",
    "data = object.get_data(path_pdf,title)\n",
    "extracted_text = object.get_generated_content(data)"
   ]
  },
  {
   "cell_type": "code",
   "execution_count": 34,
   "metadata": {},
   "outputs": [
    {
     "name": "stdout",
     "output_type": "stream",
     "text": [
      "Function Running: refine_extracted_data\n",
      "Function Running: merge_and_select_data\n",
      "\n",
      "  JSON saved at C:\\Users\\Kaustubh.keny\\Projects\\office-work\\mywork-repo\\data\\MAR25DATA\\dump_samco_12_19_36.json\n"
     ]
    }
   ],
   "source": [
    "object = Samco(PATHS_CONFIG,amc_name,path)\n",
    "final_text = object.refine_extracted_data(extracted_text, flatten=True)\n",
    "dfs = object.merge_and_select_data(final_text, select = True,map = True, special=True)\n",
    "Helper.quick_json_dump(dfs,object.JSONPATH)"
   ]
  },
  {
   "cell_type": "code",
   "execution_count": null,
   "metadata": {},
   "outputs": [],
   "source": [
    "\"\"\"SBI PASSIVE PDF FILE MAIN CODE\"\"\" \n",
    "\n",
    "amc_name = 'Sbi Mutual Fund Passive'\n",
    "logging.info(f\"User Ran Fund Data of {amc_name}\")\n",
    "path = mutual_fund[amc_name]\n",
    "object = SBIPassive(PATHS_CONFIG,amc_name,path)\n",
    "title,path_pdf= object.check_and_highlight(path)\n",
    "\n",
    "data = object.get_data(path_pdf,title)\n",
    "extracted_text = object.get_generated_content(data)\n",
    "\n",
    "final_text = object.refine_extracted_data(extracted_text,flatten = True)\n",
    "dfs = object.merge_and_select_data(final_text,select = True,map = True,special = True)\n",
    "Helper.quick_json_dump(dfs,object.JSONPATH)"
   ]
  },
  {
   "cell_type": "code",
   "execution_count": null,
   "metadata": {},
   "outputs": [],
   "source": [
    "\"\"\"SBI PDF FILE MAIN CODE\"\"\" \n",
    "amc_name = \"Sbi Mutual Fund\"\n",
    "logging.info(f\"User Ran Fund Data of {amc_name}\")\n",
    "\n",
    "object = SBI(PATHS_CONFIG,amc_name,path)\n",
    "path = mutual_fund[amc_name]\n",
    "title,path_pdf= object.check_and_highlight(path)\n",
    "\n",
    "data = object.get_data(path_pdf,title)\n",
    "extracted_text = object.get_generated_content(data)\n",
    "\n",
    "final_text = object.refine_extracted_data(extracted_text,flatten = True)\n",
    "dfs = object.merge_and_select_data(final_text,select = True,map = True,special = True)\n",
    "Helper.quick_json_dump(dfs,object.JSONPATH)"
   ]
  },
  {
   "cell_type": "code",
   "execution_count": null,
   "metadata": {},
   "outputs": [],
   "source": [
    "\"\"\"SUNDARAM MAIN FILE CODE\"\"\"\n",
    "\n",
    "amc_name = 'Sundaram Mutual Fund'\n",
    "logging.info(f\"User Ran Fund Data of {amc_name}\")\n",
    "path = mutual_fund[amc_name]\n",
    "object = Sundaram(PATHS_CONFIG,amc_name,path)\n",
    "title,path_pdf = object.check_and_highlight(path)\n",
    "\n",
    "data = object.get_data(path_pdf,title)\n",
    "extracted_text = object.get_generated_content(data)"
   ]
  },
  {
   "cell_type": "code",
   "execution_count": 13,
   "metadata": {},
   "outputs": [
    {
     "name": "stdout",
     "output_type": "stream",
     "text": [
      "\n",
      "  JSON saved at C:\\Users\\rando\\OneDrive\\Documents\\mywork-repo\\data\\output\\dump_sundaram_21_43_41.json\n"
     ]
    }
   ],
   "source": [
    "Helper.quick_json_dump(extracted_text,object.JSONPATH)"
   ]
  },
  {
   "cell_type": "code",
   "execution_count": 15,
   "metadata": {},
   "outputs": [
    {
     "name": "stdout",
     "output_type": "stream",
     "text": [
      "Function Running: refine_extracted_data\n",
      "Function Running: merge_and_select_data\n",
      "\n",
      "  JSON saved at C:\\Users\\rando\\OneDrive\\Documents\\mywork-repo\\data\\output\\dump_sundaram_21_46_34.json\n"
     ]
    }
   ],
   "source": [
    "object = Sundaram(PATHS_CONFIG,amc_name,path)\n",
    "final_text = object.refine_extracted_data(extracted_text,flatten = True)\n",
    "dfs = object.merge_and_select_data(final_text,select = True, map = True, special=True)\n",
    "Helper.quick_json_dump(dfs,object.JSONPATH)"
   ]
  },
  {
   "cell_type": "code",
   "execution_count": null,
   "metadata": {},
   "outputs": [],
   "source": [
    "\"\"\"TATA FILE MAIN CODE \"\"\"# pages =  [16, 17, 18, 19, 20, 21, 22, 23, 24, 25, 26, 27, 28, 29, 30, 31, 32, 33, 34, 35, 36, 37, 38, 39, 40, 41, 42, 43, 44, 45, 46, 47, 48, 49, 50, 51, 52, 53, 54, 55, 56, 57, 58, 59, 60, 62, 64, 66, 67, 68, 69, 70, 71, 72, 73, 74, 75, 76, 77, 78, 79, 80, 81, 82, 83]\n",
    "amc_name = \"Tata Mutual Fund\"\n",
    "logging.info(f\"User Ran Fund Data of {amc_name}\")\n",
    "path = mutual_fund[amc_name]\n",
    "object = Tata(PATHS_CONFIG,amc_name,path)\n",
    "title,path_pdf= object.check_and_highlight(path)\n",
    "\n",
    "data = object.get_data(path_pdf,title)\n",
    "extracted_text = object.get_generated_content(data)\n",
    "\n",
    "final_text = object.refine_extracted_data(extracted_text, flatten = True)\n",
    "dfs = object.merge_and_select_data(final_text,select=True, map = True, special=True)\n",
    "Helper.quick_json_dump(dfs, object.JSONPATH)"
   ]
  },
  {
   "cell_type": "code",
   "execution_count": null,
   "metadata": {},
   "outputs": [],
   "source": [
    "\"\"\"TAURUS MAIN FILE CODE\"\"\" # pages = [11, 12, 13, 14, 15, 16, 17, 18]\n",
    "\n",
    "amc_name = 'Taurus Mutual Fund'\n",
    "logging.info(f\"User Ran Fund Data of {amc_name}\")\n",
    "path = mutual_fund[amc_name]\n",
    "object = Taurus(PATHS_CONFIG,amc_name,path)\n",
    "title,path_pdf= object.check_and_highlight(path)\n",
    "\n",
    "data = object.get_data(path_pdf,title)\n",
    "extracted_text = object.get_generated_content(data)"
   ]
  },
  {
   "cell_type": "code",
   "execution_count": 88,
   "metadata": {},
   "outputs": [
    {
     "name": "stdout",
     "output_type": "stream",
     "text": [
      "\n",
      "  JSON saved at C:\\Users\\rando\\OneDrive\\Documents\\mywork-repo\\data\\output\\dump_taurus_01_08_25.json\n"
     ]
    }
   ],
   "source": [
    "Helper.quick_json_dump(extracted_text,object.JSONPATH)"
   ]
  },
  {
   "cell_type": "code",
   "execution_count": 89,
   "metadata": {},
   "outputs": [
    {
     "name": "stdout",
     "output_type": "stream",
     "text": [
      "Function Running: refine_extracted_data\n",
      "Function Running: merge_and_select_data\n",
      "\n",
      "  JSON saved at C:\\Users\\rando\\OneDrive\\Documents\\mywork-repo\\data\\output\\dump_taurus_01_08_34.json\n"
     ]
    }
   ],
   "source": [
    "object = Taurus(PATHS_CONFIG,amc_name,path)\n",
    "final_text = object.refine_extracted_data(extracted_text,flatten=True)\n",
    "dfs = object.merge_and_select_data(final_text,select = True, map = True, special = True)\n",
    "Helper.quick_json_dump(dfs,object.JSONPATH)"
   ]
  },
  {
   "cell_type": "code",
   "execution_count": null,
   "metadata": {},
   "outputs": [],
   "source": [
    "\"\"\"TRUST MAIN FILE CODE\"\"\" #Issue: Clean data more, nested dict unload Invest Obj in right #Names coming as headers fund managers\n",
    "amc_name = 'Trust Mutual Fund'\n",
    "logging.info(f\"User Ran Fund Data of {amc_name}\")\n",
    "path = mutual_fund[amc_name]\n",
    "object = Trust(PATHS_CONFIG,amc_name,path)\n",
    "title,path_pdf= object.check_and_highlight(path)\n",
    "\n",
    "data = object.get_data(path_pdf,title)\n",
    "extracted_text = object.get_generated_content(data)\n",
    "\n",
    "final_text = object.refine_extracted_data(extracted_text, flatten = True)\n",
    "dfs = object.merge_and_select_data(final_text,select = True, map = True, special = True)\n",
    "Helper.quick_json_dump(dfs,object.JSONPATH)"
   ]
  },
  {
   "cell_type": "code",
   "execution_count": null,
   "metadata": {},
   "outputs": [],
   "source": [
    "\"\"\"UTI MAIN FILE CODE\"\"\"\n",
    "\n",
    "amc_name = 'Uti Mutual Fund'\n",
    "logging.info(f\"User Ran Fund Data of {amc_name}\")\n",
    "path = mutual_fund[amc_name]\n",
    "object = UTI(PATHS_CONFIG,amc_name,path)\n",
    "title,path_pdf = object.check_and_highlight(path)\n",
    "\n",
    "data = object.get_data(path_pdf,title)\n",
    "extracted_text = object.get_generated_content(data)\n",
    "\n",
    "final_text = object.refine_extracted_data(extracted_text, flatten = True)\n",
    "dfs = object.merge_and_select_data(final_text, select = True, map = True, special = True)\n",
    "Helper.quick_json_dump(dfs, object.JSONPATH)"
   ]
  },
  {
   "cell_type": "code",
   "execution_count": null,
   "metadata": {},
   "outputs": [],
   "source": [
    "\"\"\"UNION MUTUAL FUND\"\"\" #Issues: Major Issue\n",
    "\n",
    "amc_name = 'Union Mutual Fund'\n",
    "logging.info(f\"User Ran Fund Data of {amc_name}\")\n",
    "path = mutual_fund[amc_name]\n",
    "object = Union(PATHS_CONFIG,amc_name,path)\n",
    "title,path_pdf = object.check_and_highlight(path)"
   ]
  },
  {
   "cell_type": "code",
   "execution_count": null,
   "metadata": {},
   "outputs": [],
   "source": [
    "data = object.get_data(path_pdf,title)\n",
    "extracted_text = object.get_generated_content(data)\n",
    "Helper.quick_json_dump(extracted_text, object.JSONPATH)"
   ]
  },
  {
   "cell_type": "code",
   "execution_count": null,
   "metadata": {},
   "outputs": [],
   "source": [
    "object = Union(PATHS_CONFIG,amc_name,path)\n",
    "final_text = object.refine_extracted_data(extracted_text, flatten = True)\n",
    "dfs = object.merge_and_select_data(final_text,select=True, map = True, special = True)\n",
    "Helper.quick_json_dump(dfs, object.JSONPATH)"
   ]
  },
  {
   "cell_type": "code",
   "execution_count": null,
   "metadata": {},
   "outputs": [],
   "source": []
  },
  {
   "cell_type": "code",
   "execution_count": null,
   "metadata": {},
   "outputs": [],
   "source": [
    "\"\"\"WHITEOAK MUTUAL FUND\"\"\"\n",
    "\n",
    "amc_name = 'Whiteoak Mutual Fund'\n",
    "logging.info(f\"User Ran Fund Data of {amc_name}\")\n",
    "path = mutual_fund[amc_name]\n",
    "object = WhiteOak(PATHS_CONFIG,amc_name,path)\n",
    "title,path_pdf= object.check_and_highlight(path)\n",
    "# pages = [7, 9, 11, 13, 15, 17, 19, 20, 21, 23, 25, 26, 28, 30, 32, 34, 36, 37]\n",
    "data = object.get_data(path_pdf,title)\n",
    "extracted_text = object.get_generated_content(data)\n",
    "\n",
    "final_text = object.refine_extracted_data(extracted_text, flatten = True)\n",
    "dfs = object.merge_and_select_data(final_text,select = True, map = True, special = True)\n",
    "Helper.quick_json_dump(dfs,object.JSONPATH)"
   ]
  },
  {
   "cell_type": "code",
   "execution_count": null,
   "metadata": {},
   "outputs": [],
   "source": [
    "\"\"\"ZERODHA MAIN CODE\"\"\" \n",
    "\n",
    "amc_name = 'Zerodha Mutual Fund'\n",
    "logging.info(f\"User Ran Fund Data of {amc_name}\")\n",
    "path = mutual_fund[amc_name]\n",
    "object = Zerodha(PATHS_CONFIG,amc_name,path)\n",
    "title,path_pdf= object.check_and_highlight(path)\n",
    "# pages = [3, 5, 7, 9, 11, 13, 15]\n",
    "data = object.get_data(path_pdf,title)\n",
    "extracted_text = object.get_generated_content(data)\n",
    "\n",
    "final_text = object.refine_extracted_data(extracted_text, flatten = True)\n",
    "dfs = object.merge_and_select_data(final_text,select = True,map = True, special = True)\n",
    "Helper.quick_json_dump(dfs, object.JSONPATH)"
   ]
  },
  {
   "cell_type": "code",
   "execution_count": null,
   "metadata": {},
   "outputs": [],
   "source": [
    "\"\"\"\"HSBC MAIN FILE CODE\"\"\" # pages = [10, 11, 12, 13, 14, 15, 16, 17, 18, 19, 20, 21, 22, 23, 24, 25, 26, 27, 28, 29, 30, 32, 34, 35, 36, 37, 38, 39, 40, 41, 42, 43, 44, 45, 46, 47, 48, 49]\n",
    "\n",
    "amc_name = 'Hsbc Mutual Fund'\n",
    "logging.info(f\"User Ran Fund Data of {amc_name}\")\n",
    "path = mutual_fund[amc_name]\n",
    "object = HSBC(PATHS_CONFIG,amc_name,path)\n",
    "title,path_pdf= object.check_and_highlight(path)\n",
    "\n",
    "data = object.get_data(path_pdf,title)\n",
    "extracted_text = object.get_generated_content(data)"
   ]
  },
  {
   "cell_type": "code",
   "execution_count": null,
   "metadata": {},
   "outputs": [],
   "source": [
    "object = HSBC(PATHS_CONFIG,amc_name,path)\n",
    "final_text = object.refine_extracted_data(extracted_text, flatten = True)\n",
    "dfs = object.merge_and_select_data(final_text,select = True,map = True, special=True)\n",
    "Helper.quick_json_dump(dfs,object.JSONPATH)"
   ]
  },
  {
   "cell_type": "code",
   "execution_count": null,
   "metadata": {},
   "outputs": [],
   "source": [
    "manage = FundHouseManager()\n",
    "for fund in  manage.list_fund_houses():\n",
    "    # manage.update_fund_house(fund,\"PARAMS\",)\n",
    "    print(fund)"
   ]
  },
  {
   "cell_type": "code",
   "execution_count": null,
   "metadata": {},
   "outputs": [],
   "source": [
    "# \"main_mapper\": {\n",
    "        # \"360 One Mutual Fund\": \"ThreeSixtyOne\",\n",
    "        # \"Aditya Birla Sun Life Mutual Fund\": \"AdityaBirla\",\n",
    "        # \"Axis Mutual Fund\": \"AXISMF\",\n",
    "        # \"Axis Mutual Fund Passive\": \"AXISMF\",\n",
    "        # \"Bajaj Finserv Mutual Fund\": \"BajajFinServ\",\n",
    "        # \"Bandhan Mutual Fund\": \"Bandhan\",\n",
    "        # \"Bank Of India Mutual Fund\": \"BankOfIndia\",\n",
    "        # \"Baroda Bnp Paribas Mutual Fund\": \"BarodaBNP\",\n",
    "        # \"Canara Robeco Mutual Fund\": \"Canara\",\n",
    "        # \"Dsp Mutual Fund\": \"DSP\",\n",
    "        # \"Edelweiss Mutual Fund\": \"Edelweiss\",\n",
    "        # \"Franklin Templeton Mutual Fund\": \"FranklinTempleton\",\n",
    "        # \"Groww Mutual Fund\": \"GROWW\",\n",
    "        # \"Hdfc Mutual Fund\": \"HDFC\",\n",
    "        # \"Hdfc Mutual Fund Passive\": \"HDFC\",\n",
    "        # \"Helios Mutual Fund\": \"Helios\",\n",
    "        # \"Hsbc Mutual Fund\": \"HSBC\",\n",
    "        # \"Icici Prudential Mutual Fund\": \"ICICI\",\n",
    "        # \"Icici Prudential Mutual Fund Passive\": \"ICICI\",\n",
    "        # \"Iti Mutual Fund\": \"ITI\",\n",
    "        # \"Invesco Mutual Fund\": \"Invesco\",\n",
    "        # \"Jm Financial Mutual Fund\": \"JMMF\",\n",
    "        # \"Kotak Mahindra Mutual Fund\": \"Kotak\",\n",
    "        # \"Lic Mutual Fund\": \"LIC\",\n",
    "        # \"Mahindra Manulife Mutual Fund\": \"MahindraManu\",\n",
    "        # \"Mirae Asset Mutual Fund\": \"MIRAE\",\n",
    "        # \"Mirae Asset Mutual Fund Passive\": \"MIRAE\",\n",
    "        # \"Motilal Oswal Mutual Fund\": \"MotilalOswal\",\n",
    "        # \"Motilal Oswal Mutual Fund Passive\": \"MotilalOswal\",\n",
    "        # \"Nj Mutual Fund\": \"NJMF\",\n",
    "        # \"Navi Mutual Fund\": \"NAVI\",\n",
    "        # \"Nippon India Mutual Fund\": \"Nippon\",\n",
    "        # \"Old Bridge Mutual Fund\":\"OldBridge\",\n",
    "        # \"Pgim India Mutual Fund\": \"PGIM\",\n",
    "        # \"Ppfas Mutual Fund\": \"PPFAS\",\n",
    "        # \"Quant Mutual Fund\": \"QuantMF\",\n",
    "        # \"Quantum Mutual Fund\": \"Quantum\",\n",
    "        # \"Sbi Mutual Fund\": \"SBI\",\n",
    "        # \"Sbi Mutual Fund Passive\": \"SBIPassive\",\n",
    "        # \"Samco Mutual Fund\": \"Samco\",\n",
    "        # \"Shriram Mutual Fund\": \"Shriram\",\n",
    "        # \"Sundaram Mutual Fund\": \"Sundaram\",\n",
    "        # \"Tata Mutual Fund\": \"Tata\",\n",
    "        # \"Taurus Mutual Fund\": \"Taurus\",\n",
    "        # \"Trust Mutual Fund\": \"Trust\",\n",
    "        # \"Uti Mutual Fund\": \"UTI\",\n",
    "        # \"Union Mutual Fund\": \"Union\",\n",
    "        # \"Whiteoak Mutual Fund\": \"WhiteOak\",\n",
    "        # \"Zerodha Mutual Fund\": \"Zerodha\"\n",
    "#     }"
   ]
  },
  {
   "cell_type": "code",
   "execution_count": null,
   "metadata": {},
   "outputs": [],
   "source": []
  },
  {
   "cell_type": "code",
   "execution_count": null,
   "metadata": {},
   "outputs": [],
   "source": []
  }
 ],
 "metadata": {
  "kernelspec": {
   "display_name": "envPDF",
   "language": "python",
   "name": "python3"
  },
  "language_info": {
   "codemirror_mode": {
    "name": "ipython",
    "version": 3
   },
   "file_extension": ".py",
   "mimetype": "text/x-python",
   "name": "python",
   "nbconvert_exporter": "python",
   "pygments_lexer": "ipython3",
   "version": "3.13.1"
  }
 },
 "nbformat": 4,
 "nbformat_minor": 2
}
