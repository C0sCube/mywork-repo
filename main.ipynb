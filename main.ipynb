{
 "cells": [
  {
   "cell_type": "code",
   "execution_count": 1,
   "metadata": {},
   "outputs": [],
   "source": [
    "%load_ext autoreload\n",
    "%autoreload 2\n",
    "import pprint, json, os, logging\n",
    "\n",
    "PATHS_CONFIG =os.path.join(os.getcwd(),'paths.json') #get path to paths.json\n",
    "\n",
    "with open(PATHS_CONFIG,'r') as file:\n",
    "    PATH = json.load(file)\n",
    "    \n",
    "from app.fund_data import *\n",
    "from app.params_handler import *\n",
    "from app.utils import Helper\n",
    "from logging_config import logger\n",
    "\n",
    "logger.info(\"Application Started !!\")\n",
    "mutual_fund = Helper.get_fund_paths(PATH['dirs']['fund_path'])"
   ]
  },
  {
   "cell_type": "code",
   "execution_count": null,
   "metadata": {},
   "outputs": [],
   "source": [
    "'''360 ONE MAIN FILE CODE''' #No issues as of now\n",
    "amc_name = \"360 ONE Mutual Fund\"\n",
    "logger.info(f\"User Ran Fund Data of {amc_name}\")\n",
    "\n",
    "object = ThreeSixtyOne(PATHS_CONFIG,amc_name)\n",
    "path = mutual_fund[amc_name]\n",
    "\n",
    "path, df = object.check_and_highlight(path, 7)"
   ]
  },
  {
   "cell_type": "code",
   "execution_count": null,
   "metadata": {},
   "outputs": [],
   "source": [
    "title = df.title.to_dict()\n",
    "pages = [5, 6, 7, 8, 9, 10, 11, 12]\n",
    "data = object.get_data(path,pages,title)\n",
    "extracted_text = object.get_generated_content(data)\n",
    "final_text = object.refine_extracted_data(extracted_text, flatten=True)\n",
    "dfs = object.merge_and_select_data(final_text, select=True, map= True)\n",
    "Helper.quick_json_dump(dfs, object.JSONPATH)"
   ]
  },
  {
   "cell_type": "code",
   "execution_count": null,
   "metadata": {},
   "outputs": [],
   "source": [
    "'''AXIS ONE MAIN FILE CODE''' #No issues as of now\n",
    "amc_name = \"Axis Mutual Fund\"\n",
    "logger.info(f\"User Ran Fund Data of {amc_name}\")\n",
    "\n",
    "object = AXISMF(PATHS_CONFIG,amc_name)\n",
    "path = mutual_fund[amc_name]\n",
    "path = r\"C:\\Users\\Kaustubh.keny\\Projects\\Dec 24\\Axis Mutual Fund\\1_31-Dec-24_FS.pdf\"\n",
    "\n",
    "path, df = object.check_and_highlight(path, 7)"
   ]
  },
  {
   "cell_type": "code",
   "execution_count": null,
   "metadata": {},
   "outputs": [],
   "source": [
    "object = AXISMF(PATHS_CONFIG,amc_name)\n",
    "title  = object.get_proper_fund_names(path)\n",
    "pages = list(title.keys())\n",
    "data = object.get_data(path,pages,title)\n",
    "extracted_text = object.get_generated_content(data)"
   ]
  },
  {
   "cell_type": "code",
   "execution_count": 172,
   "metadata": {},
   "outputs": [
    {
     "name": "stdout",
     "output_type": "stream",
     "text": [
      "\n",
      " JSON saved at C:\\Users\\Kaustubh.keny\\Projects\\office-work\\mywork-repo\\data\\output\\dump_Axis_17_05.json\n"
     ]
    }
   ],
   "source": [
    "object = AXISMF(PATHS_CONFIG,amc_name)\n",
    "final_text = object.refine_extracted_data(extracted_text, flatten=True)\n",
    "Helper.quick_json_dump(final_text,object.JSONPATH)"
   ]
  },
  {
   "cell_type": "code",
   "execution_count": 169,
   "metadata": {},
   "outputs": [
    {
     "name": "stdout",
     "output_type": "stream",
     "text": [
      "100 and 1 thereafter For benchmark riskometer and PRC, please refer to page no 5 0- 54\n",
      "[('100', '1')]\n",
      "100 and 1 thereafter For benchmark riskometer and PRC, please refer to page no 5 0- 54\n",
      "[('100', '1')]\n",
      "500 and 1 thereafter For benchmark riskometer and PRC, please refer to page no 5 0- 54\n",
      "[('500', '1')]\n",
      "100 and 1 thereafter For benchmark riskometer and PRC, please refer to page no 5 0- 54\n",
      "[('100', '1')]\n",
      "100 and 1 thereafter For benchmark riskometer and PRC, please refer to page no 5 0- 54\n",
      "[('100', '1')]\n",
      "100 and 1 thereafter For benchmark riskometer and PRC, please refer to page no 5 0- 54\n",
      "[('100', '1')]\n",
      "100 and 1 thereafter For benchmark riskometer and PRC, please refer to page no 5 0- 54\n",
      "[('100', '1')]\n",
      "500 and 1 thereafter For benchmark riskometer and PRC, please refer to page no 5 0- 54\n",
      "[('500', '1')]\n",
      "100 and 1 thereafter For benchmark riskometer and PRC, please refer to page no 5 0- 54\n",
      "[('100', '1')]\n",
      "100 and 1 thereafter For benchmark riskometer and PRC, please refer to page no 5 0- 54\n",
      "[('100', '1')]\n",
      "5000 and 1 thereafter For benchmark riskometer and PRC, please refer to page no 5 0- 54\n",
      "[('5000', '1')]\n",
      "5000 and 1 thereafter For benchmark riskometer and PRC, please refer to page no 5 0- 54\n",
      "[('5000', '1')]\n",
      "5000 and 1 thereafter For benchmark riskometer and PRC, please refer to page no 5 0- 54\n",
      "[('5000', '1')]\n",
      "5000 and 1 thereafter For benchmark riskometer and PRC, please refer to page no 5 0- 54\n",
      "[('5000', '1')]\n",
      "5000 and 1 thereafter For benchmark riskometer and PRC, please refer to page no 5 0- 54\n",
      "[('5000', '1')]\n",
      "5000 and 1 thereafter For benchmark riskometer and PRC, please refer to page no 5 0- 54\n",
      "[('5000', '1')]\n",
      "5000 and 1 therea er For benchmark riskometer and PRC, please refer to page no 5 0- 54\n",
      "[('5000', '1')]\n",
      "5000 and 1 therea er For benchmark riskometer and PRC, please refer to page no 5 0- 54\n",
      "[('5000', '1')]\n",
      "5000 and 1 therea er For benchmark riskometer and PRC, please refer to page no 5 0- 54\n",
      "[('5000', '1')]\n",
      "5000 and 1 thereafter For benchmark riskometer and PRC, please refer to page no 5 0- 54\n",
      "[('5000', '1')]\n",
      "100 and 1 thereafter For benchmark riskometer and PRC, please refer to page no 5 0- 54\n",
      "[('100', '1')]\n",
      "100 and 1 thereafter For benchmark riskometer and PRC, please refer to page no 5 0- 54\n",
      "[('100', '1')]\n"
     ]
    }
   ],
   "source": [
    "# pattern = \"of\\\\s*[A-Za-z]+\\\\s*([\\\\d.]+) cr.\"\n",
    "# pattern = \"(?:Mr\\\\.?|Ms\\\\.?|Mrs\\\\.?)\\\\s*([\\\\w\\\\s]+)Work experience\\\\s*([0-9]+ years).+?fund since\\\\s*([0-9]+(?:rd|nd|st|th)\\\\s*[A-Za-z]+\\\\s*[0-9]+)\"\n",
    "pattern = \"([\\\\d.,]+)\\\\s*and\\\\s*([\\\\d.,]+)\\\\s*there\"\n",
    "for fund, content in final_text.items():\n",
    "    check = 'scheme_details.minimum_investment'\n",
    "    if check in content:\n",
    "        all_text = \"\".join(content[check])\n",
    "        all_text =re.sub(r'[^A-Za-z0-9\\s\\-\\(\\).,]+', \"\", all_text).strip()\n",
    "        print(all_text)\n",
    "        print(re.findall(pattern,all_text, re.IGNORECASE))"
   ]
  },
  {
   "cell_type": "code",
   "execution_count": null,
   "metadata": {},
   "outputs": [],
   "source": []
  },
  {
   "cell_type": "code",
   "execution_count": null,
   "metadata": {},
   "outputs": [],
   "source": [
    "\"Axis Mutual Fund\"\n",
    "\"PPFAS Mutual Fund\"\n",
    "\"Shriram Mutual Fund\""
   ]
  },
  {
   "cell_type": "code",
   "execution_count": null,
   "metadata": {},
   "outputs": [],
   "source": [
    "\"\"\"*ADITYA BIRLA FILE CODE\"\"\" #Issue: highlight count must be lower\n",
    "#Issue: data on both side ends so issue coming , three clips\n",
    "\n",
    "amc_name = 'Aditya Birla Sun Life Mutual Fund'\n",
    "logging.info(f\"User Ran Fund Data of {amc_name}\")\n",
    "\n",
    "object = AdityaBirla(PATHS_CONFIG,amc_name)\n",
    "path = mutual_fund[amc_name]\n",
    "\n",
    "path, df = object.check_and_highlight(path, 10)"
   ]
  },
  {
   "cell_type": "code",
   "execution_count": null,
   "metadata": {},
   "outputs": [],
   "source": [
    "title = df.title.to_dict()\n",
    "pages = [17, 19, 21, 23, 25, 27, 29, 31, 33, 35, 37, 39, 41, 43, 45, 49, 50, 52, 54, 56, 58, 60, 62, 64, 66, 69, 72, 75, 78, 80, 82, 86, 87, 89, 91, 93, 95, 98, 101, 103, 106, 108, 110, 112, 114, 115, 116, 118, 119, 121, 123, 125, 127, 128, 129, 130, 131, 132, 133, 134, 135, 136, 137, 138, 139, 140, 141, 143, 147, 149, 153, 155, 157, 159, 160, 161, 162, 163, 164, 165, 166, 167, 168, 169, 170, 171, 172, 173, 175, 176, 177, 178, 179, 180, 181, 182]\n",
    "data = object.get_data(path,pages,title)\n",
    "extracted_text = object.get_generated_content(data)"
   ]
  },
  {
   "cell_type": "code",
   "execution_count": 14,
   "metadata": {},
   "outputs": [
    {
     "name": "stdout",
     "output_type": "stream",
     "text": [
      "\n",
      " JSON saved at C:\\Users\\Kaustubh.keny\\Projects\\office-work\\mywork-repo\\data\\output\\dump_aditya_08_56.json\n"
     ]
    }
   ],
   "source": [
    "# final_text = object.refine_extracted_data(extracted_text, flatten=True)\n",
    "# dfs = object.merge_and_select_data(final_text,select=True,map = True,special=True)\n",
    "Helper.quick_json_dump(extracted_text,object.JSONPATH)"
   ]
  },
  {
   "cell_type": "code",
   "execution_count": 9,
   "metadata": {},
   "outputs": [
    {
     "name": "stdout",
     "output_type": "stream",
     "text": [
      "bandhan large cap fund\n",
      "bandhan small cap fund\n",
      "bandhan core equity fund\n",
      "bandhan flexi cap fund\n",
      "bandhan multi cap fund\n",
      "bandhan midcap fund\n",
      "bandhan elss tax saver fund\n",
      "bandhan focused equity fund\n",
      "bandhan sterling value fund\n",
      "bandhan infrastructure fund\n",
      "bandhan transportation and logistics fund\n",
      "bandhan financial services fund\n",
      "bandhan innovation fund\n",
      "bandhan business cycle fund\n",
      "bandhan arbitrage fund\n",
      "bandhan arbitrage fund\n",
      "bandhan equity savings fund\n",
      "bandhan balanced advantage fund\n",
      "bandhan multi asset allocation fund\n",
      "bandhan hybrid equity fund\n",
      "bandhan retirement fund\n",
      "bandhan conservative hybrid fund\n",
      "bandhan us equity fund of fund\n",
      "bandhan us treasury bond 0-1 year fund of fund\n",
      "bandhan asset allocation fund of funds\n",
      "bandhan asset allocation fund of funds\n",
      "bandhan income plus arbitrage fund of funds\n",
      "bandhan overnight fund\n",
      "bandhan liquid fund\n",
      "bandhan ultra short term fund\n",
      "bandhan low duration fund\n",
      "bandhan money manager fund\n",
      "bandhan banking & psu debt fund\n",
      "bandhan corporate bond fund\n",
      "bandhan bond fund – short term plan\n",
      "bandhan bond fund – medium term plan\n",
      "bandhan floating rate fund\n",
      "bandhan credit risk fund\n",
      "bandhan bond fund – income plan\n",
      "bandhan dynamic bond fund\n",
      "bandhan long duration fund\n",
      "bandhan government securities fund - constant maturity plan\n",
      "bandhan government securities fund – investment plan\n",
      "bandhan nifty 50 index fund\n",
      "bandhan nifty 100 index fund\n",
      "bandhan nifty100 low volatility 30 index fund\n",
      "bandhan nifty200 momentum 30 index fund\n",
      "bandhan nifty alpha 50 index fund\n",
      "bandhan nifty smallcap 250 index fund\n",
      "bandhan nifty it index fund\n",
      "bandhan nifty total market index fund\n",
      "bandhan nifty bank index fund\n",
      "bandhan bse healthcare index fund\n",
      "bandhan nifty midcap 150 index fund\n",
      "bandhan nifty 500 momentum 50 index fund\n",
      "bandhan nifty 500 value 50 index fund\n",
      "bandhan nifty 200 quality 30 index fund\n",
      "bandhan nifty alpha low volatility 30 index fund\n",
      "bandhan bse sensex etf\n",
      "bandhan nifty 50 etf\n",
      "bandhan crisil ibx gilt april 2026 index fund\n",
      "bandhan crisil ibx gilt june 2027 index fund\n",
      "bandhan crisil ibx gilt april 2028 index fund\n",
      "bandhan crisil ibx gilt april 2032 index fund\n",
      "bandhan crisil ibx 90:10 sdl plus gilt– november 2026 index fund\n",
      "bandhan crisil ibx 90:10 sdl plus gilt– september 2027 index fund\n",
      "\n",
      "Doc Saved At: C:\\Users\\Kaustubh.keny\\Projects\\office-work\\mywork-repo\\data\\output\\pdf_report.xlsx\n",
      "\n",
      "Pages to Extract: [15, 16, 17, 18, 19, 20, 21, 22, 23, 24, 25, 26, 27, 28, 29, 30, 31, 32, 33, 34, 35, 36, 37, 38, 39, 40, 41, 43, 44, 45, 46, 47, 48, 49, 50, 51, 52, 53, 54, 55, 56, 57, 58, 59, 60, 61, 62, 63, 64, 65, 66, 67, 68, 69, 70, 71, 72, 73, 74, 75, 76, 77, 78, 79, 80, 81]\n"
     ]
    }
   ],
   "source": [
    "\"\"\"BANDHAN MF FILE MAIN CODE\"\"\" # rgex for fund manager\n",
    "\n",
    "amc_name = \"Bandhan Mutual Fund\"\n",
    "logging.info(f\"User Ran Fund Data of {amc_name}\")\n",
    "\n",
    "object = Bandhan(PATHS_CONFIG,amc_name)\n",
    "path = mutual_fund[amc_name]\n",
    "\n",
    "path, df = object.check_and_highlight(path,6)"
   ]
  },
  {
   "cell_type": "code",
   "execution_count": null,
   "metadata": {},
   "outputs": [],
   "source": [
    "pages =  [15, 16, 17, 18, 19, 20, 21, 22, 23, 24, 25, 26, 27, 28, 29, 30, 31, 32, 33, 34, 35, 36, 37, 38, 39, 40, 41, 43, 44, 45, 46, 47, 48, 49, 50, 51, 52, 53, 54, 55, 56, 57, 58, 59, 60, 61, 62, 63, 64, 65, 66, 67, 68, 69, 70, 71, 72, 73, 74, 75, 76, 77, 78, 79, 80, 81]\n",
    "title = df.title.to_dict()\n",
    "data  = object.get_data(path,pages,title)\n",
    "extracted_text = object.get_generated_content(data)"
   ]
  },
  {
   "cell_type": "code",
   "execution_count": 11,
   "metadata": {},
   "outputs": [
    {
     "name": "stdout",
     "output_type": "stream",
     "text": [
      "\n",
      " JSON saved at C:\\Users\\Kaustubh.keny\\Projects\\office-work\\mywork-repo\\data\\output\\dump_bandhan_17_15.json\n"
     ]
    }
   ],
   "source": [
    "object = Bandhan(PATHS_CONFIG,amc_name)\n",
    "final_text = object.refine_extracted_data(extracted_text, flatten = True)\n",
    "dfs = object.merge_and_select_data(final_text,select=True, map = True)\n",
    "Helper.quick_json_dump(dfs, object.JSONPATH)"
   ]
  },
  {
   "cell_type": "code",
   "execution_count": 42,
   "metadata": {},
   "outputs": [
    {
     "name": "stdout",
     "output_type": "stream",
     "text": [
      "baroda bnp paribas\n",
      "baroda bnp paribas\n",
      "baroda bnp paribas mid\n",
      "baroda bnp paribas\n",
      "baroda bnp paribas\n",
      "baroda bnp paribas\n",
      "baroda bnp paribas\n",
      "baroda bnp paribas\n",
      "baroda bnp paribas\n",
      "baroda bnp paribas\n",
      "baroda bnp paribas\n",
      "baroda bnp paribas\n",
      "baroda bnp paribas\n",
      "baroda bnp paribas\n",
      "baroda bnp paribas\n",
      "baroda bnp paribas\n",
      "baroda bnp paribas\n",
      "baroda bnp paribas\n",
      "baroda bnp paribas\n",
      "baroda bnp paribas\n",
      "baroda bnp paribas\n",
      "baroda bnp paribas\n",
      "baroda bnp paribas\n",
      "baroda bnp paribas\n",
      "baroda bnp paribas\n",
      "baroda bnp paribas\n",
      "baroda bnp paribas\n",
      "baroda bnp paribas\n",
      "baroda bnp paribas\n",
      "baroda bnp paribas\n",
      "baroda bnp paribas\n",
      "baroda bnp paribas\n",
      "baroda bnp paribas\n",
      "baroda bnp paribas\n",
      "baroda bnp paribas\n",
      "baroda bnp paribas gilt\n",
      "baroda bnp paribas\n",
      "baroda bnp paribas\n",
      "baroda bnp paribas\n",
      "baroda bnp paribas\n",
      "baroda bnp paribas\n",
      "baroda bnp paribas\n",
      "baroda bnp paribas\n",
      "\n",
      "Doc Saved At: C:\\Users\\Kaustubh.keny\\Projects\\office-work\\mywork-repo\\data\\output\\pdf_report.xlsx\n",
      "\n",
      "Pages to Extract: [6, 7, 8, 9, 10, 11, 12, 13, 14, 15, 16, 17, 18, 19, 20, 21, 22, 24, 25, 26, 27, 28, 29, 30, 31, 32, 33, 34, 35, 36, 37, 38, 39, 40, 41, 42, 43, 44, 45, 46, 47, 48]\n"
     ]
    }
   ],
   "source": [
    "\"\"\" BARODA BNP MAIN FILE CODE\"\"\" #Issue: lumpsum arrange date \n",
    "\n",
    "amc_name = 'Baroda BNP Paribas Mutual Fund'\n",
    "logging.info(f\"User Ran Fund Data of {amc_name}\")\n",
    "\n",
    "object = BarodaBNP(PATHS_CONFIG,amc_name)\n",
    "path = mutual_fund[amc_name]\n",
    "\n",
    "path, df = object.check_and_highlight(path, 7)"
   ]
  },
  {
   "cell_type": "code",
   "execution_count": 43,
   "metadata": {},
   "outputs": [],
   "source": [
    "title= object.get_proper_fund_names(path)\n",
    "title = {k:v for k,v in title.items() if k <49}\n",
    "pages = list(title.keys())"
   ]
  },
  {
   "cell_type": "code",
   "execution_count": null,
   "metadata": {},
   "outputs": [],
   "source": [
    "data  = object.get_data(path,pages,title)\n",
    "extracted_text = object.get_generated_content(data)"
   ]
  },
  {
   "cell_type": "code",
   "execution_count": null,
   "metadata": {},
   "outputs": [],
   "source": [
    "final_text = object.refine_extracted_data(extracted_text, flatten = True)\n",
    "dfs = object.merge_and_select_data(final_text, select = True, map = True)\n",
    "Helper.quick_json_dump(dfs, object.JSONPATH)"
   ]
  },
  {
   "cell_type": "code",
   "execution_count": null,
   "metadata": {},
   "outputs": [],
   "source": [
    "\"\"\"BANK OF INDIA\"\"\" #Regex\n",
    "\n",
    "amc_name = 'Bank of India Mutual Fund'\n",
    "logging.info(f\"User Ran Fund Data of {amc_name}\")\n",
    "\n",
    "object = BankOfIndia(PATHS_CONFIG,amc_name)\n",
    "path = mutual_fund[amc_name]\n",
    "\n",
    "path, df= object.check_and_highlight(path, 7)"
   ]
  },
  {
   "cell_type": "code",
   "execution_count": 21,
   "metadata": {},
   "outputs": [],
   "source": [
    "title = df.title.to_dict()\n",
    "pages =[6, 7, 8, 9, 10, 11, 12, 13, 14, 15, 16, 17, 18, 19, 20, 21, 22, 23, 24]"
   ]
  },
  {
   "cell_type": "code",
   "execution_count": null,
   "metadata": {},
   "outputs": [],
   "source": [
    "data = object.get_data(path,pages,title)\n",
    "extracted_text = object.get_generated_content(data)"
   ]
  },
  {
   "cell_type": "code",
   "execution_count": null,
   "metadata": {},
   "outputs": [],
   "source": [
    "object = BankOfIndia(PATHS_CONFIG,amc_name)\n",
    "final_text = object.refine_extracted_data(extracted_text)\n",
    "dfs = object.merge_and_select_data(final_text,select = True, map = True)\n",
    "Helper.quick_json_dump(extracted_text, object.JSONPATH)"
   ]
  },
  {
   "cell_type": "code",
   "execution_count": 5,
   "metadata": {},
   "outputs": [
    {
     "name": "stdout",
     "output_type": "stream",
     "text": [
      "bajaj finserv large cap fund\n",
      "bajaj finserv flexi cap fund\n",
      "bajaj finserv flexi cap fund\n",
      "bajaj finserv large and mid cap fund\n",
      "bajaj finserv consumption fund\n",
      "bajaj finserv healthcare fund\n",
      "bajaj finserv balanced advantage fund\n",
      "bajaj finserv multi asset allocation fund\n",
      "bajaj finserv arbitrage fund\n",
      "bajaj finserv liquid fund\n",
      "bajaj finserv money market fund\n",
      "bajaj finserv gilt fund\n",
      "bajaj finserv overnight fund\n",
      "bajaj finserv banking and psu fund\n",
      "bajaj finserv nifty 50 etf\n",
      "bajaj finserv nifty bank etf\n",
      "bajaj finserv nifty 1d rate liquid etf - growth\n",
      "\n",
      "Doc Saved At: C:\\Users\\Kaustubh.keny\\Projects\\office-work\\mywork-repo\\data\\output\\pdf_report.xlsx\n",
      "\n",
      "Pages to Extract: [17, 19, 21, 23, 25, 26, 28, 30, 31, 32, 33, 34, 35, 36, 37, 38]\n"
     ]
    }
   ],
   "source": [
    "\"\"\"BAJAJ FINSERV MAIN FILE CODE\"\"\" #manager regex robust\n",
    "\n",
    "amc_name = 'Bajaj finserv Mutual Fund'\n",
    "logging.info(f\"User Ran Fund Data of {amc_name}\")\n",
    "\n",
    "object = BajajFinServ(PATHS_CONFIG,amc_name)\n",
    "path = mutual_fund[amc_name]\n",
    "\n",
    "path, df = object.check_and_highlight(path, 7)"
   ]
  },
  {
   "cell_type": "code",
   "execution_count": 6,
   "metadata": {},
   "outputs": [],
   "source": [
    "pages = [17, 19, 21, 23, 25, 26, 28, 30, 31, 32, 33, 34, 35, 36, 37, 38]\n",
    "title = df.title.to_dict()"
   ]
  },
  {
   "cell_type": "code",
   "execution_count": null,
   "metadata": {},
   "outputs": [],
   "source": [
    "data = object.get_data(path,pages,title)\n",
    "extracted_text = object.get_generated_content(data)"
   ]
  },
  {
   "cell_type": "code",
   "execution_count": 8,
   "metadata": {},
   "outputs": [
    {
     "name": "stdout",
     "output_type": "stream",
     "text": [
      "\n",
      " JSON saved at C:\\Users\\Kaustubh.keny\\Projects\\office-work\\mywork-repo\\data\\output\\dump_bajaj_17_13.json\n"
     ]
    }
   ],
   "source": [
    "final_text = object.refine_extracted_data(extracted_text, flatten = True)\n",
    "dfs = object.merge_and_select_data(final_text, select=True,map = True)\n",
    "Helper.quick_json_dump(dfs, object.JSONPATH)"
   ]
  },
  {
   "cell_type": "code",
   "execution_count": null,
   "metadata": {},
   "outputs": [],
   "source": [
    "\"\"\"*CANARA MUTUAL FUND\"\"\" \n",
    "\n",
    "amc_name = 'Canara Robeco Mutual Fund'\n",
    "logging.info(f\"User Ran Fund Data of {amc_name}\")\n",
    "\n",
    "object = Canara(PATHS_CONFIG,amc_name)\n",
    "path = mutual_fund[amc_name]\n",
    "\n",
    "path, df = object.check_and_highlight(path, 7)"
   ]
  },
  {
   "cell_type": "code",
   "execution_count": 27,
   "metadata": {},
   "outputs": [],
   "source": [
    "pages = [8, 9, 10, 11, 12, 13, 14, 15, 16, 17, 18, 19, 20, 21, 22, 23, 24, 25, 26, 27, 28, 29, 30, 31, 32]\n",
    "title = df.title.to_dict()"
   ]
  },
  {
   "cell_type": "code",
   "execution_count": 233,
   "metadata": {},
   "outputs": [],
   "source": [
    "object = Canara(PATHS_CONFIG,amc_name)"
   ]
  },
  {
   "cell_type": "code",
   "execution_count": null,
   "metadata": {},
   "outputs": [],
   "source": [
    "data = object.get_data(path,pages,title)\n",
    "extracted_text = object.get_generated_content(data)"
   ]
  },
  {
   "cell_type": "code",
   "execution_count": 29,
   "metadata": {},
   "outputs": [
    {
     "name": "stdout",
     "output_type": "stream",
     "text": [
      "\n",
      " JSON saved at C:\\Users\\Kaustubh.keny\\Projects\\office-work\\mywork-repo\\data\\output\\dump_canara_09_13.json\n"
     ]
    }
   ],
   "source": [
    "Helper.quick_json_dump(extracted_text, object.JSONPATH)"
   ]
  },
  {
   "cell_type": "code",
   "execution_count": null,
   "metadata": {},
   "outputs": [],
   "source": [
    "final_text = object.refine_extracted_data(extracted_text, flatten = True)\n",
    "dfs = object.merge_and_select_data(final_text,select = True,map = True, special = True)\n",
    "Helper.quick_json_dump(dfs, object.JSONPATH)"
   ]
  },
  {
   "cell_type": "code",
   "execution_count": null,
   "metadata": {},
   "outputs": [],
   "source": [
    "for fund, content in df.items():\n",
    "    name = r\"(?:Mr\\.?|Mrs\\.?|Ms\\.?)\\s+([A-Z][a-z]+\\s[A-Z][a-z]+)\"\n",
    "    exp = r\"\\b\\d+\\s*Years?\\b\"\n",
    "    since = r\"\\bSince\\s*([0-9]+\\s*-\\s*[A-Za-z]+\\.?\\s*-\\s*[0-9]+)\\b\"\n",
    "    nsample, msample, esample = [], [], []\n",
    "    nlength = 0\n",
    "    if check in content:\n",
    "        value = \" \".join(content[check].values())\n",
    "        nsample = re.findall(name, value, re.IGNORECASE)\n",
    "        esample = re.findall(exp, value, re.IGNORECASE)\n",
    "        msample = re.findall(since, value, re.IGNORECASE)\n",
    "        nlength = len(nsample)\n",
    "        msample += [\"\"] * (nlength - len(msample))\n",
    "        esample += [\"\"] * (nlength - len(esample))\n",
    "        final_list = [\n",
    "            {\n",
    "            \"managing_fund_since\":m,\n",
    "            \"name\": n,\n",
    "            \"qualification\": \"\",\n",
    "            \"total_exp\":e\n",
    "        }\n",
    "            for n, m, e in zip(nsample, msample, esample)\n",
    "        ]\n",
    "        \n",
    "        print(final_list)\n"
   ]
  },
  {
   "cell_type": "code",
   "execution_count": null,
   "metadata": {},
   "outputs": [],
   "source": [
    "\"\"\"*DSP MAIN FILE CODE\"\"\" #Issue: highlight count must be lower\n",
    "#Issue: data on both side ends so issue coming\n",
    "\n",
    "amc_name = 'DSP Mutual Fund'\n",
    "logging.info(f\"User Ran Fund Data of {amc_name}\")\n",
    "\n",
    "object = DSP(PATHS_CONFIG,amc_name)\n",
    "path = mutual_fund['DSP Mutual Fund']\n",
    "\n",
    "path, df = object.check_and_highlight(path, 5)"
   ]
  },
  {
   "cell_type": "code",
   "execution_count": 31,
   "metadata": {},
   "outputs": [],
   "source": [
    "title = df.title.to_dict()\n",
    "object = DSP(PATHS_CONFIG,amc_name)\n",
    "pages = [1, 2, 3, 4, 5, 6, 7, 8, 9, 10, 11, 12, 13, 14, 15, 16, 17, 18, 19, 20, 21, 23, 24, 25, 26, 27, 28, 29, 30, 31, 32, 33, 34, 35, 36, 37, 38, 39, 40, 41, 42, 43, 44, 45, 46, 47, 48, 49, 50, 51, 52, 53, 54, 55, 56, 57, 58, 59, 60, 61, 62, 63, 64, 65, 66, 67]"
   ]
  },
  {
   "cell_type": "code",
   "execution_count": null,
   "metadata": {},
   "outputs": [],
   "source": [
    "data = object.get_data(path,pages,title)\n",
    "extracted_text = object.get_generated_content(data)"
   ]
  },
  {
   "cell_type": "code",
   "execution_count": null,
   "metadata": {},
   "outputs": [],
   "source": [
    "final_text = object.refine_extracted_data(extracted_text,flatten = True)\n",
    "dfs = object.merge_and_select_data(final_text,select = True,map = True)\n",
    "Helper.quick_json_dump(dfs,object.JSONPATH)"
   ]
  },
  {
   "cell_type": "code",
   "execution_count": null,
   "metadata": {},
   "outputs": [],
   "source": [
    "\"\"\"EDELWEISS MP FILE MAIN CODE\"\"\" #Issues: objective in seperate dict,#metrics are weird, scheme launch date issue\n",
    "\n",
    "amc_name = 'Edelweiss Mutual Fund'\n",
    "logging.info(f\"User Ran Fund Data of {amc_name}\")\n",
    "\n",
    "object = Edelweiss(PATHS_CONFIG,amc_name)\n",
    "path = mutual_fund[amc_name]\n",
    "\n",
    "path, df = object.check_and_highlight(path, 6)\n"
   ]
  },
  {
   "cell_type": "code",
   "execution_count": 38,
   "metadata": {},
   "outputs": [],
   "source": [
    "pages = [7, 8, 9, 10, 11, 12, 13, 14, 15, 16, 17, 18, 19, 20, 21, 22, 23, 24, 25, 26, 27, 28, 29, 30, 37, 38, 39, 40, 41, 42, 43, 44, 45, 46, 47, 48, 49, 50, 51, 52, 53, 54, 55, 56, 57, 58, 59, 60, 61, 62, 63, 64, 65, 66, 67, 68, 69, 70, 71, 72]\n",
    "title,objectives = object.get_proper_fund_names(path,pages)"
   ]
  },
  {
   "cell_type": "code",
   "execution_count": null,
   "metadata": {},
   "outputs": [],
   "source": [
    "data = object.get_data(path,pages,title)\n",
    "extracted_text = object.get_generated_content(data)"
   ]
  },
  {
   "cell_type": "code",
   "execution_count": 41,
   "metadata": {},
   "outputs": [
    {
     "name": "stdout",
     "output_type": "stream",
     "text": [
      "\n",
      " JSON saved at C:\\Users\\Kaustubh.keny\\Projects\\office-work\\mywork-repo\\data\\output\\dump_Edelweiss_09_24.json\n"
     ]
    }
   ],
   "source": [
    "final_text = object.refine_extracted_data(extracted_text, flatten = True)\n",
    "dfs = object.merge_and_select_data(final_text, select = True, map = True)\n",
    "Helper.quick_json_dump(dfs, object.JSONPATH)"
   ]
  },
  {
   "cell_type": "code",
   "execution_count": null,
   "metadata": {},
   "outputs": [],
   "source": [
    "\"\"\"FRANKLIN TEMPLETON FILE MAIN CODE\"\"\"\n",
    "\n",
    "amc_name = \"Franklin Templeton Mutual Fund\"\n",
    "logging.info(f\"User Ran Fund Data of {amc_name}\")\n",
    "\n",
    "object = FranklinTempleton(PATHS_CONFIG,amc_name)\n",
    "path = mutual_fund[amc_name]\n",
    "\n",
    "path, df = object.check_and_highlight(path, 6)"
   ]
  },
  {
   "cell_type": "code",
   "execution_count": null,
   "metadata": {},
   "outputs": [],
   "source": [
    "title = df.title.to_dict()\n",
    "pages = [17, 18, 19, 20, 21, 22, 23, 24, 25, 26, 27, 28, 29, 30, 31, 32, 33, 34, 35, 36, 37, 38, 39, 40, 41, 42, 43, 44, 45, 46, 47, 48, 49, 50]\n",
    "data = object.get_data(path,pages,title)\n",
    "extracted_text = object.get_generated_content(data)"
   ]
  },
  {
   "cell_type": "code",
   "execution_count": null,
   "metadata": {},
   "outputs": [
    {
     "name": "stdout",
     "output_type": "stream",
     "text": [
      "\n",
      " JSON saved at C:\\Users\\Kaustubh.keny\\OneDrive - Cogencis Information Services Ltd\\Documents\\mywork-repo\\data\\output\\dump_franklin_16_54.json\n"
     ]
    }
   ],
   "source": [
    "final_text = object.refine_extracted_data(extracted_text, flatten = True)\n",
    "dfs = object.merge_and_select_data(final_text,select = True,map = True)\n",
    "Helper.quick_json_dump(dfs, object.JSONPATH)"
   ]
  },
  {
   "cell_type": "code",
   "execution_count": null,
   "metadata": {},
   "outputs": [],
   "source": [
    "\"\"\"GROWW MUTUAL FUND MAIN CODE\"\"\"\n",
    "\n",
    "amc_name = \"Groww Mutual Fund\"\n",
    "logging.info(f\"User Ran Fund Data of {amc_name}\")\n",
    "\n",
    "object = GROWW(PATHS_CONFIG,amc_name)\n",
    "path = mutual_fund[amc_name]\n",
    "\n",
    "path, df = object.check_and_highlight(path,5)"
   ]
  },
  {
   "cell_type": "code",
   "execution_count": null,
   "metadata": {},
   "outputs": [],
   "source": [
    "title = df.title.to_dict()\n",
    "title = { k:f\"groww {v}\" for k,v in title.items()}"
   ]
  },
  {
   "cell_type": "code",
   "execution_count": 119,
   "metadata": {},
   "outputs": [],
   "source": [
    "# title = df.title.to_dict()\n",
    "pages = [13, 14, 15, 16, 17, 18, 19, 20, 21, 22, 23, 24, 26, 28, 29, 30, 32, 33, 34, 35, 36, 37, 38, 39, 40, 41, 42]"
   ]
  },
  {
   "cell_type": "code",
   "execution_count": null,
   "metadata": {},
   "outputs": [],
   "source": [
    "data = object.get_data(path,pages,title)\n",
    "extracted_text = object.get_generated_content(data)"
   ]
  },
  {
   "cell_type": "code",
   "execution_count": 122,
   "metadata": {},
   "outputs": [
    {
     "name": "stdout",
     "output_type": "stream",
     "text": [
      "\n",
      " JSON saved at C:\\Users\\Kaustubh.keny\\Projects\\office-work\\mywork-repo\\data\\output\\dump_groww_12_14.json\n"
     ]
    }
   ],
   "source": [
    "Helper.quick_json_dump(extracted_text,object.JSONPATH)"
   ]
  },
  {
   "cell_type": "code",
   "execution_count": 121,
   "metadata": {},
   "outputs": [
    {
     "name": "stdout",
     "output_type": "stream",
     "text": [
      "\n",
      " JSON saved at C:\\Users\\Kaustubh.keny\\Projects\\office-work\\mywork-repo\\data\\output\\dump_groww_12_13.json\n"
     ]
    }
   ],
   "source": [
    "final_text = object.refine_extracted_data(extracted_text, flatten = True)\n",
    "dfs = object.merge_and_select_data(final_text,select = True, map = True)\n",
    "Helper.quick_json_dump(dfs,object.JSONPATH)"
   ]
  },
  {
   "cell_type": "code",
   "execution_count": null,
   "metadata": {},
   "outputs": [],
   "source": [
    "\"\"\"HDFC MUTUAL FUND\"\"\"\n",
    "amc_name = \"HDFC Mutual Fund\"\n",
    "logging.info(f\"User Ran Fund Data of {amc_name}\")\n",
    "\n",
    "object = HDFC(PATHS_CONFIG,amc_name)\n",
    "path = mutual_fund[amc_name]\n",
    "\n",
    "path, df = object.check_and_highlight(path,7)"
   ]
  },
  {
   "cell_type": "code",
   "execution_count": 129,
   "metadata": {},
   "outputs": [],
   "source": [
    "pages = [5, 6, 8, 10, 11, 12, 13, 14, 15, 16, 17, 18, 19, 20, 21, 22, 23, 24, 25, 26, 27, 28, 29, 30, 31, 32, 33, 34, 35, 36, 37, 38, 39, 40, 41, 42, 43, 44, 45, 46, 47, 48, 49, 50, 51]\n",
    "title= df.title.to_dict()"
   ]
  },
  {
   "cell_type": "code",
   "execution_count": null,
   "metadata": {},
   "outputs": [],
   "source": [
    "data = object.get_data(path,pages,title)\n",
    "extracted_text = object.get_generated_content(data)"
   ]
  },
  {
   "cell_type": "code",
   "execution_count": 134,
   "metadata": {},
   "outputs": [
    {
     "name": "stdout",
     "output_type": "stream",
     "text": [
      "\n",
      " JSON saved at C:\\Users\\Kaustubh.keny\\Projects\\office-work\\mywork-repo\\data\\output\\dump_hdfc_12_45.json\n"
     ]
    }
   ],
   "source": [
    "object = HDFC(PATHS_CONFIG,amc_name)\n",
    "final_text = object.refine_extracted_data(extracted_text,flatten = True)\n",
    "dfs = object.merge_and_select_data(final_text, select = True,map = True)\n",
    "Helper.quick_json_dump(dfs,object.JSONPATH)"
   ]
  },
  {
   "cell_type": "code",
   "execution_count": null,
   "metadata": {},
   "outputs": [],
   "source": [
    "\"\"\"HELIOS MF FILE MAIN CODE\"\"\" \n",
    "\n",
    "amc_name = 'Helios Mutual Fund'\n",
    "logging.info(f\"User Ran Fund Data of {amc_name}\")\n",
    "\n",
    "object = Helios(PATHS_CONFIG,amc_name)\n",
    "path = mutual_fund[amc_name]\n",
    "\n",
    "path, df = object.check_and_highlight(path,6)"
   ]
  },
  {
   "cell_type": "code",
   "execution_count": null,
   "metadata": {},
   "outputs": [],
   "source": [
    "title = df.title.to_dict()\n",
    "pages =   [2, 4, 6, 8,10]\n",
    "data = object.get_data(path,pages,title)\n",
    "extracted_text = object.get_generated_content(data)"
   ]
  },
  {
   "cell_type": "code",
   "execution_count": null,
   "metadata": {},
   "outputs": [],
   "source": [
    "final_text = object.refine_extracted_data(extracted_text, flatten=True)\n",
    "dfs = object.merge_and_select_data(final_text,select= True,map = True)\n",
    "# Helper.quick_json_dump(dfs,object.JSONPATH)"
   ]
  },
  {
   "cell_type": "code",
   "execution_count": null,
   "metadata": {},
   "outputs": [],
   "source": [
    "\"\"\" ICICI MF MAIN FILE CODE\"\"\" #Issue: two fund on same page\n",
    "\n",
    "amc_name = \"ICICI Prudential Mutual Fund\"\n",
    "logging.info(f\"User Ran Fund Data of {amc_name}\")\n",
    "object = ICICI(PATHS_CONFIG,amc_name)\n",
    "path = mutual_fund[amc_name]\n",
    "\n",
    "path,df = object.check_and_highlight(path, 7)"
   ]
  },
  {
   "cell_type": "code",
   "execution_count": null,
   "metadata": {},
   "outputs": [],
   "source": [
    "title = df.title.to_dict()\n",
    "pages = [8, 9, 11, 13, 15, 16, 17, 18, 19, 20, 21, 22, 23, 24, 25, 27, 28, 29, 30, 31, 32, 33, 34, 35, 36, 37, 39, 40, 41, 42, 43, 44, 46, 47, 49, 51, 53, 55, 56, 58, 59, 60, 62, 64, 65, 66, 67, 68, 69, 71, 72, 74, 75, 77, 78, 80]"
   ]
  },
  {
   "cell_type": "code",
   "execution_count": null,
   "metadata": {},
   "outputs": [],
   "source": []
  },
  {
   "cell_type": "code",
   "execution_count": null,
   "metadata": {},
   "outputs": [],
   "source": []
  },
  {
   "cell_type": "code",
   "execution_count": null,
   "metadata": {},
   "outputs": [],
   "source": [
    "\"\"\" INVESCO MF MAIN FILE CODE\"\"\" #Issue: two fund on same page\n",
    "\n",
    "amc_name = 'Invesco Mutual Fund'\n",
    "logging.info(f\"User Ran Fund Data of {amc_name}\")\n",
    "object = Invesco(PATHS_CONFIG,amc_name)\n",
    "path = mutual_fund[amc_name]\n",
    "\n",
    "path,df = object.check_and_highlight(path, 7)"
   ]
  },
  {
   "cell_type": "code",
   "execution_count": null,
   "metadata": {},
   "outputs": [],
   "source": [
    "title = df.title.to_dict()\n",
    "pages = [4, 5, 6, 7, 8, 9, 10, 11, 12, 13, 14, 15, 16, 17, 18, 19, 21, 22, 23, 24, 25, 26, 27, 28, 29, 30, 31, 32, 33, 34, 35, 36, 37, 38, 39, 40, 41, 42, 43]\n",
    "data = object.get_data(path,pages,title)\n",
    "extracted_text = object.get_generated_content(data)"
   ]
  },
  {
   "cell_type": "code",
   "execution_count": null,
   "metadata": {},
   "outputs": [],
   "source": [
    "object = Invesco(PATHS_CONFIG,amc_name)\n",
    "final_text = object.refine_extracted_data(extracted_text)\n",
    "dfs = object.merge_and_select_data(final_text,select = True,map = True)\n",
    "Helper.quick_json_dump(dfs, object.JSONPATH)"
   ]
  },
  {
   "cell_type": "code",
   "execution_count": null,
   "metadata": {},
   "outputs": [],
   "source": [
    "\"\"\"ITI MAIN FILE CODE\"\"\" #Issues: more data cleaning\n",
    "\n",
    "amc_name = 'ITI Mutual Fund'\n",
    "logging.info(f\"User Ran Fund Data of {amc_name}\")\n",
    "object = ITI(PATHS_CONFIG,amc_name)\n",
    "path = mutual_fund[amc_name]\n",
    "path, df = object.check_and_highlight(path, 8)"
   ]
  },
  {
   "cell_type": "code",
   "execution_count": 156,
   "metadata": {},
   "outputs": [],
   "source": [
    "title = df.title.to_dict()\n",
    "pages = [9, 10, 11, 12, 13, 14, 15, 16, 17, 18, 19, 20, 21, 22, 23, 24, 25, 26]"
   ]
  },
  {
   "cell_type": "code",
   "execution_count": null,
   "metadata": {},
   "outputs": [],
   "source": [
    "data = object.get_data(path,pages,title)\n",
    "extracted_text = object.get_generated_content(data)"
   ]
  },
  {
   "cell_type": "code",
   "execution_count": null,
   "metadata": {},
   "outputs": [],
   "source": [
    "object = ITI(PATHS_CONFIG,amc_name)\n",
    "final_text = object.refine_extracted_data(extracted_text,flatten = True)\n",
    "dfs= object.merge_and_select_data(final_text,select = True,map = True)\n",
    "Helper.quick_json_dump(dfs, object.JSONPATH)"
   ]
  },
  {
   "cell_type": "code",
   "execution_count": null,
   "metadata": {},
   "outputs": [],
   "source": [
    "\"\"\"JM FUND MAIN FILE CODE\"\"\" #objective on left, sometimes date is with header\n",
    "#overlapppp\n",
    "\n",
    "amc_name = 'JM Financial Mutual Fund'\n",
    "logging.info(f\"User Ran Fund Data of {amc_name}\")\n",
    "\n",
    "object = JMMF(PATHS_CONFIG,amc_name)\n",
    "path = mutual_fund[amc_name]\n",
    "\n",
    "path, df = object.check_and_highlight(path, 7)"
   ]
  },
  {
   "cell_type": "code",
   "execution_count": null,
   "metadata": {},
   "outputs": [],
   "source": [
    "title = df.title.to_dict()\n",
    "pages = [18, 19, 20, 21, 22, 23, 24, 25, 26, 27, 28, 29, 30, 31, 32, 33]\n",
    "data = object.get_data(path,pages,title)\n",
    "extracted_text = object.get_generated_content(data)"
   ]
  },
  {
   "cell_type": "code",
   "execution_count": null,
   "metadata": {},
   "outputs": [],
   "source": [
    "Helper.quick_json_dump(extracted_text, object.JSONPATH)"
   ]
  },
  {
   "cell_type": "code",
   "execution_count": null,
   "metadata": {},
   "outputs": [],
   "source": [
    "object = JMMF(PATHS_CONFIG,amc_name)\n",
    "final_text = object.refine_extracted_data(extracted_text, flatten = True)\n",
    "dfs = object.merge_and_select_data(final_text,select = True, map = True)\n",
    "Helper.quick_json_dump(final_text, object.JSONPATH)"
   ]
  },
  {
   "cell_type": "code",
   "execution_count": null,
   "metadata": {},
   "outputs": [],
   "source": [
    "pattern = \"(?:Mr\\\\.?|Mrs\\\\.?|Ms\\\\.?)\\\\s*([\\\\w\\\\s]+)\\\\s*\\\\(Managing this Scheme since ([A-Za-z]+\\\\s*\\\\d{0,2},?\\\\s*\\\\d{4}).*?\\\\b(\\\\d+\\\\s+years|\\\\d+\\\\s+decades|more than \\\\d+\\\\s+years|around \\\\d+\\\\s+years)\\\\b\"\n",
    "for fund, content in final_text.items():\n",
    "    check = 'fund_manager'\n",
    "    if check in content:\n",
    "        all_text = \" \".join(content[check])\n",
    "        all_text =re.sub(r'[^A-Za-z0-9\\s\\-\\(\\).,]+', \"\", all_text).strip()\n",
    "        print(all_text)\n",
    "        print(re.findall(pattern,all_text, re.IGNORECASE))"
   ]
  },
  {
   "cell_type": "code",
   "execution_count": null,
   "metadata": {},
   "outputs": [],
   "source": [
    "\"\"\"KOTAK FUND MAIN CODE\"\"\" #Issue: 1 or more fund on same page, # title overlap the content\n",
    "\n",
    "amc_name = 'Kotak Mahindra Mutual Fund'\n",
    "logging.info(f\"User Ran Fund Data of {amc_name}\")\n",
    "\n",
    "object = Kotak(PATHS_CONFIG,amc_name)\n",
    "path = mutual_fund[amc_name]\n",
    "\n",
    "path, df = object.check_and_highlight(path, 7)\n"
   ]
  },
  {
   "cell_type": "code",
   "execution_count": null,
   "metadata": {},
   "outputs": [],
   "source": [
    "title = df.title.to_dict()\n",
    "pages = [5, 6, 7, 8, 9, 10, 11, 12, 13, 14, 15, 16, 17, 18, 19, 20, 21, 22, 23, 24, 25, 26, 27, 28, 29, 30, 32, 34, 36, 37, 38, 40, 41, 43, 44, 46, 48, 49, 50, 52, 54, 55, 56, 69, 70, 71, 72, 73, 74, 75, 76, 77, 78, 79, 80, 81, 82, 83, 84, 85, 86, 87, 88, 89, 90, 91, 92, 93, 94, 95, 96, 97, 98, 99, 100, 101, 102, 103, 104, 105, 106, 107, 108]\n",
    "data = object.get_data_via_clip(path,pages,title)\n",
    "extracted_text = object.get_generated_content(data)"
   ]
  },
  {
   "cell_type": "code",
   "execution_count": null,
   "metadata": {},
   "outputs": [],
   "source": [
    "object = Kotak(PATHS_CONFIG,amc_name)\n",
    "final_text = object.refine_extracted_data(extracted_text,flatten= True)\n",
    "dfs = object.merge_and_select_data(final_text, select = True, map = True)\n",
    "Helper.quick_json_dump(dfs, object.JSONPATH)"
   ]
  },
  {
   "cell_type": "code",
   "execution_count": null,
   "metadata": {},
   "outputs": [],
   "source": [
    "\"\"\"LIC FUND MAIN CODE\"\"\" #issue: OCR for title bcz they're images\n",
    "amc_name = 'LIC Mutual Fund'\n",
    "logging.info(f\"User Ran Fund Data of {amc_name}\")\n",
    "\n",
    "object = LIC(PATHS_CONFIG,amc_name)\n",
    "path = mutual_fund[amc_name]\n",
    "path,df = object.check_and_highlight(path, 7)"
   ]
  },
  {
   "cell_type": "code",
   "execution_count": null,
   "metadata": {},
   "outputs": [],
   "source": [
    "title = object.get_proper_fund_names(path) #use generated in try.ipynb\n",
    "pages = list(title.keys())"
   ]
  },
  {
   "cell_type": "code",
   "execution_count": null,
   "metadata": {},
   "outputs": [],
   "source": [
    "data = object.get_data(path,pages,title)\n",
    "extracted_text = object.get_generated_content(data)"
   ]
  },
  {
   "cell_type": "code",
   "execution_count": 252,
   "metadata": {},
   "outputs": [
    {
     "name": "stdout",
     "output_type": "stream",
     "text": [
      "\n",
      " JSON saved at C:\\Users\\Kaustubh.keny\\Projects\\office-work\\mywork-repo\\data\\output\\dump_LIC_16_55.json\n"
     ]
    }
   ],
   "source": [
    "object = LIC(PATHS_CONFIG,amc_name)\n",
    "final_text = object.refine_extracted_data(extracted_text, flatten = True)\n",
    "dfs = object.merge_and_select_data(final_text,select = True, map = True)\n",
    "Helper.quick_json_dump(dfs, object.JSONPATH)"
   ]
  },
  {
   "cell_type": "code",
   "execution_count": null,
   "metadata": {},
   "outputs": [],
   "source": [
    "\"\"\"MAHINDRA MANULIFE MAIN CODE\"\"\" #incrase pages count\n",
    "\n",
    "amc_name = 'Mahindra Manulife Mutual Fund'\n",
    "logging.info(f\"User Ran Fund Data of {amc_name}\")\n",
    "\n",
    "object = MahindraManu(PATHS_CONFIG,amc_name)\n",
    "path = mutual_fund[amc_name]\n",
    "\n",
    "path,df = object.check_and_highlight(path, 7)"
   ]
  },
  {
   "cell_type": "code",
   "execution_count": null,
   "metadata": {},
   "outputs": [],
   "source": [
    "title = object.get_proper_fund_names(path)\n",
    "pages = list(title.keys())\n",
    "\n",
    "data = object.get_data(path,pages,title)\n",
    "extracted_text = object.get_generated_content(data)"
   ]
  },
  {
   "cell_type": "code",
   "execution_count": null,
   "metadata": {},
   "outputs": [],
   "source": [
    "final_text = object.refine_extracted_data(extracted_text, flatten =True)\n",
    "dfs = object.merge_and_select_data(final_text,select = True, map = True)\n",
    "Helper.quick_json_dump(dfs, object.JSONPATH)"
   ]
  },
  {
   "cell_type": "code",
   "execution_count": 3,
   "metadata": {},
   "outputs": [
    {
     "name": "stdout",
     "output_type": "stream",
     "text": [
      "motilal oswal nasdaq 100 fund of fund\n",
      "motilal oswal nifty 500 index fund\n",
      "motilal oswal nifty midcap 150 index fund\n",
      "motilal oswal nifty smallcap 250 index fund\n",
      "motilal oswal nifty bank index fund\n",
      "motilal oswal nifty 50 index fund\n",
      "motilal oswal nifty next 50 index fund\n",
      "motilal oswal s&p 500 index fund\n",
      "motilal oswal nifty 50 etf\n",
      "motilal oswal nifty midcap 100 etf\n",
      "motilal oswal nasdaq 100 etf\n",
      "motilal oswal nifty 5 year benchmark g-sec etf\n",
      "motilal oswal 5 year g-sec fund of fund\n",
      "motilal oswal nasdaq q 50 etf\n",
      "motilal oswal nifty 200 momentum 30 etf\n",
      "motilal oswal nifty 200 momentum 30 index fund\n",
      "motilal oswal bse low volatility index fund\n",
      "motilal oswal bse low volatility etf\n",
      "motilal oswal bse financials ex bank 30 index fund\n",
      "motilal oswal bse healthcare etf\n",
      "motilal oswal bse enhanced value index fund\n",
      "motilal oswal bse enhanced value etf\n",
      "motilal oswal bse quality index fund\n",
      "motilal oswal bse quality etf\n",
      "motilal oswal gold and silver etfs fund of funds\n",
      "motilal oswal nifty microcap 250 index fund\n",
      "motilal oswal developed market ex us etf's fund of funds\n",
      "motilal oswal nifty 500 etf\n",
      "motilal oswal nifty realty etf\n",
      "motilal oswal nifty smallcap 250 etf\n",
      "motilal oswal nifty india defence index fund\n",
      "motilal oswal nifty india defence etf\n",
      "motilal oswal nifty 500 momentum 50 index fund\n",
      "motilal oswal nifty 500 momentum 50 etf\n",
      "motilal oswal nifty midsmall healthcare index fund\n",
      "motilal oswal nifty midsmall india consumption index fund\n",
      "motilal oswal nifty midsmall financial services index fund\n",
      "motilal oswal nifty midsmall it and telecom index fund\n",
      "motilal oswal nifty capital market index fund\n",
      "\n",
      "Doc Saved At: C:\\Users\\Kaustubh.keny\\Projects\\office-work\\mywork-repo\\data\\output\\pdf_report.xlsx\n",
      "\n",
      "Pages to Extract: [3, 4, 5, 6, 7, 8, 9, 10, 11, 12, 13, 14, 15, 18, 19, 20, 21, 22, 23, 24, 25, 26, 27, 28, 29, 30, 31, 32, 33, 34, 35, 36, 37, 38, 39, 40, 41, 42, 43]\n"
     ]
    }
   ],
   "source": [
    "\"\"\"MOTILAL OSWAL MAIN CODE FILE\"\"\" #Fund Manager Regex\n",
    "\n",
    "amc_name = 'Motilal Oswal Mutual Fund'\n",
    "logging.info(f\"User Ran Fund Data of {amc_name}\")\n",
    "\n",
    "object = MotilalOswal(PATHS_CONFIG,amc_name)\n",
    "path = mutual_fund[amc_name]\n",
    "\n",
    "path,df= object.check_and_highlight(path, 7)"
   ]
  },
  {
   "cell_type": "code",
   "execution_count": 228,
   "metadata": {},
   "outputs": [],
   "source": [
    "object = MotilalOswal(PATHS_CONFIG,amc_name)"
   ]
  },
  {
   "cell_type": "code",
   "execution_count": 25,
   "metadata": {},
   "outputs": [],
   "source": [
    "pages = [3, 4, 5, 6, 7, 8, 9, 10, 11, 12, 13, 14, 15,16,17, 18, 19, 20, 21, 22, 23, 24, 25, 26, 27, 28, 29, 30, 31, 32, 33, 34, 35, 36, 37, 38, 39, 40, 41, 42, 43]\n",
    "title = df.title.to_dict()"
   ]
  },
  {
   "cell_type": "code",
   "execution_count": null,
   "metadata": {},
   "outputs": [],
   "source": [
    "data = object.get_data(path,pages,title)\n",
    "extracted_text = object.get_generated_content(data)"
   ]
  },
  {
   "cell_type": "code",
   "execution_count": null,
   "metadata": {},
   "outputs": [],
   "source": [
    "object = MotilalOswal(PATHS_CONFIG,amc_name)\n",
    "final_text = object.refine_extracted_data(extracted_text, flatten= True)\n",
    "dfs = object.merge_and_select_data(final_text,select = True,map = True, special = True)\n",
    "Helper.quick_json_dump(dfs, object.JSONPATH)"
   ]
  },
  {
   "cell_type": "code",
   "execution_count": 12,
   "metadata": {},
   "outputs": [
    {
     "name": "stdout",
     "output_type": "stream",
     "text": [
      "\n",
      " JSON saved at C:\\Users\\Kaustubh.keny\\Projects\\office-work\\mywork-repo\\data\\output\\dump_motilal_09_47.json\n"
     ]
    }
   ],
   "source": [
    "Helper.quick_json_dump(final_text, object.JSONPATH)"
   ]
  },
  {
   "cell_type": "code",
   "execution_count": null,
   "metadata": {},
   "outputs": [],
   "source": [
    "\"\"\"MIRAE MAIN FILE CODE\"\"\"\n",
    "\n",
    "amc_name = 'Mirae Asset Mutual Fund'\n",
    "logging.info(f\"User Ran Fund Data of {amc_name}\")\n",
    "\n",
    "object = MIRAE(PATHS_CONFIG,amc_name)\n",
    "path = mutual_fund[amc_name]\n",
    "\n",
    "path, df = object.check_and_highlight(path, 7)"
   ]
  },
  {
   "cell_type": "code",
   "execution_count": null,
   "metadata": {},
   "outputs": [],
   "source": [
    "title = object.get_proper_fund_names(path)\n",
    "pages = list(title.keys())\n",
    "data = object.get_data(path,pages,title)\n",
    "extracted_text = object.get_generated_content(data)"
   ]
  },
  {
   "cell_type": "code",
   "execution_count": 240,
   "metadata": {},
   "outputs": [
    {
     "name": "stdout",
     "output_type": "stream",
     "text": [
      "\n",
      " JSON saved at C:\\Users\\Kaustubh.keny\\Projects\\office-work\\mywork-repo\\data\\output\\dump_MIRAE_16_45.json\n"
     ]
    }
   ],
   "source": [
    "final_text = object.refine_extracted_data(extracted_text, flatten=True)\n",
    "dfs = object.merge_and_select_data(final_text,select = True, map = True)\n",
    "Helper.quick_json_dump(dfs, object.JSONPATH)"
   ]
  },
  {
   "cell_type": "code",
   "execution_count": 110,
   "metadata": {},
   "outputs": [
    {
     "name": "stdout",
     "output_type": "stream",
     "text": [
      "navi niy 50 index fund\n",
      "navi us total stock market\n",
      "navi nasdaq 100\n",
      "navi niy next 50\n",
      "navi niy bank\n",
      "navi niy midcap 150\n",
      "navi niy india\n",
      "navi elss tax saver\n",
      "navi bse sensex\n",
      "navi niy it index fund\n",
      "navi niy 500 multicap 50:25:25\n",
      "\n",
      "Doc Saved At: C:\\Users\\Kaustubh.keny\\Projects\\office-work\\mywork-repo\\data\\output\\pdf_report.xlsx\n",
      "\n",
      "Pages to Extract: [2, 4, 5, 6, 8, 10, 13, 16, 18, 20, 22]\n"
     ]
    }
   ],
   "source": [
    "\"\"\"NAVI MAIN FILE CODE\"\"\" #Issue: Left and right\n",
    "\n",
    "amc_name = 'Navi Mutual Fund'\n",
    "logging.info(f\"User Ran Fund Data of {amc_name}\")\n",
    "\n",
    "object = NAVI(PATHS_CONFIG,amc_name)\n",
    "path = mutual_fund[amc_name]\n",
    "path,df = object.check_and_highlight(path,5)"
   ]
  },
  {
   "cell_type": "code",
   "execution_count": 111,
   "metadata": {},
   "outputs": [],
   "source": [
    "title = object.get_proper_fund_names(path)\n",
    "title.pop(15)\n",
    "title.pop(21)\n",
    "pages = list(title.keys()) #pop 15,21"
   ]
  },
  {
   "cell_type": "code",
   "execution_count": null,
   "metadata": {},
   "outputs": [],
   "source": [
    "data = object.get_data(path,pages,title)\n",
    "extracted_text = object.get_generated_content(data)"
   ]
  },
  {
   "cell_type": "code",
   "execution_count": null,
   "metadata": {},
   "outputs": [],
   "source": [
    "Helper.quick_json_dump(extracted_text, object.JSONPATH)"
   ]
  },
  {
   "cell_type": "code",
   "execution_count": null,
   "metadata": {},
   "outputs": [],
   "source": [
    "final_text = object.refine_extracted_data(extracted_text, flatten = True)\n",
    "dfs = object.merge_and_select_data(final_text,select = True,map = True)\n",
    "Helper.quick_json_dump(dfs, object.JSONPATH)"
   ]
  },
  {
   "cell_type": "code",
   "execution_count": null,
   "metadata": {},
   "outputs": [],
   "source": [
    "\"NIPPON MAIN FILE CODE\"\n",
    "amc_name = 'Nippon India Mutual Fund'\n",
    "logging.info(f\"User Ran Fund Data of {amc_name}\")\n",
    "\n",
    "object = Nippon(PATHS_CONFIG,amc_name)\n",
    "path = mutual_fund[amc_name]\n",
    "path, df = object.check_and_highlight(path,7)"
   ]
  },
  {
   "cell_type": "code",
   "execution_count": null,
   "metadata": {},
   "outputs": [],
   "source": [
    "pages = [4, 5, 6, 7, 8, 9, 10, 11, 12, 13, 14, 15, 16, 17, 18, 19, 20, 21, 22, 23, 24, 25, 26, 27, 28, 29, 30, 31, 32, 33, 34, 35, 36, 37, 38, 39, 40, 41, 42, 43, 44, 45, 46, 47, 48, 53, 54, 55, 56, 57, 58, 59, 62, 63, 64, 65, 66, 67, 68, 69, 70, 71, 72, 73, 74, 75, 76, 77, 78, 79, 81, 82, 83, 85, 86, 87, 88, 89, 90, 91, 92]\n",
    "title = df.title.to_dict()\n",
    "data = object.get_data(path,pages,title)\n",
    "extracted_text = object.get_generated_content(data)"
   ]
  },
  {
   "cell_type": "code",
   "execution_count": null,
   "metadata": {},
   "outputs": [],
   "source": [
    "final_text = object.refine_extracted_data(extracted_text, flatten = True)\n",
    "dfs = object.merge_and_select_data(final_text,select = True, map = True)\n",
    "Helper.quick_json_dump(dfs,object.JSONPATH)"
   ]
  },
  {
   "cell_type": "code",
   "execution_count": 194,
   "metadata": {},
   "outputs": [
    {
     "name": "stdout",
     "output_type": "stream",
     "text": [
      "nj flexi cap fund\n",
      "nj flexi cap fund\n",
      "nj elss tax saver scheme\n",
      "nj elss tax saver scheme\n",
      "nj balanced advantage fund\n",
      "nj balanced advantage fund\n",
      "nj arbitrage fund\n",
      "nj arbitrage fund\n",
      "nj overnight fund\n",
      "nj overnight fund\n",
      "\n",
      "Doc Saved At: C:\\Users\\Kaustubh.keny\\Projects\\office-work\\mywork-repo\\data\\output\\pdf_report.xlsx\n",
      "\n",
      "Pages to Extract: [1, 3, 5, 7, 9]\n"
     ]
    }
   ],
   "source": [
    "\"\"\"NJMF MAIN CODE FILE\"\"\"\n",
    "\n",
    "amc_name = 'NJ Mutual Fund'\n",
    "logging.info(f\"User Ran Fund Data of {amc_name}\")\n",
    "\n",
    "object = NJMF(PATHS_CONFIG,amc_name)\n",
    "path = mutual_fund[amc_name]\n",
    "path,df = object.check_and_highlight(path, 7)"
   ]
  },
  {
   "cell_type": "code",
   "execution_count": 195,
   "metadata": {},
   "outputs": [],
   "source": [
    "pages = [1, 3, 5, 7, 9]\n",
    "title = df.title.to_dict()"
   ]
  },
  {
   "cell_type": "code",
   "execution_count": 130,
   "metadata": {},
   "outputs": [],
   "source": [
    "object = NJMF(PATHS_CONFIG,amc_name)"
   ]
  },
  {
   "cell_type": "code",
   "execution_count": null,
   "metadata": {},
   "outputs": [],
   "source": [
    "data = object.get_data(path,pages,title)\n",
    "extracted_text = object.get_generated_content(data)"
   ]
  },
  {
   "cell_type": "code",
   "execution_count": 212,
   "metadata": {},
   "outputs": [
    {
     "name": "stdout",
     "output_type": "stream",
     "text": [
      "\n",
      " JSON saved at C:\\Users\\Kaustubh.keny\\Projects\\office-work\\mywork-repo\\data\\output\\dump_nj_15_51.json\n"
     ]
    }
   ],
   "source": [
    "Helper.quick_json_dump(extracted_text, object.JSONPATH)"
   ]
  },
  {
   "cell_type": "code",
   "execution_count": null,
   "metadata": {},
   "outputs": [],
   "source": [
    "final_text = object.refine_extracted_data(extracted_text,flatten = True)\n",
    "dfs = object.merge_and_select_data(final_text,select = True, map = True)\n",
    "Helper.quick_json_dump(dfs, object.JSONPATH)"
   ]
  },
  {
   "cell_type": "code",
   "execution_count": 209,
   "metadata": {},
   "outputs": [
    {
     "name": "stdout",
     "output_type": "stream",
     "text": [
      "nj flexi cap fund\n",
      "nj elss tax saver scheme\n",
      "nj balanced advantage fund\n",
      "nj arbitrage fund\n",
      "nj overnight fund\n"
     ]
    }
   ],
   "source": [
    "exp_pattern = r\"([\\d]+ years)\"\n",
    "since_pattern = r\"([A-Za-z]+\\s*[0-9]+,?\\s*[0-9]+)\"\n",
    "name_pattern = r\"(?:Mr\\.?|Mrs\\.?)\\s*([A-Za-z]+\\s*[A-Za-z]+)\"\n",
    "\n",
    "for fund, content in dfs.items():\n",
    "    if 'fund_manager' in content:\n",
    "        all_text = re.sub(r'[^A-Za-z0-9\\s\\-\\(\\).,]+', \"\", \" \".join(content['fund_manager'])).strip()\n",
    "        \n",
    "        names, exps, sinces = [re.findall(p, all_text, re.IGNORECASE) for p in [name_pattern, exp_pattern, since_pattern]]\n",
    "        expl = len(exps)\n",
    "        adjust = lambda lst: (lst + [lst[-1]] * (expl - len(lst)))[:expl] if lst else [\"N/A\"] * expl\n",
    "        names, sinces = map(adjust, [names, sinces])\n",
    "\n",
    "        print(fund)\n",
    "        final_list = []\n",
    "        for name, exp, since in zip(names, exps, sinces):\n",
    "            final_list.append({\n",
    "                \"managing_fund_since\": since,\n",
    "                \"name\": name,\n",
    "                \"qualification\": \"\",\n",
    "                \"total_exp\": exp\n",
    "            })\n",
    "        content['fund_manager'] = final_list\n",
    "            # print(f\"Name: {name}, Experience: {exp}, Since: {since}\")\n"
   ]
  },
  {
   "cell_type": "code",
   "execution_count": 97,
   "metadata": {},
   "outputs": [
    {
     "name": "stdout",
     "output_type": "stream",
     "text": [
      "fund\n",
      "focused equity fund\n",
      "\n",
      "Doc Saved At: C:\\Users\\Kaustubh.keny\\Projects\\office-work\\mywork-repo\\data\\output\\pdf_report.xlsx\n",
      "\n",
      "Pages to Extract: [5]\n",
      "---<<Old Bridge focused equity fund>>---\n",
      "PDF Generation Time: 0.12 sec\n",
      "PDF Extraction Time: 0.02 sec\n"
     ]
    }
   ],
   "source": [
    "\"\"\"OlD BriDGE MAIN CODE\"\"\"\n",
    "amc_name = \"Old Bridge Mutual Fund\"\n",
    "logging.info(f\"User Ran Fund Data of {amc_name}\")\n",
    "\n",
    "object = OldBridge(PATHS_CONFIG,amc_name)\n",
    "path = mutual_fund[amc_name]\n",
    "\n",
    "path,df = object.check_and_highlight(path, 7)\n",
    "title = {}\n",
    "for key, value in df.title.to_dict().items():\n",
    "    title[key] = f\"Old Bridge {value}\" if value.strip() else \"\"\n",
    "pages = [5]\n",
    "data = object.get_data(path,pages,title)\n",
    "extracted_text = object.get_generated_content(data)"
   ]
  },
  {
   "cell_type": "code",
   "execution_count": 98,
   "metadata": {},
   "outputs": [
    {
     "name": "stdout",
     "output_type": "stream",
     "text": [
      "\n",
      " JSON saved at C:\\Users\\Kaustubh.keny\\Projects\\office-work\\mywork-repo\\data\\output\\dump_Old_11_49.json\n"
     ]
    }
   ],
   "source": [
    "Helper.quick_json_dump(extracted_text, object.JSONPATH)"
   ]
  },
  {
   "cell_type": "code",
   "execution_count": null,
   "metadata": {},
   "outputs": [],
   "source": [
    "final_text = object.refine_extracted_data(extracted_text)\n",
    "Helper.quick_json_dump(final_text, object.JSONPATH)"
   ]
  },
  {
   "cell_type": "code",
   "execution_count": null,
   "metadata": {},
   "outputs": [],
   "source": [
    "\"\"\"PGIM MAIN FILE CODE\"\"\" #ISSUES: Clean data further\n",
    "\n",
    "amc_name = \"PGIM India Mutual Fund\"\n",
    "logging.info(f\"User Ran Fund Data of {amc_name}\")\n",
    "\n",
    "object = PGIM(PATHS_CONFIG,amc_name)\n",
    "path = mutual_fund[amc_name]\n",
    "\n",
    "path,df = object.check_and_highlight(path, 7)"
   ]
  },
  {
   "cell_type": "code",
   "execution_count": 214,
   "metadata": {},
   "outputs": [],
   "source": [
    "title = object.get_proper_fund_names(path)\n",
    "pages = list(title.keys())"
   ]
  },
  {
   "cell_type": "code",
   "execution_count": null,
   "metadata": {},
   "outputs": [],
   "source": [
    "data = object.get_data(path, pages,title)\n",
    "extracted_text = object.get_generated_content(data)"
   ]
  },
  {
   "cell_type": "code",
   "execution_count": 230,
   "metadata": {},
   "outputs": [
    {
     "name": "stdout",
     "output_type": "stream",
     "text": [
      "\n",
      " JSON saved at C:\\Users\\Kaustubh.keny\\Projects\\office-work\\mywork-repo\\data\\output\\dump_pgim_16_18.json\n"
     ]
    }
   ],
   "source": [
    "Helper.quick_json_dump(extracted_text, object.JSONPATH)"
   ]
  },
  {
   "cell_type": "code",
   "execution_count": null,
   "metadata": {},
   "outputs": [],
   "source": [
    "pattern = \"(.+?(?:Index|TRI|Composite|Benchmark))\\\\s*(?=Option)\"\n",
    "for fund, content in dfs.items():\n",
    "    check = 'benchmark_index'\n",
    "    if check in content:\n",
    "        all_text = \"\".join(content[check]) if isinstance(content[check], str) else \"\"\n",
    "        all_text =re.sub(r'[^A-Za-z0-9\\s\\-\\(\\).,]+', \"\", all_text).strip()\n",
    "        print(all_text)\n",
    "        if matches:= re.findall(pattern,all_text, re.IGNORECASE):\n",
    "            print(matches)"
   ]
  },
  {
   "cell_type": "code",
   "execution_count": 229,
   "metadata": {},
   "outputs": [
    {
     "name": "stdout",
     "output_type": "stream",
     "text": [
      "\n",
      " JSON saved at C:\\Users\\Kaustubh.keny\\Projects\\office-work\\mywork-repo\\data\\output\\dump_pgim_16_17.json\n"
     ]
    }
   ],
   "source": [
    "object = PGIM(PATHS_CONFIG,amc_name)\n",
    "final_text = object.refine_extracted_data(extracted_text, flatten = True)\n",
    "dfs = object.merge_and_select_data(final_text,select = True,map= True)\n",
    "Helper.quick_json_dump(dfs, object.JSONPATH)"
   ]
  },
  {
   "cell_type": "code",
   "execution_count": null,
   "metadata": {},
   "outputs": [],
   "source": [
    "\"\"\"QUANT MAIN CODE FILE\"\"\"\n",
    "\n",
    "amc_name = 'Quant Mutual Fund'\n",
    "logging.info(f\"User Ran Fund Data of {amc_name}\")\n",
    "\n",
    "object = QuantMF(PATHS_CONFIG, amc_name)\n",
    "path = mutual_fund[amc_name]\n",
    "\n",
    "path,df = object.check_and_highlight(path, 5)"
   ]
  },
  {
   "cell_type": "code",
   "execution_count": 24,
   "metadata": {},
   "outputs": [],
   "source": [
    "title = df.title.to_dict()\n",
    "pages = [12, 14, 16, 18, 20, 22, 24, 26, 28, 30, 32, 34, 36, 38, 40, 42, 44, 46, 48, 50, 52, 54, 56, 58,59, 61, 63, 65]"
   ]
  },
  {
   "cell_type": "code",
   "execution_count": null,
   "metadata": {},
   "outputs": [],
   "source": [
    "data = object.get_data(path, pages,title)\n",
    "extracted_text = object.get_generated_content(data)"
   ]
  },
  {
   "cell_type": "code",
   "execution_count": null,
   "metadata": {},
   "outputs": [],
   "source": [
    "object = QuantMF(PATHS_CONFIG, amc_name)\n",
    "final_text = object.refine_extracted_data(extracted_text, flatten = True)\n",
    "dfs = object.merge_and_select_data(final_text,select = True,map = True)\n",
    "Helper.quick_json_dump(dfs, object.JSONPATH)"
   ]
  },
  {
   "cell_type": "code",
   "execution_count": null,
   "metadata": {},
   "outputs": [],
   "source": [
    "\"\"\"QUANTUM MAIN FILE CODE\"\"\" #ISSUES: Clean data further\n",
    "\n",
    "amc_name = \"Quantum Mutual Fund\"\n",
    "logging.info(f\"User Ran Fund Data of {amc_name}\")\n",
    "\n",
    "object = Quantum(PATHS_CONFIG,amc_name)\n",
    "path = mutual_fund[amc_name]\n",
    "\n",
    "path,df = object.check_and_highlight(path, 7)"
   ]
  },
  {
   "cell_type": "code",
   "execution_count": 107,
   "metadata": {},
   "outputs": [],
   "source": [
    "title = df.title.to_dict()\n",
    "pages = [7, 9, 12, 14, 16, 18, 20, 22, 24, 26, 28, 30, 32, 33]"
   ]
  },
  {
   "cell_type": "code",
   "execution_count": null,
   "metadata": {},
   "outputs": [],
   "source": [
    "data = object.get_data(path, pages,title)\n",
    "extracted_text = object.get_generated_content(data)"
   ]
  },
  {
   "cell_type": "code",
   "execution_count": null,
   "metadata": {},
   "outputs": [],
   "source": [
    "final_text = object.refine_extracted_data(extracted_text, flatten = True)\n",
    "dfs = object.merge_and_select_data(final_text,select = True, map = True)\n",
    "Helper.quick_json_dump(dfs, object.JSONPATH)"
   ]
  },
  {
   "cell_type": "code",
   "execution_count": null,
   "metadata": {},
   "outputs": [],
   "source": [
    "\"\"\"SAMCO PDF FILE MAIN CODE\"\"\" \n",
    "\n",
    "amc_name = 'Samco Mutual Fund'\n",
    "logging.info(f\"User Ran Fund Data of {amc_name}\")\n",
    "\n",
    "object = Samco(PATHS_CONFIG,amc_name)\n",
    "path = mutual_fund[amc_name]\n",
    "\n",
    "path, df = object.check_and_highlight(path, 7)"
   ]
  },
  {
   "cell_type": "code",
   "execution_count": 144,
   "metadata": {},
   "outputs": [],
   "source": [
    "title = df.title.to_dict()\n",
    "pages =  [3, 5, 7, 9, 11, 13, 15, 17, 18]"
   ]
  },
  {
   "cell_type": "code",
   "execution_count": null,
   "metadata": {},
   "outputs": [],
   "source": [
    "data = object.get_data(path,pages,title)\n",
    "extracted_text = object.get_generated_content(data)"
   ]
  },
  {
   "cell_type": "code",
   "execution_count": 146,
   "metadata": {},
   "outputs": [
    {
     "name": "stdout",
     "output_type": "stream",
     "text": [
      "\n",
      " JSON saved at C:\\Users\\Kaustubh.keny\\Projects\\office-work\\mywork-repo\\data\\output\\dump_samco_12_56.json\n"
     ]
    }
   ],
   "source": [
    "final_text = object.refine_extracted_data(extracted_text, flatten=True)\n",
    "dfs = object.merge_and_select_data(final_text, select = True,map = True)\n",
    "Helper.quick_json_dump(dfs,object.JSONPATH)"
   ]
  },
  {
   "cell_type": "code",
   "execution_count": 18,
   "metadata": {},
   "outputs": [
    {
     "name": "stdout",
     "output_type": "stream",
     "text": [
      "sbi blue chip fund\n",
      "sbi flexicap fund\n",
      "sbi multicap fund\n",
      "sbi contra fund\n",
      "sbi psu fund\n",
      "sbi small cap fund\n",
      "sbi quant fund\n",
      "sbi blue chip fund\n",
      "sbi esg exclusionary strategy fund\n",
      "sbi flexicap fund\n",
      "sbi multicap fund\n",
      "sbi dividend yield fund\n",
      "sbi contra fund\n",
      "sbi large & midcap fund\n",
      "sbi focused equity fund\n",
      "sbi magnum midcap fund\n",
      "sbi magnum global fund\n",
      "sbi small cap fund\n",
      "sbi long term equity fund\n",
      "sbi healthcare opportunities fund\n",
      "sbi banking & financial services fund\n",
      "sbi psu fund\n",
      "sbi magnum comma fund\n",
      "sbi infrastructure fund\n",
      "sbi consumption opportunities fund\n",
      "sbi technology opportunities fund\n",
      "sbi equity minimum variance fund\n",
      "sbi international access - us equity fof\n",
      "sbi energy opportunities fund\n",
      "sbi automotive opportunities fund\n",
      "sbi innovative opportunities fund\n",
      "sbi quant fund\n",
      "sbi equity hybrid fund\n",
      "sbi equity hybrid fund\n",
      "sbi conservative hybrid fund\n",
      "sbi multi asset allocation fund\n",
      "sbi magnum children's benefit fund - savings plan\n",
      "sbi equity savings fund\n",
      "sbi arbitrage opportunities fund\n",
      "sbi balanced advantage fund\n",
      "sbi magnum children's benefit fund – investment plan\n",
      "sbi retirement benefit fund – aggressive plan\n",
      "sbi retirement benefit fund – aggressive hybrid plan\n",
      "sbi retirement benefit fund – conservative hybrid plan\n",
      "sbi retirement benefit fund – conservative plan\n",
      "sbi credit risk fund\n",
      "sbi magnum gilt fund\n",
      "sbi overnight fund\n",
      "sbi savings fund\n",
      "sbi liquid fund\n",
      "sbi magnum gilt fund\n",
      "sbi magnum income fund\n",
      "sbi dynamic bond fund\n",
      "sbi corporate bond fund\n",
      "sbi credit risk fund\n",
      "sbi magnum medium duration fund\n",
      "sbi short term debt fund\n",
      "sbi magnum constant maturity fund\n",
      "sbi magnum low duration fund\n",
      "sbi savings fund\n",
      "sbi banking & psu fund\n",
      "sbi liquid fund\n",
      "sbi magnum ultra short duration fund\n",
      "sbi floating rate debt fund\n",
      "sbi long duration fund\n",
      "sbi overnight fund\n",
      "sbi dynamic bond fund\n",
      "sbi magnum income fund\n",
      "sbi magnum medium duration fund\n",
      "sbi magnum gilt fund\n",
      "sbi equity hybrid fund\n",
      "sbi conservative hybrid fund\n",
      "sbi esg exclusionary strategy fund\n",
      "sbi magnum children’s benefit fund- investment plan\n",
      "sbi credit risk fund\n",
      "sbi balanced advantage fund\n",
      "sbi multicap fund\n",
      "sbi focused equity fund\n",
      "sbi small cap fund\n",
      "sbi flexicap fund\n",
      "sbi magnum global fund\n",
      "sbi arbitrage opportunities fund\n",
      "sbi equity savings fund\n",
      "sbi long duration fund\n",
      "sbi infrastructure fund\n",
      "sbi magnum midcap fund\n",
      "sbi blue chip fund\n",
      "sbi banking & financial services fund\n",
      "sbi consumption opportunities fund\n",
      "sbi large & midcap fund\n",
      "sbi technology opportunities fund\n",
      "sbi healthcare opportunities fund\n",
      "sbi dividend yield fund\n",
      "sbi gold fund\n",
      "sbi nifty index fund\n",
      "sbi equity minimum variance fund\n",
      "sbi nifty next 50 index fund\n",
      "sbi international access - us equity fof\n",
      "sbi long term equity fund\n",
      "sbi contra fund\n",
      "sbi multi asset allocation fund\n",
      "sbi liquid fund\n",
      "sbi savings fund\n",
      "sbi overnight fund\n",
      "sbi magnum comma fund\n",
      "sbi psu fund\n",
      "sbi magnum constant maturity fund\n",
      "sbi energy opportunities fund\n",
      "sbi automotive opportunities fund\n",
      "sbi innovative opportunities fund\n",
      "sbi short term debt fund\n",
      "sbi magnum children's benefit fund - savings plan\n",
      "sbi banking and psu fund\n",
      "sbi corporate bond fund\n",
      "sbi floating rate debt fund\n",
      "sbi magnum ultra short duration fund\n",
      "sbi magnum low duration fund\n",
      "sbi retirement benefit fund - aggressive plan\n",
      "sbi retirement benefit fund - aggressive hybrid plan\n",
      "sbi retirement benefit fund - conservative hybrid plan\n",
      "sbi retirement benefit fund - conservative plan\n",
      "sbi dynamic bond fund\n",
      "sbi magnum income fund\n",
      "sbi magnum medium duration fund\n",
      "sbi magnum gilt fund\n",
      "sbi equity hybrid fund\n",
      "sbi conservative hybrid fund\n",
      "sbi esg exclusionary strategy fund\n",
      "sbi magnum children’s benefit fund- investment plan\n",
      "sbi focused equity fund\n",
      "sbi small cap fund\n",
      "sbi flexicap fund\n",
      "sbi magnum global fund\n",
      "sbi arbitrage opportunities fund\n",
      "sbi equity savings fund\n",
      "sbi credit risk fund\n",
      "sbi infrastructure fund\n",
      "sbi balanced advantage fund\n",
      "sbi multicap fund\n",
      "sbi dividend yield fund\n",
      "sbi magnum midcap fund\n",
      "sbi blue chip fund\n",
      "sbi banking & financial services fund\n",
      "sbi consumption opportunities fund\n",
      "sbi large & midcap fund\n",
      "sbi technology opportunities fund\n",
      "sbi healthcare opportunities fund\n",
      "sbi long duration fund\n",
      "sbi gold fund\n",
      "sbi nifty index fund\n",
      "sbi equity minimum variance fund\n",
      "sbi nifty next 50 index fund\n",
      "sbi international access - us equity fof\n",
      "sbi long term equity fund\n",
      "sbi contra fund\n",
      "sbi multi asset allocation fund\n",
      "sbi liquid fund\n",
      "sbi savings fund\n",
      "sbi overnight fund\n",
      "sbi magnum comma fund\n",
      "sbi psu fund\n",
      "sbi magnum constant maturity fund\n",
      "sbi energy opportunities fund\n",
      "sbi automotive opportunities fund\n",
      "sbi innovative opportunities fund\n",
      "sbi short term debt fund\n",
      "sbi magnum children's benefit fund - savings plan\n",
      "sbi banking and psu fund\n",
      "sbi corporate bond fund\n",
      "sbi floating rate debt fund\n",
      "sbi magnum ultra short duration fund\n",
      "sbi magnum low duration fund\n",
      "sbi retirement benefit fund - aggressive plan\n",
      "sbi retirement benefit fund - aggressive hybrid plan\n",
      "sbi retirement benefit fund - conservative hybrid plan\n",
      "sbi retirement benefit fund - conservative plan\n",
      "sbi magnum childrens benefit fund -savings plan\n",
      "sbi magnum childrens benefit fund -investment plan\n",
      "sbi magnum gilt fund\n",
      "\n",
      "Doc Saved At: C:\\Users\\rando\\OneDrive\\Documents\\mywork-repo\\data\\output\\pdf_report.xlsx\n",
      "\n",
      "Pages to Extract: [6, 7, 8, 9, 10, 11, 12, 13, 14, 15, 16, 17, 18, 19, 20, 21, 22, 23, 24, 25, 26, 27, 28, 29, 30, 31, 32, 33, 34, 36, 37, 38, 39, 40, 41, 42, 43, 44, 45, 46, 47, 48, 49, 50, 51, 52, 53, 54, 55, 56, 57, 58, 59, 60, 61, 62, 63, 64, 65, 66]\n"
     ]
    }
   ],
   "source": [
    "\"\"\"SBI PDF FILE MAIN CODE\"\"\" \n",
    "\n",
    "amc_name = 'SBI Mutual Fund'\n",
    "logging.info(f\"User Ran Fund Data of {amc_name}\")\n",
    "\n",
    "object = SBI(PATHS_CONFIG,amc_name)\n",
    "path = mutual_fund[amc_name]\n",
    "path = r\"C:\\Users\\rando\\OneDrive\\Documents\\Dec 24\\SBI Mutual Fund\\35_31-Dec-24_FS.pdf\"\n",
    "path, df = object.check_and_highlight(path, 7)"
   ]
  },
  {
   "cell_type": "code",
   "execution_count": 22,
   "metadata": {},
   "outputs": [],
   "source": [
    "title = df.title.to_dict()\n",
    "pages =  [6, 7, 8, 9, 10, 11, 12, 13, 14, 15, 16, 17, 18, 19, 20, 21, 22, 23, 24, 25, 26, 27, 28, 29, 30, 31, 32, 33, 34, 36, 37, 38, 40, 41, 42, 48, 49, 50, 51, 52, 53, 54, 55, 56, 57, 58, 59, 60, 61, 62, 63, 64, 65, 66]"
   ]
  },
  {
   "cell_type": "code",
   "execution_count": 91,
   "metadata": {},
   "outputs": [],
   "source": [
    "object = SBI(PATHS_CONFIG,amc_name)"
   ]
  },
  {
   "cell_type": "code",
   "execution_count": null,
   "metadata": {},
   "outputs": [],
   "source": [
    "data = object.get_data(path,pages,title)\n",
    "extracted_text = object.get_generated_content(data)"
   ]
  },
  {
   "cell_type": "code",
   "execution_count": 5,
   "metadata": {},
   "outputs": [
    {
     "name": "stdout",
     "output_type": "stream",
     "text": [
      "\n",
      " JSON saved at C:\\Users\\rando\\OneDrive\\Documents\\mywork-repo\\data\\output\\dump_sbi_22_36.json\n"
     ]
    }
   ],
   "source": [
    "Helper.quick_json_dump(extracted_text,object.JSONPATH)"
   ]
  },
  {
   "cell_type": "code",
   "execution_count": 93,
   "metadata": {},
   "outputs": [],
   "source": [
    "final_text = object.refine_extracted_data(extracted_text,flatten = True)"
   ]
  },
  {
   "cell_type": "code",
   "execution_count": 97,
   "metadata": {},
   "outputs": [
    {
     "name": "stdout",
     "output_type": "stream",
     "text": [
      "\n",
      " JSON saved at C:\\Users\\Kaustubh.keny\\Projects\\office-work\\mywork-repo\\data\\output\\dump_sbi_12_36.json\n"
     ]
    }
   ],
   "source": [
    "object = SBI(PATHS_CONFIG,amc_name)\n",
    "final_text = object.refine_extracted_data(extracted_text,flatten = True)\n",
    "# dfs = object.merge_and_select_data(final_text,select = True,map = True)\n",
    "Helper.quick_json_dump(final_text,object.JSONPATH)"
   ]
  },
  {
   "cell_type": "code",
   "execution_count": 98,
   "metadata": {},
   "outputs": [
    {
     "name": "stdout",
     "output_type": "stream",
     "text": [
      "sbi contra fund\n",
      "5000  in multiples of 1\n",
      "[]\n",
      "sbi small cap fund\n",
      "and\n",
      "[]\n",
      "sbi quant fund\n",
      "5000 and in multiples of 1 thereafter\n",
      "[]\n",
      "sbi blue chip fund\n",
      "5000  in multiples of 1\n",
      "[]\n",
      "sbi esg exclusionary strategy fund\n",
      "1000  in multiples of 1\n",
      "[]\n",
      "sbi flexicap fund\n",
      "1000  in multiples of 1\n",
      "[]\n",
      "sbi multicap fund\n",
      "5000  in multiples of 1\n",
      "[]\n",
      "sbi dividend yield fund\n",
      "5000  in multiples of 1\n",
      "[]\n",
      "sbi large & midcap fund\n",
      "5000  in multiples of 1\n",
      "[]\n",
      "sbi focused equity fund\n",
      "5000  in multiples of 1\n",
      "[]\n",
      "sbi magnum midcap fund\n",
      "5000  in multiples of 1\n",
      "[]\n",
      "sbi magnum global fund\n",
      "5000  in multiples of 1\n",
      "[]\n",
      "sbi long term equity fund\n",
      "500  in multiples of 500\n",
      "[]\n",
      "sbi healthcare opportunities fund\n",
      "5000  in multiples of 1\n",
      "[]\n",
      "sbi banking & financial services fund\n",
      "5000  in multiples of 1\n",
      "[]\n",
      "sbi psu fund\n",
      "5000  in multiples of 1\n",
      "[]\n",
      "sbi magnum comma fund\n",
      "5000  in multiples of 1\n",
      "[]\n",
      "sbi infrastructure fund\n",
      "5000  in multiples of 1\n",
      "[]\n",
      "sbi consumption opportunities fund\n",
      "5000  in multiples of 1\n",
      "[]\n",
      "sbi technology opportunities fund\n",
      "5000  in multiples of 1\n",
      "[]\n",
      "sbi equity minimum variance fund\n",
      "5000  in multiples of 1\n",
      "[]\n",
      "sbi international access - us equity fof\n",
      "5000 and in multiples of 1 thereafter\n",
      "[]\n",
      "sbi energy opportunities fund\n",
      "5000 and in multiples of 1 thereafter\n",
      "[]\n",
      "sbi automotive opportunities fund\n",
      "5000 and in multiples of 1 thereafter\n",
      "[]\n",
      "sbi innovative opportunities fund\n",
      "5000 and in multiples of 1 thereafter\n",
      "[]\n",
      "sbi equity hybrid fund\n",
      "1000  in multiples of 1\n",
      "[]\n",
      "sbi conservative hybrid fund\n",
      "5,000  in multiples of 1\n",
      "[]\n",
      "sbi multi asset allocation fund\n",
      "5,000  in multiples of 1\n",
      "[]\n",
      "sbi equity savings fund\n",
      "1000  in multiples of 1\n",
      "[]\n",
      "sbi arbitrage opportunities fund\n",
      "5000  in multiples of  1Additional Investment 1000  in multiples of 1\n",
      "[]\n",
      "sbi balanced advantage fund\n",
      "5000  in multiples of 1\n",
      "[]\n",
      "sbi magnum gilt fund\n",
      "5,000  in multiples of 1\n",
      "[]\n",
      "sbi liquid fund\n",
      "Growth Option 500  in multiples of 1 Other options except Growth option 5000  in multiples of 1\n",
      "[]\n",
      "sbi magnum income fund\n",
      "5,000  in multiples of 1\n",
      "[]\n",
      "sbi dynamic bond fund\n",
      "5,000  in multiples of 1\n",
      "[]\n",
      "sbi corporate bond fund\n",
      "5,000  in multiples of 1\n",
      "[]\n",
      "sbi credit risk fund\n",
      "5000  in multiples of 1 (Restrict investment in the scheme to a maximum limit of 10 Cr. per investor across all folios on cumulative investment)\n",
      "[]\n",
      "sbi magnum medium duration fund\n",
      "5,000  in multiples of 1\n",
      "[]\n",
      "sbi short term debt fund\n",
      "5,000  in multiples of 1\n",
      "[]\n",
      "sbi magnum constant maturity fund\n",
      "5,000  in multiples of 1\n",
      "[]\n",
      "sbi magnum low duration fund\n",
      "5,000  in multiples of 1\n",
      "[]\n",
      "sbi savings fund\n",
      "500  in multiples of 1\n",
      "[]\n",
      "sbi banking & psu fund\n",
      "5,000  in multiples of 1\n",
      "[]\n",
      "sbi magnum ultra short duration fund\n",
      "5,000  in multiples of 1\n",
      "[]\n",
      "sbi floating rate debt fund\n",
      "5,000  in multiples of 1\n",
      "[]\n",
      "sbi long duration fund\n",
      "5000  in multiples of 1\n",
      "[]\n",
      "sbi overnight fund\n",
      "5,000  in multiples of 1\n",
      "[]\n"
     ]
    }
   ],
   "source": [
    "pattern = r'(?:Entry Load)?\\s*(Nil|.*?)\\s*Exit Load\\s*(.*)$'\n",
    "for fund, content in final_text.items():\n",
    "    print(fund)\n",
    "    check = 'scheme_details.minimum_investment'\n",
    "    if check in content:\n",
    "        text =re.sub(r'[^A-Za-z0-9\\s\\-\\(\\).,]+', \"\",content[check]).strip()\n",
    "        print(text)\n",
    "        match = re.findall(pattern,text, re.IGNORECASE)\n",
    "        print(match)"
   ]
  },
  {
   "cell_type": "code",
   "execution_count": null,
   "metadata": {},
   "outputs": [],
   "source": []
  },
  {
   "cell_type": "code",
   "execution_count": null,
   "metadata": {},
   "outputs": [],
   "source": []
  },
  {
   "cell_type": "code",
   "execution_count": null,
   "metadata": {},
   "outputs": [],
   "source": [
    "\"\"\"SUNDARAM MAIN FILE CODE\"\"\"\n",
    "\n",
    "amc_name = 'Sundaram Mutual Fund'\n",
    "logging.info(f\"User Ran Fund Data of {amc_name}\")\n",
    "\n",
    "object = Sundaram(PATHS_CONFIG,amc_name)\n",
    "path = mutual_fund[amc_name]\n",
    "\n",
    "path,df = object.check_and_highlight(path, 7)"
   ]
  },
  {
   "cell_type": "code",
   "execution_count": 88,
   "metadata": {},
   "outputs": [],
   "source": [
    "title = df.title.to_dict()\n",
    "pages = [7, 8, 9, 10, 11, 12, 13, 14, 15, 16, 17, 18, 19, 20, 21, 22, 23, 24, 25, 26, 27, 28, 29, 30, 31, 32, 33, 34, 35, 36, 37, 38, 39, 40]\n"
   ]
  },
  {
   "cell_type": "code",
   "execution_count": null,
   "metadata": {},
   "outputs": [],
   "source": [
    "data = object.get_data(path,pages,title)\n",
    "extracted_text = object.get_generated_content(data)"
   ]
  },
  {
   "cell_type": "code",
   "execution_count": null,
   "metadata": {},
   "outputs": [],
   "source": [
    "object = Sundaram(PATHS_CONFIG,amc_name)\n",
    "final_text = object.refine_extracted_data(extracted_text,flatten = True)\n",
    "dfs = object.merge_and_select_data(final_text,select = True, map = True)\n",
    "Helper.quick_json_dump(dfs,object.JSONPATH)"
   ]
  },
  {
   "cell_type": "code",
   "execution_count": 30,
   "metadata": {},
   "outputs": [
    {
     "name": "stdout",
     "output_type": "stream",
     "text": [
      "tata large cap fund\n",
      "tata flexi cap fund\n",
      "tata large & mid cap fund\n",
      "tata equity p/e fund\n",
      "tata mid cap growth fund\n",
      "tata elss tax saver fund\n",
      "tata small cap fund\n",
      "tata focused equity fund\n",
      "tata nifty 50 index fund\n",
      "tata nifty auto index fund\n",
      "tata nifty india tourism index fund\n",
      "tata nifty financial services index fund\n",
      "tata nifty midsmall healthcare index fund\n",
      "tata nifty realty index fund\n",
      "tata nifty500 multicap india manufacturing 50:30:20 index fund\n",
      "tata nifty500 multicap infrastructure 50:30:20 index fund\n",
      "tata bse sensex index fund\n",
      "tata bse select business groups index fund\n",
      "tata nifty 50 exchange traded fund\n",
      "tata nifty private bank exchange traded fund\n",
      "tata dividend yield fund\n",
      "tata nifty india digital etf fund of fund\n",
      "tata nifty india digital exchange traded fund\n",
      "tata silver exchange traded fund\n",
      "tata silver etf fund of fund\n",
      "tata gold exchange traded fund\n",
      "tata gold etf fund of fund\n",
      "tata nifty midcap 150 momentum 50 index fund\n",
      "tata nifty200 alpha 30 index fund\n",
      "tata nifty capital markets index fund\n",
      "tata multicap fund\n",
      "tata business cycle fund\n",
      "tata ethical fund\n",
      "tata banking & financial services fund\n",
      "tata digital india fund\n",
      "tata india consumer fund\n",
      "tata india pharma & healthcare fund\n",
      "tata resources & energy fund\n",
      "tata infrastructure fund\n",
      "tata quant fund\n",
      "tata housing opportunities fund\n",
      "tata india innovation fund\n",
      "tata hybrid equity fund\n",
      "tata equity savings fund\n",
      "tata balanced advantage fund\n",
      "tata balanced advantage fund\n",
      "tata arbitrage fund\n",
      "tata arbitrage fund\n",
      "tata multi asset opportunities fund\n",
      "tata multi asset opportunities fund\n",
      "tata short term bond fund\n",
      "tata treasury advantage fund\n",
      "tata money market fund\n",
      "tata ultra short term fund\n",
      "tata corporate bond fund\n",
      "tata floating rate fund\n",
      "tata nifty sdl plus aaa psu bond dec 2027 60:40 index fund\n",
      "tata crisil-ibx gilt index  april 2026 index fund\n",
      "tata nifty g-sec dec 2026 index fund\n",
      "tata nifty g-sec dec 2029 index fund\n",
      "tata fixed maturity plan series 61 scheme d (91 days)\n",
      "tata liquid fund\n",
      "tata overnight fund\n",
      "tata gilt securities fund\n",
      "tata retirement savings fund - progressive plan\n",
      "tata retirement savings fund - moderate plan\n",
      "tata retirement savings fund - conservative plan\n",
      "tata young citizens’ fund\n",
      "\n",
      "Doc Saved At: C:\\Users\\rando\\OneDrive\\Documents\\mywork-repo\\data\\output\\pdf_report.xlsx\n",
      "\n",
      "Pages to Extract: [16, 17, 18, 19, 20, 21, 22, 23, 24, 25, 26, 27, 28, 29, 30, 31, 32, 33, 34, 35, 36, 37, 38, 39, 40, 41, 42, 43, 44, 45, 46, 47, 48, 49, 50, 51, 52, 53, 54, 55, 56, 57, 58, 59, 60, 62, 64, 66, 67, 68, 69, 70, 71, 72, 73, 74, 75, 76, 77, 78, 79, 80, 81, 82, 83]\n"
     ]
    }
   ],
   "source": [
    "\"\"\"TATA FILE MAIN CODE \"\"\"\n",
    "\n",
    "amc_name = \"Tata Mutual Fund\"\n",
    "logging.info(f\"User Ran Fund Data of {amc_name}\")\n",
    "\n",
    "object = Tata(PATHS_CONFIG,amc_name)\n",
    "path = mutual_fund[amc_name]\n",
    "\n",
    "path, df = object.check_and_highlight(path, 7)"
   ]
  },
  {
   "cell_type": "code",
   "execution_count": 31,
   "metadata": {},
   "outputs": [],
   "source": [
    "title = df.title.to_dict()\n",
    "pages =  [16, 17, 18, 19, 20, 21, 22, 23, 24, 25, 26, 27, 28, 29, 30, 31, 32, 33, 34, 35, 36, 37, 38, 39, 40, 41, 42, 43, 44, 45, 46, 47, 48, 49, 50, 51, 52, 53, 54, 55, 56, 57, 58, 59, 60, 62, 64, 66, 67, 68, 69, 70, 71, 72, 73, 74, 75, 76, 77, 78, 79, 80, 81, 82, 83]"
   ]
  },
  {
   "cell_type": "code",
   "execution_count": 32,
   "metadata": {},
   "outputs": [
    {
     "name": "stdout",
     "output_type": "stream",
     "text": [
      "---<<tata large cap fund>>---\n",
      "---<<tata flexi cap fund>>---\n",
      "---<<tata large & mid cap fund>>---\n",
      "---<<tata equity p/e fund>>---\n",
      "---<<tata mid cap growth fund>>---\n",
      "---<<tata elss tax saver fund>>---\n",
      "---<<tata small cap fund>>---\n",
      "---<<tata focused equity fund>>---\n",
      "---<<tata nifty 50 index fund>>---\n",
      "---<<tata nifty auto index fund>>---\n",
      "---<<tata nifty india tourism index fund>>---\n",
      "---<<tata nifty financial services index fund>>---\n",
      "---<<tata nifty midsmall healthcare index fund>>---\n",
      "---<<tata nifty realty index fund>>---\n",
      "---<<tata nifty500 multicap india manufacturing 50:30:20 index fund>>---\n",
      "---<<tata nifty500 multicap infrastructure 50:30:20 index fund>>---\n",
      "---<<tata bse sensex index fund>>---\n",
      "---<<tata bse select business groups index fund>>---\n",
      "---<<tata nifty 50 exchange traded fund>>---\n",
      "---<<tata nifty private bank exchange traded fund>>---\n",
      "---<<tata dividend yield fund>>---\n",
      "---<<tata nifty india digital etf fund of fund>>---\n",
      "---<<tata nifty india digital exchange traded fund>>---\n",
      "---<<tata silver exchange traded fund>>---\n",
      "---<<tata silver etf fund of fund>>---\n",
      "---<<tata gold exchange traded fund>>---\n",
      "---<<tata gold etf fund of fund>>---\n",
      "---<<tata nifty midcap 150 momentum 50 index fund>>---\n",
      "---<<tata nifty200 alpha 30 index fund>>---\n",
      "---<<tata nifty capital markets index fund>>---\n",
      "---<<tata multicap fund>>---\n",
      "---<<tata business cycle fund>>---\n",
      "---<<tata ethical fund>>---\n",
      "---<<tata banking & financial services fund>>---\n",
      "---<<tata digital india fund>>---\n",
      "---<<tata india consumer fund>>---\n",
      "---<<tata india pharma & healthcare fund>>---\n",
      "---<<tata resources & energy fund>>---\n",
      "---<<tata infrastructure fund>>---\n",
      "---<<tata quant fund>>---\n",
      "---<<tata housing opportunities fund>>---\n",
      "---<<tata india innovation fund>>---\n",
      "---<<tata hybrid equity fund>>---\n",
      "---<<tata equity savings fund>>---\n",
      "---<<tata balanced advantage fund>>---\n",
      "---<<tata arbitrage fund>>---\n",
      "---<<tata multi asset opportunities fund>>---\n",
      "---<<tata short term bond fund>>---\n",
      "---<<tata treasury advantage fund>>---\n",
      "---<<tata money market fund>>---\n",
      "---<<tata ultra short term fund>>---\n",
      "---<<tata corporate bond fund>>---\n",
      "---<<tata floating rate fund>>---\n",
      "---<<tata nifty sdl plus aaa psu bond dec 2027 60:40 index fund>>---\n",
      "---<<tata crisil-ibx gilt index  april 2026 index fund>>---\n",
      "---<<tata nifty g-sec dec 2026 index fund>>---\n",
      "---<<tata nifty g-sec dec 2029 index fund>>---\n",
      "---<<tata fixed maturity plan series 61 scheme d (91 days)>>---\n",
      "---<<tata liquid fund>>---\n",
      "---<<tata overnight fund>>---\n",
      "---<<tata gilt securities fund>>---\n",
      "---<<tata retirement savings fund - progressive plan>>---\n",
      "---<<tata retirement savings fund - moderate plan>>---\n",
      "---<<tata retirement savings fund - conservative plan>>---\n",
      "---<<tata young citizens’ fund>>---\n",
      "\n",
      " JSON saved at C:\\Users\\rando\\OneDrive\\Documents\\mywork-repo\\data\\output\\dump_tata_23_04.json\n"
     ]
    }
   ],
   "source": [
    "data = object.get_data(path,pages,title)\n",
    "extracted_text = object.get_generated_content(data)\n",
    "final_text = object.refine_extracted_data(extracted_text, flatten = True)\n",
    "dfs = object.merge_and_select_data(final_text,select=True, map = True)\n",
    "Helper.quick_json_dump(dfs, object.JSONPATH)"
   ]
  },
  {
   "cell_type": "code",
   "execution_count": null,
   "metadata": {},
   "outputs": [],
   "source": [
    "\"\"\"TAURUS MAIN FILE CODE\"\"\" #Issues: Nothing Yet\n",
    "\n",
    "amc_name = 'Taurus Mutual Fund'\n",
    "logging.info(f\"User Ran Fund Data of {amc_name}\")\n",
    "\n",
    "object = Taurus(PATHS_CONFIG,amc_name)\n",
    "path = mutual_fund[amc_name]\n",
    "\n",
    "path, df= object.check_and_highlight(path, 7)"
   ]
  },
  {
   "cell_type": "code",
   "execution_count": 80,
   "metadata": {},
   "outputs": [],
   "source": [
    "title = df.title.to_dict()\n",
    "pages = [11, 12, 13, 14, 15, 16, 17, 18]"
   ]
  },
  {
   "cell_type": "code",
   "execution_count": null,
   "metadata": {},
   "outputs": [],
   "source": [
    "data = object.get_data(path,pages,title)\n",
    "extracted_text = object.get_generated_content(data)"
   ]
  },
  {
   "cell_type": "code",
   "execution_count": null,
   "metadata": {},
   "outputs": [],
   "source": [
    "final_text = object.refine_extracted_data(extracted_text,flatten=True)\n",
    "dfs = object.merge_and_select_data(final_text,select = True, map = True)\n",
    "Helper.quick_json_dump(dfs,object.JSONPATH)"
   ]
  },
  {
   "cell_type": "code",
   "execution_count": null,
   "metadata": {},
   "outputs": [],
   "source": [
    "\"\"\"TRUST MAIN FILE CODE\"\"\" #Issue: Clean data more, nested dict unload Invest Obj in right #Names coming as headers fund managers\n",
    "\n",
    "amc_name = 'Trust Mutual Fund'\n",
    "logging.info(f\"User Ran Fund Data of {amc_name}\")\n",
    "\n",
    "object = Trust(PATHS_CONFIG,amc_name)\n",
    "path = mutual_fund[amc_name]\n",
    "\n",
    "path, df= object.check_and_highlight(path, 7)"
   ]
  },
  {
   "cell_type": "code",
   "execution_count": 55,
   "metadata": {},
   "outputs": [],
   "source": [
    "title = df.title.to_dict()\n",
    "pages = [7, 8, 9, 10, 11, 12, 13, 14]"
   ]
  },
  {
   "cell_type": "code",
   "execution_count": null,
   "metadata": {},
   "outputs": [],
   "source": [
    "data = object.get_data(path,pages,title)\n",
    "extracted_text = object.get_generated_content(data)\n",
    "final_text = object.refine_extracted_data(extracted_text, flatten = True)\n",
    "dfs = object.merge_and_select_data(final_text,select = True, map = True)\n",
    "Helper.quick_json_dump(dfs,object.JSONPATH)"
   ]
  },
  {
   "cell_type": "code",
   "execution_count": 7,
   "metadata": {},
   "outputs": [
    {
     "name": "stdout",
     "output_type": "stream",
     "text": [
      "uti large cap fund\n",
      "uti mid cap fund\n",
      "uti small cap fund\n",
      "uti large & mid cap fund\n",
      "uti value fund\n",
      "uti elss tax saver fund\n",
      "uti focused fund\n",
      "uti flexi cap fund\n",
      "uti innovation fund\n",
      "uti dividend yield fund\n",
      "uti mnc fund\n",
      "uti india consumer fund\n",
      "uti infrastructure fund\n",
      "uti banking & financial services fund\n",
      "uti healthcare fund\n",
      "uti transportation & logistics fund\n",
      "uti nifty 50 index fund\n",
      "uti nifty next 50 index fund\n",
      "uti nifty 200 momentum 30 index fund\n",
      "uti bse sensex index fund\n",
      "uti nifty midcap 150 quality 50 index fund\n",
      "uti bse low volatility index fund\n",
      "uti nifty 50 equal weight index fund\n",
      "uti nifty 500 value 50 index fund\n",
      "uti bse housing index fund\n",
      "uti nifty private bank index fund\n",
      "uti nifty200 quality 30 index fund\n",
      "uti nifty alpha low-volatility 30 index fund\n",
      "uti nifty midcap 150 index fund\n",
      "uti balanced advantage fund\n",
      "uti balanced advantage fund\n",
      "uti multi asset allocation fund\n",
      "uti multi asset allocation fund\n",
      "uti aggressive hybrid fund\n",
      "uti aggressive hybrid fund\n",
      "uti equity savings fund\n",
      "uti equity savings fund\n",
      "uti arbitrage fund\n",
      "uti conservative hybrid fund\n",
      "uti conservative hybrid fund\n",
      "uti children’s equity fund\n",
      "uti children’s equity fund\n",
      "uti children’s hybrid fund\n",
      "uti children’s hybrid fund\n",
      "uti retirement fund\n",
      "uti retirement fund\n",
      "uti unit linked insurance plan*\n",
      "uti unit linked insurance plan*\n",
      "uti overnight fund\n",
      "uti liquid fund\n",
      "uti money market fund\n",
      "uti ultra short duration fund\n",
      "uti low duration fund\n",
      "uti short duration fund\n",
      "uti medium duration fund\n",
      "uti medium duration fund\n",
      "uti medium to long duration fund\n",
      "uti long duration fund\n",
      "uti floater fund\n",
      "uti banking & psu fund\n",
      "uti corporate bond fund\n",
      "uti dynamic bond fund\n",
      "uti credit risk fund\n",
      "uti credit risk fund\n",
      "uti gilt fund\n",
      "uti gilt fund with 10 year constant duration\n",
      "uti crisil sdl maturity june 2027 index fund\n",
      "uti crisil sdl maturity april 2033 index fund\n",
      "uti nifty sdl plus aaa psu bond apr 2026 75:25 index fund\n",
      "uti nifty sdl plus aaa psu bond apr 2028 75:25 index fund\n",
      "\n",
      "Doc Saved At: C:\\Users\\rando\\OneDrive\\Documents\\mywork-repo\\data\\output\\pdf_report.xlsx\n",
      "\n",
      "Pages to Extract: [11, 12, 13, 14, 15, 16, 17, 18, 19, 20, 21, 22, 23, 24, 25, 26, 27, 28, 29, 30, 31, 32, 33, 34, 35, 36, 37, 38, 39, 40, 42, 43, 44, 45, 46, 47, 48, 49, 50, 51, 52, 53, 54, 55, 56, 57, 58, 59, 60, 61, 62, 63, 64, 65, 67, 68, 69, 70, 71, 72, 73, 75, 76, 77, 78, 79, 80]\n"
     ]
    }
   ],
   "source": [
    "\"\"\"UTI MAIN FILE CODE\"\"\"\n",
    "\n",
    "amc_name = 'UTI Mutual Fund'\n",
    "logging.info(f\"User Ran Fund Data of {amc_name}\")\n",
    "\n",
    "object = UTI(PATHS_CONFIG,amc_name)\n",
    "path = mutual_fund[amc_name]\n",
    "path = r\"C:\\Users\\rando\\OneDrive\\Documents\\Jan 25\\UTI Mutual Fund\\41_31-Jan-25_FS_1.pdf\"\n",
    "path,df = object.check_and_highlight(path, 5)"
   ]
  },
  {
   "cell_type": "code",
   "execution_count": 8,
   "metadata": {},
   "outputs": [],
   "source": [
    "title = df.title.to_dict()\n",
    "pages = list(title.keys())"
   ]
  },
  {
   "cell_type": "code",
   "execution_count": null,
   "metadata": {},
   "outputs": [],
   "source": [
    "data = object.get_data(path,pages,title)\n",
    "extracted_text = object.get_generated_content(data)"
   ]
  },
  {
   "cell_type": "code",
   "execution_count": 13,
   "metadata": {},
   "outputs": [
    {
     "name": "stdout",
     "output_type": "stream",
     "text": [
      "\n",
      " JSON saved at C:\\Users\\rando\\OneDrive\\Documents\\mywork-repo\\data\\output\\dump_uti_22_46.json\n"
     ]
    }
   ],
   "source": [
    "Helper.quick_json_dump(extracted_text, object.JSONPATH)"
   ]
  },
  {
   "cell_type": "code",
   "execution_count": 17,
   "metadata": {},
   "outputs": [
    {
     "name": "stdout",
     "output_type": "stream",
     "text": [
      "\n",
      " JSON saved at C:\\Users\\rando\\OneDrive\\Documents\\mywork-repo\\data\\output\\dump_uti_22_51.json\n"
     ]
    }
   ],
   "source": [
    "object = UTI(PATHS_CONFIG,amc_name)\n",
    "final_text = object.refine_extracted_data(extracted_text, flatten = True)\n",
    "dfs = object.merge_and_select_data(final_text, select = True, map = True)\n",
    "Helper.quick_json_dump(dfs, object.JSONPATH)"
   ]
  },
  {
   "cell_type": "code",
   "execution_count": null,
   "metadata": {},
   "outputs": [],
   "source": [
    "\"\"\"UNION MUTUAL FUND\"\"\" #Issues: Major Issue\n",
    "\n",
    "amc_name = 'Union Mutual Fund'\n",
    "logging.info(f\"User Ran Fund Data of {amc_name}\")\n",
    "\n",
    "object = Union(PATHS_CONFIG,amc_name)\n",
    "path = mutual_fund[amc_name]\n",
    "\n",
    "path,df = object.check_and_highlight(path, 7)"
   ]
  },
  {
   "cell_type": "code",
   "execution_count": 26,
   "metadata": {},
   "outputs": [],
   "source": [
    "pages = [4, 5, 6, 7, 8, 9, 10, 11, 12, 13, 14, 15, 16, 17, 18, 19, 20, 21, 22, 23, 24, 25, 26, 27, 28]\n",
    "title = df.title.apply(lambda x: \"Union \"+ x if x !=\"\" else x).to_dict()"
   ]
  },
  {
   "cell_type": "code",
   "execution_count": null,
   "metadata": {},
   "outputs": [],
   "source": [
    "data = object.get_data(path,pages,title)"
   ]
  },
  {
   "cell_type": "code",
   "execution_count": null,
   "metadata": {},
   "outputs": [],
   "source": [
    "extracted_text = object.get_generated_content(data)\n",
    "final_text = object.refine_extracted_data(extracted_text, flatten = True)\n",
    "Helper.quick_json_dump(final_text, object.JSONPATH)"
   ]
  },
  {
   "cell_type": "code",
   "execution_count": null,
   "metadata": {},
   "outputs": [],
   "source": [
    "\"\"\"WHITEOAK MUTUAL FUND\"\"\"\n",
    "\n",
    "amc_name = 'WhiteOak Mutual Fund'\n",
    "logging.info(f\"User Ran Fund Data of {amc_name}\")\n",
    "\n",
    "object = WhiteOak(PATHS_CONFIG,amc_name)\n",
    "path = mutual_fund[amc_name]\n",
    "\n",
    "path, df = object.check_and_highlight(path, 9)"
   ]
  },
  {
   "cell_type": "code",
   "execution_count": null,
   "metadata": {},
   "outputs": [],
   "source": [
    "title = df.title.to_dict()\n",
    "pages = [7, 9, 11, 13, 15, 17, 19, 20, 21, 23, 25, 26, 28, 30, 32, 34, 36, 37]\n",
    "data = object.get_data(path,pages,title)\n",
    "extracted_text = object.get_generated_content(data)"
   ]
  },
  {
   "cell_type": "code",
   "execution_count": null,
   "metadata": {},
   "outputs": [],
   "source": [
    "final_text = object.refine_extracted_data(extracted_text, flatten = True)\n",
    "dfs = object.merge_and_select_data(final_text,select = True, map = True)\n",
    "Helper.quick_json_dump(dfs,object.JSONPATH)"
   ]
  },
  {
   "cell_type": "code",
   "execution_count": null,
   "metadata": {},
   "outputs": [],
   "source": [
    "\"\"\"ZERODHA MAIN CODE\"\"\" \n",
    "\n",
    "amc_name = 'Zerodha Mutual Fund'\n",
    "logging.info(f\"User Ran Fund Data of {amc_name}\")\n",
    "\n",
    "object = Zerodha(PATHS_CONFIG,amc_name)\n",
    "path = mutual_fund[amc_name]\n",
    "\n",
    "path,df= object.check_and_highlight(path,7)"
   ]
  },
  {
   "cell_type": "code",
   "execution_count": null,
   "metadata": {},
   "outputs": [],
   "source": [
    "title = df.title.to_dict()\n",
    "pages = [3, 5, 7, 9, 11, 13, 15]\n",
    "data = object.get_data(path,pages,title)\n",
    "extracted_text = object.get_generated_content(data)"
   ]
  },
  {
   "cell_type": "code",
   "execution_count": null,
   "metadata": {},
   "outputs": [],
   "source": [
    "final_text = object.refine_extracted_data(extracted_text, flatten = True)\n",
    "dfs = object.merge_and_select_data(final_text,select = True,map = True)\n",
    "Helper.quick_json_dump(dfs, object.JSONPATH)"
   ]
  },
  {
   "cell_type": "code",
   "execution_count": null,
   "metadata": {},
   "outputs": [],
   "source": [
    "\"\"\"\"HSBC MAIN FILE CODE\"\"\" #Issue: Some pages have 2 or more fund data on same page\n",
    "#some data is present on right side as well so define two lines\n",
    "#objective is to be exracted seperately\n",
    "\n",
    "amc_name = 'HSBC Mutual Fund'\n",
    "logging.info(f\"User Ran Fund Data of {amc_name}\")\n",
    "\n",
    "object = HSBC(PATHS_CONFIG,amc_name)\n",
    "path = mutual_fund[amc_name]\n",
    "\n",
    "path, df = object.check_and_highlight(path, 7)"
   ]
  },
  {
   "cell_type": "code",
   "execution_count": 13,
   "metadata": {},
   "outputs": [],
   "source": [
    "object = HSBC(PATHS_CONFIG,amc_name)\n",
    "title = df.title.to_dict()\n",
    "pages = [10, 11, 12, 13, 14, 15, 16, 17, 18, 19, 20, 21, 22, 23, 24, 25, 26, 27, 28, 29, 30, 32, 34, 35, 36, 37, 38, 39, 40, 41, 42, 43, 44, 45, 46, 47, 48, 49]\n"
   ]
  },
  {
   "cell_type": "code",
   "execution_count": null,
   "metadata": {},
   "outputs": [],
   "source": [
    "data = object.get_data(path,pages,title)\n",
    "extracted_text = object.get_generated_content(data)"
   ]
  },
  {
   "cell_type": "code",
   "execution_count": 15,
   "metadata": {},
   "outputs": [
    {
     "name": "stdout",
     "output_type": "stream",
     "text": [
      "\n",
      " JSON saved at C:\\Users\\Kaustubh.keny\\Projects\\office-work\\mywork-repo\\data\\output\\dump_hsbc_17_56.json\n"
     ]
    }
   ],
   "source": [
    "object = HSBC(PATHS_CONFIG,amc_name)\n",
    "final_text = object.refine_extracted_data(extracted_text, flatten = True)\n",
    "dfs = object.merge_and_select_data(final_text,select = True,special = True)\n",
    "Helper.quick_json_dump(dfs,object.JSONPATH)"
   ]
  },
  {
   "cell_type": "markdown",
   "metadata": {},
   "source": [
    "FILES TO BE CLEANED ARE BELOW , DATA ABLE TO EXTRACTED "
   ]
  },
  {
   "cell_type": "code",
   "execution_count": null,
   "metadata": {},
   "outputs": [],
   "source": [
    "folder_path = r'C:\\Users\\Kaustubh.keny\\OneDrive - Cogencis Information Services Ltd\\Documents\\mywork-repo\\data\\ex'\n",
    "all_keys = set()\n",
    "for file in os.listdir(folder_path):\n",
    "     if file.endswith(\".json\"):\n",
    "        path = os.path.join(folder_path, file)\n",
    "        with open(path, \"r\", encoding=\"utf-8\") as file:\n",
    "            data = json.load(file)\n",
    "            \n",
    "            for fund,content in data.items():\n",
    "                for key in content.keys():\n",
    "                    all_keys.add(key)\n",
    "\n",
    "all_keys = list(all_keys)"
   ]
  },
  {
   "cell_type": "code",
   "execution_count": null,
   "metadata": {},
   "outputs": [],
   "source": [
    "import os\n",
    "import json\n",
    "\n",
    "folder_path = r'C:\\Users\\rando\\OneDrive\\Documents\\mywork-repo\\data\\dsp'\n",
    "def extract_keys(data, key_set):\n",
    "    \"\"\"Recursively extract keys from JSON data, ignoring the first level.\"\"\"\n",
    "    if isinstance(data, dict):\n",
    "        for key, value in data.items():\n",
    "            key_set.add(key)\n",
    "            extract_keys(value, key_set)\n",
    "    elif isinstance(data, list):\n",
    "        for item in data:\n",
    "            extract_keys(item, key_set)\n",
    "\n",
    "file_keys = {} \n",
    "\n",
    "for file in os.listdir(folder_path):\n",
    "    if file.endswith(\".json\"):\n",
    "        path = os.path.join(folder_path, file)\n",
    "        try:\n",
    "            with open(path, \"r\", encoding=\"utf-8\") as f:\n",
    "                data = json.load(f)\n",
    "                \n",
    "                unique_keys = set() \n",
    "                for fund_data in data.values():  #first level is fund head\n",
    "                    if isinstance(fund_data, dict):  # Ensure it's a dictionary\n",
    "                        extract_keys(fund_data, unique_keys)\n",
    "                \n",
    "                \n",
    "                match = re.findall(r'^dump_([A-Za-z0-9]+).*\\.json',file,re.IGNORECASE)[0].upper()\n",
    "                file_keys[match] = list(unique_keys)\n",
    "        \n",
    "        except Exception as e:\n",
    "            print(f\"Error reading {file}: {e}\")\n",
    "\n",
    "import pandas as pd\n",
    "df = pd.DataFrame(dict([(k, pd.Series(sorted(v))) for k, v in file_keys.items()]))\n",
    "\n",
    "output_path =\"json_keys.xlsx\"\n",
    "df.to_excel(output_path, index=False)"
   ]
  },
  {
   "cell_type": "code",
   "execution_count": 44,
   "metadata": {},
   "outputs": [],
   "source": [
    "manage = FundHouseManager()\n",
    "\n",
    "for fund in  manage.list_fund_houses():\n",
    "    manage.update_fund_house(fund,\"SPECIAL_FUNCTIONS\",{})"
   ]
  },
  {
   "cell_type": "code",
   "execution_count": null,
   "metadata": {},
   "outputs": [],
   "source": [
    "# CREATE TABLE `mf_json_common_details` (\n",
    "#   `id` int(11) NOT NULL AUTO_INCREMENT,\n",
    "#   `document_detail_id` int(11) DEFAULT NULL,\n",
    "#   `amc_id` int(11) DEFAULT NULL,\n",
    "#   `amc_name` varchar(500) DEFAULT NULL,\n",
    "#   `MainScheme_ID` int(11) DEFAULT NULL,\n",
    "#   `main_scheme_name` varchar(500) DEFAULT NULL,\n",
    "#   `fund_id` int(11) DEFAULT NULL,\n",
    "#   `fund_name` varchar(100) DEFAULT NULL,\n",
    "#   `scheme_objective` varchar(5000) DEFAULT NULL,\n",
    "#   `suitable_for_investors` varchar(10000) DEFAULT NULL,\n",
    "#   `benchmark_index_id` int(11) DEFAULT NULL,\n",
    "#   `benchmark_index` varchar(1000) DEFAULT NULL,\n",
    "#   `min_addl_amt` varchar(50) DEFAULT NULL,\n",
    "#   `min_addl_amt_multiple` varchar(50) DEFAULT NULL,\n",
    "#   `min_amt` varchar(1000) DEFAULT NULL,\n",
    "#   `min_amt_multiple` varchar(50) DEFAULT NULL,\n",
    "#   `monthly_aaum_date` varchar(50) DEFAULT NULL,\n",
    "#   `monthly_aaum_value` varchar(50) DEFAULT NULL,\n",
    "#   `scheme_launch_date` varchar(50) DEFAULT NULL,\n",
    "#   `ytm` varchar(25) DEFAULT NULL,\n",
    "#   `port_turnover_ratio` varchar(25) DEFAULT NULL,\n",
    "#   `mod_duration` varchar(25) DEFAULT NULL,\n",
    "#   `avg_maturity` varchar(25) DEFAULT NULL,\n",
    "#   `macaulay` varchar(25) DEFAULT NULL,\n",
    "#   `sharpe` varchar(25) DEFAULT NULL,\n",
    "#   `std_dev` varchar(25) DEFAULT NULL,\n",
    "#   `beta` varchar(25) DEFAULT NULL,\n",
    "#   `tracking_error` varchar(25) DEFAULT NULL,\n",
    "#   `r_squared_ratio` varchar(45) DEFAULT NULL,\n",
    "#   `average_div_yield` varchar(45) DEFAULT NULL,\n",
    "#   `average_pb` varchar(45) DEFAULT NULL,\n",
    "#   `average_pe` varchar(45) DEFAULT NULL,\n",
    "#   `alpha` varchar(45) DEFAULT NULL,\n",
    "#   `treynor_ratio` varchar(45) DEFAULT NULL,\n",
    "#   `entered_user` varchar(45) DEFAULT NULL,\n",
    "#   `entered_date` timestamp NULL DEFAULT CURRENT_TIMESTAMP,\n",
    "#   `modified_user` varchar(45) DEFAULT NULL,\n",
    "#   `modified_date` timestamp NULL DEFAULT NULL ON UPDATE CURRENT_TIMESTAMP,\n",
    "#   `is_migrated` tinyint(4) DEFAULT NULL,\n",
    "#   `is_valid` tinyint(4) DEFAULT '1',\n",
    "#   `close_date` varchar(45) DEFAULT NULL,\n",
    "#   `open_date` varchar(45) DEFAULT NULL,\n",
    "#   `face_value` varchar(45) DEFAULT NULL,\n",
    "#   `type_of_scheme` varchar(500) DEFAULT NULL,\n",
    "#   `Riskometer` varchar(50) DEFAULT NULL,\n",
    "#   `Riskometer_benchmark` varchar(50) DEFAULT NULL,\n",
    "#   `SchemeCategory_level2_ID` int(11) DEFAULT NULL,\n",
    "#   `information_ratio` varchar(45) DEFAULT NULL,\n",
    "#   `sortino_ratio` varchar(45) DEFAULT NULL,\n",
    "#   `arithmetic_mean_ratio` varchar(45) DEFAULT NULL,\n",
    "#   `correlation_ratio` varchar(45) DEFAULT NULL,\n",
    "#   `roe_ratio` varchar(45) DEFAULT NULL,\n",
    "#   `downside_deviation` varchar(45) DEFAULT NULL,\n",
    "#   `upside_deviation` varchar(45) DEFAULT NULL,\n",
    "#   `price_per_unit` varchar(45) DEFAULT NULL,\n",
    "#   `creation_unit_size` varchar(45) DEFAULT NULL,\n",
    "#   `scheme_code` varchar(45) DEFAULT NULL,\n",
    "#   `sai_weblink` varchar(100) DEFAULT NULL,\n",
    "#   `offer_price` varchar(45) DEFAULT NULL,\n",
    "#   `min_target_amt` varchar(45) DEFAULT NULL,\n",
    "#   `nfo_min_sub_amt` decimal(10,0) DEFAULT NULL,\n",
    "#   PRIMARY KEY (`id`),\n",
    "#   UNIQUE KEY `uc_mf_json_common_details` (`id`,`amc_name`,`main_scheme_name`,`fund_name`,`is_migrated`),\n",
    "#   KEY `fk_mf_json_common_details_document_detail_id_idx` (`document_detail_id`),\n",
    "#   KEY `fk_mf_json_common_details_amc_id_idx` (`amc_id`),\n",
    "#   KEY `fk_mf_json_common_details_main_scheme_id_idx` (`MainScheme_ID`),\n",
    "#   KEY `fk_mf_json_common_details_fund_id_idx` (`fund_id`),\n",
    "#   CONSTRAINT `fk_mf_json_common_details_amc_id` FOREIGN KEY (`amc_id`) REFERENCES `mf_master_amc` (`AMC_ID`) ON DELETE NO ACTION ON UPDATE NO ACTION,\n",
    "#   CONSTRAINT `fk_mf_json_common_details_document_detail_id` FOREIGN KEY (`document_detail_id`) REFERENCES `mf_document_details` (`id`) ON DELETE NO ACTION ON UPDATE NO ACTION,\n",
    "#   CONSTRAINT `fk_mf_json_common_details_fund_id` FOREIGN KEY (`fund_id`) REFERENCES `mf_master_fund` (`Fund_ID`) ON DELETE NO ACTION ON UPDATE NO ACTION,\n",
    "#   CONSTRAINT `fk_mf_json_common_details_main_scheme_id` FOREIGN KEY (`MainScheme_ID`) REFERENCES `mf_master_mainscheme` (`MainScheme_ID`) ON DELETE NO ACTION ON UPDATE NO ACTION\n",
    "# ) ENGINE=InnoDB AUTO_INCREMENT=53143 DEFAULT CHARSET=latin1;"
   ]
  }
 ],
 "metadata": {
  "kernelspec": {
   "display_name": ".venv",
   "language": "python",
   "name": "python3"
  },
  "language_info": {
   "codemirror_mode": {
    "name": "ipython",
    "version": 3
   },
   "file_extension": ".py",
   "mimetype": "text/x-python",
   "name": "python",
   "nbconvert_exporter": "python",
   "pygments_lexer": "ipython3",
   "version": "3.13.1"
  }
 },
 "nbformat": 4,
 "nbformat_minor": 2
}
