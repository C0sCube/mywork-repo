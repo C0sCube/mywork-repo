{
 "cells": [
  {
   "cell_type": "code",
   "execution_count": 1,
   "metadata": {},
   "outputs": [],
   "source": [
    "%load_ext autoreload\n",
    "%autoreload 2\n",
    "import json, os, logging\n",
    "PATHS_CONFIG =os.path.join(os.getcwd(),'paths.json')\n",
    "with open(PATHS_CONFIG,'r') as file:\n",
    "    PATH = json.load(file)\n",
    "    \n",
    "from app.fund_data import *\n",
    "from app.params_handler import *\n",
    "from app.utils import Helper\n",
    "from logging_config import logger\n",
    "\n",
    "logger.info(\"Application Started !!\")\n",
    "mutual_fund = Helper.get_fund_paths(PATH['dirs']['fund_path'])\n",
    "\n",
    "with open(os.path.join(os.getcwd(),PATH[\"configs\"]['regex']),'r') as file:\n",
    "    class_mapper = json.load(file)['main_mapper']"
   ]
  },
  {
   "cell_type": "code",
   "execution_count": null,
   "metadata": {},
   "outputs": [],
   "source": [
    "\"\"\"SHRIRAM MAIN FILE CODE\"\"\"\n",
    "\n",
    "amc_name = \"Shriram Mutual fund\"\n",
    "logger.info(f\"User Ran Fund Data of {amc_name}\")\n",
    "\n",
    "object = Shriram(PATHS_CONFIG,amc_name)\n",
    "path = mutual_fund[amc_name]\n",
    "title_content = object.get_relevant_pages(path)\n",
    "data = object.get_data(path,title_content)\n",
    "extracted_text = object.get_generated_content(data)"
   ]
  },
  {
   "cell_type": "code",
   "execution_count": null,
   "metadata": {},
   "outputs": [],
   "source": [
    "\"\"\"PPFAS MAIN FILE CODE\"\"\"\n",
    "\n",
    "amc_name = \"PPFAS Mutual Fund\"\n",
    "logger.info(f\"User Ran Fund Data of {amc_name}\")\n",
    "\n",
    "object = PPFAS(PATHS_CONFIG,amc_name)\n",
    "path = mutual_fund[amc_name]\n",
    "\n",
    "title_content = object.get_relevant_pages(path)\n",
    "data = object.get_data(path,title_content)\n",
    "extracted_text = object.get_generated_content(data)\n",
    "\n",
    "final_text = object.refine_extracted_data(extracted_text, flatten=True)\n",
    "dfs = object.merge_and_select_data(final_text,select = True,map = True)\n",
    "Helper.quick_json_dump(extracted_text, object.JSONPATH)"
   ]
  },
  {
   "cell_type": "code",
   "execution_count": null,
   "metadata": {},
   "outputs": [],
   "source": [
    "'''AXIS ONE MAIN FILE CODE''' #No issues as of now\n",
    "amc_name = \"Axis Mutual Fund Passive\"\n",
    "logger.info(f\"User Ran Fund Data of {amc_name}\")\n",
    "\n",
    "object = AXISMF(PATHS_CONFIG,amc_name)\n",
    "path = mutual_fund[amc_name]\n",
    "\n",
    "title = object.get_relevant_pages(path)\n",
    "# pages = [6, 7, 8, 9, 10, 11, 12, 13, 14, 15, 16, 17, 18, 19, 20, 21, 22, 23, 24, 25, 26, 27, 28, 29, 30, 31, 32, 33, 34, 35, 36, 37]\n",
    "data = object.get_data(path,title)\n",
    "extracted_text = object.get_generated_content(data)"
   ]
  },
  {
   "cell_type": "code",
   "execution_count": null,
   "metadata": {},
   "outputs": [],
   "source": [
    "object = AXISMF(PATHS_CONFIG,amc_name)\n",
    "final_text = object.refine_extracted_data(extracted_text, flatten=True)\n",
    "dfs = object.merge_and_select_data(final_text,select = True, map = True)\n",
    "Helper.quick_json_dump(dfs,object.JSONPATH)"
   ]
  },
  {
   "cell_type": "code",
   "execution_count": null,
   "metadata": {},
   "outputs": [],
   "source": [
    "\"\"\"*ADITYA BIRLA FILE CODE\"\"\"\n",
    "amc_name = 'Aditya Birla Sun Life Mutual Fund'\n",
    "logging.info(f\"User Ran Fund Data of {amc_name}\")\n",
    "\n",
    "object = AdityaBirla(PATHS_CONFIG,amc_name)\n",
    "path = mutual_fund[amc_name]\n",
    "\n",
    "title = object.get_relevant_pages(path)\n",
    "# pages = [17, 19, 21, 23, 25, 27, 29, 31, 33, 35, 37, 39, 41, 43, 45, 47, 49, 50, 52, 54, 56, 58, 60, 62, 64, 66, 67, 69, 72, 75, 78, 80, 82, 86, 87, 89, 91, 93, 95, 98, 101, 103, 106, 108, 110, 112, 114, 115, 116, 118, 119, 121, 123, 125, 127, 128, 129, 130, 131, 132, 133, 134, 135, 136, 137, 138, 139, 140, 141, 143, 145, 147, 149, 151, 152, 153, 155, 157, 159, 160, 161, 162, 163, 164, 165, 166, 167, 168, 169, 170, 171, 172, 173, 174, 175, 176, 177, 178, 179, 180, 181, 182]\n",
    "data = object.get_data(path,title)\n",
    "extracted_text = object.get_generated_content(data)"
   ]
  },
  {
   "cell_type": "code",
   "execution_count": 3,
   "metadata": {},
   "outputs": [],
   "source": [
    "final_text = object.refine_extracted_data(extracted_text, flatten=True)\n",
    "dfs = object.merge_and_select_data(final_text,select=True,map = True,special=True)\n",
    "# Helper.quick_json_dump(dfs,object.JSONPATH)"
   ]
  },
  {
   "cell_type": "code",
   "execution_count": 4,
   "metadata": {},
   "outputs": [
    {
     "name": "stdout",
     "output_type": "stream",
     "text": [
      "Mr. Mahesh Patil  Mr. Dhaval Joshi November 17, 2005  November 21, 2022 19.2 years  2.3 Years\n",
      "[]\n",
      "Mr. Kunal Sangoi  Mr. Dhaval Joshi May 07, 2021  November 21, 2022 3.7 years  2.3 years\n",
      "[]\n",
      "Mr. Harish Krishnan  Mr. Dhaval Joshi November 03, 2023  November 21, 2022 1.3 years  2.3 Years\n",
      "[]\n",
      "Mr. Dhaval Joshi  Mr. Vishal Gajwani November 21, 2022  November 01, 2024 2.3 Years  0.3 years\n",
      "[]\n",
      "Mr. Chanchal Khandelwal  Mr. Dhaval Joshi December 28, 2021  November 21, 2022 3.2 years  2.3 Years\n",
      "[]\n",
      "Mr. Vishal Gajwani  Mr. Dhaval Joshi November 01, 2024  November 21, 2022 0.3 years  2.3 Years\n",
      "[]\n",
      "Mr. Abhinav Khandelwal, Mr. Harshil Suvarnkar  Mr. Dhaval Joshi November 01, 2024, May 07, 2021  November 21, 2022 0.3 Years, 3.8 Years  2.3 Years\n",
      "[]\n",
      "Mr. Abhinav Khandelwal  Mr. Dhaval Joshi November 01, 2024  November 21, 2022 0.3 years  2.3 Years\n",
      "[]\n",
      "Mr. Kunal Sangoi  Mr. Dhaval Joshi September 22, 2022  November 21, 2022 2.4 years  2.3 Years\n",
      "[]\n",
      "Mr. Harish Krishnan November 03, 2023 1.3 years\n",
      "[]\n",
      "Mr. Dhaval Gala  Mr. Dhaval Joshi August 26, 2015  November 21, 2022 9.5 years  2.3 Years\n",
      "[]\n",
      "Mr. Dhaval Gala  Mr. Dhaval Joshi April 01, 2022  November 21, 2022 2.9 Years  2.3 Years\n",
      "[]\n",
      "Mr. Mahesh Patil, Mr. Jonas Bhutta  Mr. Dhaval Joshi September 22, 2022, September 22, 2022  November 21, 2022 2.5 years, 2.5 years  2.3 Years\n",
      "[]\n",
      "Mr. Kunal Sangoi  Mr. Dhaval Joshi January 16, 2014  November 21, 2022 11.2 years  2.4 Years\n",
      "[]\n",
      "Mr. Chanchal Khandelwal  Mr. Dhaval Joshi August 26, 2015  November 21, 2022 9.5 years  2.5 Years\n",
      "[]\n",
      "Mr. Dhaval Joshi November 21, 2022 2.3 Years\n",
      "[]\n",
      "Mr. Dhaval Shah  Mr. Dhaval Joshi July 11, 2019  November 21, 2022 5.7 Years  2.3 Years\n",
      "[]\n",
      "Mr. Harshil Suvarnkar, Mr. Chanchal Khandelwal  Mr. Dhaval Joshi March 22, 2021, November 01, 2024  November 21, 2022 3.9 years, 0.3 years  2.3 Years\n",
      "[]\n",
      "Mr. Jonas Bhutta  Mr. Dhaval Joshi November 01, 2024  November 21, 2022 0.3 years  2.3 Years\n",
      "[]\n",
      "Mr. Harshil Suvarnkar, Mr. Chanchal Khandelwal  Mr. Dhaval Joshi March 22, 2021, November 01, 2024  November 21, 2022 3.9 years, 0.3 years  2.3 Years\n",
      "[]\n",
      "Mr. Harshil Suvarnkar  Mr. Mohit Sharma March 22, 2021  November 01, 2024 3.9 years  0.3 Years Issuer\n",
      "[]\n",
      "Mr. Dhaval Gala  Mr. Dhaval Joshi September 22, 2022  November 21, 2022 2.4 years  2.5 Years\n",
      "[]\n",
      "Mr. Dhaval Gala  Mr. Dhaval Joshi November 01, 2024  November 21, 2022 0.3 years  2.3 Years\n",
      "[]\n",
      "Mr. Dhaval Joshi  Mr. Chanchal Khandelwal November 21, 2022  November 01, 2024 2.3 Years  0.3 years\n",
      "[]\n",
      "Mr. Harish Krishnan, Mr. Dhaval Joshi  Mr. Dhaval Gala November 03, 2023, November 21, 2022, February 17, 2023 Issuer Banks 1.3 Years, 2.3 Years  2.0 years\n",
      "[]\n",
      "Mr. Dhaval Gala  Mr. Dhaval Joshi November 17, 2023 Issuer Automobiles 1.3 Years  to Net Assets Issuer 44 56 Swiggy Ltd\n",
      "[]\n",
      "Mr. Harish Krishnan  Mr. Dhaval Joshi June 28, 2024 0.7 Years Issuer Pharmaceuticals  Biotechnology\n",
      "[]\n",
      "Mr. Harish Krishnan and Kunal Sangoi December 27, 2024  December 27, 2024 0.2 years  0.2 years\n",
      "[]\n",
      "Mr. Dhaval Shah  Mr. Dhaval Joshi November 01, 2024  November 21, 2022 0.3 years  2.3 Years\n",
      "[]\n",
      "Mr. Harshil Suvarnkar, Mr. Dhaval Joshi  Mr. Chanchal Khandelwal November 23, 2016, November 21, 2022  February 17, 2023 8.3 years,2.3 Years  2.0 years\n",
      "[]\n",
      "Mr. Atul Penkar, Mr. Harshil Suvarnkar  Mr. Lovelish Solanki November 01, 2024, March 22, 2021  September 27, 2024 0.3 years, 3.9 years  0.4 Years\n",
      "[]\n",
      "Mr. Mohit Sharma  Mr. Harshil Suvarnkar November 01, 2024  March 22, 2021 0.3 years  3.9 years\n",
      "[]\n",
      "Mr. Dhaval Gala, Mr. Bhupesh Bameta, Mr. Sachin Wankhede  Mr. Dhaval Joshi November 01, 2024  January 31, 2023 0.3 Years  2.0 years\n",
      "[]\n",
      "Mr. Mohit Sharma, Mr. Lovelish Solanki  Mr. Harish Krishnan April 01, 2017, October 09, 2019  November 01, 2024 7.9 years, 5.3 years  0.3 years\n",
      "[]\n",
      "Mr. Kaustubh Gupta November 1, 2018 6.3 years\n",
      "[]\n",
      "Mr. Kaustubh Gupta, Ms. Sunaina Da Cunha  Mr. Sanjay Pawar July 15, 2011, July 15, 2011, July 01, 2022 13.6 years, 13.6 years, 2.7 Year\n",
      "[]\n",
      "Mr. Kaustubh Gupta, Mr. Mohit Sharma  Mr. Anuj Jain July 15, 2011, April 01, 2017, March 22, 2021 13.6 years, 7.9 years, 3.9 years\n",
      "[]\n",
      "Mr. Kaustubh Gupta  Mr. Mohit Sharma July 15, 2011, April 01, 2017 13.6 years, 7.9 years\n",
      "[]\n",
      "Mr. Kaustubh Gupta, Ms. Sunaina Da Cunha  Ms. Monika Gandhi July 15, 2011, June 20, 2014, March 22, 2021 13.6 years, 10.7 years, 3.9 years\n",
      "[]\n",
      "Mr. Kaustubh Gupta  Mr. Harshil Suvarnkar June 20, 2014, March 22, 2021 10.7 years, 3.9 years\n",
      "[]\n",
      "Mr. Kaustubh Gupta April 01, 2017 7.9 years\n",
      "[]\n",
      "Mr. Kaustubh Gupta  Mr. Mohit Sharma September 11, 2014, August 06, 2020 10.5 years, 4.5 years\n",
      "[]\n",
      "Mr. Kaustubh Gupta  Mr. Harshil Suvarnkar September 29, 2009  March 22, 2021 15.4 years  3.9 years\n",
      "[]\n",
      "Ms. Sunaina Da Cunha  Mr. Mohit Sharma September 1, 2014, August 06, 2020 10.4 years  4.5 years\n",
      "[]\n",
      "Ms. Sunaina Da Cunha  Mr. Mohit Sharma April 17, 2015, August 06, 2020 9.9 years, 4.6 years\n",
      "[]\n",
      "Mr. Bhupesh Bameta  Mr. Mohit Sharma August 06, 2020, March 22, 2021 4.6 years, 3.9 years\n",
      "[]\n",
      "Mr. Bhupesh Bameta August 06, 2020 4.6 years Issuer  Government Bond\n",
      "[]\n",
      "Mr. Bhupesh Bameta August 06, 2020 4.6 years Issuer  Government Bond 7 30 GOI 19JUN53\n",
      "[]\n",
      "Mr. Harshil Suvarnkar November 01, 2024 0.3 Years\n",
      "[]\n",
      "Mr. Lovelish Solanki December 15, 2014 10.2 years\n",
      "[]\n",
      "Mr. Harshil Suvarnkar  Mr. Bhupesh Bameta August 08, 2022,  January 25, 2023 2.6 Years  2.1 years\n",
      "[]\n",
      "Mr. Mohit Sharma March 30, 2022 2.9 Years\n",
      "[]\n",
      "Mr. Mohit Sharma September 24, 2021 3.5 Years\n",
      "[]\n",
      "Mr. Bhupesh Bameta  Mr. Harshil Survankar January 28, 2022 3.1 Years\n",
      "[]\n",
      "Mr. Mohit Sharma March 29, 2022 2.9 Years\n",
      "[]\n",
      "Mr. Bhupesh Bameta  Mr. Sanjay Godambe September 28, 2022 2.4 Years\n",
      "[]\n",
      "Mr. Bhupesh Bameta  Mr. Sanjay Godambe October 07, 2022 2.3 Years\n",
      "[]\n",
      "Mr. Mohit Sharma  Mr. Sanjay Godambe October 13, 2022 2.4 Years\n",
      "[]\n",
      "Mr. Harshil Suvarnkar  Mr. Sanjay Godambe October 19, 2022 2.4 Years\n",
      "[]\n",
      "Mr. Harshil Suvarnkar March 14, 2023 2.0 Years\n",
      "[]\n",
      "Mr. Bhupesh Bameta  Mr. Sanjay Godambe March 15, 2023 2.0 Years\n",
      "[]\n",
      "Mr. Bhupesh Bameta  Mr. Mohit Sharma February 14, 2023 2.0 years\n",
      "[]\n",
      "Mr. Bhupesh Bameta  Mr. Sanjay Godambe December 02, 2022 2.2 Years\n",
      "[]\n",
      "Mr. Bhupesh Bameta  Mr. Sanjay Godambe December 22, 2023 1.2 Years\n",
      "[]\n",
      "Mr. Bhupesh Bameta  Mr. Sanjay Godambe June 05, 2024 0.7 Years\n",
      "[]\n",
      "Mr. Sanjay Godambe  Mr. Mohit Sharma October 15, 2024 0.4 Years\n",
      "[]\n",
      "Mr. Harshil Suvarnkar  Mr. Vighnesh Gupta October 08, 2024 0.4 Years\n",
      "[]\n",
      "Mr. Harshil Survankar  Mr. Vighnesh Gupta November 13, 2024 0.3 Years\n",
      "[]\n",
      "Mr. Harshil Survankar  Mr. Sanjay Pawar December 17, 2024 0.2 Years\n",
      "[]\n",
      "Ms. Priya Sridhar December 31, 2024 0.2 years\n",
      "[]\n",
      "Ms. Priya Sridhar December 31, 2024 0.2 Years\n",
      "[]\n",
      "Ms. Priya Sridhar December 31, 2024 0.2 Years Issuer Finance\n",
      "[]\n",
      "Ms. Priya Sridhar December 31, 2024 0.2 Years\n",
      "[]\n",
      "Ms. Priya Sridhar December 31, 2024 0.2 Years\n",
      "[]\n",
      "Ms. Priya Sridhar December 31, 2024 0.2 Years\n",
      "[]\n",
      "Ms. Priya Sridhar December 31, 2024 0.2 years\n",
      "[]\n",
      "Ms. Priya Sridhar December 31, 2024 0.2 Years\n",
      "[]\n",
      "Ms. Priya Sridhar December 31, 2024 0.2 Years\n",
      "[]\n",
      "Ms. Priya Sridhar December 31, 2024 0.2 Years\n",
      "[]\n",
      "Ms. Priya Sridhar December 31, 2024 0.2 Years\n",
      "[]\n",
      "Ms. Priya Sridhar December 31, 2024 0.2 Years\n",
      "[]\n",
      "Ms. Priya Sridhar December 31, 2024 0.2 Years\n",
      "[]\n",
      "Ms. Priya Sridhar December 31, 2024 0.2 Years\n",
      "[]\n",
      "Mr. Sachin Wankhede February 23, 2022 3.0 Years\n",
      "[]\n",
      "Mr. Sachin Wankhede January 31, 2022 3.1 Years Issuer SILVER\n",
      "[]\n",
      "Ms. Priya Sridhar December 31, 2024 0.2 Years Issuer IT - Software Infosys Limited\n",
      "[]\n",
      "Ms. Priya Sridhar December 31, 2024 0.2 Years Issuer IT - Software Infosys Limited\n",
      "[]\n",
      "Mr. Sanjay Pawar  Ms. Sunaina da Cunha March 13, 2023 2.0 years\n",
      "[]\n",
      "Mr. Kaustubh Gupta, Mr. Harshil Suvarnkar  Mr. Vighnesh Gupta July 05, 2024 0.7 Years\n",
      "[]\n",
      "Mr. Bhupesh Bameta, Mr. Sanjay Godambe  Mr. Vighnesh Gupta August 13, 2024 0.5 Years\n",
      "[]\n",
      "Mr. Vinod Bhat  Mr. Dhaval Joshi August 16, 2019  November 21, 2022 5.5 years  2.3 Years\n",
      "[]\n",
      "Mr. Vinod Bhat  Mr. Dhaval Joshi August 16, 2019  November 21, 2022 5.5 years  2.3 Years\n",
      "[]\n",
      "Mr. Vinod Bhat  Mr. Dhaval Joshi August 16, 2019  November 21, 2022 5.5 years  2.3 Years\n",
      "[]\n",
      "Mr. Vinod Bhat  Mr. Dhaval Joshi August 16, 2019  November 21, 2022 5.5 years  2.3 Years\n",
      "[]\n",
      "Mr. Kaustubh Gupta March 03, 2025 3.9 years\n",
      "[]\n",
      "Mr. Dhaval Joshi November 21, 2022 2.3 Years Issuer\n",
      "[]\n",
      "Mr. Dhaval Joshi November 21, 2022 2.3 Years\n",
      "[]\n",
      "Mr. Dhaval Joshi November 21, 2022 2.3 Years\n",
      "[]\n",
      "Ms. Priya Sridhar December 31, 2024 0.2 Years\n",
      "[]\n",
      "Ms. Priya Sridhar December 31, 2024 0.2 Years\n",
      "[]\n",
      "Mr. Dhaval Joshi  Mr. Vinod Bhat March 10, 2023 2.0 Years\n",
      "[]\n",
      "Mr. Vighnesh Gupta  Mr. Bhupesh Bameta November 02, 2023  November 02, 2023 1.3 Years  1.3 Years\n",
      "[]\n",
      "Mr. Vighnesh Gupta  Mr. Bhupesh Bameta November 02, 2023  November 02, 2023 1.3 Years  1.3 Years\n",
      "[]\n"
     ]
    }
   ],
   "source": [
    "pattern = r'(?:Entry Load)?\\s*(Nil|.*?)\\s*Exit Load\\s*(.*)$'\n",
    "for fund, content in dfs.items():\n",
    "    check = 'fund_manager'\n",
    "    if check in content:\n",
    "        all_text = \"\".join(content[check]) if isinstance(content[check], list) else \"\".join(content[check].values()) if isinstance(content[check], dict) else content[check]\n",
    "        all_text =re.sub(r'[^A-Za-z0-9\\s\\-\\(\\).,]+', \"\", all_text).strip()\n",
    "        print(all_text)\n",
    "        print(re.findall(pattern,all_text, re.IGNORECASE))"
   ]
  },
  {
   "cell_type": "code",
   "execution_count": null,
   "metadata": {},
   "outputs": [],
   "source": []
  },
  {
   "cell_type": "code",
   "execution_count": null,
   "metadata": {},
   "outputs": [],
   "source": [
    "\"\"\"BANDHAN MF FILE MAIN CODE\"\"\" # rgex for fund manager\n",
    "\n",
    "amc_name = \"Bandhan Mutual Fund\"\n",
    "logging.info(f\"User Ran Fund Data of {amc_name}\")\n",
    "\n",
    "object = Bandhan(PATHS_CONFIG,amc_name)\n",
    "path = mutual_fund[amc_name]\n",
    "\n",
    "title= object.get_relevant_pages(path)\n",
    "# pages = [15, 16, 17, 18, 19, 20, 21, 22, 23, 24, 25, 26, 27, 28, 29, 30, 31, 32, 33, 34, 35, 36, 37, 38, 39, 40, 41, 43, 44, 45, 46, 47, 48, 49, 50, 51, 52, 53, 54, 55, 56, 57, 58, 59, 60, 61, 62, 63, 64, 65, 66, 67, 68, 69, 70, 71, 72, 73, 74, 75, 76, 77, 78, 79, 80, 81]\n",
    "# title = df.title.to_dict()\n",
    "data  = object.get_data(path,title)\n",
    "extracted_text = object.get_generated_content(data)\n",
    "final_text = object.refine_extracted_data(extracted_text, flatten = True)\n",
    "dfs = object.merge_and_select_data(final_text,select=True, map = True)\n",
    "Helper.quick_json_dump(dfs, object.JSONPATH)"
   ]
  },
  {
   "cell_type": "code",
   "execution_count": null,
   "metadata": {},
   "outputs": [],
   "source": [
    "\"\"\" BARODA BNP MAIN FILE CODE\"\"\"\n",
    "\n",
    "amc_name = 'Baroda BNP Paribas Mutual Fund'\n",
    "logging.info(f\"User Ran Fund Data of {amc_name}\")\n",
    "path = mutual_fund[amc_name]\n",
    "object = BarodaBNP(PATHS_CONFIG,amc_name)\n",
    "title= object.get_relevant_pages(path)\n",
    "data  = object.get_data(path,title)\n",
    "extracted_text = object.get_generated_content(data)\n",
    "object = BarodaBNP(PATHS_CONFIG,amc_name)\n",
    "final_text = object.refine_extracted_data(extracted_text, flatten = True)\n",
    "dfs = object.merge_and_select_data(final_text, select = True, map = True)\n",
    "Helper.quick_json_dump(dfs, object.JSONPATH)"
   ]
  },
  {
   "cell_type": "code",
   "execution_count": null,
   "metadata": {},
   "outputs": [],
   "source": [
    "\"\"\"BANK OF INDIA\"\"\" #Regex\n",
    "\n",
    "amc_name = 'Bank of India Mutual Fund'\n",
    "logging.info(f\"User Ran Fund Data of {amc_name}\")\n",
    "\n",
    "object = BankOfIndia(PATHS_CONFIG,amc_name)\n",
    "path = mutual_fund[amc_name]\n",
    "title= object.get_relevant_pages(path)\n",
    "# title = df.title.to_dict()\n",
    "# pages =[6, 7, 8, 9, 10, 11, 12, 13, 14, 15, 16, 17, 18, 19, 20, 21, 22, 23, 24]\n",
    "data = object.get_data(path,title)\n",
    "extracted_text = object.get_generated_content(data)\n",
    "object = BankOfIndia(PATHS_CONFIG,amc_name)\n",
    "final_text = object.refine_extracted_data(extracted_text)\n",
    "dfs = object.merge_and_select_data(final_text,select = True, map = True)\n",
    "Helper.quick_json_dump(dfs, object.JSONPATH)"
   ]
  },
  {
   "cell_type": "code",
   "execution_count": null,
   "metadata": {},
   "outputs": [],
   "source": [
    "\"\"\"BAJAJ FINSERV MAIN FILE CODE\"\"\" #manager regex robust\n",
    "\n",
    "amc_name = 'Bajaj finserv Mutual Fund'\n",
    "logging.info(f\"User Ran Fund Data of {amc_name}\")\n",
    "\n",
    "object = BajajFinServ(PATHS_CONFIG,amc_name)\n",
    "path = mutual_fund[amc_name]\n",
    "\n",
    "title= object.get_relevant_pages(path)\n",
    "# pages = [17, 19, 21, 23, 25, 26, 28, 30, 31, 32, 33, 34, 35, 36, 37, 38]\n",
    "# title = df.title.to_dict()\n",
    "data = object.get_data(path,title)\n",
    "extracted_text = object.get_generated_content(data)\n",
    "object = BajajFinServ(PATHS_CONFIG,amc_name)\n",
    "final_text = object.refine_extracted_data(extracted_text, flatten = True)\n",
    "dfs = object.merge_and_select_data(final_text, select=True,map = True)\n",
    "Helper.quick_json_dump(dfs, object.JSONPATH)"
   ]
  },
  {
   "cell_type": "code",
   "execution_count": null,
   "metadata": {},
   "outputs": [],
   "source": [
    "\"\"\"CANARA MUTUAL FUND\"\"\" \n",
    "\n",
    "amc_name = 'Canara Robeco Mutual Fund'\n",
    "logging.info(f\"User Ran Fund Data of {amc_name}\")\n",
    "\n",
    "object = Canara(PATHS_CONFIG,amc_name)\n",
    "path = mutual_fund[amc_name]\n",
    "\n",
    "title= object.get_relevant_pages(path)\n",
    "# pages = [8, 9, 10, 11, 12, 13, 14, 15, 16, 17, 18, 19, 20, 21, 22, 23, 24, 25, 26, 27, 28, 29, 30, 31, 32]\n",
    "data = object.get_data(path,title)\n",
    "extracted_text = object.get_generated_content(data)\n",
    "final_text = object.refine_extracted_data(extracted_text, flatten = True)\n",
    "dfs = object.merge_and_select_data(final_text,select = True,map = True, special = True)\n",
    "Helper.quick_json_dump(dfs, object.JSONPATH)"
   ]
  },
  {
   "cell_type": "code",
   "execution_count": null,
   "metadata": {},
   "outputs": [],
   "source": [
    "\"\"\"DSP MAIN FILE CODE\"\"\"\n",
    "\n",
    "amc_name = 'DSP Mutual Fund'\n",
    "logging.info(f\"User Ran Fund Data of {amc_name}\")\n",
    "\n",
    "object = DSP(PATHS_CONFIG,amc_name)\n",
    "path = mutual_fund['DSP Mutual Fund']\n",
    "title= object.get_relevant_pages(path)\n",
    "# title = df.title.to_dict()\n",
    "# pages = [1, 2, 3, 4, 5, 6, 7, 8, 9, 10, 11, 12, 13, 14, 15, 16, 17, 18, 19, 20, 21, 23, 24, 25, 26, 27, 28, 29, 30, 31, 32, 33, 34, 35, 36, 37, 38, 39, 40, 41, 42, 43, 44, 45, 46, 47, 48, 49, 50, 51, 52, 53, 54, 55, 56, 57, 58, 59, 60, 61, 62, 63, 64, 65, 66, 67]\n",
    "data = object.get_data(path,title)\n",
    "extracted_text = object.get_generated_content(data)\n",
    "final_text = object.refine_extracted_data(extracted_text,flatten = True)\n",
    "dfs = object.merge_and_select_data(final_text,select = True,map = True)\n",
    "Helper.quick_json_dump(dfs,object.JSONPATH)"
   ]
  },
  {
   "cell_type": "code",
   "execution_count": null,
   "metadata": {},
   "outputs": [],
   "source": [
    "\"\"\"EDELWEISS MP FILE MAIN CODE\"\"\" #Issues: objective in seperate dict,#metrics are weird, scheme launch date issue\n",
    "\n",
    "amc_name = 'Edelweiss Mutual Fund'\n",
    "logging.info(f\"User Ran Fund Data of {amc_name}\")\n",
    "\n",
    "object = Edelweiss(PATHS_CONFIG,amc_name)\n",
    "path = mutual_fund[amc_name]\n",
    "title= object.get_relevant_pages(path)\n",
    "# title= object.get_proper_fund_names(path)\n",
    "# pages = list(title.keys())\n",
    "data = object.get_data(path,title)\n",
    "extracted_text = object.get_generated_content(data)\n",
    "object = Edelweiss(PATHS_CONFIG,amc_name)\n",
    "final_text = object.refine_extracted_data(extracted_text, flatten = True)\n",
    "dfs = object.merge_and_select_data(final_text, select = True, map = True)\n",
    "Helper.quick_json_dump(dfs, object.JSONPATH)"
   ]
  },
  {
   "cell_type": "code",
   "execution_count": 79,
   "metadata": {},
   "outputs": [
    {
     "name": "stdout",
     "output_type": "stream",
     "text": [
      "\n",
      "\tJSON saved at C:\\Users\\Kaustubh.keny\\Projects\\office-work\\mywork-repo\\data\\output\\dump_Edelweiss_15_00.json\n"
     ]
    }
   ],
   "source": [
    "object = Edelweiss(PATHS_CONFIG,amc_name)\n",
    "final_text = object.refine_extracted_data(extracted_text, flatten = True)\n",
    "dfs = object.merge_and_select_data(final_text, select = True, map = True)\n",
    "Helper.quick_json_dump(dfs, object.JSONPATH)"
   ]
  },
  {
   "cell_type": "code",
   "execution_count": null,
   "metadata": {},
   "outputs": [],
   "source": [
    "\"\"\"FRANKLIN TEMPLETON FILE MAIN CODE\"\"\"\n",
    "\n",
    "amc_name = \"Franklin Templeton Mutual Fund\"\n",
    "logging.info(f\"User Ran Fund Data of {amc_name}\")\n",
    "\n",
    "object = FranklinTempleton(PATHS_CONFIG,amc_name)\n",
    "path = mutual_fund[amc_name]\n",
    "\n",
    "title= object.get_relevant_pages(path)\n",
    "# title = df.title.to_dict()\n",
    "# pages = [17, 18, 19, 20, 21, 22, 23, 24, 25, 26, 27, 28, 29, 30, 31, 32, 33, 34, 35, 36, 37, 38, 39, 40, 41, 42, 43, 44, 45, 46, 47, 48, 49, 50]\n",
    "data = object.get_data(path,title)\n",
    "extracted_text = object.get_generated_content(data)"
   ]
  },
  {
   "cell_type": "code",
   "execution_count": 41,
   "metadata": {},
   "outputs": [
    {
     "name": "stdout",
     "output_type": "stream",
     "text": [
      "\n",
      " JSON saved at C:\\Users\\Kaustubh.keny\\Projects\\office-work\\mywork-repo\\data\\feb25output\\dump_Franklin_10_45.json\n"
     ]
    }
   ],
   "source": [
    "final_text = object.refine_extracted_data(extracted_text, flatten = True)\n",
    "dfs = object.merge_and_select_data(final_text,select = True,map = True)\n",
    "Helper.quick_json_dump(dfs, object.JSONPATH)"
   ]
  },
  {
   "cell_type": "code",
   "execution_count": null,
   "metadata": {},
   "outputs": [],
   "source": [
    "\"\"\"GROWW MUTUAL FUND MAIN CODE\"\"\"\n",
    "\n",
    "amc_name = \"Groww Mutual Fund\"\n",
    "logging.info(f\"User Ran Fund Data of {amc_name}\")\n",
    "object = GROWW(PATHS_CONFIG,amc_name)\n",
    "path = mutual_fund[amc_name]\n",
    "title= object.get_relevant_pages(path)\n",
    "# pages = [13, 14, 15, 16, 17, 18, 19, 20, 21, 22, 23, 24, 26, 28, 29, 30, 32, 33, 34, 35, 36, 37, 38, 39, 40, 41, 42]\n",
    "data = object.get_data(path,title)\n",
    "extracted_text = object.get_generated_content(data)"
   ]
  },
  {
   "cell_type": "code",
   "execution_count": 81,
   "metadata": {},
   "outputs": [
    {
     "name": "stdout",
     "output_type": "stream",
     "text": [
      "\n",
      "\tJSON saved at C:\\Users\\Kaustubh.keny\\Projects\\office-work\\mywork-repo\\data\\output\\dump_GROWW_15_01.json\n"
     ]
    }
   ],
   "source": [
    "final_text = object.refine_extracted_data(extracted_text, flatten = True)\n",
    "dfs = object.merge_and_select_data(final_text,select = True, map = True)\n",
    "Helper.quick_json_dump(dfs,object.JSONPATH)"
   ]
  },
  {
   "cell_type": "code",
   "execution_count": 44,
   "metadata": {},
   "outputs": [
    {
     "name": "stdout",
     "output_type": "stream",
     "text": [
      "07 -- HDFC Flexi Cap Fund  \n",
      "08 -- HDFC Flexi Cap Fund  \n",
      "09 -- HDFC Multi Cap Fund  \n",
      "10 -- HDFC Multi Cap Fund  \n",
      "11 -- HDFC Multi Cap Fund  \n",
      "12 -- HDFC Large Cap Fund  \n",
      "13 -- HDFC Mid-Cap Opportunities Fund  \n",
      "14 -- HDFC Mid-Cap Opportunities Fund  \n",
      "15 -- HDFC Small Cap Fund  \n",
      "16 -- HDFC Small Cap Fund  \n",
      "17 -- HDFC Large and Mid Cap Fund  \n",
      "18 -- HDFC Large and Mid Cap Fund  \n",
      "19 -- HDFC Large and Mid Cap Fund  \n",
      "20 -- HDFC Capital Builder Value Fund  \n",
      "21 -- HDFC Capital Builder Value Fund  \n",
      "22 -- HDFC Dividend Yield Fund  \n",
      "23 -- HDFC Dividend Yield Fund  \n",
      "24 -- HDFC Focused 30 Fund  \n",
      "25 -- HDFC Business Cycle Fund  \n",
      "26 -- HDFC Business Cycle Fund  \n",
      "27 -- HDFC Transportation and Logistics Fund  \n",
      "28 -- HDFC Defence Fund  \n",
      "29 -- HDFC Banking  Financial Services Fund  \n",
      "30 -- HDFC Technology Fund  \n",
      "31 -- HDFC Pharma and Healthcare Fund  \n",
      "32 -- HDFC Housing Opportunities Fund  \n",
      "33 -- HDFC Infrastructure Fund  \n",
      "34 -- HDFC Infrastructure Fund  \n",
      "35 -- HDFC MNC Fund  \n",
      "36 -- HDFC Non-Cyclical Consumer Fund  \n",
      "37 -- HDFC Manufacturing Fund  \n",
      "38 -- HDFC Manufacturing Fund  \n",
      "39 -- HDFC Balanced Advantage Fund  \n",
      "40 -- HDFC Balanced Advantage Fund  \n",
      "41 -- HDFC Balanced Advantage Fund  \n",
      "42 -- HDFC Balanced Advantage Fund  \n",
      "43 -- HDFC Hybrid Equity Fund  \n",
      "44 -- HDFC Hybrid Equity Fund  \n",
      "45 -- HDFC Multi-Asset Fund  \n",
      "46 -- HDFC Multi-Asset Fund  \n",
      "47 -- HDFC Asset Allocator Fund of Funds\n",
      "48 -- HDFC Dynamic PE Ratio Fund of Funds\n",
      "49 -- HDFC Equity Savings Fund  \n",
      "50 -- HDFC Equity Savings Fund  \n",
      "51 -- HDFC Hybrid Debt Fund  \n",
      "52 -- HDFC Hybrid Debt Fund  \n",
      "55 -- HDFC Childrens Fund  \n",
      "56 -- HDFC Childrens Fund  \n",
      "57 -- HDFC Retirement Savings Fund \n",
      "58 -- HDFC Retirement Savings Fund \n",
      "59 -- HDFC Retirement Savings Fund \n",
      "60 -- HDFC Retirement Savings Fund \n",
      "61 -- HDFC Retirement Savings Fund \n",
      "62 -- HDFC Retirement Savings Fund \n",
      "63 -- HDFC Overnight Fund  \n",
      "64 -- HDFC Liquid Fund  \n",
      "65 -- HDFC Liquid Fund  \n",
      "66 -- HDFC Ultra Short Term Fund  \n",
      "67 -- HDFC Ultra Short Term Fund  \n",
      "68 -- HDFC Low Duration Fund  \n",
      "69 -- HDFC Low Duration Fund  \n",
      "70 -- HDFC Money Market Fund  \n",
      "71 -- HDFC Money Market Fund  \n",
      "72 -- HDFC Short Term Debt Fund  \n",
      "73 -- HDFC Short Term Debt Fund  \n",
      "74 -- HDFC Medium Term Debt Fund  \n",
      "75 -- HDFC Medium Term Debt Fund  \n",
      "76 -- HDFC Income Fund  \n",
      "77 -- HDFC Long Duration Debt Fund  \n",
      "78 -- HDFC Arbitrage Fund  \n",
      "79 -- HDFC Arbitrage Fund  \n",
      "80 -- HDFC Arbitrage Fund  \n",
      "81 -- HDFC Floating Rate Debt Fund  \n",
      "82 -- HDFC Floating Rate Debt Fund  \n",
      "83 -- HDFC Corporate Bond Fund  \n",
      "84 -- HDFC Corporate Bond Fund  \n",
      "85 -- HDFC Banking and PSU Debt Fund  \n",
      "86 -- HDFC Credit Risk Debt Fund  \n",
      "87 -- HDFC Credit Risk Debt Fund  \n",
      "88 -- HDFC Dynamic Debt Fund  \n",
      "89 -- HDFC Gilt Fund  \n",
      "\n",
      "\tDoc Saved At: C:\\Users\\Kaustubh.keny\\Projects\\office-work\\mywork-repo\\data\\output\\pdf_report.xlsx\n",
      "\n",
      "\n",
      "\n",
      "Parsing Completed, Refining Data.....\n",
      "--<<HDFC Flexi Cap Fund>>--\n",
      "--<<HDFC Multi Cap Fund>>--\n",
      "--<<HDFC Large Cap Fund>>--\n",
      "--<<HDFC Mid-Cap Opportunities Fund>>--\n",
      "--<<HDFC Small Cap Fund>>--\n",
      "--<<HDFC Large and Mid Cap Fund>>--\n",
      "--<<HDFC Capital Builder Value Fund>>--\n",
      "--<<HDFC Dividend Yield Fund>>--\n",
      "--<<HDFC Focused 30 Fund>>--\n",
      "--<<HDFC Business Cycle Fund>>--\n",
      "--<<HDFC Transportation and Logistics Fund>>--\n",
      "--<<HDFC Defence Fund>>--\n",
      "--<<HDFC Banking  Financial Services Fund>>--\n",
      "--<<HDFC Technology Fund>>--\n",
      "--<<HDFC Pharma and Healthcare Fund>>--\n",
      "--<<HDFC Housing Opportunities Fund>>--\n",
      "--<<HDFC Infrastructure Fund>>--\n",
      "--<<HDFC MNC Fund>>--\n",
      "--<<HDFC Non-Cyclical Consumer Fund>>--\n",
      "--<<HDFC Manufacturing Fund>>--\n",
      "--<<HDFC Balanced Advantage Fund>>--\n",
      "--<<HDFC Hybrid Equity Fund>>--\n",
      "--<<HDFC Multi-Asset Fund>>--\n",
      "--<<HDFC Asset Allocator Fund of Funds>>--\n",
      "--<<HDFC Dynamic PE Ratio Fund of Funds>>--\n",
      "--<<HDFC Equity Savings Fund>>--\n",
      "--<<HDFC Hybrid Debt Fund>>--\n",
      "--<<HDFC Childrens Fund>>--\n",
      "--<<HDFC Retirement Savings Fund>>--\n",
      "--<<HDFC Overnight Fund>>--\n",
      "--<<HDFC Liquid Fund>>--\n",
      "--<<HDFC Ultra Short Term Fund>>--\n",
      "--<<HDFC Low Duration Fund>>--\n",
      "--<<HDFC Money Market Fund>>--\n",
      "--<<HDFC Short Term Debt Fund>>--\n",
      "--<<HDFC Medium Term Debt Fund>>--\n",
      "--<<HDFC Income Fund>>--\n",
      "--<<HDFC Long Duration Debt Fund>>--\n",
      "--<<HDFC Arbitrage Fund>>--\n",
      "--<<HDFC Floating Rate Debt Fund>>--\n",
      "--<<HDFC Corporate Bond Fund>>--\n",
      "--<<HDFC Banking and PSU Debt Fund>>--\n",
      "--<<HDFC Credit Risk Debt Fund>>--\n",
      "--<<HDFC Dynamic Debt Fund>>--\n",
      "--<<HDFC Gilt Fund>>--\n"
     ]
    }
   ],
   "source": [
    "\"\"\"HDFC MUTUAL FUND\"\"\"\n",
    "amc_name = \"HDFC Mutual Fund\"\n",
    "logging.info(f\"User Ran Fund Data of {amc_name}\")\n",
    "\n",
    "object = HDFC(PATHS_CONFIG,amc_name)\n",
    "path = mutual_fund[amc_name]\n",
    "\n",
    "title= object.get_relevant_pages(path)\n",
    "# pages = [5, 6, 8, 10, 11, 12, 13, 14, 15, 16, 17, 18, 19, 20, 21, 22, 23, 24, 25, 26, 27, 28, 29, 30, 31, 32, 33, 34, 35, 36, 37, 38, 39, 40, 41, 42, 43, 44, 45, 46, 47, 48, 49, 50, 51]\n",
    "data = object.get_data(path,title)\n",
    "extracted_text = object.get_generated_content(data)"
   ]
  },
  {
   "cell_type": "code",
   "execution_count": 65,
   "metadata": {},
   "outputs": [
    {
     "name": "stdout",
     "output_type": "stream",
     "text": [
      "\n",
      "\tJSON saved at C:\\Users\\Kaustubh.keny\\Projects\\office-work\\mywork-repo\\data\\output\\dump_HDFC_17_12.json\n"
     ]
    }
   ],
   "source": [
    "object = HDFC(PATHS_CONFIG,amc_name)\n",
    "final_text = object.refine_extracted_data(extracted_text,flatten = True)\n",
    "# dfs = object.merge_and_select_data(final_text, select = True,map = True)\n",
    "Helper.quick_json_dump(final_text,object.JSONPATH)"
   ]
  },
  {
   "cell_type": "code",
   "execution_count": 61,
   "metadata": {},
   "outputs": [
    {
     "name": "stdout",
     "output_type": "stream",
     "text": [
      "Name Since Total Exp Roshi Jain July 29, 2022 over 19 years\n",
      "['July 29, 2022']\n",
      "Name Since Total Exp December 10, over 21 Gopal Agrawal 2021 years\n",
      "['December 10, over 21 Gopal Agrawal 2021']\n",
      "Name Since Total Exp Rahul Baijal  July 29, 2022 over 24 years\n",
      "['July 29, 2022']\n",
      "Name Since Total Exp June 25, Chirag Setalvad over 28 years 2007\n",
      "['June 25, Chirag Setalvad over 28 years 2007']\n",
      "Name Since Total Exp June 28, Chirag Setalvad over 28 years 2014\n",
      "['June 28, Chirag Setalvad over 28 years 2014']\n",
      "Name Since Total Exp Gopal Agrawal  July 16, 2020 over 21 years\n",
      "['July 16, 2020']\n",
      "Name Since Total Exp February 01, Anand Laddha over 21 years 2024\n",
      "['February 01, Anand Laddha over 21 years 2024']\n",
      "Name Since Total Exp December Gopal Agrawal over 21 years 18, 2020\n",
      "['years 18, 2020']\n",
      "Name Since Total Exp Roshi Jain January 13, 2022 over 19 years\n",
      "['January 13, 2022']\n",
      "Name Since Total Exp November Rahul Baijal over 24 years 30, 2022\n",
      "['years 30, 2022']\n",
      "Name Since Total Exp over 17 Priya Ranjan August 17, 2023 years\n",
      "['August 17, 2023']\n",
      "Name Since Total Exp over 20 Abhishek Poddar  June 02, 2023 years\n",
      "['June 02, 2023']\n",
      "Name Since Total Exp Anand Laddha July 1, 2021 over 21 years\n",
      "['July 1, 2021']\n",
      "Name Since Total Exp September 8, over 15 Balakumar B 2023 years\n",
      "['September 8, over 15 Balakumar B 2023']\n",
      "Name Since Total Exp Nikhil Mathur  October 4,2023 over 15 years\n",
      "['October 4,2023']\n",
      "Name Since Total Exp Srinivasan January 12, over 17 Ramamurthy 2024 years\n",
      "['January 12, over 17 Ramamurthy 2024']\n",
      "Name Since Total Exp Srinivasan January 12, over 17 years Ramamurthy 2024\n",
      "['January 12, over 17 years Ramamurthy 2024']\n",
      "Name Since Total Exp Rahul Baijal March 09, 2023 over 24 years\n",
      "['March 09, 2023']\n",
      "Name Since Total Exp Amit Sinha July 12, 2023 over 21 years\n",
      "['July 12, 2023']\n",
      "Name Since Total Exp May 16, Rakesh Sethia over 17 years 2024\n",
      "['May 16, Rakesh Sethia over 17 years 2024']\n",
      "Name Since Total Exp Gopal Agrawal July 29, over 21 (Equity Portfolio) 2022 years Anil Bamboli (Debt July 29, over 30 Portfolio) 2022 years Nirman Morakhia February over 17 (Arbitrage Portfolio) 15, 2023 years Arun Agarwal October 6, over 26 (Arbitrage Portfolio) 2022 years Srinivasan July 29, over 17 Ramamurthy (Equity 2022 years Portfolio)\n",
      "['July 29, over 21 (Equity Portfolio) 2022', 'July 29, over 30 Portfolio) 2022', 'October 6, over 26 (Arbitrage Portfolio) 2022', 'July 29, over 17 Ramamurthy (Equity 2022']\n",
      "Name Since Total Exp Chirag Setalvad April 2, 2007 over 28 years Equity Portfolio Anupam Joshi October 6, over 19 years Debt Portfolio 2022\n",
      "['April 2, 2007', 'October 6, over 19 years Debt Portfolio 2022']\n",
      "Name Since Total Exp Anil Bamboli (Debt August over 30 Portfolio) 17, 2005 years Nirman Morakhia February over 17 (Arbitrage Portfolio) 15, 2023 years Arun Agarwal August over 26 (Arbitrage Portfolio) 24, 2020 years Srinivasan Ramamurthy January over 17 (Equity Portfolio) 13, 2022 years Bhagyesh Kagalkar (Dedicated Fund February over 30 Manager for 02, 2022 years commodities related investments viz. Gold\n",
      "['for 02, 2022']\n",
      "Name Since Total Exp Anil Bamboli (Debt May 05, over 30 Portfolio) 2021 years Srinivasan Ramamurthy January over 17 (Equity Portfolio) 13, 2022 years Bhagyesh Kagalkar (Dedicated Fund February over 30 Manager for 02, 2022 years commodities related investments viz. Gold)\n",
      "['May 05, over 30 Portfolio) 2021', 'for 02, 2022']\n",
      "Name Since Total Exp Anil Bamboli (Debt June 28, over 30 Portfolio) 2014 years Srinivasan January 13, over 17 Ramamurthy (Equity 2022 years Portfolio)\n",
      "['June 28, over 30 Portfolio) 2014', 'January 13, over 17 Ramamurthy (Equity 2022']\n",
      "Name Since Total Exp Anil Bamboli (Debt September over 30 Portfolio) 17, 2004 years Nirman Morakhia February over 17 (Arbitrage Portfolio) 15, 2023 years Arun Agarwal August 24, over 26 (Arbitrage Portfolio) 2020 years Srinivasan December over 17 Ramamurthy (Equity 14, 2021 years Portfolio)\n",
      "['August 24, over 26 (Arbitrage Portfolio) 2020', 'Equity 14, 2021']\n",
      "Name Since Total Exp Shobhit Mehrotra (Debt September over 32 Portfolio) 1, 2007 years Srinivasan Ramamurthy December over 17 (Equity Portfolio) 14, 2021 years\n",
      "[]\n",
      "Name Since Total Exp Chirag Setalvad April 2, 2007 over 28 years Equity Portfolio Anil Bamboli October 6, over 30 years Debt Portfolio 2022\n",
      "['April 2, 2007', 'October 6, over 30 years Debt Portfolio 2022']\n",
      "Name Since Total Exp Shobhit Mehrotra (Debt February over 32 Portfolio) 26, 2016 years Srinivasan Ramamurthy December over 17 (Equity Portfolio) 14, 2021 years\n",
      "[]\n",
      "Name Since Total Exp Anil Bamboli July 30, 2012 over 30 years\n",
      "['July 30, 2012']\n",
      "Name Since Total Exp October 27, Anupam Joshi over 19 years 2015 October 6, Swapnil Jangam over 14 years 2022\n",
      "['October 27, Anupam Joshi over 19 years 2015', 'October 6, Swapnil Jangam over 14 years 2022']\n",
      "Name Since Total Exp September Anil Bamboli over 30 years 25, 2018 August 31, Praveen Jain over 20 years 2024\n",
      "['years 25, 2018', 'August 31, Praveen Jain over 20 years 2024']\n",
      "Name Since Total Exp October 27, Anupam Joshi over 19 years 2015 October 6, Praveen Jain over 20 years 2022\n",
      "['October 27, Anupam Joshi over 19 years 2015', 'October 6, Praveen Jain over 20 years 2022']\n",
      "Name Since Total Exp August 31, Praveen Jain over 20 years 2024\n",
      "['August 31, Praveen Jain over 20 years 2024']\n",
      "Name Since Total Exp June 25, Anil Bamboli over 30 years 2010\n",
      "['June 25, Anil Bamboli over 30 years 2010']\n",
      "Name Since Total Exp September 1, Shobhit Mehrotra over 32 years 2007\n",
      "['September 1, Shobhit Mehrotra over 32 years 2007']\n",
      "Name Since Total Exp September 11, over 32 Shobhit Mehrotra 2007 years\n",
      "['September 11, over 32 Shobhit Mehrotra 2007']\n",
      "Name Since Total Exp January 20, Shobhit Mehrotra over 32 years 2023\n",
      "['January 20, Shobhit Mehrotra over 32 years 2023']\n",
      "Name Since Total Exp Anil Bamboli February 01, over 30 (Debt Portfolio) 2022 years Nirman Morakhia February 15, over 17 (Arbitrage 2023 years Portfolio) Arun Agarwal August 24, over 26 (Arbitrage 2020 years Portfolio)\n",
      "['February 01, over 30 (Debt Portfolio) 2022', 'February 15, over 17 (Arbitrage 2023', 'August 24, over 26 (Arbitrage 2020']\n",
      "Name Since Total Exp October 23, Shobhit Mehrotra over 32 years 2007\n",
      "['October 23, Shobhit Mehrotra over 32 years 2007']\n",
      "Name Since Total Exp October 27, Anupam Joshi over 19 years 2015\n",
      "['October 27, Anupam Joshi over 19 years 2015']\n",
      "Name Since Total Exp Anil Bamboli March 26, 2014 over 30 years\n",
      "['March 26, 2014']\n",
      "Name Since Total Exp March 25, Shobhit Mehrotra over 32 years 2014\n",
      "['March 25, Shobhit Mehrotra over 32 years 2014']\n",
      "Name Since Total Exp Anil Bamboli February 16, 2004 over 30 years\n",
      "['February 16, 2004']\n",
      "Name Since Total Exp September 1, over 30 Anil Bamboli 2007 years\n",
      "['September 1, over 30 Anil Bamboli 2007']\n"
     ]
    }
   ],
   "source": [
    "pattern = r\"([A-Z][a-z]+\\s*\\d{1,2},.*?\\d{4})\"\n",
    "\n",
    "for fund, content in final_text.items():\n",
    "    check = 'fund_manager'\n",
    "    if check in content:\n",
    "        all_text = \"\".join(content[check])\n",
    "        all_text =re.sub(r'[^A-Za-z0-9\\s\\-\\(\\).,]+', \"\", all_text).strip()\n",
    "        print(all_text)\n",
    "        print(re.findall(pattern,all_text, re.IGNORECASE))"
   ]
  },
  {
   "cell_type": "code",
   "execution_count": null,
   "metadata": {},
   "outputs": [],
   "source": []
  },
  {
   "cell_type": "code",
   "execution_count": null,
   "metadata": {},
   "outputs": [],
   "source": []
  },
  {
   "cell_type": "code",
   "execution_count": null,
   "metadata": {},
   "outputs": [],
   "source": []
  },
  {
   "cell_type": "code",
   "execution_count": null,
   "metadata": {},
   "outputs": [],
   "source": []
  },
  {
   "cell_type": "code",
   "execution_count": null,
   "metadata": {},
   "outputs": [],
   "source": [
    "\"\"\"HDFC MUTUAL FUND\"\"\"\n",
    "amc_name = \"HDFC Mutual Fund Passive\"\n",
    "logging.info(f\"User Ran Fund Data of {amc_name}\")\n",
    "\n",
    "object = HDFC(PATHS_CONFIG,amc_name)\n",
    "path = mutual_fund[amc_name]\n",
    "\n",
    "title= object.get_relevant_pages(path)\n",
    "# pages = [5, 6, 8, 10, 11, 12, 13, 14, 15, 16, 17, 18, 19, 20, 21, 22, 23, 24, 25, 26, 27, 28, 29, 30, 31, 32, 33, 34, 35, 36, 37, 38, 39, 40, 41, 42, 43, 44, 45, 46, 47, 48, 49, 50, 51]\n",
    "# title= df.title.to_dict()\n",
    "data = object.get_data(path,title)\n",
    "extracted_text = object.get_generated_content(data)\n",
    "final_text = object.refine_extracted_data(extracted_text,flatten = True)\n",
    "dfs = object.merge_and_select_data(final_text, select = True,map = True)\n",
    "Helper.quick_json_dump(dfs,object.JSONPATH)"
   ]
  },
  {
   "cell_type": "code",
   "execution_count": null,
   "metadata": {},
   "outputs": [],
   "source": [
    "\"\"\"HELIOS MF FILE MAIN CODE\"\"\" \n",
    "\n",
    "amc_name = 'Helios Mutual Fund'\n",
    "logging.info(f\"User Ran Fund Data of {amc_name}\")\n",
    "\n",
    "object = Helios(PATHS_CONFIG,amc_name)\n",
    "path = mutual_fund[amc_name]\n",
    "\n",
    "title= object.get_relevant_pages(path)\n",
    "# title = df.title.to_dict()\n",
    "# pages =   [2, 4, 6, 8,10]\n",
    "data = object.get_data(path,title)\n",
    "extracted_text = object.get_generated_content(data)\n",
    "final_text = object.refine_extracted_data(extracted_text, flatten=True)\n",
    "dfs = object.merge_and_select_data(final_text,select= True,map = True)\n",
    "Helper.quick_json_dump(dfs,object.JSONPATH)"
   ]
  },
  {
   "cell_type": "code",
   "execution_count": 214,
   "metadata": {},
   "outputs": [
    {
     "data": {
      "text/plain": [
       "'ICICI MF MAIN FILE CODE ACTIVE'"
      ]
     },
     "execution_count": 214,
     "metadata": {},
     "output_type": "execute_result"
    }
   ],
   "source": [
    "\"ICICI MF MAIN FILE CODE ACTIVE\"  \n"
   ]
  },
  {
   "cell_type": "code",
   "execution_count": null,
   "metadata": {},
   "outputs": [],
   "source": [
    "\"\"\" ICICI MF MAIN FILE CODE PASSIVE\"\"\" #Issue: two fund on same page\n",
    "\n",
    "amc_name = \"ICICI Prudential Mutual Fund\"\n",
    "logging.info(f\"User Ran Fund Data of {amc_name}\")\n",
    "object = ICICI(PATHS_CONFIG,amc_name)\n",
    "path = mutual_fund[amc_name]\n",
    "\n",
    "title = object.get_relevant_pages(path)\n",
    "# pages = [8, 9, 11, 13, 15, 16, 17, 18, 19, 20, 21, 22, 23, 24, 25, 27, 28, 29, 30, 31, 32, 33, 34, 35, 36, 37, 39, 40, 41, 42, 43, 44, 46, 47, 49, 51, 53, 55, 56, 58, 59, 60, 62, 64, 65, 66, 67, 68, 69, 71, 72, 74, 75, 77, 78, 80]\n",
    "data = object.get_data(path,title)\n",
    "extracted_text = object.get_generated_content(data)"
   ]
  },
  {
   "cell_type": "code",
   "execution_count": 244,
   "metadata": {},
   "outputs": [
    {
     "name": "stdout",
     "output_type": "stream",
     "text": [
      "\n",
      " JSON saved at C:\\Users\\Kaustubh.keny\\Projects\\office-work\\mywork-repo\\data\\feb25output\\dump_ICICI_17_00.json\n"
     ]
    }
   ],
   "source": [
    "object = ICICI(PATHS_CONFIG,amc_name)\n",
    "final_text = object.refine_extracted_data(extracted_text, flatten=True)\n",
    "# dfs = object.merge_and_select_data(final_text,select= True,map = True)\n",
    "Helper.quick_json_dump(final_text,object.JSONPATH)"
   ]
  },
  {
   "cell_type": "code",
   "execution_count": null,
   "metadata": {},
   "outputs": [],
   "source": [
    "\"\"\" INVESCO MF MAIN FILE CODE\"\"\" #Issue: two fund on same page\n",
    "\n",
    "amc_name = 'Invesco Mutual Fund'\n",
    "logging.info(f\"User Ran Fund Data of {amc_name}\")\n",
    "object = Invesco(PATHS_CONFIG,amc_name)\n",
    "path = mutual_fund[amc_name]\n",
    "\n",
    "title = object.get_relevant_pages(path)\n",
    "# pages = [4, 5, 6, 7, 8, 9, 10, 11, 12, 13, 14, 15, 16, 17, 18, 19, 21, 22, 23, 24, 25, 26, 27, 28, 29, 30, 31, 32, 33, 34, 35, 36, 37, 38, 39, 40, 41, 42, 43]\n",
    "data = object.get_data(path,title)\n",
    "extracted_text = object.get_generated_content(data)\n",
    "final_text = object.refine_extracted_data(extracted_text)\n",
    "dfs = object.merge_and_select_data(final_text,select = True,map = True)\n",
    "Helper.quick_json_dump(dfs, object.JSONPATH)"
   ]
  },
  {
   "cell_type": "code",
   "execution_count": null,
   "metadata": {},
   "outputs": [],
   "source": [
    "\"\"\"ITI MAIN FILE CODE\"\"\" #Issues: more data cleaning\n",
    "\n",
    "amc_name = 'ITI Mutual Fund'\n",
    "logging.info(f\"User Ran Fund Data of {amc_name}\")\n",
    "object = ITI(PATHS_CONFIG,amc_name)\n",
    "path = mutual_fund[amc_name]\n",
    "title= object.get_relevant_pages(path)\n",
    "# title = df.title.to_dict()\n",
    "# pages = [9, 10, 11, 12, 13, 14, 15, 16, 17, 18, 19, 20, 21, 22, 23, 24, 25, 26]\n",
    "data = object.get_data(path,title)\n",
    "extracted_text = object.get_generated_content(data)\n",
    "final_text = object.refine_extracted_data(extracted_text,flatten = True)\n",
    "dfs= object.merge_and_select_data(final_text,select = True,map = True)\n",
    "Helper.quick_json_dump(dfs, object.JSONPATH)"
   ]
  },
  {
   "cell_type": "code",
   "execution_count": null,
   "metadata": {},
   "outputs": [],
   "source": [
    "\"\"\"JM FUND MAIN FILE CODE\"\"\" #objective on left, sometimes date is with header\n",
    "#overlapppp\n",
    "\n",
    "amc_name = 'JM Financial Mutual Fund'\n",
    "logging.info(f\"User Ran Fund Data of {amc_name}\")\n",
    "\n",
    "object = JMMF(PATHS_CONFIG,amc_name)\n",
    "path = mutual_fund[amc_name]\n",
    "\n",
    "title= object.get_relevant_pages(path)\n",
    "# pages = [18, 19, 20, 21, 22, 23, 24, 25, 26, 27, 28, 29, 30, 31, 32, 33]\n",
    "data = object.get_data(path,title)\n",
    "extracted_text = object.get_generated_content(data)\n",
    "final_text = object.refine_extracted_data(extracted_text, flatten = True)\n",
    "dfs = object.merge_and_select_data(final_text,select = True, map = True)\n",
    "Helper.quick_json_dump(dfs, object.JSONPATH)"
   ]
  },
  {
   "cell_type": "code",
   "execution_count": null,
   "metadata": {},
   "outputs": [],
   "source": [
    "\"\"\"KOTAK FUND MAIN CODE\"\"\" #Issue: 1 or more fund on same page, # title overlap the content\n",
    "\n",
    "amc_name = 'Kotak Mahindra Mutual Fund'\n",
    "logging.info(f\"User Ran Fund Data of {amc_name}\")\n",
    "\n",
    "object = Kotak(PATHS_CONFIG,amc_name)\n",
    "path = mutual_fund[amc_name]\n",
    "\n",
    "title= object.get_relevant_pages(path)\n",
    "# pages = [5, 6, 7, 8, 9, 10, 11, 12, 13, 14, 15, 16, 17, 18, 19, 20, 21, 22, 23, 24, 25, 26, 27, 28, 29, 30, 32, 34, 36, 37, 38, 40, 41, 43, 44, 46, 48, 49, 50, 52, 54, 55, 56, 69, 70, 71, 72, 73, 74, 75, 76, 77, 78, 79, 80, 81, 82, 83, 84, 85, 86, 87, 88, 89, 90, 91, 92, 93, 94, 95, 96, 97, 98, 99, 100, 101, 102, 103, 104, 105, 106, 107, 108]\n",
    "data = object.get_data(path,title)\n",
    "extracted_text = object.get_generated_content(data)\n",
    "final_text = object.refine_extracted_data(extracted_text,flatten= True)\n",
    "dfs = object.merge_and_select_data(final_text, select = True, map = True)\n",
    "Helper.quick_json_dump(dfs, object.JSONPATH)"
   ]
  },
  {
   "cell_type": "code",
   "execution_count": null,
   "metadata": {},
   "outputs": [],
   "source": [
    "\"\"\"LIC FUND MAIN CODE\"\"\" #issue: OCR for title bcz they're images\n",
    "amc_name = 'LIC Mutual Fund'\n",
    "logging.info(f\"User Ran Fund Data of {amc_name}\")\n",
    "\n",
    "object = LIC(PATHS_CONFIG,amc_name)\n",
    "path = mutual_fund[amc_name]\n",
    "# title = object.get_relevant_pages(path)\n",
    "title = object.get_proper_fund_names(path)\n",
    "data = object.get_data(path,title)\n",
    "extracted_text = object.get_generated_content(data)\n",
    "final_text = object.refine_extracted_data(extracted_text, flatten = True)\n",
    "dfs = object.merge_and_select_data(final_text,select = True, map = True)\n",
    "Helper.quick_json_dump(dfs, object.JSONPATH)"
   ]
  },
  {
   "cell_type": "code",
   "execution_count": null,
   "metadata": {},
   "outputs": [],
   "source": [
    "\"\"\"MAHINDRA MANULIFE MAIN CODE\"\"\" #incrase pages count\n",
    "\n",
    "amc_name = 'Mahindra Manulife Mutual Fund'\n",
    "logging.info(f\"User Ran Fund Data of {amc_name}\")\n",
    "\n",
    "object = MahindraManu(PATHS_CONFIG,amc_name)\n",
    "path = mutual_fund[amc_name]\n",
    "\n",
    "title = object.get_relevant_pages(path)\n",
    "data = object.get_data(path,title)\n",
    "extracted_text = object.get_generated_content(data)\n",
    "final_text = object.refine_extracted_data(extracted_text, flatten =True)\n",
    "dfs = object.merge_and_select_data(final_text,select = True, map = True)\n",
    "Helper.quick_json_dump(dfs, object.JSONPATH)"
   ]
  },
  {
   "cell_type": "code",
   "execution_count": null,
   "metadata": {},
   "outputs": [],
   "source": [
    "\"\"\"MOTILAL OSWAL PASSIVE MAIN CODE FILE\"\"\" #Fund Manager Regex\n",
    "\n",
    "amc_name = 'Motilal Oswal Mutual Fund Passive'\n",
    "logging.info(f\"User Ran Fund Data of {amc_name}\")\n",
    "\n",
    "object = MotilalOswal(PATHS_CONFIG,amc_name)\n",
    "path = mutual_fund[amc_name]\n",
    "\n",
    "title= object.get_relevant_pages(path)\n",
    "data = object.get_data(path,title)\n",
    "extracted_text = object.get_generated_content(data)"
   ]
  },
  {
   "cell_type": "code",
   "execution_count": null,
   "metadata": {},
   "outputs": [],
   "source": [
    "\"\"\"MOTILAL OSWAL MAIN CODE FILE\"\"\" #Fund Manager Regex\n",
    "\n",
    "amc_name = 'Motilal Oswal Mutual Fund'\n",
    "logging.info(f\"User Ran Fund Data of {amc_name}\")\n",
    "\n",
    "object = MotilalOswal(PATHS_CONFIG,amc_name)\n",
    "path = mutual_fund[amc_name]\n",
    "\n",
    "title= object.get_relevant_pages(path)\n",
    "data = object.get_data(path,title)\n",
    "extracted_text = object.get_generated_content(data)"
   ]
  },
  {
   "cell_type": "code",
   "execution_count": 89,
   "metadata": {},
   "outputs": [
    {
     "name": "stdout",
     "output_type": "stream",
     "text": [
      "\n",
      " JSON saved at C:\\Users\\Kaustubh.keny\\Projects\\office-work\\mywork-repo\\data\\feb25output\\dump_Motilal_11_37.json\n"
     ]
    }
   ],
   "source": [
    "\n",
    "final_text = object.refine_extracted_data(extracted_text, flatten= True)\n",
    "dfs = object.merge_and_select_data(final_text,select = True,map = True, special = True)\n",
    "Helper.quick_json_dump(dfs, object.JSONPATH)"
   ]
  },
  {
   "cell_type": "code",
   "execution_count": null,
   "metadata": {},
   "outputs": [],
   "source": [
    "\"\"\"MIRAE MAIN FILE CODE PASSIVE\"\"\"\n",
    "\n",
    "amc_name = 'Mirae Asset Mutual Fund Passive'\n",
    "logging.info(f\"User Ran Fund Data of {amc_name}\")\n",
    "\n",
    "object = MIRAE(PATHS_CONFIG,amc_name)\n",
    "path = mutual_fund[amc_name]\n",
    "\n",
    "title= object.get_relevant_pages(path)\n",
    "# title = object.get_proper_fund_names(path)\n",
    "# pages = list(title.keys())\n",
    "data = object.get_data(path,title)\n",
    "extracted_text = object.get_generated_content(data)"
   ]
  },
  {
   "cell_type": "code",
   "execution_count": null,
   "metadata": {},
   "outputs": [],
   "source": [
    "\"\"\"MIRAE MAIN FILE CODE\"\"\"\n",
    "\n",
    "amc_name = 'Mirae Asset Mutual Fund'\n",
    "logging.info(f\"User Ran Fund Data of {amc_name}\")\n",
    "\n",
    "object = MIRAE(PATHS_CONFIG,amc_name)\n",
    "path = mutual_fund[amc_name]\n",
    "\n",
    "title= object.get_relevant_pages(path)\n",
    "# title = object.get_proper_fund_names(path)\n",
    "# pages = list(title.keys())\n",
    "data = object.get_data(path,title)\n",
    "extracted_text = object.get_generated_content(data)\n",
    "final_text = object.refine_extracted_data(extracted_text, flatten=True)\n",
    "dfs = object.merge_and_select_data(final_text,select = True, map = True)\n",
    "Helper.quick_json_dump(dfs, object.JSONPATH)"
   ]
  },
  {
   "cell_type": "code",
   "execution_count": null,
   "metadata": {},
   "outputs": [],
   "source": [
    "\"\"\"NAVI MAIN FILE CODE\"\"\" #Issue: Left and right\n",
    "\n",
    "amc_name = 'Navi Mutual Fund'\n",
    "logging.info(f\"User Ran Fund Data of {amc_name}\")\n",
    "\n",
    "object = NAVI(PATHS_CONFIG,amc_name)\n",
    "path = mutual_fund[amc_name]\n",
    "title = object.get_relevant_pages(path)"
   ]
  },
  {
   "cell_type": "code",
   "execution_count": null,
   "metadata": {},
   "outputs": [],
   "source": [
    "data = object.get_data(path,title)\n",
    "extracted_text = object.get_generated_content(data)"
   ]
  },
  {
   "cell_type": "code",
   "execution_count": null,
   "metadata": {},
   "outputs": [],
   "source": [
    "final_text = object.refine_extracted_data(extracted_text, flatten = True)\n",
    "dfs = object.merge_and_select_data(final_text,select = True,map = True)\n",
    "Helper.quick_json_dump(dfs, object.JSONPATH)"
   ]
  },
  {
   "cell_type": "code",
   "execution_count": null,
   "metadata": {},
   "outputs": [],
   "source": [
    "\"NIPPON MAIN FILE CODE\"\n",
    "amc_name = 'Nippon India Mutual Fund'\n",
    "logging.info(f\"User Ran Fund Data of {amc_name}\")\n",
    "\n",
    "object = Nippon(PATHS_CONFIG,amc_name)\n",
    "path = mutual_fund[amc_name]\n",
    "title= object.get_relevant_pages(path)\n",
    "data = object.get_data(path,title)\n",
    "extracted_text = object.get_generated_content(data)"
   ]
  },
  {
   "cell_type": "code",
   "execution_count": null,
   "metadata": {},
   "outputs": [],
   "source": [
    "final_text = object.refine_extracted_data(extracted_text, flatten = True)\n",
    "dfs = object.merge_and_select_data(final_text,select = True, map = True)\n",
    "Helper.quick_json_dump(dfs,object.JSONPATH)"
   ]
  },
  {
   "cell_type": "code",
   "execution_count": null,
   "metadata": {},
   "outputs": [],
   "source": [
    "\"\"\"NJMF MAIN CODE FILE\"\"\"\n",
    "\n",
    "amc_name = 'NJ Mutual Fund'\n",
    "logging.info(f\"User Ran Fund Data of {amc_name}\")\n",
    "\n",
    "object = NJMF(PATHS_CONFIG,amc_name)\n",
    "path = mutual_fund[amc_name]\n",
    "title = object.get_relevant_pages(path)\n",
    "# pages = [1, 3, 5, 7, 9]\n",
    "# title = df.title.to_dict()\n",
    "data = object.get_data(path,title)\n",
    "extracted_text = object.get_generated_content(data)"
   ]
  },
  {
   "cell_type": "code",
   "execution_count": null,
   "metadata": {},
   "outputs": [],
   "source": [
    "final_text = object.refine_extracted_data(extracted_text,flatten = True)\n",
    "dfs = object.merge_and_select_data(final_text,select = True, map = True,special=True)\n",
    "Helper.quick_json_dump(dfs, object.JSONPATH)"
   ]
  },
  {
   "cell_type": "code",
   "execution_count": null,
   "metadata": {},
   "outputs": [],
   "source": [
    "\"\"\"OlD BriDGE MAIN CODE\"\"\"\n",
    "amc_name = \"Old Bridge Mutual Fund\"\n",
    "logging.info(f\"User Ran Fund Data of {amc_name}\")\n",
    "\n",
    "object = OldBridge(PATHS_CONFIG,amc_name)\n",
    "path = mutual_fund[amc_name]\n",
    "\n",
    "# path,df = object.get_relevant_pages(path, 7)\n",
    "# data = object.get_data(path,title)\n",
    "# extracted_text = object.get_generated_content(data)"
   ]
  },
  {
   "cell_type": "code",
   "execution_count": null,
   "metadata": {},
   "outputs": [],
   "source": [
    "\"\"\"PGIM MAIN FILE CODE\"\"\" #ISSUES: Clean data further\n",
    "\n",
    "amc_name = \"PGIM India Mutual Fund\"\n",
    "logging.info(f\"User Ran Fund Data of {amc_name}\")\n",
    "\n",
    "object = PGIM(PATHS_CONFIG,amc_name)\n",
    "path = mutual_fund[amc_name]\n",
    "\n",
    "title = object.get_relevant_pages(path)\n",
    "data = object.get_data(path,title)\n",
    "extracted_text = object.get_generated_content(data)\n",
    "final_text = object.refine_extracted_data(extracted_text, flatten = True)\n",
    "dfs = object.merge_and_select_data(final_text,select = True,map= True)\n",
    "Helper.quick_json_dump(dfs, object.JSONPATH)"
   ]
  },
  {
   "cell_type": "code",
   "execution_count": null,
   "metadata": {},
   "outputs": [],
   "source": [
    "\"\"\"QUANT MAIN CODE FILE\"\"\"\n",
    "\n",
    "amc_name = 'Quant Mutual Fund'\n",
    "logging.info(f\"User Ran Fund Data of {amc_name}\")\n",
    "\n",
    "object = QuantMF(PATHS_CONFIG, amc_name)\n",
    "path = mutual_fund[amc_name]\n",
    "\n",
    "title = object.get_relevant_pages(path)\n",
    "data = object.get_data(path,title)\n",
    "extracted_text = object.get_generated_content(data)\n",
    "\n",
    "final_text = object.refine_extracted_data(extracted_text, flatten = True)\n",
    "dfs = object.merge_and_select_data(final_text,select = True,map = True)\n",
    "Helper.quick_json_dump(dfs, object.JSONPATH)"
   ]
  },
  {
   "cell_type": "code",
   "execution_count": null,
   "metadata": {},
   "outputs": [],
   "source": [
    "\"\"\"QUANTUM MAIN FILE CODE\"\"\" #ISSUES: Clean data further\n",
    "\n",
    "amc_name = \"Quantum Mutual Fund\"\n",
    "logging.info(f\"User Ran Fund Data of {amc_name}\")\n",
    "\n",
    "object = Quantum(PATHS_CONFIG,amc_name)\n",
    "path = mutual_fund[amc_name]\n",
    "\n",
    "title = object.get_relevant_pages(path)\n",
    "# title = df.title.to_dict()\n",
    "# pages = [7, 9, 12, 14, 16, 18, 20, 22, 24, 26, 28, 30, 32, 33]\n",
    "data = object.get_data(path,title)\n",
    "extracted_text = object.get_generated_content(data)"
   ]
  },
  {
   "cell_type": "code",
   "execution_count": 109,
   "metadata": {},
   "outputs": [
    {
     "name": "stdout",
     "output_type": "stream",
     "text": [
      "\n",
      " JSON saved at C:\\Users\\Kaustubh.keny\\Projects\\office-work\\mywork-repo\\data\\feb25output\\dump_QUANTUM_12_22.json\n"
     ]
    }
   ],
   "source": [
    "final_text = object.refine_extracted_data(extracted_text, flatten = True)\n",
    "dfs = object.merge_and_select_data(final_text,select = True, map = True)\n",
    "Helper.quick_json_dump(dfs, object.JSONPATH)"
   ]
  },
  {
   "cell_type": "code",
   "execution_count": null,
   "metadata": {},
   "outputs": [],
   "source": [
    "\"\"\"SAMCO PDF FILE MAIN CODE\"\"\" \n",
    "\n",
    "amc_name = 'Samco Mutual Fund'\n",
    "logging.info(f\"User Ran Fund Data of {amc_name}\")\n",
    "\n",
    "object = Samco(PATHS_CONFIG,amc_name)\n",
    "path = mutual_fund[amc_name]\n",
    "\n",
    "title= object.get_relevant_pages(path)\n",
    "# title = df.title.to_dict()\n",
    "# pages =  [3, 5, 7, 9, 11, 13, 15, 17, 18]\n",
    "data = object.get_data(path,title)\n",
    "extracted_text = object.get_generated_content(data)\n",
    "final_text = object.refine_extracted_data(extracted_text, flatten=True)\n",
    "dfs = object.merge_and_select_data(final_text, select = True,map = True)\n",
    "Helper.quick_json_dump(dfs,object.JSONPATH)"
   ]
  },
  {
   "cell_type": "code",
   "execution_count": null,
   "metadata": {},
   "outputs": [],
   "source": [
    "\"\"\"SBI PASSIVE PDF FILE MAIN CODE\"\"\" \n",
    "\n",
    "amc_name = 'SBI Mutual Fund Passive'\n",
    "logging.info(f\"User Ran Fund Data of {amc_name}\")\n",
    "\n",
    "object = SBIPassive(PATHS_CONFIG,amc_name)\n",
    "path = mutual_fund[amc_name]\n",
    "title= object.get_proper_fund_names(path)\n",
    "data = object.get_data(path,title)\n",
    "extracted_text = object.get_generated_content(data)"
   ]
  },
  {
   "cell_type": "code",
   "execution_count": 122,
   "metadata": {},
   "outputs": [
    {
     "name": "stdout",
     "output_type": "stream",
     "text": [
      "\n",
      " JSON saved at C:\\Users\\Kaustubh.keny\\Projects\\office-work\\mywork-repo\\data\\feb25output\\dump_SBI_12_32.json\n"
     ]
    }
   ],
   "source": [
    "object = SBIPassive(PATHS_CONFIG,amc_name)\n",
    "final_text = object.refine_extracted_data(extracted_text,flatten = True)\n",
    "dfs = object.merge_and_select_data(final_text,select = True,map = True,special = True)\n",
    "Helper.quick_json_dump(dfs,object.JSONPATH)"
   ]
  },
  {
   "cell_type": "code",
   "execution_count": null,
   "metadata": {},
   "outputs": [],
   "source": [
    "\"\"\"SBI PDF FILE MAIN CODE\"\"\" \n",
    "\n",
    "amc_name = 'SBI Mutual Fund'\n",
    "logging.info(f\"User Ran Fund Data of {amc_name}\")\n",
    "\n",
    "object = SBI(PATHS_CONFIG,amc_name)\n",
    "path = mutual_fund[amc_name]\n",
    "title= object.get_relevant_pages(path)\n",
    "data = object.get_data(path,title)\n",
    "extracted_text = object.get_generated_content(data)"
   ]
  },
  {
   "cell_type": "code",
   "execution_count": null,
   "metadata": {},
   "outputs": [],
   "source": [
    "final_text = object.refine_extracted_data(extracted_text,flatten = True)\n",
    "dfs = object.merge_and_select_data(final_text,select = True,map = True)\n",
    "Helper.quick_json_dump(dfs,object.JSONPATH)"
   ]
  },
  {
   "cell_type": "code",
   "execution_count": null,
   "metadata": {},
   "outputs": [],
   "source": [
    "\"\"\"SUNDARAM MAIN FILE CODE\"\"\"\n",
    "\n",
    "amc_name = 'Sundaram Mutual Fund'\n",
    "logging.info(f\"User Ran Fund Data of {amc_name}\")\n",
    "\n",
    "object = Sundaram(PATHS_CONFIG,amc_name)\n",
    "path = mutual_fund[amc_name]\n",
    "\n",
    "title = object.get_relevant_pages(path)\n",
    "# title = df.title.to_dict()\n",
    "# pages = [7, 8, 9, 10, 11, 12, 13, 14, 15, 16, 17, 18, 19, 20, 21, 22, 23, 24, 25, 26, 27, 28, 29, 30, 31, 32, 33, 34, 35, 36, 37, 38, 39, 40]\n",
    "data = object.get_data(path,title)\n",
    "extracted_text = object.get_generated_content(data)"
   ]
  },
  {
   "cell_type": "code",
   "execution_count": 124,
   "metadata": {},
   "outputs": [
    {
     "name": "stdout",
     "output_type": "stream",
     "text": [
      "\n",
      " JSON saved at C:\\Users\\Kaustubh.keny\\Projects\\office-work\\mywork-repo\\data\\feb25output\\dump_Sundaram_12_35.json\n"
     ]
    }
   ],
   "source": [
    "final_text = object.refine_extracted_data(extracted_text,flatten = True)\n",
    "dfs = object.merge_and_select_data(final_text,select = True, map = True)\n",
    "Helper.quick_json_dump(dfs,object.JSONPATH)"
   ]
  },
  {
   "cell_type": "code",
   "execution_count": null,
   "metadata": {},
   "outputs": [],
   "source": [
    "\"\"\"TATA FILE MAIN CODE \"\"\"\n",
    "\n",
    "amc_name = \"Tata Mutual Fund\"\n",
    "logging.info(f\"User Ran Fund Data of {amc_name}\")\n",
    "\n",
    "object = Tata(PATHS_CONFIG,amc_name)\n",
    "path = mutual_fund[amc_name]\n",
    "\n",
    "title= object.get_relevant_pages(path)\n",
    "# pages =  [16, 17, 18, 19, 20, 21, 22, 23, 24, 25, 26, 27, 28, 29, 30, 31, 32, 33, 34, 35, 36, 37, 38, 39, 40, 41, 42, 43, 44, 45, 46, 47, 48, 49, 50, 51, 52, 53, 54, 55, 56, 57, 58, 59, 60, 62, 64, 66, 67, 68, 69, 70, 71, 72, 73, 74, 75, 76, 77, 78, 79, 80, 81, 82, 83]\n",
    "data = object.get_data(path,title)\n",
    "extracted_text = object.get_generated_content(data)"
   ]
  },
  {
   "cell_type": "code",
   "execution_count": 126,
   "metadata": {},
   "outputs": [
    {
     "name": "stdout",
     "output_type": "stream",
     "text": [
      "\n",
      " JSON saved at C:\\Users\\Kaustubh.keny\\Projects\\office-work\\mywork-repo\\data\\feb25output\\dump_Tata_12_38.json\n"
     ]
    }
   ],
   "source": [
    "final_text = object.refine_extracted_data(extracted_text, flatten = True)\n",
    "dfs = object.merge_and_select_data(final_text,select=True, map = True)\n",
    "Helper.quick_json_dump(dfs, object.JSONPATH)"
   ]
  },
  {
   "cell_type": "code",
   "execution_count": null,
   "metadata": {},
   "outputs": [],
   "source": [
    "\"\"\"TAURUS MAIN FILE CODE\"\"\" #Issues: Nothing Yet\n",
    "\n",
    "amc_name = 'Taurus Mutual Fund'\n",
    "logging.info(f\"User Ran Fund Data of {amc_name}\")\n",
    "\n",
    "object = Taurus(PATHS_CONFIG,amc_name)\n",
    "path = mutual_fund[amc_name]\n",
    "\n",
    "title= object.get_relevant_pages(path)\n",
    "# pages = [11, 12, 13, 14, 15, 16, 17, 18]\n",
    "data = object.get_data(path,title)\n",
    "extracted_text = object.get_generated_content(data)"
   ]
  },
  {
   "cell_type": "code",
   "execution_count": 139,
   "metadata": {},
   "outputs": [
    {
     "name": "stdout",
     "output_type": "stream",
     "text": [
      "\n",
      " JSON saved at C:\\Users\\Kaustubh.keny\\Projects\\office-work\\mywork-repo\\data\\feb25output\\dump_TAURUS_12_51.json\n"
     ]
    }
   ],
   "source": [
    "object = Taurus(PATHS_CONFIG,amc_name)\n",
    "final_text = object.refine_extracted_data(extracted_text,flatten=True)\n",
    "dfs = object.merge_and_select_data(final_text,select = True, map = True)\n",
    "Helper.quick_json_dump(dfs,object.JSONPATH)"
   ]
  },
  {
   "cell_type": "code",
   "execution_count": null,
   "metadata": {},
   "outputs": [],
   "source": [
    "\"\"\"TRUST MAIN FILE CODE\"\"\" #Issue: Clean data more, nested dict unload Invest Obj in right #Names coming as headers fund managers\n",
    "\n",
    "amc_name = 'Trust Mutual Fund'\n",
    "logging.info(f\"User Ran Fund Data of {amc_name}\")\n",
    "\n",
    "object = Trust(PATHS_CONFIG,amc_name)\n",
    "path = mutual_fund[amc_name]\n",
    "title= object.get_relevant_pages(path)\n",
    "# pages = [7, 8, 9, 10, 11, 12, 13, 14]\n",
    "data = object.get_data(path,title)\n",
    "extracted_text = object.get_generated_content(data)"
   ]
  },
  {
   "cell_type": "code",
   "execution_count": null,
   "metadata": {},
   "outputs": [],
   "source": [
    "final_text = object.refine_extracted_data(extracted_text, flatten = True)\n",
    "dfs = object.merge_and_select_data(final_text,select = True, map = True)\n",
    "Helper.quick_json_dump(dfs,object.JSONPATH)"
   ]
  },
  {
   "cell_type": "code",
   "execution_count": null,
   "metadata": {},
   "outputs": [],
   "source": [
    "\"\"\"UTI MAIN FILE CODE\"\"\"\n",
    "\n",
    "amc_name = 'UTI Mutual Fund'\n",
    "logging.info(f\"User Ran Fund Data of {amc_name}\")\n",
    "\n",
    "object = UTI(PATHS_CONFIG,amc_name)\n",
    "path = mutual_fund[amc_name]\n",
    "title = object.get_relevant_pages(path)"
   ]
  },
  {
   "cell_type": "code",
   "execution_count": null,
   "metadata": {},
   "outputs": [],
   "source": [
    "data = object.get_data(path,title)\n",
    "extracted_text = object.get_generated_content(data)\n",
    "final_text = object.refine_extracted_data(extracted_text, flatten = True)\n",
    "dfs = object.merge_and_select_data(final_text, select = True, map = True)\n",
    "Helper.quick_json_dump(dfs, object.JSONPATH)"
   ]
  },
  {
   "cell_type": "code",
   "execution_count": null,
   "metadata": {},
   "outputs": [],
   "source": [
    "\"\"\"UNION MUTUAL FUND\"\"\" #Issues: Major Issue\n",
    "\n",
    "amc_name = 'Union Mutual Fund'\n",
    "logging.info(f\"User Ran Fund Data of {amc_name}\")\n",
    "\n",
    "object = Union(PATHS_CONFIG,amc_name)\n",
    "path = mutual_fund[amc_name]\n",
    "\n",
    "title = object.get_relevant_pages(path)\n",
    "data = object.get_data(path,title)\n",
    "extracted_text = object.get_generated_content(data)"
   ]
  },
  {
   "cell_type": "code",
   "execution_count": null,
   "metadata": {},
   "outputs": [],
   "source": [
    "\n",
    "final_text = object.refine_extracted_data(extracted_text, flatten = True)\n",
    "dfs = object.merge_and_select_data(final_text,select=True, map = True)\n",
    "Helper.quick_json_dump(dfs, object.JSONPATH)"
   ]
  },
  {
   "cell_type": "code",
   "execution_count": null,
   "metadata": {},
   "outputs": [],
   "source": [
    "\"\"\"WHITEOAK MUTUAL FUND\"\"\"\n",
    "\n",
    "amc_name = 'WhiteOak Mutual Fund'\n",
    "logging.info(f\"User Ran Fund Data of {amc_name}\")\n",
    "\n",
    "object = WhiteOak(PATHS_CONFIG,amc_name)\n",
    "path = mutual_fund[amc_name]\n",
    "\n",
    "title= object.get_relevant_pages(path)\n",
    "# pages = [7, 9, 11, 13, 15, 17, 19, 20, 21, 23, 25, 26, 28, 30, 32, 34, 36, 37]\n",
    "data = object.get_data(path,title)\n",
    "extracted_text = object.get_generated_content(data)\n",
    "final_text = object.refine_extracted_data(extracted_text, flatten = True)\n",
    "dfs = object.merge_and_select_data(final_text,select = True, map = True)\n",
    "Helper.quick_json_dump(dfs,object.JSONPATH)"
   ]
  },
  {
   "cell_type": "code",
   "execution_count": null,
   "metadata": {},
   "outputs": [],
   "source": [
    "\"\"\"ZERODHA MAIN CODE\"\"\" \n",
    "\n",
    "amc_name = 'Zerodha Mutual Fund'\n",
    "logging.info(f\"User Ran Fund Data of {amc_name}\")\n",
    "\n",
    "object = Zerodha(PATHS_CONFIG,amc_name)\n",
    "path = mutual_fund[amc_name]\n",
    "title= object.get_relevant_pages(path)\n",
    "# title = df.title.to_dict()\n",
    "# pages = [3, 5, 7, 9, 11, 13, 15]\n",
    "data = object.get_data(path,title)\n",
    "extracted_text = object.get_generated_content(data)"
   ]
  },
  {
   "cell_type": "code",
   "execution_count": 172,
   "metadata": {},
   "outputs": [
    {
     "name": "stdout",
     "output_type": "stream",
     "text": [
      "list index out of range\n"
     ]
    }
   ],
   "source": [
    "final_text = object.refine_extracted_data(extracted_text, flatten = True)\n",
    "# dfs = object.merge_and_select_data(final_text,select = True,map = True)\n",
    "Helper.quick_json_dump(final_text, object.JSONPATH)"
   ]
  },
  {
   "cell_type": "code",
   "execution_count": null,
   "metadata": {},
   "outputs": [],
   "source": [
    "\"\"\"\"HSBC MAIN FILE CODE\"\"\" #Issue: Some pages have 2 or more fund data on same page\n",
    "\n",
    "amc_name = 'HSBC Mutual Fund'\n",
    "logging.info(f\"User Ran Fund Data of {amc_name}\")\n",
    "\n",
    "object = HSBC(PATHS_CONFIG,amc_name)\n",
    "path = mutual_fund[amc_name]\n",
    "\n",
    "title= object.get_relevant_pages(path)\n",
    "# title = df.title.to_dict()\n",
    "# pages = [10, 11, 12, 13, 14, 15, 16, 17, 18, 19, 20, 21, 22, 23, 24, 25, 26, 27, 28, 29, 30, 32, 34, 35, 36, 37, 38, 39, 40, 41, 42, 43, 44, 45, 46, 47, 48, 49]\n",
    "\n",
    "data = object.get_data(path,title)\n",
    "extracted_text = object.get_generated_content(data)"
   ]
  },
  {
   "cell_type": "code",
   "execution_count": 152,
   "metadata": {},
   "outputs": [
    {
     "name": "stdout",
     "output_type": "stream",
     "text": [
      "\n",
      " JSON saved at C:\\Users\\Kaustubh.keny\\Projects\\office-work\\mywork-repo\\data\\feb25output\\dump_HSBC_13_18.json\n"
     ]
    }
   ],
   "source": [
    "object = HSBC(PATHS_CONFIG,amc_name)\n",
    "final_text = object.refine_extracted_data(extracted_text, flatten = True)\n",
    "dfs = object.merge_and_select_data(final_text,select = True,map = True)\n",
    "Helper.quick_json_dump(dfs,object.JSONPATH)"
   ]
  },
  {
   "cell_type": "code",
   "execution_count": 42,
   "metadata": {},
   "outputs": [],
   "source": [
    "manage = FundHouseManager()\n",
    "for fund in  manage.list_fund_houses():\n",
    "    manage.update_fund_house(fund,\"MAIN_MAP\",{\n",
    "        \"class_name\":\"\",\n",
    "        \"flatten\":True,\n",
    "        \"select\":True,\n",
    "        \"map\":True,\n",
    "        \"special\":True,\n",
    "        \"ocr\":False\n",
    "    })"
   ]
  }
 ],
 "metadata": {
  "kernelspec": {
   "display_name": ".venv",
   "language": "python",
   "name": "python3"
  },
  "language_info": {
   "codemirror_mode": {
    "name": "ipython",
    "version": 3
   },
   "file_extension": ".py",
   "mimetype": "text/x-python",
   "name": "python",
   "nbconvert_exporter": "python",
   "pygments_lexer": "ipython3",
   "version": "3.13.1"
  }
 },
 "nbformat": 4,
 "nbformat_minor": 2
}
