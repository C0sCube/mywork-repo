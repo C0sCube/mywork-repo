{
 "cells": [
  {
   "cell_type": "code",
   "execution_count": 2,
   "metadata": {},
   "outputs": [],
   "source": [
    "%load_ext autoreload\n",
    "%autoreload 2\n",
    "import json, os, logging\n",
    "PATHS_CONFIG =os.path.join(os.getcwd(),'paths.json')\n",
    "with open(PATHS_CONFIG,'r') as file:\n",
    "    PATH = json.load(file)\n",
    "    \n",
    "from app.fund_data import *\n",
    "from app.params_handler import *\n",
    "from app.utils import Helper\n",
    "from logging_config import logger\n",
    "\n",
    "logger.info(\"Application Started !!\")\n",
    "mutual_fund = Helper.get_fund_paths(PATH['dirs']['fund_path'])\n",
    "\n",
    "with open(os.path.join(os.getcwd(),PATH[\"configs\"]['regex']),'r') as file:\n",
    "    class_mapper = json.load(file)['main_mapper']\n",
    "    \n",
    "# https://www.sebi.gov.in/sebiweb/other/OtherAction.do?doMutualFund=yes&mftype=2"
   ]
  },
  {
   "cell_type": "code",
   "execution_count": null,
   "metadata": {},
   "outputs": [
    {
     "name": "stdout",
     "output_type": "stream",
     "text": [
      "[]\n",
      "['18_31-Mar-25_FS.pdf', '18_31-Mar-25_FS_hltd.pdf']\n",
      "['3_31-Mar-25_FS.pdf', '3_31-Mar-25_FS_hltd.pdf']\n",
      "['96_31-Mar-25_FS.pdf', 'Factsheet-Angel-One-Nifty-1D-Rate-Liquid-ETF-Growth-March-2025.pdf', 'Factsheet-Angel-One-Nifty-Total-Market-Index-ETF-March-2025.pdf', 'Factsheet-Angel-One-Nifty-Total-Market-Index-Fund-March-2025.pdf']\n",
      "['1_31-Mar-25_FS.pdf']\n",
      "['1_31-Mar-2025_1_FS.pdf', '1_31-Mar-2025_1_FS_hltd.pdf']\n",
      "['59_31-Mar-25_FS.pdf', '59_31-Mar-25_FS_hltd.pdf']\n",
      "['16_31-Mar-25_FS.pdf', '16_31-Mar-25_FS_hltd.pdf']\n",
      "['5_31-Mar-25_FS.pdf', '5_31-Mar-25_FS_hltd.pdf']\n",
      "['2_31-Mar-25_FS.pdf', '2_31-Mar-25_FS_hltd.pdf']\n",
      "['6_31-Mar-25_FS.pdf', '6_31-Mar-25_FS_hltd.pdf']\n",
      "['8_31-Mar-25_FS.pdf', '8_31-Mar-25_FS_hltd.pdf']\n",
      "['9_31-Mar-25_FS.pdf', '9_31-Mar-25_FS_hltd.pdf']\n",
      "['11_31-Mar-25_FS.pdf', '11_31-Mar-25_FS_hltd.pdf']\n",
      "['20_31-Mar-25_FS.pdf', '20_31-Mar-25_FS_hltd.pdf']\n",
      "['12_31-Mar-25_FS.pdf', '12_31-Mar-25_FS_hltd.pdf']\n",
      "['12_31-Mar-2025_1_FS.pdf', '12_31-Mar-2025_1_FS_hltd.pdf']\n",
      "['60_31-Mar-25_FS.pdf', '60_31-Mar-25_FS_hltd.pdf']\n",
      "['13_31-Mar-25_FS.pdf', '13_31-Mar-25_FS_hltd.pdf']\n",
      "['14_31-Mar-25_FS.pdf', '14_31-Mar-25_FS_hltd.pdf']\n",
      "['14_31-Mar-2025_1_FS.pdf', '14_31-Mar-2025_1_FS_hltd.pdf']\n",
      "['21_31-Mar-25_FS.pdf', '21_31-Mar-25_FS_hltd.pdf']\n",
      "['51_31-Mar-25_FS.pdf', '51_31-Mar-25_FS_hltd.pdf']\n",
      "['22_31-Mar-25_FS.pdf', '22_31-Mar-25_FS_hltd.pdf']\n",
      "['23_31-Mar-25_FS.pdf', '23_31-Mar-25_FS_hltd.pdf']\n",
      "['25_31-Mar-25_FS.pdf', '25_31-Mar-25_FS_clipped.pdf', '25_31-Mar-25_FS_hltd.pdf', '25_31-Mar-25_FS_ocr.pdf']\n",
      "['26_31-Mar-25_FS.pdf', '26_31-Mar-25_FS_hltd.pdf']\n",
      "['27_31-Mar-25_FS.pdf', '27_31-Mar-25_FS_hltd.pdf']\n",
      "['27_31-Mar-2025_1_FS.pdf', '27_31-Mar-2025_1_FS_hltd.pdf']\n",
      "['28_31-Mar-25_FS.pdf', '28_31-Mar-25_FS_hltd.pdf']\n",
      "['28_31-Mar-2025_1_FS.pdf', '28_31-Mar-2025_1_FS_hltd.pdf']\n",
      "['56_31-Mar-2025_1_FS.pdf', '56_31-Mar-2025_1_FS_hltd.pdf']\n",
      "['33_31-Mar-25_FS.pdf', '33_31-Mar-25_FS_clipped.pdf', '33_31-Mar-25_FS_hltd.pdf', '33_31-Mar-25_FS_ocr.pdf']\n",
      "['57_31-Mar-25_FS.pdf', '57_31-Mar-25_FS_hltd.pdf']\n",
      "['95_31-Mar-25_FS.pdf', '95_31-Mar-25_FS_hltd.pdf']\n",
      "['7_31-Mar-25_FS.pdf', '7_31-Mar-25_FS_hltd.pdf']\n",
      "['30_31-Mar-25_FS.pdf', '30_31-Mar-25_FS_clipped.pdf', '30_31-Mar-25_FS_hltd.pdf', '30_31-Mar-25_FS_ocr.pdf']\n",
      "['10_31-Mar-25_FS.pdf', '10_31-Mar-25_FS_hltd.pdf']\n",
      "['32_31-Mar-25_FS.pdf', '32_31-Mar-25_FS_hltd.pdf']\n",
      "['58_31-Mar-25_FS.pdf', '58_31-Mar-25_FS_hltd.pdf']\n",
      "['35_31-Mar-25_FS.pdf', '35_31-Mar-25_FS_hltd.pdf']\n",
      "['35_31-Mar-2025_1_FS.pdf', '35_31-Mar-2025_1_FS_clipped.pdf', '35_31-Mar-2025_1_FS_hltd.pdf', '35_31-Mar-2025_1_FS_ocr.pdf']\n",
      "['36_31-Mar-25_FS.pdf', '36_31-Mar-25_FS_hltd.pdf']\n",
      "['37_31-Mar-25_FS.pdf', '37_31-Mar-25_FS_hltd.pdf']\n",
      "['38_31-Mar-25_FS.pdf', '38_31-Mar-25_FS_hltd.pdf']\n",
      "['39_31-Mar-25_FS.pdf', '39_31-Mar-25_FS_hltd.pdf']\n",
      "['55_31-Mar-25_FS.pdf', '55_31-Mar-25_FS_hltd.pdf']\n",
      "['97_31-Mar-25_FS.pdf']\n",
      "['40_31-Mar-25_FS.pdf', '40_31-Mar-25_FS_hltd.pdf']\n",
      "['41_31-Mar-25_FS_1.pdf', '41_31-Mar-25_FS_1_hltd.pdf']\n",
      "['42_31-Mar-25_FS.pdf', '42_31-Mar-25_FS_hltd.pdf']\n",
      "['71_31-Mar-25_FS.pdf', '71_31-Mar-25_FS_all_ocr.pdf', '71_31-Mar-25_FS_hltd.pdf']\n"
     ]
    }
   ],
   "source": [
    "for (root,dirs,files) in os.walk(PATH['dirs']['fund_path'], topdown=True):\n",
    "    if files"
   ]
  },
  {
   "cell_type": "code",
   "execution_count": null,
   "metadata": {},
   "outputs": [],
   "source": []
  },
  {
   "cell_type": "code",
   "execution_count": null,
   "metadata": {},
   "outputs": [],
   "source": [
    "\"\"\"360 ONE FILE CODE\"\"\"\n",
    "amc_name = '360 One Mutual Fund'\n",
    "logging.info(f\"User Ran Fund Data of {amc_name}\")\n",
    "path= mutual_fund[amc_name]\n",
    "object = ThreeSixtyOne(PATHS_CONFIG,amc_name,path)\n",
    "title,path_pdf = object.check_and_highlight(path)\n",
    "data = object.get_data(path_pdf,title)\n",
    "extracted_text = object.get_generated_content(data)\n",
    "final_text = object.refine_extracted_data(extracted_text, flatten=True)\n",
    "dfs = object.merge_and_select_data(final_text,select = True,map = True, special = True)\n",
    "Helper.quick_json_dump(dfs, object.JSONPATH)"
   ]
  },
  {
   "cell_type": "code",
   "execution_count": null,
   "metadata": {},
   "outputs": [],
   "source": [
    "\"\"\"ANGEL ONE FILE CODE\"\"\"\n",
    "amc_name = 'Angel One Mutual Fund'\n",
    "logging.info(f\"User Ran Fund Data of {amc_name}\")\n",
    "path= mutual_fund[amc_name]\n",
    "object = AngelOne(PATHS_CONFIG,amc_name,path)\n",
    "title,path_pdf = object.check_and_highlight(path)"
   ]
  },
  {
   "cell_type": "code",
   "execution_count": null,
   "metadata": {},
   "outputs": [],
   "source": [
    "data = object.get_data(path_pdf,title)\n",
    "extracted_text = object.get_generated_content(data)\n",
    "Helper.quick_json_dump(extracted_text, object.JSONPATH)"
   ]
  },
  {
   "cell_type": "code",
   "execution_count": null,
   "metadata": {},
   "outputs": [],
   "source": [
    "object = AngelOne(PATHS_CONFIG,amc_name,path)\n",
    "final_text = object.refine_extracted_data(extracted_text, flatten=True)\n",
    "dfs = object.merge_and_select_data(final_text,select = True,map = True, special = True)\n",
    "Helper.quick_json_dump(dfs, object.JSONPATH)"
   ]
  },
  {
   "cell_type": "code",
   "execution_count": null,
   "metadata": {},
   "outputs": [],
   "source": [
    "\"\"\"SHRIRAM MAIN FILE CODE\"\"\"\n",
    "\n",
    "amc_name = \"Shriram Mutual Fund\"\n",
    "logger.info(f\"User Ran Fund Data of {amc_name}\")\n",
    "path = mutual_fund[amc_name]\n",
    "object = Shriram(PATHS_CONFIG,amc_name,path)\n",
    "title,path_pdf = object.check_and_highlight(path)\n",
    "\n",
    "data = object.get_data(path_pdf,title)\n",
    "extracted_text = object.get_generated_content(data)"
   ]
  },
  {
   "cell_type": "code",
   "execution_count": 107,
   "metadata": {},
   "outputs": [
    {
     "name": "stdout",
     "output_type": "stream",
     "text": [
      "\n",
      "  JSON saved at C:\\Users\\rando\\OneDrive\\Documents\\mywork-repo\\data\\output\\dump_shriram_01_42_14.json\n"
     ]
    }
   ],
   "source": [
    "Helper.quick_json_dump(extracted_text, object.JSONPATH) "
   ]
  },
  {
   "cell_type": "code",
   "execution_count": 114,
   "metadata": {},
   "outputs": [
    {
     "name": "stdout",
     "output_type": "stream",
     "text": [
      "Function Running: refine_extracted_data\n",
      "\n",
      "  JSON saved at C:\\Users\\rando\\OneDrive\\Documents\\mywork-repo\\data\\output\\dump_shriram_01_55_04.json\n"
     ]
    }
   ],
   "source": [
    "object = Shriram(PATHS_CONFIG,amc_name,path)\n",
    "final_text = object.refine_extracted_data(extracted_text, flatten=True)\n",
    "# dfs = object.merge_and_select_data(final_text,map = True,select = True,special=True)\n",
    "Helper.quick_json_dump(final_text, object.JSONPATH) "
   ]
  },
  {
   "cell_type": "code",
   "execution_count": null,
   "metadata": {},
   "outputs": [],
   "source": [
    "\"\"\"PPFAS MAIN FILE CODE\"\"\"\n",
    "\n",
    "amc_name = \"Ppfas Mutual Fund\"\n",
    "logger.info(f\"User Ran Fund Data of {amc_name}\")\n",
    "path = mutual_fund[amc_name]\n",
    "object = PPFAS(PATHS_CONFIG,amc_name,path)\n",
    "title,path_pdf = object.check_and_highlight(path)\n",
    "\n",
    "data = object.get_data(path_pdf,title)\n",
    "extracted_text = object.get_generated_content(data)"
   ]
  },
  {
   "cell_type": "code",
   "execution_count": 3,
   "metadata": {},
   "outputs": [
    {
     "name": "stdout",
     "output_type": "stream",
     "text": [
      "\n",
      "  JSON saved at C:\\Users\\rando\\OneDrive\\Documents\\mywork-repo\\data\\output\\dump_parag_10_00_23.json\n"
     ]
    }
   ],
   "source": [
    "Helper.quick_json_dump(extracted_text, object.JSONPATH)"
   ]
  },
  {
   "cell_type": "code",
   "execution_count": null,
   "metadata": {},
   "outputs": [],
   "source": [
    "object = PPFAS(PATHS_CONFIG,amc_name,path)\n",
    "final_text = object.refine_extracted_data(extracted_text, flatten=True)\n",
    "dfs = object.merge_and_select_data(final_text,select = True,map = True, special = True)\n",
    "Helper.quick_json_dump(dfs, object.JSONPATH)"
   ]
  },
  {
   "cell_type": "code",
   "execution_count": null,
   "metadata": {},
   "outputs": [],
   "source": [
    "'''AXIS ONE PASSIVE MAIN FILE CODE''' # pages = [6, 7, 8, 9, 10, 11, 12, 13, 14, 15, 16, 17, 18, 19, 20, 21, 22, 23, 24, 25, 26, 27, 28, 29, 30, 31, 32, 33, 34, 35, 36, 37]\n",
    "amc_name = \"Axis Mutual Fund Passive\"\n",
    "logger.info(f\"User Ran Fund Data of {amc_name}\")\n",
    "path = mutual_fund[amc_name]\n",
    "object = AXISMF(PATHS_CONFIG,amc_name,path)\n",
    "title,path_pdf = object.check_and_highlight(path)\n",
    "\n",
    "data = object.get_data(path_pdf,title)\n",
    "extracted_text = object.get_generated_content(data)\n",
    "\n",
    "final_text = object.refine_extracted_data(extracted_text, flatten=True)\n",
    "dfs = object.merge_and_select_data(final_text,select = True, map = True, special=True)\n",
    "Helper.quick_json_dump(dfs,object.JSONPATH)"
   ]
  },
  {
   "cell_type": "code",
   "execution_count": null,
   "metadata": {},
   "outputs": [],
   "source": [
    "'''AXIS ONE ACTIVE MAIN FILE CODE''' #No issues as of now\n",
    "amc_name = \"Axis Mutual Fund\"\n",
    "logger.info(f\"User Ran Fund Data of {amc_name}\")\n",
    "path = mutual_fund[amc_name]\n",
    "object = AXISMF(PATHS_CONFIG,amc_name,path)\n",
    "\n",
    "title,path_pdf = object.check_and_highlight(path)\n",
    "data = object.get_data(path_pdf,title)\n",
    "extracted_text = object.get_generated_content(data)\n"
   ]
  },
  {
   "cell_type": "code",
   "execution_count": null,
   "metadata": {},
   "outputs": [],
   "source": [
    "object = AXISMF(PATHS_CONFIG,amc_name,path)\n",
    "data = object.get_data(path_pdf,title)\n",
    "extracted_text = object.get_generated_content(data)\n",
    "Helper.quick_json_dump(extracted_text,object.JSONPATH)"
   ]
  },
  {
   "cell_type": "code",
   "execution_count": null,
   "metadata": {},
   "outputs": [],
   "source": [
    "object = AXISMF(PATHS_CONFIG,amc_name,path)\n",
    "final_text = object.refine_extracted_data(extracted_text, flatten=True)\n",
    "dfs = object.merge_and_select_data(final_text,select = True, map = True, special=True)\n",
    "Helper.quick_json_dump(dfs,object.JSONPATH)"
   ]
  },
  {
   "cell_type": "code",
   "execution_count": null,
   "metadata": {},
   "outputs": [],
   "source": [
    "\"\"\"ADITYA BIRLA FILE CODE\"\"\"# pages = [17, 19, 21, 23, 25, 27, 29, 31, 33, 35, 37, 39, 41, 43, 45, 47, 49, 50, 52, 54, 56, 58, 60, 62, 64, 66, 67, 69, 72, 75, 78, 80, 82, 86, 87, 89, 91, 93, 95, 98, 101, 103, 106, 108, 110, 112, 114, 115, 116, 118, 119, 121, 123, 125, 127, 128, 129, 130, 131, 132, 133, 134, 135, 136, 137, 138, 139, 140, 141, 143, 145, 147, 149, 151, 152, 153, 155, 157, 159, 160, 161, 162, 163, 164, 165, 166, 167, 168, 169, 170, 171, 172, 173, 174, 175, 176, 177, 178, 179, 180, 181, 182]\n",
    "amc_name = 'Aditya Birla Sun Life Mutual Fund'\n",
    "logging.info(f\"User Ran Fund Data of {amc_name}\")\n",
    "\n",
    "object = AdityaBirla(PATHS_CONFIG,amc_name,path)\n",
    "path = mutual_fund[amc_name]\n",
    "\n",
    "title,path_pdf = object.check_and_highlight(path)\n",
    "\n",
    "data = object.get_data(path_pdf,title)\n",
    "extracted_text = object.get_generated_content(data)\n",
    "\n",
    "final_text = object.refine_extracted_data(extracted_text, flatten=True)\n",
    "dfs = object.merge_and_select_data(final_text,select=True,map = True,special=True)\n",
    "Helper.quick_json_dump(dfs,object.JSONPATH)"
   ]
  },
  {
   "cell_type": "code",
   "execution_count": null,
   "metadata": {},
   "outputs": [],
   "source": [
    "\"\"\"BANDHAN MF FILE MAIN CODE\"\"\" # rgex for fund manager\n",
    "\n",
    "amc_name = \"Bandhan Mutual Fund\"\n",
    "logging.info(f\"User Ran Fund Data of {amc_name}\")\n",
    "\n",
    "object = Bandhan(PATHS_CONFIG,amc_name,path)\n",
    "path = mutual_fund[amc_name]\n",
    "\n",
    "title,path_pdf= object.check_and_highlight(path)"
   ]
  },
  {
   "cell_type": "code",
   "execution_count": null,
   "metadata": {},
   "outputs": [],
   "source": [
    "object = Bandhan(PATHS_CONFIG,amc_name,path)\n",
    "data  = object.get_data(path_pdf,title)\n",
    "extracted_text = object.get_generated_content(data)\n",
    "Helper.quick_json_dump(extracted_text, object.JSONPATH)"
   ]
  },
  {
   "cell_type": "code",
   "execution_count": null,
   "metadata": {},
   "outputs": [],
   "source": [
    "\n",
    "final_text = object.refine_extracted_data(extracted_text, flatten = True)\n",
    "dfs = object.merge_and_select_data(final_text,select=True, map = True, special = True)\n",
    "Helper.quick_json_dump(dfs, object.JSONPATH)"
   ]
  },
  {
   "cell_type": "code",
   "execution_count": 243,
   "metadata": {},
   "outputs": [
    {
     "name": "stdout",
     "output_type": "stream",
     "text": [
      "Function Running: check_and_highlight\n",
      "Function Running: _get_normal_title\n",
      "Regex: (Baroda BNP.*?(?:Fund|Path|ETF|FTF|FOF|Index)\\s*(?:Fund|of Fund)?)\n",
      "06 -- Baroda BNP Paribas Large Cap Fund\n",
      "07 -- Baroda BNP Paribas Large & Mid Cap Fund\n",
      "08 -- Baroda BNP Paribas Mid Cap Fund\n",
      "09 -- Baroda BNP Paribas Small Cap Fund\n",
      "10 -- Baroda BNP Paribas Flexi Cap Fund\n",
      "11 -- Baroda BNP Paribas Multi Cap Fund\n",
      "12 -- Baroda BNP Paribas Value Fund\n",
      "13 -- Baroda BNP Paribas Dividend Yield Fund\n",
      "14 -- Baroda BNP Paribas Focused Fund\n",
      "15 -- Baroda BNP Paribas ELSS Tax Saver Fund\n",
      "16 -- Baroda BNP Paribas India Consumption Fund\n",
      "17 -- Baroda BNP Paribas Business Cycle Fund\n",
      "18 -- Baroda BNP Paribas Banking and Financial Services Fund\n",
      "19 -- Baroda BNP Paribas Innovation Fund\n",
      "20 -- Baroda BNP Paribas Manufacturing Fund\n",
      "21 -- Baroda BNP Paribas Energy Opportunities Fund\n",
      "22 -- Baroda BNP Paribas Aqua Fund of Fund\n",
      "23 -- Baroda BNP Paribas Balanced Advantage Fund\n",
      "24 -- Baroda BNP Paribas Balanced Advantage Fund\n",
      "25 -- Baroda BNP Paribas Aggressive Hybrid Fund\n",
      "26 -- Baroda BNP Paribas Multi Asset Fund\n",
      "27 -- Baroda BNP Paribas Equity Savings Fund\n",
      "28 -- Baroda BNP Paribas Conservative Hybrid Fund\n",
      "29 -- Baroda BNP Paribas Arbitrage Fund\n",
      "30 -- Baroda BNP Paribas Retirement Fund\n",
      "31 -- Baroda BNP Paribas Childrens Fund\n",
      "32 -- Baroda BNP Paribas Liquid Fund\n",
      "33 -- Baroda BNP Paribas Overnight Fund\n",
      "34 -- Baroda BNP Paribas Ultra Short Duration Fund\n",
      "35 -- Baroda BNP Paribas Low Duration Fund\n",
      "36 -- Baroda BNP Paribas Money Market Fund\n",
      "37 -- Baroda BNP Paribas Banking and PSU Bond Fund\n",
      "38 -- Baroda BNP Paribas Short Duration Fund\n",
      "39 -- Baroda BNP Paribas Credit Risk Fund\n",
      "40 -- Baroda BNP Paribas Corporate Bond Fund\n",
      "41 -- Baroda BNP Paribas Dynamic Bond Fund\n",
      "42 -- Baroda BNP Paribas Gilt Fund\n",
      "43 -- Baroda BNP Paribas NIFTY SDL December 2026 Index Fund\n",
      "44 -- Baroda BNP Paribas NIFTY SDL December 2028 Index Fund\n",
      "45 -- Baroda BNP Paribas Nifty 50 Index Fund\n",
      "46 -- Baroda BNP Paribas Gold ETF\n",
      "47 -- Baroda BNP Paribas NIFTY BANK ETF\n",
      "48 -- Baroda BNP Paribas Nifty200 Momentum 30 Index Fund\n",
      "49 -- Baroda BNP Paribas NIFTY Midcap 150 Index Fund\n",
      "50 -- Baroda BNP Paribas Large Cap Fund\n",
      "51 -- Baroda BNP Paribas Balanced Advantage Fund\n",
      "53 -- Baroda BNP Paribas Multi Cap Fund\n",
      "56 -- Baroda BNP Paribas Large Cap Fund\n",
      "57 -- Baroda BNP Paribas Large Cap Fund\n",
      "\tHlted PDF at: E:\\PDFDrive\\Mar25\\Baroda BNP Paribas Mutual Fund\\2_31-Mar-25_FS_hltd.pdf\n",
      "\n",
      "\tDoc Saved At: C:\\Users\\rando\\OneDrive\\Documents\\mywork-repo\\data\\output\\pdf_report.xlsx\n",
      "\n",
      "\n"
     ]
    }
   ],
   "source": [
    "\"\"\" BARODA BNP MAIN FILE CODE\"\"\"\n",
    "\n",
    "amc_name = 'Baroda Bnp Paribas Mutual Fund'\n",
    "logging.info(f\"User Ran Fund Data of {amc_name}\")\n",
    "path = mutual_fund[amc_name]\n",
    "object = BarodaBNP(PATHS_CONFIG,amc_name,path)\n",
    "title,path_pdf= object.check_and_highlight(path)"
   ]
  },
  {
   "cell_type": "code",
   "execution_count": 244,
   "metadata": {},
   "outputs": [
    {
     "name": "stdout",
     "output_type": "stream",
     "text": [
      "Function Running: get_data\n",
      "Function Running: extract_data_relative_line\n",
      "Function Running: extract_span_data\n",
      "Function Running: process_text_data\n",
      "Function Running: create_nested_dict\n",
      "Function Running: get_generated_content\n",
      "Parsing Completed, Refining Data.....\n",
      "\n",
      "-------------\n",
      "FUND: Baroda BNP Paribas Large Cap Fund\n",
      "MATCH: ['Large Cap']\n",
      "REPLACEMENT: Baroda BNP Paribas Large Cap Fund\n",
      "--<<Baroda BNP Paribas Large Cap Fund>>--\n",
      "-------------\n",
      "FUND: Baroda BNP Paribas Large & Mid Cap Fund\n",
      "MATCH: ['Large & Mid Cap']\n",
      "REPLACEMENT: Baroda BNP Paribas Large & Mid Cap Fund\n",
      "--<<Baroda BNP Paribas Large & Mid Cap Fund>>--\n",
      "-------------\n",
      "FUND: Baroda BNP Paribas Mid Cap Fund\n",
      "MATCH: ['Mid Cap']\n",
      "REPLACEMENT: Baroda BNP Paribas Mid Cap Fund\n",
      "--<<Baroda BNP Paribas Mid Cap Fund>>--\n",
      "-------------\n",
      "FUND: Baroda BNP Paribas Small Cap Fund\n",
      "MATCH: ['Small Cap']\n",
      "REPLACEMENT: Baroda BNP Paribas Small Cap Fund\n",
      "--<<Baroda BNP Paribas Small Cap Fund>>--\n",
      "-------------\n",
      "FUND: Baroda BNP Paribas Flexi Cap Fund\n",
      "MATCH: ['Flexi Cap']\n",
      "REPLACEMENT: Baroda BNP Paribas Flexi Cap Fund\n",
      "--<<Baroda BNP Paribas Flexi Cap Fund>>--\n",
      "-------------\n",
      "FUND: Baroda BNP Paribas Multi Cap Fund\n",
      "MATCH: ['Multi Cap']\n",
      "REPLACEMENT: Baroda BNP Paribas Multi Cap Fund\n",
      "--<<Baroda BNP Paribas Multi Cap Fund>>--\n",
      "-------------\n",
      "FUND: Baroda BNP Paribas Value Fund\n",
      "MATCH: ['Value']\n",
      "REPLACEMENT: Baroda BNP Paribas Value Fund\n",
      "--<<Baroda BNP Paribas Value Fund>>--\n",
      "-------------\n",
      "FUND: Baroda BNP Paribas Dividend Yield Fund\n",
      "MATCH: ['Dividend Yield']\n",
      "REPLACEMENT: Baroda BNP Paribas Dividend Yield Fund\n",
      "--<<Baroda BNP Paribas Dividend Yield Fund>>--\n",
      "-------------\n",
      "FUND: Baroda BNP Paribas Focused Fund\n",
      "MATCH: ['Focused']\n",
      "REPLACEMENT: Baroda BNP Paribas Focused Fund\n",
      "--<<Baroda BNP Paribas Focused Fund>>--\n",
      "-------------\n",
      "FUND: Baroda BNP Paribas ELSS Tax Saver Fund\n",
      "MATCH: ['ELSS Tax Saver']\n",
      "REPLACEMENT: Baroda BNP Paribas ELSS Tax Saver Fund\n",
      "--<<Baroda BNP Paribas ELSS Tax Saver Fund>>--\n",
      "-------------\n",
      "FUND: Baroda BNP Paribas India Consumption Fund\n",
      "MATCH: ['India Consumption']\n",
      "REPLACEMENT: Baroda BNP Paribas India Consumption Fund\n",
      "--<<Baroda BNP Paribas India Consumption Fund>>--\n",
      "-------------\n",
      "FUND: Baroda BNP Paribas Business Cycle Fund\n",
      "MATCH: ['Business Cycle']\n",
      "REPLACEMENT: Baroda BNP Paribas Business Cycle Fund\n",
      "--<<Baroda BNP Paribas Business Cycle Fund>>--\n",
      "--<<Baroda BNP Paribas Banking and Financial Services Fund>>--\n",
      "-------------\n",
      "FUND: Baroda BNP Paribas Innovation Fund\n",
      "MATCH: ['Innovation']\n",
      "REPLACEMENT: Baroda BNP Paribas Innovation Fund\n",
      "--<<Baroda BNP Paribas Innovation Fund>>--\n",
      "-------------\n",
      "FUND: Baroda BNP Paribas Manufacturing Fund\n",
      "MATCH: ['Manufacturing']\n",
      "REPLACEMENT: Baroda BNP Paribas Manufacturing Fund\n",
      "--<<Baroda BNP Paribas Manufacturing Fund>>--\n",
      "-------------\n",
      "FUND: Baroda BNP Paribas Energy Opportunities Fund\n",
      "MATCH: ['Energy Opportunities']\n",
      "REPLACEMENT: Baroda BNP Paribas Energy Opportunities Fund\n",
      "--<<Baroda BNP Paribas Energy Opportunities Fund>>--\n",
      "-------------\n",
      "FUND: Baroda BNP Paribas Aqua Fund of Fund\n",
      "MATCH: ['Aqua Fund']\n",
      "REPLACEMENT: Baroda BNP Paribas Aqua Fund of Fund\n",
      "--<<Baroda BNP Paribas Aqua Fund of Fund>>--\n",
      "-------------\n",
      "FUND: Baroda BNP Paribas Balanced Advantage Fund\n",
      "MATCH: ['Balanced Advantage']\n",
      "REPLACEMENT: Baroda BNP Paribas Balanced Advantage Fund\n",
      "--<<Baroda BNP Paribas Balanced Advantage Fund>>--\n",
      "-------------\n",
      "FUND: Baroda BNP Paribas Aggressive Hybrid Fund\n",
      "MATCH: ['Aggressive Hybrid']\n",
      "REPLACEMENT: Baroda BNP Paribas Aggressive Hybrid Fund\n",
      "--<<Baroda BNP Paribas Aggressive Hybrid Fund>>--\n",
      "-------------\n",
      "FUND: Baroda BNP Paribas Multi Asset Fund\n",
      "MATCH: ['Multi Asset']\n",
      "REPLACEMENT: Baroda BNP Paribas Multi Asset Fund\n",
      "--<<Baroda BNP Paribas Multi Asset Fund>>--\n",
      "-------------\n",
      "FUND: Baroda BNP Paribas Equity Savings Fund\n",
      "MATCH: ['Equity Savings']\n",
      "REPLACEMENT: Baroda BNP Paribas Equity Savings Fund\n",
      "--<<Baroda BNP Paribas Equity Savings Fund>>--\n",
      "-------------\n",
      "FUND: Baroda BNP Paribas Conservative Hybrid Fund\n",
      "MATCH: ['Conservative Hybrid']\n",
      "REPLACEMENT: Baroda BNP Paribas Conservative Hybrid Fund\n",
      "--<<Baroda BNP Paribas Conservative Hybrid Fund>>--\n",
      "-------------\n",
      "FUND: Baroda BNP Paribas Arbitrage Fund\n",
      "MATCH: ['Arbitrage']\n",
      "REPLACEMENT: Baroda BNP Paribas Arbitrage Fund\n",
      "--<<Baroda BNP Paribas Arbitrage Fund>>--\n",
      "-------------\n",
      "FUND: Baroda BNP Paribas Retirement Fund\n",
      "MATCH: ['Retirement']\n",
      "REPLACEMENT: Baroda BNP Paribas Retirement Fund\n",
      "--<<Baroda BNP Paribas Retirement Fund>>--\n",
      "-------------\n",
      "FUND: Baroda BNP Paribas Childrens Fund\n",
      "MATCH: ['Childrens']\n",
      "REPLACEMENT: Baroda BNP Paribas Childrens Fund\n",
      "--<<Baroda BNP Paribas Childrens Fund>>--\n",
      "-------------\n",
      "FUND: Baroda BNP Paribas Liquid Fund\n",
      "MATCH: ['Liquid']\n",
      "REPLACEMENT: Baroda BNP Paribas Liquid Fund\n",
      "--<<Baroda BNP Paribas Liquid Fund>>--\n",
      "-------------\n",
      "FUND: Baroda BNP Paribas Overnight Fund\n",
      "MATCH: ['Overnight']\n",
      "REPLACEMENT: Baroda BNP Paribas Overnight Fund\n",
      "--<<Baroda BNP Paribas Overnight Fund>>--\n",
      "-------------\n",
      "FUND: Baroda BNP Paribas Ultra Short Duration Fund\n",
      "MATCH: ['Short Duration']\n",
      "REPLACEMENT: Baroda BNP Paribas Short Duration Fund\n",
      "--<<Baroda BNP Paribas Short Duration Fund>>--\n",
      "-------------\n",
      "FUND: Baroda BNP Paribas Low Duration Fund\n",
      "MATCH: ['Low Duration']\n",
      "REPLACEMENT: Baroda BNP Paribas Low Duration Fund\n",
      "--<<Baroda BNP Paribas Low Duration Fund>>--\n",
      "-------------\n",
      "FUND: Baroda BNP Paribas Money Market Fund\n",
      "MATCH: ['Money Market']\n",
      "REPLACEMENT: Baroda BNP Paribas Money Market Fund\n",
      "--<<Baroda BNP Paribas Money Market Fund>>--\n",
      "-------------\n",
      "FUND: Baroda BNP Paribas Banking and PSU Bond Fund\n",
      "MATCH: ['Banking and PSU Bond']\n",
      "REPLACEMENT: Baroda BNP Paribas Banking and PSU Bond Fund\n",
      "--<<Baroda BNP Paribas Banking and PSU Bond Fund>>--\n",
      "-------------\n",
      "FUND: Baroda BNP Paribas Short Duration Fund\n",
      "MATCH: ['Short Duration']\n",
      "REPLACEMENT: Baroda BNP Paribas Short Duration Fund\n",
      "--<<Baroda BNP Paribas Short Duration Fund>>--\n",
      "-------------\n",
      "FUND: Baroda BNP Paribas Credit Risk Fund\n",
      "MATCH: ['Credit Risk']\n",
      "REPLACEMENT: Baroda BNP Paribas Credit Risk Fund\n",
      "--<<Baroda BNP Paribas Credit Risk Fund>>--\n",
      "-------------\n",
      "FUND: Baroda BNP Paribas Corporate Bond Fund\n",
      "MATCH: ['Corporate Bond']\n",
      "REPLACEMENT: Baroda BNP Paribas Corporate Bond Fund\n",
      "--<<Baroda BNP Paribas Corporate Bond Fund>>--\n",
      "-------------\n",
      "FUND: Baroda BNP Paribas Dynamic Bond Fund\n",
      "MATCH: ['Dynamic Bond']\n",
      "REPLACEMENT: Baroda BNP Paribas Dynamic Bond Fund\n",
      "--<<Baroda BNP Paribas Dynamic Bond Fund>>--\n",
      "-------------\n",
      "FUND: Baroda BNP Paribas Gilt Fund\n",
      "MATCH: ['Gilt']\n",
      "REPLACEMENT: Baroda BNP Paribas Gilt Fund\n",
      "--<<Baroda BNP Paribas Gilt Fund>>--\n",
      "-------------\n",
      "FUND: Baroda BNP Paribas NIFTY SDL December 2026 Index Fund\n",
      "MATCH: ['NIFTY SDL December 2026 Index']\n",
      "REPLACEMENT: Baroda BNP Paribas NIFTY SDL December 2026 Index Fund\n",
      "--<<Baroda BNP Paribas NIFTY SDL December 2026 Index Fund>>--\n",
      "-------------\n",
      "FUND: Baroda BNP Paribas NIFTY SDL December 2028 Index Fund\n",
      "MATCH: ['NIFTY SDL December 2028 Index']\n",
      "REPLACEMENT: Baroda BNP Paribas NIFTY SDL December 2028 Index Fund\n",
      "--<<Baroda BNP Paribas NIFTY SDL December 2028 Index Fund>>--\n",
      "-------------\n",
      "FUND: Baroda BNP Paribas Nifty 50 Index Fund\n",
      "MATCH: ['Nifty 50 Index']\n",
      "REPLACEMENT: Baroda BNP Paribas Nifty 50 Index Fund\n",
      "--<<Baroda BNP Paribas Nifty 50 Index Fund>>--\n",
      "-------------\n",
      "FUND: Baroda BNP Paribas Gold ETF\n",
      "MATCH: ['Gold ETF']\n",
      "REPLACEMENT: Baroda BNP Paribas Gold ETF\n",
      "--<<Baroda BNP Paribas Gold ETF>>--\n",
      "-------------\n",
      "FUND: Baroda BNP Paribas NIFTY BANK ETF\n",
      "MATCH: ['NIFTY BANK ETF']\n",
      "REPLACEMENT: Baroda BNP Paribas NIFTY BANK ETF\n",
      "--<<Baroda BNP Paribas NIFTY BANK ETF>>--\n",
      "-------------\n",
      "FUND: Baroda BNP Paribas Nifty200 Momentum 30 Index Fund\n",
      "MATCH: ['Nifty200 Momentum 30 Index']\n",
      "REPLACEMENT: Baroda BNP Paribas Nifty200 Momentum 30 Index Fund\n",
      "--<<Baroda BNP Paribas Nifty200 Momentum 30 Index Fund>>--\n",
      "-------------\n",
      "FUND: Baroda BNP Paribas NIFTY Midcap 150 Index Fund\n",
      "MATCH: ['NIFTY Midcap 150 Index']\n",
      "REPLACEMENT: Baroda BNP Paribas NIFTY Midcap 150 Index Fund\n",
      "--<<Baroda BNP Paribas NIFTY Midcap 150 Index Fund>>--\n"
     ]
    }
   ],
   "source": [
    "data  = object.get_data(path_pdf,title)\n",
    "extracted_text = object.get_generated_content(data)"
   ]
  },
  {
   "cell_type": "code",
   "execution_count": null,
   "metadata": {},
   "outputs": [],
   "source": [
    "object = BarodaBNP(PATHS_CONFIG,amc_name,path)\n",
    "final_text = object.refine_extracted_data(extracted_text, flatten = True)\n",
    "dfs = object.merge_and_select_data(final_text, select = True, map = True, special = True)\n",
    "Helper.quick_json_dump(dfs, object.JSONPATH)"
   ]
  },
  {
   "cell_type": "code",
   "execution_count": null,
   "metadata": {},
   "outputs": [],
   "source": [
    "\"\"\"BANK OF INDIA\"\"\" #Regex# pages =[6, 7, 8, 9, 10, 11, 12, 13, 14, 15, 16, 17, 18, 19, 20, 21, 22, 23, 24]\n",
    "\n",
    "amc_name = 'Bank Of India Mutual Fund'\n",
    "logging.info(f\"User Ran Fund Data of {amc_name}\")\n",
    "path = mutual_fund[amc_name]\n",
    "object = BankOfIndia(PATHS_CONFIG,amc_name,path)\n",
    "title,path_pdf= object.check_and_highlight(path)\n",
    "data = object.get_data(path_pdf,title)\n",
    "extracted_text = object.get_generated_content(data)\n",
    "\n",
    "final_text = object.refine_extracted_data(extracted_text)\n",
    "dfs = object.merge_and_select_data(final_text,select = True, map = True, special=True)\n",
    "Helper.quick_json_dump(dfs, object.JSONPATH)"
   ]
  },
  {
   "cell_type": "code",
   "execution_count": null,
   "metadata": {},
   "outputs": [],
   "source": [
    "\"\"\"BAJAJ FINSERV MAIN FILE CODE\"\"\" #manager regex robust # pages = [17, 19, 21, 23, 25, 26, 28, 30, 31, 32, 33, 34, 35, 36, 37, 38]\n",
    "\n",
    "amc_name = 'Bajaj Finserv Mutual Fund'\n",
    "logging.info(f\"User Ran Fund Data of {amc_name}\")\n",
    "path = mutual_fund[amc_name]\n",
    "object = BajajFinServ(PATHS_CONFIG,amc_name,path)\n",
    "\n",
    "title,path_pdf= object.check_and_highlight(path)\n",
    "data = object.get_data(path_pdf,title)\n",
    "extracted_text = object.get_generated_content(data)"
   ]
  },
  {
   "cell_type": "code",
   "execution_count": null,
   "metadata": {},
   "outputs": [],
   "source": [
    "object = BajajFinServ(PATHS_CONFIG,amc_name,path)\n",
    "final_text = object.refine_extracted_data(extracted_text, flatten = True)\n",
    "dfs = object.merge_and_select_data(final_text, select=True,map = True, special=True)\n",
    "Helper.quick_json_dump(dfs, object.JSONPATH)"
   ]
  },
  {
   "cell_type": "code",
   "execution_count": null,
   "metadata": {},
   "outputs": [],
   "source": [
    "\"\"\"CANARA MUTUAL FUND\"\"\" # pages = [8, 9, 10, 11, 12, 13, 14, 15, 16, 17, 18, 19, 20, 21, 22, 23, 24, 25, 26, 27, 28, 29, 30, 31, 32]\n",
    "\n",
    "amc_name = 'Canara Robeco Mutual Fund'\n",
    "logging.info(f\"User Ran Fund Data of {amc_name}\")\n",
    "path = mutual_fund[amc_name]\n",
    "object = Canara(PATHS_CONFIG,amc_name,path)\n",
    "\n",
    "title,path_pdf= object.check_and_highlight(path)\n",
    "data = object.get_data(path_pdf,title)\n",
    "extracted_text = object.get_generated_content(data)"
   ]
  },
  {
   "cell_type": "code",
   "execution_count": null,
   "metadata": {},
   "outputs": [],
   "source": [
    "object = Canara(PATHS_CONFIG,amc_name,path)\n",
    "data = object.get_data(path_pdf,title)\n",
    "extracted_text = object.get_generated_content(data)\n",
    "Helper.quick_json_dump(extracted_text, object.JSONPATH)"
   ]
  },
  {
   "cell_type": "code",
   "execution_count": 257,
   "metadata": {},
   "outputs": [
    {
     "name": "stdout",
     "output_type": "stream",
     "text": [
      "Function Running: refine_extracted_data\n",
      "\n",
      "  JSON saved at C:\\Users\\rando\\OneDrive\\Documents\\mywork-repo\\data\\output\\dump_canara_23_44_58.json\n"
     ]
    }
   ],
   "source": [
    "object = Canara(PATHS_CONFIG,amc_name,path)\n",
    "final_text = object.refine_extracted_data(extracted_text, flatten = True)\n",
    "# dfs = object.merge_and_select_data(final_text,select = True,map = True, special=True)\n",
    "Helper.quick_json_dump(final_text, object.JSONPATH)"
   ]
  },
  {
   "cell_type": "code",
   "execution_count": null,
   "metadata": {},
   "outputs": [],
   "source": [
    "\"\"\"DSP MAIN FILE CODE\"\"\"# pages = [1, 2, 3, 4, 5, 6, 7, 8, 9, 10, 11, 12, 13, 14, 15, 16, 17, 18, 19, 20, 21, 23, 24, 25, 26, 27, 28, 29, 30, 31, 32, 33, 34, 35, 36, 37, 38, 39, 40, 41, 42, 43, 44, 45, 46, 47, 48, 49, 50, 51, 52, 53, 54, 55, 56, 57, 58, 59, 60, 61, 62, 63, 64, 65, 66, 67]\n",
    "\n",
    "amc_name = 'Dsp Mutual Fund'\n",
    "logging.info(f\"User Ran Fund Data of {amc_name}\")\n",
    "path = mutual_fund['Dsp Mutual Fund']\n",
    "object = DSP(PATHS_CONFIG,amc_name,path)\n",
    "title,path_pdf= object.check_and_highlight(path)\n",
    "\n",
    "data = object.get_data(path_pdf,title)\n",
    "extracted_text = object.get_generated_content(data)\n",
    "\n",
    "final_text = object.refine_extracted_data(extracted_text,flatten = True)\n",
    "dfs = object.merge_and_select_data(final_text,map = True, select = True,special = True)\n",
    "Helper.quick_json_dump(dfs,object.JSONPATH)"
   ]
  },
  {
   "cell_type": "code",
   "execution_count": null,
   "metadata": {},
   "outputs": [],
   "source": [
    "\"\"\"EDELWEISS MP FILE MAIN CODE\"\"\" #Issues: objective in seperate dict,#metrics are weird, scheme launch date issue\n",
    "\n",
    "amc_name = 'Edelweiss Mutual Fund'\n",
    "logging.info(f\"User Ran Fund Data of {amc_name}\")\n",
    "path = mutual_fund[amc_name]\n",
    "object = Edelweiss(PATHS_CONFIG,amc_name,path)\n",
    "title,path_pdf= object.check_and_highlight(path)\n",
    "\n",
    "data = object.get_data(path_pdf,title)\n",
    "extracted_text = object.get_generated_content(data)\n",
    "object = Edelweiss(PATHS_CONFIG,amc_name,path)\n",
    "final_text = object.refine_extracted_data(extracted_text, flatten = True)\n",
    "dfs = object.merge_and_select_data(final_text, select = True, map = True, special =True)\n",
    "Helper.quick_json_dump(dfs, object.JSONPATH)"
   ]
  },
  {
   "cell_type": "code",
   "execution_count": null,
   "metadata": {},
   "outputs": [],
   "source": [
    "\"\"\"FRANKLIN TEMPLETON FILE MAIN CODE\"\"\"\n",
    "\n",
    "amc_name = \"Franklin Templeton Mutual Fund\"\n",
    "logging.info(f\"User Ran Fund Data of {amc_name}\")\n",
    "path = mutual_fund[amc_name]\n",
    "object = FranklinTempleton(PATHS_CONFIG,amc_name,path)\n",
    "title,path_pdf= object.check_and_highlight(path)\n",
    "\n",
    "# pages = [17, 18, 19, 20, 21, 22, 23, 24, 25, 26, 27, 28, 29, 30, 31, 32, 33, 34, 35, 36, 37, 38, 39, 40, 41, 42, 43, 44, 45, 46, 47, 48, 49, 50]\n",
    "data = object.get_data(path_pdf,title)\n",
    "extracted_text = object.get_generated_content(data)\n",
    "final_text = object.refine_extracted_data(extracted_text, flatten = True)\n",
    "dfs = object.merge_and_select_data(final_text,select = True,map = True, special=True)\n",
    "Helper.quick_json_dump(dfs, object.JSONPATH)"
   ]
  },
  {
   "cell_type": "code",
   "execution_count": 78,
   "metadata": {},
   "outputs": [
    {
     "name": "stdout",
     "output_type": "stream",
     "text": [
      "Function Running: check_and_highlight\n",
      "Function Running: _get_normal_title\n",
      "Regex: (GROWW.*?(?:FUND|Fund|ETF\\s*(?:FOF)?))\n",
      "13 -- GROWW LARGE CAP FUND\n",
      "14 -- GROWW LARGE CAP FUND\n",
      "15 -- GROWW AGGRESSIVE HYBRID FUND\n",
      "16 -- GROWW AGGRESSIVE HYBRID FUND\n",
      "17 -- GROWW VALUE FUND\n",
      "18 -- GROWW VALUE FUND\n",
      "19 -- GROWW ELSS TAX SAVER FUND\n",
      "20 -- GROWW ELSS TAX SAVER FUND\n",
      "21 -- GROWW MULTICAP FUND\n",
      "22 -- GROWW Nifty Total Market Index Fund\n",
      "23 -- GROWW Nifty Total Market Index Fund\n",
      "24 -- GROWW Banking & Financial Services Fund\n",
      "25 -- GROWW Banking & Financial Services Fund\n",
      "26 -- GROWW Nifty Smallcap 250 Index Fund\n",
      "27 -- GROWW Nifty Smallcap 250 Index Fund\n",
      "28 -- GROWW Nifty EV & New Age Automotive ETF\n",
      "29 -- GROWW Nifty EV & New Age Automotive ETF FOF\n",
      "30 -- GROWW Nifty Non-Cyclical Consumer Index Fund\n",
      "31 -- GROWW Nifty Non-Cyclical Consumer Index Fund\n",
      "32 -- GROWW Nifty 1D Rate Liquid ETF\n",
      "33 -- GROWW Nifty India Defence ETF\n",
      "34 -- GROWW Nifty India Defence ETF FOF\n",
      "35 -- GROWW Gold ETF\n",
      "36 -- GROWW Gold ETF FOF\n",
      "37 -- GROWW OVERNIGHT FUND\n",
      "38 -- GROWW LIQUID FUND\n",
      "39 -- GROWW LIQUID FUND\n",
      "40 -- GROWW SHORT DURATION FUND\n",
      "41 -- GROWW SHORT DURATION FUND\n",
      "42 -- GROWW DYNAMIC BOND FUND\n",
      "43 -- GROWW DYNAMIC BOND FUND\n",
      "\tHlted PDF at: E:\\PDFDrive\\Jan25\\Groww Mutual Fund\\20_31-Jan-25_FS_hltd.pdf\n",
      "\n",
      "\tDoc Saved At: C:\\Users\\rando\\OneDrive\\Documents\\mywork-repo\\data\\output\\pdf_report.xlsx\n",
      "\n",
      "\n",
      "Function Running: get_data\n",
      "Function Running: extract_data_relative_line\n",
      "Function Running: extract_span_data\n",
      "Function Running: process_text_data\n",
      "Function Running: create_nested_dict\n",
      "Function Running: get_generated_content\n",
      "Parsing Completed, Refining Data.....\n",
      "\n",
      "-------------\n",
      "FUND: GROWW LARGE CAP FUND\n",
      "MATCH: ['LARGE CAP']\n",
      "REPLACEMENT: GROWW Large Cap Fund\n",
      "--<<GROWW Large Cap Fund>>--\n",
      "-------------\n",
      "FUND: GROWW AGGRESSIVE HYBRID FUND\n",
      "MATCH: ['AGGRESSIVE HYBRID']\n",
      "REPLACEMENT: GROWW Aggressive Hybrid Fund\n",
      "--<<GROWW Aggressive Hybrid Fund>>--\n",
      "-------------\n",
      "FUND: GROWW VALUE FUND\n",
      "MATCH: ['VALUE']\n",
      "REPLACEMENT: GROWW Value Fund\n",
      "--<<GROWW Value Fund>>--\n",
      "-------------\n",
      "FUND: GROWW ELSS TAX SAVER FUND\n",
      "MATCH: ['ELSS TAX SAVER']\n",
      "REPLACEMENT: GROWW ELSS Tax Saver Fund\n",
      "--<<GROWW ELSS Tax Saver Fund>>--\n",
      "-------------\n",
      "FUND: GROWW MULTICAP FUND\n",
      "MATCH: ['MULTICAP']\n",
      "REPLACEMENT: GROWW Multicap Fund\n",
      "--<<GROWW Multicap Fund>>--\n",
      "-------------\n",
      "FUND: GROWW Nifty Total Market Index Fund\n",
      "MATCH: ['Total Market Index']\n",
      "REPLACEMENT: GROWW Nifty Total Market Index Fund\n",
      "--<<GROWW Nifty Total Market Index Fund>>--\n",
      "-------------\n",
      "FUND: GROWW Banking & Financial Services Fund\n",
      "MATCH: ['Banking & Financial Services']\n",
      "REPLACEMENT: GROWW Banking & Financial Services Fund\n",
      "--<<GROWW Banking & Financial Services Fund>>--\n",
      "-------------\n",
      "FUND: GROWW Nifty Smallcap 250 Index Fund\n",
      "MATCH: ['Smallcap 250 Index']\n",
      "REPLACEMENT: GROWW Nifty Smallcap 250 Index Fund\n",
      "--<<GROWW Nifty Smallcap 250 Index Fund>>--\n",
      "-------------\n",
      "FUND: GROWW Nifty EV & New Age Automotive ETF\n",
      "MATCH: ['Nifty EV & New Age Automotive ETF']\n",
      "REPLACEMENT: GROWW Nifty EV & New Age Automotive ETF FOF\n",
      "--<<GROWW Nifty EV & New Age Automotive ETF FOF>>--\n",
      "-------------\n",
      "FUND: GROWW Nifty EV & New Age Automotive ETF FOF\n",
      "MATCH: ['Nifty EV & New Age Automotive ETF']\n",
      "REPLACEMENT: GROWW Nifty EV & New Age Automotive ETF FOF\n",
      "--<<GROWW Nifty EV & New Age Automotive ETF FOF>>--\n",
      "-------------\n",
      "FUND: GROWW Nifty Non-Cyclical Consumer Index Fund\n",
      "MATCH: ['Nifty Non-Cyclical Consumer Index']\n",
      "REPLACEMENT: GROWW Nifty Non-Cyclical Consumer Index Fund\n",
      "--<<GROWW Nifty Non-Cyclical Consumer Index Fund>>--\n",
      "-------------\n",
      "FUND: GROWW Nifty 1D Rate Liquid ETF\n",
      "MATCH: ['Liquid']\n",
      "REPLACEMENT: GROWW Liquid Fund\n",
      "--<<GROWW Liquid Fund>>--\n",
      "-------------\n",
      "FUND: GROWW Nifty India Defence ETF\n",
      "MATCH: ['Nifty India Defence ETF']\n",
      "REPLACEMENT: GROWW Nifty India Defence ETF\n",
      "--<<GROWW Nifty India Defence ETF>>--\n",
      "-------------\n",
      "FUND: GROWW Nifty India Defence ETF FOF\n",
      "MATCH: ['Nifty India Defence ETF']\n",
      "REPLACEMENT: GROWW Nifty India Defence ETF\n",
      "--<<GROWW Nifty India Defence ETF>>--\n",
      "-------------\n",
      "FUND: GROWW Gold ETF\n",
      "MATCH: ['Gold ETF']\n",
      "REPLACEMENT: GROWW Gold ETF\n",
      "--<<GROWW Gold ETF>>--\n",
      "-------------\n",
      "FUND: GROWW Gold ETF FOF\n",
      "MATCH: ['Gold ETF']\n",
      "REPLACEMENT: GROWW Gold ETF\n",
      "--<<GROWW Gold ETF>>--\n",
      "-------------\n",
      "FUND: GROWW OVERNIGHT FUND\n",
      "MATCH: ['OVERNIGHT']\n",
      "REPLACEMENT: GROWW Overnight Fund\n",
      "--<<GROWW Overnight Fund>>--\n",
      "-------------\n",
      "FUND: GROWW LIQUID FUND\n",
      "MATCH: ['LIQUID']\n",
      "REPLACEMENT: GROWW Liquid Fund\n",
      "--<<GROWW Liquid Fund>>--\n",
      "-------------\n",
      "FUND: GROWW SHORT DURATION FUND\n",
      "MATCH: ['SHORT DURATION']\n",
      "REPLACEMENT: GROWW Short Duration Fund\n",
      "--<<GROWW Short Duration Fund>>--\n",
      "-------------\n",
      "FUND: GROWW DYNAMIC BOND FUND\n",
      "MATCH: ['DYNAMIC BOND']\n",
      "REPLACEMENT: GROWW Dynamic Bond Fund\n",
      "--<<GROWW Dynamic Bond Fund>>--\n"
     ]
    }
   ],
   "source": [
    "\"\"\"GROWW MUTUAL FUND MAIN CODE\"\"\"# pages = [13, 14, 15, 16, 17, 18, 19, 20, 21, 22, 23, 24, 26, 28, 29, 30, 32, 33, 34, 35, 36, 37, 38, 39, 40, 41, 42]\n",
    "\n",
    "amc_name = \"Groww Mutual Fund\"\n",
    "logging.info(f\"User Ran Fund Data of {amc_name}\")\n",
    "path = mutual_fund[amc_name]\n",
    "object = GROWW(PATHS_CONFIG,amc_name,path)\n",
    "title,path_pdf= object.check_and_highlight(path)\n",
    "\n",
    "data = object.get_data(path_pdf,title)\n",
    "extracted_text = object.get_generated_content(data)"
   ]
  },
  {
   "cell_type": "code",
   "execution_count": 79,
   "metadata": {},
   "outputs": [
    {
     "name": "stdout",
     "output_type": "stream",
     "text": [
      "\n",
      "  JSON saved at C:\\Users\\rando\\OneDrive\\Documents\\mywork-repo\\data\\output\\dump_groww_01_00_00.json\n"
     ]
    }
   ],
   "source": [
    "Helper.quick_json_dump(extracted_text,object.JSONPATH)"
   ]
  },
  {
   "cell_type": "code",
   "execution_count": 80,
   "metadata": {},
   "outputs": [
    {
     "name": "stdout",
     "output_type": "stream",
     "text": [
      "Function Running: refine_extracted_data\n",
      "\n",
      "  JSON saved at C:\\Users\\rando\\OneDrive\\Documents\\mywork-repo\\data\\output\\dump_groww_01_00_46.json\n"
     ]
    }
   ],
   "source": [
    "final_text = object.refine_extracted_data(extracted_text, flatten = True)\n",
    "# dfs = object.merge_and_select_data(final_text,select = True, map = True, special = True)\n",
    "Helper.quick_json_dump(final_text,object.JSONPATH)"
   ]
  },
  {
   "cell_type": "code",
   "execution_count": null,
   "metadata": {},
   "outputs": [],
   "source": []
  },
  {
   "cell_type": "code",
   "execution_count": null,
   "metadata": {},
   "outputs": [],
   "source": [
    "\"\"\"HDFC MUTUAL FUND\"\"\" # pages = [5, 6, 8, 10, 11, 12, 13, 14, 15, 16, 17, 18, 19, 20, 21, 22, 23, 24, 25, 26, 27, 28, 29, 30, 31, 32, 33, 34, 35, 36, 37, 38, 39, 40, 41, 42, 43, 44, 45, 46, 47, 48, 49, 50, 51]\n",
    "\n",
    "amc_name = \"Hdfc Mutual Fund\"\n",
    "logging.info(f\"User Ran Fund Data of {amc_name}\")\n",
    "path = mutual_fund[amc_name]\n",
    "object = HDFC(PATHS_CONFIG,amc_name,path)\n",
    "title,path_pdf= object.check_and_highlight(path)\n",
    "\n",
    "data = object.get_data(path_pdf,title)\n",
    "extracted_text = object.get_generated_content(data)"
   ]
  },
  {
   "cell_type": "code",
   "execution_count": 36,
   "metadata": {},
   "outputs": [
    {
     "name": "stdout",
     "output_type": "stream",
     "text": [
      "\n",
      "  JSON saved at C:\\Users\\Kaustubh.keny\\Projects\\office-work\\mywork-repo\\data\\MAR25DATA\\dump_hdfc_12_22_14.json\n"
     ]
    }
   ],
   "source": [
    "Helper.quick_json_dump(extracted_text,object.JSONPATH)"
   ]
  },
  {
   "cell_type": "code",
   "execution_count": 38,
   "metadata": {},
   "outputs": [
    {
     "name": "stdout",
     "output_type": "stream",
     "text": [
      "Function Running: refine_extracted_data\n",
      "Function Running: merge_and_select_data\n",
      "\n",
      "  JSON saved at C:\\Users\\Kaustubh.keny\\Projects\\office-work\\mywork-repo\\data\\MAR25DATA\\dump_hdfc_12_28_12.json\n"
     ]
    }
   ],
   "source": [
    "object = HDFC(PATHS_CONFIG,amc_name,path)\n",
    "final_text = object.refine_extracted_data(extracted_text,flatten = True)\n",
    "dfs = object.merge_and_select_data(final_text, select = True,map = True,special = True)\n",
    "Helper.quick_json_dump(dfs,object.JSONPATH)"
   ]
  },
  {
   "cell_type": "code",
   "execution_count": null,
   "metadata": {},
   "outputs": [],
   "source": []
  },
  {
   "cell_type": "code",
   "execution_count": null,
   "metadata": {},
   "outputs": [],
   "source": [
    "\"\"\"HDFC MUTUAL FUND PASSIVE\"\"\" # pages = [5, 6, 8, 10, 11, 12, 13, 14, 15, 16, 17, 18, 19, 20, 21, 22, 23, 24, 25, 26, 27, 28, 29, 30, 31, 32, 33, 34, 35, 36, 37, 38, 39, 40, 41, 42, 43, 44, 45, 46, 47, 48, 49, 50, 51]\n",
    "\n",
    "amc_name = \"Hdfc Mutual Fund Passive\"\n",
    "logging.info(f\"User Ran Fund Data of {amc_name}\")\n",
    "path = mutual_fund[amc_name]\n",
    "object = HDFC(PATHS_CONFIG,amc_name,path)\n",
    "title,path_pdf= object.check_and_highlight(path)\n",
    "\n",
    "data = object.get_data(path_pdf,title)\n",
    "extracted_text = object.get_generated_content(data)\n",
    "final_text = object.refine_extracted_data(extracted_text,flatten = True)\n",
    "dfs = object.merge_and_select_data(final_text, select = True,map = True,special=True)\n",
    "Helper.quick_json_dump(dfs,object.JSONPATH)"
   ]
  },
  {
   "cell_type": "code",
   "execution_count": null,
   "metadata": {},
   "outputs": [],
   "source": [
    "\"\"\"HELIOS MF FILE MAIN CODE\"\"\" # pages = [2, 4, 6, 8,10]\n",
    "\n",
    "amc_name = 'Helios Mutual Fund'\n",
    "logging.info(f\"User Ran Fund Data of {amc_name}\")\n",
    "path = mutual_fund[amc_name]\n",
    "object = Helios(PATHS_CONFIG,amc_name,path)\n",
    "title,path_pdf= object.check_and_highlight(path)\n",
    "\n",
    "data = object.get_data(path_pdf,title)\n",
    "extracted_text = object.get_generated_content(data)\n",
    "final_text = object.refine_extracted_data(extracted_text, flatten=True)\n",
    "dfs = object.merge_and_select_data(final_text,select= True,map = True, special = True)\n",
    "Helper.quick_json_dump(dfs,object.JSONPATH)"
   ]
  },
  {
   "cell_type": "code",
   "execution_count": null,
   "metadata": {},
   "outputs": [],
   "source": [
    "\"\"\" ICICI MF MAIN FILE CODE\"\"\" #pages = [8, 9, 11, 13, 15, 16, 17, 18, 19, 20, 21, 22, 23, 24, 25, 27, 28, 29, 30, 31, 32, 33, 34, 35, 36, 37, 39, 40, 41, 42, 43, 44, 46, 47, 49, 51, 53, 55, 56, 58, 59, 60, 62, 64, 65, 66, 67, 68, 69, 71, 72, 74, 75, 77, 78, 80]\n",
    "\n",
    "amc_name = \"Icici Prudential Mutual Fund\"\n",
    "logging.info(f\"User Ran Fund Data of {amc_name}\")\n",
    "path = mutual_fund[amc_name]\n",
    "object = ICICI(PATHS_CONFIG,amc_name,path)\n",
    "title,path_pdf = object.check_and_highlight(path)\n",
    "\n",
    "data = object.get_data(path_pdf,title)\n",
    "extracted_text = object.get_generated_content(data)\n",
    "\n",
    "final_text = object.refine_extracted_data(extracted_text, flatten=True)\n",
    "dfs = object.merge_and_select_data(final_text,select= True,map = True,special=True)\n",
    "Helper.quick_json_dump(dfs,object.JSONPATH)"
   ]
  },
  {
   "cell_type": "code",
   "execution_count": null,
   "metadata": {},
   "outputs": [],
   "source": [
    "\"\"\" ICICI MF MAIN FILE CODE PASSIVE\"\"\"# pages = [8, 9, 11, 13, 15, 16, 17, 18, 19, 20, 21, 22, 23, 24, 25, 27, 28, 29, 30, 31, 32, 33, 34, 35, 36, 37, 39, 40, 41, 42, 43, 44, 46, 47, 49, 51, 53, 55, 56, 58, 59, 60, 62, 64, 65, 66, 67, 68, 69, 71, 72, 74, 75, 77, 78, 80]\n",
    "\n",
    "amc_name = \"Icici Prudential Mutual Fund Passive\"\n",
    "logging.info(f\"User Ran Fund Data of {amc_name}\")\n",
    "path = mutual_fund[amc_name]\n",
    "object = ICICI(PATHS_CONFIG,amc_name,path)\n",
    "title,path_pdf = object.check_and_highlight(path)\n"
   ]
  },
  {
   "cell_type": "code",
   "execution_count": null,
   "metadata": {},
   "outputs": [],
   "source": [
    "object = ICICI(PATHS_CONFIG,amc_name,path)\n",
    "data = object.get_data(path_pdf,title)\n",
    "extracted_text = object.get_generated_content(data)"
   ]
  },
  {
   "cell_type": "code",
   "execution_count": null,
   "metadata": {},
   "outputs": [],
   "source": [
    "object = ICICI(PATHS_CONFIG,amc_name,path)\n",
    "final_text = object.refine_extracted_data(extracted_text, flatten=True)\n",
    "dfs = object.merge_and_select_data(final_text,select= True,map = True,special=True)\n",
    "Helper.quick_json_dump(dfs,object.JSONPATH)"
   ]
  },
  {
   "cell_type": "code",
   "execution_count": null,
   "metadata": {},
   "outputs": [],
   "source": [
    "\"\"\" INVESCO MF MAIN FILE CODE\"\"\" # pages = [4, 5, 6, 7, 8, 9, 10, 11, 12, 13, 14, 15, 16, 17, 18, 19, 21, 22, 23, 24, 25, 26, 27, 28, 29, 30, 31, 32, 33, 34, 35, 36, 37, 38, 39, 40, 41, 42, 43]\n",
    "\n",
    "amc_name = 'Invesco Mutual Fund'\n",
    "logging.info(f\"User Ran Fund Data of {amc_name}\")\n",
    "path = mutual_fund[amc_name]\n",
    "object = Invesco(PATHS_CONFIG,amc_name,path)\n",
    "title,path_pdf = object.check_and_highlight(path)"
   ]
  },
  {
   "cell_type": "code",
   "execution_count": null,
   "metadata": {},
   "outputs": [],
   "source": [
    "object = Invesco(PATHS_CONFIG,amc_name,path)\n",
    "data = object.get_data(path_pdf,title)\n",
    "extracted_text = object.get_generated_content(data)\n",
    "Helper.quick_json_dump(extracted_text, object.JSONPATH)"
   ]
  },
  {
   "cell_type": "code",
   "execution_count": 77,
   "metadata": {},
   "outputs": [
    {
     "name": "stdout",
     "output_type": "stream",
     "text": [
      "Function Running: refine_extracted_data\n",
      "Function Running: merge_and_select_data\n",
      "\n",
      "  JSON saved at C:\\Users\\rando\\OneDrive\\Documents\\mywork-repo\\data\\output\\dump_invesco_00_54_03.json\n"
     ]
    }
   ],
   "source": [
    "object = Invesco(PATHS_CONFIG,amc_name,path)\n",
    "final_text = object.refine_extracted_data(extracted_text, flatten = True)\n",
    "dfs = object.merge_and_select_data(final_text,select = True,map = True, special = True)\n",
    "Helper.quick_json_dump(dfs, object.JSONPATH)"
   ]
  },
  {
   "cell_type": "code",
   "execution_count": null,
   "metadata": {},
   "outputs": [],
   "source": [
    "\"\"\"ITI MAIN FILE CODE\"\"\" # pages = [9, 10, 11, 12, 13, 14, 15, 16, 17, 18, 19, 20, 21, 22, 23, 24, 25, 26]\n",
    "\n",
    "amc_name = 'Iti Mutual Fund'\n",
    "logging.info(f\"User Ran Fund Data of {amc_name}\")\n",
    "path = mutual_fund[amc_name]\n",
    "object = ITI(PATHS_CONFIG,amc_name,path)\n",
    "title,path_pdf= object.check_and_highlight(path)"
   ]
  },
  {
   "cell_type": "code",
   "execution_count": null,
   "metadata": {},
   "outputs": [],
   "source": [
    "object = ITI(PATHS_CONFIG,amc_name,path)\n",
    "data = object.get_data(path_pdf,title)\n",
    "extracted_text = object.get_generated_content(data)\n",
    "Helper.quick_json_dump(extracted_text, object.JSONPATH)"
   ]
  },
  {
   "cell_type": "code",
   "execution_count": 242,
   "metadata": {},
   "outputs": [
    {
     "name": "stdout",
     "output_type": "stream",
     "text": [
      "Function Running: refine_extracted_data\n",
      "Function Running: merge_and_select_data\n",
      "\n",
      "  JSON saved at C:\\Users\\rando\\OneDrive\\Documents\\mywork-repo\\data\\output\\dump_iti_23_01_00.json\n"
     ]
    }
   ],
   "source": [
    "object = ITI(PATHS_CONFIG,amc_name,path)\n",
    "final_text = object.refine_extracted_data(extracted_text,flatten = True)\n",
    "dfs= object.merge_and_select_data(final_text,select = True,map = True, special=True)\n",
    "Helper.quick_json_dump(dfs, object.JSONPATH)"
   ]
  },
  {
   "cell_type": "code",
   "execution_count": null,
   "metadata": {},
   "outputs": [],
   "source": [
    "\"\"\"JM FUND MAIN FILE CODE\"\"\"# pages = [18, 19, 20, 21, 22, 23, 24, 25, 26, 27, 28, 29, 30, 31, 32, 33]\n",
    "\n",
    "amc_name = 'Jm Financial Mutual Fund'\n",
    "logging.info(f\"User Ran Fund Data of {amc_name}\")\n",
    "path = mutual_fund[amc_name]\n",
    "object = JMMF(PATHS_CONFIG,amc_name,path)\n",
    "title,path_pdf= object.check_and_highlight(path)\n",
    "\n",
    "data = object.get_data(path_pdf,title)\n",
    "extracted_text = object.get_generated_content(data)\n",
    "final_text = object.refine_extracted_data(extracted_text, flatten = True)\n",
    "dfs = object.merge_and_select_data(final_text,select = True, map = True, special = True)\n",
    "Helper.quick_json_dump(dfs, object.JSONPATH)"
   ]
  },
  {
   "cell_type": "code",
   "execution_count": null,
   "metadata": {},
   "outputs": [],
   "source": [
    "\"\"\"KOTAK FUND MAIN CODE\"\"\" # pages = [5, 6, 7, 8, 9, 10, 11, 12, 13, 14, 15, 16, 17, 18, 19, 20, 21, 22, 23, 24, 25, 26, 27, 28, 29, 30, 32, 34, 36, 37, 38, 40, 41, 43, 44, 46, 48, 49, 50, 52, 54, 55, 56, 69, 70, 71, 72, 73, 74, 75, 76, 77, 78, 79, 80, 81, 82, 83, 84, 85, 86, 87, 88, 89, 90, 91, 92, 93, 94, 95, 96, 97, 98, 99, 100, 101, 102, 103, 104, 105, 106, 107, 108]\n",
    "\n",
    "amc_name = 'Kotak Mahindra Mutual Fund'\n",
    "logging.info(f\"User Ran Fund Data of {amc_name}\")\n",
    "path = mutual_fund[amc_name]\n",
    "object = Kotak(PATHS_CONFIG,amc_name,path)\n",
    "title,path_pdf= object.check_and_highlight(path)\n",
    "\n",
    "data = object.get_data(path_pdf,title)\n",
    "extracted_text = object.get_generated_content(data)\n",
    "final_text = object.refine_extracted_data(extracted_text,flatten= True)\n",
    "dfs = object.merge_and_select_data(final_text, select = True, map = True, special=True)\n",
    "Helper.quick_json_dump(dfs, object.JSONPATH)"
   ]
  },
  {
   "cell_type": "code",
   "execution_count": null,
   "metadata": {},
   "outputs": [],
   "source": [
    "\"\"\"LIC FUND MAIN CODE\"\"\" #issue: OCR for title bcz they're images\n",
    "amc_name = 'Lic Mutual Fund'\n",
    "logging.info(f\"User Ran Fund Data of {amc_name}\")\n",
    "path = mutual_fund[amc_name]\n",
    "object = LIC(PATHS_CONFIG,amc_name,path)\n",
    "title,path_pdf = object.check_and_highlight(path)\n",
    "\n",
    "data = object.get_data(path_pdf,title)\n",
    "extracted_text = object.get_generated_content(data)\n",
    "\n",
    "final_text = object.refine_extracted_data(extracted_text, flatten = True)\n",
    "dfs = object.merge_and_select_data(final_text,select = True, map = True, special = True)\n",
    "Helper.quick_json_dump(dfs, object.JSONPATH)"
   ]
  },
  {
   "cell_type": "code",
   "execution_count": null,
   "metadata": {},
   "outputs": [],
   "source": [
    "\"\"\"MAHINDRA MANULIFE MAIN CODE\"\"\" #incrase pages count\n",
    "\n",
    "amc_name = 'Mahindra Manulife Mutual Fund'\n",
    "logging.info(f\"User Ran Fund Data of {amc_name}\")\n",
    "path = mutual_fund[amc_name]\n",
    "object = MahindraManu(PATHS_CONFIG,amc_name,path)\n",
    "title,path_pdf = object.check_and_highlight(path)\n",
    "\n",
    "data = object.get_data(path_pdf,title)\n",
    "extracted_text = object.get_generated_content(data)"
   ]
  },
  {
   "cell_type": "code",
   "execution_count": 6,
   "metadata": {},
   "outputs": [
    {
     "name": "stdout",
     "output_type": "stream",
     "text": [
      "\n",
      "  JSON saved at C:\\Users\\rando\\OneDrive\\Documents\\mywork-repo\\data\\output\\dump_mahindra_21_35_25.json\n"
     ]
    }
   ],
   "source": [
    "Helper.quick_json_dump(extracted_text, object.JSONPATH)"
   ]
  },
  {
   "cell_type": "code",
   "execution_count": null,
   "metadata": {},
   "outputs": [],
   "source": [
    "object = MahindraManu(PATHS_CONFIG,amc_name,path)\n",
    "final_text = object.refine_extracted_data(extracted_text, flatten =True)\n",
    "dfs = object.merge_and_select_data(final_text,select = True, map = True, special=True)\n",
    "Helper.quick_json_dump(dfs, object.JSONPATH)"
   ]
  },
  {
   "cell_type": "code",
   "execution_count": null,
   "metadata": {},
   "outputs": [],
   "source": []
  },
  {
   "cell_type": "code",
   "execution_count": null,
   "metadata": {},
   "outputs": [],
   "source": [
    "\"\"\"MOTILAL OSWAL PASSIVE MAIN CODE FILE\"\"\" #Fund Manager Regex\n",
    "\n",
    "amc_name = 'Motilal Oswal Mutual Fund Passive'\n",
    "logging.info(f\"User Ran Fund Data of {amc_name}\")\n",
    "path = mutual_fund[amc_name]\n",
    "object = MotilalOswalPassive(PATHS_CONFIG,amc_name,path)\n",
    "\n",
    "title,path_pdf= object.check_and_highlight(path)\n",
    "data = object.get_data(path_pdf,title)\n",
    "extracted_text = object.get_generated_content(data)"
   ]
  },
  {
   "cell_type": "code",
   "execution_count": 107,
   "metadata": {},
   "outputs": [
    {
     "name": "stdout",
     "output_type": "stream",
     "text": [
      "\n",
      "  JSON saved at C:\\Users\\rando\\OneDrive\\Documents\\mywork-repo\\data\\output\\dump_motilal_16_51_58.json\n"
     ]
    }
   ],
   "source": [
    "Helper.quick_json_dump(extracted_text, object.JSONPATH)"
   ]
  },
  {
   "cell_type": "code",
   "execution_count": null,
   "metadata": {},
   "outputs": [],
   "source": [
    "final_text = object.refine_extracted_data(extracted_text, flatten= True)\n",
    "dfs = object.merge_and_select_data(final_text,select = True,map = True, special = True)\n",
    "Helper.quick_json_dump(dfs, object.JSONPATH)"
   ]
  },
  {
   "cell_type": "code",
   "execution_count": null,
   "metadata": {},
   "outputs": [],
   "source": [
    "\"\"\"MOTILAL OSWAL MAIN CODE FILE\"\"\" #Fund Manager Regex\n",
    "\n",
    "amc_name = 'Motilal Oswal Mutual Fund'\n",
    "logging.info(f\"User Ran Fund Data of {amc_name}\")\n",
    "path = mutual_fund[amc_name]\n",
    "object = MotilalOswal(PATHS_CONFIG,amc_name,path)\n",
    "title,path_pdf= object.check_and_highlight(path)"
   ]
  },
  {
   "cell_type": "code",
   "execution_count": null,
   "metadata": {},
   "outputs": [],
   "source": [
    "object = MotilalOswal(PATHS_CONFIG,amc_name,path)\n",
    "data = object.get_data(path_pdf,title)\n",
    "extracted_text = object.get_generated_content(data)\n",
    "Helper.quick_json_dump(extracted_text, object.JSONPATH)"
   ]
  },
  {
   "cell_type": "code",
   "execution_count": null,
   "metadata": {},
   "outputs": [],
   "source": [
    "object = MotilalOswal(PATHS_CONFIG,amc_name,path)\n",
    "final_text = object.refine_extracted_data(extracted_text, flatten= True)\n",
    "dfs = object.merge_and_select_data(final_text,select = True,map = True, special = True)\n",
    "Helper.quick_json_dump(dfs, object.JSONPATH)"
   ]
  },
  {
   "cell_type": "code",
   "execution_count": null,
   "metadata": {},
   "outputs": [],
   "source": [
    "\"\"\"MIRAE MAIN FILE CODE PASSIVE\"\"\"\n",
    "\n",
    "amc_name = 'Mirae Asset Mutual Fund Passive'\n",
    "logging.info(f\"User Ran Fund Data of {amc_name}\")\n",
    "path = mutual_fund[amc_name]\n",
    "object = MIRAEPassive(PATHS_CONFIG,amc_name,path)\n",
    "title,path_pdf= object.check_and_highlight(path)\n",
    "\n",
    "data = object.get_data(path_pdf,title)\n",
    "extracted_text = object.get_generated_content(data)\n",
    "\n",
    "final_text = object.refine_extracted_data(extracted_text, flatten=True)\n",
    "dfs = object.merge_and_select_data(final_text,select = True, map = True, special=True)\n",
    "Helper.quick_json_dump(dfs, object.JSONPATH)"
   ]
  },
  {
   "cell_type": "code",
   "execution_count": null,
   "metadata": {},
   "outputs": [],
   "source": [
    "\"\"\"MIRAE MAIN FILE CODE\"\"\"\n",
    "\n",
    "amc_name = 'Mirae Asset Mutual Fund'\n",
    "logging.info(f\"User Ran Fund Data of {amc_name}\")\n",
    "path = mutual_fund[amc_name]\n",
    "object = MIRAE(PATHS_CONFIG,amc_name,path)\n",
    "title,path_pdf= object.check_and_highlight(path)\n",
    "\n",
    "data = object.get_data(path_pdf,title)\n",
    "extracted_text = object.get_generated_content(data)\n",
    "\n",
    "final_text = object.refine_extracted_data(extracted_text, flatten=True)\n",
    "dfs = object.merge_and_select_data(final_text,select = True, map = True, special = True)\n",
    "Helper.quick_json_dump(dfs, object.JSONPATH)"
   ]
  },
  {
   "cell_type": "code",
   "execution_count": null,
   "metadata": {},
   "outputs": [],
   "source": [
    "\"\"\"NAVI MAIN FILE CODE\"\"\" #Issue: Left and right\n",
    "\n",
    "amc_name = 'Navi Mutual Fund'\n",
    "logging.info(f\"User Ran Fund Data of {amc_name}\")\n",
    "path = mutual_fund[amc_name]\n",
    "object = NAVI(PATHS_CONFIG,amc_name,path)\n",
    "title,path_pdf = object.check_and_highlight(path)"
   ]
  },
  {
   "cell_type": "code",
   "execution_count": null,
   "metadata": {},
   "outputs": [],
   "source": [
    "object = NAVI(PATHS_CONFIG,amc_name,path)\n",
    "data = object.get_data(path_pdf,title)\n",
    "extracted_text = object.get_generated_content(data)\n",
    "Helper.quick_json_dump(extracted_text, object.JSONPATH)"
   ]
  },
  {
   "cell_type": "code",
   "execution_count": 62,
   "metadata": {},
   "outputs": [
    {
     "name": "stdout",
     "output_type": "stream",
     "text": [
      "Function Running: refine_extracted_data\n",
      "Function Running: merge_and_select_data\n",
      "\n",
      "  JSON saved at C:\\Users\\rando\\OneDrive\\Documents\\mywork-repo\\data\\output\\dump_navi_00_11_26.json\n"
     ]
    }
   ],
   "source": [
    "object = NAVI(PATHS_CONFIG,amc_name,path)\n",
    "final_text = object.refine_extracted_data(extracted_text, flatten = True)\n",
    "dfs = object.merge_and_select_data(final_text,select = True,map = True,special=True)\n",
    "Helper.quick_json_dump(dfs, object.JSONPATH)"
   ]
  },
  {
   "cell_type": "code",
   "execution_count": null,
   "metadata": {},
   "outputs": [],
   "source": []
  },
  {
   "cell_type": "code",
   "execution_count": null,
   "metadata": {},
   "outputs": [],
   "source": [
    "\"NIPPON MAIN FILE CODE\"\n",
    "amc_name = 'Nippon India Mutual Fund'\n",
    "logging.info(f\"User Ran Fund Data of {amc_name}\")\n",
    "path = mutual_fund[amc_name]\n",
    "object = Nippon(PATHS_CONFIG,amc_name,path)\n",
    "title,path_pdf= object.check_and_highlight(path)\n",
    "\n",
    "data = object.get_data(path_pdf,title)\n",
    "extracted_text = object.get_generated_content(data)\n",
    "\n",
    "final_text = object.refine_extracted_data(extracted_text, flatten = True)\n",
    "dfs = object.merge_and_select_data(final_text,select = True, map = True, special=True)\n",
    "Helper.quick_json_dump(dfs,object.JSONPATH)"
   ]
  },
  {
   "cell_type": "code",
   "execution_count": null,
   "metadata": {},
   "outputs": [],
   "source": [
    "\"\"\"NJMF MAIN CODE FILE\"\"\"# pages = [1, 3, 5, 7, 9]\n",
    "\n",
    "amc_name = 'Nj Mutual Fund'\n",
    "logging.info(f\"User Ran Fund Data of {amc_name}\")\n",
    "path = mutual_fund[amc_name]\n",
    "object = NJMF(PATHS_CONFIG,amc_name,path)\n",
    "title,path_pdf = object.check_and_highlight(path)\n",
    "\n",
    "data = object.get_data(path_pdf,title)\n",
    "extracted_text = object.get_generated_content(data)\n"
   ]
  },
  {
   "cell_type": "code",
   "execution_count": 26,
   "metadata": {},
   "outputs": [
    {
     "name": "stdout",
     "output_type": "stream",
     "text": [
      "Function Running: refine_extracted_data\n",
      "Function Running: merge_and_select_data\n",
      "\n",
      "  JSON saved at C:\\Users\\Kaustubh.keny\\Projects\\office-work\\mywork-repo\\data\\MAR25DATA\\dump_nj_11_56_06.json\n"
     ]
    }
   ],
   "source": [
    "object = NJMF(PATHS_CONFIG,amc_name,path)\n",
    "final_text = object.refine_extracted_data(extracted_text,flatten = True)\n",
    "dfs = object.merge_and_select_data(final_text,select = True, map = True,special=True)\n",
    "Helper.quick_json_dump(dfs, object.JSONPATH)"
   ]
  },
  {
   "cell_type": "code",
   "execution_count": null,
   "metadata": {},
   "outputs": [],
   "source": [
    "\"\"\"OlD BriDGE MAIN CODE\"\"\"\n",
    "amc_name = \"Old Bridge Mutual Fund\"\n",
    "logging.info(f\"User Ran Fund Data of {amc_name}\")\n",
    "path = mutual_fund[amc_name]\n",
    "object = OldBridge(PATHS_CONFIG,amc_name,path)\n",
    "title,path_pdf = object.check_and_highlight(path)\n",
    "\n",
    "data = object.get_data(path_pdf,title)\n",
    "extracted_text = object.get_generated_content(data)\n",
    "\n",
    "final_text = object.refine_extracted_data(extracted_text, flatten = True)\n",
    "dfs = object.merge_and_select_data(final_text,select = True,map= True, special=True)\n",
    "Helper.quick_json_dump(dfs, object.JSONPATH)"
   ]
  },
  {
   "cell_type": "code",
   "execution_count": null,
   "metadata": {},
   "outputs": [],
   "source": [
    "\"\"\"PGIM MAIN FILE CODE\"\"\" #ISSUES: Clean data further\n",
    "\n",
    "amc_name = \"Pgim India Mutual Fund\"\n",
    "logging.info(f\"User Ran Fund Data of {amc_name}\")\n",
    "path = mutual_fund[amc_name]\n",
    "object = PGIM(PATHS_CONFIG,amc_name,path)\n",
    "\n",
    "title,path_pdf = object.check_and_highlight(path)\n",
    "data = object.get_data(path_pdf,title)\n",
    "extracted_text = object.get_generated_content(data)\n",
    "final_text = object.refine_extracted_data(extracted_text, flatten = True)\n",
    "dfs = object.merge_and_select_data(final_text,select = True,map= True, special = True)\n",
    "Helper.quick_json_dump(dfs, object.JSONPATH)"
   ]
  },
  {
   "cell_type": "code",
   "execution_count": null,
   "metadata": {},
   "outputs": [],
   "source": [
    "\"\"\"QUANT MAIN CODE FILE\"\"\"\n",
    "\n",
    "amc_name = 'Quant Mutual Fund'\n",
    "logging.info(f\"User Ran Fund Data of {amc_name}\")\n",
    "path = mutual_fund[amc_name]\n",
    "object = QuantMF(PATHS_CONFIG, amc_name,path)\n",
    "title,path_pdf = object.check_and_highlight(path)\n",
    "\n",
    "data = object.get_data(path_pdf,title)\n",
    "extracted_text = object.get_generated_content(data)\n",
    "\n",
    "final_text = object.refine_extracted_data(extracted_text, flatten = True)\n",
    "dfs = object.merge_and_select_data(final_text,select = True,map = True, special = True)\n",
    "Helper.quick_json_dump(dfs, object.JSONPATH)"
   ]
  },
  {
   "cell_type": "code",
   "execution_count": null,
   "metadata": {},
   "outputs": [],
   "source": [
    "\"\"\"QUANTUM MAIN FILE CODE\"\"\" # pages = [7, 9, 12, 14, 16, 18, 20, 22, 24, 26, 28, 30, 32, 33]\n",
    "\n",
    "amc_name = \"Quantum Mutual Fund\"\n",
    "logging.info(f\"User Ran Fund Data of {amc_name}\")\n",
    "path = mutual_fund[amc_name]\n",
    "object = Quantum(PATHS_CONFIG,amc_name,path)\n",
    "title,path_pdf = object.check_and_highlight(path)\n",
    "\n",
    "data = object.get_data(path_pdf,title)\n",
    "extracted_text = object.get_generated_content(data)"
   ]
  },
  {
   "cell_type": "code",
   "execution_count": null,
   "metadata": {},
   "outputs": [],
   "source": [
    "object = Quantum(PATHS_CONFIG,amc_name,path)\n",
    "final_text = object.refine_extracted_data(extracted_text, flatten = True)\n",
    "dfs = object.merge_and_select_data(final_text,select = True, map = True, special=True)\n",
    "Helper.quick_json_dump(dfs, object.JSONPATH)"
   ]
  },
  {
   "cell_type": "code",
   "execution_count": null,
   "metadata": {},
   "outputs": [],
   "source": [
    "\"\"\"SAMCO PDF FILE MAIN CODE\"\"\" # pages =  [3, 5, 7, 9, 11, 13, 15, 17, 18]\n",
    "\n",
    "amc_name = 'Samco Mutual Fund'\n",
    "logging.info(f\"User Ran Fund Data of {amc_name}\")\n",
    "path = mutual_fund[amc_name]\n",
    "object = Samco(PATHS_CONFIG,amc_name,path)\n",
    "title,path_pdf= object.check_and_highlight(path)\n",
    "\n",
    "data = object.get_data(path_pdf,title)\n",
    "extracted_text = object.get_generated_content(data)"
   ]
  },
  {
   "cell_type": "code",
   "execution_count": 34,
   "metadata": {},
   "outputs": [
    {
     "name": "stdout",
     "output_type": "stream",
     "text": [
      "Function Running: refine_extracted_data\n",
      "Function Running: merge_and_select_data\n",
      "\n",
      "  JSON saved at C:\\Users\\Kaustubh.keny\\Projects\\office-work\\mywork-repo\\data\\MAR25DATA\\dump_samco_12_19_36.json\n"
     ]
    }
   ],
   "source": [
    "object = Samco(PATHS_CONFIG,amc_name,path)\n",
    "final_text = object.refine_extracted_data(extracted_text, flatten=True)\n",
    "dfs = object.merge_and_select_data(final_text, select = True,map = True, special=True)\n",
    "Helper.quick_json_dump(dfs,object.JSONPATH)"
   ]
  },
  {
   "cell_type": "code",
   "execution_count": null,
   "metadata": {},
   "outputs": [],
   "source": [
    "\"\"\"SBI PASSIVE PDF FILE MAIN CODE\"\"\" \n",
    "\n",
    "amc_name = 'Sbi Mutual Fund Passive'\n",
    "logging.info(f\"User Ran Fund Data of {amc_name}\")\n",
    "path = mutual_fund[amc_name]\n",
    "object = SBIPassive(PATHS_CONFIG,amc_name,path)\n",
    "title,path_pdf= object.check_and_highlight(path)\n",
    "\n",
    "data = object.get_data(path_pdf,title)\n",
    "extracted_text = object.get_generated_content(data)\n",
    "\n",
    "final_text = object.refine_extracted_data(extracted_text,flatten = True)\n",
    "dfs = object.merge_and_select_data(final_text,select = True,map = True,special = True)\n",
    "Helper.quick_json_dump(dfs,object.JSONPATH)"
   ]
  },
  {
   "cell_type": "code",
   "execution_count": null,
   "metadata": {},
   "outputs": [],
   "source": [
    "\"\"\"SBI PDF FILE MAIN CODE\"\"\" \n",
    "amc_name = \"Sbi Mutual Fund\"\n",
    "logging.info(f\"User Ran Fund Data of {amc_name}\")\n",
    "\n",
    "object = SBI(PATHS_CONFIG,amc_name,path)\n",
    "path = mutual_fund[amc_name]\n",
    "title,path_pdf= object.check_and_highlight(path)\n",
    "\n",
    "data = object.get_data(path_pdf,title)\n",
    "extracted_text = object.get_generated_content(data)\n",
    "\n",
    "final_text = object.refine_extracted_data(extracted_text,flatten = True)\n",
    "dfs = object.merge_and_select_data(final_text,select = True,map = True,special = True)\n",
    "Helper.quick_json_dump(dfs,object.JSONPATH)"
   ]
  },
  {
   "cell_type": "code",
   "execution_count": null,
   "metadata": {},
   "outputs": [],
   "source": [
    "\"\"\"SUNDARAM MAIN FILE CODE\"\"\"\n",
    "\n",
    "amc_name = 'Sundaram Mutual Fund'\n",
    "logging.info(f\"User Ran Fund Data of {amc_name}\")\n",
    "path = mutual_fund[amc_name]\n",
    "object = Sundaram(PATHS_CONFIG,amc_name,path)\n",
    "title,path_pdf = object.check_and_highlight(path)\n",
    "\n",
    "data = object.get_data(path_pdf,title)\n",
    "extracted_text = object.get_generated_content(data)"
   ]
  },
  {
   "cell_type": "code",
   "execution_count": 13,
   "metadata": {},
   "outputs": [
    {
     "name": "stdout",
     "output_type": "stream",
     "text": [
      "\n",
      "  JSON saved at C:\\Users\\rando\\OneDrive\\Documents\\mywork-repo\\data\\output\\dump_sundaram_21_43_41.json\n"
     ]
    }
   ],
   "source": [
    "Helper.quick_json_dump(extracted_text,object.JSONPATH)"
   ]
  },
  {
   "cell_type": "code",
   "execution_count": 15,
   "metadata": {},
   "outputs": [
    {
     "name": "stdout",
     "output_type": "stream",
     "text": [
      "Function Running: refine_extracted_data\n",
      "Function Running: merge_and_select_data\n",
      "\n",
      "  JSON saved at C:\\Users\\rando\\OneDrive\\Documents\\mywork-repo\\data\\output\\dump_sundaram_21_46_34.json\n"
     ]
    }
   ],
   "source": [
    "object = Sundaram(PATHS_CONFIG,amc_name,path)\n",
    "final_text = object.refine_extracted_data(extracted_text,flatten = True)\n",
    "dfs = object.merge_and_select_data(final_text,select = True, map = True, special=True)\n",
    "Helper.quick_json_dump(dfs,object.JSONPATH)"
   ]
  },
  {
   "cell_type": "code",
   "execution_count": null,
   "metadata": {},
   "outputs": [],
   "source": [
    "\"\"\"TATA FILE MAIN CODE \"\"\"# pages =  [16, 17, 18, 19, 20, 21, 22, 23, 24, 25, 26, 27, 28, 29, 30, 31, 32, 33, 34, 35, 36, 37, 38, 39, 40, 41, 42, 43, 44, 45, 46, 47, 48, 49, 50, 51, 52, 53, 54, 55, 56, 57, 58, 59, 60, 62, 64, 66, 67, 68, 69, 70, 71, 72, 73, 74, 75, 76, 77, 78, 79, 80, 81, 82, 83]\n",
    "amc_name = \"Tata Mutual Fund\"\n",
    "logging.info(f\"User Ran Fund Data of {amc_name}\")\n",
    "path = mutual_fund[amc_name]\n",
    "object = Tata(PATHS_CONFIG,amc_name,path)\n",
    "title,path_pdf= object.check_and_highlight(path)\n",
    "\n",
    "data = object.get_data(path_pdf,title)\n",
    "extracted_text = object.get_generated_content(data)\n",
    "\n",
    "final_text = object.refine_extracted_data(extracted_text, flatten = True)\n",
    "dfs = object.merge_and_select_data(final_text,select=True, map = True, special=True)\n",
    "Helper.quick_json_dump(dfs, object.JSONPATH)"
   ]
  },
  {
   "cell_type": "code",
   "execution_count": null,
   "metadata": {},
   "outputs": [],
   "source": [
    "\"\"\"TAURUS MAIN FILE CODE\"\"\" # pages = [11, 12, 13, 14, 15, 16, 17, 18]\n",
    "\n",
    "amc_name = 'Taurus Mutual Fund'\n",
    "logging.info(f\"User Ran Fund Data of {amc_name}\")\n",
    "path = mutual_fund[amc_name]\n",
    "object = Taurus(PATHS_CONFIG,amc_name,path)\n",
    "title,path_pdf= object.check_and_highlight(path)\n",
    "\n",
    "data = object.get_data(path_pdf,title)\n",
    "extracted_text = object.get_generated_content(data)"
   ]
  },
  {
   "cell_type": "code",
   "execution_count": 88,
   "metadata": {},
   "outputs": [
    {
     "name": "stdout",
     "output_type": "stream",
     "text": [
      "\n",
      "  JSON saved at C:\\Users\\rando\\OneDrive\\Documents\\mywork-repo\\data\\output\\dump_taurus_01_08_25.json\n"
     ]
    }
   ],
   "source": [
    "Helper.quick_json_dump(extracted_text,object.JSONPATH)"
   ]
  },
  {
   "cell_type": "code",
   "execution_count": 89,
   "metadata": {},
   "outputs": [
    {
     "name": "stdout",
     "output_type": "stream",
     "text": [
      "Function Running: refine_extracted_data\n",
      "Function Running: merge_and_select_data\n",
      "\n",
      "  JSON saved at C:\\Users\\rando\\OneDrive\\Documents\\mywork-repo\\data\\output\\dump_taurus_01_08_34.json\n"
     ]
    }
   ],
   "source": [
    "object = Taurus(PATHS_CONFIG,amc_name,path)\n",
    "final_text = object.refine_extracted_data(extracted_text,flatten=True)\n",
    "dfs = object.merge_and_select_data(final_text,select = True, map = True, special = True)\n",
    "Helper.quick_json_dump(dfs,object.JSONPATH)"
   ]
  },
  {
   "cell_type": "code",
   "execution_count": null,
   "metadata": {},
   "outputs": [],
   "source": [
    "\"\"\"TRUST MAIN FILE CODE\"\"\" #Issue: Clean data more, nested dict unload Invest Obj in right #Names coming as headers fund managers\n",
    "amc_name = 'Trust Mutual Fund'\n",
    "logging.info(f\"User Ran Fund Data of {amc_name}\")\n",
    "path = mutual_fund[amc_name]\n",
    "object = Trust(PATHS_CONFIG,amc_name,path)\n",
    "title,path_pdf= object.check_and_highlight(path)\n",
    "\n",
    "data = object.get_data(path_pdf,title)\n",
    "extracted_text = object.get_generated_content(data)\n",
    "\n",
    "final_text = object.refine_extracted_data(extracted_text, flatten = True)\n",
    "dfs = object.merge_and_select_data(final_text,select = True, map = True, special = True)\n",
    "Helper.quick_json_dump(dfs,object.JSONPATH)"
   ]
  },
  {
   "cell_type": "code",
   "execution_count": null,
   "metadata": {},
   "outputs": [],
   "source": [
    "\"\"\"UTI MAIN FILE CODE\"\"\"\n",
    "\n",
    "amc_name = 'Uti Mutual Fund'\n",
    "logging.info(f\"User Ran Fund Data of {amc_name}\")\n",
    "path = mutual_fund[amc_name]\n",
    "object = UTI(PATHS_CONFIG,amc_name,path)\n",
    "title,path_pdf = object.check_and_highlight(path)\n",
    "\n",
    "data = object.get_data(path_pdf,title)\n",
    "extracted_text = object.get_generated_content(data)\n",
    "\n",
    "final_text = object.refine_extracted_data(extracted_text, flatten = True)\n",
    "dfs = object.merge_and_select_data(final_text, select = True, map = True, special = True)\n",
    "Helper.quick_json_dump(dfs, object.JSONPATH)"
   ]
  },
  {
   "cell_type": "code",
   "execution_count": null,
   "metadata": {},
   "outputs": [],
   "source": [
    "\"\"\"UNION MUTUAL FUND\"\"\" #Issues: Major Issue\n",
    "\n",
    "amc_name = 'Union Mutual Fund'\n",
    "logging.info(f\"User Ran Fund Data of {amc_name}\")\n",
    "path = mutual_fund[amc_name]\n",
    "object = Union(PATHS_CONFIG,amc_name,path)\n",
    "title,path_pdf = object.check_and_highlight(path)"
   ]
  },
  {
   "cell_type": "code",
   "execution_count": null,
   "metadata": {},
   "outputs": [],
   "source": [
    "data = object.get_data(path_pdf,title)\n",
    "extracted_text = object.get_generated_content(data)\n",
    "Helper.quick_json_dump(extracted_text, object.JSONPATH)"
   ]
  },
  {
   "cell_type": "code",
   "execution_count": null,
   "metadata": {},
   "outputs": [],
   "source": [
    "object = Union(PATHS_CONFIG,amc_name,path)\n",
    "final_text = object.refine_extracted_data(extracted_text, flatten = True)\n",
    "dfs = object.merge_and_select_data(final_text,select=True, map = True, special = True)\n",
    "Helper.quick_json_dump(dfs, object.JSONPATH)"
   ]
  },
  {
   "cell_type": "code",
   "execution_count": null,
   "metadata": {},
   "outputs": [],
   "source": [
    "\"\"\"Unifi MUTUAL FUND\"\"\" #Issues: Major Issue\n",
    "\n",
    "amc_name = 'Unifi Mutual Fund'\n",
    "logging.info(f\"User Ran Fund Data of {amc_name}\")\n",
    "path = mutual_fund[amc_name]\n",
    "object = Unifi(PATHS_CONFIG,amc_name,path)\n",
    "title,path_pdf = object.check_and_highlight(path)\n",
    "\n",
    "data = object.get_data(path_pdf,title)\n",
    "extracted_text = object.get_generated_content(data)\n",
    "\n",
    "final_text = object.refine_extracted_data(extracted_text, flatten = True)\n",
    "dfs = object.merge_and_select_data(final_text,select = True, map = True, special = True)\n",
    "Helper.quick_json_dump(dfs,object.JSONPATH)"
   ]
  },
  {
   "cell_type": "code",
   "execution_count": null,
   "metadata": {},
   "outputs": [],
   "source": [
    "\"\"\"WHITEOAK MUTUAL FUND\"\"\"\n",
    "\n",
    "amc_name = 'Whiteoak Mutual Fund'\n",
    "logging.info(f\"User Ran Fund Data of {amc_name}\")\n",
    "path = mutual_fund[amc_name]\n",
    "object = WhiteOak(PATHS_CONFIG,amc_name,path)\n",
    "title,path_pdf= object.check_and_highlight(path)\n",
    "# pages = [7, 9, 11, 13, 15, 17, 19, 20, 21, 23, 25, 26, 28, 30, 32, 34, 36, 37]\n",
    "data = object.get_data(path_pdf,title)\n",
    "extracted_text = object.get_generated_content(data)\n",
    "\n",
    "final_text = object.refine_extracted_data(extracted_text, flatten = True)\n",
    "dfs = object.merge_and_select_data(final_text,select = True, map = True, special = True)\n",
    "Helper.quick_json_dump(dfs,object.JSONPATH)"
   ]
  },
  {
   "cell_type": "code",
   "execution_count": null,
   "metadata": {},
   "outputs": [],
   "source": [
    "\"\"\"ZERODHA MAIN CODE\"\"\" \n",
    "\n",
    "amc_name = 'Zerodha Mutual Fund'\n",
    "logging.info(f\"User Ran Fund Data of {amc_name}\")\n",
    "path = mutual_fund[amc_name]\n",
    "object = Zerodha(PATHS_CONFIG,amc_name,path)\n",
    "title,path_pdf= object.check_and_highlight(path)\n",
    "# pages = [3, 5, 7, 9, 11, 13, 15]\n",
    "data = object.get_data(path_pdf,title)\n",
    "extracted_text = object.get_generated_content(data)\n",
    "\n",
    "final_text = object.refine_extracted_data(extracted_text, flatten = True)\n",
    "dfs = object.merge_and_select_data(final_text,select = True,map = True, special = True)\n",
    "Helper.quick_json_dump(dfs, object.JSONPATH)"
   ]
  },
  {
   "cell_type": "code",
   "execution_count": null,
   "metadata": {},
   "outputs": [],
   "source": [
    "\"\"\"\"HSBC MAIN FILE CODE\"\"\" # pages = [10, 11, 12, 13, 14, 15, 16, 17, 18, 19, 20, 21, 22, 23, 24, 25, 26, 27, 28, 29, 30, 32, 34, 35, 36, 37, 38, 39, 40, 41, 42, 43, 44, 45, 46, 47, 48, 49]\n",
    "\n",
    "amc_name = 'Hsbc Mutual Fund'\n",
    "logging.info(f\"User Ran Fund Data of {amc_name}\")\n",
    "path = mutual_fund[amc_name]\n",
    "object = HSBC(PATHS_CONFIG,amc_name,path)\n",
    "title,path_pdf= object.check_and_highlight(path)\n",
    "\n",
    "data = object.get_data(path_pdf,title)\n",
    "extracted_text = object.get_generated_content(data)"
   ]
  },
  {
   "cell_type": "code",
   "execution_count": null,
   "metadata": {},
   "outputs": [],
   "source": [
    "object = HSBC(PATHS_CONFIG,amc_name,path)\n",
    "final_text = object.refine_extracted_data(extracted_text, flatten = True)\n",
    "dfs = object.merge_and_select_data(final_text,select = True,map = True, special=True)\n",
    "Helper.quick_json_dump(dfs,object.JSONPATH)"
   ]
  },
  {
   "cell_type": "code",
   "execution_count": null,
   "metadata": {},
   "outputs": [],
   "source": [
    "manage = FundHouseManager()\n",
    "for fund in  manage.list_fund_houses():\n",
    "    # manage.update_fund_house(fund,\"PARAMS\",)\n",
    "    print(fund)"
   ]
  },
  {
   "cell_type": "code",
   "execution_count": null,
   "metadata": {},
   "outputs": [],
   "source": [
    "# \"360 One Mutual Fund\": \"ThreeSixtyOne\",\n",
    "# \"Angel One Mutual Fund\":\"AngelOne\",\n",
    "# \"Aditya Birla Sun Life Mutual Fund\": \"AdityaBirla\",\n",
    "# \"Axis Mutual Fund\": \"AXISMF\",\n",
    "# \"Axis Mutual Fund Passive\": \"AXISMFPassive\",\n",
    "# \"Bajaj Finserv Mutual Fund\": \"BajajFinServ\",\n",
    "# \"Bandhan Mutual Fund\": \"Bandhan\",\n",
    "# \"Bank Of India Mutual Fund\": \"BankOfIndia\",\n",
    "# \"Baroda Bnp Paribas Mutual Fund\": \"BarodaBNP\",\n",
    "# \"Canara Robeco Mutual Fund\": \"Canara\",\n",
    "# \"Dsp Mutual Fund\": \"DSP\",\n",
    "# \"Edelweiss Mutual Fund\": \"Edelweiss\",\n",
    "# \"Franklin Templeton Mutual Fund\": \"FranklinTempleton\",\n",
    "# \"Groww Mutual Fund\": \"GROWW\",\n",
    "# \"Hdfc Mutual Fund\": \"HDFC\",\n",
    "# \"Hdfc Mutual Fund Passive\": \"HDFC\",\n",
    "# \"Helios Mutual Fund\": \"Helios\",\n",
    "# \"Hsbc Mutual Fund\": \"HSBC\",\n",
    "# \"Icici Prudential Mutual Fund\": \"ICICI\",\n",
    "# \"Icici Prudential Mutual Fund Passive\": \"ICICI\",\n",
    "# \"Iti Mutual Fund\": \"ITI\",\n",
    "# \"Invesco Mutual Fund\": \"Invesco\",\n",
    "# \"Jm Financial Mutual Fund\": \"JMMF\",\n",
    "# \"Kotak Mahindra Mutual Fund\": \"Kotak\",\n",
    "# \"Lic Mutual Fund\": \"LIC\",\n",
    "# \"Mahindra Manulife Mutual Fund\": \"MahindraManu\",\n",
    "# \"Mirae Asset Mutual Fund\": \"MIRAE\",\n",
    "# \"Mirae Asset Mutual Fund Passive\": \"MIRAEPassive\",\n",
    "# \"Motilal Oswal Mutual Fund\": \"MotilalOswal\",\n",
    "# \"Motilal Oswal Mutual Fund Passive\": \"MotilalOswalPassive\",\n",
    "# \"Nj Mutual Fund\": \"NJMF\",\n",
    "# \"Navi Mutual Fund\": \"NAVI\",\n",
    "# \"Nippon India Mutual Fund\": \"Nippon\",\n",
    "# \"Old Bridge Mutual Fund\": \"OldBridge\",\n",
    "# \"Pgim India Mutual Fund\": \"PGIM\",\n",
    "# \"Ppfas Mutual Fund\": \"PPFAS\",\n",
    "# \"Quant Mutual Fund\": \"QuantMF\",\n",
    "# \"Quantum Mutual Fund\": \"Quantum\",\n",
    "# \"Sbi Mutual Fund\": \"SBI\",\n",
    "# \"Sbi Mutual Fund Passive\": \"SBIPassive\",\n",
    "# \"Samco Mutual Fund\": \"Samco\",\n",
    "# \"Shriram Mutual Fund\": \"Shriram\",\n",
    "# \"Sundaram Mutual Fund\": \"Sundaram\",\n",
    "# \"Tata Mutual Fund\": \"Tata\",\n",
    "# \"Taurus Mutual Fund\": \"Taurus\",\n",
    "# \"Trust Mutual Fund\": \"Trust\",\n",
    "# \"Uti Mutual Fund\": \"UTI\",\n",
    "# \"Union Mutual Fund\": \"Union\",\n",
    "# \"Whiteoak Mutual Fund\": \"WhiteOak\",\n",
    "# \"Zerodha Mutual Fund\": \"Zerodha\""
   ]
  },
  {
   "cell_type": "code",
   "execution_count": null,
   "metadata": {},
   "outputs": [],
   "source": []
  },
  {
   "cell_type": "code",
   "execution_count": null,
   "metadata": {},
   "outputs": [],
   "source": []
  }
 ],
 "metadata": {
  "kernelspec": {
   "display_name": ".venv",
   "language": "python",
   "name": "python3"
  },
  "language_info": {
   "codemirror_mode": {
    "name": "ipython",
    "version": 3
   },
   "file_extension": ".py",
   "mimetype": "text/x-python",
   "name": "python",
   "nbconvert_exporter": "python",
   "pygments_lexer": "ipython3",
   "version": "3.13.1"
  }
 },
 "nbformat": 4,
 "nbformat_minor": 2
}
