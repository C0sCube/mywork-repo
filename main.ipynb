{
 "cells": [
  {
   "cell_type": "code",
   "execution_count": 4,
   "metadata": {},
   "outputs": [
    {
     "name": "stdout",
     "output_type": "stream",
     "text": [
      "The autoreload extension is already loaded. To reload it, use:\n",
      "  %reload_ext autoreload\n"
     ]
    }
   ],
   "source": [
    "%load_ext autoreload\n",
    "%autoreload 2\n",
    "import json, os, logging\n",
    "PATHS_CONFIG =os.path.join(os.getcwd(),'paths.json')\n",
    "with open(PATHS_CONFIG,'r') as file:\n",
    "    PATH = json.load(file)\n",
    "    \n",
    "from app.fund_data import *\n",
    "from app.params_handler import *\n",
    "from app.utils import Helper\n",
    "from logging_config import logger\n",
    "\n",
    "logger.info(\"Application Started !!\")\n",
    "mutual_fund = Helper.get_fund_paths(PATH['dirs']['fund_path'])\n",
    "\n",
    "with open(os.path.join(os.getcwd(),PATH[\"configs\"]['regex']),'r') as file:\n",
    "    class_mapper = json.load(file)['main_mapper']"
   ]
  },
  {
   "cell_type": "code",
   "execution_count": 2,
   "metadata": {},
   "outputs": [
    {
     "name": "stdout",
     "output_type": "stream",
     "text": [
      "Function Running: check_and_highlight\n",
      "Function Running: _get_normal_title\n",
      "Regex: (360 ONE.*FUND)\n",
      "05 -- 360 ONE FOCUSED EQUITY FUND\n",
      "06 -- 360 ONE FLEXICAP FUND\n",
      "07 -- 360 ONE QUANT FUND\n",
      "08 -- 360 ONE ELSS TAX SAVER NIFTY 50 INDEX FUND\n",
      "09 -- 360 ONE BALANCED HYBRID FUND\n",
      "10 -- 360 ONE BALANCED HYBRID FUND\n",
      "11 -- 360 ONE DYNAMIC BOND FUND\n",
      "12 -- 360 ONE LIQUID FUND\n",
      "\tHlted PDF at: C:\\Users\\rando\\OneDrive\\Documents\\Feb25\\360 ONE Mutual Fund\\18_28-Feb-2025_1_FS_hltd.pdf\n",
      "\n",
      "\tDoc Saved At: C:\\Users\\rando\\OneDrive\\Documents\\mywork-repo\\data\\output\\pdf_report.xlsx\n",
      "\n",
      "\n",
      "Function Running: get_data\n",
      "Function Running: extract_data_relative_line\n",
      "Function Running: extract_span_data\n",
      "Function Running: process_text_data\n",
      "Function Running: create_nested_dict\n",
      "Function Running: get_generated_content\n",
      "Parsing Completed, Refining Data.....\n",
      "\n",
      "--<<360 ONE FOCUSED EQUITY FUND>>--\n",
      "--<<360 ONE FLEXICAP FUND>>--\n",
      "--<<360 ONE QUANT FUND>>--\n",
      "--<<360 ONE ELSS TAX SAVER NIFTY 50 INDEX FUND>>--\n",
      "--<<360 ONE BALANCED HYBRID FUND>>--\n",
      "--<<360 ONE DYNAMIC BOND FUND>>--\n",
      "--<<360 ONE LIQUID FUND>>--\n"
     ]
    }
   ],
   "source": [
    "\"\"\"360 ONE\"\"\"\n",
    "amc_name = '360 One Mutual Fund'\n",
    "logging.info(f\"User Ran Fund Data of {amc_name}\")\n",
    "\n",
    "object = ThreeSixtyOne(PATHS_CONFIG,amc_name)\n",
    "path = mutual_fund[amc_name]\n",
    "\n",
    "title,path_pdf = object.check_and_highlight(path)\n",
    "# pages = [17, 19, 21, 23, 25, 27, 29, 31, 33, 35, 37, 39, 41, 43, 45, 47, 49, 50, 52, 54, 56, 58, 60, 62, 64, 66, 67, 69, 72, 75, 78, 80, 82, 86, 87, 89, 91, 93, 95, 98, 101, 103, 106, 108, 110, 112, 114, 115, 116, 118, 119, 121, 123, 125, 127, 128, 129, 130, 131, 132, 133, 134, 135, 136, 137, 138, 139, 140, 141, 143, 145, 147, 149, 151, 152, 153, 155, 157, 159, 160, 161, 162, 163, 164, 165, 166, 167, 168, 169, 170, 171, 172, 173, 174, 175, 176, 177, 178, 179, 180, 181, 182]\n",
    "data = object.get_data(path_pdf,title)\n",
    "extracted_text = object.get_generated_content(data)"
   ]
  },
  {
   "cell_type": "code",
   "execution_count": 3,
   "metadata": {},
   "outputs": [
    {
     "name": "stdout",
     "output_type": "stream",
     "text": [
      "\n",
      "  JSON saved at C:\\Users\\rando\\OneDrive\\Documents\\mywork-repo\\data\\output\\dump_360_22_26_49.json\n"
     ]
    }
   ],
   "source": [
    "Helper.quick_json_dump(extracted_text, object.JSONPATH)"
   ]
  },
  {
   "cell_type": "code",
   "execution_count": null,
   "metadata": {},
   "outputs": [],
   "source": [
    "\"\"\"SHRIRAM MAIN FILE CODE\"\"\"\n",
    "\n",
    "amc_name = \"Shriram Mutual Fund\"\n",
    "logger.info(f\"User Ran Fund Data of {amc_name}\")\n",
    "\n",
    "object = Shriram(PATHS_CONFIG,amc_name)\n",
    "path = mutual_fund[amc_name]\n",
    "title,path_pdf = object.check_and_highlight(path)\n",
    "data = object.get_data(path_pdf,title)\n",
    "extracted_text = object.get_generated_content(data)\n",
    "\n",
    "final_text = object.refine_extracted_data(extracted_text, flatten=True)\n",
    "dfs = object.merge_and_select_data(final_text,select = True,map = True)\n",
    "Helper.quick_json_dump(dfs, object.JSONPATH)"
   ]
  },
  {
   "cell_type": "code",
   "execution_count": null,
   "metadata": {},
   "outputs": [],
   "source": [
    "\"\"\"PPFAS MAIN FILE CODE\"\"\"\n",
    "\n",
    "amc_name = \"PPFAS Mutual Fund\"\n",
    "logger.info(f\"User Ran Fund Data of {amc_name}\")\n",
    "\n",
    "object = PPFAS(PATHS_CONFIG,amc_name)\n",
    "path = mutual_fund[amc_name]\n",
    "\n",
    "title,path_pdf = object.check_and_highlight(path)\n",
    "data = object.get_data(path_pdf,title)\n",
    "extracted_text = object.get_generated_content(data)\n",
    "\n",
    "final_text = object.refine_extracted_data(extracted_text, flatten=True)\n",
    "dfs = object.merge_and_select_data(final_text,select = True,map = True)\n",
    "Helper.quick_json_dump(dfs, object.JSONPATH)"
   ]
  },
  {
   "cell_type": "code",
   "execution_count": null,
   "metadata": {},
   "outputs": [],
   "source": [
    "'''AXIS ONE MAIN FILE CODE''' #No issues as of now\n",
    "amc_name = \"Axis Mutual Fund Passive\"\n",
    "logger.info(f\"User Ran Fund Data of {amc_name}\")\n",
    "\n",
    "object = AXISMF(PATHS_CONFIG,amc_name)\n",
    "path = mutual_fund[amc_name]\n",
    "\n",
    "title,path_pdf = object.check_and_highlight(path)\n",
    "# pages = [6, 7, 8, 9, 10, 11, 12, 13, 14, 15, 16, 17, 18, 19, 20, 21, 22, 23, 24, 25, 26, 27, 28, 29, 30, 31, 32, 33, 34, 35, 36, 37]\n",
    "data = object.get_data(path_pdf,title)\n",
    "extracted_text = object.get_generated_content(data)\n",
    "\n",
    "final_text = object.refine_extracted_data(extracted_text, flatten=True)\n",
    "dfs = object.merge_and_select_data(final_text,select = True, map = True)\n",
    "Helper.quick_json_dump(dfs,object.JSONPATH)"
   ]
  },
  {
   "cell_type": "code",
   "execution_count": null,
   "metadata": {},
   "outputs": [],
   "source": [
    "\"\"\"*ADITYA BIRLA FILE CODE\"\"\"\n",
    "amc_name = 'Aditya Birla Sun Life Mutual Fund'\n",
    "logging.info(f\"User Ran Fund Data of {amc_name}\")\n",
    "\n",
    "object = AdityaBirla(PATHS_CONFIG,amc_name)\n",
    "path = mutual_fund[amc_name]\n",
    "\n",
    "title,path_pdf = object.check_and_highlight(path)\n",
    "# pages = [17, 19, 21, 23, 25, 27, 29, 31, 33, 35, 37, 39, 41, 43, 45, 47, 49, 50, 52, 54, 56, 58, 60, 62, 64, 66, 67, 69, 72, 75, 78, 80, 82, 86, 87, 89, 91, 93, 95, 98, 101, 103, 106, 108, 110, 112, 114, 115, 116, 118, 119, 121, 123, 125, 127, 128, 129, 130, 131, 132, 133, 134, 135, 136, 137, 138, 139, 140, 141, 143, 145, 147, 149, 151, 152, 153, 155, 157, 159, 160, 161, 162, 163, 164, 165, 166, 167, 168, 169, 170, 171, 172, 173, 174, 175, 176, 177, 178, 179, 180, 181, 182]\n",
    "data = object.get_data(path_pdf,title)\n",
    "extracted_text = object.get_generated_content(data)\n",
    "\n",
    "final_text = object.refine_extracted_data(extracted_text, flatten=True)\n",
    "dfs = object.merge_and_select_data(final_text,select=True,map = True,special=True)\n",
    "Helper.quick_json_dump(dfs,object.JSONPATH)"
   ]
  },
  {
   "cell_type": "code",
   "execution_count": null,
   "metadata": {},
   "outputs": [],
   "source": [
    "\"\"\"BANDHAN MF FILE MAIN CODE\"\"\" # rgex for fund manager\n",
    "\n",
    "amc_name = \"Bandhan Mutual Fund\"\n",
    "logging.info(f\"User Ran Fund Data of {amc_name}\")\n",
    "\n",
    "object = Bandhan(PATHS_CONFIG,amc_name)\n",
    "path = mutual_fund[amc_name]\n",
    "\n",
    "title,path_pdf= object.check_and_highlight(path)\n",
    "# pages = [15, 16, 17, 18, 19, 20, 21, 22, 23, 24, 25, 26, 27, 28, 29, 30, 31, 32, 33, 34, 35, 36, 37, 38, 39, 40, 41, 43, 44, 45, 46, 47, 48, 49, 50, 51, 52, 53, 54, 55, 56, 57, 58, 59, 60, 61, 62, 63, 64, 65, 66, 67, 68, 69, 70, 71, 72, 73, 74, 75, 76, 77, 78, 79, 80, 81]\n",
    "\n",
    "data  = object.get_data(path_pdf,title)\n",
    "extracted_text = object.get_generated_content(data)\n",
    "\n",
    "final_text = object.refine_extracted_data(extracted_text, flatten = True)\n",
    "dfs = object.merge_and_select_data(final_text,select=True, map = True)\n",
    "Helper.quick_json_dump(dfs, object.JSONPATH)"
   ]
  },
  {
   "cell_type": "code",
   "execution_count": null,
   "metadata": {},
   "outputs": [],
   "source": [
    "\"\"\" BARODA BNP MAIN FILE CODE\"\"\"\n",
    "\n",
    "amc_name = 'Baroda Bnp Paribas Mutual Fund'\n",
    "logging.info(f\"User Ran Fund Data of {amc_name}\")\n",
    "path = mutual_fund[amc_name]\n",
    "object = BarodaBNP(PATHS_CONFIG,amc_name)\n",
    "title,path_pdf= object.check_and_highlight(path)\n",
    "data  = object.get_data(path_pdf,title)\n",
    "extracted_text = object.get_generated_content(data)\n",
    "\n",
    "final_text = object.refine_extracted_data(extracted_text, flatten = True)\n",
    "dfs = object.merge_and_select_data(final_text, select = True, map = True)\n",
    "Helper.quick_json_dump(dfs, object.JSONPATH)"
   ]
  },
  {
   "cell_type": "code",
   "execution_count": null,
   "metadata": {},
   "outputs": [],
   "source": [
    "\"\"\"BANK OF INDIA\"\"\" #Regex\n",
    "\n",
    "amc_name = 'Bank of India Mutual Fund'\n",
    "logging.info(f\"User Ran Fund Data of {amc_name}\")\n",
    "\n",
    "object = BankOfIndia(PATHS_CONFIG,amc_name)\n",
    "path = mutual_fund[amc_name]\n",
    "title,path_pdf= object.check_and_highlight(path)\n",
    "\n",
    "# pages =[6, 7, 8, 9, 10, 11, 12, 13, 14, 15, 16, 17, 18, 19, 20, 21, 22, 23, 24]\n",
    "data = object.get_data(path_pdf,title)\n",
    "extracted_text = object.get_generated_content(data)\n",
    "object = BankOfIndia(PATHS_CONFIG,amc_name)\n",
    "final_text = object.refine_extracted_data(extracted_text)\n",
    "dfs = object.merge_and_select_data(final_text,select = True, map = True)\n",
    "Helper.quick_json_dump(dfs, object.JSONPATH)"
   ]
  },
  {
   "cell_type": "code",
   "execution_count": null,
   "metadata": {},
   "outputs": [],
   "source": [
    "\"\"\"BAJAJ FINSERV MAIN FILE CODE\"\"\" #manager regex robust\n",
    "\n",
    "amc_name = 'Bajaj finserv Mutual Fund'\n",
    "logging.info(f\"User Ran Fund Data of {amc_name}\")\n",
    "\n",
    "object = BajajFinServ(PATHS_CONFIG,amc_name)\n",
    "path = mutual_fund[amc_name]\n",
    "\n",
    "title,path_pdf= object.check_and_highlight(path)\n",
    "# pages = [17, 19, 21, 23, 25, 26, 28, 30, 31, 32, 33, 34, 35, 36, 37, 38]\n",
    "data = object.get_data(path_pdf,title)\n",
    "extracted_text = object.get_generated_content(data)\n",
    "\n",
    "final_text = object.refine_extracted_data(extracted_text, flatten = True)\n",
    "dfs = object.merge_and_select_data(final_text, select=True,map = True)\n",
    "Helper.quick_json_dump(dfs, object.JSONPATH)"
   ]
  },
  {
   "cell_type": "code",
   "execution_count": null,
   "metadata": {},
   "outputs": [],
   "source": [
    "\"\"\"CANARA MUTUAL FUND\"\"\" \n",
    "\n",
    "amc_name = 'Canara Robeco Mutual Fund'\n",
    "logging.info(f\"User Ran Fund Data of {amc_name}\")\n",
    "\n",
    "object = Canara(PATHS_CONFIG,amc_name)\n",
    "path = mutual_fund[amc_name]\n",
    "\n",
    "title,path_pdf= object.check_and_highlight(path)\n",
    "# pages = [8, 9, 10, 11, 12, 13, 14, 15, 16, 17, 18, 19, 20, 21, 22, 23, 24, 25, 26, 27, 28, 29, 30, 31, 32]\n"
   ]
  },
  {
   "cell_type": "code",
   "execution_count": null,
   "metadata": {},
   "outputs": [],
   "source": [
    "data = object.get_data(path_pdf,title)\n",
    "extracted_text = object.get_generated_content(data)"
   ]
  },
  {
   "cell_type": "code",
   "execution_count": null,
   "metadata": {},
   "outputs": [],
   "source": [
    "final_text = object.refine_extracted_data(extracted_text, flatten = True)\n",
    "dfs = object.merge_and_select_data(final_text,select = True,map = True, special=True)\n",
    "Helper.quick_json_dump(dfs, object.JSONPATH)"
   ]
  },
  {
   "cell_type": "code",
   "execution_count": null,
   "metadata": {},
   "outputs": [],
   "source": [
    "\"\"\"DSP MAIN FILE CODE\"\"\"\n",
    "\n",
    "amc_name = 'Dsp Mutual Fund'\n",
    "logging.info(f\"User Ran Fund Data of {amc_name}\")\n",
    "\n",
    "object = DSP(PATHS_CONFIG,amc_name)\n",
    "path = mutual_fund['Dsp Mutual Fund']\n",
    "title,path_pdf= object.check_and_highlight(path)\n",
    "\n",
    "# pages = [1, 2, 3, 4, 5, 6, 7, 8, 9, 10, 11, 12, 13, 14, 15, 16, 17, 18, 19, 20, 21, 23, 24, 25, 26, 27, 28, 29, 30, 31, 32, 33, 34, 35, 36, 37, 38, 39, 40, 41, 42, 43, 44, 45, 46, 47, 48, 49, 50, 51, 52, 53, 54, 55, 56, 57, 58, 59, 60, 61, 62, 63, 64, 65, 66, 67]\n",
    "# data = object.get_data(path_pdf,title)\n",
    "# extracted_text = object.get_generated_content(data)\n",
    "# final_text = object.refine_extracted_data(extracted_text,flatten = True)\n",
    "# dfs = object.merge_and_select_data(final_text,select = True,map = True)\n",
    "# Helper.quick_json_dump(dfs,object.JSONPATH)"
   ]
  },
  {
   "cell_type": "code",
   "execution_count": 5,
   "metadata": {},
   "outputs": [
    {
     "name": "stdout",
     "output_type": "stream",
     "text": [
      "Function Running: check_and_highlight\n",
      "Function Running: _get_normal_title\n",
      "Regex: ((?:Edelweiss|Bharat)\\s*.+?(?:Fund|Path|ETF|FOF|Path)\\s*(?:F?f?und of F?f?und|[A-Za-z\\s]+\\s*[0-9]+)?)\n",
      "05 -- Edelweiss Large Cap Fund\n",
      "06 -- Edelweiss Large & Mid Cap Fund\n",
      "07 -- Edelweiss Flexi Cap Fund\n",
      "08 -- Edelweiss Mid Cap Fund\n",
      "09 -- Edelweiss Small Cap Fund\n",
      "10 -- Edelweiss Recently Listed IPO Fund\n",
      "11 -- Edelweiss ELSS Tax saver Fund\n",
      "12 -- Edelweiss Focused Fund\n",
      "13 -- Edelweiss Multi Cap Fund\n",
      "14 -- Edelweiss Technology Fund\n",
      "15 -- Edelweiss Business Cycle Fund\n",
      "16 -- Edelweiss Consumption Fund\n",
      "17 -- Edelweiss Arbitrage Fund\n",
      "18 -- Edelweiss Equity Savings Fund\n",
      "19 -- Edelweiss Aggressive Hybrid Fund\n",
      "20 -- Edelweiss Balanced Advantage Fund\n",
      "21 -- Edelweiss Multi Asset Allocation Fund\n",
      "22 -- Edelweiss Gold and Silver ETF Fund of Fund\n",
      "23 -- Edelweiss Gold ETF\n",
      "24 -- Edelweiss Silver ETF\n",
      "25 -- Edelweiss Overnight Fund\n",
      "26 -- Edelweiss Liquid Fund\n",
      "27 -- Edelweiss Banking & PSU Debt Fund\n",
      "28 -- Edelweiss Money Market Fund\n",
      "29 -- Edelweiss Government Securities Fund\n",
      "33 -- Edelweiss Overnight Fund\n",
      "36 -- Edelweiss CRISIL IBX 5050 Gilt Plus SDL Short Duration Index Fund\n",
      "37 -- Bharat Bond ETF APRIL 2025\n",
      "38 -- Edelweiss CRISIL PSU Plus SDL 5050 Oct 2025 Index Fund\n",
      "39 -- Edelweiss NIFTY PSU Bond Plus SDL Apr - 2026 5050 Index Fund\n",
      "40 -- Edelweiss NIFTY PSU Bond Plus SDL Apr - 2027 5050 Index Fund\n",
      "41 -- Edelweiss CRISIL IBX 5050 Gilt Plus SDL June 2027 Index Fund\n",
      "42 -- Edelweiss CRISIL IBX 5050 Gilt Plus SDL Sep 2028 Index Fund\n",
      "43 -- Edelweiss CRISIL IBX AAA Financial Services Bond - Jan 2028 Index Fund\n",
      "44 -- Edelweiss CRISIL-IBX AAA Bond NBFC-HFC - Jun 2027 Index Fund\n",
      "45 -- Bharat Bond ETF APRIL 2030\n",
      "46 -- Bharat Bond ETF APRIL 2031\n",
      "47 -- Bharat Bond ETF APRIL 2032\n",
      "48 -- Bharat Bond ETF APRIL 2033\n",
      "49 -- Edelweiss CRISIL IBX 5050 Gilt Plus SDL Apr 2037 Index Fund\n",
      "50 -- Edelweiss Nifty 50 Index Fund\n",
      "51 -- Edelweiss Nifty 100 Quality 30 Index Fund\n",
      "52 -- Edelweiss Nifty Bank ETF\n",
      "53 -- Edelweiss BSE Capital Markets & Insurance ETF\n",
      "54 -- Edelweiss Nifty500 Multicap Momentum Quality 50 ETF\n",
      "55 -- Edelweiss Nifty500 Multicap Momentum Quality 50 Index Fund\n",
      "56 -- Edelweiss Nifty Alpha Low Volatility 30 Index Fund\n",
      "57 -- Edelweiss MSCI India Domestic & World Healthcare 45 Index Fund\n",
      "58 -- Edelweiss Nifty Large Mid Cap 250 Index Fund\n",
      "59 -- Edelweiss Nifty Next 50 Index Fund\n",
      "60 -- Edelweiss Nifty Midcap 150 Momentum 50 Index Fund\n",
      "61 -- Edelweiss Nifty Smallcap 250 Index Fund\n",
      "62 -- Bharat Bond FOF APRIL 2025\n",
      "63 -- Bharat Bond FOF APRIL 2030\n",
      "64 -- Bharat Bond FOF APRIL 2031\n",
      "65 -- Bharat Bond ETF FOF APRIL 2032\n",
      "66 -- Bharat Bond ETF FOF APRIL 2033\n",
      "67 -- Edelweiss Greater China Equity Off-Shore Fund\n",
      "68 -- Edelweiss US Technology Equity Fund\n",
      "69 -- Edelweiss Emerging Markets Opportunities Equity Offshore Fund\n",
      "70 -- Edelweiss Asean Equity Off-Shore Fund\n",
      "71 -- Edelweiss Europe Dynamic Equity Off-Shore Fund\n",
      "72 -- Edelweiss US Value Equity Off-Shore Fund\n",
      "\tHlted PDF at: C:\\Users\\rando\\OneDrive\\Documents\\Feb25\\Edelweiss Mutual Fund\\9_28-Feb-25_FS_hltd.pdf\n",
      "\n",
      "\tDoc Saved At: C:\\Users\\rando\\OneDrive\\Documents\\mywork-repo\\data\\output\\pdf_report.xlsx\n",
      "\n",
      "\n",
      "Function Running: get_data\n",
      "Function Running: extract_data_relative_line\n",
      "Function Running: extract_span_data\n",
      "Function Running: process_text_data\n",
      "Function Running: create_nested_dict\n",
      "Function Running: get_generated_content\n",
      "Parsing Completed, Refining Data.....\n",
      "\n",
      "--<<Edelweiss Large Cap Fund>>--\n",
      "--<<Edelweiss Large & Mid Cap Fund>>--\n",
      "--<<Edelweiss Flexi Cap Fund>>--\n",
      "--<<Edelweiss Mid Cap Fund>>--\n",
      "--<<Edelweiss Small Cap Fund>>--\n",
      "--<<Edelweiss Recently Listed IPO Fund>>--\n",
      "--<<Edelweiss ELSS Tax saver Fund>>--\n",
      "--<<Edelweiss Focused Fund>>--\n",
      "--<<Edelweiss Multi Cap Fund>>--\n",
      "--<<Edelweiss Technology Fund>>--\n",
      "--<<Edelweiss Business Cycle Fund>>--\n",
      "--<<Edelweiss Consumption Fund>>--\n",
      "--<<Edelweiss Arbitrage Fund>>--\n",
      "--<<Edelweiss Equity Savings Fund>>--\n",
      "--<<Edelweiss Aggressive Hybrid Fund>>--\n",
      "--<<Edelweiss Balanced Advantage Fund>>--\n",
      "--<<Edelweiss Multi Asset Allocation Fund>>--\n",
      "--<<Edelweiss Gold and Silver ETF Fund of Fund>>--\n",
      "--<<Edelweiss Gold ETF>>--\n",
      "--<<Edelweiss Silver ETF>>--\n",
      "--<<Edelweiss Overnight Fund>>--\n",
      "--<<Edelweiss Liquid Fund>>--\n",
      "--<<Edelweiss Banking & PSU Debt Fund>>--\n",
      "--<<Edelweiss Money Market Fund>>--\n",
      "--<<Edelweiss Government Securities Fund>>--\n",
      "--<<Edelweiss CRISIL IBX 5050 Gilt Plus SDL Short Duration Index Fund>>--\n",
      "--<<Bharat Bond ETF APRIL 2025>>--\n",
      "--<<Edelweiss CRISIL PSU Plus SDL 5050 Oct 2025 Index Fund>>--\n",
      "--<<Edelweiss NIFTY PSU Bond Plus SDL Apr - 2026 5050 Index Fund>>--\n",
      "--<<Edelweiss NIFTY PSU Bond Plus SDL Apr - 2027 5050 Index Fund>>--\n",
      "--<<Edelweiss CRISIL IBX 5050 Gilt Plus SDL June 2027 Index Fund>>--\n",
      "--<<Edelweiss CRISIL IBX 5050 Gilt Plus SDL Sep 2028 Index Fund>>--\n",
      "--<<Edelweiss CRISIL IBX AAA Financial Services Bond - Jan 2028 Index Fund>>--\n",
      "--<<Edelweiss CRISIL-IBX AAA Bond NBFC-HFC - Jun 2027 Index Fund>>--\n",
      "--<<Bharat Bond ETF APRIL 2030>>--\n",
      "--<<Bharat Bond ETF APRIL 2031>>--\n",
      "--<<Bharat Bond ETF APRIL 2032>>--\n",
      "--<<Bharat Bond ETF APRIL 2033>>--\n",
      "--<<Edelweiss CRISIL IBX 5050 Gilt Plus SDL Apr 2037 Index Fund>>--\n",
      "--<<Edelweiss Nifty 50 Index Fund>>--\n",
      "--<<Edelweiss Nifty 100 Quality 30 Index Fund>>--\n",
      "--<<Edelweiss Nifty Bank ETF>>--\n",
      "--<<Edelweiss BSE Capital Markets & Insurance ETF>>--\n",
      "--<<Edelweiss Nifty500 Multicap Momentum Quality 50 ETF>>--\n",
      "--<<Edelweiss Nifty500 Multicap Momentum Quality 50 Index Fund>>--\n",
      "--<<Edelweiss Nifty Alpha Low Volatility 30 Index Fund>>--\n",
      "--<<Edelweiss MSCI India Domestic & World Healthcare 45 Index Fund>>--\n",
      "--<<Edelweiss Nifty Large Mid Cap 250 Index Fund>>--\n",
      "--<<Edelweiss Nifty Next 50 Index Fund>>--\n",
      "--<<Edelweiss Nifty Midcap 150 Momentum 50 Index Fund>>--\n",
      "--<<Edelweiss Nifty Smallcap 250 Index Fund>>--\n",
      "--<<Bharat Bond FOF APRIL 2025>>--\n",
      "--<<Bharat Bond FOF APRIL 2030>>--\n",
      "--<<Bharat Bond FOF APRIL 2031>>--\n",
      "--<<Bharat Bond ETF FOF APRIL 2032>>--\n",
      "--<<Bharat Bond ETF FOF APRIL 2033>>--\n",
      "--<<Edelweiss Greater China Equity Off-Shore Fund>>--\n",
      "--<<Edelweiss US Technology Equity Fund>>--\n",
      "--<<Edelweiss Emerging Markets Opportunities Equity Offshore Fund>>--\n",
      "--<<Edelweiss Asean Equity Off-Shore Fund>>--\n",
      "--<<Edelweiss Europe Dynamic Equity Off-Shore Fund>>--\n",
      "--<<Edelweiss US Value Equity Off-Shore Fund>>--\n",
      "Function Running: refine_extracted_data\n",
      "Function Running: merge_and_select_data\n",
      "\n",
      "  JSON saved at C:\\Users\\rando\\OneDrive\\Documents\\mywork-repo\\data\\output\\dump_Edelweiss_23_30_39.json\n"
     ]
    }
   ],
   "source": [
    "\"\"\"EDELWEISS MP FILE MAIN CODE\"\"\" #Issues: objective in seperate dict,#metrics are weird, scheme launch date issue\n",
    "\n",
    "amc_name = 'Edelweiss Mutual Fund'\n",
    "logging.info(f\"User Ran Fund Data of {amc_name}\")\n",
    "\n",
    "object = Edelweiss(PATHS_CONFIG,amc_name)\n",
    "path = mutual_fund[amc_name]\n",
    "title,path_pdf= object.check_and_highlight(path)\n",
    "\n",
    "data = object.get_data(path_pdf,title)\n",
    "extracted_text = object.get_generated_content(data)\n",
    "object = Edelweiss(PATHS_CONFIG,amc_name)\n",
    "final_text = object.refine_extracted_data(extracted_text, flatten = True)\n",
    "dfs = object.merge_and_select_data(final_text, select = True, map = True)\n",
    "Helper.quick_json_dump(dfs, object.JSONPATH)"
   ]
  },
  {
   "cell_type": "code",
   "execution_count": null,
   "metadata": {},
   "outputs": [],
   "source": [
    "\"\"\"FRANKLIN TEMPLETON FILE MAIN CODE\"\"\"\n",
    "\n",
    "amc_name = \"Franklin Templeton Mutual Fund\"\n",
    "logging.info(f\"User Ran Fund Data of {amc_name}\")\n",
    "\n",
    "object = FranklinTempleton(PATHS_CONFIG,amc_name)\n",
    "path = mutual_fund[amc_name]\n",
    "\n",
    "title,path_pdf= object.check_and_highlight(path)\n",
    "\n",
    "# pages = [17, 18, 19, 20, 21, 22, 23, 24, 25, 26, 27, 28, 29, 30, 31, 32, 33, 34, 35, 36, 37, 38, 39, 40, 41, 42, 43, 44, 45, 46, 47, 48, 49, 50]\n",
    "data = object.get_data(path_pdf,title)\n",
    "extracted_text = object.get_generated_content(data)"
   ]
  },
  {
   "cell_type": "code",
   "execution_count": 41,
   "metadata": {},
   "outputs": [
    {
     "name": "stdout",
     "output_type": "stream",
     "text": [
      "\n",
      " JSON saved at C:\\Users\\Kaustubh.keny\\Projects\\office-work\\mywork-repo\\data\\feb25output\\dump_Franklin_10_45.json\n"
     ]
    }
   ],
   "source": [
    "final_text = object.refine_extracted_data(extracted_text, flatten = True)\n",
    "dfs = object.merge_and_select_data(final_text,select = True,map = True)\n",
    "Helper.quick_json_dump(dfs, object.JSONPATH)"
   ]
  },
  {
   "cell_type": "code",
   "execution_count": null,
   "metadata": {},
   "outputs": [],
   "source": [
    "\"\"\"GROWW MUTUAL FUND MAIN CODE\"\"\"\n",
    "\n",
    "amc_name = \"Groww Mutual Fund\"\n",
    "logging.info(f\"User Ran Fund Data of {amc_name}\")\n",
    "object = GROWW(PATHS_CONFIG,amc_name)\n",
    "path = mutual_fund[amc_name]\n",
    "title,path_pdf= object.check_and_highlight(path)\n",
    "# pages = [13, 14, 15, 16, 17, 18, 19, 20, 21, 22, 23, 24, 26, 28, 29, 30, 32, 33, 34, 35, 36, 37, 38, 39, 40, 41, 42]\n",
    "data = object.get_data(path_pdf,title)\n",
    "extracted_text = object.get_generated_content(data)"
   ]
  },
  {
   "cell_type": "code",
   "execution_count": 81,
   "metadata": {},
   "outputs": [
    {
     "name": "stdout",
     "output_type": "stream",
     "text": [
      "\n",
      "\tJSON saved at C:\\Users\\Kaustubh.keny\\Projects\\office-work\\mywork-repo\\data\\output\\dump_GROWW_15_01.json\n"
     ]
    }
   ],
   "source": [
    "final_text = object.refine_extracted_data(extracted_text, flatten = True)\n",
    "dfs = object.merge_and_select_data(final_text,select = True, map = True)\n",
    "Helper.quick_json_dump(dfs,object.JSONPATH)"
   ]
  },
  {
   "cell_type": "code",
   "execution_count": null,
   "metadata": {},
   "outputs": [],
   "source": [
    "\"\"\"HDFC MUTUAL FUND\"\"\"\n",
    "amc_name = \"Hdfc Mutual Fund\"\n",
    "logging.info(f\"User Ran Fund Data of {amc_name}\")\n",
    "\n",
    "object = HDFC(PATHS_CONFIG,amc_name)\n",
    "path = mutual_fund[amc_name]\n",
    "\n",
    "title,path_pdf= object.check_and_highlight(path)\n",
    "# pages = [5, 6, 8, 10, 11, 12, 13, 14, 15, 16, 17, 18, 19, 20, 21, 22, 23, 24, 25, 26, 27, 28, 29, 30, 31, 32, 33, 34, 35, 36, 37, 38, 39, 40, 41, 42, 43, 44, 45, 46, 47, 48, 49, 50, 51]\n",
    "data = object.get_data(path_pdf,title)\n",
    "extracted_text = object.get_generated_content(data)\n",
    "final_text = object.refine_extracted_data(extracted_text,flatten = True)\n",
    "dfs = object.merge_and_select_data(final_text, select = True,map = True,special = True)\n",
    "Helper.quick_json_dump(dfs,object.JSONPATH)"
   ]
  },
  {
   "cell_type": "code",
   "execution_count": null,
   "metadata": {},
   "outputs": [],
   "source": [
    "\"\"\"HDFC MUTUAL FUND\"\"\"\n",
    "amc_name = \"Hdfc Mutual Fund Passive\"\n",
    "logging.info(f\"User Ran Fund Data of {amc_name}\")\n",
    "\n",
    "object = HDFC(PATHS_CONFIG,amc_name)\n",
    "path = mutual_fund[amc_name]\n",
    "\n",
    "title,path_pdf= object.check_and_highlight(path)\n",
    "# pages = [5, 6, 8, 10, 11, 12, 13, 14, 15, 16, 17, 18, 19, 20, 21, 22, 23, 24, 25, 26, 27, 28, 29, 30, 31, 32, 33, 34, 35, 36, 37, 38, 39, 40, 41, 42, 43, 44, 45, 46, 47, 48, 49, 50, 51]\n",
    "# title= df.title.to_dict()\n",
    "data = object.get_data(path_pdf,title)\n",
    "extracted_text = object.get_generated_content(data)\n",
    "final_text = object.refine_extracted_data(extracted_text,flatten = True)\n",
    "dfs = object.merge_and_select_data(final_text, select = True,map = True,special=True)\n",
    "Helper.quick_json_dump(dfs,object.JSONPATH)"
   ]
  },
  {
   "cell_type": "code",
   "execution_count": null,
   "metadata": {},
   "outputs": [],
   "source": [
    "\"\"\"HELIOS MF FILE MAIN CODE\"\"\" \n",
    "\n",
    "amc_name = 'Helios Mutual Fund'\n",
    "logging.info(f\"User Ran Fund Data of {amc_name}\")\n",
    "\n",
    "object = Helios(PATHS_CONFIG,amc_name)\n",
    "path = mutual_fund[amc_name]\n",
    "\n",
    "title,path_pdf= object.check_and_highlight(path)\n",
    "\n",
    "# pages =   [2, 4, 6, 8,10]\n",
    "data = object.get_data(path_pdf,title)\n",
    "extracted_text = object.get_generated_content(data)"
   ]
  },
  {
   "cell_type": "code",
   "execution_count": null,
   "metadata": {},
   "outputs": [],
   "source": [
    "final_text = object.refine_extracted_data(extracted_text, flatten=True)\n",
    "dfs = object.merge_and_select_data(final_text,select= True,map = True, special = True)\n",
    "Helper.quick_json_dump(dfs,object.JSONPATH)"
   ]
  },
  {
   "cell_type": "code",
   "execution_count": null,
   "metadata": {},
   "outputs": [],
   "source": [
    "\"\"\" ICICI MF MAIN FILE CODE PASSIVE\"\"\" #Issue: two fund on same page\n",
    "\n",
    "amc_name = \"Icici Prudential Mutual Fund Passive\"\n",
    "logging.info(f\"User Ran Fund Data of {amc_name}\")\n",
    "object = ICICI(PATHS_CONFIG,amc_name)\n",
    "path = mutual_fund[amc_name]\n",
    "\n",
    "title,path_pdf = object.check_and_highlight(path)\n",
    "# pages = [8, 9, 11, 13, 15, 16, 17, 18, 19, 20, 21, 22, 23, 24, 25, 27, 28, 29, 30, 31, 32, 33, 34, 35, 36, 37, 39, 40, 41, 42, 43, 44, 46, 47, 49, 51, 53, 55, 56, 58, 59, 60, 62, 64, 65, 66, 67, 68, 69, 71, 72, 74, 75, 77, 78, 80]\n",
    "data = object.get_data(path_pdf,title)\n",
    "extracted_text = object.get_generated_content(data)"
   ]
  },
  {
   "cell_type": "code",
   "execution_count": null,
   "metadata": {},
   "outputs": [],
   "source": [
    "object = ICICI(PATHS_CONFIG,amc_name)\n",
    "final_text = object.refine_extracted_data(extracted_text, flatten=True)\n",
    "dfs = object.merge_and_select_data(final_text,select= True,map = True,special=True)\n",
    "Helper.quick_json_dump(dfs,object.JSONPATH)"
   ]
  },
  {
   "cell_type": "code",
   "execution_count": null,
   "metadata": {},
   "outputs": [],
   "source": [
    "\"\"\" INVESCO MF MAIN FILE CODE\"\"\" #Issue: two fund on same page\n",
    "\n",
    "amc_name = 'Invesco Mutual Fund'\n",
    "logging.info(f\"User Ran Fund Data of {amc_name}\")\n",
    "object = Invesco(PATHS_CONFIG,amc_name)\n",
    "path = mutual_fund[amc_name]\n",
    "\n",
    "title,path_pdf = object.check_and_highlight(path)\n",
    "# pages = [4, 5, 6, 7, 8, 9, 10, 11, 12, 13, 14, 15, 16, 17, 18, 19, 21, 22, 23, 24, 25, 26, 27, 28, 29, 30, 31, 32, 33, 34, 35, 36, 37, 38, 39, 40, 41, 42, 43]\n",
    "data = object.get_data(path_pdf,title)\n",
    "extracted_text = object.get_generated_content(data)\n",
    "final_text = object.refine_extracted_data(extracted_text)\n",
    "dfs = object.merge_and_select_data(final_text,select = True,map = True)\n",
    "Helper.quick_json_dump(dfs, object.JSONPATH)"
   ]
  },
  {
   "cell_type": "code",
   "execution_count": 57,
   "metadata": {},
   "outputs": [
    {
     "name": "stdout",
     "output_type": "stream",
     "text": [
      "Function Running: check_and_highlight\n",
      "Function Running: _get_normal_title\n",
      "Regex: (ITI.*?(?:Fund(?:of Funds?)?|ETF|FOF|Path))\n",
      "09 -- ITI Multi Cap Fund\n",
      "10 -- ITI Long Term Equity Fund\n",
      "11 -- ITI Large Cap Fund\n",
      "12 -- ITI Mid Cap Fund\n",
      "13 -- ITI Small Cap Fund\n",
      "14 -- ITI Value Fund\n",
      "15 -- ITI Pharma and Healthcare Fund\n",
      "17 -- ITI Flexi Cap Fund\n",
      "18 -- ITI Focused Equity Fund\n",
      "19 -- ITI Large & Mid Cap Fund\n",
      "20 -- ITI Balanced Advantage Fund\n",
      "21 -- ITI Arbitrage Fund\n",
      "22 -- ITI Overnight Fund\n",
      "23 -- ITI Liquid Fund\n",
      "24 -- ITI Ultra Short Duration Fund\n",
      "25 -- ITI Banking & PSU Debt Fund\n",
      "26 -- ITI Dynamic Bond Fund\n",
      "\tHlted PDF at: C:\\Users\\rando\\OneDrive\\Documents\\Feb25\\ITI Mutual Fund\\51_28-Feb-25_FS_hltd.pdf\n",
      "\n",
      "\tDoc Saved At: C:\\Users\\rando\\OneDrive\\Documents\\mywork-repo\\data\\output\\pdf_report.xlsx\n",
      "\n",
      "\n",
      "Function Running: get_data\n",
      "Function Running: extract_clipped_data\n",
      "Function Running: extract_span_data\n",
      "Function Running: process_text_data\n",
      "Function Running: create_nested_dict\n",
      "Function Running: get_generated_content\n",
      "Parsing Completed, Refining Data.....\n",
      "\n",
      "--<<ITI Multi Cap Fund>>--\n",
      "--<<ITI Long Term Equity Fund>>--\n",
      "--<<ITI Large Cap Fund>>--\n",
      "--<<ITI Mid Cap Fund>>--\n",
      "--<<ITI Small Cap Fund>>--\n",
      "--<<ITI Value Fund>>--\n",
      "--<<ITI Pharma and Healthcare Fund>>--\n",
      "--<<ITI Flexi Cap Fund>>--\n",
      "--<<ITI Focused Equity Fund>>--\n",
      "--<<ITI Large & Mid Cap Fund>>--\n",
      "--<<ITI Balanced Advantage Fund>>--\n",
      "--<<ITI Arbitrage Fund>>--\n",
      "--<<ITI Overnight Fund>>--\n",
      "--<<ITI Liquid Fund>>--\n",
      "--<<ITI Ultra Short Duration Fund>>--\n",
      "--<<ITI Banking & PSU Debt Fund>>--\n",
      "--<<ITI Dynamic Bond Fund>>--\n"
     ]
    }
   ],
   "source": [
    "\"\"\"ITI MAIN FILE CODE\"\"\" #Issues: more data cleaning\n",
    "\n",
    "amc_name = 'Iti Mutual Fund'\n",
    "logging.info(f\"User Ran Fund Data of {amc_name}\")\n",
    "object = ITI(PATHS_CONFIG,amc_name)\n",
    "path = mutual_fund[amc_name]\n",
    "title,path_pdf= object.check_and_highlight(path)\n",
    "\n",
    "# pages = [9, 10, 11, 12, 13, 14, 15, 16, 17, 18, 19, 20, 21, 22, 23, 24, 25, 26]\n",
    "data = object.get_data(path_pdf,title)\n",
    "extracted_text = object.get_generated_content(data)"
   ]
  },
  {
   "cell_type": "code",
   "execution_count": 59,
   "metadata": {},
   "outputs": [
    {
     "name": "stdout",
     "output_type": "stream",
     "text": [
      "Function Running: refine_extracted_data\n",
      "\n",
      "  JSON saved at C:\\Users\\rando\\OneDrive\\Documents\\mywork-repo\\data\\output\\dump_ITI_02_20_20.json\n"
     ]
    }
   ],
   "source": [
    "final_text = object.refine_extracted_data(extracted_text,flatten = True)\n",
    "# dfs= object.merge_and_select_data(final_text,select = True,map = True)\n",
    "Helper.quick_json_dump(final_text, object.JSONPATH)"
   ]
  },
  {
   "cell_type": "code",
   "execution_count": null,
   "metadata": {},
   "outputs": [],
   "source": [
    "pattern = \"(.+?)\\\\s*(?:Minimum|$)\"\n",
    "for fund, content in final_text.items():\n",
    "    check = 'scheme_details.benchmark'\n",
    "    if check in content:\n",
    "        text =re.sub(r'[^A-Za-z0-9\\s\\-\\(\\).,]+', \"\",content[check]).strip()\n",
    "        print(text)\n",
    "        match = re.findall(pattern,text, re.IGNORECASE)\n",
    "        print(match)\n",
    "        "
   ]
  },
  {
   "cell_type": "code",
   "execution_count": null,
   "metadata": {},
   "outputs": [],
   "source": []
  },
  {
   "cell_type": "code",
   "execution_count": null,
   "metadata": {},
   "outputs": [],
   "source": []
  },
  {
   "cell_type": "code",
   "execution_count": null,
   "metadata": {},
   "outputs": [],
   "source": [
    "\"\"\"JM FUND MAIN FILE CODE\"\"\"\n",
    "\n",
    "amc_name = 'Jm Financial Mutual Fund'\n",
    "logging.info(f\"User Ran Fund Data of {amc_name}\")\n",
    "\n",
    "object = JMMF(PATHS_CONFIG,amc_name)\n",
    "path = mutual_fund[amc_name]\n",
    "\n",
    "title,path_pdf= object.check_and_highlight(path)\n",
    "# pages = [18, 19, 20, 21, 22, 23, 24, 25, 26, 27, 28, 29, 30, 31, 32, 33]\n",
    "data = object.get_data(path_pdf,title)\n",
    "extracted_text = object.get_generated_content(data)\n",
    "final_text = object.refine_extracted_data(extracted_text, flatten = True)\n",
    "dfs = object.merge_and_select_data(final_text,select = True, map = True)\n",
    "Helper.quick_json_dump(dfs, object.JSONPATH)"
   ]
  },
  {
   "cell_type": "code",
   "execution_count": 6,
   "metadata": {},
   "outputs": [
    {
     "name": "stdout",
     "output_type": "stream",
     "text": [
      "Function Running: check_and_highlight\n",
      "Function Running: _get_normal_title\n",
      "Regex: (KOTAK.*?(?:FUND\\s*(?:OF FUNDS?\\s*|-\\s*\\w+)?|ETF|FOF|PATH|FTF|INDEX\\s*(?:.*?FUND)?))\n",
      "06 -- KOTAK BLUECHIP FUND\n",
      "07 -- KOTAK FLEXICAP FUND\n",
      "08 -- KOTAK MULTICAP FUND\n",
      "09 -- KOTAK EQUITY OPPORTUNITIES FUND\n",
      "10 -- KOTAK EMERGING EQUITY FUND\n",
      "11 -- KOTAK SMALL CAP FUND\n",
      "12 -- KOTAK INDIA EQ CONTRA FUND\n",
      "13 -- KOTAK FOCUSED EQUITY FUND\n",
      "14 -- KOTAK ELSS TAX SAVER FUND\n",
      "15 -- KOTAK INFRASTRUCTURE & ECONOMIC REFORM FUND\n",
      "16 -- KOTAK PIONEER FUND\n",
      "17 -- KOTAK ESG EXCLUSIONARY STRATEGY FUND\n",
      "18 -- KOTAK MANUFACTURE IN INDIA FUND\n",
      "19 -- KOTAK BUSINESS CYCLE FUND\n",
      "20 -- KOTAK BANKING & FINANCIAL SERVICES FUND\n",
      "21 -- KOTAK QUANT FUND\n",
      "22 -- KOTAK CONSUMPTION FUND\n",
      "23 -- KOTAK HEALTHCARE FUND\n",
      "24 -- KOTAK TECHNOLOGY FUND\n",
      "25 -- KOTAK SPECIAL OPPORTUNITIES FUND\n",
      "26 -- KOTAK MNC FUND\n",
      "27 -- KOTAK TRANSPORTATION & LOGISTICS FUND\n",
      "28 -- KOTAK BALANCED ADVANTAGE FUND\n",
      "29 -- KOTAK EQUITY ARBITRAGE FUND\n",
      "30 -- KOTAK EQUITY SAVINGS FUND\n",
      "31 -- KOTAK MULTI ASSET ALLOCATION FUND\n",
      "32 -- KOTAK MULTI ASSET ALLOCATION FUND\n",
      "33 -- KOTAK EQUITY HYBRID FUND\n",
      "34 -- KOTAK EQUITY HYBRID FUND\n",
      "35 -- KOTAK DEBT HYBRID FUND\n",
      "36 -- KOTAK DEBT HYBRID FUND\n",
      "37 -- KOTAK OVERNIGHT FUND\n",
      "38 -- KOTAK LIQUID FUND\n",
      "39 -- KOTAK SAVINGS FUND\n",
      "40 -- KOTAK SAVINGS FUND\n",
      "41 -- KOTAK MONEY MARKET FUND\n",
      "42 -- KOTAK LOW DURATION FUND\n",
      "43 -- KOTAK LOW DURATION FUND\n",
      "44 -- KOTAK CORPORATE BOND FUND\n",
      "45 -- KOTAK BOND SHORT TERM FUND\n",
      "46 -- KOTAK BOND SHORT TERM FUND\n",
      "47 -- KOTAK CREDIT RISK FUND\n",
      "48 -- KOTAK CREDIT RISK FUND\n",
      "49 -- KOTAK DYNAMIC BOND FUND\n",
      "50 -- KOTAK FLOATING RATE FUND\n",
      "51 -- KOTAK MEDIUM TERM FUND\n",
      "52 -- KOTAK MEDIUM TERM FUND\n",
      "53 -- KOTAK BANKING AND PSU DEBT FUND\n",
      "54 -- KOTAK BANKING AND PSU DEBT FUND\n",
      "55 -- KOTAK GILT FUND\n",
      "56 -- KOTAK BOND FUND\n",
      "57 -- KOTAK LONG DURATION FUND\n",
      "70 -- KOTAK MULTI ASSET ALLOCATOR FUND OF FUND\n",
      "71 -- KOTAK GOLD FUND\n",
      "72 -- KOTAK INCOME PLUS ARBITRAGE FOF\n",
      "73 -- KOTAK GLOBAL EMERGING MARKET FUND\n",
      "74 -- KOTAK INTERNATIONAL REIT FOF\n",
      "75 -- KOTAK NASDAQ 100 FUND OF FUND\n",
      "76 -- KOTAK GLOBAL INNOVATION FUND OF FUND\n",
      "77 -- KOTAK NIFTY 50 ETF\n",
      "78 -- KOTAK BSE SENSEX ETF\n",
      "79 -- KOTAK NIFTY PSU BANK ETF\n",
      "80 -- KOTAK NIFTY 50 VALUE 20 ETF\n",
      "81 -- KOTAK NIFTY ALPHA 50 ETF\n",
      "82 -- KOTAK NIFTY MIDCAP 50 ETF\n",
      "83 -- KOTAK NIFTY 100 LOW VOLATILITY 30 ETF\n",
      "84 -- KOTAK NIFTY INDIA CONSUMPTION ETF\n",
      "85 -- KOTAK NIFTY MNC ETF\n",
      "86 -- KOTAK MSCI INDIA ETF\n",
      "87 -- KOTAK NIFTY 100 EQUAL WEIGHT ETF\n",
      "88 -- KOTAK GOLD ETF\n",
      "89 -- KOTAK NIFTY 1D RATE LIQUID ETF\n",
      "90 -- KOTAK NIFTY NEXT 50 INDEX FUND\n",
      "91 -- KOTAK NIFTY 50 INDEX FUND\n",
      "92 -- KOTAK NIFTY SMALLCAP 50 INDEX FUND\n",
      "93 -- KOTAK NIFTY 200 MOMENTUM 30 INDEX FUND\n",
      "94 -- KOTAK NIFTY FINANCIAL SERVICES EX-BANK INDEX FUND\n",
      "95 -- KOTAK BSE HOUSING INDEX FUND\n",
      "96 -- KOTAK NIFTY 100 LOW VOLATILITY 30 INDEX FUND\n",
      "97 -- KOTAK BSE PSU INDEX FUND\n",
      "98 -- KOTAK NIFTY MIDCAP 50 INDEX FUND\n",
      "99 -- KOTAK NIFTY INDIA TOURISM INDEX FUND\n",
      "100 -- KOTAK NIFTY MIDCAP 150 MOMENTUM 50 INDEX FUND\n",
      "101 -- KOTAK NIFTY 50 EQUAL WEIGHT INDEX FUND\n",
      "102 -- KOTAK NIFTY 100 EQUAL WEIGHT INDEX FUND\n",
      "103 -- KOTAK NIFTY SMALLCAP 250 INDEX FUND\n",
      "104 -- KOTAK NIFTY SMALLCAP 250 INDEX FUND\n",
      "105 -- KOTAK BSE SENSEX INDEX FUND\n",
      "106 -- KOTAK NIFTY SDL APR 2027 TOP 12 EQUAL WEIGHT INDEX FUND\n",
      "107 -- KOTAK NIFTY SDL APR 2032 TOP 12 EQUAL WEIGHT INDEX FUND\n",
      "108 -- KOTAK NIFTY SDL PLUS AAA PSU BOND JUL 2028 6040 INDEX FUND\n",
      "109 -- KOTAK NIFTY SDL JUL 2026 INDEX FUND\n",
      "110 -- KOTAK NIFTY SDL JUL 2033 INDEX FUND\n",
      "111 -- KOTAK NIFTY G-SEC JULY 2033 INDEX FUND\n",
      "112 -- KOTAK NIFTY AAA BOND JUN 2025 HTM INDEX FUND\n",
      "113 -- KOTAK CRISIL-IBX AAA FINANCIAL SERVICES INDEX SEP 2027 FUND\n",
      "114 -- KOTAK CRISIL-IBX AAA BOND FINANCIAL SERVICES INDEX DEC 2026 FUND\n",
      "\tHlted PDF at: C:\\Users\\rando\\OneDrive\\Documents\\Feb25\\Kotak Mahindra Mutual Fund\\23_28-Feb-25_FS_hltd.pdf\n",
      "\n",
      "\tDoc Saved At: C:\\Users\\rando\\OneDrive\\Documents\\mywork-repo\\data\\output\\pdf_report.xlsx\n",
      "\n",
      "\n",
      "Function Running: get_data\n",
      "Function Running: extract_clipped_data\n",
      "Function Running: extract_span_data\n",
      "Function Running: process_text_data\n",
      "Function Running: create_nested_dict\n",
      "Function Running: get_generated_content\n",
      "Parsing Completed, Refining Data.....\n",
      "\n",
      "--<<KOTAK BLUECHIP FUND>>--\n",
      "--<<KOTAK FLEXICAP FUND>>--\n",
      "--<<KOTAK MULTICAP FUND>>--\n",
      "--<<KOTAK EQUITY OPPORTUNITIES FUND>>--\n",
      "--<<KOTAK EMERGING EQUITY FUND>>--\n",
      "--<<KOTAK SMALL CAP FUND>>--\n",
      "--<<KOTAK INDIA EQ CONTRA FUND>>--\n",
      "--<<KOTAK FOCUSED EQUITY FUND>>--\n",
      "--<<KOTAK ELSS TAX SAVER FUND>>--\n",
      "--<<KOTAK INFRASTRUCTURE & ECONOMIC REFORM FUND>>--\n",
      "--<<KOTAK PIONEER FUND>>--\n",
      "--<<KOTAK ESG EXCLUSIONARY STRATEGY FUND>>--\n",
      "--<<KOTAK MANUFACTURE IN INDIA FUND>>--\n",
      "--<<KOTAK BUSINESS CYCLE FUND>>--\n",
      "--<<KOTAK BANKING & FINANCIAL SERVICES FUND>>--\n",
      "--<<KOTAK QUANT FUND>>--\n",
      "--<<KOTAK CONSUMPTION FUND>>--\n",
      "--<<KOTAK HEALTHCARE FUND>>--\n",
      "--<<KOTAK TECHNOLOGY FUND>>--\n",
      "--<<KOTAK SPECIAL OPPORTUNITIES FUND>>--\n",
      "--<<KOTAK MNC FUND>>--\n",
      "--<<KOTAK TRANSPORTATION & LOGISTICS FUND>>--\n",
      "--<<KOTAK BALANCED ADVANTAGE FUND>>--\n",
      "--<<KOTAK EQUITY ARBITRAGE FUND>>--\n",
      "--<<KOTAK EQUITY SAVINGS FUND>>--\n",
      "--<<KOTAK MULTI ASSET ALLOCATION FUND>>--\n",
      "--<<KOTAK EQUITY HYBRID FUND>>--\n",
      "--<<KOTAK DEBT HYBRID FUND>>--\n",
      "--<<KOTAK OVERNIGHT FUND>>--\n",
      "--<<KOTAK LIQUID FUND>>--\n",
      "--<<KOTAK SAVINGS FUND>>--\n",
      "--<<KOTAK MONEY MARKET FUND>>--\n",
      "--<<KOTAK LOW DURATION FUND>>--\n",
      "--<<KOTAK CORPORATE BOND FUND>>--\n",
      "--<<KOTAK BOND SHORT TERM FUND>>--\n",
      "--<<KOTAK CREDIT RISK FUND>>--\n",
      "--<<KOTAK DYNAMIC BOND FUND>>--\n",
      "--<<KOTAK FLOATING RATE FUND>>--\n",
      "--<<KOTAK MEDIUM TERM FUND>>--\n",
      "--<<KOTAK BANKING AND PSU DEBT FUND>>--\n",
      "--<<KOTAK GILT FUND>>--\n",
      "--<<KOTAK BOND FUND>>--\n",
      "--<<KOTAK LONG DURATION FUND>>--\n",
      "--<<KOTAK MULTI ASSET ALLOCATOR FUND OF FUND>>--\n",
      "--<<KOTAK GOLD FUND>>--\n",
      "--<<KOTAK INCOME PLUS ARBITRAGE FOF>>--\n",
      "--<<KOTAK GLOBAL EMERGING MARKET FUND>>--\n",
      "--<<KOTAK INTERNATIONAL REIT FOF>>--\n",
      "--<<KOTAK NASDAQ 100 FUND OF FUND>>--\n",
      "--<<KOTAK GLOBAL INNOVATION FUND OF FUND>>--\n",
      "--<<KOTAK NIFTY 50 ETF>>--\n",
      "--<<KOTAK BSE SENSEX ETF>>--\n",
      "--<<KOTAK NIFTY PSU BANK ETF>>--\n",
      "--<<KOTAK NIFTY 50 VALUE 20 ETF>>--\n",
      "--<<KOTAK NIFTY ALPHA 50 ETF>>--\n",
      "--<<KOTAK NIFTY MIDCAP 50 ETF>>--\n",
      "--<<KOTAK NIFTY 100 LOW VOLATILITY 30 ETF>>--\n",
      "--<<KOTAK NIFTY INDIA CONSUMPTION ETF>>--\n",
      "--<<KOTAK NIFTY MNC ETF>>--\n",
      "--<<KOTAK MSCI INDIA ETF>>--\n",
      "--<<KOTAK NIFTY 100 EQUAL WEIGHT ETF>>--\n",
      "--<<KOTAK GOLD ETF>>--\n",
      "--<<KOTAK NIFTY 1D RATE LIQUID ETF>>--\n",
      "--<<KOTAK NIFTY NEXT 50 INDEX FUND>>--\n",
      "--<<KOTAK NIFTY 50 INDEX FUND>>--\n",
      "--<<KOTAK NIFTY SMALLCAP 50 INDEX FUND>>--\n",
      "--<<KOTAK NIFTY 200 MOMENTUM 30 INDEX FUND>>--\n",
      "--<<KOTAK NIFTY FINANCIAL SERVICES EX-BANK INDEX FUND>>--\n",
      "--<<KOTAK BSE HOUSING INDEX FUND>>--\n",
      "--<<KOTAK NIFTY 100 LOW VOLATILITY 30 INDEX FUND>>--\n",
      "--<<KOTAK BSE PSU INDEX FUND>>--\n",
      "--<<KOTAK NIFTY MIDCAP 50 INDEX FUND>>--\n",
      "--<<KOTAK NIFTY INDIA TOURISM INDEX FUND>>--\n",
      "--<<KOTAK NIFTY MIDCAP 150 MOMENTUM 50 INDEX FUND>>--\n",
      "--<<KOTAK NIFTY 50 EQUAL WEIGHT INDEX FUND>>--\n",
      "--<<KOTAK NIFTY 100 EQUAL WEIGHT INDEX FUND>>--\n",
      "--<<KOTAK NIFTY SMALLCAP 250 INDEX FUND>>--\n",
      "--<<KOTAK BSE SENSEX INDEX FUND>>--\n",
      "--<<KOTAK NIFTY SDL APR 2027 TOP 12 EQUAL WEIGHT INDEX FUND>>--\n",
      "--<<KOTAK NIFTY SDL APR 2032 TOP 12 EQUAL WEIGHT INDEX FUND>>--\n",
      "--<<KOTAK NIFTY SDL PLUS AAA PSU BOND JUL 2028 6040 INDEX FUND>>--\n",
      "--<<KOTAK NIFTY SDL JUL 2026 INDEX FUND>>--\n",
      "--<<KOTAK NIFTY SDL JUL 2033 INDEX FUND>>--\n",
      "--<<KOTAK NIFTY G-SEC JULY 2033 INDEX FUND>>--\n",
      "--<<KOTAK NIFTY AAA BOND JUN 2025 HTM INDEX FUND>>--\n",
      "--<<KOTAK CRISIL-IBX AAA FINANCIAL SERVICES INDEX SEP 2027 FUND>>--\n",
      "--<<KOTAK CRISIL-IBX AAA BOND FINANCIAL SERVICES INDEX DEC 2026 FUND>>--\n",
      "Function Running: refine_extracted_data\n",
      "Function Running: merge_and_select_data\n",
      "\n",
      "  JSON saved at C:\\Users\\rando\\OneDrive\\Documents\\mywork-repo\\data\\output\\dump_KOTAK_00_19_07.json\n"
     ]
    }
   ],
   "source": [
    "\"\"\"KOTAK FUND MAIN CODE\"\"\" #Issue: 1 or more fund on same page, # title overlap the content\n",
    "\n",
    "amc_name = 'Kotak Mahindra Mutual Fund'\n",
    "logging.info(f\"User Ran Fund Data of {amc_name}\")\n",
    "\n",
    "object = Kotak(PATHS_CONFIG,amc_name)\n",
    "path = mutual_fund[amc_name]\n",
    "\n",
    "title,path_pdf= object.check_and_highlight(path)\n",
    "# pages = [5, 6, 7, 8, 9, 10, 11, 12, 13, 14, 15, 16, 17, 18, 19, 20, 21, 22, 23, 24, 25, 26, 27, 28, 29, 30, 32, 34, 36, 37, 38, 40, 41, 43, 44, 46, 48, 49, 50, 52, 54, 55, 56, 69, 70, 71, 72, 73, 74, 75, 76, 77, 78, 79, 80, 81, 82, 83, 84, 85, 86, 87, 88, 89, 90, 91, 92, 93, 94, 95, 96, 97, 98, 99, 100, 101, 102, 103, 104, 105, 106, 107, 108]\n",
    "data = object.get_data(path_pdf,title)\n",
    "extracted_text = object.get_generated_content(data)\n",
    "final_text = object.refine_extracted_data(extracted_text,flatten= True)\n",
    "dfs = object.merge_and_select_data(final_text, select = True, map = True)\n",
    "Helper.quick_json_dump(dfs, object.JSONPATH)"
   ]
  },
  {
   "cell_type": "code",
   "execution_count": null,
   "metadata": {},
   "outputs": [],
   "source": [
    "\"\"\"LIC FUND MAIN CODE\"\"\" #issue: OCR for title bcz they're images\n",
    "amc_name = 'LIC Mutual Fund'\n",
    "logging.info(f\"User Ran Fund Data of {amc_name}\")\n",
    "\n",
    "object = LIC(PATHS_CONFIG,amc_name)\n",
    "path = mutual_fund[amc_name]\n",
    "title,path_pdf = object.check_and_highlight(path)\n",
    "data = object.get_data(path_pdf,title)\n",
    "extracted_text = object.get_generated_content(data)\n",
    "final_text = object.refine_extracted_data(extracted_text, flatten = True)\n",
    "dfs = object.merge_and_select_data(final_text,select = True, map = True)\n",
    "Helper.quick_json_dump(dfs, object.JSONPATH)"
   ]
  },
  {
   "cell_type": "code",
   "execution_count": null,
   "metadata": {},
   "outputs": [],
   "source": [
    "\"\"\"MAHINDRA MANULIFE MAIN CODE\"\"\" #incrase pages count\n",
    "\n",
    "amc_name = 'Mahindra Manulife Mutual Fund'\n",
    "logging.info(f\"User Ran Fund Data of {amc_name}\")\n",
    "\n",
    "object = MahindraManu(PATHS_CONFIG,amc_name)\n",
    "path = mutual_fund[amc_name]\n",
    "\n",
    "title,path_pdf = object.check_and_highlight(path)\n",
    "data = object.get_data(path_pdf,title)\n",
    "extracted_text = object.get_generated_content(data)\n",
    "\n",
    "final_text = object.refine_extracted_data(extracted_text, flatten =True)\n",
    "dfs = object.merge_and_select_data(final_text,select = True, map = True)\n",
    "Helper.quick_json_dump(dfs, object.JSONPATH)"
   ]
  },
  {
   "cell_type": "code",
   "execution_count": null,
   "metadata": {},
   "outputs": [],
   "source": [
    "\"\"\"MOTILAL OSWAL PASSIVE MAIN CODE FILE\"\"\" #Fund Manager Regex\n",
    "\n",
    "amc_name = 'Motilal Oswal Mutual Fund Passive'\n",
    "logging.info(f\"User Ran Fund Data of {amc_name}\")\n",
    "\n",
    "object = MotilalOswal(PATHS_CONFIG,amc_name)\n",
    "path = mutual_fund[amc_name]\n",
    "\n",
    "title,path_pdf= object.check_and_highlight(path)\n",
    "data = object.get_data(path_pdf,title)\n",
    "extracted_text = object.get_generated_content(data)"
   ]
  },
  {
   "cell_type": "code",
   "execution_count": null,
   "metadata": {},
   "outputs": [],
   "source": [
    "\"\"\"MOTILAL OSWAL MAIN CODE FILE\"\"\" #Fund Manager Regex\n",
    "\n",
    "amc_name = 'Motilal Oswal Mutual Fund'\n",
    "logging.info(f\"User Ran Fund Data of {amc_name}\")\n",
    "\n",
    "object = MotilalOswal(PATHS_CONFIG,amc_name)\n",
    "path = mutual_fund[amc_name]\n",
    "\n",
    "title,path_pdf= object.check_and_highlight(path)\n",
    "data = object.get_data(path_pdf,title)\n",
    "extracted_text = object.get_generated_content(data)\n",
    "\n",
    "final_text = object.refine_extracted_data(extracted_text, flatten= True)\n",
    "dfs = object.merge_and_select_data(final_text,select = True,map = True, special = True)\n",
    "Helper.quick_json_dump(dfs, object.JSONPATH)"
   ]
  },
  {
   "cell_type": "code",
   "execution_count": null,
   "metadata": {},
   "outputs": [],
   "source": [
    "\"\"\"MIRAE MAIN FILE CODE PASSIVE\"\"\"\n",
    "\n",
    "amc_name = 'Mirae Asset Mutual Fund Passive'\n",
    "logging.info(f\"User Ran Fund Data of {amc_name}\")\n",
    "\n",
    "object = MIRAE(PATHS_CONFIG,amc_name)\n",
    "path = mutual_fund[amc_name]\n",
    "\n",
    "title,path_pdf= object.check_and_highlight(path)\n",
    "# title = object.get_proper_fund_names(path)\n",
    "# pages = list(title.keys())\n",
    "data = object.get_data(path_pdf,title)\n",
    "extracted_text = object.get_generated_content(data)"
   ]
  },
  {
   "cell_type": "code",
   "execution_count": null,
   "metadata": {},
   "outputs": [],
   "source": [
    "\"\"\"MIRAE MAIN FILE CODE\"\"\"\n",
    "\n",
    "amc_name = 'Mirae Asset Mutual Fund'\n",
    "logging.info(f\"User Ran Fund Data of {amc_name}\")\n",
    "\n",
    "object = MIRAE(PATHS_CONFIG,amc_name)\n",
    "path = mutual_fund[amc_name]\n",
    "\n",
    "title,path_pdf= object.check_and_highlight(path)\n",
    "data = object.get_data(path_pdf,title)\n",
    "extracted_text = object.get_generated_content(data)"
   ]
  },
  {
   "cell_type": "code",
   "execution_count": 13,
   "metadata": {},
   "outputs": [
    {
     "name": "stdout",
     "output_type": "stream",
     "text": [
      "Function Running: refine_extracted_data\n",
      "Function Running: merge_and_select_data\n",
      "\n",
      "  JSON saved at C:\\Users\\rando\\OneDrive\\Documents\\mywork-repo\\data\\output\\dump_MIRAE_01_27_59.json\n"
     ]
    }
   ],
   "source": [
    "object = MIRAE(PATHS_CONFIG,amc_name)\n",
    "final_text = object.refine_extracted_data(extracted_text, flatten=True)\n",
    "dfs = object.merge_and_select_data(final_text,select = True, map = True)\n",
    "Helper.quick_json_dump(dfs, object.JSONPATH)"
   ]
  },
  {
   "cell_type": "code",
   "execution_count": null,
   "metadata": {},
   "outputs": [],
   "source": []
  },
  {
   "cell_type": "code",
   "execution_count": null,
   "metadata": {},
   "outputs": [],
   "source": []
  },
  {
   "cell_type": "code",
   "execution_count": null,
   "metadata": {},
   "outputs": [],
   "source": [
    "\"\"\"NAVI MAIN FILE CODE\"\"\" #Issue: Left and right\n",
    "\n",
    "amc_name = 'Navi Mutual Fund'\n",
    "logging.info(f\"User Ran Fund Data of {amc_name}\")\n",
    "\n",
    "object = NAVI(PATHS_CONFIG,amc_name)\n",
    "path = mutual_fund[amc_name]\n",
    "title,path_pdf = object.check_and_highlight(path)\n",
    "data = object.get_data(path_pdf,title)\n",
    "extracted_text = object.get_generated_content(data)\n",
    "final_text = object.refine_extracted_data(extracted_text, flatten = True)\n",
    "dfs = object.merge_and_select_data(final_text,select = True,map = True)\n",
    "Helper.quick_json_dump(dfs, object.JSONPATH)"
   ]
  },
  {
   "cell_type": "code",
   "execution_count": null,
   "metadata": {},
   "outputs": [],
   "source": [
    "\"NIPPON MAIN FILE CODE\"\n",
    "amc_name = 'Nippon India Mutual Fund'\n",
    "logging.info(f\"User Ran Fund Data of {amc_name}\")\n",
    "\n",
    "object = Nippon(PATHS_CONFIG,amc_name)\n",
    "path = mutual_fund[amc_name]\n",
    "title,path_pdf= object.check_and_highlight(path)\n",
    "\n",
    "data = object.get_data(path_pdf,title)\n",
    "extracted_text = object.get_generated_content(data)\n",
    "\n",
    "final_text = object.refine_extracted_data(extracted_text, flatten = True)\n",
    "dfs = object.merge_and_select_data(final_text,select = True, map = True)\n",
    "Helper.quick_json_dump(dfs,object.JSONPATH)"
   ]
  },
  {
   "cell_type": "code",
   "execution_count": null,
   "metadata": {},
   "outputs": [],
   "source": [
    "\"\"\"NJMF MAIN CODE FILE\"\"\"\n",
    "\n",
    "amc_name = 'Nj Mutual Fund'\n",
    "logging.info(f\"User Ran Fund Data of {amc_name}\")\n",
    "\n",
    "object = NJMF(PATHS_CONFIG,amc_name)\n",
    "path = mutual_fund[amc_name]\n",
    "title,path_pdf = object.check_and_highlight(path)\n",
    "# pages = [1, 3, 5, 7, 9]\n",
    "\n",
    "data = object.get_data(path_pdf,title)\n",
    "extracted_text = object.get_generated_content(data)"
   ]
  },
  {
   "cell_type": "code",
   "execution_count": 9,
   "metadata": {},
   "outputs": [
    {
     "name": "stdout",
     "output_type": "stream",
     "text": [
      "\n",
      "\tJSON saved at C:\\Users\\rando\\OneDrive\\Documents\\mywork-repo\\data\\output\\dump_NJ_22_53.json\n"
     ]
    }
   ],
   "source": [
    "final_text = object.refine_extracted_data(extracted_text,flatten = True)\n",
    "dfs = object.merge_and_select_data(final_text,select = True, map = True,special=True)\n",
    "Helper.quick_json_dump(dfs, object.JSONPATH)"
   ]
  },
  {
   "cell_type": "code",
   "execution_count": null,
   "metadata": {},
   "outputs": [],
   "source": [
    "\"\"\"OlD BriDGE MAIN CODE\"\"\"\n",
    "amc_name = \"Old Bridge Mutual Fund\"\n",
    "logging.info(f\"User Ran Fund Data of {amc_name}\")\n",
    "\n",
    "object = OldBridge(PATHS_CONFIG,amc_name)\n",
    "path = mutual_fund[amc_name]\n",
    "\n",
    "title,path_pdf = object.check_and_highlight(path)\n",
    "data = object.get_data(path_pdf,title)\n",
    "extracted_text = object.get_generated_content(data)\n",
    "final_text = object.refine_extracted_data(extracted_text, flatten = True)\n",
    "dfs = object.merge_and_select_data(final_text,select = True,map= True, special=True)\n",
    "Helper.quick_json_dump(dfs, object.JSONPATH)"
   ]
  },
  {
   "cell_type": "code",
   "execution_count": null,
   "metadata": {},
   "outputs": [],
   "source": [
    "\"\"\"PGIM MAIN FILE CODE\"\"\" #ISSUES: Clean data further\n",
    "\n",
    "amc_name = \"PGIM India Mutual Fund\"\n",
    "logging.info(f\"User Ran Fund Data of {amc_name}\")\n",
    "\n",
    "object = PGIM(PATHS_CONFIG,amc_name)\n",
    "path = mutual_fund[amc_name]\n",
    "\n",
    "title,path_pdf = object.check_and_highlight(path)\n",
    "data = object.get_data(path_pdf,title)\n",
    "extracted_text = object.get_generated_content(data)\n",
    "final_text = object.refine_extracted_data(extracted_text, flatten = True)\n",
    "dfs = object.merge_and_select_data(final_text,select = True,map= True)\n",
    "Helper.quick_json_dump(dfs, object.JSONPATH)"
   ]
  },
  {
   "cell_type": "code",
   "execution_count": null,
   "metadata": {},
   "outputs": [],
   "source": [
    "\"\"\"QUANT MAIN CODE FILE\"\"\"\n",
    "\n",
    "amc_name = 'Quant Mutual Fund'\n",
    "logging.info(f\"User Ran Fund Data of {amc_name}\")\n",
    "\n",
    "object = QuantMF(PATHS_CONFIG, amc_name)\n",
    "path = mutual_fund[amc_name]\n",
    "\n",
    "title,path_pdf = object.check_and_highlight(path)\n",
    "data = object.get_data(path_pdf,title)\n",
    "extracted_text = object.get_generated_content(data)\n",
    "\n",
    "final_text = object.refine_extracted_data(extracted_text, flatten = True)\n",
    "dfs = object.merge_and_select_data(final_text,select = True,map = True)\n",
    "Helper.quick_json_dump(dfs, object.JSONPATH)"
   ]
  },
  {
   "cell_type": "code",
   "execution_count": null,
   "metadata": {},
   "outputs": [],
   "source": [
    "\"\"\"QUANTUM MAIN FILE CODE\"\"\" #ISSUES: Clean data further\n",
    "\n",
    "amc_name = \"Quantum Mutual Fund\"\n",
    "logging.info(f\"User Ran Fund Data of {amc_name}\")\n",
    "\n",
    "object = Quantum(PATHS_CONFIG,amc_name)\n",
    "path = mutual_fund[amc_name]\n",
    "\n",
    "title,path_pdf = object.check_and_highlight(path)\n",
    "\n",
    "# pages = [7, 9, 12, 14, 16, 18, 20, 22, 24, 26, 28, 30, 32, 33]\n",
    "data = object.get_data(path_pdf,title)\n",
    "extracted_text = object.get_generated_content(data)"
   ]
  },
  {
   "cell_type": "code",
   "execution_count": 109,
   "metadata": {},
   "outputs": [
    {
     "name": "stdout",
     "output_type": "stream",
     "text": [
      "\n",
      " JSON saved at C:\\Users\\Kaustubh.keny\\Projects\\office-work\\mywork-repo\\data\\feb25output\\dump_QUANTUM_12_22.json\n"
     ]
    }
   ],
   "source": [
    "final_text = object.refine_extracted_data(extracted_text, flatten = True)\n",
    "dfs = object.merge_and_select_data(final_text,select = True, map = True)\n",
    "Helper.quick_json_dump(dfs, object.JSONPATH)"
   ]
  },
  {
   "cell_type": "code",
   "execution_count": null,
   "metadata": {},
   "outputs": [],
   "source": [
    "\"\"\"SAMCO PDF FILE MAIN CODE\"\"\" \n",
    "\n",
    "amc_name = 'Samco Mutual Fund'\n",
    "logging.info(f\"User Ran Fund Data of {amc_name}\")\n",
    "\n",
    "object = Samco(PATHS_CONFIG,amc_name)\n",
    "path = mutual_fund[amc_name]\n",
    "\n",
    "title,path_pdf= object.check_and_highlight(path)\n",
    "\n",
    "# pages =  [3, 5, 7, 9, 11, 13, 15, 17, 18]\n",
    "data = object.get_data(path_pdf,title)\n",
    "extracted_text = object.get_generated_content(data)\n",
    "final_text = object.refine_extracted_data(extracted_text, flatten=True)\n",
    "dfs = object.merge_and_select_data(final_text, select = True,map = True)\n",
    "Helper.quick_json_dump(dfs,object.JSONPATH)"
   ]
  },
  {
   "cell_type": "code",
   "execution_count": null,
   "metadata": {},
   "outputs": [],
   "source": [
    "\"\"\"SBI PASSIVE PDF FILE MAIN CODE\"\"\" \n",
    "\n",
    "amc_name = 'SBI Mutual Fund Passive'\n",
    "logging.info(f\"User Ran Fund Data of {amc_name}\")\n",
    "\n",
    "object = SBIPassive(PATHS_CONFIG,amc_name)\n",
    "path = mutual_fund[amc_name]\n",
    "title,path_pdf= object.check_and_highlight(path)"
   ]
  },
  {
   "cell_type": "code",
   "execution_count": null,
   "metadata": {},
   "outputs": [],
   "source": [
    "data = object.get_data(path_pdf,title)\n",
    "extracted_text = object.get_generated_content(data)"
   ]
  },
  {
   "cell_type": "code",
   "execution_count": null,
   "metadata": {},
   "outputs": [],
   "source": [
    "object = SBIPassive(PATHS_CONFIG,amc_name)\n",
    "final_text = object.refine_extracted_data(extracted_text,flatten = True)\n",
    "dfs = object.merge_and_select_data(final_text,select = True,map = True,special = True)\n",
    "Helper.quick_json_dump(dfs,object.JSONPATH)"
   ]
  },
  {
   "cell_type": "code",
   "execution_count": null,
   "metadata": {},
   "outputs": [],
   "source": [
    "\"\"\"SBI PDF FILE MAIN CODE\"\"\" \n",
    "\n",
    "amc_name = \"Sbi Mutual Fund\"\n",
    "logging.info(f\"User Ran Fund Data of {amc_name}\")\n",
    "\n",
    "object = SBI(PATHS_CONFIG,amc_name)\n",
    "path = mutual_fund[amc_name]\n",
    "title,path_pdf= object.check_and_highlight(path)\n",
    "\n",
    "data = object.get_data(path_pdf,title)\n",
    "extracted_text = object.get_generated_content(data)\n",
    "\n",
    "final_text = object.refine_extracted_data(extracted_text,flatten = True)\n",
    "dfs = object.merge_and_select_data(final_text,select = True,map = True,special = True)\n",
    "Helper.quick_json_dump(dfs,object.JSONPATH)"
   ]
  },
  {
   "cell_type": "code",
   "execution_count": null,
   "metadata": {},
   "outputs": [],
   "source": [
    "\"\"\"SUNDARAM MAIN FILE CODE\"\"\"\n",
    "\n",
    "amc_name = 'Sundaram Mutual Fund'\n",
    "logging.info(f\"User Ran Fund Data of {amc_name}\")\n",
    "\n",
    "object = Sundaram(PATHS_CONFIG,amc_name)\n",
    "path = mutual_fund[amc_name]\n",
    "\n",
    "title,path_pdf = object.check_and_highlight(path)\n",
    "# pages = [7, 8, 9, 10, 11, 12, 13, 14, 15, 16, 17, 18, 19, 20, 21, 22, 23, 24, 25, 26, 27, 28, 29, 30, 31, 32, 33, 34, 35, 36, 37, 38, 39, 40]\n",
    "data = object.get_data(path_pdf,title)\n",
    "extracted_text = object.get_generated_content(data)"
   ]
  },
  {
   "cell_type": "code",
   "execution_count": null,
   "metadata": {},
   "outputs": [],
   "source": [
    "final_text = object.refine_extracted_data(extracted_text,flatten = True)\n",
    "dfs = object.merge_and_select_data(final_text,select = True, map = True)\n",
    "Helper.quick_json_dump(dfs,object.JSONPATH)"
   ]
  },
  {
   "cell_type": "code",
   "execution_count": null,
   "metadata": {},
   "outputs": [],
   "source": [
    "\"\"\"TATA FILE MAIN CODE \"\"\"\n",
    "\n",
    "amc_name = \"Tata Mutual Fund\"\n",
    "logging.info(f\"User Ran Fund Data of {amc_name}\")\n",
    "\n",
    "object = Tata(PATHS_CONFIG,amc_name)\n",
    "path = mutual_fund[amc_name]\n",
    "\n",
    "title,path_pdf= object.check_and_highlight(path)\n",
    "# pages =  [16, 17, 18, 19, 20, 21, 22, 23, 24, 25, 26, 27, 28, 29, 30, 31, 32, 33, 34, 35, 36, 37, 38, 39, 40, 41, 42, 43, 44, 45, 46, 47, 48, 49, 50, 51, 52, 53, 54, 55, 56, 57, 58, 59, 60, 62, 64, 66, 67, 68, 69, 70, 71, 72, 73, 74, 75, 76, 77, 78, 79, 80, 81, 82, 83]\n",
    "data = object.get_data(path_pdf,title)\n",
    "extracted_text = object.get_generated_content(data)"
   ]
  },
  {
   "cell_type": "code",
   "execution_count": null,
   "metadata": {},
   "outputs": [],
   "source": [
    "final_text = object.refine_extracted_data(extracted_text, flatten = True)\n",
    "dfs = object.merge_and_select_data(final_text,select=True, map = True)\n",
    "Helper.quick_json_dump(dfs, object.JSONPATH)"
   ]
  },
  {
   "cell_type": "code",
   "execution_count": null,
   "metadata": {},
   "outputs": [],
   "source": [
    "\"\"\"TAURUS MAIN FILE CODE\"\"\" #Issues: Nothing Yet\n",
    "\n",
    "amc_name = 'Taurus Mutual Fund'\n",
    "logging.info(f\"User Ran Fund Data of {amc_name}\")\n",
    "\n",
    "object = Taurus(PATHS_CONFIG,amc_name)\n",
    "path = mutual_fund[amc_name]\n",
    "\n",
    "title,path_pdf= object.check_and_highlight(path)\n",
    "# pages = [11, 12, 13, 14, 15, 16, 17, 18]\n",
    "data = object.get_data(path_pdf,title)\n",
    "extracted_text = object.get_generated_content(data)"
   ]
  },
  {
   "cell_type": "code",
   "execution_count": 139,
   "metadata": {},
   "outputs": [
    {
     "name": "stdout",
     "output_type": "stream",
     "text": [
      "\n",
      " JSON saved at C:\\Users\\Kaustubh.keny\\Projects\\office-work\\mywork-repo\\data\\feb25output\\dump_TAURUS_12_51.json\n"
     ]
    }
   ],
   "source": [
    "object = Taurus(PATHS_CONFIG,amc_name)\n",
    "final_text = object.refine_extracted_data(extracted_text,flatten=True)\n",
    "dfs = object.merge_and_select_data(final_text,select = True, map = True)\n",
    "Helper.quick_json_dump(dfs,object.JSONPATH)"
   ]
  },
  {
   "cell_type": "code",
   "execution_count": null,
   "metadata": {},
   "outputs": [],
   "source": [
    "\"\"\"TRUST MAIN FILE CODE\"\"\" #Issue: Clean data more, nested dict unload Invest Obj in right #Names coming as headers fund managers\n",
    "\n",
    "amc_name = 'Trust Mutual Fund'\n",
    "logging.info(f\"User Ran Fund Data of {amc_name}\")\n",
    "\n",
    "object = Trust(PATHS_CONFIG,amc_name)\n",
    "path = mutual_fund[amc_name]\n",
    "title,path_pdf= object.check_and_highlight(path)\n",
    "# pages = [7, 8, 9, 10, 11, 12, 13, 14]\n",
    "data = object.get_data(path_pdf,title)\n",
    "extracted_text = object.get_generated_content(data)"
   ]
  },
  {
   "cell_type": "code",
   "execution_count": null,
   "metadata": {},
   "outputs": [],
   "source": [
    "final_text = object.refine_extracted_data(extracted_text, flatten = True)\n",
    "dfs = object.merge_and_select_data(final_text,select = True, map = True)\n",
    "Helper.quick_json_dump(dfs,object.JSONPATH)"
   ]
  },
  {
   "cell_type": "code",
   "execution_count": null,
   "metadata": {},
   "outputs": [],
   "source": [
    "\"\"\"UTI MAIN FILE CODE\"\"\"\n",
    "\n",
    "amc_name = 'UTI Mutual Fund'\n",
    "logging.info(f\"User Ran Fund Data of {amc_name}\")\n",
    "\n",
    "object = UTI(PATHS_CONFIG,amc_name)\n",
    "path = mutual_fund[amc_name]\n",
    "title,path_pdf = object.check_and_highlight(path)"
   ]
  },
  {
   "cell_type": "code",
   "execution_count": null,
   "metadata": {},
   "outputs": [],
   "source": [
    "data = object.get_data(path_pdf,title)\n",
    "extracted_text = object.get_generated_content(data)\n",
    "final_text = object.refine_extracted_data(extracted_text, flatten = True)\n",
    "dfs = object.merge_and_select_data(final_text, select = True, map = True)\n",
    "Helper.quick_json_dump(dfs, object.JSONPATH)"
   ]
  },
  {
   "cell_type": "code",
   "execution_count": null,
   "metadata": {},
   "outputs": [],
   "source": [
    "\"\"\"UNION MUTUAL FUND\"\"\" #Issues: Major Issue\n",
    "\n",
    "amc_name = 'Union Mutual Fund'\n",
    "logging.info(f\"User Ran Fund Data of {amc_name}\")\n",
    "\n",
    "object = Union(PATHS_CONFIG,amc_name)\n",
    "path = mutual_fund[amc_name]\n",
    "\n",
    "title,path_pdf = object.check_and_highlight(path)\n",
    "data = object.get_data(path_pdf,title)\n",
    "extracted_text = object.get_generated_content(data)"
   ]
  },
  {
   "cell_type": "code",
   "execution_count": null,
   "metadata": {},
   "outputs": [],
   "source": [
    "\n",
    "final_text = object.refine_extracted_data(extracted_text, flatten = True)\n",
    "dfs = object.merge_and_select_data(final_text,select=True, map = True)\n",
    "Helper.quick_json_dump(dfs, object.JSONPATH)"
   ]
  },
  {
   "cell_type": "code",
   "execution_count": null,
   "metadata": {},
   "outputs": [],
   "source": [
    "\"\"\"WHITEOAK MUTUAL FUND\"\"\"\n",
    "\n",
    "amc_name = 'WhiteOak Mutual Fund'\n",
    "logging.info(f\"User Ran Fund Data of {amc_name}\")\n",
    "\n",
    "object = WhiteOak(PATHS_CONFIG,amc_name)\n",
    "path = mutual_fund[amc_name]\n",
    "\n",
    "title,path_pdf= object.check_and_highlight(path)\n",
    "# pages = [7, 9, 11, 13, 15, 17, 19, 20, 21, 23, 25, 26, 28, 30, 32, 34, 36, 37]\n",
    "data = object.get_data(path_pdf,title)\n",
    "extracted_text = object.get_generated_content(data)\n",
    "final_text = object.refine_extracted_data(extracted_text, flatten = True)\n",
    "dfs = object.merge_and_select_data(final_text,select = True, map = True)\n",
    "Helper.quick_json_dump(dfs,object.JSONPATH)"
   ]
  },
  {
   "cell_type": "code",
   "execution_count": null,
   "metadata": {},
   "outputs": [],
   "source": [
    "\n",
    "\"\"\"OLD BRIDGE MUTUAL FUND\"\"\"\n",
    "\n",
    "amc_name = \"Old Bridge Mutual Fund\"\n",
    "logging.info(f\"User Ran Fund Data of {amc_name}\")\n",
    "\n",
    "object = OldBridge(PATHS_CONFIG,amc_name)\n",
    "path = mutual_fund[amc_name]\n",
    "\n",
    "title,path_pdf= object.check_and_highlight(path)\n",
    "data = object.get_data(path_pdf,title)\n",
    "extracted_text = object.get_generated_content(data)\n",
    "final_text = object.refine_extracted_data(extracted_text, flatten = True)\n",
    "dfs = object.merge_and_select_data(final_text,select = True, map = True)\n",
    "Helper.quick_json_dump(final_text,object.JSONPATH)"
   ]
  },
  {
   "cell_type": "code",
   "execution_count": null,
   "metadata": {},
   "outputs": [],
   "source": [
    "data = object.get_data(path_pdf,title)\n",
    "extracted_text = object.get_generated_content(data)"
   ]
  },
  {
   "cell_type": "code",
   "execution_count": null,
   "metadata": {},
   "outputs": [],
   "source": [
    "\"\"\"ZERODHA MAIN CODE\"\"\" \n",
    "\n",
    "amc_name = 'Zerodha Mutual Fund'\n",
    "logging.info(f\"User Ran Fund Data of {amc_name}\")\n",
    "\n",
    "object = Zerodha(PATHS_CONFIG,amc_name)\n",
    "path = mutual_fund[amc_name]\n",
    "title,path_pdf= object.check_and_highlight(path)\n",
    "# pages = [3, 5, 7, 9, 11, 13, 15]\n",
    "data = object.get_data(path_pdf,title)\n",
    "extracted_text = object.get_generated_content(data)\n",
    "final_text = object.refine_extracted_data(extracted_text, flatten = True)\n",
    "dfs = object.merge_and_select_data(final_text,select = True,map = True)\n",
    "Helper.quick_json_dump(dfs, object.JSONPATH)"
   ]
  },
  {
   "cell_type": "code",
   "execution_count": null,
   "metadata": {},
   "outputs": [],
   "source": [
    "\"\"\"\"HSBC MAIN FILE CODE\"\"\" #Issue: Some pages have 2 or more fund data on same page\n",
    "\n",
    "amc_name = 'HSBC Mutual Fund'\n",
    "logging.info(f\"User Ran Fund Data of {amc_name}\")\n",
    "\n",
    "object = HSBC(PATHS_CONFIG,amc_name)\n",
    "path = mutual_fund[amc_name]\n",
    "\n",
    "title,path_pdf= object.check_and_highlight(path)\n",
    "# pages = [10, 11, 12, 13, 14, 15, 16, 17, 18, 19, 20, 21, 22, 23, 24, 25, 26, 27, 28, 29, 30, 32, 34, 35, 36, 37, 38, 39, 40, 41, 42, 43, 44, 45, 46, 47, 48, 49]\n",
    "\n",
    "data = object.get_data(path_pdf,title)\n",
    "extracted_text = object.get_generated_content(data)"
   ]
  },
  {
   "cell_type": "code",
   "execution_count": null,
   "metadata": {},
   "outputs": [],
   "source": [
    "object = HSBC(PATHS_CONFIG,amc_name)\n",
    "final_text = object.refine_extracted_data(extracted_text, flatten = True)\n",
    "dfs = object.merge_and_select_data(final_text,select = True,map = True)\n",
    "Helper.quick_json_dump(dfs,object.JSONPATH)"
   ]
  },
  {
   "cell_type": "code",
   "execution_count": null,
   "metadata": {},
   "outputs": [],
   "source": [
    "manage = FundHouseManager()\n",
    "for fund in  manage.list_fund_houses():\n",
    "    manage.update_fund_house(fund,\"PARAMS\",)"
   ]
  },
  {
   "cell_type": "code",
   "execution_count": null,
   "metadata": {},
   "outputs": [],
   "source": [
    "# \"main_mapper\": {\n",
    "#         \"360 One Mutual Fund\": \"ThreeSixtyOne\",\n",
    "#         \"Aditya Birla Sun Life Mutual Fund\": \"AdityaBirla\",\n",
    "#         \"Axis Mutual Fund\": \"AXISMF\",\n",
    "#         \"Axis Mutual Fund Passive\": \"AXISMF\",\n",
    "#         \"Bajaj Finserv Mutual Fund\": \"BajajFinServ\",\n",
    "#         \"Bandhan Mutual Fund\": \"Bandhan\",\n",
    "#         \"Bank Of India Mutual Fund\": \"BankOfIndia\",\n",
    "#         \"Baroda Bnp Paribas Mutual Fund\": \"BarodaBNP\",\n",
    "#         \"Canara Robeco Mutual Fund\": \"Canara\",\n",
    "#         \"Dsp Mutual Fund\": \"DSP\",\n",
    "#         \"Edelweiss Mutual Fund\": \"Edelweiss\",\n",
    "#         \"Franklin Templeton Mutual Fund\": \"FranklinTempleton\",\n",
    "#         \"Groww Mutual Fund\": \"GROWW\",\n",
    "#         \"Hdfc Mutual Fund\": \"HDFC\",\n",
    "#         \"Hdfc Mutual Fund Passive\": \"HDFC\",\n",
    "#         \"Helios Mutual Fund\": \"Helios\",\n",
    "#         \"Hsbc Mutual Fund\": \"HSBC\",\n",
    "#         \"Icici Prudential Mutual Fund\": \"ICICI\",\n",
    "#         \"Icici Prudential Mutual Fund Passive\": \"ICICI\",\n",
    "#         \"Iti Mutual Fund\": \"ITI\",\n",
    "#         \"Invesco Mutual Fund\": \"Invesco\",\n",
    "#         \"Jm Financial Mutual Fund\": \"JMMF\",\n",
    "#         \"Kotak Mahindra Mutual Fund\": \"Kotak\",\n",
    "#         \"Lic Mutual Fund\": \"LIC\",\n",
    "#         \"Mahindra Manulife Mutual Fund\": \"MahindraManu\",\n",
    "#         \"Mirae Asset Mutual Fund\": \"MIRAE\",\n",
    "#         \"Mirae Asset Mutual Fund Passive\": \"MIRAE\",\n",
    "#         \"Motilal Oswal Mutual Fund\": \"MotilalOswal\",\n",
    "#         \"Motilal Oswal Mutual Fund Passive\": \"MotilalOswal\",\n",
    "#         \"Nj Mutual Fund\": \"NJMF\",\n",
    "#         \"Navi Mutual Fund\": \"NAVI\",\n",
    "#         \"Nippon India Mutual Fund\": \"Nippon\",\n",
    "#         \"Old Bridge Mutual Fund\":\"OldBridge\",\n",
    "#         \"Pgim India Mutual Fund\": \"PGIM\",\n",
    "#         \"Ppfas Mutual Fund\": \"PPFAS\",\n",
    "#         \"Quant Mutual Fund\": \"QuantMF\",\n",
    "#         \"Quantum Mutual Fund\": \"Quantum\",\n",
    "#         \"Sbi Mutual Fund\": \"SBI\",\n",
    "#         \"Sbi Mutual Fund Passive\": \"SBIPassive\",\n",
    "#         \"Samco Mutual Fund\": \"Samco\",\n",
    "#         \"Shriram Mutual Fund\": \"Shriram\",\n",
    "#         \"Sundaram Mutual Fund\": \"Sundaram\",\n",
    "#         \"Tata Mutual Fund\": \"Tata\",\n",
    "#         \"Taurus Mutual Fund\": \"Taurus\",\n",
    "#         \"Trust Mutual Fund\": \"Trust\",\n",
    "#         \"Uti Mutual Fund\": \"UTI\",\n",
    "#         \"Union Mutual Fund\": \"Union\",\n",
    "#         \"Whiteoak Mutual Fund\": \"WhiteOak\",\n",
    "#         \"Zerodha Mutual Fund\": \"Zerodha\"\n",
    "#     }"
   ]
  },
  {
   "cell_type": "code",
   "execution_count": null,
   "metadata": {},
   "outputs": [],
   "source": []
  },
  {
   "cell_type": "code",
   "execution_count": null,
   "metadata": {},
   "outputs": [],
   "source": []
  }
 ],
 "metadata": {
  "kernelspec": {
   "display_name": "envPDF",
   "language": "python",
   "name": "python3"
  },
  "language_info": {
   "codemirror_mode": {
    "name": "ipython",
    "version": 3
   },
   "file_extension": ".py",
   "mimetype": "text/x-python",
   "name": "python",
   "nbconvert_exporter": "python",
   "pygments_lexer": "ipython3",
   "version": "3.13.1"
  }
 },
 "nbformat": 4,
 "nbformat_minor": 2
}
