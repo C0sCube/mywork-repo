{
 "cells": [
  {
   "cell_type": "code",
   "execution_count": 9,
   "metadata": {},
   "outputs": [
    {
     "name": "stdout",
     "output_type": "stream",
     "text": [
      "The autoreload extension is already loaded. To reload it, use:\n",
      "  %reload_ext autoreload\n"
     ]
    }
   ],
   "source": [
    "%load_ext autoreload\n",
    "%autoreload 2\n",
    "import pprint, json, os, logging\n",
    "\n",
    "PATHS_CONFIG =os.path.join(os.getcwd(),'paths.json') #get path to paths.json\n",
    "\n",
    "with open(PATHS_CONFIG,'r') as file:\n",
    "    PATH = json.load(file)\n",
    "    \n",
    "from app.fund_data import *\n",
    "from app.params_handler import *\n",
    "from app.utils import Helper\n",
    "from logging_config import logger\n",
    "\n",
    "logger.info(\"Application Started !!\")\n",
    "mutual_fund = Helper.get_fund_paths(PATH['dirs']['fund_path'])"
   ]
  },
  {
   "cell_type": "code",
   "execution_count": null,
   "metadata": {},
   "outputs": [],
   "source": [
    "# Aditya Birla Sun Life Mutual Fund\n",
    "# Kotak Mahindra Mutual Fund\n",
    "# Shriram Mutual fund\n",
    "# PPFAS Mutual Fund\n",
    "# ITI Mutual Fund\n",
    "# PGIM India Mutual Fund\n",
    "# BajaJ Finserv Mutual Fund\n",
    "# Union Mutual Fund\n",
    "# Sundaram Mutual Fund\n",
    "# NJ Mutual Fund\n",
    "# Samco Mutual Fund\n",
    "# Bank of India Mutual Fund\n",
    "# DSP Mutual Fund\n",
    "# Edelweiss Mutual Fund\n",
    "# Invesco Mutual Fund\n",
    "# Helios Mutual Fund\n",
    "# Groww Mutual Fund\n",
    "# Nippon India Mutual Fund\n",
    "# Quantum Mutual Fund\n",
    "# Franklin Templeton Mutual Fund\n",
    "# Bandhan Mutual Fund\n",
    "# IL&FS Mutual Fund (IDF)\n",
    "# Tata Mutual Fund\n",
    "# Mirae Asset Mutual Fund\n",
    "# Motilal Oswal Mutual Fund\n",
    "# Old Bridge Mutual Fund\n",
    "# 360 ONE Mutual Fund\n",
    "# LIC Mutual Fund\n",
    "# Mahindra Manulife Mutual Fund\n",
    "# WhiteOak Mutual Fund\n",
    "# Navi Mutual Fund\n",
    "# Baroda BNP Paribas Mutual Fund\n",
    "# SBI Mutual Fund\n",
    "# Taurus Mutual Fund\n",
    "# JM Financial Mutual Fund\n",
    "# Trust Mutual Fund\n",
    "# Zerodha Mutual Fund\n",
    "# ICICI Prudential Mutual Fund\n",
    "# Quant Mutual Fund\n",
    "# Axis Mutual Fund\n",
    "# Canara Robeco Mutual Fund\n",
    "# HDFC Mutual Fund\n",
    "# HSBC Mutual Fund\n",
    "# UTI Mutual Fund\n",
    "# Angel One Mutual Fund\n",
    "# Unifi Mutual Fund"
   ]
  },
  {
   "cell_type": "code",
   "execution_count": null,
   "metadata": {},
   "outputs": [],
   "source": [
    "# Axis Asset Management Company Limited\n",
    "# Aditya Birla Sun Life AMC Limited\n",
    "# Bank of India Investment Managers Private Limited\n",
    "# Canara Robeco Asset Management Company Limited\n",
    "# PGIM India Asset Management Private Limited\n",
    "# DSP Investment Managers Private Limited\n",
    "# Edelweiss Asset Management Limited\n",
    "# Quant Money Managers Limited\n",
    "# Franklin Templeton Asset Management (India) Private Limited\n",
    "# HDFC Asset Management Company Limited\n",
    "# HSBC Asset Management (India) Private Limited\n",
    "# ICICI Prudential Asset Management Company Limited\n",
    "# Bandhan AMC Limited\n",
    "# 360 ONE Asset Management Limited\n",
    "# IL&FS Infra Asset Management Limited\n",
    "# Groww Asset Management Limited\n",
    "# Invesco Asset Management (India) Private Limited\n",
    "# JM Financial Asset Management Limited\n",
    "# Kotak Mahindra Asset Management Company Limited(KMAMCL)\n",
    "# LIC Mutual Fund Asset Management Limited\n",
    "# Mahindra Manulife Investment Management Private Limited\n",
    "# Mirae Asset Investment Managers (India) Private Limited\n",
    "# Motilal Oswal Asset Management Company Limited\n",
    "# PPFAS Asset Management Private Limited\n",
    "# Quantum Asset Management Company Private Limited\n",
    "# Nippon Life India Asset Management Limited\n",
    "# SBI Funds Management Limited\n",
    "# Shriram Asset Management Company Limited\n",
    "# Sundaram Asset Management Company Limited\n",
    "# Tata Asset Management Private Limited\n",
    "# Taurus Asset Management Company Limited\n",
    "# Union Asset Management Company Private Limited\n",
    "# UTI Asset Management Company Limited\n",
    "# WhiteOak Capital Asset Management Limited\n",
    "# ITI Asset Management Limited\n",
    "# Navi AMC Limited\n",
    "# NJ Asset Management Private Limited\n",
    "# Samco Asset Management Private Limited\n",
    "# Trust Asset Management Private Limited\n",
    "# Baroda BNP Paribas Asset Management India Private Limited\n",
    "# Bajaj Finserv Asset Management Limited\n",
    "# Helios Capital Asset Management (India) Private Limited\n",
    "# Zerodha Asset Management Private Limited\n",
    "# Old Bridge Asset Management Private Limited\n",
    "# Angel One Asset Management Company Limited\n",
    "# Unifi Asset Management Private Limited"
   ]
  },
  {
   "cell_type": "code",
   "execution_count": null,
   "metadata": {},
   "outputs": [],
   "source": [
    "'''360 ONE MAIN FILE CODE''' #No issues as of now\n",
    "amc_name = \"360 ONE Mutual Fund\"\n",
    "logger.info(f\"User Ran Fund Data of {amc_name}\")\n",
    "\n",
    "object = ThreeSixtyOne(PATHS_CONFIG,amc_name)\n",
    "path = mutual_fund[amc_name]\n",
    "\n",
    "path, df = object.check_and_highlight(path, 7)"
   ]
  },
  {
   "cell_type": "code",
   "execution_count": 75,
   "metadata": {},
   "outputs": [],
   "source": [
    "title = df.title.to_dict()\n",
    "pages = [5, 6, 7, 8, 9, 10, 11, 12]"
   ]
  },
  {
   "cell_type": "code",
   "execution_count": null,
   "metadata": {},
   "outputs": [],
   "source": [
    "data = object.get_data(path,pages,title)\n",
    "extracted_text = object.get_generated_content(data)"
   ]
  },
  {
   "cell_type": "code",
   "execution_count": null,
   "metadata": {},
   "outputs": [],
   "source": [
    "final_text = object.refine_extracted_data(extracted_text, flatten=True)\n",
    "df = object.merge_and_select_data(final_text, select=True, map= True)\n",
    "Helper.quick_json_dump(final_text, object.JSONPATH)"
   ]
  },
  {
   "cell_type": "code",
   "execution_count": null,
   "metadata": {},
   "outputs": [],
   "source": [
    "\"Axis Mutual Fund\"\n",
    "\"HSBC Mutual Fund\"\n",
    "\"ICICI Prudential Mutual Fund\"\n",
    "\"PGIM India Mutual Fund\"\n",
    "\"PPFAS Mutual Fund\"\n",
    "\"Quant Mutual Fund\"\n",
    "\"SBI Mutual Fund\"\n",
    "\"Shriram Mutual Fund\""
   ]
  },
  {
   "cell_type": "code",
   "execution_count": 10,
   "metadata": {},
   "outputs": [
    {
     "name": "stdout",
     "output_type": "stream",
     "text": [
      "aditya birla sun life frontline equity fund\n",
      "aditya birla sun life frontline equity fund\n",
      "aditya birla sun life focused fund\n",
      "aditya birla sun life focused fund\n",
      "aditya birla sun life flexi cap fund\n",
      "aditya birla sun life flexi cap fund\n",
      "aditya birla sun life equity advantage fund\n",
      "aditya birla sun life equity advantage fund\n",
      "aditya birla sun life mnc fund\n",
      "aditya birla sun life mnc fund\n",
      "aditya birla sun life midcap fund\n",
      "aditya birla sun life midcap fund\n",
      "aditya birla sun life multi-cap fund\n",
      "aditya birla sun life multi-cap fund\n",
      "aditya birla sun life small cap fund\n",
      "aditya birla sun life small cap fund\n",
      "aditya birla sun life pure value fund\n",
      "aditya birla sun life pure value fund\n",
      "aditya birla sun life manufacturing equity fund\n",
      "aditya birla sun life manufacturing equity fund\n",
      "aditya birla sun life banking and financial services fund\n",
      "aditya birla sun life banking and financial services fund\n",
      "aditya birla sun life dividend yield fund\n",
      "aditya birla sun life dividend yield fund\n",
      "aditya birla sun life infrastructure fund\n",
      "aditya birla sun life infrastructure fund\n",
      "aditya birla sun life digital india fund\n",
      "aditya birla sun life digital india fund\n",
      "aditya birla sun life india gennext fund\n",
      "aditya birla sun life india gennext fund\n",
      "aditya birla sun life international equity fund\n",
      "aditya birla sun life international equity fund\n",
      "aditya birla sun life pharma & healthcare fund\n",
      "aditya birla sun life bal bhavishya yojna\n",
      "aditya birla sun life bal bhavishya yojna\n",
      "aditya birla sun life retirement fund - the 30s plan\n",
      "aditya birla sun life retirement fund - the 30s plan\n",
      "aditya birla sun life retirement fund - the 40s plan\n",
      "aditya birla sun life retirement fund - the 40s plan\n",
      "aditya birla sun life retirement fund - the 50s plan\n",
      "aditya birla sun life retirement fund - the 50s plan\n",
      "aditya birla sun life psu equity fund\n",
      "aditya birla sun life psu equity fund\n",
      "aditya birla sun life special opportunities fund\n",
      "aditya birla sun life special opportunities fund\n",
      "aditya birla sun life esg integration strategy fund\n",
      "aditya birla sun life esg integration strategy fund\n",
      "aditya birla sun life business cycle fund\n",
      "aditya birla sun life business cycle fund\n",
      "aditya birla sun life transportation and logistics fund\n",
      "aditya birla sun life quant fund\n",
      "aditya birla sun life conglomerate fund\n",
      "aditya birla sun life elss tax saver fund\n",
      "aditya birla sun life elss tax saver fund\n",
      "aditya birla sun life equity hybrid ‘95 fund\n",
      "aditya birla sun life equity hybrid ‘95 fund\n",
      "aditya birla sun life equity hybrid ‘95 fund\n",
      "aditya birla sun life equity savings fund\n",
      "aditya birla sun life equity savings fund\n",
      "aditya birla sun life equity savings fund\n",
      "aditya birla sun life regular savings fund\n",
      "aditya birla sun life regular savings fund\n",
      "aditya birla sun life multi asset allocation fund\n",
      "aditya birla sun life multi asset allocation fund\n",
      "aditya birla sun life balanced advantage fund\n",
      "aditya birla sun life balanced advantage fund\n",
      "aditya birla sun life balanced advantage fund\n",
      "aditya birla sun life overnight fund\n",
      "aditya birla sun life liquid fund\n",
      "aditya birla sun life liquid fund\n",
      "aditya birla sun life money manager fund\n",
      "aditya birla sun life money manager fund\n",
      "aditya birla sun life low duration fund\n",
      "aditya birla sun life low duration fund\n",
      "aditya birla sun life savings fund\n",
      "aditya birla sun life savings fund\n",
      "aditya birla sun life floating rate fund\n",
      "aditya birla sun life floating rate fund\n",
      "aditya birla sun life floating rate fund\n",
      "aditya birla sun life corporate bond fund\n",
      "aditya birla sun life corporate bond fund\n",
      "aditya birla sun life corporate bond fund\n",
      "aditya birla sun life short term fund\n",
      "aditya birla sun life short term fund\n",
      "aditya birla sun life banking & psu debt fund\n",
      "aditya birla sun life banking & psu debt fund\n",
      "aditya birla sun life banking & psu debt fund\n",
      "aditya birla sun life medium term plan*\n",
      "aditya birla sun life medium term plan*\n",
      "aditya birla sun life credit risk fund\n",
      "aditya birla sun life credit risk fund\n",
      "aditya birla sun life dynamic bond fund\n",
      "aditya birla sun life dynamic bond fund\n",
      "aditya birla sun life income fund\n",
      "aditya birla sun life income fund\n",
      "aditya birla sun life government securities fund\n",
      "aditya birla sun life retirement fund 'the 50s plus - debt plan'\n",
      "aditya birla sun life arbitrage fund\n",
      "aditya birla sun life arbitrage fund\n",
      "aditya birla sun life long duration fund\n",
      "aditya birla sun life crisil ibx 60:40 sdl + aaa psu - apr 2025 index fund\n",
      "aditya birla sun life crisil ibx 60:40 sdl + aaa psu - apr 2025 index fund\n",
      "aditya birla sun life nifty sdl plus psu bond sep 2026 60:40 index fund\n",
      "aditya birla sun life nifty sdl plus psu bond sep 2026 60:40 index fund\n",
      "aditya birla sun life nifty sdl apr 2027 index fund\n",
      "aditya birla sun life nifty sdl apr 2027 index fund\n",
      "aditya birla sun life crisil ibx 60:40 sdl + aaa psu - apr 2027 index fund\n",
      "aditya birla sun life crisil ibx 60:40 sdl + aaa psu - apr 2027 index fund\n",
      "aditya birla sun life nifty sdl sep 2025 index fund\n",
      "aditya birla sun life crisil ibx gilt - april 2026 index fund\n",
      "aditya birla sun life crisil ibx 50:50 gilt plus sdl apr 2028 index fund\n",
      "aditya birla sun life crisil ibx gilt apr 2029 index fund\n",
      "aditya birla sun life nifty sdl sep 2027 index fund\n",
      "aditya birla sun life crisil ibx gilt apr 2028 index fund\n",
      "aditya birla sun life crisil ibx sdl jun 2032 index fund\n",
      "aditya birla sun life crisil ibx 60:40 sdl + aaa psu apr 2026 index fund\n",
      "aditya birla sun life crisil ibx gilt april 2033 index fund\n",
      "aditya birla sun life crisil ibx gilt june 2027 index fund\n",
      "aditya birla sun life crisil-ibx aaa nbfc-hfc index – dec 2025 fund\n",
      "aditya birla sun life crisil-ibx aaa nbfc-hfc index – sep 2026 fund\n",
      "aditya birla sun life crisil-ibx aaa financial services index - sep 2027 fund\n",
      "aditya birla sun life crisil-ibx financial services 3 to 6 months debt index fund\n",
      "aditya birla sun life nifty 50 index fund\n",
      "aditya birla sun life nifty 50 index fund\n",
      "aditya birla sun life nifty 50 equal weight index fund\n",
      "aditya birla sun life nifty 50 equal weight index fund\n",
      "aditya birla sun life nifty next 50 index fund\n",
      "aditya birla sun life nifty next 50 index fund\n",
      "aditya birla sun life nifty midcap 150 index fund\n",
      "aditya birla sun life nifty midcap 150 index fund\n",
      "aditya birla sun life nifty smallcap 50 index fund\n",
      "aditya birla sun life nifty smallcap 50 index fund\n",
      "aditya birla sun life nifty india defence index fund\n",
      "aditya birla sun life bse india infrastructure index fund\n",
      "aditya birla sun life nifty 50 etf\n",
      "aditya birla sun life nifty 50 etf\n",
      "aditya birla sun life bse sensex etf\n",
      "aditya birla sun life bse sensex etf\n",
      "aditya birla sun life nifty next 50 etf\n",
      "aditya birla sun life nifty next 50 etf\n",
      "aditya birla sun life nifty bank etf\n",
      "aditya birla sun life nifty healthcare etf\n",
      "aditya birla sun life nifty it etf\n",
      "aditya birla sun life nifty pse etf\n",
      "aditya birla sun life gold etf\n",
      "aditya birla sun life silver etf\n",
      "aditya birla sun life nifty 200 momentum 30 etf\n",
      "aditya birla sun life nifty 200 quality 30 etf\n",
      "aditya birla sun life crisil liquid overnight etf\n",
      "aditya birla sun life crisil broad based gilt etf\n",
      "aditya birla sun life crisil 10 year gilt etf\n",
      "aditya birla sun life asset allocator fof\n",
      "aditya birla sun life financial planning fof - aggressive plan\n",
      "aditya birla sun life financial planning fof - moderate plan\n",
      "aditya birla sun life financial planning fof - conservative plan\n",
      "aditya birla sun life active debt multi manager fof scheme\n",
      "aditya birla sun life nasdaq 100 fof*\n",
      "aditya birla sun life global excellence equity fund of fund\n",
      "aditya birla sun life global emerging opportunities fund\n",
      "aditya birla sun life gold fund\n",
      "aditya birla sun life silver etf fund of fund\n",
      "aditya birla sun life multi - index fund of funds\n",
      "aditya birla sun life us treasury 1-3 year bond etfs fund of funds*\n",
      "aditya birla sun life us treasury 3-10 year bond etfs fund of funds*\n",
      "\n",
      "Doc Saved At: C:\\Users\\rando\\OneDrive\\Documents\\mywork-repo\\data\\output\\pdf_report.xlsx\n",
      "\n",
      "Pages to Extract: [17, 19, 21, 23, 25, 27, 29, 31, 33, 35, 37, 39, 41, 43, 45, 49, 50, 52, 54, 56, 58, 60, 62, 64, 66, 69, 72, 75, 78, 80, 82, 86, 87, 89, 91, 93, 95, 98, 101, 103, 106, 108, 110, 112, 114, 115, 116, 118, 119, 121, 123, 125, 127, 128, 129, 130, 131, 132, 133, 134, 135, 136, 137, 138, 139, 140, 141, 143, 147, 149, 153, 155, 157, 159, 160, 161, 162, 163, 164, 165, 166, 167, 168, 169, 170, 171, 172, 173, 175, 176, 177, 178, 179, 180, 181, 182]\n"
     ]
    }
   ],
   "source": [
    "\"\"\"*ADITYA BIRLA FILE CODE\"\"\" #Issue: highlight count must be lower\n",
    "#Issue: data on both side ends so issue coming , three clips\n",
    "\n",
    "amc_name = 'Aditya Birla Sun Life Mutual Fund'\n",
    "logging.info(f\"User Ran Fund Data of {amc_name}\")\n",
    "\n",
    "object = AdityaBirla(PATHS_CONFIG,amc_name)\n",
    "path = mutual_fund[amc_name]\n",
    "\n",
    "path, df = object.check_and_highlight(path, 10)"
   ]
  },
  {
   "cell_type": "code",
   "execution_count": null,
   "metadata": {},
   "outputs": [],
   "source": [
    "title = df.title.to_dict()\n",
    "pages = [17, 19, 21, 23, 25, 27, 29, 31, 33, 35, 37, 39, 41, 43, 45, 49, 50, 52, 54, 56, 58, 60, 62, 64, 66, 69, 72, 75, 78, 80, 82, 86, 87, 89, 91, 93, 95, 98, 101, 103, 106, 108, 110, 112, 114, 115, 116, 118, 119, 121, 123, 125, 127, 128, 129, 130, 131, 132, 133, 134, 135, 136, 137, 138, 139, 140, 141, 143, 147, 149, 153, 155, 157, 159, 160, 161, 162, 163, 164, 165, 166, 167, 168, 169, 170, 171, 172, 173, 175, 176, 177, 178, 179, 180, 181, 182]\n",
    "data = object.get_data(path,pages,title)\n",
    "extracted_text = object.get_generated_content(data)"
   ]
  },
  {
   "cell_type": "code",
   "execution_count": null,
   "metadata": {},
   "outputs": [],
   "source": [
    "final_text = object.refine_extracted_data(extracted_text, flatten=True)\n",
    "df = object.merge_and_select_data(final_text,select=True,map = True)\n",
    "Helper.quick_json_dump(df,object.JSONPATH)"
   ]
  },
  {
   "cell_type": "code",
   "execution_count": null,
   "metadata": {},
   "outputs": [],
   "source": [
    "df = object.merge_and_select_data(final_text,select=True,map = True)"
   ]
  },
  {
   "cell_type": "code",
   "execution_count": 144,
   "metadata": {},
   "outputs": [],
   "source": [
    "name = r\"(?:Mr\\.?|Mrs\\.?|Ms\\.?)?\\s+([A-Z][a-z]+\\s[A-Z][a-z]+)\"\n",
    "exp = r\"\\d+\\.\\d+\\s*Years?\"\n",
    "date = r\"[A-Za-z]+\\s*\\d{1,2},\\s*\\d{4}\""
   ]
  },
  {
   "cell_type": "code",
   "execution_count": null,
   "metadata": {},
   "outputs": [],
   "source": [
    "df = object.merge_and_select_data(final_text,select=True,map = True)"
   ]
  },
  {
   "cell_type": "code",
   "execution_count": null,
   "metadata": {},
   "outputs": [],
   "source": [
    "for fund, content in df.items():\n",
    "    check = \"fund_manager\"\n",
    "    if check in content:\n",
    "        manager_data = []\n",
    "        nsample, msample, esample = [], [], []\n",
    "        nlength = 0\n",
    "\n",
    "        for key, value in content[check].items():\n",
    "            if re.search(r\"\\bfund_manager\\b\", key, re.IGNORECASE):\n",
    "                nsample = re.findall(name, value, re.IGNORECASE)\n",
    "                nlength = len(nsample)\n",
    "\n",
    "            elif re.search(r\"^managing\", key, re.IGNORECASE):\n",
    "                msample = re.findall(date, value, re.IGNORECASE)\n",
    "                \n",
    "            elif re.search(r\"^experience\", key, re.IGNORECASE):\n",
    "                esample = re.findall(exp, value, re.IGNORECASE)\n",
    "\n",
    "        #same length\n",
    "        msample.extend([\"\"] * (nlength - len(msample)))\n",
    "        esample.extend([\"\"] * (nlength - len(esample)))\n",
    "        manager_data = [\n",
    "            {\"managing_fund_since\": m, \"name\": n, \"qualification\": \"\", \"total_exp\": e}\n",
    "            for n, m, e in zip(nsample, msample, esample)\n",
    "        ]\n",
    "\n",
    "        content[\"fund_manager\"] = manager_data\n"
   ]
  },
  {
   "cell_type": "code",
   "execution_count": 153,
   "metadata": {},
   "outputs": [
    {
     "name": "stdout",
     "output_type": "stream",
     "text": [
      "\n",
      " JSON saved at C:\\Users\\Kaustubh.keny\\OneDrive - Cogencis Information Services Ltd\\Documents\\mywork-repo\\data\\output\\dump_aditya_15_18.json\n"
     ]
    }
   ],
   "source": [
    "Helper.quick_json_dump(df,object.JSONPATH)"
   ]
  },
  {
   "cell_type": "code",
   "execution_count": null,
   "metadata": {},
   "outputs": [],
   "source": [
    "\"\"\"BANDHAN MF FILE MAIN CODE\"\"\" # rgex for fund manager\n",
    "\n",
    "amc_name = \"Bandhan Mutual Fund\"\n",
    "logging.info(f\"User Ran Fund Data of {amc_name}\")\n",
    "\n",
    "object = Bandhan(PATHS_CONFIG,amc_name)\n",
    "path = mutual_fund[amc_name]\n",
    "\n",
    "path, df = object.check_and_highlight(path,6)\n"
   ]
  },
  {
   "cell_type": "code",
   "execution_count": 123,
   "metadata": {},
   "outputs": [],
   "source": [
    "object = Bandhan(PATHS_CONFIG,amc_name)"
   ]
  },
  {
   "cell_type": "code",
   "execution_count": null,
   "metadata": {},
   "outputs": [],
   "source": [
    "pages =  [15, 16, 17, 18, 19, 20, 21, 22, 23, 24, 25, 26, 27, 28, 29, 30, 31, 32, 33, 34, 35, 36, 37, 38, 39, 40, 41, 43, 44, 45, 46, 47, 48, 49, 50, 51, 52, 53, 54, 55, 56, 57, 58, 59, 60, 61, 62, 63, 64, 65, 66, 67, 68, 69, 70, 71, 72, 73, 74, 75, 76, 77, 78, 79, 80, 81]\n",
    "title = df.title.to_dict()\n",
    "data  = object.get_data(path,pages,title)\n",
    "extracted_text = object.get_generated_content(data)"
   ]
  },
  {
   "cell_type": "code",
   "execution_count": null,
   "metadata": {},
   "outputs": [],
   "source": [
    "final_text = object.refine_extracted_data(extracted_text, flatten = True)\n",
    "df = object.merge_and_select_data(final_text,select=True, map = True)\n",
    "Helper.quick_json_dump(df, object.JSONPATH)"
   ]
  },
  {
   "cell_type": "code",
   "execution_count": null,
   "metadata": {},
   "outputs": [],
   "source": [
    "\"\"\" BARODA BNP MAIN FILE CODE\"\"\" #Issue: lumpsum arrange date \n",
    "\n",
    "amc_name = 'Baroda BNP Paribas Mutual Fund'\n",
    "logging.info(f\"User Ran Fund Data of {amc_name}\")\n",
    "\n",
    "object = BarodaBNP(PATHS_CONFIG,amc_name)\n",
    "path = mutual_fund[amc_name]\n",
    "\n",
    "path, df = object.check_and_highlight(path, 7)\n"
   ]
  },
  {
   "cell_type": "code",
   "execution_count": 16,
   "metadata": {},
   "outputs": [],
   "source": [
    "pages = [6, 7, 8, 9, 10, 11, 12, 13, 14, 15, 16, 17, 18, 19, 20, 21, 22, 24, 25, 26, 27, 28, 29, 30, 31, 32, 33, 34, 35, 36, 37, 38, 39, 40, 41, 42, 43, 44, 45, 46, 47, 48]\n",
    "title = object.get_proper_fund_names(path, pages, (0,0,210,75))"
   ]
  },
  {
   "cell_type": "code",
   "execution_count": null,
   "metadata": {},
   "outputs": [],
   "source": [
    "data  = object.get_data(path,pages,title)\n",
    "extracted_text = object.get_generated_content(data)"
   ]
  },
  {
   "cell_type": "code",
   "execution_count": 25,
   "metadata": {},
   "outputs": [],
   "source": [
    "object = BarodaBNP(PATHS_CONFIG,amc_name)"
   ]
  },
  {
   "cell_type": "code",
   "execution_count": 26,
   "metadata": {},
   "outputs": [
    {
     "name": "stdout",
     "output_type": "stream",
     "text": [
      "\n",
      " JSON saved at C:\\Users\\rando\\OneDrive\\Documents\\mywork-repo\\data\\output\\dump_Baroda_22_56.json\n"
     ]
    }
   ],
   "source": [
    "final_text = object.refine_extracted_data(extracted_text, flatten = True)\n",
    "# df = object.merge_and_select_data(final_text)\n",
    "Helper.quick_json_dump(final_text, object.JSONPATH)"
   ]
  },
  {
   "cell_type": "code",
   "execution_count": null,
   "metadata": {},
   "outputs": [],
   "source": [
    "\"\"\"BANK OF INDIA\"\"\" #Regex\n",
    "\n",
    "amc_name = 'Bank of India Mutual Fund'\n",
    "logging.info(f\"User Ran Fund Data of {amc_name}\")\n",
    "\n",
    "object = BankOfIndia(PATHS_CONFIG,amc_name)\n",
    "path = mutual_fund[amc_name]\n",
    "\n",
    "path, df= object.check_and_highlight(path, 7)"
   ]
  },
  {
   "cell_type": "code",
   "execution_count": 161,
   "metadata": {},
   "outputs": [],
   "source": [
    "title = df.title.to_dict()\n",
    "pages =[6, 7, 8, 9, 10, 11, 12, 13, 14, 15, 16, 17, 18, 19, 20, 21, 22, 23, 24]"
   ]
  },
  {
   "cell_type": "code",
   "execution_count": 186,
   "metadata": {},
   "outputs": [],
   "source": [
    "object = BankOfIndia(PATHS_CONFIG,amc_name)"
   ]
  },
  {
   "cell_type": "code",
   "execution_count": null,
   "metadata": {},
   "outputs": [],
   "source": [
    "data = object.get_data(path,pages,title)\n",
    "extracted_text = object.get_generated_content(data)"
   ]
  },
  {
   "cell_type": "code",
   "execution_count": null,
   "metadata": {},
   "outputs": [],
   "source": [
    "final_text = object.refine_extracted_data(extracted_text)\n",
    "df = object.merge_and_select_data(final_text,select = True, map = True)\n",
    "Helper.quick_json_dump(df, object.JSONPATH)"
   ]
  },
  {
   "cell_type": "code",
   "execution_count": 198,
   "metadata": {},
   "outputs": [
    {
     "name": "stdout",
     "output_type": "stream",
     "text": [
      "bajaj finserv large cap fund\n",
      "bajaj finserv flexi cap fund\n",
      "bajaj finserv flexi cap fund\n",
      "bajaj finserv large and mid cap fund\n",
      "bajaj finserv consumption fund\n",
      "bajaj finserv healthcare fund\n",
      "bajaj finserv balanced advantage fund\n",
      "bajaj finserv multi asset allocation fund\n",
      "bajaj finserv arbitrage fund\n",
      "bajaj finserv liquid fund\n",
      "bajaj finserv money market fund\n",
      "bajaj finserv gilt fund\n",
      "bajaj finserv overnight fund\n",
      "bajaj finserv banking and psu fund\n",
      "bajaj finserv nifty 50 etf\n",
      "bajaj finserv nifty bank etf\n",
      "bajaj finserv nifty 1d rate liquid etf - growth\n",
      "\n",
      "Doc Saved At: C:\\Users\\rando\\OneDrive\\Documents\\mywork-repo\\data\\output\\pdf_report.xlsx\n",
      "\n",
      "Pages to Extract: [17, 19, 21, 23, 25, 26, 28, 30, 31, 32, 33, 34, 35, 36, 37, 38]\n"
     ]
    }
   ],
   "source": [
    "\"\"\"BAJAJ FINSERV MAIN FILE CODE\"\"\" #manager regex robust\n",
    "\n",
    "amc_name = 'Bajaj finserv Mutual Fund'\n",
    "logging.info(f\"User Ran Fund Data of {amc_name}\")\n",
    "\n",
    "object = BajajFinServ(PATHS_CONFIG,amc_name)\n",
    "path = mutual_fund[amc_name]\n",
    "\n",
    "path, df = object.check_and_highlight(path, 7)"
   ]
  },
  {
   "cell_type": "code",
   "execution_count": 199,
   "metadata": {},
   "outputs": [],
   "source": [
    "pages =  [17, 19, 21, 23, 25, 26, 28, 30, 31, 32, 33, 34, 35, 36, 37,38]\n",
    "title = df.title.to_dict()"
   ]
  },
  {
   "cell_type": "code",
   "execution_count": 202,
   "metadata": {},
   "outputs": [],
   "source": [
    "object = BajajFinServ(PATHS_CONFIG,amc_name)"
   ]
  },
  {
   "cell_type": "code",
   "execution_count": null,
   "metadata": {},
   "outputs": [],
   "source": [
    "data = object.get_data(path,pages,title)\n",
    "extracted_text = object.get_generated_content(data)"
   ]
  },
  {
   "cell_type": "code",
   "execution_count": 205,
   "metadata": {},
   "outputs": [
    {
     "name": "stdout",
     "output_type": "stream",
     "text": [
      "\n",
      " JSON saved at C:\\Users\\rando\\OneDrive\\Documents\\mywork-repo\\data\\output\\dump_bajaj_01_14.json\n"
     ]
    }
   ],
   "source": [
    "final_text = object.refine_extracted_data(extracted_text, flatten = True)\n",
    "df = object.merge_and_select_data(final_text, select=True,map = True)\n",
    "Helper.quick_json_dump(df, object.JSONPATH)"
   ]
  },
  {
   "cell_type": "code",
   "execution_count": null,
   "metadata": {},
   "outputs": [],
   "source": [
    "\"\"\"*CANARA MUTUAL FUND\"\"\" \n",
    "\n",
    "amc_name = 'Canara Robeco Mutual Fund'\n",
    "logging.info(f\"User Ran Fund Data of {amc_name}\")\n",
    "\n",
    "object = Canara(PATHS_CONFIG,amc_name)\n",
    "path = mutual_fund[amc_name]\n",
    "\n",
    "path, df = object.check_and_highlight(path, 7)"
   ]
  },
  {
   "cell_type": "code",
   "execution_count": 5,
   "metadata": {},
   "outputs": [],
   "source": [
    "pages = [8, 9, 10, 11, 12, 13, 14, 15, 16, 17, 18, 19, 20, 21, 22, 23, 24, 25, 26, 27, 28, 29, 30, 31, 32]\n",
    "title = df.title.to_dict()"
   ]
  },
  {
   "cell_type": "code",
   "execution_count": null,
   "metadata": {},
   "outputs": [],
   "source": [
    "data = object.get_data(path,pages,title)\n",
    "extracted_text = object.get_generated_content(data)"
   ]
  },
  {
   "cell_type": "code",
   "execution_count": 13,
   "metadata": {},
   "outputs": [],
   "source": [
    "object = Canara(PATHS_CONFIG,amc_name)"
   ]
  },
  {
   "cell_type": "code",
   "execution_count": null,
   "metadata": {},
   "outputs": [],
   "source": [
    "final_text = object.refine_extracted_data(extracted_text, flatten = True)\n",
    "Helper.quick_json_dump(final_text, object.JSONPATH)"
   ]
  },
  {
   "cell_type": "code",
   "execution_count": null,
   "metadata": {},
   "outputs": [],
   "source": [
    "\"\"\"*DSP MAIN FILE CODE\"\"\" #Issue: highlight count must be lower\n",
    "#Issue: data on both side ends so issue coming\n",
    "\n",
    "amc_name = 'DSP Mutual Fund'\n",
    "logging.info(f\"User Ran Fund Data of {amc_name}\")\n",
    "\n",
    "object = DSP(PATHS_CONFIG)\n",
    "path = mutual_fund['DSP Mutual Fund']\n",
    "\n",
    "path, df = object.check_and_highlight(path, 5)\n",
    "\n",
    "title = df.title.to_dict()\n",
    "pages = [1, 2, 3, 4, 5, 6, 7, 8, 9, 10, 11, 12, 13, 14, 23, 24, 25, 26, 27, 28, 29, 30, 31, 32, 33, 34, 35, 36, 37, 38, 39, 40, 41, 42, 43, 44, 45, 46, 47, 48, 49, 50, 51, 52, 53, 54, 55, 56, 57, 58, 59, 60, 61, 62, 63, 64, 65]\n",
    "\n",
    "#segments\n",
    "nd1 = object.get_data_via_clip(path, pages,title)\n",
    "nd2 = object.get_data_via_clip(path, pages,title,[(480,5,596,812)])\n",
    "\n",
    "data = object.get_data()\n",
    "extracted_text = object.get_generated_content(data)\n",
    "\n",
    "final_text = object.refine_extracted_data(extracted_text)\n",
    "Helper.quick_json_dump(final_text,object.JSONPATH)"
   ]
  },
  {
   "cell_type": "code",
   "execution_count": null,
   "metadata": {},
   "outputs": [],
   "source": [
    "\"\"\"EDELWEISS MP FILE MAIN CODE\"\"\" #Issues: objective in seperate dict,#metrics are weird, scheme launch date issue\n",
    "\n",
    "amc_name = 'Edelweiss Mutual Fund'\n",
    "logging.info(f\"User Ran Fund Data of {amc_name}\")\n",
    "\n",
    "object = Edelweiss(PATHS_CONFIG,amc_name)\n",
    "path = mutual_fund[amc_name]\n",
    "\n",
    "path, df = object.check_and_highlight(path, 6)\n"
   ]
  },
  {
   "cell_type": "code",
   "execution_count": 126,
   "metadata": {},
   "outputs": [],
   "source": [
    "pages = [7, 8, 9, 10, 11, 12, 13, 14, 15, 16, 17, 18, 19, 20, 21, 22, 23, 24, 25, 26, 27, 28, 29, 30, 37, 38, 39, 40, 41, 42, 43, 44, 45, 46, 47, 48, 49, 50, 51, 52, 53, 54, 55, 56, 57, 58, 59, 60, 61, 62, 63, 64, 65, 66, 67, 68, 69, 70, 71, 72]\n",
    "title,objectives = object.get_proper_fund_names(path,pages)"
   ]
  },
  {
   "cell_type": "code",
   "execution_count": null,
   "metadata": {},
   "outputs": [],
   "source": [
    "data = object.get_data(path,pages,title)\n",
    "extracted_text = object.get_generated_content(data)"
   ]
  },
  {
   "cell_type": "code",
   "execution_count": null,
   "metadata": {},
   "outputs": [],
   "source": [
    "final_text = object.refine_extracted_data(extracted_text, flatten = True)\n",
    "df = object.merge_and_select_data(final_text, select = True, map = True)\n",
    "Helper.quick_json_dump(df, object.JSONPATH)"
   ]
  },
  {
   "cell_type": "code",
   "execution_count": null,
   "metadata": {},
   "outputs": [],
   "source": [
    "\"\"\"FRANKLIN TEMPLETON FILE MAIN CODE\"\"\"\n",
    "\n",
    "amc_name = \"Franklin Templeton Mutual Fund\"\n",
    "logging.info(f\"User Ran Fund Data of {amc_name}\")\n",
    "\n",
    "object = FranklinTempleton(PATHS_CONFIG,amc_name)\n",
    "path = mutual_fund[amc_name]\n",
    "\n",
    "path, df = object.check_and_highlight(path, 6)"
   ]
  },
  {
   "cell_type": "code",
   "execution_count": null,
   "metadata": {},
   "outputs": [],
   "source": [
    "title = df.title.to_dict()\n",
    "pages =  [17, 18, 19, 20, 21, 22, 23, 24, 25, 26, 27, 28, 29, 30, 31, 32, 33, 34, 35, 36, 37, 38, 39, 40, 41, 42, 43, 44, 45, 46, 47, 48, 49, 50]\n",
    "data = object.get_data(path,pages,title)\n",
    "extracted_text = object.get_generated_content(data)"
   ]
  },
  {
   "cell_type": "code",
   "execution_count": null,
   "metadata": {},
   "outputs": [],
   "source": [
    "extracted_text['franklin india focused equity fund']"
   ]
  },
  {
   "cell_type": "code",
   "execution_count": 216,
   "metadata": {},
   "outputs": [],
   "source": [
    "object = FranklinTempleton(PATHS_CONFIG,amc_name)"
   ]
  },
  {
   "cell_type": "code",
   "execution_count": 217,
   "metadata": {},
   "outputs": [
    {
     "name": "stdout",
     "output_type": "stream",
     "text": [
      "\n",
      " JSON saved at C:\\Users\\Kaustubh.keny\\OneDrive - Cogencis Information Services Ltd\\Documents\\mywork-repo\\data\\output\\dump_franklin_16_54.json\n"
     ]
    }
   ],
   "source": [
    "final_text = object.refine_extracted_data(extracted_text, flatten = True)\n",
    "df = object.merge_and_select_data(final_text,select = True,map = True)\n",
    "Helper.quick_json_dump(df, object.JSONPATH)"
   ]
  },
  {
   "cell_type": "code",
   "execution_count": null,
   "metadata": {},
   "outputs": [],
   "source": [
    "\"\"\"GROWW MUTUAL FUND MAIN CODE\"\"\"\n",
    "\n",
    "amc_name = \"Groww Mutual Fund\"\n",
    "logging.info(f\"User Ran Fund Data of {amc_name}\")\n",
    "\n",
    "object = GROWW(PATHS_CONFIG,amc_name)\n",
    "path = mutual_fund[amc_name]\n",
    "\n",
    "path, df = object.check_and_highlight(path,5)"
   ]
  },
  {
   "cell_type": "code",
   "execution_count": 243,
   "metadata": {},
   "outputs": [
    {
     "data": {
      "text/plain": [
       "{0: 'groww ',\n",
       " 1: 'groww ',\n",
       " 2: 'groww ',\n",
       " 3: 'groww ',\n",
       " 4: 'groww ',\n",
       " 5: 'groww ',\n",
       " 6: 'groww ',\n",
       " 7: 'groww ',\n",
       " 8: 'groww ',\n",
       " 9: 'groww ',\n",
       " 10: 'groww ',\n",
       " 11: 'groww ',\n",
       " 12: 'groww ',\n",
       " 13: 'groww large cap fund',\n",
       " 14: 'groww large cap fund',\n",
       " 15: 'groww aggressive hybrid fund',\n",
       " 16: 'groww aggressive hybrid fund',\n",
       " 17: 'groww value fund',\n",
       " 18: 'groww value fund',\n",
       " 19: 'groww elss tax saver fund',\n",
       " 20: 'groww elss tax saver fund',\n",
       " 21: 'groww multicap fund',\n",
       " 22: 'groww nifty total market index fund',\n",
       " 23: 'groww nifty total market index fund',\n",
       " 24: 'groww banking & financial services fund',\n",
       " 25: 'groww banking & financial services fund',\n",
       " 26: 'groww nifty smallcap 250 index fund',\n",
       " 27: 'groww nifty smallcap 250 index fund',\n",
       " 28: 'groww nifty ev & new age automotive etf',\n",
       " 29: 'groww nifty ev & new age automotive etf fof',\n",
       " 30: 'groww nifty non-cyclical consumer index fund',\n",
       " 31: 'groww nifty non-cyclical consumer index fund',\n",
       " 32: 'groww nifty 1d rate liquid etf',\n",
       " 33: 'groww nifty india defence etf',\n",
       " 34: 'groww nifty india defence etf fof',\n",
       " 35: 'groww gold etf',\n",
       " 36: 'groww gold etf fof',\n",
       " 37: 'groww overnight fund',\n",
       " 38: 'groww liquid fund',\n",
       " 39: 'groww liquid fund',\n",
       " 40: 'groww short duration fund',\n",
       " 41: 'groww short duration fund',\n",
       " 42: 'groww dynamic bond fund',\n",
       " 43: 'groww dynamic bond fund',\n",
       " 44: 'groww ',\n",
       " 45: 'groww ',\n",
       " 46: 'groww ',\n",
       " 47: 'groww ',\n",
       " 48: 'groww ',\n",
       " 49: 'groww ',\n",
       " 50: 'groww ',\n",
       " 51: 'groww ',\n",
       " 52: 'groww ',\n",
       " 53: 'groww '}"
      ]
     },
     "execution_count": 243,
     "metadata": {},
     "output_type": "execute_result"
    }
   ],
   "source": [
    "title = df.title.to_dict()\n",
    "title = { k:f\"groww {v}\" for k,v in title.items()}\n",
    "title"
   ]
  },
  {
   "cell_type": "code",
   "execution_count": 244,
   "metadata": {},
   "outputs": [],
   "source": [
    "# title = df.title.to_dict()\n",
    "pages = [13, 14, 15, 16, 17, 18, 19, 20, 21, 22, 23, 24, 26, 28, 29, 30, 32, 33, 34, 35, 36, 37, 38, 39, 40, 41, 42]"
   ]
  },
  {
   "cell_type": "code",
   "execution_count": 235,
   "metadata": {},
   "outputs": [],
   "source": [
    "object = GROWW(PATHS_CONFIG,amc_name)"
   ]
  },
  {
   "cell_type": "code",
   "execution_count": null,
   "metadata": {},
   "outputs": [],
   "source": [
    "data = object.get_data(path,pages,title)\n",
    "extracted_text = object.get_generated_content(data)"
   ]
  },
  {
   "cell_type": "code",
   "execution_count": 247,
   "metadata": {},
   "outputs": [
    {
     "name": "stdout",
     "output_type": "stream",
     "text": [
      "\n",
      " JSON saved at C:\\Users\\Kaustubh.keny\\OneDrive - Cogencis Information Services Ltd\\Documents\\mywork-repo\\data\\output\\dump_groww_17_20.json\n"
     ]
    }
   ],
   "source": [
    "final_text = object.refine_extracted_data(extracted_text, flatten = True)\n",
    "df = object.merge_and_select_data(final_text,select = True, map = True)\n",
    "Helper.quick_json_dump(df,object.JSONPATH)"
   ]
  },
  {
   "cell_type": "code",
   "execution_count": null,
   "metadata": {},
   "outputs": [],
   "source": [
    "\"\"\"HDFC MUTUAL FUND\"\"\"\n",
    "amc_name = \"HDFC Mutual Fund\"\n",
    "logging.info(f\"User Ran Fund Data of {amc_name}\")\n",
    "\n",
    "object = HDFC(PATHS_CONFIG,amc_name)\n",
    "path = mutual_fund[amc_name]\n",
    "\n",
    "path, df = object.check_and_highlight(path,7)\n",
    "pages =[7, 9, 12, 14, 16, 18, 21, 23, 25, 27, 29, 30, 31, 33, 34, 36, 38, 40, 41, 42, 44, 46, 48, 49, 50, 55, 57, 61, 69, 70, 72, 74, 76, 78, 80, 82, 84, 85, 88, 90, 91, 92, 94, 96, 98]\n",
    "title= df.title.to_dict()\n",
    "data = object.get_data(path,pages,title)\n",
    "extracted_text = object.get_generated_content(data)\n",
    "final_text = object.refine_extracted_data(extracted_text,flatten = True)\n",
    "df = object.merge_and_select_data(final_text, select = True)\n",
    "Helper.quick_json_dump(df,object.JSONPATH)"
   ]
  },
  {
   "cell_type": "code",
   "execution_count": null,
   "metadata": {},
   "outputs": [],
   "source": [
    "\"\"\"HELIOS MF FILE MAIN CODE\"\"\" \n",
    "\n",
    "amc_name = 'Helios Mutual Fund'\n",
    "logging.info(f\"User Ran Fund Data of {amc_name}\")\n",
    "\n",
    "object = Helios(PATHS_CONFIG,amc_name)\n",
    "path = mutual_fund[amc_name]\n",
    "\n",
    "path, df = object.check_and_highlight(path,6)"
   ]
  },
  {
   "cell_type": "code",
   "execution_count": 100,
   "metadata": {},
   "outputs": [],
   "source": [
    "object = Helios(PATHS_CONFIG,amc_name)"
   ]
  },
  {
   "cell_type": "code",
   "execution_count": null,
   "metadata": {},
   "outputs": [],
   "source": [
    "title = df.title.to_dict()\n",
    "pages =   [2, 4, 6, 8,10]\n",
    "data = object.get_data(path,pages,title)\n",
    "extracted_text = object.get_generated_content(data)"
   ]
  },
  {
   "cell_type": "code",
   "execution_count": 101,
   "metadata": {},
   "outputs": [],
   "source": [
    "final_text = object.refine_extracted_data(extracted_text, flatten=True)\n",
    "df = object.merge_and_select_data(final_text,select= True,map = True)\n",
    "# Helper.quick_json_dump(df,object.JSONPATH)"
   ]
  },
  {
   "cell_type": "code",
   "execution_count": 252,
   "metadata": {},
   "outputs": [
    {
     "name": "stdout",
     "output_type": "stream",
     "text": [
      "invesco india elss tax saver fund\n",
      "invesco india multicap fund\n",
      "invesco india contra fund\n",
      "invesco india largecap fund\n",
      "invesco india focused fund\n",
      "invesco india large & mid cap fund\n",
      "invesco india midcap fund\n",
      "invesco india smallcap fund\n",
      "invesco india financial services fund\n",
      "invesco india infrastructure fund\n",
      "invesco india psu equity fund\n",
      "invesco india esg integration strategy fund\n",
      "invesco india flexi cap fund\n",
      "invesco india manufacturing fund\n",
      "invesco india technology fund\n",
      "invesco india arbitrage fund\n",
      "invesco india arbitrage fund\n",
      "invesco india balanced advantage fund\n",
      "invesco india aggressive hybrid fund\n",
      "invesco india equity savings fund\n",
      "invesco india multi asset allocation fund\n",
      "invesco india liquid fund\n",
      "invesco india overnight fund\n",
      "invesco india low duration fund\n",
      "invesco india short duration fund\n",
      "invesco india money market fund\n",
      "invesco india ultra short duration fund\n",
      "invesco india medium duration fund\n",
      "invesco india credit risk fund\n",
      "invesco india gilt fund\n",
      "invesco india corporate bond fund\n",
      "invesco india banking and psu fund\n",
      "invesco india nifty g-sec jul 2027 index fund\n",
      "invesco india - invesco global consumer trends fund of fund\n",
      "invesco india - invesco eqqq nasdaq-100 etf fund of fund\n",
      "invesco india - invesco pan european equity fund of fund\n",
      "invesco india - invesco global equity income fund of fund\n",
      "invesco india gold etf fund of fund\n",
      "invesco india gold exchange traded fund\n",
      "invesco india nifty 50 exchange traded fund\n",
      "\n",
      "Doc Saved At: C:\\Users\\Kaustubh.keny\\OneDrive - Cogencis Information Services Ltd\\Documents\\mywork-repo\\data\\output\\pdf_report.xlsx\n",
      "\n",
      "Pages to Extract: [4, 5, 6, 7, 8, 9, 10, 11, 12, 13, 14, 15, 16, 17, 18, 19, 21, 22, 23, 24, 25, 26, 27, 28, 29, 30, 31, 32, 33, 34, 35, 36, 37, 38, 39, 40, 41, 42, 43]\n"
     ]
    }
   ],
   "source": [
    "\"\"\" INVESCO MF MAIN FILE CODE\"\"\" #Issue: two fund on same page\n",
    "\n",
    "amc_name = 'Invesco Mutual Fund'\n",
    "logging.info(f\"User Ran Fund Data of {amc_name}\")\n",
    "\n",
    "object = Invesco(PATHS_CONFIG,amc_name)\n",
    "path = mutual_fund[amc_name]\n",
    "\n",
    "path,df = object.check_and_highlight(path, 7)"
   ]
  },
  {
   "cell_type": "code",
   "execution_count": 271,
   "metadata": {},
   "outputs": [],
   "source": [
    "object = Invesco(PATHS_CONFIG,amc_name)"
   ]
  },
  {
   "cell_type": "code",
   "execution_count": null,
   "metadata": {},
   "outputs": [],
   "source": [
    "title = df.title.to_dict()\n",
    "pages = [4, 5, 6, 7, 8, 9, 10, 11, 12, 13, 14, 15, 16, 17, 18, 19, 21, 22, 23, 24, 25, 26, 27, 28, 29, 30, 31, 32, 33, 34, 35, 36, 37, 38, 39, 40, 41, 42, 43]\n",
    "data = object.get_data(path,pages,title)\n",
    "extracted_text = object.get_generated_content(data)\n"
   ]
  },
  {
   "cell_type": "code",
   "execution_count": null,
   "metadata": {},
   "outputs": [],
   "source": [
    "final_text = object.refine_extracted_data(extracted_text)\n",
    "df = object.merge_and_select_data(final_text,select = True,map = True)\n",
    "Helper.quick_json_dump(df, object.JSONPATH)"
   ]
  },
  {
   "cell_type": "code",
   "execution_count": 273,
   "metadata": {},
   "outputs": [
    {
     "name": "stdout",
     "output_type": "stream",
     "text": [
      "iti multi cap fund\n",
      "iti elss tax saver fund\n",
      "iti large cap fund\n",
      "iti mid cap fund\n",
      "iti small cap fund\n",
      "iti value fund\n",
      "iti pharma and healthcare fund\n",
      "iti banking and financial services fund\n",
      "iti flexi cap fund\n",
      "iti focused equity fund\n",
      "iti large & mid cap fund\n",
      "iti balanced advantage fund\n",
      "iti arbitrage fund\n",
      "iti overnight fund\n",
      "iti liquid fund\n",
      "iti ultra short duration fund\n",
      "iti banking & psu debt fund\n",
      "iti dynamic bond fund\n",
      "iti dynamic bond fund\n",
      "iti overnight fund\n",
      "\n",
      "Doc Saved At: C:\\Users\\Kaustubh.keny\\OneDrive - Cogencis Information Services Ltd\\Documents\\mywork-repo\\data\\output\\pdf_report.xlsx\n",
      "\n",
      "Pages to Extract: [9, 10, 11, 12, 13, 14, 15, 16, 17, 18, 19, 20, 21, 22, 23, 24, 25, 26]\n"
     ]
    }
   ],
   "source": [
    "\"\"\"ITI MAIN FILE CODE\"\"\" #Issues: more data cleaning\n",
    "\n",
    "amc_name = 'ITI Mutual Fund'\n",
    "logging.info(f\"User Ran Fund Data of {amc_name}\")\n",
    "object = ITI(PATHS_CONFIG,amc_name)\n",
    "path = mutual_fund[amc_name]\n",
    "path, df = object.check_and_highlight(path, 7)"
   ]
  },
  {
   "cell_type": "code",
   "execution_count": null,
   "metadata": {},
   "outputs": [],
   "source": [
    "title = df.title.to_dict()\n",
    "pages = [9, 10, 11, 12, 13, 14, 15, 16, 17, 18, 19, 20, 21, 22, 23, 24, 25, 26]\n",
    "data = object.get_data(path,pages,title)\n",
    "extracted_text = object.get_generated_content(data)"
   ]
  },
  {
   "cell_type": "code",
   "execution_count": 275,
   "metadata": {},
   "outputs": [
    {
     "name": "stdout",
     "output_type": "stream",
     "text": [
      "\n",
      " JSON saved at C:\\Users\\Kaustubh.keny\\OneDrive - Cogencis Information Services Ltd\\Documents\\mywork-repo\\data\\output\\dump_iti_18_17.json\n"
     ]
    }
   ],
   "source": [
    "final_text = object.refine_extracted_data(extracted_text,flatten = True)\n",
    "df= object.merge_and_select_data(final_text,select = True,map = True)\n",
    "Helper.quick_json_dump(df, object.JSONPATH)"
   ]
  },
  {
   "cell_type": "code",
   "execution_count": 29,
   "metadata": {},
   "outputs": [
    {
     "name": "stdout",
     "output_type": "stream",
     "text": [
      "jm elss tax saver fund\n",
      "jm flexicap fund\n",
      "jm midcap fund\n",
      "jm small cap fund\n",
      "jm large cap fund\n",
      "jm value fund\n",
      "jm focused fund\n",
      "jm arbitrage fund\n",
      "jm arbitrage fund\n",
      "jm aggressive hybrid fund\n",
      "jm overnight fund\n",
      "jm liquid fund\n",
      "jm short duration fund\n",
      "jm dynamic bond fund\n",
      "jm low duration fund\n",
      "jm medium to long duration fund\n",
      "\n",
      "Doc Saved At: C:\\Users\\rando\\OneDrive\\Documents\\mywork-repo\\data\\output\\pdf_report.xlsx\n",
      "\n",
      "Pages to Extract: [18, 19, 20, 21, 22, 23, 24, 25, 26, 27, 28, 29, 30, 31, 32, 33]\n"
     ]
    }
   ],
   "source": [
    "\"\"\"JM FUND MAIN FILE CODE\"\"\" #objective on left, sometimes date is with header\n",
    "#overlapppp\n",
    "\n",
    "amc_name = 'JM Financial Mutual Fund'\n",
    "logging.info(f\"User Ran Fund Data of {amc_name}\")\n",
    "\n",
    "object = JMMF(PATHS_CONFIG,amc_name)\n",
    "path = mutual_fund[amc_name]\n",
    "\n",
    "path, df = object.check_and_highlight(path, 7)"
   ]
  },
  {
   "cell_type": "code",
   "execution_count": 149,
   "metadata": {},
   "outputs": [],
   "source": [
    "object = JMMF(PATHS_CONFIG,amc_name)"
   ]
  },
  {
   "cell_type": "code",
   "execution_count": null,
   "metadata": {},
   "outputs": [],
   "source": [
    "title = df.title.to_dict()\n",
    "pages = [18, 19, 20, 21, 22, 23, 24, 25, 26, 27, 28, 29, 30, 31, 32, 33]\n",
    "data = object.get_data(path,pages,title)\n",
    "extracted_text = object.get_generated_content(data)\n",
    "final_text = object.refine_extracted_data(extracted_text)\n",
    "Helper.quick_json_dump(final_text, object.JSONPATH)"
   ]
  },
  {
   "cell_type": "code",
   "execution_count": 150,
   "metadata": {},
   "outputs": [
    {
     "name": "stdout",
     "output_type": "stream",
     "text": [
      "\n",
      " JSON saved at C:\\Users\\rando\\OneDrive\\Documents\\mywork-repo\\data\\output\\dump_jm_23_44.json\n"
     ]
    }
   ],
   "source": [
    "final_text = object.refine_extracted_data(extracted_text, flatten=True)\n",
    "df = object.merge_and_select_data(final_text,select = True,map = True)\n",
    "Helper.quick_json_dump(df, object.JSONPATH)"
   ]
  },
  {
   "cell_type": "code",
   "execution_count": null,
   "metadata": {},
   "outputs": [],
   "source": [
    "\"\"\"KOTAK FUND MAIN CODE\"\"\" #Issue: 1 or more fund on same page, # title overlap the content\n",
    "\n",
    "amc_name = 'Kotak Mahindra Mutual Fund'\n",
    "logging.info(f\"User Ran Fund Data of {amc_name}\")\n",
    "\n",
    "object = Kotak(PATHS_CONFIG,amc_name)\n",
    "path = mutual_fund[amc_name]\n",
    "\n",
    "path, df = object.check_and_highlight(path, 7)"
   ]
  },
  {
   "cell_type": "code",
   "execution_count": 195,
   "metadata": {},
   "outputs": [],
   "source": [
    "object = Kotak(PATHS_CONFIG,amc_name)"
   ]
  },
  {
   "cell_type": "code",
   "execution_count": 153,
   "metadata": {},
   "outputs": [],
   "source": [
    "title = df.title.to_dict()\n",
    "pages = [5, 6, 7, 8, 9, 10, 11, 12, 13, 14, 15, 16, 17, 18, 19, 20, 21, 22, 23, 24, 25, 26, 27, 28, 29, 30, 32, 34, 36, 37, 38, 40, 41, 43, 44, 46, 48, 49, 50, 52, 54, 55, 56, 69, 70, 71, 72, 73, 74, 75, 76, 77, 78, 79, 80, 81, 82, 83, 84, 85, 86, 87, 88, 89, 90, 91, 92, 93, 94, 95, 96, 97, 98, 99, 100, 101, 102, 103, 104, 105, 106, 107, 108]"
   ]
  },
  {
   "cell_type": "code",
   "execution_count": null,
   "metadata": {},
   "outputs": [],
   "source": [
    "data = object.get_data(path,pages,title)\n",
    "extracted_text = object.get_generated_content(data)"
   ]
  },
  {
   "cell_type": "code",
   "execution_count": 196,
   "metadata": {},
   "outputs": [
    {
     "name": "stdout",
     "output_type": "stream",
     "text": [
      "\n",
      " JSON saved at C:\\Users\\rando\\OneDrive\\Documents\\mywork-repo\\data\\output\\dump_kotak_01_04.json\n"
     ]
    }
   ],
   "source": [
    "final_text = object.refine_extracted_data(extracted_text, flatten=True)\n",
    "df = object.merge_and_select_data(final_text,select=True, map = True)\n",
    "Helper.quick_json_dump(df, object.JSONPATH)"
   ]
  },
  {
   "cell_type": "code",
   "execution_count": null,
   "metadata": {},
   "outputs": [],
   "source": [
    "\"\"\"LIC FUND MAIN CODE\"\"\" #issue: OCR for title bcz they're images\n",
    "amc_name = 'LIC Mutual Fund'\n",
    "logging.info(f\"User Ran Fund Data of {amc_name}\")\n",
    "\n",
    "object = LIC(PATHS_CONFIG,amc_name)\n",
    "path = mutual_fund[amc_name]\n",
    "path,df = object.check_and_highlight(path, 7)"
   ]
  },
  {
   "cell_type": "code",
   "execution_count": 4,
   "metadata": {},
   "outputs": [],
   "source": [
    "title = {0: '',\n",
    " 1: '',\n",
    " 2: '',\n",
    " 3: '',\n",
    " 4: '',\n",
    " 5: '',\n",
    " 6: '',\n",
    " 7: '',\n",
    " 8: '',\n",
    " 9: '',\n",
    " 10: '',\n",
    " 11: '',\n",
    " 12: '',\n",
    " 13: '',\n",
    " 14: 'LIC MF Large Cap Fund',\n",
    " 15: 'LIC MF LARGE  84  CAPFUND',\n",
    " 16: 'LIC MF FLEXICAP FUND',\n",
    " 17: '',\n",
    " 18: 'LIC MF MD CAP FUND',\n",
    " 19: 'LIC MF SMALL CAP FUND',\n",
    " 20: '',\n",
    " 21: 'LIC MF DIVDEND YIELD FUND',\n",
    " 22: 'LIC MF VALUE FUND',\n",
    " 23: 'LIC MF FOCUSED FUND',\n",
    " 24: 'LIC MF INFRASTRUCTURE FUND',\n",
    " 25: 'LIC MF Gi  MANGFACTU RING FUND',\n",
    " 26: 'LIC MF BANKING  FINANC AL SERVICES FUND',\n",
    " 27: 'LIC MF HEALTHCARE FUND',\n",
    " 28: 'LIC MF EC SS TAX SAVER',\n",
    " 29: 'LIC MF AGGRESSIVE HYBRiD FUND',\n",
    " 30: 'BLNCED  ADVANTAGE FUND',\n",
    " 31: 'LIC MF EQUITY SAVINGS FUND',\n",
    " 32: 'LIC MF CONSERWATIVE  HBPP FUND',\n",
    " 33: 'LIC MF ARBITRAGE FUND',\n",
    " 34: '',\n",
    " 35: 'LIC MF    LIC MUTUAL FUND',\n",
    " 36: 'LIC MF OVERNIGHT FUND',\n",
    " 37: 'LIC MF LIQUID FUND',\n",
    " 38: 'LIC MF ULTRA SHORT  DURATION FUND',\n",
    " 39: '',\n",
    " 40: 'LOW DURATION FUND',\n",
    " 41: 'LIC MF MEDIUMS LONG  DURATION FUND',\n",
    " 42: 'LIC MF BANKSNG PSU FUND',\n",
    " 43: 'LIC MF SHORT DURATION FUND',\n",
    " 44: '',\n",
    " 45: '',\n",
    " 46: 'LIC MF  CHILDRENS FUND',\n",
    " 47: 'LIC MF BSE SENSEX ETF',\n",
    " 48: 'LIC MF NIFTY SOETF',\n",
    " 49: '',\n",
    " 50: 'LIC MF NIFTY MIDCAP 100 ETF',\n",
    " 51: 'LIC MF NIFTY 813 YR GSECETF',\n",
    " 52: 'LIC MF BSE SENSEX INDEX FUND',\n",
    " 53: 'LIC MF NIFTY 50 INDEX FUND',\n",
    " 54: '',\n",
    " 55: 'LIC MF GOLD EXCHANGE TRADED FUND',\n",
    " 56: 'LIC MF GOLD ETF',\n",
    " 57: 'LIC MF Large CapFund',\n",
    " 58: '',\n",
    " 59: 'LIC MF Focused Fund',\n",
    " 60: '',\n",
    " 61: '',\n",
    " 62: '',\n",
    " 63: '',\n",
    " 64: '',\n",
    " 65: 'LIC MF Dividend Yield Fund',\n",
    " 66: 'LIC MF SCHOMICIRIAIIC LIC ME Healthcare Fund',\n",
    " 67: 'LIC MF Unit Linked Insurance Scheme LIC MF Overnight Fund',\n",
    " 68: 'LIC MF Short Duration Fund',\n",
    " 69: 'LIC MF BSE Sensex ETF',\n",
    " 70: '',\n",
    " 71: '',\n",
    " 72: '',\n",
    " 73: 'LIC MF Healthcare Fund',\n",
    " 74: '',\n",
    " 75: '',\n",
    " 76: '',\n",
    " 77: '',\n",
    " 78: '',\n",
    " 79: '',\n",
    " 80: '',\n",
    " 81: '',\n",
    " 82: '',\n",
    " 83: ''}\n",
    "\n",
    "pages = [k for k,v in title.items() if v.strip()]"
   ]
  },
  {
   "cell_type": "code",
   "execution_count": null,
   "metadata": {},
   "outputs": [],
   "source": [
    "data = object.get_data(path,pages,title)\n",
    "extracted_text = object.get_generated_content(data)\n",
    "final_text = object.refine_extracted_data(extracted_text, flatten = True)\n",
    "df = object.merge_and_select_data(final_text,select = True, map = True)\n",
    "Helper.quick_json_dump(df, object.JSONPATH)"
   ]
  },
  {
   "cell_type": "code",
   "execution_count": null,
   "metadata": {},
   "outputs": [],
   "source": [
    "\"\"\"MAHINDRA MANULIFE MAIN CODE\"\"\" #incrase pages count\n",
    "\n",
    "amc_name = 'Mahindra Manulife Mutual Fund'\n",
    "logging.info(f\"User Ran Fund Data of {amc_name}\")\n",
    "\n",
    "object = MahindraManu(PATHS_CONFIG,amc_name)\n",
    "path = mutual_fund[amc_name]\n",
    "\n",
    "path,df = object.check_and_highlight(path, 7)"
   ]
  },
  {
   "cell_type": "code",
   "execution_count": 208,
   "metadata": {},
   "outputs": [],
   "source": [
    "title = object.get_proper_fund_names(path,[i for i in range(1,80)])\n",
    "pages = [i for i in range(8,20)]+ [21,22,23,24,25]+[i for i in range(27,33)]\n",
    "# title"
   ]
  },
  {
   "cell_type": "code",
   "execution_count": 229,
   "metadata": {},
   "outputs": [],
   "source": [
    "object = MahindraManu(PATHS_CONFIG,amc_name)"
   ]
  },
  {
   "cell_type": "code",
   "execution_count": null,
   "metadata": {},
   "outputs": [],
   "source": [
    "data = object.get_data(path,pages,title)\n",
    "extracted_text = object.get_generated_content(data)"
   ]
  },
  {
   "cell_type": "code",
   "execution_count": 230,
   "metadata": {},
   "outputs": [
    {
     "name": "stdout",
     "output_type": "stream",
     "text": [
      "\n",
      " JSON saved at C:\\Users\\rando\\OneDrive\\Documents\\mywork-repo\\data\\output\\dump_Mahindra_01_46.json\n"
     ]
    }
   ],
   "source": [
    "final_text = object.refine_extracted_data(extracted_text, flatten =True)\n",
    "df = object.merge_and_select_data(final_text,select = True, map = True)\n",
    "Helper.quick_json_dump(df, object.JSONPATH)"
   ]
  },
  {
   "cell_type": "code",
   "execution_count": null,
   "metadata": {},
   "outputs": [],
   "source": []
  },
  {
   "cell_type": "code",
   "execution_count": null,
   "metadata": {},
   "outputs": [],
   "source": [
    "\"\"\"MOTILAL OSWAL MAIN CODE FILE\"\"\" #Fund Manager Regex\n",
    "\n",
    "amc_name = 'Motilal Oswal Mutual Fund'\n",
    "logging.info(f\"User Ran Fund Data of {amc_name}\")\n",
    "\n",
    "object = MotilalOswal(PATHS_CONFIG,amc_name)\n",
    "path = mutual_fund[amc_name]\n",
    "\n",
    "path,df= object.check_and_highlight(path, 7)\n",
    "\n",
    "pages = [i for i in range(4,21)]\n",
    "title = df.title.to_dict()\n",
    "\n",
    "data = object.get_data_via_clip(path,pages,title)\n",
    "extracted_text = object.get_generated_content(data)\n",
    "final_text = object.refine_extracted_data(extracted_text, flatten= True)\n",
    "Helper.quick_json_dump(final_text, object.JSONPATH)"
   ]
  },
  {
   "cell_type": "code",
   "execution_count": null,
   "metadata": {},
   "outputs": [],
   "source": [
    "\"\"\"MIRAE MAIN FILE CODE\"\"\"\n",
    "\n",
    "amc_name = 'Mirae Asset Mutual Fund'\n",
    "logging.info(f\"User Ran Fund Data of {amc_name}\")\n",
    "\n",
    "object = MIRAE(PATHS_CONFIG,amc_name)\n",
    "path = mutual_fund[amc_name]\n",
    "\n",
    "path, df = object.check_and_highlight(path, 7)\n",
    "pages = [25, 26, 27, 28, 29, 30, 31, 32, 33, 34,35, 36, 37, 38, 39, 40, 41,42,43,44, 45, 46, 47, 48, 49, 50, 51, 52, 53, 54, 55, 56, 57, 58, 59, 60,61,62,63,64, 65, 66, 67, 68]\n",
    "title = object.get_proper_fund_names(path,pages)\n",
    "data = object.get_data(path,pages,title)\n",
    "extracted_text = object.get_generated_content(data)\n",
    "final_text = object.refine_extracted_data(extracted_text, flatten=True)\n",
    "Helper.quick_json_dump(final_text, object.JSONPATH)"
   ]
  },
  {
   "cell_type": "code",
   "execution_count": null,
   "metadata": {},
   "outputs": [],
   "source": [
    "\"\"\"NAVI MAIN FILE CODE\"\"\" #Issue: Left and right\n",
    "\n",
    "amc_name = 'Navi Mutual Fund'\n",
    "logging.info(f\"User Ran Fund Data of {amc_name}\")\n",
    "\n",
    "object = NAVI(PATHS_CONFIG,amc_name)\n",
    "path = mutual_fund[amc_name]\n",
    "\n",
    "path,df = object.check_and_highlight(path,5)\n",
    "title = df.title.to_dict()\n",
    "pages = [2, 4, 5, 6, 8, 10, 13, 16, 18, 20, 22]\n",
    "\n",
    "data = object.get_data(path,pages,title)\n",
    "extracted_text = object.get_generated_content(data)\n",
    "final_text = object.refine_extracted_data(extracted_text, flatten = True)\n",
    "Helper.quick_json_dump(final_text, object.JSONPATH)"
   ]
  },
  {
   "cell_type": "code",
   "execution_count": null,
   "metadata": {},
   "outputs": [],
   "source": [
    "\"NIPPON MAIN FILE CODE\"\n",
    "amc_name = 'Nippon India Mutual Fund'\n",
    "logging.info(f\"User Ran Fund Data of {amc_name}\")\n",
    "\n",
    "object = Nippon(PATHS_CONFIG,amc_name)\n",
    "path = mutual_fund[amc_name]\n",
    "path = r\"C:\\Users\\Kaustubh.keny\\OneDrive - Cogencis Information Services Ltd\\Documents\\Dec 24\\Nippon India Mutual Fund\\OCR.pdf\"\n",
    "\n",
    "path, df = object.check_and_highlight(path,7)"
   ]
  },
  {
   "cell_type": "code",
   "execution_count": null,
   "metadata": {},
   "outputs": [],
   "source": [
    "pages = [4, 5, 6, 7, 8, 9, 10, 11, 12, 13, 14, 15, 16, 17, 18, 19, 20, 21, 22, 23, 24, 25, 26, 27, 28, 29, 30, 31, 32, 33, 34, 35, 36, 37, 38, 39, 40, 41, 42, 43, 44, 45, 46, 47, 48, 53, 54, 55, 56, 57, 58, 59, 62, 63, 64, 65, 66, 67, 68, 69, 70, 71, 72, 73, 74, 75, 76, 77, 78, 79, 81, 82, 83, 85, 86, 87, 88, 89, 90, 91, 92]\n",
    "title = df.title.to_dict()\n",
    "data = object.get_data_via_clip(path,pages,title)\n",
    "extracted_text = object.get_generated_content(data)"
   ]
  },
  {
   "cell_type": "code",
   "execution_count": 77,
   "metadata": {},
   "outputs": [
    {
     "name": "stdout",
     "output_type": "stream",
     "text": [
      "\n",
      " JSON saved at C:\\Users\\Kaustubh.keny\\OneDrive - Cogencis Information Services Ltd\\Documents\\mywork-repo\\data\\output\\dump_nippon_11_35.json\n"
     ]
    }
   ],
   "source": [
    "object = Nippon(PATHS_CONFIG,amc_name)\n",
    "final_text = object.refine_extracted_data(extracted_text, flatten = True)\n",
    "Helper.quick_json_dump(final_text,object.JSONPATH)"
   ]
  },
  {
   "cell_type": "code",
   "execution_count": null,
   "metadata": {},
   "outputs": [],
   "source": [
    "\"\"\"NJMF MAIN CODE FILE\"\"\"\n",
    "\n",
    "amc_name = 'NJ Mutual Fund'\n",
    "logging.info(f\"User Ran Fund Data of {amc_name}\")\n",
    "\n",
    "object = NJMF(PATHS_CONFIG,amc_name)\n",
    "path = mutual_fund[amc_name]\n",
    "\n",
    "path,df = object.check_and_highlight(path, 7)\n",
    "pages = [1, 3, 5, 7, 9]\n",
    "title = df.title.to_dict()\n",
    "\n",
    "data = object.get_data_via_clip(path,pages,title)\n",
    "extracted_text = object.get_generated_content(data)\n",
    "\n",
    "final_text = object.refine_extracted_data(extracted_text)\n",
    "Helper.quick_json_dump(final_text, object.JSONPATH)"
   ]
  },
  {
   "cell_type": "code",
   "execution_count": null,
   "metadata": {},
   "outputs": [],
   "source": [
    "\"\"\"OlD BriDGE MAIN CODE\"\"\" #single data broo\n",
    "\n",
    "amc_name = \"Old Bridge Mutual Fund\"\n",
    "logging.info(f\"User Ran Fund Data of {amc_name}\")\n",
    "\n",
    "object = OldBridge(PATHS_CONFIG,amc_name)\n",
    "path = mutual_fund[amc_name]\n",
    "\n",
    "path,df = object.check_and_highlight(path, 7)\n",
    "title = {}\n",
    "for key, value in df.title.to_dict().items():\n",
    "    title[key] = f\"Old Bridge {value}\" if value.strip() else \"\"\n",
    "pages = [5]\n",
    "data = object.get_data_via_clip(path,pages,title)\n",
    "extracted_text = object.get_generated_content(data)\n",
    "final_text = object.refine_extracted_data(extracted_text)\n",
    "Helper.quick_json_dump(final_text, object.JSONPATH)"
   ]
  },
  {
   "cell_type": "code",
   "execution_count": null,
   "metadata": {},
   "outputs": [],
   "source": [
    "\"\"\"QUANTUM MAIN FILE CODE\"\"\" #ISSUES: Clean data further\n",
    "\n",
    "amc_name = \"Quantum Mutual Fund\"\n",
    "logging.info(f\"User Ran Fund Data of {amc_name}\")\n",
    "\n",
    "object = Quantum(PATHS_CONFIG,amc_name)\n",
    "path = mutual_fund[amc_name]\n",
    "\n",
    "path,df = object.check_and_highlight(path, 7)\n",
    "title = df.title.to_dict()\n",
    "pages = [7, 9, 11, 13, 15, 17, 19, 21, 23, 25, 27, 28, 29, 30]\n",
    "data = object.get_data(path, pages,title)\n",
    "extracted_text = object.get_generated_content(data)\n",
    "final_text = object.refine_extracted_data(extracted_text, flatten = True)\n",
    "df = object.merge_and_select_data(final_text,select = True, map = True)\n",
    "Helper.quick_json_dump(final_text, object.JSONPATH)"
   ]
  },
  {
   "cell_type": "code",
   "execution_count": null,
   "metadata": {},
   "outputs": [],
   "source": [
    "\"\"\"SAMCO PDF FILE MAIN CODE\"\"\" \n",
    "\n",
    "amc_name = 'Samco Mutual Fund'\n",
    "logging.info(f\"User Ran Fund Data of {amc_name}\")\n",
    "\n",
    "object = Samco(PATHS_CONFIG,amc_name)\n",
    "path = mutual_fund[amc_name]\n",
    "\n",
    "path, df = object.check_and_highlight(path, 7)"
   ]
  },
  {
   "cell_type": "code",
   "execution_count": 12,
   "metadata": {},
   "outputs": [],
   "source": [
    "title = df.title.to_dict()\n",
    "pages =  [3, 5, 7, 9, 11, 13, 15, 17, 18]"
   ]
  },
  {
   "cell_type": "code",
   "execution_count": 27,
   "metadata": {},
   "outputs": [],
   "source": [
    "object = Samco(PATHS_CONFIG,amc_name)"
   ]
  },
  {
   "cell_type": "code",
   "execution_count": null,
   "metadata": {},
   "outputs": [],
   "source": [
    "data = object.get_data(path,pages,title)\n",
    "extracted_text = object.get_generated_content(data)"
   ]
  },
  {
   "cell_type": "code",
   "execution_count": null,
   "metadata": {},
   "outputs": [],
   "source": [
    "final_text = object.refine_extracted_data(extracted_text, flatten=True)\n",
    "df = object.merge_and_select_data(final_text, select = True,map = True)\n",
    "Helper.quick_json_dump(df,object.JSONPATH)"
   ]
  },
  {
   "cell_type": "code",
   "execution_count": null,
   "metadata": {},
   "outputs": [],
   "source": [
    "\"\"\"SBI PDF FILE MAIN CODE\"\"\" \n",
    "\n",
    "amc_name = 'SBI Mutual Fund'\n",
    "logging.info(f\"User Ran Fund Data of {amc_name}\")\n",
    "\n",
    "object = SBI(PATHS_CONFIG,amc_name)\n",
    "path = mutual_fund[amc_name]\n",
    "\n",
    "path, df = object.check_and_highlight(path, 7)\n",
    "title = df.title.to_dict()\n",
    "pages =  [3, 5, 7, 9, 11, 13, 15, 17, 18]"
   ]
  },
  {
   "cell_type": "code",
   "execution_count": null,
   "metadata": {},
   "outputs": [],
   "source": [
    "\"\"\"SUNDARAM MAIN FILE CODE\"\"\"\n",
    "\n",
    "amc_name = 'Sundaram Mutual Fund'\n",
    "logging.info(f\"User Ran Fund Data of {amc_name}\")\n",
    "\n",
    "object = Sundaram(PATHS_CONFIG,amc_name)\n",
    "path = mutual_fund[amc_name]\n",
    "\n",
    "path,df = object.check_and_highlight(path, 7)\n",
    "\n",
    "title = df.title.to_dict()\n",
    "pages = [7, 8, 9, 10, 11, 12, 13, 14, 15, 16, 17, 18, 19, 20, 21, 22, 23, 24, 25, 26, 27, 28, 29, 30, 31, 32, 33, 34, 35, 36, 37, 38, 39, 40]\n",
    "\n",
    "data = object.get_data_via_line(path,pages,\"left\",title)\n",
    "extracted_text = object.get_generated_content(data)\n",
    "final_text = object.refine_extracted_data(extracted_text,flatten = True)\n",
    "final_text = Helper.drop_keys_by_regex(final_text,['^performance','market_capital','since_inception','^last','period'])\n",
    "secondary_data = object.refine_secondary_data(final_text)\n",
    "Helper.quick_json_dump(secondary_data,object.JSONPATH)"
   ]
  },
  {
   "cell_type": "code",
   "execution_count": 3,
   "metadata": {},
   "outputs": [
    {
     "name": "stdout",
     "output_type": "stream",
     "text": [
      "tata large cap fund\n",
      "tata flexi cap fund\n",
      "tata large & mid cap fund\n",
      "tata equity p/e fund\n",
      "tata mid cap growth fund\n",
      "tata elss tax saver fund\n",
      "tata small cap fund\n",
      "tata focused equity fund\n",
      "tata nifty 50 index fund\n",
      "tata nifty auto index fund\n",
      "tata nifty india tourism index fund\n",
      "tata nifty financial services index fund\n",
      "tata nifty midsmall healthcare index fund\n",
      "tata nifty realty index fund\n",
      "tata nifty500 multicap india manufacturing 50:30:20 index fund\n",
      "tata nifty500 multicap infrastructure 50:30:20 index fund\n",
      "tata bse sensex index fund\n",
      "tata bse select business groups index fund\n",
      "tata nifty 50 exchange traded fund\n",
      "tata nifty private bank exchange traded fund\n",
      "tata dividend yield fund\n",
      "tata nifty india digital etf fund of fund\n",
      "tata nifty india digital exchange traded fund\n",
      "tata silver exchange traded fund\n",
      "tata silver etf fund of fund\n",
      "tata gold exchange traded fund\n",
      "tata gold etf fund of fund\n",
      "tata nifty midcap 150 momentum 50 index fund\n",
      "tata nifty200 alpha 30 index fund\n",
      "tata nifty capital markets index fund\n",
      "tata multicap fund\n",
      "tata business cycle fund\n",
      "tata ethical fund\n",
      "tata banking & financial services fund\n",
      "tata digital india fund\n",
      "tata india consumer fund\n",
      "tata india pharma & healthcare fund\n",
      "tata resources & energy fund\n",
      "tata infrastructure fund\n",
      "tata quant fund\n",
      "tata housing opportunities fund\n",
      "tata india innovation fund\n",
      "tata hybrid equity fund\n",
      "tata equity savings fund\n",
      "tata balanced advantage fund\n",
      "tata balanced advantage fund\n",
      "tata arbitrage fund\n",
      "tata arbitrage fund\n",
      "tata multi asset opportunities fund\n",
      "tata multi asset opportunities fund\n",
      "tata short term bond fund\n",
      "tata money market fund\n",
      "tata ultra short term fund\n",
      "tata corporate bond fund\n",
      "tata floating rate fund\n",
      "tata nifty sdl plus aaa psu bond dec 2027 60:40 index fund\n",
      "tata crisil-ibx gilt index april 2026 index fund\n",
      "tata nifty g-sec dec 2026 index fund\n",
      "tata nifty g-sec dec 2029 index fund\n",
      "tata fixed maturity plan series 61 scheme d (91 days)\n",
      "tata liquid fund\n",
      "tata overnight fund\n",
      "tata gilt securities fund\n",
      "tata retirement savings fund - progressive plan\n",
      "tata retirement savings fund - moderate plan\n",
      "tata retirement savings fund - conservative plan\n",
      "tata young citizens’ fund\n",
      "\n",
      "Doc Saved At: C:\\Users\\Kaustubh.keny\\OneDrive - Cogencis Information Services Ltd\\Documents\\mywork-repo\\data\\output\\pdf_report.xlsx\n",
      "\n",
      "Pages to Extract: [16, 17, 18, 19, 20, 21, 22, 23, 24, 25, 26, 27, 28, 29, 30, 31, 32, 33, 34, 35, 36, 37, 38, 39, 40, 41, 42, 43, 44, 45, 46, 47, 48, 49, 50, 51, 52, 53, 54, 55, 56, 57, 58, 59, 60, 62, 64, 66, 68, 69, 70, 71, 72, 73, 74, 75, 76, 77, 78, 79, 80, 81, 82, 83]\n"
     ]
    }
   ],
   "source": [
    "\"\"\"TATA FILE MAIN CODE \"\"\"\n",
    "\n",
    "amc_name = \"Tata Mutual Fund\"\n",
    "logging.info(f\"User Ran Fund Data of {amc_name}\")\n",
    "\n",
    "object = Tata(PATHS_CONFIG,amc_name)\n",
    "path = mutual_fund[amc_name]\n",
    "\n",
    "path, df = object.check_and_highlight(path, 10)"
   ]
  },
  {
   "cell_type": "code",
   "execution_count": 4,
   "metadata": {},
   "outputs": [],
   "source": [
    "title = df.title.to_dict()\n",
    "pages = [16, 17, 18, 19, 20, 21, 22, 23, 24, 26, 28, 32, 33, 34, 35, 36, 37, 38, 39, 40, 41, 42, 43, 44, 46, 47, 48, 49, 50, 51, 52, 53, 54, 55, 58, 59, 60, 62, 64, 66, 68, 69, 70, 71, 72, 73, 74, 75, 76, 77, 78, 79, 80, 81, 82, 83]"
   ]
  },
  {
   "cell_type": "code",
   "execution_count": null,
   "metadata": {},
   "outputs": [],
   "source": [
    "data = object.get_data(path,pages,title)\n",
    "extracted_text = object.get_generated_content(data)\n"
   ]
  },
  {
   "cell_type": "code",
   "execution_count": 17,
   "metadata": {},
   "outputs": [],
   "source": [
    "object = Tata(PATHS_CONFIG,amc_name)"
   ]
  },
  {
   "cell_type": "code",
   "execution_count": 18,
   "metadata": {},
   "outputs": [],
   "source": [
    "final_text = object.refine_extracted_data(extracted_text, flatten = True)"
   ]
  },
  {
   "cell_type": "code",
   "execution_count": null,
   "metadata": {},
   "outputs": [],
   "source": [
    "df = object.merge_and_select_data(final_text,select=True, map = True)\n",
    "Helper.quick_json_dump(df, object.JSONPATH)"
   ]
  },
  {
   "cell_type": "code",
   "execution_count": null,
   "metadata": {},
   "outputs": [],
   "source": [
    "\"\"\"TAURUS MAIN FILE CODE\"\"\" #Issues: Nothing Yet\n",
    "\n",
    "amc_name = 'Taurus Mutual Fund'\n",
    "logging.info(f\"User Ran Fund Data of {amc_name}\")\n",
    "\n",
    "object = Taurus(PATHS_CONFIG,amc_name)\n",
    "path = mutual_fund[amc_name]\n",
    "\n",
    "path, df= object.check_and_highlight(path, 7)\n",
    "title = df.title.to_dict()\n",
    "pages = [13, 14, 15, 16, 17, 19, 20]\n",
    "\n",
    "data = object.get_data_via_line(path,pages,'left',title)\n",
    "extracted_text = object.get_generated_content(data)\n",
    "final_text = object.refine_extracted_data(extracted_text)\n",
    "Helper.quick_json_dump(final_text,object.JSONPATH)"
   ]
  },
  {
   "cell_type": "code",
   "execution_count": null,
   "metadata": {},
   "outputs": [],
   "source": [
    "\"\"\"TRUST MAIN FILE CODE\"\"\" #Issue: Clean data more, nested dict unload Invest Obj in right #Names coming as headers fund managers\n",
    "\n",
    "amc_name = 'Trust Mutual Fund'\n",
    "logging.info(f\"User Ran Fund Data of {amc_name}\")\n",
    "\n",
    "object = Trust(PATHS_CONFIG,amc_name)\n",
    "path = mutual_fund[amc_name]\n",
    "\n",
    "path, df= object.check_and_highlight(path, 7)\n",
    "\n",
    "title = df.title.to_dict()\n",
    "pages = [6, 7, 8, 9, 10, 11, 12, 13]\n",
    "\n",
    "data = object.get_data_via_clip(path,pages,title)\n",
    "extracted_text = object.get_generated_content(data)\n",
    "final_text = object.refine_extracted_data(extracted_text)\n",
    "Helper.quick_json_dump(final_text,object.JSONPATH)"
   ]
  },
  {
   "cell_type": "code",
   "execution_count": null,
   "metadata": {},
   "outputs": [],
   "source": [
    "\"\"\"UTI MAIN FILE CODE\"\"\"\n",
    "\n",
    "amc_name = 'UTI Mutual Fund'\n",
    "logging.info(f\"User Ran Fund Data of {amc_name}\")\n",
    "\n",
    "object = UTI(PATHS_CONFIG,amc_name)\n",
    "path = mutual_fund[amc_name]\n",
    "\n",
    "path,df = object.check_and_highlight(path, 7)\n",
    "\n",
    "title = df.title.to_dict()\n",
    "pages = [10, 11, 12, 13, 14, 15, 16, 17, 18, 19, 20, 21, 22, 23, 24, 25, 26, 27, 28, 29, 30, 31, 32, 33, 34, 35, 36, 37, 39, 41, 43, 45, 46, 48, 50, 52, 54, 56, 57, 58, 59, 60, 61, 62, 64, 65, 66, 67, 68, 69, 70, 72, 73, 74, 75, 76, 77]\n",
    "\n",
    "data = object.get_data_via_line(path,pages,'left', title)\n",
    "extracted_text = object.get_generated_content(data)\n",
    "final_text = object.refine_extracted_data(extracted_text)\n",
    "# final_text = Helper.drop_selected_dict_values(final_text,['high/low_nav_in_the_month','plans/options','porolio_details','market_capital'])\n",
    "Helper.quick_json_dump(final_text, object.JSONPATH)"
   ]
  },
  {
   "cell_type": "code",
   "execution_count": null,
   "metadata": {},
   "outputs": [],
   "source": [
    "\"\"\"UNION MUTUAL FUND\"\"\" #Issues: Major Issue\n",
    "\n",
    "amc_name = 'Union Mutual Fund'\n",
    "logging.info(f\"User Ran Fund Data of {amc_name}\")\n",
    "\n",
    "object = Union(PATHS_CONFIG,amc_name)\n",
    "path = mutual_fund[amc_name]\n",
    "\n",
    "path,df = object.check_and_highlight(path, 7)\n",
    "pages = [4, 5, 6, 7, 8, 9, 10, 11, 12, 13, 14, 15, 16, 17, 18, 19, 20, 21, 22, 23, 24, 25, 26, 27, 28, 29,]\n",
    "title = df.title.apply(lambda x: \"Union \"+ x if x !=\"\" else x).to_dict()\n",
    "\n",
    "data = object.get_data_via_clip(path,pages,title)\n",
    "extracted_text = object.get_generated_content(data)\n",
    "final_text = object.refine_extracted_data(extracted_text)\n",
    "Helper.quick_json_dump(final_text, object.JSONPATH)"
   ]
  },
  {
   "cell_type": "code",
   "execution_count": null,
   "metadata": {},
   "outputs": [],
   "source": [
    "\"\"\"WHITEOAK MUTUAL FUND\"\"\"\n",
    "\n",
    "amc_name = 'WhiteOak Mutual Fund'\n",
    "logging.info(f\"User Ran Fund Data of {amc_name}\")\n",
    "\n",
    "object = WhiteOak(PATHS_CONFIG,amc_name)\n",
    "path = mutual_fund[amc_name]\n",
    "\n",
    "path, df = object.check_and_highlight(path, 9)\n",
    "\n",
    "title = df.title.to_dict()\n",
    "pages = [7, 9, 11, 13, 15, 17, 19, 20, 21, 23, 25, 26, 28, 30, 32, 34, 35]\n",
    "\n",
    "# data = object.get_data_via_clip(path,pages,title)\n",
    "# extracted_text = object.get_generated_content(data)\n",
    "# final_text = object.refine_extracted_data(extracted_text)\n",
    "# final_text = Helper.drop_empty_dict_values(final_text)\n",
    "# Helper.quick_json_dump(final_text,object.JSONPATH)"
   ]
  },
  {
   "cell_type": "code",
   "execution_count": null,
   "metadata": {},
   "outputs": [],
   "source": [
    "\"\"\"ZERODHA MAIN CODE\"\"\" \n",
    "\n",
    "amc_name = 'Zerodha Mutual Fund'\n",
    "logging.info(f\"User Ran Fund Data of {amc_name}\")\n",
    "\n",
    "object = Zerodha(PATHS_CONFIG,amc_name)\n",
    "path = mutual_fund[amc_name]\n",
    "\n",
    "path,df= object.check_and_highlight(path,7)"
   ]
  },
  {
   "cell_type": "code",
   "execution_count": null,
   "metadata": {},
   "outputs": [],
   "source": [
    "title = df.title.to_dict()\n",
    "pages = [3, 5, 7, 9, 11, 13, 15]\n",
    "data = object.get_data(path,pages,title)\n",
    "extracted_text = object.get_generated_content(data)\n",
    "final_text = object.refine_extracted_data(extracted_text)\n",
    "Helper.quick_json_dump(final_text, object.JSONPATH)"
   ]
  },
  {
   "cell_type": "markdown",
   "metadata": {},
   "source": [
    "FILES TO BE CLEANED ARE BELOW , DATA ABLE TO EXTRACTED "
   ]
  },
  {
   "cell_type": "code",
   "execution_count": null,
   "metadata": {},
   "outputs": [],
   "source": [
    "\"\"\"QUANT MAIN CODE FILE\"\"\"\n",
    "\n",
    "object = QuantMF(PATHS_CONFIG)\n",
    "path = mutual_fund['Quant Mutual Fund']\n",
    "\n",
    "path,df = object.check_and_highlight(path, 7)\n",
    "title = df.title.to_dict()\n",
    "pages = [12, 14, 16, 18, 20, 22, 24, 26, 28, 30, 32, 34, 36, 38, 40, 42, 44, 46, 48, 50, 52, 54, 56, 58, 61, 63, 65]\n",
    "\n",
    "\"\"\"\"HSBC MAIN FILE CODE\"\"\" #Issue: Some pages have 2 or more fund data on same page\n",
    "#some data is present on right side as well so define two lines\n",
    "#objective is to be exracted seperately\n",
    "\n",
    "object = HSBC(PATHS_CONFIG)\n",
    "path = mutual_fund['HSBC Mutual Fund']\n",
    "\n",
    "path, df = object.check_and_highlight(path, 7)\n",
    "title = df.title.to_dict()\n",
    "pages = [10, 11, 12, 13, 14, 15, 16, 17, 18, 19, 20, 21, 22, 23, 24, 25, 26, 27, 28, 29, 30, 32, 34, 35, 36, 37, 38, 39, 40, 41, 42, 43, 44, 45, 46, 47, 48, 49]\n",
    "\n",
    "data = object.get_data_via_clip(path,pages,title)\n",
    "extracted_text = object.get_generated_content(data)\n",
    "\n",
    "\"\"\"PGIM MUTUAL FUND\"\"\"\n",
    "\n",
    "object = PGIM(PATHS_CONFIG)\n",
    "path = mutual_fund['PGIM India Mutual Fund']\n",
    "\n",
    "path,df = object.check_and_highlight(path, 7)\n",
    "pages = [9, 10, 11, 12, 13, 14, 15, 16, 17, 18, 19, 20, 21, 22, 23, 24, 27, 28, 29, 30, 31, 32, 33, 34]\n",
    "title = df.title.apply(lambda x: \"PGIM \"+x if not x == \"\" else x).to_dict()\n",
    "\n",
    "data = object.get_data_via_clip(path,pages,title)\n",
    "extracted_text = object.get_generated_content(data)"
   ]
  },
  {
   "cell_type": "code",
   "execution_count": null,
   "metadata": {},
   "outputs": [],
   "source": [
    "folder_path = r'C:\\Users\\Kaustubh.keny\\OneDrive - Cogencis Information Services Ltd\\Documents\\mywork-repo\\data\\ex'\n",
    "all_keys = set()\n",
    "for file in os.listdir(folder_path):\n",
    "     if file.endswith(\".json\"):\n",
    "        path = os.path.join(folder_path, file)\n",
    "        with open(path, \"r\", encoding=\"utf-8\") as file:\n",
    "            data = json.load(file)\n",
    "            \n",
    "            for fund,content in data.items():\n",
    "                for key in content.keys():\n",
    "                    all_keys.add(key)\n",
    "\n",
    "all_keys = list(all_keys)"
   ]
  },
  {
   "cell_type": "code",
   "execution_count": null,
   "metadata": {},
   "outputs": [],
   "source": [
    "import os\n",
    "import json\n",
    "\n",
    "folder_path = r'C:\\Users\\rando\\OneDrive\\Documents\\mywork-repo\\data\\dsp'\n",
    "def extract_keys(data, key_set):\n",
    "    \"\"\"Recursively extract keys from JSON data, ignoring the first level.\"\"\"\n",
    "    if isinstance(data, dict):\n",
    "        for key, value in data.items():\n",
    "            key_set.add(key)\n",
    "            extract_keys(value, key_set)\n",
    "    elif isinstance(data, list):\n",
    "        for item in data:\n",
    "            extract_keys(item, key_set)\n",
    "\n",
    "file_keys = {} \n",
    "\n",
    "for file in os.listdir(folder_path):\n",
    "    if file.endswith(\".json\"):\n",
    "        path = os.path.join(folder_path, file)\n",
    "        try:\n",
    "            with open(path, \"r\", encoding=\"utf-8\") as f:\n",
    "                data = json.load(f)\n",
    "                \n",
    "                unique_keys = set() \n",
    "                for fund_data in data.values():  #first level is fund head\n",
    "                    if isinstance(fund_data, dict):  # Ensure it's a dictionary\n",
    "                        extract_keys(fund_data, unique_keys)\n",
    "                \n",
    "                \n",
    "                match = re.findall(r'^dump_([A-Za-z0-9]+).*\\.json',file,re.IGNORECASE)[0].upper()\n",
    "                file_keys[match] = list(unique_keys)\n",
    "        \n",
    "        except Exception as e:\n",
    "            print(f\"Error reading {file}: {e}\")\n",
    "\n",
    "import pandas as pd\n",
    "df = pd.DataFrame(dict([(k, pd.Series(sorted(v))) for k, v in file_keys.items()]))\n",
    "\n",
    "output_path =\"json_keys.xlsx\"\n",
    "df.to_excel(output_path, index=False)"
   ]
  },
  {
   "cell_type": "code",
   "execution_count": 183,
   "metadata": {},
   "outputs": [],
   "source": [
    "manage = FundHouseManager()\n",
    "\n",
    "for fund in  manage.list_fund_houses():\n",
    "    manage.update_fund_house(fund,\"CLONEKEYS\",{})"
   ]
  },
  {
   "cell_type": "code",
   "execution_count": null,
   "metadata": {},
   "outputs": [],
   "source": [
    "# CREATE TABLE `mf_json_common_details` (\n",
    "#   `id` int(11) NOT NULL AUTO_INCREMENT,\n",
    "#   `document_detail_id` int(11) DEFAULT NULL,\n",
    "#   `amc_id` int(11) DEFAULT NULL,\n",
    "#   `amc_name` varchar(500) DEFAULT NULL,\n",
    "#   `MainScheme_ID` int(11) DEFAULT NULL,\n",
    "#   `main_scheme_name` varchar(500) DEFAULT NULL,\n",
    "#   `fund_id` int(11) DEFAULT NULL,\n",
    "#   `fund_name` varchar(100) DEFAULT NULL,\n",
    "#   `scheme_objective` varchar(5000) DEFAULT NULL,\n",
    "#   `suitable_for_investors` varchar(10000) DEFAULT NULL,\n",
    "#   `benchmark_index_id` int(11) DEFAULT NULL,\n",
    "#   `benchmark_index` varchar(1000) DEFAULT NULL,\n",
    "#   `min_addl_amt` varchar(50) DEFAULT NULL,\n",
    "#   `min_addl_amt_multiple` varchar(50) DEFAULT NULL,\n",
    "#   `min_amt` varchar(1000) DEFAULT NULL,\n",
    "#   `min_amt_multiple` varchar(50) DEFAULT NULL,\n",
    "#   `monthly_aaum_date` varchar(50) DEFAULT NULL,\n",
    "#   `monthly_aaum_value` varchar(50) DEFAULT NULL,\n",
    "#   `scheme_launch_date` varchar(50) DEFAULT NULL,\n",
    "#   `ytm` varchar(25) DEFAULT NULL,\n",
    "#   `port_turnover_ratio` varchar(25) DEFAULT NULL,\n",
    "#   `mod_duration` varchar(25) DEFAULT NULL,\n",
    "#   `avg_maturity` varchar(25) DEFAULT NULL,\n",
    "#   `macaulay` varchar(25) DEFAULT NULL,\n",
    "#   `sharpe` varchar(25) DEFAULT NULL,\n",
    "#   `std_dev` varchar(25) DEFAULT NULL,\n",
    "#   `beta` varchar(25) DEFAULT NULL,\n",
    "#   `tracking_error` varchar(25) DEFAULT NULL,\n",
    "#   `r_squared_ratio` varchar(45) DEFAULT NULL,\n",
    "#   `average_div_yield` varchar(45) DEFAULT NULL,\n",
    "#   `average_pb` varchar(45) DEFAULT NULL,\n",
    "#   `average_pe` varchar(45) DEFAULT NULL,\n",
    "#   `alpha` varchar(45) DEFAULT NULL,\n",
    "#   `treynor_ratio` varchar(45) DEFAULT NULL,\n",
    "#   `entered_user` varchar(45) DEFAULT NULL,\n",
    "#   `entered_date` timestamp NULL DEFAULT CURRENT_TIMESTAMP,\n",
    "#   `modified_user` varchar(45) DEFAULT NULL,\n",
    "#   `modified_date` timestamp NULL DEFAULT NULL ON UPDATE CURRENT_TIMESTAMP,\n",
    "#   `is_migrated` tinyint(4) DEFAULT NULL,\n",
    "#   `is_valid` tinyint(4) DEFAULT '1',\n",
    "#   `close_date` varchar(45) DEFAULT NULL,\n",
    "#   `open_date` varchar(45) DEFAULT NULL,\n",
    "#   `face_value` varchar(45) DEFAULT NULL,\n",
    "#   `type_of_scheme` varchar(500) DEFAULT NULL,\n",
    "#   `Riskometer` varchar(50) DEFAULT NULL,\n",
    "#   `Riskometer_benchmark` varchar(50) DEFAULT NULL,\n",
    "#   `SchemeCategory_level2_ID` int(11) DEFAULT NULL,\n",
    "#   `information_ratio` varchar(45) DEFAULT NULL,\n",
    "#   `sortino_ratio` varchar(45) DEFAULT NULL,\n",
    "#   `arithmetic_mean_ratio` varchar(45) DEFAULT NULL,\n",
    "#   `correlation_ratio` varchar(45) DEFAULT NULL,\n",
    "#   `roe_ratio` varchar(45) DEFAULT NULL,\n",
    "#   `downside_deviation` varchar(45) DEFAULT NULL,\n",
    "#   `upside_deviation` varchar(45) DEFAULT NULL,\n",
    "#   `price_per_unit` varchar(45) DEFAULT NULL,\n",
    "#   `creation_unit_size` varchar(45) DEFAULT NULL,\n",
    "#   `scheme_code` varchar(45) DEFAULT NULL,\n",
    "#   `sai_weblink` varchar(100) DEFAULT NULL,\n",
    "#   `offer_price` varchar(45) DEFAULT NULL,\n",
    "#   `min_target_amt` varchar(45) DEFAULT NULL,\n",
    "#   `nfo_min_sub_amt` decimal(10,0) DEFAULT NULL,\n",
    "#   PRIMARY KEY (`id`),\n",
    "#   UNIQUE KEY `uc_mf_json_common_details` (`id`,`amc_name`,`main_scheme_name`,`fund_name`,`is_migrated`),\n",
    "#   KEY `fk_mf_json_common_details_document_detail_id_idx` (`document_detail_id`),\n",
    "#   KEY `fk_mf_json_common_details_amc_id_idx` (`amc_id`),\n",
    "#   KEY `fk_mf_json_common_details_main_scheme_id_idx` (`MainScheme_ID`),\n",
    "#   KEY `fk_mf_json_common_details_fund_id_idx` (`fund_id`),\n",
    "#   CONSTRAINT `fk_mf_json_common_details_amc_id` FOREIGN KEY (`amc_id`) REFERENCES `mf_master_amc` (`AMC_ID`) ON DELETE NO ACTION ON UPDATE NO ACTION,\n",
    "#   CONSTRAINT `fk_mf_json_common_details_document_detail_id` FOREIGN KEY (`document_detail_id`) REFERENCES `mf_document_details` (`id`) ON DELETE NO ACTION ON UPDATE NO ACTION,\n",
    "#   CONSTRAINT `fk_mf_json_common_details_fund_id` FOREIGN KEY (`fund_id`) REFERENCES `mf_master_fund` (`Fund_ID`) ON DELETE NO ACTION ON UPDATE NO ACTION,\n",
    "#   CONSTRAINT `fk_mf_json_common_details_main_scheme_id` FOREIGN KEY (`MainScheme_ID`) REFERENCES `mf_master_mainscheme` (`MainScheme_ID`) ON DELETE NO ACTION ON UPDATE NO ACTION\n",
    "# ) ENGINE=InnoDB AUTO_INCREMENT=53143 DEFAULT CHARSET=latin1;"
   ]
  }
 ],
 "metadata": {
  "kernelspec": {
   "display_name": "envPDF",
   "language": "python",
   "name": "python3"
  },
  "language_info": {
   "codemirror_mode": {
    "name": "ipython",
    "version": 3
   },
   "file_extension": ".py",
   "mimetype": "text/x-python",
   "name": "python",
   "nbconvert_exporter": "python",
   "pygments_lexer": "ipython3",
   "version": "3.13.1"
  }
 },
 "nbformat": 4,
 "nbformat_minor": 2
}
